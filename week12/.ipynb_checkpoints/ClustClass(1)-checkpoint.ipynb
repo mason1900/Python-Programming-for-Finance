{
 "cells": [
  {
   "cell_type": "markdown",
   "metadata": {},
   "source": [
    "# CPS600 - Python Programming for Finance \n",
    "###  \n",
    "<img src=\"https://www.syracuse.edu/wp-content/themes/g6-carbon/img/syracuse-university-seal.svg?ver=6.3.9\" style=\"width: 200px;\"/>\n",
    "\n",
    "## Clustering and Classification\n",
    "\n",
    "###  November 13, 2018"
   ]
  },
  {
   "cell_type": "markdown",
   "metadata": {},
   "source": [
    "Let's illustrate some of the ideas of classification that we saw in the slides last week."
   ]
  },
  {
   "cell_type": "markdown",
   "metadata": {},
   "source": [
    "*Logistic Regression*\n",
    "\n",
    "We wish to maximize the *likelihood*. But how do we model it?"
   ]
  },
  {
   "cell_type": "markdown",
   "metadata": {},
   "source": [
    "$ P(C_k \\mid {\\bf X})$"
   ]
  },
  {
   "cell_type": "markdown",
   "metadata": {},
   "source": [
    "Remeber the *sigmoid* function?"
   ]
  },
  {
   "cell_type": "code",
   "execution_count": 1,
   "metadata": {},
   "outputs": [
    {
     "data": {
      "text/html": [
       "\n",
       "    <div class=\"bk-root\">\n",
       "        <a href=\"https://bokeh.pydata.org\" target=\"_blank\" class=\"bk-logo bk-logo-small bk-logo-notebook\"></a>\n",
       "        <span id=\"5f1f14b9-9850-4cee-b08e-463179814f57\">Loading BokehJS ...</span>\n",
       "    </div>"
      ]
     },
     "metadata": {},
     "output_type": "display_data"
    },
    {
     "data": {
      "application/javascript": [
       "\n",
       "(function(root) {\n",
       "  function now() {\n",
       "    return new Date();\n",
       "  }\n",
       "\n",
       "  var force = true;\n",
       "\n",
       "  if (typeof (root._bokeh_onload_callbacks) === \"undefined\" || force === true) {\n",
       "    root._bokeh_onload_callbacks = [];\n",
       "    root._bokeh_is_loading = undefined;\n",
       "  }\n",
       "\n",
       "  var JS_MIME_TYPE = 'application/javascript';\n",
       "  var HTML_MIME_TYPE = 'text/html';\n",
       "  var EXEC_MIME_TYPE = 'application/vnd.bokehjs_exec.v0+json';\n",
       "  var CLASS_NAME = 'output_bokeh rendered_html';\n",
       "\n",
       "  /**\n",
       "   * Render data to the DOM node\n",
       "   */\n",
       "  function render(props, node) {\n",
       "    var script = document.createElement(\"script\");\n",
       "    node.appendChild(script);\n",
       "  }\n",
       "\n",
       "  /**\n",
       "   * Handle when an output is cleared or removed\n",
       "   */\n",
       "  function handleClearOutput(event, handle) {\n",
       "    var cell = handle.cell;\n",
       "\n",
       "    var id = cell.output_area._bokeh_element_id;\n",
       "    var server_id = cell.output_area._bokeh_server_id;\n",
       "    // Clean up Bokeh references\n",
       "    if (id != null && id in Bokeh.index) {\n",
       "      Bokeh.index[id].model.document.clear();\n",
       "      delete Bokeh.index[id];\n",
       "    }\n",
       "\n",
       "    if (server_id !== undefined) {\n",
       "      // Clean up Bokeh references\n",
       "      var cmd = \"from bokeh.io.state import curstate; print(curstate().uuid_to_server['\" + server_id + \"'].get_sessions()[0].document.roots[0]._id)\";\n",
       "      cell.notebook.kernel.execute(cmd, {\n",
       "        iopub: {\n",
       "          output: function(msg) {\n",
       "            var id = msg.content.text.trim();\n",
       "            if (id in Bokeh.index) {\n",
       "              Bokeh.index[id].model.document.clear();\n",
       "              delete Bokeh.index[id];\n",
       "            }\n",
       "          }\n",
       "        }\n",
       "      });\n",
       "      // Destroy server and session\n",
       "      var cmd = \"import bokeh.io.notebook as ion; ion.destroy_server('\" + server_id + \"')\";\n",
       "      cell.notebook.kernel.execute(cmd);\n",
       "    }\n",
       "  }\n",
       "\n",
       "  /**\n",
       "   * Handle when a new output is added\n",
       "   */\n",
       "  function handleAddOutput(event, handle) {\n",
       "    var output_area = handle.output_area;\n",
       "    var output = handle.output;\n",
       "\n",
       "    // limit handleAddOutput to display_data with EXEC_MIME_TYPE content only\n",
       "    if ((output.output_type != \"display_data\") || (!output.data.hasOwnProperty(EXEC_MIME_TYPE))) {\n",
       "      return\n",
       "    }\n",
       "\n",
       "    var toinsert = output_area.element.find(\".\" + CLASS_NAME.split(' ')[0]);\n",
       "\n",
       "    if (output.metadata[EXEC_MIME_TYPE][\"id\"] !== undefined) {\n",
       "      toinsert[toinsert.length - 1].firstChild.textContent = output.data[JS_MIME_TYPE];\n",
       "      // store reference to embed id on output_area\n",
       "      output_area._bokeh_element_id = output.metadata[EXEC_MIME_TYPE][\"id\"];\n",
       "    }\n",
       "    if (output.metadata[EXEC_MIME_TYPE][\"server_id\"] !== undefined) {\n",
       "      var bk_div = document.createElement(\"div\");\n",
       "      bk_div.innerHTML = output.data[HTML_MIME_TYPE];\n",
       "      var script_attrs = bk_div.children[0].attributes;\n",
       "      for (var i = 0; i < script_attrs.length; i++) {\n",
       "        toinsert[toinsert.length - 1].firstChild.setAttribute(script_attrs[i].name, script_attrs[i].value);\n",
       "      }\n",
       "      // store reference to server id on output_area\n",
       "      output_area._bokeh_server_id = output.metadata[EXEC_MIME_TYPE][\"server_id\"];\n",
       "    }\n",
       "  }\n",
       "\n",
       "  function register_renderer(events, OutputArea) {\n",
       "\n",
       "    function append_mime(data, metadata, element) {\n",
       "      // create a DOM node to render to\n",
       "      var toinsert = this.create_output_subarea(\n",
       "        metadata,\n",
       "        CLASS_NAME,\n",
       "        EXEC_MIME_TYPE\n",
       "      );\n",
       "      this.keyboard_manager.register_events(toinsert);\n",
       "      // Render to node\n",
       "      var props = {data: data, metadata: metadata[EXEC_MIME_TYPE]};\n",
       "      render(props, toinsert[toinsert.length - 1]);\n",
       "      element.append(toinsert);\n",
       "      return toinsert\n",
       "    }\n",
       "\n",
       "    /* Handle when an output is cleared or removed */\n",
       "    events.on('clear_output.CodeCell', handleClearOutput);\n",
       "    events.on('delete.Cell', handleClearOutput);\n",
       "\n",
       "    /* Handle when a new output is added */\n",
       "    events.on('output_added.OutputArea', handleAddOutput);\n",
       "\n",
       "    /**\n",
       "     * Register the mime type and append_mime function with output_area\n",
       "     */\n",
       "    OutputArea.prototype.register_mime_type(EXEC_MIME_TYPE, append_mime, {\n",
       "      /* Is output safe? */\n",
       "      safe: true,\n",
       "      /* Index of renderer in `output_area.display_order` */\n",
       "      index: 0\n",
       "    });\n",
       "  }\n",
       "\n",
       "  // register the mime type if in Jupyter Notebook environment and previously unregistered\n",
       "  if (root.Jupyter !== undefined) {\n",
       "    var events = require('base/js/events');\n",
       "    var OutputArea = require('notebook/js/outputarea').OutputArea;\n",
       "\n",
       "    if (OutputArea.prototype.mime_types().indexOf(EXEC_MIME_TYPE) == -1) {\n",
       "      register_renderer(events, OutputArea);\n",
       "    }\n",
       "  }\n",
       "\n",
       "  \n",
       "  if (typeof (root._bokeh_timeout) === \"undefined\" || force === true) {\n",
       "    root._bokeh_timeout = Date.now() + 5000;\n",
       "    root._bokeh_failed_load = false;\n",
       "  }\n",
       "\n",
       "  var NB_LOAD_WARNING = {'data': {'text/html':\n",
       "     \"<div style='background-color: #fdd'>\\n\"+\n",
       "     \"<p>\\n\"+\n",
       "     \"BokehJS does not appear to have successfully loaded. If loading BokehJS from CDN, this \\n\"+\n",
       "     \"may be due to a slow or bad network connection. Possible fixes:\\n\"+\n",
       "     \"</p>\\n\"+\n",
       "     \"<ul>\\n\"+\n",
       "     \"<li>re-rerun `output_notebook()` to attempt to load from CDN again, or</li>\\n\"+\n",
       "     \"<li>use INLINE resources instead, as so:</li>\\n\"+\n",
       "     \"</ul>\\n\"+\n",
       "     \"<code>\\n\"+\n",
       "     \"from bokeh.resources import INLINE\\n\"+\n",
       "     \"output_notebook(resources=INLINE)\\n\"+\n",
       "     \"</code>\\n\"+\n",
       "     \"</div>\"}};\n",
       "\n",
       "  function display_loaded() {\n",
       "    var el = document.getElementById(\"5f1f14b9-9850-4cee-b08e-463179814f57\");\n",
       "    if (el != null) {\n",
       "      el.textContent = \"BokehJS is loading...\";\n",
       "    }\n",
       "    if (root.Bokeh !== undefined) {\n",
       "      if (el != null) {\n",
       "        el.textContent = \"BokehJS \" + root.Bokeh.version + \" successfully loaded.\";\n",
       "      }\n",
       "    } else if (Date.now() < root._bokeh_timeout) {\n",
       "      setTimeout(display_loaded, 100)\n",
       "    }\n",
       "  }\n",
       "\n",
       "\n",
       "  function run_callbacks() {\n",
       "    try {\n",
       "      root._bokeh_onload_callbacks.forEach(function(callback) { callback() });\n",
       "    }\n",
       "    finally {\n",
       "      delete root._bokeh_onload_callbacks\n",
       "    }\n",
       "    console.info(\"Bokeh: all callbacks have finished\");\n",
       "  }\n",
       "\n",
       "  function load_libs(js_urls, callback) {\n",
       "    root._bokeh_onload_callbacks.push(callback);\n",
       "    if (root._bokeh_is_loading > 0) {\n",
       "      console.log(\"Bokeh: BokehJS is being loaded, scheduling callback at\", now());\n",
       "      return null;\n",
       "    }\n",
       "    if (js_urls == null || js_urls.length === 0) {\n",
       "      run_callbacks();\n",
       "      return null;\n",
       "    }\n",
       "    console.log(\"Bokeh: BokehJS not loaded, scheduling load and callback at\", now());\n",
       "    root._bokeh_is_loading = js_urls.length;\n",
       "    for (var i = 0; i < js_urls.length; i++) {\n",
       "      var url = js_urls[i];\n",
       "      var s = document.createElement('script');\n",
       "      s.src = url;\n",
       "      s.async = false;\n",
       "      s.onreadystatechange = s.onload = function() {\n",
       "        root._bokeh_is_loading--;\n",
       "        if (root._bokeh_is_loading === 0) {\n",
       "          console.log(\"Bokeh: all BokehJS libraries loaded\");\n",
       "          run_callbacks()\n",
       "        }\n",
       "      };\n",
       "      s.onerror = function() {\n",
       "        console.warn(\"failed to load library \" + url);\n",
       "      };\n",
       "      console.log(\"Bokeh: injecting script tag for BokehJS library: \", url);\n",
       "      document.getElementsByTagName(\"head\")[0].appendChild(s);\n",
       "    }\n",
       "  };var element = document.getElementById(\"5f1f14b9-9850-4cee-b08e-463179814f57\");\n",
       "  if (element == null) {\n",
       "    console.log(\"Bokeh: ERROR: autoload.js configured with elementid '5f1f14b9-9850-4cee-b08e-463179814f57' but no matching script tag was found. \")\n",
       "    return false;\n",
       "  }\n",
       "\n",
       "  var js_urls = [\"https://cdn.pydata.org/bokeh/release/bokeh-0.13.0.min.js\", \"https://cdn.pydata.org/bokeh/release/bokeh-widgets-0.13.0.min.js\", \"https://cdn.pydata.org/bokeh/release/bokeh-tables-0.13.0.min.js\", \"https://cdn.pydata.org/bokeh/release/bokeh-gl-0.13.0.min.js\"];\n",
       "\n",
       "  var inline_js = [\n",
       "    function(Bokeh) {\n",
       "      Bokeh.set_log_level(\"info\");\n",
       "    },\n",
       "    \n",
       "    function(Bokeh) {\n",
       "      \n",
       "    },\n",
       "    function(Bokeh) {\n",
       "      console.log(\"Bokeh: injecting CSS: https://cdn.pydata.org/bokeh/release/bokeh-0.13.0.min.css\");\n",
       "      Bokeh.embed.inject_css(\"https://cdn.pydata.org/bokeh/release/bokeh-0.13.0.min.css\");\n",
       "      console.log(\"Bokeh: injecting CSS: https://cdn.pydata.org/bokeh/release/bokeh-widgets-0.13.0.min.css\");\n",
       "      Bokeh.embed.inject_css(\"https://cdn.pydata.org/bokeh/release/bokeh-widgets-0.13.0.min.css\");\n",
       "      console.log(\"Bokeh: injecting CSS: https://cdn.pydata.org/bokeh/release/bokeh-tables-0.13.0.min.css\");\n",
       "      Bokeh.embed.inject_css(\"https://cdn.pydata.org/bokeh/release/bokeh-tables-0.13.0.min.css\");\n",
       "    }\n",
       "  ];\n",
       "\n",
       "  function run_inline_js() {\n",
       "    \n",
       "    if ((root.Bokeh !== undefined) || (force === true)) {\n",
       "      for (var i = 0; i < inline_js.length; i++) {\n",
       "        inline_js[i].call(root, root.Bokeh);\n",
       "      }if (force === true) {\n",
       "        display_loaded();\n",
       "      }} else if (Date.now() < root._bokeh_timeout) {\n",
       "      setTimeout(run_inline_js, 100);\n",
       "    } else if (!root._bokeh_failed_load) {\n",
       "      console.log(\"Bokeh: BokehJS failed to load within specified timeout.\");\n",
       "      root._bokeh_failed_load = true;\n",
       "    } else if (force !== true) {\n",
       "      var cell = $(document.getElementById(\"5f1f14b9-9850-4cee-b08e-463179814f57\")).parents('.cell').data().cell;\n",
       "      cell.output_area.append_execute_result(NB_LOAD_WARNING)\n",
       "    }\n",
       "\n",
       "  }\n",
       "\n",
       "  if (root._bokeh_is_loading === 0) {\n",
       "    console.log(\"Bokeh: BokehJS loaded, going straight to plotting\");\n",
       "    run_inline_js();\n",
       "  } else {\n",
       "    load_libs(js_urls, function() {\n",
       "      console.log(\"Bokeh: BokehJS plotting callback run at\", now());\n",
       "      run_inline_js();\n",
       "    });\n",
       "  }\n",
       "}(window));"
      ],
      "application/vnd.bokehjs_load.v0+json": "\n(function(root) {\n  function now() {\n    return new Date();\n  }\n\n  var force = true;\n\n  if (typeof (root._bokeh_onload_callbacks) === \"undefined\" || force === true) {\n    root._bokeh_onload_callbacks = [];\n    root._bokeh_is_loading = undefined;\n  }\n\n  \n\n  \n  if (typeof (root._bokeh_timeout) === \"undefined\" || force === true) {\n    root._bokeh_timeout = Date.now() + 5000;\n    root._bokeh_failed_load = false;\n  }\n\n  var NB_LOAD_WARNING = {'data': {'text/html':\n     \"<div style='background-color: #fdd'>\\n\"+\n     \"<p>\\n\"+\n     \"BokehJS does not appear to have successfully loaded. If loading BokehJS from CDN, this \\n\"+\n     \"may be due to a slow or bad network connection. Possible fixes:\\n\"+\n     \"</p>\\n\"+\n     \"<ul>\\n\"+\n     \"<li>re-rerun `output_notebook()` to attempt to load from CDN again, or</li>\\n\"+\n     \"<li>use INLINE resources instead, as so:</li>\\n\"+\n     \"</ul>\\n\"+\n     \"<code>\\n\"+\n     \"from bokeh.resources import INLINE\\n\"+\n     \"output_notebook(resources=INLINE)\\n\"+\n     \"</code>\\n\"+\n     \"</div>\"}};\n\n  function display_loaded() {\n    var el = document.getElementById(\"5f1f14b9-9850-4cee-b08e-463179814f57\");\n    if (el != null) {\n      el.textContent = \"BokehJS is loading...\";\n    }\n    if (root.Bokeh !== undefined) {\n      if (el != null) {\n        el.textContent = \"BokehJS \" + root.Bokeh.version + \" successfully loaded.\";\n      }\n    } else if (Date.now() < root._bokeh_timeout) {\n      setTimeout(display_loaded, 100)\n    }\n  }\n\n\n  function run_callbacks() {\n    try {\n      root._bokeh_onload_callbacks.forEach(function(callback) { callback() });\n    }\n    finally {\n      delete root._bokeh_onload_callbacks\n    }\n    console.info(\"Bokeh: all callbacks have finished\");\n  }\n\n  function load_libs(js_urls, callback) {\n    root._bokeh_onload_callbacks.push(callback);\n    if (root._bokeh_is_loading > 0) {\n      console.log(\"Bokeh: BokehJS is being loaded, scheduling callback at\", now());\n      return null;\n    }\n    if (js_urls == null || js_urls.length === 0) {\n      run_callbacks();\n      return null;\n    }\n    console.log(\"Bokeh: BokehJS not loaded, scheduling load and callback at\", now());\n    root._bokeh_is_loading = js_urls.length;\n    for (var i = 0; i < js_urls.length; i++) {\n      var url = js_urls[i];\n      var s = document.createElement('script');\n      s.src = url;\n      s.async = false;\n      s.onreadystatechange = s.onload = function() {\n        root._bokeh_is_loading--;\n        if (root._bokeh_is_loading === 0) {\n          console.log(\"Bokeh: all BokehJS libraries loaded\");\n          run_callbacks()\n        }\n      };\n      s.onerror = function() {\n        console.warn(\"failed to load library \" + url);\n      };\n      console.log(\"Bokeh: injecting script tag for BokehJS library: \", url);\n      document.getElementsByTagName(\"head\")[0].appendChild(s);\n    }\n  };var element = document.getElementById(\"5f1f14b9-9850-4cee-b08e-463179814f57\");\n  if (element == null) {\n    console.log(\"Bokeh: ERROR: autoload.js configured with elementid '5f1f14b9-9850-4cee-b08e-463179814f57' but no matching script tag was found. \")\n    return false;\n  }\n\n  var js_urls = [\"https://cdn.pydata.org/bokeh/release/bokeh-0.13.0.min.js\", \"https://cdn.pydata.org/bokeh/release/bokeh-widgets-0.13.0.min.js\", \"https://cdn.pydata.org/bokeh/release/bokeh-tables-0.13.0.min.js\", \"https://cdn.pydata.org/bokeh/release/bokeh-gl-0.13.0.min.js\"];\n\n  var inline_js = [\n    function(Bokeh) {\n      Bokeh.set_log_level(\"info\");\n    },\n    \n    function(Bokeh) {\n      \n    },\n    function(Bokeh) {\n      console.log(\"Bokeh: injecting CSS: https://cdn.pydata.org/bokeh/release/bokeh-0.13.0.min.css\");\n      Bokeh.embed.inject_css(\"https://cdn.pydata.org/bokeh/release/bokeh-0.13.0.min.css\");\n      console.log(\"Bokeh: injecting CSS: https://cdn.pydata.org/bokeh/release/bokeh-widgets-0.13.0.min.css\");\n      Bokeh.embed.inject_css(\"https://cdn.pydata.org/bokeh/release/bokeh-widgets-0.13.0.min.css\");\n      console.log(\"Bokeh: injecting CSS: https://cdn.pydata.org/bokeh/release/bokeh-tables-0.13.0.min.css\");\n      Bokeh.embed.inject_css(\"https://cdn.pydata.org/bokeh/release/bokeh-tables-0.13.0.min.css\");\n    }\n  ];\n\n  function run_inline_js() {\n    \n    if ((root.Bokeh !== undefined) || (force === true)) {\n      for (var i = 0; i < inline_js.length; i++) {\n        inline_js[i].call(root, root.Bokeh);\n      }if (force === true) {\n        display_loaded();\n      }} else if (Date.now() < root._bokeh_timeout) {\n      setTimeout(run_inline_js, 100);\n    } else if (!root._bokeh_failed_load) {\n      console.log(\"Bokeh: BokehJS failed to load within specified timeout.\");\n      root._bokeh_failed_load = true;\n    } else if (force !== true) {\n      var cell = $(document.getElementById(\"5f1f14b9-9850-4cee-b08e-463179814f57\")).parents('.cell').data().cell;\n      cell.output_area.append_execute_result(NB_LOAD_WARNING)\n    }\n\n  }\n\n  if (root._bokeh_is_loading === 0) {\n    console.log(\"Bokeh: BokehJS loaded, going straight to plotting\");\n    run_inline_js();\n  } else {\n    load_libs(js_urls, function() {\n      console.log(\"Bokeh: BokehJS plotting callback run at\", now());\n      run_inline_js();\n    });\n  }\n}(window));"
     },
     "metadata": {},
     "output_type": "display_data"
    },
    {
     "data": {
      "text/html": [
       "\n",
       "\n",
       "\n",
       "\n",
       "\n",
       "\n",
       "  <div class=\"bk-root\" id=\"b81055bc-71d8-4955-91ac-23a42cf5b947\"></div>\n"
      ]
     },
     "metadata": {},
     "output_type": "display_data"
    },
    {
     "data": {
      "application/javascript": [
       "(function(root) {\n",
       "  function embed_document(root) {\n",
       "    \n",
       "  var docs_json = {\"4b662b1c-4d64-4725-8bdb-509700d82f78\":{\"roots\":{\"references\":[{\"attributes\":{\"dimension\":1,\"plot\":{\"id\":\"afd5dbcb-2752-4bcb-b9fb-ddfbfde3147a\",\"subtype\":\"Figure\",\"type\":\"Plot\"},\"ticker\":{\"id\":\"8b9f1572-8cac-4f8d-828b-f2bea66f54de\",\"type\":\"BasicTicker\"}},\"id\":\"b5a347ff-07e3-4774-afbc-621d34d9c75f\",\"type\":\"Grid\"},{\"attributes\":{\"bottom_units\":\"screen\",\"fill_alpha\":{\"value\":0.5},\"fill_color\":{\"value\":\"lightgrey\"},\"left_units\":\"screen\",\"level\":\"overlay\",\"line_alpha\":{\"value\":1.0},\"line_color\":{\"value\":\"black\"},\"line_dash\":[4,4],\"line_width\":{\"value\":2},\"plot\":null,\"render_mode\":\"css\",\"right_units\":\"screen\",\"top_units\":\"screen\"},\"id\":\"7ab00601-16e5-4a24-8bd6-dd46219a5524\",\"type\":\"BoxAnnotation\"},{\"attributes\":{\"plot\":null,\"text\":\"\"},\"id\":\"ff9fa7fb-f8bd-4aad-8327-eb2d4bca25f5\",\"type\":\"Title\"},{\"attributes\":{\"below\":[{\"id\":\"eaea3fcb-179d-410a-94e0-2ac7e0c4e6ed\",\"type\":\"LinearAxis\"}],\"left\":[{\"id\":\"00285c7c-d4c9-4c9d-8681-f2f1b00bf66d\",\"type\":\"LinearAxis\"}],\"plot_height\":400,\"plot_width\":400,\"renderers\":[{\"id\":\"eaea3fcb-179d-410a-94e0-2ac7e0c4e6ed\",\"type\":\"LinearAxis\"},{\"id\":\"54b6f967-31e4-4551-834d-604e665b39c4\",\"type\":\"Grid\"},{\"id\":\"00285c7c-d4c9-4c9d-8681-f2f1b00bf66d\",\"type\":\"LinearAxis\"},{\"id\":\"b5a347ff-07e3-4774-afbc-621d34d9c75f\",\"type\":\"Grid\"},{\"id\":\"7ab00601-16e5-4a24-8bd6-dd46219a5524\",\"type\":\"BoxAnnotation\"},{\"id\":\"7457833c-5837-4646-9677-f9688939fe46\",\"type\":\"GlyphRenderer\"}],\"title\":{\"id\":\"ff9fa7fb-f8bd-4aad-8327-eb2d4bca25f5\",\"type\":\"Title\"},\"toolbar\":{\"id\":\"f729dc8e-7226-4f73-a0d9-1e3307f0a596\",\"type\":\"Toolbar\"},\"x_range\":{\"id\":\"985899fc-269f-4247-8a4b-af0b794d8270\",\"type\":\"DataRange1d\"},\"x_scale\":{\"id\":\"4cee49df-14d2-40f5-a3d1-46ed98e77c78\",\"type\":\"LinearScale\"},\"y_range\":{\"id\":\"a5d6afd7-4cd6-4bd5-8639-b3894aa3dfac\",\"type\":\"DataRange1d\"},\"y_scale\":{\"id\":\"90cefa9a-9838-4dfd-a1a8-38815b71466d\",\"type\":\"LinearScale\"}},\"id\":\"afd5dbcb-2752-4bcb-b9fb-ddfbfde3147a\",\"subtype\":\"Figure\",\"type\":\"Plot\"},{\"attributes\":{\"callback\":null,\"data\":{\"x\":{\"__ndarray__\":\"GC1EVPshGcBD1GGYAKAYwG97f9wFHhjAmiKdIAucF8DGybpkEBoXwPFw2KgVmBbAHRj27BoWFsBIvxMxIJQVwHRmMXUlEhXAnw1PuSqQFMDLtGz9Lw4UwPZbikE1jBPAIgOohToKE8BNqsXJP4gSwHhR4w1FBhLApPgAUkqEEcDQnx6WTwIRwPtGPNpUgBDATdyzPLT8D8CkKu/EvvgOwPt4Kk3J9A3AUsdl1dPwDMCpFaFd3uwLwABk3OXo6ArAVrIXbvPkCcCtAFP2/eAIwARPjn4I3QfAW53JBhPZBsCy6wSPHdUFwAk6QBco0QTAYIh7nzLNA8C31rYnPckCwA4l8q9HxQHAZHMtOFLBAMB4g9GAuXr/vyQgSJHOcv2/1Ly+oeNq+7+AWTWy+GL5vzD2q8INW/e/3JIi0yJT9b+ML5njN0vzvzjMD/RMQ/G/0NEMCcR27r8oC/op7mbqv4hE50oYV+a/4H3Ua0JH4r+AboMZ2W7cvzDhXVstT9S/wKdwOgNfyL+AGkt8Vz+wv8AaS3xXP7A/4KdwOgNfyD9A4V1bLU/UP4BugxnZbtw/6H3Ua0JH4j+IROdKGFfmPzAL+inuZuo/0NEMCcR27j88zA/0TEPxP4wvmeM3S/M/4JIi0yJT9T8w9qvCDVv3P4RZNbL4Yvk/1Ly+oeNq+z8oIEiRznL9P3iD0YC5ev8/aHMtOFLBAEAQJfKvR8UBQLjWtic9yQJAYIh7nzLNA0AMOkAXKNEEQLTrBI8d1QVAXJ3JBhPZBkAET45+CN0HQLAAU/b94AhAWLIXbvPkCUAAZNzl6OgKQKgVoV3e7AtAVMdl1dPwDED8eCpNyfQNQKQq78S++A5AUNyzPLT8D0D8RjzaVIAQQNCfHpZPAhFApPgAUkqEEUB6UeMNRQYSQE6qxck/iBJAIgOohToKE0D2W4pBNYwTQMy0bP0vDhRAoA1PuSqQFEB0ZjF1JRIVQEi/EzEglBVAHhj27BoWFkDycNioFZgWQMbJumQQGhdAnCKdIAucF0Bwe3/cBR4YQETUYZgAoBhAGC1EVPshGUA=\",\"dtype\":\"float64\",\"shape\":[100]},\"y\":{\"__ndarray__\":\"VfDX1gWKXj/x010K8VRhPzsKh+b/q2M/5UYEG7hTZj99saa+5VZpPwm5aDfCwWw/G+telBFRcD+FGcWC14NyP7O5/OoLAnU/MNFsY67Vdz/rukONCQp7P9CIwIjbq34/Gx8nVsFkgT/I8Jpel7mDP71zbm2LXYY/AsEvHNpaiT+mXtnQAL2MP4qIr+dvSJA/jMo7M29ykj/yAsRuiOSUP+ne5Muvp5c/nBmnUNfFmj8IZotFAkqePxHudsYrIKE/L+Fg9Rhboz8X1i1/Ft2lP7X4N7AWrqg/yrh4/7DWqz8/Sw45HmCvP45GwWkXqrE/xjAx+Zzesz+Fln27AVO2P8Y8MbjLDLk/m/ROpIwRvD/xFhOhwma/P+BbItHYiME//79pqZqLwz+fyz/mxb3FP3M86g4NIcg/YP29Mpa2yj+EeA4Y2n7NPxcusSzCPNA/fMh3VKvS0T+JRaTfCIDTP76sLEozQ9U/wnwvK/kZ1z93uVqKowHZP1UmQyEB99o/T8w9jnj23D8/WZHcIPzeP2NTt5HvgeA/2hnhuMOE4T/YbF5vf4TiP0Sj0jouf+M/oEFoagNz5D+hqelaZl7lPz3dLZD7P+Y/wxvEVaoW5z/2aKfpnuHnP+Bh/HlJoOg/qYBQc1pS6T/jcEW8vPfpPxoNcIaOkOo/AJClVRkd6z8KabfLyZ3rPyGd3asnE+w/byF2a8597D9o2PmIZt7sPzBNkMifNe0/59nZYCyE7T8v18cSvcrtP0wbbxz+Ce4/c3QI8JRC7j91gPyUHnXuP58iDZguou4/7vGpcE7K7j8fkZhD/e3uP9Ck0+2vDe8/NMd6RdEp7z8I2aCBwkLvP+nfibzbWO8/qyFmhmxs7z+8g8KAvH3vP4aavPwLje8//ECPl5Sa7z8xRkrSiabvPz2UhaIZse8/g2On+my67z/vfu5IqMLvP4l45ezrye8/XiY5o1TQ7z+NBiro+9XvP811+lD42u8/K0LX3F3f7z9Il8g9PuPvP09ZQRqp5u8/ufvkR6zp7z/1eBkAVOzvPy2i9Q6r7u8/CJQU/brw7z8=\",\"dtype\":\"float64\",\"shape\":[100]}},\"selected\":{\"id\":\"3451e26c-1aa5-4bf3-b450-c2f46a1bfe42\",\"type\":\"Selection\"},\"selection_policy\":{\"id\":\"4eca7696-4599-46f7-9894-524b984296a9\",\"type\":\"UnionRenderers\"}},\"id\":\"46c245ae-7903-4c99-beb0-63a617714d42\",\"type\":\"ColumnDataSource\"},{\"attributes\":{},\"id\":\"b52e30ec-1568-4749-8218-ac871a24905c\",\"type\":\"BasicTickFormatter\"},{\"attributes\":{\"callback\":null},\"id\":\"a5d6afd7-4cd6-4bd5-8639-b3894aa3dfac\",\"type\":\"DataRange1d\"},{\"attributes\":{},\"id\":\"675e9996-df8a-4d40-956a-a75275ce98f8\",\"type\":\"PanTool\"},{\"attributes\":{\"data_source\":{\"id\":\"46c245ae-7903-4c99-beb0-63a617714d42\",\"type\":\"ColumnDataSource\"},\"glyph\":{\"id\":\"c0565988-6217-4e5e-8880-0c7152c6db69\",\"type\":\"Line\"},\"hover_glyph\":null,\"muted_glyph\":null,\"nonselection_glyph\":{\"id\":\"373d8560-fe80-4d0c-83cc-7f1638f12a1c\",\"type\":\"Line\"},\"selection_glyph\":null,\"view\":{\"id\":\"e735ee29-bd52-47ff-8a8e-946477f87673\",\"type\":\"CDSView\"}},\"id\":\"7457833c-5837-4646-9677-f9688939fe46\",\"type\":\"GlyphRenderer\"},{\"attributes\":{\"line_alpha\":0.1,\"line_color\":\"#1f77b4\",\"x\":{\"field\":\"x\"},\"y\":{\"field\":\"y\"}},\"id\":\"373d8560-fe80-4d0c-83cc-7f1638f12a1c\",\"type\":\"Line\"},{\"attributes\":{},\"id\":\"b856f5c1-1a97-4d6f-9622-4ecdca8a5fd9\",\"type\":\"WheelZoomTool\"},{\"attributes\":{\"overlay\":{\"id\":\"7ab00601-16e5-4a24-8bd6-dd46219a5524\",\"type\":\"BoxAnnotation\"}},\"id\":\"5ed82442-cd4f-4e62-a72d-16d8970b7d42\",\"type\":\"BoxZoomTool\"},{\"attributes\":{\"active_drag\":\"auto\",\"active_inspect\":\"auto\",\"active_multi\":null,\"active_scroll\":\"auto\",\"active_tap\":\"auto\",\"tools\":[{\"id\":\"675e9996-df8a-4d40-956a-a75275ce98f8\",\"type\":\"PanTool\"},{\"id\":\"b856f5c1-1a97-4d6f-9622-4ecdca8a5fd9\",\"type\":\"WheelZoomTool\"},{\"id\":\"5ed82442-cd4f-4e62-a72d-16d8970b7d42\",\"type\":\"BoxZoomTool\"},{\"id\":\"9deca4af-7a32-41e9-86f8-24c34414f86c\",\"type\":\"SaveTool\"},{\"id\":\"cd66aa7d-2c81-4d00-9277-1afc0e47f4a6\",\"type\":\"ResetTool\"},{\"id\":\"2e4fbc24-0df2-42da-acf3-76c9f49df8d1\",\"type\":\"HelpTool\"}]},\"id\":\"f729dc8e-7226-4f73-a0d9-1e3307f0a596\",\"type\":\"Toolbar\"},{\"attributes\":{},\"id\":\"9deca4af-7a32-41e9-86f8-24c34414f86c\",\"type\":\"SaveTool\"},{\"attributes\":{},\"id\":\"4cee49df-14d2-40f5-a3d1-46ed98e77c78\",\"type\":\"LinearScale\"},{\"attributes\":{},\"id\":\"cd66aa7d-2c81-4d00-9277-1afc0e47f4a6\",\"type\":\"ResetTool\"},{\"attributes\":{},\"id\":\"2e4fbc24-0df2-42da-acf3-76c9f49df8d1\",\"type\":\"HelpTool\"},{\"attributes\":{},\"id\":\"90cefa9a-9838-4dfd-a1a8-38815b71466d\",\"type\":\"LinearScale\"},{\"attributes\":{\"line_color\":\"#1f77b4\",\"x\":{\"field\":\"x\"},\"y\":{\"field\":\"y\"}},\"id\":\"c0565988-6217-4e5e-8880-0c7152c6db69\",\"type\":\"Line\"},{\"attributes\":{},\"id\":\"0981bd66-c7e8-454f-b203-3eeba3e60220\",\"type\":\"BasicTickFormatter\"},{\"attributes\":{\"plot\":{\"id\":\"afd5dbcb-2752-4bcb-b9fb-ddfbfde3147a\",\"subtype\":\"Figure\",\"type\":\"Plot\"},\"ticker\":{\"id\":\"6f9c4ee2-6759-4f0b-9db0-3600f56dde1f\",\"type\":\"BasicTicker\"}},\"id\":\"54b6f967-31e4-4551-834d-604e665b39c4\",\"type\":\"Grid\"},{\"attributes\":{\"formatter\":{\"id\":\"0981bd66-c7e8-454f-b203-3eeba3e60220\",\"type\":\"BasicTickFormatter\"},\"plot\":{\"id\":\"afd5dbcb-2752-4bcb-b9fb-ddfbfde3147a\",\"subtype\":\"Figure\",\"type\":\"Plot\"},\"ticker\":{\"id\":\"6f9c4ee2-6759-4f0b-9db0-3600f56dde1f\",\"type\":\"BasicTicker\"}},\"id\":\"eaea3fcb-179d-410a-94e0-2ac7e0c4e6ed\",\"type\":\"LinearAxis\"},{\"attributes\":{},\"id\":\"6f9c4ee2-6759-4f0b-9db0-3600f56dde1f\",\"type\":\"BasicTicker\"},{\"attributes\":{},\"id\":\"3451e26c-1aa5-4bf3-b450-c2f46a1bfe42\",\"type\":\"Selection\"},{\"attributes\":{},\"id\":\"4eca7696-4599-46f7-9894-524b984296a9\",\"type\":\"UnionRenderers\"},{\"attributes\":{\"formatter\":{\"id\":\"b52e30ec-1568-4749-8218-ac871a24905c\",\"type\":\"BasicTickFormatter\"},\"plot\":{\"id\":\"afd5dbcb-2752-4bcb-b9fb-ddfbfde3147a\",\"subtype\":\"Figure\",\"type\":\"Plot\"},\"ticker\":{\"id\":\"8b9f1572-8cac-4f8d-828b-f2bea66f54de\",\"type\":\"BasicTicker\"}},\"id\":\"00285c7c-d4c9-4c9d-8681-f2f1b00bf66d\",\"type\":\"LinearAxis\"},{\"attributes\":{},\"id\":\"8b9f1572-8cac-4f8d-828b-f2bea66f54de\",\"type\":\"BasicTicker\"},{\"attributes\":{\"callback\":null},\"id\":\"985899fc-269f-4247-8a4b-af0b794d8270\",\"type\":\"DataRange1d\"},{\"attributes\":{\"source\":{\"id\":\"46c245ae-7903-4c99-beb0-63a617714d42\",\"type\":\"ColumnDataSource\"}},\"id\":\"e735ee29-bd52-47ff-8a8e-946477f87673\",\"type\":\"CDSView\"}],\"root_ids\":[\"afd5dbcb-2752-4bcb-b9fb-ddfbfde3147a\"]},\"title\":\"Bokeh Application\",\"version\":\"0.13.0\"}};\n",
       "  var render_items = [{\"docid\":\"4b662b1c-4d64-4725-8bdb-509700d82f78\",\"roots\":{\"afd5dbcb-2752-4bcb-b9fb-ddfbfde3147a\":\"b81055bc-71d8-4955-91ac-23a42cf5b947\"}}];\n",
       "  root.Bokeh.embed.embed_items_notebook(docs_json, render_items);\n",
       "\n",
       "  }\n",
       "  if (root.Bokeh !== undefined) {\n",
       "    embed_document(root);\n",
       "  } else {\n",
       "    var attempts = 0;\n",
       "    var timer = setInterval(function(root) {\n",
       "      if (root.Bokeh !== undefined) {\n",
       "        embed_document(root);\n",
       "        clearInterval(timer);\n",
       "      }\n",
       "      attempts++;\n",
       "      if (attempts > 100) {\n",
       "        console.log(\"Bokeh: ERROR: Unable to run BokehJS code because BokehJS library is missing\")\n",
       "        clearInterval(timer);\n",
       "      }\n",
       "    }, 10, root)\n",
       "  }\n",
       "})(window);"
      ],
      "application/vnd.bokehjs_exec.v0+json": ""
     },
     "metadata": {
      "application/vnd.bokehjs_exec.v0+json": {
       "id": "afd5dbcb-2752-4bcb-b9fb-ddfbfde3147a"
      }
     },
     "output_type": "display_data"
    }
   ],
   "source": [
    "import numpy as np\n",
    "from bokeh.plotting import figure, output_notebook, show\n",
    "output_notebook()\n",
    "sgmd = lambda x: 1 / (1 + np.exp(-x))\n",
    "x = np.linspace(-2*np.pi, 2*np.pi, 100)\n",
    "y = sgmd(x)\n",
    "p = figure(plot_width=400, plot_height=400)\n",
    "p.line(x,y)\n",
    "show(p)"
   ]
  },
  {
   "cell_type": "markdown",
   "metadata": {},
   "source": [
    "Note the *domain* and *codomain*. The sigmoid function can take any input and returns a value between $0$ and $1$. This means we can use any discriminant function we like and feed its output into the sigmoid. You can think of the output of the sigmoid as a probability."
   ]
  },
  {
   "cell_type": "markdown",
   "metadata": {},
   "source": [
    "A more readable expression for the *logistic* sigmoid:"
   ]
  },
  {
   "cell_type": "markdown",
   "metadata": {},
   "source": [
    "## $\\sigma(a) = \\frac{1}{1 + e^{-a}}$"
   ]
  },
  {
   "cell_type": "markdown",
   "metadata": {},
   "source": [
    "Given data $\\bf X$ and weights $\\color{blue}{W}$, we compute the dot product $\\color{blue}{W} \\cdot \\bf X$ and feed the result into the sigmoid function. This is a simple *GLM*, or *Generalized Linear Model*. The model is this:"
   ]
  },
  {
   "cell_type": "markdown",
   "metadata": {},
   "source": [
    "## $P(C_k \\mid {\\bf X}) = \\sigma(\\color{blue}{W} \\cdot {\\bf X}) = \\sigma(\\langle \\color{blue}{W}, {\\bf X}\\rangle) = \\sigma (\\sum_{i=1}^d \\color{blue}{W}_i X_i)$"
   ]
  },
  {
   "cell_type": "markdown",
   "metadata": {},
   "source": [
    "Remember from before that the weights $\\color{blue}{W}$ are really the optimization variables. In this case, the mathematical optimization can be done via *iterative reweighted least squares* (IRLS). But what on Earth are we optimizing? We are actually *maximizing* the likelihood of the parameters given the data. We find the $\\color{blue}{W}$ (a vector), which maximizes this:"
   ]
  },
  {
   "cell_type": "markdown",
   "metadata": {},
   "source": [
    "## $ P( {\\bf t} \\mid \\color{blue}{W} ) = \\prod_{n=1}^N y_n^{t_n}(1 - y_n)^{1-t_n}$"
   ]
  },
  {
   "cell_type": "markdown",
   "metadata": {},
   "source": [
    "where ${\\bf t} = (t_1,\\ldots,t_N)$ are the *labels* from the training set (i.e. $t_n \\in \\{0,1\\}$) and $y_n = P(C_1 \\mid x_n) = \\sigma(\\color{blue}{W} \\cdot x_n)$ are the probabilities predicted by the model with weights $\\color{blue}{W}$."
   ]
  },
  {
   "cell_type": "markdown",
   "metadata": {},
   "source": [
    "We are left with a model that takes $\\bf X$ as input and outputs a value $\\sigma(\\color{blue}{W} \\cdot {\\bf X}) \\in (0,1)$. In the case of two-class classification, this can be interpreted as the probability that the datapoint $\\bf X$ belongs to class $C_1$."
   ]
  },
  {
   "cell_type": "markdown",
   "metadata": {},
   "source": [
    "Let's look at an example."
   ]
  },
  {
   "cell_type": "code",
   "execution_count": 2,
   "metadata": {},
   "outputs": [
    {
     "data": {
      "text/html": [
       "\n",
       "    <div class=\"bk-root\">\n",
       "        <a href=\"https://bokeh.pydata.org\" target=\"_blank\" class=\"bk-logo bk-logo-small bk-logo-notebook\"></a>\n",
       "        <span id=\"74ae7a95-c8de-4d17-a412-d377e7824a86\">Loading BokehJS ...</span>\n",
       "    </div>"
      ]
     },
     "metadata": {},
     "output_type": "display_data"
    },
    {
     "data": {
      "application/javascript": [
       "\n",
       "(function(root) {\n",
       "  function now() {\n",
       "    return new Date();\n",
       "  }\n",
       "\n",
       "  var force = true;\n",
       "\n",
       "  if (typeof (root._bokeh_onload_callbacks) === \"undefined\" || force === true) {\n",
       "    root._bokeh_onload_callbacks = [];\n",
       "    root._bokeh_is_loading = undefined;\n",
       "  }\n",
       "\n",
       "  var JS_MIME_TYPE = 'application/javascript';\n",
       "  var HTML_MIME_TYPE = 'text/html';\n",
       "  var EXEC_MIME_TYPE = 'application/vnd.bokehjs_exec.v0+json';\n",
       "  var CLASS_NAME = 'output_bokeh rendered_html';\n",
       "\n",
       "  /**\n",
       "   * Render data to the DOM node\n",
       "   */\n",
       "  function render(props, node) {\n",
       "    var script = document.createElement(\"script\");\n",
       "    node.appendChild(script);\n",
       "  }\n",
       "\n",
       "  /**\n",
       "   * Handle when an output is cleared or removed\n",
       "   */\n",
       "  function handleClearOutput(event, handle) {\n",
       "    var cell = handle.cell;\n",
       "\n",
       "    var id = cell.output_area._bokeh_element_id;\n",
       "    var server_id = cell.output_area._bokeh_server_id;\n",
       "    // Clean up Bokeh references\n",
       "    if (id != null && id in Bokeh.index) {\n",
       "      Bokeh.index[id].model.document.clear();\n",
       "      delete Bokeh.index[id];\n",
       "    }\n",
       "\n",
       "    if (server_id !== undefined) {\n",
       "      // Clean up Bokeh references\n",
       "      var cmd = \"from bokeh.io.state import curstate; print(curstate().uuid_to_server['\" + server_id + \"'].get_sessions()[0].document.roots[0]._id)\";\n",
       "      cell.notebook.kernel.execute(cmd, {\n",
       "        iopub: {\n",
       "          output: function(msg) {\n",
       "            var id = msg.content.text.trim();\n",
       "            if (id in Bokeh.index) {\n",
       "              Bokeh.index[id].model.document.clear();\n",
       "              delete Bokeh.index[id];\n",
       "            }\n",
       "          }\n",
       "        }\n",
       "      });\n",
       "      // Destroy server and session\n",
       "      var cmd = \"import bokeh.io.notebook as ion; ion.destroy_server('\" + server_id + \"')\";\n",
       "      cell.notebook.kernel.execute(cmd);\n",
       "    }\n",
       "  }\n",
       "\n",
       "  /**\n",
       "   * Handle when a new output is added\n",
       "   */\n",
       "  function handleAddOutput(event, handle) {\n",
       "    var output_area = handle.output_area;\n",
       "    var output = handle.output;\n",
       "\n",
       "    // limit handleAddOutput to display_data with EXEC_MIME_TYPE content only\n",
       "    if ((output.output_type != \"display_data\") || (!output.data.hasOwnProperty(EXEC_MIME_TYPE))) {\n",
       "      return\n",
       "    }\n",
       "\n",
       "    var toinsert = output_area.element.find(\".\" + CLASS_NAME.split(' ')[0]);\n",
       "\n",
       "    if (output.metadata[EXEC_MIME_TYPE][\"id\"] !== undefined) {\n",
       "      toinsert[toinsert.length - 1].firstChild.textContent = output.data[JS_MIME_TYPE];\n",
       "      // store reference to embed id on output_area\n",
       "      output_area._bokeh_element_id = output.metadata[EXEC_MIME_TYPE][\"id\"];\n",
       "    }\n",
       "    if (output.metadata[EXEC_MIME_TYPE][\"server_id\"] !== undefined) {\n",
       "      var bk_div = document.createElement(\"div\");\n",
       "      bk_div.innerHTML = output.data[HTML_MIME_TYPE];\n",
       "      var script_attrs = bk_div.children[0].attributes;\n",
       "      for (var i = 0; i < script_attrs.length; i++) {\n",
       "        toinsert[toinsert.length - 1].firstChild.setAttribute(script_attrs[i].name, script_attrs[i].value);\n",
       "      }\n",
       "      // store reference to server id on output_area\n",
       "      output_area._bokeh_server_id = output.metadata[EXEC_MIME_TYPE][\"server_id\"];\n",
       "    }\n",
       "  }\n",
       "\n",
       "  function register_renderer(events, OutputArea) {\n",
       "\n",
       "    function append_mime(data, metadata, element) {\n",
       "      // create a DOM node to render to\n",
       "      var toinsert = this.create_output_subarea(\n",
       "        metadata,\n",
       "        CLASS_NAME,\n",
       "        EXEC_MIME_TYPE\n",
       "      );\n",
       "      this.keyboard_manager.register_events(toinsert);\n",
       "      // Render to node\n",
       "      var props = {data: data, metadata: metadata[EXEC_MIME_TYPE]};\n",
       "      render(props, toinsert[toinsert.length - 1]);\n",
       "      element.append(toinsert);\n",
       "      return toinsert\n",
       "    }\n",
       "\n",
       "    /* Handle when an output is cleared or removed */\n",
       "    events.on('clear_output.CodeCell', handleClearOutput);\n",
       "    events.on('delete.Cell', handleClearOutput);\n",
       "\n",
       "    /* Handle when a new output is added */\n",
       "    events.on('output_added.OutputArea', handleAddOutput);\n",
       "\n",
       "    /**\n",
       "     * Register the mime type and append_mime function with output_area\n",
       "     */\n",
       "    OutputArea.prototype.register_mime_type(EXEC_MIME_TYPE, append_mime, {\n",
       "      /* Is output safe? */\n",
       "      safe: true,\n",
       "      /* Index of renderer in `output_area.display_order` */\n",
       "      index: 0\n",
       "    });\n",
       "  }\n",
       "\n",
       "  // register the mime type if in Jupyter Notebook environment and previously unregistered\n",
       "  if (root.Jupyter !== undefined) {\n",
       "    var events = require('base/js/events');\n",
       "    var OutputArea = require('notebook/js/outputarea').OutputArea;\n",
       "\n",
       "    if (OutputArea.prototype.mime_types().indexOf(EXEC_MIME_TYPE) == -1) {\n",
       "      register_renderer(events, OutputArea);\n",
       "    }\n",
       "  }\n",
       "\n",
       "  \n",
       "  if (typeof (root._bokeh_timeout) === \"undefined\" || force === true) {\n",
       "    root._bokeh_timeout = Date.now() + 5000;\n",
       "    root._bokeh_failed_load = false;\n",
       "  }\n",
       "\n",
       "  var NB_LOAD_WARNING = {'data': {'text/html':\n",
       "     \"<div style='background-color: #fdd'>\\n\"+\n",
       "     \"<p>\\n\"+\n",
       "     \"BokehJS does not appear to have successfully loaded. If loading BokehJS from CDN, this \\n\"+\n",
       "     \"may be due to a slow or bad network connection. Possible fixes:\\n\"+\n",
       "     \"</p>\\n\"+\n",
       "     \"<ul>\\n\"+\n",
       "     \"<li>re-rerun `output_notebook()` to attempt to load from CDN again, or</li>\\n\"+\n",
       "     \"<li>use INLINE resources instead, as so:</li>\\n\"+\n",
       "     \"</ul>\\n\"+\n",
       "     \"<code>\\n\"+\n",
       "     \"from bokeh.resources import INLINE\\n\"+\n",
       "     \"output_notebook(resources=INLINE)\\n\"+\n",
       "     \"</code>\\n\"+\n",
       "     \"</div>\"}};\n",
       "\n",
       "  function display_loaded() {\n",
       "    var el = document.getElementById(\"74ae7a95-c8de-4d17-a412-d377e7824a86\");\n",
       "    if (el != null) {\n",
       "      el.textContent = \"BokehJS is loading...\";\n",
       "    }\n",
       "    if (root.Bokeh !== undefined) {\n",
       "      if (el != null) {\n",
       "        el.textContent = \"BokehJS \" + root.Bokeh.version + \" successfully loaded.\";\n",
       "      }\n",
       "    } else if (Date.now() < root._bokeh_timeout) {\n",
       "      setTimeout(display_loaded, 100)\n",
       "    }\n",
       "  }\n",
       "\n",
       "\n",
       "  function run_callbacks() {\n",
       "    try {\n",
       "      root._bokeh_onload_callbacks.forEach(function(callback) { callback() });\n",
       "    }\n",
       "    finally {\n",
       "      delete root._bokeh_onload_callbacks\n",
       "    }\n",
       "    console.info(\"Bokeh: all callbacks have finished\");\n",
       "  }\n",
       "\n",
       "  function load_libs(js_urls, callback) {\n",
       "    root._bokeh_onload_callbacks.push(callback);\n",
       "    if (root._bokeh_is_loading > 0) {\n",
       "      console.log(\"Bokeh: BokehJS is being loaded, scheduling callback at\", now());\n",
       "      return null;\n",
       "    }\n",
       "    if (js_urls == null || js_urls.length === 0) {\n",
       "      run_callbacks();\n",
       "      return null;\n",
       "    }\n",
       "    console.log(\"Bokeh: BokehJS not loaded, scheduling load and callback at\", now());\n",
       "    root._bokeh_is_loading = js_urls.length;\n",
       "    for (var i = 0; i < js_urls.length; i++) {\n",
       "      var url = js_urls[i];\n",
       "      var s = document.createElement('script');\n",
       "      s.src = url;\n",
       "      s.async = false;\n",
       "      s.onreadystatechange = s.onload = function() {\n",
       "        root._bokeh_is_loading--;\n",
       "        if (root._bokeh_is_loading === 0) {\n",
       "          console.log(\"Bokeh: all BokehJS libraries loaded\");\n",
       "          run_callbacks()\n",
       "        }\n",
       "      };\n",
       "      s.onerror = function() {\n",
       "        console.warn(\"failed to load library \" + url);\n",
       "      };\n",
       "      console.log(\"Bokeh: injecting script tag for BokehJS library: \", url);\n",
       "      document.getElementsByTagName(\"head\")[0].appendChild(s);\n",
       "    }\n",
       "  };var element = document.getElementById(\"74ae7a95-c8de-4d17-a412-d377e7824a86\");\n",
       "  if (element == null) {\n",
       "    console.log(\"Bokeh: ERROR: autoload.js configured with elementid '74ae7a95-c8de-4d17-a412-d377e7824a86' but no matching script tag was found. \")\n",
       "    return false;\n",
       "  }\n",
       "\n",
       "  var js_urls = [\"https://cdn.pydata.org/bokeh/release/bokeh-0.13.0.min.js\", \"https://cdn.pydata.org/bokeh/release/bokeh-widgets-0.13.0.min.js\", \"https://cdn.pydata.org/bokeh/release/bokeh-tables-0.13.0.min.js\", \"https://cdn.pydata.org/bokeh/release/bokeh-gl-0.13.0.min.js\"];\n",
       "\n",
       "  var inline_js = [\n",
       "    function(Bokeh) {\n",
       "      Bokeh.set_log_level(\"info\");\n",
       "    },\n",
       "    \n",
       "    function(Bokeh) {\n",
       "      \n",
       "    },\n",
       "    function(Bokeh) {\n",
       "      console.log(\"Bokeh: injecting CSS: https://cdn.pydata.org/bokeh/release/bokeh-0.13.0.min.css\");\n",
       "      Bokeh.embed.inject_css(\"https://cdn.pydata.org/bokeh/release/bokeh-0.13.0.min.css\");\n",
       "      console.log(\"Bokeh: injecting CSS: https://cdn.pydata.org/bokeh/release/bokeh-widgets-0.13.0.min.css\");\n",
       "      Bokeh.embed.inject_css(\"https://cdn.pydata.org/bokeh/release/bokeh-widgets-0.13.0.min.css\");\n",
       "      console.log(\"Bokeh: injecting CSS: https://cdn.pydata.org/bokeh/release/bokeh-tables-0.13.0.min.css\");\n",
       "      Bokeh.embed.inject_css(\"https://cdn.pydata.org/bokeh/release/bokeh-tables-0.13.0.min.css\");\n",
       "    }\n",
       "  ];\n",
       "\n",
       "  function run_inline_js() {\n",
       "    \n",
       "    if ((root.Bokeh !== undefined) || (force === true)) {\n",
       "      for (var i = 0; i < inline_js.length; i++) {\n",
       "        inline_js[i].call(root, root.Bokeh);\n",
       "      }if (force === true) {\n",
       "        display_loaded();\n",
       "      }} else if (Date.now() < root._bokeh_timeout) {\n",
       "      setTimeout(run_inline_js, 100);\n",
       "    } else if (!root._bokeh_failed_load) {\n",
       "      console.log(\"Bokeh: BokehJS failed to load within specified timeout.\");\n",
       "      root._bokeh_failed_load = true;\n",
       "    } else if (force !== true) {\n",
       "      var cell = $(document.getElementById(\"74ae7a95-c8de-4d17-a412-d377e7824a86\")).parents('.cell').data().cell;\n",
       "      cell.output_area.append_execute_result(NB_LOAD_WARNING)\n",
       "    }\n",
       "\n",
       "  }\n",
       "\n",
       "  if (root._bokeh_is_loading === 0) {\n",
       "    console.log(\"Bokeh: BokehJS loaded, going straight to plotting\");\n",
       "    run_inline_js();\n",
       "  } else {\n",
       "    load_libs(js_urls, function() {\n",
       "      console.log(\"Bokeh: BokehJS plotting callback run at\", now());\n",
       "      run_inline_js();\n",
       "    });\n",
       "  }\n",
       "}(window));"
      ],
      "application/vnd.bokehjs_load.v0+json": "\n(function(root) {\n  function now() {\n    return new Date();\n  }\n\n  var force = true;\n\n  if (typeof (root._bokeh_onload_callbacks) === \"undefined\" || force === true) {\n    root._bokeh_onload_callbacks = [];\n    root._bokeh_is_loading = undefined;\n  }\n\n  \n\n  \n  if (typeof (root._bokeh_timeout) === \"undefined\" || force === true) {\n    root._bokeh_timeout = Date.now() + 5000;\n    root._bokeh_failed_load = false;\n  }\n\n  var NB_LOAD_WARNING = {'data': {'text/html':\n     \"<div style='background-color: #fdd'>\\n\"+\n     \"<p>\\n\"+\n     \"BokehJS does not appear to have successfully loaded. If loading BokehJS from CDN, this \\n\"+\n     \"may be due to a slow or bad network connection. Possible fixes:\\n\"+\n     \"</p>\\n\"+\n     \"<ul>\\n\"+\n     \"<li>re-rerun `output_notebook()` to attempt to load from CDN again, or</li>\\n\"+\n     \"<li>use INLINE resources instead, as so:</li>\\n\"+\n     \"</ul>\\n\"+\n     \"<code>\\n\"+\n     \"from bokeh.resources import INLINE\\n\"+\n     \"output_notebook(resources=INLINE)\\n\"+\n     \"</code>\\n\"+\n     \"</div>\"}};\n\n  function display_loaded() {\n    var el = document.getElementById(\"74ae7a95-c8de-4d17-a412-d377e7824a86\");\n    if (el != null) {\n      el.textContent = \"BokehJS is loading...\";\n    }\n    if (root.Bokeh !== undefined) {\n      if (el != null) {\n        el.textContent = \"BokehJS \" + root.Bokeh.version + \" successfully loaded.\";\n      }\n    } else if (Date.now() < root._bokeh_timeout) {\n      setTimeout(display_loaded, 100)\n    }\n  }\n\n\n  function run_callbacks() {\n    try {\n      root._bokeh_onload_callbacks.forEach(function(callback) { callback() });\n    }\n    finally {\n      delete root._bokeh_onload_callbacks\n    }\n    console.info(\"Bokeh: all callbacks have finished\");\n  }\n\n  function load_libs(js_urls, callback) {\n    root._bokeh_onload_callbacks.push(callback);\n    if (root._bokeh_is_loading > 0) {\n      console.log(\"Bokeh: BokehJS is being loaded, scheduling callback at\", now());\n      return null;\n    }\n    if (js_urls == null || js_urls.length === 0) {\n      run_callbacks();\n      return null;\n    }\n    console.log(\"Bokeh: BokehJS not loaded, scheduling load and callback at\", now());\n    root._bokeh_is_loading = js_urls.length;\n    for (var i = 0; i < js_urls.length; i++) {\n      var url = js_urls[i];\n      var s = document.createElement('script');\n      s.src = url;\n      s.async = false;\n      s.onreadystatechange = s.onload = function() {\n        root._bokeh_is_loading--;\n        if (root._bokeh_is_loading === 0) {\n          console.log(\"Bokeh: all BokehJS libraries loaded\");\n          run_callbacks()\n        }\n      };\n      s.onerror = function() {\n        console.warn(\"failed to load library \" + url);\n      };\n      console.log(\"Bokeh: injecting script tag for BokehJS library: \", url);\n      document.getElementsByTagName(\"head\")[0].appendChild(s);\n    }\n  };var element = document.getElementById(\"74ae7a95-c8de-4d17-a412-d377e7824a86\");\n  if (element == null) {\n    console.log(\"Bokeh: ERROR: autoload.js configured with elementid '74ae7a95-c8de-4d17-a412-d377e7824a86' but no matching script tag was found. \")\n    return false;\n  }\n\n  var js_urls = [\"https://cdn.pydata.org/bokeh/release/bokeh-0.13.0.min.js\", \"https://cdn.pydata.org/bokeh/release/bokeh-widgets-0.13.0.min.js\", \"https://cdn.pydata.org/bokeh/release/bokeh-tables-0.13.0.min.js\", \"https://cdn.pydata.org/bokeh/release/bokeh-gl-0.13.0.min.js\"];\n\n  var inline_js = [\n    function(Bokeh) {\n      Bokeh.set_log_level(\"info\");\n    },\n    \n    function(Bokeh) {\n      \n    },\n    function(Bokeh) {\n      console.log(\"Bokeh: injecting CSS: https://cdn.pydata.org/bokeh/release/bokeh-0.13.0.min.css\");\n      Bokeh.embed.inject_css(\"https://cdn.pydata.org/bokeh/release/bokeh-0.13.0.min.css\");\n      console.log(\"Bokeh: injecting CSS: https://cdn.pydata.org/bokeh/release/bokeh-widgets-0.13.0.min.css\");\n      Bokeh.embed.inject_css(\"https://cdn.pydata.org/bokeh/release/bokeh-widgets-0.13.0.min.css\");\n      console.log(\"Bokeh: injecting CSS: https://cdn.pydata.org/bokeh/release/bokeh-tables-0.13.0.min.css\");\n      Bokeh.embed.inject_css(\"https://cdn.pydata.org/bokeh/release/bokeh-tables-0.13.0.min.css\");\n    }\n  ];\n\n  function run_inline_js() {\n    \n    if ((root.Bokeh !== undefined) || (force === true)) {\n      for (var i = 0; i < inline_js.length; i++) {\n        inline_js[i].call(root, root.Bokeh);\n      }if (force === true) {\n        display_loaded();\n      }} else if (Date.now() < root._bokeh_timeout) {\n      setTimeout(run_inline_js, 100);\n    } else if (!root._bokeh_failed_load) {\n      console.log(\"Bokeh: BokehJS failed to load within specified timeout.\");\n      root._bokeh_failed_load = true;\n    } else if (force !== true) {\n      var cell = $(document.getElementById(\"74ae7a95-c8de-4d17-a412-d377e7824a86\")).parents('.cell').data().cell;\n      cell.output_area.append_execute_result(NB_LOAD_WARNING)\n    }\n\n  }\n\n  if (root._bokeh_is_loading === 0) {\n    console.log(\"Bokeh: BokehJS loaded, going straight to plotting\");\n    run_inline_js();\n  } else {\n    load_libs(js_urls, function() {\n      console.log(\"Bokeh: BokehJS plotting callback run at\", now());\n      run_inline_js();\n    });\n  }\n}(window));"
     },
     "metadata": {},
     "output_type": "display_data"
    },
    {
     "data": {
      "text/html": [
       "\n",
       "\n",
       "\n",
       "\n",
       "\n",
       "\n",
       "  <div class=\"bk-root\" id=\"d1059675-7951-4264-807b-9f9d9bfe1ef4\"></div>\n"
      ]
     },
     "metadata": {},
     "output_type": "display_data"
    },
    {
     "data": {
      "application/javascript": [
       "(function(root) {\n",
       "  function embed_document(root) {\n",
       "    \n",
       "  var docs_json = {\"bc8f52f4-bc79-4c19-a10a-b6d7b5eb8434\":{\"roots\":{\"references\":[{\"attributes\":{},\"id\":\"a050460a-25a3-4c5d-98fa-d68c56a69a7b\",\"type\":\"LinearScale\"},{\"attributes\":{},\"id\":\"f0729240-a61e-4a28-aeb2-7cde5efb521a\",\"type\":\"UnionRenderers\"},{\"attributes\":{},\"id\":\"5d787eed-faf1-40cb-8284-0a0667516b81\",\"type\":\"Selection\"},{\"attributes\":{\"source\":{\"id\":\"94e1f41e-bd9f-4ed1-8683-88577134a805\",\"type\":\"ColumnDataSource\"}},\"id\":\"b500592e-b624-41ef-8742-d9d224efdc94\",\"type\":\"CDSView\"},{\"attributes\":{},\"id\":\"9c57672e-6e6e-49a1-a0b9-1380dd41fd1b\",\"type\":\"UnionRenderers\"},{\"attributes\":{\"data_source\":{\"id\":\"94e1f41e-bd9f-4ed1-8683-88577134a805\",\"type\":\"ColumnDataSource\"},\"glyph\":{\"id\":\"5638a276-b423-4047-a379-367900fb90f7\",\"type\":\"Square\"},\"hover_glyph\":null,\"muted_glyph\":null,\"nonselection_glyph\":{\"id\":\"b41f10f9-7404-43d1-b0de-b11600de4877\",\"type\":\"Square\"},\"selection_glyph\":null,\"view\":{\"id\":\"b500592e-b624-41ef-8742-d9d224efdc94\",\"type\":\"CDSView\"}},\"id\":\"20f3513c-81f4-44ec-b8a0-64909d78e85f\",\"type\":\"GlyphRenderer\"},{\"attributes\":{\"formatter\":{\"id\":\"5631ba0b-1711-414b-8af2-18d43f9765fc\",\"type\":\"BasicTickFormatter\"},\"plot\":{\"id\":\"1f1d4d5b-2e61-4c3d-ab98-68084deefc88\",\"subtype\":\"Figure\",\"type\":\"Plot\"},\"ticker\":{\"id\":\"ad611fc8-2a69-4edb-9335-1b60be6f8020\",\"type\":\"BasicTicker\"}},\"id\":\"489c5989-845e-4594-ac4b-56813338b6f6\",\"type\":\"LinearAxis\"},{\"attributes\":{\"callback\":null},\"id\":\"ac33d474-7bb1-4832-9fb7-12d02e8cef73\",\"type\":\"DataRange1d\"},{\"attributes\":{\"dimension\":1,\"grid_line_color\":{\"value\":null},\"plot\":{\"id\":\"1f1d4d5b-2e61-4c3d-ab98-68084deefc88\",\"subtype\":\"Figure\",\"type\":\"Plot\"},\"ticker\":{\"id\":\"6baebb18-a2e8-4ae9-865e-55c5c5565d65\",\"type\":\"BasicTicker\"}},\"id\":\"1e32a6df-c9c8-4e7e-8711-10f5b58f49d4\",\"type\":\"Grid\"},{\"attributes\":{},\"id\":\"ad611fc8-2a69-4edb-9335-1b60be6f8020\",\"type\":\"BasicTicker\"},{\"attributes\":{},\"id\":\"145e6aca-6c54-42cc-b1ac-bdd597549938\",\"type\":\"LinearScale\"},{\"attributes\":{\"callback\":null,\"data\":{\"x\":{\"__ndarray__\":\"npz+BgLR6z8AsDq8UPzYP6AbxBpj9ew/qD+oMDp94j8gbMLHvR/kPy7Hxi50U90/G0/tN0Qr6z9AYBNcpL/FP7LQiD/GLOY/rc7PtWfS6D/zdgsrxmzuPzQ36m1K0s4/aCtBH93DxD9ClRrzHsrkP/ivtvFvXMA/vD7WNw0s1j8wGw+oDV/rP1DbcqPH8aI/qEEHuqHK2j8g/GDDcY/IP8qj80pOot4/ON5nl5lvzz8iZQlErR7oPy7ALfhSKdk/UYd2nerv6D+gITOOlRO2P/gpwK5x2eU/ywMuBy7J5T9ImWvc3gm5P1RZQ2CbgsI/SXmn/NMk5j9YxVvDipPtP5B9dK39H7o/8HGIpKDIyj/Kuj3wmGjTP0ph27ND/No/9zzxWIgY4D//TCmogMjsPzDEea7By68/6P8yaAjNsz8o2IFJ1C/tP4GRxa79les/ILgBy9ln0T+Apo0UcMyMP/gCT4Ausb4/gYPxeJJ/6j/+S2TncWzePy6TD1rZ/+Q/mN8dgOhqwD+TY5S/M/HoP6lZIlnCt+k/AG4Mv2nK3T9es7VDhE7qP3xTujvd4Oo/5kfjnW0T3T/hq5VZtzngP7j5PbStG8g/mEv9si8w7D8J1bqEmkTiP+SF2QjA088/8B993vtayD9gKzgtKSuxP1C2tSvfpqg/IvkFZRpj4T9oArnX/ibXP2oL3KNFnNQ/aDZ1OqP/tD+oD1v8IcPoP1pH4Cu69dc/YPmDNuE9kD/v2RmNs9TgP9i5FOusEbk/YPzlrmDmmj+yCjOdV1rcP4DBNloZPa0/4kkFSNOV0D+wFG8NaCq8P0Qbt2C6Euw/RBUBFCX8xz85B/H7A3DhP9lkPPYSVOQ/AGDCH53ITj9efuLy0QDbP2DTdO2wIZo/tM6Z4DXk2z9yxpr19L/vPwtziAODuO8/uBlWdfl16T9gT3Z2Hm2pP4orW2JOWu8/2B9KPanoyz+Wf0kR7ZzUP74fmAsaaO8/mr9VjPVJ1z9ERJBtYDzkP+g6U7UMgb4/6CfB2llHsT/FS9TlxRbuPwjeBT3YT78/va598APJ5z8=\",\"dtype\":\"float64\",\"shape\":[100]},\"y\":{\"__ndarray__\":\"ci3fvGGd6z9GZxGfgK3TPwwZ3lFDPNA/fSDh9onU4z849bkC4+K0P7TuylrYZ9Y/pPoCT3QK5z/zOppoEV/uP7htKTyvuM0/gHtIFEydyT/S3KJtsCXoP9KfpKwcUt0/AL4CAem71z+k/xnGA67AP9B95shUFrU/GNLRMSVZzD8/8h6nRWfsP6j05k6par8/mu0TTJl+1z9iu3u8puruP1hVQ82CruY/P6rq7GQL7T/maXq8CVXtPwAghRvYCYU/wmwOa1UU3T+dhHlJoFXpP6gl6DzNrL0/vCFk0zGH3T8iazX5jrvSP+RATaxxfeo/yLV5wKxhzj9vCetQ2pTuP3aqDyKBLtI/+C2LkTxrzz8yIm+stHvdP0BxKFMpz+0/81Vhgx+Z7j9QOcaGnqDJP2Am2bpVQsA/xiWy4cfz6j9aVLMfZ3vaP8KKvMWkZ+Y/oKvAbVap6T+oZco/iy3KP20O9czFleE/qNaolzsQ1T+ivXIyPXTcP/AOzmhex7Y/En9G4y9B4z8Ie1zqf6fDP+i90MqoNtY/SMAXveBi6D9/2KW07CfhPz5fcPU9GO4/UIGmZIoq5D+YeYUIiArpP2ApnOyc7rg/0yjzBM9O6j98aAh1/XHPP/T1SvhZfNw/oq9L6xDS4j9ePlMis5PpP6yYslmaH8w/zFg1zqhjxz/gY3uKZDbJP+Twm1V6vuU/aKEzk3yE6z+gJL+m7UabPyA21wxJEdE/Dc6+TKRG6T/wfzLNa8XtP8LQA25GltE/DLCdkdOUwD9Eubo4FjfTP4RX/cqegcY/ismQfTho4T9QTkHbgTnSPxGwxL/hWOg/sLxoF0UZrD9eLb/+NcTUP0JUly+AF+o/XCsNiW9azz9yJX9BPDvmP6cQ9r+OKOc/4Ohs7/EevD8uHuIBLKLQP/5t8/cDh9s/1FOeRxTq5D8/recj21zoP2TpWEr6kc8/9jA+5ffh0z/8qebyEHHFPyAVvd5Pp7U/u5eq/J394D9YPFwQbsXeP2PqPi+pAuY/sHNmKnG3sD9ki14yUvHQP5zTW40DN+Q/FOZzI3E31z8=\",\"dtype\":\"float64\",\"shape\":[100]}},\"selected\":{\"id\":\"e4da42b1-fae4-4573-ab23-34cd0a0747c6\",\"type\":\"Selection\"},\"selection_policy\":{\"id\":\"f0729240-a61e-4a28-aeb2-7cde5efb521a\",\"type\":\"UnionRenderers\"}},\"id\":\"ab8f5e8e-7d07-43d5-b02f-8b1ab43460d0\",\"type\":\"ColumnDataSource\"},{\"attributes\":{\"bottom_units\":\"screen\",\"fill_alpha\":{\"value\":0.5},\"fill_color\":{\"value\":\"lightgrey\"},\"left_units\":\"screen\",\"level\":\"overlay\",\"line_alpha\":{\"value\":1.0},\"line_color\":{\"value\":\"black\"},\"line_dash\":[4,4],\"line_width\":{\"value\":2},\"plot\":null,\"render_mode\":\"css\",\"right_units\":\"screen\",\"top_units\":\"screen\"},\"id\":\"635dc37a-3b1a-4085-b42d-f5c2933d858e\",\"type\":\"BoxAnnotation\"},{\"attributes\":{},\"id\":\"1b4d5384-92c8-430a-9463-33ba695dd52e\",\"type\":\"BasicTickFormatter\"},{\"attributes\":{\"plot\":null,\"text\":\"Bokeh Markers\"},\"id\":\"1d8370dd-495b-4b86-abed-e514846efc12\",\"type\":\"Title\"},{\"attributes\":{\"formatter\":{\"id\":\"1b4d5384-92c8-430a-9463-33ba695dd52e\",\"type\":\"BasicTickFormatter\"},\"plot\":{\"id\":\"1f1d4d5b-2e61-4c3d-ab98-68084deefc88\",\"subtype\":\"Figure\",\"type\":\"Plot\"},\"ticker\":{\"id\":\"6baebb18-a2e8-4ae9-865e-55c5c5565d65\",\"type\":\"BasicTicker\"}},\"id\":\"3a10b344-6db7-44d2-b5cb-21542f964871\",\"type\":\"LinearAxis\"},{\"attributes\":{},\"id\":\"fc105661-e0d5-407f-8024-bd90b9111c6d\",\"type\":\"PanTool\"},{\"attributes\":{\"grid_line_color\":{\"value\":null},\"plot\":{\"id\":\"1f1d4d5b-2e61-4c3d-ab98-68084deefc88\",\"subtype\":\"Figure\",\"type\":\"Plot\"},\"ticker\":{\"id\":\"ad611fc8-2a69-4edb-9335-1b60be6f8020\",\"type\":\"BasicTicker\"}},\"id\":\"49ae00be-df08-4fc2-925e-c6ad4917583c\",\"type\":\"Grid\"},{\"attributes\":{\"background_fill_color\":{\"value\":\"#eeeeee\"},\"below\":[{\"id\":\"489c5989-845e-4594-ac4b-56813338b6f6\",\"type\":\"LinearAxis\"}],\"left\":[{\"id\":\"3a10b344-6db7-44d2-b5cb-21542f964871\",\"type\":\"LinearAxis\"}],\"renderers\":[{\"id\":\"489c5989-845e-4594-ac4b-56813338b6f6\",\"type\":\"LinearAxis\"},{\"id\":\"49ae00be-df08-4fc2-925e-c6ad4917583c\",\"type\":\"Grid\"},{\"id\":\"3a10b344-6db7-44d2-b5cb-21542f964871\",\"type\":\"LinearAxis\"},{\"id\":\"1e32a6df-c9c8-4e7e-8711-10f5b58f49d4\",\"type\":\"Grid\"},{\"id\":\"635dc37a-3b1a-4085-b42d-f5c2933d858e\",\"type\":\"BoxAnnotation\"},{\"id\":\"ae90eaee-e87b-46eb-8dbc-6c21b918762c\",\"type\":\"GlyphRenderer\"},{\"id\":\"20f3513c-81f4-44ec-b8a0-64909d78e85f\",\"type\":\"GlyphRenderer\"}],\"title\":{\"id\":\"1d8370dd-495b-4b86-abed-e514846efc12\",\"type\":\"Title\"},\"toolbar\":{\"id\":\"903e47c8-54e8-4cd9-970f-06d91ca3b2c7\",\"type\":\"Toolbar\"},\"toolbar_location\":null,\"x_range\":{\"id\":\"74f13f40-cfec-42be-95dd-0ac858a4936f\",\"type\":\"DataRange1d\"},\"x_scale\":{\"id\":\"a050460a-25a3-4c5d-98fa-d68c56a69a7b\",\"type\":\"LinearScale\"},\"y_range\":{\"id\":\"ac33d474-7bb1-4832-9fb7-12d02e8cef73\",\"type\":\"DataRange1d\"},\"y_scale\":{\"id\":\"145e6aca-6c54-42cc-b1ac-bdd597549938\",\"type\":\"LinearScale\"}},\"id\":\"1f1d4d5b-2e61-4c3d-ab98-68084deefc88\",\"subtype\":\"Figure\",\"type\":\"Plot\"},{\"attributes\":{},\"id\":\"3932e682-3174-4936-8255-d3e95e2a163e\",\"type\":\"HelpTool\"},{\"attributes\":{\"fill_alpha\":{\"value\":0.1},\"fill_color\":{\"value\":\"#1f77b4\"},\"line_alpha\":{\"value\":0.1},\"line_color\":{\"value\":\"#1f77b4\"},\"size\":{\"units\":\"screen\",\"value\":15},\"x\":{\"field\":\"x\"},\"y\":{\"field\":\"y\"}},\"id\":\"562f8c92-a42f-4620-9b05-e81fd789febb\",\"type\":\"Circle\"},{\"attributes\":{\"active_drag\":\"auto\",\"active_inspect\":\"auto\",\"active_multi\":null,\"active_scroll\":\"auto\",\"active_tap\":\"auto\",\"tools\":[{\"id\":\"fc105661-e0d5-407f-8024-bd90b9111c6d\",\"type\":\"PanTool\"},{\"id\":\"5e8b226d-87d4-4a8c-b588-1cff07501d68\",\"type\":\"WheelZoomTool\"},{\"id\":\"4572df68-c781-4084-bdfb-f298414cf851\",\"type\":\"BoxZoomTool\"},{\"id\":\"96e93b17-8cd6-4cf0-9e0b-f09615400161\",\"type\":\"SaveTool\"},{\"id\":\"d8eebfa0-4cf4-4dc5-83f8-ef132c965ee0\",\"type\":\"ResetTool\"},{\"id\":\"3932e682-3174-4936-8255-d3e95e2a163e\",\"type\":\"HelpTool\"}]},\"id\":\"903e47c8-54e8-4cd9-970f-06d91ca3b2c7\",\"type\":\"Toolbar\"},{\"attributes\":{},\"id\":\"6baebb18-a2e8-4ae9-865e-55c5c5565d65\",\"type\":\"BasicTicker\"},{\"attributes\":{\"fill_alpha\":{\"value\":0.5},\"fill_color\":{\"value\":\"blue\"},\"line_alpha\":{\"value\":0.5},\"line_color\":{\"value\":\"navy\"},\"size\":{\"units\":\"screen\",\"value\":15},\"x\":{\"field\":\"x\"},\"y\":{\"field\":\"y\"}},\"id\":\"4724abaa-6534-46c0-b766-b39b54de1ae4\",\"type\":\"Circle\"},{\"attributes\":{},\"id\":\"5e8b226d-87d4-4a8c-b588-1cff07501d68\",\"type\":\"WheelZoomTool\"},{\"attributes\":{\"callback\":null,\"data\":{\"x\":{\"__ndarray__\":\"UHXAGfwTtb84gLYw0HXIvzDbiYuLsrw/Rk6aSup21T9gx4PEEP7HPygp479qGb0/KEJykrt5tT9s+QL/W1TKP+x+EChH98I/YDDQSg0KvD9043iZarzdP2hvkHw4zcu/Av63fUGs0T8w6mzW1UawPzBGkohshtO/UkH0RhV83b/ofM6IcDWzP3TAGjbx18m/+rYsC+GT2T/gmOyyU+qsvwBGa+QGYdI/DJcFWQ0HyL9E7EUtdOLIP2iDnMhQWsO/kCKouyzZuT84iHf7QDu/v5jcuosVlN6/4OCZluD4kz/664UygiXbP0Klj///W94/hCmTI2061L+OXa6Ecb3RP7xmgi/p2tC/7HnGXyCGyT+sxeuc8DjBv4zsUvfjWdk/gAt20Wkysz8axZp3zgHfvzAkm3Voftg/lql6o+vQ0D9U+96u2BLbP5g7n5ixYsw/sPm55rxG3L+QScNSQqLMv9xrGD4gYMY/WPDQN3PMwD9gs0gIB7HBP6y3M6SS+t8/ULnpO+vC278aBDsl1xLcv25r5oyRjNk/nJ5Hlm2n1r+mgjK00NTdP8yj67F04sK/IMOLA/iGp7/gCFTFwQ3cP2gVEtn0j8o/eJHvDEys07/Yq9cr+x7Tv0J41Pjxgdi/wmjNqkXW1j/WHtHmod7VPyCZgpqhOdM/Tm6eHsQS0T80ILMh0jnTv7BuyJPL3Ns/oAfSZWKCoD/weRruw0jXv4CWkSwlgng/aJZLXKQUuj9I3ZPseQLMP/rn6m6pIN6/5MxvpYeFwL/w8pk/24igv5B7XASXRbM/1qImpjF63D/kLw9UoDHBPzQEL9HiGcc/zJYdvgIPzL9MNnTXotHOP3gJglK1z7c/Rv7sNYmy1T9A/tQOxrDCv9LA+e+BJ9M/wBOPY4Ea3L/gR3F4WvCWPxCd/KNPUtI/Mvce6rkv0L+oVossB9u8vzDBgtVERqs/lN/JIB9MxT/c5sHRl17Dv1CcSRGa1t4/YFPQZF2Nkb8WE3nguhDSP9TwZdaH7dm/GLLEdpsQub/u7HM6mVXfvwBG4VQxSFe/wEjkqbpex78=\",\"dtype\":\"float64\",\"shape\":[100]},\"y\":{\"__ndarray__\":\"AfBlVqlI6T+egJtKKAzxPzaegRgetOY/ROD9B6cF6z9d5DIX1HnlP9jzjJyRK+k/wtqDDDUe9z83pic9lcD1P7BzxrIrKPY/DsImiXJr5j/f2/R/0zjvP/Yq6fxWtfc/wcm1RCs/6D8b2CkTKb3mP/MYbEBk+OY/kEIRVS849T8mVKKZCST1P+zYV26grvc/eoDrF61V4D/Og7Ta7qDjP+7h1XuACPY/SuCO/1zY8T/aE5aoc6DzP3q5vHwu3vQ/xM94zJSp6z++7Q6/fP/2P4n/uPE7tus/pbSGUSZu4z9q5SDRTrHmP6mxsSAURPY/gGDF3lDj4z/mzMbq2OHxP6ANhVdd0uM/FlNTyuvo8z9Pbc89SgPpP/5jhMpqhfc/xp5Lr7QP5j8XmMZZP2fjP0htEv2BmuI/yMocntGj9j8uACWwczTyP64LzHfdEOM/MIEvnvdI5z/g9J29i1zsPyn5KO++B+I/NWVa1svt9j9oTl5Uufj0PzY/zK+ZPO0/UNWsDK0B8T+00XWydO/xP9rFPUucXOM/Fl54Z5Dw9j+VZG1aBcTyP0VjdYbfRuE/XL3MjG2R8j8fsFxg3m/gPxRtV/VYSvU/NiqNxGtE9T9XgEqSse/xP5zqXX4YyeQ/UDkmPzkz8z9yjpPpnl/1P3VDi3e86e4/W/9nQmjD8z9MN5uOeRXoP/ClfE63pfA/93SEEC+M7D8E49zkci30P72H2a45BfU/jL4RUuPv9D8zLUh3a5PiP/k8cgy6yPU/3OQpLe+85T9lAfFX/+LoP8OxIbVJIeM/jpLmmf8y8j+uuukynAfiPx45vC9t//M/9kbr13dg9T/OL3fN5evwP/6n2+NWl/c/BSLS1lYn6z/NMsXPGBTmP/Ym2yv3uO8/uJN1mggY8j/0m/LnDA7wPy6Wc41tbeY/2idFiASR8z9xMfaD5JbjP6Dz4kaD6PE/mYn5ILdk6D/eDfVh8QfzP3RXf9+XQOo/PqtXryiV4D/a0HE1Ncb1P6D/KgLgs+k/59/5Gswl8D+SwnnZiIDyP8ueVHPiH/U/8EKfBm3+8j8=\",\"dtype\":\"float64\",\"shape\":[100]}},\"selected\":{\"id\":\"5d787eed-faf1-40cb-8284-0a0667516b81\",\"type\":\"Selection\"},\"selection_policy\":{\"id\":\"9c57672e-6e6e-49a1-a0b9-1380dd41fd1b\",\"type\":\"UnionRenderers\"}},\"id\":\"94e1f41e-bd9f-4ed1-8683-88577134a805\",\"type\":\"ColumnDataSource\"},{\"attributes\":{},\"id\":\"96e93b17-8cd6-4cf0-9e0b-f09615400161\",\"type\":\"SaveTool\"},{\"attributes\":{\"source\":{\"id\":\"ab8f5e8e-7d07-43d5-b02f-8b1ab43460d0\",\"type\":\"ColumnDataSource\"}},\"id\":\"d1d1f8b2-1f69-4aba-906a-95e2120c7e2a\",\"type\":\"CDSView\"},{\"attributes\":{},\"id\":\"5631ba0b-1711-414b-8af2-18d43f9765fc\",\"type\":\"BasicTickFormatter\"},{\"attributes\":{},\"id\":\"e4da42b1-fae4-4573-ab23-34cd0a0747c6\",\"type\":\"Selection\"},{\"attributes\":{\"fill_alpha\":{\"value\":0.5},\"fill_color\":{\"value\":\"orange\"},\"line_alpha\":{\"value\":0.5},\"line_color\":{\"value\":\"navy\"},\"size\":{\"units\":\"screen\",\"value\":15},\"x\":{\"field\":\"x\"},\"y\":{\"field\":\"y\"}},\"id\":\"5638a276-b423-4047-a379-367900fb90f7\",\"type\":\"Square\"},{\"attributes\":{\"fill_alpha\":{\"value\":0.1},\"fill_color\":{\"value\":\"#1f77b4\"},\"line_alpha\":{\"value\":0.1},\"line_color\":{\"value\":\"#1f77b4\"},\"size\":{\"units\":\"screen\",\"value\":15},\"x\":{\"field\":\"x\"},\"y\":{\"field\":\"y\"}},\"id\":\"b41f10f9-7404-43d1-b0de-b11600de4877\",\"type\":\"Square\"},{\"attributes\":{\"callback\":null},\"id\":\"74f13f40-cfec-42be-95dd-0ac858a4936f\",\"type\":\"DataRange1d\"},{\"attributes\":{\"overlay\":{\"id\":\"635dc37a-3b1a-4085-b42d-f5c2933d858e\",\"type\":\"BoxAnnotation\"}},\"id\":\"4572df68-c781-4084-bdfb-f298414cf851\",\"type\":\"BoxZoomTool\"},{\"attributes\":{\"data_source\":{\"id\":\"ab8f5e8e-7d07-43d5-b02f-8b1ab43460d0\",\"type\":\"ColumnDataSource\"},\"glyph\":{\"id\":\"4724abaa-6534-46c0-b766-b39b54de1ae4\",\"type\":\"Circle\"},\"hover_glyph\":null,\"muted_glyph\":null,\"nonselection_glyph\":{\"id\":\"562f8c92-a42f-4620-9b05-e81fd789febb\",\"type\":\"Circle\"},\"selection_glyph\":null,\"view\":{\"id\":\"d1d1f8b2-1f69-4aba-906a-95e2120c7e2a\",\"type\":\"CDSView\"}},\"id\":\"ae90eaee-e87b-46eb-8dbc-6c21b918762c\",\"type\":\"GlyphRenderer\"},{\"attributes\":{},\"id\":\"d8eebfa0-4cf4-4dc5-83f8-ef132c965ee0\",\"type\":\"ResetTool\"}],\"root_ids\":[\"1f1d4d5b-2e61-4c3d-ab98-68084deefc88\"]},\"title\":\"Bokeh Application\",\"version\":\"0.13.0\"}};\n",
       "  var render_items = [{\"docid\":\"bc8f52f4-bc79-4c19-a10a-b6d7b5eb8434\",\"roots\":{\"1f1d4d5b-2e61-4c3d-ab98-68084deefc88\":\"d1059675-7951-4264-807b-9f9d9bfe1ef4\"}}];\n",
       "  root.Bokeh.embed.embed_items_notebook(docs_json, render_items);\n",
       "\n",
       "  }\n",
       "  if (root.Bokeh !== undefined) {\n",
       "    embed_document(root);\n",
       "  } else {\n",
       "    var attempts = 0;\n",
       "    var timer = setInterval(function(root) {\n",
       "      if (root.Bokeh !== undefined) {\n",
       "        embed_document(root);\n",
       "        clearInterval(timer);\n",
       "      }\n",
       "      attempts++;\n",
       "      if (attempts > 100) {\n",
       "        console.log(\"Bokeh: ERROR: Unable to run BokehJS code because BokehJS library is missing\")\n",
       "        clearInterval(timer);\n",
       "      }\n",
       "    }, 10, root)\n",
       "  }\n",
       "})(window);"
      ],
      "application/vnd.bokehjs_exec.v0+json": ""
     },
     "metadata": {
      "application/vnd.bokehjs_exec.v0+json": {
       "id": "1f1d4d5b-2e61-4c3d-ab98-68084deefc88"
      }
     },
     "output_type": "display_data"
    }
   ],
   "source": [
    "# For random points\n",
    "import numpy as np\n",
    "\n",
    "# Plotting using Bokeh\n",
    "from bokeh.plotting import figure, show, output_notebook\n",
    "\n",
    "# Show in notebook.\n",
    "output_notebook()\n",
    "\n",
    "# Build a figure\n",
    "p = figure(title=\"Bokeh Markers\", toolbar_location=None)\n",
    "p.grid.grid_line_color = None\n",
    "p.background_fill_color = \"#eeeeee\"\n",
    "\n",
    "def mscatter(p, x, y, marker, fill):\n",
    "    p.scatter(x, y, marker=marker, size=15,\n",
    "              line_color=\"navy\", fill_color=fill, alpha=0.5)\n",
    "\n",
    "# Number of datapoints\n",
    "N = 100\n",
    "\n",
    "# First cluster\n",
    "X1 = np.random.random(100)\n",
    "Y1 = np.random.random(100)\n",
    "\n",
    "# Second Cluster\n",
    "X2 = np.random.random(100) - 1/2\n",
    "Y2 = np.random.random(100) + 1/2\n",
    "    \n",
    "# Throw in clusters\n",
    "mscatter(p, X1, Y1, \"circle\", \"blue\")\n",
    "mscatter(p, X2, Y2, \"square\", \"orange\")\n",
    "\n",
    "# # A line separating them\n",
    "# X = np.linspace(-2,2,100)\n",
    "# Y = 2*X**2\n",
    "# p.line(X,Y, line_color='red')\n",
    "show(p)"
   ]
  },
  {
   "cell_type": "markdown",
   "metadata": {},
   "source": [
    "Let's go ahead and build a classification model."
   ]
  },
  {
   "cell_type": "code",
   "execution_count": 3,
   "metadata": {},
   "outputs": [
    {
     "name": "stderr",
     "output_type": "stream",
     "text": [
      "/home/muveexu/anaconda3/lib/python3.6/site-packages/sklearn/linear_model/logistic.py:432: FutureWarning: Default solver will be changed to 'lbfgs' in 0.22. Specify a solver to silence this warning.\n",
      "  FutureWarning)\n"
     ]
    },
    {
     "data": {
      "text/plain": [
       "LogisticRegression(C=1.0, class_weight=None, dual=False, fit_intercept=True,\n",
       "          intercept_scaling=1, max_iter=100, multi_class='warn',\n",
       "          n_jobs=None, penalty='l2', random_state=None, solver='warn',\n",
       "          tol=0.0001, verbose=0, warm_start=False)"
      ]
     },
     "execution_count": 3,
     "metadata": {},
     "output_type": "execute_result"
    }
   ],
   "source": [
    "# This is just ML magic\n",
    "from sklearn import linear_model\n",
    "\n",
    "# Create a logistic regression object\n",
    "logreg = linear_model.LogisticRegression()\n",
    "\n",
    "# Combine all data\n",
    "X = np.append(X1,X2) # X-coords mashed together\n",
    "Y = np.append(Y1,Y2) # Y-coords mashed together\n",
    "features = np.array([X,Y]).transpose() # All data in an array, transposed for the right shape\n",
    "\n",
    "# Create labels\n",
    "T = 100*[1] + 100*[0] # Label ordering is important\n",
    "\n",
    "# Train the model\n",
    "logreg.fit(features,T)"
   ]
  },
  {
   "cell_type": "markdown",
   "metadata": {},
   "source": [
    "Now we must grab the predicted probabilities. Let's do it on new data."
   ]
  },
  {
   "cell_type": "code",
   "execution_count": 4,
   "metadata": {},
   "outputs": [
    {
     "data": {
      "text/plain": [
       "((200, 2), 200)"
      ]
     },
     "execution_count": 4,
     "metadata": {},
     "output_type": "execute_result"
    }
   ],
   "source": [
    "features.shape, len(T)"
   ]
  },
  {
   "cell_type": "code",
   "execution_count": 5,
   "metadata": {},
   "outputs": [],
   "source": [
    "# First cluster\n",
    "X1 = np.random.random(100)\n",
    "Y1 = np.random.random(100)\n",
    "\n",
    "# Second Cluster\n",
    "X2 = np.random.random(100) - 1/2\n",
    "Y2 = np.random.random(100) + 1/2\n",
    "\n",
    "# Combining data\n",
    "X = np.append(X1,X2)\n",
    "Y = np.append(Y1,Y2)\n",
    "features = np.array([X,Y]).transpose()\n",
    "\n",
    "# (Leave labels as before)\n",
    "\n",
    "# Run the model on our new data...\n",
    "\n",
    "# Mini-Exercise:\n",
    "\n",
    "# We are predicting probabilities.\n",
    "# Search LogisticRegression documentation on\n",
    "# the Sklearn page to see how a prediction is made.\n",
    "\n",
    "pred = logreg.predict_proba(features)\n",
    "\n",
    "# This function computes the p-r values for us\n",
    "from sklearn.metrics import precision_recall_curve\n",
    "\n",
    "precision, recall, thresholds = precision_recall_curve(T,pred[:,1])"
   ]
  },
  {
   "cell_type": "markdown",
   "metadata": {},
   "source": [
    "*Precision-Recall Curve*\n",
    "\n",
    "Now, let's look at a precision-recall curve for our classifier."
   ]
  },
  {
   "cell_type": "code",
   "execution_count": 6,
   "metadata": {},
   "outputs": [
    {
     "data": {
      "text/html": [
       "\n",
       "\n",
       "\n",
       "\n",
       "\n",
       "\n",
       "  <div class=\"bk-root\" id=\"21268174-1ade-4d4e-87ad-cd4033b41436\"></div>\n"
      ]
     },
     "metadata": {},
     "output_type": "display_data"
    },
    {
     "data": {
      "application/javascript": [
       "(function(root) {\n",
       "  function embed_document(root) {\n",
       "    \n",
       "  var docs_json = {\"da2e4ba4-05ed-403d-a214-98394f1216c8\":{\"roots\":{\"references\":[{\"attributes\":{},\"id\":\"eb8b7cc7-a0f1-4156-8967-693af6c01433\",\"type\":\"PanTool\"},{\"attributes\":{\"active_drag\":\"auto\",\"active_inspect\":\"auto\",\"active_multi\":null,\"active_scroll\":\"auto\",\"active_tap\":\"auto\",\"tools\":[{\"id\":\"eb8b7cc7-a0f1-4156-8967-693af6c01433\",\"type\":\"PanTool\"},{\"id\":\"72be8265-f885-4e85-b8b8-aa3717e5ab68\",\"type\":\"WheelZoomTool\"},{\"id\":\"da10bca1-f80e-4ce3-b6d9-134b35b23388\",\"type\":\"BoxZoomTool\"},{\"id\":\"a5bf6309-5d86-4843-850b-7e5f5c46b294\",\"type\":\"SaveTool\"},{\"id\":\"37e6f9d2-f4bd-4c9c-a249-1b2e709cd96e\",\"type\":\"ResetTool\"},{\"id\":\"cc6aa6c2-58ec-418c-9864-55d944751284\",\"type\":\"HelpTool\"}]},\"id\":\"d71f6604-81de-4040-9db2-b29c078fe917\",\"type\":\"Toolbar\"},{\"attributes\":{},\"id\":\"8664bf35-cf16-4741-93fb-00c3949e87ea\",\"type\":\"BasicTickFormatter\"},{\"attributes\":{},\"id\":\"ee063c9f-5782-46d7-b367-8beb4df681cb\",\"type\":\"BasicTickFormatter\"},{\"attributes\":{},\"id\":\"72be8265-f885-4e85-b8b8-aa3717e5ab68\",\"type\":\"WheelZoomTool\"},{\"attributes\":{\"data_source\":{\"id\":\"b81e98fb-81d8-4bf1-a0b2-ce080dd1c51d\",\"type\":\"ColumnDataSource\"},\"glyph\":{\"id\":\"4c51d531-c19e-4e3e-896a-3c6ceb10ebe5\",\"type\":\"Line\"},\"hover_glyph\":null,\"muted_glyph\":null,\"nonselection_glyph\":{\"id\":\"30a984c6-7d96-4d81-80e8-325e865f4833\",\"type\":\"Line\"},\"selection_glyph\":null,\"view\":{\"id\":\"ce6b3c94-5a52-49ab-bb3a-5ca82d8870b2\",\"type\":\"CDSView\"}},\"id\":\"d113335f-f8b7-4650-a819-031b7155247f\",\"type\":\"GlyphRenderer\"},{\"attributes\":{\"overlay\":{\"id\":\"0061f91d-3d2a-47bf-b5de-18409d81e355\",\"type\":\"BoxAnnotation\"}},\"id\":\"da10bca1-f80e-4ce3-b6d9-134b35b23388\",\"type\":\"BoxZoomTool\"},{\"attributes\":{\"below\":[{\"id\":\"67d45dbd-c210-4c6b-ae5d-431d6ab7ac6c\",\"type\":\"LinearAxis\"}],\"left\":[{\"id\":\"a461a674-0f8d-4ebb-a56d-68bee014afae\",\"type\":\"LinearAxis\"}],\"plot_height\":400,\"plot_width\":400,\"renderers\":[{\"id\":\"67d45dbd-c210-4c6b-ae5d-431d6ab7ac6c\",\"type\":\"LinearAxis\"},{\"id\":\"66919c16-be82-4b31-835e-8087a3eaa0bf\",\"type\":\"Grid\"},{\"id\":\"a461a674-0f8d-4ebb-a56d-68bee014afae\",\"type\":\"LinearAxis\"},{\"id\":\"30960af0-c4cc-4618-96e2-36d9e6d31226\",\"type\":\"Grid\"},{\"id\":\"0061f91d-3d2a-47bf-b5de-18409d81e355\",\"type\":\"BoxAnnotation\"},{\"id\":\"d113335f-f8b7-4650-a819-031b7155247f\",\"type\":\"GlyphRenderer\"}],\"title\":{\"id\":\"81da1323-6acd-4c73-9e70-b74ea397a261\",\"type\":\"Title\"},\"toolbar\":{\"id\":\"d71f6604-81de-4040-9db2-b29c078fe917\",\"type\":\"Toolbar\"},\"x_range\":{\"id\":\"166225ce-152d-4d97-a88e-422875724717\",\"type\":\"DataRange1d\"},\"x_scale\":{\"id\":\"6da8aeb4-d704-4bf6-bbac-10d54d39f585\",\"type\":\"LinearScale\"},\"y_range\":{\"id\":\"f24aa62c-23a7-4bef-ab05-ef21acffe99e\",\"type\":\"DataRange1d\"},\"y_scale\":{\"id\":\"1cb63033-b4a3-4b74-9c47-d9e7a920f069\",\"type\":\"LinearScale\"}},\"id\":\"818eef37-0d3a-4734-be85-08efddb4262a\",\"subtype\":\"Figure\",\"type\":\"Plot\"},{\"attributes\":{\"line_color\":\"#1f77b4\",\"x\":{\"field\":\"x\"},\"y\":{\"field\":\"y\"}},\"id\":\"4c51d531-c19e-4e3e-896a-3c6ceb10ebe5\",\"type\":\"Line\"},{\"attributes\":{},\"id\":\"a5bf6309-5d86-4843-850b-7e5f5c46b294\",\"type\":\"SaveTool\"},{\"attributes\":{\"dimension\":1,\"plot\":{\"id\":\"818eef37-0d3a-4734-be85-08efddb4262a\",\"subtype\":\"Figure\",\"type\":\"Plot\"},\"ticker\":{\"id\":\"cdb5b794-84a8-4a3e-bdb6-be16fb92a4fd\",\"type\":\"BasicTicker\"}},\"id\":\"30960af0-c4cc-4618-96e2-36d9e6d31226\",\"type\":\"Grid\"},{\"attributes\":{\"plot\":null,\"text\":\"\"},\"id\":\"81da1323-6acd-4c73-9e70-b74ea397a261\",\"type\":\"Title\"},{\"attributes\":{\"callback\":null,\"data\":{\"x\":{\"__ndarray__\":\"AAAAAAAA8D+uR+F6FK7vP65H4XoUru8/rkfhehSu7z+uR+F6FK7vP65H4XoUru8/rkfhehSu7z+uR+F6FK7vP65H4XoUru8/rkfhehSu7z+uR+F6FK7vP65H4XoUru8/rkfhehSu7z+uR+F6FK7vP65H4XoUru8/rkfhehSu7z+uR+F6FK7vP65H4XoUru8/rkfhehSu7z+uR+F6FK7vP1yPwvUoXO8/XI/C9Shc7z8K16NwPQrvPwrXo3A9Cu8/CtejcD0K7z+4HoXrUbjuP2ZmZmZmZu4/ZmZmZmZm7j8UrkfhehTuPxSuR+F6FO4/FK5H4XoU7j/D9Shcj8LtP8P1KFyPwu0/w/UoXI/C7T/D9Shcj8LtP3E9CtejcO0/cT0K16Nw7T9xPQrXo3DtP3E9CtejcO0/cT0K16Nw7T8fhetRuB7tPx+F61G4Hu0/H4XrUbge7T8fhetRuB7tPx+F61G4Hu0/H4XrUbge7T/NzMzMzMzsP3sUrkfheuw/KVyPwvUo7D/Xo3A9CtfrP9ejcD0K1+s/16NwPQrX6z/Xo3A9CtfrP4XrUbgehes/MzMzMzMz6z/hehSuR+HqP4/C9Shcj+o/PQrXo3A96j89CtejcD3qPz0K16NwPeo/7FG4HoXr6T+amZmZmZnpP5qZmZmZmek/SOF6FK5H6T/2KFyPwvXoP6RwPQrXo+g/UrgehetR6D8AAAAAAADoP65H4XoUruc/XI/C9Shc5z8K16NwPQrnP7gehetRuOY/ZmZmZmZm5j8UrkfhehTmP8P1KFyPwuU/cT0K16Nw5T8fhetRuB7lPx+F61G4HuU/zczMzMzM5D97FK5H4XrkPylcj8L1KOQ/KVyPwvUo5D/Xo3A9CtfjP4XrUbgeheM/MzMzMzMz4z/hehSuR+HiP4/C9Shcj+I/PQrXo3A94j/sUbgehevhP5qZmZmZmeE/SOF6FK5H4T/2KFyPwvXgP6RwPQrXo+A/UrgehetR4D8AAAAAAADgP1yPwvUoXN8/uB6F61G43j8UrkfhehTeP3E9CtejcN0/zczMzMzM3D8pXI/C9SjcP4XrUbgehds/4XoUrkfh2j89CtejcD3aP5qZmZmZmdk/9ihcj8L12D9SuB6F61HYP65H4XoUrtc/CtejcD0K1z9mZmZmZmbWP8P1KFyPwtU/H4XrUbge1T97FK5H4XrUP9ejcD0K19M/MzMzMzMz0z+PwvUoXI/SP+xRuB6F69E/SOF6FK5H0T+kcD0K16PQPwAAAAAAANA/uB6F61G4zj9xPQrXo3DNPylcj8L1KMw/4XoUrkfhyj+amZmZmZnJP1K4HoXrUcg/CtejcD0Kxz/D9Shcj8LFP3sUrkfhesQ/MzMzMzMzwz/sUbgehevBP6RwPQrXo8A/uB6F61G4vj8pXI/C9Si8P5qZmZmZmbk/CtejcD0Ktz97FK5H4Xq0P+xRuB6F67E/uB6F61G4rj+amZmZmZmpP3sUrkfheqQ/uB6F61G4nj97FK5H4XqUP3sUrkfheoQ/AAAAAAAAAAA=\",\"dtype\":\"float64\",\"shape\":[145]},\"y\":{\"__ndarray__\":\"juM4juM45j92Yid2YifmP+rJ+O1ST+Y/2qjvbNR35j8P6qAO6qDmPzByhgWXyuY/b3rTm9705j8POFI0xB/nP0tLS0tLS+c/d3d3d3d35z/aLfxqTKTnPx19c/TN0ec/AAAAAAAA6D9kb22Y5i7oP+iFXuiFXug/JO6IO+KO6D8AAAAAAMDoPzwej8fj8eg/SZIkSZIk6T/y0k1iEFjpP0oppZRSSuk/f1nvl/V+6T/BOtq8T3HpP0qFifcjp+k/3t3d3d3d6T8arNAZrNDpP/flsRVBw+k/up/7uZ/76T+E5Z5GWO7pP6OtBs8RKOo/LaazmM5i6j9qYaWnFlbqPyVJkiRJkuo/+awbTJHP6j8Oa9+w9g3rPyawaT9ZAus/JrSX0F5C6z8T6J26loPrP5Z9DqkJxus/nMAJnMAJ7D8AAAAAAADsP1AglZyXRew/jYyMjIyM7D/xjSgw6dTsPx+F61G4Hu0/Faj1KwVq7T9ZHxrrQ2PtP/2gowJfXO0/VVVVVVVV7T/i1O+5JU7tPzbqOxv1ne0/77333nvv7T9kIQtZyELuP97jPd7jPe4/juM4juM47j/jGc94xjPuPy+66KKLLu4/IJPiBTIp7j+hL+gL+oLuP9/e3t7e3u4/t23btm3b7j+U8EZT59fuPzgfg/MxOO8/sUgZeLo17z8zMzMzMzPvP2F+V4ubMO8/3/It3/It7z/irPyEOCvvP4fyGsprKO8/Jr9Y8osl7z8q8lk3mCLvP/nx48ePH+8/x3Ecx3Ec7z8o47dLPRnvP1/xFV/xFe8/8TNK/IwS7z8PDw8PDw/vPyI9UDm7he8/hA8++OCD7z8g+IEf+IHvPwAAAAAAgO8/AAAAAAAA8D8AAAAAAADwPwAAAAAAAPA/AAAAAAAA8D8AAAAAAADwPwAAAAAAAPA/AAAAAAAA8D8AAAAAAADwPwAAAAAAAPA/AAAAAAAA8D8AAAAAAADwPwAAAAAAAPA/AAAAAAAA8D8AAAAAAADwPwAAAAAAAPA/AAAAAAAA8D8AAAAAAADwPwAAAAAAAPA/AAAAAAAA8D8AAAAAAADwPwAAAAAAAPA/AAAAAAAA8D8AAAAAAADwPwAAAAAAAPA/AAAAAAAA8D8AAAAAAADwPwAAAAAAAPA/AAAAAAAA8D8AAAAAAADwPwAAAAAAAPA/AAAAAAAA8D8AAAAAAADwPwAAAAAAAPA/AAAAAAAA8D8AAAAAAADwPwAAAAAAAPA/AAAAAAAA8D8AAAAAAADwPwAAAAAAAPA/AAAAAAAA8D8AAAAAAADwPwAAAAAAAPA/AAAAAAAA8D8AAAAAAADwPwAAAAAAAPA/AAAAAAAA8D8AAAAAAADwPwAAAAAAAPA/AAAAAAAA8D8AAAAAAADwPwAAAAAAAPA/AAAAAAAA8D8AAAAAAADwPwAAAAAAAPA/AAAAAAAA8D8AAAAAAADwPwAAAAAAAPA/AAAAAAAA8D8AAAAAAADwPwAAAAAAAPA/AAAAAAAA8D8AAAAAAADwPwAAAAAAAPA/AAAAAAAA8D8=\",\"dtype\":\"float64\",\"shape\":[145]}},\"selected\":{\"id\":\"3dd7eb2c-33e4-49e6-a634-f930c0038227\",\"type\":\"Selection\"},\"selection_policy\":{\"id\":\"e7abb927-8334-48ec-8201-9a29d82fdb40\",\"type\":\"UnionRenderers\"}},\"id\":\"b81e98fb-81d8-4bf1-a0b2-ce080dd1c51d\",\"type\":\"ColumnDataSource\"},{\"attributes\":{\"callback\":null},\"id\":\"f24aa62c-23a7-4bef-ab05-ef21acffe99e\",\"type\":\"DataRange1d\"},{\"attributes\":{},\"id\":\"6da8aeb4-d704-4bf6-bbac-10d54d39f585\",\"type\":\"LinearScale\"},{\"attributes\":{},\"id\":\"1cb63033-b4a3-4b74-9c47-d9e7a920f069\",\"type\":\"LinearScale\"},{\"attributes\":{},\"id\":\"37e6f9d2-f4bd-4c9c-a249-1b2e709cd96e\",\"type\":\"ResetTool\"},{\"attributes\":{\"plot\":{\"id\":\"818eef37-0d3a-4734-be85-08efddb4262a\",\"subtype\":\"Figure\",\"type\":\"Plot\"},\"ticker\":{\"id\":\"89f7f167-2775-46a9-801e-08cf4c1ed6c2\",\"type\":\"BasicTicker\"}},\"id\":\"66919c16-be82-4b31-835e-8087a3eaa0bf\",\"type\":\"Grid\"},{\"attributes\":{},\"id\":\"89f7f167-2775-46a9-801e-08cf4c1ed6c2\",\"type\":\"BasicTicker\"},{\"attributes\":{},\"id\":\"cc6aa6c2-58ec-418c-9864-55d944751284\",\"type\":\"HelpTool\"},{\"attributes\":{},\"id\":\"cdb5b794-84a8-4a3e-bdb6-be16fb92a4fd\",\"type\":\"BasicTicker\"},{\"attributes\":{},\"id\":\"e7abb927-8334-48ec-8201-9a29d82fdb40\",\"type\":\"UnionRenderers\"},{\"attributes\":{\"formatter\":{\"id\":\"ee063c9f-5782-46d7-b367-8beb4df681cb\",\"type\":\"BasicTickFormatter\"},\"plot\":{\"id\":\"818eef37-0d3a-4734-be85-08efddb4262a\",\"subtype\":\"Figure\",\"type\":\"Plot\"},\"ticker\":{\"id\":\"cdb5b794-84a8-4a3e-bdb6-be16fb92a4fd\",\"type\":\"BasicTicker\"}},\"id\":\"a461a674-0f8d-4ebb-a56d-68bee014afae\",\"type\":\"LinearAxis\"},{\"attributes\":{\"formatter\":{\"id\":\"8664bf35-cf16-4741-93fb-00c3949e87ea\",\"type\":\"BasicTickFormatter\"},\"plot\":{\"id\":\"818eef37-0d3a-4734-be85-08efddb4262a\",\"subtype\":\"Figure\",\"type\":\"Plot\"},\"ticker\":{\"id\":\"89f7f167-2775-46a9-801e-08cf4c1ed6c2\",\"type\":\"BasicTicker\"}},\"id\":\"67d45dbd-c210-4c6b-ae5d-431d6ab7ac6c\",\"type\":\"LinearAxis\"},{\"attributes\":{\"line_alpha\":0.1,\"line_color\":\"#1f77b4\",\"x\":{\"field\":\"x\"},\"y\":{\"field\":\"y\"}},\"id\":\"30a984c6-7d96-4d81-80e8-325e865f4833\",\"type\":\"Line\"},{\"attributes\":{},\"id\":\"3dd7eb2c-33e4-49e6-a634-f930c0038227\",\"type\":\"Selection\"},{\"attributes\":{\"source\":{\"id\":\"b81e98fb-81d8-4bf1-a0b2-ce080dd1c51d\",\"type\":\"ColumnDataSource\"}},\"id\":\"ce6b3c94-5a52-49ab-bb3a-5ca82d8870b2\",\"type\":\"CDSView\"},{\"attributes\":{\"bottom_units\":\"screen\",\"fill_alpha\":{\"value\":0.5},\"fill_color\":{\"value\":\"lightgrey\"},\"left_units\":\"screen\",\"level\":\"overlay\",\"line_alpha\":{\"value\":1.0},\"line_color\":{\"value\":\"black\"},\"line_dash\":[4,4],\"line_width\":{\"value\":2},\"plot\":null,\"render_mode\":\"css\",\"right_units\":\"screen\",\"top_units\":\"screen\"},\"id\":\"0061f91d-3d2a-47bf-b5de-18409d81e355\",\"type\":\"BoxAnnotation\"},{\"attributes\":{\"callback\":null},\"id\":\"166225ce-152d-4d97-a88e-422875724717\",\"type\":\"DataRange1d\"}],\"root_ids\":[\"818eef37-0d3a-4734-be85-08efddb4262a\"]},\"title\":\"Bokeh Application\",\"version\":\"0.13.0\"}};\n",
       "  var render_items = [{\"docid\":\"da2e4ba4-05ed-403d-a214-98394f1216c8\",\"roots\":{\"818eef37-0d3a-4734-be85-08efddb4262a\":\"21268174-1ade-4d4e-87ad-cd4033b41436\"}}];\n",
       "  root.Bokeh.embed.embed_items_notebook(docs_json, render_items);\n",
       "\n",
       "  }\n",
       "  if (root.Bokeh !== undefined) {\n",
       "    embed_document(root);\n",
       "  } else {\n",
       "    var attempts = 0;\n",
       "    var timer = setInterval(function(root) {\n",
       "      if (root.Bokeh !== undefined) {\n",
       "        embed_document(root);\n",
       "        clearInterval(timer);\n",
       "      }\n",
       "      attempts++;\n",
       "      if (attempts > 100) {\n",
       "        console.log(\"Bokeh: ERROR: Unable to run BokehJS code because BokehJS library is missing\")\n",
       "        clearInterval(timer);\n",
       "      }\n",
       "    }, 10, root)\n",
       "  }\n",
       "})(window);"
      ],
      "application/vnd.bokehjs_exec.v0+json": ""
     },
     "metadata": {
      "application/vnd.bokehjs_exec.v0+json": {
       "id": "818eef37-0d3a-4734-be85-08efddb4262a"
      }
     },
     "output_type": "display_data"
    }
   ],
   "source": [
    "p1 = figure(plot_width=400, plot_height=400)\n",
    "p1.line(recall,precision)\n",
    "show(p1)"
   ]
  },
  {
   "cell_type": "code",
   "execution_count": 7,
   "metadata": {},
   "outputs": [
    {
     "data": {
      "text/plain": [
       "array([0.87042722, 0.88988862, 0.87193986, 0.79793691, 0.95701416,\n",
       "       0.87362961, 0.80410977, 0.73869261, 0.7507648 , 0.796823  ,\n",
       "       0.92211681, 0.51748692, 0.79183242, 0.80413771, 0.86227986,\n",
       "       0.63814404, 0.83279709, 0.81614487, 0.85377016, 0.52288645,\n",
       "       0.75751014, 0.390913  , 0.98880828, 0.82155806, 0.96284137,\n",
       "       0.87529636, 0.95430418, 0.37231599, 0.62036826, 0.28787952,\n",
       "       0.74816272, 0.67486002, 0.72392009, 0.74786651, 0.9248842 ,\n",
       "       0.87662986, 0.94867158, 0.95269317, 0.84417082, 0.7919625 ,\n",
       "       0.95324181, 0.86463002, 0.95305268, 0.8543389 , 0.74603896,\n",
       "       0.85145466, 0.63263411, 0.93983184, 0.31963478, 0.95682708,\n",
       "       0.98667426, 0.91946841, 0.83384537, 0.76093682, 0.53635888,\n",
       "       0.92091319, 0.90795457, 0.96843794, 0.78210831, 0.79289874,\n",
       "       0.78627744, 0.93207208, 0.66643835, 0.97924725, 0.79369251,\n",
       "       0.95974551, 0.89933639, 0.83178106, 0.19008315, 0.79875736,\n",
       "       0.98496337, 0.97622527, 0.31072537, 0.68541678, 0.96843991,\n",
       "       0.9188677 , 0.61646007, 0.9446881 , 0.93226461, 0.45514436,\n",
       "       0.85433817, 0.73346053, 0.35924754, 0.58819477, 0.95396107,\n",
       "       0.95142855, 0.86200131, 0.94622311, 0.79509789, 0.95140514,\n",
       "       0.5292187 , 0.96297725, 0.57727228, 0.78009474, 0.76399922,\n",
       "       0.93473584, 0.715649  , 0.88515805, 0.29212334, 0.73059535,\n",
       "       0.22085706, 0.08706522, 0.47923268, 0.27475157, 0.02329512,\n",
       "       0.15635542, 0.09072546, 0.11519569, 0.17095808, 0.04355915,\n",
       "       0.11719315, 0.03146917, 0.22431816, 0.07582051, 0.1839293 ,\n",
       "       0.43028431, 0.38076908, 0.15346089, 0.15056774, 0.02970677,\n",
       "       0.63364903, 0.36064295, 0.16770554, 0.07875742, 0.29971875,\n",
       "       0.19323701, 0.40144513, 0.1868586 , 0.04038439, 0.18449651,\n",
       "       0.0809258 , 0.21944844, 0.63534357, 0.13977899, 0.0187432 ,\n",
       "       0.27854003, 0.01129522, 0.12313612, 0.27731077, 0.54702942,\n",
       "       0.13905697, 0.48198997, 0.2338912 , 0.03249921, 0.67011999,\n",
       "       0.01243478, 0.20355182, 0.37465506, 0.13065547, 0.17215972,\n",
       "       0.78776847, 0.05175031, 0.3902312 , 0.06256166, 0.20582015,\n",
       "       0.26318139, 0.3266987 , 0.40674749, 0.08618904, 0.20246333,\n",
       "       0.20449002, 0.47410171, 0.55477213, 0.18437123, 0.08147035,\n",
       "       0.2167171 , 0.15176304, 0.06493485, 0.0107073 , 0.20334358,\n",
       "       0.14197829, 0.45675149, 0.07866438, 0.13987098, 0.77643226,\n",
       "       0.06291543, 0.1336593 , 0.04455517, 0.04733395, 0.36755615,\n",
       "       0.08218481, 0.28930442, 0.210459  , 0.29282105, 0.04461872,\n",
       "       0.49810183, 0.07003264, 0.05329401, 0.40768246, 0.04416827,\n",
       "       0.01997855, 0.12036335, 0.11163922, 0.15193409, 0.06129121,\n",
       "       0.04067644, 0.05380934, 0.2019714 , 0.54936796, 0.20150169])"
      ]
     },
     "execution_count": 7,
     "metadata": {},
     "output_type": "execute_result"
    }
   ],
   "source": [
    "pred[:,1]"
   ]
  },
  {
   "cell_type": "markdown",
   "metadata": {},
   "source": [
    "The method `roc_curve` from `sklearn.metrics` provides the data for the [roc curve](https://en.wikipedia.org/wiki/Receiver_operating_characteristic)."
   ]
  },
  {
   "cell_type": "markdown",
   "metadata": {},
   "source": [
    "**Kernel Trick**\n",
    "\n",
    "Next, let's illustrate the so-called *kernel trick* in classification."
   ]
  },
  {
   "cell_type": "markdown",
   "metadata": {},
   "source": [
    "*SVM - Support Vector Machine*"
   ]
  },
  {
   "cell_type": "markdown",
   "metadata": {},
   "source": [
    "The SVM finds a *separating hyperplane*."
   ]
  },
  {
   "cell_type": "markdown",
   "metadata": {},
   "source": [
    "We want the hyperplane that gives the widest possible margin between the two classes. If the dataset is linearly separable, here's how that works: "
   ]
  },
  {
   "cell_type": "markdown",
   "metadata": {},
   "source": [
    "We want to compute two parallel hyperplanes:\n",
    "## $ H_0 = \\{ x \\mid \\color{blue}{w} \\cdot x + \\color{blue}{b} \\geq 1 \\} $\n",
    "## $ H_1 = \\{ x \\mid \\color{blue}{w} \\cdot x + \\color{blue}{b} \\leq -1 \\} $"
   ]
  },
  {
   "cell_type": "markdown",
   "metadata": {},
   "source": [
    "and we want them to be as far apart as possible subject to the constraint that all training examples lie in their union ($H_0 \\cup H_1$). This amounts to *minimizing* the norm $\\|w\\|$."
   ]
  },
  {
   "cell_type": "markdown",
   "metadata": {},
   "source": [
    "The *decision function* that actually gives our classifier is then given by, for example"
   ]
  },
  {
   "cell_type": "markdown",
   "metadata": {},
   "source": [
    "## $f_{\\color{blue}{w}}(x) = sign(\\color{blue}{w} \\cdot x + b)$"
   ]
  },
  {
   "cell_type": "markdown",
   "metadata": {},
   "source": [
    "*Linearly Inseparable*"
   ]
  },
  {
   "cell_type": "markdown",
   "metadata": {},
   "source": [
    "What if we can't separate the points? Or don't want to? We can introduce *slack variables* and use regularization to relax the strict separation condition (SVC does this). We can also map into a higher dimensional space where our dataset's image *is* strictly separable!"
   ]
  },
  {
   "cell_type": "code",
   "execution_count": 8,
   "metadata": {},
   "outputs": [
    {
     "data": {
      "text/html": [
       "\n",
       "\n",
       "\n",
       "\n",
       "\n",
       "\n",
       "  <div class=\"bk-root\" id=\"7538382a-a7f0-40bd-814d-ae264325aa9b\"></div>\n"
      ]
     },
     "metadata": {},
     "output_type": "display_data"
    },
    {
     "data": {
      "application/javascript": [
       "(function(root) {\n",
       "  function embed_document(root) {\n",
       "    \n",
       "  var docs_json = {\"429faa20-78a7-4e52-9146-b02ead496715\":{\"roots\":{\"references\":[{\"attributes\":{},\"id\":\"11e23c06-07c3-48f3-904a-bf2dde86ea0d\",\"type\":\"BasicTicker\"},{\"attributes\":{\"formatter\":{\"id\":\"62630b85-9794-44aa-9e70-0b2d252668d5\",\"type\":\"BasicTickFormatter\"},\"plot\":{\"id\":\"015f3ef1-1cd0-4aba-8559-fa0264eee439\",\"subtype\":\"Figure\",\"type\":\"Plot\"},\"ticker\":{\"id\":\"ba2db3a4-39b1-4938-a5a1-65c5e4a6a011\",\"type\":\"BasicTicker\"}},\"id\":\"61158a17-c301-4be7-9887-ec79dce4b31f\",\"type\":\"LinearAxis\"},{\"attributes\":{},\"id\":\"ba2db3a4-39b1-4938-a5a1-65c5e4a6a011\",\"type\":\"BasicTicker\"},{\"attributes\":{\"dimension\":1,\"grid_line_color\":{\"value\":null},\"plot\":{\"id\":\"015f3ef1-1cd0-4aba-8559-fa0264eee439\",\"subtype\":\"Figure\",\"type\":\"Plot\"},\"ticker\":{\"id\":\"ba2db3a4-39b1-4938-a5a1-65c5e4a6a011\",\"type\":\"BasicTicker\"}},\"id\":\"91dde3b9-ef61-41c9-ac2f-becd4444823d\",\"type\":\"Grid\"},{\"attributes\":{\"fill_alpha\":{\"value\":0.1},\"fill_color\":{\"value\":\"#1f77b4\"},\"line_alpha\":{\"value\":0.1},\"line_color\":{\"value\":\"#1f77b4\"},\"size\":{\"units\":\"screen\",\"value\":15},\"x\":{\"field\":\"x\"},\"y\":{\"field\":\"y\"}},\"id\":\"8a28e289-28ae-44c8-9ed0-386213133e71\",\"type\":\"Circle\"},{\"attributes\":{\"callback\":null,\"data\":{\"x\":{\"__ndarray__\":\"AAAAAAAAAMAFav1KgVr/vwrU+pUCtf6/ED744IMP/r8VqPUrBWr9vxoS83aGxPy/H3zwwQcf/L8k5u0MiXn7vylQ61cK1Pq/Lrrooosu+r80JObtDIn5vzmO4ziO4/i/Pvjggw8++L9DYt7OkJj3v0jM2xkS8/a/TjbZZJNN9r9SoNavFKj1v1gK1PqVAvW/XXTRRRdd9L9i3s6QmLfzv2dIzNsZEvO/bLLJJpts8r9yHMdxHMfxv3aGxLydIfG/fPDBBx988L8CtX6lQK3vvwyJeTtDYu6/Fl100UUX7b8gMW9nSMzrvywFav1Kgeq/Ntlkk0026b9ArV8pUOvnv0qBWr9SoOa/VFVVVVVV5b9eKVDrVwrkv2j9SoFav+K/dNFFF1104b9+pUCtXyngvxDzdobEvN2/JJtssskm2784Q2LezpDYv0zrVwrU+tW/ZJNNNtlk0794O0Ni3s7QvxjHcRzHccy/QBdddNFFx79oZ0jM2xnCvyBvZ0jM27m/AB988MEHr79Av1Kg1q+Uv4C/UqDWr5Q/QB988MEHrz9Ab2dIzNu5P3BnSMzbGcI/UBdddNFFxz8gx3Ecx3HMP4A7Q2LeztA/aJNNNtlk0z9Q61cK1PrVP0BDYt7OkNg/KJtssskm2z8Y83aGxLzdP4ClQK1fKeA/eNFFF1104T9s/UqBWr/iP2ApUOtXCuQ/WFVVVVVV5T9MgVq/UqDmP0StXylQ6+c/ONlkk0026T8wBWr9SoHqPyQxb2dIzOs/GF100UUX7T8QiXk7Q2LuPwS1fqVAre8/fvDBBx988D94hsS8nSHxP3Icx3Ecx/E/brLJJpts8j9oSMzbGRLzP2TezpCYt/M/XnTRRRdd9D9aCtT6lQL1P1Sg1q8UqPU/TjbZZJNN9j9KzNsZEvP2P0Ri3s6QmPc/QPjggw8++D86juM4juP4PzYk5u0Mifk/MLrooosu+j8qUOtXCtT6Pybm7QyJefs/IHzwwQcf/D8cEvN2hsT8Pxao9SsFav0/ED744IMP/j8M1PqVArX+PwZq/UqBWv8/AAAAAAAAAEA=\",\"dtype\":\"float64\",\"shape\":[100]},\"y\":{\"__ndarray__\":\"nDJ8oIQwG0AwhPRiUPUWQMSPj2NzZhZA3a35AtpzFEBiboDt5aIVQC3JGUHzuhRAwjt5fWLLEEDeRVRo8L0QQMte9V3UDw1AwWphNI8UDECPcvZxoDsLQJFZby0wdApATxKjxBL1BUB1evfHyQYDQK7ZZsKMKAZAohA13R0LBECC4iWa4xIBQP4BVf2GhPo/GE9XXHjQAEBjIYqg+af8PylB+XVjUO8/MkQrX+0B9D/cB9s9T2bgP2Wn27cUD+I/6ub1fRWX0j8A8eI0nsaMv3zzyG0DVs4/5Kr4TgAQxL8QpslAYQWov4Qvfla2AMM/rsHleYW70r/ujaX7pezfv2pTs1wFMOq/0tVUKrHx7L/fWAHGe/Duv4uqGQRgtuC/WTsgypr3878RWho83Izqv1Ge5k/z2ee/4uiIMVQD7b94EkvdvUXxv77+6y7VBva/aX0//KGM9b+O0ro3JGz2vyrxyuLHOfO/+KUiXqOy+79QwaabiY70v5HaQLFCN/+/jgHYE3uQ+7/cWkQ8GMr+v6po119ldvG/rM+JamBw87+YIQWfhwHwv2G7B9mLcPS/+JLY9pBq+b+ILbC+hYX9v3DOxHYjrfG/jNXTN4389r8mYLPeH8v7v/+l9STi1+2/3BjymnFX6L86TMtLZxfmv28ltptjdOm/Vqjt2qS687/Qcme4Htn0v4t1DOCN+ee/PnCXyJV68b95RIMyhiTlv+Cy9SP26Z8/MKhhYSIpy7+A+q33N0qTv/Kar9mwdtQ/hOFP+dgD1L+9AlLUtF3kPxgRyZ9CX8c/7y+N5pdF4j9HD/TiCZbhP0lgpVQCA+A/D65ZPSbQ+D8ESFRVAx34P6Zke5fglfk/kmn5Ppow/j8gGfrPtJQDQNwYtcgnzARAA0RhO3CaBUC2ExAGXmIFQKNoGb5ZZwdAcvy7E+5wB0C2CP/FlRsIQBjz4yGUSQ1AxJtzLc1TDUAmq6+Iyd0PQOMzLqQXrhJAw7D4a62wEUANW3uH4+YSQHQmyVfDNBZAsV5FSpAkF0Apfh4XMEIZQEebaI7sxBZACKRUe4PVGkA=\",\"dtype\":\"float64\",\"shape\":[100]}},\"selected\":{\"id\":\"cbbfa74c-b955-4299-8606-474fd797770d\",\"type\":\"Selection\"},\"selection_policy\":{\"id\":\"eda21661-a672-40be-90ab-a4e0cbf87f32\",\"type\":\"UnionRenderers\"}},\"id\":\"220c335f-474a-4165-9023-5def1523592f\",\"type\":\"ColumnDataSource\"},{\"attributes\":{},\"id\":\"5c86edcd-039e-4c64-8ee4-6f5b9f66f660\",\"type\":\"BasicTickFormatter\"},{\"attributes\":{\"bottom_units\":\"screen\",\"fill_alpha\":{\"value\":0.5},\"fill_color\":{\"value\":\"lightgrey\"},\"left_units\":\"screen\",\"level\":\"overlay\",\"line_alpha\":{\"value\":1.0},\"line_color\":{\"value\":\"black\"},\"line_dash\":[4,4],\"line_width\":{\"value\":2},\"plot\":null,\"render_mode\":\"css\",\"right_units\":\"screen\",\"top_units\":\"screen\"},\"id\":\"091503b4-50d1-464d-8f89-55f376bd1ad0\",\"type\":\"BoxAnnotation\"},{\"attributes\":{},\"id\":\"a471d9b9-133b-4abd-9038-aa68d4c7ad7f\",\"type\":\"PanTool\"},{\"attributes\":{\"source\":{\"id\":\"220c335f-474a-4165-9023-5def1523592f\",\"type\":\"ColumnDataSource\"}},\"id\":\"1da7ec6c-6a5e-4dc2-9a13-786dee03dd5e\",\"type\":\"CDSView\"},{\"attributes\":{},\"id\":\"bd6a57ab-e468-414e-8e0c-d4d74806e659\",\"type\":\"WheelZoomTool\"},{\"attributes\":{\"overlay\":{\"id\":\"091503b4-50d1-464d-8f89-55f376bd1ad0\",\"type\":\"BoxAnnotation\"}},\"id\":\"a0d267f5-1414-40af-b1ba-e5759778d074\",\"type\":\"BoxZoomTool\"},{\"attributes\":{},\"id\":\"f5267c10-03d7-43ae-834f-6cf39130c034\",\"type\":\"SaveTool\"},{\"attributes\":{},\"id\":\"38555f95-46b0-471b-aa1d-7bcb3faa079f\",\"type\":\"ResetTool\"},{\"attributes\":{},\"id\":\"8bc9e19f-a12b-4706-b5f2-52e629310d1d\",\"type\":\"HelpTool\"},{\"attributes\":{\"source\":{\"id\":\"16c6176d-a4dc-455b-bef7-e0c95a85c918\",\"type\":\"ColumnDataSource\"}},\"id\":\"1700af1c-c6f3-4134-80eb-730ec0a1bac3\",\"type\":\"CDSView\"},{\"attributes\":{\"callback\":null,\"data\":{\"x\":{\"__ndarray__\":\"AAAAAAAAAMAFav1KgVr/vwrU+pUCtf6/ED744IMP/r8VqPUrBWr9vxoS83aGxPy/H3zwwQcf/L8k5u0MiXn7vylQ61cK1Pq/Lrrooosu+r80JObtDIn5vzmO4ziO4/i/Pvjggw8++L9DYt7OkJj3v0jM2xkS8/a/TjbZZJNN9r9SoNavFKj1v1gK1PqVAvW/XXTRRRdd9L9i3s6QmLfzv2dIzNsZEvO/bLLJJpts8r9yHMdxHMfxv3aGxLydIfG/fPDBBx988L8CtX6lQK3vvwyJeTtDYu6/Fl100UUX7b8gMW9nSMzrvywFav1Kgeq/Ntlkk0026b9ArV8pUOvnv0qBWr9SoOa/VFVVVVVV5b9eKVDrVwrkv2j9SoFav+K/dNFFF1104b9+pUCtXyngvxDzdobEvN2/JJtssskm2784Q2LezpDYv0zrVwrU+tW/ZJNNNtlk0794O0Ni3s7QvxjHcRzHccy/QBdddNFFx79oZ0jM2xnCvyBvZ0jM27m/AB988MEHr79Av1Kg1q+Uv4C/UqDWr5Q/QB988MEHrz9Ab2dIzNu5P3BnSMzbGcI/UBdddNFFxz8gx3Ecx3HMP4A7Q2LeztA/aJNNNtlk0z9Q61cK1PrVP0BDYt7OkNg/KJtssskm2z8Y83aGxLzdP4ClQK1fKeA/eNFFF1104T9s/UqBWr/iP2ApUOtXCuQ/WFVVVVVV5T9MgVq/UqDmP0StXylQ6+c/ONlkk0026T8wBWr9SoHqPyQxb2dIzOs/GF100UUX7T8QiXk7Q2LuPwS1fqVAre8/fvDBBx988D94hsS8nSHxP3Icx3Ecx/E/brLJJpts8j9oSMzbGRLzP2TezpCYt/M/XnTRRRdd9D9aCtT6lQL1P1Sg1q8UqPU/TjbZZJNN9j9KzNsZEvP2P0Ri3s6QmPc/QPjggw8++D86juM4juP4PzYk5u0Mifk/MLrooosu+j8qUOtXCtT6Pybm7QyJefs/IHzwwQcf/D8cEvN2hsT8Pxao9SsFav0/ED744IMP/j8M1PqVArX+PwZq/UqBWv8/AAAAAAAAAEA=\",\"dtype\":\"float64\",\"shape\":[100]},\"y\":{\"__ndarray__\":\"AAAAAAAAIEApNJt6WrgeQJAod75kdx1ANt2Tyx49HEAZUvGhiAkbQDmHj0Gi3BlAl3xuqmu2GEAzMo7c5JYXQA2o7tcNfhZAJd6PnOZrFUB81HEqb2AUQBCLlIGnWxNA4QH4oY9dEkDxOJyLJ2YRQD4wgT5vdRBAlM9Ndc0WD0AjvxoAHFANQDMvaR3KlgtAvB85zdfqCUDBkIoPRUwIQEGCXeQRuwZAPvSxSz43BUC45odFysADQKlZ39G1VwJAG0248AD8AEAMgiVEV1v/P9lq3ctr2fw/nlSYeD9y+j9bP1ZK0iX4PxIrF0Ek9PU/vhfbXDXd8z9gBaKdBeHxP/Xn1wYq/+8/GcdxHMdx7D8rqBF84hnpPy2LtyV89+U/IXBjGZQK4z8AVxVXKlPgP5t/mr19ots/FFUWYaMJ1z9sLp6YxdvSP0EXZMjIMc4/cNmjh/+Bxz9Qo/tuL6jBP9jp1vywSLk/h5zma/XssD9bvUxWWHqkPy7BWOpU5ZQ/RhZhowkXfj8k9wADJb9KP8n3AAMlv0o/whZhowkXfj9hwVjqVOWUP269TFZYeqQ/n5zma/XssD/n6db8sEi5P2Gj+24vqME/etmjh/+Bxz9MF2TIyDHOP3gunpjF29I/G1UWYaMJ1z+qf5q9faLbPwRXFVcqU+A/KnBjGZQK4z82i7clfPflPzCoEXziGek/JMdxHMdx7D/759cGKv/vP2YFop0F4fE/wRfbXDXd8z8ZKxdBJPT1P2I/VkrSJfg/olSYeD9y+j/hat3La9n8PxCCJURXW/8/H0248AD8AECuWd/RtVcCQLjmh0XKwANAQvSxSz43BUBEgl3kEbsGQMaQig9FTAhAvx85zdfqCUA4L2kdypYLQCi/GgAcUA1AlM9Ndc0WD0BBMIE+b3UQQPI4nIsnZhFA5AH4oY9dEkASi5SBp1sTQIDUcSpvYBRAKN6PnOZrFUAPqO7XDX4WQDcyjtzklhdAmXxuqmu2GEA9h49BotwZQBtS8aGICRtANt2Tyx49HECUKHe+ZHcdQCs0m3pauB5AAAAAAAAAIEA=\",\"dtype\":\"float64\",\"shape\":[100]}},\"selected\":{\"id\":\"c3be0585-7420-4d10-ba34-f1695980e284\",\"type\":\"Selection\"},\"selection_policy\":{\"id\":\"0f768972-110a-47ca-b4e0-98523a4aee72\",\"type\":\"UnionRenderers\"}},\"id\":\"e03f01d2-47d6-43ad-8a39-09ecc1a0e62c\",\"type\":\"ColumnDataSource\"},{\"attributes\":{\"line_color\":\"red\",\"x\":{\"field\":\"x\"},\"y\":{\"field\":\"y\"}},\"id\":\"b3430572-f781-497c-b1ff-96f6fc6078c4\",\"type\":\"Line\"},{\"attributes\":{\"line_alpha\":0.1,\"line_color\":\"#1f77b4\",\"x\":{\"field\":\"x\"},\"y\":{\"field\":\"y\"}},\"id\":\"acdf912a-fcab-43b4-9552-46640e283d3f\",\"type\":\"Line\"},{\"attributes\":{\"data_source\":{\"id\":\"e03f01d2-47d6-43ad-8a39-09ecc1a0e62c\",\"type\":\"ColumnDataSource\"},\"glyph\":{\"id\":\"b3430572-f781-497c-b1ff-96f6fc6078c4\",\"type\":\"Line\"},\"hover_glyph\":null,\"muted_glyph\":null,\"nonselection_glyph\":{\"id\":\"acdf912a-fcab-43b4-9552-46640e283d3f\",\"type\":\"Line\"},\"selection_glyph\":null,\"view\":{\"id\":\"aa6a4383-d00b-4f4a-a7cc-c65b29f3169b\",\"type\":\"CDSView\"}},\"id\":\"52df245e-063a-4482-958d-1eda2a6c48bf\",\"type\":\"GlyphRenderer\"},{\"attributes\":{\"source\":{\"id\":\"e03f01d2-47d6-43ad-8a39-09ecc1a0e62c\",\"type\":\"ColumnDataSource\"}},\"id\":\"aa6a4383-d00b-4f4a-a7cc-c65b29f3169b\",\"type\":\"CDSView\"},{\"attributes\":{\"callback\":null,\"data\":{\"x\":{\"__ndarray__\":\"CPVF+XeAvD8c1xXCpZ7Vv8ybRNRR28S/xrBjl58+37+EQjyY8OjLP2aCXustL9a/OK94Jw+Vzr90DNoLuEjJP/CBQ7mcdaE/QBuobl76s7/a+mWcbnrcv3A2SxIR4dS/Gm8btnJG1T9OnjR7wiTcv4bgrRkPst8/aqCaNNAK3T+wmxlrrtvUP2TlYWQIGsa/6HLO4P1Jyb/i+wS9aonUP4CBwk/WAdo/wNXm/glPu78aSjSC+OzSPxAtfTxtz9c/aGhfG9s03r9M/RKbm4XDvwYIwfsrDtc/fBDx1Yiwyr9QQUmXINbXv0ZrcIlVGNQ/eLRzrjKy0r/Q4qx1TBPNP9y1x7Uq4Mw/0LSOfsbjwj9wAzbQrVDAvxwa3EBeAcM/xDZ2N8ndyb+AuKyZ4+GxPxxC92mlV82/MDohQSjqpT9wOsHzr+Cpv5ydXZJKTMg/jLZ3gEkxxj/QgeJ8SuzKP0qvapYtAdO/2MhFfAiksj+Yh5pTt2WyPwATVOdtRb8/4PLQ94/kq7/o32kfwWu7P6BepdZFCpo/5FMyk+Wd1L9Khm/dliDavwbjagWV1Ne/aLQ7DuLmwT/kiOy0wcrSP/AXeMC3KLy/lMI9rgUm2b/UGOGSnPHHP75KLUIWrN+/DJcBSTHY2b9UKmuEsnTdP5jWfdPgy8m/sJx+WhUO3b+AO9Sx4+hzv8BDA3juTbk/2I/dK/+S0j9ctxke7QTSvwjO3M57l78/EAa8tu8EtT/8W3VU7lTNP0y1k7xZtM6/Rha9VsOp0r+gYD4WsJ+Sv8DXrYsP6ag/aGSxqxydtT8YFiE709nOP+xHtpBQ5N6/wHIKdGmzyL8ACaQ60tViv+y3bu5U4sK/qB5W6uWF2z/AnXT8hq7Gv2xwLI13N9c/wIz0OhI3z79IOst7mDu3v54mbZ6D2ds/SKCILCE5s7821dzBluTTv3IG+3p6Ddg/UBsYuyVGvr/ESJ8pn8HAvxAPl1WNcdC/XBAshAk3wL9gudg7gHPUPwSH/B/jjtS/SpevWILf0r/QOUyI7xOjvyxrOissDtg/FGcsTTj4xT8=\",\"dtype\":\"float64\",\"shape\":[100]},\"y\":{\"__ndarray__\":\"rhTgJ3qw9j96SAjkdCvxP+4MCgxLC/8/GDqHC7Ku9T+Y2VK3X6fzPy4KkCWyQPw/umY+U/mD/z+Ag6wus8n0P+qr+BGeOfQ/F326JKiv/z/qxnMGelH4P8LeomMvtvw/sCkvJP+Z/z9CLdKKpnTwP3yPDVhgrvE/q4e0Z+WJ/z9clbLihsr1P+3vkxh8qvg/NHs9QOq6+j/KVhBtISDwP4IMeR7DP/Q//HlOdmAB+T+Nzzc0pCjwPwjpt5S/ePM/CRsHpmmd8T+Iz/+KOgn7P5wblv1Xzfo/FygVqaDl/z/K1aBSZlL6P1i3rjje5/4/gk97J8lR+z9Iq2ad8AL8PxYvqueQUf0/QiZ1dCsV/z80utnpfeHzP2sAO7gAef0/YFrvxlie9j9rBq6yAx37P/wgj34oOvA/vfKF68uD8z+GrkuLWLjzP+QkfXasovE/CnuRh0In8j9tqUCqKqfxPzQAYms7nf4/Xrej2P6o/T/oUCc2X6DxP3IZSgjAVPM/OpgQ1llh/z9KJek1NbD5P3DkpaF5C/k/xbuOFBQR+j84/bbbpKr+P9siWewqwvs/uraVNJAh+z/lE45xu0nwPwTwTtCJOfg/ambyNuWQ/j/sFsrSAKT4Py4F1xdVVvc/BIIZlsG6+z+iUBGoYH34P/grSgM4U/k/ijuEDDOI9z/aa5BPR4b5PwahHg26oP0/tuhTmHY69D8W9GRlVJTyP2oKFqC4efU/3rLiZiwV+T9qMKF4Ja77P0wUYv7wB/4/GkfST8Us/D8yS54w3vz2P5TCmHNdufc/dsqiHuVm/T+j3r2StrL8P+rOOKSwY/8/KDPfWwXq9z8K33KBBYH2P7bglEvTCPM/dRnbFTJe/T8naw0HmCT2P/gGn1Hbrvw/JIGcuyFp9D/4Qwci95v9P1cWh2TNo/s/It7rlBsH/j/gXVQ4itP4P/xLe+ny4Pg/F0dZg4LX8z/A1kuSkqbxPwiQ7BMNWvY/d8CEtZaW+z9rBJKbVjzyPzeG3jxDxv8/r+mfZFgT8D/PCKYHW4vwPwjl5F3kAfw/WiRHHc1m8j8=\",\"dtype\":\"float64\",\"shape\":[100]}},\"selected\":{\"id\":\"1e310f3f-2157-468a-86de-c3fa0bc14b9c\",\"type\":\"Selection\"},\"selection_policy\":{\"id\":\"d4006aea-b8aa-4f04-8f8f-7db0c4f8a841\",\"type\":\"UnionRenderers\"}},\"id\":\"16c6176d-a4dc-455b-bef7-e0c95a85c918\",\"type\":\"ColumnDataSource\"},{\"attributes\":{},\"id\":\"cbbfa74c-b955-4299-8606-474fd797770d\",\"type\":\"Selection\"},{\"attributes\":{\"background_fill_color\":{\"value\":\"#eeeeee\"},\"below\":[{\"id\":\"538c9f1f-d87d-4d6a-bee6-ea7134e64606\",\"type\":\"LinearAxis\"}],\"left\":[{\"id\":\"61158a17-c301-4be7-9887-ec79dce4b31f\",\"type\":\"LinearAxis\"}],\"renderers\":[{\"id\":\"538c9f1f-d87d-4d6a-bee6-ea7134e64606\",\"type\":\"LinearAxis\"},{\"id\":\"42690388-4362-4eed-9ddf-e24f4aaa1f25\",\"type\":\"Grid\"},{\"id\":\"61158a17-c301-4be7-9887-ec79dce4b31f\",\"type\":\"LinearAxis\"},{\"id\":\"91dde3b9-ef61-41c9-ac2f-becd4444823d\",\"type\":\"Grid\"},{\"id\":\"091503b4-50d1-464d-8f89-55f376bd1ad0\",\"type\":\"BoxAnnotation\"},{\"id\":\"e00dd754-d542-4021-afe0-738334d90758\",\"type\":\"GlyphRenderer\"},{\"id\":\"cfedfccf-76a7-4e0a-a4d2-47787d590e0c\",\"type\":\"GlyphRenderer\"},{\"id\":\"52df245e-063a-4482-958d-1eda2a6c48bf\",\"type\":\"GlyphRenderer\"}],\"title\":{\"id\":\"7931d024-a1ed-4c8d-bc02-97c0c9425f2c\",\"type\":\"Title\"},\"toolbar\":{\"id\":\"6edb825e-3b1e-47bd-beec-6dd950013c98\",\"type\":\"Toolbar\"},\"toolbar_location\":null,\"x_range\":{\"id\":\"5a53a105-2996-41f8-bf88-76a214a439d4\",\"type\":\"DataRange1d\"},\"x_scale\":{\"id\":\"02814506-1c16-43a8-80d2-df342264bbe4\",\"type\":\"LinearScale\"},\"y_range\":{\"id\":\"08f94800-a545-46f6-8d54-ea54e2e91144\",\"type\":\"DataRange1d\"},\"y_scale\":{\"id\":\"31eeb61a-85ce-4d5e-9f5d-b29e6365774d\",\"type\":\"LinearScale\"}},\"id\":\"015f3ef1-1cd0-4aba-8559-fa0264eee439\",\"subtype\":\"Figure\",\"type\":\"Plot\"},{\"attributes\":{},\"id\":\"62630b85-9794-44aa-9e70-0b2d252668d5\",\"type\":\"BasicTickFormatter\"},{\"attributes\":{\"data_source\":{\"id\":\"16c6176d-a4dc-455b-bef7-e0c95a85c918\",\"type\":\"ColumnDataSource\"},\"glyph\":{\"id\":\"1b96610d-452b-4f9e-ae0b-47e0276da500\",\"type\":\"Square\"},\"hover_glyph\":null,\"muted_glyph\":null,\"nonselection_glyph\":{\"id\":\"0f142fe1-4b5d-4ccf-b74f-d8e28fb626b9\",\"type\":\"Square\"},\"selection_glyph\":null,\"view\":{\"id\":\"1700af1c-c6f3-4134-80eb-730ec0a1bac3\",\"type\":\"CDSView\"}},\"id\":\"cfedfccf-76a7-4e0a-a4d2-47787d590e0c\",\"type\":\"GlyphRenderer\"},{\"attributes\":{},\"id\":\"eda21661-a672-40be-90ab-a4e0cbf87f32\",\"type\":\"UnionRenderers\"},{\"attributes\":{\"data_source\":{\"id\":\"220c335f-474a-4165-9023-5def1523592f\",\"type\":\"ColumnDataSource\"},\"glyph\":{\"id\":\"288dec4a-4b7e-48c0-b7aa-3f6bd09270ac\",\"type\":\"Circle\"},\"hover_glyph\":null,\"muted_glyph\":null,\"nonselection_glyph\":{\"id\":\"8a28e289-28ae-44c8-9ed0-386213133e71\",\"type\":\"Circle\"},\"selection_glyph\":null,\"view\":{\"id\":\"1da7ec6c-6a5e-4dc2-9a13-786dee03dd5e\",\"type\":\"CDSView\"}},\"id\":\"e00dd754-d542-4021-afe0-738334d90758\",\"type\":\"GlyphRenderer\"},{\"attributes\":{\"plot\":null,\"text\":\"Bokeh Markers\"},\"id\":\"7931d024-a1ed-4c8d-bc02-97c0c9425f2c\",\"type\":\"Title\"},{\"attributes\":{},\"id\":\"1e310f3f-2157-468a-86de-c3fa0bc14b9c\",\"type\":\"Selection\"},{\"attributes\":{\"callback\":null},\"id\":\"5a53a105-2996-41f8-bf88-76a214a439d4\",\"type\":\"DataRange1d\"},{\"attributes\":{},\"id\":\"d4006aea-b8aa-4f04-8f8f-7db0c4f8a841\",\"type\":\"UnionRenderers\"},{\"attributes\":{},\"id\":\"31eeb61a-85ce-4d5e-9f5d-b29e6365774d\",\"type\":\"LinearScale\"},{\"attributes\":{},\"id\":\"c3be0585-7420-4d10-ba34-f1695980e284\",\"type\":\"Selection\"},{\"attributes\":{\"grid_line_color\":{\"value\":null},\"plot\":{\"id\":\"015f3ef1-1cd0-4aba-8559-fa0264eee439\",\"subtype\":\"Figure\",\"type\":\"Plot\"},\"ticker\":{\"id\":\"11e23c06-07c3-48f3-904a-bf2dde86ea0d\",\"type\":\"BasicTicker\"}},\"id\":\"42690388-4362-4eed-9ddf-e24f4aaa1f25\",\"type\":\"Grid\"},{\"attributes\":{\"fill_alpha\":{\"value\":0.1},\"fill_color\":{\"value\":\"#1f77b4\"},\"line_alpha\":{\"value\":0.1},\"line_color\":{\"value\":\"#1f77b4\"},\"size\":{\"units\":\"screen\",\"value\":15},\"x\":{\"field\":\"x\"},\"y\":{\"field\":\"y\"}},\"id\":\"0f142fe1-4b5d-4ccf-b74f-d8e28fb626b9\",\"type\":\"Square\"},{\"attributes\":{},\"id\":\"0f768972-110a-47ca-b4e0-98523a4aee72\",\"type\":\"UnionRenderers\"},{\"attributes\":{\"active_drag\":\"auto\",\"active_inspect\":\"auto\",\"active_multi\":null,\"active_scroll\":\"auto\",\"active_tap\":\"auto\",\"tools\":[{\"id\":\"a471d9b9-133b-4abd-9038-aa68d4c7ad7f\",\"type\":\"PanTool\"},{\"id\":\"bd6a57ab-e468-414e-8e0c-d4d74806e659\",\"type\":\"WheelZoomTool\"},{\"id\":\"a0d267f5-1414-40af-b1ba-e5759778d074\",\"type\":\"BoxZoomTool\"},{\"id\":\"f5267c10-03d7-43ae-834f-6cf39130c034\",\"type\":\"SaveTool\"},{\"id\":\"38555f95-46b0-471b-aa1d-7bcb3faa079f\",\"type\":\"ResetTool\"},{\"id\":\"8bc9e19f-a12b-4706-b5f2-52e629310d1d\",\"type\":\"HelpTool\"}]},\"id\":\"6edb825e-3b1e-47bd-beec-6dd950013c98\",\"type\":\"Toolbar\"},{\"attributes\":{\"fill_alpha\":{\"value\":0.5},\"fill_color\":{\"value\":\"blue\"},\"line_alpha\":{\"value\":0.5},\"line_color\":{\"value\":\"navy\"},\"size\":{\"units\":\"screen\",\"value\":15},\"x\":{\"field\":\"x\"},\"y\":{\"field\":\"y\"}},\"id\":\"288dec4a-4b7e-48c0-b7aa-3f6bd09270ac\",\"type\":\"Circle\"},{\"attributes\":{},\"id\":\"02814506-1c16-43a8-80d2-df342264bbe4\",\"type\":\"LinearScale\"},{\"attributes\":{\"callback\":null},\"id\":\"08f94800-a545-46f6-8d54-ea54e2e91144\",\"type\":\"DataRange1d\"},{\"attributes\":{\"fill_alpha\":{\"value\":0.5},\"fill_color\":{\"value\":\"orange\"},\"line_alpha\":{\"value\":0.5},\"line_color\":{\"value\":\"navy\"},\"size\":{\"units\":\"screen\",\"value\":15},\"x\":{\"field\":\"x\"},\"y\":{\"field\":\"y\"}},\"id\":\"1b96610d-452b-4f9e-ae0b-47e0276da500\",\"type\":\"Square\"},{\"attributes\":{\"formatter\":{\"id\":\"5c86edcd-039e-4c64-8ee4-6f5b9f66f660\",\"type\":\"BasicTickFormatter\"},\"plot\":{\"id\":\"015f3ef1-1cd0-4aba-8559-fa0264eee439\",\"subtype\":\"Figure\",\"type\":\"Plot\"},\"ticker\":{\"id\":\"11e23c06-07c3-48f3-904a-bf2dde86ea0d\",\"type\":\"BasicTicker\"}},\"id\":\"538c9f1f-d87d-4d6a-bee6-ea7134e64606\",\"type\":\"LinearAxis\"}],\"root_ids\":[\"015f3ef1-1cd0-4aba-8559-fa0264eee439\"]},\"title\":\"Bokeh Application\",\"version\":\"0.13.0\"}};\n",
       "  var render_items = [{\"docid\":\"429faa20-78a7-4e52-9146-b02ead496715\",\"roots\":{\"015f3ef1-1cd0-4aba-8559-fa0264eee439\":\"7538382a-a7f0-40bd-814d-ae264325aa9b\"}}];\n",
       "  root.Bokeh.embed.embed_items_notebook(docs_json, render_items);\n",
       "\n",
       "  }\n",
       "  if (root.Bokeh !== undefined) {\n",
       "    embed_document(root);\n",
       "  } else {\n",
       "    var attempts = 0;\n",
       "    var timer = setInterval(function(root) {\n",
       "      if (root.Bokeh !== undefined) {\n",
       "        embed_document(root);\n",
       "        clearInterval(timer);\n",
       "      }\n",
       "      attempts++;\n",
       "      if (attempts > 100) {\n",
       "        console.log(\"Bokeh: ERROR: Unable to run BokehJS code because BokehJS library is missing\")\n",
       "        clearInterval(timer);\n",
       "      }\n",
       "    }, 10, root)\n",
       "  }\n",
       "})(window);"
      ],
      "application/vnd.bokehjs_exec.v0+json": ""
     },
     "metadata": {
      "application/vnd.bokehjs_exec.v0+json": {
       "id": "015f3ef1-1cd0-4aba-8559-fa0264eee439"
      }
     },
     "output_type": "display_data"
    }
   ],
   "source": [
    "# Build a figure\n",
    "p = figure(title=\"Bokeh Markers\", toolbar_location=None)\n",
    "p.grid.grid_line_color = None\n",
    "p.background_fill_color = \"#eeeeee\"\n",
    "\n",
    "# Number of datapoints\n",
    "N = 100\n",
    "\n",
    "# First cluster\n",
    "X1 = np.linspace(-2,2,100)\n",
    "Y1 = (2*X1**2 - 2) + np.random.random(100)\n",
    "\n",
    "# Second Cluster\n",
    "X2 = np.random.random(100) - 1/2\n",
    "Y2 = np.random.random(100) + 1\n",
    "    \n",
    "# Throw in clusters\n",
    "mscatter(p, X1, Y1, \"circle\", \"blue\")\n",
    "mscatter(p, X2, Y2, \"square\", \"orange\")\n",
    "\n",
    "# A line separating them\n",
    "X = np.linspace(-2,2,100)\n",
    "Y = 2*X**2\n",
    "p.line(X,Y, line_color='red')\n",
    "\n",
    "\n",
    "show(p)"
   ]
  },
  {
   "cell_type": "markdown",
   "metadata": {},
   "source": [
    "The $\\color{red}{line}$ is a parabola. We can 'straighten' it out using the mapping $(x,y) \\mapsto (x,x^2, y)$."
   ]
  },
  {
   "cell_type": "code",
   "execution_count": 9,
   "metadata": {},
   "outputs": [
    {
     "data": {
      "text/plain": [
       "<Figure size 640x480 with 1 Axes>"
      ]
     },
     "metadata": {},
     "output_type": "display_data"
    }
   ],
   "source": [
    "# Import numpy tools for 3d plotting\n",
    "from mpl_toolkits.mplot3d import Axes3D\n",
    "import matplotlib.pyplot as plt\n",
    "\n",
    "# Create figure\n",
    "fig = plt.figure()\n",
    "ax = fig.add_subplot(111, projection='3d')\n",
    "\n",
    "# mplot's own scatter plot function\n",
    "ax.scatter(Y1,X1,X1**2,c='b',marker='o')\n",
    "ax.scatter(Y2, X2, X2**2,c='y',marker='s')\n",
    "\n",
    "# Left this here in case you want to play\n",
    "# with labels\n",
    "ax.set_xlabel('X Label')\n",
    "ax.set_ylabel('Y Label')\n",
    "ax.set_zlabel('Z Label')\n",
    "\n",
    "# Show the plot\n",
    "plt.show()"
   ]
  },
  {
   "cell_type": "markdown",
   "metadata": {},
   "source": [
    "This was just to illustrate what's going on. In general, you will certainly not be plotting the data in a higher-dimensional space, nor even mapping it."
   ]
  },
  {
   "cell_type": "markdown",
   "metadata": {},
   "source": [
    "Instead of using the mapping $(x,y) \\mapsto (x, x^2, y)$ and then taking dot products $(x,y,z) \\cdot (w_1, w_2, w_3)$, we can use a *kernel function* $K({\\bf x}, {\\bf y})$ that measures *similarity* of two datapoints ${\\bf x}, {\\bf y}$ directly."
   ]
  },
  {
   "cell_type": "markdown",
   "metadata": {},
   "source": [
    "*The Kernel Trick*"
   ]
  },
  {
   "cell_type": "markdown",
   "metadata": {},
   "source": [
    "The final form of the *decision function* in general is"
   ]
  },
  {
   "cell_type": "markdown",
   "metadata": {},
   "source": [
    "## $f_w = sign \\sum y_i w_i K\\big(x_i, x\\big)$"
   ]
  },
  {
   "cell_type": "markdown",
   "metadata": {},
   "source": [
    "*Examples of kernel functions:*\n",
    "- polynomial kernel\n",
    "##  $K(x_i,x_j) = (x_i \\cdot x_j + 1)^h$\n",
    "- Gaussian radial basis kernel\n",
    "## $K(x_i,x_j) = \\exp(\\frac{-(x_i \\cdot x_j)^2}{2\\sigma^2})$"
   ]
  },
  {
   "cell_type": "code",
   "execution_count": 10,
   "metadata": {},
   "outputs": [
    {
     "name": "stderr",
     "output_type": "stream",
     "text": [
      "/home/muveexu/anaconda3/lib/python3.6/site-packages/sklearn/svm/base.py:922: ConvergenceWarning: Liblinear failed to converge, increase the number of iterations.\n",
      "  \"the number of iterations.\", ConvergenceWarning)\n",
      "/home/muveexu/anaconda3/lib/python3.6/site-packages/sklearn/svm/base.py:196: FutureWarning: The default value of gamma will change from 'auto' to 'scale' in version 0.22 to account better for unscaled features. Set gamma explicitly to 'auto' or 'scale' to avoid this warning.\n",
      "  \"avoid this warning.\", FutureWarning)\n"
     ]
    },
    {
     "data": {
      "image/png": "[encoded data removed]",
      "text/plain": [
       "<Figure size 432x288 with 4 Axes>"
      ]
     },
     "metadata": {},
     "output_type": "display_data"
    }
   ],
   "source": [
    "# Example taken from Sklearn docs.\n",
    "\n",
    "from sklearn import svm, datasets\n",
    "\n",
    "\n",
    "def make_meshgrid(x, y, h=.02):\n",
    "    \"\"\"Create a mesh of points to plot in\n",
    "    \"\"\"\n",
    "    x_min, x_max = x.min() - 1, x.max() + 1\n",
    "    y_min, y_max = y.min() - 1, y.max() + 1\n",
    "    xx, yy = np.meshgrid(np.arange(x_min, x_max, h),\n",
    "                         np.arange(y_min, y_max, h))\n",
    "    return xx, yy\n",
    "\n",
    "\n",
    "def plot_contours(ax, clf, xx, yy, **params):\n",
    "    \"\"\"Plot the decision boundaries for a classifier.\n",
    "    \"\"\"\n",
    "    Z = clf.predict(np.c_[xx.ravel(), yy.ravel()])\n",
    "    Z = Z.reshape(xx.shape)\n",
    "    out = ax.contourf(xx, yy, Z, **params)\n",
    "    return out\n",
    "\n",
    "\n",
    "# Import some data.\n",
    "iris = datasets.load_iris()\n",
    "\n",
    "# Take the first two features. We could avoid this by using a two-dim dataset\n",
    "X = iris.data[:, :2]\n",
    "y = iris.target\n",
    "\n",
    "# we create an instance of SVM and fit out data. We do not scale our\n",
    "# data since we want to plot the support vectors\n",
    "C = 1.0  # SVM regularization parameter\n",
    "models = (svm.SVC(kernel='linear', C=C),\n",
    "          svm.LinearSVC(C=C),\n",
    "          svm.SVC(kernel='rbf', gamma=0.7, C=C),\n",
    "          svm.SVC(kernel='poly', degree=3, C=C))\n",
    "models = (clf.fit(X, y) for clf in models)\n",
    "\n",
    "# title for the plots\n",
    "titles = ('SVC with linear kernel',\n",
    "          'LinearSVC (linear kernel)',\n",
    "          'SVC with RBF kernel',\n",
    "          'SVC with polynomial (degree 3) kernel')\n",
    "\n",
    "# Set-up 2x2 grid for plotting.\n",
    "fig, sub = plt.subplots(2, 2)\n",
    "plt.subplots_adjust(wspace=0.4, hspace=0.4)\n",
    "\n",
    "X0, X1 = X[:, 0], X[:, 1]\n",
    "xx, yy = make_meshgrid(X0, X1)\n",
    "\n",
    "for clf, title, ax in zip(models, titles, sub.flatten()):\n",
    "    plot_contours(ax, clf, xx, yy,\n",
    "                  cmap=plt.cm.coolwarm, alpha=0.8)\n",
    "    ax.scatter(X0, X1, c=y, cmap=plt.cm.coolwarm, s=20, edgecolors='k')\n",
    "    ax.set_xlim(xx.min(), xx.max())\n",
    "    ax.set_ylim(yy.min(), yy.max())\n",
    "    ax.set_xlabel('Sepal length')\n",
    "    ax.set_ylabel('Sepal width')\n",
    "    ax.set_xticks(())\n",
    "    ax.set_yticks(())\n",
    "    ax.set_title(title)\n",
    "\n",
    "plt.show()"
   ]
  },
  {
   "cell_type": "markdown",
   "metadata": {},
   "source": [
    "We want to compare classifiers numerically, since we can't always plot them and 'see' how they are doing. We will also want to turn the other knobs, called *hyperparameters*, not tuned by the learning algorithm. See [this page](http://scikit-learn.org/stable/auto_examples/svm/plot_svm_scale_c.html) for discussion of the effects of such hyperparameters in SVC performance."
   ]
  },
  {
   "cell_type": "markdown",
   "metadata": {},
   "source": [
    "**Decision Trees**"
   ]
  },
  {
   "cell_type": "markdown",
   "metadata": {},
   "source": [
    "Splits are evaluated, for each feature, using the *Gini impurity*. See also *CART*."
   ]
  },
  {
   "cell_type": "code",
   "execution_count": 11,
   "metadata": {},
   "outputs": [
    {
     "data": {
      "image/png": "[encoded data removed]",
      "text/plain": [
       "<Figure size 432x288 with 6 Axes>"
      ]
     },
     "metadata": {
      "needs_background": "light"
     },
     "output_type": "display_data"
    }
   ],
   "source": [
    "from sklearn.tree import DecisionTreeClassifier\n",
    "\n",
    "# Parameters\n",
    "n_classes = 3\n",
    "plot_colors = \"ryb\"\n",
    "plot_step = 0.02\n",
    "\n",
    "for pairidx, pair in enumerate([[0, 1], [0, 2], [0, 3],\n",
    "                                [1, 2], [1, 3], [2, 3]]):\n",
    "    # We only take the two corresponding features\n",
    "    X = iris.data[:, pair]\n",
    "    y = iris.target\n",
    "\n",
    "    # Train\n",
    "    clf = DecisionTreeClassifier().fit(X, y)\n",
    "\n",
    "    # Plot the decision boundary\n",
    "    plt.subplot(2, 3, pairidx + 1)\n",
    "\n",
    "    x_min, x_max = X[:, 0].min() - 1, X[:, 0].max() + 1\n",
    "    y_min, y_max = X[:, 1].min() - 1, X[:, 1].max() + 1\n",
    "    xx, yy = np.meshgrid(np.arange(x_min, x_max, plot_step),\n",
    "                         np.arange(y_min, y_max, plot_step))\n",
    "    plt.tight_layout(h_pad=0.5, w_pad=0.5, pad=2.5)\n",
    "\n",
    "    Z = clf.predict(np.c_[xx.ravel(), yy.ravel()])\n",
    "    Z = Z.reshape(xx.shape)\n",
    "    cs = plt.contourf(xx, yy, Z, cmap=plt.cm.RdYlBu)\n",
    "\n",
    "    plt.xlabel(iris.feature_names[pair[0]])\n",
    "    plt.ylabel(iris.feature_names[pair[1]])\n",
    "\n",
    "    # Plot the training points\n",
    "    for i, color in zip(range(n_classes), plot_colors):\n",
    "        idx = np.where(y == i)\n",
    "        plt.scatter(X[idx, 0], X[idx, 1], c=color, label=iris.target_names[i],\n",
    "                    cmap=plt.cm.RdYlBu, edgecolor='black', s=15)\n",
    "\n",
    "plt.suptitle(\"Decision surface of a decision tree using paired features\")\n",
    "plt.legend(loc='lower right', borderpad=0, handletextpad=0)\n",
    "plt.axis(\"tight\")\n",
    "plt.show()"
   ]
  },
  {
   "cell_type": "markdown",
   "metadata": {},
   "source": [
    "**$k$-Nearest Neighbors**\n",
    "\n",
    "This next example illustrates the $k$-nearest neighbors algorithm and also is an example of *multi-class classification*."
   ]
  },
  {
   "cell_type": "code",
   "execution_count": 12,
   "metadata": {},
   "outputs": [
    {
     "data": {
      "image/png": "[encoded data removed]",
      "text/plain": [
       "<Figure size 432x288 with 1 Axes>"
      ]
     },
     "metadata": {
      "needs_background": "light"
     },
     "output_type": "display_data"
    },
    {
     "data": {
      "image/png": "[encoded data removed]",
      "text/plain": [
       "<Figure size 432x288 with 1 Axes>"
      ]
     },
     "metadata": {
      "needs_background": "light"
     },
     "output_type": "display_data"
    }
   ],
   "source": [
    "from matplotlib.colors import ListedColormap\n",
    "from sklearn import neighbors\n",
    "\n",
    "n_neighbors = 15\n",
    "\n",
    "\n",
    "X = iris.data[:, :2]\n",
    "y = iris.target\n",
    "\n",
    "h = .02  # step size in the mesh\n",
    "\n",
    "# Create color maps\n",
    "cmap_light = ListedColormap(['#FFAAAA', '#AAFFAA', '#AAAAFF'])\n",
    "cmap_bold = ListedColormap(['#FF0000', '#00FF00', '#0000FF'])\n",
    "\n",
    "for weights in ['uniform', 'distance']:\n",
    "    # we create an instance of Neighbours Classifier and fit the data.\n",
    "    clf = neighbors.KNeighborsClassifier(n_neighbors, weights=weights)\n",
    "    clf.fit(X, y)\n",
    "\n",
    "    # Plot the decision boundary. For that, we will assign a color to each\n",
    "    # point in the mesh [x_min, x_max]x[y_min, y_max].\n",
    "    x_min, x_max = X[:, 0].min() - 1, X[:, 0].max() + 1\n",
    "    y_min, y_max = X[:, 1].min() - 1, X[:, 1].max() + 1\n",
    "    xx, yy = np.meshgrid(np.arange(x_min, x_max, h),\n",
    "                         np.arange(y_min, y_max, h))\n",
    "    Z = clf.predict(np.c_[xx.ravel(), yy.ravel()])\n",
    "\n",
    "    # Put the result into a color plot\n",
    "    Z = Z.reshape(xx.shape)\n",
    "    plt.figure()\n",
    "    plt.pcolormesh(xx, yy, Z, cmap=cmap_light)\n",
    "\n",
    "    # Plot also the training points\n",
    "    plt.scatter(X[:, 0], X[:, 1], c=y, cmap=cmap_bold,\n",
    "                edgecolor='k', s=20)\n",
    "    plt.xlim(xx.min(), xx.max())\n",
    "    plt.ylim(yy.min(), yy.max())\n",
    "    plt.title(\"3-Class classification (k = %i, weights = '%s')\"\n",
    "              % (n_neighbors, weights))\n",
    "\n",
    "plt.show()"
   ]
  },
  {
   "cell_type": "markdown",
   "metadata": {},
   "source": [
    "### Clustering"
   ]
  },
  {
   "cell_type": "markdown",
   "metadata": {},
   "source": [
    "**Expectation-Maximization & Mixture Models**"
   ]
  },
  {
   "cell_type": "markdown",
   "metadata": {},
   "source": [
    "Next, let's look a little more in-depth at the related exploratory method of *$k$-means*."
   ]
  },
  {
   "cell_type": "markdown",
   "metadata": {},
   "source": [
    "*Optimization Formulation*"
   ]
  },
  {
   "cell_type": "markdown",
   "metadata": {},
   "source": [
    "> Everything is an optimization problem, yes. Realize that, and then get over it as soon as you can. (Boyd)"
   ]
  },
  {
   "cell_type": "markdown",
   "metadata": {},
   "source": [
    "We have used $k$-means and discussed the algorithm. Here is the setup:"
   ]
  },
  {
   "cell_type": "markdown",
   "metadata": {},
   "source": [
    "We have a dataset $\\{x_1,\\ldots,x_N\\}$ of observations from $\\mathbb{R}^D$. We seek clusters with centers $\\mu_k \\in \\mathbb{R}^D$. *The cluster centers are the things we are choosing*. We are choosing them so that the sum of squared distances are minimized. That is, we are minimizing:"
   ]
  },
  {
   "cell_type": "markdown",
   "metadata": {},
   "source": [
    "## $J = \\sum_{n=1}^N\\sum_{k=1}^K r_{nk} \\|x_n - \\mu_k\\|^2$"
   ]
  },
  {
   "cell_type": "markdown",
   "metadata": {},
   "source": [
    "where"
   ]
  },
  {
   "cell_type": "markdown",
   "metadata": {},
   "source": [
    "## $ r_{nk} = \\begin{cases} 1 & x_n \\in \\text{Cluster } k \\\\\n",
    "                             0 & \\text{otherwise}   \\end{cases}$"
   ]
  },
  {
   "cell_type": "markdown",
   "metadata": {},
   "source": [
    "The standard algorithm can be broken down into two steps\n",
    "\n",
    "* *Expectation* - minimize $J$ wrt the $r_{nk}$, leaving $\\mu_k$ fixed.\n",
    "\n",
    "* *Maximization* - minimize $J$ wrt the $\\mu_k$ leaving $r$ fixed."
   ]
  },
  {
   "cell_type": "markdown",
   "metadata": {},
   "source": [
    "(This is an instance of a more general method called EM.)"
   ]
  },
  {
   "cell_type": "markdown",
   "metadata": {},
   "source": [
    "The expectation step makes the following update to the $r$ values:"
   ]
  },
  {
   "cell_type": "markdown",
   "metadata": {},
   "source": [
    "## $ r_{nk} = \\begin{cases} 1 & \\text{ if } k= argmin_j \\|x_n - \\mu_j\\|^2 \\\\\n",
    "                             0 & \\text{otherwise}   \\end{cases}$"
   ]
  },
  {
   "cell_type": "markdown",
   "metadata": {},
   "source": [
    "The maximization step is done by calculus. The partial equations"
   ]
  },
  {
   "cell_type": "markdown",
   "metadata": {},
   "source": [
    "## $2\\sum_{n=1}^Nr_{nk}(x_n - \\mu_k) = 0$"
   ]
  },
  {
   "cell_type": "markdown",
   "metadata": {},
   "source": [
    "lead to the formula for $\\mu_k$"
   ]
  },
  {
   "cell_type": "markdown",
   "metadata": {},
   "source": [
    "## $ \\mu_k = \\frac{\\sum_nr_{nk}x_n}{\\sum_nr_{nk}}$"
   ]
  },
  {
   "cell_type": "markdown",
   "metadata": {},
   "source": [
    "Which is exactly the mean of all the things that had been assigned to cluster $k$ in the previous step."
   ]
  },
  {
   "cell_type": "markdown",
   "metadata": {},
   "source": [
    "We keep doing this until the clusters stop changing (or until a certain number of iterations has been completed.)"
   ]
  },
  {
   "cell_type": "markdown",
   "metadata": {},
   "source": [
    "Let's get some data. This is a good opportunity to use what we already know. Bishop used the famous *Old Faithful* dataset. It can be found, among other places, [here](http://www.stat.cmu.edu/~larry/all-of-statistics/=data/faithful.dat). Let's pull it into our python session."
   ]
  },
  {
   "cell_type": "code",
   "execution_count": 13,
   "metadata": {},
   "outputs": [],
   "source": [
    "import numpy as np\n",
    "import urllib.request\n",
    "url = 'http://www.stat.cmu.edu/~larry/all-of-statistics/=data/faithful.dat'\n",
    "with urllib.request.urlopen(url) as response:\n",
    "    olf = response.readlines()"
   ]
  },
  {
   "cell_type": "markdown",
   "metadata": {},
   "source": [
    "### Convert to strings"
   ]
  },
  {
   "cell_type": "code",
   "execution_count": 14,
   "metadata": {},
   "outputs": [],
   "source": [
    "olf = [x.decode('utf-8') for x in olf]"
   ]
  },
  {
   "cell_type": "markdown",
   "metadata": {},
   "source": [
    "### Strip off endline garbage"
   ]
  },
  {
   "cell_type": "code",
   "execution_count": 15,
   "metadata": {},
   "outputs": [],
   "source": [
    "olf = [x.strip() for x in olf]"
   ]
  },
  {
   "cell_type": "code",
   "execution_count": 16,
   "metadata": {
    "scrolled": false
   },
   "outputs": [
    {
     "name": "stdout",
     "output_type": "stream",
     "text": [
      "Old Faithful Geyser Data\n",
      "\n",
      "Description: (From R manual):\n",
      "\n",
      "Waiting time between eruptions and the duration of the eruption\n",
      "for the Old Faithful geyser in Yellowstone National Park, Wyoming,\n",
      "USA.\n",
      "\n",
      "A data frame with 272 observations on 2 variables.\n",
      "\n",
      "eruptions  numeric  Eruption time in mins\n",
      "waiting    numeric  Waiting time to next eruption\n",
      "\n",
      "References:\n",
      "\n",
      "Hardle, W. (1991) Smoothing Techniques with Implementation in S.\n",
      "New York: Springer.\n",
      "\n",
      "Azzalini, A. and Bowman, A. W. (1990). A look at some data on the\n",
      "Old Faithful geyser. Applied Statistics 39, 357-365.\n",
      "\n",
      "\n",
      "\n",
      "\n",
      "\n",
      "eruptions waiting\n",
      "1       3.600      79\n",
      "2       1.800      54\n",
      "3       3.333      74\n",
      "4       2.283      62\n",
      "5       4.533      85\n",
      "6       2.883      55\n",
      "7       4.700      88\n",
      "8       3.600      85\n",
      "9       1.950      51\n",
      "10      4.350      85\n",
      "11      1.833      54\n",
      "12      3.917      84\n",
      "13      4.200      78\n",
      "14      1.750      47\n",
      "15      4.700      83\n",
      "16      2.167      52\n",
      "17      1.750      62\n",
      "18      4.800      84\n",
      "19      1.600      52\n",
      "20      4.250      79\n",
      "21      1.800      51\n",
      "22      1.750      47\n",
      "23      3.450      78\n",
      "24      3.067      69\n",
      "25      4.533      74\n",
      "26      3.600      83\n",
      "27      1.967      55\n",
      "28      4.083      76\n",
      "29      3.850      78\n",
      "30      4.433      79\n",
      "31      4.300      73\n",
      "32      4.467      77\n",
      "33      3.367      66\n",
      "34      4.033      80\n",
      "35      3.833      74\n",
      "36      2.017      52\n",
      "37      1.867      48\n",
      "38      4.833      80\n",
      "39      1.833      59\n",
      "40      4.783      90\n",
      "41      4.350      80\n",
      "42      1.883      58\n",
      "43      4.567      84\n",
      "44      1.750      58\n",
      "45      4.533      73\n",
      "46      3.317      83\n",
      "47      3.833      64\n",
      "48      2.100      53\n",
      "49      4.633      82\n",
      "50      2.000      59\n",
      "51      4.800      75\n",
      "52      4.716      90\n",
      "53      1.833      54\n",
      "54      4.833      80\n",
      "55      1.733      54\n",
      "56      4.883      83\n",
      "57      3.717      71\n",
      "58      1.667      64\n",
      "59      4.567      77\n",
      "60      4.317      81\n",
      "61      2.233      59\n",
      "62      4.500      84\n",
      "63      1.750      48\n",
      "64      4.800      82\n",
      "65      1.817      60\n",
      "66      4.400      92\n",
      "67      4.167      78\n",
      "68      4.700      78\n",
      "69      2.067      65\n",
      "70      4.700      73\n",
      "71      4.033      82\n",
      "72      1.967      56\n",
      "73      4.500      79\n",
      "74      4.000      71\n",
      "75      1.983      62\n",
      "76      5.067      76\n",
      "77      2.017      60\n",
      "78      4.567      78\n",
      "79      3.883      76\n",
      "80      3.600      83\n",
      "81      4.133      75\n",
      "82      4.333      82\n",
      "83      4.100      70\n",
      "84      2.633      65\n",
      "85      4.067      73\n",
      "86      4.933      88\n",
      "87      3.950      76\n",
      "88      4.517      80\n",
      "89      2.167      48\n",
      "90      4.000      86\n",
      "91      2.200      60\n",
      "92      4.333      90\n",
      "93      1.867      50\n",
      "94      4.817      78\n",
      "95      1.833      63\n",
      "96      4.300      72\n",
      "97      4.667      84\n",
      "98      3.750      75\n",
      "99      1.867      51\n",
      "100     4.900      82\n",
      "101     2.483      62\n",
      "102     4.367      88\n",
      "103     2.100      49\n",
      "104     4.500      83\n",
      "105     4.050      81\n",
      "106     1.867      47\n",
      "107     4.700      84\n",
      "108     1.783      52\n",
      "109     4.850      86\n",
      "110     3.683      81\n",
      "111     4.733      75\n",
      "112     2.300      59\n",
      "113     4.900      89\n",
      "114     4.417      79\n",
      "115     1.700      59\n",
      "116     4.633      81\n",
      "117     2.317      50\n",
      "118     4.600      85\n",
      "119     1.817      59\n",
      "120     4.417      87\n",
      "121     2.617      53\n",
      "122     4.067      69\n",
      "123     4.250      77\n",
      "124     1.967      56\n",
      "125     4.600      88\n",
      "126     3.767      81\n",
      "127     1.917      45\n",
      "128     4.500      82\n",
      "129     2.267      55\n",
      "130     4.650      90\n",
      "131     1.867      45\n",
      "132     4.167      83\n",
      "133     2.800      56\n",
      "134     4.333      89\n",
      "135     1.833      46\n",
      "136     4.383      82\n",
      "137     1.883      51\n",
      "138     4.933      86\n",
      "139     2.033      53\n",
      "140     3.733      79\n",
      "141     4.233      81\n",
      "142     2.233      60\n",
      "143     4.533      82\n",
      "144     4.817      77\n",
      "145     4.333      76\n",
      "146     1.983      59\n",
      "147     4.633      80\n",
      "148     2.017      49\n",
      "149     5.100      96\n",
      "150     1.800      53\n",
      "151     5.033      77\n",
      "152     4.000      77\n",
      "153     2.400      65\n",
      "154     4.600      81\n",
      "155     3.567      71\n",
      "156     4.000      70\n",
      "157     4.500      81\n",
      "158     4.083      93\n",
      "159     1.800      53\n",
      "160     3.967      89\n",
      "161     2.200      45\n",
      "162     4.150      86\n",
      "163     2.000      58\n",
      "164     3.833      78\n",
      "165     3.500      66\n",
      "166     4.583      76\n",
      "167     2.367      63\n",
      "168     5.000      88\n",
      "169     1.933      52\n",
      "170     4.617      93\n",
      "171     1.917      49\n",
      "172     2.083      57\n",
      "173     4.583      77\n",
      "174     3.333      68\n",
      "175     4.167      81\n",
      "176     4.333      81\n",
      "177     4.500      73\n",
      "178     2.417      50\n",
      "179     4.000      85\n",
      "180     4.167      74\n",
      "181     1.883      55\n",
      "182     4.583      77\n",
      "183     4.250      83\n",
      "184     3.767      83\n",
      "185     2.033      51\n",
      "186     4.433      78\n",
      "187     4.083      84\n",
      "188     1.833      46\n",
      "189     4.417      83\n",
      "190     2.183      55\n",
      "191     4.800      81\n",
      "192     1.833      57\n",
      "193     4.800      76\n",
      "194     4.100      84\n",
      "195     3.966      77\n",
      "196     4.233      81\n",
      "197     3.500      87\n",
      "198     4.366      77\n",
      "199     2.250      51\n",
      "200     4.667      78\n",
      "201     2.100      60\n",
      "202     4.350      82\n",
      "203     4.133      91\n",
      "204     1.867      53\n",
      "205     4.600      78\n",
      "206     1.783      46\n",
      "207     4.367      77\n",
      "208     3.850      84\n",
      "209     1.933      49\n",
      "210     4.500      83\n",
      "211     2.383      71\n",
      "212     4.700      80\n",
      "213     1.867      49\n",
      "214     3.833      75\n",
      "215     3.417      64\n",
      "216     4.233      76\n",
      "217     2.400      53\n",
      "218     4.800      94\n",
      "219     2.000      55\n",
      "220     4.150      76\n",
      "221     1.867      50\n",
      "222     4.267      82\n",
      "223     1.750      54\n",
      "224     4.483      75\n",
      "225     4.000      78\n",
      "226     4.117      79\n",
      "227     4.083      78\n",
      "228     4.267      78\n",
      "229     3.917      70\n",
      "230     4.550      79\n",
      "231     4.083      70\n",
      "232     2.417      54\n",
      "233     4.183      86\n",
      "234     2.217      50\n",
      "235     4.450      90\n",
      "236     1.883      54\n",
      "237     1.850      54\n",
      "238     4.283      77\n",
      "239     3.950      79\n",
      "240     2.333      64\n",
      "241     4.150      75\n",
      "242     2.350      47\n",
      "243     4.933      86\n",
      "244     2.900      63\n",
      "245     4.583      85\n",
      "246     3.833      82\n",
      "247     2.083      57\n",
      "248     4.367      82\n",
      "249     2.133      67\n",
      "250     4.350      74\n",
      "251     2.200      54\n",
      "252     4.450      83\n",
      "253     3.567      73\n",
      "254     4.500      73\n",
      "255     4.150      88\n",
      "256     3.817      80\n",
      "257     3.917      71\n",
      "258     4.450      83\n",
      "259     2.000      56\n",
      "260     4.283      79\n",
      "261     4.767      78\n",
      "262     4.533      84\n",
      "263     1.850      58\n",
      "264     4.250      83\n",
      "265     1.983      43\n",
      "266     2.250      60\n",
      "267     4.750      75\n",
      "268     4.117      81\n",
      "269     2.150      46\n",
      "270     4.417      90\n",
      "271     1.817      46\n",
      "272     4.467      74\n"
     ]
    }
   ],
   "source": [
    "for x in olf: print(x)"
   ]
  },
  {
   "cell_type": "markdown",
   "metadata": {},
   "source": [
    "Where does the data start?"
   ]
  },
  {
   "cell_type": "code",
   "execution_count": 17,
   "metadata": {},
   "outputs": [
    {
     "data": {
      "text/plain": [
       "25"
      ]
     },
     "execution_count": 17,
     "metadata": {},
     "output_type": "execute_result"
    }
   ],
   "source": [
    "olf.index('eruptions waiting')"
   ]
  },
  {
   "cell_type": "markdown",
   "metadata": {},
   "source": [
    "Where does it end?"
   ]
  },
  {
   "cell_type": "code",
   "execution_count": 18,
   "metadata": {},
   "outputs": [
    {
     "data": {
      "text/plain": [
       "'272     4.467      74'"
      ]
     },
     "execution_count": 18,
     "metadata": {},
     "output_type": "execute_result"
    }
   ],
   "source": [
    "olf[-1]"
   ]
  },
  {
   "cell_type": "markdown",
   "metadata": {},
   "source": [
    "Let's put it in an array."
   ]
  },
  {
   "cell_type": "code",
   "execution_count": 19,
   "metadata": {},
   "outputs": [],
   "source": [
    "dat = [[float(y) for y in x.split()[1:]] for x in olf[26:]]\n",
    "olf_mat = np.array(dat)"
   ]
  },
  {
   "cell_type": "code",
   "execution_count": 20,
   "metadata": {},
   "outputs": [
    {
     "data": {
      "text/plain": [
       "(272, 2)"
      ]
     },
     "execution_count": 20,
     "metadata": {},
     "output_type": "execute_result"
    }
   ],
   "source": [
    "olf_mat.shape"
   ]
  },
  {
   "cell_type": "markdown",
   "metadata": {},
   "source": [
    "Checks out. Let's apply $k$-means to this data. We'll take $k = 2$."
   ]
  },
  {
   "cell_type": "markdown",
   "metadata": {},
   "source": [
    "First, let's initialize with random centers from our *Old Faithful* datapoints."
   ]
  },
  {
   "cell_type": "code",
   "execution_count": 21,
   "metadata": {},
   "outputs": [],
   "source": [
    "# Choosing Centers\n",
    "#mu = olf_mat[[3, 5]]\n",
    "\n",
    "mu = np.array([[2,80],[4, 50]])\n",
    "\n",
    "\n",
    "# Creating r_nk, first assignment to clusters.\n",
    "ar = np.zeros((len(olf_mat),2))\n",
    "\n",
    "# Initializing r_nk\n",
    "for row in range(olf_mat.shape[0]):\n",
    "    dists = np.linalg.norm(row - mu, axis=1)\n",
    "    smallest = min(dists)\n",
    "    center = list(dists).index(smallest)\n",
    "    ar[row,center] = 1"
   ]
  },
  {
   "cell_type": "markdown",
   "metadata": {},
   "source": [
    "### Let's have functions to execute the two steps."
   ]
  },
  {
   "cell_type": "code",
   "execution_count": 22,
   "metadata": {},
   "outputs": [],
   "source": [
    "# This does the expectation step\n",
    "def estep():\n",
    "    # Make sure we're dealing with the right one\n",
    "    global ar # This is dangerous! Don't use global.\n",
    "    # Reset the matrix\n",
    "    ar = np.zeros((len(olf_mat),2))\n",
    "    for row in range(olf_mat.shape[0]):\n",
    "        dists = np.linalg.norm(olf_mat[row] - mu, axis=1) # Useful little bit - broadcasting\n",
    "        smallest = min(dists)\n",
    "        center = list(dists).index(smallest)\n",
    "        ar[row,center] = 1\n",
    "        \n",
    "# This does the maximization step\n",
    "def mstep():\n",
    "    for row in range(len(mu)):\n",
    "        in_cluster = olf_mat[np.where(ar[:,row])] # Using numpy's \"where\" method\n",
    "        mu[row] = np.sum(in_cluster,axis=0) / in_cluster.shape[0]"
   ]
  },
  {
   "cell_type": "markdown",
   "metadata": {},
   "source": [
    "Let's now plot the clusters we are computing"
   ]
  },
  {
   "cell_type": "code",
   "execution_count": 23,
   "metadata": {},
   "outputs": [
    {
     "data": {
      "text/html": [
       "\n",
       "    <div class=\"bk-root\">\n",
       "        <a href=\"https://bokeh.pydata.org\" target=\"_blank\" class=\"bk-logo bk-logo-small bk-logo-notebook\"></a>\n",
       "        <span id=\"b258a20b-7895-420e-bb1b-21849c1f64f7\">Loading BokehJS ...</span>\n",
       "    </div>"
      ]
     },
     "metadata": {},
     "output_type": "display_data"
    },
    {
     "data": {
      "application/javascript": [
       "\n",
       "(function(root) {\n",
       "  function now() {\n",
       "    return new Date();\n",
       "  }\n",
       "\n",
       "  var force = true;\n",
       "\n",
       "  if (typeof (root._bokeh_onload_callbacks) === \"undefined\" || force === true) {\n",
       "    root._bokeh_onload_callbacks = [];\n",
       "    root._bokeh_is_loading = undefined;\n",
       "  }\n",
       "\n",
       "  var JS_MIME_TYPE = 'application/javascript';\n",
       "  var HTML_MIME_TYPE = 'text/html';\n",
       "  var EXEC_MIME_TYPE = 'application/vnd.bokehjs_exec.v0+json';\n",
       "  var CLASS_NAME = 'output_bokeh rendered_html';\n",
       "\n",
       "  /**\n",
       "   * Render data to the DOM node\n",
       "   */\n",
       "  function render(props, node) {\n",
       "    var script = document.createElement(\"script\");\n",
       "    node.appendChild(script);\n",
       "  }\n",
       "\n",
       "  /**\n",
       "   * Handle when an output is cleared or removed\n",
       "   */\n",
       "  function handleClearOutput(event, handle) {\n",
       "    var cell = handle.cell;\n",
       "\n",
       "    var id = cell.output_area._bokeh_element_id;\n",
       "    var server_id = cell.output_area._bokeh_server_id;\n",
       "    // Clean up Bokeh references\n",
       "    if (id != null && id in Bokeh.index) {\n",
       "      Bokeh.index[id].model.document.clear();\n",
       "      delete Bokeh.index[id];\n",
       "    }\n",
       "\n",
       "    if (server_id !== undefined) {\n",
       "      // Clean up Bokeh references\n",
       "      var cmd = \"from bokeh.io.state import curstate; print(curstate().uuid_to_server['\" + server_id + \"'].get_sessions()[0].document.roots[0]._id)\";\n",
       "      cell.notebook.kernel.execute(cmd, {\n",
       "        iopub: {\n",
       "          output: function(msg) {\n",
       "            var id = msg.content.text.trim();\n",
       "            if (id in Bokeh.index) {\n",
       "              Bokeh.index[id].model.document.clear();\n",
       "              delete Bokeh.index[id];\n",
       "            }\n",
       "          }\n",
       "        }\n",
       "      });\n",
       "      // Destroy server and session\n",
       "      var cmd = \"import bokeh.io.notebook as ion; ion.destroy_server('\" + server_id + \"')\";\n",
       "      cell.notebook.kernel.execute(cmd);\n",
       "    }\n",
       "  }\n",
       "\n",
       "  /**\n",
       "   * Handle when a new output is added\n",
       "   */\n",
       "  function handleAddOutput(event, handle) {\n",
       "    var output_area = handle.output_area;\n",
       "    var output = handle.output;\n",
       "\n",
       "    // limit handleAddOutput to display_data with EXEC_MIME_TYPE content only\n",
       "    if ((output.output_type != \"display_data\") || (!output.data.hasOwnProperty(EXEC_MIME_TYPE))) {\n",
       "      return\n",
       "    }\n",
       "\n",
       "    var toinsert = output_area.element.find(\".\" + CLASS_NAME.split(' ')[0]);\n",
       "\n",
       "    if (output.metadata[EXEC_MIME_TYPE][\"id\"] !== undefined) {\n",
       "      toinsert[toinsert.length - 1].firstChild.textContent = output.data[JS_MIME_TYPE];\n",
       "      // store reference to embed id on output_area\n",
       "      output_area._bokeh_element_id = output.metadata[EXEC_MIME_TYPE][\"id\"];\n",
       "    }\n",
       "    if (output.metadata[EXEC_MIME_TYPE][\"server_id\"] !== undefined) {\n",
       "      var bk_div = document.createElement(\"div\");\n",
       "      bk_div.innerHTML = output.data[HTML_MIME_TYPE];\n",
       "      var script_attrs = bk_div.children[0].attributes;\n",
       "      for (var i = 0; i < script_attrs.length; i++) {\n",
       "        toinsert[toinsert.length - 1].firstChild.setAttribute(script_attrs[i].name, script_attrs[i].value);\n",
       "      }\n",
       "      // store reference to server id on output_area\n",
       "      output_area._bokeh_server_id = output.metadata[EXEC_MIME_TYPE][\"server_id\"];\n",
       "    }\n",
       "  }\n",
       "\n",
       "  function register_renderer(events, OutputArea) {\n",
       "\n",
       "    function append_mime(data, metadata, element) {\n",
       "      // create a DOM node to render to\n",
       "      var toinsert = this.create_output_subarea(\n",
       "        metadata,\n",
       "        CLASS_NAME,\n",
       "        EXEC_MIME_TYPE\n",
       "      );\n",
       "      this.keyboard_manager.register_events(toinsert);\n",
       "      // Render to node\n",
       "      var props = {data: data, metadata: metadata[EXEC_MIME_TYPE]};\n",
       "      render(props, toinsert[toinsert.length - 1]);\n",
       "      element.append(toinsert);\n",
       "      return toinsert\n",
       "    }\n",
       "\n",
       "    /* Handle when an output is cleared or removed */\n",
       "    events.on('clear_output.CodeCell', handleClearOutput);\n",
       "    events.on('delete.Cell', handleClearOutput);\n",
       "\n",
       "    /* Handle when a new output is added */\n",
       "    events.on('output_added.OutputArea', handleAddOutput);\n",
       "\n",
       "    /**\n",
       "     * Register the mime type and append_mime function with output_area\n",
       "     */\n",
       "    OutputArea.prototype.register_mime_type(EXEC_MIME_TYPE, append_mime, {\n",
       "      /* Is output safe? */\n",
       "      safe: true,\n",
       "      /* Index of renderer in `output_area.display_order` */\n",
       "      index: 0\n",
       "    });\n",
       "  }\n",
       "\n",
       "  // register the mime type if in Jupyter Notebook environment and previously unregistered\n",
       "  if (root.Jupyter !== undefined) {\n",
       "    var events = require('base/js/events');\n",
       "    var OutputArea = require('notebook/js/outputarea').OutputArea;\n",
       "\n",
       "    if (OutputArea.prototype.mime_types().indexOf(EXEC_MIME_TYPE) == -1) {\n",
       "      register_renderer(events, OutputArea);\n",
       "    }\n",
       "  }\n",
       "\n",
       "  \n",
       "  if (typeof (root._bokeh_timeout) === \"undefined\" || force === true) {\n",
       "    root._bokeh_timeout = Date.now() + 5000;\n",
       "    root._bokeh_failed_load = false;\n",
       "  }\n",
       "\n",
       "  var NB_LOAD_WARNING = {'data': {'text/html':\n",
       "     \"<div style='background-color: #fdd'>\\n\"+\n",
       "     \"<p>\\n\"+\n",
       "     \"BokehJS does not appear to have successfully loaded. If loading BokehJS from CDN, this \\n\"+\n",
       "     \"may be due to a slow or bad network connection. Possible fixes:\\n\"+\n",
       "     \"</p>\\n\"+\n",
       "     \"<ul>\\n\"+\n",
       "     \"<li>re-rerun `output_notebook()` to attempt to load from CDN again, or</li>\\n\"+\n",
       "     \"<li>use INLINE resources instead, as so:</li>\\n\"+\n",
       "     \"</ul>\\n\"+\n",
       "     \"<code>\\n\"+\n",
       "     \"from bokeh.resources import INLINE\\n\"+\n",
       "     \"output_notebook(resources=INLINE)\\n\"+\n",
       "     \"</code>\\n\"+\n",
       "     \"</div>\"}};\n",
       "\n",
       "  function display_loaded() {\n",
       "    var el = document.getElementById(\"b258a20b-7895-420e-bb1b-21849c1f64f7\");\n",
       "    if (el != null) {\n",
       "      el.textContent = \"BokehJS is loading...\";\n",
       "    }\n",
       "    if (root.Bokeh !== undefined) {\n",
       "      if (el != null) {\n",
       "        el.textContent = \"BokehJS \" + root.Bokeh.version + \" successfully loaded.\";\n",
       "      }\n",
       "    } else if (Date.now() < root._bokeh_timeout) {\n",
       "      setTimeout(display_loaded, 100)\n",
       "    }\n",
       "  }\n",
       "\n",
       "\n",
       "  function run_callbacks() {\n",
       "    try {\n",
       "      root._bokeh_onload_callbacks.forEach(function(callback) { callback() });\n",
       "    }\n",
       "    finally {\n",
       "      delete root._bokeh_onload_callbacks\n",
       "    }\n",
       "    console.info(\"Bokeh: all callbacks have finished\");\n",
       "  }\n",
       "\n",
       "  function load_libs(js_urls, callback) {\n",
       "    root._bokeh_onload_callbacks.push(callback);\n",
       "    if (root._bokeh_is_loading > 0) {\n",
       "      console.log(\"Bokeh: BokehJS is being loaded, scheduling callback at\", now());\n",
       "      return null;\n",
       "    }\n",
       "    if (js_urls == null || js_urls.length === 0) {\n",
       "      run_callbacks();\n",
       "      return null;\n",
       "    }\n",
       "    console.log(\"Bokeh: BokehJS not loaded, scheduling load and callback at\", now());\n",
       "    root._bokeh_is_loading = js_urls.length;\n",
       "    for (var i = 0; i < js_urls.length; i++) {\n",
       "      var url = js_urls[i];\n",
       "      var s = document.createElement('script');\n",
       "      s.src = url;\n",
       "      s.async = false;\n",
       "      s.onreadystatechange = s.onload = function() {\n",
       "        root._bokeh_is_loading--;\n",
       "        if (root._bokeh_is_loading === 0) {\n",
       "          console.log(\"Bokeh: all BokehJS libraries loaded\");\n",
       "          run_callbacks()\n",
       "        }\n",
       "      };\n",
       "      s.onerror = function() {\n",
       "        console.warn(\"failed to load library \" + url);\n",
       "      };\n",
       "      console.log(\"Bokeh: injecting script tag for BokehJS library: \", url);\n",
       "      document.getElementsByTagName(\"head\")[0].appendChild(s);\n",
       "    }\n",
       "  };var element = document.getElementById(\"b258a20b-7895-420e-bb1b-21849c1f64f7\");\n",
       "  if (element == null) {\n",
       "    console.log(\"Bokeh: ERROR: autoload.js configured with elementid 'b258a20b-7895-420e-bb1b-21849c1f64f7' but no matching script tag was found. \")\n",
       "    return false;\n",
       "  }\n",
       "\n",
       "  var js_urls = [\"https://cdn.pydata.org/bokeh/release/bokeh-0.13.0.min.js\", \"https://cdn.pydata.org/bokeh/release/bokeh-widgets-0.13.0.min.js\", \"https://cdn.pydata.org/bokeh/release/bokeh-tables-0.13.0.min.js\", \"https://cdn.pydata.org/bokeh/release/bokeh-gl-0.13.0.min.js\"];\n",
       "\n",
       "  var inline_js = [\n",
       "    function(Bokeh) {\n",
       "      Bokeh.set_log_level(\"info\");\n",
       "    },\n",
       "    \n",
       "    function(Bokeh) {\n",
       "      \n",
       "    },\n",
       "    function(Bokeh) {\n",
       "      console.log(\"Bokeh: injecting CSS: https://cdn.pydata.org/bokeh/release/bokeh-0.13.0.min.css\");\n",
       "      Bokeh.embed.inject_css(\"https://cdn.pydata.org/bokeh/release/bokeh-0.13.0.min.css\");\n",
       "      console.log(\"Bokeh: injecting CSS: https://cdn.pydata.org/bokeh/release/bokeh-widgets-0.13.0.min.css\");\n",
       "      Bokeh.embed.inject_css(\"https://cdn.pydata.org/bokeh/release/bokeh-widgets-0.13.0.min.css\");\n",
       "      console.log(\"Bokeh: injecting CSS: https://cdn.pydata.org/bokeh/release/bokeh-tables-0.13.0.min.css\");\n",
       "      Bokeh.embed.inject_css(\"https://cdn.pydata.org/bokeh/release/bokeh-tables-0.13.0.min.css\");\n",
       "    }\n",
       "  ];\n",
       "\n",
       "  function run_inline_js() {\n",
       "    \n",
       "    if ((root.Bokeh !== undefined) || (force === true)) {\n",
       "      for (var i = 0; i < inline_js.length; i++) {\n",
       "        inline_js[i].call(root, root.Bokeh);\n",
       "      }if (force === true) {\n",
       "        display_loaded();\n",
       "      }} else if (Date.now() < root._bokeh_timeout) {\n",
       "      setTimeout(run_inline_js, 100);\n",
       "    } else if (!root._bokeh_failed_load) {\n",
       "      console.log(\"Bokeh: BokehJS failed to load within specified timeout.\");\n",
       "      root._bokeh_failed_load = true;\n",
       "    } else if (force !== true) {\n",
       "      var cell = $(document.getElementById(\"b258a20b-7895-420e-bb1b-21849c1f64f7\")).parents('.cell').data().cell;\n",
       "      cell.output_area.append_execute_result(NB_LOAD_WARNING)\n",
       "    }\n",
       "\n",
       "  }\n",
       "\n",
       "  if (root._bokeh_is_loading === 0) {\n",
       "    console.log(\"Bokeh: BokehJS loaded, going straight to plotting\");\n",
       "    run_inline_js();\n",
       "  } else {\n",
       "    load_libs(js_urls, function() {\n",
       "      console.log(\"Bokeh: BokehJS plotting callback run at\", now());\n",
       "      run_inline_js();\n",
       "    });\n",
       "  }\n",
       "}(window));"
      ],
      "application/vnd.bokehjs_load.v0+json": "\n(function(root) {\n  function now() {\n    return new Date();\n  }\n\n  var force = true;\n\n  if (typeof (root._bokeh_onload_callbacks) === \"undefined\" || force === true) {\n    root._bokeh_onload_callbacks = [];\n    root._bokeh_is_loading = undefined;\n  }\n\n  \n\n  \n  if (typeof (root._bokeh_timeout) === \"undefined\" || force === true) {\n    root._bokeh_timeout = Date.now() + 5000;\n    root._bokeh_failed_load = false;\n  }\n\n  var NB_LOAD_WARNING = {'data': {'text/html':\n     \"<div style='background-color: #fdd'>\\n\"+\n     \"<p>\\n\"+\n     \"BokehJS does not appear to have successfully loaded. If loading BokehJS from CDN, this \\n\"+\n     \"may be due to a slow or bad network connection. Possible fixes:\\n\"+\n     \"</p>\\n\"+\n     \"<ul>\\n\"+\n     \"<li>re-rerun `output_notebook()` to attempt to load from CDN again, or</li>\\n\"+\n     \"<li>use INLINE resources instead, as so:</li>\\n\"+\n     \"</ul>\\n\"+\n     \"<code>\\n\"+\n     \"from bokeh.resources import INLINE\\n\"+\n     \"output_notebook(resources=INLINE)\\n\"+\n     \"</code>\\n\"+\n     \"</div>\"}};\n\n  function display_loaded() {\n    var el = document.getElementById(\"b258a20b-7895-420e-bb1b-21849c1f64f7\");\n    if (el != null) {\n      el.textContent = \"BokehJS is loading...\";\n    }\n    if (root.Bokeh !== undefined) {\n      if (el != null) {\n        el.textContent = \"BokehJS \" + root.Bokeh.version + \" successfully loaded.\";\n      }\n    } else if (Date.now() < root._bokeh_timeout) {\n      setTimeout(display_loaded, 100)\n    }\n  }\n\n\n  function run_callbacks() {\n    try {\n      root._bokeh_onload_callbacks.forEach(function(callback) { callback() });\n    }\n    finally {\n      delete root._bokeh_onload_callbacks\n    }\n    console.info(\"Bokeh: all callbacks have finished\");\n  }\n\n  function load_libs(js_urls, callback) {\n    root._bokeh_onload_callbacks.push(callback);\n    if (root._bokeh_is_loading > 0) {\n      console.log(\"Bokeh: BokehJS is being loaded, scheduling callback at\", now());\n      return null;\n    }\n    if (js_urls == null || js_urls.length === 0) {\n      run_callbacks();\n      return null;\n    }\n    console.log(\"Bokeh: BokehJS not loaded, scheduling load and callback at\", now());\n    root._bokeh_is_loading = js_urls.length;\n    for (var i = 0; i < js_urls.length; i++) {\n      var url = js_urls[i];\n      var s = document.createElement('script');\n      s.src = url;\n      s.async = false;\n      s.onreadystatechange = s.onload = function() {\n        root._bokeh_is_loading--;\n        if (root._bokeh_is_loading === 0) {\n          console.log(\"Bokeh: all BokehJS libraries loaded\");\n          run_callbacks()\n        }\n      };\n      s.onerror = function() {\n        console.warn(\"failed to load library \" + url);\n      };\n      console.log(\"Bokeh: injecting script tag for BokehJS library: \", url);\n      document.getElementsByTagName(\"head\")[0].appendChild(s);\n    }\n  };var element = document.getElementById(\"b258a20b-7895-420e-bb1b-21849c1f64f7\");\n  if (element == null) {\n    console.log(\"Bokeh: ERROR: autoload.js configured with elementid 'b258a20b-7895-420e-bb1b-21849c1f64f7' but no matching script tag was found. \")\n    return false;\n  }\n\n  var js_urls = [\"https://cdn.pydata.org/bokeh/release/bokeh-0.13.0.min.js\", \"https://cdn.pydata.org/bokeh/release/bokeh-widgets-0.13.0.min.js\", \"https://cdn.pydata.org/bokeh/release/bokeh-tables-0.13.0.min.js\", \"https://cdn.pydata.org/bokeh/release/bokeh-gl-0.13.0.min.js\"];\n\n  var inline_js = [\n    function(Bokeh) {\n      Bokeh.set_log_level(\"info\");\n    },\n    \n    function(Bokeh) {\n      \n    },\n    function(Bokeh) {\n      console.log(\"Bokeh: injecting CSS: https://cdn.pydata.org/bokeh/release/bokeh-0.13.0.min.css\");\n      Bokeh.embed.inject_css(\"https://cdn.pydata.org/bokeh/release/bokeh-0.13.0.min.css\");\n      console.log(\"Bokeh: injecting CSS: https://cdn.pydata.org/bokeh/release/bokeh-widgets-0.13.0.min.css\");\n      Bokeh.embed.inject_css(\"https://cdn.pydata.org/bokeh/release/bokeh-widgets-0.13.0.min.css\");\n      console.log(\"Bokeh: injecting CSS: https://cdn.pydata.org/bokeh/release/bokeh-tables-0.13.0.min.css\");\n      Bokeh.embed.inject_css(\"https://cdn.pydata.org/bokeh/release/bokeh-tables-0.13.0.min.css\");\n    }\n  ];\n\n  function run_inline_js() {\n    \n    if ((root.Bokeh !== undefined) || (force === true)) {\n      for (var i = 0; i < inline_js.length; i++) {\n        inline_js[i].call(root, root.Bokeh);\n      }if (force === true) {\n        display_loaded();\n      }} else if (Date.now() < root._bokeh_timeout) {\n      setTimeout(run_inline_js, 100);\n    } else if (!root._bokeh_failed_load) {\n      console.log(\"Bokeh: BokehJS failed to load within specified timeout.\");\n      root._bokeh_failed_load = true;\n    } else if (force !== true) {\n      var cell = $(document.getElementById(\"b258a20b-7895-420e-bb1b-21849c1f64f7\")).parents('.cell').data().cell;\n      cell.output_area.append_execute_result(NB_LOAD_WARNING)\n    }\n\n  }\n\n  if (root._bokeh_is_loading === 0) {\n    console.log(\"Bokeh: BokehJS loaded, going straight to plotting\");\n    run_inline_js();\n  } else {\n    load_libs(js_urls, function() {\n      console.log(\"Bokeh: BokehJS plotting callback run at\", now());\n      run_inline_js();\n    });\n  }\n}(window));"
     },
     "metadata": {},
     "output_type": "display_data"
    },
    {
     "data": {
      "text/html": [
       "\n",
       "\n",
       "\n",
       "\n",
       "\n",
       "\n",
       "  <div class=\"bk-root\" id=\"0074f7d3-2aa5-47ea-a532-f700c5671a16\"></div>\n"
      ]
     },
     "metadata": {},
     "output_type": "display_data"
    },
    {
     "data": {
      "application/javascript": [
       "(function(root) {\n",
       "  function embed_document(root) {\n",
       "    \n",
       "  var docs_json = {\"6cc7042e-83dd-489a-bc6a-40371914db31\":{\"roots\":{\"references\":[{\"attributes\":{\"callback\":null,\"data\":{\"x\":{\"__ndarray__\":\"zczMzMzMDEBEi2zn+6kKQG8Sg8DKIRJAzczMzMzMEkDNzMzMzMwMQGZmZmZmZhFAvHSTGARWD0DNzMzMzMwQQM3MzMzMzBJAMzMzMzMzE0AAAAAAAAARQJqZmZmZmQtAbxKDwMohEkDNzMzMzMwMQKJFtvP9VBBAzczMzMzMDkAIrBxaZLsRQDMzMzMzMxFAke18PzXeEUBvEoPAyiEQQESLbOf7qQ5AokW28/1UE0BvEoPAyiETQGZmZmZmZhFA+FPjpZtEEkBvEoPAyiESQPCnxks3iQpA1XjpJjGIEkAzMzMzMzMTQHe+nxov3RJAokW28/1UE0DVeOkmMYgTQCPb+X5qvA1A+FPjpZtEEkD4U+Olm0QRQAAAAAAAABJAMzMzMzMzE0CamZmZmZkRQF66SQwCqxBAzczMzMzMEkDNzMzMzMwSQG8Sg8DKIRBAAAAAAAAAEkAAAAAAAAAQQPhT46WbRBRA+FPjpZtEEkCq8dJNYhAPQM3MzMzMzAxA1XjpJjGIEECiRbbz/VQRQPhT46WbRBBACKwcWmS7E0CamZmZmZkPQMUgsHJoERJAAAAAAAAAEECiRbbz/VQRQPhT46WbRBNAMzMzMzMzEUBeukkMAqsSQAAAAAAAAA5AmpmZmZmZE0ArhxbZzncRQAAAAAAAABJAMzMzMzMzEEDNzMzMzMwSQGZmZmZmZhNAEFg5tMh2DUA730+Nl+4SQJqZmZmZmRNAXrpJDAKrEUDVeOkmMYgSQGZmZmZmZhJAXrpJDAKrEUAAAAAAAAARQGZmZmZmZhJAiUFg5dAiDkAAAAAAAAASQJqZmZmZmRJAXrpJDAKrEECiRbbz/VQRQNV46SYxiBFACKwcWmS7E0B3vp8aL90NQDvfT42X7hBAbxKDwMohEkD4U+Olm0QTQKJFtvP9VBFA1XjpJjGIEkBmZmZmZmYUQG8Sg8DKIRRAAAAAAAAAEEBmZmZmZmYSQPCnxks3iQxAAAAAAAAAEkCiRbbz/VQQQCPb+X5qvA9AmpmZmZmZEEBEi2zn+6kOQKJFtvP9VBJAAAAAAAAAFEArhxbZzncSQKJFtvP9VBJAXrpJDAKrEECiRbbz/VQRQAAAAAAAABJAAAAAAAAAEEBeukkMAqsQQKJFtvP9VBJAAAAAAAAAEUCJQWDl0CIOQAisHFpkuxFAokW28/1UEEBeukkMAqsRQDMzMzMzMxNAMzMzMzMzE0BmZmZmZmYQQO58PzVeug9AO99PjZfuEEAAAAAAAAAMQBBYObTIdhFAXrpJDAKrEkBmZmZmZmYRQNV46SYxiBBAZmZmZmZmEkArhxbZzncRQM3MzMzMzA5AAAAAAAAAEkCq8dJNYhADQM3MzMzMzBJARIts5/upDkA730+Nl+4QQDMzMzMzMxNAmpmZmZmZEEDFILByaBERQDvfT42X7hFAAAAAAAAAEEArhxbZzncQQKJFtvP9VBBAxSCwcmgREUAzMzMzMzMSQAisHFpkuxBAzczMzMzMEUBvEoPAyiERQJqZmZmZmQ9AmpmZmZmZEEAIrBxaZLsTQKJFtvP9VBJARIts5/upDkArhxbZzncRQGZmZmZmZhFAzczMzMzMEUDwp8ZLN4kMQAAAAAAAABJAmpmZmZmZEEDwp8ZLN4kOQLx0kxgEVg9AzczMzMzMEUBvEoPAyiERQMUgsHJoERNAbxKDwMohEkAAAAAAAAARQAAAAAAAABNAK4cW2c53EEBeukkMAqsRQJHtfD813hFA\",\"dtype\":\"float64\",\"shape\":[165]},\"y\":{\"__ndarray__\":\"AAAAAADAU0AAAAAAAIBSQAAAAAAAQFVAAAAAAAAAVkAAAAAAAEBVQAAAAAAAQFVAAAAAAAAAVUAAAAAAAIBTQAAAAAAAwFRAAAAAAAAAVUAAAAAAAMBTQAAAAAAAgFNAAAAAAACAUkAAAAAAAMBUQAAAAAAAAFNAAAAAAACAU0AAAAAAAMBTQAAAAAAAQFJAAAAAAABAU0AAAAAAAABUQAAAAAAAgFJAAAAAAAAAVEAAAAAAAIBWQAAAAAAAAFRAAAAAAAAAVUAAAAAAAEBSQAAAAAAAwFRAAAAAAACAVEAAAAAAAMBSQAAAAAAAgFZAAAAAAAAAVEAAAAAAAMBUQAAAAAAAwFFAAAAAAABAU0AAAAAAAEBUQAAAAAAAAFVAAAAAAACAVEAAAAAAAABXQAAAAAAAgFNAAAAAAACAU0AAAAAAAEBSQAAAAAAAgFRAAAAAAADAU0AAAAAAAMBRQAAAAAAAAFNAAAAAAACAU0AAAAAAAABTQAAAAAAAwFRAAAAAAADAUkAAAAAAAIBUQAAAAAAAQFJAAAAAAAAAVkAAAAAAAABTQAAAAAAAAFRAAAAAAACAVUAAAAAAAIBWQAAAAAAAgFNAAAAAAAAAUkAAAAAAAABVQAAAAAAAwFJAAAAAAACAVEAAAAAAAABWQAAAAAAAwFRAAAAAAABAVEAAAAAAAABVQAAAAAAAgFVAAAAAAABAVEAAAAAAAMBSQAAAAAAAQFZAAAAAAADAU0AAAAAAAEBUQAAAAAAAQFVAAAAAAADAVUAAAAAAAEBTQAAAAAAAAFZAAAAAAABAVEAAAAAAAIBUQAAAAAAAgFZAAAAAAADAVEAAAAAAAEBWQAAAAAAAgFRAAAAAAACAVUAAAAAAAMBTQAAAAAAAQFRAAAAAAACAVEAAAAAAAEBTQAAAAAAAAFNAAAAAAAAAVEAAAAAAAABYQAAAAAAAQFNAAAAAAABAU0AAAAAAAEBUQAAAAAAAwFFAAAAAAABAVEAAAAAAAEBXQAAAAAAAQFZAAAAAAACAVUAAAAAAAIBTQAAAAAAAAFNAAAAAAAAAVkAAAAAAAEBXQAAAAAAAQFNAAAAAAABAVEAAAAAAAEBUQAAAAAAAQFJAAAAAAABAVUAAAAAAAIBSQAAAAAAAQFNAAAAAAADAVEAAAAAAAMBUQAAAAAAAgFNAAAAAAAAAVUAAAAAAAMBUQAAAAAAAQFRAAAAAAAAAU0AAAAAAAABVQAAAAAAAQFNAAAAAAABAVEAAAAAAAMBVQAAAAAAAQFNAAAAAAACAU0AAAAAAAIBUQAAAAAAAwFZAAAAAAACAU0AAAAAAAEBTQAAAAAAAAFVAAAAAAADAVEAAAAAAAMBRQAAAAAAAAFRAAAAAAADAUkAAAAAAAABTQAAAAAAAgFdAAAAAAAAAU0AAAAAAAIBUQAAAAAAAwFJAAAAAAACAU0AAAAAAAMBTQAAAAAAAgFNAAAAAAACAU0AAAAAAAMBTQAAAAAAAgFVAAAAAAACAVkAAAAAAAEBTQAAAAAAAwFNAAAAAAADAUkAAAAAAAIBVQAAAAAAAQFVAAAAAAACAVEAAAAAAAIBUQAAAAAAAgFJAAAAAAADAVEAAAAAAAEBSQAAAAAAAQFJAAAAAAAAAVkAAAAAAAABUQAAAAAAAwFFAAAAAAADAVEAAAAAAAMBTQAAAAAAAgFNAAAAAAAAAVUAAAAAAAMBUQAAAAAAAwFJAAAAAAABAVEAAAAAAAIBWQAAAAAAAgFJA\",\"dtype\":\"float64\",\"shape\":[165]}},\"selected\":{\"id\":\"3572490f-4a76-445b-b1f7-12fb98007ed8\",\"type\":\"Selection\"},\"selection_policy\":{\"id\":\"2f8347ff-a00c-4f60-b2d3-b6b9f01ce59e\",\"type\":\"UnionRenderers\"}},\"id\":\"d1457528-7952-44cb-9d8b-0a301b47fc99\",\"type\":\"ColumnDataSource\"},{\"attributes\":{\"data_source\":{\"id\":\"d1457528-7952-44cb-9d8b-0a301b47fc99\",\"type\":\"ColumnDataSource\"},\"glyph\":{\"id\":\"264bfb9d-baa0-4f20-913c-90605b77e5e5\",\"type\":\"Circle\"},\"hover_glyph\":null,\"muted_glyph\":null,\"nonselection_glyph\":{\"id\":\"23c7d402-5433-40a0-aa6e-78edda9bbd53\",\"type\":\"Circle\"},\"selection_glyph\":null,\"view\":{\"id\":\"73eaf480-0164-4db3-adf7-99285d0b8101\",\"type\":\"CDSView\"}},\"id\":\"f9875a60-72e6-4953-9086-1559583eaf3a\",\"type\":\"GlyphRenderer\"},{\"attributes\":{\"plot\":null,\"text\":\"Old Faithful\"},\"id\":\"f39ea2ce-27ef-4a09-ac22-403037390840\",\"type\":\"Title\"},{\"attributes\":{\"overlay\":{\"id\":\"7a4bcab8-2365-428f-8825-d0a95cd5b04d\",\"type\":\"BoxAnnotation\"}},\"id\":\"855b35d3-0311-464e-ac13-f0dad771cec6\",\"type\":\"BoxZoomTool\"},{\"attributes\":{\"source\":{\"id\":\"1b6bffbf-a285-4a91-aafe-8c3e35db56e9\",\"type\":\"ColumnDataSource\"}},\"id\":\"4a7db4ad-d85a-4768-badd-a2d4facacbc7\",\"type\":\"CDSView\"},{\"attributes\":{},\"id\":\"3572490f-4a76-445b-b1f7-12fb98007ed8\",\"type\":\"Selection\"},{\"attributes\":{\"fill_alpha\":{\"value\":0.1},\"fill_color\":{\"value\":\"#1f77b4\"},\"line_alpha\":{\"value\":0.1},\"line_color\":{\"value\":\"#1f77b4\"},\"size\":{\"units\":\"screen\",\"value\":15},\"x\":{\"field\":\"x\"},\"y\":{\"field\":\"y\"}},\"id\":\"23c7d402-5433-40a0-aa6e-78edda9bbd53\",\"type\":\"Circle\"},{\"attributes\":{\"fill_alpha\":{\"value\":0.5},\"fill_color\":{\"value\":\"blue\"},\"line_alpha\":{\"value\":0.5},\"line_color\":{\"value\":\"navy\"},\"size\":{\"units\":\"screen\",\"value\":15},\"x\":{\"field\":\"x\"},\"y\":{\"field\":\"y\"}},\"id\":\"264bfb9d-baa0-4f20-913c-90605b77e5e5\",\"type\":\"Circle\"},{\"attributes\":{},\"id\":\"4f14e5c4-bb09-47dc-9fbc-0f7d91b5f30f\",\"type\":\"HelpTool\"},{\"attributes\":{},\"id\":\"b72cbe00-cb45-4072-950d-ff2b2cbe0006\",\"type\":\"PanTool\"},{\"attributes\":{\"background_fill_color\":{\"value\":\"#eeeeee\"},\"below\":[{\"id\":\"cb08682a-9206-4a43-bab3-c621bcd60585\",\"type\":\"LinearAxis\"}],\"left\":[{\"id\":\"dabeff54-f1a3-400b-83a2-fbccd17d2cbb\",\"type\":\"LinearAxis\"}],\"renderers\":[{\"id\":\"cb08682a-9206-4a43-bab3-c621bcd60585\",\"type\":\"LinearAxis\"},{\"id\":\"fff1faa3-f763-4e05-838d-f6075779f337\",\"type\":\"Grid\"},{\"id\":\"dabeff54-f1a3-400b-83a2-fbccd17d2cbb\",\"type\":\"LinearAxis\"},{\"id\":\"5ddbdabf-dded-4a37-8568-d7ad0553141c\",\"type\":\"Grid\"},{\"id\":\"7a4bcab8-2365-428f-8825-d0a95cd5b04d\",\"type\":\"BoxAnnotation\"},{\"id\":\"f9875a60-72e6-4953-9086-1559583eaf3a\",\"type\":\"GlyphRenderer\"},{\"id\":\"f1f1734a-ead9-4884-ab07-026b5d75d0a5\",\"type\":\"GlyphRenderer\"}],\"title\":{\"id\":\"f39ea2ce-27ef-4a09-ac22-403037390840\",\"type\":\"Title\"},\"toolbar\":{\"id\":\"e26248a0-5bd8-4da6-b030-df09310f0f0a\",\"type\":\"Toolbar\"},\"toolbar_location\":null,\"x_range\":{\"id\":\"ac4cc926-a08a-4f42-9bce-f22b754a8b4a\",\"type\":\"DataRange1d\"},\"x_scale\":{\"id\":\"b9ad0f44-9c11-4fc9-9c1f-c6279fda5965\",\"type\":\"LinearScale\"},\"y_range\":{\"id\":\"7031944c-660a-42cb-ac91-66d80c063b59\",\"type\":\"DataRange1d\"},\"y_scale\":{\"id\":\"c3817a9f-7988-4ead-bddc-b612ad396400\",\"type\":\"LinearScale\"}},\"id\":\"f81eeabe-5c33-453c-8ab9-f9d0567f05ec\",\"subtype\":\"Figure\",\"type\":\"Plot\"},{\"attributes\":{\"fill_alpha\":{\"value\":0.1},\"fill_color\":{\"value\":\"#1f77b4\"},\"line_alpha\":{\"value\":0.1},\"line_color\":{\"value\":\"#1f77b4\"},\"size\":{\"units\":\"screen\",\"value\":15},\"x\":{\"field\":\"x\"},\"y\":{\"field\":\"y\"}},\"id\":\"e063f965-91b9-421b-abc6-9ab96801c2fa\",\"type\":\"Square\"},{\"attributes\":{},\"id\":\"1401b3cf-74f7-4740-be44-1aac98a046f1\",\"type\":\"BasicTicker\"},{\"attributes\":{\"bottom_units\":\"screen\",\"fill_alpha\":{\"value\":0.5},\"fill_color\":{\"value\":\"lightgrey\"},\"left_units\":\"screen\",\"level\":\"overlay\",\"line_alpha\":{\"value\":1.0},\"line_color\":{\"value\":\"black\"},\"line_dash\":[4,4],\"line_width\":{\"value\":2},\"plot\":null,\"render_mode\":\"css\",\"right_units\":\"screen\",\"top_units\":\"screen\"},\"id\":\"7a4bcab8-2365-428f-8825-d0a95cd5b04d\",\"type\":\"BoxAnnotation\"},{\"attributes\":{\"fill_alpha\":{\"value\":0.5},\"fill_color\":{\"value\":\"orange\"},\"line_alpha\":{\"value\":0.5},\"line_color\":{\"value\":\"navy\"},\"size\":{\"units\":\"screen\",\"value\":15},\"x\":{\"field\":\"x\"},\"y\":{\"field\":\"y\"}},\"id\":\"eb31fcf4-64db-4471-a598-b31fe59fec50\",\"type\":\"Square\"},{\"attributes\":{\"callback\":null},\"id\":\"7031944c-660a-42cb-ac91-66d80c063b59\",\"type\":\"DataRange1d\"},{\"attributes\":{\"data_source\":{\"id\":\"1b6bffbf-a285-4a91-aafe-8c3e35db56e9\",\"type\":\"ColumnDataSource\"},\"glyph\":{\"id\":\"eb31fcf4-64db-4471-a598-b31fe59fec50\",\"type\":\"Square\"},\"hover_glyph\":null,\"muted_glyph\":null,\"nonselection_glyph\":{\"id\":\"e063f965-91b9-421b-abc6-9ab96801c2fa\",\"type\":\"Square\"},\"selection_glyph\":null,\"view\":{\"id\":\"4a7db4ad-d85a-4768-badd-a2d4facacbc7\",\"type\":\"CDSView\"}},\"id\":\"f1f1734a-ead9-4884-ab07-026b5d75d0a5\",\"type\":\"GlyphRenderer\"},{\"attributes\":{},\"id\":\"2f8347ff-a00c-4f60-b2d3-b6b9f01ce59e\",\"type\":\"UnionRenderers\"},{\"attributes\":{\"formatter\":{\"id\":\"83fe4c4c-0ead-41c9-983c-a02819c7c3f3\",\"type\":\"BasicTickFormatter\"},\"plot\":{\"id\":\"f81eeabe-5c33-453c-8ab9-f9d0567f05ec\",\"subtype\":\"Figure\",\"type\":\"Plot\"},\"ticker\":{\"id\":\"f0cbb599-118b-47da-9803-5ce6289f5991\",\"type\":\"BasicTicker\"}},\"id\":\"dabeff54-f1a3-400b-83a2-fbccd17d2cbb\",\"type\":\"LinearAxis\"},{\"attributes\":{},\"id\":\"f0cbb599-118b-47da-9803-5ce6289f5991\",\"type\":\"BasicTicker\"},{\"attributes\":{},\"id\":\"69a02f48-6ecc-499e-886d-a8c0eaf97e9e\",\"type\":\"ResetTool\"},{\"attributes\":{\"dimension\":1,\"grid_line_color\":{\"value\":null},\"plot\":{\"id\":\"f81eeabe-5c33-453c-8ab9-f9d0567f05ec\",\"subtype\":\"Figure\",\"type\":\"Plot\"},\"ticker\":{\"id\":\"f0cbb599-118b-47da-9803-5ce6289f5991\",\"type\":\"BasicTicker\"}},\"id\":\"5ddbdabf-dded-4a37-8568-d7ad0553141c\",\"type\":\"Grid\"},{\"attributes\":{},\"id\":\"3f98532a-d33f-48bd-9b5a-6f3c1416573b\",\"type\":\"SaveTool\"},{\"attributes\":{},\"id\":\"fda4af90-a457-4cff-ac74-f899e163f0d6\",\"type\":\"Selection\"},{\"attributes\":{\"formatter\":{\"id\":\"3693b6c7-61fa-4c82-b4fa-eb2626851265\",\"type\":\"BasicTickFormatter\"},\"plot\":{\"id\":\"f81eeabe-5c33-453c-8ab9-f9d0567f05ec\",\"subtype\":\"Figure\",\"type\":\"Plot\"},\"ticker\":{\"id\":\"1401b3cf-74f7-4740-be44-1aac98a046f1\",\"type\":\"BasicTicker\"}},\"id\":\"cb08682a-9206-4a43-bab3-c621bcd60585\",\"type\":\"LinearAxis\"},{\"attributes\":{\"source\":{\"id\":\"d1457528-7952-44cb-9d8b-0a301b47fc99\",\"type\":\"ColumnDataSource\"}},\"id\":\"73eaf480-0164-4db3-adf7-99285d0b8101\",\"type\":\"CDSView\"},{\"attributes\":{},\"id\":\"3693b6c7-61fa-4c82-b4fa-eb2626851265\",\"type\":\"BasicTickFormatter\"},{\"attributes\":{},\"id\":\"c3817a9f-7988-4ead-bddc-b612ad396400\",\"type\":\"LinearScale\"},{\"attributes\":{},\"id\":\"b9ad0f44-9c11-4fc9-9c1f-c6279fda5965\",\"type\":\"LinearScale\"},{\"attributes\":{},\"id\":\"83fe4c4c-0ead-41c9-983c-a02819c7c3f3\",\"type\":\"BasicTickFormatter\"},{\"attributes\":{\"active_drag\":\"auto\",\"active_inspect\":\"auto\",\"active_multi\":null,\"active_scroll\":\"auto\",\"active_tap\":\"auto\",\"tools\":[{\"id\":\"b72cbe00-cb45-4072-950d-ff2b2cbe0006\",\"type\":\"PanTool\"},{\"id\":\"844f18c5-762e-44e8-952a-6017fdfadf4b\",\"type\":\"WheelZoomTool\"},{\"id\":\"855b35d3-0311-464e-ac13-f0dad771cec6\",\"type\":\"BoxZoomTool\"},{\"id\":\"3f98532a-d33f-48bd-9b5a-6f3c1416573b\",\"type\":\"SaveTool\"},{\"id\":\"69a02f48-6ecc-499e-886d-a8c0eaf97e9e\",\"type\":\"ResetTool\"},{\"id\":\"4f14e5c4-bb09-47dc-9fbc-0f7d91b5f30f\",\"type\":\"HelpTool\"}]},\"id\":\"e26248a0-5bd8-4da6-b030-df09310f0f0a\",\"type\":\"Toolbar\"},{\"attributes\":{},\"id\":\"844f18c5-762e-44e8-952a-6017fdfadf4b\",\"type\":\"WheelZoomTool\"},{\"attributes\":{},\"id\":\"3267cd5d-c76d-46fa-b7e3-011719bb7dca\",\"type\":\"UnionRenderers\"},{\"attributes\":{\"callback\":null},\"id\":\"ac4cc926-a08a-4f42-9bce-f22b754a8b4a\",\"type\":\"DataRange1d\"},{\"attributes\":{\"grid_line_color\":{\"value\":null},\"plot\":{\"id\":\"f81eeabe-5c33-453c-8ab9-f9d0567f05ec\",\"subtype\":\"Figure\",\"type\":\"Plot\"},\"ticker\":{\"id\":\"1401b3cf-74f7-4740-be44-1aac98a046f1\",\"type\":\"BasicTicker\"}},\"id\":\"fff1faa3-f763-4e05-838d-f6075779f337\",\"type\":\"Grid\"},{\"attributes\":{\"callback\":null,\"data\":{\"x\":{\"__ndarray__\":\"zczMzMzM/D/dJAaBlUMCQKrx0k1iEAdAMzMzMzMz/z+HFtnO91P9PwAAAAAAAPw/vHSTGARWAUAAAAAAAAD8P5qZmZmZmfk/zczMzMzM/D8AAAAAAAD8P/Cnxks3iQhARrbz/dR4/z9WDi2yne8KQIlBYOXQIgBArBxaZDvf/T+HFtnO91P9P1TjpZvEIP4/AAAAAAAA/D9Ei2zn+6kOQM3MzMzMzABAAAAAAAAAAECHFtnO91P9P+58PzVeuvs/eekmMQis+j93vp8aL90BQAAAAAAAAPw/30+Nl24S/T/wp8ZLN4kAQEa28/3UeP8/7nw/NV66/z+JQWDl0CIAQGZmZmZmZhBAqvHSTWIQBUC8dJMYBFYBQJqZmZmZmQFArBxaZDvf/T+HFtnO91P9P6wcWmQ73/0/d76fGi/dA0DNzMzMzMwAQKwcWmQ73/0/ukkMAiuH/D9mZmZmZmYCQDMzMzMzM/s/8KfGSzeJAkDfT42XbhL9P1YOLbKd7wRA+FPjpZtEEEBGtvP91Hj/P3npJjEIrP4/iUFg5dAiAkCsHFpkO9/9P2ZmZmZmZgZAhxbZzvdT/T9U46WbxCD+P90kBoGVQwBAd76fGi/dAUDufD81Xrr/P4lBYOXQIgBAzczMzMzM/D8zMzMzMzMDQAAAAAAAABBAzczMzMzM/D+amZmZmZkBQAAAAAAAAABAAAAAAAAADEBWDi2yne8CQCGwcmiR7f4/eekmMQis/j9Ei2zn+6kAQESLbOf7qQpAvHSTGARWA0BU46WbxCD+P90kBoGVQwBAhxbZzvdT/T8QWDm0yHYBQIcW2c73U/0/AAAAAAAAAkDNzMzMzMwAQKwcWmQ73/0/ukkMAiuH/D8hsHJoke3+P6wcWmQ73/0/vHSTGARWC0AzMzMzMzMDQAAAAAAAAABArBxaZDvf/T8AAAAAAAD8P7x0kxgEVg9AokW28/1UEEC8dJMYBFYDQCPb+X5qvAFAVOOlm8Qg/j+amZmZmZn9P0SLbOf7qQJAzczMzMzMAkAzMzMzMzMHQESLbOf7qQBAqvHSTWIQAUCamZmZmZkBQAAAAAAAAABAmpmZmZmZ/T/ufD81Xrr/PwAAAAAAAAJAMzMzMzMzAUDfT42XbhL9Pw==\",\"dtype\":\"float64\",\"shape\":[107]},\"y\":{\"__ndarray__\":\"AAAAAAAAS0AAAAAAAABPQAAAAAAAgEtAAAAAAACASUAAAAAAAABLQAAAAAAAgEdAAAAAAAAASkAAAAAAAABPQAAAAAAAAEpAAAAAAACASUAAAAAAAIBHQAAAAAAAQFFAAAAAAACAS0AAAAAAAIBQQAAAAAAAAEpAAAAAAAAASEAAAAAAAIBNQAAAAAAAAE1AAAAAAAAATUAAAAAAAABQQAAAAAAAgEpAAAAAAACATUAAAAAAAABLQAAAAAAAAEtAAAAAAAAAUEAAAAAAAIBNQAAAAAAAAEhAAAAAAAAATkAAAAAAAEBQQAAAAAAAAExAAAAAAAAAT0AAAAAAAABOQAAAAAAAgFFAAAAAAABAUEAAAAAAAABIQAAAAAAAAE5AAAAAAAAASUAAAAAAAIBPQAAAAAAAgElAAAAAAAAAT0AAAAAAAIBIQAAAAAAAgEdAAAAAAAAASkAAAAAAAIBNQAAAAAAAgE1AAAAAAAAASUAAAAAAAIBNQAAAAAAAgEpAAAAAAABAUUAAAAAAAABMQAAAAAAAgEZAAAAAAACAS0AAAAAAAIBGQAAAAAAAAExAAAAAAAAAR0AAAAAAAIBJQAAAAAAAgEpAAAAAAAAATkAAAAAAAIBNQAAAAAAAgEhAAAAAAACASkAAAAAAAEBQQAAAAAAAgFFAAAAAAACASkAAAAAAAIBGQAAAAAAAAE1AAAAAAACAUEAAAAAAAIBPQAAAAAAAAEpAAAAAAACASEAAAAAAAIBMQAAAAAAAAFFAAAAAAAAASUAAAAAAAIBLQAAAAAAAgElAAAAAAAAAR0AAAAAAAIBLQAAAAAAAgExAAAAAAACASUAAAAAAAABOQAAAAAAAgEpAAAAAAAAAR0AAAAAAAIBIQAAAAAAAgEhAAAAAAAAAUEAAAAAAAIBKQAAAAAAAgEtAAAAAAAAASUAAAAAAAABLQAAAAAAAgFFAAAAAAACAUUAAAAAAAABLQAAAAAAAAElAAAAAAAAAS0AAAAAAAABLQAAAAAAAAFBAAAAAAACAR0AAAAAAAIBPQAAAAAAAgExAAAAAAADAUEAAAAAAAABLQAAAAAAAAExAAAAAAAAATUAAAAAAAIBFQAAAAAAAAE5AAAAAAAAAR0AAAAAAAABHQA==\",\"dtype\":\"float64\",\"shape\":[107]}},\"selected\":{\"id\":\"fda4af90-a457-4cff-ac74-f899e163f0d6\",\"type\":\"Selection\"},\"selection_policy\":{\"id\":\"3267cd5d-c76d-46fa-b7e3-011719bb7dca\",\"type\":\"UnionRenderers\"}},\"id\":\"1b6bffbf-a285-4a91-aafe-8c3e35db56e9\",\"type\":\"ColumnDataSource\"}],\"root_ids\":[\"f81eeabe-5c33-453c-8ab9-f9d0567f05ec\"]},\"title\":\"Bokeh Application\",\"version\":\"0.13.0\"}};\n",
       "  var render_items = [{\"docid\":\"6cc7042e-83dd-489a-bc6a-40371914db31\",\"roots\":{\"f81eeabe-5c33-453c-8ab9-f9d0567f05ec\":\"0074f7d3-2aa5-47ea-a532-f700c5671a16\"}}];\n",
       "  root.Bokeh.embed.embed_items_notebook(docs_json, render_items);\n",
       "\n",
       "  }\n",
       "  if (root.Bokeh !== undefined) {\n",
       "    embed_document(root);\n",
       "  } else {\n",
       "    var attempts = 0;\n",
       "    var timer = setInterval(function(root) {\n",
       "      if (root.Bokeh !== undefined) {\n",
       "        embed_document(root);\n",
       "        clearInterval(timer);\n",
       "      }\n",
       "      attempts++;\n",
       "      if (attempts > 100) {\n",
       "        console.log(\"Bokeh: ERROR: Unable to run BokehJS code because BokehJS library is missing\")\n",
       "        clearInterval(timer);\n",
       "      }\n",
       "    }, 10, root)\n",
       "  }\n",
       "})(window);"
      ],
      "application/vnd.bokehjs_exec.v0+json": ""
     },
     "metadata": {
      "application/vnd.bokehjs_exec.v0+json": {
       "id": "f81eeabe-5c33-453c-8ab9-f9d0567f05ec"
      }
     },
     "output_type": "display_data"
    }
   ],
   "source": [
    "from bokeh.plotting import figure, show, output_notebook\n",
    "output_notebook()\n",
    "\n",
    "mstep()\n",
    "estep()\n",
    "\n",
    "\n",
    "# Build a figure\n",
    "p = figure(title=\"Old Faithful\", toolbar_location=None)\n",
    "p.grid.grid_line_color = None\n",
    "p.background_fill_color = \"#eeeeee\"\n",
    "\n",
    "def mscatter(p, x, y, marker, fill):\n",
    "    p.scatter(x, y, marker=marker, size=15,\n",
    "              line_color=\"navy\", fill_color=fill, alpha=0.5)\n",
    "\n",
    "\n",
    "# First cluster\n",
    "C1 = olf_mat[np.where(ar[:,0])]\n",
    "\n",
    "# Second Cluster\n",
    "C2 = olf_mat[np.where(ar[:,1])]\n",
    "    \n",
    "# Throw in clusters\n",
    "mscatter(p, C1[:,0], C1[:,1], \"circle\", \"blue\")\n",
    "mscatter(p, C2[:,0], C2[:,1], \"square\", \"orange\")\n",
    "\n",
    "\n",
    "\n",
    "show(p)"
   ]
  },
  {
   "cell_type": "markdown",
   "metadata": {},
   "source": [
    "*Checking Progress - plots of $J$*"
   ]
  },
  {
   "cell_type": "markdown",
   "metadata": {},
   "source": [
    "Recall our cost function. Let's make it into a python function. What should it take as input?"
   ]
  },
  {
   "cell_type": "code",
   "execution_count": 24,
   "metadata": {},
   "outputs": [],
   "source": [
    "def Jay(ars,m):\n",
    "    total = 0\n",
    "    for row in range(olf_mat.shape[0]):\n",
    "        for k in range(2):\n",
    "            if ar[row,k]:\n",
    "                total += np.linalg.norm(olf_mat[row] - mu[k])**2\n",
    "    return total"
   ]
  },
  {
   "cell_type": "code",
   "execution_count": 25,
   "metadata": {},
   "outputs": [
    {
     "data": {
      "text/plain": [
       "47342.756975000055"
      ]
     },
     "execution_count": 25,
     "metadata": {},
     "output_type": "execute_result"
    }
   ],
   "source": [
    "Jay(ar,mu)"
   ]
  },
  {
   "cell_type": "markdown",
   "metadata": {},
   "source": [
    "Let's reinitialize, and then make a plot."
   ]
  },
  {
   "cell_type": "code",
   "execution_count": 26,
   "metadata": {},
   "outputs": [],
   "source": [
    "# Choosing Centers\n",
    "#mu = olf_mat[[3, 5]]\n",
    "\n",
    "mu = np.array([[2,80],[4, 50]])\n",
    "\n",
    "\n",
    "# Creating r_nk\n",
    "ar = np.zeros((len(olf_mat),2))\n",
    "\n",
    "# Initializing r_nk\n",
    "for row in range(olf_mat.shape[0]):\n",
    "    dists = np.linalg.norm(row - mu, axis=1)\n",
    "    smallest = min(dists)\n",
    "    center = list(dists).index(smallest)\n",
    "    ar[row,center] = 1"
   ]
  },
  {
   "cell_type": "code",
   "execution_count": 27,
   "metadata": {},
   "outputs": [
    {
     "data": {
      "text/html": [
       "\n",
       "\n",
       "\n",
       "\n",
       "\n",
       "\n",
       "  <div class=\"bk-root\" id=\"944bdb6b-f0ab-420e-b0f2-ae7ce836ecce\"></div>\n"
      ]
     },
     "metadata": {},
     "output_type": "display_data"
    },
    {
     "data": {
      "application/javascript": [
       "(function(root) {\n",
       "  function embed_document(root) {\n",
       "    \n",
       "  var docs_json = {\"3470f935-abbc-4124-ae55-81af258bce8d\":{\"roots\":{\"references\":[{\"attributes\":{\"formatter\":{\"id\":\"e136a5c4-d50d-415a-87ae-273fecdb0be0\",\"type\":\"BasicTickFormatter\"},\"plot\":{\"id\":\"96d4a31f-e86a-4c96-90e6-ec72f5602fbf\",\"subtype\":\"Figure\",\"type\":\"Plot\"},\"ticker\":{\"id\":\"891513ce-1134-453f-84ad-70a1a78a4424\",\"type\":\"BasicTicker\"}},\"id\":\"2c9896c7-1303-43bc-a17f-0998651dce22\",\"type\":\"LinearAxis\"},{\"attributes\":{},\"id\":\"e136a5c4-d50d-415a-87ae-273fecdb0be0\",\"type\":\"BasicTickFormatter\"},{\"attributes\":{\"callback\":null},\"id\":\"16fa628a-65b3-45e0-86e6-5b19533f01a6\",\"type\":\"DataRange1d\"},{\"attributes\":{\"overlay\":{\"id\":\"7c70274b-027f-4824-b580-4858b74ae056\",\"type\":\"BoxAnnotation\"}},\"id\":\"db59c131-f4b5-4b1b-9d8b-1ed74db456d1\",\"type\":\"BoxZoomTool\"},{\"attributes\":{\"callback\":null},\"id\":\"2dffdb21-631b-4def-81e1-28d3a2aa3b9d\",\"type\":\"DataRange1d\"},{\"attributes\":{\"dimension\":1,\"grid_line_color\":{\"value\":null},\"plot\":{\"id\":\"96d4a31f-e86a-4c96-90e6-ec72f5602fbf\",\"subtype\":\"Figure\",\"type\":\"Plot\"},\"ticker\":{\"id\":\"891513ce-1134-453f-84ad-70a1a78a4424\",\"type\":\"BasicTicker\"}},\"id\":\"f15421a4-d2fa-4dc6-8990-fa0f437f8e93\",\"type\":\"Grid\"},{\"attributes\":{},\"id\":\"649f8fcd-0470-4a3f-9393-fd3663c34c5d\",\"type\":\"PanTool\"},{\"attributes\":{\"formatter\":{\"id\":\"efee6849-145f-4f3e-939f-69adeda6b937\",\"type\":\"BasicTickFormatter\"},\"plot\":{\"id\":\"96d4a31f-e86a-4c96-90e6-ec72f5602fbf\",\"subtype\":\"Figure\",\"type\":\"Plot\"},\"ticker\":{\"id\":\"400cf28b-526c-4831-a3da-4b8a39725ee6\",\"type\":\"BasicTicker\"}},\"id\":\"34b6d5b9-ec9e-4e4c-b81f-8db36f9de779\",\"type\":\"LinearAxis\"},{\"attributes\":{\"plot\":null,\"text\":\"Cost Function J\"},\"id\":\"c4ea7e76-2e5d-4223-83df-afea29e7f854\",\"type\":\"Title\"},{\"attributes\":{},\"id\":\"efee6849-145f-4f3e-939f-69adeda6b937\",\"type\":\"BasicTickFormatter\"},{\"attributes\":{},\"id\":\"4608b43e-964f-4512-915a-004fc279864c\",\"type\":\"LinearScale\"},{\"attributes\":{\"source\":{\"id\":\"1b0aa790-e7cb-4233-bb99-e82a3396a2d2\",\"type\":\"ColumnDataSource\"}},\"id\":\"11b7ec3a-271b-473e-a641-97e36c0a7e6a\",\"type\":\"CDSView\"},{\"attributes\":{\"line_color\":\"green\",\"x\":{\"field\":\"x\"},\"y\":{\"field\":\"y\"}},\"id\":\"993a5a55-b850-4840-88f7-e8e3cdf63efd\",\"type\":\"Line\"},{\"attributes\":{\"callback\":null,\"data\":{\"x\":[0,1,2,3],\"y\":[47342.756975000055,8938.134974999999,8988.134974999995,8988.134974999995]},\"selected\":{\"id\":\"1ba51d03-ae42-403b-8841-1ab2ee024e2d\",\"type\":\"Selection\"},\"selection_policy\":{\"id\":\"b603a5f3-a0d9-47dd-9e80-f9f3af88b792\",\"type\":\"UnionRenderers\"}},\"id\":\"1b0aa790-e7cb-4233-bb99-e82a3396a2d2\",\"type\":\"ColumnDataSource\"},{\"attributes\":{},\"id\":\"1ba51d03-ae42-403b-8841-1ab2ee024e2d\",\"type\":\"Selection\"},{\"attributes\":{\"background_fill_color\":{\"value\":\"#eeeeee\"},\"below\":[{\"id\":\"34b6d5b9-ec9e-4e4c-b81f-8db36f9de779\",\"type\":\"LinearAxis\"}],\"left\":[{\"id\":\"2c9896c7-1303-43bc-a17f-0998651dce22\",\"type\":\"LinearAxis\"}],\"renderers\":[{\"id\":\"34b6d5b9-ec9e-4e4c-b81f-8db36f9de779\",\"type\":\"LinearAxis\"},{\"id\":\"b63ea1df-1ed3-4cde-a04c-92b6331df098\",\"type\":\"Grid\"},{\"id\":\"2c9896c7-1303-43bc-a17f-0998651dce22\",\"type\":\"LinearAxis\"},{\"id\":\"f15421a4-d2fa-4dc6-8990-fa0f437f8e93\",\"type\":\"Grid\"},{\"id\":\"7c70274b-027f-4824-b580-4858b74ae056\",\"type\":\"BoxAnnotation\"},{\"id\":\"8e7d9d9c-441c-4141-bb2d-3482d339c932\",\"type\":\"GlyphRenderer\"}],\"title\":{\"id\":\"c4ea7e76-2e5d-4223-83df-afea29e7f854\",\"type\":\"Title\"},\"toolbar\":{\"id\":\"e01ef522-43f5-4f4c-bec5-b78ecef6d3aa\",\"type\":\"Toolbar\"},\"toolbar_location\":null,\"x_range\":{\"id\":\"2dffdb21-631b-4def-81e1-28d3a2aa3b9d\",\"type\":\"DataRange1d\"},\"x_scale\":{\"id\":\"c6e22266-db8c-44f6-b9df-53b5a063fc69\",\"type\":\"LinearScale\"},\"y_range\":{\"id\":\"16fa628a-65b3-45e0-86e6-5b19533f01a6\",\"type\":\"DataRange1d\"},\"y_scale\":{\"id\":\"4608b43e-964f-4512-915a-004fc279864c\",\"type\":\"LinearScale\"}},\"id\":\"96d4a31f-e86a-4c96-90e6-ec72f5602fbf\",\"subtype\":\"Figure\",\"type\":\"Plot\"},{\"attributes\":{},\"id\":\"c6e22266-db8c-44f6-b9df-53b5a063fc69\",\"type\":\"LinearScale\"},{\"attributes\":{\"grid_line_color\":{\"value\":null},\"plot\":{\"id\":\"96d4a31f-e86a-4c96-90e6-ec72f5602fbf\",\"subtype\":\"Figure\",\"type\":\"Plot\"},\"ticker\":{\"id\":\"400cf28b-526c-4831-a3da-4b8a39725ee6\",\"type\":\"BasicTicker\"}},\"id\":\"b63ea1df-1ed3-4cde-a04c-92b6331df098\",\"type\":\"Grid\"},{\"attributes\":{\"line_alpha\":0.1,\"line_color\":\"#1f77b4\",\"x\":{\"field\":\"x\"},\"y\":{\"field\":\"y\"}},\"id\":\"8b9881e6-f9dd-4786-9c1e-ab0144ecb8f9\",\"type\":\"Line\"},{\"attributes\":{\"data_source\":{\"id\":\"1b0aa790-e7cb-4233-bb99-e82a3396a2d2\",\"type\":\"ColumnDataSource\"},\"glyph\":{\"id\":\"993a5a55-b850-4840-88f7-e8e3cdf63efd\",\"type\":\"Line\"},\"hover_glyph\":null,\"muted_glyph\":null,\"nonselection_glyph\":{\"id\":\"8b9881e6-f9dd-4786-9c1e-ab0144ecb8f9\",\"type\":\"Line\"},\"selection_glyph\":null,\"view\":{\"id\":\"11b7ec3a-271b-473e-a641-97e36c0a7e6a\",\"type\":\"CDSView\"}},\"id\":\"8e7d9d9c-441c-4141-bb2d-3482d339c932\",\"type\":\"GlyphRenderer\"},{\"attributes\":{},\"id\":\"a2d61569-e4f4-4651-837c-969d0ae2d95e\",\"type\":\"ResetTool\"},{\"attributes\":{\"active_drag\":\"auto\",\"active_inspect\":\"auto\",\"active_multi\":null,\"active_scroll\":\"auto\",\"active_tap\":\"auto\",\"tools\":[{\"id\":\"649f8fcd-0470-4a3f-9393-fd3663c34c5d\",\"type\":\"PanTool\"},{\"id\":\"52a39289-fcc5-4c0d-ae47-6fd579d69f1a\",\"type\":\"WheelZoomTool\"},{\"id\":\"db59c131-f4b5-4b1b-9d8b-1ed74db456d1\",\"type\":\"BoxZoomTool\"},{\"id\":\"d566e1fa-6028-49af-ad53-0d9ed573e061\",\"type\":\"SaveTool\"},{\"id\":\"a2d61569-e4f4-4651-837c-969d0ae2d95e\",\"type\":\"ResetTool\"},{\"id\":\"18444737-908c-47a0-982f-ee32b3a1f657\",\"type\":\"HelpTool\"}]},\"id\":\"e01ef522-43f5-4f4c-bec5-b78ecef6d3aa\",\"type\":\"Toolbar\"},{\"attributes\":{},\"id\":\"18444737-908c-47a0-982f-ee32b3a1f657\",\"type\":\"HelpTool\"},{\"attributes\":{},\"id\":\"b603a5f3-a0d9-47dd-9e80-f9f3af88b792\",\"type\":\"UnionRenderers\"},{\"attributes\":{},\"id\":\"891513ce-1134-453f-84ad-70a1a78a4424\",\"type\":\"BasicTicker\"},{\"attributes\":{},\"id\":\"d566e1fa-6028-49af-ad53-0d9ed573e061\",\"type\":\"SaveTool\"},{\"attributes\":{},\"id\":\"400cf28b-526c-4831-a3da-4b8a39725ee6\",\"type\":\"BasicTicker\"},{\"attributes\":{\"bottom_units\":\"screen\",\"fill_alpha\":{\"value\":0.5},\"fill_color\":{\"value\":\"lightgrey\"},\"left_units\":\"screen\",\"level\":\"overlay\",\"line_alpha\":{\"value\":1.0},\"line_color\":{\"value\":\"black\"},\"line_dash\":[4,4],\"line_width\":{\"value\":2},\"plot\":null,\"render_mode\":\"css\",\"right_units\":\"screen\",\"top_units\":\"screen\"},\"id\":\"7c70274b-027f-4824-b580-4858b74ae056\",\"type\":\"BoxAnnotation\"},{\"attributes\":{},\"id\":\"52a39289-fcc5-4c0d-ae47-6fd579d69f1a\",\"type\":\"WheelZoomTool\"}],\"root_ids\":[\"96d4a31f-e86a-4c96-90e6-ec72f5602fbf\"]},\"title\":\"Bokeh Application\",\"version\":\"0.13.0\"}};\n",
       "  var render_items = [{\"docid\":\"3470f935-abbc-4124-ae55-81af258bce8d\",\"roots\":{\"96d4a31f-e86a-4c96-90e6-ec72f5602fbf\":\"944bdb6b-f0ab-420e-b0f2-ae7ce836ecce\"}}];\n",
       "  root.Bokeh.embed.embed_items_notebook(docs_json, render_items);\n",
       "\n",
       "  }\n",
       "  if (root.Bokeh !== undefined) {\n",
       "    embed_document(root);\n",
       "  } else {\n",
       "    var attempts = 0;\n",
       "    var timer = setInterval(function(root) {\n",
       "      if (root.Bokeh !== undefined) {\n",
       "        embed_document(root);\n",
       "        clearInterval(timer);\n",
       "      }\n",
       "      attempts++;\n",
       "      if (attempts > 100) {\n",
       "        console.log(\"Bokeh: ERROR: Unable to run BokehJS code because BokehJS library is missing\")\n",
       "        clearInterval(timer);\n",
       "      }\n",
       "    }, 10, root)\n",
       "  }\n",
       "})(window);"
      ],
      "application/vnd.bokehjs_exec.v0+json": ""
     },
     "metadata": {
      "application/vnd.bokehjs_exec.v0+json": {
       "id": "96d4a31f-e86a-4c96-90e6-ec72f5602fbf"
      }
     },
     "output_type": "display_data"
    }
   ],
   "source": [
    "# Build a figure\n",
    "f = figure(title=\"Cost Function J\", toolbar_location=None)\n",
    "f.grid.grid_line_color = None\n",
    "f.background_fill_color = \"#eeeeee\"\n",
    "\n",
    "# X and Y coords\n",
    "X, Y = range(4),[]\n",
    "\n",
    "for i in X:\n",
    "    mstep()\n",
    "    estep()\n",
    "    Y.append(Jay(ar,mu))\n",
    "\n",
    "# A line separating them\n",
    "f.line(X,Y, line_color='green')\n",
    "\n",
    "\n",
    "show(f)"
   ]
  },
  {
   "cell_type": "markdown",
   "metadata": {},
   "source": [
    "Pretty much what you'd expect."
   ]
  },
  {
   "cell_type": "markdown",
   "metadata": {},
   "source": [
    "**Elbow Method** - *plots of $SSE$ to work out $k$*"
   ]
  },
  {
   "cell_type": "markdown",
   "metadata": {},
   "source": [
    "A related but different plot can help us to decide which $k$ to use. Let's generate some more complex data, which we'll also use in the final example."
   ]
  },
  {
   "cell_type": "code",
   "execution_count": 28,
   "metadata": {},
   "outputs": [
    {
     "data": {
      "text/html": [
       "\n",
       "\n",
       "\n",
       "\n",
       "\n",
       "\n",
       "  <div class=\"bk-root\" id=\"b23a1122-0a37-4268-be23-329ebd64bb0d\"></div>\n"
      ]
     },
     "metadata": {},
     "output_type": "display_data"
    },
    {
     "data": {
      "application/javascript": [
       "(function(root) {\n",
       "  function embed_document(root) {\n",
       "    \n",
       "  var docs_json = {\"4454ac0d-4eb5-45fb-a97d-7f57bef20a68\":{\"roots\":{\"references\":[{\"attributes\":{\"callback\":null},\"id\":\"d54dd9ba-da42-44cf-9435-97b06d5714d6\",\"type\":\"DataRange1d\"},{\"attributes\":{\"source\":{\"id\":\"9480380d-adba-42de-867a-2bfb4badca0b\",\"type\":\"ColumnDataSource\"}},\"id\":\"a880e2cc-109c-473e-89e0-50c5feb2e7f8\",\"type\":\"CDSView\"},{\"attributes\":{},\"id\":\"fe6b1fab-d4a7-4a34-bba7-7912e16e7392\",\"type\":\"Selection\"},{\"attributes\":{\"fill_alpha\":{\"value\":0.1},\"fill_color\":{\"value\":\"#1f77b4\"},\"line_alpha\":{\"value\":0.1},\"line_color\":{\"value\":\"#1f77b4\"},\"size\":{\"units\":\"screen\",\"value\":15},\"x\":{\"field\":\"x\"},\"y\":{\"field\":\"y\"}},\"id\":\"a40784b6-a572-487d-8894-7c301442cee5\",\"type\":\"Circle\"},{\"attributes\":{},\"id\":\"a2c2c059-816e-44c7-811f-2df79a4fa9a8\",\"type\":\"PanTool\"},{\"attributes\":{},\"id\":\"80de6058-f836-4e0c-9961-1440363da3a9\",\"type\":\"BasicTicker\"},{\"attributes\":{\"callback\":null,\"data\":{\"x\":{\"__ndarray__\":\"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\",\"dtype\":\"float64\",\"shape\":[500]},\"y\":{\"__ndarray__\":\"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\",\"dtype\":\"float64\",\"shape\":[500]}},\"selected\":{\"id\":\"fe6b1fab-d4a7-4a34-bba7-7912e16e7392\",\"type\":\"Selection\"},\"selection_policy\":{\"id\":\"9f9bcc38-cc75-4d2f-8276-e3cda05657b8\",\"type\":\"UnionRenderers\"}},\"id\":\"bb4e6853-e55f-4ac1-aece-55a8b91b08c6\",\"type\":\"ColumnDataSource\"},{\"attributes\":{\"fill_alpha\":{\"value\":0.5},\"fill_color\":{\"value\":\"yellow\"},\"line_alpha\":{\"value\":0.5},\"line_color\":{\"value\":\"navy\"},\"size\":{\"units\":\"screen\",\"value\":15},\"x\":{\"field\":\"x\"},\"y\":{\"field\":\"y\"}},\"id\":\"0691405d-db65-4ca9-ba9a-018befc8a134\",\"type\":\"Circle\"},{\"attributes\":{},\"id\":\"9232a897-3e3a-427e-9655-a8909f285c56\",\"type\":\"BasicTickFormatter\"},{\"attributes\":{\"data_source\":{\"id\":\"9480380d-adba-42de-867a-2bfb4badca0b\",\"type\":\"ColumnDataSource\"},\"glyph\":{\"id\":\"9cfd0f80-5a1e-430b-a01f-31365481cb06\",\"type\":\"Circle\"},\"hover_glyph\":null,\"muted_glyph\":null,\"nonselection_glyph\":{\"id\":\"2ee86e04-d03b-4564-ab72-b7b29b4d7531\",\"type\":\"Circle\"},\"selection_glyph\":null,\"view\":{\"id\":\"a880e2cc-109c-473e-89e0-50c5feb2e7f8\",\"type\":\"CDSView\"}},\"id\":\"ced15fc1-fe83-40de-ab08-0ef7a153b82f\",\"type\":\"GlyphRenderer\"},{\"attributes\":{\"fill_alpha\":{\"value\":0.5},\"fill_color\":{\"value\":\"blue\"},\"line_alpha\":{\"value\":0.5},\"line_color\":{\"value\":\"navy\"},\"size\":{\"units\":\"screen\",\"value\":15},\"x\":{\"field\":\"x\"},\"y\":{\"field\":\"y\"}},\"id\":\"06579f2a-40d1-4351-96d1-aa0947e3d8b8\",\"type\":\"Circle\"},{\"attributes\":{\"bottom_units\":\"screen\",\"fill_alpha\":{\"value\":0.5},\"fill_color\":{\"value\":\"lightgrey\"},\"left_units\":\"screen\",\"level\":\"overlay\",\"line_alpha\":{\"value\":1.0},\"line_color\":{\"value\":\"black\"},\"line_dash\":[4,4],\"line_width\":{\"value\":2},\"plot\":null,\"render_mode\":\"css\",\"right_units\":\"screen\",\"top_units\":\"screen\"},\"id\":\"8d1d0316-4074-4582-8311-57cd71e6a4c3\",\"type\":\"BoxAnnotation\"},{\"attributes\":{\"callback\":null,\"data\":{\"x\":{\"__ndarray__\":\"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\",\"dtype\":\"float64\",\"shape\":[500]},\"y\":{\"__ndarray__\":\"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\",\"dtype\":\"float64\",\"shape\":[500]}},\"selected\":{\"id\":\"b31d1498-fa02-4937-9588-70a2330e395c\",\"type\":\"Selection\"},\"selection_policy\":{\"id\":\"c22ed8ef-b12c-445c-9317-8fc38db4414c\",\"type\":\"UnionRenderers\"}},\"id\":\"9480380d-adba-42de-867a-2bfb4badca0b\",\"type\":\"ColumnDataSource\"},{\"attributes\":{\"data_source\":{\"id\":\"bb4e6853-e55f-4ac1-aece-55a8b91b08c6\",\"type\":\"ColumnDataSource\"},\"glyph\":{\"id\":\"06579f2a-40d1-4351-96d1-aa0947e3d8b8\",\"type\":\"Circle\"},\"hover_glyph\":null,\"muted_glyph\":null,\"nonselection_glyph\":{\"id\":\"a2e3dcf0-2478-424c-a771-0510d8052e44\",\"type\":\"Circle\"},\"selection_glyph\":null,\"view\":{\"id\":\"79f4e2f2-464c-40cb-b470-2a463c1b4124\",\"type\":\"CDSView\"}},\"id\":\"67034ae7-74c7-4fbb-82d9-49e2f81fe041\",\"type\":\"GlyphRenderer\"},{\"attributes\":{},\"id\":\"8cb382aa-5763-4338-992b-9c6292c65c74\",\"type\":\"Selection\"},{\"attributes\":{\"grid_line_color\":{\"value\":null},\"plot\":{\"id\":\"1612a979-9843-4201-a98a-ec4feb03ea2c\",\"subtype\":\"Figure\",\"type\":\"Plot\"},\"ticker\":{\"id\":\"80de6058-f836-4e0c-9961-1440363da3a9\",\"type\":\"BasicTicker\"}},\"id\":\"91d09dac-cf55-4b31-9805-9d2c119ac0a2\",\"type\":\"Grid\"},{\"attributes\":{},\"id\":\"60efd004-55bf-490e-9d6a-e89c2f431ac6\",\"type\":\"BasicTickFormatter\"},{\"attributes\":{\"source\":{\"id\":\"af3317da-41f3-4715-942f-a202da857006\",\"type\":\"ColumnDataSource\"}},\"id\":\"c3a01401-e5d5-46a5-a48a-8087b7abcc18\",\"type\":\"CDSView\"},{\"attributes\":{},\"id\":\"9f9bcc38-cc75-4d2f-8276-e3cda05657b8\",\"type\":\"UnionRenderers\"},{\"attributes\":{},\"id\":\"442dab1a-2d42-467d-b630-1faf93366f82\",\"type\":\"LinearScale\"},{\"attributes\":{\"dimension\":1,\"grid_line_color\":{\"value\":null},\"plot\":{\"id\":\"1612a979-9843-4201-a98a-ec4feb03ea2c\",\"subtype\":\"Figure\",\"type\":\"Plot\"},\"ticker\":{\"id\":\"1cdba5d7-e338-452b-a5d0-9862429722da\",\"type\":\"BasicTicker\"}},\"id\":\"783c82a6-d831-40e3-9b42-1e8431365d57\",\"type\":\"Grid\"},{\"attributes\":{\"fill_alpha\":{\"value\":0.5},\"fill_color\":{\"value\":\"red\"},\"line_alpha\":{\"value\":0.5},\"line_color\":{\"value\":\"navy\"},\"size\":{\"units\":\"screen\",\"value\":15},\"x\":{\"field\":\"x\"},\"y\":{\"field\":\"y\"}},\"id\":\"9cfd0f80-5a1e-430b-a01f-31365481cb06\",\"type\":\"Circle\"},{\"attributes\":{\"source\":{\"id\":\"bb4e6853-e55f-4ac1-aece-55a8b91b08c6\",\"type\":\"ColumnDataSource\"}},\"id\":\"79f4e2f2-464c-40cb-b470-2a463c1b4124\",\"type\":\"CDSView\"},{\"attributes\":{},\"id\":\"1cdba5d7-e338-452b-a5d0-9862429722da\",\"type\":\"BasicTicker\"},{\"attributes\":{},\"id\":\"c22ed8ef-b12c-445c-9317-8fc38db4414c\",\"type\":\"UnionRenderers\"},{\"attributes\":{\"formatter\":{\"id\":\"60efd004-55bf-490e-9d6a-e89c2f431ac6\",\"type\":\"BasicTickFormatter\"},\"plot\":{\"id\":\"1612a979-9843-4201-a98a-ec4feb03ea2c\",\"subtype\":\"Figure\",\"type\":\"Plot\"},\"ticker\":{\"id\":\"80de6058-f836-4e0c-9961-1440363da3a9\",\"type\":\"BasicTicker\"}},\"id\":\"5a3d8db8-cd3e-47d0-b6c1-b1ee8485fbbd\",\"type\":\"LinearAxis\"},{\"attributes\":{\"fill_alpha\":{\"value\":0.1},\"fill_color\":{\"value\":\"#1f77b4\"},\"line_alpha\":{\"value\":0.1},\"line_color\":{\"value\":\"#1f77b4\"},\"size\":{\"units\":\"screen\",\"value\":15},\"x\":{\"field\":\"x\"},\"y\":{\"field\":\"y\"}},\"id\":\"2ee86e04-d03b-4564-ab72-b7b29b4d7531\",\"type\":\"Circle\"},{\"attributes\":{},\"id\":\"4b9b93ea-f6a8-40d7-86cf-5dae686781ed\",\"type\":\"ResetTool\"},{\"attributes\":{},\"id\":\"33cb17d7-36d9-4228-894e-abde31d3b5cd\",\"type\":\"UnionRenderers\"},{\"attributes\":{\"callback\":null,\"data\":{\"x\":{\"__ndarray__\":\"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\",\"dtype\":\"float64\",\"shape\":[500]},\"y\":{\"__ndarray__\":\"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\",\"dtype\":\"float64\",\"shape\":[500]}},\"selected\":{\"id\":\"8cb382aa-5763-4338-992b-9c6292c65c74\",\"type\":\"Selection\"},\"selection_policy\":{\"id\":\"33cb17d7-36d9-4228-894e-abde31d3b5cd\",\"type\":\"UnionRenderers\"}},\"id\":\"af3317da-41f3-4715-942f-a202da857006\",\"type\":\"ColumnDataSource\"},{\"attributes\":{\"fill_alpha\":{\"value\":0.1},\"fill_color\":{\"value\":\"#1f77b4\"},\"line_alpha\":{\"value\":0.1},\"line_color\":{\"value\":\"#1f77b4\"},\"size\":{\"units\":\"screen\",\"value\":15},\"x\":{\"field\":\"x\"},\"y\":{\"field\":\"y\"}},\"id\":\"a2e3dcf0-2478-424c-a771-0510d8052e44\",\"type\":\"Circle\"},{\"attributes\":{\"active_drag\":\"auto\",\"active_inspect\":\"auto\",\"active_multi\":null,\"active_scroll\":\"auto\",\"active_tap\":\"auto\",\"tools\":[{\"id\":\"a2c2c059-816e-44c7-811f-2df79a4fa9a8\",\"type\":\"PanTool\"},{\"id\":\"0e746dc6-02fb-44c7-9d6f-edbddeee4479\",\"type\":\"WheelZoomTool\"},{\"id\":\"df10da94-2f0d-4522-b80d-5824706a4bd5\",\"type\":\"BoxZoomTool\"},{\"id\":\"98099549-b314-486b-9e3d-4a63be398291\",\"type\":\"SaveTool\"},{\"id\":\"4b9b93ea-f6a8-40d7-86cf-5dae686781ed\",\"type\":\"ResetTool\"},{\"id\":\"7f7f35bf-d884-484f-a577-44dd00632771\",\"type\":\"HelpTool\"}]},\"id\":\"d4bbe78c-c3dd-4418-bc41-7015c4dcd968\",\"type\":\"Toolbar\"},{\"attributes\":{},\"id\":\"98099549-b314-486b-9e3d-4a63be398291\",\"type\":\"SaveTool\"},{\"attributes\":{\"background_fill_color\":{\"value\":\"#eeeeee\"},\"below\":[{\"id\":\"5a3d8db8-cd3e-47d0-b6c1-b1ee8485fbbd\",\"type\":\"LinearAxis\"}],\"left\":[{\"id\":\"4f3be6c2-a828-4e7a-bcd6-13055dc40980\",\"type\":\"LinearAxis\"}],\"renderers\":[{\"id\":\"5a3d8db8-cd3e-47d0-b6c1-b1ee8485fbbd\",\"type\":\"LinearAxis\"},{\"id\":\"91d09dac-cf55-4b31-9805-9d2c119ac0a2\",\"type\":\"Grid\"},{\"id\":\"4f3be6c2-a828-4e7a-bcd6-13055dc40980\",\"type\":\"LinearAxis\"},{\"id\":\"783c82a6-d831-40e3-9b42-1e8431365d57\",\"type\":\"Grid\"},{\"id\":\"8d1d0316-4074-4582-8311-57cd71e6a4c3\",\"type\":\"BoxAnnotation\"},{\"id\":\"67034ae7-74c7-4fbb-82d9-49e2f81fe041\",\"type\":\"GlyphRenderer\"},{\"id\":\"ced15fc1-fe83-40de-ab08-0ef7a153b82f\",\"type\":\"GlyphRenderer\"},{\"id\":\"ef46e7c0-4abb-463f-a9bf-02db6f8b6511\",\"type\":\"GlyphRenderer\"}],\"title\":{\"id\":\"5e4e2107-8cdc-4b60-b537-53a8691203ef\",\"type\":\"Title\"},\"toolbar\":{\"id\":\"d4bbe78c-c3dd-4418-bc41-7015c4dcd968\",\"type\":\"Toolbar\"},\"toolbar_location\":null,\"x_range\":{\"id\":\"737f03b2-f290-4436-a96b-9cdfdb2bfd75\",\"type\":\"DataRange1d\"},\"x_scale\":{\"id\":\"442dab1a-2d42-467d-b630-1faf93366f82\",\"type\":\"LinearScale\"},\"y_range\":{\"id\":\"d54dd9ba-da42-44cf-9435-97b06d5714d6\",\"type\":\"DataRange1d\"},\"y_scale\":{\"id\":\"c1314979-c9c4-430d-bf4c-abea202141e7\",\"type\":\"LinearScale\"}},\"id\":\"1612a979-9843-4201-a98a-ec4feb03ea2c\",\"subtype\":\"Figure\",\"type\":\"Plot\"},{\"attributes\":{},\"id\":\"c1314979-c9c4-430d-bf4c-abea202141e7\",\"type\":\"LinearScale\"},{\"attributes\":{\"callback\":null},\"id\":\"737f03b2-f290-4436-a96b-9cdfdb2bfd75\",\"type\":\"DataRange1d\"},{\"attributes\":{},\"id\":\"0e746dc6-02fb-44c7-9d6f-edbddeee4479\",\"type\":\"WheelZoomTool\"},{\"attributes\":{\"data_source\":{\"id\":\"af3317da-41f3-4715-942f-a202da857006\",\"type\":\"ColumnDataSource\"},\"glyph\":{\"id\":\"0691405d-db65-4ca9-ba9a-018befc8a134\",\"type\":\"Circle\"},\"hover_glyph\":null,\"muted_glyph\":null,\"nonselection_glyph\":{\"id\":\"a40784b6-a572-487d-8894-7c301442cee5\",\"type\":\"Circle\"},\"selection_glyph\":null,\"view\":{\"id\":\"c3a01401-e5d5-46a5-a48a-8087b7abcc18\",\"type\":\"CDSView\"}},\"id\":\"ef46e7c0-4abb-463f-a9bf-02db6f8b6511\",\"type\":\"GlyphRenderer\"},{\"attributes\":{},\"id\":\"7f7f35bf-d884-484f-a577-44dd00632771\",\"type\":\"HelpTool\"},{\"attributes\":{\"plot\":null,\"text\":\"Fake Data\"},\"id\":\"5e4e2107-8cdc-4b60-b537-53a8691203ef\",\"type\":\"Title\"},{\"attributes\":{},\"id\":\"b31d1498-fa02-4937-9588-70a2330e395c\",\"type\":\"Selection\"},{\"attributes\":{\"overlay\":{\"id\":\"8d1d0316-4074-4582-8311-57cd71e6a4c3\",\"type\":\"BoxAnnotation\"}},\"id\":\"df10da94-2f0d-4522-b80d-5824706a4bd5\",\"type\":\"BoxZoomTool\"},{\"attributes\":{\"formatter\":{\"id\":\"9232a897-3e3a-427e-9655-a8909f285c56\",\"type\":\"BasicTickFormatter\"},\"plot\":{\"id\":\"1612a979-9843-4201-a98a-ec4feb03ea2c\",\"subtype\":\"Figure\",\"type\":\"Plot\"},\"ticker\":{\"id\":\"1cdba5d7-e338-452b-a5d0-9862429722da\",\"type\":\"BasicTicker\"}},\"id\":\"4f3be6c2-a828-4e7a-bcd6-13055dc40980\",\"type\":\"LinearAxis\"}],\"root_ids\":[\"1612a979-9843-4201-a98a-ec4feb03ea2c\"]},\"title\":\"Bokeh Application\",\"version\":\"0.13.0\"}};\n",
       "  var render_items = [{\"docid\":\"4454ac0d-4eb5-45fb-a97d-7f57bef20a68\",\"roots\":{\"1612a979-9843-4201-a98a-ec4feb03ea2c\":\"b23a1122-0a37-4268-be23-329ebd64bb0d\"}}];\n",
       "  root.Bokeh.embed.embed_items_notebook(docs_json, render_items);\n",
       "\n",
       "  }\n",
       "  if (root.Bokeh !== undefined) {\n",
       "    embed_document(root);\n",
       "  } else {\n",
       "    var attempts = 0;\n",
       "    var timer = setInterval(function(root) {\n",
       "      if (root.Bokeh !== undefined) {\n",
       "        embed_document(root);\n",
       "        clearInterval(timer);\n",
       "      }\n",
       "      attempts++;\n",
       "      if (attempts > 100) {\n",
       "        console.log(\"Bokeh: ERROR: Unable to run BokehJS code because BokehJS library is missing\")\n",
       "        clearInterval(timer);\n",
       "      }\n",
       "    }, 10, root)\n",
       "  }\n",
       "})(window);"
      ],
      "application/vnd.bokehjs_exec.v0+json": ""
     },
     "metadata": {
      "application/vnd.bokehjs_exec.v0+json": {
       "id": "1612a979-9843-4201-a98a-ec4feb03ea2c"
      }
     },
     "output_type": "display_data"
    }
   ],
   "source": [
    "# Setting up centers and spreads of multivariate normal distros\n",
    "\n",
    "mn = [-6,0] # Two means\n",
    "cov = [[1,0],[0,.2]] # a covariance matrix\n",
    "\n",
    "mn1 = [1,1]\n",
    "cov1 = [[3,-2],[-2,3]]\n",
    "\n",
    "mn2 = [6,2]\n",
    "cov2 = [[.2,0],[0,1]]\n",
    "\n",
    "f1 = figure(title=\"Fake Data\", toolbar_location=None)\n",
    "f1.grid.grid_line_color = None\n",
    "f1.background_fill_color = \"#eeeeee\"\n",
    "\n",
    "# Three different multivariate normal distros\n",
    "\n",
    "C1 = np.random.multivariate_normal(mn, cov, 500).T\n",
    "mscatter(f1, C1[0,:], C1[1,:], \"circle\", \"blue\")\n",
    "\n",
    "C2 = np.random.multivariate_normal(mn1, cov1, 500).T\n",
    "mscatter(f1, C2[0,:], C2[1,:], \"circle\", \"red\")\n",
    "\n",
    "C3 = np.random.multivariate_normal(mn2, cov2, 500).T\n",
    "mscatter(f1, C3[0,:], C3[1,:], \"circle\", \"yellow\")\n",
    "\n",
    "show(f1)"
   ]
  },
  {
   "cell_type": "markdown",
   "metadata": {},
   "source": [
    "Concatenating..."
   ]
  },
  {
   "cell_type": "code",
   "execution_count": 29,
   "metadata": {},
   "outputs": [],
   "source": [
    "X = np.concatenate((C1,C2,C3),axis=1) # Mashing together all of the data"
   ]
  },
  {
   "cell_type": "markdown",
   "metadata": {},
   "source": [
    "Need to transpose the shape..."
   ]
  },
  {
   "cell_type": "code",
   "execution_count": 30,
   "metadata": {},
   "outputs": [],
   "source": [
    "X = X.transpose() # All my points mashed together."
   ]
  },
  {
   "cell_type": "code",
   "execution_count": 31,
   "metadata": {},
   "outputs": [
    {
     "data": {
      "text/plain": [
       "(1500, 2)"
      ]
     },
     "execution_count": 31,
     "metadata": {},
     "output_type": "execute_result"
    }
   ],
   "source": [
    "X.shape"
   ]
  },
  {
   "cell_type": "markdown",
   "metadata": {},
   "source": [
    "Finally, let's plot"
   ]
  },
  {
   "cell_type": "code",
   "execution_count": 32,
   "metadata": {},
   "outputs": [
    {
     "data": {
      "text/html": [
       "\n",
       "\n",
       "\n",
       "\n",
       "\n",
       "\n",
       "  <div class=\"bk-root\" id=\"e658c615-1f74-41d5-87e6-4573e78962e9\"></div>\n"
      ]
     },
     "metadata": {},
     "output_type": "display_data"
    },
    {
     "data": {
      "application/javascript": [
       "(function(root) {\n",
       "  function embed_document(root) {\n",
       "    \n",
       "  var docs_json = {\"771a0467-7947-4706-a8b2-38c97225a7d5\":{\"roots\":{\"references\":[{\"attributes\":{\"active_drag\":\"auto\",\"active_inspect\":\"auto\",\"active_multi\":null,\"active_scroll\":\"auto\",\"active_tap\":\"auto\",\"tools\":[{\"id\":\"4de31c4d-eb24-47f5-8be6-fb08ab3b24fd\",\"type\":\"PanTool\"},{\"id\":\"cc9ce949-aa99-4b76-bcd4-b1dd2eb61152\",\"type\":\"WheelZoomTool\"},{\"id\":\"1eee7e53-245a-4127-8d8e-7d6ac3726dae\",\"type\":\"BoxZoomTool\"},{\"id\":\"df8be48e-0de8-46f5-ade6-02e9e6b76ebd\",\"type\":\"SaveTool\"},{\"id\":\"d1bdb570-5a1b-4bda-a12d-e7d57efb6fd6\",\"type\":\"ResetTool\"},{\"id\":\"119b7e03-3e81-4513-93b6-75d05126c88f\",\"type\":\"HelpTool\"}]},\"id\":\"20695a69-9742-4053-bc73-23719cd0d68a\",\"type\":\"Toolbar\"},{\"attributes\":{},\"id\":\"df8be48e-0de8-46f5-ade6-02e9e6b76ebd\",\"type\":\"SaveTool\"},{\"attributes\":{\"line_color\":\"green\",\"x\":{\"field\":\"x\"},\"y\":{\"field\":\"y\"}},\"id\":\"ad29933f-61de-4e76-ba92-dfd8e8e384f9\",\"type\":\"Line\"},{\"attributes\":{},\"id\":\"d1bdb570-5a1b-4bda-a12d-e7d57efb6fd6\",\"type\":\"ResetTool\"},{\"attributes\":{},\"id\":\"90b964c9-7679-4be4-8c14-d584f290236f\",\"type\":\"LinearScale\"},{\"attributes\":{},\"id\":\"119b7e03-3e81-4513-93b6-75d05126c88f\",\"type\":\"HelpTool\"},{\"attributes\":{\"callback\":null},\"id\":\"8e14473e-11d8-4d1b-b0cb-14ced46f6e25\",\"type\":\"DataRange1d\"},{\"attributes\":{},\"id\":\"2df7a599-05df-4401-b5ad-05f5db03b886\",\"type\":\"UnionRenderers\"},{\"attributes\":{},\"id\":\"1e6628c1-172d-439d-a14a-1b3462360101\",\"type\":\"LinearScale\"},{\"attributes\":{\"grid_line_color\":{\"value\":null},\"plot\":{\"id\":\"95c0ae88-7cdb-438e-a68a-fa7f195440c5\",\"subtype\":\"Figure\",\"type\":\"Plot\"},\"ticker\":{\"id\":\"a82dc9c5-0530-442f-b32b-9b8fc7a66865\",\"type\":\"BasicTicker\"}},\"id\":\"f579b5fa-12da-4fa9-b4dc-98e69c11a627\",\"type\":\"Grid\"},{\"attributes\":{},\"id\":\"f58c5af2-882c-47d5-940d-f894df659ac9\",\"type\":\"BasicTickFormatter\"},{\"attributes\":{\"formatter\":{\"id\":\"d970d389-2b31-48ca-aa4e-45933c37a220\",\"type\":\"BasicTickFormatter\"},\"plot\":{\"id\":\"95c0ae88-7cdb-438e-a68a-fa7f195440c5\",\"subtype\":\"Figure\",\"type\":\"Plot\"},\"ticker\":{\"id\":\"a82dc9c5-0530-442f-b32b-9b8fc7a66865\",\"type\":\"BasicTicker\"}},\"id\":\"a7cfa4b4-e98b-45e2-a680-26ce8c56f80f\",\"type\":\"LinearAxis\"},{\"attributes\":{},\"id\":\"a82dc9c5-0530-442f-b32b-9b8fc7a66865\",\"type\":\"BasicTicker\"},{\"attributes\":{\"formatter\":{\"id\":\"f58c5af2-882c-47d5-940d-f894df659ac9\",\"type\":\"BasicTickFormatter\"},\"plot\":{\"id\":\"95c0ae88-7cdb-438e-a68a-fa7f195440c5\",\"subtype\":\"Figure\",\"type\":\"Plot\"},\"ticker\":{\"id\":\"6fb1d48d-5782-483c-b791-f0ad7e798529\",\"type\":\"BasicTicker\"}},\"id\":\"66fdc3c1-ea96-4783-baeb-7229b5164382\",\"type\":\"LinearAxis\"},{\"attributes\":{},\"id\":\"6fb1d48d-5782-483c-b791-f0ad7e798529\",\"type\":\"BasicTicker\"},{\"attributes\":{\"dimension\":1,\"grid_line_color\":{\"value\":null},\"plot\":{\"id\":\"95c0ae88-7cdb-438e-a68a-fa7f195440c5\",\"subtype\":\"Figure\",\"type\":\"Plot\"},\"ticker\":{\"id\":\"6fb1d48d-5782-483c-b791-f0ad7e798529\",\"type\":\"BasicTicker\"}},\"id\":\"a0e60706-3199-43b1-800c-1fb9a1c028d4\",\"type\":\"Grid\"},{\"attributes\":{\"background_fill_color\":{\"value\":\"#eeeeee\"},\"below\":[{\"id\":\"a7cfa4b4-e98b-45e2-a680-26ce8c56f80f\",\"type\":\"LinearAxis\"}],\"left\":[{\"id\":\"66fdc3c1-ea96-4783-baeb-7229b5164382\",\"type\":\"LinearAxis\"}],\"renderers\":[{\"id\":\"a7cfa4b4-e98b-45e2-a680-26ce8c56f80f\",\"type\":\"LinearAxis\"},{\"id\":\"f579b5fa-12da-4fa9-b4dc-98e69c11a627\",\"type\":\"Grid\"},{\"id\":\"66fdc3c1-ea96-4783-baeb-7229b5164382\",\"type\":\"LinearAxis\"},{\"id\":\"a0e60706-3199-43b1-800c-1fb9a1c028d4\",\"type\":\"Grid\"},{\"id\":\"89d5ee40-d57d-4c31-af88-c270ea550475\",\"type\":\"BoxAnnotation\"},{\"id\":\"58ed5cc4-b910-42eb-bd7f-29e8b9e5d9d8\",\"type\":\"GlyphRenderer\"}],\"title\":{\"id\":\"bbecfa26-362a-4a4e-aafc-558783e7969c\",\"type\":\"Title\"},\"toolbar\":{\"id\":\"20695a69-9742-4053-bc73-23719cd0d68a\",\"type\":\"Toolbar\"},\"toolbar_location\":null,\"x_range\":{\"id\":\"e438f491-d4ea-40ba-805f-ec4a294100d2\",\"type\":\"DataRange1d\"},\"x_scale\":{\"id\":\"90b964c9-7679-4be4-8c14-d584f290236f\",\"type\":\"LinearScale\"},\"y_range\":{\"id\":\"8e14473e-11d8-4d1b-b0cb-14ced46f6e25\",\"type\":\"DataRange1d\"},\"y_scale\":{\"id\":\"1e6628c1-172d-439d-a14a-1b3462360101\",\"type\":\"LinearScale\"}},\"id\":\"95c0ae88-7cdb-438e-a68a-fa7f195440c5\",\"subtype\":\"Figure\",\"type\":\"Plot\"},{\"attributes\":{\"line_alpha\":0.1,\"line_color\":\"#1f77b4\",\"x\":{\"field\":\"x\"},\"y\":{\"field\":\"y\"}},\"id\":\"303bee9a-21e0-4291-b66b-b6032caafa3a\",\"type\":\"Line\"},{\"attributes\":{},\"id\":\"d9c27bd7-ad20-423e-a52e-460a76cbe17a\",\"type\":\"Selection\"},{\"attributes\":{},\"id\":\"d970d389-2b31-48ca-aa4e-45933c37a220\",\"type\":\"BasicTickFormatter\"},{\"attributes\":{\"callback\":null,\"data\":{\"x\":[1,2,3,4,5,6,7,8,9],\"y\":[4.835069795996282,2.2619954921343055,1.3345784927546498,1.103869474474811,0.9998167793505504,0.905098647401954,0.8504988430936851,0.8053376024098722,0.7716016552132057]},\"selected\":{\"id\":\"d9c27bd7-ad20-423e-a52e-460a76cbe17a\",\"type\":\"Selection\"},\"selection_policy\":{\"id\":\"2df7a599-05df-4401-b5ad-05f5db03b886\",\"type\":\"UnionRenderers\"}},\"id\":\"d4a86381-87f3-4745-bbe1-6c621a709959\",\"type\":\"ColumnDataSource\"},{\"attributes\":{\"bottom_units\":\"screen\",\"fill_alpha\":{\"value\":0.5},\"fill_color\":{\"value\":\"lightgrey\"},\"left_units\":\"screen\",\"level\":\"overlay\",\"line_alpha\":{\"value\":1.0},\"line_color\":{\"value\":\"black\"},\"line_dash\":[4,4],\"line_width\":{\"value\":2},\"plot\":null,\"render_mode\":\"css\",\"right_units\":\"screen\",\"top_units\":\"screen\"},\"id\":\"89d5ee40-d57d-4c31-af88-c270ea550475\",\"type\":\"BoxAnnotation\"},{\"attributes\":{\"data_source\":{\"id\":\"d4a86381-87f3-4745-bbe1-6c621a709959\",\"type\":\"ColumnDataSource\"},\"glyph\":{\"id\":\"ad29933f-61de-4e76-ba92-dfd8e8e384f9\",\"type\":\"Line\"},\"hover_glyph\":null,\"muted_glyph\":null,\"nonselection_glyph\":{\"id\":\"303bee9a-21e0-4291-b66b-b6032caafa3a\",\"type\":\"Line\"},\"selection_glyph\":null,\"view\":{\"id\":\"7d1f329e-5027-49b1-a809-013e86243f6a\",\"type\":\"CDSView\"}},\"id\":\"58ed5cc4-b910-42eb-bd7f-29e8b9e5d9d8\",\"type\":\"GlyphRenderer\"},{\"attributes\":{},\"id\":\"4de31c4d-eb24-47f5-8be6-fb08ab3b24fd\",\"type\":\"PanTool\"},{\"attributes\":{\"source\":{\"id\":\"d4a86381-87f3-4745-bbe1-6c621a709959\",\"type\":\"ColumnDataSource\"}},\"id\":\"7d1f329e-5027-49b1-a809-013e86243f6a\",\"type\":\"CDSView\"},{\"attributes\":{\"plot\":null,\"text\":\"Elbow Method\"},\"id\":\"bbecfa26-362a-4a4e-aafc-558783e7969c\",\"type\":\"Title\"},{\"attributes\":{},\"id\":\"cc9ce949-aa99-4b76-bcd4-b1dd2eb61152\",\"type\":\"WheelZoomTool\"},{\"attributes\":{\"callback\":null},\"id\":\"e438f491-d4ea-40ba-805f-ec4a294100d2\",\"type\":\"DataRange1d\"},{\"attributes\":{\"overlay\":{\"id\":\"89d5ee40-d57d-4c31-af88-c270ea550475\",\"type\":\"BoxAnnotation\"}},\"id\":\"1eee7e53-245a-4127-8d8e-7d6ac3726dae\",\"type\":\"BoxZoomTool\"}],\"root_ids\":[\"95c0ae88-7cdb-438e-a68a-fa7f195440c5\"]},\"title\":\"Bokeh Application\",\"version\":\"0.13.0\"}};\n",
       "  var render_items = [{\"docid\":\"771a0467-7947-4706-a8b2-38c97225a7d5\",\"roots\":{\"95c0ae88-7cdb-438e-a68a-fa7f195440c5\":\"e658c615-1f74-41d5-87e6-4573e78962e9\"}}];\n",
       "  root.Bokeh.embed.embed_items_notebook(docs_json, render_items);\n",
       "\n",
       "  }\n",
       "  if (root.Bokeh !== undefined) {\n",
       "    embed_document(root);\n",
       "  } else {\n",
       "    var attempts = 0;\n",
       "    var timer = setInterval(function(root) {\n",
       "      if (root.Bokeh !== undefined) {\n",
       "        embed_document(root);\n",
       "        clearInterval(timer);\n",
       "      }\n",
       "      attempts++;\n",
       "      if (attempts > 100) {\n",
       "        console.log(\"Bokeh: ERROR: Unable to run BokehJS code because BokehJS library is missing\")\n",
       "        clearInterval(timer);\n",
       "      }\n",
       "    }, 10, root)\n",
       "  }\n",
       "})(window);"
      ],
      "application/vnd.bokehjs_exec.v0+json": ""
     },
     "metadata": {
      "application/vnd.bokehjs_exec.v0+json": {
       "id": "95c0ae88-7cdb-438e-a68a-fa7f195440c5"
      }
     },
     "output_type": "display_data"
    }
   ],
   "source": [
    "from sklearn.cluster import KMeans\n",
    "from scipy.spatial.distance import cdist\n",
    "\n",
    "distortions = []\n",
    "K = range(1,10) # Number of k values to try\n",
    "for k in K: # Entering a loop to try them all\n",
    "    kmeanModel = KMeans(n_clusters=k).fit(X) # Create a k-means clustering object and fit it!\n",
    "    kmeanModel.fit(X) #Appears to be doing the same thing - redundant?\n",
    "    distortions.append(sum(np.min(cdist(X, kmeanModel.cluster_centers_, 'euclidean'), axis=1)) / X.shape[0])\n",
    "\n",
    "f3 = figure(title=\"Elbow Method\", toolbar_location=None)\n",
    "f3.grid.grid_line_color = None\n",
    "f3.background_fill_color = \"#eeeeee\"\n",
    "\n",
    "# \n",
    "f3.line(K,distortions, line_color='green')\n",
    "\n",
    "\n",
    "show(f3)"
   ]
  },
  {
   "cell_type": "markdown",
   "metadata": {},
   "source": [
    "What else can you do? See the [Silhouette Method](http://scikit-learn.org/stable/auto_examples/cluster/plot_kmeans_silhouette_analysis.html)."
   ]
  },
  {
   "cell_type": "markdown",
   "metadata": {},
   "source": [
    "**Gaussian Mixture Models**"
   ]
  },
  {
   "cell_type": "markdown",
   "metadata": {},
   "source": [
    "Now let's look at some statistical analysis that happens to lend itself to clustering."
   ]
  },
  {
   "cell_type": "markdown",
   "metadata": {},
   "source": [
    "A *Gaussian mixture distribution* takes the form"
   ]
  },
  {
   "cell_type": "markdown",
   "metadata": {},
   "source": [
    "## $p(x) = \\sum_{k=1}^K \\pi_k\\mathcal{N}(x \\mid \\mu_k,\\Sigma_k)$"
   ]
  },
  {
   "cell_type": "markdown",
   "metadata": {},
   "source": [
    "We define a $K-$dimensional random variable $\\bf z$ such that $z_k \\in \\{0,1\\}$ and $\\sum_k z_k = 1$."
   ]
  },
  {
   "cell_type": "markdown",
   "metadata": {},
   "source": [
    "The joint distribution for $x$ (data) and this variable is expressed in the form"
   ]
  },
  {
   "cell_type": "markdown",
   "metadata": {},
   "source": [
    "## $p(x,z) = p(z)p(x \\mid z)$"
   ]
  },
  {
   "cell_type": "markdown",
   "metadata": {},
   "source": [
    "Algebra gives the quantity we want (the one that helps with classification):"
   ]
  },
  {
   "cell_type": "markdown",
   "metadata": {},
   "source": [
    "## $p(z_k = 1 \\mid x) = \\frac{\\pi_k\\mathcal{N}(x \\mid \\mu_k,\\Sigma_k)}{\\sum_j^K \\pi_j\\mathcal{N}(x \\mid \\mu_k,\\Sigma_k)}$"
   ]
  },
  {
   "cell_type": "markdown",
   "metadata": {},
   "source": [
    "*This expresses the probability of belonging to cluster $k$*. It is referred to as the *responsibility* that the $k^{th}$ Gaussian distribution takes for explaining the observations $x$.  \n",
    "\n",
    "The *log-likelihood* is the function to be optimized, and the decision variables are the parameters for the distribution, i.e. $\\pi$, $\\mu$ and $\\Sigma$."
   ]
  },
  {
   "cell_type": "markdown",
   "metadata": {},
   "source": [
    "## $ \\ln p(x \\mid \\pi, \\mu, \\Sigma)$"
   ]
  },
  {
   "cell_type": "markdown",
   "metadata": {},
   "source": [
    "It can be optimized via an *Expectation-Maximization* algorithm:"
   ]
  },
  {
   "cell_type": "markdown",
   "metadata": {},
   "source": [
    "### EM for Gaussian Mixtures\n",
    "\n",
    "1. Initialize $\\mu_k$, $\\Sigma_k$ and $\\pi_k$\n",
    "2. (E-step) Evaluate *responsibilities* using *current parameter estimates*.\n",
    "3. (M-step) Re-estimate parameters using current responsibilities. Assignments in this step are derived from Langrange multipliers (gives conditions for optimality).\n",
    "4. Evaluate the log-likelihood and check for its convergence or else that of the parameters. If not converged, start again with Step 2."
   ]
  },
  {
   "cell_type": "markdown",
   "metadata": {},
   "source": [
    "*Example*"
   ]
  },
  {
   "cell_type": "markdown",
   "metadata": {},
   "source": [
    "Creating a model and training it:"
   ]
  },
  {
   "cell_type": "code",
   "execution_count": 33,
   "metadata": {},
   "outputs": [],
   "source": [
    "from sklearn import mixture\n",
    "gmm = mixture.GaussianMixture(n_components=3, covariance_type='full',\n",
    "                              max_iter=100).fit(X)"
   ]
  },
  {
   "cell_type": "markdown",
   "metadata": {},
   "source": [
    "Applying that model to make predictions:"
   ]
  },
  {
   "cell_type": "code",
   "execution_count": 34,
   "metadata": {},
   "outputs": [],
   "source": [
    "predictions = gmm.predict(X)"
   ]
  },
  {
   "cell_type": "markdown",
   "metadata": {},
   "source": [
    "What clusters have we found?"
   ]
  },
  {
   "cell_type": "code",
   "execution_count": 35,
   "metadata": {},
   "outputs": [],
   "source": [
    "D1 = X[np.where(predictions==0)].transpose() # Just getting the right shape with transpose\n",
    "D2 = X[np.where(predictions==1)].transpose()\n",
    "D3 = X[np.where(predictions==2)].transpose()"
   ]
  },
  {
   "cell_type": "code",
   "execution_count": 36,
   "metadata": {},
   "outputs": [
    {
     "data": {
      "text/html": [
       "\n",
       "\n",
       "\n",
       "\n",
       "\n",
       "\n",
       "  <div class=\"bk-root\" id=\"40e9a7df-1351-4833-bd97-ffc1ca9102a7\"></div>\n"
      ]
     },
     "metadata": {},
     "output_type": "display_data"
    },
    {
     "data": {
      "application/javascript": [
       "(function(root) {\n",
       "  function embed_document(root) {\n",
       "    \n",
       "  var docs_json = {\"03a02c11-aef8-4661-8f1a-5b2001ba0ac7\":{\"roots\":{\"references\":[{\"attributes\":{\"dimension\":1,\"grid_line_color\":{\"value\":null},\"plot\":{\"id\":\"233517ad-3356-45f6-aa25-dc591099cf1a\",\"subtype\":\"Figure\",\"type\":\"Plot\"},\"ticker\":{\"id\":\"cf9a4119-c9da-43b0-9cda-ddcdf9b908f8\",\"type\":\"BasicTicker\"}},\"id\":\"6ddd9faf-b89f-4e2b-b127-603f2e0d2d40\",\"type\":\"Grid\"},{\"attributes\":{\"callback\":null,\"data\":{\"x\":{\"__ndarray__\":\"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\",\"dtype\":\"float64\",\"shape\":[500]},\"y\":{\"__ndarray__\":\"1gyATniL4b94OV3Lj17OPwTzVYPs6eO/sotIxYEBs7812ZH3r5nQP3xVlOk/R64/UA4ifwt21D9XDqpQsQaVP7sK1V1Cxtw/P5f7rL/K1j8NFIzOkMazPxfnE7emuXC/yYtCy4b44j+W6E5KQHStP2GIfk722sU/kwcgpWQT2T96dKeFHFTcvxmSX3njhsu/QmUEeFPFkr99hYPwMtfUv3nO8Y6AnOS/rJc54FYQ1L+9iHlt6VzeP4761N6TVM+/ZNXG2/2brD84todwgVbcv7ZRAJuRZMQ/BHaBu9MC4j+862FbdSrVv5rceq3zLZs/+MQwz4HLxT9+ULrZPJ/nv33SHS5o+N6/aWhdpqFO0b/6WDU5BwbQv5DGBqplzNU/JDqzRe5o478LSC4nDGfsvw0sqHP6ouW/0FrHKQNmwz9fgfxoBDzJvz57arvpj9G/YbfQbSkNyb8N4vAk/yOUP0+Pm9SkltC/6Ru1PL7+6D8ttMVKS0TaPzrJx7hhaqu/8NZb4LFBxT8gIqs1BMzFv0gDL9/3Hdo/KCKt5YSlvj8k3EKCecy4PwFHb2E5aI6/TjAOSLk/zz/t7yOCSdSYP55h67a+FuK/8PqGfmay2D8KCouCfLT1P458VbK+480/YY9eesUN4z9bT2u4ENPSP1EQyoeaDdI/hIhy3PQ9rj8d4FU0CpG7P41haCih5+u/f3OlKctkwT9iC0kcPXfcPzpwxnNR3sU/mv4Pq0+Y27/YBrlO+JPev5mMXGevguC/P2NStOiN1r/Q5KMBr8TOPzHL12qQh8W/S96TDABI5T9cY+lbFArNv/+588Wre8I/GsJQesVu1L+IMLnjTNy3v9+s76vGStE/B7LjoxvI87/rHQ13LH3WP9pXb9xl/MO/q4nddFUp27/ZUjnVprjdv3evSlaB1ui/+yrpVQr33b+CW3QUo2LHv5K6JcU6L0a/vzMGyvr+4j8WiZpMcWztP6DLnqEcLdQ/7UFrNzVRyT/oLBJR50jYP+kLLTbx4NC/K4jhtpV6vD/XP9arOOnJPxxf3v6SQ7S/9BB+BOIY3z/lKhkmq2zhPyQm07yFpbk/5DeWlFXnqT9CiqDdVQ3Gv9HGCgzGBd4/BfknjUva0j+zG7OjgCnKvww+TCJFWOC/jArBuUq96j+UjyclI1mxv9M3LSGIFuY/BpVWo/d6wz8Uu8NR8RzZP5qOGPtERNa/3t0rLULzuT8iCpgfki/dvzXh6W9AW9+/ac/1vlKZ0D8hbqKm1lfaPwC/ewavEOG/vxahnpW+178VgyUHChzgP26+nBWB8OY/uI9ALF5F5b86I0sNuKfiv1ux5URIz8s/URk4gpqW4T+fSD468MywPzIhSxOH2dg/X01e4fbV3z+SiDJUXl3av0SRnBKpYs8/yf/Cgt6t4L+rlDS8lqLhP5J24v+VzdA/e+wk8Y33vj8TFCS8WVvyv3UqKWfU8sG/eBHKZBfEsT/pZjQ+O0TKP+46HEvdx+g/Jr54eItqoL/HJyli04nBvzOsZVArA9I/MnnC8q6P67/UCzsQgkvUP9iLicVLiNa/l86AIou7wL/LLcCLBZDVP9spbMJTjs6/xoNO1H4+qL+GgWVA/wrgv3aZ01PE9Kw/UL3JrYpEzb8qP41Nf2qgP9nhJD6tv88/Vcb6828yxj8bpUcQfMjWv/Yoy1Tb/M4/z3eosP0u2D9kQW0ug5HgPwGPrlf7StQ//s1eT2ou2r9AW0a730HnP58p3tuK5uM/Tgp9ZbxgyT/RHaLkXozYv9AreUWuTuI/945ehLbt6L/bUr0KqSXVv69C04uU3b2/zFpRnGvQ1j9YjKh43Dzgv+Y+s/16N9q/TZBvVelfwT//elh7euvgv0r2tZluSra/+4ZCGCGX4b8KlKz8GAjav8upxm3oC7q/3iAmNIS2zr9Jccgb9Svov2yNnC61B+w/ZP6IcHORxT+rqYUHO8O/P6dXh5/SH+Q/z5ucEYs2zD8yn5PCdU7Gv35mgm4abN+/hB+YoBF35b+lflMJWSjMP0F9quZYDrU/B9MWUy1W8D+JV6I68ffEv+P69zbvVMI/YLy8HiGv4D+Y+6U4HhLBv2b/eqQdktc/NLhBgUp9tb/T8o23I+vDv8Km5zOEa8m/qfSa+w0S2r/MrPB4YVrnP/WuhVPEVNa/yLM4j4Dtxr9Ps9oJgmfUv/4xaInbmtm/mW4XRa50qT92aB8y+XbOv3OykZgd7bM/c6kZnsOmy78OyFHX+gjGP3F1ny0m+76/oHveGSgM3T+xTN861tfdP9jJiJ4uNMk/eInUxYeb3z9X5usEAPm2Py4x2eL5bt8/3wzcjq4l1j/T6PE2mQqhP3d/h3eK2sq/+Irdd0Yn6r/o3ep5oyXUP4AHwr0OLtE/uFLxJkpc2L+qWpyt/4DHv5yShqJXJNq/gJUScLhG1D8ut6Tj1pjov5TcdQu+8rq/Bku2PVea0D8Wmv5iO2PTv9tg+HoRhts/+2dHbSer3j8GT0+Ts1fMP7A4a6+Tl8A/Oa5sPsIA5D+66hwQmTLbP//nHHMHUZa/1FYaNprw5L/O5RWnwXbgvyafaBDsSNq/KwpyhbEtzr9NUtp/Va3qv3ctqD6bxOg/RA/DBHNKqr8D5OCGAdHCP1gKF8LrRs2/Itqjp1W91r+dq3l5VIjcP7Sl8OysW8k/e6gNFosO3L9rsZA6/kDEPxNIacSjXtK/S6N16D3WyD9f9zGw2jzdvxccYHL3ofE/1gs/Ts1P5r+/dXi1qtq0vw+GfRV2Jc+/K5LLl6Uuqb82Q/fv+ETnv1fpEXVf+eC/G5xWfiD9qr+b+dd5UcbGvyw/+Tw31+Y/moiep06Uvz+vAcy6Y9i6v+7www63sse/VWqDqFhZwb8yhhvbCmvOv2O6ETSO/Mw/+MFGueJW1L+qG6Z/ama8P6Z8hixE4OK/JIa5fH/lxL95zECEyWCyv+jzpMq6lOi/WFnEBjvzyD+kaB34Fmn0PzFGc+xG3eS/IcBfB/Ihvr866aLfkrLkPyPYsPvW5rm/6a6SK/NO6D+cR+gyMYPjP+DDo84EV8I/4iqyNLsCwr/YwqmoL9Z5v9yUKYJAuuI/KzSzfCM10D/AUJ/qd1fpv1mNkmCfRsK/o4TWOWBZ0b9oqOEy08/LPyykeUIjK8o/ty43x8nF5z9kVufRAdPbPyBVDXEPXeu/dlm67o739L+T12hlJtnQv/eAAGWva9s/yTHwKlmSur+l7RJXfmzbv99KUyiI2tU/Qf8b6O3k2z8c/6Q24brsv3qHN9BhnNI/3uhLbJgjpD8+Y+9jkF7QP+PfC/BH6qK/fzxf2QxN4L/OviahAorZPxWesUo7atS/upCj4P0d6b9yE2g5z8XNv1BTOrc3Yd0/DLQ9UyjL3b8nZBzoHZ2yP/hbk9gRtu+/ZY3KBQbK0b/DVkFttpHDP+9VTRS+Edm/IfgHybIa4z+W1qND3v7jv0avm8XFfdk/sZfYR3h94D/9yWJfoEjtv5Ter2j/4sy/OXqybOVX1z/lsOOjd23YPxygZ7x1zM4/wP7zKWaVdj/W6GkDWaHnvzM3vmFTaNS/CcgWojVhuD8DFGOg+JHfv4Kf/XcgHcK/V5jFgVdWrz+BWmZHo7bRP9SMH3fw+d+/RXxNS5fazz/h56cFbZPCPxaXfVPa+t0/HLqBLIiU1j/sa10VB3S5P6h/Bs2U4+w/ZidSrRrHx79s+MyggeTCP7tEaRj7rd2/AtUiJtMa47+uWRiIJm3APx8fPiaJrri/ztcxBugC4r9j/wyGrO3PvwvMzaHPiLG/Q9CRsdbzy7+dbFTo8uOrPx0P1Wzn/eO/Oh5PZBetjL9qLdzHxrrWP8Go1PRsR8g/ZZlEcrpyq7+Fk5FubIjqv6Sza2K1Tuy/kHhU+A3L0T+NX9W6QD7nv6SDcDam6MM/vX//4DVfxL8E6eI0D+fgv8Nkm4Oen7M/gvVYrTdj5z+iJOxGxqijvzGYC1EvS94/TUDlq06C1D8IOdsFnLHTP8W5YOU3Oq2/FPVxrAsQyr9+WUd6ofjPv2PPx8uPPtK/EafuPkBn4D9XUI2R6kisv26bgKBF+Lo/Ci8mnRZHwT+euhOhxX+uv4kPT5pGoty/Qn8aQKstiz/cQeqPiExwv+0NnCmcudi/n8xg/qAh47/WSNc2Oj7Jv4OzwE5SDfI/WvyKC1o74D9LQzwnBnjWv/MlQADLde8/BB4LMmEQ0D9iajCtzhjhvw667FF0Vdu/rF3Q6jBZ4L8wP+c42Q3iv6/NKip4Otq/5wc4YYwP0b9e8uINALzlPxOlJA0MIsQ/48XiFUFy07/TMRjZe6XkP5iQw7WoNX+/Zhz2ojUn3T++z7MO5cZhP1kQU9vdJMk/hBgHhU+E2D/7otRLfsDmP7qeRN9KON2/KeMQd0N10r+MXRZKtTXQvwQweJ00Ec8/xMjcPBJa3b+hc/fBlMjDv1Y2P90McuC/2KDrevu9yT+jDA7voOTdv1pirKTGg9W/CjfShdpv4L+OoQQe4BrVP52l95VjUrS/eH5hwWnE3D/lpvgCH7q9vyP/NkPivu0/28Xdw8vb0j+wlvswtl7yv4YCoU/3kds/GPkyd7Mq2L9Y2vEV44/QP1Ztk0YcnuE/ngHFRn72oj/13Xwu6njdv6Rw73vxkJw/aO5DAEQYzj+U1dbPcnLlP0mkLVpbSuI/jwdkOKy63j+9AeNgDsuSP7FyeaGqOsq/+NGMU/wpmT+kiA/QRL/SP+SIvcgj/LG/PF54MwRE3b/CDbXQqh/gvyy8EPOiYOE/5eRZpO7SwD/l5zRwkLvLP4HKI1/Ojbq/P3mTRWHauL88fJzEKyPLvydhx2S+ttc//rjXdsQpwj+C4clshrLQv1rw/ipUmc6/suENOAZyhb++ko5EFY/Fvy2nWi6oXuM/VDOH8KYv7j9zKy6OrNvgv4h5N45/+9a/S5bYL2D0wb8//PuOhoPQP8DhWu7wNZ+/FDnMr2se4b+i0yRTg8HVv51hoNjq4dO/w3RHvj2+r798mSgonNPbP+GJkzqkPOm/yeCqwaGR1r/7ym3RwHfev6toMe5bQ+s/idMyZnL10L/f1wxcMda6v+DgtCpWA6K/gVywim1pxr94czCjYEjJPzkWmrsYxtY/ioF2HyHtvr/oV0KVRNHZP3TNvDZ72sw/wnyCs4KRoz/QawTgB9zlP/VYX45z6e6/+IN96iFu6D8VNK+7IenBP/ly4MSdebU/OgavzJRW3z9k6KroVYbPP+xJxDVTHLu/XdBVIWb/tT+CWSL+nGOWP0wH7pCjIOC/SKMc7IIq3r+PO1lJbZTFvw==\",\"dtype\":\"float64\",\"shape\":[500]}},\"selected\":{\"id\":\"04a4714e-550b-4302-82af-2bfbc086e3b0\",\"type\":\"Selection\"},\"selection_policy\":{\"id\":\"4fe6c351-17d9-4d13-bd0e-4924cd468330\",\"type\":\"UnionRenderers\"}},\"id\":\"06ae6ea8-385e-49dc-98a6-d4e2129b4573\",\"type\":\"ColumnDataSource\"},{\"attributes\":{\"bottom_units\":\"screen\",\"fill_alpha\":{\"value\":0.5},\"fill_color\":{\"value\":\"lightgrey\"},\"left_units\":\"screen\",\"level\":\"overlay\",\"line_alpha\":{\"value\":1.0},\"line_color\":{\"value\":\"black\"},\"line_dash\":[4,4],\"line_width\":{\"value\":2},\"plot\":null,\"render_mode\":\"css\",\"right_units\":\"screen\",\"top_units\":\"screen\"},\"id\":\"427873df-41b7-4bff-9514-0fa8da83690a\",\"type\":\"BoxAnnotation\"},{\"attributes\":{},\"id\":\"8e44805c-8b40-4b59-93d4-530c0471c726\",\"type\":\"PanTool\"},{\"attributes\":{\"callback\":null,\"data\":{\"x\":{\"__ndarray__\":\"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\",\"dtype\":\"float64\",\"shape\":[501]},\"y\":{\"__ndarray__\":\"DMcyT7bZ9z8EgQ5svuDTv9zpaku6LQFAcOln96m3xj/6eGPC/gwDQFcvKTv7ROs/gmsP0YrTCsB7zWG3fKH6P7fjEDz2KwZACEclI8hbvz/NvSlj3rMDwJJhOnXN1hFAdn9wNgnN8L9MbF508Hfzv16IViIIQwdAnm2/WH8B5z/o6JU8cfbmP733GN6c2xFApl0mxRF4B0Bx6P3IG/cCQMKVSHwgV/U/0M3g7szmxD/erA/5lsn9v1LQ/67nhO0/8KxZWj6KA0AQ4eeHP/n9PzyTS8NsNNA/rBg0uu6L5T/CN8O3bDvVPxi3bNZ5TvY/oCkKcvmd8D8bV/G2wAH3P4jbKwIwlfw/8kPGkZx58L9IVMsWTbcBQB6hIy+sowNAliAk+KdSBUBIkBqpLyXIP/Z89Kmp6PK/ppqaa4z5BUDuEZ8foP4GQIB+bB55684/qMafyaXy0r+cTG9R8ePrv8751Dj0cPO/lO4QgmNHEkDbqj4nF1ACwFUaUeSsu+A//HP3Hzq75z86J9iCZYfxvzwXwA7K/Po/aP8IwBMlyj9cOXbdIpHwv0br9ApKqfA/u8k5kG7rAEA+oqG8Ha/ivxNCl6HZfwtAmoy7ie5L9T9URPlcvCn7Py5rHilogg5A/p/BEcFDAMB5M+YtksAIQMQfMKyhkuQ/I8u3vINr9D8/8ABe9SkCQKkn6vgrmQJAvAgw0SjZA0A8EQKTbqnZP4qyILtl2ek/kNviHCAXEEBswPP4HEzyv0zjNozttem/6jwO2xt34T+6MnhnOLPrPwqUYi8CpAdAnt0P5BNf/T/ozHCEye/6v6iBy7gyGwpA/hNsris86j8SS40a6MQDwEbPfIW4M/0/6sP/+Eja+z/QZpMlK6KqP3gRjUg57ARAwA6p2YQGxL/WdNhM5Y4DQBjuCS1mrMU/WEmVZlNH+z+OgicafLPzv3C6MHOSGwjASE2YSoJC0j8AoRA9sufNPxLIyD6/J+c/V+ZsQEWH8D/YIB7oVLIBQLi7bCPAQds/MoNzzZHiBUBYK7XBNv77PzQ+ep88xtA/OrYPCXAqAUBM42+wAoP4P3AehsO0TMm/BMsq8yMv2L+Gd645RP8FQECxFxsvHLM/vMngVzxbCUA7sOTU78wNQKhXR49tIwxA0gakOEzQA8D86/u066r+v4YSchBG9fW/4JcOfAqyqb+adEVwsR0BQFiTb87CfQZAIPqR1JF1ur8wjYYjcmbAv4hqIyZ8ofM/eAu8xWhc4r+SwR9qGOryv6p0554rN+Q/udWdyiWI6D/kCwAFu1nwv16awFUmaAtAFBMkOjH6+L9AR1odJMvXv/4ztWRzxABArAaD7Jtu8b+ClayXSHHxPyCo3eE/yca/fHM4mlw29b/AONGbjR2oP4fsPcRh+gZAqAR+FvY/8D98M9ZzRr4AQEYhDOEpK/k/QOTOBzoj0z9N10rHTT8QQA9Gtp2+p+0/HqpuSHvI8D8XA7ZKQz/3P9pWB0EHHgZAIh/6f/XX+j904m2BHwz4v0CiZB2d2M2/CJf5aHlytT8tqEJmZBQTQAAEZzv2kai/9gj+K0zi5z//u3IEAfPgP6JwkE5OH/M/KOaBNeEjw78CqObflT4HQCw9bi/HgMM/YK2y3kDJ878orI3R+eDcvygaWp0ZJ/C/eIEgxgGT4r9VIXu9TrECQBA1sQWvJek/fUkdK7bFCECqSlnNYTn5P6Bil1XNq86/GKlu0bqI2L/I8F1Efa7kvwYBZ06LsQ5AwIVtAisEt7+wCQ2cx9cAQCKPgVwkNA9AkU9xOrIi/z9gdVGSMsXav9BqP99Pjvk/cA02rIQg/D/WSErBX0ELQAxWzcyYN/g/EmGRY9u4+j8BLiod3QPsP1OFUIynW+s/rvRiLQUXEECUGLXGIXkOQAkX2ul0cOM/cuVUqvnh6L/ZYg201UwWQPCX1vBbXdi/eiNaFwB657/mLbR64kbhP0jCeoOIA/I/0WrYDsZ+BEBAcE+Bzkj8v/KIiC1J6wNAgHf+IxrZ8j/3Q8Nyj6AGQHFokPXsGPI/uGKRbK3c2j9QOhM691qxv3PuLsHUkAVAQAHsD9tSzT+lWKuS3xMBQCbqfh8obeA/SMLet2zVsz9om/5fDKkHQLhOECiuutm/uCfMtJdXvj+qlH7FUmgAQCRsQpPVfdc/5vlHmiwF6r/4Sn0pCi/Qv7bwatzxzOs/YjU2giMh8T+Q04ybJf3Bv3gJl+tLDLY/8HAV+R3o8T9StJw7htL4P8IIIR5bvfI/tnF0WKqI7T+W4LlQrVYFQNwxXSuyeARAGqCSKrdmAECsibzLKqMKQDML2rHylvA/mAgIUQWuAEBKEmCj1kD6v6Le1x4EAgVAfm5TWyK9AUCsjg5AHULcv7bFtVWNV+q/6MAd2HCBvT85+LHAc3X0PxiFWW72V9C/RlZvwRuJAEA4n1A+I6TbvxjnanXy0fe/GLFftTBJE0DwMK38GKLbv/B/AhIwjqM/Skhtg5H79j/kBFNvsEjrP8HYzNpunxhA3NjussEv3b+Zwyvm0OnoP0ApOjOFUQBAoKFkxBusBECwpuPXp8b1v0hS8AppXAJAHg9rPmSX9D9WPYWvZ+v1v164xLVEIv2/1JGZtUNbAkBAA20lqTmnv+XLZ5Za4PU/voHOJWna4T/chrRr+qn2P52qlNxoKRhAEABa+Avd8L86erMIt8gBQKIMnKk50gFAPzQ6Qp9w8z/8obQlTkADQFADiLPZ66o/5t0YBsP++z842WSKwPHGv+RPBc+VtP2/ICoTxpYX2r9tFLg1YuTyP1JD1DewneS/dHuizTaI/L9HWf8dZQvnP56qQJ2J1AdAmGs0h3QXCsAN8HERkNLvP6LsHIF519k/eKyPgtn3uT9YZcT2OLACQKCMj0nZMM4/KkhRVn+K4j8MPaJD+djrP4DyuMCZkM2/r43lnInf+j80HgyS4QUCQAl8mhscgQNA2TqySfF7C0D91GS4dx7yP7rtQqzqyeU/eP2AzbFb9L8+4yEI+TgAwKW1DU3rOwxAtg3xb+1X/L+1hQlo1dsCwLzABRLMg/m/BM1fm0WSzD92pE26kD7lP/A2svCID7C/Ms8eSaPu3z9endE8H/oWQErRi792pOI/4pvPqvc59T/cz0jAxQvvvzjhs695CNq/5vpYfb/U9b98cTVs/3IEQKDDb1GLEvG/aBxMaQBG8D9U4z15KBrbv/92V9HKsPs/MALLxzkoqj/uAXrtQxQHQLYrHZXj9vK/otpXFpf+B0DhZAKlLP/5P5C9qZvN8fw/bODC2+2A+L/Ai+8XSPMEQBmLKop+aQFA+s3PrNOs8b+4RvO+LRXnPxZyqaZQqwFAqOp9q8kw1b/864Ivbk3YP5RHWNwZ2fI/S5vic0Lj9T8EIGiaehHqvziQJwH7tvU/rsm+VoJo6L9uV3sLZa7sP2qMeO1b5uW/sbh40uir8j/4W1YERRgDQG/W9h9pyPk/4XcgPgdx/D+4UY9NoRXOv8/u+pgY8gRAeCF0Jh5cAECY1+rH+8jjP/gJa3KRXsq/5PM7MkP37z/u4o2FtFj4PzXqfCy0owPAdPn98PDb1L9/rZw6tBsHwNXsHg8gHv0/PCCL/6ZrBEBIgz9sVDLev/R/m1BYcOM/HFbr0hMO/z8c6NIgu3zpv5ghbY5kBdq/0K9rCIgE8D8ozhg9DWQRQNui14+jEvM/w8Vbs/0P7T9Y9XfBUX3VP5ixzYbo678/qxuxCE9V/j8mQsKw8+n/v2QshuQc3eW/Vq9S4PYv7z8kzhjZo5zQP6/HeHNkbvc/8rWyqSVb/T8k3EexMTz1v0Q0XFBvjPc/5uMeQxczAcD0O76tKXkIQEQpN4dPfNK/BjpdGuuE9L+czeaugnjTP7JWLAEUyfm/OMFK4sBm/T8Gyr4eqwLzPzDIDVcqSwHAnI1WpLuw7D9JtVP79p/zP22RWOHj7wNA4Oohf7g6ub+Huo0VUtAKQCwBlSEiJARApRMmssvu8D+GJn76cQv0v9YhCgmUMfa/bpPmbHXeDsAnUBjHY7X1Py+0vN8Spfk/ioZrj7K8+j8tagyaBtAAwISqnQCTwwBAAPWrEXeds7+UXhJmr7cOQCiZNyOXbc+/7l8klAqZ/D8vl1CCXocPQPyrtAEhSsQ/9hMjk+fIAkAGoRn0n97kvxYkOfTjmP8/xJanKj/NBECEndl71aXlvyk64FifsANAjEFmjXnw9D+RgQg9spIHQAs70Ts8N+Q/dgoUjtZB+T8wL9EddIPivxo4c5mPhwHARhnzDUD69T+OqBkUtDP3P/SCCpmKQ/g/ArYQSbLCE0Ckn1JbqezNP9+mFAkETPY/drsjv9WS5782+VuqxhXtPzLAByh1p/k/5mqCD0Du2T+Z6CC5OtLyP8QzoY/u0vQ/6B8aAYbH779KJm0RQNQCQOshdOZr0/w/8Tg5quYAAMCEfaeERM/Uv7aISUPRY/K/GawV6IHiBEA0RNaxLhQCQMQPgpd46hJAIMMMKYqBB0CaBYjsW3UIwCx1gVB7VgJAa7WzWxAw9j8q5GwlUYT+vyuHxrfXs/8/9cA15M+vCkAWVn37MHEHQEwxUXevm/s/FHmA+q5o9j+CKfNiVb3zv76A2PzPfNA/CH+dN/6C9D/4sthEwgwJQObOv3goY/U/jLPTgmAt0z9uyG3X39gCQM/jOOx8l+0/sEwTJixIw7+C6PQbyXjsv94oRBuBJuw/6Z/+m1go6T8Od0MkTqbkv75rDaSSFPg/EP84A07tAUDKIm/Yawvwv0u6+nUMAAdAwgsGN3Pq+j958qLAJngKQJv2mI/vAAtAEoKCZyhi/T8O1uk25YMDQNCAx6x/pbE/HlyLsS+9+D+uKAMqqlQBQHAqHs3fyvK/VC5YtGPp4b8ALurXqiymP9beLkL1O+I/jLAdkfbXBUDkukYLSyjwP13EfJ0mSf8/QN2TZ3ZkrL92iBMEmiLyvxwskmAR+fa/jgxPh2P/BUBtrd7QFyj7P1A4aAgMYMg/7Ny9i9wJ4j+7Z39A3VvxP2RyTK6mDPK/zJyuI7CUEECApTvtAJbbP9T7VACs7+E/wE+6eX7Wk796OAJJXmoOQLzMKbbkcO6/Lmt97wSqA0CkhPFkOXHTvzDiimov0uo/lmroO8nb/z8MuVINrrQHQAA6kb0KtvQ/6lvBnJeK8j+4u5IITx33v/I31w2CJAtAaHRrUBEi1b+y1zrx9Rrmv6yHW/jVX/Y/bFGQGrBS6D8B1TH09In3P2btRo7Q0fo/Z7tvWgN78z8Kb5j9btziv8rbXwLAiuS/uioki7rUD8Bs0sy2eEvpv8hSvI2NzNk/\",\"dtype\":\"float64\",\"shape\":[501]}},\"selected\":{\"id\":\"8ec87041-7b23-4d8b-b165-ba49eeef7901\",\"type\":\"Selection\"},\"selection_policy\":{\"id\":\"06734b2c-1d97-4dc8-a63f-0e08e824cbed\",\"type\":\"UnionRenderers\"}},\"id\":\"23b67a4e-60ec-4f96-9be6-9a40c6218114\",\"type\":\"ColumnDataSource\"},{\"attributes\":{},\"id\":\"75e1e18a-adaa-4917-942a-8ea6aaf1aa37\",\"type\":\"WheelZoomTool\"},{\"attributes\":{\"overlay\":{\"id\":\"427873df-41b7-4bff-9514-0fa8da83690a\",\"type\":\"BoxAnnotation\"}},\"id\":\"7a1e6ce0-4a98-4ce7-9ac8-3ee252d797c5\",\"type\":\"BoxZoomTool\"},{\"attributes\":{},\"id\":\"d6437c15-8db3-4af8-9c30-33011777c50e\",\"type\":\"SaveTool\"},{\"attributes\":{},\"id\":\"ffc7d7cc-2df2-4297-9c01-745404d1da5d\",\"type\":\"ResetTool\"},{\"attributes\":{},\"id\":\"9ae1a2c6-e177-4555-b78e-df5e4a3ddf65\",\"type\":\"HelpTool\"},{\"attributes\":{\"data_source\":{\"id\":\"06ae6ea8-385e-49dc-98a6-d4e2129b4573\",\"type\":\"ColumnDataSource\"},\"glyph\":{\"id\":\"64456a78-e07e-4297-adbc-b91c74be65ba\",\"type\":\"Circle\"},\"hover_glyph\":null,\"muted_glyph\":null,\"nonselection_glyph\":{\"id\":\"3a86eb4f-0458-46ef-8bc3-7636446667be\",\"type\":\"Circle\"},\"selection_glyph\":null,\"view\":{\"id\":\"d53e59d1-feb9-4eca-8d0f-705aa0ac0a38\",\"type\":\"CDSView\"}},\"id\":\"f6a6d9d2-5089-4de3-a744-e80b06bf47d7\",\"type\":\"GlyphRenderer\"},{\"attributes\":{\"fill_alpha\":{\"value\":0.5},\"fill_color\":{\"value\":\"red\"},\"line_alpha\":{\"value\":0.5},\"line_color\":{\"value\":\"navy\"},\"size\":{\"units\":\"screen\",\"value\":15},\"x\":{\"field\":\"x\"},\"y\":{\"field\":\"y\"}},\"id\":\"64456a78-e07e-4297-adbc-b91c74be65ba\",\"type\":\"Circle\"},{\"attributes\":{\"fill_alpha\":{\"value\":0.1},\"fill_color\":{\"value\":\"#1f77b4\"},\"line_alpha\":{\"value\":0.1},\"line_color\":{\"value\":\"#1f77b4\"},\"size\":{\"units\":\"screen\",\"value\":15},\"x\":{\"field\":\"x\"},\"y\":{\"field\":\"y\"}},\"id\":\"3a86eb4f-0458-46ef-8bc3-7636446667be\",\"type\":\"Circle\"},{\"attributes\":{\"source\":{\"id\":\"06ae6ea8-385e-49dc-98a6-d4e2129b4573\",\"type\":\"ColumnDataSource\"}},\"id\":\"d53e59d1-feb9-4eca-8d0f-705aa0ac0a38\",\"type\":\"CDSView\"},{\"attributes\":{\"fill_alpha\":{\"value\":0.5},\"fill_color\":{\"value\":\"yellow\"},\"line_alpha\":{\"value\":0.5},\"line_color\":{\"value\":\"navy\"},\"size\":{\"units\":\"screen\",\"value\":15},\"x\":{\"field\":\"x\"},\"y\":{\"field\":\"y\"}},\"id\":\"0b4d352f-cb75-495a-a12a-127cc6148e75\",\"type\":\"Circle\"},{\"attributes\":{\"fill_alpha\":{\"value\":0.1},\"fill_color\":{\"value\":\"#1f77b4\"},\"line_alpha\":{\"value\":0.1},\"line_color\":{\"value\":\"#1f77b4\"},\"size\":{\"units\":\"screen\",\"value\":15},\"x\":{\"field\":\"x\"},\"y\":{\"field\":\"y\"}},\"id\":\"56c38a29-6642-42b9-ad3b-c99078f0206e\",\"type\":\"Circle\"},{\"attributes\":{\"data_source\":{\"id\":\"23b67a4e-60ec-4f96-9be6-9a40c6218114\",\"type\":\"ColumnDataSource\"},\"glyph\":{\"id\":\"0b4d352f-cb75-495a-a12a-127cc6148e75\",\"type\":\"Circle\"},\"hover_glyph\":null,\"muted_glyph\":null,\"nonselection_glyph\":{\"id\":\"56c38a29-6642-42b9-ad3b-c99078f0206e\",\"type\":\"Circle\"},\"selection_glyph\":null,\"view\":{\"id\":\"25d73b1d-9d99-4bc4-887d-e80240c131be\",\"type\":\"CDSView\"}},\"id\":\"bca77e95-6445-4bae-96d8-73d02ef09377\",\"type\":\"GlyphRenderer\"},{\"attributes\":{\"source\":{\"id\":\"23b67a4e-60ec-4f96-9be6-9a40c6218114\",\"type\":\"ColumnDataSource\"}},\"id\":\"25d73b1d-9d99-4bc4-887d-e80240c131be\",\"type\":\"CDSView\"},{\"attributes\":{},\"id\":\"eb5886d7-bb53-4d9f-a1ea-7553dd8a7c58\",\"type\":\"BasicTickFormatter\"},{\"attributes\":{\"background_fill_color\":{\"value\":\"#eeeeee\"},\"below\":[{\"id\":\"4fd5c692-8287-4b32-b216-39f60b8e8f3a\",\"type\":\"LinearAxis\"}],\"left\":[{\"id\":\"cf6c6066-b775-4607-b1c3-1787be783b6b\",\"type\":\"LinearAxis\"}],\"renderers\":[{\"id\":\"4fd5c692-8287-4b32-b216-39f60b8e8f3a\",\"type\":\"LinearAxis\"},{\"id\":\"8fa43c52-6b63-492d-984d-b35ffa73a315\",\"type\":\"Grid\"},{\"id\":\"cf6c6066-b775-4607-b1c3-1787be783b6b\",\"type\":\"LinearAxis\"},{\"id\":\"6ddd9faf-b89f-4e2b-b127-603f2e0d2d40\",\"type\":\"Grid\"},{\"id\":\"427873df-41b7-4bff-9514-0fa8da83690a\",\"type\":\"BoxAnnotation\"},{\"id\":\"78eb4fe9-3f8d-479f-a068-eb7f7308d0a5\",\"type\":\"GlyphRenderer\"},{\"id\":\"f6a6d9d2-5089-4de3-a744-e80b06bf47d7\",\"type\":\"GlyphRenderer\"},{\"id\":\"bca77e95-6445-4bae-96d8-73d02ef09377\",\"type\":\"GlyphRenderer\"}],\"title\":{\"id\":\"9c938838-8b55-4522-b358-cce3c3ee3988\",\"type\":\"Title\"},\"toolbar\":{\"id\":\"c3d3030e-a5e1-44fa-aa9c-ae55901b369a\",\"type\":\"Toolbar\"},\"toolbar_location\":null,\"x_range\":{\"id\":\"2f12bbd0-1dee-44d2-873d-19d9b89da260\",\"type\":\"DataRange1d\"},\"x_scale\":{\"id\":\"0bb98877-6721-4225-9ab0-059d9ee72c62\",\"type\":\"LinearScale\"},\"y_range\":{\"id\":\"28fa157b-978c-4af7-b5c5-1ed3067a7d77\",\"type\":\"DataRange1d\"},\"y_scale\":{\"id\":\"b9b9c00a-3307-446d-bc28-59cb9b8afb8d\",\"type\":\"LinearScale\"}},\"id\":\"233517ad-3356-45f6-aa25-dc591099cf1a\",\"subtype\":\"Figure\",\"type\":\"Plot\"},{\"attributes\":{},\"id\":\"0b1211a6-97e0-47d1-bd81-b9abd0f5bbaf\",\"type\":\"BasicTickFormatter\"},{\"attributes\":{\"callback\":null,\"data\":{\"x\":{\"__ndarray__\":\"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\",\"dtype\":\"float64\",\"shape\":[499]},\"y\":{\"__ndarray__\":\"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\",\"dtype\":\"float64\",\"shape\":[499]}},\"selected\":{\"id\":\"24d60a01-6c5c-4ed5-a508-535ffa73f71a\",\"type\":\"Selection\"},\"selection_policy\":{\"id\":\"1cf36167-f1d1-4deb-bfbd-4c076c26694e\",\"type\":\"UnionRenderers\"}},\"id\":\"37be08fb-a551-41dc-bd53-f00d432ea3ec\",\"type\":\"ColumnDataSource\"},{\"attributes\":{},\"id\":\"24d60a01-6c5c-4ed5-a508-535ffa73f71a\",\"type\":\"Selection\"},{\"attributes\":{\"source\":{\"id\":\"37be08fb-a551-41dc-bd53-f00d432ea3ec\",\"type\":\"ColumnDataSource\"}},\"id\":\"0830a696-a4e3-476b-bd96-c1f9372ceda4\",\"type\":\"CDSView\"},{\"attributes\":{},\"id\":\"1cf36167-f1d1-4deb-bfbd-4c076c26694e\",\"type\":\"UnionRenderers\"},{\"attributes\":{\"plot\":null,\"text\":\"Found Clusters\"},\"id\":\"9c938838-8b55-4522-b358-cce3c3ee3988\",\"type\":\"Title\"},{\"attributes\":{\"callback\":null},\"id\":\"2f12bbd0-1dee-44d2-873d-19d9b89da260\",\"type\":\"DataRange1d\"},{\"attributes\":{},\"id\":\"04a4714e-550b-4302-82af-2bfbc086e3b0\",\"type\":\"Selection\"},{\"attributes\":{\"active_drag\":\"auto\",\"active_inspect\":\"auto\",\"active_multi\":null,\"active_scroll\":\"auto\",\"active_tap\":\"auto\",\"tools\":[{\"id\":\"8e44805c-8b40-4b59-93d4-530c0471c726\",\"type\":\"PanTool\"},{\"id\":\"75e1e18a-adaa-4917-942a-8ea6aaf1aa37\",\"type\":\"WheelZoomTool\"},{\"id\":\"7a1e6ce0-4a98-4ce7-9ac8-3ee252d797c5\",\"type\":\"BoxZoomTool\"},{\"id\":\"d6437c15-8db3-4af8-9c30-33011777c50e\",\"type\":\"SaveTool\"},{\"id\":\"ffc7d7cc-2df2-4297-9c01-745404d1da5d\",\"type\":\"ResetTool\"},{\"id\":\"9ae1a2c6-e177-4555-b78e-df5e4a3ddf65\",\"type\":\"HelpTool\"}]},\"id\":\"c3d3030e-a5e1-44fa-aa9c-ae55901b369a\",\"type\":\"Toolbar\"},{\"attributes\":{},\"id\":\"4fe6c351-17d9-4d13-bd0e-4924cd468330\",\"type\":\"UnionRenderers\"},{\"attributes\":{\"data_source\":{\"id\":\"37be08fb-a551-41dc-bd53-f00d432ea3ec\",\"type\":\"ColumnDataSource\"},\"glyph\":{\"id\":\"aaa2cc70-82d6-4f1b-b47f-5bd744aedaf4\",\"type\":\"Circle\"},\"hover_glyph\":null,\"muted_glyph\":null,\"nonselection_glyph\":{\"id\":\"79322b5d-6165-4b89-8e92-a9148c32f810\",\"type\":\"Circle\"},\"selection_glyph\":null,\"view\":{\"id\":\"0830a696-a4e3-476b-bd96-c1f9372ceda4\",\"type\":\"CDSView\"}},\"id\":\"78eb4fe9-3f8d-479f-a068-eb7f7308d0a5\",\"type\":\"GlyphRenderer\"},{\"attributes\":{},\"id\":\"8ec87041-7b23-4d8b-b165-ba49eeef7901\",\"type\":\"Selection\"},{\"attributes\":{},\"id\":\"0bb98877-6721-4225-9ab0-059d9ee72c62\",\"type\":\"LinearScale\"},{\"attributes\":{},\"id\":\"06734b2c-1d97-4dc8-a63f-0e08e824cbed\",\"type\":\"UnionRenderers\"},{\"attributes\":{\"callback\":null},\"id\":\"28fa157b-978c-4af7-b5c5-1ed3067a7d77\",\"type\":\"DataRange1d\"},{\"attributes\":{},\"id\":\"b9b9c00a-3307-446d-bc28-59cb9b8afb8d\",\"type\":\"LinearScale\"},{\"attributes\":{\"grid_line_color\":{\"value\":null},\"plot\":{\"id\":\"233517ad-3356-45f6-aa25-dc591099cf1a\",\"subtype\":\"Figure\",\"type\":\"Plot\"},\"ticker\":{\"id\":\"9cb84fc7-95ae-45f7-b165-1664fc19727a\",\"type\":\"BasicTicker\"}},\"id\":\"8fa43c52-6b63-492d-984d-b35ffa73a315\",\"type\":\"Grid\"},{\"attributes\":{\"formatter\":{\"id\":\"eb5886d7-bb53-4d9f-a1ea-7553dd8a7c58\",\"type\":\"BasicTickFormatter\"},\"plot\":{\"id\":\"233517ad-3356-45f6-aa25-dc591099cf1a\",\"subtype\":\"Figure\",\"type\":\"Plot\"},\"ticker\":{\"id\":\"9cb84fc7-95ae-45f7-b165-1664fc19727a\",\"type\":\"BasicTicker\"}},\"id\":\"4fd5c692-8287-4b32-b216-39f60b8e8f3a\",\"type\":\"LinearAxis\"},{\"attributes\":{},\"id\":\"9cb84fc7-95ae-45f7-b165-1664fc19727a\",\"type\":\"BasicTicker\"},{\"attributes\":{\"formatter\":{\"id\":\"0b1211a6-97e0-47d1-bd81-b9abd0f5bbaf\",\"type\":\"BasicTickFormatter\"},\"plot\":{\"id\":\"233517ad-3356-45f6-aa25-dc591099cf1a\",\"subtype\":\"Figure\",\"type\":\"Plot\"},\"ticker\":{\"id\":\"cf9a4119-c9da-43b0-9cda-ddcdf9b908f8\",\"type\":\"BasicTicker\"}},\"id\":\"cf6c6066-b775-4607-b1c3-1787be783b6b\",\"type\":\"LinearAxis\"},{\"attributes\":{\"fill_alpha\":{\"value\":0.5},\"fill_color\":{\"value\":\"blue\"},\"line_alpha\":{\"value\":0.5},\"line_color\":{\"value\":\"navy\"},\"size\":{\"units\":\"screen\",\"value\":15},\"x\":{\"field\":\"x\"},\"y\":{\"field\":\"y\"}},\"id\":\"aaa2cc70-82d6-4f1b-b47f-5bd744aedaf4\",\"type\":\"Circle\"},{\"attributes\":{\"fill_alpha\":{\"value\":0.1},\"fill_color\":{\"value\":\"#1f77b4\"},\"line_alpha\":{\"value\":0.1},\"line_color\":{\"value\":\"#1f77b4\"},\"size\":{\"units\":\"screen\",\"value\":15},\"x\":{\"field\":\"x\"},\"y\":{\"field\":\"y\"}},\"id\":\"79322b5d-6165-4b89-8e92-a9148c32f810\",\"type\":\"Circle\"},{\"attributes\":{},\"id\":\"cf9a4119-c9da-43b0-9cda-ddcdf9b908f8\",\"type\":\"BasicTicker\"}],\"root_ids\":[\"233517ad-3356-45f6-aa25-dc591099cf1a\"]},\"title\":\"Bokeh Application\",\"version\":\"0.13.0\"}};\n",
       "  var render_items = [{\"docid\":\"03a02c11-aef8-4661-8f1a-5b2001ba0ac7\",\"roots\":{\"233517ad-3356-45f6-aa25-dc591099cf1a\":\"40e9a7df-1351-4833-bd97-ffc1ca9102a7\"}}];\n",
       "  root.Bokeh.embed.embed_items_notebook(docs_json, render_items);\n",
       "\n",
       "  }\n",
       "  if (root.Bokeh !== undefined) {\n",
       "    embed_document(root);\n",
       "  } else {\n",
       "    var attempts = 0;\n",
       "    var timer = setInterval(function(root) {\n",
       "      if (root.Bokeh !== undefined) {\n",
       "        embed_document(root);\n",
       "        clearInterval(timer);\n",
       "      }\n",
       "      attempts++;\n",
       "      if (attempts > 100) {\n",
       "        console.log(\"Bokeh: ERROR: Unable to run BokehJS code because BokehJS library is missing\")\n",
       "        clearInterval(timer);\n",
       "      }\n",
       "    }, 10, root)\n",
       "  }\n",
       "})(window);"
      ],
      "application/vnd.bokehjs_exec.v0+json": ""
     },
     "metadata": {
      "application/vnd.bokehjs_exec.v0+json": {
       "id": "233517ad-3356-45f6-aa25-dc591099cf1a"
      }
     },
     "output_type": "display_data"
    }
   ],
   "source": [
    "f4 = figure(title=\"Found Clusters\", toolbar_location=None)\n",
    "f4.grid.grid_line_color = None\n",
    "f4.background_fill_color = \"#eeeeee\"\n",
    "\n",
    "\n",
    "\n",
    "mscatter(f4, D1[0,:], D1[1,:], \"circle\", \"blue\")\n",
    "\n",
    "mscatter(f4, D2[0,:], D2[1,:], \"circle\", \"red\")\n",
    "\n",
    "mscatter(f4, D3[0,:], D3[1,:], \"circle\", \"yellow\")\n",
    "\n",
    "show(f4)"
   ]
  },
  {
   "cell_type": "markdown",
   "metadata": {},
   "source": [
    "Well, we got the colors flipped, but those look about the same as the sets generated!"
   ]
  }
 ],
 "metadata": {
  "kernelspec": {
   "display_name": "Python 3",
   "language": "python",
   "name": "python3"
  },
  "language_info": {
   "codemirror_mode": {
    "name": "ipython",
    "version": 3
   },
   "file_extension": ".py",
   "mimetype": "text/x-python",
   "name": "python",
   "nbconvert_exporter": "python",
   "pygments_lexer": "ipython3",
   "version": "3.6.6"
  }
 },
 "nbformat": 4,
 "nbformat_minor": 2
}
