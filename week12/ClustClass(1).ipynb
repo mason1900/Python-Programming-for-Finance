{
 "cells": [
  {
   "cell_type": "markdown",
   "metadata": {},
   "source": [
    "# CPS600 - Python Programming for Finance \n",
    "###  \n",
    "<img src=\"https://www.syracuse.edu/wp-content/themes/g6-carbon/img/syracuse-university-seal.svg?ver=6.3.9\" style=\"width: 200px;\"/>\n",
    "\n",
    "## Clustering and Classification\n",
    "\n",
    "###  November 13, 2018"
   ]
  },
  {
   "cell_type": "markdown",
   "metadata": {},
   "source": [
    "Let's illustrate some of the ideas of classification that we saw in the slides last week."
   ]
  },
  {
   "cell_type": "markdown",
   "metadata": {},
   "source": [
    "*Logistic Regression*\n",
    "\n",
    "We wish to maximize the *likelihood*. But how do we model it?"
   ]
  },
  {
   "cell_type": "markdown",
   "metadata": {},
   "source": [
    "$ P(C_k \\mid {\\bf X})$"
   ]
  },
  {
   "cell_type": "markdown",
   "metadata": {},
   "source": [
    "Remeber the *sigmoid* function?"
   ]
  },
  {
   "cell_type": "code",
   "execution_count": 1,
   "metadata": {},
   "outputs": [
    {
     "data": {
      "text/html": [
       "\n",
       "    <div class=\"bk-root\">\n",
       "        <a href=\"https://bokeh.pydata.org\" target=\"_blank\" class=\"bk-logo bk-logo-small bk-logo-notebook\"></a>\n",
       "        <span id=\"bd44cf60-728e-49b6-9b67-907d9231c650\">Loading BokehJS ...</span>\n",
       "    </div>"
      ]
     },
     "metadata": {},
     "output_type": "display_data"
    },
    {
     "data": {
      "application/javascript": [
       "\n",
       "(function(root) {\n",
       "  function now() {\n",
       "    return new Date();\n",
       "  }\n",
       "\n",
       "  var force = true;\n",
       "\n",
       "  if (typeof (root._bokeh_onload_callbacks) === \"undefined\" || force === true) {\n",
       "    root._bokeh_onload_callbacks = [];\n",
       "    root._bokeh_is_loading = undefined;\n",
       "  }\n",
       "\n",
       "  var JS_MIME_TYPE = 'application/javascript';\n",
       "  var HTML_MIME_TYPE = 'text/html';\n",
       "  var EXEC_MIME_TYPE = 'application/vnd.bokehjs_exec.v0+json';\n",
       "  var CLASS_NAME = 'output_bokeh rendered_html';\n",
       "\n",
       "  /**\n",
       "   * Render data to the DOM node\n",
       "   */\n",
       "  function render(props, node) {\n",
       "    var script = document.createElement(\"script\");\n",
       "    node.appendChild(script);\n",
       "  }\n",
       "\n",
       "  /**\n",
       "   * Handle when an output is cleared or removed\n",
       "   */\n",
       "  function handleClearOutput(event, handle) {\n",
       "    var cell = handle.cell;\n",
       "\n",
       "    var id = cell.output_area._bokeh_element_id;\n",
       "    var server_id = cell.output_area._bokeh_server_id;\n",
       "    // Clean up Bokeh references\n",
       "    if (id != null && id in Bokeh.index) {\n",
       "      Bokeh.index[id].model.document.clear();\n",
       "      delete Bokeh.index[id];\n",
       "    }\n",
       "\n",
       "    if (server_id !== undefined) {\n",
       "      // Clean up Bokeh references\n",
       "      var cmd = \"from bokeh.io.state import curstate; print(curstate().uuid_to_server['\" + server_id + \"'].get_sessions()[0].document.roots[0]._id)\";\n",
       "      cell.notebook.kernel.execute(cmd, {\n",
       "        iopub: {\n",
       "          output: function(msg) {\n",
       "            var id = msg.content.text.trim();\n",
       "            if (id in Bokeh.index) {\n",
       "              Bokeh.index[id].model.document.clear();\n",
       "              delete Bokeh.index[id];\n",
       "            }\n",
       "          }\n",
       "        }\n",
       "      });\n",
       "      // Destroy server and session\n",
       "      var cmd = \"import bokeh.io.notebook as ion; ion.destroy_server('\" + server_id + \"')\";\n",
       "      cell.notebook.kernel.execute(cmd);\n",
       "    }\n",
       "  }\n",
       "\n",
       "  /**\n",
       "   * Handle when a new output is added\n",
       "   */\n",
       "  function handleAddOutput(event, handle) {\n",
       "    var output_area = handle.output_area;\n",
       "    var output = handle.output;\n",
       "\n",
       "    // limit handleAddOutput to display_data with EXEC_MIME_TYPE content only\n",
       "    if ((output.output_type != \"display_data\") || (!output.data.hasOwnProperty(EXEC_MIME_TYPE))) {\n",
       "      return\n",
       "    }\n",
       "\n",
       "    var toinsert = output_area.element.find(\".\" + CLASS_NAME.split(' ')[0]);\n",
       "\n",
       "    if (output.metadata[EXEC_MIME_TYPE][\"id\"] !== undefined) {\n",
       "      toinsert[toinsert.length - 1].firstChild.textContent = output.data[JS_MIME_TYPE];\n",
       "      // store reference to embed id on output_area\n",
       "      output_area._bokeh_element_id = output.metadata[EXEC_MIME_TYPE][\"id\"];\n",
       "    }\n",
       "    if (output.metadata[EXEC_MIME_TYPE][\"server_id\"] !== undefined) {\n",
       "      var bk_div = document.createElement(\"div\");\n",
       "      bk_div.innerHTML = output.data[HTML_MIME_TYPE];\n",
       "      var script_attrs = bk_div.children[0].attributes;\n",
       "      for (var i = 0; i < script_attrs.length; i++) {\n",
       "        toinsert[toinsert.length - 1].firstChild.setAttribute(script_attrs[i].name, script_attrs[i].value);\n",
       "      }\n",
       "      // store reference to server id on output_area\n",
       "      output_area._bokeh_server_id = output.metadata[EXEC_MIME_TYPE][\"server_id\"];\n",
       "    }\n",
       "  }\n",
       "\n",
       "  function register_renderer(events, OutputArea) {\n",
       "\n",
       "    function append_mime(data, metadata, element) {\n",
       "      // create a DOM node to render to\n",
       "      var toinsert = this.create_output_subarea(\n",
       "        metadata,\n",
       "        CLASS_NAME,\n",
       "        EXEC_MIME_TYPE\n",
       "      );\n",
       "      this.keyboard_manager.register_events(toinsert);\n",
       "      // Render to node\n",
       "      var props = {data: data, metadata: metadata[EXEC_MIME_TYPE]};\n",
       "      render(props, toinsert[toinsert.length - 1]);\n",
       "      element.append(toinsert);\n",
       "      return toinsert\n",
       "    }\n",
       "\n",
       "    /* Handle when an output is cleared or removed */\n",
       "    events.on('clear_output.CodeCell', handleClearOutput);\n",
       "    events.on('delete.Cell', handleClearOutput);\n",
       "\n",
       "    /* Handle when a new output is added */\n",
       "    events.on('output_added.OutputArea', handleAddOutput);\n",
       "\n",
       "    /**\n",
       "     * Register the mime type and append_mime function with output_area\n",
       "     */\n",
       "    OutputArea.prototype.register_mime_type(EXEC_MIME_TYPE, append_mime, {\n",
       "      /* Is output safe? */\n",
       "      safe: true,\n",
       "      /* Index of renderer in `output_area.display_order` */\n",
       "      index: 0\n",
       "    });\n",
       "  }\n",
       "\n",
       "  // register the mime type if in Jupyter Notebook environment and previously unregistered\n",
       "  if (root.Jupyter !== undefined) {\n",
       "    var events = require('base/js/events');\n",
       "    var OutputArea = require('notebook/js/outputarea').OutputArea;\n",
       "\n",
       "    if (OutputArea.prototype.mime_types().indexOf(EXEC_MIME_TYPE) == -1) {\n",
       "      register_renderer(events, OutputArea);\n",
       "    }\n",
       "  }\n",
       "\n",
       "  \n",
       "  if (typeof (root._bokeh_timeout) === \"undefined\" || force === true) {\n",
       "    root._bokeh_timeout = Date.now() + 5000;\n",
       "    root._bokeh_failed_load = false;\n",
       "  }\n",
       "\n",
       "  var NB_LOAD_WARNING = {'data': {'text/html':\n",
       "     \"<div style='background-color: #fdd'>\\n\"+\n",
       "     \"<p>\\n\"+\n",
       "     \"BokehJS does not appear to have successfully loaded. If loading BokehJS from CDN, this \\n\"+\n",
       "     \"may be due to a slow or bad network connection. Possible fixes:\\n\"+\n",
       "     \"</p>\\n\"+\n",
       "     \"<ul>\\n\"+\n",
       "     \"<li>re-rerun `output_notebook()` to attempt to load from CDN again, or</li>\\n\"+\n",
       "     \"<li>use INLINE resources instead, as so:</li>\\n\"+\n",
       "     \"</ul>\\n\"+\n",
       "     \"<code>\\n\"+\n",
       "     \"from bokeh.resources import INLINE\\n\"+\n",
       "     \"output_notebook(resources=INLINE)\\n\"+\n",
       "     \"</code>\\n\"+\n",
       "     \"</div>\"}};\n",
       "\n",
       "  function display_loaded() {\n",
       "    var el = document.getElementById(\"bd44cf60-728e-49b6-9b67-907d9231c650\");\n",
       "    if (el != null) {\n",
       "      el.textContent = \"BokehJS is loading...\";\n",
       "    }\n",
       "    if (root.Bokeh !== undefined) {\n",
       "      if (el != null) {\n",
       "        el.textContent = \"BokehJS \" + root.Bokeh.version + \" successfully loaded.\";\n",
       "      }\n",
       "    } else if (Date.now() < root._bokeh_timeout) {\n",
       "      setTimeout(display_loaded, 100)\n",
       "    }\n",
       "  }\n",
       "\n",
       "\n",
       "  function run_callbacks() {\n",
       "    try {\n",
       "      root._bokeh_onload_callbacks.forEach(function(callback) { callback() });\n",
       "    }\n",
       "    finally {\n",
       "      delete root._bokeh_onload_callbacks\n",
       "    }\n",
       "    console.info(\"Bokeh: all callbacks have finished\");\n",
       "  }\n",
       "\n",
       "  function load_libs(js_urls, callback) {\n",
       "    root._bokeh_onload_callbacks.push(callback);\n",
       "    if (root._bokeh_is_loading > 0) {\n",
       "      console.log(\"Bokeh: BokehJS is being loaded, scheduling callback at\", now());\n",
       "      return null;\n",
       "    }\n",
       "    if (js_urls == null || js_urls.length === 0) {\n",
       "      run_callbacks();\n",
       "      return null;\n",
       "    }\n",
       "    console.log(\"Bokeh: BokehJS not loaded, scheduling load and callback at\", now());\n",
       "    root._bokeh_is_loading = js_urls.length;\n",
       "    for (var i = 0; i < js_urls.length; i++) {\n",
       "      var url = js_urls[i];\n",
       "      var s = document.createElement('script');\n",
       "      s.src = url;\n",
       "      s.async = false;\n",
       "      s.onreadystatechange = s.onload = function() {\n",
       "        root._bokeh_is_loading--;\n",
       "        if (root._bokeh_is_loading === 0) {\n",
       "          console.log(\"Bokeh: all BokehJS libraries loaded\");\n",
       "          run_callbacks()\n",
       "        }\n",
       "      };\n",
       "      s.onerror = function() {\n",
       "        console.warn(\"failed to load library \" + url);\n",
       "      };\n",
       "      console.log(\"Bokeh: injecting script tag for BokehJS library: \", url);\n",
       "      document.getElementsByTagName(\"head\")[0].appendChild(s);\n",
       "    }\n",
       "  };var element = document.getElementById(\"bd44cf60-728e-49b6-9b67-907d9231c650\");\n",
       "  if (element == null) {\n",
       "    console.log(\"Bokeh: ERROR: autoload.js configured with elementid 'bd44cf60-728e-49b6-9b67-907d9231c650' but no matching script tag was found. \")\n",
       "    return false;\n",
       "  }\n",
       "\n",
       "  var js_urls = [\"https://cdn.pydata.org/bokeh/release/bokeh-0.13.0.min.js\", \"https://cdn.pydata.org/bokeh/release/bokeh-widgets-0.13.0.min.js\", \"https://cdn.pydata.org/bokeh/release/bokeh-tables-0.13.0.min.js\", \"https://cdn.pydata.org/bokeh/release/bokeh-gl-0.13.0.min.js\"];\n",
       "\n",
       "  var inline_js = [\n",
       "    function(Bokeh) {\n",
       "      Bokeh.set_log_level(\"info\");\n",
       "    },\n",
       "    \n",
       "    function(Bokeh) {\n",
       "      \n",
       "    },\n",
       "    function(Bokeh) {\n",
       "      console.log(\"Bokeh: injecting CSS: https://cdn.pydata.org/bokeh/release/bokeh-0.13.0.min.css\");\n",
       "      Bokeh.embed.inject_css(\"https://cdn.pydata.org/bokeh/release/bokeh-0.13.0.min.css\");\n",
       "      console.log(\"Bokeh: injecting CSS: https://cdn.pydata.org/bokeh/release/bokeh-widgets-0.13.0.min.css\");\n",
       "      Bokeh.embed.inject_css(\"https://cdn.pydata.org/bokeh/release/bokeh-widgets-0.13.0.min.css\");\n",
       "      console.log(\"Bokeh: injecting CSS: https://cdn.pydata.org/bokeh/release/bokeh-tables-0.13.0.min.css\");\n",
       "      Bokeh.embed.inject_css(\"https://cdn.pydata.org/bokeh/release/bokeh-tables-0.13.0.min.css\");\n",
       "    }\n",
       "  ];\n",
       "\n",
       "  function run_inline_js() {\n",
       "    \n",
       "    if ((root.Bokeh !== undefined) || (force === true)) {\n",
       "      for (var i = 0; i < inline_js.length; i++) {\n",
       "        inline_js[i].call(root, root.Bokeh);\n",
       "      }if (force === true) {\n",
       "        display_loaded();\n",
       "      }} else if (Date.now() < root._bokeh_timeout) {\n",
       "      setTimeout(run_inline_js, 100);\n",
       "    } else if (!root._bokeh_failed_load) {\n",
       "      console.log(\"Bokeh: BokehJS failed to load within specified timeout.\");\n",
       "      root._bokeh_failed_load = true;\n",
       "    } else if (force !== true) {\n",
       "      var cell = $(document.getElementById(\"bd44cf60-728e-49b6-9b67-907d9231c650\")).parents('.cell').data().cell;\n",
       "      cell.output_area.append_execute_result(NB_LOAD_WARNING)\n",
       "    }\n",
       "\n",
       "  }\n",
       "\n",
       "  if (root._bokeh_is_loading === 0) {\n",
       "    console.log(\"Bokeh: BokehJS loaded, going straight to plotting\");\n",
       "    run_inline_js();\n",
       "  } else {\n",
       "    load_libs(js_urls, function() {\n",
       "      console.log(\"Bokeh: BokehJS plotting callback run at\", now());\n",
       "      run_inline_js();\n",
       "    });\n",
       "  }\n",
       "}(window));"
      ],
      "application/vnd.bokehjs_load.v0+json": "\n(function(root) {\n  function now() {\n    return new Date();\n  }\n\n  var force = true;\n\n  if (typeof (root._bokeh_onload_callbacks) === \"undefined\" || force === true) {\n    root._bokeh_onload_callbacks = [];\n    root._bokeh_is_loading = undefined;\n  }\n\n  \n\n  \n  if (typeof (root._bokeh_timeout) === \"undefined\" || force === true) {\n    root._bokeh_timeout = Date.now() + 5000;\n    root._bokeh_failed_load = false;\n  }\n\n  var NB_LOAD_WARNING = {'data': {'text/html':\n     \"<div style='background-color: #fdd'>\\n\"+\n     \"<p>\\n\"+\n     \"BokehJS does not appear to have successfully loaded. If loading BokehJS from CDN, this \\n\"+\n     \"may be due to a slow or bad network connection. Possible fixes:\\n\"+\n     \"</p>\\n\"+\n     \"<ul>\\n\"+\n     \"<li>re-rerun `output_notebook()` to attempt to load from CDN again, or</li>\\n\"+\n     \"<li>use INLINE resources instead, as so:</li>\\n\"+\n     \"</ul>\\n\"+\n     \"<code>\\n\"+\n     \"from bokeh.resources import INLINE\\n\"+\n     \"output_notebook(resources=INLINE)\\n\"+\n     \"</code>\\n\"+\n     \"</div>\"}};\n\n  function display_loaded() {\n    var el = document.getElementById(\"bd44cf60-728e-49b6-9b67-907d9231c650\");\n    if (el != null) {\n      el.textContent = \"BokehJS is loading...\";\n    }\n    if (root.Bokeh !== undefined) {\n      if (el != null) {\n        el.textContent = \"BokehJS \" + root.Bokeh.version + \" successfully loaded.\";\n      }\n    } else if (Date.now() < root._bokeh_timeout) {\n      setTimeout(display_loaded, 100)\n    }\n  }\n\n\n  function run_callbacks() {\n    try {\n      root._bokeh_onload_callbacks.forEach(function(callback) { callback() });\n    }\n    finally {\n      delete root._bokeh_onload_callbacks\n    }\n    console.info(\"Bokeh: all callbacks have finished\");\n  }\n\n  function load_libs(js_urls, callback) {\n    root._bokeh_onload_callbacks.push(callback);\n    if (root._bokeh_is_loading > 0) {\n      console.log(\"Bokeh: BokehJS is being loaded, scheduling callback at\", now());\n      return null;\n    }\n    if (js_urls == null || js_urls.length === 0) {\n      run_callbacks();\n      return null;\n    }\n    console.log(\"Bokeh: BokehJS not loaded, scheduling load and callback at\", now());\n    root._bokeh_is_loading = js_urls.length;\n    for (var i = 0; i < js_urls.length; i++) {\n      var url = js_urls[i];\n      var s = document.createElement('script');\n      s.src = url;\n      s.async = false;\n      s.onreadystatechange = s.onload = function() {\n        root._bokeh_is_loading--;\n        if (root._bokeh_is_loading === 0) {\n          console.log(\"Bokeh: all BokehJS libraries loaded\");\n          run_callbacks()\n        }\n      };\n      s.onerror = function() {\n        console.warn(\"failed to load library \" + url);\n      };\n      console.log(\"Bokeh: injecting script tag for BokehJS library: \", url);\n      document.getElementsByTagName(\"head\")[0].appendChild(s);\n    }\n  };var element = document.getElementById(\"bd44cf60-728e-49b6-9b67-907d9231c650\");\n  if (element == null) {\n    console.log(\"Bokeh: ERROR: autoload.js configured with elementid 'bd44cf60-728e-49b6-9b67-907d9231c650' but no matching script tag was found. \")\n    return false;\n  }\n\n  var js_urls = [\"https://cdn.pydata.org/bokeh/release/bokeh-0.13.0.min.js\", \"https://cdn.pydata.org/bokeh/release/bokeh-widgets-0.13.0.min.js\", \"https://cdn.pydata.org/bokeh/release/bokeh-tables-0.13.0.min.js\", \"https://cdn.pydata.org/bokeh/release/bokeh-gl-0.13.0.min.js\"];\n\n  var inline_js = [\n    function(Bokeh) {\n      Bokeh.set_log_level(\"info\");\n    },\n    \n    function(Bokeh) {\n      \n    },\n    function(Bokeh) {\n      console.log(\"Bokeh: injecting CSS: https://cdn.pydata.org/bokeh/release/bokeh-0.13.0.min.css\");\n      Bokeh.embed.inject_css(\"https://cdn.pydata.org/bokeh/release/bokeh-0.13.0.min.css\");\n      console.log(\"Bokeh: injecting CSS: https://cdn.pydata.org/bokeh/release/bokeh-widgets-0.13.0.min.css\");\n      Bokeh.embed.inject_css(\"https://cdn.pydata.org/bokeh/release/bokeh-widgets-0.13.0.min.css\");\n      console.log(\"Bokeh: injecting CSS: https://cdn.pydata.org/bokeh/release/bokeh-tables-0.13.0.min.css\");\n      Bokeh.embed.inject_css(\"https://cdn.pydata.org/bokeh/release/bokeh-tables-0.13.0.min.css\");\n    }\n  ];\n\n  function run_inline_js() {\n    \n    if ((root.Bokeh !== undefined) || (force === true)) {\n      for (var i = 0; i < inline_js.length; i++) {\n        inline_js[i].call(root, root.Bokeh);\n      }if (force === true) {\n        display_loaded();\n      }} else if (Date.now() < root._bokeh_timeout) {\n      setTimeout(run_inline_js, 100);\n    } else if (!root._bokeh_failed_load) {\n      console.log(\"Bokeh: BokehJS failed to load within specified timeout.\");\n      root._bokeh_failed_load = true;\n    } else if (force !== true) {\n      var cell = $(document.getElementById(\"bd44cf60-728e-49b6-9b67-907d9231c650\")).parents('.cell').data().cell;\n      cell.output_area.append_execute_result(NB_LOAD_WARNING)\n    }\n\n  }\n\n  if (root._bokeh_is_loading === 0) {\n    console.log(\"Bokeh: BokehJS loaded, going straight to plotting\");\n    run_inline_js();\n  } else {\n    load_libs(js_urls, function() {\n      console.log(\"Bokeh: BokehJS plotting callback run at\", now());\n      run_inline_js();\n    });\n  }\n}(window));"
     },
     "metadata": {},
     "output_type": "display_data"
    },
    {
     "data": {
      "text/html": [
       "\n",
       "\n",
       "\n",
       "\n",
       "\n",
       "\n",
       "  <div class=\"bk-root\" id=\"874f8234-0e5e-4052-b1df-c48a2be99fef\"></div>\n"
      ]
     },
     "metadata": {},
     "output_type": "display_data"
    },
    {
     "data": {
      "application/javascript": [
       "(function(root) {\n",
       "  function embed_document(root) {\n",
       "    \n",
       "  var docs_json = {\"f0475f7e-6040-4f28-a13f-6139c7945b2f\":{\"roots\":{\"references\":[{\"attributes\":{\"dimension\":1,\"plot\":{\"id\":\"96225436-090f-4375-a4a7-01011993c613\",\"subtype\":\"Figure\",\"type\":\"Plot\"},\"ticker\":{\"id\":\"563c7b48-67fe-4328-923a-ed86004e3ed0\",\"type\":\"BasicTicker\"}},\"id\":\"ac092c7e-71ca-4b6e-b4d6-8f86619ae9b5\",\"type\":\"Grid\"},{\"attributes\":{\"line_alpha\":0.1,\"line_color\":\"#1f77b4\",\"x\":{\"field\":\"x\"},\"y\":{\"field\":\"y\"}},\"id\":\"8b4d116b-d457-4a0c-b500-c787068691a8\",\"type\":\"Line\"},{\"attributes\":{\"bottom_units\":\"screen\",\"fill_alpha\":{\"value\":0.5},\"fill_color\":{\"value\":\"lightgrey\"},\"left_units\":\"screen\",\"level\":\"overlay\",\"line_alpha\":{\"value\":1.0},\"line_color\":{\"value\":\"black\"},\"line_dash\":[4,4],\"line_width\":{\"value\":2},\"plot\":null,\"render_mode\":\"css\",\"right_units\":\"screen\",\"top_units\":\"screen\"},\"id\":\"dd1db2a4-4172-4d52-a297-a4c6db611afa\",\"type\":\"BoxAnnotation\"},{\"attributes\":{\"plot\":null,\"text\":\"\"},\"id\":\"3f069477-1d47-4217-a2a3-1be2d5ae0c33\",\"type\":\"Title\"},{\"attributes\":{},\"id\":\"2fc48172-1cdc-4ba9-8197-d4db295eae4d\",\"type\":\"BasicTickFormatter\"},{\"attributes\":{},\"id\":\"741339aa-a2c3-46e1-b25c-53d1ebd4b7d1\",\"type\":\"PanTool\"},{\"attributes\":{\"below\":[{\"id\":\"a301e4c8-2f57-4a0e-8ed7-544cdcd293b6\",\"type\":\"LinearAxis\"}],\"left\":[{\"id\":\"97138c14-f62a-46ea-b9ef-29a08926167e\",\"type\":\"LinearAxis\"}],\"plot_height\":400,\"plot_width\":400,\"renderers\":[{\"id\":\"a301e4c8-2f57-4a0e-8ed7-544cdcd293b6\",\"type\":\"LinearAxis\"},{\"id\":\"d3becf6d-ab6e-4adb-b1ed-6830f0070da9\",\"type\":\"Grid\"},{\"id\":\"97138c14-f62a-46ea-b9ef-29a08926167e\",\"type\":\"LinearAxis\"},{\"id\":\"ac092c7e-71ca-4b6e-b4d6-8f86619ae9b5\",\"type\":\"Grid\"},{\"id\":\"dd1db2a4-4172-4d52-a297-a4c6db611afa\",\"type\":\"BoxAnnotation\"},{\"id\":\"eb57f2e9-bc33-4130-8064-c71177117d87\",\"type\":\"GlyphRenderer\"}],\"title\":{\"id\":\"3f069477-1d47-4217-a2a3-1be2d5ae0c33\",\"type\":\"Title\"},\"toolbar\":{\"id\":\"b7b8288b-1191-40c6-8f38-e827269bf9aa\",\"type\":\"Toolbar\"},\"x_range\":{\"id\":\"cbb98d09-cfc4-4363-862d-a7541db3fbe2\",\"type\":\"DataRange1d\"},\"x_scale\":{\"id\":\"40256a22-8982-41a0-9168-e826c9bc22ae\",\"type\":\"LinearScale\"},\"y_range\":{\"id\":\"787881fa-4859-4696-875f-d65719f4ba7d\",\"type\":\"DataRange1d\"},\"y_scale\":{\"id\":\"7ea129c2-1acf-4a53-8323-5f5e841baa44\",\"type\":\"LinearScale\"}},\"id\":\"96225436-090f-4375-a4a7-01011993c613\",\"subtype\":\"Figure\",\"type\":\"Plot\"},{\"attributes\":{\"data_source\":{\"id\":\"dd6666a7-0054-4fb7-aa16-c08c35c72efd\",\"type\":\"ColumnDataSource\"},\"glyph\":{\"id\":\"0b1bcee2-4c16-429b-ad53-6a5e03b7cd31\",\"type\":\"Line\"},\"hover_glyph\":null,\"muted_glyph\":null,\"nonselection_glyph\":{\"id\":\"8b4d116b-d457-4a0c-b500-c787068691a8\",\"type\":\"Line\"},\"selection_glyph\":null,\"view\":{\"id\":\"89c9b78a-211b-425c-b720-b83261eb4b0c\",\"type\":\"CDSView\"}},\"id\":\"eb57f2e9-bc33-4130-8064-c71177117d87\",\"type\":\"GlyphRenderer\"},{\"attributes\":{\"active_drag\":\"auto\",\"active_inspect\":\"auto\",\"active_multi\":null,\"active_scroll\":\"auto\",\"active_tap\":\"auto\",\"tools\":[{\"id\":\"741339aa-a2c3-46e1-b25c-53d1ebd4b7d1\",\"type\":\"PanTool\"},{\"id\":\"53004034-e87a-4afe-a8ab-9d4b9e887535\",\"type\":\"WheelZoomTool\"},{\"id\":\"4063f8df-2eff-415e-9e85-0b8120f0d10c\",\"type\":\"BoxZoomTool\"},{\"id\":\"522828b6-86b6-41cc-b0e0-0bc12daa1dcd\",\"type\":\"SaveTool\"},{\"id\":\"988ad3c1-1575-4ccf-bd03-8e7de57b4290\",\"type\":\"ResetTool\"},{\"id\":\"7540d5b1-8e43-41d9-8920-8f4033ffce2d\",\"type\":\"HelpTool\"}]},\"id\":\"b7b8288b-1191-40c6-8f38-e827269bf9aa\",\"type\":\"Toolbar\"},{\"attributes\":{},\"id\":\"53004034-e87a-4afe-a8ab-9d4b9e887535\",\"type\":\"WheelZoomTool\"},{\"attributes\":{},\"id\":\"ecea59b8-e095-4541-8579-d595e2c5d530\",\"type\":\"BasicTicker\"},{\"attributes\":{\"overlay\":{\"id\":\"dd1db2a4-4172-4d52-a297-a4c6db611afa\",\"type\":\"BoxAnnotation\"}},\"id\":\"4063f8df-2eff-415e-9e85-0b8120f0d10c\",\"type\":\"BoxZoomTool\"},{\"attributes\":{},\"id\":\"522828b6-86b6-41cc-b0e0-0bc12daa1dcd\",\"type\":\"SaveTool\"},{\"attributes\":{\"formatter\":{\"id\":\"2fc48172-1cdc-4ba9-8197-d4db295eae4d\",\"type\":\"BasicTickFormatter\"},\"plot\":{\"id\":\"96225436-090f-4375-a4a7-01011993c613\",\"subtype\":\"Figure\",\"type\":\"Plot\"},\"ticker\":{\"id\":\"ecea59b8-e095-4541-8579-d595e2c5d530\",\"type\":\"BasicTicker\"}},\"id\":\"a301e4c8-2f57-4a0e-8ed7-544cdcd293b6\",\"type\":\"LinearAxis\"},{\"attributes\":{},\"id\":\"988ad3c1-1575-4ccf-bd03-8e7de57b4290\",\"type\":\"ResetTool\"},{\"attributes\":{\"callback\":null},\"id\":\"cbb98d09-cfc4-4363-862d-a7541db3fbe2\",\"type\":\"DataRange1d\"},{\"attributes\":{},\"id\":\"7540d5b1-8e43-41d9-8920-8f4033ffce2d\",\"type\":\"HelpTool\"},{\"attributes\":{\"callback\":null},\"id\":\"787881fa-4859-4696-875f-d65719f4ba7d\",\"type\":\"DataRange1d\"},{\"attributes\":{\"line_color\":\"#1f77b4\",\"x\":{\"field\":\"x\"},\"y\":{\"field\":\"y\"}},\"id\":\"0b1bcee2-4c16-429b-ad53-6a5e03b7cd31\",\"type\":\"Line\"},{\"attributes\":{},\"id\":\"1b195026-4e8b-4d04-b17f-a3ddbc67ed22\",\"type\":\"BasicTickFormatter\"},{\"attributes\":{},\"id\":\"40256a22-8982-41a0-9168-e826c9bc22ae\",\"type\":\"LinearScale\"},{\"attributes\":{},\"id\":\"7ea129c2-1acf-4a53-8323-5f5e841baa44\",\"type\":\"LinearScale\"},{\"attributes\":{\"plot\":{\"id\":\"96225436-090f-4375-a4a7-01011993c613\",\"subtype\":\"Figure\",\"type\":\"Plot\"},\"ticker\":{\"id\":\"ecea59b8-e095-4541-8579-d595e2c5d530\",\"type\":\"BasicTicker\"}},\"id\":\"d3becf6d-ab6e-4adb-b1ed-6830f0070da9\",\"type\":\"Grid\"},{\"attributes\":{\"callback\":null,\"data\":{\"x\":{\"__ndarray__\":\"GC1EVPshGcBD1GGYAKAYwG97f9wFHhjAmiKdIAucF8DGybpkEBoXwPFw2KgVmBbAHRj27BoWFsBIvxMxIJQVwHRmMXUlEhXAnw1PuSqQFMDLtGz9Lw4UwPZbikE1jBPAIgOohToKE8BNqsXJP4gSwHhR4w1FBhLApPgAUkqEEcDQnx6WTwIRwPtGPNpUgBDATdyzPLT8D8CkKu/EvvgOwPt4Kk3J9A3AUsdl1dPwDMCpFaFd3uwLwABk3OXo6ArAVrIXbvPkCcCtAFP2/eAIwARPjn4I3QfAW53JBhPZBsCy6wSPHdUFwAk6QBco0QTAYIh7nzLNA8C31rYnPckCwA4l8q9HxQHAZHMtOFLBAMB4g9GAuXr/vyQgSJHOcv2/1Ly+oeNq+7+AWTWy+GL5vzD2q8INW/e/3JIi0yJT9b+ML5njN0vzvzjMD/RMQ/G/0NEMCcR27r8oC/op7mbqv4hE50oYV+a/4H3Ua0JH4r+AboMZ2W7cvzDhXVstT9S/wKdwOgNfyL+AGkt8Vz+wv8AaS3xXP7A/4KdwOgNfyD9A4V1bLU/UP4BugxnZbtw/6H3Ua0JH4j+IROdKGFfmPzAL+inuZuo/0NEMCcR27j88zA/0TEPxP4wvmeM3S/M/4JIi0yJT9T8w9qvCDVv3P4RZNbL4Yvk/1Ly+oeNq+z8oIEiRznL9P3iD0YC5ev8/aHMtOFLBAEAQJfKvR8UBQLjWtic9yQJAYIh7nzLNA0AMOkAXKNEEQLTrBI8d1QVAXJ3JBhPZBkAET45+CN0HQLAAU/b94AhAWLIXbvPkCUAAZNzl6OgKQKgVoV3e7AtAVMdl1dPwDED8eCpNyfQNQKQq78S++A5AUNyzPLT8D0D8RjzaVIAQQNCfHpZPAhFApPgAUkqEEUB6UeMNRQYSQE6qxck/iBJAIgOohToKE0D2W4pBNYwTQMy0bP0vDhRAoA1PuSqQFEB0ZjF1JRIVQEi/EzEglBVAHhj27BoWFkDycNioFZgWQMbJumQQGhdAnCKdIAucF0Bwe3/cBR4YQETUYZgAoBhAGC1EVPshGUA=\",\"dtype\":\"float64\",\"shape\":[100]},\"y\":{\"__ndarray__\":\"VfDX1gWKXj/x010K8VRhPzsKh+b/q2M/5UYEG7hTZj99saa+5VZpPwm5aDfCwWw/G+telBFRcD+FGcWC14NyP7O5/OoLAnU/MNFsY67Vdz/rukONCQp7P9CIwIjbq34/Gx8nVsFkgT/I8Jpel7mDP71zbm2LXYY/AsEvHNpaiT+mXtnQAL2MP4qIr+dvSJA/jMo7M29ykj/yAsRuiOSUP+ne5Muvp5c/nBmnUNfFmj8IZotFAkqePxHudsYrIKE/L+Fg9Rhboz8X1i1/Ft2lP7X4N7AWrqg/yrh4/7DWqz8/Sw45HmCvP45GwWkXqrE/xjAx+Zzesz+Fln27AVO2P8Y8MbjLDLk/m/ROpIwRvD/xFhOhwma/P+BbItHYiME//79pqZqLwz+fyz/mxb3FP3M86g4NIcg/YP29Mpa2yj+EeA4Y2n7NPxcusSzCPNA/fMh3VKvS0T+JRaTfCIDTP76sLEozQ9U/wnwvK/kZ1z93uVqKowHZP1UmQyEB99o/T8w9jnj23D8/WZHcIPzeP2NTt5HvgeA/2hnhuMOE4T/YbF5vf4TiP0Sj0jouf+M/oEFoagNz5D+hqelaZl7lPz3dLZD7P+Y/wxvEVaoW5z/2aKfpnuHnP+Bh/HlJoOg/qYBQc1pS6T/jcEW8vPfpPxoNcIaOkOo/AJClVRkd6z8KabfLyZ3rPyGd3asnE+w/byF2a8597D9o2PmIZt7sPzBNkMifNe0/59nZYCyE7T8v18cSvcrtP0wbbxz+Ce4/c3QI8JRC7j91gPyUHnXuP58iDZguou4/7vGpcE7K7j8fkZhD/e3uP9Ck0+2vDe8/NMd6RdEp7z8I2aCBwkLvP+nfibzbWO8/qyFmhmxs7z+8g8KAvH3vP4aavPwLje8//ECPl5Sa7z8xRkrSiabvPz2UhaIZse8/g2On+my67z/vfu5IqMLvP4l45ezrye8/XiY5o1TQ7z+NBiro+9XvP811+lD42u8/K0LX3F3f7z9Il8g9PuPvP09ZQRqp5u8/ufvkR6zp7z/1eBkAVOzvPy2i9Q6r7u8/CJQU/brw7z8=\",\"dtype\":\"float64\",\"shape\":[100]}},\"selected\":{\"id\":\"842faf75-a022-4560-9c0a-16a8234b0a9a\",\"type\":\"Selection\"},\"selection_policy\":{\"id\":\"9cbac126-88d2-42a7-9cec-264b0da5fe1a\",\"type\":\"UnionRenderers\"}},\"id\":\"dd6666a7-0054-4fb7-aa16-c08c35c72efd\",\"type\":\"ColumnDataSource\"},{\"attributes\":{},\"id\":\"9cbac126-88d2-42a7-9cec-264b0da5fe1a\",\"type\":\"UnionRenderers\"},{\"attributes\":{},\"id\":\"842faf75-a022-4560-9c0a-16a8234b0a9a\",\"type\":\"Selection\"},{\"attributes\":{\"formatter\":{\"id\":\"1b195026-4e8b-4d04-b17f-a3ddbc67ed22\",\"type\":\"BasicTickFormatter\"},\"plot\":{\"id\":\"96225436-090f-4375-a4a7-01011993c613\",\"subtype\":\"Figure\",\"type\":\"Plot\"},\"ticker\":{\"id\":\"563c7b48-67fe-4328-923a-ed86004e3ed0\",\"type\":\"BasicTicker\"}},\"id\":\"97138c14-f62a-46ea-b9ef-29a08926167e\",\"type\":\"LinearAxis\"},{\"attributes\":{},\"id\":\"563c7b48-67fe-4328-923a-ed86004e3ed0\",\"type\":\"BasicTicker\"},{\"attributes\":{\"source\":{\"id\":\"dd6666a7-0054-4fb7-aa16-c08c35c72efd\",\"type\":\"ColumnDataSource\"}},\"id\":\"89c9b78a-211b-425c-b720-b83261eb4b0c\",\"type\":\"CDSView\"}],\"root_ids\":[\"96225436-090f-4375-a4a7-01011993c613\"]},\"title\":\"Bokeh Application\",\"version\":\"0.13.0\"}};\n",
       "  var render_items = [{\"docid\":\"f0475f7e-6040-4f28-a13f-6139c7945b2f\",\"roots\":{\"96225436-090f-4375-a4a7-01011993c613\":\"874f8234-0e5e-4052-b1df-c48a2be99fef\"}}];\n",
       "  root.Bokeh.embed.embed_items_notebook(docs_json, render_items);\n",
       "\n",
       "  }\n",
       "  if (root.Bokeh !== undefined) {\n",
       "    embed_document(root);\n",
       "  } else {\n",
       "    var attempts = 0;\n",
       "    var timer = setInterval(function(root) {\n",
       "      if (root.Bokeh !== undefined) {\n",
       "        embed_document(root);\n",
       "        clearInterval(timer);\n",
       "      }\n",
       "      attempts++;\n",
       "      if (attempts > 100) {\n",
       "        console.log(\"Bokeh: ERROR: Unable to run BokehJS code because BokehJS library is missing\")\n",
       "        clearInterval(timer);\n",
       "      }\n",
       "    }, 10, root)\n",
       "  }\n",
       "})(window);"
      ],
      "application/vnd.bokehjs_exec.v0+json": ""
     },
     "metadata": {
      "application/vnd.bokehjs_exec.v0+json": {
       "id": "96225436-090f-4375-a4a7-01011993c613"
      }
     },
     "output_type": "display_data"
    }
   ],
   "source": [
    "import numpy as np\n",
    "from bokeh.plotting import figure, output_notebook, show\n",
    "output_notebook()\n",
    "sgmd = lambda x: 1 / (1 + np.exp(-x))\n",
    "x = np.linspace(-2*np.pi, 2*np.pi, 100)\n",
    "y = sgmd(x)\n",
    "p = figure(plot_width=400, plot_height=400)\n",
    "p.line(x,y)\n",
    "show(p)"
   ]
  },
  {
   "cell_type": "markdown",
   "metadata": {},
   "source": [
    "Note the *domain* and *codomain*. The sigmoid function can take any input and returns a value between $0$ and $1$. This means we can use any discriminant function we like and feed its output into the sigmoid. You can think of the output of the sigmoid as a probability."
   ]
  },
  {
   "cell_type": "markdown",
   "metadata": {},
   "source": [
    "A more readable expression for the *logistic* sigmoid:"
   ]
  },
  {
   "cell_type": "markdown",
   "metadata": {},
   "source": [
    "## $\\sigma(a) = \\frac{1}{1 + e^{-a}}$"
   ]
  },
  {
   "cell_type": "markdown",
   "metadata": {},
   "source": [
    "Given data $\\bf X$ and weights $\\color{blue}{W}$, we compute the dot product $\\color{blue}{W} \\cdot \\bf X$ and feed the result into the sigmoid function. This is a simple *GLM*, or *Generalized Linear Model*. The model is this:"
   ]
  },
  {
   "cell_type": "markdown",
   "metadata": {},
   "source": [
    "## $P(C_k \\mid {\\bf X}) = \\sigma(\\color{blue}{W} \\cdot {\\bf X}) = \\sigma(\\langle \\color{blue}{W}, {\\bf X}\\rangle) = \\sigma (\\sum_{i=1}^d \\color{blue}{W}_i X_i)$"
   ]
  },
  {
   "cell_type": "markdown",
   "metadata": {},
   "source": [
    "Remember from before that the weights $\\color{blue}{W}$ are really the optimization variables. In this case, the mathematical optimization can be done via *iterative reweighted least squares* (IRLS). But what on Earth are we optimizing? We are actually *maximizing* the likelihood of the parameters given the data. We find the $\\color{blue}{W}$ (a vector), which maximizes this:"
   ]
  },
  {
   "cell_type": "markdown",
   "metadata": {},
   "source": [
    "## $ P( {\\bf t} \\mid \\color{blue}{W} ) = \\prod_{n=1}^N y_n^{t_n}(1 - y_n)^{1-t_n}$"
   ]
  },
  {
   "cell_type": "markdown",
   "metadata": {},
   "source": [
    "where ${\\bf t} = (t_1,\\ldots,t_N)$ are the *labels* from the training set (i.e. $t_n \\in \\{0,1\\}$) and $y_n = P(C_1 \\mid x_n) = \\sigma(\\color{blue}{W} \\cdot x_n)$ are the probabilities predicted by the model with weights $\\color{blue}{W}$."
   ]
  },
  {
   "cell_type": "markdown",
   "metadata": {},
   "source": [
    "We are left with a model that takes $\\bf X$ as input and outputs a value $\\sigma(\\color{blue}{W} \\cdot {\\bf X}) \\in (0,1)$. In the case of two-class classification, this can be interpreted as the probability that the datapoint $\\bf X$ belongs to class $C_1$."
   ]
  },
  {
   "cell_type": "markdown",
   "metadata": {},
   "source": [
    "Let's look at an example."
   ]
  },
  {
   "cell_type": "code",
   "execution_count": 2,
   "metadata": {},
   "outputs": [
    {
     "data": {
      "text/html": [
       "\n",
       "    <div class=\"bk-root\">\n",
       "        <a href=\"https://bokeh.pydata.org\" target=\"_blank\" class=\"bk-logo bk-logo-small bk-logo-notebook\"></a>\n",
       "        <span id=\"3850cc70-13a5-457d-8d86-a355b776ad01\">Loading BokehJS ...</span>\n",
       "    </div>"
      ]
     },
     "metadata": {},
     "output_type": "display_data"
    },
    {
     "data": {
      "application/javascript": [
       "\n",
       "(function(root) {\n",
       "  function now() {\n",
       "    return new Date();\n",
       "  }\n",
       "\n",
       "  var force = true;\n",
       "\n",
       "  if (typeof (root._bokeh_onload_callbacks) === \"undefined\" || force === true) {\n",
       "    root._bokeh_onload_callbacks = [];\n",
       "    root._bokeh_is_loading = undefined;\n",
       "  }\n",
       "\n",
       "  var JS_MIME_TYPE = 'application/javascript';\n",
       "  var HTML_MIME_TYPE = 'text/html';\n",
       "  var EXEC_MIME_TYPE = 'application/vnd.bokehjs_exec.v0+json';\n",
       "  var CLASS_NAME = 'output_bokeh rendered_html';\n",
       "\n",
       "  /**\n",
       "   * Render data to the DOM node\n",
       "   */\n",
       "  function render(props, node) {\n",
       "    var script = document.createElement(\"script\");\n",
       "    node.appendChild(script);\n",
       "  }\n",
       "\n",
       "  /**\n",
       "   * Handle when an output is cleared or removed\n",
       "   */\n",
       "  function handleClearOutput(event, handle) {\n",
       "    var cell = handle.cell;\n",
       "\n",
       "    var id = cell.output_area._bokeh_element_id;\n",
       "    var server_id = cell.output_area._bokeh_server_id;\n",
       "    // Clean up Bokeh references\n",
       "    if (id != null && id in Bokeh.index) {\n",
       "      Bokeh.index[id].model.document.clear();\n",
       "      delete Bokeh.index[id];\n",
       "    }\n",
       "\n",
       "    if (server_id !== undefined) {\n",
       "      // Clean up Bokeh references\n",
       "      var cmd = \"from bokeh.io.state import curstate; print(curstate().uuid_to_server['\" + server_id + \"'].get_sessions()[0].document.roots[0]._id)\";\n",
       "      cell.notebook.kernel.execute(cmd, {\n",
       "        iopub: {\n",
       "          output: function(msg) {\n",
       "            var id = msg.content.text.trim();\n",
       "            if (id in Bokeh.index) {\n",
       "              Bokeh.index[id].model.document.clear();\n",
       "              delete Bokeh.index[id];\n",
       "            }\n",
       "          }\n",
       "        }\n",
       "      });\n",
       "      // Destroy server and session\n",
       "      var cmd = \"import bokeh.io.notebook as ion; ion.destroy_server('\" + server_id + \"')\";\n",
       "      cell.notebook.kernel.execute(cmd);\n",
       "    }\n",
       "  }\n",
       "\n",
       "  /**\n",
       "   * Handle when a new output is added\n",
       "   */\n",
       "  function handleAddOutput(event, handle) {\n",
       "    var output_area = handle.output_area;\n",
       "    var output = handle.output;\n",
       "\n",
       "    // limit handleAddOutput to display_data with EXEC_MIME_TYPE content only\n",
       "    if ((output.output_type != \"display_data\") || (!output.data.hasOwnProperty(EXEC_MIME_TYPE))) {\n",
       "      return\n",
       "    }\n",
       "\n",
       "    var toinsert = output_area.element.find(\".\" + CLASS_NAME.split(' ')[0]);\n",
       "\n",
       "    if (output.metadata[EXEC_MIME_TYPE][\"id\"] !== undefined) {\n",
       "      toinsert[toinsert.length - 1].firstChild.textContent = output.data[JS_MIME_TYPE];\n",
       "      // store reference to embed id on output_area\n",
       "      output_area._bokeh_element_id = output.metadata[EXEC_MIME_TYPE][\"id\"];\n",
       "    }\n",
       "    if (output.metadata[EXEC_MIME_TYPE][\"server_id\"] !== undefined) {\n",
       "      var bk_div = document.createElement(\"div\");\n",
       "      bk_div.innerHTML = output.data[HTML_MIME_TYPE];\n",
       "      var script_attrs = bk_div.children[0].attributes;\n",
       "      for (var i = 0; i < script_attrs.length; i++) {\n",
       "        toinsert[toinsert.length - 1].firstChild.setAttribute(script_attrs[i].name, script_attrs[i].value);\n",
       "      }\n",
       "      // store reference to server id on output_area\n",
       "      output_area._bokeh_server_id = output.metadata[EXEC_MIME_TYPE][\"server_id\"];\n",
       "    }\n",
       "  }\n",
       "\n",
       "  function register_renderer(events, OutputArea) {\n",
       "\n",
       "    function append_mime(data, metadata, element) {\n",
       "      // create a DOM node to render to\n",
       "      var toinsert = this.create_output_subarea(\n",
       "        metadata,\n",
       "        CLASS_NAME,\n",
       "        EXEC_MIME_TYPE\n",
       "      );\n",
       "      this.keyboard_manager.register_events(toinsert);\n",
       "      // Render to node\n",
       "      var props = {data: data, metadata: metadata[EXEC_MIME_TYPE]};\n",
       "      render(props, toinsert[toinsert.length - 1]);\n",
       "      element.append(toinsert);\n",
       "      return toinsert\n",
       "    }\n",
       "\n",
       "    /* Handle when an output is cleared or removed */\n",
       "    events.on('clear_output.CodeCell', handleClearOutput);\n",
       "    events.on('delete.Cell', handleClearOutput);\n",
       "\n",
       "    /* Handle when a new output is added */\n",
       "    events.on('output_added.OutputArea', handleAddOutput);\n",
       "\n",
       "    /**\n",
       "     * Register the mime type and append_mime function with output_area\n",
       "     */\n",
       "    OutputArea.prototype.register_mime_type(EXEC_MIME_TYPE, append_mime, {\n",
       "      /* Is output safe? */\n",
       "      safe: true,\n",
       "      /* Index of renderer in `output_area.display_order` */\n",
       "      index: 0\n",
       "    });\n",
       "  }\n",
       "\n",
       "  // register the mime type if in Jupyter Notebook environment and previously unregistered\n",
       "  if (root.Jupyter !== undefined) {\n",
       "    var events = require('base/js/events');\n",
       "    var OutputArea = require('notebook/js/outputarea').OutputArea;\n",
       "\n",
       "    if (OutputArea.prototype.mime_types().indexOf(EXEC_MIME_TYPE) == -1) {\n",
       "      register_renderer(events, OutputArea);\n",
       "    }\n",
       "  }\n",
       "\n",
       "  \n",
       "  if (typeof (root._bokeh_timeout) === \"undefined\" || force === true) {\n",
       "    root._bokeh_timeout = Date.now() + 5000;\n",
       "    root._bokeh_failed_load = false;\n",
       "  }\n",
       "\n",
       "  var NB_LOAD_WARNING = {'data': {'text/html':\n",
       "     \"<div style='background-color: #fdd'>\\n\"+\n",
       "     \"<p>\\n\"+\n",
       "     \"BokehJS does not appear to have successfully loaded. If loading BokehJS from CDN, this \\n\"+\n",
       "     \"may be due to a slow or bad network connection. Possible fixes:\\n\"+\n",
       "     \"</p>\\n\"+\n",
       "     \"<ul>\\n\"+\n",
       "     \"<li>re-rerun `output_notebook()` to attempt to load from CDN again, or</li>\\n\"+\n",
       "     \"<li>use INLINE resources instead, as so:</li>\\n\"+\n",
       "     \"</ul>\\n\"+\n",
       "     \"<code>\\n\"+\n",
       "     \"from bokeh.resources import INLINE\\n\"+\n",
       "     \"output_notebook(resources=INLINE)\\n\"+\n",
       "     \"</code>\\n\"+\n",
       "     \"</div>\"}};\n",
       "\n",
       "  function display_loaded() {\n",
       "    var el = document.getElementById(\"3850cc70-13a5-457d-8d86-a355b776ad01\");\n",
       "    if (el != null) {\n",
       "      el.textContent = \"BokehJS is loading...\";\n",
       "    }\n",
       "    if (root.Bokeh !== undefined) {\n",
       "      if (el != null) {\n",
       "        el.textContent = \"BokehJS \" + root.Bokeh.version + \" successfully loaded.\";\n",
       "      }\n",
       "    } else if (Date.now() < root._bokeh_timeout) {\n",
       "      setTimeout(display_loaded, 100)\n",
       "    }\n",
       "  }\n",
       "\n",
       "\n",
       "  function run_callbacks() {\n",
       "    try {\n",
       "      root._bokeh_onload_callbacks.forEach(function(callback) { callback() });\n",
       "    }\n",
       "    finally {\n",
       "      delete root._bokeh_onload_callbacks\n",
       "    }\n",
       "    console.info(\"Bokeh: all callbacks have finished\");\n",
       "  }\n",
       "\n",
       "  function load_libs(js_urls, callback) {\n",
       "    root._bokeh_onload_callbacks.push(callback);\n",
       "    if (root._bokeh_is_loading > 0) {\n",
       "      console.log(\"Bokeh: BokehJS is being loaded, scheduling callback at\", now());\n",
       "      return null;\n",
       "    }\n",
       "    if (js_urls == null || js_urls.length === 0) {\n",
       "      run_callbacks();\n",
       "      return null;\n",
       "    }\n",
       "    console.log(\"Bokeh: BokehJS not loaded, scheduling load and callback at\", now());\n",
       "    root._bokeh_is_loading = js_urls.length;\n",
       "    for (var i = 0; i < js_urls.length; i++) {\n",
       "      var url = js_urls[i];\n",
       "      var s = document.createElement('script');\n",
       "      s.src = url;\n",
       "      s.async = false;\n",
       "      s.onreadystatechange = s.onload = function() {\n",
       "        root._bokeh_is_loading--;\n",
       "        if (root._bokeh_is_loading === 0) {\n",
       "          console.log(\"Bokeh: all BokehJS libraries loaded\");\n",
       "          run_callbacks()\n",
       "        }\n",
       "      };\n",
       "      s.onerror = function() {\n",
       "        console.warn(\"failed to load library \" + url);\n",
       "      };\n",
       "      console.log(\"Bokeh: injecting script tag for BokehJS library: \", url);\n",
       "      document.getElementsByTagName(\"head\")[0].appendChild(s);\n",
       "    }\n",
       "  };var element = document.getElementById(\"3850cc70-13a5-457d-8d86-a355b776ad01\");\n",
       "  if (element == null) {\n",
       "    console.log(\"Bokeh: ERROR: autoload.js configured with elementid '3850cc70-13a5-457d-8d86-a355b776ad01' but no matching script tag was found. \")\n",
       "    return false;\n",
       "  }\n",
       "\n",
       "  var js_urls = [\"https://cdn.pydata.org/bokeh/release/bokeh-0.13.0.min.js\", \"https://cdn.pydata.org/bokeh/release/bokeh-widgets-0.13.0.min.js\", \"https://cdn.pydata.org/bokeh/release/bokeh-tables-0.13.0.min.js\", \"https://cdn.pydata.org/bokeh/release/bokeh-gl-0.13.0.min.js\"];\n",
       "\n",
       "  var inline_js = [\n",
       "    function(Bokeh) {\n",
       "      Bokeh.set_log_level(\"info\");\n",
       "    },\n",
       "    \n",
       "    function(Bokeh) {\n",
       "      \n",
       "    },\n",
       "    function(Bokeh) {\n",
       "      console.log(\"Bokeh: injecting CSS: https://cdn.pydata.org/bokeh/release/bokeh-0.13.0.min.css\");\n",
       "      Bokeh.embed.inject_css(\"https://cdn.pydata.org/bokeh/release/bokeh-0.13.0.min.css\");\n",
       "      console.log(\"Bokeh: injecting CSS: https://cdn.pydata.org/bokeh/release/bokeh-widgets-0.13.0.min.css\");\n",
       "      Bokeh.embed.inject_css(\"https://cdn.pydata.org/bokeh/release/bokeh-widgets-0.13.0.min.css\");\n",
       "      console.log(\"Bokeh: injecting CSS: https://cdn.pydata.org/bokeh/release/bokeh-tables-0.13.0.min.css\");\n",
       "      Bokeh.embed.inject_css(\"https://cdn.pydata.org/bokeh/release/bokeh-tables-0.13.0.min.css\");\n",
       "    }\n",
       "  ];\n",
       "\n",
       "  function run_inline_js() {\n",
       "    \n",
       "    if ((root.Bokeh !== undefined) || (force === true)) {\n",
       "      for (var i = 0; i < inline_js.length; i++) {\n",
       "        inline_js[i].call(root, root.Bokeh);\n",
       "      }if (force === true) {\n",
       "        display_loaded();\n",
       "      }} else if (Date.now() < root._bokeh_timeout) {\n",
       "      setTimeout(run_inline_js, 100);\n",
       "    } else if (!root._bokeh_failed_load) {\n",
       "      console.log(\"Bokeh: BokehJS failed to load within specified timeout.\");\n",
       "      root._bokeh_failed_load = true;\n",
       "    } else if (force !== true) {\n",
       "      var cell = $(document.getElementById(\"3850cc70-13a5-457d-8d86-a355b776ad01\")).parents('.cell').data().cell;\n",
       "      cell.output_area.append_execute_result(NB_LOAD_WARNING)\n",
       "    }\n",
       "\n",
       "  }\n",
       "\n",
       "  if (root._bokeh_is_loading === 0) {\n",
       "    console.log(\"Bokeh: BokehJS loaded, going straight to plotting\");\n",
       "    run_inline_js();\n",
       "  } else {\n",
       "    load_libs(js_urls, function() {\n",
       "      console.log(\"Bokeh: BokehJS plotting callback run at\", now());\n",
       "      run_inline_js();\n",
       "    });\n",
       "  }\n",
       "}(window));"
      ],
      "application/vnd.bokehjs_load.v0+json": "\n(function(root) {\n  function now() {\n    return new Date();\n  }\n\n  var force = true;\n\n  if (typeof (root._bokeh_onload_callbacks) === \"undefined\" || force === true) {\n    root._bokeh_onload_callbacks = [];\n    root._bokeh_is_loading = undefined;\n  }\n\n  \n\n  \n  if (typeof (root._bokeh_timeout) === \"undefined\" || force === true) {\n    root._bokeh_timeout = Date.now() + 5000;\n    root._bokeh_failed_load = false;\n  }\n\n  var NB_LOAD_WARNING = {'data': {'text/html':\n     \"<div style='background-color: #fdd'>\\n\"+\n     \"<p>\\n\"+\n     \"BokehJS does not appear to have successfully loaded. If loading BokehJS from CDN, this \\n\"+\n     \"may be due to a slow or bad network connection. Possible fixes:\\n\"+\n     \"</p>\\n\"+\n     \"<ul>\\n\"+\n     \"<li>re-rerun `output_notebook()` to attempt to load from CDN again, or</li>\\n\"+\n     \"<li>use INLINE resources instead, as so:</li>\\n\"+\n     \"</ul>\\n\"+\n     \"<code>\\n\"+\n     \"from bokeh.resources import INLINE\\n\"+\n     \"output_notebook(resources=INLINE)\\n\"+\n     \"</code>\\n\"+\n     \"</div>\"}};\n\n  function display_loaded() {\n    var el = document.getElementById(\"3850cc70-13a5-457d-8d86-a355b776ad01\");\n    if (el != null) {\n      el.textContent = \"BokehJS is loading...\";\n    }\n    if (root.Bokeh !== undefined) {\n      if (el != null) {\n        el.textContent = \"BokehJS \" + root.Bokeh.version + \" successfully loaded.\";\n      }\n    } else if (Date.now() < root._bokeh_timeout) {\n      setTimeout(display_loaded, 100)\n    }\n  }\n\n\n  function run_callbacks() {\n    try {\n      root._bokeh_onload_callbacks.forEach(function(callback) { callback() });\n    }\n    finally {\n      delete root._bokeh_onload_callbacks\n    }\n    console.info(\"Bokeh: all callbacks have finished\");\n  }\n\n  function load_libs(js_urls, callback) {\n    root._bokeh_onload_callbacks.push(callback);\n    if (root._bokeh_is_loading > 0) {\n      console.log(\"Bokeh: BokehJS is being loaded, scheduling callback at\", now());\n      return null;\n    }\n    if (js_urls == null || js_urls.length === 0) {\n      run_callbacks();\n      return null;\n    }\n    console.log(\"Bokeh: BokehJS not loaded, scheduling load and callback at\", now());\n    root._bokeh_is_loading = js_urls.length;\n    for (var i = 0; i < js_urls.length; i++) {\n      var url = js_urls[i];\n      var s = document.createElement('script');\n      s.src = url;\n      s.async = false;\n      s.onreadystatechange = s.onload = function() {\n        root._bokeh_is_loading--;\n        if (root._bokeh_is_loading === 0) {\n          console.log(\"Bokeh: all BokehJS libraries loaded\");\n          run_callbacks()\n        }\n      };\n      s.onerror = function() {\n        console.warn(\"failed to load library \" + url);\n      };\n      console.log(\"Bokeh: injecting script tag for BokehJS library: \", url);\n      document.getElementsByTagName(\"head\")[0].appendChild(s);\n    }\n  };var element = document.getElementById(\"3850cc70-13a5-457d-8d86-a355b776ad01\");\n  if (element == null) {\n    console.log(\"Bokeh: ERROR: autoload.js configured with elementid '3850cc70-13a5-457d-8d86-a355b776ad01' but no matching script tag was found. \")\n    return false;\n  }\n\n  var js_urls = [\"https://cdn.pydata.org/bokeh/release/bokeh-0.13.0.min.js\", \"https://cdn.pydata.org/bokeh/release/bokeh-widgets-0.13.0.min.js\", \"https://cdn.pydata.org/bokeh/release/bokeh-tables-0.13.0.min.js\", \"https://cdn.pydata.org/bokeh/release/bokeh-gl-0.13.0.min.js\"];\n\n  var inline_js = [\n    function(Bokeh) {\n      Bokeh.set_log_level(\"info\");\n    },\n    \n    function(Bokeh) {\n      \n    },\n    function(Bokeh) {\n      console.log(\"Bokeh: injecting CSS: https://cdn.pydata.org/bokeh/release/bokeh-0.13.0.min.css\");\n      Bokeh.embed.inject_css(\"https://cdn.pydata.org/bokeh/release/bokeh-0.13.0.min.css\");\n      console.log(\"Bokeh: injecting CSS: https://cdn.pydata.org/bokeh/release/bokeh-widgets-0.13.0.min.css\");\n      Bokeh.embed.inject_css(\"https://cdn.pydata.org/bokeh/release/bokeh-widgets-0.13.0.min.css\");\n      console.log(\"Bokeh: injecting CSS: https://cdn.pydata.org/bokeh/release/bokeh-tables-0.13.0.min.css\");\n      Bokeh.embed.inject_css(\"https://cdn.pydata.org/bokeh/release/bokeh-tables-0.13.0.min.css\");\n    }\n  ];\n\n  function run_inline_js() {\n    \n    if ((root.Bokeh !== undefined) || (force === true)) {\n      for (var i = 0; i < inline_js.length; i++) {\n        inline_js[i].call(root, root.Bokeh);\n      }if (force === true) {\n        display_loaded();\n      }} else if (Date.now() < root._bokeh_timeout) {\n      setTimeout(run_inline_js, 100);\n    } else if (!root._bokeh_failed_load) {\n      console.log(\"Bokeh: BokehJS failed to load within specified timeout.\");\n      root._bokeh_failed_load = true;\n    } else if (force !== true) {\n      var cell = $(document.getElementById(\"3850cc70-13a5-457d-8d86-a355b776ad01\")).parents('.cell').data().cell;\n      cell.output_area.append_execute_result(NB_LOAD_WARNING)\n    }\n\n  }\n\n  if (root._bokeh_is_loading === 0) {\n    console.log(\"Bokeh: BokehJS loaded, going straight to plotting\");\n    run_inline_js();\n  } else {\n    load_libs(js_urls, function() {\n      console.log(\"Bokeh: BokehJS plotting callback run at\", now());\n      run_inline_js();\n    });\n  }\n}(window));"
     },
     "metadata": {},
     "output_type": "display_data"
    },
    {
     "data": {
      "text/html": [
       "\n",
       "\n",
       "\n",
       "\n",
       "\n",
       "\n",
       "  <div class=\"bk-root\" id=\"637b0b9e-e4a6-4550-ab88-6cf36d434952\"></div>\n"
      ]
     },
     "metadata": {},
     "output_type": "display_data"
    },
    {
     "data": {
      "application/javascript": [
       "(function(root) {\n",
       "  function embed_document(root) {\n",
       "    \n",
       "  var docs_json = {\"e526a552-fe0a-49cc-bdbf-b8bacbef3c4f\":{\"roots\":{\"references\":[{\"attributes\":{},\"id\":\"4f3c469d-3ec7-47fd-bbe6-f926e7233469\",\"type\":\"UnionRenderers\"},{\"attributes\":{},\"id\":\"a302d780-fc9c-4c08-aca6-29af97412eb8\",\"type\":\"Selection\"},{\"attributes\":{},\"id\":\"358dd848-95a4-4dd8-9df0-c22b5b8d4c67\",\"type\":\"UnionRenderers\"},{\"attributes\":{\"source\":{\"id\":\"36c6bbf0-ed34-4ed3-9542-cd028fe818ee\",\"type\":\"ColumnDataSource\"}},\"id\":\"27b7bb58-8eb5-403c-a6c0-0cc60fb391e1\",\"type\":\"CDSView\"},{\"attributes\":{\"formatter\":{\"id\":\"640f2081-dd45-4d83-b226-84198f0b2426\",\"type\":\"BasicTickFormatter\"},\"plot\":{\"id\":\"4f04f78e-f488-4e92-b7ed-ec01fc456b22\",\"subtype\":\"Figure\",\"type\":\"Plot\"},\"ticker\":{\"id\":\"fda551da-54e7-4e10-844b-d035fe08e74a\",\"type\":\"BasicTicker\"}},\"id\":\"25ae15e7-ef02-42e7-8cb2-7a9b66c474db\",\"type\":\"LinearAxis\"},{\"attributes\":{},\"id\":\"41820fb6-1cb8-4d12-b90a-c8aee013816c\",\"type\":\"SaveTool\"},{\"attributes\":{},\"id\":\"0bb23c4f-8ba1-4ff9-ab4b-b5871f9036d1\",\"type\":\"Selection\"},{\"attributes\":{\"fill_alpha\":{\"value\":0.5},\"fill_color\":{\"value\":\"blue\"},\"line_alpha\":{\"value\":0.5},\"line_color\":{\"value\":\"navy\"},\"size\":{\"units\":\"screen\",\"value\":15},\"x\":{\"field\":\"x\"},\"y\":{\"field\":\"y\"}},\"id\":\"fa90ed70-1b38-4773-bdbb-b59324946081\",\"type\":\"Circle\"},{\"attributes\":{},\"id\":\"fda551da-54e7-4e10-844b-d035fe08e74a\",\"type\":\"BasicTicker\"},{\"attributes\":{},\"id\":\"640f2081-dd45-4d83-b226-84198f0b2426\",\"type\":\"BasicTickFormatter\"},{\"attributes\":{\"formatter\":{\"id\":\"b1437355-a561-4c48-99ec-6d576da6c18d\",\"type\":\"BasicTickFormatter\"},\"plot\":{\"id\":\"4f04f78e-f488-4e92-b7ed-ec01fc456b22\",\"subtype\":\"Figure\",\"type\":\"Plot\"},\"ticker\":{\"id\":\"2357b24c-96c2-49e2-ace9-864ded2d7081\",\"type\":\"BasicTicker\"}},\"id\":\"71fe026f-81a4-43bc-8c34-c6946e39002e\",\"type\":\"LinearAxis\"},{\"attributes\":{\"bottom_units\":\"screen\",\"fill_alpha\":{\"value\":0.5},\"fill_color\":{\"value\":\"lightgrey\"},\"left_units\":\"screen\",\"level\":\"overlay\",\"line_alpha\":{\"value\":1.0},\"line_color\":{\"value\":\"black\"},\"line_dash\":[4,4],\"line_width\":{\"value\":2},\"plot\":null,\"render_mode\":\"css\",\"right_units\":\"screen\",\"top_units\":\"screen\"},\"id\":\"a9f04db3-724e-4ab4-b28b-d55ecea3b758\",\"type\":\"BoxAnnotation\"},{\"attributes\":{},\"id\":\"4a68ba83-016b-4934-a14b-558c5539769f\",\"type\":\"PanTool\"},{\"attributes\":{\"grid_line_color\":{\"value\":null},\"plot\":{\"id\":\"4f04f78e-f488-4e92-b7ed-ec01fc456b22\",\"subtype\":\"Figure\",\"type\":\"Plot\"},\"ticker\":{\"id\":\"fda551da-54e7-4e10-844b-d035fe08e74a\",\"type\":\"BasicTicker\"}},\"id\":\"bc316e04-ed0a-4d27-8c5b-c908b5a87ab2\",\"type\":\"Grid\"},{\"attributes\":{\"callback\":null},\"id\":\"732fe1b5-df79-405b-a1eb-85d9cb120f0b\",\"type\":\"DataRange1d\"},{\"attributes\":{\"fill_alpha\":{\"value\":0.1},\"fill_color\":{\"value\":\"#1f77b4\"},\"line_alpha\":{\"value\":0.1},\"line_color\":{\"value\":\"#1f77b4\"},\"size\":{\"units\":\"screen\",\"value\":15},\"x\":{\"field\":\"x\"},\"y\":{\"field\":\"y\"}},\"id\":\"6d4840f7-bda6-4a16-bcd6-d26a39971657\",\"type\":\"Circle\"},{\"attributes\":{},\"id\":\"131e0055-e1f8-4034-9ecd-e7739f4ba9c0\",\"type\":\"LinearScale\"},{\"attributes\":{},\"id\":\"33419e36-d959-4408-850b-8c6276dbbad9\",\"type\":\"LinearScale\"},{\"attributes\":{\"background_fill_color\":{\"value\":\"#eeeeee\"},\"below\":[{\"id\":\"25ae15e7-ef02-42e7-8cb2-7a9b66c474db\",\"type\":\"LinearAxis\"}],\"left\":[{\"id\":\"71fe026f-81a4-43bc-8c34-c6946e39002e\",\"type\":\"LinearAxis\"}],\"renderers\":[{\"id\":\"25ae15e7-ef02-42e7-8cb2-7a9b66c474db\",\"type\":\"LinearAxis\"},{\"id\":\"bc316e04-ed0a-4d27-8c5b-c908b5a87ab2\",\"type\":\"Grid\"},{\"id\":\"71fe026f-81a4-43bc-8c34-c6946e39002e\",\"type\":\"LinearAxis\"},{\"id\":\"85d5ef41-44c1-4291-bb85-00ecd66b2b4c\",\"type\":\"Grid\"},{\"id\":\"a9f04db3-724e-4ab4-b28b-d55ecea3b758\",\"type\":\"BoxAnnotation\"},{\"id\":\"b0c3c6e4-5499-4242-b8f6-db40b5168425\",\"type\":\"GlyphRenderer\"},{\"id\":\"e0c0f3cf-acfc-45c6-be9e-d105efd8b509\",\"type\":\"GlyphRenderer\"}],\"title\":{\"id\":\"435befdc-56f3-4e54-a586-5b21f826a08a\",\"type\":\"Title\"},\"toolbar\":{\"id\":\"98968c20-3171-414e-a04b-82af719ce93a\",\"type\":\"Toolbar\"},\"toolbar_location\":null,\"x_range\":{\"id\":\"1dcb1a77-8255-4cad-a5fd-b39332c833ec\",\"type\":\"DataRange1d\"},\"x_scale\":{\"id\":\"33419e36-d959-4408-850b-8c6276dbbad9\",\"type\":\"LinearScale\"},\"y_range\":{\"id\":\"732fe1b5-df79-405b-a1eb-85d9cb120f0b\",\"type\":\"DataRange1d\"},\"y_scale\":{\"id\":\"131e0055-e1f8-4034-9ecd-e7739f4ba9c0\",\"type\":\"LinearScale\"}},\"id\":\"4f04f78e-f488-4e92-b7ed-ec01fc456b22\",\"subtype\":\"Figure\",\"type\":\"Plot\"},{\"attributes\":{\"dimension\":1,\"grid_line_color\":{\"value\":null},\"plot\":{\"id\":\"4f04f78e-f488-4e92-b7ed-ec01fc456b22\",\"subtype\":\"Figure\",\"type\":\"Plot\"},\"ticker\":{\"id\":\"2357b24c-96c2-49e2-ace9-864ded2d7081\",\"type\":\"BasicTicker\"}},\"id\":\"85d5ef41-44c1-4291-bb85-00ecd66b2b4c\",\"type\":\"Grid\"},{\"attributes\":{},\"id\":\"2357b24c-96c2-49e2-ace9-864ded2d7081\",\"type\":\"BasicTicker\"},{\"attributes\":{\"callback\":null,\"data\":{\"x\":{\"__ndarray__\":\"dBO3lFFDwL9AlkIrxSuOv4BgfDWd4XS/uGapOdJi0r8Q49kr7Jm0v8R6icBzs8C/Ckl65HGf3D+AmXpEL0ndvzgp2G52ebg/2Kb22NGf0L8yI52fpZzdv9ok1iGcNd0/loXSvVQ00j+S5ZfxK+fav8z1i/bAuMu/YGq73OsEvT9oRMrrnzTbP1Q8q7hVgMI/6HY9Tej6sz+AjEPY8Rm4PwApyD6UX5e/ANFx2KEeej94hPfrA0PXvy7Q/Lmtk9q/Fok4AEJm0T8A4yNJxuuAP4DYyEPWBri/nDHKhC2vxz/YBAvJH6PLP6gAzcyCKdI/+OLsJhvWsb8sfaYLhXzPv1ZpFeQ449q/DDUN8+pGxD/s5BqUWxvKP4jWRyZryMM/QieIFOIl2T+wD91rJ2y8P3xE1o7hktI/zPfyoce0zD/On6xs33PVP6Ks4kOGTtW/DP17Ghfky7+Q90yGpPTcv0YdbPz+DNm//pW1UMQU1j/WMf2f6sbQv4gdMCz74MG/AJ/Y4hHRhz/YplcdXnnNv1BFHNER4sg/XncGmHow3T+c0e1GqDfKv9Bhq/qahas/+gkz0zfI1T9sVG+j3AfWv2TVm6DlJsi/SD/zJsPQxD/aECT1bErRP/Yv9eYFs9I/CF0KWMO9ur9I2hBuJKDav0jzFlmtI8w/rOtrBkepyb9g1lrezHCqPzS9HHNoC8Q/MLdLxUII3j9kvPj4Z7TAv4CdprX0fIm/wBR5BA85279Mwg9reMfKv7j5zhOCbr0/eGPLmb0F1j+6oVBe+gXbv74dKe4di9S/JMwY40Ou0L+A3OtcTkTIv5AX/YwC/qY/ametmjaC1j/e4vGWXtjaP1CMgEAjcbc/6NchXjhsyb+A0Cjuj1rMv2whxyFfa8Q/Vl19Koc83D/QO7wGxX7cv+DSdQEW3qE/OAWNn6J3vz/8c5+QhnbRv+6MOQrmR90/GCxM5Et7zz9ApGDZQViBv2h5cHAER7q/jN8hLTTIxT8AIKVOF6e+P3Bf+ThY56o/mvGt1FTO2r9AKGc9N2Scv5Cm1hacrN+/9Ja/M/721D8=\",\"dtype\":\"float64\",\"shape\":[100]},\"y\":{\"__ndarray__\":\"eRQkeZ6I6j8sHaUMtBLyP6dimjKpzuw/57p5HDuw7T8B3jP9CD/xPxgxNFUszPM/uCz9Hn2m4j+XqyASyu7uPzByp/oaDvI/qtabSkD95j/FvBcWgVfwP8G6IsQvA/M/8i6Q7/Uq9T/l/UwRqKj3PztMW2cV2e8/0B2NJEpD4T8hAjtGaR3tP60Yatg1P+0/K5z9I1Nc6j9aBARXeUXiP9Hbld7MPPM/NLy/8jVU8j+6cH7c8GbyP7aX/LXbT/E/6ei/HZVQ7z8WisBUX8D1P19LGID+HfU/+W07n14i8T/RW3c9IfPzP65hHPpvXug/C3NgHhJR7D/5gOSsqkvqP2qh0pwkwuE/pkzc3Tft8z+szp4qaorvP+q7Gy8MX/Q/p3i0pkhW7T8DrJIPPRjyP0hnEJce0vM//HsX2WPi9z/a+7v2Z/b2P2hHd4vNZO8/AJ7kXYn99T/lM0x78ajsPzzzTo/ZCfE/CFYJo2zl7j/AwCqlNZjhP0Bft4CR2eQ/hGZ3Mph68T8WBXTAQifxP5XEWbjXzOw/XpohWLtK8T8sbSO3w6L2Pxq8jdIIK+c/Ns9GS4LK8T9foEpvCKfvPyxoAaYZI/U/KX4reBTi5D8/Z6iwzSDxPx+CTNFi1PA/NVBvBTZ+8T9E1QRhOAfvPxSeoiL8xvQ/DMxzyUwV5D+aeCx8S5LxPw5bKiVhnfM/q6omOzR95T+F+KrsRYrsP9Vyp9Id/vI/cEK+qX0z7z842CWvMZjwP6Vvfo4DD+4/HRwjbZbH5T8lwwRxlYPjP47X8OhdL+s/em6QIVJb9j+7mCl1CyzuP4Zy+Gix1PQ/SUxC9HeO6j+a9c9x/IP1P5tG+6uiRuU/vpAO47P48D+Ohe1NujfyPyZin9N2y/M/RD0qRDJ28j9uAFJuU9XrP1PU0rIJlfU/jsmqCkde5z82acxvKN3zPwLO1LdNxvM/+ppmmmm78T9YUvNMimvoP2BOgQApDvM/mxeE474w5T9ZsDH1QuHlP4KlE//RDuo/lvzywbeG8D/w9WeEuRn2P/oYhOwOh+o/ECid14Er8D8=\",\"dtype\":\"float64\",\"shape\":[100]}},\"selected\":{\"id\":\"a302d780-fc9c-4c08-aca6-29af97412eb8\",\"type\":\"Selection\"},\"selection_policy\":{\"id\":\"4f3c469d-3ec7-47fd-bbe6-f926e7233469\",\"type\":\"UnionRenderers\"}},\"id\":\"36c6bbf0-ed34-4ed3-9542-cd028fe818ee\",\"type\":\"ColumnDataSource\"},{\"attributes\":{},\"id\":\"e48326b4-bd83-41d7-a7ad-c57aa1928a25\",\"type\":\"WheelZoomTool\"},{\"attributes\":{\"callback\":null,\"data\":{\"x\":{\"__ndarray__\":\"0LvxgfUvpD8KlTwdOibWP1JJH3dEFNs/kCf+wljo1z/YU5kF9w7VP2AaCw7M4Nk/9GxOnkFTwD+krwUMxwvvP8Y64wwrYtc/oDCruThbzT/oF/NIUTvdP+B/64eD+5c/oPQ7zXOZ4D/LIH60HMTiP5rtbOZTme0/PgwRy9Bv0j/k8HcisjvcP6i1nrMbKOU/suEeQcb63j/GkejJJqfXP7BCi1wBR+U/rClw67415j9/SkgVrHPsP3LMxgAkOtg/DIL/tkhE1z9rbd9xsUfqP31XWRM5B+8/5Etq90bO6D/QeDkBCqTJPzgHWvk9ceE/bETK6X2J6D9kGtp7V0XLPwUcUvlA/ek/wGY5LXFL7j/PcQ6CcKTsP4DW0Bc1VLU/KG3jwJcQ3D8cyUagsV7sP4Cq+VjEJKE/skCsyTE86j/kqImS4xbTPwi+h0lGnsI/Mry2paHT5D/AlMg20hLGP1oBv+bsA+s/KH8fQ/Lm4T9QXO6Bc73oP8o9i4h2/eo/DKW+HjGJ4T/od2pXRi/LPyCjPrDYJaQ/Yl0J+NQd2T+TP+iopWDoP7Hnoycl9O8/QK6O7zf4xz84rXClyejNP0BJbxgnSLY/nDjvM7GB6z99ccsRrBboP4Qa4TwHd+k/jczTgO0o6z9ozxTQEJfuP0CQi9okkuc/R9hofAp36j9hh95RRujiP/zMW9kIZ9Q/04P29XSF5j9k5EGLvj3vP1Dm8PrcXL4/CZSRMwo66j8m/7zNptjqP9P5JoAVu+Y/1rNs2yvC4j+y8nYPdGXUPzjyP3LOY8U/fGdGxM7Byj84rDajW0/gP4xmJM0YrNg/VGOgwzEc0T9SQES1TDflPwahMEBxrt4/0xFSwd5F6j+iIHMAO0fdP0UdBsh54eo/FIUbajjPwj8mjqMGOiThP3WtIq1Jzus/CLaekExV4T+gvTOLSSq1P5vY8HzuoeI/sJEOBXLZxj+0QlJNQajVP0hd2LT8x7g/x9VGxi3J4j8zaV2UoxblP0n+X2beTuw/U9WCtsRm7D/YOznRKZyyP2oKAK/pIeg/pnBjVked5D8=\",\"dtype\":\"float64\",\"shape\":[100]},\"y\":{\"__ndarray__\":\"tCEND6hi1z/sEx9oAhbmP1C92xcafaw/7vBlaDKu7D+whTODHiHuP1BbuojpO8M/N+WgXdYG6T8SFAuBorrqP/CxxLFAfcY/Hk+GQWoY0z/SkFRw13juP+o9bwwwm+s/JlyTo79Z5j8eZhLIy77VP70aVQUpau8/OBx+dr/V7j+i2RRBOinkPwCkRl/eTZ8/VCCdAVcz4z/YWu+SUKzCP8RhbW29eOI/YPfkIUeq4D9NV9Bun/jqP2At/voLaJk/tMDZQRfEzz/QtVnBGleyPyTYbxm+rdI/gPvco2z/lz9XZtlCDzHqP4+nNeKjn+w/YAFSA0ienT9/QIiGxEHqP5nXXKE1QuA/IBXKbDCN0T9PJOsLWbHlP/gmREhUBcc/8AlihSLNuT+Fnt6IDwjmP1Pbx0dia+M/wF9TF5fcrj/TcGdxTLnnP/dwC0v9wuw/IMTjaPszlT9ln8SROjblP+rrFqIz3dE/Pj28IRy82j+QSwH9MQO4P8KuRlu4odw/oA118wRz1T9q9LivTojuP4A1BaRTd4E/oNKKfIRKtz8AhXobSwWXP4vyXMAjvOs/O5JHDBqE6z8ZRbm7pynpP2BsneUHsr4/SIPdSQVI3j/8y4PJynHjP1SBkHexae8/QG51JKx02z8eeIcFk7LYPy2qvwGzKeo/RFayVHnX2j8SF4NfSp3lP+x5ys38nO4/kMzm6l2w5D+xnS9cjl3kPyj004daCrM/DhgiDinQ6D+sJMeTKLjXP6lwPLSxAOs/0GuK5VVhrD9Z6/W0PWDrP+CU7S9ki80/MRchsPqq6j8LGL34UKHjP/SL4ThYJeg/KYQnOGeD5T9QawHmF1TDPwAk4hWgnXQ/EOoehiOGwD/K9z8lmIXoP5jd9ei8+Ns/6X2uVzFa5z+EfI1OnJnpP6fduO1CnuA/40I09Id26T+j3X0BHwXmP+CEG1I8EcM/hldDcWg+3D+wR5RkcGLUP66ZBnx8XtQ//AWMD5wa6j8olTPZTzzePyZNqtxNmOQ/KHWU+AFQ1j9cpokk5TrFPwAfeCuVFW4/HVwAMgUn5j8=\",\"dtype\":\"float64\",\"shape\":[100]}},\"selected\":{\"id\":\"0bb23c4f-8ba1-4ff9-ab4b-b5871f9036d1\",\"type\":\"Selection\"},\"selection_policy\":{\"id\":\"358dd848-95a4-4dd8-9df0-c22b5b8d4c67\",\"type\":\"UnionRenderers\"}},\"id\":\"2b1f3b9e-5f26-4a2d-87d6-875fa1b7b8fb\",\"type\":\"ColumnDataSource\"},{\"attributes\":{\"data_source\":{\"id\":\"36c6bbf0-ed34-4ed3-9542-cd028fe818ee\",\"type\":\"ColumnDataSource\"},\"glyph\":{\"id\":\"290e8331-940e-4373-b751-44b2931c64c9\",\"type\":\"Square\"},\"hover_glyph\":null,\"muted_glyph\":null,\"nonselection_glyph\":{\"id\":\"2974621e-3d62-4ec9-b22c-b475300cdba2\",\"type\":\"Square\"},\"selection_glyph\":null,\"view\":{\"id\":\"27b7bb58-8eb5-403c-a6c0-0cc60fb391e1\",\"type\":\"CDSView\"}},\"id\":\"e0c0f3cf-acfc-45c6-be9e-d105efd8b509\",\"type\":\"GlyphRenderer\"},{\"attributes\":{},\"id\":\"31f2befc-d459-436f-aa54-b0b7f83e82a5\",\"type\":\"ResetTool\"},{\"attributes\":{\"fill_alpha\":{\"value\":0.1},\"fill_color\":{\"value\":\"#1f77b4\"},\"line_alpha\":{\"value\":0.1},\"line_color\":{\"value\":\"#1f77b4\"},\"size\":{\"units\":\"screen\",\"value\":15},\"x\":{\"field\":\"x\"},\"y\":{\"field\":\"y\"}},\"id\":\"2974621e-3d62-4ec9-b22c-b475300cdba2\",\"type\":\"Square\"},{\"attributes\":{\"source\":{\"id\":\"2b1f3b9e-5f26-4a2d-87d6-875fa1b7b8fb\",\"type\":\"ColumnDataSource\"}},\"id\":\"6ffb6c50-f10e-49e9-8af9-1753538e041e\",\"type\":\"CDSView\"},{\"attributes\":{\"data_source\":{\"id\":\"2b1f3b9e-5f26-4a2d-87d6-875fa1b7b8fb\",\"type\":\"ColumnDataSource\"},\"glyph\":{\"id\":\"fa90ed70-1b38-4773-bdbb-b59324946081\",\"type\":\"Circle\"},\"hover_glyph\":null,\"muted_glyph\":null,\"nonselection_glyph\":{\"id\":\"6d4840f7-bda6-4a16-bcd6-d26a39971657\",\"type\":\"Circle\"},\"selection_glyph\":null,\"view\":{\"id\":\"6ffb6c50-f10e-49e9-8af9-1753538e041e\",\"type\":\"CDSView\"}},\"id\":\"b0c3c6e4-5499-4242-b8f6-db40b5168425\",\"type\":\"GlyphRenderer\"},{\"attributes\":{\"overlay\":{\"id\":\"a9f04db3-724e-4ab4-b28b-d55ecea3b758\",\"type\":\"BoxAnnotation\"}},\"id\":\"0a480af3-4e4b-41e5-b826-2732ba78a0ba\",\"type\":\"BoxZoomTool\"},{\"attributes\":{\"plot\":null,\"text\":\"Bokeh Markers\"},\"id\":\"435befdc-56f3-4e54-a586-5b21f826a08a\",\"type\":\"Title\"},{\"attributes\":{},\"id\":\"86f1aabe-a7eb-4b32-94a7-e646669fb2f5\",\"type\":\"HelpTool\"},{\"attributes\":{\"fill_alpha\":{\"value\":0.5},\"fill_color\":{\"value\":\"orange\"},\"line_alpha\":{\"value\":0.5},\"line_color\":{\"value\":\"navy\"},\"size\":{\"units\":\"screen\",\"value\":15},\"x\":{\"field\":\"x\"},\"y\":{\"field\":\"y\"}},\"id\":\"290e8331-940e-4373-b751-44b2931c64c9\",\"type\":\"Square\"},{\"attributes\":{\"active_drag\":\"auto\",\"active_inspect\":\"auto\",\"active_multi\":null,\"active_scroll\":\"auto\",\"active_tap\":\"auto\",\"tools\":[{\"id\":\"4a68ba83-016b-4934-a14b-558c5539769f\",\"type\":\"PanTool\"},{\"id\":\"e48326b4-bd83-41d7-a7ad-c57aa1928a25\",\"type\":\"WheelZoomTool\"},{\"id\":\"0a480af3-4e4b-41e5-b826-2732ba78a0ba\",\"type\":\"BoxZoomTool\"},{\"id\":\"41820fb6-1cb8-4d12-b90a-c8aee013816c\",\"type\":\"SaveTool\"},{\"id\":\"31f2befc-d459-436f-aa54-b0b7f83e82a5\",\"type\":\"ResetTool\"},{\"id\":\"86f1aabe-a7eb-4b32-94a7-e646669fb2f5\",\"type\":\"HelpTool\"}]},\"id\":\"98968c20-3171-414e-a04b-82af719ce93a\",\"type\":\"Toolbar\"},{\"attributes\":{},\"id\":\"b1437355-a561-4c48-99ec-6d576da6c18d\",\"type\":\"BasicTickFormatter\"},{\"attributes\":{\"callback\":null},\"id\":\"1dcb1a77-8255-4cad-a5fd-b39332c833ec\",\"type\":\"DataRange1d\"}],\"root_ids\":[\"4f04f78e-f488-4e92-b7ed-ec01fc456b22\"]},\"title\":\"Bokeh Application\",\"version\":\"0.13.0\"}};\n",
       "  var render_items = [{\"docid\":\"e526a552-fe0a-49cc-bdbf-b8bacbef3c4f\",\"roots\":{\"4f04f78e-f488-4e92-b7ed-ec01fc456b22\":\"637b0b9e-e4a6-4550-ab88-6cf36d434952\"}}];\n",
       "  root.Bokeh.embed.embed_items_notebook(docs_json, render_items);\n",
       "\n",
       "  }\n",
       "  if (root.Bokeh !== undefined) {\n",
       "    embed_document(root);\n",
       "  } else {\n",
       "    var attempts = 0;\n",
       "    var timer = setInterval(function(root) {\n",
       "      if (root.Bokeh !== undefined) {\n",
       "        embed_document(root);\n",
       "        clearInterval(timer);\n",
       "      }\n",
       "      attempts++;\n",
       "      if (attempts > 100) {\n",
       "        console.log(\"Bokeh: ERROR: Unable to run BokehJS code because BokehJS library is missing\")\n",
       "        clearInterval(timer);\n",
       "      }\n",
       "    }, 10, root)\n",
       "  }\n",
       "})(window);"
      ],
      "application/vnd.bokehjs_exec.v0+json": ""
     },
     "metadata": {
      "application/vnd.bokehjs_exec.v0+json": {
       "id": "4f04f78e-f488-4e92-b7ed-ec01fc456b22"
      }
     },
     "output_type": "display_data"
    }
   ],
   "source": [
    "# For random points\n",
    "import numpy as np\n",
    "\n",
    "# Plotting using Bokeh\n",
    "from bokeh.plotting import figure, show, output_notebook\n",
    "\n",
    "# Show in notebook.\n",
    "output_notebook()\n",
    "\n",
    "# Build a figure\n",
    "p = figure(title=\"Bokeh Markers\", toolbar_location=None)\n",
    "p.grid.grid_line_color = None\n",
    "p.background_fill_color = \"#eeeeee\"\n",
    "\n",
    "def mscatter(p, x, y, marker, fill):\n",
    "    p.scatter(x, y, marker=marker, size=15,\n",
    "              line_color=\"navy\", fill_color=fill, alpha=0.5)\n",
    "\n",
    "# Number of datapoints\n",
    "N = 100\n",
    "\n",
    "# First cluster\n",
    "X1 = np.random.random(100)\n",
    "Y1 = np.random.random(100)\n",
    "\n",
    "# Second Cluster\n",
    "X2 = np.random.random(100) - 1/2\n",
    "Y2 = np.random.random(100) + 1/2\n",
    "    \n",
    "# Throw in clusters\n",
    "mscatter(p, X1, Y1, \"circle\", \"blue\")\n",
    "mscatter(p, X2, Y2, \"square\", \"orange\")\n",
    "\n",
    "# # A line separating them\n",
    "# X = np.linspace(-2,2,100)\n",
    "# Y = 2*X**2\n",
    "# p.line(X,Y, line_color='red')\n",
    "show(p)"
   ]
  },
  {
   "cell_type": "markdown",
   "metadata": {},
   "source": [
    "Let's go ahead and build a classification model."
   ]
  },
  {
   "cell_type": "code",
   "execution_count": 3,
   "metadata": {},
   "outputs": [
    {
     "name": "stderr",
     "output_type": "stream",
     "text": [
      "/home/muveexu/anaconda3/lib/python3.6/site-packages/sklearn/linear_model/logistic.py:432: FutureWarning: Default solver will be changed to 'lbfgs' in 0.22. Specify a solver to silence this warning.\n",
      "  FutureWarning)\n"
     ]
    },
    {
     "data": {
      "text/plain": [
       "LogisticRegression(C=1.0, class_weight=None, dual=False, fit_intercept=True,\n",
       "          intercept_scaling=1, max_iter=100, multi_class='warn',\n",
       "          n_jobs=None, penalty='l2', random_state=None, solver='warn',\n",
       "          tol=0.0001, verbose=0, warm_start=False)"
      ]
     },
     "execution_count": 3,
     "metadata": {},
     "output_type": "execute_result"
    }
   ],
   "source": [
    "# This is just ML magic\n",
    "from sklearn import linear_model\n",
    "\n",
    "# Create a logistic regression object\n",
    "logreg = linear_model.LogisticRegression()\n",
    "\n",
    "# Combine all data\n",
    "X = np.append(X1,X2) # X-coords mashed together\n",
    "Y = np.append(Y1,Y2) # Y-coords mashed together\n",
    "features = np.array([X,Y]).transpose() # All data in an array, transposed for the right shape\n",
    "\n",
    "# Create labels\n",
    "T = 100*[1] + 100*[0] # Label ordering is important\n",
    "\n",
    "# Train the model\n",
    "logreg.fit(features,T)"
   ]
  },
  {
   "cell_type": "markdown",
   "metadata": {},
   "source": [
    "Now we must grab the predicted probabilities. Let's do it on new data."
   ]
  },
  {
   "cell_type": "code",
   "execution_count": 4,
   "metadata": {},
   "outputs": [
    {
     "data": {
      "text/plain": [
       "((200, 2), 200)"
      ]
     },
     "execution_count": 4,
     "metadata": {},
     "output_type": "execute_result"
    }
   ],
   "source": [
    "features.shape, len(T)"
   ]
  },
  {
   "cell_type": "code",
   "execution_count": 5,
   "metadata": {},
   "outputs": [],
   "source": [
    "# First cluster\n",
    "X1 = np.random.random(100)\n",
    "Y1 = np.random.random(100)\n",
    "\n",
    "# Second Cluster\n",
    "X2 = np.random.random(100) - 1/2\n",
    "Y2 = np.random.random(100) + 1/2\n",
    "\n",
    "# Combining data\n",
    "X = np.append(X1,X2)\n",
    "Y = np.append(Y1,Y2)\n",
    "features = np.array([X,Y]).transpose()\n",
    "\n",
    "# (Leave labels as before)\n",
    "\n",
    "# Run the model on our new data...\n",
    "\n",
    "# Mini-Exercise:\n",
    "\n",
    "# We are predicting probabilities.\n",
    "# Search LogisticRegression documentation on\n",
    "# the Sklearn page to see how a prediction is made.\n",
    "\n",
    "pred = logreg.predict_proba(features)\n",
    "\n",
    "# This function computes the p-r values for us\n",
    "from sklearn.metrics import precision_recall_curve\n",
    "\n",
    "precision, recall, thresholds = precision_recall_curve(T,pred[:,1])"
   ]
  },
  {
   "cell_type": "markdown",
   "metadata": {},
   "source": [
    "*Precision-Recall Curve*\n",
    "\n",
    "Now, let's look at a precision-recall curve for our classifier."
   ]
  },
  {
   "cell_type": "code",
   "execution_count": 6,
   "metadata": {},
   "outputs": [
    {
     "data": {
      "text/html": [
       "\n",
       "\n",
       "\n",
       "\n",
       "\n",
       "\n",
       "  <div class=\"bk-root\" id=\"e9ded2c2-51b9-4321-8537-c8937698e417\"></div>\n"
      ]
     },
     "metadata": {},
     "output_type": "display_data"
    },
    {
     "data": {
      "application/javascript": [
       "(function(root) {\n",
       "  function embed_document(root) {\n",
       "    \n",
       "  var docs_json = {\"2b638f2d-34c0-4b47-b631-466731b0fc9e\":{\"roots\":{\"references\":[{\"attributes\":{},\"id\":\"f36fcbfc-5fb5-4318-b203-672f4b8df281\",\"type\":\"BasicTicker\"},{\"attributes\":{\"plot\":{\"id\":\"2e197221-d992-41df-aa96-aa9cb1c0b53c\",\"subtype\":\"Figure\",\"type\":\"Plot\"},\"ticker\":{\"id\":\"c31bb6ab-cc87-48dd-93fe-19e4f1b4a8ac\",\"type\":\"BasicTicker\"}},\"id\":\"945f63d8-9034-4d73-857e-87dc12cd24a9\",\"type\":\"Grid\"},{\"attributes\":{\"line_alpha\":0.1,\"line_color\":\"#1f77b4\",\"x\":{\"field\":\"x\"},\"y\":{\"field\":\"y\"}},\"id\":\"d810ffe1-fcb8-4db0-a622-1fcb9d40c2fe\",\"type\":\"Line\"},{\"attributes\":{\"below\":[{\"id\":\"b8d3e18f-ba4c-4347-8830-9ee4b5d0e0ac\",\"type\":\"LinearAxis\"}],\"left\":[{\"id\":\"2e82dc1c-81f4-4547-9ecd-816356fc13ea\",\"type\":\"LinearAxis\"}],\"plot_height\":400,\"plot_width\":400,\"renderers\":[{\"id\":\"b8d3e18f-ba4c-4347-8830-9ee4b5d0e0ac\",\"type\":\"LinearAxis\"},{\"id\":\"945f63d8-9034-4d73-857e-87dc12cd24a9\",\"type\":\"Grid\"},{\"id\":\"2e82dc1c-81f4-4547-9ecd-816356fc13ea\",\"type\":\"LinearAxis\"},{\"id\":\"5db0c23b-f80d-4999-a81e-e1cdbced89fe\",\"type\":\"Grid\"},{\"id\":\"a857ab4c-84e7-4570-915f-4933ca0ccf98\",\"type\":\"BoxAnnotation\"},{\"id\":\"8c470346-7020-47e3-b9b0-417ad35d1832\",\"type\":\"GlyphRenderer\"}],\"title\":{\"id\":\"4b7c46a8-ca01-409b-a233-ae8beec09366\",\"type\":\"Title\"},\"toolbar\":{\"id\":\"34bd0e3d-6b5b-46bc-bce3-d2989dd35ba6\",\"type\":\"Toolbar\"},\"x_range\":{\"id\":\"52315e78-7d9d-452a-871f-7619019bbd54\",\"type\":\"DataRange1d\"},\"x_scale\":{\"id\":\"cf59f605-e1cc-47e7-8502-961caa3d5eb8\",\"type\":\"LinearScale\"},\"y_range\":{\"id\":\"128ccb0e-6ef6-4634-a7be-5066c1ee6180\",\"type\":\"DataRange1d\"},\"y_scale\":{\"id\":\"34b39542-f69d-4bb9-9bcd-c89342d86e9d\",\"type\":\"LinearScale\"}},\"id\":\"2e197221-d992-41df-aa96-aa9cb1c0b53c\",\"subtype\":\"Figure\",\"type\":\"Plot\"},{\"attributes\":{},\"id\":\"a47db724-69a0-4e75-b1fb-8f46bff5a71e\",\"type\":\"BasicTickFormatter\"},{\"attributes\":{\"plot\":null,\"text\":\"\"},\"id\":\"4b7c46a8-ca01-409b-a233-ae8beec09366\",\"type\":\"Title\"},{\"attributes\":{\"callback\":null,\"data\":{\"x\":{\"__ndarray__\":\"AAAAAAAA8D+uR+F6FK7vP65H4XoUru8/rkfhehSu7z+uR+F6FK7vP65H4XoUru8/rkfhehSu7z+uR+F6FK7vP1yPwvUoXO8/XI/C9Shc7z9cj8L1KFzvP1yPwvUoXO8/CtejcD0K7z+4HoXrUbjuP7gehetRuO4/uB6F61G47j9mZmZmZmbuP2ZmZmZmZu4/ZmZmZmZm7j8UrkfhehTuP8P1KFyPwu0/w/UoXI/C7T9xPQrXo3DtPx+F61G4Hu0/H4XrUbge7T8fhetRuB7tP83MzMzMzOw/exSuR+F67D8pXI/C9SjsPylcj8L1KOw/KVyPwvUo7D/Xo3A9CtfrP9ejcD0K1+s/16NwPQrX6z/Xo3A9CtfrP4XrUbgehes/MzMzMzMz6z/hehSuR+HqP+F6FK5H4eo/j8L1KFyP6j89CtejcD3qP+xRuB6F6+k/mpmZmZmZ6T9I4XoUrkfpP/YoXI/C9eg/pHA9Ctej6D9SuB6F61HoPwAAAAAAAOg/rkfhehSu5z+uR+F6FK7nP1yPwvUoXOc/CtejcD0K5z+4HoXrUbjmP7gehetRuOY/ZmZmZmZm5j8UrkfhehTmP8P1KFyPwuU/cT0K16Nw5T8fhetRuB7lPx+F61G4HuU/zczMzMzM5D97FK5H4XrkPylcj8L1KOQ/16NwPQrX4z/Xo3A9CtfjP4XrUbgeheM/MzMzMzMz4z/hehSuR+HiP4/C9Shcj+I/PQrXo3A94j/sUbgehevhP+xRuB6F6+E/mpmZmZmZ4T9I4XoUrkfhP/YoXI/C9eA/pHA9Ctej4D9SuB6F61HgPwAAAAAAAOA/XI/C9Shc3z+4HoXrUbjePxSuR+F6FN4/cT0K16Nw3T/NzMzMzMzcPylcj8L1KNw/hetRuB6F2z/hehSuR+HaPz0K16NwPdo/mpmZmZmZ2T/2KFyPwvXYP1K4HoXrUdg/rkfhehSu1z8K16NwPQrXP2ZmZmZmZtY/w/UoXI/C1T8fhetRuB7VP3sUrkfhetQ/16NwPQrX0z8zMzMzMzPTP4/C9Shcj9I/7FG4HoXr0T9I4XoUrkfRP6RwPQrXo9A/AAAAAAAA0D+4HoXrUbjOP3E9CtejcM0/KVyPwvUozD/hehSuR+HKP5qZmZmZmck/UrgehetRyD8K16NwPQrHP8P1KFyPwsU/exSuR+F6xD8zMzMzMzPDP+xRuB6F68E/pHA9CtejwD+4HoXrUbi+Pylcj8L1KLw/mpmZmZmZuT8K16NwPQq3P3sUrkfherQ/7FG4HoXrsT+4HoXrUbiuP5qZmZmZmak/exSuR+F6pD+4HoXrUbieP3sUrkfhepQ/exSuR+F6hD8AAAAAAAAAAA==\",\"dtype\":\"float64\",\"shape\":[128]},\"y\":{\"__ndarray__\":\"TSaTyWQy6T9JkiRJkiTpP/LSTWIQWOk/jDHGGGOM6T/C+Ricj8HpP5MhWEeb9+k/L7rooosu6j9mZmZmZmbqP1paWlpaWuo/zGMrgoaT6j/brM3arM3qPz6NsNzTCOs/sEsqH8b96j8or6G8hvLqPzT5skGTL+s/27Zt27Zt6z8ztt/RK2PrP6OLLrroous/Pb4LB9Hj6z+hvYT2EtrrP1aUxkcm0Os/eSv7HFIT7D+cwAmcwAnsPwAAAAAAAOw/UCCVnJdF7D+NjIyMjIzsP4kCk07Ng+w/exSuR+F67D8cx3Ecx3HsPy+n4OUUvOw/HRX44uoH7T8AAAAAAADtP+LU77klTu0/Nuo7G/Wd7T/vvffee+/tP9/0pje96e0/Pt7jPd7j7T/e3d3d3d3tP+MZz3jGM+4/L7rooosu7j8gk+IFMinuP4k74o64I+4/Hh4eHh4e7j+GYRiGYRjuP/eQy4qBEu4/DM7H4HwM7j+6NT8sUgbuPwAAAAAAAO4/87ta3IT57T++5Vu+5VvuP8RZ+QlxVu4/DeU1lNdQ7j9LfrHkF0vuPz7rBlPks+4/9erVq1ev7j+rqqqqqqruP7vUk/Hbpe4/D+qgDuqg7j/qTW9605vuPw8PDw8PD+8/RXqgcnYL7z8IH3zwwQfvPz/wAz/wA+8/AAAAAAAA7z/f933f933vP3zvvffee+8/LhmCdbR57z93d3d3d3fvP8hWBA0nde8/Iyz3NMJy7z8E9xHcR3DvPwAAAAAAAPA/AAAAAAAA8D8AAAAAAADwPwAAAAAAAPA/AAAAAAAA8D8AAAAAAADwPwAAAAAAAPA/AAAAAAAA8D8AAAAAAADwPwAAAAAAAPA/AAAAAAAA8D8AAAAAAADwPwAAAAAAAPA/AAAAAAAA8D8AAAAAAADwPwAAAAAAAPA/AAAAAAAA8D8AAAAAAADwPwAAAAAAAPA/AAAAAAAA8D8AAAAAAADwPwAAAAAAAPA/AAAAAAAA8D8AAAAAAADwPwAAAAAAAPA/AAAAAAAA8D8AAAAAAADwPwAAAAAAAPA/AAAAAAAA8D8AAAAAAADwPwAAAAAAAPA/AAAAAAAA8D8AAAAAAADwPwAAAAAAAPA/AAAAAAAA8D8AAAAAAADwPwAAAAAAAPA/AAAAAAAA8D8AAAAAAADwPwAAAAAAAPA/AAAAAAAA8D8AAAAAAADwPwAAAAAAAPA/AAAAAAAA8D8AAAAAAADwPwAAAAAAAPA/AAAAAAAA8D8AAAAAAADwPwAAAAAAAPA/AAAAAAAA8D8AAAAAAADwPwAAAAAAAPA/AAAAAAAA8D8AAAAAAADwPwAAAAAAAPA/AAAAAAAA8D8AAAAAAADwPw==\",\"dtype\":\"float64\",\"shape\":[128]}},\"selected\":{\"id\":\"cab84a61-bbaa-4118-9f3b-4f714d20e9fb\",\"type\":\"Selection\"},\"selection_policy\":{\"id\":\"3162ee27-8d39-4d3d-94bc-edbf914c01e8\",\"type\":\"UnionRenderers\"}},\"id\":\"646c3c7c-4713-4ebc-adda-b9553e266503\",\"type\":\"ColumnDataSource\"},{\"attributes\":{},\"id\":\"cab84a61-bbaa-4118-9f3b-4f714d20e9fb\",\"type\":\"Selection\"},{\"attributes\":{\"data_source\":{\"id\":\"646c3c7c-4713-4ebc-adda-b9553e266503\",\"type\":\"ColumnDataSource\"},\"glyph\":{\"id\":\"7e8b783e-0e4d-4f1a-b3f1-7719ae1de7ff\",\"type\":\"Line\"},\"hover_glyph\":null,\"muted_glyph\":null,\"nonselection_glyph\":{\"id\":\"d810ffe1-fcb8-4db0-a622-1fcb9d40c2fe\",\"type\":\"Line\"},\"selection_glyph\":null,\"view\":{\"id\":\"6af4b3be-b964-484e-aafb-7c91293c2634\",\"type\":\"CDSView\"}},\"id\":\"8c470346-7020-47e3-b9b0-417ad35d1832\",\"type\":\"GlyphRenderer\"},{\"attributes\":{\"active_drag\":\"auto\",\"active_inspect\":\"auto\",\"active_multi\":null,\"active_scroll\":\"auto\",\"active_tap\":\"auto\",\"tools\":[{\"id\":\"541aad75-3e98-4397-87f1-7380f7fff10c\",\"type\":\"PanTool\"},{\"id\":\"40c3219e-d851-4b03-b8be-7f9cb5699154\",\"type\":\"WheelZoomTool\"},{\"id\":\"120dcb35-6aee-4b23-adbd-8d811da10223\",\"type\":\"BoxZoomTool\"},{\"id\":\"3fae298e-c2b1-4cd2-a312-005569310e36\",\"type\":\"SaveTool\"},{\"id\":\"e032dafb-1610-432c-8fa3-e3c60b263a30\",\"type\":\"ResetTool\"},{\"id\":\"3ef1fbb2-b79b-4f21-951f-6857e2b6f6ef\",\"type\":\"HelpTool\"}]},\"id\":\"34bd0e3d-6b5b-46bc-bce3-d2989dd35ba6\",\"type\":\"Toolbar\"},{\"attributes\":{\"formatter\":{\"id\":\"0cc54205-0f54-43ce-8873-f6955beec0cc\",\"type\":\"BasicTickFormatter\"},\"plot\":{\"id\":\"2e197221-d992-41df-aa96-aa9cb1c0b53c\",\"subtype\":\"Figure\",\"type\":\"Plot\"},\"ticker\":{\"id\":\"c31bb6ab-cc87-48dd-93fe-19e4f1b4a8ac\",\"type\":\"BasicTicker\"}},\"id\":\"b8d3e18f-ba4c-4347-8830-9ee4b5d0e0ac\",\"type\":\"LinearAxis\"},{\"attributes\":{\"callback\":null},\"id\":\"52315e78-7d9d-452a-871f-7619019bbd54\",\"type\":\"DataRange1d\"},{\"attributes\":{\"bottom_units\":\"screen\",\"fill_alpha\":{\"value\":0.5},\"fill_color\":{\"value\":\"lightgrey\"},\"left_units\":\"screen\",\"level\":\"overlay\",\"line_alpha\":{\"value\":1.0},\"line_color\":{\"value\":\"black\"},\"line_dash\":[4,4],\"line_width\":{\"value\":2},\"plot\":null,\"render_mode\":\"css\",\"right_units\":\"screen\",\"top_units\":\"screen\"},\"id\":\"a857ab4c-84e7-4570-915f-4933ca0ccf98\",\"type\":\"BoxAnnotation\"},{\"attributes\":{},\"id\":\"34b39542-f69d-4bb9-9bcd-c89342d86e9d\",\"type\":\"LinearScale\"},{\"attributes\":{},\"id\":\"0cc54205-0f54-43ce-8873-f6955beec0cc\",\"type\":\"BasicTickFormatter\"},{\"attributes\":{\"overlay\":{\"id\":\"a857ab4c-84e7-4570-915f-4933ca0ccf98\",\"type\":\"BoxAnnotation\"}},\"id\":\"120dcb35-6aee-4b23-adbd-8d811da10223\",\"type\":\"BoxZoomTool\"},{\"attributes\":{},\"id\":\"541aad75-3e98-4397-87f1-7380f7fff10c\",\"type\":\"PanTool\"},{\"attributes\":{\"line_color\":\"#1f77b4\",\"x\":{\"field\":\"x\"},\"y\":{\"field\":\"y\"}},\"id\":\"7e8b783e-0e4d-4f1a-b3f1-7719ae1de7ff\",\"type\":\"Line\"},{\"attributes\":{\"source\":{\"id\":\"646c3c7c-4713-4ebc-adda-b9553e266503\",\"type\":\"ColumnDataSource\"}},\"id\":\"6af4b3be-b964-484e-aafb-7c91293c2634\",\"type\":\"CDSView\"},{\"attributes\":{\"callback\":null},\"id\":\"128ccb0e-6ef6-4634-a7be-5066c1ee6180\",\"type\":\"DataRange1d\"},{\"attributes\":{},\"id\":\"cf59f605-e1cc-47e7-8502-961caa3d5eb8\",\"type\":\"LinearScale\"},{\"attributes\":{},\"id\":\"40c3219e-d851-4b03-b8be-7f9cb5699154\",\"type\":\"WheelZoomTool\"},{\"attributes\":{},\"id\":\"c31bb6ab-cc87-48dd-93fe-19e4f1b4a8ac\",\"type\":\"BasicTicker\"},{\"attributes\":{},\"id\":\"e032dafb-1610-432c-8fa3-e3c60b263a30\",\"type\":\"ResetTool\"},{\"attributes\":{\"dimension\":1,\"plot\":{\"id\":\"2e197221-d992-41df-aa96-aa9cb1c0b53c\",\"subtype\":\"Figure\",\"type\":\"Plot\"},\"ticker\":{\"id\":\"f36fcbfc-5fb5-4318-b203-672f4b8df281\",\"type\":\"BasicTicker\"}},\"id\":\"5db0c23b-f80d-4999-a81e-e1cdbced89fe\",\"type\":\"Grid\"},{\"attributes\":{},\"id\":\"3ef1fbb2-b79b-4f21-951f-6857e2b6f6ef\",\"type\":\"HelpTool\"},{\"attributes\":{},\"id\":\"3fae298e-c2b1-4cd2-a312-005569310e36\",\"type\":\"SaveTool\"},{\"attributes\":{},\"id\":\"3162ee27-8d39-4d3d-94bc-edbf914c01e8\",\"type\":\"UnionRenderers\"},{\"attributes\":{\"formatter\":{\"id\":\"a47db724-69a0-4e75-b1fb-8f46bff5a71e\",\"type\":\"BasicTickFormatter\"},\"plot\":{\"id\":\"2e197221-d992-41df-aa96-aa9cb1c0b53c\",\"subtype\":\"Figure\",\"type\":\"Plot\"},\"ticker\":{\"id\":\"f36fcbfc-5fb5-4318-b203-672f4b8df281\",\"type\":\"BasicTicker\"}},\"id\":\"2e82dc1c-81f4-4547-9ecd-816356fc13ea\",\"type\":\"LinearAxis\"}],\"root_ids\":[\"2e197221-d992-41df-aa96-aa9cb1c0b53c\"]},\"title\":\"Bokeh Application\",\"version\":\"0.13.0\"}};\n",
       "  var render_items = [{\"docid\":\"2b638f2d-34c0-4b47-b631-466731b0fc9e\",\"roots\":{\"2e197221-d992-41df-aa96-aa9cb1c0b53c\":\"e9ded2c2-51b9-4321-8537-c8937698e417\"}}];\n",
       "  root.Bokeh.embed.embed_items_notebook(docs_json, render_items);\n",
       "\n",
       "  }\n",
       "  if (root.Bokeh !== undefined) {\n",
       "    embed_document(root);\n",
       "  } else {\n",
       "    var attempts = 0;\n",
       "    var timer = setInterval(function(root) {\n",
       "      if (root.Bokeh !== undefined) {\n",
       "        embed_document(root);\n",
       "        clearInterval(timer);\n",
       "      }\n",
       "      attempts++;\n",
       "      if (attempts > 100) {\n",
       "        console.log(\"Bokeh: ERROR: Unable to run BokehJS code because BokehJS library is missing\")\n",
       "        clearInterval(timer);\n",
       "      }\n",
       "    }, 10, root)\n",
       "  }\n",
       "})(window);"
      ],
      "application/vnd.bokehjs_exec.v0+json": ""
     },
     "metadata": {
      "application/vnd.bokehjs_exec.v0+json": {
       "id": "2e197221-d992-41df-aa96-aa9cb1c0b53c"
      }
     },
     "output_type": "display_data"
    }
   ],
   "source": [
    "p1 = figure(plot_width=400, plot_height=400)\n",
    "p1.line(recall,precision)\n",
    "show(p1)"
   ]
  },
  {
   "cell_type": "code",
   "execution_count": 7,
   "metadata": {},
   "outputs": [
    {
     "data": {
      "text/plain": [
       "array([0.43040771, 0.98603301, 0.91520597, 0.69686225, 0.37053752,\n",
       "       0.81990281, 0.88519692, 0.80923744, 0.48957474, 0.97213997,\n",
       "       0.96231493, 0.94394524, 0.95786128, 0.94451945, 0.64696752,\n",
       "       0.64026358, 0.88900843, 0.9787755 , 0.98034312, 0.96430476,\n",
       "       0.75562547, 0.92195873, 0.76436733, 0.74847164, 0.7258972 ,\n",
       "       0.69470476, 0.98696644, 0.98391376, 0.97912577, 0.9175177 ,\n",
       "       0.81415595, 0.96404548, 0.76569041, 0.93234831, 0.69567804,\n",
       "       0.93231834, 0.84240346, 0.97608316, 0.85992926, 0.78492907,\n",
       "       0.9633713 , 0.67599764, 0.63555657, 0.93187488, 0.8722605 ,\n",
       "       0.65911525, 0.81429253, 0.64362777, 0.90955459, 0.92927654,\n",
       "       0.7276814 , 0.76213399, 0.9680879 , 0.87772652, 0.74507345,\n",
       "       0.74863925, 0.7517738 , 0.90287763, 0.96295725, 0.66541689,\n",
       "       0.91272384, 0.36662146, 0.88635805, 0.64952458, 0.89970186,\n",
       "       0.50256112, 0.85465301, 0.9684464 , 0.85391187, 0.92341937,\n",
       "       0.98907133, 0.94523652, 0.9302732 , 0.43345605, 0.85926484,\n",
       "       0.9857807 , 0.50594185, 0.2478825 , 0.85467243, 0.88263139,\n",
       "       0.97242304, 0.9013927 , 0.94732968, 0.98592932, 0.45912568,\n",
       "       0.87461061, 0.948153  , 0.31404123, 0.67250192, 0.8747452 ,\n",
       "       0.95785069, 0.70766014, 0.5406318 , 0.82797611, 0.97761301,\n",
       "       0.65311866, 0.45366546, 0.86445695, 0.81808302, 0.38579342,\n",
       "       0.12949839, 0.18712118, 0.01659331, 0.02088433, 0.17299268,\n",
       "       0.05101347, 0.39131215, 0.02061303, 0.26960689, 0.02630894,\n",
       "       0.16448929, 0.20013183, 0.15918116, 0.01067498, 0.31362193,\n",
       "       0.142609  , 0.02681691, 0.83358889, 0.11336451, 0.1039938 ,\n",
       "       0.05435563, 0.06612309, 0.02134614, 0.31919994, 0.40539868,\n",
       "       0.46005331, 0.0101515 , 0.12503664, 0.55406957, 0.05257993,\n",
       "       0.07169527, 0.12424136, 0.10181685, 0.11572248, 0.01822494,\n",
       "       0.29688036, 0.01311999, 0.17956438, 0.53748984, 0.37561027,\n",
       "       0.07337105, 0.24034815, 0.25493425, 0.26824849, 0.47050455,\n",
       "       0.15960689, 0.16415773, 0.14767314, 0.76152968, 0.14491904,\n",
       "       0.03129662, 0.0814546 , 0.22908373, 0.09355517, 0.08995495,\n",
       "       0.07245093, 0.79450048, 0.0364847 , 0.36297891, 0.06489878,\n",
       "       0.15826373, 0.02175117, 0.74305231, 0.01794453, 0.12405323,\n",
       "       0.05112472, 0.69897071, 0.03549378, 0.10427226, 0.14750068,\n",
       "       0.37288233, 0.01906514, 0.01963266, 0.51139379, 0.15493883,\n",
       "       0.2025915 , 0.09332384, 0.14362956, 0.05689689, 0.20305225,\n",
       "       0.02327058, 0.35383884, 0.12706563, 0.31353586, 0.14055574,\n",
       "       0.03257562, 0.10575853, 0.04500311, 0.12340907, 0.22945313,\n",
       "       0.06723444, 0.02499219, 0.15633712, 0.57389025, 0.45317404,\n",
       "       0.64695331, 0.03843843, 0.61207125, 0.05133443, 0.06186392])"
      ]
     },
     "execution_count": 7,
     "metadata": {},
     "output_type": "execute_result"
    }
   ],
   "source": [
    "pred[:,1]"
   ]
  },
  {
   "cell_type": "markdown",
   "metadata": {},
   "source": [
    "The method `roc_curve` from `sklearn.metrics` provides the data for the [roc curve](https://en.wikipedia.org/wiki/Receiver_operating_characteristic)."
   ]
  },
  {
   "cell_type": "markdown",
   "metadata": {},
   "source": [
    "**Kernel Trick**\n",
    "\n",
    "Next, let's illustrate the so-called *kernel trick* in classification."
   ]
  },
  {
   "cell_type": "markdown",
   "metadata": {},
   "source": [
    "*SVM - Support Vector Machine*"
   ]
  },
  {
   "cell_type": "markdown",
   "metadata": {},
   "source": [
    "The SVM finds a *separating hyperplane*."
   ]
  },
  {
   "cell_type": "markdown",
   "metadata": {},
   "source": [
    "We want the hyperplane that gives the widest possible margin between the two classes. If the dataset is linearly separable, here's how that works: "
   ]
  },
  {
   "cell_type": "markdown",
   "metadata": {},
   "source": [
    "We want to compute two parallel hyperplanes:\n",
    "## $ H_0 = \\{ x \\mid \\color{blue}{w} \\cdot x + \\color{blue}{b} \\geq 1 \\} $\n",
    "## $ H_1 = \\{ x \\mid \\color{blue}{w} \\cdot x + \\color{blue}{b} \\leq -1 \\} $"
   ]
  },
  {
   "cell_type": "markdown",
   "metadata": {},
   "source": [
    "and we want them to be as far apart as possible subject to the constraint that all training examples lie in their union ($H_0 \\cup H_1$). This amounts to *minimizing* the norm $\\|w\\|$."
   ]
  },
  {
   "cell_type": "markdown",
   "metadata": {},
   "source": [
    "The *decision function* that actually gives our classifier is then given by, for example"
   ]
  },
  {
   "cell_type": "markdown",
   "metadata": {},
   "source": [
    "## $f_{\\color{blue}{w}}(x) = sign(\\color{blue}{w} \\cdot x + b)$"
   ]
  },
  {
   "cell_type": "markdown",
   "metadata": {},
   "source": [
    "*Linearly Inseparable*"
   ]
  },
  {
   "cell_type": "markdown",
   "metadata": {},
   "source": [
    "What if we can't separate the points? Or don't want to? We can introduce *slack variables* and use regularization to relax the strict separation condition (SVC does this). We can also map into a higher dimensional space where our dataset's image *is* strictly separable!"
   ]
  },
  {
   "cell_type": "code",
   "execution_count": 8,
   "metadata": {},
   "outputs": [
    {
     "data": {
      "text/html": [
       "\n",
       "\n",
       "\n",
       "\n",
       "\n",
       "\n",
       "  <div class=\"bk-root\" id=\"5594c5bc-2dab-4189-8745-a6e95537b21a\"></div>\n"
      ]
     },
     "metadata": {},
     "output_type": "display_data"
    },
    {
     "data": {
      "application/javascript": [
       "(function(root) {\n",
       "  function embed_document(root) {\n",
       "    \n",
       "  var docs_json = {\"db2bbbb8-ae26-47fe-a65a-3f41d3fd7624\":{\"roots\":{\"references\":[{\"attributes\":{\"dimension\":1,\"grid_line_color\":{\"value\":null},\"plot\":{\"id\":\"4f995454-bbd9-4885-ba00-c0219dcac464\",\"subtype\":\"Figure\",\"type\":\"Plot\"},\"ticker\":{\"id\":\"281bf58b-e003-4717-a0dd-896daf962a2d\",\"type\":\"BasicTicker\"}},\"id\":\"93258c57-b71e-4dd9-9618-f0eb37d6bef4\",\"type\":\"Grid\"},{\"attributes\":{\"fill_alpha\":{\"value\":0.1},\"fill_color\":{\"value\":\"#1f77b4\"},\"line_alpha\":{\"value\":0.1},\"line_color\":{\"value\":\"#1f77b4\"},\"size\":{\"units\":\"screen\",\"value\":15},\"x\":{\"field\":\"x\"},\"y\":{\"field\":\"y\"}},\"id\":\"effda84a-a20b-4a8a-aef3-f717d2ad268e\",\"type\":\"Circle\"},{\"attributes\":{\"callback\":null,\"data\":{\"x\":{\"__ndarray__\":\"AAAAAAAAAMAFav1KgVr/vwrU+pUCtf6/ED744IMP/r8VqPUrBWr9vxoS83aGxPy/H3zwwQcf/L8k5u0MiXn7vylQ61cK1Pq/Lrrooosu+r80JObtDIn5vzmO4ziO4/i/Pvjggw8++L9DYt7OkJj3v0jM2xkS8/a/TjbZZJNN9r9SoNavFKj1v1gK1PqVAvW/XXTRRRdd9L9i3s6QmLfzv2dIzNsZEvO/bLLJJpts8r9yHMdxHMfxv3aGxLydIfG/fPDBBx988L8CtX6lQK3vvwyJeTtDYu6/Fl100UUX7b8gMW9nSMzrvywFav1Kgeq/Ntlkk0026b9ArV8pUOvnv0qBWr9SoOa/VFVVVVVV5b9eKVDrVwrkv2j9SoFav+K/dNFFF1104b9+pUCtXyngvxDzdobEvN2/JJtssskm2784Q2LezpDYv0zrVwrU+tW/ZJNNNtlk0794O0Ni3s7QvxjHcRzHccy/QBdddNFFx79oZ0jM2xnCvyBvZ0jM27m/AB988MEHr79Av1Kg1q+Uv4C/UqDWr5Q/QB988MEHrz9Ab2dIzNu5P3BnSMzbGcI/UBdddNFFxz8gx3Ecx3HMP4A7Q2LeztA/aJNNNtlk0z9Q61cK1PrVP0BDYt7OkNg/KJtssskm2z8Y83aGxLzdP4ClQK1fKeA/eNFFF1104T9s/UqBWr/iP2ApUOtXCuQ/WFVVVVVV5T9MgVq/UqDmP0StXylQ6+c/ONlkk0026T8wBWr9SoHqPyQxb2dIzOs/GF100UUX7T8QiXk7Q2LuPwS1fqVAre8/fvDBBx988D94hsS8nSHxP3Icx3Ecx/E/brLJJpts8j9oSMzbGRLzP2TezpCYt/M/XnTRRRdd9D9aCtT6lQL1P1Sg1q8UqPU/TjbZZJNN9j9KzNsZEvP2P0Ri3s6QmPc/QPjggw8++D86juM4juP4PzYk5u0Mifk/MLrooosu+j8qUOtXCtT6Pybm7QyJefs/IHzwwQcf/D8cEvN2hsT8Pxao9SsFav0/ED744IMP/j8M1PqVArX+PwZq/UqBWv8/AAAAAAAAAEA=\",\"dtype\":\"float64\",\"shape\":[100]},\"y\":{\"__ndarray__\":\"F99U4oIRGUBJZlFr5gIXQJwgBLKqwRdAkWfsuyKHFkDnhIjMFpsVQIrH3SVgpBNAUFi37F7zEEDr/9ZPOUUPQGUYtozA8xBAtNoMcuAvC0Dr+nn/+/oOQIm1mx2mzgZAAz9UlOm2BUBSk1cetiQJQAW8jsyANgZAROspMBhZAkCKFRqSZKX7P26v/Qs2EQFArGqn3di0AUDiNwUxEz33PxCumWJWvPg/3Jpz0XhJ6T8kRTDj0+LyP1aherktVeM/NFTlVKWs5T+goCQliBKUvzh9162wutQ/1XrbOFXo4j8aT7ZgoznZP3CQEOOF4dm/bVv0vCQb57+40E8q0pDpvx48s/ynE9C/diqWdzV97b/KjToHrkPzv3q+oQeit96/FmwuFnGJ4r9ofdHr29nkvyKLYAJPFPK/ikkDKoFi+L8vCw6LuFHvv7IVGJeWIfe/9xCvrqnM+b+EF6EL/KLwv1YY9sbWRvu/w+eIJEiB8L9cdLIuxFPvvxRaF92oJPu/cHkeOam99r8AZILiCW33vynhCuWHZ/m/NCTg3lnb8782zm7SeLnwvxpU5ZnaM/u/o2S5VbtK9b8yHM9KtvvsvxkGiTbxP/S/P5Sh0NZA779egH1HCIDrv3mtNjv/Wu6/erxBx2RV879FOVBMYtPmv/oFmMuk0eu/UP/IFNwI8L+sG8/mrffrv1VrY0PZhua/uO0Rdltp1L8gEN+Wwje8vy9Z1HlW4OW/MJFZDHKav7+knCEFWDbRv2xo8ItgoMS/PIXi89sswj9taw/Hr2HhPx1j6bQpQOw/4Bx68eIL7z88JmMKOJ3rP0EVIcxXi/M/3etEg/2/5j8Kn8mzetf6Pzqy5UE4cfo/eLTrmBhk9D8Gp1d5fbL7P7p2LeKbPwVA8WNehu6LBkDg9dP/IskBQAlzuuFhRAdA9d5PpIfKCUCgSt/PMW0MQM8/2I95Zg9AM+ZXZoZvDUC094/8RZ4QQPYbluLuKhNA1W66O8zcEUCDy04g6MkUQFMgJfd5AhdA5yRW+6VKFUAuTESF3gAXQITb7nFRsRhAMbEVCuZsGUA=\",\"dtype\":\"float64\",\"shape\":[100]}},\"selected\":{\"id\":\"9671e1bd-e75a-479e-8f12-2f58c3fcb3fb\",\"type\":\"Selection\"},\"selection_policy\":{\"id\":\"0e1c084a-38e6-491b-ae29-d93dfcc0ada4\",\"type\":\"UnionRenderers\"}},\"id\":\"a6056916-db6c-414c-a7ce-f460bf568317\",\"type\":\"ColumnDataSource\"},{\"attributes\":{},\"id\":\"386c78db-2818-4b6e-bebc-1f36afbbe4e0\",\"type\":\"BasicTickFormatter\"},{\"attributes\":{\"bottom_units\":\"screen\",\"fill_alpha\":{\"value\":0.5},\"fill_color\":{\"value\":\"lightgrey\"},\"left_units\":\"screen\",\"level\":\"overlay\",\"line_alpha\":{\"value\":1.0},\"line_color\":{\"value\":\"black\"},\"line_dash\":[4,4],\"line_width\":{\"value\":2},\"plot\":null,\"render_mode\":\"css\",\"right_units\":\"screen\",\"top_units\":\"screen\"},\"id\":\"ac9cf308-cbd8-4385-98a5-c39ce56e44ab\",\"type\":\"BoxAnnotation\"},{\"attributes\":{},\"id\":\"cc499cff-2b2d-42d3-bdb5-af35c16795fa\",\"type\":\"PanTool\"},{\"attributes\":{\"source\":{\"id\":\"a6056916-db6c-414c-a7ce-f460bf568317\",\"type\":\"ColumnDataSource\"}},\"id\":\"db79f878-d1ee-4720-95c7-f88f28a24c75\",\"type\":\"CDSView\"},{\"attributes\":{},\"id\":\"52634116-356b-47a8-9dd4-fd1b696aedd9\",\"type\":\"WheelZoomTool\"},{\"attributes\":{\"overlay\":{\"id\":\"ac9cf308-cbd8-4385-98a5-c39ce56e44ab\",\"type\":\"BoxAnnotation\"}},\"id\":\"fdc83e06-13bb-40f9-ad18-ab36df1ea12c\",\"type\":\"BoxZoomTool\"},{\"attributes\":{},\"id\":\"d2e8c6d7-33c8-4f32-9a07-86ffc93b9325\",\"type\":\"SaveTool\"},{\"attributes\":{},\"id\":\"817c14ad-b68e-4686-abcd-6f59f6b72bc7\",\"type\":\"ResetTool\"},{\"attributes\":{},\"id\":\"8cc47f11-8229-4ff1-8351-a787435c7d35\",\"type\":\"HelpTool\"},{\"attributes\":{\"source\":{\"id\":\"13378cb8-f7fb-4c56-81de-aa8dfdc458fc\",\"type\":\"ColumnDataSource\"}},\"id\":\"9a1d0d7d-9f15-4489-90ec-7bd6f638c9eb\",\"type\":\"CDSView\"},{\"attributes\":{\"callback\":null,\"data\":{\"x\":{\"__ndarray__\":\"AAAAAAAAAMAFav1KgVr/vwrU+pUCtf6/ED744IMP/r8VqPUrBWr9vxoS83aGxPy/H3zwwQcf/L8k5u0MiXn7vylQ61cK1Pq/Lrrooosu+r80JObtDIn5vzmO4ziO4/i/Pvjggw8++L9DYt7OkJj3v0jM2xkS8/a/TjbZZJNN9r9SoNavFKj1v1gK1PqVAvW/XXTRRRdd9L9i3s6QmLfzv2dIzNsZEvO/bLLJJpts8r9yHMdxHMfxv3aGxLydIfG/fPDBBx988L8CtX6lQK3vvwyJeTtDYu6/Fl100UUX7b8gMW9nSMzrvywFav1Kgeq/Ntlkk0026b9ArV8pUOvnv0qBWr9SoOa/VFVVVVVV5b9eKVDrVwrkv2j9SoFav+K/dNFFF1104b9+pUCtXyngvxDzdobEvN2/JJtssskm2784Q2LezpDYv0zrVwrU+tW/ZJNNNtlk0794O0Ni3s7QvxjHcRzHccy/QBdddNFFx79oZ0jM2xnCvyBvZ0jM27m/AB988MEHr79Av1Kg1q+Uv4C/UqDWr5Q/QB988MEHrz9Ab2dIzNu5P3BnSMzbGcI/UBdddNFFxz8gx3Ecx3HMP4A7Q2LeztA/aJNNNtlk0z9Q61cK1PrVP0BDYt7OkNg/KJtssskm2z8Y83aGxLzdP4ClQK1fKeA/eNFFF1104T9s/UqBWr/iP2ApUOtXCuQ/WFVVVVVV5T9MgVq/UqDmP0StXylQ6+c/ONlkk0026T8wBWr9SoHqPyQxb2dIzOs/GF100UUX7T8QiXk7Q2LuPwS1fqVAre8/fvDBBx988D94hsS8nSHxP3Icx3Ecx/E/brLJJpts8j9oSMzbGRLzP2TezpCYt/M/XnTRRRdd9D9aCtT6lQL1P1Sg1q8UqPU/TjbZZJNN9j9KzNsZEvP2P0Ri3s6QmPc/QPjggw8++D86juM4juP4PzYk5u0Mifk/MLrooosu+j8qUOtXCtT6Pybm7QyJefs/IHzwwQcf/D8cEvN2hsT8Pxao9SsFav0/ED744IMP/j8M1PqVArX+PwZq/UqBWv8/AAAAAAAAAEA=\",\"dtype\":\"float64\",\"shape\":[100]},\"y\":{\"__ndarray__\":\"AAAAAAAAIEApNJt6WrgeQJAod75kdx1ANt2Tyx49HEAZUvGhiAkbQDmHj0Gi3BlAl3xuqmu2GEAzMo7c5JYXQA2o7tcNfhZAJd6PnOZrFUB81HEqb2AUQBCLlIGnWxNA4QH4oY9dEkDxOJyLJ2YRQD4wgT5vdRBAlM9Ndc0WD0AjvxoAHFANQDMvaR3KlgtAvB85zdfqCUDBkIoPRUwIQEGCXeQRuwZAPvSxSz43BUC45odFysADQKlZ39G1VwJAG0248AD8AEAMgiVEV1v/P9lq3ctr2fw/nlSYeD9y+j9bP1ZK0iX4PxIrF0Ek9PU/vhfbXDXd8z9gBaKdBeHxP/Xn1wYq/+8/GcdxHMdx7D8rqBF84hnpPy2LtyV89+U/IXBjGZQK4z8AVxVXKlPgP5t/mr19ots/FFUWYaMJ1z9sLp6YxdvSP0EXZMjIMc4/cNmjh/+Bxz9Qo/tuL6jBP9jp1vywSLk/h5zma/XssD9bvUxWWHqkPy7BWOpU5ZQ/RhZhowkXfj8k9wADJb9KP8n3AAMlv0o/whZhowkXfj9hwVjqVOWUP269TFZYeqQ/n5zma/XssD/n6db8sEi5P2Gj+24vqME/etmjh/+Bxz9MF2TIyDHOP3gunpjF29I/G1UWYaMJ1z+qf5q9faLbPwRXFVcqU+A/KnBjGZQK4z82i7clfPflPzCoEXziGek/JMdxHMdx7D/759cGKv/vP2YFop0F4fE/wRfbXDXd8z8ZKxdBJPT1P2I/VkrSJfg/olSYeD9y+j/hat3La9n8PxCCJURXW/8/H0248AD8AECuWd/RtVcCQLjmh0XKwANAQvSxSz43BUBEgl3kEbsGQMaQig9FTAhAvx85zdfqCUA4L2kdypYLQCi/GgAcUA1AlM9Ndc0WD0BBMIE+b3UQQPI4nIsnZhFA5AH4oY9dEkASi5SBp1sTQIDUcSpvYBRAKN6PnOZrFUAPqO7XDX4WQDcyjtzklhdAmXxuqmu2GEA9h49BotwZQBtS8aGICRtANt2Tyx49HECUKHe+ZHcdQCs0m3pauB5AAAAAAAAAIEA=\",\"dtype\":\"float64\",\"shape\":[100]}},\"selected\":{\"id\":\"ef512ac9-6e4e-42a8-b88b-51079583da67\",\"type\":\"Selection\"},\"selection_policy\":{\"id\":\"c7589284-8495-48f6-85a6-57fb88d236f8\",\"type\":\"UnionRenderers\"}},\"id\":\"25f14801-a3c3-470a-8337-982dcaae6e20\",\"type\":\"ColumnDataSource\"},{\"attributes\":{\"line_color\":\"red\",\"x\":{\"field\":\"x\"},\"y\":{\"field\":\"y\"}},\"id\":\"7faa43ec-4407-47e3-bf5a-e2117be2c952\",\"type\":\"Line\"},{\"attributes\":{\"line_alpha\":0.1,\"line_color\":\"#1f77b4\",\"x\":{\"field\":\"x\"},\"y\":{\"field\":\"y\"}},\"id\":\"c394e518-35a2-4a60-a685-60a37a1b7699\",\"type\":\"Line\"},{\"attributes\":{\"data_source\":{\"id\":\"25f14801-a3c3-470a-8337-982dcaae6e20\",\"type\":\"ColumnDataSource\"},\"glyph\":{\"id\":\"7faa43ec-4407-47e3-bf5a-e2117be2c952\",\"type\":\"Line\"},\"hover_glyph\":null,\"muted_glyph\":null,\"nonselection_glyph\":{\"id\":\"c394e518-35a2-4a60-a685-60a37a1b7699\",\"type\":\"Line\"},\"selection_glyph\":null,\"view\":{\"id\":\"60b594bb-50fa-45a9-b17f-fd7ee274204a\",\"type\":\"CDSView\"}},\"id\":\"39e762af-2423-4fcf-bcf3-d8a99845193e\",\"type\":\"GlyphRenderer\"},{\"attributes\":{\"source\":{\"id\":\"25f14801-a3c3-470a-8337-982dcaae6e20\",\"type\":\"ColumnDataSource\"}},\"id\":\"60b594bb-50fa-45a9-b17f-fd7ee274204a\",\"type\":\"CDSView\"},{\"attributes\":{\"callback\":null,\"data\":{\"x\":{\"__ndarray__\":\"cLJwwPHM0r8gBmvHXwOqvziwboWYzbm/iKIZecM51T8UQbdacSXZvzBWNkK8Hre/wGyD5TZE2D9ePW5Qfofbv0C4UlR2bZA/7KysSnQdwD+oX/zyUVS2v5ReBftpBd4/YL/HoM0fyb/wYId9hhzAvzCh6CLewKS/+B9WlDMsub+Q9/Cuxy/WPxb0dYk1ENI/uEqlcgQtxr+GRwdWqeTbP1C5cK28idu/Yim4lLMt1j+mWgNvxULev8BoZqbos8G/Epegf8dT1b8oowzTPCa6vwCpTqqQo2K/9J4Wk4fkwT8E83WaYRzbP7BA4TdKPK0/nK0bxtQyxb96lnjPCyrbPwA5mhHnf5w/hGQ23Q/C0L/Q6LjnIYXIPwAA5vg97IA/NJjd7IIz2D9W8YNb0KrYPyIXj3P78tK/kGvEZJSXoT8wOUlgy5rJPxAZkHOaKKC/cA+rVJdptD8wMGjW+AW2PyRcUcrP8cq/OMHJsOYvxL8MisSNdH/IPywu3Z6Rgto/oKybJ4h1xz/E+/Jyja3fP0h6s/ODLdK/mPVBln6Sv79epr3G3OPVv/TM/5bu4dG/lFJ8J2F6378G6cQjGCLeP1qoYDsFiNs/MIPQrSNswL+Yu/eKJE7Rv2xGNvKb2s6/+GYss8kazr/OG+25N4Ddv87FN94f+9c/VI63rnrY0j/kKzgHCBLAP2BH0YdhcLK/5C4AFBoIzj+UKD/tTb3WP5Q4BsNK89E/8BcJopLl2b9WLcsf1SbRv8jzo+WnW9G//AXhcibo1r9Y9EXoSH61P7QZpJKvJdC/uPBeEkTdxT8Cm/PaRbXYP2jlpJa8krU/+A9zBaDmzD8ofucrZv+xP5z+/o3ec8W/oK2FKeWx0r+I51K0s+vGPxhU43Sq3du/ohY9FHfv2z9ACtDcf9WhP0hZ5NyhV78/dMVp0nHqyj8Qp8J9i8m9P1C7ZKMugaI/Ihk27YIf3T9EM2Vuh7vHv0BNubgmH7g/FpYnWbj90r+8B7K65gDKP8iBGY8X4cA/gCOWr9yBmb8kMbuayz/DP8pSm2QW+9Y/2NKF+m2Ntb8=\",\"dtype\":\"float64\",\"shape\":[100]},\"y\":{\"__ndarray__\":\"OJByU7fZ8z/CXtqqAwX+PzNi0cKpnvM/KdBYk1BH8D/uX0Ervy/6P7Aono1rKvs/GNayZTtR8T8/vQVzlo3yP+YivJsYivg/XKeleeNu9j/yedjeDLL/P672Zitps/s/ekw79IyE8T9m1sh+82j7PwJcwL/myfg/OaOJp8A0/z9wZJPaMm/wP+HUB8WE1vg/KN1VFeuz9T8/Cyn2OVb2PwTiwIv1FvQ/pS2M1REW+T84+EuN75rwPyxafaf/mfk/wZ6IU/jE9T/9BBYQj6X6P7xH2a13i/8/zn6ydK2N+T+RjX2Y5p7zP3Kq+HpL7PE/fZQ5bx+F/D/Ui07aEUvxP4hDBXprQPY/juS3T34X+T+lpGL4GEf7P3AWLho0Ovs/yPwfxqcR/T9eNF+MC7r4P/6/p4Hg2vY/8AzQxr7K+j/uEPgNNjrwP5qhQ+WBR/o/cLjXf7ZS+D9i4WEtdBv5P8SF5bL0Vvw/lC71azkU/j963PzRreX+PwVW4PZ1z/Q/SZDOAKLH9z+QxetR8G7+P6O7SPG6ePo/syPMQpKd8z8AUGgu0TX5P14VLCBDOv8/p4H57qsi/T8MEHU+MrfyP7+BAEIqlvc/4ORZtoSE/z/w3TvYfun/P+aM/NgNXfM/2ujpkWuY+D+WzmjysRf1P3krKGlTBfo/mFlcMa37/j86OReQenP/P4ROgzn/Uv0/ysOC+KQg9z8gwuNiCRLzPwrTXS9k1vM/yPnVWc1v/T8eYEYMtR3wP5SzIWDuuvM/s9zuYe4/8D+yy7C0oCPyP7n9xkiHnfs/4D311vdN9T8gjEDM+TbwP9D20WEMpfU/pP5L6iFj9D9s4GrUpQXyP3wo7eWSTP0/xjuDB27O+T/eMbzlSAXzPxQmUzbIp/E//smUdB9j/z+Cl/vkLe/1P+h3+LQ1iPE/db3aQLJw+T9klHFpkz/5PyYJv5mQUfc/roUC5W12/T9OKxzflV35PwL4lW8nn/0/xOaHQzc28j/PjKNHAwryP71By4MtL/w/FnXwr1Pf9D+5LQoCMAv8P37vbbXLlvE/Bim/8k8O+T8=\",\"dtype\":\"float64\",\"shape\":[100]}},\"selected\":{\"id\":\"17d0de03-a4b9-499c-af12-02a4a757592e\",\"type\":\"Selection\"},\"selection_policy\":{\"id\":\"f49886f8-0c0e-4b51-aef9-f969fc71a782\",\"type\":\"UnionRenderers\"}},\"id\":\"13378cb8-f7fb-4c56-81de-aa8dfdc458fc\",\"type\":\"ColumnDataSource\"},{\"attributes\":{},\"id\":\"0e1c084a-38e6-491b-ae29-d93dfcc0ada4\",\"type\":\"UnionRenderers\"},{\"attributes\":{\"background_fill_color\":{\"value\":\"#eeeeee\"},\"below\":[{\"id\":\"ac904437-f3b4-4547-8b83-4f00991d504c\",\"type\":\"LinearAxis\"}],\"left\":[{\"id\":\"9c84efbd-8594-4273-b0bc-da22a8df6bc1\",\"type\":\"LinearAxis\"}],\"renderers\":[{\"id\":\"ac904437-f3b4-4547-8b83-4f00991d504c\",\"type\":\"LinearAxis\"},{\"id\":\"3f6537e7-a30a-430d-b929-cfc84735f6d8\",\"type\":\"Grid\"},{\"id\":\"9c84efbd-8594-4273-b0bc-da22a8df6bc1\",\"type\":\"LinearAxis\"},{\"id\":\"93258c57-b71e-4dd9-9618-f0eb37d6bef4\",\"type\":\"Grid\"},{\"id\":\"ac9cf308-cbd8-4385-98a5-c39ce56e44ab\",\"type\":\"BoxAnnotation\"},{\"id\":\"d41bee68-6001-49b1-880b-f911d0bbaba3\",\"type\":\"GlyphRenderer\"},{\"id\":\"d357af34-06d7-4965-a592-2b9cd9cac19c\",\"type\":\"GlyphRenderer\"},{\"id\":\"39e762af-2423-4fcf-bcf3-d8a99845193e\",\"type\":\"GlyphRenderer\"}],\"title\":{\"id\":\"52f2fd97-95b6-4734-96f7-7a22f992d5df\",\"type\":\"Title\"},\"toolbar\":{\"id\":\"114d424a-3612-4888-ad52-d71576f743e0\",\"type\":\"Toolbar\"},\"toolbar_location\":null,\"x_range\":{\"id\":\"d27768a3-9e4d-4c03-9029-3bdedb71bc50\",\"type\":\"DataRange1d\"},\"x_scale\":{\"id\":\"294f3331-ab95-4f8f-871b-15d7a49a3b79\",\"type\":\"LinearScale\"},\"y_range\":{\"id\":\"c226b2b0-5dd9-4376-9cba-02d660679294\",\"type\":\"DataRange1d\"},\"y_scale\":{\"id\":\"e466e7fa-0f5b-488c-9546-2c56384bab3b\",\"type\":\"LinearScale\"}},\"id\":\"4f995454-bbd9-4885-ba00-c0219dcac464\",\"subtype\":\"Figure\",\"type\":\"Plot\"},{\"attributes\":{},\"id\":\"0caa90c7-5401-4b99-8a2c-661a6d05c255\",\"type\":\"BasicTickFormatter\"},{\"attributes\":{\"data_source\":{\"id\":\"13378cb8-f7fb-4c56-81de-aa8dfdc458fc\",\"type\":\"ColumnDataSource\"},\"glyph\":{\"id\":\"65a871a5-f010-490c-8ec0-19a40fd5a7fb\",\"type\":\"Square\"},\"hover_glyph\":null,\"muted_glyph\":null,\"nonselection_glyph\":{\"id\":\"6c9728e5-816a-43e9-9bfb-9cfb72b55e9a\",\"type\":\"Square\"},\"selection_glyph\":null,\"view\":{\"id\":\"9a1d0d7d-9f15-4489-90ec-7bd6f638c9eb\",\"type\":\"CDSView\"}},\"id\":\"d357af34-06d7-4965-a592-2b9cd9cac19c\",\"type\":\"GlyphRenderer\"},{\"attributes\":{},\"id\":\"9671e1bd-e75a-479e-8f12-2f58c3fcb3fb\",\"type\":\"Selection\"},{\"attributes\":{\"data_source\":{\"id\":\"a6056916-db6c-414c-a7ce-f460bf568317\",\"type\":\"ColumnDataSource\"},\"glyph\":{\"id\":\"b1c6df0d-482f-4651-ba61-a14c46c10912\",\"type\":\"Circle\"},\"hover_glyph\":null,\"muted_glyph\":null,\"nonselection_glyph\":{\"id\":\"effda84a-a20b-4a8a-aef3-f717d2ad268e\",\"type\":\"Circle\"},\"selection_glyph\":null,\"view\":{\"id\":\"db79f878-d1ee-4720-95c7-f88f28a24c75\",\"type\":\"CDSView\"}},\"id\":\"d41bee68-6001-49b1-880b-f911d0bbaba3\",\"type\":\"GlyphRenderer\"},{\"attributes\":{\"plot\":null,\"text\":\"Bokeh Markers\"},\"id\":\"52f2fd97-95b6-4734-96f7-7a22f992d5df\",\"type\":\"Title\"},{\"attributes\":{\"fill_alpha\":{\"value\":0.5},\"fill_color\":{\"value\":\"orange\"},\"line_alpha\":{\"value\":0.5},\"line_color\":{\"value\":\"navy\"},\"size\":{\"units\":\"screen\",\"value\":15},\"x\":{\"field\":\"x\"},\"y\":{\"field\":\"y\"}},\"id\":\"65a871a5-f010-490c-8ec0-19a40fd5a7fb\",\"type\":\"Square\"},{\"attributes\":{},\"id\":\"f49886f8-0c0e-4b51-aef9-f969fc71a782\",\"type\":\"UnionRenderers\"},{\"attributes\":{\"callback\":null},\"id\":\"d27768a3-9e4d-4c03-9029-3bdedb71bc50\",\"type\":\"DataRange1d\"},{\"attributes\":{\"fill_alpha\":{\"value\":0.1},\"fill_color\":{\"value\":\"#1f77b4\"},\"line_alpha\":{\"value\":0.1},\"line_color\":{\"value\":\"#1f77b4\"},\"size\":{\"units\":\"screen\",\"value\":15},\"x\":{\"field\":\"x\"},\"y\":{\"field\":\"y\"}},\"id\":\"6c9728e5-816a-43e9-9bfb-9cfb72b55e9a\",\"type\":\"Square\"},{\"attributes\":{},\"id\":\"17d0de03-a4b9-499c-af12-02a4a757592e\",\"type\":\"Selection\"},{\"attributes\":{\"callback\":null},\"id\":\"c226b2b0-5dd9-4376-9cba-02d660679294\",\"type\":\"DataRange1d\"},{\"attributes\":{},\"id\":\"c7589284-8495-48f6-85a6-57fb88d236f8\",\"type\":\"UnionRenderers\"},{\"attributes\":{},\"id\":\"294f3331-ab95-4f8f-871b-15d7a49a3b79\",\"type\":\"LinearScale\"},{\"attributes\":{},\"id\":\"ef512ac9-6e4e-42a8-b88b-51079583da67\",\"type\":\"Selection\"},{\"attributes\":{\"active_drag\":\"auto\",\"active_inspect\":\"auto\",\"active_multi\":null,\"active_scroll\":\"auto\",\"active_tap\":\"auto\",\"tools\":[{\"id\":\"cc499cff-2b2d-42d3-bdb5-af35c16795fa\",\"type\":\"PanTool\"},{\"id\":\"52634116-356b-47a8-9dd4-fd1b696aedd9\",\"type\":\"WheelZoomTool\"},{\"id\":\"fdc83e06-13bb-40f9-ad18-ab36df1ea12c\",\"type\":\"BoxZoomTool\"},{\"id\":\"d2e8c6d7-33c8-4f32-9a07-86ffc93b9325\",\"type\":\"SaveTool\"},{\"id\":\"817c14ad-b68e-4686-abcd-6f59f6b72bc7\",\"type\":\"ResetTool\"},{\"id\":\"8cc47f11-8229-4ff1-8351-a787435c7d35\",\"type\":\"HelpTool\"}]},\"id\":\"114d424a-3612-4888-ad52-d71576f743e0\",\"type\":\"Toolbar\"},{\"attributes\":{\"fill_alpha\":{\"value\":0.5},\"fill_color\":{\"value\":\"blue\"},\"line_alpha\":{\"value\":0.5},\"line_color\":{\"value\":\"navy\"},\"size\":{\"units\":\"screen\",\"value\":15},\"x\":{\"field\":\"x\"},\"y\":{\"field\":\"y\"}},\"id\":\"b1c6df0d-482f-4651-ba61-a14c46c10912\",\"type\":\"Circle\"},{\"attributes\":{\"grid_line_color\":{\"value\":null},\"plot\":{\"id\":\"4f995454-bbd9-4885-ba00-c0219dcac464\",\"subtype\":\"Figure\",\"type\":\"Plot\"},\"ticker\":{\"id\":\"12ca756e-2e24-438c-bf79-ffe0168573ac\",\"type\":\"BasicTicker\"}},\"id\":\"3f6537e7-a30a-430d-b929-cfc84735f6d8\",\"type\":\"Grid\"},{\"attributes\":{},\"id\":\"e466e7fa-0f5b-488c-9546-2c56384bab3b\",\"type\":\"LinearScale\"},{\"attributes\":{\"formatter\":{\"id\":\"0caa90c7-5401-4b99-8a2c-661a6d05c255\",\"type\":\"BasicTickFormatter\"},\"plot\":{\"id\":\"4f995454-bbd9-4885-ba00-c0219dcac464\",\"subtype\":\"Figure\",\"type\":\"Plot\"},\"ticker\":{\"id\":\"12ca756e-2e24-438c-bf79-ffe0168573ac\",\"type\":\"BasicTicker\"}},\"id\":\"ac904437-f3b4-4547-8b83-4f00991d504c\",\"type\":\"LinearAxis\"},{\"attributes\":{},\"id\":\"12ca756e-2e24-438c-bf79-ffe0168573ac\",\"type\":\"BasicTicker\"},{\"attributes\":{\"formatter\":{\"id\":\"386c78db-2818-4b6e-bebc-1f36afbbe4e0\",\"type\":\"BasicTickFormatter\"},\"plot\":{\"id\":\"4f995454-bbd9-4885-ba00-c0219dcac464\",\"subtype\":\"Figure\",\"type\":\"Plot\"},\"ticker\":{\"id\":\"281bf58b-e003-4717-a0dd-896daf962a2d\",\"type\":\"BasicTicker\"}},\"id\":\"9c84efbd-8594-4273-b0bc-da22a8df6bc1\",\"type\":\"LinearAxis\"},{\"attributes\":{},\"id\":\"281bf58b-e003-4717-a0dd-896daf962a2d\",\"type\":\"BasicTicker\"}],\"root_ids\":[\"4f995454-bbd9-4885-ba00-c0219dcac464\"]},\"title\":\"Bokeh Application\",\"version\":\"0.13.0\"}};\n",
       "  var render_items = [{\"docid\":\"db2bbbb8-ae26-47fe-a65a-3f41d3fd7624\",\"roots\":{\"4f995454-bbd9-4885-ba00-c0219dcac464\":\"5594c5bc-2dab-4189-8745-a6e95537b21a\"}}];\n",
       "  root.Bokeh.embed.embed_items_notebook(docs_json, render_items);\n",
       "\n",
       "  }\n",
       "  if (root.Bokeh !== undefined) {\n",
       "    embed_document(root);\n",
       "  } else {\n",
       "    var attempts = 0;\n",
       "    var timer = setInterval(function(root) {\n",
       "      if (root.Bokeh !== undefined) {\n",
       "        embed_document(root);\n",
       "        clearInterval(timer);\n",
       "      }\n",
       "      attempts++;\n",
       "      if (attempts > 100) {\n",
       "        console.log(\"Bokeh: ERROR: Unable to run BokehJS code because BokehJS library is missing\")\n",
       "        clearInterval(timer);\n",
       "      }\n",
       "    }, 10, root)\n",
       "  }\n",
       "})(window);"
      ],
      "application/vnd.bokehjs_exec.v0+json": ""
     },
     "metadata": {
      "application/vnd.bokehjs_exec.v0+json": {
       "id": "4f995454-bbd9-4885-ba00-c0219dcac464"
      }
     },
     "output_type": "display_data"
    }
   ],
   "source": [
    "# Build a figure\n",
    "p = figure(title=\"Bokeh Markers\", toolbar_location=None)\n",
    "p.grid.grid_line_color = None\n",
    "p.background_fill_color = \"#eeeeee\"\n",
    "\n",
    "# Number of datapoints\n",
    "N = 100\n",
    "\n",
    "# First cluster\n",
    "X1 = np.linspace(-2,2,100)\n",
    "Y1 = (2*X1**2 - 2) + np.random.random(100)\n",
    "\n",
    "# Second Cluster\n",
    "X2 = np.random.random(100) - 1/2\n",
    "Y2 = np.random.random(100) + 1\n",
    "    \n",
    "# Throw in clusters\n",
    "mscatter(p, X1, Y1, \"circle\", \"blue\")\n",
    "mscatter(p, X2, Y2, \"square\", \"orange\")\n",
    "\n",
    "# A line separating them\n",
    "X = np.linspace(-2,2,100)\n",
    "Y = 2*X**2\n",
    "p.line(X,Y, line_color='red')\n",
    "\n",
    "\n",
    "show(p)"
   ]
  },
  {
   "cell_type": "markdown",
   "metadata": {},
   "source": [
    "The $\\color{red}{line}$ is a parabola. We can 'straighten' it out using the mapping $(x,y) \\mapsto (x,x^2, y)$."
   ]
  },
  {
   "cell_type": "code",
   "execution_count": 9,
   "metadata": {},
   "outputs": [
    {
     "data": {
      "image/png": "[encoded data removed]",
      "text/plain": [
       "<Figure size 432x288 with 1 Axes>"
      ]
     },
     "metadata": {
      "needs_background": "light"
     },
     "output_type": "display_data"
    }
   ],
   "source": [
    "# Import numpy tools for 3d plotting\n",
    "from mpl_toolkits.mplot3d import Axes3D\n",
    "import matplotlib.pyplot as plt\n",
    "\n",
    "%matplotlib inline\n",
    "# Create figure\n",
    "fig = plt.figure()\n",
    "ax = fig.add_subplot(111, projection='3d')\n",
    "\n",
    "# mplot's own scatter plot function\n",
    "ax.scatter(Y1,X1,X1**2,c='b',marker='o')\n",
    "ax.scatter(Y2, X2, X2**2,c='y',marker='s')\n",
    "\n",
    "# Left this here in case you want to play\n",
    "# with labels\n",
    "ax.set_xlabel('X Label')\n",
    "ax.set_ylabel('Y Label')\n",
    "ax.set_zlabel('Z Label')\n",
    "\n",
    "# Show the plot\n",
    "plt.show()"
   ]
  },
  {
   "cell_type": "markdown",
   "metadata": {},
   "source": [
    "This was just to illustrate what's going on. In general, you will certainly not be plotting the data in a higher-dimensional space, nor even mapping it."
   ]
  },
  {
   "cell_type": "markdown",
   "metadata": {},
   "source": [
    "Instead of using the mapping $(x,y) \\mapsto (x, x^2, y)$ and then taking dot products $(x,y,z) \\cdot (w_1, w_2, w_3)$, we can use a *kernel function* $K({\\bf x}, {\\bf y})$ that measures *similarity* of two datapoints ${\\bf x}, {\\bf y}$ directly."
   ]
  },
  {
   "cell_type": "markdown",
   "metadata": {},
   "source": [
    "*The Kernel Trick*"
   ]
  },
  {
   "cell_type": "markdown",
   "metadata": {},
   "source": [
    "The final form of the *decision function* in general is"
   ]
  },
  {
   "cell_type": "markdown",
   "metadata": {},
   "source": [
    "## $f_w = sign \\sum y_i w_i K\\big(x_i, x\\big)$"
   ]
  },
  {
   "cell_type": "markdown",
   "metadata": {},
   "source": [
    "*Examples of kernel functions:*\n",
    "- polynomial kernel\n",
    "##  $K(x_i,x_j) = (x_i \\cdot x_j + 1)^h$\n",
    "- Gaussian radial basis kernel\n",
    "## $K(x_i,x_j) = \\exp(\\frac{-(x_i \\cdot x_j)^2}{2\\sigma^2})$"
   ]
  },
  {
   "cell_type": "code",
   "execution_count": 10,
   "metadata": {},
   "outputs": [
    {
     "name": "stderr",
     "output_type": "stream",
     "text": [
      "/home/muveexu/anaconda3/lib/python3.6/site-packages/sklearn/svm/base.py:922: ConvergenceWarning: Liblinear failed to converge, increase the number of iterations.\n",
      "  \"the number of iterations.\", ConvergenceWarning)\n",
      "/home/muveexu/anaconda3/lib/python3.6/site-packages/sklearn/svm/base.py:196: FutureWarning: The default value of gamma will change from 'auto' to 'scale' in version 0.22 to account better for unscaled features. Set gamma explicitly to 'auto' or 'scale' to avoid this warning.\n",
      "  \"avoid this warning.\", FutureWarning)\n"
     ]
    },
    {
     "data": {
      "image/png": "[encoded data removed]",
      "text/plain": [
       "<Figure size 432x288 with 4 Axes>"
      ]
     },
     "metadata": {},
     "output_type": "display_data"
    }
   ],
   "source": [
    "# Example taken from Sklearn docs.\n",
    "\n",
    "from sklearn import svm, datasets\n",
    "\n",
    "\n",
    "def make_meshgrid(x, y, h=.02):\n",
    "    \"\"\"Create a mesh of points to plot in\n",
    "    \"\"\"\n",
    "    x_min, x_max = x.min() - 1, x.max() + 1\n",
    "    y_min, y_max = y.min() - 1, y.max() + 1\n",
    "    xx, yy = np.meshgrid(np.arange(x_min, x_max, h),\n",
    "                         np.arange(y_min, y_max, h))\n",
    "    return xx, yy\n",
    "\n",
    "\n",
    "def plot_contours(ax, clf, xx, yy, **params):\n",
    "    \"\"\"Plot the decision boundaries for a classifier.\n",
    "    \"\"\"\n",
    "    Z = clf.predict(np.c_[xx.ravel(), yy.ravel()])\n",
    "    Z = Z.reshape(xx.shape)\n",
    "    out = ax.contourf(xx, yy, Z, **params)\n",
    "    return out\n",
    "\n",
    "\n",
    "# Import some data.\n",
    "iris = datasets.load_iris()\n",
    "\n",
    "# Take the first two features. We could avoid this by using a two-dim dataset\n",
    "X = iris.data[:, :2]\n",
    "y = iris.target\n",
    "\n",
    "# we create an instance of SVM and fit out data. We do not scale our\n",
    "# data since we want to plot the support vectors\n",
    "C = 1.0  # SVM regularization parameter\n",
    "models = (svm.SVC(kernel='linear', C=C),\n",
    "          svm.LinearSVC(C=C),\n",
    "          svm.SVC(kernel='rbf', gamma=0.7, C=C),\n",
    "          svm.SVC(kernel='poly', degree=3, C=C))\n",
    "models = (clf.fit(X, y) for clf in models)\n",
    "\n",
    "# title for the plots\n",
    "titles = ('SVC with linear kernel',\n",
    "          'LinearSVC (linear kernel)',\n",
    "          'SVC with RBF kernel',\n",
    "          'SVC with polynomial (degree 3) kernel')\n",
    "\n",
    "# Set-up 2x2 grid for plotting.\n",
    "fig, sub = plt.subplots(2, 2)\n",
    "plt.subplots_adjust(wspace=0.4, hspace=0.4)\n",
    "\n",
    "X0, X1 = X[:, 0], X[:, 1]\n",
    "xx, yy = make_meshgrid(X0, X1)\n",
    "\n",
    "for clf, title, ax in zip(models, titles, sub.flatten()):\n",
    "    plot_contours(ax, clf, xx, yy,\n",
    "                  cmap=plt.cm.coolwarm, alpha=0.8)\n",
    "    ax.scatter(X0, X1, c=y, cmap=plt.cm.coolwarm, s=20, edgecolors='k')\n",
    "    ax.set_xlim(xx.min(), xx.max())\n",
    "    ax.set_ylim(yy.min(), yy.max())\n",
    "    ax.set_xlabel('Sepal length')\n",
    "    ax.set_ylabel('Sepal width')\n",
    "    ax.set_xticks(())\n",
    "    ax.set_yticks(())\n",
    "    ax.set_title(title)\n",
    "\n",
    "plt.show()"
   ]
  },
  {
   "cell_type": "markdown",
   "metadata": {},
   "source": [
    "We want to compare classifiers numerically, since we can't always plot them and 'see' how they are doing. We will also want to turn the other knobs, called *hyperparameters*, not tuned by the learning algorithm. See [this page](http://scikit-learn.org/stable/auto_examples/svm/plot_svm_scale_c.html) for discussion of the effects of such hyperparameters in SVC performance."
   ]
  },
  {
   "cell_type": "markdown",
   "metadata": {},
   "source": [
    "**Decision Trees**"
   ]
  },
  {
   "cell_type": "markdown",
   "metadata": {},
   "source": [
    "Splits are evaluated, for each feature, using the *Gini impurity*. See also *CART*."
   ]
  },
  {
   "cell_type": "code",
   "execution_count": 11,
   "metadata": {},
   "outputs": [
    {
     "data": {
      "image/png": "[encoded data removed]",
      "text/plain": [
       "<Figure size 432x288 with 6 Axes>"
      ]
     },
     "metadata": {
      "needs_background": "light"
     },
     "output_type": "display_data"
    }
   ],
   "source": [
    "from sklearn.tree import DecisionTreeClassifier\n",
    "\n",
    "# Parameters\n",
    "n_classes = 3\n",
    "plot_colors = \"ryb\"\n",
    "plot_step = 0.02\n",
    "\n",
    "for pairidx, pair in enumerate([[0, 1], [0, 2], [0, 3],\n",
    "                                [1, 2], [1, 3], [2, 3]]):\n",
    "    # We only take the two corresponding features\n",
    "    X = iris.data[:, pair]\n",
    "    y = iris.target\n",
    "\n",
    "    # Train\n",
    "    clf = DecisionTreeClassifier().fit(X, y)\n",
    "\n",
    "    # Plot the decision boundary\n",
    "    plt.subplot(2, 3, pairidx + 1)\n",
    "\n",
    "    x_min, x_max = X[:, 0].min() - 1, X[:, 0].max() + 1\n",
    "    y_min, y_max = X[:, 1].min() - 1, X[:, 1].max() + 1\n",
    "    xx, yy = np.meshgrid(np.arange(x_min, x_max, plot_step),\n",
    "                         np.arange(y_min, y_max, plot_step))\n",
    "    plt.tight_layout(h_pad=0.5, w_pad=0.5, pad=2.5)\n",
    "\n",
    "    Z = clf.predict(np.c_[xx.ravel(), yy.ravel()])\n",
    "    Z = Z.reshape(xx.shape)\n",
    "    cs = plt.contourf(xx, yy, Z, cmap=plt.cm.RdYlBu)\n",
    "\n",
    "    plt.xlabel(iris.feature_names[pair[0]])\n",
    "    plt.ylabel(iris.feature_names[pair[1]])\n",
    "\n",
    "    # Plot the training points\n",
    "    for i, color in zip(range(n_classes), plot_colors):\n",
    "        idx = np.where(y == i)\n",
    "        plt.scatter(X[idx, 0], X[idx, 1], c=color, label=iris.target_names[i],\n",
    "                    cmap=plt.cm.RdYlBu, edgecolor='black', s=15)\n",
    "\n",
    "plt.suptitle(\"Decision surface of a decision tree using paired features\")\n",
    "plt.legend(loc='lower right', borderpad=0, handletextpad=0)\n",
    "plt.axis(\"tight\")\n",
    "plt.show()"
   ]
  },
  {
   "cell_type": "markdown",
   "metadata": {},
   "source": [
    "**$k$-Nearest Neighbors**\n",
    "\n",
    "This next example illustrates the $k$-nearest neighbors algorithm and also is an example of *multi-class classification*."
   ]
  },
  {
   "cell_type": "code",
   "execution_count": 12,
   "metadata": {},
   "outputs": [
    {
     "data": {
      "image/png": "[encoded data removed]",
      "text/plain": [
       "<Figure size 432x288 with 1 Axes>"
      ]
     },
     "metadata": {
      "needs_background": "light"
     },
     "output_type": "display_data"
    },
    {
     "data": {
      "image/png": "[encoded data removed]",
      "text/plain": [
       "<Figure size 432x288 with 1 Axes>"
      ]
     },
     "metadata": {
      "needs_background": "light"
     },
     "output_type": "display_data"
    }
   ],
   "source": [
    "from matplotlib.colors import ListedColormap\n",
    "from sklearn import neighbors\n",
    "\n",
    "n_neighbors = 15\n",
    "\n",
    "\n",
    "X = iris.data[:, :2]\n",
    "y = iris.target\n",
    "\n",
    "h = .02  # step size in the mesh\n",
    "\n",
    "# Create color maps\n",
    "cmap_light = ListedColormap(['#FFAAAA', '#AAFFAA', '#AAAAFF'])\n",
    "cmap_bold = ListedColormap(['#FF0000', '#00FF00', '#0000FF'])\n",
    "\n",
    "for weights in ['uniform', 'distance']:\n",
    "    # we create an instance of Neighbours Classifier and fit the data.\n",
    "    clf = neighbors.KNeighborsClassifier(n_neighbors, weights=weights)\n",
    "    clf.fit(X, y)\n",
    "\n",
    "    # Plot the decision boundary. For that, we will assign a color to each\n",
    "    # point in the mesh [x_min, x_max]x[y_min, y_max].\n",
    "    x_min, x_max = X[:, 0].min() - 1, X[:, 0].max() + 1\n",
    "    y_min, y_max = X[:, 1].min() - 1, X[:, 1].max() + 1\n",
    "    xx, yy = np.meshgrid(np.arange(x_min, x_max, h),\n",
    "                         np.arange(y_min, y_max, h))\n",
    "    Z = clf.predict(np.c_[xx.ravel(), yy.ravel()])\n",
    "\n",
    "    # Put the result into a color plot\n",
    "    Z = Z.reshape(xx.shape)\n",
    "    plt.figure()\n",
    "    plt.pcolormesh(xx, yy, Z, cmap=cmap_light)\n",
    "\n",
    "    # Plot also the training points\n",
    "    plt.scatter(X[:, 0], X[:, 1], c=y, cmap=cmap_bold,\n",
    "                edgecolor='k', s=20)\n",
    "    plt.xlim(xx.min(), xx.max())\n",
    "    plt.ylim(yy.min(), yy.max())\n",
    "    plt.title(\"3-Class classification (k = %i, weights = '%s')\"\n",
    "              % (n_neighbors, weights))\n",
    "\n",
    "plt.show()"
   ]
  },
  {
   "cell_type": "markdown",
   "metadata": {},
   "source": [
    "### Clustering"
   ]
  },
  {
   "cell_type": "markdown",
   "metadata": {},
   "source": [
    "**Expectation-Maximization & Mixture Models**"
   ]
  },
  {
   "cell_type": "markdown",
   "metadata": {},
   "source": [
    "Next, let's look a little more in-depth at the related exploratory method of *$k$-means*."
   ]
  },
  {
   "cell_type": "markdown",
   "metadata": {},
   "source": [
    "*Optimization Formulation*"
   ]
  },
  {
   "cell_type": "markdown",
   "metadata": {},
   "source": [
    "> Everything is an optimization problem, yes. Realize that, and then get over it as soon as you can. (Boyd)"
   ]
  },
  {
   "cell_type": "markdown",
   "metadata": {},
   "source": [
    "We have used $k$-means and discussed the algorithm. Here is the setup:"
   ]
  },
  {
   "cell_type": "markdown",
   "metadata": {},
   "source": [
    "We have a dataset $\\{x_1,\\ldots,x_N\\}$ of observations from $\\mathbb{R}^D$. We seek clusters with centers $\\mu_k \\in \\mathbb{R}^D$. *The cluster centers are the things we are choosing*. We are choosing them so that the sum of squared distances are minimized. That is, we are minimizing:"
   ]
  },
  {
   "cell_type": "markdown",
   "metadata": {},
   "source": [
    "## $J = \\sum_{n=1}^N\\sum_{k=1}^K r_{nk} \\|x_n - \\mu_k\\|^2$"
   ]
  },
  {
   "cell_type": "markdown",
   "metadata": {},
   "source": [
    "where"
   ]
  },
  {
   "cell_type": "markdown",
   "metadata": {},
   "source": [
    "## $ r_{nk} = \\begin{cases} 1 & x_n \\in \\text{Cluster } k \\\\\n",
    "                             0 & \\text{otherwise}   \\end{cases}$"
   ]
  },
  {
   "cell_type": "markdown",
   "metadata": {},
   "source": [
    "The standard algorithm can be broken down into two steps\n",
    "\n",
    "* *Expectation* - minimize $J$ wrt the $r_{nk}$, leaving $\\mu_k$ fixed.\n",
    "\n",
    "* *Maximization* - minimize $J$ wrt the $\\mu_k$ leaving $r$ fixed."
   ]
  },
  {
   "cell_type": "markdown",
   "metadata": {},
   "source": [
    "(This is an instance of a more general method called EM.)"
   ]
  },
  {
   "cell_type": "markdown",
   "metadata": {},
   "source": [
    "The expectation step makes the following update to the $r$ values:"
   ]
  },
  {
   "cell_type": "markdown",
   "metadata": {},
   "source": [
    "## $ r_{nk} = \\begin{cases} 1 & \\text{ if } k= argmin_j \\|x_n - \\mu_j\\|^2 \\\\\n",
    "                             0 & \\text{otherwise}   \\end{cases}$"
   ]
  },
  {
   "cell_type": "markdown",
   "metadata": {},
   "source": [
    "The maximization step is done by calculus. The partial equations"
   ]
  },
  {
   "cell_type": "markdown",
   "metadata": {},
   "source": [
    "## $2\\sum_{n=1}^Nr_{nk}(x_n - \\mu_k) = 0$"
   ]
  },
  {
   "cell_type": "markdown",
   "metadata": {},
   "source": [
    "lead to the formula for $\\mu_k$"
   ]
  },
  {
   "cell_type": "markdown",
   "metadata": {},
   "source": [
    "## $ \\mu_k = \\frac{\\sum_nr_{nk}x_n}{\\sum_nr_{nk}}$"
   ]
  },
  {
   "cell_type": "markdown",
   "metadata": {},
   "source": [
    "Which is exactly the mean of all the things that had been assigned to cluster $k$ in the previous step."
   ]
  },
  {
   "cell_type": "markdown",
   "metadata": {},
   "source": [
    "We keep doing this until the clusters stop changing (or until a certain number of iterations has been completed.)"
   ]
  },
  {
   "cell_type": "markdown",
   "metadata": {},
   "source": [
    "Let's get some data. This is a good opportunity to use what we already know. Bishop used the famous *Old Faithful* dataset. It can be found, among other places, [here](http://www.stat.cmu.edu/~larry/all-of-statistics/=data/faithful.dat). Let's pull it into our python session."
   ]
  },
  {
   "cell_type": "code",
   "execution_count": 13,
   "metadata": {},
   "outputs": [],
   "source": [
    "import numpy as np\n",
    "import urllib.request\n",
    "url = 'http://www.stat.cmu.edu/~larry/all-of-statistics/=data/faithful.dat'\n",
    "with urllib.request.urlopen(url) as response:\n",
    "    olf = response.readlines()"
   ]
  },
  {
   "cell_type": "markdown",
   "metadata": {},
   "source": [
    "### Convert to strings"
   ]
  },
  {
   "cell_type": "code",
   "execution_count": 14,
   "metadata": {},
   "outputs": [],
   "source": [
    "olf = [x.decode('utf-8') for x in olf]"
   ]
  },
  {
   "cell_type": "markdown",
   "metadata": {},
   "source": [
    "### Strip off endline garbage"
   ]
  },
  {
   "cell_type": "code",
   "execution_count": 15,
   "metadata": {},
   "outputs": [],
   "source": [
    "olf = [x.strip() for x in olf]"
   ]
  },
  {
   "cell_type": "code",
   "execution_count": 16,
   "metadata": {
    "scrolled": true
   },
   "outputs": [
    {
     "name": "stdout",
     "output_type": "stream",
     "text": [
      "Old Faithful Geyser Data\n",
      "\n",
      "Description: (From R manual):\n",
      "\n",
      "Waiting time between eruptions and the duration of the eruption\n",
      "for the Old Faithful geyser in Yellowstone National Park, Wyoming,\n",
      "USA.\n",
      "\n",
      "A data frame with 272 observations on 2 variables.\n",
      "\n",
      "eruptions  numeric  Eruption time in mins\n",
      "waiting    numeric  Waiting time to next eruption\n",
      "\n",
      "References:\n",
      "\n",
      "Hardle, W. (1991) Smoothing Techniques with Implementation in S.\n",
      "New York: Springer.\n",
      "\n",
      "Azzalini, A. and Bowman, A. W. (1990). A look at some data on the\n",
      "Old Faithful geyser. Applied Statistics 39, 357-365.\n",
      "\n",
      "\n",
      "\n",
      "\n",
      "\n",
      "eruptions waiting\n",
      "1       3.600      79\n",
      "2       1.800      54\n",
      "3       3.333      74\n",
      "4       2.283      62\n",
      "5       4.533      85\n",
      "6       2.883      55\n",
      "7       4.700      88\n",
      "8       3.600      85\n",
      "9       1.950      51\n",
      "10      4.350      85\n",
      "11      1.833      54\n",
      "12      3.917      84\n",
      "13      4.200      78\n",
      "14      1.750      47\n",
      "15      4.700      83\n",
      "16      2.167      52\n",
      "17      1.750      62\n",
      "18      4.800      84\n",
      "19      1.600      52\n",
      "20      4.250      79\n",
      "21      1.800      51\n",
      "22      1.750      47\n",
      "23      3.450      78\n",
      "24      3.067      69\n",
      "25      4.533      74\n",
      "26      3.600      83\n",
      "27      1.967      55\n",
      "28      4.083      76\n",
      "29      3.850      78\n",
      "30      4.433      79\n",
      "31      4.300      73\n",
      "32      4.467      77\n",
      "33      3.367      66\n",
      "34      4.033      80\n",
      "35      3.833      74\n",
      "36      2.017      52\n",
      "37      1.867      48\n",
      "38      4.833      80\n",
      "39      1.833      59\n",
      "40      4.783      90\n",
      "41      4.350      80\n",
      "42      1.883      58\n",
      "43      4.567      84\n",
      "44      1.750      58\n",
      "45      4.533      73\n",
      "46      3.317      83\n",
      "47      3.833      64\n",
      "48      2.100      53\n",
      "49      4.633      82\n",
      "50      2.000      59\n",
      "51      4.800      75\n",
      "52      4.716      90\n",
      "53      1.833      54\n",
      "54      4.833      80\n",
      "55      1.733      54\n",
      "56      4.883      83\n",
      "57      3.717      71\n",
      "58      1.667      64\n",
      "59      4.567      77\n",
      "60      4.317      81\n",
      "61      2.233      59\n",
      "62      4.500      84\n",
      "63      1.750      48\n",
      "64      4.800      82\n",
      "65      1.817      60\n",
      "66      4.400      92\n",
      "67      4.167      78\n",
      "68      4.700      78\n",
      "69      2.067      65\n",
      "70      4.700      73\n",
      "71      4.033      82\n",
      "72      1.967      56\n",
      "73      4.500      79\n",
      "74      4.000      71\n",
      "75      1.983      62\n",
      "76      5.067      76\n",
      "77      2.017      60\n",
      "78      4.567      78\n",
      "79      3.883      76\n",
      "80      3.600      83\n",
      "81      4.133      75\n",
      "82      4.333      82\n",
      "83      4.100      70\n",
      "84      2.633      65\n",
      "85      4.067      73\n",
      "86      4.933      88\n",
      "87      3.950      76\n",
      "88      4.517      80\n",
      "89      2.167      48\n",
      "90      4.000      86\n",
      "91      2.200      60\n",
      "92      4.333      90\n",
      "93      1.867      50\n",
      "94      4.817      78\n",
      "95      1.833      63\n",
      "96      4.300      72\n",
      "97      4.667      84\n",
      "98      3.750      75\n",
      "99      1.867      51\n",
      "100     4.900      82\n",
      "101     2.483      62\n",
      "102     4.367      88\n",
      "103     2.100      49\n",
      "104     4.500      83\n",
      "105     4.050      81\n",
      "106     1.867      47\n",
      "107     4.700      84\n",
      "108     1.783      52\n",
      "109     4.850      86\n",
      "110     3.683      81\n",
      "111     4.733      75\n",
      "112     2.300      59\n",
      "113     4.900      89\n",
      "114     4.417      79\n",
      "115     1.700      59\n",
      "116     4.633      81\n",
      "117     2.317      50\n",
      "118     4.600      85\n",
      "119     1.817      59\n",
      "120     4.417      87\n",
      "121     2.617      53\n",
      "122     4.067      69\n",
      "123     4.250      77\n",
      "124     1.967      56\n",
      "125     4.600      88\n",
      "126     3.767      81\n",
      "127     1.917      45\n",
      "128     4.500      82\n",
      "129     2.267      55\n",
      "130     4.650      90\n",
      "131     1.867      45\n",
      "132     4.167      83\n",
      "133     2.800      56\n",
      "134     4.333      89\n",
      "135     1.833      46\n",
      "136     4.383      82\n",
      "137     1.883      51\n",
      "138     4.933      86\n",
      "139     2.033      53\n",
      "140     3.733      79\n",
      "141     4.233      81\n",
      "142     2.233      60\n",
      "143     4.533      82\n",
      "144     4.817      77\n",
      "145     4.333      76\n",
      "146     1.983      59\n",
      "147     4.633      80\n",
      "148     2.017      49\n",
      "149     5.100      96\n",
      "150     1.800      53\n",
      "151     5.033      77\n",
      "152     4.000      77\n",
      "153     2.400      65\n",
      "154     4.600      81\n",
      "155     3.567      71\n",
      "156     4.000      70\n",
      "157     4.500      81\n",
      "158     4.083      93\n",
      "159     1.800      53\n",
      "160     3.967      89\n",
      "161     2.200      45\n",
      "162     4.150      86\n",
      "163     2.000      58\n",
      "164     3.833      78\n",
      "165     3.500      66\n",
      "166     4.583      76\n",
      "167     2.367      63\n",
      "168     5.000      88\n",
      "169     1.933      52\n",
      "170     4.617      93\n",
      "171     1.917      49\n",
      "172     2.083      57\n",
      "173     4.583      77\n",
      "174     3.333      68\n",
      "175     4.167      81\n",
      "176     4.333      81\n",
      "177     4.500      73\n",
      "178     2.417      50\n",
      "179     4.000      85\n",
      "180     4.167      74\n",
      "181     1.883      55\n",
      "182     4.583      77\n",
      "183     4.250      83\n",
      "184     3.767      83\n",
      "185     2.033      51\n",
      "186     4.433      78\n",
      "187     4.083      84\n",
      "188     1.833      46\n",
      "189     4.417      83\n",
      "190     2.183      55\n",
      "191     4.800      81\n",
      "192     1.833      57\n",
      "193     4.800      76\n",
      "194     4.100      84\n",
      "195     3.966      77\n",
      "196     4.233      81\n",
      "197     3.500      87\n",
      "198     4.366      77\n",
      "199     2.250      51\n",
      "200     4.667      78\n",
      "201     2.100      60\n",
      "202     4.350      82\n",
      "203     4.133      91\n",
      "204     1.867      53\n",
      "205     4.600      78\n",
      "206     1.783      46\n",
      "207     4.367      77\n",
      "208     3.850      84\n",
      "209     1.933      49\n",
      "210     4.500      83\n",
      "211     2.383      71\n",
      "212     4.700      80\n",
      "213     1.867      49\n",
      "214     3.833      75\n",
      "215     3.417      64\n",
      "216     4.233      76\n",
      "217     2.400      53\n",
      "218     4.800      94\n",
      "219     2.000      55\n",
      "220     4.150      76\n",
      "221     1.867      50\n",
      "222     4.267      82\n",
      "223     1.750      54\n",
      "224     4.483      75\n",
      "225     4.000      78\n",
      "226     4.117      79\n",
      "227     4.083      78\n",
      "228     4.267      78\n",
      "229     3.917      70\n",
      "230     4.550      79\n",
      "231     4.083      70\n",
      "232     2.417      54\n",
      "233     4.183      86\n",
      "234     2.217      50\n",
      "235     4.450      90\n",
      "236     1.883      54\n",
      "237     1.850      54\n",
      "238     4.283      77\n",
      "239     3.950      79\n",
      "240     2.333      64\n",
      "241     4.150      75\n",
      "242     2.350      47\n",
      "243     4.933      86\n",
      "244     2.900      63\n",
      "245     4.583      85\n",
      "246     3.833      82\n",
      "247     2.083      57\n",
      "248     4.367      82\n",
      "249     2.133      67\n",
      "250     4.350      74\n",
      "251     2.200      54\n",
      "252     4.450      83\n",
      "253     3.567      73\n",
      "254     4.500      73\n",
      "255     4.150      88\n",
      "256     3.817      80\n",
      "257     3.917      71\n",
      "258     4.450      83\n",
      "259     2.000      56\n",
      "260     4.283      79\n",
      "261     4.767      78\n",
      "262     4.533      84\n",
      "263     1.850      58\n",
      "264     4.250      83\n",
      "265     1.983      43\n",
      "266     2.250      60\n",
      "267     4.750      75\n",
      "268     4.117      81\n",
      "269     2.150      46\n",
      "270     4.417      90\n",
      "271     1.817      46\n",
      "272     4.467      74\n"
     ]
    }
   ],
   "source": [
    "for x in olf: print(x)"
   ]
  },
  {
   "cell_type": "markdown",
   "metadata": {},
   "source": [
    "Where does the data start?"
   ]
  },
  {
   "cell_type": "code",
   "execution_count": 17,
   "metadata": {},
   "outputs": [
    {
     "data": {
      "text/plain": [
       "25"
      ]
     },
     "execution_count": 17,
     "metadata": {},
     "output_type": "execute_result"
    }
   ],
   "source": [
    "olf.index('eruptions waiting')"
   ]
  },
  {
   "cell_type": "markdown",
   "metadata": {},
   "source": [
    "Where does it end?"
   ]
  },
  {
   "cell_type": "code",
   "execution_count": 18,
   "metadata": {},
   "outputs": [
    {
     "data": {
      "text/plain": [
       "'272     4.467      74'"
      ]
     },
     "execution_count": 18,
     "metadata": {},
     "output_type": "execute_result"
    }
   ],
   "source": [
    "olf[-1]"
   ]
  },
  {
   "cell_type": "markdown",
   "metadata": {},
   "source": [
    "Let's put it in an array."
   ]
  },
  {
   "cell_type": "code",
   "execution_count": 19,
   "metadata": {},
   "outputs": [],
   "source": [
    "dat = [[float(y) for y in x.split()[1:]] for x in olf[26:]]\n",
    "olf_mat = np.array(dat)"
   ]
  },
  {
   "cell_type": "code",
   "execution_count": 20,
   "metadata": {},
   "outputs": [
    {
     "data": {
      "text/plain": [
       "(272, 2)"
      ]
     },
     "execution_count": 20,
     "metadata": {},
     "output_type": "execute_result"
    }
   ],
   "source": [
    "olf_mat.shape"
   ]
  },
  {
   "cell_type": "markdown",
   "metadata": {},
   "source": [
    "Checks out. Let's apply $k$-means to this data. We'll take $k = 2$."
   ]
  },
  {
   "cell_type": "markdown",
   "metadata": {},
   "source": [
    "First, let's initialize with random centers from our *Old Faithful* datapoints."
   ]
  },
  {
   "cell_type": "code",
   "execution_count": 21,
   "metadata": {},
   "outputs": [],
   "source": [
    "# Choosing Centers\n",
    "#mu = olf_mat[[3, 5]]\n",
    "\n",
    "mu = np.array([[2,80],[4, 50]])\n",
    "\n",
    "\n",
    "# Creating r_nk, first assignment to clusters.\n",
    "ar = np.zeros((len(olf_mat),2))\n",
    "\n",
    "# Initializing r_nk\n",
    "for row in range(olf_mat.shape[0]):\n",
    "    dists = np.linalg.norm(row - mu, axis=1)\n",
    "    smallest = min(dists)\n",
    "    center = list(dists).index(smallest)\n",
    "    ar[row,center] = 1"
   ]
  },
  {
   "cell_type": "markdown",
   "metadata": {},
   "source": [
    "### Let's have functions to execute the two steps."
   ]
  },
  {
   "cell_type": "code",
   "execution_count": 22,
   "metadata": {},
   "outputs": [],
   "source": [
    "# This does the expectation step\n",
    "def estep():\n",
    "    # Make sure we're dealing with the right one\n",
    "    global ar # This is dangerous! Don't use global.\n",
    "    # Reset the matrix\n",
    "    ar = np.zeros((len(olf_mat),2))\n",
    "    for row in range(olf_mat.shape[0]):\n",
    "        dists = np.linalg.norm(olf_mat[row] - mu, axis=1) # Useful little bit - broadcasting\n",
    "        smallest = min(dists)\n",
    "        center = list(dists).index(smallest)\n",
    "        ar[row,center] = 1\n",
    "        \n",
    "# This does the maximization step\n",
    "def mstep():\n",
    "    for row in range(len(mu)):\n",
    "        in_cluster = olf_mat[np.where(ar[:,row])] # Using numpy's \"where\" method\n",
    "        mu[row] = np.sum(in_cluster,axis=0) / in_cluster.shape[0]"
   ]
  },
  {
   "cell_type": "markdown",
   "metadata": {},
   "source": [
    "Let's now plot the clusters we are computing"
   ]
  },
  {
   "cell_type": "code",
   "execution_count": 23,
   "metadata": {},
   "outputs": [
    {
     "data": {
      "text/html": [
       "\n",
       "    <div class=\"bk-root\">\n",
       "        <a href=\"https://bokeh.pydata.org\" target=\"_blank\" class=\"bk-logo bk-logo-small bk-logo-notebook\"></a>\n",
       "        <span id=\"336bca77-2b31-4f29-a6bd-c5aefd85c39d\">Loading BokehJS ...</span>\n",
       "    </div>"
      ]
     },
     "metadata": {},
     "output_type": "display_data"
    },
    {
     "data": {
      "application/javascript": [
       "\n",
       "(function(root) {\n",
       "  function now() {\n",
       "    return new Date();\n",
       "  }\n",
       "\n",
       "  var force = true;\n",
       "\n",
       "  if (typeof (root._bokeh_onload_callbacks) === \"undefined\" || force === true) {\n",
       "    root._bokeh_onload_callbacks = [];\n",
       "    root._bokeh_is_loading = undefined;\n",
       "  }\n",
       "\n",
       "  var JS_MIME_TYPE = 'application/javascript';\n",
       "  var HTML_MIME_TYPE = 'text/html';\n",
       "  var EXEC_MIME_TYPE = 'application/vnd.bokehjs_exec.v0+json';\n",
       "  var CLASS_NAME = 'output_bokeh rendered_html';\n",
       "\n",
       "  /**\n",
       "   * Render data to the DOM node\n",
       "   */\n",
       "  function render(props, node) {\n",
       "    var script = document.createElement(\"script\");\n",
       "    node.appendChild(script);\n",
       "  }\n",
       "\n",
       "  /**\n",
       "   * Handle when an output is cleared or removed\n",
       "   */\n",
       "  function handleClearOutput(event, handle) {\n",
       "    var cell = handle.cell;\n",
       "\n",
       "    var id = cell.output_area._bokeh_element_id;\n",
       "    var server_id = cell.output_area._bokeh_server_id;\n",
       "    // Clean up Bokeh references\n",
       "    if (id != null && id in Bokeh.index) {\n",
       "      Bokeh.index[id].model.document.clear();\n",
       "      delete Bokeh.index[id];\n",
       "    }\n",
       "\n",
       "    if (server_id !== undefined) {\n",
       "      // Clean up Bokeh references\n",
       "      var cmd = \"from bokeh.io.state import curstate; print(curstate().uuid_to_server['\" + server_id + \"'].get_sessions()[0].document.roots[0]._id)\";\n",
       "      cell.notebook.kernel.execute(cmd, {\n",
       "        iopub: {\n",
       "          output: function(msg) {\n",
       "            var id = msg.content.text.trim();\n",
       "            if (id in Bokeh.index) {\n",
       "              Bokeh.index[id].model.document.clear();\n",
       "              delete Bokeh.index[id];\n",
       "            }\n",
       "          }\n",
       "        }\n",
       "      });\n",
       "      // Destroy server and session\n",
       "      var cmd = \"import bokeh.io.notebook as ion; ion.destroy_server('\" + server_id + \"')\";\n",
       "      cell.notebook.kernel.execute(cmd);\n",
       "    }\n",
       "  }\n",
       "\n",
       "  /**\n",
       "   * Handle when a new output is added\n",
       "   */\n",
       "  function handleAddOutput(event, handle) {\n",
       "    var output_area = handle.output_area;\n",
       "    var output = handle.output;\n",
       "\n",
       "    // limit handleAddOutput to display_data with EXEC_MIME_TYPE content only\n",
       "    if ((output.output_type != \"display_data\") || (!output.data.hasOwnProperty(EXEC_MIME_TYPE))) {\n",
       "      return\n",
       "    }\n",
       "\n",
       "    var toinsert = output_area.element.find(\".\" + CLASS_NAME.split(' ')[0]);\n",
       "\n",
       "    if (output.metadata[EXEC_MIME_TYPE][\"id\"] !== undefined) {\n",
       "      toinsert[toinsert.length - 1].firstChild.textContent = output.data[JS_MIME_TYPE];\n",
       "      // store reference to embed id on output_area\n",
       "      output_area._bokeh_element_id = output.metadata[EXEC_MIME_TYPE][\"id\"];\n",
       "    }\n",
       "    if (output.metadata[EXEC_MIME_TYPE][\"server_id\"] !== undefined) {\n",
       "      var bk_div = document.createElement(\"div\");\n",
       "      bk_div.innerHTML = output.data[HTML_MIME_TYPE];\n",
       "      var script_attrs = bk_div.children[0].attributes;\n",
       "      for (var i = 0; i < script_attrs.length; i++) {\n",
       "        toinsert[toinsert.length - 1].firstChild.setAttribute(script_attrs[i].name, script_attrs[i].value);\n",
       "      }\n",
       "      // store reference to server id on output_area\n",
       "      output_area._bokeh_server_id = output.metadata[EXEC_MIME_TYPE][\"server_id\"];\n",
       "    }\n",
       "  }\n",
       "\n",
       "  function register_renderer(events, OutputArea) {\n",
       "\n",
       "    function append_mime(data, metadata, element) {\n",
       "      // create a DOM node to render to\n",
       "      var toinsert = this.create_output_subarea(\n",
       "        metadata,\n",
       "        CLASS_NAME,\n",
       "        EXEC_MIME_TYPE\n",
       "      );\n",
       "      this.keyboard_manager.register_events(toinsert);\n",
       "      // Render to node\n",
       "      var props = {data: data, metadata: metadata[EXEC_MIME_TYPE]};\n",
       "      render(props, toinsert[toinsert.length - 1]);\n",
       "      element.append(toinsert);\n",
       "      return toinsert\n",
       "    }\n",
       "\n",
       "    /* Handle when an output is cleared or removed */\n",
       "    events.on('clear_output.CodeCell', handleClearOutput);\n",
       "    events.on('delete.Cell', handleClearOutput);\n",
       "\n",
       "    /* Handle when a new output is added */\n",
       "    events.on('output_added.OutputArea', handleAddOutput);\n",
       "\n",
       "    /**\n",
       "     * Register the mime type and append_mime function with output_area\n",
       "     */\n",
       "    OutputArea.prototype.register_mime_type(EXEC_MIME_TYPE, append_mime, {\n",
       "      /* Is output safe? */\n",
       "      safe: true,\n",
       "      /* Index of renderer in `output_area.display_order` */\n",
       "      index: 0\n",
       "    });\n",
       "  }\n",
       "\n",
       "  // register the mime type if in Jupyter Notebook environment and previously unregistered\n",
       "  if (root.Jupyter !== undefined) {\n",
       "    var events = require('base/js/events');\n",
       "    var OutputArea = require('notebook/js/outputarea').OutputArea;\n",
       "\n",
       "    if (OutputArea.prototype.mime_types().indexOf(EXEC_MIME_TYPE) == -1) {\n",
       "      register_renderer(events, OutputArea);\n",
       "    }\n",
       "  }\n",
       "\n",
       "  \n",
       "  if (typeof (root._bokeh_timeout) === \"undefined\" || force === true) {\n",
       "    root._bokeh_timeout = Date.now() + 5000;\n",
       "    root._bokeh_failed_load = false;\n",
       "  }\n",
       "\n",
       "  var NB_LOAD_WARNING = {'data': {'text/html':\n",
       "     \"<div style='background-color: #fdd'>\\n\"+\n",
       "     \"<p>\\n\"+\n",
       "     \"BokehJS does not appear to have successfully loaded. If loading BokehJS from CDN, this \\n\"+\n",
       "     \"may be due to a slow or bad network connection. Possible fixes:\\n\"+\n",
       "     \"</p>\\n\"+\n",
       "     \"<ul>\\n\"+\n",
       "     \"<li>re-rerun `output_notebook()` to attempt to load from CDN again, or</li>\\n\"+\n",
       "     \"<li>use INLINE resources instead, as so:</li>\\n\"+\n",
       "     \"</ul>\\n\"+\n",
       "     \"<code>\\n\"+\n",
       "     \"from bokeh.resources import INLINE\\n\"+\n",
       "     \"output_notebook(resources=INLINE)\\n\"+\n",
       "     \"</code>\\n\"+\n",
       "     \"</div>\"}};\n",
       "\n",
       "  function display_loaded() {\n",
       "    var el = document.getElementById(\"336bca77-2b31-4f29-a6bd-c5aefd85c39d\");\n",
       "    if (el != null) {\n",
       "      el.textContent = \"BokehJS is loading...\";\n",
       "    }\n",
       "    if (root.Bokeh !== undefined) {\n",
       "      if (el != null) {\n",
       "        el.textContent = \"BokehJS \" + root.Bokeh.version + \" successfully loaded.\";\n",
       "      }\n",
       "    } else if (Date.now() < root._bokeh_timeout) {\n",
       "      setTimeout(display_loaded, 100)\n",
       "    }\n",
       "  }\n",
       "\n",
       "\n",
       "  function run_callbacks() {\n",
       "    try {\n",
       "      root._bokeh_onload_callbacks.forEach(function(callback) { callback() });\n",
       "    }\n",
       "    finally {\n",
       "      delete root._bokeh_onload_callbacks\n",
       "    }\n",
       "    console.info(\"Bokeh: all callbacks have finished\");\n",
       "  }\n",
       "\n",
       "  function load_libs(js_urls, callback) {\n",
       "    root._bokeh_onload_callbacks.push(callback);\n",
       "    if (root._bokeh_is_loading > 0) {\n",
       "      console.log(\"Bokeh: BokehJS is being loaded, scheduling callback at\", now());\n",
       "      return null;\n",
       "    }\n",
       "    if (js_urls == null || js_urls.length === 0) {\n",
       "      run_callbacks();\n",
       "      return null;\n",
       "    }\n",
       "    console.log(\"Bokeh: BokehJS not loaded, scheduling load and callback at\", now());\n",
       "    root._bokeh_is_loading = js_urls.length;\n",
       "    for (var i = 0; i < js_urls.length; i++) {\n",
       "      var url = js_urls[i];\n",
       "      var s = document.createElement('script');\n",
       "      s.src = url;\n",
       "      s.async = false;\n",
       "      s.onreadystatechange = s.onload = function() {\n",
       "        root._bokeh_is_loading--;\n",
       "        if (root._bokeh_is_loading === 0) {\n",
       "          console.log(\"Bokeh: all BokehJS libraries loaded\");\n",
       "          run_callbacks()\n",
       "        }\n",
       "      };\n",
       "      s.onerror = function() {\n",
       "        console.warn(\"failed to load library \" + url);\n",
       "      };\n",
       "      console.log(\"Bokeh: injecting script tag for BokehJS library: \", url);\n",
       "      document.getElementsByTagName(\"head\")[0].appendChild(s);\n",
       "    }\n",
       "  };var element = document.getElementById(\"336bca77-2b31-4f29-a6bd-c5aefd85c39d\");\n",
       "  if (element == null) {\n",
       "    console.log(\"Bokeh: ERROR: autoload.js configured with elementid '336bca77-2b31-4f29-a6bd-c5aefd85c39d' but no matching script tag was found. \")\n",
       "    return false;\n",
       "  }\n",
       "\n",
       "  var js_urls = [\"https://cdn.pydata.org/bokeh/release/bokeh-0.13.0.min.js\", \"https://cdn.pydata.org/bokeh/release/bokeh-widgets-0.13.0.min.js\", \"https://cdn.pydata.org/bokeh/release/bokeh-tables-0.13.0.min.js\", \"https://cdn.pydata.org/bokeh/release/bokeh-gl-0.13.0.min.js\"];\n",
       "\n",
       "  var inline_js = [\n",
       "    function(Bokeh) {\n",
       "      Bokeh.set_log_level(\"info\");\n",
       "    },\n",
       "    \n",
       "    function(Bokeh) {\n",
       "      \n",
       "    },\n",
       "    function(Bokeh) {\n",
       "      console.log(\"Bokeh: injecting CSS: https://cdn.pydata.org/bokeh/release/bokeh-0.13.0.min.css\");\n",
       "      Bokeh.embed.inject_css(\"https://cdn.pydata.org/bokeh/release/bokeh-0.13.0.min.css\");\n",
       "      console.log(\"Bokeh: injecting CSS: https://cdn.pydata.org/bokeh/release/bokeh-widgets-0.13.0.min.css\");\n",
       "      Bokeh.embed.inject_css(\"https://cdn.pydata.org/bokeh/release/bokeh-widgets-0.13.0.min.css\");\n",
       "      console.log(\"Bokeh: injecting CSS: https://cdn.pydata.org/bokeh/release/bokeh-tables-0.13.0.min.css\");\n",
       "      Bokeh.embed.inject_css(\"https://cdn.pydata.org/bokeh/release/bokeh-tables-0.13.0.min.css\");\n",
       "    }\n",
       "  ];\n",
       "\n",
       "  function run_inline_js() {\n",
       "    \n",
       "    if ((root.Bokeh !== undefined) || (force === true)) {\n",
       "      for (var i = 0; i < inline_js.length; i++) {\n",
       "        inline_js[i].call(root, root.Bokeh);\n",
       "      }if (force === true) {\n",
       "        display_loaded();\n",
       "      }} else if (Date.now() < root._bokeh_timeout) {\n",
       "      setTimeout(run_inline_js, 100);\n",
       "    } else if (!root._bokeh_failed_load) {\n",
       "      console.log(\"Bokeh: BokehJS failed to load within specified timeout.\");\n",
       "      root._bokeh_failed_load = true;\n",
       "    } else if (force !== true) {\n",
       "      var cell = $(document.getElementById(\"336bca77-2b31-4f29-a6bd-c5aefd85c39d\")).parents('.cell').data().cell;\n",
       "      cell.output_area.append_execute_result(NB_LOAD_WARNING)\n",
       "    }\n",
       "\n",
       "  }\n",
       "\n",
       "  if (root._bokeh_is_loading === 0) {\n",
       "    console.log(\"Bokeh: BokehJS loaded, going straight to plotting\");\n",
       "    run_inline_js();\n",
       "  } else {\n",
       "    load_libs(js_urls, function() {\n",
       "      console.log(\"Bokeh: BokehJS plotting callback run at\", now());\n",
       "      run_inline_js();\n",
       "    });\n",
       "  }\n",
       "}(window));"
      ],
      "application/vnd.bokehjs_load.v0+json": "\n(function(root) {\n  function now() {\n    return new Date();\n  }\n\n  var force = true;\n\n  if (typeof (root._bokeh_onload_callbacks) === \"undefined\" || force === true) {\n    root._bokeh_onload_callbacks = [];\n    root._bokeh_is_loading = undefined;\n  }\n\n  \n\n  \n  if (typeof (root._bokeh_timeout) === \"undefined\" || force === true) {\n    root._bokeh_timeout = Date.now() + 5000;\n    root._bokeh_failed_load = false;\n  }\n\n  var NB_LOAD_WARNING = {'data': {'text/html':\n     \"<div style='background-color: #fdd'>\\n\"+\n     \"<p>\\n\"+\n     \"BokehJS does not appear to have successfully loaded. If loading BokehJS from CDN, this \\n\"+\n     \"may be due to a slow or bad network connection. Possible fixes:\\n\"+\n     \"</p>\\n\"+\n     \"<ul>\\n\"+\n     \"<li>re-rerun `output_notebook()` to attempt to load from CDN again, or</li>\\n\"+\n     \"<li>use INLINE resources instead, as so:</li>\\n\"+\n     \"</ul>\\n\"+\n     \"<code>\\n\"+\n     \"from bokeh.resources import INLINE\\n\"+\n     \"output_notebook(resources=INLINE)\\n\"+\n     \"</code>\\n\"+\n     \"</div>\"}};\n\n  function display_loaded() {\n    var el = document.getElementById(\"336bca77-2b31-4f29-a6bd-c5aefd85c39d\");\n    if (el != null) {\n      el.textContent = \"BokehJS is loading...\";\n    }\n    if (root.Bokeh !== undefined) {\n      if (el != null) {\n        el.textContent = \"BokehJS \" + root.Bokeh.version + \" successfully loaded.\";\n      }\n    } else if (Date.now() < root._bokeh_timeout) {\n      setTimeout(display_loaded, 100)\n    }\n  }\n\n\n  function run_callbacks() {\n    try {\n      root._bokeh_onload_callbacks.forEach(function(callback) { callback() });\n    }\n    finally {\n      delete root._bokeh_onload_callbacks\n    }\n    console.info(\"Bokeh: all callbacks have finished\");\n  }\n\n  function load_libs(js_urls, callback) {\n    root._bokeh_onload_callbacks.push(callback);\n    if (root._bokeh_is_loading > 0) {\n      console.log(\"Bokeh: BokehJS is being loaded, scheduling callback at\", now());\n      return null;\n    }\n    if (js_urls == null || js_urls.length === 0) {\n      run_callbacks();\n      return null;\n    }\n    console.log(\"Bokeh: BokehJS not loaded, scheduling load and callback at\", now());\n    root._bokeh_is_loading = js_urls.length;\n    for (var i = 0; i < js_urls.length; i++) {\n      var url = js_urls[i];\n      var s = document.createElement('script');\n      s.src = url;\n      s.async = false;\n      s.onreadystatechange = s.onload = function() {\n        root._bokeh_is_loading--;\n        if (root._bokeh_is_loading === 0) {\n          console.log(\"Bokeh: all BokehJS libraries loaded\");\n          run_callbacks()\n        }\n      };\n      s.onerror = function() {\n        console.warn(\"failed to load library \" + url);\n      };\n      console.log(\"Bokeh: injecting script tag for BokehJS library: \", url);\n      document.getElementsByTagName(\"head\")[0].appendChild(s);\n    }\n  };var element = document.getElementById(\"336bca77-2b31-4f29-a6bd-c5aefd85c39d\");\n  if (element == null) {\n    console.log(\"Bokeh: ERROR: autoload.js configured with elementid '336bca77-2b31-4f29-a6bd-c5aefd85c39d' but no matching script tag was found. \")\n    return false;\n  }\n\n  var js_urls = [\"https://cdn.pydata.org/bokeh/release/bokeh-0.13.0.min.js\", \"https://cdn.pydata.org/bokeh/release/bokeh-widgets-0.13.0.min.js\", \"https://cdn.pydata.org/bokeh/release/bokeh-tables-0.13.0.min.js\", \"https://cdn.pydata.org/bokeh/release/bokeh-gl-0.13.0.min.js\"];\n\n  var inline_js = [\n    function(Bokeh) {\n      Bokeh.set_log_level(\"info\");\n    },\n    \n    function(Bokeh) {\n      \n    },\n    function(Bokeh) {\n      console.log(\"Bokeh: injecting CSS: https://cdn.pydata.org/bokeh/release/bokeh-0.13.0.min.css\");\n      Bokeh.embed.inject_css(\"https://cdn.pydata.org/bokeh/release/bokeh-0.13.0.min.css\");\n      console.log(\"Bokeh: injecting CSS: https://cdn.pydata.org/bokeh/release/bokeh-widgets-0.13.0.min.css\");\n      Bokeh.embed.inject_css(\"https://cdn.pydata.org/bokeh/release/bokeh-widgets-0.13.0.min.css\");\n      console.log(\"Bokeh: injecting CSS: https://cdn.pydata.org/bokeh/release/bokeh-tables-0.13.0.min.css\");\n      Bokeh.embed.inject_css(\"https://cdn.pydata.org/bokeh/release/bokeh-tables-0.13.0.min.css\");\n    }\n  ];\n\n  function run_inline_js() {\n    \n    if ((root.Bokeh !== undefined) || (force === true)) {\n      for (var i = 0; i < inline_js.length; i++) {\n        inline_js[i].call(root, root.Bokeh);\n      }if (force === true) {\n        display_loaded();\n      }} else if (Date.now() < root._bokeh_timeout) {\n      setTimeout(run_inline_js, 100);\n    } else if (!root._bokeh_failed_load) {\n      console.log(\"Bokeh: BokehJS failed to load within specified timeout.\");\n      root._bokeh_failed_load = true;\n    } else if (force !== true) {\n      var cell = $(document.getElementById(\"336bca77-2b31-4f29-a6bd-c5aefd85c39d\")).parents('.cell').data().cell;\n      cell.output_area.append_execute_result(NB_LOAD_WARNING)\n    }\n\n  }\n\n  if (root._bokeh_is_loading === 0) {\n    console.log(\"Bokeh: BokehJS loaded, going straight to plotting\");\n    run_inline_js();\n  } else {\n    load_libs(js_urls, function() {\n      console.log(\"Bokeh: BokehJS plotting callback run at\", now());\n      run_inline_js();\n    });\n  }\n}(window));"
     },
     "metadata": {},
     "output_type": "display_data"
    },
    {
     "data": {
      "text/html": [
       "\n",
       "\n",
       "\n",
       "\n",
       "\n",
       "\n",
       "  <div class=\"bk-root\" id=\"921a87ed-0bbd-420e-bb9b-8bf5f7424706\"></div>\n"
      ]
     },
     "metadata": {},
     "output_type": "display_data"
    },
    {
     "data": {
      "application/javascript": [
       "(function(root) {\n",
       "  function embed_document(root) {\n",
       "    \n",
       "  var docs_json = {\"b08f5634-813c-4e3c-bacf-55cba3fb26d7\":{\"roots\":{\"references\":[{\"attributes\":{},\"id\":\"f41bf8fa-7d8b-4c79-b8de-82f7ef0542f3\",\"type\":\"BasicTickFormatter\"},{\"attributes\":{\"grid_line_color\":{\"value\":null},\"plot\":{\"id\":\"cdbb5aa1-3197-4bc1-b08a-59de2eefb49c\",\"subtype\":\"Figure\",\"type\":\"Plot\"},\"ticker\":{\"id\":\"e4a660c0-ae91-47f7-9de2-ba853a1c3dfd\",\"type\":\"BasicTicker\"}},\"id\":\"da0a4049-48f3-467e-a552-996dd26cfbaf\",\"type\":\"Grid\"},{\"attributes\":{\"callback\":null,\"data\":{\"x\":{\"__ndarray__\":\"zczMzMzM/D/dJAaBlUMCQKrx0k1iEAdAMzMzMzMz/z+HFtnO91P9PwAAAAAAAPw/vHSTGARWAUAAAAAAAAD8P5qZmZmZmfk/zczMzMzM/D8AAAAAAAD8P/Cnxks3iQhARrbz/dR4/z9WDi2yne8KQIlBYOXQIgBArBxaZDvf/T+HFtnO91P9P1TjpZvEIP4/AAAAAAAA/D9Ei2zn+6kOQM3MzMzMzABAAAAAAAAAAECHFtnO91P9P+58PzVeuvs/eekmMQis+j93vp8aL90BQAAAAAAAAPw/30+Nl24S/T/wp8ZLN4kAQEa28/3UeP8/7nw/NV66/z+JQWDl0CIAQGZmZmZmZhBAqvHSTWIQBUC8dJMYBFYBQJqZmZmZmQFArBxaZDvf/T+HFtnO91P9P6wcWmQ73/0/d76fGi/dA0DNzMzMzMwAQKwcWmQ73/0/ukkMAiuH/D9mZmZmZmYCQDMzMzMzM/s/8KfGSzeJAkDfT42XbhL9P1YOLbKd7wRA+FPjpZtEEEBGtvP91Hj/P3npJjEIrP4/iUFg5dAiAkCsHFpkO9/9P2ZmZmZmZgZAhxbZzvdT/T9U46WbxCD+P90kBoGVQwBAd76fGi/dAUDufD81Xrr/P4lBYOXQIgBAzczMzMzM/D8zMzMzMzMDQAAAAAAAABBAzczMzMzM/D+amZmZmZkBQAAAAAAAAABAAAAAAAAADEBWDi2yne8CQCGwcmiR7f4/eekmMQis/j9Ei2zn+6kAQESLbOf7qQpAvHSTGARWA0BU46WbxCD+P90kBoGVQwBAhxbZzvdT/T8QWDm0yHYBQIcW2c73U/0/AAAAAAAAAkDNzMzMzMwAQKwcWmQ73/0/ukkMAiuH/D8hsHJoke3+P6wcWmQ73/0/vHSTGARWC0AzMzMzMzMDQAAAAAAAAABArBxaZDvf/T8AAAAAAAD8P7x0kxgEVg9AokW28/1UEEC8dJMYBFYDQCPb+X5qvAFAVOOlm8Qg/j+amZmZmZn9P0SLbOf7qQJAzczMzMzMAkAzMzMzMzMHQESLbOf7qQBAqvHSTWIQAUCamZmZmZkBQAAAAAAAAABAmpmZmZmZ/T/ufD81Xrr/PwAAAAAAAAJAMzMzMzMzAUDfT42XbhL9Pw==\",\"dtype\":\"float64\",\"shape\":[107]},\"y\":{\"__ndarray__\":\"AAAAAAAAS0AAAAAAAABPQAAAAAAAgEtAAAAAAACASUAAAAAAAABLQAAAAAAAgEdAAAAAAAAASkAAAAAAAABPQAAAAAAAAEpAAAAAAACASUAAAAAAAIBHQAAAAAAAQFFAAAAAAACAS0AAAAAAAIBQQAAAAAAAAEpAAAAAAAAASEAAAAAAAIBNQAAAAAAAAE1AAAAAAAAATUAAAAAAAABQQAAAAAAAgEpAAAAAAACATUAAAAAAAABLQAAAAAAAAEtAAAAAAAAAUEAAAAAAAIBNQAAAAAAAAEhAAAAAAAAATkAAAAAAAEBQQAAAAAAAAExAAAAAAAAAT0AAAAAAAABOQAAAAAAAgFFAAAAAAABAUEAAAAAAAABIQAAAAAAAAE5AAAAAAAAASUAAAAAAAIBPQAAAAAAAgElAAAAAAAAAT0AAAAAAAIBIQAAAAAAAgEdAAAAAAAAASkAAAAAAAIBNQAAAAAAAgE1AAAAAAAAASUAAAAAAAIBNQAAAAAAAgEpAAAAAAABAUUAAAAAAAABMQAAAAAAAgEZAAAAAAACAS0AAAAAAAIBGQAAAAAAAAExAAAAAAAAAR0AAAAAAAIBJQAAAAAAAgEpAAAAAAAAATkAAAAAAAIBNQAAAAAAAgEhAAAAAAACASkAAAAAAAEBQQAAAAAAAgFFAAAAAAACASkAAAAAAAIBGQAAAAAAAAE1AAAAAAACAUEAAAAAAAIBPQAAAAAAAAEpAAAAAAACASEAAAAAAAIBMQAAAAAAAAFFAAAAAAAAASUAAAAAAAIBLQAAAAAAAgElAAAAAAAAAR0AAAAAAAIBLQAAAAAAAgExAAAAAAACASUAAAAAAAABOQAAAAAAAgEpAAAAAAAAAR0AAAAAAAIBIQAAAAAAAgEhAAAAAAAAAUEAAAAAAAIBKQAAAAAAAgEtAAAAAAAAASUAAAAAAAABLQAAAAAAAgFFAAAAAAACAUUAAAAAAAABLQAAAAAAAAElAAAAAAAAAS0AAAAAAAABLQAAAAAAAAFBAAAAAAACAR0AAAAAAAIBPQAAAAAAAgExAAAAAAADAUEAAAAAAAABLQAAAAAAAAExAAAAAAAAATUAAAAAAAIBFQAAAAAAAAE5AAAAAAAAAR0AAAAAAAABHQA==\",\"dtype\":\"float64\",\"shape\":[107]}},\"selected\":{\"id\":\"4d68d3f0-55e0-4d70-97e2-2235b87674d7\",\"type\":\"Selection\"},\"selection_policy\":{\"id\":\"0134a1ce-00e1-4373-995c-7a47cbc8d3c8\",\"type\":\"UnionRenderers\"}},\"id\":\"56ee9263-3625-4414-94e8-3c6f6fb72def\",\"type\":\"ColumnDataSource\"},{\"attributes\":{},\"id\":\"b96c5e74-88ee-4576-86a0-3b109a0e03f6\",\"type\":\"Selection\"},{\"attributes\":{},\"id\":\"9053b84a-7cc3-4929-a198-8494397f9fa6\",\"type\":\"ResetTool\"},{\"attributes\":{\"callback\":null},\"id\":\"6becac5f-f035-4517-9387-d0b6863e096a\",\"type\":\"DataRange1d\"},{\"attributes\":{\"fill_alpha\":{\"value\":0.1},\"fill_color\":{\"value\":\"#1f77b4\"},\"line_alpha\":{\"value\":0.1},\"line_color\":{\"value\":\"#1f77b4\"},\"size\":{\"units\":\"screen\",\"value\":15},\"x\":{\"field\":\"x\"},\"y\":{\"field\":\"y\"}},\"id\":\"1248c444-5e6a-4cf6-80b1-5660a55a7a93\",\"type\":\"Square\"},{\"attributes\":{},\"id\":\"2e4d0fbb-7c31-4574-9c0b-ed3f4c83fd87\",\"type\":\"UnionRenderers\"},{\"attributes\":{},\"id\":\"ced270c2-61be-4c94-9e1d-1ea3d919f147\",\"type\":\"BasicTickFormatter\"},{\"attributes\":{\"source\":{\"id\":\"90df314a-ffed-4941-9208-724c95f917a7\",\"type\":\"ColumnDataSource\"}},\"id\":\"ee1d9885-035c-4233-9e7c-a4dd1c1cd5d0\",\"type\":\"CDSView\"},{\"attributes\":{\"data_source\":{\"id\":\"90df314a-ffed-4941-9208-724c95f917a7\",\"type\":\"ColumnDataSource\"},\"glyph\":{\"id\":\"3303f7d6-2bf0-4fc6-91dd-60e3346f4083\",\"type\":\"Circle\"},\"hover_glyph\":null,\"muted_glyph\":null,\"nonselection_glyph\":{\"id\":\"ed22b589-24c2-4b08-ba12-ad0c54fe67a6\",\"type\":\"Circle\"},\"selection_glyph\":null,\"view\":{\"id\":\"ee1d9885-035c-4233-9e7c-a4dd1c1cd5d0\",\"type\":\"CDSView\"}},\"id\":\"56abb7fb-c06d-4f6d-95d5-5b2f3b2c2a9a\",\"type\":\"GlyphRenderer\"},{\"attributes\":{\"source\":{\"id\":\"56ee9263-3625-4414-94e8-3c6f6fb72def\",\"type\":\"ColumnDataSource\"}},\"id\":\"5f3661b9-d997-4539-9bfd-231d49c07b21\",\"type\":\"CDSView\"},{\"attributes\":{\"formatter\":{\"id\":\"ced270c2-61be-4c94-9e1d-1ea3d919f147\",\"type\":\"BasicTickFormatter\"},\"plot\":{\"id\":\"cdbb5aa1-3197-4bc1-b08a-59de2eefb49c\",\"subtype\":\"Figure\",\"type\":\"Plot\"},\"ticker\":{\"id\":\"e4a660c0-ae91-47f7-9de2-ba853a1c3dfd\",\"type\":\"BasicTicker\"}},\"id\":\"de3f1e12-23d4-4379-912b-9e89bf12ef45\",\"type\":\"LinearAxis\"},{\"attributes\":{\"data_source\":{\"id\":\"56ee9263-3625-4414-94e8-3c6f6fb72def\",\"type\":\"ColumnDataSource\"},\"glyph\":{\"id\":\"3e282c7a-0b71-4537-8da8-1788a1b1db68\",\"type\":\"Square\"},\"hover_glyph\":null,\"muted_glyph\":null,\"nonselection_glyph\":{\"id\":\"1248c444-5e6a-4cf6-80b1-5660a55a7a93\",\"type\":\"Square\"},\"selection_glyph\":null,\"view\":{\"id\":\"5f3661b9-d997-4539-9bfd-231d49c07b21\",\"type\":\"CDSView\"}},\"id\":\"a444d344-e65b-4abc-9d3e-aea9d6943422\",\"type\":\"GlyphRenderer\"},{\"attributes\":{},\"id\":\"8594f58a-6f87-410f-bff8-7d46f840187f\",\"type\":\"LinearScale\"},{\"attributes\":{},\"id\":\"e4a660c0-ae91-47f7-9de2-ba853a1c3dfd\",\"type\":\"BasicTicker\"},{\"attributes\":{\"fill_alpha\":{\"value\":0.5},\"fill_color\":{\"value\":\"orange\"},\"line_alpha\":{\"value\":0.5},\"line_color\":{\"value\":\"navy\"},\"size\":{\"units\":\"screen\",\"value\":15},\"x\":{\"field\":\"x\"},\"y\":{\"field\":\"y\"}},\"id\":\"3e282c7a-0b71-4537-8da8-1788a1b1db68\",\"type\":\"Square\"},{\"attributes\":{\"fill_alpha\":{\"value\":0.1},\"fill_color\":{\"value\":\"#1f77b4\"},\"line_alpha\":{\"value\":0.1},\"line_color\":{\"value\":\"#1f77b4\"},\"size\":{\"units\":\"screen\",\"value\":15},\"x\":{\"field\":\"x\"},\"y\":{\"field\":\"y\"}},\"id\":\"ed22b589-24c2-4b08-ba12-ad0c54fe67a6\",\"type\":\"Circle\"},{\"attributes\":{\"active_drag\":\"auto\",\"active_inspect\":\"auto\",\"active_multi\":null,\"active_scroll\":\"auto\",\"active_tap\":\"auto\",\"tools\":[{\"id\":\"dbf8f037-5550-4695-a975-9528467e04de\",\"type\":\"PanTool\"},{\"id\":\"8d949e71-d009-4fd4-ae96-50ce156086e5\",\"type\":\"WheelZoomTool\"},{\"id\":\"c62074af-e151-42ca-a074-879044cf7797\",\"type\":\"BoxZoomTool\"},{\"id\":\"285089c7-f34d-4b4b-8426-666eaeaed6e2\",\"type\":\"SaveTool\"},{\"id\":\"9053b84a-7cc3-4929-a198-8494397f9fa6\",\"type\":\"ResetTool\"},{\"id\":\"94e2a204-8a38-48d3-afb5-69c491ced2e1\",\"type\":\"HelpTool\"}]},\"id\":\"efa51386-e6fc-47f7-b6db-7ceb16d3aaa7\",\"type\":\"Toolbar\"},{\"attributes\":{\"overlay\":{\"id\":\"3f5ff8f3-cf82-4385-a97c-20e1cf1654f7\",\"type\":\"BoxAnnotation\"}},\"id\":\"c62074af-e151-42ca-a074-879044cf7797\",\"type\":\"BoxZoomTool\"},{\"attributes\":{\"plot\":null,\"text\":\"Old Faithful\"},\"id\":\"3f65896a-28e7-4f90-a973-17c2e56d1209\",\"type\":\"Title\"},{\"attributes\":{\"formatter\":{\"id\":\"f41bf8fa-7d8b-4c79-b8de-82f7ef0542f3\",\"type\":\"BasicTickFormatter\"},\"plot\":{\"id\":\"cdbb5aa1-3197-4bc1-b08a-59de2eefb49c\",\"subtype\":\"Figure\",\"type\":\"Plot\"},\"ticker\":{\"id\":\"7176d5ea-a4cc-4070-9aa6-7f0ba4349c1c\",\"type\":\"BasicTicker\"}},\"id\":\"004ee6cf-1625-4397-9619-d8eaae7b18d2\",\"type\":\"LinearAxis\"},{\"attributes\":{},\"id\":\"8d949e71-d009-4fd4-ae96-50ce156086e5\",\"type\":\"WheelZoomTool\"},{\"attributes\":{\"dimension\":1,\"grid_line_color\":{\"value\":null},\"plot\":{\"id\":\"cdbb5aa1-3197-4bc1-b08a-59de2eefb49c\",\"subtype\":\"Figure\",\"type\":\"Plot\"},\"ticker\":{\"id\":\"7176d5ea-a4cc-4070-9aa6-7f0ba4349c1c\",\"type\":\"BasicTicker\"}},\"id\":\"f168038a-e030-44d6-b56a-be6824066f30\",\"type\":\"Grid\"},{\"attributes\":{\"bottom_units\":\"screen\",\"fill_alpha\":{\"value\":0.5},\"fill_color\":{\"value\":\"lightgrey\"},\"left_units\":\"screen\",\"level\":\"overlay\",\"line_alpha\":{\"value\":1.0},\"line_color\":{\"value\":\"black\"},\"line_dash\":[4,4],\"line_width\":{\"value\":2},\"plot\":null,\"render_mode\":\"css\",\"right_units\":\"screen\",\"top_units\":\"screen\"},\"id\":\"3f5ff8f3-cf82-4385-a97c-20e1cf1654f7\",\"type\":\"BoxAnnotation\"},{\"attributes\":{},\"id\":\"4d68d3f0-55e0-4d70-97e2-2235b87674d7\",\"type\":\"Selection\"},{\"attributes\":{\"callback\":null},\"id\":\"1303ab06-837c-413a-b542-fafe6fd409bd\",\"type\":\"DataRange1d\"},{\"attributes\":{},\"id\":\"dbf8f037-5550-4695-a975-9528467e04de\",\"type\":\"PanTool\"},{\"attributes\":{},\"id\":\"0134a1ce-00e1-4373-995c-7a47cbc8d3c8\",\"type\":\"UnionRenderers\"},{\"attributes\":{},\"id\":\"94e2a204-8a38-48d3-afb5-69c491ced2e1\",\"type\":\"HelpTool\"},{\"attributes\":{\"fill_alpha\":{\"value\":0.5},\"fill_color\":{\"value\":\"blue\"},\"line_alpha\":{\"value\":0.5},\"line_color\":{\"value\":\"navy\"},\"size\":{\"units\":\"screen\",\"value\":15},\"x\":{\"field\":\"x\"},\"y\":{\"field\":\"y\"}},\"id\":\"3303f7d6-2bf0-4fc6-91dd-60e3346f4083\",\"type\":\"Circle\"},{\"attributes\":{},\"id\":\"102bab96-2861-4252-8543-28dd1447fbe3\",\"type\":\"LinearScale\"},{\"attributes\":{\"background_fill_color\":{\"value\":\"#eeeeee\"},\"below\":[{\"id\":\"de3f1e12-23d4-4379-912b-9e89bf12ef45\",\"type\":\"LinearAxis\"}],\"left\":[{\"id\":\"004ee6cf-1625-4397-9619-d8eaae7b18d2\",\"type\":\"LinearAxis\"}],\"renderers\":[{\"id\":\"de3f1e12-23d4-4379-912b-9e89bf12ef45\",\"type\":\"LinearAxis\"},{\"id\":\"da0a4049-48f3-467e-a552-996dd26cfbaf\",\"type\":\"Grid\"},{\"id\":\"004ee6cf-1625-4397-9619-d8eaae7b18d2\",\"type\":\"LinearAxis\"},{\"id\":\"f168038a-e030-44d6-b56a-be6824066f30\",\"type\":\"Grid\"},{\"id\":\"3f5ff8f3-cf82-4385-a97c-20e1cf1654f7\",\"type\":\"BoxAnnotation\"},{\"id\":\"56abb7fb-c06d-4f6d-95d5-5b2f3b2c2a9a\",\"type\":\"GlyphRenderer\"},{\"id\":\"a444d344-e65b-4abc-9d3e-aea9d6943422\",\"type\":\"GlyphRenderer\"}],\"title\":{\"id\":\"3f65896a-28e7-4f90-a973-17c2e56d1209\",\"type\":\"Title\"},\"toolbar\":{\"id\":\"efa51386-e6fc-47f7-b6db-7ceb16d3aaa7\",\"type\":\"Toolbar\"},\"toolbar_location\":null,\"x_range\":{\"id\":\"1303ab06-837c-413a-b542-fafe6fd409bd\",\"type\":\"DataRange1d\"},\"x_scale\":{\"id\":\"102bab96-2861-4252-8543-28dd1447fbe3\",\"type\":\"LinearScale\"},\"y_range\":{\"id\":\"6becac5f-f035-4517-9387-d0b6863e096a\",\"type\":\"DataRange1d\"},\"y_scale\":{\"id\":\"8594f58a-6f87-410f-bff8-7d46f840187f\",\"type\":\"LinearScale\"}},\"id\":\"cdbb5aa1-3197-4bc1-b08a-59de2eefb49c\",\"subtype\":\"Figure\",\"type\":\"Plot\"},{\"attributes\":{\"callback\":null,\"data\":{\"x\":{\"__ndarray__\":\"zczMzMzMDEBEi2zn+6kKQG8Sg8DKIRJAzczMzMzMEkDNzMzMzMwMQGZmZmZmZhFAvHSTGARWD0DNzMzMzMwQQM3MzMzMzBJAMzMzMzMzE0AAAAAAAAARQJqZmZmZmQtAbxKDwMohEkDNzMzMzMwMQKJFtvP9VBBAzczMzMzMDkAIrBxaZLsRQDMzMzMzMxFAke18PzXeEUBvEoPAyiEQQESLbOf7qQ5AokW28/1UE0BvEoPAyiETQGZmZmZmZhFA+FPjpZtEEkBvEoPAyiESQPCnxks3iQpA1XjpJjGIEkAzMzMzMzMTQHe+nxov3RJAokW28/1UE0DVeOkmMYgTQCPb+X5qvA1A+FPjpZtEEkD4U+Olm0QRQAAAAAAAABJAMzMzMzMzE0CamZmZmZkRQF66SQwCqxBAzczMzMzMEkDNzMzMzMwSQG8Sg8DKIRBAAAAAAAAAEkAAAAAAAAAQQPhT46WbRBRA+FPjpZtEEkCq8dJNYhAPQM3MzMzMzAxA1XjpJjGIEECiRbbz/VQRQPhT46WbRBBACKwcWmS7E0CamZmZmZkPQMUgsHJoERJAAAAAAAAAEECiRbbz/VQRQPhT46WbRBNAMzMzMzMzEUBeukkMAqsSQAAAAAAAAA5AmpmZmZmZE0ArhxbZzncRQAAAAAAAABJAMzMzMzMzEEDNzMzMzMwSQGZmZmZmZhNAEFg5tMh2DUA730+Nl+4SQJqZmZmZmRNAXrpJDAKrEUDVeOkmMYgSQGZmZmZmZhJAXrpJDAKrEUAAAAAAAAARQGZmZmZmZhJAiUFg5dAiDkAAAAAAAAASQJqZmZmZmRJAXrpJDAKrEECiRbbz/VQRQNV46SYxiBFACKwcWmS7E0B3vp8aL90NQDvfT42X7hBAbxKDwMohEkD4U+Olm0QTQKJFtvP9VBFA1XjpJjGIEkBmZmZmZmYUQG8Sg8DKIRRAAAAAAAAAEEBmZmZmZmYSQPCnxks3iQxAAAAAAAAAEkCiRbbz/VQQQCPb+X5qvA9AmpmZmZmZEEBEi2zn+6kOQKJFtvP9VBJAAAAAAAAAFEArhxbZzncSQKJFtvP9VBJAXrpJDAKrEECiRbbz/VQRQAAAAAAAABJAAAAAAAAAEEBeukkMAqsQQKJFtvP9VBJAAAAAAAAAEUCJQWDl0CIOQAisHFpkuxFAokW28/1UEEBeukkMAqsRQDMzMzMzMxNAMzMzMzMzE0BmZmZmZmYQQO58PzVeug9AO99PjZfuEEAAAAAAAAAMQBBYObTIdhFAXrpJDAKrEkBmZmZmZmYRQNV46SYxiBBAZmZmZmZmEkArhxbZzncRQM3MzMzMzA5AAAAAAAAAEkCq8dJNYhADQM3MzMzMzBJARIts5/upDkA730+Nl+4QQDMzMzMzMxNAmpmZmZmZEEDFILByaBERQDvfT42X7hFAAAAAAAAAEEArhxbZzncQQKJFtvP9VBBAxSCwcmgREUAzMzMzMzMSQAisHFpkuxBAzczMzMzMEUBvEoPAyiERQJqZmZmZmQ9AmpmZmZmZEEAIrBxaZLsTQKJFtvP9VBJARIts5/upDkArhxbZzncRQGZmZmZmZhFAzczMzMzMEUDwp8ZLN4kMQAAAAAAAABJAmpmZmZmZEEDwp8ZLN4kOQLx0kxgEVg9AzczMzMzMEUBvEoPAyiERQMUgsHJoERNAbxKDwMohEkAAAAAAAAARQAAAAAAAABNAK4cW2c53EEBeukkMAqsRQJHtfD813hFA\",\"dtype\":\"float64\",\"shape\":[165]},\"y\":{\"__ndarray__\":\"AAAAAADAU0AAAAAAAIBSQAAAAAAAQFVAAAAAAAAAVkAAAAAAAEBVQAAAAAAAQFVAAAAAAAAAVUAAAAAAAIBTQAAAAAAAwFRAAAAAAAAAVUAAAAAAAMBTQAAAAAAAgFNAAAAAAACAUkAAAAAAAMBUQAAAAAAAAFNAAAAAAACAU0AAAAAAAMBTQAAAAAAAQFJAAAAAAABAU0AAAAAAAABUQAAAAAAAgFJAAAAAAAAAVEAAAAAAAIBWQAAAAAAAAFRAAAAAAAAAVUAAAAAAAEBSQAAAAAAAwFRAAAAAAACAVEAAAAAAAMBSQAAAAAAAgFZAAAAAAAAAVEAAAAAAAMBUQAAAAAAAwFFAAAAAAABAU0AAAAAAAEBUQAAAAAAAAFVAAAAAAACAVEAAAAAAAABXQAAAAAAAgFNAAAAAAACAU0AAAAAAAEBSQAAAAAAAgFRAAAAAAADAU0AAAAAAAMBRQAAAAAAAAFNAAAAAAACAU0AAAAAAAABTQAAAAAAAwFRAAAAAAADAUkAAAAAAAIBUQAAAAAAAQFJAAAAAAAAAVkAAAAAAAABTQAAAAAAAAFRAAAAAAACAVUAAAAAAAIBWQAAAAAAAgFNAAAAAAAAAUkAAAAAAAABVQAAAAAAAwFJAAAAAAACAVEAAAAAAAABWQAAAAAAAwFRAAAAAAABAVEAAAAAAAABVQAAAAAAAgFVAAAAAAABAVEAAAAAAAMBSQAAAAAAAQFZAAAAAAADAU0AAAAAAAEBUQAAAAAAAQFVAAAAAAADAVUAAAAAAAEBTQAAAAAAAAFZAAAAAAABAVEAAAAAAAIBUQAAAAAAAgFZAAAAAAADAVEAAAAAAAEBWQAAAAAAAgFRAAAAAAACAVUAAAAAAAMBTQAAAAAAAQFRAAAAAAACAVEAAAAAAAEBTQAAAAAAAAFNAAAAAAAAAVEAAAAAAAABYQAAAAAAAQFNAAAAAAABAU0AAAAAAAEBUQAAAAAAAwFFAAAAAAABAVEAAAAAAAEBXQAAAAAAAQFZAAAAAAACAVUAAAAAAAIBTQAAAAAAAAFNAAAAAAAAAVkAAAAAAAEBXQAAAAAAAQFNAAAAAAABAVEAAAAAAAEBUQAAAAAAAQFJAAAAAAABAVUAAAAAAAIBSQAAAAAAAQFNAAAAAAADAVEAAAAAAAMBUQAAAAAAAgFNAAAAAAAAAVUAAAAAAAMBUQAAAAAAAQFRAAAAAAAAAU0AAAAAAAABVQAAAAAAAQFNAAAAAAABAVEAAAAAAAMBVQAAAAAAAQFNAAAAAAACAU0AAAAAAAIBUQAAAAAAAwFZAAAAAAACAU0AAAAAAAEBTQAAAAAAAAFVAAAAAAADAVEAAAAAAAMBRQAAAAAAAAFRAAAAAAADAUkAAAAAAAABTQAAAAAAAgFdAAAAAAAAAU0AAAAAAAIBUQAAAAAAAwFJAAAAAAACAU0AAAAAAAMBTQAAAAAAAgFNAAAAAAACAU0AAAAAAAMBTQAAAAAAAgFVAAAAAAACAVkAAAAAAAEBTQAAAAAAAwFNAAAAAAADAUkAAAAAAAIBVQAAAAAAAQFVAAAAAAACAVEAAAAAAAIBUQAAAAAAAgFJAAAAAAADAVEAAAAAAAEBSQAAAAAAAQFJAAAAAAAAAVkAAAAAAAABUQAAAAAAAwFFAAAAAAADAVEAAAAAAAMBTQAAAAAAAgFNAAAAAAAAAVUAAAAAAAMBUQAAAAAAAwFJAAAAAAABAVEAAAAAAAIBWQAAAAAAAgFJA\",\"dtype\":\"float64\",\"shape\":[165]}},\"selected\":{\"id\":\"b96c5e74-88ee-4576-86a0-3b109a0e03f6\",\"type\":\"Selection\"},\"selection_policy\":{\"id\":\"2e4d0fbb-7c31-4574-9c0b-ed3f4c83fd87\",\"type\":\"UnionRenderers\"}},\"id\":\"90df314a-ffed-4941-9208-724c95f917a7\",\"type\":\"ColumnDataSource\"},{\"attributes\":{},\"id\":\"7176d5ea-a4cc-4070-9aa6-7f0ba4349c1c\",\"type\":\"BasicTicker\"},{\"attributes\":{},\"id\":\"285089c7-f34d-4b4b-8426-666eaeaed6e2\",\"type\":\"SaveTool\"}],\"root_ids\":[\"cdbb5aa1-3197-4bc1-b08a-59de2eefb49c\"]},\"title\":\"Bokeh Application\",\"version\":\"0.13.0\"}};\n",
       "  var render_items = [{\"docid\":\"b08f5634-813c-4e3c-bacf-55cba3fb26d7\",\"roots\":{\"cdbb5aa1-3197-4bc1-b08a-59de2eefb49c\":\"921a87ed-0bbd-420e-bb9b-8bf5f7424706\"}}];\n",
       "  root.Bokeh.embed.embed_items_notebook(docs_json, render_items);\n",
       "\n",
       "  }\n",
       "  if (root.Bokeh !== undefined) {\n",
       "    embed_document(root);\n",
       "  } else {\n",
       "    var attempts = 0;\n",
       "    var timer = setInterval(function(root) {\n",
       "      if (root.Bokeh !== undefined) {\n",
       "        embed_document(root);\n",
       "        clearInterval(timer);\n",
       "      }\n",
       "      attempts++;\n",
       "      if (attempts > 100) {\n",
       "        console.log(\"Bokeh: ERROR: Unable to run BokehJS code because BokehJS library is missing\")\n",
       "        clearInterval(timer);\n",
       "      }\n",
       "    }, 10, root)\n",
       "  }\n",
       "})(window);"
      ],
      "application/vnd.bokehjs_exec.v0+json": ""
     },
     "metadata": {
      "application/vnd.bokehjs_exec.v0+json": {
       "id": "cdbb5aa1-3197-4bc1-b08a-59de2eefb49c"
      }
     },
     "output_type": "display_data"
    }
   ],
   "source": [
    "from bokeh.plotting import figure, show, output_notebook\n",
    "output_notebook()\n",
    "\n",
    "mstep()\n",
    "estep()\n",
    "\n",
    "\n",
    "# Build a figure\n",
    "p = figure(title=\"Old Faithful\", toolbar_location=None)\n",
    "p.grid.grid_line_color = None\n",
    "p.background_fill_color = \"#eeeeee\"\n",
    "\n",
    "def mscatter(p, x, y, marker, fill):\n",
    "    p.scatter(x, y, marker=marker, size=15,\n",
    "              line_color=\"navy\", fill_color=fill, alpha=0.5)\n",
    "\n",
    "\n",
    "# First cluster\n",
    "C1 = olf_mat[np.where(ar[:,0])]\n",
    "\n",
    "# Second Cluster\n",
    "C2 = olf_mat[np.where(ar[:,1])]\n",
    "    \n",
    "# Throw in clusters\n",
    "mscatter(p, C1[:,0], C1[:,1], \"circle\", \"blue\")\n",
    "mscatter(p, C2[:,0], C2[:,1], \"square\", \"orange\")\n",
    "\n",
    "\n",
    "\n",
    "show(p)"
   ]
  },
  {
   "cell_type": "markdown",
   "metadata": {},
   "source": [
    "*Checking Progress - plots of $J$*"
   ]
  },
  {
   "cell_type": "markdown",
   "metadata": {},
   "source": [
    "Recall our cost function. Let's make it into a python function. What should it take as input?"
   ]
  },
  {
   "cell_type": "code",
   "execution_count": 24,
   "metadata": {},
   "outputs": [],
   "source": [
    "def Jay(ars,m):\n",
    "    total = 0\n",
    "    for row in range(olf_mat.shape[0]):\n",
    "        for k in range(2):\n",
    "            if ar[row,k]:\n",
    "                total += np.linalg.norm(olf_mat[row] - mu[k])**2\n",
    "    return total"
   ]
  },
  {
   "cell_type": "code",
   "execution_count": 25,
   "metadata": {},
   "outputs": [
    {
     "data": {
      "text/plain": [
       "47342.756975000055"
      ]
     },
     "execution_count": 25,
     "metadata": {},
     "output_type": "execute_result"
    }
   ],
   "source": [
    "Jay(ar,mu)"
   ]
  },
  {
   "cell_type": "markdown",
   "metadata": {},
   "source": [
    "Let's reinitialize, and then make a plot."
   ]
  },
  {
   "cell_type": "code",
   "execution_count": 26,
   "metadata": {},
   "outputs": [],
   "source": [
    "# Choosing Centers\n",
    "#mu = olf_mat[[3, 5]]\n",
    "\n",
    "mu = np.array([[2,80],[4, 50]])\n",
    "\n",
    "\n",
    "# Creating r_nk\n",
    "ar = np.zeros((len(olf_mat),2))\n",
    "\n",
    "# Initializing r_nk\n",
    "for row in range(olf_mat.shape[0]):\n",
    "    dists = np.linalg.norm(row - mu, axis=1)\n",
    "    smallest = min(dists)\n",
    "    center = list(dists).index(smallest)\n",
    "    ar[row,center] = 1"
   ]
  },
  {
   "cell_type": "code",
   "execution_count": 27,
   "metadata": {},
   "outputs": [
    {
     "data": {
      "text/html": [
       "\n",
       "\n",
       "\n",
       "\n",
       "\n",
       "\n",
       "  <div class=\"bk-root\" id=\"058628d8-1010-41fa-88be-660b21021fbc\"></div>\n"
      ]
     },
     "metadata": {},
     "output_type": "display_data"
    },
    {
     "data": {
      "application/javascript": [
       "(function(root) {\n",
       "  function embed_document(root) {\n",
       "    \n",
       "  var docs_json = {\"e3640801-c6e0-4a0a-91a1-2886591956f9\":{\"roots\":{\"references\":[{\"attributes\":{},\"id\":\"d7057022-6dba-425a-bf35-891e48d701a1\",\"type\":\"LinearScale\"},{\"attributes\":{},\"id\":\"0cc8f27b-c608-440e-adcb-4b7a3156a919\",\"type\":\"PanTool\"},{\"attributes\":{\"line_alpha\":0.1,\"line_color\":\"#1f77b4\",\"x\":{\"field\":\"x\"},\"y\":{\"field\":\"y\"}},\"id\":\"5c297f8a-8a68-4bd8-a8d2-7e2d7c95b4ec\",\"type\":\"Line\"},{\"attributes\":{\"callback\":null},\"id\":\"cd06f98a-d2c0-4c2a-87e7-4e084f77aa38\",\"type\":\"DataRange1d\"},{\"attributes\":{},\"id\":\"9526cc93-c1a3-4578-a5f3-33e8331ce35b\",\"type\":\"SaveTool\"},{\"attributes\":{\"formatter\":{\"id\":\"f70a18cb-ffdb-4ac8-a540-5e7041bf03d1\",\"type\":\"BasicTickFormatter\"},\"plot\":{\"id\":\"3f6fbbcc-4933-46ad-8987-e10c72fb2ef9\",\"subtype\":\"Figure\",\"type\":\"Plot\"},\"ticker\":{\"id\":\"216fea9f-3c8c-4ea2-b556-13b0debad43c\",\"type\":\"BasicTicker\"}},\"id\":\"abd96b50-e51a-4b13-9e7c-a8ec329f8e7e\",\"type\":\"LinearAxis\"},{\"attributes\":{},\"id\":\"216fea9f-3c8c-4ea2-b556-13b0debad43c\",\"type\":\"BasicTicker\"},{\"attributes\":{\"line_color\":\"green\",\"x\":{\"field\":\"x\"},\"y\":{\"field\":\"y\"}},\"id\":\"b5ada34f-4cd6-4014-828a-2e0edd86e5e0\",\"type\":\"Line\"},{\"attributes\":{\"source\":{\"id\":\"9043703b-4f1d-4e2e-8585-b04a37477753\",\"type\":\"ColumnDataSource\"}},\"id\":\"a813c10b-dd40-4726-b9cd-f5c2d7460302\",\"type\":\"CDSView\"},{\"attributes\":{},\"id\":\"a073db1f-8999-4f41-9047-b96d5bd9cacf\",\"type\":\"BasicTicker\"},{\"attributes\":{\"data_source\":{\"id\":\"9043703b-4f1d-4e2e-8585-b04a37477753\",\"type\":\"ColumnDataSource\"},\"glyph\":{\"id\":\"b5ada34f-4cd6-4014-828a-2e0edd86e5e0\",\"type\":\"Line\"},\"hover_glyph\":null,\"muted_glyph\":null,\"nonselection_glyph\":{\"id\":\"5c297f8a-8a68-4bd8-a8d2-7e2d7c95b4ec\",\"type\":\"Line\"},\"selection_glyph\":null,\"view\":{\"id\":\"a813c10b-dd40-4726-b9cd-f5c2d7460302\",\"type\":\"CDSView\"}},\"id\":\"dae25075-cadd-4a66-9e7c-7e8541d7a828\",\"type\":\"GlyphRenderer\"},{\"attributes\":{\"callback\":null,\"data\":{\"x\":[0,1,2,3],\"y\":[47342.756975000055,8938.134974999999,8988.134974999995,8988.134974999995]},\"selected\":{\"id\":\"0eccf015-e9ce-4089-8874-5391a1555266\",\"type\":\"Selection\"},\"selection_policy\":{\"id\":\"544aa462-9320-4da9-a50d-3306698227cd\",\"type\":\"UnionRenderers\"}},\"id\":\"9043703b-4f1d-4e2e-8585-b04a37477753\",\"type\":\"ColumnDataSource\"},{\"attributes\":{},\"id\":\"ba6d5ddc-dc44-49f1-a0d7-0ee14ce0476d\",\"type\":\"WheelZoomTool\"},{\"attributes\":{},\"id\":\"f24e7841-19fa-42d2-b09a-ce85f9fb62ae\",\"type\":\"HelpTool\"},{\"attributes\":{},\"id\":\"c58d6374-f1cf-454b-9d0d-cbd7c923b186\",\"type\":\"LinearScale\"},{\"attributes\":{},\"id\":\"0eccf015-e9ce-4089-8874-5391a1555266\",\"type\":\"Selection\"},{\"attributes\":{\"formatter\":{\"id\":\"db6b12e3-0b46-4c85-a91c-ef7762a90305\",\"type\":\"BasicTickFormatter\"},\"plot\":{\"id\":\"3f6fbbcc-4933-46ad-8987-e10c72fb2ef9\",\"subtype\":\"Figure\",\"type\":\"Plot\"},\"ticker\":{\"id\":\"a073db1f-8999-4f41-9047-b96d5bd9cacf\",\"type\":\"BasicTicker\"}},\"id\":\"c0576081-a76c-4286-ba60-0315774ddf6b\",\"type\":\"LinearAxis\"},{\"attributes\":{},\"id\":\"f70a18cb-ffdb-4ac8-a540-5e7041bf03d1\",\"type\":\"BasicTickFormatter\"},{\"attributes\":{},\"id\":\"22a3e79a-0114-4cd1-a69d-a36e06d99bdd\",\"type\":\"ResetTool\"},{\"attributes\":{},\"id\":\"db6b12e3-0b46-4c85-a91c-ef7762a90305\",\"type\":\"BasicTickFormatter\"},{\"attributes\":{\"active_drag\":\"auto\",\"active_inspect\":\"auto\",\"active_multi\":null,\"active_scroll\":\"auto\",\"active_tap\":\"auto\",\"tools\":[{\"id\":\"0cc8f27b-c608-440e-adcb-4b7a3156a919\",\"type\":\"PanTool\"},{\"id\":\"ba6d5ddc-dc44-49f1-a0d7-0ee14ce0476d\",\"type\":\"WheelZoomTool\"},{\"id\":\"5072764f-17bd-4c78-9a82-cb2d4304fd7d\",\"type\":\"BoxZoomTool\"},{\"id\":\"9526cc93-c1a3-4578-a5f3-33e8331ce35b\",\"type\":\"SaveTool\"},{\"id\":\"22a3e79a-0114-4cd1-a69d-a36e06d99bdd\",\"type\":\"ResetTool\"},{\"id\":\"f24e7841-19fa-42d2-b09a-ce85f9fb62ae\",\"type\":\"HelpTool\"}]},\"id\":\"c84a52da-8214-45a4-a9b8-7e88ba35469a\",\"type\":\"Toolbar\"},{\"attributes\":{\"background_fill_color\":{\"value\":\"#eeeeee\"},\"below\":[{\"id\":\"abd96b50-e51a-4b13-9e7c-a8ec329f8e7e\",\"type\":\"LinearAxis\"}],\"left\":[{\"id\":\"c0576081-a76c-4286-ba60-0315774ddf6b\",\"type\":\"LinearAxis\"}],\"renderers\":[{\"id\":\"abd96b50-e51a-4b13-9e7c-a8ec329f8e7e\",\"type\":\"LinearAxis\"},{\"id\":\"c25323a1-02f2-4a19-9181-a023d3940b60\",\"type\":\"Grid\"},{\"id\":\"c0576081-a76c-4286-ba60-0315774ddf6b\",\"type\":\"LinearAxis\"},{\"id\":\"140f6a8e-7b74-436d-97db-646bbbc70420\",\"type\":\"Grid\"},{\"id\":\"8cd91356-58b9-4f6c-ace0-e083be6bc863\",\"type\":\"BoxAnnotation\"},{\"id\":\"dae25075-cadd-4a66-9e7c-7e8541d7a828\",\"type\":\"GlyphRenderer\"}],\"title\":{\"id\":\"e41d8ee9-6b66-462d-a8ea-0a491e198a4f\",\"type\":\"Title\"},\"toolbar\":{\"id\":\"c84a52da-8214-45a4-a9b8-7e88ba35469a\",\"type\":\"Toolbar\"},\"toolbar_location\":null,\"x_range\":{\"id\":\"eb157cef-0216-48fe-89ef-0d5976bc220c\",\"type\":\"DataRange1d\"},\"x_scale\":{\"id\":\"d7057022-6dba-425a-bf35-891e48d701a1\",\"type\":\"LinearScale\"},\"y_range\":{\"id\":\"cd06f98a-d2c0-4c2a-87e7-4e084f77aa38\",\"type\":\"DataRange1d\"},\"y_scale\":{\"id\":\"c58d6374-f1cf-454b-9d0d-cbd7c923b186\",\"type\":\"LinearScale\"}},\"id\":\"3f6fbbcc-4933-46ad-8987-e10c72fb2ef9\",\"subtype\":\"Figure\",\"type\":\"Plot\"},{\"attributes\":{\"bottom_units\":\"screen\",\"fill_alpha\":{\"value\":0.5},\"fill_color\":{\"value\":\"lightgrey\"},\"left_units\":\"screen\",\"level\":\"overlay\",\"line_alpha\":{\"value\":1.0},\"line_color\":{\"value\":\"black\"},\"line_dash\":[4,4],\"line_width\":{\"value\":2},\"plot\":null,\"render_mode\":\"css\",\"right_units\":\"screen\",\"top_units\":\"screen\"},\"id\":\"8cd91356-58b9-4f6c-ace0-e083be6bc863\",\"type\":\"BoxAnnotation\"},{\"attributes\":{\"dimension\":1,\"grid_line_color\":{\"value\":null},\"plot\":{\"id\":\"3f6fbbcc-4933-46ad-8987-e10c72fb2ef9\",\"subtype\":\"Figure\",\"type\":\"Plot\"},\"ticker\":{\"id\":\"a073db1f-8999-4f41-9047-b96d5bd9cacf\",\"type\":\"BasicTicker\"}},\"id\":\"140f6a8e-7b74-436d-97db-646bbbc70420\",\"type\":\"Grid\"},{\"attributes\":{},\"id\":\"544aa462-9320-4da9-a50d-3306698227cd\",\"type\":\"UnionRenderers\"},{\"attributes\":{\"callback\":null},\"id\":\"eb157cef-0216-48fe-89ef-0d5976bc220c\",\"type\":\"DataRange1d\"},{\"attributes\":{\"plot\":null,\"text\":\"Cost Function J\"},\"id\":\"e41d8ee9-6b66-462d-a8ea-0a491e198a4f\",\"type\":\"Title\"},{\"attributes\":{\"overlay\":{\"id\":\"8cd91356-58b9-4f6c-ace0-e083be6bc863\",\"type\":\"BoxAnnotation\"}},\"id\":\"5072764f-17bd-4c78-9a82-cb2d4304fd7d\",\"type\":\"BoxZoomTool\"},{\"attributes\":{\"grid_line_color\":{\"value\":null},\"plot\":{\"id\":\"3f6fbbcc-4933-46ad-8987-e10c72fb2ef9\",\"subtype\":\"Figure\",\"type\":\"Plot\"},\"ticker\":{\"id\":\"216fea9f-3c8c-4ea2-b556-13b0debad43c\",\"type\":\"BasicTicker\"}},\"id\":\"c25323a1-02f2-4a19-9181-a023d3940b60\",\"type\":\"Grid\"}],\"root_ids\":[\"3f6fbbcc-4933-46ad-8987-e10c72fb2ef9\"]},\"title\":\"Bokeh Application\",\"version\":\"0.13.0\"}};\n",
       "  var render_items = [{\"docid\":\"e3640801-c6e0-4a0a-91a1-2886591956f9\",\"roots\":{\"3f6fbbcc-4933-46ad-8987-e10c72fb2ef9\":\"058628d8-1010-41fa-88be-660b21021fbc\"}}];\n",
       "  root.Bokeh.embed.embed_items_notebook(docs_json, render_items);\n",
       "\n",
       "  }\n",
       "  if (root.Bokeh !== undefined) {\n",
       "    embed_document(root);\n",
       "  } else {\n",
       "    var attempts = 0;\n",
       "    var timer = setInterval(function(root) {\n",
       "      if (root.Bokeh !== undefined) {\n",
       "        embed_document(root);\n",
       "        clearInterval(timer);\n",
       "      }\n",
       "      attempts++;\n",
       "      if (attempts > 100) {\n",
       "        console.log(\"Bokeh: ERROR: Unable to run BokehJS code because BokehJS library is missing\")\n",
       "        clearInterval(timer);\n",
       "      }\n",
       "    }, 10, root)\n",
       "  }\n",
       "})(window);"
      ],
      "application/vnd.bokehjs_exec.v0+json": ""
     },
     "metadata": {
      "application/vnd.bokehjs_exec.v0+json": {
       "id": "3f6fbbcc-4933-46ad-8987-e10c72fb2ef9"
      }
     },
     "output_type": "display_data"
    }
   ],
   "source": [
    "# Build a figure\n",
    "f = figure(title=\"Cost Function J\", toolbar_location=None)\n",
    "f.grid.grid_line_color = None\n",
    "f.background_fill_color = \"#eeeeee\"\n",
    "\n",
    "# X and Y coords\n",
    "X, Y = range(4),[]\n",
    "\n",
    "for i in X:\n",
    "    mstep()\n",
    "    estep()\n",
    "    Y.append(Jay(ar,mu))\n",
    "\n",
    "# A line separating them\n",
    "f.line(X,Y, line_color='green')\n",
    "\n",
    "\n",
    "show(f)"
   ]
  },
  {
   "cell_type": "markdown",
   "metadata": {},
   "source": [
    "Pretty much what you'd expect."
   ]
  },
  {
   "cell_type": "markdown",
   "metadata": {},
   "source": [
    "**Elbow Method** - *plots of $SSE$ to work out $k$*"
   ]
  },
  {
   "cell_type": "markdown",
   "metadata": {},
   "source": [
    "A related but different plot can help us to decide which $k$ to use. Let's generate some more complex data, which we'll also use in the final example."
   ]
  },
  {
   "cell_type": "code",
   "execution_count": 28,
   "metadata": {},
   "outputs": [
    {
     "data": {
      "text/html": [
       "\n",
       "\n",
       "\n",
       "\n",
       "\n",
       "\n",
       "  <div class=\"bk-root\" id=\"d9ff4bad-1b44-4b5b-96e6-b26ff66e998f\"></div>\n"
      ]
     },
     "metadata": {},
     "output_type": "display_data"
    },
    {
     "data": {
      "application/javascript": [
       "(function(root) {\n",
       "  function embed_document(root) {\n",
       "    \n",
       "  var docs_json = {\"515bdccf-c9c9-4963-a58f-e37a6d512895\":{\"roots\":{\"references\":[{\"attributes\":{},\"id\":\"29151deb-9fab-4947-86a2-699628d4e5af\",\"type\":\"LinearScale\"},{\"attributes\":{\"data_source\":{\"id\":\"c6d05351-bb12-4a6c-9450-838f1f75c2e9\",\"type\":\"ColumnDataSource\"},\"glyph\":{\"id\":\"60c39457-eaff-4b36-837b-cbcd04fb0cc6\",\"type\":\"Circle\"},\"hover_glyph\":null,\"muted_glyph\":null,\"nonselection_glyph\":{\"id\":\"ebdbe88f-b2d0-470b-a724-caa0d3438f96\",\"type\":\"Circle\"},\"selection_glyph\":null,\"view\":{\"id\":\"afd75772-90bb-437d-bc8f-514a64e1bb84\",\"type\":\"CDSView\"}},\"id\":\"f38aad19-c682-44b2-813c-ddd6a7f6ed45\",\"type\":\"GlyphRenderer\"},{\"attributes\":{\"callback\":null},\"id\":\"ad915fda-6a9c-4bab-95e1-7ef7256095a6\",\"type\":\"DataRange1d\"},{\"attributes\":{\"background_fill_color\":{\"value\":\"#eeeeee\"},\"below\":[{\"id\":\"602f7b4a-aede-4702-b28c-bd8218bdb665\",\"type\":\"LinearAxis\"}],\"left\":[{\"id\":\"dd5e5370-ed3f-4e83-95d7-ce735095ee38\",\"type\":\"LinearAxis\"}],\"renderers\":[{\"id\":\"602f7b4a-aede-4702-b28c-bd8218bdb665\",\"type\":\"LinearAxis\"},{\"id\":\"580436e8-7d25-4202-9dea-64a51100e8e9\",\"type\":\"Grid\"},{\"id\":\"dd5e5370-ed3f-4e83-95d7-ce735095ee38\",\"type\":\"LinearAxis\"},{\"id\":\"3a933eb5-4528-4b45-bfac-4fc8cb8b5d5e\",\"type\":\"Grid\"},{\"id\":\"21396820-5fdb-4c22-bc9e-41b864222e3e\",\"type\":\"BoxAnnotation\"},{\"id\":\"f01a951c-555d-49c2-ab32-75fa17cd485f\",\"type\":\"GlyphRenderer\"},{\"id\":\"7b367229-2210-4bc5-889c-6d4698b27683\",\"type\":\"GlyphRenderer\"},{\"id\":\"f38aad19-c682-44b2-813c-ddd6a7f6ed45\",\"type\":\"GlyphRenderer\"}],\"title\":{\"id\":\"0658778e-b589-4787-ad26-47a81dd668bf\",\"type\":\"Title\"},\"toolbar\":{\"id\":\"f876226d-39dd-4e34-b70a-25eb3611977c\",\"type\":\"Toolbar\"},\"toolbar_location\":null,\"x_range\":{\"id\":\"1954ee41-e227-4d5f-b070-adf12a5c414b\",\"type\":\"DataRange1d\"},\"x_scale\":{\"id\":\"29151deb-9fab-4947-86a2-699628d4e5af\",\"type\":\"LinearScale\"},\"y_range\":{\"id\":\"ad915fda-6a9c-4bab-95e1-7ef7256095a6\",\"type\":\"DataRange1d\"},\"y_scale\":{\"id\":\"83c63bd3-2989-425a-a623-f007e6ae91eb\",\"type\":\"LinearScale\"}},\"id\":\"e77a6a0d-cc1a-4a89-ab0b-a0f514fd260f\",\"subtype\":\"Figure\",\"type\":\"Plot\"},{\"attributes\":{},\"id\":\"18e59449-efd8-42d6-8e88-e2c1d4e1eb9b\",\"type\":\"UnionRenderers\"},{\"attributes\":{},\"id\":\"cc5dc49c-6af7-47b1-b999-340424506628\",\"type\":\"Selection\"},{\"attributes\":{\"formatter\":{\"id\":\"600cd5b1-663c-420d-ab88-f474fcfbacb5\",\"type\":\"BasicTickFormatter\"},\"plot\":{\"id\":\"e77a6a0d-cc1a-4a89-ab0b-a0f514fd260f\",\"subtype\":\"Figure\",\"type\":\"Plot\"},\"ticker\":{\"id\":\"d8f3a48f-9e9c-4224-95a8-9ba45f47d4cd\",\"type\":\"BasicTicker\"}},\"id\":\"dd5e5370-ed3f-4e83-95d7-ce735095ee38\",\"type\":\"LinearAxis\"},{\"attributes\":{},\"id\":\"19eb09c0-3296-416a-b10d-da205e3317fa\",\"type\":\"BasicTicker\"},{\"attributes\":{\"data_source\":{\"id\":\"afd759f3-57c1-40c3-bd7d-455a58db2819\",\"type\":\"ColumnDataSource\"},\"glyph\":{\"id\":\"f49c66be-b0df-4c20-907e-b0ae01147b0f\",\"type\":\"Circle\"},\"hover_glyph\":null,\"muted_glyph\":null,\"nonselection_glyph\":{\"id\":\"528d8cfb-7760-43c6-8444-f20bf9b7bb6f\",\"type\":\"Circle\"},\"selection_glyph\":null,\"view\":{\"id\":\"f1fe2c8a-e275-49fc-a878-9843c5e3a2b4\",\"type\":\"CDSView\"}},\"id\":\"7b367229-2210-4bc5-889c-6d4698b27683\",\"type\":\"GlyphRenderer\"},{\"attributes\":{\"callback\":null},\"id\":\"1954ee41-e227-4d5f-b070-adf12a5c414b\",\"type\":\"DataRange1d\"},{\"attributes\":{\"source\":{\"id\":\"afd759f3-57c1-40c3-bd7d-455a58db2819\",\"type\":\"ColumnDataSource\"}},\"id\":\"f1fe2c8a-e275-49fc-a878-9843c5e3a2b4\",\"type\":\"CDSView\"},{\"attributes\":{\"active_drag\":\"auto\",\"active_inspect\":\"auto\",\"active_multi\":null,\"active_scroll\":\"auto\",\"active_tap\":\"auto\",\"tools\":[{\"id\":\"c2af4d18-97ac-4ef8-a8a0-432122017441\",\"type\":\"PanTool\"},{\"id\":\"f0a4e190-2984-4efc-931e-3d3260192cd0\",\"type\":\"WheelZoomTool\"},{\"id\":\"34ef7cde-7bda-40f0-86cb-2569f81d7ba1\",\"type\":\"BoxZoomTool\"},{\"id\":\"b14a52a7-64b2-4c9b-91de-8c4b069746ea\",\"type\":\"SaveTool\"},{\"id\":\"7c266523-1a7d-4d0e-b18a-c30da2ef997b\",\"type\":\"ResetTool\"},{\"id\":\"40a21642-a8aa-428c-aa3c-70f0f2b15d18\",\"type\":\"HelpTool\"}]},\"id\":\"f876226d-39dd-4e34-b70a-25eb3611977c\",\"type\":\"Toolbar\"},{\"attributes\":{},\"id\":\"d8f3a48f-9e9c-4224-95a8-9ba45f47d4cd\",\"type\":\"BasicTicker\"},{\"attributes\":{\"fill_alpha\":{\"value\":0.1},\"fill_color\":{\"value\":\"#1f77b4\"},\"line_alpha\":{\"value\":0.1},\"line_color\":{\"value\":\"#1f77b4\"},\"size\":{\"units\":\"screen\",\"value\":15},\"x\":{\"field\":\"x\"},\"y\":{\"field\":\"y\"}},\"id\":\"528d8cfb-7760-43c6-8444-f20bf9b7bb6f\",\"type\":\"Circle\"},{\"attributes\":{\"overlay\":{\"id\":\"21396820-5fdb-4c22-bc9e-41b864222e3e\",\"type\":\"BoxAnnotation\"}},\"id\":\"34ef7cde-7bda-40f0-86cb-2569f81d7ba1\",\"type\":\"BoxZoomTool\"},{\"attributes\":{},\"id\":\"cfbed2a6-2e7a-4867-94d3-544b1810308c\",\"type\":\"BasicTickFormatter\"},{\"attributes\":{\"source\":{\"id\":\"c6d05351-bb12-4a6c-9450-838f1f75c2e9\",\"type\":\"ColumnDataSource\"}},\"id\":\"afd75772-90bb-437d-bc8f-514a64e1bb84\",\"type\":\"CDSView\"},{\"attributes\":{\"callback\":null,\"data\":{\"x\":{\"__ndarray__\":\"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\",\"dtype\":\"float64\",\"shape\":[500]},\"y\":{\"__ndarray__\":\"2hFVIMrmAkAeFc3xhPcSQJpDCRVEohFA5ttrg82yBUDDPkpYiZzpPzXkQoPbKfA/Zgcw5eqD+j+0OxzqAT0PQPBXEwF1Vbw/0iVMXGs+5L88a8HiZ04BQBQkrAGbxvo/1i9web7i+z9Jggqfo532P+CKvMD13/a/flNa6wjX6z/QhEiCDTjLP9SPEwgUaPm/c46NRNmJ8j8qkPkVhjMGQIyLgC9/e+k/aW8kd2QC4j9gBhaByrvjP2Zm0cLGMQRAUpXzGo83+D86DiLMMmjwPy192NKE9PU/LPRO3EdDCkBK2JeVPdLrv8jzg2OsQMS/luRI5u55CMDGinp8kfbrPyhhr1pz6vW/2kkvyPPhAkAwOlOJGG63v/tYSyZ10vw/FOy8zQ5M7D94+e6Y5Grgvzo64a+BmwtAJBqmRKTs1T9KBYv8S7LmP0ofanjV4fK/0MPSXXWo2j9YaJG+NG31P+UsTNE///g/0x56YF2RAMDgyG+hqbUHQCXUptIUdAFAViWhcPfq4z9WD/6WDGXxP0pjwLhigQBAlvxJIXt24T+VNtwz/wgHQOJXqTR6uNc/qpX/u33w9L/AV0Ij8+34v3Y+WpJO/OE/DBnOxKnV5j8iiLZkigYBQD7yRC4sgPK/IHZt3eDLtL8QqZsluXi2v0BV9fECy7w/OIuTd2TvAkDQhOJsaGTNP36vafR9vOE/RIK7OHnR3D/M3R6zux7uv8tLipUW9vQ/G53XIL9q8z+lEB4ZfzT5P3B9UrQIoP+/57LIOqDICkAyYsrl8Y3uv8JWULrvSee/NguT9aY34b+kIAQiMcnvP4q0kay3/fW/83EefWM6/D+IAZr+H+HpP2Q9Nh/vgwtAvvLw63A14T9mKO+T+kz3v6OqYzjMPvE/7xpXi56yAsAA4iPn6A21v+JDemER5dw/2EoZFtD93L8KSNsHgaLePywWVvudzeI/ZG8uc6Es+79fIImqolIHQOLiOo+dQAFAzK70B4qw9j+EjOPaDmDxP5zzsajgT9W/cJsaHnlP7j8IsWqbEoj+P3tdE7ZtoRJA9c5zuNU1AMAwXXZYDmv4PzuWMcIGPgJARvju679VAEBgsWS/aPTrPxCf32v5BhNAXOD4/vfsFkBwJhiWQBzSv4feLgKRPf8/IE6utUwhp7/qZhxXcJ35v8AtU8GnJ68/hYt7gedKBED6MQjzScbqv8Dy08a+pqG/Bm4vqbzI+b+8SEYv2wviP5ykE5P0aQJA7kRoGNSKEEDSpLXX76gBQI4fP1folgVA/u8x6fU08j+MQooHGtH0PzN9h9GLqgFAamtJDohkEUDN/0Vg6D3qP+oFxKYkSPS/4czTcOwkAkASQC4bndsKQOBS71HBs/w/ZvGKVURo7j+8/U/O5+ztPww8Doz+GsI/LMN3ssm01L+ND20ggEYKQEwy+iUHneo/+Cz+wpycCcCbH3yZRJgRQGrS4Pqn7PA/DMPAhLRlAUB4eF1VgEjrP7Aa6r/yu/M/NFP6CFky0L/UcpUo2KYFQCJ40t/oFgJA2vafGJ9l3T/ug3f1mMAKQHg4RIPdgQRAsrPvgKsMAUDDR0vM0r7wP2JiN8x5QeW/lpAheaq577/EPI4E52IBQOv1kOetqAdAhMVANgga1z9gYxjMFiLZvzh6xSOKLRBAYz4rjpZy8D9s7XgfGmEFQObjsHcHIvA/WUYYTFX1/D+OmOwjqqMHQPAKcG0L6gVARazM9sC4AsBVfYXBkYcCQBwenehd0+0/2QWVDp8AB0DymFd3p74IQEACr/yebdw/pShVrlvDBEDXkP25v8vyP9SE9pG6Ete/jiQp4Zy15r96pp8+lV75PzrSZNb67QXAJP0tR0PCwD8Eub2j9c3VP4zCzu+gGtY/R+jveXfcAUBUzX/0A/3OPzqsqdXobP0/DOxM/0s7A0BKa8qMy2kTQJIIvtQ28P0/GqCFdF5JE8B5E16MPlvyPzrWyiHkwBVAK9sokSpc6j9q5d2enj/yvyQZT11eEgFA0jM+tdLN/j/jdEqzW5UAQKzaCsGr0QlAqozDTQWy7T9KGQL8zScCQCe/tESZovc/2xdYGixfD0AqpIv3gXj7PyyVz4bv5Pq/f11Xmzom+T8wZZhrXbTgv47I2cfE6g1AWMe9mbF//T8ifmgcN+zlP6hjB1O9cvm/9dHP88tO7D+H9DExsY39P2A7g6yF5+W/ab//JxUKDkBIXPhRIZHPv253U1nqaQRARHtwTYGaxT/M+8fCg4fcv9I2vJOyrgNAeXR9Z0ik+z9a2MAiis/sv60wXFciSPo/gVCHvyCz8j94Vp7j2iz4P25Fpi3XUfG/s3/qoyJk4j9Uf5788n36PznjKVsScQfA5spSH0Ef/T//ux5GowMBwL32WlzWHe4/n7l0CXKS5D+PaUGoSqgFwEJCCL7DOvM/Uuk9o8iH9T+AoyoO2b0CQCat0Ni2AA5A7pKOWpfcEUBGxDsDcFzRP1CttCDoqhFA0K6B3qf+2z9U97q01w38Pyi0wemMgNk/MgDpQ0WiCEAe6HSIbOHyv6KfdpKvifE/aB1DtCSD8j+kLHabUsHoP9B94rUj4cK/UOzUPltNAECE3ou0NwXLP0yfsJVqi8k/DiVot+sM8j8Iz+1xSzT+P3bs1b+tS9w/IMj5OpCOqL+gZ0OUxqzFv7g+tdkxbuA/oASFl6No1z8um9f+K04FQEqdflHSzv4/YZU8tAJB8z92yftzWxX5v4SCdQ7f+RJAXOYRyzsnAEA2wlJqqkwNQMTGsM9hkfo/fs11AWsm/j9uczg35r0EQI5l92lEufy/pqjx5L/K679XH4GlEJntP04Xe95AuQRAGoUhCEvoEUAIGHBXRTf/PxTGA36mQuc/mARcPl+SBkDsN7k7JqPPPygXxHpxxPu/+oaQLVd4+D/L9sHakL8KQABn0NMZLNK/vHlA2cNN37/AiTJM1Rm4vzws4SeiFNU/Z1V7I2cTAUC0sGxqmz7QP8ebBJDjyeY/gho/5jgJ478B0WltsnrzP6g/1M4zluu/7utdp3b3AUBgKrTN2wjzv/kFq7KjyAlAjp1cu6204b9aIFnvi/P/vwBgj8ilm70/sOBv3HAE1L8YkotLQ1bDP1wg4yhhlei/yaQhOMZ46D+gzojE3+vGPz86OI2+f/Q/bhWr6ZdT4z/oJ27hqpjzv4JVi3TYi/Y/9yK4G8VEA0B8gyjOK8UCQC6XsluMoRJAZ5JvaVpWAkBAhCmtbevgvzhODj/JcvU/dKbxgB0r6z9z4HFTXezmP+hqQbmntgxAiERryOwuw7/UFPyYc+LxP1jJUNrIAQlA9EbN2m8D/T+s6DEv/EQAQILZd7jfyQRAXhK4d41G5r+EVfuBXLvovxj688fj6u+/1hgLpYi9C0D2FKtHewfxv+CcpTG5TPE/YdWMiMUrDEBATQIUYIvjv+GaU59IaQlA5lzxPWpw57/MgMna997svxovu7+f3wFA1PF2AtFr2b8zSr1mQKX2P6qR8LC3rvg/miFZOWvb9D8gVQtmzQjpv1CVtAEm0rm/BPz08Gq3+z/4ffCVO5PGPygtcHgGyQxANLI8kBwdAkB7Tr4r3J0FQBLKxeS9Htk/EvOBH2OyBEBczdpFFp4HQE/DUHCPWQfAkWFbckjW9T/oX5J+rPz/P8s7j2Tn4fQ/wkVaikwH/L86LrEGuS30P7KpacvBEAhAUJPHe7SOvr9kdR5FJQAIQK9V7VxrCus/WiEI15048D9+Vo3cbmAFQI6X10SrvPC/UM5YxGza1T+UUCWN5EnvP/yR3adG9gVA1sB0t5sH6j+ajwc5H8L4v0R1DygOIAVAdK77hiWhBUBg13VV/6i8v+B7SHiD+Os/mF6MoyR/F0BIeC7KUvTRv2SfY9YV/vy/kNMAEOuJpz+LnqLPs/EFwFIkDnJch+g/1l0T9UFW8r+Pn1IaQU/oP40YhZvUl+4/Sje5eXdwBkC2C/UBT6kCQGTFBO1Tm9G/9PSThe8Z2r/K7AQLAb75P/K9/jXhDOg/uFjf+g3847/KYFJMztPlv7CaENRITwJAAGTBRdRdk78m6a0nissEQKW65YYSEQbAOCHCDpdrBUAgxaibSiPTvxE/C6wGAAZAOMzBwoV58D/02m72e2nlv6sJGqLLpABA1De3EdqO0L+4VHjCLWDqv4rkNaBMJd4/2UXhWFKLDEB7UkyrhUzrP8yOoKZAosg/WU0UxQZJA0DmZNvZ9Cjwv3ThfW0239e/AKEK2EN0or8qeqR99rnqv7rr2aMpvQLAssOsJ6fhAkBk6dq01kz9vw1Hriy/lg1Ag8iFhjjMGEAZuOlU8Xn9P3fZJgMsyQBADNhahMXsC0AQtDkXglQJwFCLU3HIjeu/ou07vMrsAUDDopxVNxYNQPCHEw1eJM8/cjznW6JE9z9NjpD3k7gDQIIejINuoPe/wIalQ6Wak7+Y6Q+hpXkUQDh7ISInf9U/ALqE9hO3ez8EoT4QNrkEQPyCcTZt8QVAzSUrW/4d+j/HF0MUn1nzP1Zq6EZJUAdAcIxCOB3A7z8Gf08NU/XYP5EkMxyz1Pg/NnfdE0fj47+fmU523bj3Pwj8nXi+MOq/ZquwfTm5/T9QoZ+E/hb5P3ImUiCsigNAiAGl7mo14j998cIqnTr8P8B0TwTXmP6/ni0lMY/0/79V3EQwTJwDQLxaDbH+FeW/pcVhUMl3EEAI3KofyDzyPzXARQ8nmvg/3JgG9Gxi1z/uEHDStmv6P7CmFKftfr+/Ll+m/pOV/j8E5fqJ2PXnP95m+3nJlwVAsSdbHyLXBUA4Vs7ZW2HNP1oPHy+ENvg/8tTTcRZa9T8YfVLyomQMQNjAffzNu+U/cLlbOpnp87/+z7O32qUQwDIas5R/BQHA818N8uahCEAASrc+wH5uv0CXMvH6dcK/WLtvihF9EkCcf/ohVVPDP9KXm+v+qfU/1mC4zd1mAkDECsRX3s/8P4zRVDoEqgZASNUTYx3Qzz/xog+j8i35P+CIDoyc/u2/Zn+VAaBQ9L+2BF/a9UsCQLT4UDGCbOe/0IFLmP2vwj/bFTSnz5AIQNjE0/kpJto/mE2sGz0rB0CoW5ezJoIEQGQjjzFWR/a/P5futzZg8D9o6lhympcFQPLR5MQ5rgHAGFDrYfuv4T+2EqacioXzv9iVkYG8DxBAK+R4fCqR6j8MEcJK5yDzP5LcLBr1gfw/uqzoo+CRB0BAhK6/ZC0AQHJ+CH/1TPC/6h9feww68z88sxLKHowMQFiBWX5En/G/Ilu4LTHl4L+PvEKVu3EEQPC4/fEbO/c/2uCcxjIN4j+Q0vUXe0oMQA==\",\"dtype\":\"float64\",\"shape\":[500]}},\"selected\":{\"id\":\"cc5dc49c-6af7-47b1-b999-340424506628\",\"type\":\"Selection\"},\"selection_policy\":{\"id\":\"1719a002-faa1-4d1f-b1a0-d05f27f5f719\",\"type\":\"UnionRenderers\"}},\"id\":\"afd759f3-57c1-40c3-bd7d-455a58db2819\",\"type\":\"ColumnDataSource\"},{\"attributes\":{\"plot\":null,\"text\":\"Fake Data\"},\"id\":\"0658778e-b589-4787-ad26-47a81dd668bf\",\"type\":\"Title\"},{\"attributes\":{},\"id\":\"83c63bd3-2989-425a-a623-f007e6ae91eb\",\"type\":\"LinearScale\"},{\"attributes\":{\"source\":{\"id\":\"697dd5a2-37e5-4fa1-bc9b-ae7d04affa27\",\"type\":\"ColumnDataSource\"}},\"id\":\"0dac735a-abec-45da-9f63-71fd5b7a76d2\",\"type\":\"CDSView\"},{\"attributes\":{},\"id\":\"0996adb3-5e36-47e9-bd36-d4d552312688\",\"type\":\"Selection\"},{\"attributes\":{\"grid_line_color\":{\"value\":null},\"plot\":{\"id\":\"e77a6a0d-cc1a-4a89-ab0b-a0f514fd260f\",\"subtype\":\"Figure\",\"type\":\"Plot\"},\"ticker\":{\"id\":\"19eb09c0-3296-416a-b10d-da205e3317fa\",\"type\":\"BasicTicker\"}},\"id\":\"580436e8-7d25-4202-9dea-64a51100e8e9\",\"type\":\"Grid\"},{\"attributes\":{},\"id\":\"f0a4e190-2984-4efc-931e-3d3260192cd0\",\"type\":\"WheelZoomTool\"},{\"attributes\":{\"fill_alpha\":{\"value\":0.5},\"fill_color\":{\"value\":\"blue\"},\"line_alpha\":{\"value\":0.5},\"line_color\":{\"value\":\"navy\"},\"size\":{\"units\":\"screen\",\"value\":15},\"x\":{\"field\":\"x\"},\"y\":{\"field\":\"y\"}},\"id\":\"2740b504-f8d8-4a4f-a5fc-b7c8ac86d2a3\",\"type\":\"Circle\"},{\"attributes\":{},\"id\":\"c2af4d18-97ac-4ef8-a8a0-432122017441\",\"type\":\"PanTool\"},{\"attributes\":{},\"id\":\"7c266523-1a7d-4d0e-b18a-c30da2ef997b\",\"type\":\"ResetTool\"},{\"attributes\":{},\"id\":\"4c8c0acf-1427-4766-9a23-b0db9e9523f4\",\"type\":\"Selection\"},{\"attributes\":{},\"id\":\"38003cf4-beb9-46e2-a437-8a65468187bf\",\"type\":\"UnionRenderers\"},{\"attributes\":{},\"id\":\"40a21642-a8aa-428c-aa3c-70f0f2b15d18\",\"type\":\"HelpTool\"},{\"attributes\":{},\"id\":\"b14a52a7-64b2-4c9b-91de-8c4b069746ea\",\"type\":\"SaveTool\"},{\"attributes\":{\"bottom_units\":\"screen\",\"fill_alpha\":{\"value\":0.5},\"fill_color\":{\"value\":\"lightgrey\"},\"left_units\":\"screen\",\"level\":\"overlay\",\"line_alpha\":{\"value\":1.0},\"line_color\":{\"value\":\"black\"},\"line_dash\":[4,4],\"line_width\":{\"value\":2},\"plot\":null,\"render_mode\":\"css\",\"right_units\":\"screen\",\"top_units\":\"screen\"},\"id\":\"21396820-5fdb-4c22-bc9e-41b864222e3e\",\"type\":\"BoxAnnotation\"},{\"attributes\":{\"data_source\":{\"id\":\"697dd5a2-37e5-4fa1-bc9b-ae7d04affa27\",\"type\":\"ColumnDataSource\"},\"glyph\":{\"id\":\"2740b504-f8d8-4a4f-a5fc-b7c8ac86d2a3\",\"type\":\"Circle\"},\"hover_glyph\":null,\"muted_glyph\":null,\"nonselection_glyph\":{\"id\":\"bd03df0f-b72e-42ac-a4a6-54cfedb285b1\",\"type\":\"Circle\"},\"selection_glyph\":null,\"view\":{\"id\":\"0dac735a-abec-45da-9f63-71fd5b7a76d2\",\"type\":\"CDSView\"}},\"id\":\"f01a951c-555d-49c2-ab32-75fa17cd485f\",\"type\":\"GlyphRenderer\"},{\"attributes\":{},\"id\":\"1719a002-faa1-4d1f-b1a0-d05f27f5f719\",\"type\":\"UnionRenderers\"},{\"attributes\":{\"dimension\":1,\"grid_line_color\":{\"value\":null},\"plot\":{\"id\":\"e77a6a0d-cc1a-4a89-ab0b-a0f514fd260f\",\"subtype\":\"Figure\",\"type\":\"Plot\"},\"ticker\":{\"id\":\"d8f3a48f-9e9c-4224-95a8-9ba45f47d4cd\",\"type\":\"BasicTicker\"}},\"id\":\"3a933eb5-4528-4b45-bfac-4fc8cb8b5d5e\",\"type\":\"Grid\"},{\"attributes\":{\"formatter\":{\"id\":\"cfbed2a6-2e7a-4867-94d3-544b1810308c\",\"type\":\"BasicTickFormatter\"},\"plot\":{\"id\":\"e77a6a0d-cc1a-4a89-ab0b-a0f514fd260f\",\"subtype\":\"Figure\",\"type\":\"Plot\"},\"ticker\":{\"id\":\"19eb09c0-3296-416a-b10d-da205e3317fa\",\"type\":\"BasicTicker\"}},\"id\":\"602f7b4a-aede-4702-b28c-bd8218bdb665\",\"type\":\"LinearAxis\"},{\"attributes\":{\"callback\":null,\"data\":{\"x\":{\"__ndarray__\":\"wJjJuu3rD8CwlPcjUHsXwNYZ0Ww98BXAe5NYJeCgG8BYedltqwYWwDOogNEnGR7AgGLynn0dGMDU9FYSMfQZwKTTJ7Tm8xvAsZZIUbJUFsAGQi45Z9wdwNoSxmnjGA3AH14l9q1cEcA6YABNUvEXwEaiVOc2lxLACJxQp9yOEsDjCuY5HAIUwFolG7MrMBnA7bhppOgKFMAQiu8CR/8awDlfbk8IhBXAjS6yNietE8CXm8NnvZMZwI+mnDWYlRnAE5BrXEQBFMCq3sX9BiwQwPoF0tS70xrA0lTmfW98FMCIUUtUaa0WwOz2/SebdBbA3izyUv4OFsAKyEIMGyIYwL32tlhBWh/AGUfyAvXpFMBesXzDYRgXwPcuGl/ADRPAXMyNN/jsGMCH/AEW1KkSwCfjY2Wf8xnAjLpvCzQeFMDqbkVNrdwRwKEuYN5TzBnAfgsY8+YGFsDdoTc+1eIXwI6LFmfL4RrAJMp9i3p7GsAv+NG68+oVwGRUd5y0KhbAtlAFTiBdEsDwURm9gI4ZwLEPct2qoxrAmQCPeq9aF8A+7e/7zzkYwEBXm2rQfxnAc80nXC8KFMBnbE4OjE4YwCt+08i2hxfAC3FJXv1iF8BXsiPbbywhwPwYUyz/GhfAGNzP13uEG8DRZNQctf4YwB7c/7Xo+BvAtjmp4/cAFMCuLgY3kr8UwAWYL/w52hfAbG15PIjFGsDYCvVTMqUewKxq1zuTKhvAtlyawTPRHMBGNNxMDxgdwKmHtyGvRBPAKh04p3W2F8A0cJxnlDUdwLRjXMMXFRvAvYBqokBXHMBWJwMQ2LkYwLrWCqTxYRXAzm/rZSMAE8C+E9ItnwIRwJ0+hb8ETR/A8/MbJ7PhGsBuTntaGwocwJU/NlK02BzAZB9FaU5KFcCTTapF4I0gwGCyafw6YhzA50HuMI2SH8AOa6FAeygXwBqN9NgTpRvAcJUF9kNIHMA+52ZRZUcSwC451lLndRvAkuoBsU1NEcBefKZiwioewJaUzZyWTxXA7zo5aG0gHcB2pSMsRp8YwHlFyTuTJBXA355mpddgGMCmjEEFhlIfwER58T4vBBnABGXSL3MjFcBQzMaIQaQbwIIOYNOOTxnAatH3QwwdE8AqbnHzvf4WwGimFT0/0RfAVriqftOUF8CQoh3l3VUewJDQBsA6YRnAnG9jtjUUHMD2IwkNtuUWwA4wewmhexPAQRJv14MDIMCZKE4u7zQYwDOZv25HWBLAT1R+p9b5GMAFK2ah3wIRwALh3JobMBfARRqk1+QeFsC1CuAHHJwUwLxFEIImehLAkciWCkSAGMCcoQxUoG8VwHjqTjxLbRXAHFXEDen1FsBCJCNBHlAXwNhD+3Xl3xnA4be1SQ53F8ADwP0H5XgewLpncLJtDBrA6m54dvoIFsAxQleNcVQXwBDrwRPPpRbA9gplisl5FMCMT6z5ht8WwNI5MRLjAx7ACTbm3BVXGcAS1S9UmTAdwLUkUZvd8BrAtduJAnZMGMAxItz18KAVwBV1Aoo1FxXAbVjKPOBzG8CqpmppZuAcwEDM7bCc4BjAWDo5f8khEsDeRu9RlpAawBSyARvCghrArXSmEbLsHsClFwbTgIsWwAg4TswTnRTAD3L6eVEeG8D2fzrJsi4fwBxlmVyRUxPAswYuwwE+E8DZh3Le/9wYwMYYJikS8BrArEbENweOFsBO8DfSetgfwLgcY2jhVhXAD6jwlJ4aHsAJvfZhpRgUwCMC1tEHuRvAP+R3bTp6EcD+rRhqv50ewJUcBsxMdhrA2mEm2YpeFcBiGMRb8/kTwOiJa/QYQhzAhIQ8qVVzEsBasPkP1/UYwKiJf78YbxHAFfSSLv3yGcBhOdQV8g8ZwOEp7RdpEQrAbBpG2WdWHcB9hbib/VkWwFQODYHyBBXAmuyJ6RIsH8BFO99aNHEdwC2OCHzdkhXA20/dexCGHMDn3WVnJ2wUwD82QPaLOxLAesPgeBIIGMAl9jar7uQWwHw/bLHC9BPA/UnzoRWjGcASkJ9L2OgWwE5XkqaO8xXAeQwE4KqBFsAdQUtu9kYWwGPfPAnNQRTA5tmnyDxXHsBCzZgiWJoWwJZPBam/Sh7ATZjL8FhaFMDsO1LUUroRwLmwhwIdExzAQQjnOQOcF8CgSkyw4bYZwDQmHrsbhxfA3DqRY0pSF8A1Qwn9MtAXwMh5V5WNYR7AHqFK9jI7E8ABOxTCxKMZwOpgoiU/1RfAWGJazhgVGcDT7ufoDfgZwIkzWrNLyCDAgrmEI9GwGcDWOAPhRqcWwHW/rFqwkhTAZpKAUX7MHMBpCzetqpUWwNV/DA4k5xjAsvhlCtqOF8C4vmQoWDoVwBQpxZzevxfACuHNKY6fGsCUVZzyk8oVwHQWja2xLhvA2PStxqRrEMBacSNnSQgbwGt3nA6I2RPAruS3c/biEMC8pq8bzwgfwDexveRyvhjACO+XrkaQG8A+Ofho0h0cwBeqRYFqkxXAHl1p5MUsHcBVV7b7SZcTwN/uku0rRBfAnf8W4yciGcCGZzuT+KobwKOOPdRqYBTAMF2iYMbkGMC4oA+paRwTwIBEY1BJExrAkJdDXIx7HMBuFwlXYeYcwFqj8X6LgxXAPNjMyZvqGMD/Spu+sDAYwFnJ2eXc4BjAhMijA18xEsAtkcvcqkERwBGK7yFM+x/AA0IuyOsBGsCCxjMyKb8awOA6/bTxZBfAoIqvUGHNFsA6SYv4jEwVwF73fy+D5xjAUsNve6xzGsAeCZzXRdgbwJ4REjTevxHAcLG1xjmPEMBgZM/7m2sYwDZqevMVaxnAQOLUh3OIGMAhdkY0D0YPwB7hmzgcMxTAwMgiNiiTFsCzoKK7fSQWwJTRu9TcFhXA7DZ2OEVOF8DJQ6vmmisawD5yPrgK0RbAWg92uv4wFcAaEgY16F4RwESL/kYe8R7Agu98IcEyGcCFAL2D1fkXwO5hc+qtuxjA7M117CkmEcCy01xK9+MUwPsQDAHkNB7AUppaczWQGsAFlv+YtwkVwKrsw5tzWBTAwsqg6y/aHcAPZJt7OhoSwJPoGhhMlhPAJWffo2j2GcDzW9MSWm8WwJj1ubR+sxjA4VKHGrqtGMAIKrOqIFESwPYYGfAW+xjAvhshtNKWFMAGPaklfrUdwGDjhoaZJBPAbfFH0DfUFcD2tzopbXkbwG8PbFfY0RXAeBncM7NVIMDOTVEb4DwawAroSW34zhrAtYiwH00qF8CNYmXjOZkTwLWiA/ny5hjAiCsMo9jcGsDuLgdd+i8IwPAzmT5NEhfAjI1aMrltGcA4vEAHYK0ZwAn2Q6p7jhXADyofY3o4G8CIk3fnqgUcwGC0ucmswhHAyM+VpB2vG8DivpToKUUSwMswpThWlxbAoH18MakaE8D8tHMe9rEXwOvmjOn9xhPA97i3jXv0FMAtm/JIqcYZwMzdR5yuWhnAK9SCY9XMGsDAy35gdNsZwK4FYXEFrh7ASMzfsjYsEMBoQjS++pcZwKI18pxg7RbABhZdPTN7FcDGvp6e7/EawDuDgcRe8hbAuwOxFeZEGsDG60zHU4wZwEgOjDlyAiHA5XU3oAuXH8Aq69DFKRgYwOrunW83xxXAlo6W0kaEGcADvQDfUY0VwBKmOOuxLhvA5vikKnK/FMCPZ4cTzMAYwCsIVh5ARRbAFd42EgMQFMAw6OtreigYwEZmuqvzJRfAve2zTtofFcA6PTwwhtoXwPs1h7m5FBjAMlCMzvRNFMD3H5LQyYMTwGIzCu4t6RrAArX7mxh9G8Atlky9658awCxiPlO34hbAS2P9eEbpFcCQXH1F5usbwNz1qHQNtBPAEMyckt0kFcAsuqPG4acXwGj8RgiDuxPAM0n79y3OGsDMLfxOlj8dwAZ9gtI4RRjAmBzaGYf1GcCzgGTRohkTwN04DbizMxTA2sw/jmsmGsAyv27CDeEYwACCbdb9PBXA4rZl6icuGcDYbDeJpWogwOydKdHF1hrAVeIG3CnkGsA2LMFzALQcwOzFaN3sQRXAu1sr/7c/G8DwQiwNtp0WwGCwE4DctxzAJvQ0xMWCE8CyFqCkgI0dwDJ6DZwkDR7ALncqLJn5G8C1CrjfhbgTwC2sYgZAAxTAJ/briwzKFcCRJppK7bkVwO0ey1PzURnAd5FSMPbsFsCxh7LXeSEWwFpURY/N0hnAzieV5I5DE8BCO6kIYWwXwL4gz0WM2RnAiobuscwFGMBDCTpLyg0UwMvjXj1qehTA5tFbBlGbFcCL4YtuuPUTwEKjELtx4BLA3XTjNE4TG8BezJm9k0cdwPqsKQWqIRPANZ6dl6ulEcC6Yd3bLLQdwO42rdXfBBTA3HnA9TCvF8AU3597t1oXwCB75sJa4BLAuyCvLDklHsAIeMuAMBsXwLbpzsMHghjAYw9UetimGMBiItIcUfYXwER4J9bIUBfAtqaQgMosFcDm/4/3UY8WwKPgh+aQnBHAinOzflITG8A1zua7HWkSwLkgdeDZ5RrAP+P6SJTAFsAwC0y6O4sbwKV+rq3sMRLAlk9USgfqF8Cu8P6gnYIRwLOvPx9fNBrA30dEyA67GMC7BJeyt5MZwEFRRVSmARfAbnzSEZlqHcCTZ1yGsTMYwKwZQP6UwhTABd9w3u0FEcCMiOtKoJYawPb+Q321mBrAtIRZrpfGGMAAGdg3iUYWwKrsBCiVehnAVRbWfsF0F8C47oLYo0QdwDpuYtmnJRzArCbK7SDGHcDAImjn6h4bwBGgs6MJdhjA7xgogYITGcBLYUmG/v8bwKc9kPdSXBbATjfpBNVaF8D8fJMWfVQTwL1JFWKEaBDAIeqSC5FGG8ALWOCr2QsWwM5lTYND1hfA3ju6IyRXF8AHb+IQWIgawJssrJV/MxvAvptWpBUNFcDniIAFfwEWwGzhJtlS0RjAeJuEmF9eGsDNilj9K+UVwL6RwmF9gRrAAEjbUntQFMCIFLQPpHoZwAyXjO75xRjAFWPnZTMmG8BKQuwZC88YwAh7u6Bp9BfAP+sD9bVyFcBQ3GNdQAcXwOiQKH/OICHA8v6Fdc4NHMDQ0c5WwlcbwJmk3O6VPhvAlulvgfBXFMDOVQtjAOsZwCvlrX58kRjARzBJvpFWGcDvmNgjHpEWwL5IcESDxRrAaVt4a/DVFsDEqZcdPfcewM1E19172RbAL2L4jywtHsC3sVajB68awH9j68E1Xh7AYlkW1FRKFcBsQi9A36cbwFBkbzY1FxXA4A/rfcNoFMCAUZCH/0QawHNuGL28DxrAnayVuaQlFcBwjNRm92EJwD7qyZxlsRjA3achiR8eE8DOSjO/ohgWwA==\",\"dtype\":\"float64\",\"shape\":[500]},\"y\":{\"__ndarray__\":\"qctjrOOD8L9crjtlo0nhv5dXktggkMO/d7uJRLFI1b9lQTK8PG/avzTOCPjiUdO/SO25DmgZuz8IIZ2DDSDRP6sTLh/tC7q/GmUZSTSRzj/23l+RMNi9v6skbCab4No/QqSJUQAuxb/uByYZDS/WP/y3QWG11r2/MsD4Z7/Bn79SL1leEnfgPywke3HE/ck/EC2z4G2E0L8uKdeoobrAv5GuraqPE/U/kozNT53J4b9deERH3GXEv//Cixdma8+/BoTrkwWRwr86Mq01DIrjv/ooEZfdG7k/2RNXMZ258L9iLi2HzcHzv8BtMppsX9E/bfnPNNN45T9iaB8Uzq3gv3/ZgCcXZ9e/iNr1Audy3T8QXLW4xtOBP91ay90ew+K/px7nM8JCxD+uOFPZb27gv9saRVH6faW/6XhXqm8U4j+yo8EZY1bBP68+2LipsLq/SXrEPadx4j8Jyh3jPIXYvxjRPTqaBr8/iRvhiBuluL+ecSAdfODnv7UatwrhLOc/X9AY20FI6r8qWlRMnzm8P3TQTZsVF+O/FpCwzHYZ57+LWXniwP/cPzrqdgJVgaY/b6deMoK52j9Mlk95cBftPyWIvJENQNe/RgpHX/rzxD/Wm/eeVc/EP9Ie8oIzH9Y/GAmFv/FH9T97iUw/SUDKP8V7G6EL4t+/trTwFzc+4L+ONyvpS3fjv3bWKNaagdc/Bq5AQGCGkj/pLUruvQjWP2UcWQOWFtm/aAfg9IMS2j8c/bHAQkC9P6ezo5i1PL+/QDSxdbCS7b+2RNv3oJ+MP+LafsxA3Ni/uAzZdAnS8D9v3NS7jX/bv6nwj10pNeu/CDJFgm9+3D8ubpCGyzLwP+qaEHySiNA/FoCogxiIsT9rmZUIdxrjv/o1qX6eppw/ugsAb7bMvj95j0GH11TCvxgbh/fXm9G/Jl8AKFbjsj8CnZ9cJXDgP8pSADIWEc6/kY8+3f7B2T9+P+Yt/seKPy4m7Jt/iLc/psyPMPc82r+RmR+57LjwP9PbBQvxY+o/Bjh+wuTy8j9vCcBuvKqyv0PmAKW4cdi/MwXjUVVG1r92nlv7QCLaP3UqQFPG/tc/SKu0rD8Mzr8y0m2P9kLIPyf1m1gU6NO/g4x5j9FZ1D/kqF9ebEPCvwQDUn1viNG/tZ4U8z3Z4r91PVSxmrLiv0i1F1ZtLcq/EV0kX4iUpD+Kffk1933lv2pQJykWMt4/mOxppCwhsL9q2ZQV2pndv3X5YFihgeS/TeYXiJjPrr+4WyCbVqrJP1JsDtju6OM/Jh1veBPvyD/22U+j+5nXP6rbrFYp4ua/d8UcUCc/1r9iqCD8sjHCP1baPxaSltC/VqZOX2/C5r/i07YV5DrQP5LiiqIp3Mw/oPp1ZiQ7sT/+PG/cyp/Bv6j4CglE+eU/yOc63fhJ5D/Y1bBJn//jv5MBrjGGUd8/VPOsaBTL0j9M1iKZ4THbP6a44XgRP+e/mlvoZ33C0z81KGOUtSHLP87Test1yNM/k8UREs5L4j/nNuJIzB7XPww0AgiTesa/JgQdJrXCrj/GuLVV7abQP4AoTnCKq9I/YPzPgrzZ5j9f7ogCjqTJvzbhG/fmQay/gfAk2UHByL9RnNclIqfbPyI+M7Qt+NA/9PrLbqCMcT8YAMNU45Cmv1+vJp5YD8S/qOo/jwl7xb8rfE+1Oktdv2E54smYMtW/cJhSMFDtzL+Cxf36PROzP+FHfh+mLb4/7rH0/x4r0D8xgH3syUrwvzLQi8qcGN4/T6Gwf/xT0b/dJCZuofTlPwdnhrxIF/C/VpjSDw4Wwz/3VwUZRyfsPxkcCJveS7o/57Z1hZjc0b/f92Ab1O/Tvx5AtVvwu7C/zl8g9CF7xb/Imr+adczTvxWj8FTWdMA/ofRDo8IK2b/EzBR8ZUDJP5mujK3RuOu/unnLaU0q4b8AmMaUL3XMv6ZyFe9dOrm//DxbhrR9tL9GGreoS/XsP36kH5PjV6G/10IfuUWw6j+O5TN01svyPyeyWAQOPei/23Jz5Dh+vz+OpuE6R9THP+BMS7kjM9y/NHCAookbtj/LbWELx+DQv0UFuzfR8qW/04TdKR1w2L85iswHCiS1v5b9vesOQNK/C2BFeltfz79banaAdtLIv9G4DQVf0qi/C42xlgUd5j8cn5BM9c3hPzHyvfOVWPI/qtofqyOg17+6Z3YfygTpP6cYARa04Ly/hdl5I5lW0b8WU8Qx9mnQv0SvTLS1kcA/nKipocGh2r8ubgb0Vz3lvx3zquHMC9K/bGMWLvvc27+rwIB4hbbMPw2HrKQ8yqC/QkPsWP+9xz83HUsCVWrCv8CFUKDmN8E/8xtlr0jy2j+TLp5sQJGSP/snfFEqKcS/U4XqcUgi1T9s+f1Rmhjgvz75bk00vKq/Ihi4PmRxy7+k6PHXypnWP9PntjzTOek/7N9cuPhI2j+Y8D+AtG3lPylxOET0css/kfRAIntuzT8xBFxu642KP9nfLXo4kqE/fNmZrkWo5z+2Yq9R3bt4P8L+ZLKt9tK/BdTJpJoG0D+X0JxK46nWP3UUiVMzLLK/qN2mFIa9tj/XOqMrh36xvwYV4LuOd9Q/oyH68bEv4L9M16E2M0zaPxK9QUjSbOe/ViIoECA43z9t3xFz1JHNP/DQ3RyQUss/Dn8ShiDF4j/JLPwHg/Tmvw5oQOl5YNI/feD6oWapvL+A6vR99+boPxYbn50wmMq/7msJ2dp+1D82f1PLElzSvxTZO//UPsw/6FRI/bGLkr+NlM7w5t3RvzzkJU3HGLk/Smjfnap6xT+Nu21ZYH3Mv8B32N4Ex6Q/LqEoNHilzL8itYk++PvsP4Q6TkcfBbs/n+XnAYcO0z/4hrFhV9i5P0Vp6y0cc8m/jjQpsmLzt78SWRByptflP+EqKEqiCK8/Lrp1Vb7D1r9dyW0PBi3dP/+89crnjdW//thpOpgb6D8Ym0MjmlW9v5n3vDbwprU/qYkwFqTKwb8tC43ApAzRP7Lu+vJr79k/JeGd1rBt6b9RKz6FHsTev3jhz4VGeOG/oo56LWVd0r95hpc70/umP2TOtXCEwrm/YyFRQPfb4T+Gxqv8HijlP+NxgFlePDy/x5BMSmUDoD+cbJCmGSjVv3J0aWkvI8c/U1kw45XFrT+MXO0Wp/navy+jamDOkNw/io4Gq8ad4T/UCilvlBDWv1D2hzMVM++/CBlETsfchD/DvHySeLLnP/vT/bNjbNI/cDl2zN4Fwb/9Ul30VJHYPxFLvM3dUb0/OdIxkOfa0T/m5WOfc8fAv9zzCOf5c7u/o4/MKZUOyL/VS0f2p6mwvzrhtW1jcuO/5KXNV/dh4D9hao1TzznhP3tjqnqF/u+/mwuuTyNwxD9awpzEwvqkP62rS0+fW4Q//MN3n6yFuz8dD7Er3kDoPyMqoQx+vry/iks8mpN/wL9FXvNCEumyvz4Lk7Cyj+C/yBWHbXHwxD+DvtVVW4vPv62qqnkBFda/ZNjXpqeP0j/mnfzXsdTnP6Uc+H8wF/C/yW4XOKbs3L+oMaJiIhDmP+zQFFy9UrI/8GMydAQCZL9zkTpAn/fgv2I3OoDDk9y/v04cj1aFmj/lQNGePrzCP6J5/9ZOjsc/mA/VJnVlzL/dxhh33Hrhv00SxOqxzcY/qmILcblAvL9O2KuAPKPgv4iFV8ryELq/3LYeX3T18L+5THE6/YTMv3KWV5GdoNg/disv3G4KrD9lIfWSyc/iv758wlvLEOE/M0tMCckGwj/ENm2Vk5qZvzL7WkAyBcE/6J448ca95j9aDR6bfvbpP8pBHZllVcI/u+FlE5z8xj/p8Cvu33S3P39EtBD4GOE/Ss656+uLgz8ABnYXrUnjv1xI3TjMY88/bmFQelVo5r9/6+1n/N3OP+1jlh3ROvI/9K/0j6B51D8+8CJum5Xjv92hqLZX+rs/blTgszE+4L/mU8s214/Uv7r3zR43NNo/DXUVRbLH0T/YyJxplDXxP57triXVVNG/7abJKZV+vT+bdiX7dy/Xvxt1vY6B8Ng/VFcDAgR8tD9XYrkBv03RP8P9UeZjwHc/tzbW8VQPwz/ikMj9hE3sP97LL2DL+8c/7LZe8m5737+1UCUQ6c2xP/kT5wp52sK/6rIFVbdRXL9xjyxde9nmP1p3cvtZvM4/lqE6sWs6xz+Cdvm79pPEv4LN0vJEZNS/sqz1S2rA5L8gKUVPXOXVv8RntOHlW8a/ssjVOJOU1r9u5GxQasO2v7qpvbs8bMY/IEbBt4SD4T8YDQrzpmbav6Cr7x5QJOq/zVobQ7f+2r8YjqBHnJfGv+tUgrSq9dy/FTBdvmx7pT88/iL44jzMP/vUqnLIhaI/a7UoOoT04r/CDoLJX9vYP55PydsSDKa/F41Uqsid179ze63ua+TZP1nyQFPYROg/y43UI++bpb8ZJ0RoppvjP7EOyRJAMdS/V7MrZ0Bf2r8DOZIBbpDjv0yUmvQNkuS/a/efMOHB4j9Ai4S8EL/TvyIyuEJNyOU/inGRVH/IyT93wMpwe+uzP9or0a4InuI/Z/eT67mGzr804NH0NX/SvwF/Ncugg+C/1rnTlWpp0T9BcaI0lDbXvwlI143PnL6/y3U6k/DLxb+XcDPkoCTdv2oVbTPFIsg//KA9W83UzD/OvNeA1UnZv4OUvGIH382/5jQHphGv4r+JDH3x/gK2v6UvXhxgh9O/g1+NiX+8vL/If+xhfcznP1eZ7wsf8Ok/zZofMBvQ6T+ASVpDl9jVv+jN/Ta2Des/2DWEecYe4j/hJMfPBMbGv/XemgNIPcE/EIk20UGwlT8a6DcMQP65v+mQgg2oaNq/B032QUcs4r9Lawzt97PPP/mp6m/DQuy/UvTJe/E32L92hEefrMXhP0O69TuAQOC/AIzh/LlGtD+hX//r923Lv138A3YReOe/jYD2wKcB5D9DijrMtiC7v4jmeac23N4/UsIclhpu1D+0CnqxZx+5P178XR1sYMI/V1NVO/nW3T+bJeNNxVHbP0JsLlzgNbC/cWG0A0yR5z9oLTu+6retPxBsdlys49m/XL7udxiu5D/+fNuF6XeRv7ZOUKHx9+k/K0IIN05dtb9NpishynjDPyplWfjyltS/u/vc3QB84T/yxtWi12Xkv+4MEZmiXq4/rFmjfp6qzb/X86BC3sa/P31v3H2YE8g/uhg0jpFJ4j8ac6l8luHWP1n0Nu+TH6+/oFBPP1rOyD9NmXToXBXiv0USjqH9x7M/q09Hte4x3L/F9yBVofN6vzM7GuINx7Y/ouAjtil46T9u93xFFiDjP3OXBjT5B9G/CxrsvOvz1L9gtrOYWxOivw==\",\"dtype\":\"float64\",\"shape\":[500]}},\"selected\":{\"id\":\"4c8c0acf-1427-4766-9a23-b0db9e9523f4\",\"type\":\"Selection\"},\"selection_policy\":{\"id\":\"38003cf4-beb9-46e2-a437-8a65468187bf\",\"type\":\"UnionRenderers\"}},\"id\":\"697dd5a2-37e5-4fa1-bc9b-ae7d04affa27\",\"type\":\"ColumnDataSource\"},{\"attributes\":{},\"id\":\"600cd5b1-663c-420d-ab88-f474fcfbacb5\",\"type\":\"BasicTickFormatter\"},{\"attributes\":{\"fill_alpha\":{\"value\":0.1},\"fill_color\":{\"value\":\"#1f77b4\"},\"line_alpha\":{\"value\":0.1},\"line_color\":{\"value\":\"#1f77b4\"},\"size\":{\"units\":\"screen\",\"value\":15},\"x\":{\"field\":\"x\"},\"y\":{\"field\":\"y\"}},\"id\":\"ebdbe88f-b2d0-470b-a724-caa0d3438f96\",\"type\":\"Circle\"},{\"attributes\":{\"fill_alpha\":{\"value\":0.5},\"fill_color\":{\"value\":\"red\"},\"line_alpha\":{\"value\":0.5},\"line_color\":{\"value\":\"navy\"},\"size\":{\"units\":\"screen\",\"value\":15},\"x\":{\"field\":\"x\"},\"y\":{\"field\":\"y\"}},\"id\":\"f49c66be-b0df-4c20-907e-b0ae01147b0f\",\"type\":\"Circle\"},{\"attributes\":{\"callback\":null,\"data\":{\"x\":{\"__ndarray__\":\"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\",\"dtype\":\"float64\",\"shape\":[500]},\"y\":{\"__ndarray__\":\"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\",\"dtype\":\"float64\",\"shape\":[500]}},\"selected\":{\"id\":\"0996adb3-5e36-47e9-bd36-d4d552312688\",\"type\":\"Selection\"},\"selection_policy\":{\"id\":\"18e59449-efd8-42d6-8e88-e2c1d4e1eb9b\",\"type\":\"UnionRenderers\"}},\"id\":\"c6d05351-bb12-4a6c-9450-838f1f75c2e9\",\"type\":\"ColumnDataSource\"},{\"attributes\":{\"fill_alpha\":{\"value\":0.5},\"fill_color\":{\"value\":\"yellow\"},\"line_alpha\":{\"value\":0.5},\"line_color\":{\"value\":\"navy\"},\"size\":{\"units\":\"screen\",\"value\":15},\"x\":{\"field\":\"x\"},\"y\":{\"field\":\"y\"}},\"id\":\"60c39457-eaff-4b36-837b-cbcd04fb0cc6\",\"type\":\"Circle\"},{\"attributes\":{\"fill_alpha\":{\"value\":0.1},\"fill_color\":{\"value\":\"#1f77b4\"},\"line_alpha\":{\"value\":0.1},\"line_color\":{\"value\":\"#1f77b4\"},\"size\":{\"units\":\"screen\",\"value\":15},\"x\":{\"field\":\"x\"},\"y\":{\"field\":\"y\"}},\"id\":\"bd03df0f-b72e-42ac-a4a6-54cfedb285b1\",\"type\":\"Circle\"}],\"root_ids\":[\"e77a6a0d-cc1a-4a89-ab0b-a0f514fd260f\"]},\"title\":\"Bokeh Application\",\"version\":\"0.13.0\"}};\n",
       "  var render_items = [{\"docid\":\"515bdccf-c9c9-4963-a58f-e37a6d512895\",\"roots\":{\"e77a6a0d-cc1a-4a89-ab0b-a0f514fd260f\":\"d9ff4bad-1b44-4b5b-96e6-b26ff66e998f\"}}];\n",
       "  root.Bokeh.embed.embed_items_notebook(docs_json, render_items);\n",
       "\n",
       "  }\n",
       "  if (root.Bokeh !== undefined) {\n",
       "    embed_document(root);\n",
       "  } else {\n",
       "    var attempts = 0;\n",
       "    var timer = setInterval(function(root) {\n",
       "      if (root.Bokeh !== undefined) {\n",
       "        embed_document(root);\n",
       "        clearInterval(timer);\n",
       "      }\n",
       "      attempts++;\n",
       "      if (attempts > 100) {\n",
       "        console.log(\"Bokeh: ERROR: Unable to run BokehJS code because BokehJS library is missing\")\n",
       "        clearInterval(timer);\n",
       "      }\n",
       "    }, 10, root)\n",
       "  }\n",
       "})(window);"
      ],
      "application/vnd.bokehjs_exec.v0+json": ""
     },
     "metadata": {
      "application/vnd.bokehjs_exec.v0+json": {
       "id": "e77a6a0d-cc1a-4a89-ab0b-a0f514fd260f"
      }
     },
     "output_type": "display_data"
    }
   ],
   "source": [
    "# Setting up centers and spreads of multivariate normal distros\n",
    "\n",
    "mn = [-6,0] # Two means\n",
    "cov = [[1,0],[0,.2]] # a covariance matrix\n",
    "\n",
    "mn1 = [1,1]\n",
    "cov1 = [[3,-2],[-2,3]]\n",
    "\n",
    "mn2 = [6,2]\n",
    "cov2 = [[.2,0],[0,1]]\n",
    "\n",
    "f1 = figure(title=\"Fake Data\", toolbar_location=None)\n",
    "f1.grid.grid_line_color = None\n",
    "f1.background_fill_color = \"#eeeeee\"\n",
    "\n",
    "# Three different multivariate normal distros\n",
    "\n",
    "C1 = np.random.multivariate_normal(mn, cov, 500).T\n",
    "mscatter(f1, C1[0,:], C1[1,:], \"circle\", \"blue\")\n",
    "\n",
    "C2 = np.random.multivariate_normal(mn1, cov1, 500).T\n",
    "mscatter(f1, C2[0,:], C2[1,:], \"circle\", \"red\")\n",
    "\n",
    "C3 = np.random.multivariate_normal(mn2, cov2, 500).T\n",
    "mscatter(f1, C3[0,:], C3[1,:], \"circle\", \"yellow\")\n",
    "\n",
    "show(f1)"
   ]
  },
  {
   "cell_type": "markdown",
   "metadata": {},
   "source": [
    "Concatenating..."
   ]
  },
  {
   "cell_type": "code",
   "execution_count": 29,
   "metadata": {},
   "outputs": [],
   "source": [
    "X = np.concatenate((C1,C2,C3),axis=1) # Mashing together all of the data"
   ]
  },
  {
   "cell_type": "markdown",
   "metadata": {},
   "source": [
    "Need to transpose the shape..."
   ]
  },
  {
   "cell_type": "code",
   "execution_count": 30,
   "metadata": {},
   "outputs": [],
   "source": [
    "X = X.transpose() # All my points mashed together."
   ]
  },
  {
   "cell_type": "code",
   "execution_count": 31,
   "metadata": {},
   "outputs": [
    {
     "data": {
      "text/plain": [
       "(1500, 2)"
      ]
     },
     "execution_count": 31,
     "metadata": {},
     "output_type": "execute_result"
    }
   ],
   "source": [
    "X.shape"
   ]
  },
  {
   "cell_type": "markdown",
   "metadata": {},
   "source": [
    "Finally, let's plot"
   ]
  },
  {
   "cell_type": "code",
   "execution_count": 32,
   "metadata": {},
   "outputs": [
    {
     "data": {
      "text/html": [
       "\n",
       "\n",
       "\n",
       "\n",
       "\n",
       "\n",
       "  <div class=\"bk-root\" id=\"46c242db-ef7f-491c-9479-8445cff44d9a\"></div>\n"
      ]
     },
     "metadata": {},
     "output_type": "display_data"
    },
    {
     "data": {
      "application/javascript": [
       "(function(root) {\n",
       "  function embed_document(root) {\n",
       "    \n",
       "  var docs_json = {\"68dbd531-a175-458b-8b61-4e6c41f8624e\":{\"roots\":{\"references\":[{\"attributes\":{\"callback\":null},\"id\":\"18318f80-28c0-4f45-bdf9-5e76068a54b6\",\"type\":\"DataRange1d\"},{\"attributes\":{\"bottom_units\":\"screen\",\"fill_alpha\":{\"value\":0.5},\"fill_color\":{\"value\":\"lightgrey\"},\"left_units\":\"screen\",\"level\":\"overlay\",\"line_alpha\":{\"value\":1.0},\"line_color\":{\"value\":\"black\"},\"line_dash\":[4,4],\"line_width\":{\"value\":2},\"plot\":null,\"render_mode\":\"css\",\"right_units\":\"screen\",\"top_units\":\"screen\"},\"id\":\"e0d9c494-a8a0-44b6-8c38-21c3ee258424\",\"type\":\"BoxAnnotation\"},{\"attributes\":{},\"id\":\"a7772b76-48b8-4cbd-97c7-8c9df31d170e\",\"type\":\"LinearScale\"},{\"attributes\":{},\"id\":\"f14b1f64-b5c9-4c3d-8dc7-991bd9811499\",\"type\":\"Selection\"},{\"attributes\":{\"grid_line_color\":{\"value\":null},\"plot\":{\"id\":\"cb9a22c7-2bf7-4ebd-b984-0b38b8709fb8\",\"subtype\":\"Figure\",\"type\":\"Plot\"},\"ticker\":{\"id\":\"8055e751-992c-4e56-9ad6-a70b029f37c0\",\"type\":\"BasicTicker\"}},\"id\":\"b67c01ea-51bc-4427-b55c-0208a1e4c849\",\"type\":\"Grid\"},{\"attributes\":{},\"id\":\"2d8ad15d-0e13-4bde-94c0-50c08be88d56\",\"type\":\"UnionRenderers\"},{\"attributes\":{\"formatter\":{\"id\":\"c6f04d5b-1846-4389-992d-6c5957ec41b1\",\"type\":\"BasicTickFormatter\"},\"plot\":{\"id\":\"cb9a22c7-2bf7-4ebd-b984-0b38b8709fb8\",\"subtype\":\"Figure\",\"type\":\"Plot\"},\"ticker\":{\"id\":\"8055e751-992c-4e56-9ad6-a70b029f37c0\",\"type\":\"BasicTicker\"}},\"id\":\"e2550a33-65a3-4fc9-9812-2e4cb7e20636\",\"type\":\"LinearAxis\"},{\"attributes\":{},\"id\":\"c6f04d5b-1846-4389-992d-6c5957ec41b1\",\"type\":\"BasicTickFormatter\"},{\"attributes\":{},\"id\":\"8055e751-992c-4e56-9ad6-a70b029f37c0\",\"type\":\"BasicTicker\"},{\"attributes\":{\"formatter\":{\"id\":\"0cdbc1de-2b01-4d1e-bb93-764556312e65\",\"type\":\"BasicTickFormatter\"},\"plot\":{\"id\":\"cb9a22c7-2bf7-4ebd-b984-0b38b8709fb8\",\"subtype\":\"Figure\",\"type\":\"Plot\"},\"ticker\":{\"id\":\"9c357044-baee-4c38-b68e-26d7d3c2daa3\",\"type\":\"BasicTicker\"}},\"id\":\"5d2ca464-2507-41d1-8075-406f6a5f65e9\",\"type\":\"LinearAxis\"},{\"attributes\":{},\"id\":\"9c357044-baee-4c38-b68e-26d7d3c2daa3\",\"type\":\"BasicTicker\"},{\"attributes\":{\"dimension\":1,\"grid_line_color\":{\"value\":null},\"plot\":{\"id\":\"cb9a22c7-2bf7-4ebd-b984-0b38b8709fb8\",\"subtype\":\"Figure\",\"type\":\"Plot\"},\"ticker\":{\"id\":\"9c357044-baee-4c38-b68e-26d7d3c2daa3\",\"type\":\"BasicTicker\"}},\"id\":\"6f39d847-194a-41b8-b755-0c4093d5983f\",\"type\":\"Grid\"},{\"attributes\":{\"line_alpha\":0.1,\"line_color\":\"#1f77b4\",\"x\":{\"field\":\"x\"},\"y\":{\"field\":\"y\"}},\"id\":\"b6f01bc8-3de8-4f85-8f0f-97d324aa72ff\",\"type\":\"Line\"},{\"attributes\":{},\"id\":\"0cdbc1de-2b01-4d1e-bb93-764556312e65\",\"type\":\"BasicTickFormatter\"},{\"attributes\":{\"source\":{\"id\":\"489fa183-bdf5-4acb-aee0-313ad6c65929\",\"type\":\"ColumnDataSource\"}},\"id\":\"ff4624d0-30a0-4ef2-af31-01b168275904\",\"type\":\"CDSView\"},{\"attributes\":{\"callback\":null,\"data\":{\"x\":[1,2,3,4,5,6,7,8,9],\"y\":[4.83382726827005,2.2731670709880594,1.3200755217413482,1.1002489566978209,1.0345905768206791,0.9373851689931458,0.8379477865316393,0.7963853105680702,0.7620445121970839]},\"selected\":{\"id\":\"f14b1f64-b5c9-4c3d-8dc7-991bd9811499\",\"type\":\"Selection\"},\"selection_policy\":{\"id\":\"2d8ad15d-0e13-4bde-94c0-50c08be88d56\",\"type\":\"UnionRenderers\"}},\"id\":\"489fa183-bdf5-4acb-aee0-313ad6c65929\",\"type\":\"ColumnDataSource\"},{\"attributes\":{},\"id\":\"4deb8a76-98b1-4de7-92ea-b0a65553877b\",\"type\":\"PanTool\"},{\"attributes\":{\"plot\":null,\"text\":\"Elbow Method\"},\"id\":\"b1c2aad0-0795-49d1-b295-6f2c10ca20ec\",\"type\":\"Title\"},{\"attributes\":{},\"id\":\"41155c49-cbf4-4c95-9ba1-1c2a8cbaa9e4\",\"type\":\"HelpTool\"},{\"attributes\":{\"data_source\":{\"id\":\"489fa183-bdf5-4acb-aee0-313ad6c65929\",\"type\":\"ColumnDataSource\"},\"glyph\":{\"id\":\"fe46beef-86ce-4802-9f96-daec99f4d7ce\",\"type\":\"Line\"},\"hover_glyph\":null,\"muted_glyph\":null,\"nonselection_glyph\":{\"id\":\"b6f01bc8-3de8-4f85-8f0f-97d324aa72ff\",\"type\":\"Line\"},\"selection_glyph\":null,\"view\":{\"id\":\"ff4624d0-30a0-4ef2-af31-01b168275904\",\"type\":\"CDSView\"}},\"id\":\"6084bb5a-63bf-4322-aeef-83ce8dfec5b3\",\"type\":\"GlyphRenderer\"},{\"attributes\":{},\"id\":\"868faf2d-b682-4e6e-a5ca-f460d465cc98\",\"type\":\"WheelZoomTool\"},{\"attributes\":{\"callback\":null},\"id\":\"53f3a8d4-df6a-4d1b-809d-c7191293a31d\",\"type\":\"DataRange1d\"},{\"attributes\":{\"overlay\":{\"id\":\"e0d9c494-a8a0-44b6-8c38-21c3ee258424\",\"type\":\"BoxAnnotation\"}},\"id\":\"82137341-8291-4940-8d05-530207b0cef3\",\"type\":\"BoxZoomTool\"},{\"attributes\":{\"active_drag\":\"auto\",\"active_inspect\":\"auto\",\"active_multi\":null,\"active_scroll\":\"auto\",\"active_tap\":\"auto\",\"tools\":[{\"id\":\"4deb8a76-98b1-4de7-92ea-b0a65553877b\",\"type\":\"PanTool\"},{\"id\":\"868faf2d-b682-4e6e-a5ca-f460d465cc98\",\"type\":\"WheelZoomTool\"},{\"id\":\"82137341-8291-4940-8d05-530207b0cef3\",\"type\":\"BoxZoomTool\"},{\"id\":\"bf1d500b-80f3-437f-8127-f2a6e7e14a77\",\"type\":\"SaveTool\"},{\"id\":\"9db6df95-ebaf-4273-ad16-cf2f682798a8\",\"type\":\"ResetTool\"},{\"id\":\"41155c49-cbf4-4c95-9ba1-1c2a8cbaa9e4\",\"type\":\"HelpTool\"}]},\"id\":\"4ef3eb0e-a1ce-477d-88e7-be65cb331ebe\",\"type\":\"Toolbar\"},{\"attributes\":{},\"id\":\"bf1d500b-80f3-437f-8127-f2a6e7e14a77\",\"type\":\"SaveTool\"},{\"attributes\":{\"line_color\":\"green\",\"x\":{\"field\":\"x\"},\"y\":{\"field\":\"y\"}},\"id\":\"fe46beef-86ce-4802-9f96-daec99f4d7ce\",\"type\":\"Line\"},{\"attributes\":{},\"id\":\"9db6df95-ebaf-4273-ad16-cf2f682798a8\",\"type\":\"ResetTool\"},{\"attributes\":{},\"id\":\"16b95088-73ac-4278-b6f8-877d653bb39e\",\"type\":\"LinearScale\"},{\"attributes\":{\"background_fill_color\":{\"value\":\"#eeeeee\"},\"below\":[{\"id\":\"e2550a33-65a3-4fc9-9812-2e4cb7e20636\",\"type\":\"LinearAxis\"}],\"left\":[{\"id\":\"5d2ca464-2507-41d1-8075-406f6a5f65e9\",\"type\":\"LinearAxis\"}],\"renderers\":[{\"id\":\"e2550a33-65a3-4fc9-9812-2e4cb7e20636\",\"type\":\"LinearAxis\"},{\"id\":\"b67c01ea-51bc-4427-b55c-0208a1e4c849\",\"type\":\"Grid\"},{\"id\":\"5d2ca464-2507-41d1-8075-406f6a5f65e9\",\"type\":\"LinearAxis\"},{\"id\":\"6f39d847-194a-41b8-b755-0c4093d5983f\",\"type\":\"Grid\"},{\"id\":\"e0d9c494-a8a0-44b6-8c38-21c3ee258424\",\"type\":\"BoxAnnotation\"},{\"id\":\"6084bb5a-63bf-4322-aeef-83ce8dfec5b3\",\"type\":\"GlyphRenderer\"}],\"title\":{\"id\":\"b1c2aad0-0795-49d1-b295-6f2c10ca20ec\",\"type\":\"Title\"},\"toolbar\":{\"id\":\"4ef3eb0e-a1ce-477d-88e7-be65cb331ebe\",\"type\":\"Toolbar\"},\"toolbar_location\":null,\"x_range\":{\"id\":\"53f3a8d4-df6a-4d1b-809d-c7191293a31d\",\"type\":\"DataRange1d\"},\"x_scale\":{\"id\":\"16b95088-73ac-4278-b6f8-877d653bb39e\",\"type\":\"LinearScale\"},\"y_range\":{\"id\":\"18318f80-28c0-4f45-bdf9-5e76068a54b6\",\"type\":\"DataRange1d\"},\"y_scale\":{\"id\":\"a7772b76-48b8-4cbd-97c7-8c9df31d170e\",\"type\":\"LinearScale\"}},\"id\":\"cb9a22c7-2bf7-4ebd-b984-0b38b8709fb8\",\"subtype\":\"Figure\",\"type\":\"Plot\"}],\"root_ids\":[\"cb9a22c7-2bf7-4ebd-b984-0b38b8709fb8\"]},\"title\":\"Bokeh Application\",\"version\":\"0.13.0\"}};\n",
       "  var render_items = [{\"docid\":\"68dbd531-a175-458b-8b61-4e6c41f8624e\",\"roots\":{\"cb9a22c7-2bf7-4ebd-b984-0b38b8709fb8\":\"46c242db-ef7f-491c-9479-8445cff44d9a\"}}];\n",
       "  root.Bokeh.embed.embed_items_notebook(docs_json, render_items);\n",
       "\n",
       "  }\n",
       "  if (root.Bokeh !== undefined) {\n",
       "    embed_document(root);\n",
       "  } else {\n",
       "    var attempts = 0;\n",
       "    var timer = setInterval(function(root) {\n",
       "      if (root.Bokeh !== undefined) {\n",
       "        embed_document(root);\n",
       "        clearInterval(timer);\n",
       "      }\n",
       "      attempts++;\n",
       "      if (attempts > 100) {\n",
       "        console.log(\"Bokeh: ERROR: Unable to run BokehJS code because BokehJS library is missing\")\n",
       "        clearInterval(timer);\n",
       "      }\n",
       "    }, 10, root)\n",
       "  }\n",
       "})(window);"
      ],
      "application/vnd.bokehjs_exec.v0+json": ""
     },
     "metadata": {
      "application/vnd.bokehjs_exec.v0+json": {
       "id": "cb9a22c7-2bf7-4ebd-b984-0b38b8709fb8"
      }
     },
     "output_type": "display_data"
    }
   ],
   "source": [
    "from sklearn.cluster import KMeans\n",
    "from scipy.spatial.distance import cdist\n",
    "\n",
    "distortions = []\n",
    "K = range(1,10) # Number of k values to try\n",
    "for k in K: # Entering a loop to try them all\n",
    "    kmeanModel = KMeans(n_clusters=k).fit(X) # Create a k-means clustering object and fit it!\n",
    "    kmeanModel.fit(X) #Appears to be doing the same thing - redundant?\n",
    "    distortions.append(sum(np.min(cdist(X, kmeanModel.cluster_centers_, 'euclidean'), axis=1)) / X.shape[0])\n",
    "\n",
    "f3 = figure(title=\"Elbow Method\", toolbar_location=None)\n",
    "f3.grid.grid_line_color = None\n",
    "f3.background_fill_color = \"#eeeeee\"\n",
    "\n",
    "# \n",
    "f3.line(K,distortions, line_color='green')\n",
    "\n",
    "\n",
    "show(f3)"
   ]
  },
  {
   "cell_type": "markdown",
   "metadata": {},
   "source": [
    "What else can you do? See the [Silhouette Method](http://scikit-learn.org/stable/auto_examples/cluster/plot_kmeans_silhouette_analysis.html)."
   ]
  },
  {
   "cell_type": "markdown",
   "metadata": {},
   "source": [
    "**Gaussian Mixture Models**"
   ]
  },
  {
   "cell_type": "markdown",
   "metadata": {},
   "source": [
    "Now let's look at some statistical analysis that happens to lend itself to clustering."
   ]
  },
  {
   "cell_type": "markdown",
   "metadata": {},
   "source": [
    "A *Gaussian mixture distribution* takes the form"
   ]
  },
  {
   "cell_type": "markdown",
   "metadata": {},
   "source": [
    "## $p(x) = \\sum_{k=1}^K \\pi_k\\mathcal{N}(x \\mid \\mu_k,\\Sigma_k)$"
   ]
  },
  {
   "cell_type": "markdown",
   "metadata": {},
   "source": [
    "We define a $K-$dimensional random variable $\\bf z$ such that $z_k \\in \\{0,1\\}$ and $\\sum_k z_k = 1$."
   ]
  },
  {
   "cell_type": "markdown",
   "metadata": {},
   "source": [
    "The joint distribution for $x$ (data) and this variable is expressed in the form"
   ]
  },
  {
   "cell_type": "markdown",
   "metadata": {},
   "source": [
    "## $p(x,z) = p(z)p(x \\mid z)$"
   ]
  },
  {
   "cell_type": "markdown",
   "metadata": {},
   "source": [
    "Algebra gives the quantity we want (the one that helps with classification):"
   ]
  },
  {
   "cell_type": "markdown",
   "metadata": {},
   "source": [
    "## $p(z_k = 1 \\mid x) = \\frac{\\pi_k\\mathcal{N}(x \\mid \\mu_k,\\Sigma_k)}{\\sum_j^K \\pi_j\\mathcal{N}(x \\mid \\mu_k,\\Sigma_k)}$"
   ]
  },
  {
   "cell_type": "markdown",
   "metadata": {},
   "source": [
    "*This expresses the probability of belonging to cluster $k$*. It is referred to as the *responsibility* that the $k^{th}$ Gaussian distribution takes for explaining the observations $x$.  \n",
    "\n",
    "The *log-likelihood* is the function to be optimized, and the decision variables are the parameters for the distribution, i.e. $\\pi$, $\\mu$ and $\\Sigma$."
   ]
  },
  {
   "cell_type": "markdown",
   "metadata": {},
   "source": [
    "## $ \\ln p(x \\mid \\pi, \\mu, \\Sigma)$"
   ]
  },
  {
   "cell_type": "markdown",
   "metadata": {},
   "source": [
    "It can be optimized via an *Expectation-Maximization* algorithm:"
   ]
  },
  {
   "cell_type": "markdown",
   "metadata": {},
   "source": [
    "### EM for Gaussian Mixtures\n",
    "\n",
    "1. Initialize $\\mu_k$, $\\Sigma_k$ and $\\pi_k$\n",
    "2. (E-step) Evaluate *responsibilities* using *current parameter estimates*.\n",
    "3. (M-step) Re-estimate parameters using current responsibilities. Assignments in this step are derived from Langrange multipliers (gives conditions for optimality).\n",
    "4. Evaluate the log-likelihood and check for its convergence or else that of the parameters. If not converged, start again with Step 2."
   ]
  },
  {
   "cell_type": "markdown",
   "metadata": {},
   "source": [
    "*Example*"
   ]
  },
  {
   "cell_type": "markdown",
   "metadata": {},
   "source": [
    "Creating a model and training it:"
   ]
  },
  {
   "cell_type": "code",
   "execution_count": 33,
   "metadata": {},
   "outputs": [],
   "source": [
    "from sklearn import mixture\n",
    "gmm = mixture.GaussianMixture(n_components=3, covariance_type='full',\n",
    "                              max_iter=100).fit(X)"
   ]
  },
  {
   "cell_type": "markdown",
   "metadata": {},
   "source": [
    "Applying that model to make predictions:"
   ]
  },
  {
   "cell_type": "code",
   "execution_count": 34,
   "metadata": {},
   "outputs": [],
   "source": [
    "predictions = gmm.predict(X)"
   ]
  },
  {
   "cell_type": "markdown",
   "metadata": {},
   "source": [
    "What clusters have we found?"
   ]
  },
  {
   "cell_type": "code",
   "execution_count": 35,
   "metadata": {},
   "outputs": [],
   "source": [
    "D1 = X[np.where(predictions==0)].transpose() # Just getting the right shape with transpose\n",
    "D2 = X[np.where(predictions==1)].transpose()\n",
    "D3 = X[np.where(predictions==2)].transpose()"
   ]
  },
  {
   "cell_type": "code",
   "execution_count": 36,
   "metadata": {},
   "outputs": [
    {
     "data": {
      "text/html": [
       "\n",
       "\n",
       "\n",
       "\n",
       "\n",
       "\n",
       "  <div class=\"bk-root\" id=\"497b1d0e-bf2b-4ccd-9b5f-9b0b59eda86f\"></div>\n"
      ]
     },
     "metadata": {},
     "output_type": "display_data"
    },
    {
     "data": {
      "application/javascript": [
       "(function(root) {\n",
       "  function embed_document(root) {\n",
       "    \n",
       "  var docs_json = {\"08739bae-0523-4723-af67-5e1dbed0a06a\":{\"roots\":{\"references\":[{\"attributes\":{\"fill_alpha\":{\"value\":0.5},\"fill_color\":{\"value\":\"red\"},\"line_alpha\":{\"value\":0.5},\"line_color\":{\"value\":\"navy\"},\"size\":{\"units\":\"screen\",\"value\":15},\"x\":{\"field\":\"x\"},\"y\":{\"field\":\"y\"}},\"id\":\"079a5da5-1f95-4602-a6ae-00cdfea779f2\",\"type\":\"Circle\"},{\"attributes\":{\"dimension\":1,\"grid_line_color\":{\"value\":null},\"plot\":{\"id\":\"442d2d49-ab4a-4e51-925a-6e5b3da89630\",\"subtype\":\"Figure\",\"type\":\"Plot\"},\"ticker\":{\"id\":\"829aa603-0870-44db-a4cd-df414df14138\",\"type\":\"BasicTicker\"}},\"id\":\"d38b50ce-bd2d-4dde-b4fd-fdbecab99643\",\"type\":\"Grid\"},{\"attributes\":{\"fill_alpha\":{\"value\":0.1},\"fill_color\":{\"value\":\"#1f77b4\"},\"line_alpha\":{\"value\":0.1},\"line_color\":{\"value\":\"#1f77b4\"},\"size\":{\"units\":\"screen\",\"value\":15},\"x\":{\"field\":\"x\"},\"y\":{\"field\":\"y\"}},\"id\":\"42b94712-ec6e-4fa7-8fff-005cc6da449c\",\"type\":\"Circle\"},{\"attributes\":{\"callback\":null,\"data\":{\"x\":{\"__ndarray__\":\"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\",\"dtype\":\"float64\",\"shape\":[500]},\"y\":{\"__ndarray__\":\"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\",\"dtype\":\"float64\",\"shape\":[500]}},\"selected\":{\"id\":\"9ea00a46-9dc6-4c01-ab72-2ff678e77827\",\"type\":\"Selection\"},\"selection_policy\":{\"id\":\"74c41566-08d6-4caf-85c7-afd2b1cf8291\",\"type\":\"UnionRenderers\"}},\"id\":\"4f715590-4346-44c1-80e4-65164ac649c6\",\"type\":\"ColumnDataSource\"},{\"attributes\":{},\"id\":\"ca686ba9-7911-4306-bb2e-19ce57a8009d\",\"type\":\"BasicTickFormatter\"},{\"attributes\":{\"bottom_units\":\"screen\",\"fill_alpha\":{\"value\":0.5},\"fill_color\":{\"value\":\"lightgrey\"},\"left_units\":\"screen\",\"level\":\"overlay\",\"line_alpha\":{\"value\":1.0},\"line_color\":{\"value\":\"black\"},\"line_dash\":[4,4],\"line_width\":{\"value\":2},\"plot\":null,\"render_mode\":\"css\",\"right_units\":\"screen\",\"top_units\":\"screen\"},\"id\":\"f19cdca5-37b7-417d-9055-162262414f89\",\"type\":\"BoxAnnotation\"},{\"attributes\":{},\"id\":\"cdf0f7b2-5a1f-4858-b101-6f9685d923d7\",\"type\":\"PanTool\"},{\"attributes\":{\"data_source\":{\"id\":\"d9af6b5e-bac0-47b0-98b0-ecf0a15d8183\",\"type\":\"ColumnDataSource\"},\"glyph\":{\"id\":\"079a5da5-1f95-4602-a6ae-00cdfea779f2\",\"type\":\"Circle\"},\"hover_glyph\":null,\"muted_glyph\":null,\"nonselection_glyph\":{\"id\":\"42b94712-ec6e-4fa7-8fff-005cc6da449c\",\"type\":\"Circle\"},\"selection_glyph\":null,\"view\":{\"id\":\"ef60a2b4-729d-4fe2-9648-fb0ecd5f4d23\",\"type\":\"CDSView\"}},\"id\":\"3204e961-56ca-4d2d-9866-de7c825ecd7d\",\"type\":\"GlyphRenderer\"},{\"attributes\":{},\"id\":\"382ac9dc-b0be-438f-93ad-c29494c772fd\",\"type\":\"WheelZoomTool\"},{\"attributes\":{\"overlay\":{\"id\":\"f19cdca5-37b7-417d-9055-162262414f89\",\"type\":\"BoxAnnotation\"}},\"id\":\"a62d2d7c-ca11-406a-a197-071955106e24\",\"type\":\"BoxZoomTool\"},{\"attributes\":{},\"id\":\"fffa0563-9559-4f9a-a4e5-fb0e323726da\",\"type\":\"SaveTool\"},{\"attributes\":{},\"id\":\"0c06ebfd-bee1-48dc-837f-e3ba579c0983\",\"type\":\"ResetTool\"},{\"attributes\":{},\"id\":\"7c10fea9-8de5-4ece-8483-52381d969bbe\",\"type\":\"HelpTool\"},{\"attributes\":{\"source\":{\"id\":\"d9af6b5e-bac0-47b0-98b0-ecf0a15d8183\",\"type\":\"ColumnDataSource\"}},\"id\":\"ef60a2b4-729d-4fe2-9648-fb0ecd5f4d23\",\"type\":\"CDSView\"},{\"attributes\":{\"fill_alpha\":{\"value\":0.5},\"fill_color\":{\"value\":\"yellow\"},\"line_alpha\":{\"value\":0.5},\"line_color\":{\"value\":\"navy\"},\"size\":{\"units\":\"screen\",\"value\":15},\"x\":{\"field\":\"x\"},\"y\":{\"field\":\"y\"}},\"id\":\"6d77dcec-40d5-4d01-92da-22ed3fac088b\",\"type\":\"Circle\"},{\"attributes\":{\"fill_alpha\":{\"value\":0.1},\"fill_color\":{\"value\":\"#1f77b4\"},\"line_alpha\":{\"value\":0.1},\"line_color\":{\"value\":\"#1f77b4\"},\"size\":{\"units\":\"screen\",\"value\":15},\"x\":{\"field\":\"x\"},\"y\":{\"field\":\"y\"}},\"id\":\"a328c6b6-1075-4e6b-a42a-01bf09c7859a\",\"type\":\"Circle\"},{\"attributes\":{\"data_source\":{\"id\":\"c6a79cb5-970b-4dc8-b25e-a08e88fe82f2\",\"type\":\"ColumnDataSource\"},\"glyph\":{\"id\":\"120040f3-dd40-4920-ac51-7788916f5f03\",\"type\":\"Circle\"},\"hover_glyph\":null,\"muted_glyph\":null,\"nonselection_glyph\":{\"id\":\"7b02437e-6670-4341-98a2-73a510c26471\",\"type\":\"Circle\"},\"selection_glyph\":null,\"view\":{\"id\":\"a5778234-d8b2-41bf-9006-8e5bf3a681d7\",\"type\":\"CDSView\"}},\"id\":\"e7f788e1-1bfa-40b3-910c-3f94ffb9cd50\",\"type\":\"GlyphRenderer\"},{\"attributes\":{\"data_source\":{\"id\":\"4f715590-4346-44c1-80e4-65164ac649c6\",\"type\":\"ColumnDataSource\"},\"glyph\":{\"id\":\"6d77dcec-40d5-4d01-92da-22ed3fac088b\",\"type\":\"Circle\"},\"hover_glyph\":null,\"muted_glyph\":null,\"nonselection_glyph\":{\"id\":\"a328c6b6-1075-4e6b-a42a-01bf09c7859a\",\"type\":\"Circle\"},\"selection_glyph\":null,\"view\":{\"id\":\"945e2305-8042-4e9e-8107-08871f756139\",\"type\":\"CDSView\"}},\"id\":\"c5336236-2d7c-4e7c-af4a-eb1abb459e97\",\"type\":\"GlyphRenderer\"},{\"attributes\":{\"source\":{\"id\":\"4f715590-4346-44c1-80e4-65164ac649c6\",\"type\":\"ColumnDataSource\"}},\"id\":\"945e2305-8042-4e9e-8107-08871f756139\",\"type\":\"CDSView\"},{\"attributes\":{\"source\":{\"id\":\"c6a79cb5-970b-4dc8-b25e-a08e88fe82f2\",\"type\":\"ColumnDataSource\"}},\"id\":\"a5778234-d8b2-41bf-9006-8e5bf3a681d7\",\"type\":\"CDSView\"},{\"attributes\":{\"background_fill_color\":{\"value\":\"#eeeeee\"},\"below\":[{\"id\":\"efc812c2-8642-4e17-b802-457ba72eb301\",\"type\":\"LinearAxis\"}],\"left\":[{\"id\":\"9c850421-33f5-4b6b-83bd-829cb7783c1b\",\"type\":\"LinearAxis\"}],\"renderers\":[{\"id\":\"efc812c2-8642-4e17-b802-457ba72eb301\",\"type\":\"LinearAxis\"},{\"id\":\"519fa95e-8535-47e6-ac33-fd273bbd74b0\",\"type\":\"Grid\"},{\"id\":\"9c850421-33f5-4b6b-83bd-829cb7783c1b\",\"type\":\"LinearAxis\"},{\"id\":\"d38b50ce-bd2d-4dde-b4fd-fdbecab99643\",\"type\":\"Grid\"},{\"id\":\"f19cdca5-37b7-417d-9055-162262414f89\",\"type\":\"BoxAnnotation\"},{\"id\":\"e7f788e1-1bfa-40b3-910c-3f94ffb9cd50\",\"type\":\"GlyphRenderer\"},{\"id\":\"3204e961-56ca-4d2d-9866-de7c825ecd7d\",\"type\":\"GlyphRenderer\"},{\"id\":\"c5336236-2d7c-4e7c-af4a-eb1abb459e97\",\"type\":\"GlyphRenderer\"}],\"title\":{\"id\":\"dff2292f-e49c-499b-9912-7ebc41ca7f7b\",\"type\":\"Title\"},\"toolbar\":{\"id\":\"221afc63-ffa4-4b4e-97c7-87e865020282\",\"type\":\"Toolbar\"},\"toolbar_location\":null,\"x_range\":{\"id\":\"f6df12fc-3043-4c97-9eea-61e7a87e8aac\",\"type\":\"DataRange1d\"},\"x_scale\":{\"id\":\"97340898-4bf3-40e7-a949-fbaa697e56e6\",\"type\":\"LinearScale\"},\"y_range\":{\"id\":\"f08b7ce0-fe13-4bc2-8cc4-55799232304e\",\"type\":\"DataRange1d\"},\"y_scale\":{\"id\":\"3c983ab5-3246-4cd7-85d4-b28972b0c3b5\",\"type\":\"LinearScale\"}},\"id\":\"442d2d49-ab4a-4e51-925a-6e5b3da89630\",\"subtype\":\"Figure\",\"type\":\"Plot\"},{\"attributes\":{},\"id\":\"cfd47005-6176-47a7-8105-f538251e7497\",\"type\":\"BasicTickFormatter\"},{\"attributes\":{\"callback\":null,\"data\":{\"x\":{\"__ndarray__\":\"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\",\"dtype\":\"float64\",\"shape\":[500]},\"y\":{\"__ndarray__\":\"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\",\"dtype\":\"float64\",\"shape\":[500]}},\"selected\":{\"id\":\"18f98c26-f49a-446e-b2ba-2effa31d816f\",\"type\":\"Selection\"},\"selection_policy\":{\"id\":\"cc43722a-dd4d-442e-acdf-6128db4398c1\",\"type\":\"UnionRenderers\"}},\"id\":\"c6a79cb5-970b-4dc8-b25e-a08e88fe82f2\",\"type\":\"ColumnDataSource\"},{\"attributes\":{},\"id\":\"cc43722a-dd4d-442e-acdf-6128db4398c1\",\"type\":\"UnionRenderers\"},{\"attributes\":{\"callback\":null,\"data\":{\"x\":{\"__ndarray__\":\"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\",\"dtype\":\"float64\",\"shape\":[500]},\"y\":{\"__ndarray__\":\"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\",\"dtype\":\"float64\",\"shape\":[500]}},\"selected\":{\"id\":\"a8fb6d43-b3ca-4c2d-8d47-e9aa272d548f\",\"type\":\"Selection\"},\"selection_policy\":{\"id\":\"cefd873a-7083-41ba-b668-768f93c4bb80\",\"type\":\"UnionRenderers\"}},\"id\":\"d9af6b5e-bac0-47b0-98b0-ecf0a15d8183\",\"type\":\"ColumnDataSource\"},{\"attributes\":{},\"id\":\"18f98c26-f49a-446e-b2ba-2effa31d816f\",\"type\":\"Selection\"},{\"attributes\":{\"plot\":null,\"text\":\"Found Clusters\"},\"id\":\"dff2292f-e49c-499b-9912-7ebc41ca7f7b\",\"type\":\"Title\"},{\"attributes\":{\"callback\":null},\"id\":\"f6df12fc-3043-4c97-9eea-61e7a87e8aac\",\"type\":\"DataRange1d\"},{\"attributes\":{},\"id\":\"cefd873a-7083-41ba-b668-768f93c4bb80\",\"type\":\"UnionRenderers\"},{\"attributes\":{\"fill_alpha\":{\"value\":0.5},\"fill_color\":{\"value\":\"blue\"},\"line_alpha\":{\"value\":0.5},\"line_color\":{\"value\":\"navy\"},\"size\":{\"units\":\"screen\",\"value\":15},\"x\":{\"field\":\"x\"},\"y\":{\"field\":\"y\"}},\"id\":\"120040f3-dd40-4920-ac51-7788916f5f03\",\"type\":\"Circle\"},{\"attributes\":{},\"id\":\"a8fb6d43-b3ca-4c2d-8d47-e9aa272d548f\",\"type\":\"Selection\"},{\"attributes\":{\"fill_alpha\":{\"value\":0.1},\"fill_color\":{\"value\":\"#1f77b4\"},\"line_alpha\":{\"value\":0.1},\"line_color\":{\"value\":\"#1f77b4\"},\"size\":{\"units\":\"screen\",\"value\":15},\"x\":{\"field\":\"x\"},\"y\":{\"field\":\"y\"}},\"id\":\"7b02437e-6670-4341-98a2-73a510c26471\",\"type\":\"Circle\"},{\"attributes\":{},\"id\":\"74c41566-08d6-4caf-85c7-afd2b1cf8291\",\"type\":\"UnionRenderers\"},{\"attributes\":{\"active_drag\":\"auto\",\"active_inspect\":\"auto\",\"active_multi\":null,\"active_scroll\":\"auto\",\"active_tap\":\"auto\",\"tools\":[{\"id\":\"cdf0f7b2-5a1f-4858-b101-6f9685d923d7\",\"type\":\"PanTool\"},{\"id\":\"382ac9dc-b0be-438f-93ad-c29494c772fd\",\"type\":\"WheelZoomTool\"},{\"id\":\"a62d2d7c-ca11-406a-a197-071955106e24\",\"type\":\"BoxZoomTool\"},{\"id\":\"fffa0563-9559-4f9a-a4e5-fb0e323726da\",\"type\":\"SaveTool\"},{\"id\":\"0c06ebfd-bee1-48dc-837f-e3ba579c0983\",\"type\":\"ResetTool\"},{\"id\":\"7c10fea9-8de5-4ece-8483-52381d969bbe\",\"type\":\"HelpTool\"}]},\"id\":\"221afc63-ffa4-4b4e-97c7-87e865020282\",\"type\":\"Toolbar\"},{\"attributes\":{},\"id\":\"9ea00a46-9dc6-4c01-ab72-2ff678e77827\",\"type\":\"Selection\"},{\"attributes\":{},\"id\":\"829aa603-0870-44db-a4cd-df414df14138\",\"type\":\"BasicTicker\"},{\"attributes\":{},\"id\":\"97340898-4bf3-40e7-a949-fbaa697e56e6\",\"type\":\"LinearScale\"},{\"attributes\":{\"callback\":null},\"id\":\"f08b7ce0-fe13-4bc2-8cc4-55799232304e\",\"type\":\"DataRange1d\"},{\"attributes\":{},\"id\":\"3c983ab5-3246-4cd7-85d4-b28972b0c3b5\",\"type\":\"LinearScale\"},{\"attributes\":{\"grid_line_color\":{\"value\":null},\"plot\":{\"id\":\"442d2d49-ab4a-4e51-925a-6e5b3da89630\",\"subtype\":\"Figure\",\"type\":\"Plot\"},\"ticker\":{\"id\":\"5fce91c8-a53b-4d88-a9e0-a8ef3ff8b80f\",\"type\":\"BasicTicker\"}},\"id\":\"519fa95e-8535-47e6-ac33-fd273bbd74b0\",\"type\":\"Grid\"},{\"attributes\":{\"formatter\":{\"id\":\"cfd47005-6176-47a7-8105-f538251e7497\",\"type\":\"BasicTickFormatter\"},\"plot\":{\"id\":\"442d2d49-ab4a-4e51-925a-6e5b3da89630\",\"subtype\":\"Figure\",\"type\":\"Plot\"},\"ticker\":{\"id\":\"5fce91c8-a53b-4d88-a9e0-a8ef3ff8b80f\",\"type\":\"BasicTicker\"}},\"id\":\"efc812c2-8642-4e17-b802-457ba72eb301\",\"type\":\"LinearAxis\"},{\"attributes\":{},\"id\":\"5fce91c8-a53b-4d88-a9e0-a8ef3ff8b80f\",\"type\":\"BasicTicker\"},{\"attributes\":{\"formatter\":{\"id\":\"ca686ba9-7911-4306-bb2e-19ce57a8009d\",\"type\":\"BasicTickFormatter\"},\"plot\":{\"id\":\"442d2d49-ab4a-4e51-925a-6e5b3da89630\",\"subtype\":\"Figure\",\"type\":\"Plot\"},\"ticker\":{\"id\":\"829aa603-0870-44db-a4cd-df414df14138\",\"type\":\"BasicTicker\"}},\"id\":\"9c850421-33f5-4b6b-83bd-829cb7783c1b\",\"type\":\"LinearAxis\"}],\"root_ids\":[\"442d2d49-ab4a-4e51-925a-6e5b3da89630\"]},\"title\":\"Bokeh Application\",\"version\":\"0.13.0\"}};\n",
       "  var render_items = [{\"docid\":\"08739bae-0523-4723-af67-5e1dbed0a06a\",\"roots\":{\"442d2d49-ab4a-4e51-925a-6e5b3da89630\":\"497b1d0e-bf2b-4ccd-9b5f-9b0b59eda86f\"}}];\n",
       "  root.Bokeh.embed.embed_items_notebook(docs_json, render_items);\n",
       "\n",
       "  }\n",
       "  if (root.Bokeh !== undefined) {\n",
       "    embed_document(root);\n",
       "  } else {\n",
       "    var attempts = 0;\n",
       "    var timer = setInterval(function(root) {\n",
       "      if (root.Bokeh !== undefined) {\n",
       "        embed_document(root);\n",
       "        clearInterval(timer);\n",
       "      }\n",
       "      attempts++;\n",
       "      if (attempts > 100) {\n",
       "        console.log(\"Bokeh: ERROR: Unable to run BokehJS code because BokehJS library is missing\")\n",
       "        clearInterval(timer);\n",
       "      }\n",
       "    }, 10, root)\n",
       "  }\n",
       "})(window);"
      ],
      "application/vnd.bokehjs_exec.v0+json": ""
     },
     "metadata": {
      "application/vnd.bokehjs_exec.v0+json": {
       "id": "442d2d49-ab4a-4e51-925a-6e5b3da89630"
      }
     },
     "output_type": "display_data"
    }
   ],
   "source": [
    "f4 = figure(title=\"Found Clusters\", toolbar_location=None)\n",
    "f4.grid.grid_line_color = None\n",
    "f4.background_fill_color = \"#eeeeee\"\n",
    "\n",
    "\n",
    "\n",
    "mscatter(f4, D1[0,:], D1[1,:], \"circle\", \"blue\")\n",
    "\n",
    "mscatter(f4, D2[0,:], D2[1,:], \"circle\", \"red\")\n",
    "\n",
    "mscatter(f4, D3[0,:], D3[1,:], \"circle\", \"yellow\")\n",
    "\n",
    "show(f4)"
   ]
  },
  {
   "cell_type": "markdown",
   "metadata": {},
   "source": [
    "Well, we got the colors flipped, but those look about the same as the sets generated!"
   ]
  }
 ],
 "metadata": {
  "kernelspec": {
   "display_name": "Python 3",
   "language": "python",
   "name": "python3"
  },
  "language_info": {
   "codemirror_mode": {
    "name": "ipython",
    "version": 3
   },
   "file_extension": ".py",
   "mimetype": "text/x-python",
   "name": "python",
   "nbconvert_exporter": "python",
   "pygments_lexer": "ipython3",
   "version": "3.6.8"
  }
 },
 "nbformat": 4,
 "nbformat_minor": 2
}
