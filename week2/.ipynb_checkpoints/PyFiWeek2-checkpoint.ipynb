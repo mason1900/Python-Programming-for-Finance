{
 "cells": [
  {
   "cell_type": "markdown",
   "metadata": {},
   "source": [
    "# CPS600 - Python Programming for Finance \n",
    "###  \n",
    "<img src=\"https://www.syracuse.edu/wp-content/themes/g6-carbon/img/syracuse-university-seal.svg?ver=6.3.9\" style=\"width: 200px;\"/>\n",
    "\n",
    "# More Python\n",
    "\n",
    "###  September 6, 2018"
   ]
  },
  {
   "cell_type": "markdown",
   "metadata": {},
   "source": [
    "## Numpy & Vectorization"
   ]
  },
  {
   "cell_type": "markdown",
   "metadata": {},
   "source": [
    "# `numpy`"
   ]
  },
  {
   "cell_type": "markdown",
   "metadata": {},
   "source": [
    "### This package enables you to do great things, including linear algebra. Here we are defining an array:"
   ]
  },
  {
   "cell_type": "code",
   "execution_count": 1,
   "metadata": {},
   "outputs": [],
   "source": [
    "import numpy as np\n",
    "import time"
   ]
  },
  {
   "cell_type": "code",
   "execution_count": 2,
   "metadata": {},
   "outputs": [
    {
     "name": "stdout",
     "output_type": "stream",
     "text": [
      "[[1. 0. 0.]\n",
      " [0. 1. 2.]]\n"
     ]
    }
   ],
   "source": [
    "M = np.array(\n",
    "            [[ 1., 0., 0.],\n",
    "            [ 0., 1., 2.]]\n",
    "            )\n",
    "print(M)"
   ]
  },
  {
   "cell_type": "markdown",
   "metadata": {},
   "source": [
    "### We can ask for some *attributes* or features of that array."
   ]
  },
  {
   "cell_type": "code",
   "execution_count": 5,
   "metadata": {},
   "outputs": [
    {
     "data": {
      "text/plain": [
       "(2, 3)"
      ]
     },
     "execution_count": 5,
     "metadata": {},
     "output_type": "execute_result"
    }
   ],
   "source": [
    "M.shape"
   ]
  },
  {
   "cell_type": "code",
   "execution_count": 6,
   "metadata": {},
   "outputs": [
    {
     "data": {
      "text/plain": [
       "array([[1., 0.],\n",
       "       [0., 0.],\n",
       "       [1., 2.]])"
      ]
     },
     "execution_count": 6,
     "metadata": {},
     "output_type": "execute_result"
    }
   ],
   "source": [
    "M.reshape((3,2))"
   ]
  },
  {
   "cell_type": "markdown",
   "metadata": {},
   "source": [
    "### We can take slices or submatrices of it."
   ]
  },
  {
   "cell_type": "code",
   "execution_count": 7,
   "metadata": {},
   "outputs": [
    {
     "data": {
      "text/plain": [
       "(2, 2)"
      ]
     },
     "execution_count": 7,
     "metadata": {},
     "output_type": "execute_result"
    }
   ],
   "source": [
    "M2 = M[:,:2]\n",
    "M3 = M2.copy()\n",
    "M2.shape"
   ]
  },
  {
   "cell_type": "markdown",
   "metadata": {},
   "source": [
    "### We can do all sorts of operations, including matrix multiplication."
   ]
  },
  {
   "cell_type": "code",
   "execution_count": 8,
   "metadata": {},
   "outputs": [
    {
     "name": "stdout",
     "output_type": "stream",
     "text": [
      "[[2. 0. 0.]\n",
      " [0. 2. 2.]] \n",
      "\n",
      " [[2. 0.]\n",
      " [0. 2.]] \n",
      "\n",
      "  [[1. 0.]\n",
      " [0. 1.]]\n"
     ]
    }
   ],
   "source": [
    "M2 *= 2\n",
    "print(M,'\\n\\n',M2, '\\n\\n ',M3)"
   ]
  },
  {
   "cell_type": "code",
   "execution_count": 9,
   "metadata": {},
   "outputs": [
    {
     "data": {
      "text/plain": [
       "array([[4., 0., 0.],\n",
       "       [0., 4., 4.]])"
      ]
     },
     "execution_count": 9,
     "metadata": {},
     "output_type": "execute_result"
    }
   ],
   "source": [
    "M2.dot(M) #The matrix product M2.M"
   ]
  },
  {
   "cell_type": "code",
   "execution_count": 10,
   "metadata": {},
   "outputs": [
    {
     "data": {
      "text/plain": [
       "array([[2., 0.],\n",
       "       [0., 2.]])"
      ]
     },
     "execution_count": 10,
     "metadata": {},
     "output_type": "execute_result"
    }
   ],
   "source": [
    "np.matmul(M2,M3) #Another way"
   ]
  },
  {
   "cell_type": "markdown",
   "metadata": {},
   "source": [
    "### We can *call methods* that compute properties of our matrices."
   ]
  },
  {
   "cell_type": "code",
   "execution_count": 11,
   "metadata": {},
   "outputs": [
    {
     "data": {
      "text/plain": [
       "(array([[0., 1.],\n",
       "        [1., 0.]]),\n",
       " array([2.82842712, 2.        ]),\n",
       " array([[ 0.        ,  0.70710678,  0.70710678],\n",
       "        [ 1.        ,  0.        ,  0.        ],\n",
       "        [ 0.        , -0.70710678,  0.70710678]]))"
      ]
     },
     "execution_count": 11,
     "metadata": {},
     "output_type": "execute_result"
    }
   ],
   "source": [
    "np.linalg.svd(M)"
   ]
  },
  {
   "cell_type": "markdown",
   "metadata": {},
   "source": [
    "### Also, `numpy` is great for random samples and some standard probability distributions."
   ]
  },
  {
   "cell_type": "code",
   "execution_count": 13,
   "metadata": {},
   "outputs": [
    {
     "data": {
      "text/plain": [
       "array([[0.47752258, 0.36562784],\n",
       "       [0.32943454, 0.81573401],\n",
       "       [0.35773699, 0.27042799]])"
      ]
     },
     "execution_count": 13,
     "metadata": {},
     "output_type": "execute_result"
    }
   ],
   "source": [
    "sU = np.random.rand(3,2) #Sample from the uniform distribution\n",
    "sU"
   ]
  },
  {
   "cell_type": "code",
   "execution_count": 14,
   "metadata": {},
   "outputs": [
    {
     "data": {
      "text/plain": [
       "0.4360806582425308"
      ]
     },
     "execution_count": 14,
     "metadata": {},
     "output_type": "execute_result"
    }
   ],
   "source": [
    "np.mean(sU)"
   ]
  },
  {
   "cell_type": "code",
   "execution_count": 15,
   "metadata": {},
   "outputs": [
    {
     "data": {
      "text/plain": [
       "array([[-1.74202366,  1.31579623, -1.12349536, -1.59938653],\n",
       "       [-0.88484647,  1.25409804,  0.3387739 ,  0.17451462],\n",
       "       [ 1.66342308,  1.06895526, -1.84830811, -1.74279409]])"
      ]
     },
     "execution_count": 15,
     "metadata": {},
     "output_type": "execute_result"
    }
   ],
   "source": [
    "sN = np.random.randn(3,4) #Sample from the standard normal\n",
    "sN"
   ]
  },
  {
   "cell_type": "code",
   "execution_count": 17,
   "metadata": {},
   "outputs": [
    {
     "data": {
      "text/plain": [
       "array([[2, 1, 0, 1],\n",
       "       [1, 2, 0, 1],\n",
       "       [1, 1, 2, 0],\n",
       "       [1, 2, 2, 0],\n",
       "       [1, 1, 1, 1],\n",
       "       [1, 1, 1, 2],\n",
       "       [0, 2, 0, 1],\n",
       "       [3, 0, 1, 2],\n",
       "       [2, 1, 2, 1],\n",
       "       [1, 2, 2, 2]])"
      ]
     },
     "execution_count": 17,
     "metadata": {},
     "output_type": "execute_result"
    }
   ],
   "source": [
    "sB = np.random.binomial(3,.4,(10,4)) #Sample 10 values from the binomial n=3,p=.4\n",
    "sB"
   ]
  },
  {
   "cell_type": "markdown",
   "metadata": {},
   "source": [
    "### Here are some more numpy array methods."
   ]
  },
  {
   "cell_type": "code",
   "execution_count": 18,
   "metadata": {},
   "outputs": [
    {
     "data": {
      "text/plain": [
       "1.0"
      ]
     },
     "execution_count": 18,
     "metadata": {},
     "output_type": "execute_result"
    }
   ],
   "source": [
    "M.std()"
   ]
  },
  {
   "cell_type": "code",
   "execution_count": 19,
   "metadata": {},
   "outputs": [
    {
     "data": {
      "text/plain": [
       "array([2., 2., 2., 2., 4., 6.])"
      ]
     },
     "execution_count": 19,
     "metadata": {},
     "output_type": "execute_result"
    }
   ],
   "source": [
    "M.cumsum()"
   ]
  },
  {
   "cell_type": "code",
   "execution_count": 21,
   "metadata": {},
   "outputs": [],
   "source": [
    "sumRows, sumCols = M.sum(axis=0), M.sum(axis=1)"
   ]
  },
  {
   "cell_type": "code",
   "execution_count": 22,
   "metadata": {},
   "outputs": [
    {
     "name": "stdout",
     "output_type": "stream",
     "text": [
      "[2. 2. 2.] [2. 4.]\n"
     ]
    }
   ],
   "source": [
    "print(sumRows,sumCols)"
   ]
  },
  {
   "cell_type": "code",
   "execution_count": 23,
   "metadata": {},
   "outputs": [
    {
     "data": {
      "text/plain": [
       "True"
      ]
     },
     "execution_count": 23,
     "metadata": {},
     "output_type": "execute_result"
    }
   ],
   "source": [
    "sumRows.sum() == sumCols.sum()"
   ]
  },
  {
   "cell_type": "markdown",
   "metadata": {},
   "source": [
    "## Understanding Numpy's Purpose"
   ]
  },
  {
   "cell_type": "markdown",
   "metadata": {},
   "source": [
    "### Play around with lists a little, and you'll see the need for arrays."
   ]
  },
  {
   "cell_type": "markdown",
   "metadata": {},
   "source": [
    "### Suppose we want a $5000 \\times 5000$ matrix of sample from a standard normal. Here is how to do that with a *nested list comprehension*, the natural way to do it with lists:"
   ]
  },
  {
   "cell_type": "code",
   "execution_count": 24,
   "metadata": {},
   "outputs": [
    {
     "name": "stdout",
     "output_type": "stream",
     "text": [
      "CPU times: user 15.6 s, sys: 207 ms, total: 15.8 s\n",
      "Wall time: 15.8 s\n"
     ]
    }
   ],
   "source": [
    "import random\n",
    "I = 5000\n",
    "%time mat = [[random.gauss(0,1) for j in range(I)] for i in range(I)]"
   ]
  },
  {
   "cell_type": "markdown",
   "metadata": {},
   "source": [
    "### Now with `numpy`'s random equipment:"
   ]
  },
  {
   "cell_type": "code",
   "execution_count": 25,
   "metadata": {},
   "outputs": [
    {
     "name": "stdout",
     "output_type": "stream",
     "text": [
      "CPU times: user 1.05 s, sys: 60 ms, total: 1.11 s\n",
      "Wall time: 1.11 s\n"
     ]
    }
   ],
   "source": [
    "%time mat = np.random.standard_normal((I,I))"
   ]
  },
  {
   "cell_type": "markdown",
   "metadata": {},
   "source": [
    "### Huge difference."
   ]
  },
  {
   "cell_type": "markdown",
   "metadata": {},
   "source": [
    "## Timing"
   ]
  },
  {
   "cell_type": "markdown",
   "metadata": {},
   "source": [
    "### We had some question after the lab about `time`. Here is what `timeit` does."
   ]
  },
  {
   "cell_type": "markdown",
   "metadata": {},
   "source": [
    "<img src=\"timeit.png\" style=\"width: 800px;\"/>\n"
   ]
  },
  {
   "cell_type": "code",
   "execution_count": 29,
   "metadata": {},
   "outputs": [
    {
     "name": "stdout",
     "output_type": "stream",
     "text": [
      "903 ms ± 5.27 ms per loop (mean ± std. dev. of 4 runs, 3 loops each)\n"
     ]
    }
   ],
   "source": [
    "%timeit -n 3 -r 4 mat = np.random.standard_normal((I,I))"
   ]
  },
  {
   "cell_type": "markdown",
   "metadata": {},
   "source": [
    "### What about the 'cell' vs 'line' modes?"
   ]
  },
  {
   "cell_type": "code",
   "execution_count": 31,
   "metadata": {},
   "outputs": [
    {
     "name": "stdout",
     "output_type": "stream",
     "text": [
      "Here we go.\n",
      "Here we go.\n",
      "Here we go.\n",
      "Here we go.\n",
      "1.81 s ± 9.31 ms per loop (mean ± std. dev. of 4 runs, 3 loops each)\n"
     ]
    }
   ],
   "source": [
    "%%timeit -n 3 -r 4 print(\"Here we go.\")\n",
    "\n",
    "mat = np.random.standard_normal((I,I))\n",
    "\n",
    "mat = np.random.standard_normal((I,I))"
   ]
  },
  {
   "cell_type": "markdown",
   "metadata": {},
   "source": [
    "### What does that look the same?"
   ]
  },
  {
   "cell_type": "markdown",
   "metadata": {},
   "source": [
    "## Vectorization"
   ]
  },
  {
   "cell_type": "markdown",
   "metadata": {},
   "source": [
    "### Very often, you can make code cleaner and faster using *vectorization*. From your text:"
   ]
  },
  {
   "cell_type": "markdown",
   "metadata": {},
   "source": [
    ">The fundamental idea is to conduct an operation on or to apply a function to a complex object \"at once\" and not by iterating over the single elements of the object."
   ]
  },
  {
   "cell_type": "markdown",
   "metadata": {},
   "source": [
    "### Let's start with to $4 \\times 3$ arrays."
   ]
  },
  {
   "cell_type": "code",
   "execution_count": 32,
   "metadata": {},
   "outputs": [],
   "source": [
    "r,s = np.random.standard_normal((4,3)), np.random.standard_normal((4,3))"
   ]
  },
  {
   "cell_type": "code",
   "execution_count": 33,
   "metadata": {},
   "outputs": [
    {
     "data": {
      "text/plain": [
       "array([[ 0.04150296,  1.72138704,  0.38946892],\n",
       "       [ 1.52083067,  0.11583207, -0.49081922],\n",
       "       [-0.39868025, -1.81668366, -0.29614452],\n",
       "       [-2.90058713, -2.10613889,  0.62492663]])"
      ]
     },
     "execution_count": 33,
     "metadata": {},
     "output_type": "execute_result"
    }
   ],
   "source": [
    "r + s"
   ]
  },
  {
   "cell_type": "markdown",
   "metadata": {},
   "source": [
    "### We can also combine with *scalars*"
   ]
  },
  {
   "cell_type": "code",
   "execution_count": 34,
   "metadata": {},
   "outputs": [
    {
     "data": {
      "text/plain": [
       "array([[ 1.4988897 ,  7.4739592 ,  4.25621193],\n",
       "       [ 5.20106406,  6.24126182,  0.79556372],\n",
       "       [ 2.06593668,  0.10823671,  0.71235128],\n",
       "       [-0.19583997,  1.98132645,  3.11878461]])"
      ]
     },
     "execution_count": 34,
     "metadata": {},
     "output_type": "execute_result"
    }
   ],
   "source": [
    "2 * r + 3"
   ]
  },
  {
   "cell_type": "markdown",
   "metadata": {},
   "source": [
    "### Or certain arrays of appropriate shape"
   ]
  },
  {
   "cell_type": "code",
   "execution_count": 35,
   "metadata": {},
   "outputs": [],
   "source": [
    "s = np.random.standard_normal(3)"
   ]
  },
  {
   "cell_type": "code",
   "execution_count": 36,
   "metadata": {},
   "outputs": [
    {
     "data": {
      "text/plain": [
       "array([ 1.98280351,  1.5323433 , -0.40184464])"
      ]
     },
     "execution_count": 36,
     "metadata": {},
     "output_type": "execute_result"
    }
   ],
   "source": [
    "s"
   ]
  },
  {
   "cell_type": "code",
   "execution_count": 37,
   "metadata": {},
   "outputs": [
    {
     "data": {
      "text/plain": [
       "array([[ 1.23224837,  3.76932291,  0.22626132],\n",
       "       [ 3.08333555,  3.15297421, -1.50406278],\n",
       "       [ 1.51577186,  0.08646166, -1.545669  ],\n",
       "       [ 0.38488353,  1.02300653, -0.34245234]])"
      ]
     },
     "execution_count": 37,
     "metadata": {},
     "output_type": "execute_result"
    }
   ],
   "source": [
    "r + s"
   ]
  },
  {
   "cell_type": "markdown",
   "metadata": {},
   "source": [
    "### Here is an 'inappropriate' shape"
   ]
  },
  {
   "cell_type": "code",
   "execution_count": 38,
   "metadata": {},
   "outputs": [],
   "source": [
    "s = np.random.standard_normal(4)"
   ]
  },
  {
   "cell_type": "code",
   "execution_count": 39,
   "metadata": {},
   "outputs": [
    {
     "ename": "ValueError",
     "evalue": "operands could not be broadcast together with shapes (4,3) (4,) ",
     "output_type": "error",
     "traceback": [
      "\u001b[0;31m---------------------------------------------------------------------------\u001b[0m",
      "\u001b[0;31mValueError\u001b[0m                                Traceback (most recent call last)",
      "\u001b[0;32m<ipython-input-39-8597a67c36bf>\u001b[0m in \u001b[0;36m<module>\u001b[0;34m()\u001b[0m\n\u001b[0;32m----> 1\u001b[0;31m \u001b[0mr\u001b[0m \u001b[0;34m+\u001b[0m \u001b[0ms\u001b[0m\u001b[0;34m\u001b[0m\u001b[0m\n\u001b[0m",
      "\u001b[0;31mValueError\u001b[0m: operands could not be broadcast together with shapes (4,3) (4,) "
     ]
    }
   ],
   "source": [
    "r + s"
   ]
  },
  {
   "cell_type": "markdown",
   "metadata": {},
   "source": [
    "### But we can *transpose* the array and the addition will work just fine."
   ]
  },
  {
   "cell_type": "code",
   "execution_count": 40,
   "metadata": {},
   "outputs": [
    {
     "data": {
      "text/plain": [
       "array([[-2.05540199, -0.94559151, -0.23379406, -2.02903223],\n",
       "       [ 0.93213276, -0.42549263, -1.21264405, -0.94044902],\n",
       "       [-0.67674087, -3.14834168, -0.91058676, -0.37171994]])"
      ]
     },
     "execution_count": 40,
     "metadata": {},
     "output_type": "execute_result"
    }
   ],
   "source": [
    "r.T + s"
   ]
  },
  {
   "cell_type": "markdown",
   "metadata": {},
   "source": [
    "### Alternatively, we can reshape and then transpose the vector `s` and put it first."
   ]
  },
  {
   "cell_type": "code",
   "execution_count": 42,
   "metadata": {},
   "outputs": [
    {
     "data": {
      "text/plain": [
       "array([-1.30484684, -2.04612355,  0.2332376 , -0.43111224])"
      ]
     },
     "execution_count": 42,
     "metadata": {},
     "output_type": "execute_result"
    }
   ],
   "source": [
    "s"
   ]
  },
  {
   "cell_type": "code",
   "execution_count": 44,
   "metadata": {},
   "outputs": [
    {
     "data": {
      "text/plain": [
       "(4,)"
      ]
     },
     "execution_count": 44,
     "metadata": {},
     "output_type": "execute_result"
    }
   ],
   "source": [
    "s.shape"
   ]
  },
  {
   "cell_type": "code",
   "execution_count": 46,
   "metadata": {},
   "outputs": [
    {
     "data": {
      "text/plain": [
       "array([[-1.30484684, -2.04612355,  0.2332376 , -0.43111224]])"
      ]
     },
     "execution_count": 46,
     "metadata": {},
     "output_type": "execute_result"
    }
   ],
   "source": [
    "s.reshape((1,4))"
   ]
  },
  {
   "cell_type": "code",
   "execution_count": 41,
   "metadata": {},
   "outputs": [
    {
     "data": {
      "text/plain": [
       "array([[-2.05540199,  0.93213276, -0.67674087],\n",
       "       [-0.94559151, -0.42549263, -3.14834168],\n",
       "       [-0.23379406, -1.21264405, -0.91058676],\n",
       "       [-2.02903223, -0.94044902, -0.37171994]])"
      ]
     },
     "execution_count": 41,
     "metadata": {},
     "output_type": "execute_result"
    }
   ],
   "source": [
    "s.reshape((1,4)).T + r"
   ]
  },
  {
   "cell_type": "code",
   "execution_count": 47,
   "metadata": {},
   "outputs": [
    {
     "name": "stdout",
     "output_type": "stream",
     "text": [
      "Help on class broadcast in module numpy:\n",
      "\n",
      "class broadcast(builtins.object)\n",
      " |  Produce an object that mimics broadcasting.\n",
      " |  \n",
      " |  Parameters\n",
      " |  ----------\n",
      " |  in1, in2, ... : array_like\n",
      " |      Input parameters.\n",
      " |  \n",
      " |  Returns\n",
      " |  -------\n",
      " |  b : broadcast object\n",
      " |      Broadcast the input parameters against one another, and\n",
      " |      return an object that encapsulates the result.\n",
      " |      Amongst others, it has ``shape`` and ``nd`` properties, and\n",
      " |      may be used as an iterator.\n",
      " |  \n",
      " |  See Also\n",
      " |  --------\n",
      " |  broadcast_arrays\n",
      " |  broadcast_to\n",
      " |  \n",
      " |  Examples\n",
      " |  --------\n",
      " |  Manually adding two vectors, using broadcasting:\n",
      " |  \n",
      " |  >>> x = np.array([[1], [2], [3]])\n",
      " |  >>> y = np.array([4, 5, 6])\n",
      " |  >>> b = np.broadcast(x, y)\n",
      " |  \n",
      " |  >>> out = np.empty(b.shape)\n",
      " |  >>> out.flat = [u+v for (u,v) in b]\n",
      " |  >>> out\n",
      " |  array([[ 5.,  6.,  7.],\n",
      " |         [ 6.,  7.,  8.],\n",
      " |         [ 7.,  8.,  9.]])\n",
      " |  \n",
      " |  Compare against built-in broadcasting:\n",
      " |  \n",
      " |  >>> x + y\n",
      " |  array([[5, 6, 7],\n",
      " |         [6, 7, 8],\n",
      " |         [7, 8, 9]])\n",
      " |  \n",
      " |  Methods defined here:\n",
      " |  \n",
      " |  __iter__(self, /)\n",
      " |      Implement iter(self).\n",
      " |  \n",
      " |  __new__(*args, **kwargs) from builtins.type\n",
      " |      Create and return a new object.  See help(type) for accurate signature.\n",
      " |  \n",
      " |  __next__(self, /)\n",
      " |      Implement next(self).\n",
      " |  \n",
      " |  reset(...)\n",
      " |      reset()\n",
      " |      \n",
      " |      Reset the broadcasted result's iterator(s).\n",
      " |      \n",
      " |      Parameters\n",
      " |      ----------\n",
      " |      None\n",
      " |      \n",
      " |      Returns\n",
      " |      -------\n",
      " |      None\n",
      " |      \n",
      " |      Examples\n",
      " |      --------\n",
      " |      >>> x = np.array([1, 2, 3])\n",
      " |      >>> y = np.array([[4], [5], [6]]\n",
      " |      >>> b = np.broadcast(x, y)\n",
      " |      >>> b.index\n",
      " |      0\n",
      " |      >>> b.next(), b.next(), b.next()\n",
      " |      ((1, 4), (2, 4), (3, 4))\n",
      " |      >>> b.index\n",
      " |      3\n",
      " |      >>> b.reset()\n",
      " |      >>> b.index\n",
      " |      0\n",
      " |  \n",
      " |  ----------------------------------------------------------------------\n",
      " |  Data descriptors defined here:\n",
      " |  \n",
      " |  index\n",
      " |      current index in broadcasted result\n",
      " |      \n",
      " |      Examples\n",
      " |      --------\n",
      " |      >>> x = np.array([[1], [2], [3]])\n",
      " |      >>> y = np.array([4, 5, 6])\n",
      " |      >>> b = np.broadcast(x, y)\n",
      " |      >>> b.index\n",
      " |      0\n",
      " |      >>> b.next(), b.next(), b.next()\n",
      " |      ((1, 4), (1, 5), (1, 6))\n",
      " |      >>> b.index\n",
      " |      3\n",
      " |  \n",
      " |  iters\n",
      " |      tuple of iterators along ``self``'s \"components.\"\n",
      " |      \n",
      " |      Returns a tuple of `numpy.flatiter` objects, one for each \"component\"\n",
      " |      of ``self``.\n",
      " |      \n",
      " |      See Also\n",
      " |      --------\n",
      " |      numpy.flatiter\n",
      " |      \n",
      " |      Examples\n",
      " |      --------\n",
      " |      >>> x = np.array([1, 2, 3])\n",
      " |      >>> y = np.array([[4], [5], [6]])\n",
      " |      >>> b = np.broadcast(x, y)\n",
      " |      >>> row, col = b.iters\n",
      " |      >>> row.next(), col.next()\n",
      " |      (1, 4)\n",
      " |  \n",
      " |  nd\n",
      " |      Number of dimensions of broadcasted result. For code intended for NumPy\n",
      " |      1.12.0 and later the more consistent `ndim` is preferred.\n",
      " |      \n",
      " |      Examples\n",
      " |      --------\n",
      " |      >>> x = np.array([1, 2, 3])\n",
      " |      >>> y = np.array([[4], [5], [6]])\n",
      " |      >>> b = np.broadcast(x, y)\n",
      " |      >>> b.nd\n",
      " |      2\n",
      " |  \n",
      " |  ndim\n",
      " |      Number of dimensions of broadcasted result. Alias for `nd`.\n",
      " |      \n",
      " |      .. versionadded:: 1.12.0\n",
      " |      \n",
      " |      Examples\n",
      " |      --------\n",
      " |      >>> x = np.array([1, 2, 3])\n",
      " |      >>> y = np.array([[4], [5], [6]])\n",
      " |      >>> b = np.broadcast(x, y)\n",
      " |      >>> b.ndim\n",
      " |      2\n",
      " |  \n",
      " |  numiter\n",
      " |      Number of iterators possessed by the broadcasted result.\n",
      " |      \n",
      " |      Examples\n",
      " |      --------\n",
      " |      >>> x = np.array([1, 2, 3])\n",
      " |      >>> y = np.array([[4], [5], [6]])\n",
      " |      >>> b = np.broadcast(x, y)\n",
      " |      >>> b.numiter\n",
      " |      2\n",
      " |  \n",
      " |  shape\n",
      " |      Shape of broadcasted result.\n",
      " |      \n",
      " |      Examples\n",
      " |      --------\n",
      " |      >>> x = np.array([1, 2, 3])\n",
      " |      >>> y = np.array([[4], [5], [6]])\n",
      " |      >>> b = np.broadcast(x, y)\n",
      " |      >>> b.shape\n",
      " |      (3, 3)\n",
      " |  \n",
      " |  size\n",
      " |      Total size of broadcasted result.\n",
      " |      \n",
      " |      Examples\n",
      " |      --------\n",
      " |      >>> x = np.array([1, 2, 3])\n",
      " |      >>> y = np.array([[4], [5], [6]])\n",
      " |      >>> b = np.broadcast(x, y)\n",
      " |      >>> b.size\n",
      " |      9\n",
      "\n"
     ]
    }
   ],
   "source": [
    "help(np.broadcast)"
   ]
  },
  {
   "cell_type": "markdown",
   "metadata": {},
   "source": [
    "### But we can't just add the transpose of `s` with r:"
   ]
  },
  {
   "cell_type": "code",
   "execution_count": 48,
   "metadata": {},
   "outputs": [
    {
     "ename": "ValueError",
     "evalue": "operands could not be broadcast together with shapes (4,) (4,3) ",
     "output_type": "error",
     "traceback": [
      "\u001b[0;31m---------------------------------------------------------------------------\u001b[0m",
      "\u001b[0;31mValueError\u001b[0m                                Traceback (most recent call last)",
      "\u001b[0;32m<ipython-input-48-eacb1e90e66b>\u001b[0m in \u001b[0;36m<module>\u001b[0;34m()\u001b[0m\n\u001b[0;32m----> 1\u001b[0;31m \u001b[0ms\u001b[0m\u001b[0;34m.\u001b[0m\u001b[0mT\u001b[0m \u001b[0;34m+\u001b[0m \u001b[0mr\u001b[0m\u001b[0;34m\u001b[0m\u001b[0m\n\u001b[0m",
      "\u001b[0;31mValueError\u001b[0m: operands could not be broadcast together with shapes (4,) (4,3) "
     ]
    }
   ],
   "source": [
    "s.T + r"
   ]
  },
  {
   "cell_type": "markdown",
   "metadata": {},
   "source": [
    "### Because the transpose of a vector of shape `(4,)` is that same vector."
   ]
  },
  {
   "cell_type": "code",
   "execution_count": 49,
   "metadata": {},
   "outputs": [
    {
     "data": {
      "text/plain": [
       "array([ True,  True,  True,  True])"
      ]
     },
     "execution_count": 49,
     "metadata": {},
     "output_type": "execute_result"
    }
   ],
   "source": [
    "s.T == s"
   ]
  },
  {
   "cell_type": "markdown",
   "metadata": {},
   "source": [
    "### One last point about `numpy`, for now at least: you can control memory layout of an array, and that layout choice matters. The choices of *C-like* and *Fortran-like* memory layout have tradeoffs illustrated below with some simple examples."
   ]
  },
  {
   "cell_type": "code",
   "execution_count": 50,
   "metadata": {},
   "outputs": [],
   "source": [
    "x = np.random.standard_normal((5,10000000))\n",
    "y = 2 * x + 3 # linear equation y = a * x + b\n",
    "C = np.array((x,y), order='C')\n",
    "F = np.array((x,y), order='F')\n",
    "x,y = 0,0 # Clearing some memory"
   ]
  },
  {
   "cell_type": "code",
   "execution_count": 52,
   "metadata": {},
   "outputs": [
    {
     "data": {
      "text/plain": [
       "(2, 5, 10000000)"
      ]
     },
     "execution_count": 52,
     "metadata": {},
     "output_type": "execute_result"
    }
   ],
   "source": [
    "C.shape"
   ]
  },
  {
   "cell_type": "code",
   "execution_count": 54,
   "metadata": {},
   "outputs": [
    {
     "data": {
      "text/plain": [
       "(2, 5, 10000000)"
      ]
     },
     "execution_count": 54,
     "metadata": {},
     "output_type": "execute_result"
    }
   ],
   "source": [
    "C[:2].shape"
   ]
  },
  {
   "cell_type": "code",
   "execution_count": 55,
   "metadata": {},
   "outputs": [
    {
     "data": {
      "text/plain": [
       "array([[[ 0.21,  0.22, -0.11, ..., -0.3 ,  0.69,  2.02],\n",
       "        [ 0.36,  0.43,  1.31, ..., -1.55, -0.81,  1.69],\n",
       "        [-0.79, -0.53, -1.96, ..., -2.38,  1.75, -1.79],\n",
       "        [-0.71,  0.01, -0.29, ...,  0.76,  1.26,  1.75],\n",
       "        [ 1.08, -0.94,  0.03, ..., -0.79, -2.53, -0.47]],\n",
       "\n",
       "       [[ 3.42,  3.44,  2.78, ...,  2.39,  4.38,  7.05],\n",
       "        [ 3.72,  3.86,  5.63, ..., -0.11,  1.37,  6.38],\n",
       "        [ 1.42,  1.93, -0.93, ..., -1.77,  6.5 , -0.57],\n",
       "        [ 1.59,  3.01,  2.43, ...,  4.51,  5.53,  6.5 ],\n",
       "        [ 5.16,  1.12,  3.06, ...,  1.41, -2.06,  2.05]]])"
      ]
     },
     "execution_count": 55,
     "metadata": {},
     "output_type": "execute_result"
    }
   ],
   "source": [
    "C[:2].round(2)"
   ]
  },
  {
   "cell_type": "code",
   "execution_count": 56,
   "metadata": {},
   "outputs": [
    {
     "name": "stdout",
     "output_type": "stream",
     "text": [
      "48.4 ms ± 67.5 µs per loop (mean ± std. dev. of 7 runs, 10 loops each)\n"
     ]
    }
   ],
   "source": [
    "%timeit C.sum()"
   ]
  },
  {
   "cell_type": "code",
   "execution_count": 57,
   "metadata": {},
   "outputs": [
    {
     "name": "stdout",
     "output_type": "stream",
     "text": [
      "48.1 ms ± 102 µs per loop (mean ± std. dev. of 7 runs, 10 loops each)\n"
     ]
    }
   ],
   "source": [
    "%timeit F.sum()"
   ]
  },
  {
   "cell_type": "markdown",
   "metadata": {},
   "source": [
    "### Hardly any difference."
   ]
  },
  {
   "cell_type": "markdown",
   "metadata": {},
   "source": [
    "### Now lets look at the row- and columnwise sums for C..."
   ]
  },
  {
   "cell_type": "code",
   "execution_count": 60,
   "metadata": {},
   "outputs": [
    {
     "data": {
      "text/plain": [
       "(5, 10000000)"
      ]
     },
     "execution_count": 60,
     "metadata": {},
     "output_type": "execute_result"
    }
   ],
   "source": [
    "C[0].shape"
   ]
  },
  {
   "cell_type": "code",
   "execution_count": 58,
   "metadata": {},
   "outputs": [
    {
     "name": "stdout",
     "output_type": "stream",
     "text": [
      "70.8 ms ± 122 µs per loop (mean ± std. dev. of 7 runs, 10 loops each)\n"
     ]
    }
   ],
   "source": [
    "%timeit C[0].sum(axis=0)"
   ]
  },
  {
   "cell_type": "code",
   "execution_count": 59,
   "metadata": {},
   "outputs": [
    {
     "name": "stdout",
     "output_type": "stream",
     "text": [
      "24.2 ms ± 85.5 µs per loop (mean ± std. dev. of 7 runs, 10 loops each)\n"
     ]
    }
   ],
   "source": [
    "%timeit C[0].sum(axis=1)"
   ]
  },
  {
   "cell_type": "markdown",
   "metadata": {},
   "source": [
    "### and then for F"
   ]
  },
  {
   "cell_type": "code",
   "execution_count": 61,
   "metadata": {},
   "outputs": [
    {
     "name": "stdout",
     "output_type": "stream",
     "text": [
      "918 ms ± 13.1 ms per loop (mean ± std. dev. of 7 runs, 1 loop each)\n"
     ]
    }
   ],
   "source": [
    "%timeit F.sum(axis=0)"
   ]
  },
  {
   "cell_type": "code",
   "execution_count": 62,
   "metadata": {},
   "outputs": [
    {
     "name": "stdout",
     "output_type": "stream",
     "text": [
      "1.73 s ± 5.44 ms per loop (mean ± std. dev. of 7 runs, 1 loop each)\n"
     ]
    }
   ],
   "source": [
    "%timeit F.sum(axis=1)"
   ]
  },
  {
   "cell_type": "markdown",
   "metadata": {},
   "source": [
    "### It appears that C-like layout is the winner."
   ]
  },
  {
   "cell_type": "markdown",
   "metadata": {},
   "source": [
    "## Logic"
   ]
  },
  {
   "cell_type": "code",
   "execution_count": 63,
   "metadata": {},
   "outputs": [],
   "source": [
    "condition1 = True\n",
    "condition2 = False\n",
    "condition3 = None"
   ]
  },
  {
   "cell_type": "markdown",
   "metadata": {},
   "source": [
    "### Let's look at combining *Boolean* values."
   ]
  },
  {
   "cell_type": "code",
   "execution_count": 64,
   "metadata": {},
   "outputs": [
    {
     "data": {
      "text/plain": [
       "False"
      ]
     },
     "execution_count": 64,
     "metadata": {},
     "output_type": "execute_result"
    }
   ],
   "source": [
    "condition1 and condition2"
   ]
  },
  {
   "cell_type": "code",
   "execution_count": 65,
   "metadata": {},
   "outputs": [
    {
     "data": {
      "text/plain": [
       "True"
      ]
     },
     "execution_count": 65,
     "metadata": {},
     "output_type": "execute_result"
    }
   ],
   "source": [
    "condition1 or condition2"
   ]
  },
  {
   "cell_type": "code",
   "execution_count": 68,
   "metadata": {},
   "outputs": [
    {
     "data": {
      "text/plain": [
       "False"
      ]
     },
     "execution_count": 68,
     "metadata": {},
     "output_type": "execute_result"
    }
   ],
   "source": [
    "condition2 and condition3"
   ]
  },
  {
   "cell_type": "code",
   "execution_count": 69,
   "metadata": {},
   "outputs": [
    {
     "name": "stdout",
     "output_type": "stream",
     "text": [
      "0 1\n"
     ]
    }
   ],
   "source": [
    "print(condition1 and 0, condition1 and 1)"
   ]
  },
  {
   "cell_type": "code",
   "execution_count": 71,
   "metadata": {},
   "outputs": [
    {
     "data": {
      "text/plain": [
       "True"
      ]
     },
     "execution_count": 71,
     "metadata": {},
     "output_type": "execute_result"
    }
   ],
   "source": [
    "1 == True"
   ]
  },
  {
   "cell_type": "code",
   "execution_count": 72,
   "metadata": {},
   "outputs": [
    {
     "data": {
      "text/plain": [
       "True"
      ]
     },
     "execution_count": 72,
     "metadata": {},
     "output_type": "execute_result"
    }
   ],
   "source": [
    "0 == False"
   ]
  },
  {
   "cell_type": "code",
   "execution_count": 70,
   "metadata": {},
   "outputs": [
    {
     "name": "stdout",
     "output_type": "stream",
     "text": [
      "True 1\n"
     ]
    }
   ],
   "source": [
    "print(condition1 or 1, condition2 or 1)"
   ]
  },
  {
   "cell_type": "markdown",
   "metadata": {},
   "source": [
    "### If we store them in a `numpy` array, then we can apply aggregate methods"
   ]
  },
  {
   "cell_type": "code",
   "execution_count": 75,
   "metadata": {},
   "outputs": [
    {
     "data": {
      "text/plain": [
       "False"
      ]
     },
     "execution_count": 75,
     "metadata": {},
     "output_type": "execute_result"
    }
   ],
   "source": [
    "bls.all()"
   ]
  },
  {
   "cell_type": "code",
   "execution_count": 73,
   "metadata": {},
   "outputs": [
    {
     "name": "stdout",
     "output_type": "stream",
     "text": [
      "True False\n"
     ]
    }
   ],
   "source": [
    "import numpy as np\n",
    "bls = np.array([condition1,condition2,condition3])\n",
    "print(bls.any(),bls.all())"
   ]
  },
  {
   "cell_type": "markdown",
   "metadata": {},
   "source": [
    "### We can write code whose execution depends on the values of these variables."
   ]
  },
  {
   "cell_type": "code",
   "execution_count": 76,
   "metadata": {},
   "outputs": [
    {
     "name": "stdout",
     "output_type": "stream",
     "text": [
      "yes\n"
     ]
    }
   ],
   "source": [
    "if condition1:\n",
    "    print(\"yes\")\n",
    "else:\n",
    "    print(\"no\")"
   ]
  },
  {
   "cell_type": "code",
   "execution_count": 77,
   "metadata": {},
   "outputs": [],
   "source": [
    "condition1 = not condition1"
   ]
  },
  {
   "cell_type": "code",
   "execution_count": 78,
   "metadata": {},
   "outputs": [
    {
     "name": "stdout",
     "output_type": "stream",
     "text": [
      "no\n"
     ]
    }
   ],
   "source": [
    "if condition1:\n",
    "    print(\"yes\")\n",
    "    \n",
    "else:\n",
    "    print(\"no\")"
   ]
  },
  {
   "cell_type": "markdown",
   "metadata": {},
   "source": [
    "### We can produce `bool` values using the comparison operators."
   ]
  },
  {
   "cell_type": "code",
   "execution_count": 80,
   "metadata": {},
   "outputs": [],
   "source": [
    "a, b = 3, 4.5 # This is multiple assignment"
   ]
  },
  {
   "cell_type": "code",
   "execution_count": 82,
   "metadata": {},
   "outputs": [],
   "source": [
    "newcond1 = a == b\n",
    "newcond2 = a is b\n",
    "newcond3 = a >= b\n",
    "newcond4 = a != b"
   ]
  },
  {
   "cell_type": "code",
   "execution_count": 83,
   "metadata": {},
   "outputs": [
    {
     "data": {
      "text/plain": [
       "True"
      ]
     },
     "execution_count": 83,
     "metadata": {},
     "output_type": "execute_result"
    }
   ],
   "source": [
    "newcond4"
   ]
  },
  {
   "cell_type": "markdown",
   "metadata": {},
   "source": [
    "### Here is a more delicate `if-else` block."
   ]
  },
  {
   "cell_type": "code",
   "execution_count": 88,
   "metadata": {},
   "outputs": [
    {
     "name": "stdout",
     "output_type": "stream",
     "text": [
      "one thing\n"
     ]
    }
   ],
   "source": [
    "if newcond1:\n",
    "    if newcond2:\n",
    "        print(\"one thing\")\n",
    "    elif newcond4:\n",
    "        print(\"another\")\n",
    "    \n",
    "else:\n",
    "    print(newcond3 and newcond4)"
   ]
  },
  {
   "cell_type": "code",
   "execution_count": 85,
   "metadata": {},
   "outputs": [],
   "source": [
    "a, b = 3, 3 # New values"
   ]
  },
  {
   "cell_type": "code",
   "execution_count": 86,
   "metadata": {},
   "outputs": [],
   "source": [
    "newcond1 = a == b\n",
    "newcond2 = a is b\n",
    "newcond3 = a >= b\n",
    "newcond4 = a != b"
   ]
  },
  {
   "cell_type": "code",
   "execution_count": 89,
   "metadata": {},
   "outputs": [
    {
     "name": "stdout",
     "output_type": "stream",
     "text": [
      "the last\n"
     ]
    }
   ],
   "source": [
    "if newcond1:\n",
    "    if not newcond2: #negated the condition\n",
    "        print(\"one thing\")\n",
    "    elif newcond4:\n",
    "        print(\"another\")\n",
    "    else:\n",
    "        print(\"the last\")\n",
    "    \n",
    "else:\n",
    "    print(newcond3 and newcond4)"
   ]
  },
  {
   "cell_type": "markdown",
   "metadata": {},
   "source": [
    "### In simple cases, one way to deal with *nested* `if-else` blocks is simply to combine the conditions."
   ]
  },
  {
   "cell_type": "code",
   "execution_count": 90,
   "metadata": {},
   "outputs": [],
   "source": [
    "a,b,c = 1,2,1"
   ]
  },
  {
   "cell_type": "code",
   "execution_count": 91,
   "metadata": {},
   "outputs": [
    {
     "name": "stdout",
     "output_type": "stream",
     "text": [
      "No.\n"
     ]
    }
   ],
   "source": [
    "if a == b:\n",
    "    if b == c:\n",
    "        print(\"yes\")\n",
    "    else: print(\"no\")\n",
    "else: print(\"No.\")"
   ]
  },
  {
   "cell_type": "code",
   "execution_count": 92,
   "metadata": {},
   "outputs": [],
   "source": [
    "b = 1 # Changing 1 value"
   ]
  },
  {
   "cell_type": "code",
   "execution_count": 93,
   "metadata": {},
   "outputs": [
    {
     "name": "stdout",
     "output_type": "stream",
     "text": [
      "yes\n"
     ]
    }
   ],
   "source": [
    "if a == b:\n",
    "    if b == c:\n",
    "        print(\"yes\")\n",
    "    else: print(\"no\")\n",
    "else: print(\"No.\")"
   ]
  },
  {
   "cell_type": "code",
   "execution_count": 94,
   "metadata": {},
   "outputs": [],
   "source": [
    "c = 2 # A different difference"
   ]
  },
  {
   "cell_type": "code",
   "execution_count": 95,
   "metadata": {},
   "outputs": [
    {
     "name": "stdout",
     "output_type": "stream",
     "text": [
      "no\n"
     ]
    }
   ],
   "source": [
    "if a == b:\n",
    "    if b == c:\n",
    "        print(\"yes\")\n",
    "    else: print(\"no\")\n",
    "else: print(\"No.\")"
   ]
  },
  {
   "cell_type": "markdown",
   "metadata": {},
   "source": [
    "### In this simple case, it would be better to write:"
   ]
  },
  {
   "cell_type": "code",
   "execution_count": 96,
   "metadata": {},
   "outputs": [
    {
     "name": "stdout",
     "output_type": "stream",
     "text": [
      "no\n"
     ]
    }
   ],
   "source": [
    "if (a==b and b==c):\n",
    "    print(\"yes\")\n",
    "else:\n",
    "    print(\"no\")"
   ]
  },
  {
   "cell_type": "markdown",
   "metadata": {},
   "source": [
    "## Looping"
   ]
  },
  {
   "cell_type": "markdown",
   "metadata": {},
   "source": [
    "### This is great, but we don't want to change and check values manually all the time. Enter `for` and `while` loops.\n",
    "\n",
    "### Here is *FizzBuzz* implemented with a `for` loop and then with a `while` loop. In *FizzBuzz*, we run through a list of integers and print \"Fizz\" for every multiple of $3$ and \"Buzz\" for every multiple of $5$ with the exception that for integers *simultaneously divisible by $3$ and $5$* we print \"FizzBuzz\"."
   ]
  },
  {
   "cell_type": "markdown",
   "metadata": {},
   "source": [
    "### To keep things simple, we'll do this for integers up to and including $100$."
   ]
  },
  {
   "cell_type": "code",
   "execution_count": 97,
   "metadata": {},
   "outputs": [],
   "source": [
    "ourInts = list(range(1,101)) # We want a list, so we must ask for it explicitly"
   ]
  },
  {
   "cell_type": "markdown",
   "metadata": {},
   "source": [
    "### Our `for` loop"
   ]
  },
  {
   "cell_type": "code",
   "execution_count": 98,
   "metadata": {},
   "outputs": [
    {
     "name": "stdout",
     "output_type": "stream",
     "text": [
      "1\n",
      "\n",
      "2\n",
      "\n",
      "Fizz\n",
      "\n",
      "4\n",
      "\n",
      "Buzz\n",
      "\n",
      "Fizz\n",
      "\n",
      "7\n",
      "\n",
      "8\n",
      "\n",
      "Fizz\n",
      "\n",
      "Buzz\n",
      "\n",
      "11\n",
      "\n",
      "Fizz\n",
      "\n",
      "13\n",
      "\n",
      "14\n",
      "\n",
      "FizzBuzz\n",
      "\n",
      "16\n",
      "\n",
      "17\n",
      "\n",
      "Fizz\n",
      "\n",
      "19\n",
      "\n",
      "Buzz\n",
      "\n",
      "Fizz\n",
      "\n",
      "22\n",
      "\n",
      "23\n",
      "\n",
      "Fizz\n",
      "\n",
      "Buzz\n",
      "\n",
      "26\n",
      "\n",
      "Fizz\n",
      "\n",
      "28\n",
      "\n",
      "29\n",
      "\n",
      "FizzBuzz\n",
      "\n",
      "31\n",
      "\n",
      "32\n",
      "\n",
      "Fizz\n",
      "\n",
      "34\n",
      "\n",
      "Buzz\n",
      "\n",
      "Fizz\n",
      "\n",
      "37\n",
      "\n",
      "38\n",
      "\n",
      "Fizz\n",
      "\n",
      "Buzz\n",
      "\n",
      "41\n",
      "\n",
      "Fizz\n",
      "\n",
      "43\n",
      "\n",
      "44\n",
      "\n",
      "FizzBuzz\n",
      "\n",
      "46\n",
      "\n",
      "47\n",
      "\n",
      "Fizz\n",
      "\n",
      "49\n",
      "\n",
      "Buzz\n",
      "\n",
      "Fizz\n",
      "\n",
      "52\n",
      "\n",
      "53\n",
      "\n",
      "Fizz\n",
      "\n",
      "Buzz\n",
      "\n",
      "56\n",
      "\n",
      "Fizz\n",
      "\n",
      "58\n",
      "\n",
      "59\n",
      "\n",
      "FizzBuzz\n",
      "\n",
      "61\n",
      "\n",
      "62\n",
      "\n",
      "Fizz\n",
      "\n",
      "64\n",
      "\n",
      "Buzz\n",
      "\n",
      "Fizz\n",
      "\n",
      "67\n",
      "\n",
      "68\n",
      "\n",
      "Fizz\n",
      "\n",
      "Buzz\n",
      "\n",
      "71\n",
      "\n",
      "Fizz\n",
      "\n",
      "73\n",
      "\n",
      "74\n",
      "\n",
      "FizzBuzz\n",
      "\n",
      "76\n",
      "\n",
      "77\n",
      "\n",
      "Fizz\n",
      "\n",
      "79\n",
      "\n",
      "Buzz\n",
      "\n",
      "Fizz\n",
      "\n",
      "82\n",
      "\n",
      "83\n",
      "\n",
      "Fizz\n",
      "\n",
      "Buzz\n",
      "\n",
      "86\n",
      "\n",
      "Fizz\n",
      "\n",
      "88\n",
      "\n",
      "89\n",
      "\n",
      "FizzBuzz\n",
      "\n",
      "91\n",
      "\n",
      "92\n",
      "\n",
      "Fizz\n",
      "\n",
      "94\n",
      "\n",
      "Buzz\n",
      "\n",
      "Fizz\n",
      "\n",
      "97\n",
      "\n",
      "98\n",
      "\n",
      "Fizz\n",
      "\n",
      "Buzz\n",
      "\n"
     ]
    }
   ],
   "source": [
    "for x in ourInts:\n",
    "    threeQ = x % 3 == 0\n",
    "    fiveQ = x % 5 == 0\n",
    "    if threeQ and fiveQ:\n",
    "        print(\"FizzBuzz\\n\")\n",
    "    elif threeQ:\n",
    "        print(\"Fizz\\n\")\n",
    "    elif fiveQ:\n",
    "        print(\"Buzz\\n\")\n",
    "    else:\n",
    "        print(str(x) + '\\n')"
   ]
  },
  {
   "cell_type": "markdown",
   "metadata": {},
   "source": [
    "### Our `while` loop:"
   ]
  },
  {
   "cell_type": "code",
   "execution_count": 99,
   "metadata": {},
   "outputs": [
    {
     "name": "stdout",
     "output_type": "stream",
     "text": [
      "1\n",
      "\n",
      "2\n",
      "\n",
      "Fizz\n",
      "\n",
      "4\n",
      "\n",
      "Buzz\n",
      "\n",
      "Fizz\n",
      "\n",
      "7\n",
      "\n",
      "8\n",
      "\n",
      "Fizz\n",
      "\n",
      "Buzz\n",
      "\n",
      "11\n",
      "\n",
      "Fizz\n",
      "\n",
      "13\n",
      "\n",
      "14\n",
      "\n",
      "FizzBuzz\n",
      "\n",
      "16\n",
      "\n",
      "17\n",
      "\n",
      "Fizz\n",
      "\n",
      "19\n",
      "\n",
      "Buzz\n",
      "\n",
      "Fizz\n",
      "\n",
      "22\n",
      "\n",
      "23\n",
      "\n",
      "Fizz\n",
      "\n",
      "Buzz\n",
      "\n",
      "26\n",
      "\n",
      "Fizz\n",
      "\n",
      "28\n",
      "\n",
      "29\n",
      "\n",
      "FizzBuzz\n",
      "\n",
      "31\n",
      "\n",
      "32\n",
      "\n",
      "Fizz\n",
      "\n",
      "34\n",
      "\n",
      "Buzz\n",
      "\n",
      "Fizz\n",
      "\n",
      "37\n",
      "\n",
      "38\n",
      "\n",
      "Fizz\n",
      "\n",
      "Buzz\n",
      "\n",
      "41\n",
      "\n",
      "Fizz\n",
      "\n",
      "43\n",
      "\n",
      "44\n",
      "\n",
      "FizzBuzz\n",
      "\n",
      "46\n",
      "\n",
      "47\n",
      "\n",
      "Fizz\n",
      "\n",
      "49\n",
      "\n",
      "Buzz\n",
      "\n",
      "Fizz\n",
      "\n",
      "52\n",
      "\n",
      "53\n",
      "\n",
      "Fizz\n",
      "\n",
      "Buzz\n",
      "\n",
      "56\n",
      "\n",
      "Fizz\n",
      "\n",
      "58\n",
      "\n",
      "59\n",
      "\n",
      "FizzBuzz\n",
      "\n",
      "61\n",
      "\n",
      "62\n",
      "\n",
      "Fizz\n",
      "\n",
      "64\n",
      "\n",
      "Buzz\n",
      "\n",
      "Fizz\n",
      "\n",
      "67\n",
      "\n",
      "68\n",
      "\n",
      "Fizz\n",
      "\n",
      "Buzz\n",
      "\n",
      "71\n",
      "\n",
      "Fizz\n",
      "\n",
      "73\n",
      "\n",
      "74\n",
      "\n",
      "FizzBuzz\n",
      "\n",
      "76\n",
      "\n",
      "77\n",
      "\n",
      "Fizz\n",
      "\n",
      "79\n",
      "\n",
      "Buzz\n",
      "\n",
      "Fizz\n",
      "\n",
      "82\n",
      "\n",
      "83\n",
      "\n",
      "Fizz\n",
      "\n",
      "Buzz\n",
      "\n",
      "86\n",
      "\n",
      "Fizz\n",
      "\n",
      "88\n",
      "\n",
      "89\n",
      "\n",
      "FizzBuzz\n",
      "\n",
      "91\n",
      "\n",
      "92\n",
      "\n",
      "Fizz\n",
      "\n",
      "94\n",
      "\n",
      "Buzz\n",
      "\n",
      "Fizz\n",
      "\n",
      "97\n",
      "\n",
      "98\n",
      "\n",
      "Fizz\n",
      "\n"
     ]
    }
   ],
   "source": [
    "counter = 1\n",
    "while counter < len(ourInts):\n",
    "    x = ourInts[counter-1]\n",
    "    counter += 1  # same as: counter = counter + 1\n",
    "    threeQ = x % 3 == 0\n",
    "    fiveQ = x % 5 == 0\n",
    "    if threeQ and fiveQ:\n",
    "        print(\"FizzBuzz\\n\")\n",
    "    elif threeQ:\n",
    "        print(\"Fizz\\n\")\n",
    "    elif fiveQ:\n",
    "        print(\"Buzz\\n\")\n",
    "    else:\n",
    "        print(str(x) + '\\n')    "
   ]
  },
  {
   "cell_type": "markdown",
   "metadata": {},
   "source": [
    "## List Comprehensions"
   ]
  },
  {
   "cell_type": "markdown",
   "metadata": {},
   "source": [
    "### That's great, but what if we wanted this output recorded in a list object rather than printed to the console?"
   ]
  },
  {
   "cell_type": "code",
   "execution_count": 103,
   "metadata": {},
   "outputs": [
    {
     "data": {
      "text/plain": [
       "'aaaaaaaa'"
      ]
     },
     "execution_count": 103,
     "metadata": {},
     "output_type": "execute_result"
    }
   ],
   "source": [
    "'a'*8"
   ]
  },
  {
   "cell_type": "code",
   "execution_count": 110,
   "metadata": {},
   "outputs": [
    {
     "data": {
      "text/plain": [
       "''"
      ]
     },
     "execution_count": 110,
     "metadata": {},
     "output_type": "execute_result"
    }
   ],
   "source": [
    "\"Fizz\"*False"
   ]
  },
  {
   "cell_type": "code",
   "execution_count": 109,
   "metadata": {},
   "outputs": [
    {
     "data": {
      "text/plain": [
       "False"
      ]
     },
     "execution_count": 109,
     "metadata": {},
     "output_type": "execute_result"
    }
   ],
   "source": [
    "not 6"
   ]
  },
  {
   "cell_type": "code",
   "execution_count": 111,
   "metadata": {},
   "outputs": [
    {
     "data": {
      "text/plain": [
       "'FizzBuzz'"
      ]
     },
     "execution_count": 111,
     "metadata": {},
     "output_type": "execute_result"
    }
   ],
   "source": [
    "\"Fizz\" + \"Buzz\""
   ]
  },
  {
   "cell_type": "code",
   "execution_count": 113,
   "metadata": {},
   "outputs": [
    {
     "data": {
      "text/plain": [
       "8"
      ]
     },
     "execution_count": 113,
     "metadata": {},
     "output_type": "execute_result"
    }
   ],
   "source": [
    "'' + '' or 8"
   ]
  },
  {
   "cell_type": "code",
   "execution_count": 100,
   "metadata": {},
   "outputs": [],
   "source": [
    "fizzList = [\"Fizz\"*(not i%3) + \"Buzz\"*(not i%5) or i for i in range(1,101)]"
   ]
  },
  {
   "cell_type": "markdown",
   "metadata": {},
   "source": [
    "### There is a lot more than list comprehension going on there, e.g."
   ]
  },
  {
   "cell_type": "code",
   "execution_count": null,
   "metadata": {},
   "outputs": [],
   "source": [
    "\"Buzz\"*(1) or 4"
   ]
  },
  {
   "cell_type": "markdown",
   "metadata": {},
   "source": [
    "### But list comprehensions are a good way to give compact or *inline* descriptions of things. You can also nest them:"
   ]
  },
  {
   "cell_type": "code",
   "execution_count": 114,
   "metadata": {},
   "outputs": [],
   "source": [
    "pairsList = [[x,y] for x in range(7) for y in ['a','b','c']]"
   ]
  },
  {
   "cell_type": "code",
   "execution_count": 115,
   "metadata": {},
   "outputs": [
    {
     "name": "stdout",
     "output_type": "stream",
     "text": [
      "[[0, 'a'], [0, 'b'], [0, 'c'], [1, 'a'], [1, 'b'], [1, 'c'], [2, 'a'], [2, 'b'], [2, 'c'], [3, 'a'], [3, 'b'], [3, 'c'], [4, 'a'], [4, 'b'], [4, 'c'], [5, 'a'], [5, 'b'], [5, 'c'], [6, 'a'], [6, 'b'], [6, 'c']]\n"
     ]
    }
   ],
   "source": [
    "print(pairsList)"
   ]
  },
  {
   "cell_type": "code",
   "execution_count": 122,
   "metadata": {},
   "outputs": [],
   "source": [
    "upperDiag = [[x,y] for y in range(10) for x in range(y)]"
   ]
  },
  {
   "cell_type": "code",
   "execution_count": 123,
   "metadata": {},
   "outputs": [],
   "source": [
    "upperDiag = [[[x,y] for x in range(y)] for y in range(10) ]"
   ]
  },
  {
   "cell_type": "code",
   "execution_count": 124,
   "metadata": {},
   "outputs": [
    {
     "data": {
      "text/plain": [
       "[[],\n",
       " [[0, 1]],\n",
       " [[0, 2], [1, 2]],\n",
       " [[0, 3], [1, 3], [2, 3]],\n",
       " [[0, 4], [1, 4], [2, 4], [3, 4]],\n",
       " [[0, 5], [1, 5], [2, 5], [3, 5], [4, 5]],\n",
       " [[0, 6], [1, 6], [2, 6], [3, 6], [4, 6], [5, 6]],\n",
       " [[0, 7], [1, 7], [2, 7], [3, 7], [4, 7], [5, 7], [6, 7]],\n",
       " [[0, 8], [1, 8], [2, 8], [3, 8], [4, 8], [5, 8], [6, 8], [7, 8]],\n",
       " [[0, 9], [1, 9], [2, 9], [3, 9], [4, 9], [5, 9], [6, 9], [7, 9], [8, 9]]]"
      ]
     },
     "execution_count": 124,
     "metadata": {},
     "output_type": "execute_result"
    }
   ],
   "source": [
    "upperDiag"
   ]
  },
  {
   "cell_type": "code",
   "execution_count": 117,
   "metadata": {},
   "outputs": [
    {
     "data": {
      "text/plain": [
       "[[0, 1],\n",
       " [0, 2],\n",
       " [1, 2],\n",
       " [0, 3],\n",
       " [1, 3],\n",
       " [2, 3],\n",
       " [0, 4],\n",
       " [1, 4],\n",
       " [2, 4],\n",
       " [3, 4],\n",
       " [0, 5],\n",
       " [1, 5],\n",
       " [2, 5],\n",
       " [3, 5],\n",
       " [4, 5],\n",
       " [0, 6],\n",
       " [1, 6],\n",
       " [2, 6],\n",
       " [3, 6],\n",
       " [4, 6],\n",
       " [5, 6],\n",
       " [0, 7],\n",
       " [1, 7],\n",
       " [2, 7],\n",
       " [3, 7],\n",
       " [4, 7],\n",
       " [5, 7],\n",
       " [6, 7],\n",
       " [0, 8],\n",
       " [1, 8],\n",
       " [2, 8],\n",
       " [3, 8],\n",
       " [4, 8],\n",
       " [5, 8],\n",
       " [6, 8],\n",
       " [7, 8],\n",
       " [0, 9],\n",
       " [1, 9],\n",
       " [2, 9],\n",
       " [3, 9],\n",
       " [4, 9],\n",
       " [5, 9],\n",
       " [6, 9],\n",
       " [7, 9],\n",
       " [8, 9]]"
      ]
     },
     "execution_count": 117,
     "metadata": {},
     "output_type": "execute_result"
    }
   ],
   "source": [
    "upperDiag"
   ]
  },
  {
   "cell_type": "markdown",
   "metadata": {},
   "source": [
    "### Aside: why that name?"
   ]
  },
  {
   "cell_type": "code",
   "execution_count": 118,
   "metadata": {},
   "outputs": [],
   "source": [
    "import matplotlib.pyplot as plt"
   ]
  },
  {
   "cell_type": "code",
   "execution_count": 119,
   "metadata": {},
   "outputs": [
    {
     "data": {
      "text/plain": [
       "<matplotlib.collections.PathCollection at 0x7fbc7ab03e80>"
      ]
     },
     "execution_count": 119,
     "metadata": {},
     "output_type": "execute_result"
    },
    {
     "data": {
      "image/png": "[encoded data removed]",
      "text/plain": [
       "<Figure size 432x288 with 1 Axes>"
      ]
     },
     "metadata": {},
     "output_type": "display_data"
    }
   ],
   "source": [
    "xs, ys = [x[0] for x in upperDiag], [x[1] for x in upperDiag] # Preparing the data for our plotting library\n",
    "plt.scatter(xs,ys)"
   ]
  },
  {
   "cell_type": "markdown",
   "metadata": {},
   "source": [
    "## Functions"
   ]
  },
  {
   "cell_type": "markdown",
   "metadata": {},
   "source": [
    "### We have already been using functions implicitly. In fact, `print` is a function. The string methods are functions. The builtin `sorted` is a function."
   ]
  },
  {
   "cell_type": "markdown",
   "metadata": {},
   "source": [
    "### Here is a user-defined function. Let's combine what we did above to write a function that takes an `integer` and returns the *FizzBuzz* list for all values up to that integer."
   ]
  },
  {
   "cell_type": "code",
   "execution_count": 125,
   "metadata": {},
   "outputs": [],
   "source": [
    "def fizzFunc(n):\n",
    "    \"\"\"Here is a docstring\n",
    "    we're using it to record\n",
    "    information about the \n",
    "    purpose of this function.\n",
    "    This function does *FizzBuzz*\n",
    "    so that we don't have to \n",
    "    think about it anymore.\"\"\"\n",
    "    if isinstance(n,int):\n",
    "        return [\"Fizz\"*(not i%3) + \"Buzz\"*(not i%5) or i for i in range(1,n+1)]\n",
    "    else:\n",
    "        raise ValueError(\"That's not an int\")"
   ]
  },
  {
   "cell_type": "markdown",
   "metadata": {},
   "source": [
    "### Here it is working as intended:"
   ]
  },
  {
   "cell_type": "code",
   "execution_count": 126,
   "metadata": {},
   "outputs": [
    {
     "name": "stdout",
     "output_type": "stream",
     "text": [
      "[1, 2, 'Fizz', 4, 'Buzz', 'Fizz', 7, 8, 'Fizz', 'Buzz', 11, 'Fizz', 13, 14, 'FizzBuzz', 16, 17, 'Fizz', 19]\n"
     ]
    }
   ],
   "source": [
    "print(fizzFunc(19))"
   ]
  },
  {
   "cell_type": "markdown",
   "metadata": {},
   "source": [
    "### Now, we'll make it raise an error."
   ]
  },
  {
   "cell_type": "code",
   "execution_count": 127,
   "metadata": {},
   "outputs": [
    {
     "ename": "ValueError",
     "evalue": "That's not an int",
     "output_type": "error",
     "traceback": [
      "\u001b[0;31m---------------------------------------------------------------------------\u001b[0m",
      "\u001b[0;31mValueError\u001b[0m                                Traceback (most recent call last)",
      "\u001b[0;32m<ipython-input-127-1c5c92cca770>\u001b[0m in \u001b[0;36m<module>\u001b[0;34m()\u001b[0m\n\u001b[0;32m----> 1\u001b[0;31m \u001b[0mfizzFunc\u001b[0m\u001b[0;34m(\u001b[0m\u001b[0;34m'a'\u001b[0m\u001b[0;34m)\u001b[0m\u001b[0;34m\u001b[0m\u001b[0m\n\u001b[0m",
      "\u001b[0;32m<ipython-input-125-85a3e4432bf0>\u001b[0m in \u001b[0;36mfizzFunc\u001b[0;34m(n)\u001b[0m\n\u001b[1;32m     10\u001b[0m         \u001b[0;32mreturn\u001b[0m \u001b[0;34m[\u001b[0m\u001b[0;34m\"Fizz\"\u001b[0m\u001b[0;34m*\u001b[0m\u001b[0;34m(\u001b[0m\u001b[0;32mnot\u001b[0m \u001b[0mi\u001b[0m\u001b[0;34m%\u001b[0m\u001b[0;36m3\u001b[0m\u001b[0;34m)\u001b[0m \u001b[0;34m+\u001b[0m \u001b[0;34m\"Buzz\"\u001b[0m\u001b[0;34m*\u001b[0m\u001b[0;34m(\u001b[0m\u001b[0;32mnot\u001b[0m \u001b[0mi\u001b[0m\u001b[0;34m%\u001b[0m\u001b[0;36m5\u001b[0m\u001b[0;34m)\u001b[0m \u001b[0;32mor\u001b[0m \u001b[0mi\u001b[0m \u001b[0;32mfor\u001b[0m \u001b[0mi\u001b[0m \u001b[0;32min\u001b[0m \u001b[0mrange\u001b[0m\u001b[0;34m(\u001b[0m\u001b[0;36m1\u001b[0m\u001b[0;34m,\u001b[0m\u001b[0mn\u001b[0m\u001b[0;34m+\u001b[0m\u001b[0;36m1\u001b[0m\u001b[0;34m)\u001b[0m\u001b[0;34m]\u001b[0m\u001b[0;34m\u001b[0m\u001b[0m\n\u001b[1;32m     11\u001b[0m     \u001b[0;32melse\u001b[0m\u001b[0;34m:\u001b[0m\u001b[0;34m\u001b[0m\u001b[0m\n\u001b[0;32m---> 12\u001b[0;31m         \u001b[0;32mraise\u001b[0m \u001b[0mValueError\u001b[0m\u001b[0;34m(\u001b[0m\u001b[0;34m\"That's not an int\"\u001b[0m\u001b[0;34m)\u001b[0m\u001b[0;34m\u001b[0m\u001b[0m\n\u001b[0m",
      "\u001b[0;31mValueError\u001b[0m: That's not an int"
     ]
    }
   ],
   "source": [
    "fizzFunc('a')"
   ]
  },
  {
   "cell_type": "markdown",
   "metadata": {},
   "source": [
    "### In fact, it is *still* working as intended. Handling errors properly is an important part of writing robust code. We'll see more of this later, so it will pay to look into it a little now."
   ]
  },
  {
   "cell_type": "markdown",
   "metadata": {},
   "source": [
    "### Suppose we are calling `fizzFunc` inside another function `fizzCount` defined thus:"
   ]
  },
  {
   "cell_type": "code",
   "execution_count": 128,
   "metadata": {},
   "outputs": [],
   "source": [
    "def fizzCount(n):\n",
    "    try:\n",
    "        L = fizzFunc(n)\n",
    "        c = L.count('Fizz')\n",
    "        return c\n",
    "    except ValueError as e:\n",
    "        return e.args[0]"
   ]
  },
  {
   "cell_type": "markdown",
   "metadata": {},
   "source": [
    "### Now, instead of barfing when it gets the wrong input, our function can simply report that it got the wrong input."
   ]
  },
  {
   "cell_type": "code",
   "execution_count": 130,
   "metadata": {},
   "outputs": [],
   "source": [
    "errorString = fizzCount('a')"
   ]
  },
  {
   "cell_type": "code",
   "execution_count": 131,
   "metadata": {},
   "outputs": [
    {
     "data": {
      "text/plain": [
       "str"
      ]
     },
     "execution_count": 131,
     "metadata": {},
     "output_type": "execute_result"
    }
   ],
   "source": [
    "type(errorString)"
   ]
  },
  {
   "cell_type": "markdown",
   "metadata": {},
   "source": [
    "### Is it totally safe now? Not by a longshot. See if you can improve it."
   ]
  },
  {
   "cell_type": "markdown",
   "metadata": {},
   "source": [
    "## File IO & Text Processing"
   ]
  },
  {
   "cell_type": "markdown",
   "metadata": {},
   "source": [
    "### Now we're going to see some basic IO operations and learn how to process text by following an example from *Think Python, $2^{nd}$ Edition*."
   ]
  },
  {
   "cell_type": "markdown",
   "metadata": {},
   "source": [
    "## *Example - Processing Text from a Book*\n",
    ">Write a program that reads a file, breaks each line into words, strips whitespace and punctuation from the words and converts them to lowercase."
   ]
  },
  {
   "cell_type": "markdown",
   "metadata": {},
   "source": [
    "### Here is one quick way to download a text from inside our Python session."
   ]
  },
  {
   "cell_type": "code",
   "execution_count": 132,
   "metadata": {},
   "outputs": [
    {
     "data": {
      "text/plain": [
       "('Emma.txt', <http.client.HTTPMessage at 0x7fbc7aa36358>)"
      ]
     },
     "execution_count": 132,
     "metadata": {},
     "output_type": "execute_result"
    }
   ],
   "source": [
    "from urllib import request\n",
    "request.urlretrieve (\"https://www.gutenberg.org/files/158/158-0.txt\", \"Emma.txt\")"
   ]
  },
  {
   "cell_type": "markdown",
   "metadata": {},
   "source": [
    "### While we're at it, let's download the `words.txt` from *Think Python*."
   ]
  },
  {
   "cell_type": "code",
   "execution_count": 133,
   "metadata": {},
   "outputs": [
    {
     "data": {
      "text/plain": [
       "('words.txt', <http.client.HTTPMessage at 0x7fbc7aa365f8>)"
      ]
     },
     "execution_count": 133,
     "metadata": {},
     "output_type": "execute_result"
    }
   ],
   "source": [
    "fileURL = \"https://raw.githubusercontent.com/AllenDowney/ThinkPython2/master/code/words.txt\"\n",
    "request.urlretrieve (fileURL, \"words.txt\")"
   ]
  },
  {
   "cell_type": "markdown",
   "metadata": {},
   "source": [
    "### Let's import `time` so that we can make a comparison."
   ]
  },
  {
   "cell_type": "code",
   "execution_count": 42,
   "metadata": {},
   "outputs": [],
   "source": [
    "import time"
   ]
  },
  {
   "cell_type": "markdown",
   "metadata": {},
   "source": [
    "### Here are two different ways to write the desired function."
   ]
  },
  {
   "cell_type": "code",
   "execution_count": 43,
   "metadata": {},
   "outputs": [],
   "source": [
    "def make_word_list1():\n",
    "    \"\"\"Reads lines from a file and builds a list using append.\"\"\"\n",
    "    t = []\n",
    "    fin = open('words.txt')\n",
    "    for line in fin:\n",
    "        word = line.strip()\n",
    "        t.append(word)\n",
    "    return t\n",
    "\n",
    "\n",
    "def make_word_list2():\n",
    "    \"\"\"Reads lines from a file and builds a list using list +.\"\"\"\n",
    "    t = []\n",
    "    fin = open('words.txt')\n",
    "    for line in fin:\n",
    "        word = line.strip()\n",
    "        t = t + [word]\n",
    "    return t\n"
   ]
  },
  {
   "cell_type": "markdown",
   "metadata": {},
   "source": [
    "### Below, we compare these two functions. Which one is the faster of the two?"
   ]
  },
  {
   "cell_type": "code",
   "execution_count": null,
   "metadata": {},
   "outputs": [],
   "source": [
    "start_time = time.time()\n",
    "t = make_word_list1()\n",
    "elapsed_time = time.time() - start_time\n",
    "\n",
    "print(len(t))\n",
    "print(t[:10])\n",
    "print(elapsed_time, 'seconds')\n",
    "\n",
    "start_time = time.time()\n",
    "t = make_word_list2()\n",
    "elapsed_time = time.time() - start_time\n",
    "\n",
    "print(len(t))\n",
    "print(t[:10])\n",
    "print(elapsed_time, 'seconds')"
   ]
  },
  {
   "cell_type": "markdown",
   "metadata": {},
   "source": [
    "### Whoa!"
   ]
  },
  {
   "cell_type": "markdown",
   "metadata": {},
   "source": [
    "### Next, we want to clean up the book and compute frequency statistics - what are the words in the book, and how many times is each one used?"
   ]
  },
  {
   "cell_type": "code",
   "execution_count": 45,
   "metadata": {},
   "outputs": [],
   "source": [
    "import string # Used to get punctuation"
   ]
  },
  {
   "cell_type": "code",
   "execution_count": 89,
   "metadata": {},
   "outputs": [],
   "source": [
    "def process_file(filename, skip_header):\n",
    "    \"\"\"Makes a histogram that contains the words from a file.\n",
    "\n",
    "    filename: string\n",
    "    skip_header: boolean, whether to skip the Gutenberg header\n",
    "   \n",
    "    returns: map from each word to the number of times it appears.\n",
    "    \"\"\"\n",
    "    hist = {} # This is an empty dictionary\n",
    "    fp = open(filename)\n",
    "\n",
    "    if skip_header:\n",
    "        skip_gutenberg_header(fp)\n",
    "\n",
    "    for line in fp:\n",
    "        process_line(line, hist)\n",
    "\n",
    "    return hist\n",
    "\n",
    "\n",
    "def skip_gutenberg_header(fp):\n",
    "    \"\"\"Reads from fp until it finds the line that ends the header.\n",
    "    \n",
    "    RMK: You just have to look at the Gutenberg format. That is\n",
    "    how you would know how to write such a function. This had to\n",
    "    be changed.\n",
    "\n",
    "    fp: open file object\n",
    "    \"\"\"\n",
    "    for line in fp:\n",
    "        if line.startswith('*** START OF THIS PROJECT GUTENBERG EBOOK EMMA ***'):\n",
    "            break\n",
    "\n",
    "\n",
    "def process_line(line, hist):\n",
    "    \"\"\"Adds the words in the line to the histogram.\n",
    "\n",
    "    Modifies hist.\n",
    "    \n",
    "    RMK: This is not *pure* function. It modifies\n",
    "    one of its arguments. This is frowned upon\n",
    "    in many circles, but it is one way to do things.\n",
    "\n",
    "    line: string\n",
    "    hist: histogram (map from word to frequency)\n",
    "    \"\"\"\n",
    "    # replace hyphens with spaces before splitting\n",
    "    line = line.replace('-', ' ')\n",
    "    strippables = string.punctuation + string.whitespace\n",
    "\n",
    "    for word in line.split():\n",
    "        # remove punctuation and convert to lowercase\n",
    "        word = word.strip(strippables)\n",
    "        word = word.lower()\n",
    "\n",
    "        # update the histogram\n",
    "        hist[word] = hist.get(word, 0) + 1\n",
    "\n"
   ]
  },
  {
   "cell_type": "markdown",
   "metadata": {},
   "source": [
    "### We want to compute word statistics for a document."
   ]
  },
  {
   "cell_type": "markdown",
   "metadata": {},
   "source": [
    "### The `hist` dictionary object contains all the information about our word stats. It is easy to write functions that compute word count and *unique* word count."
   ]
  },
  {
   "cell_type": "code",
   "execution_count": 55,
   "metadata": {},
   "outputs": [],
   "source": [
    "def total_words(hist):\n",
    "    \"\"\"Returns the total of the frequencies in a histogram.\"\"\"\n",
    "    return sum(hist.values())\n",
    "\n",
    "\n",
    "def different_words(hist):\n",
    "    \"\"\"Returns the number of different words in a histogram.\"\"\"\n",
    "    return len(hist)"
   ]
  },
  {
   "cell_type": "markdown",
   "metadata": {},
   "source": [
    "### Finally, our functions for the most commonly occurring words."
   ]
  },
  {
   "cell_type": "code",
   "execution_count": 56,
   "metadata": {},
   "outputs": [],
   "source": [
    "def most_common(hist):\n",
    "    \"\"\"Makes a list of word-freq pairs in descending order of frequency.\n",
    "\n",
    "    hist: map from word to frequency\n",
    "\n",
    "    returns: list of (frequency, word) pairs\n",
    "    \"\"\"\n",
    "    t = []\n",
    "    for key, value in hist.items():\n",
    "        t.append((value, key))\n",
    "\n",
    "    t.sort()\n",
    "    t.reverse()\n",
    "    return t\n",
    "\n",
    "\n",
    "def print_most_common(hist, num=10):\n",
    "    \"\"\"Prints the most commons words in a histgram and their frequencies.\n",
    "    \n",
    "    hist: histogram (map from word to frequency)\n",
    "    num: number of words to print\n",
    "    \"\"\"\n",
    "    t = most_common(hist)\n",
    "    print('The most common words are:')\n",
    "    for freq, word in t[:num]:\n",
    "        print(word, '\\t', freq)\n"
   ]
  },
  {
   "cell_type": "markdown",
   "metadata": {},
   "source": [
    "### OK, now it is time to use all of our functions. Let's try it on *Emma* first."
   ]
  },
  {
   "cell_type": "code",
   "execution_count": null,
   "metadata": {},
   "outputs": [],
   "source": [
    "hist = process_file('Emma.txt', skip_header=True)\n",
    "print('Total number of words:', total_words(hist))\n",
    "print('Number of different words:', different_words(hist))\n",
    "\n",
    "t = most_common(hist)\n",
    "print('The most common words are:')\n",
    "for freq, word in t[0:20]:\n",
    "    print(word, '\\t', freq)"
   ]
  },
  {
   "cell_type": "markdown",
   "metadata": {},
   "source": [
    "### More File IO"
   ]
  },
  {
   "cell_type": "code",
   "execution_count": 6,
   "metadata": {},
   "outputs": [],
   "source": [
    "import json"
   ]
  },
  {
   "cell_type": "markdown",
   "metadata": {},
   "source": [
    "### The `json` module gives us one way to work with dictionary objects, storing and loading them."
   ]
  },
  {
   "cell_type": "code",
   "execution_count": 11,
   "metadata": {},
   "outputs": [],
   "source": [
    "ourRoom = {'desks':12, 'screens':2, 'people': 20}"
   ]
  },
  {
   "cell_type": "code",
   "execution_count": 12,
   "metadata": {},
   "outputs": [],
   "source": [
    "with open('ourRoom.json','w') as f:\n",
    "    json.dump(ourRoom,f)"
   ]
  },
  {
   "cell_type": "code",
   "execution_count": 13,
   "metadata": {},
   "outputs": [],
   "source": [
    "with open('ourRoom.json','r') as f:\n",
    "    newRoom = json.load(f)"
   ]
  },
  {
   "cell_type": "code",
   "execution_count": 14,
   "metadata": {},
   "outputs": [
    {
     "data": {
      "text/plain": [
       "{'desks': 12, 'screens': 2, 'people': 20}"
      ]
     },
     "execution_count": 14,
     "metadata": {},
     "output_type": "execute_result"
    }
   ],
   "source": [
    "newRoom"
   ]
  },
  {
   "cell_type": "code",
   "execution_count": 15,
   "metadata": {},
   "outputs": [
    {
     "data": {
      "text/plain": [
       "dict"
      ]
     },
     "execution_count": 15,
     "metadata": {},
     "output_type": "execute_result"
    }
   ],
   "source": [
    "type(newRoom)"
   ]
  },
  {
   "cell_type": "markdown",
   "metadata": {},
   "source": [
    "## CSV Files"
   ]
  },
  {
   "cell_type": "markdown",
   "metadata": {},
   "source": [
    "### An easy way to get CSV files in and out of an IPython session is to use `pandas` DataFrames."
   ]
  },
  {
   "cell_type": "code",
   "execution_count": 16,
   "metadata": {},
   "outputs": [],
   "source": [
    "import pandas as pd"
   ]
  },
  {
   "cell_type": "code",
   "execution_count": null,
   "metadata": {},
   "outputs": [],
   "source": [
    "census = pd.read_csv('2010_Census_Populations_by_Zip_Code.csv')\n",
    "census.head(4)"
   ]
  },
  {
   "cell_type": "code",
   "execution_count": 25,
   "metadata": {},
   "outputs": [],
   "source": [
    "census['computedAHZ'] = census['Total Population'] / census['Total Households']"
   ]
  },
  {
   "cell_type": "code",
   "execution_count": null,
   "metadata": {},
   "outputs": [],
   "source": [
    "census['computedAHZ'] - census['Average Household Size']"
   ]
  },
  {
   "cell_type": "markdown",
   "metadata": {},
   "source": [
    "### We can then write the file back to the csv..."
   ]
  },
  {
   "cell_type": "code",
   "execution_count": 28,
   "metadata": {},
   "outputs": [],
   "source": [
    "census.to_csv('2010_Census_Populations_by_Zip_Code.csv', index=False)"
   ]
  },
  {
   "cell_type": "markdown",
   "metadata": {},
   "source": [
    "### And then read it back in, in order to check that our changes are reflected in the file."
   ]
  },
  {
   "cell_type": "code",
   "execution_count": 29,
   "metadata": {},
   "outputs": [
    {
     "data": {
      "text/html": [
       "<div>\n",
       "<style scoped>\n",
       "    .dataframe tbody tr th:only-of-type {\n",
       "        vertical-align: middle;\n",
       "    }\n",
       "\n",
       "    .dataframe tbody tr th {\n",
       "        vertical-align: top;\n",
       "    }\n",
       "\n",
       "    .dataframe thead th {\n",
       "        text-align: right;\n",
       "    }\n",
       "</style>\n",
       "<table border=\"1\" class=\"dataframe\">\n",
       "  <thead>\n",
       "    <tr style=\"text-align: right;\">\n",
       "      <th></th>\n",
       "      <th>Zip Code</th>\n",
       "      <th>Total Population</th>\n",
       "      <th>Median Age</th>\n",
       "      <th>Total Males</th>\n",
       "      <th>Total Females</th>\n",
       "      <th>Total Households</th>\n",
       "      <th>Average Household Size</th>\n",
       "      <th>computedAHZ</th>\n",
       "    </tr>\n",
       "  </thead>\n",
       "  <tbody>\n",
       "    <tr>\n",
       "      <th>0</th>\n",
       "      <td>91371</td>\n",
       "      <td>1</td>\n",
       "      <td>73.5</td>\n",
       "      <td>0</td>\n",
       "      <td>1</td>\n",
       "      <td>1</td>\n",
       "      <td>1.00</td>\n",
       "      <td>1.000000</td>\n",
       "    </tr>\n",
       "    <tr>\n",
       "      <th>1</th>\n",
       "      <td>90001</td>\n",
       "      <td>57110</td>\n",
       "      <td>26.6</td>\n",
       "      <td>28468</td>\n",
       "      <td>28642</td>\n",
       "      <td>12971</td>\n",
       "      <td>4.40</td>\n",
       "      <td>4.402899</td>\n",
       "    </tr>\n",
       "    <tr>\n",
       "      <th>2</th>\n",
       "      <td>90002</td>\n",
       "      <td>51223</td>\n",
       "      <td>25.5</td>\n",
       "      <td>24876</td>\n",
       "      <td>26347</td>\n",
       "      <td>11731</td>\n",
       "      <td>4.36</td>\n",
       "      <td>4.366465</td>\n",
       "    </tr>\n",
       "  </tbody>\n",
       "</table>\n",
       "</div>"
      ],
      "text/plain": [
       "   Zip Code  Total Population  Median Age  Total Males  Total Females  \\\n",
       "0     91371                 1        73.5            0              1   \n",
       "1     90001             57110        26.6        28468          28642   \n",
       "2     90002             51223        25.5        24876          26347   \n",
       "\n",
       "   Total Households  Average Household Size  computedAHZ  \n",
       "0                 1                    1.00     1.000000  \n",
       "1             12971                    4.40     4.402899  \n",
       "2             11731                    4.36     4.366465  "
      ]
     },
     "execution_count": 29,
     "metadata": {},
     "output_type": "execute_result"
    }
   ],
   "source": [
    "newCensus = pd.read_csv('2010_Census_Populations_by_Zip_Code.csv')\n",
    "newCensus.head(3)"
   ]
  },
  {
   "cell_type": "markdown",
   "metadata": {},
   "source": [
    "### Indeed. Speaking of `pandas` and `json`, DataFrame can also be read from `json` files, a common format for responses to API calls (such as the one we saw in lab last time)."
   ]
  },
  {
   "cell_type": "code",
   "execution_count": 31,
   "metadata": {},
   "outputs": [],
   "source": [
    "newCensus.to_json('2010json.json')"
   ]
  },
  {
   "cell_type": "code",
   "execution_count": 32,
   "metadata": {},
   "outputs": [
    {
     "data": {
      "text/html": [
       "<div>\n",
       "<style scoped>\n",
       "    .dataframe tbody tr th:only-of-type {\n",
       "        vertical-align: middle;\n",
       "    }\n",
       "\n",
       "    .dataframe tbody tr th {\n",
       "        vertical-align: top;\n",
       "    }\n",
       "\n",
       "    .dataframe thead th {\n",
       "        text-align: right;\n",
       "    }\n",
       "</style>\n",
       "<table border=\"1\" class=\"dataframe\">\n",
       "  <thead>\n",
       "    <tr style=\"text-align: right;\">\n",
       "      <th></th>\n",
       "      <th>Zip Code</th>\n",
       "      <th>Total Population</th>\n",
       "      <th>Median Age</th>\n",
       "      <th>Total Males</th>\n",
       "      <th>Total Females</th>\n",
       "      <th>Total Households</th>\n",
       "      <th>Average Household Size</th>\n",
       "      <th>computedAHZ</th>\n",
       "    </tr>\n",
       "  </thead>\n",
       "  <tbody>\n",
       "    <tr>\n",
       "      <th>0</th>\n",
       "      <td>91371</td>\n",
       "      <td>1</td>\n",
       "      <td>73.5</td>\n",
       "      <td>0</td>\n",
       "      <td>1</td>\n",
       "      <td>1</td>\n",
       "      <td>1.00</td>\n",
       "      <td>1.000000</td>\n",
       "    </tr>\n",
       "    <tr>\n",
       "      <th>1</th>\n",
       "      <td>90001</td>\n",
       "      <td>57110</td>\n",
       "      <td>26.6</td>\n",
       "      <td>28468</td>\n",
       "      <td>28642</td>\n",
       "      <td>12971</td>\n",
       "      <td>4.40</td>\n",
       "      <td>4.402899</td>\n",
       "    </tr>\n",
       "    <tr>\n",
       "      <th>10</th>\n",
       "      <td>90011</td>\n",
       "      <td>103892</td>\n",
       "      <td>26.2</td>\n",
       "      <td>52794</td>\n",
       "      <td>51098</td>\n",
       "      <td>22168</td>\n",
       "      <td>4.67</td>\n",
       "      <td>4.686575</td>\n",
       "    </tr>\n",
       "  </tbody>\n",
       "</table>\n",
       "</div>"
      ],
      "text/plain": [
       "    Zip Code  Total Population  Median Age  Total Males  Total Females  \\\n",
       "0      91371                 1        73.5            0              1   \n",
       "1      90001             57110        26.6        28468          28642   \n",
       "10     90011            103892        26.2        52794          51098   \n",
       "\n",
       "    Total Households  Average Household Size  computedAHZ  \n",
       "0                  1                    1.00     1.000000  \n",
       "1              12971                    4.40     4.402899  \n",
       "10             22168                    4.67     4.686575  "
      ]
     },
     "execution_count": 32,
     "metadata": {},
     "output_type": "execute_result"
    }
   ],
   "source": [
    "jsonCensus = pd.read_json('2010json.json')\n",
    "jsonCensus.head(3)"
   ]
  },
  {
   "cell_type": "code",
   "execution_count": 33,
   "metadata": {},
   "outputs": [
    {
     "data": {
      "text/html": [
       "<div>\n",
       "<style scoped>\n",
       "    .dataframe tbody tr th:only-of-type {\n",
       "        vertical-align: middle;\n",
       "    }\n",
       "\n",
       "    .dataframe tbody tr th {\n",
       "        vertical-align: top;\n",
       "    }\n",
       "\n",
       "    .dataframe thead th {\n",
       "        text-align: right;\n",
       "    }\n",
       "</style>\n",
       "<table border=\"1\" class=\"dataframe\">\n",
       "  <thead>\n",
       "    <tr style=\"text-align: right;\">\n",
       "      <th></th>\n",
       "      <th>Zip Code</th>\n",
       "      <th>Total Population</th>\n",
       "      <th>Median Age</th>\n",
       "      <th>Total Males</th>\n",
       "      <th>Total Females</th>\n",
       "      <th>Total Households</th>\n",
       "      <th>Average Household Size</th>\n",
       "      <th>computedAHZ</th>\n",
       "    </tr>\n",
       "  </thead>\n",
       "  <tbody>\n",
       "    <tr>\n",
       "      <th>0</th>\n",
       "      <td>91371</td>\n",
       "      <td>1</td>\n",
       "      <td>73.5</td>\n",
       "      <td>0</td>\n",
       "      <td>1</td>\n",
       "      <td>1</td>\n",
       "      <td>1.00</td>\n",
       "      <td>1.000000</td>\n",
       "    </tr>\n",
       "    <tr>\n",
       "      <th>1</th>\n",
       "      <td>90001</td>\n",
       "      <td>57110</td>\n",
       "      <td>26.6</td>\n",
       "      <td>28468</td>\n",
       "      <td>28642</td>\n",
       "      <td>12971</td>\n",
       "      <td>4.40</td>\n",
       "      <td>4.402899</td>\n",
       "    </tr>\n",
       "    <tr>\n",
       "      <th>10</th>\n",
       "      <td>90011</td>\n",
       "      <td>103892</td>\n",
       "      <td>26.2</td>\n",
       "      <td>52794</td>\n",
       "      <td>51098</td>\n",
       "      <td>22168</td>\n",
       "      <td>4.67</td>\n",
       "      <td>4.686575</td>\n",
       "    </tr>\n",
       "    <tr>\n",
       "      <th>100</th>\n",
       "      <td>90290</td>\n",
       "      <td>6368</td>\n",
       "      <td>45.0</td>\n",
       "      <td>3180</td>\n",
       "      <td>3188</td>\n",
       "      <td>2612</td>\n",
       "      <td>2.44</td>\n",
       "      <td>2.437979</td>\n",
       "    </tr>\n",
       "    <tr>\n",
       "      <th>101</th>\n",
       "      <td>90291</td>\n",
       "      <td>28341</td>\n",
       "      <td>37.6</td>\n",
       "      <td>14757</td>\n",
       "      <td>13584</td>\n",
       "      <td>14261</td>\n",
       "      <td>1.95</td>\n",
       "      <td>1.987308</td>\n",
       "    </tr>\n",
       "    <tr>\n",
       "      <th>102</th>\n",
       "      <td>90292</td>\n",
       "      <td>21576</td>\n",
       "      <td>41.2</td>\n",
       "      <td>10729</td>\n",
       "      <td>10847</td>\n",
       "      <td>12654</td>\n",
       "      <td>1.70</td>\n",
       "      <td>1.705073</td>\n",
       "    </tr>\n",
       "    <tr>\n",
       "      <th>103</th>\n",
       "      <td>90293</td>\n",
       "      <td>12132</td>\n",
       "      <td>40.4</td>\n",
       "      <td>5890</td>\n",
       "      <td>6242</td>\n",
       "      <td>6575</td>\n",
       "      <td>1.83</td>\n",
       "      <td>1.845171</td>\n",
       "    </tr>\n",
       "    <tr>\n",
       "      <th>104</th>\n",
       "      <td>90301</td>\n",
       "      <td>36568</td>\n",
       "      <td>32.6</td>\n",
       "      <td>17633</td>\n",
       "      <td>18935</td>\n",
       "      <td>11895</td>\n",
       "      <td>3.01</td>\n",
       "      <td>3.074233</td>\n",
       "    </tr>\n",
       "    <tr>\n",
       "      <th>105</th>\n",
       "      <td>90302</td>\n",
       "      <td>29415</td>\n",
       "      <td>32.8</td>\n",
       "      <td>13803</td>\n",
       "      <td>15612</td>\n",
       "      <td>10684</td>\n",
       "      <td>2.74</td>\n",
       "      <td>2.753182</td>\n",
       "    </tr>\n",
       "    <tr>\n",
       "      <th>106</th>\n",
       "      <td>90303</td>\n",
       "      <td>26176</td>\n",
       "      <td>30.4</td>\n",
       "      <td>12733</td>\n",
       "      <td>13443</td>\n",
       "      <td>7290</td>\n",
       "      <td>3.58</td>\n",
       "      <td>3.590672</td>\n",
       "    </tr>\n",
       "    <tr>\n",
       "      <th>107</th>\n",
       "      <td>90304</td>\n",
       "      <td>28210</td>\n",
       "      <td>28.1</td>\n",
       "      <td>14503</td>\n",
       "      <td>13707</td>\n",
       "      <td>6634</td>\n",
       "      <td>4.22</td>\n",
       "      <td>4.252336</td>\n",
       "    </tr>\n",
       "    <tr>\n",
       "      <th>108</th>\n",
       "      <td>90305</td>\n",
       "      <td>14853</td>\n",
       "      <td>43.3</td>\n",
       "      <td>6552</td>\n",
       "      <td>8301</td>\n",
       "      <td>5933</td>\n",
       "      <td>2.46</td>\n",
       "      <td>2.503455</td>\n",
       "    </tr>\n",
       "    <tr>\n",
       "      <th>109</th>\n",
       "      <td>90401</td>\n",
       "      <td>6722</td>\n",
       "      <td>37.8</td>\n",
       "      <td>3524</td>\n",
       "      <td>3198</td>\n",
       "      <td>4188</td>\n",
       "      <td>1.49</td>\n",
       "      <td>1.605062</td>\n",
       "    </tr>\n",
       "    <tr>\n",
       "      <th>11</th>\n",
       "      <td>90012</td>\n",
       "      <td>31103</td>\n",
       "      <td>36.3</td>\n",
       "      <td>19493</td>\n",
       "      <td>11610</td>\n",
       "      <td>10327</td>\n",
       "      <td>2.12</td>\n",
       "      <td>3.011814</td>\n",
       "    </tr>\n",
       "    <tr>\n",
       "      <th>110</th>\n",
       "      <td>90402</td>\n",
       "      <td>12250</td>\n",
       "      <td>47.0</td>\n",
       "      <td>5809</td>\n",
       "      <td>6441</td>\n",
       "      <td>5301</td>\n",
       "      <td>2.31</td>\n",
       "      <td>2.310885</td>\n",
       "    </tr>\n",
       "    <tr>\n",
       "      <th>111</th>\n",
       "      <td>90403</td>\n",
       "      <td>24525</td>\n",
       "      <td>40.8</td>\n",
       "      <td>11426</td>\n",
       "      <td>13099</td>\n",
       "      <td>13970</td>\n",
       "      <td>1.74</td>\n",
       "      <td>1.755548</td>\n",
       "    </tr>\n",
       "    <tr>\n",
       "      <th>112</th>\n",
       "      <td>90404</td>\n",
       "      <td>21360</td>\n",
       "      <td>37.4</td>\n",
       "      <td>10292</td>\n",
       "      <td>11068</td>\n",
       "      <td>10089</td>\n",
       "      <td>2.01</td>\n",
       "      <td>2.117157</td>\n",
       "    </tr>\n",
       "    <tr>\n",
       "      <th>113</th>\n",
       "      <td>90405</td>\n",
       "      <td>27186</td>\n",
       "      <td>40.8</td>\n",
       "      <td>13364</td>\n",
       "      <td>13822</td>\n",
       "      <td>14376</td>\n",
       "      <td>1.87</td>\n",
       "      <td>1.891068</td>\n",
       "    </tr>\n",
       "    <tr>\n",
       "      <th>114</th>\n",
       "      <td>90501</td>\n",
       "      <td>43180</td>\n",
       "      <td>35.0</td>\n",
       "      <td>21483</td>\n",
       "      <td>21697</td>\n",
       "      <td>14610</td>\n",
       "      <td>2.94</td>\n",
       "      <td>2.955510</td>\n",
       "    </tr>\n",
       "    <tr>\n",
       "      <th>115</th>\n",
       "      <td>90502</td>\n",
       "      <td>18010</td>\n",
       "      <td>40.2</td>\n",
       "      <td>8811</td>\n",
       "      <td>9199</td>\n",
       "      <td>5717</td>\n",
       "      <td>2.94</td>\n",
       "      <td>3.150254</td>\n",
       "    </tr>\n",
       "    <tr>\n",
       "      <th>116</th>\n",
       "      <td>90503</td>\n",
       "      <td>44383</td>\n",
       "      <td>40.8</td>\n",
       "      <td>21481</td>\n",
       "      <td>22902</td>\n",
       "      <td>17183</td>\n",
       "      <td>2.55</td>\n",
       "      <td>2.582960</td>\n",
       "    </tr>\n",
       "    <tr>\n",
       "      <th>117</th>\n",
       "      <td>90504</td>\n",
       "      <td>32102</td>\n",
       "      <td>40.3</td>\n",
       "      <td>15886</td>\n",
       "      <td>16216</td>\n",
       "      <td>11580</td>\n",
       "      <td>2.76</td>\n",
       "      <td>2.772193</td>\n",
       "    </tr>\n",
       "    <tr>\n",
       "      <th>118</th>\n",
       "      <td>90505</td>\n",
       "      <td>36678</td>\n",
       "      <td>43.0</td>\n",
       "      <td>17684</td>\n",
       "      <td>18994</td>\n",
       "      <td>14244</td>\n",
       "      <td>2.55</td>\n",
       "      <td>2.574979</td>\n",
       "    </tr>\n",
       "    <tr>\n",
       "      <th>119</th>\n",
       "      <td>90506</td>\n",
       "      <td>0</td>\n",
       "      <td>0.0</td>\n",
       "      <td>0</td>\n",
       "      <td>0</td>\n",
       "      <td>0</td>\n",
       "      <td>0.00</td>\n",
       "      <td>NaN</td>\n",
       "    </tr>\n",
       "    <tr>\n",
       "      <th>12</th>\n",
       "      <td>90013</td>\n",
       "      <td>11772</td>\n",
       "      <td>44.6</td>\n",
       "      <td>7629</td>\n",
       "      <td>4143</td>\n",
       "      <td>6416</td>\n",
       "      <td>1.26</td>\n",
       "      <td>1.834788</td>\n",
       "    </tr>\n",
       "    <tr>\n",
       "      <th>120</th>\n",
       "      <td>90601</td>\n",
       "      <td>31974</td>\n",
       "      <td>36.6</td>\n",
       "      <td>15312</td>\n",
       "      <td>16662</td>\n",
       "      <td>11027</td>\n",
       "      <td>2.89</td>\n",
       "      <td>2.899610</td>\n",
       "    </tr>\n",
       "    <tr>\n",
       "      <th>121</th>\n",
       "      <td>90602</td>\n",
       "      <td>25777</td>\n",
       "      <td>30.9</td>\n",
       "      <td>12720</td>\n",
       "      <td>13057</td>\n",
       "      <td>7980</td>\n",
       "      <td>3.09</td>\n",
       "      <td>3.230201</td>\n",
       "    </tr>\n",
       "    <tr>\n",
       "      <th>122</th>\n",
       "      <td>90603</td>\n",
       "      <td>20063</td>\n",
       "      <td>39.4</td>\n",
       "      <td>9694</td>\n",
       "      <td>10369</td>\n",
       "      <td>6788</td>\n",
       "      <td>2.93</td>\n",
       "      <td>2.955657</td>\n",
       "    </tr>\n",
       "    <tr>\n",
       "      <th>123</th>\n",
       "      <td>90604</td>\n",
       "      <td>39407</td>\n",
       "      <td>34.1</td>\n",
       "      <td>19270</td>\n",
       "      <td>20137</td>\n",
       "      <td>11932</td>\n",
       "      <td>3.29</td>\n",
       "      <td>3.302632</td>\n",
       "    </tr>\n",
       "    <tr>\n",
       "      <th>124</th>\n",
       "      <td>90605</td>\n",
       "      <td>40331</td>\n",
       "      <td>32.6</td>\n",
       "      <td>20033</td>\n",
       "      <td>20298</td>\n",
       "      <td>10527</td>\n",
       "      <td>3.81</td>\n",
       "      <td>3.831196</td>\n",
       "    </tr>\n",
       "    <tr>\n",
       "      <th>...</th>\n",
       "      <td>...</td>\n",
       "      <td>...</td>\n",
       "      <td>...</td>\n",
       "      <td>...</td>\n",
       "      <td>...</td>\n",
       "      <td>...</td>\n",
       "      <td>...</td>\n",
       "      <td>...</td>\n",
       "    </tr>\n",
       "    <tr>\n",
       "      <th>72</th>\n",
       "      <td>90212</td>\n",
       "      <td>11555</td>\n",
       "      <td>41.2</td>\n",
       "      <td>5211</td>\n",
       "      <td>6344</td>\n",
       "      <td>5567</td>\n",
       "      <td>2.08</td>\n",
       "      <td>2.075624</td>\n",
       "    </tr>\n",
       "    <tr>\n",
       "      <th>73</th>\n",
       "      <td>90220</td>\n",
       "      <td>49328</td>\n",
       "      <td>29.8</td>\n",
       "      <td>23773</td>\n",
       "      <td>25555</td>\n",
       "      <td>12741</td>\n",
       "      <td>3.85</td>\n",
       "      <td>3.871596</td>\n",
       "    </tr>\n",
       "    <tr>\n",
       "      <th>74</th>\n",
       "      <td>90221</td>\n",
       "      <td>53704</td>\n",
       "      <td>26.7</td>\n",
       "      <td>26346</td>\n",
       "      <td>27358</td>\n",
       "      <td>11630</td>\n",
       "      <td>4.57</td>\n",
       "      <td>4.617713</td>\n",
       "    </tr>\n",
       "    <tr>\n",
       "      <th>75</th>\n",
       "      <td>90222</td>\n",
       "      <td>31869</td>\n",
       "      <td>27.3</td>\n",
       "      <td>15375</td>\n",
       "      <td>16494</td>\n",
       "      <td>7520</td>\n",
       "      <td>4.21</td>\n",
       "      <td>4.237899</td>\n",
       "    </tr>\n",
       "    <tr>\n",
       "      <th>76</th>\n",
       "      <td>90230</td>\n",
       "      <td>31766</td>\n",
       "      <td>39.1</td>\n",
       "      <td>14932</td>\n",
       "      <td>16834</td>\n",
       "      <td>12883</td>\n",
       "      <td>2.45</td>\n",
       "      <td>2.465730</td>\n",
       "    </tr>\n",
       "    <tr>\n",
       "      <th>77</th>\n",
       "      <td>90232</td>\n",
       "      <td>15149</td>\n",
       "      <td>38.6</td>\n",
       "      <td>7333</td>\n",
       "      <td>7816</td>\n",
       "      <td>6605</td>\n",
       "      <td>2.28</td>\n",
       "      <td>2.293565</td>\n",
       "    </tr>\n",
       "    <tr>\n",
       "      <th>78</th>\n",
       "      <td>90240</td>\n",
       "      <td>25876</td>\n",
       "      <td>35.5</td>\n",
       "      <td>12501</td>\n",
       "      <td>13375</td>\n",
       "      <td>7632</td>\n",
       "      <td>3.36</td>\n",
       "      <td>3.390461</td>\n",
       "    </tr>\n",
       "    <tr>\n",
       "      <th>79</th>\n",
       "      <td>90241</td>\n",
       "      <td>42399</td>\n",
       "      <td>33.9</td>\n",
       "      <td>20466</td>\n",
       "      <td>21933</td>\n",
       "      <td>13617</td>\n",
       "      <td>3.09</td>\n",
       "      <td>3.113681</td>\n",
       "    </tr>\n",
       "    <tr>\n",
       "      <th>8</th>\n",
       "      <td>90008</td>\n",
       "      <td>32327</td>\n",
       "      <td>39.7</td>\n",
       "      <td>14477</td>\n",
       "      <td>17850</td>\n",
       "      <td>13841</td>\n",
       "      <td>2.33</td>\n",
       "      <td>2.335597</td>\n",
       "    </tr>\n",
       "    <tr>\n",
       "      <th>80</th>\n",
       "      <td>90242</td>\n",
       "      <td>43497</td>\n",
       "      <td>31.6</td>\n",
       "      <td>21207</td>\n",
       "      <td>22290</td>\n",
       "      <td>12687</td>\n",
       "      <td>3.41</td>\n",
       "      <td>3.428470</td>\n",
       "    </tr>\n",
       "    <tr>\n",
       "      <th>81</th>\n",
       "      <td>90245</td>\n",
       "      <td>16654</td>\n",
       "      <td>39.2</td>\n",
       "      <td>8304</td>\n",
       "      <td>8350</td>\n",
       "      <td>7085</td>\n",
       "      <td>2.34</td>\n",
       "      <td>2.350600</td>\n",
       "    </tr>\n",
       "    <tr>\n",
       "      <th>82</th>\n",
       "      <td>90247</td>\n",
       "      <td>47487</td>\n",
       "      <td>35.5</td>\n",
       "      <td>23217</td>\n",
       "      <td>24270</td>\n",
       "      <td>15830</td>\n",
       "      <td>2.96</td>\n",
       "      <td>2.999810</td>\n",
       "    </tr>\n",
       "    <tr>\n",
       "      <th>83</th>\n",
       "      <td>90248</td>\n",
       "      <td>9947</td>\n",
       "      <td>41.2</td>\n",
       "      <td>4823</td>\n",
       "      <td>5124</td>\n",
       "      <td>3427</td>\n",
       "      <td>2.89</td>\n",
       "      <td>2.902539</td>\n",
       "    </tr>\n",
       "    <tr>\n",
       "      <th>84</th>\n",
       "      <td>90249</td>\n",
       "      <td>26669</td>\n",
       "      <td>37.2</td>\n",
       "      <td>12897</td>\n",
       "      <td>13772</td>\n",
       "      <td>8880</td>\n",
       "      <td>2.98</td>\n",
       "      <td>3.003266</td>\n",
       "    </tr>\n",
       "    <tr>\n",
       "      <th>85</th>\n",
       "      <td>90250</td>\n",
       "      <td>93193</td>\n",
       "      <td>31.9</td>\n",
       "      <td>45113</td>\n",
       "      <td>48080</td>\n",
       "      <td>31087</td>\n",
       "      <td>2.98</td>\n",
       "      <td>2.997813</td>\n",
       "    </tr>\n",
       "    <tr>\n",
       "      <th>86</th>\n",
       "      <td>90254</td>\n",
       "      <td>19506</td>\n",
       "      <td>37.0</td>\n",
       "      <td>10273</td>\n",
       "      <td>9233</td>\n",
       "      <td>9550</td>\n",
       "      <td>2.04</td>\n",
       "      <td>2.042513</td>\n",
       "    </tr>\n",
       "    <tr>\n",
       "      <th>87</th>\n",
       "      <td>90255</td>\n",
       "      <td>75066</td>\n",
       "      <td>29.1</td>\n",
       "      <td>37525</td>\n",
       "      <td>37541</td>\n",
       "      <td>18419</td>\n",
       "      <td>4.06</td>\n",
       "      <td>4.075466</td>\n",
       "    </tr>\n",
       "    <tr>\n",
       "      <th>88</th>\n",
       "      <td>90260</td>\n",
       "      <td>34924</td>\n",
       "      <td>32.7</td>\n",
       "      <td>17509</td>\n",
       "      <td>17415</td>\n",
       "      <td>10429</td>\n",
       "      <td>3.33</td>\n",
       "      <td>3.348739</td>\n",
       "    </tr>\n",
       "    <tr>\n",
       "      <th>89</th>\n",
       "      <td>90262</td>\n",
       "      <td>69745</td>\n",
       "      <td>27.8</td>\n",
       "      <td>33919</td>\n",
       "      <td>35826</td>\n",
       "      <td>14669</td>\n",
       "      <td>4.57</td>\n",
       "      <td>4.754584</td>\n",
       "    </tr>\n",
       "    <tr>\n",
       "      <th>9</th>\n",
       "      <td>90010</td>\n",
       "      <td>3800</td>\n",
       "      <td>37.8</td>\n",
       "      <td>1874</td>\n",
       "      <td>1926</td>\n",
       "      <td>2014</td>\n",
       "      <td>1.87</td>\n",
       "      <td>1.886792</td>\n",
       "    </tr>\n",
       "    <tr>\n",
       "      <th>90</th>\n",
       "      <td>90263</td>\n",
       "      <td>1612</td>\n",
       "      <td>19.7</td>\n",
       "      <td>665</td>\n",
       "      <td>947</td>\n",
       "      <td>0</td>\n",
       "      <td>0.00</td>\n",
       "      <td>NaN</td>\n",
       "    </tr>\n",
       "    <tr>\n",
       "      <th>91</th>\n",
       "      <td>90265</td>\n",
       "      <td>18116</td>\n",
       "      <td>46.5</td>\n",
       "      <td>9159</td>\n",
       "      <td>8957</td>\n",
       "      <td>7174</td>\n",
       "      <td>2.39</td>\n",
       "      <td>2.525230</td>\n",
       "    </tr>\n",
       "    <tr>\n",
       "      <th>92</th>\n",
       "      <td>90266</td>\n",
       "      <td>35135</td>\n",
       "      <td>40.9</td>\n",
       "      <td>17605</td>\n",
       "      <td>17530</td>\n",
       "      <td>14038</td>\n",
       "      <td>2.50</td>\n",
       "      <td>2.502849</td>\n",
       "    </tr>\n",
       "    <tr>\n",
       "      <th>93</th>\n",
       "      <td>90270</td>\n",
       "      <td>27372</td>\n",
       "      <td>27.9</td>\n",
       "      <td>13992</td>\n",
       "      <td>13380</td>\n",
       "      <td>6554</td>\n",
       "      <td>4.16</td>\n",
       "      <td>4.176381</td>\n",
       "    </tr>\n",
       "    <tr>\n",
       "      <th>94</th>\n",
       "      <td>90272</td>\n",
       "      <td>22986</td>\n",
       "      <td>47.3</td>\n",
       "      <td>10952</td>\n",
       "      <td>12034</td>\n",
       "      <td>9212</td>\n",
       "      <td>2.49</td>\n",
       "      <td>2.495224</td>\n",
       "    </tr>\n",
       "    <tr>\n",
       "      <th>95</th>\n",
       "      <td>90274</td>\n",
       "      <td>25209</td>\n",
       "      <td>49.4</td>\n",
       "      <td>12199</td>\n",
       "      <td>13010</td>\n",
       "      <td>9479</td>\n",
       "      <td>2.66</td>\n",
       "      <td>2.659458</td>\n",
       "    </tr>\n",
       "    <tr>\n",
       "      <th>96</th>\n",
       "      <td>90275</td>\n",
       "      <td>41804</td>\n",
       "      <td>47.8</td>\n",
       "      <td>20283</td>\n",
       "      <td>21521</td>\n",
       "      <td>15618</td>\n",
       "      <td>2.65</td>\n",
       "      <td>2.676655</td>\n",
       "    </tr>\n",
       "    <tr>\n",
       "      <th>97</th>\n",
       "      <td>90277</td>\n",
       "      <td>35293</td>\n",
       "      <td>42.0</td>\n",
       "      <td>17521</td>\n",
       "      <td>17772</td>\n",
       "      <td>16910</td>\n",
       "      <td>2.07</td>\n",
       "      <td>2.087108</td>\n",
       "    </tr>\n",
       "    <tr>\n",
       "      <th>98</th>\n",
       "      <td>90278</td>\n",
       "      <td>40071</td>\n",
       "      <td>38.2</td>\n",
       "      <td>19848</td>\n",
       "      <td>20223</td>\n",
       "      <td>16009</td>\n",
       "      <td>2.49</td>\n",
       "      <td>2.503030</td>\n",
       "    </tr>\n",
       "    <tr>\n",
       "      <th>99</th>\n",
       "      <td>90280</td>\n",
       "      <td>94396</td>\n",
       "      <td>29.4</td>\n",
       "      <td>46321</td>\n",
       "      <td>48075</td>\n",
       "      <td>23278</td>\n",
       "      <td>4.05</td>\n",
       "      <td>4.055159</td>\n",
       "    </tr>\n",
       "  </tbody>\n",
       "</table>\n",
       "<p>319 rows × 8 columns</p>\n",
       "</div>"
      ],
      "text/plain": [
       "     Zip Code  Total Population  Median Age  Total Males  Total Females  \\\n",
       "0       91371                 1        73.5            0              1   \n",
       "1       90001             57110        26.6        28468          28642   \n",
       "10      90011            103892        26.2        52794          51098   \n",
       "100     90290              6368        45.0         3180           3188   \n",
       "101     90291             28341        37.6        14757          13584   \n",
       "102     90292             21576        41.2        10729          10847   \n",
       "103     90293             12132        40.4         5890           6242   \n",
       "104     90301             36568        32.6        17633          18935   \n",
       "105     90302             29415        32.8        13803          15612   \n",
       "106     90303             26176        30.4        12733          13443   \n",
       "107     90304             28210        28.1        14503          13707   \n",
       "108     90305             14853        43.3         6552           8301   \n",
       "109     90401              6722        37.8         3524           3198   \n",
       "11      90012             31103        36.3        19493          11610   \n",
       "110     90402             12250        47.0         5809           6441   \n",
       "111     90403             24525        40.8        11426          13099   \n",
       "112     90404             21360        37.4        10292          11068   \n",
       "113     90405             27186        40.8        13364          13822   \n",
       "114     90501             43180        35.0        21483          21697   \n",
       "115     90502             18010        40.2         8811           9199   \n",
       "116     90503             44383        40.8        21481          22902   \n",
       "117     90504             32102        40.3        15886          16216   \n",
       "118     90505             36678        43.0        17684          18994   \n",
       "119     90506                 0         0.0            0              0   \n",
       "12      90013             11772        44.6         7629           4143   \n",
       "120     90601             31974        36.6        15312          16662   \n",
       "121     90602             25777        30.9        12720          13057   \n",
       "122     90603             20063        39.4         9694          10369   \n",
       "123     90604             39407        34.1        19270          20137   \n",
       "124     90605             40331        32.6        20033          20298   \n",
       "..        ...               ...         ...          ...            ...   \n",
       "72      90212             11555        41.2         5211           6344   \n",
       "73      90220             49328        29.8        23773          25555   \n",
       "74      90221             53704        26.7        26346          27358   \n",
       "75      90222             31869        27.3        15375          16494   \n",
       "76      90230             31766        39.1        14932          16834   \n",
       "77      90232             15149        38.6         7333           7816   \n",
       "78      90240             25876        35.5        12501          13375   \n",
       "79      90241             42399        33.9        20466          21933   \n",
       "8       90008             32327        39.7        14477          17850   \n",
       "80      90242             43497        31.6        21207          22290   \n",
       "81      90245             16654        39.2         8304           8350   \n",
       "82      90247             47487        35.5        23217          24270   \n",
       "83      90248              9947        41.2         4823           5124   \n",
       "84      90249             26669        37.2        12897          13772   \n",
       "85      90250             93193        31.9        45113          48080   \n",
       "86      90254             19506        37.0        10273           9233   \n",
       "87      90255             75066        29.1        37525          37541   \n",
       "88      90260             34924        32.7        17509          17415   \n",
       "89      90262             69745        27.8        33919          35826   \n",
       "9       90010              3800        37.8         1874           1926   \n",
       "90      90263              1612        19.7          665            947   \n",
       "91      90265             18116        46.5         9159           8957   \n",
       "92      90266             35135        40.9        17605          17530   \n",
       "93      90270             27372        27.9        13992          13380   \n",
       "94      90272             22986        47.3        10952          12034   \n",
       "95      90274             25209        49.4        12199          13010   \n",
       "96      90275             41804        47.8        20283          21521   \n",
       "97      90277             35293        42.0        17521          17772   \n",
       "98      90278             40071        38.2        19848          20223   \n",
       "99      90280             94396        29.4        46321          48075   \n",
       "\n",
       "     Total Households  Average Household Size  computedAHZ  \n",
       "0                   1                    1.00     1.000000  \n",
       "1               12971                    4.40     4.402899  \n",
       "10              22168                    4.67     4.686575  \n",
       "100              2612                    2.44     2.437979  \n",
       "101             14261                    1.95     1.987308  \n",
       "102             12654                    1.70     1.705073  \n",
       "103              6575                    1.83     1.845171  \n",
       "104             11895                    3.01     3.074233  \n",
       "105             10684                    2.74     2.753182  \n",
       "106              7290                    3.58     3.590672  \n",
       "107              6634                    4.22     4.252336  \n",
       "108              5933                    2.46     2.503455  \n",
       "109              4188                    1.49     1.605062  \n",
       "11              10327                    2.12     3.011814  \n",
       "110              5301                    2.31     2.310885  \n",
       "111             13970                    1.74     1.755548  \n",
       "112             10089                    2.01     2.117157  \n",
       "113             14376                    1.87     1.891068  \n",
       "114             14610                    2.94     2.955510  \n",
       "115              5717                    2.94     3.150254  \n",
       "116             17183                    2.55     2.582960  \n",
       "117             11580                    2.76     2.772193  \n",
       "118             14244                    2.55     2.574979  \n",
       "119                 0                    0.00          NaN  \n",
       "12               6416                    1.26     1.834788  \n",
       "120             11027                    2.89     2.899610  \n",
       "121              7980                    3.09     3.230201  \n",
       "122              6788                    2.93     2.955657  \n",
       "123             11932                    3.29     3.302632  \n",
       "124             10527                    3.81     3.831196  \n",
       "..                ...                     ...          ...  \n",
       "72               5567                    2.08     2.075624  \n",
       "73              12741                    3.85     3.871596  \n",
       "74              11630                    4.57     4.617713  \n",
       "75               7520                    4.21     4.237899  \n",
       "76              12883                    2.45     2.465730  \n",
       "77               6605                    2.28     2.293565  \n",
       "78               7632                    3.36     3.390461  \n",
       "79              13617                    3.09     3.113681  \n",
       "8               13841                    2.33     2.335597  \n",
       "80              12687                    3.41     3.428470  \n",
       "81               7085                    2.34     2.350600  \n",
       "82              15830                    2.96     2.999810  \n",
       "83               3427                    2.89     2.902539  \n",
       "84               8880                    2.98     3.003266  \n",
       "85              31087                    2.98     2.997813  \n",
       "86               9550                    2.04     2.042513  \n",
       "87              18419                    4.06     4.075466  \n",
       "88              10429                    3.33     3.348739  \n",
       "89              14669                    4.57     4.754584  \n",
       "9                2014                    1.87     1.886792  \n",
       "90                  0                    0.00          NaN  \n",
       "91               7174                    2.39     2.525230  \n",
       "92              14038                    2.50     2.502849  \n",
       "93               6554                    4.16     4.176381  \n",
       "94               9212                    2.49     2.495224  \n",
       "95               9479                    2.66     2.659458  \n",
       "96              15618                    2.65     2.676655  \n",
       "97              16910                    2.07     2.087108  \n",
       "98              16009                    2.49     2.503030  \n",
       "99              23278                    4.05     4.055159  \n",
       "\n",
       "[319 rows x 8 columns]"
      ]
     },
     "execution_count": 33,
     "metadata": {},
     "output_type": "execute_result"
    }
   ],
   "source": [
    "jsonCensus"
   ]
  },
  {
   "cell_type": "markdown",
   "metadata": {},
   "source": [
    "### So, even though we think of `json` format as dictionary-like, `pandas` can (sometimes) read it as a DataFrame object. Here is that construction a bit more explicitly:"
   ]
  },
  {
   "cell_type": "code",
   "execution_count": 35,
   "metadata": {},
   "outputs": [],
   "source": [
    "demoDict = {'col1':[1,2,3], 'col2':[.4,.45,0], 'col3':[0,0,0]}\n",
    "demoFrame = pd.DataFrame(demoDict)"
   ]
  },
  {
   "cell_type": "code",
   "execution_count": null,
   "metadata": {},
   "outputs": [],
   "source": [
    "demoFrame"
   ]
  }
 ],
 "metadata": {
  "kernelspec": {
   "display_name": "Python 3",
   "language": "python",
   "name": "python3"
  },
  "language_info": {
   "codemirror_mode": {
    "name": "ipython",
    "version": 3
   },
   "file_extension": ".py",
   "mimetype": "text/x-python",
   "name": "python",
   "nbconvert_exporter": "python",
   "pygments_lexer": "ipython3",
   "version": "3.6.8"
  }
 },
 "nbformat": 4,
 "nbformat_minor": 2
}
