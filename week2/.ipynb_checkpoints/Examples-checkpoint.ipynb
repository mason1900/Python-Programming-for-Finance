{
 "cells": [
  {
   "cell_type": "markdown",
   "metadata": {},
   "source": [
    "# CIS600 - Social Media Data Mining \n",
    "###  \n",
    "<img src=\"https://www.syracuse.edu/wp-content/themes/g6-carbon/img/syracuse-university-seal.svg?ver=6.3.9\" style=\"width: 200px;\"/>\n",
    "\n",
    "# Lab Exercises\n",
    "\n",
    "###  September 4, 2018"
   ]
  },
  {
   "cell_type": "markdown",
   "metadata": {},
   "source": [
    "## Timing"
   ]
  },
  {
   "cell_type": "code",
   "execution_count": 3,
   "metadata": {},
   "outputs": [
    {
     "name": "stdout",
     "output_type": "stream",
     "text": [
      "[      1       2       3 ... 2499997 2499998 2499999]\n"
     ]
    }
   ],
   "source": [
    "from math import *\n",
    "import numpy as np\n",
    "loops = 2500000\n",
    "a = np.arange(1, loops)\n",
    "print(a)"
   ]
  },
  {
   "cell_type": "code",
   "execution_count": 5,
   "metadata": {},
   "outputs": [
    {
     "name": "stdout",
     "output_type": "stream",
     "text": [
      "Help on built-in function arange in module numpy.core.multiarray:\n",
      "\n",
      "arange(...)\n",
      "    arange([start,] stop[, step,], dtype=None)\n",
      "    \n",
      "    Return evenly spaced values within a given interval.\n",
      "    \n",
      "    Values are generated within the half-open interval ``[start, stop)``\n",
      "    (in other words, the interval including `start` but excluding `stop`).\n",
      "    For integer arguments the function is equivalent to the Python built-in\n",
      "    `range <http://docs.python.org/lib/built-in-funcs.html>`_ function,\n",
      "    but returns an ndarray rather than a list.\n",
      "    \n",
      "    When using a non-integer step, such as 0.1, the results will often not\n",
      "    be consistent.  It is better to use ``linspace`` for these cases.\n",
      "    \n",
      "    Parameters\n",
      "    ----------\n",
      "    start : number, optional\n",
      "        Start of interval.  The interval includes this value.  The default\n",
      "        start value is 0.\n",
      "    stop : number\n",
      "        End of interval.  The interval does not include this value, except\n",
      "        in some cases where `step` is not an integer and floating point\n",
      "        round-off affects the length of `out`.\n",
      "    step : number, optional\n",
      "        Spacing between values.  For any output `out`, this is the distance\n",
      "        between two adjacent values, ``out[i+1] - out[i]``.  The default\n",
      "        step size is 1.  If `step` is specified as a position argument,\n",
      "        `start` must also be given.\n",
      "    dtype : dtype\n",
      "        The type of the output array.  If `dtype` is not given, infer the data\n",
      "        type from the other input arguments.\n",
      "    \n",
      "    Returns\n",
      "    -------\n",
      "    arange : ndarray\n",
      "        Array of evenly spaced values.\n",
      "    \n",
      "        For floating point arguments, the length of the result is\n",
      "        ``ceil((stop - start)/step)``.  Because of floating point overflow,\n",
      "        this rule may result in the last element of `out` being greater\n",
      "        than `stop`.\n",
      "    \n",
      "    See Also\n",
      "    --------\n",
      "    linspace : Evenly spaced numbers with careful handling of endpoints.\n",
      "    ogrid: Arrays of evenly spaced numbers in N-dimensions.\n",
      "    mgrid: Grid-shaped arrays of evenly spaced numbers in N-dimensions.\n",
      "    \n",
      "    Examples\n",
      "    --------\n",
      "    >>> np.arange(3)\n",
      "    array([0, 1, 2])\n",
      "    >>> np.arange(3.0)\n",
      "    array([ 0.,  1.,  2.])\n",
      "    >>> np.arange(3,7)\n",
      "    array([3, 4, 5, 6])\n",
      "    >>> np.arange(3,7,2)\n",
      "    array([3, 5])\n",
      "\n"
     ]
    }
   ],
   "source": [
    "help(np.arange)"
   ]
  },
  {
   "cell_type": "code",
   "execution_count": 7,
   "metadata": {},
   "outputs": [
    {
     "name": "stdout",
     "output_type": "stream",
     "text": [
      "CPU times: user 853 ms, sys: 11.9 ms, total: 865 ms\n",
      "Wall time: 864 ms\n"
     ]
    }
   ],
   "source": [
    "def f(x):\n",
    "    return 3 * log(x) + cos(x) ** 2\n",
    "%time r = [f(x) for x in a]"
   ]
  },
  {
   "cell_type": "code",
   "execution_count": 8,
   "metadata": {},
   "outputs": [
    {
     "name": "stdout",
     "output_type": "stream",
     "text": [
      "CPU times: user 578 ms, sys: 15.3 ms, total: 593 ms\n",
      "Wall time: 403 ms\n"
     ]
    }
   ],
   "source": [
    "%time r = 3 * np.log(a) + np.cos(a) ** 2"
   ]
  },
  {
   "cell_type": "code",
   "execution_count": 11,
   "metadata": {},
   "outputs": [
    {
     "name": "stdout",
     "output_type": "stream",
     "text": [
      "25.9 ms ± 486 µs per loop (mean ± std. dev. of 7 runs, 10 loops each)\n"
     ]
    }
   ],
   "source": [
    "import numexpr as ne\n",
    "ne.set_num_threads(1)\n",
    "f = '3 * log(a) + cos(a) ** 2'\n",
    "%timeit r = ne.evaluate(f)"
   ]
  },
  {
   "cell_type": "code",
   "execution_count": 10,
   "metadata": {},
   "outputs": [
    {
     "name": "stdout",
     "output_type": "stream",
     "text": [
      "7.55 ms ± 177 µs per loop (mean ± std. dev. of 7 runs, 100 loops each)\n"
     ]
    }
   ],
   "source": [
    "import numexpr as ne\n",
    "ne.set_num_threads(4)\n",
    "f = '3 * log(a) + cos(a) ** 2'\n",
    "%timeit r = ne.evaluate(f)"
   ]
  },
  {
   "cell_type": "markdown",
   "metadata": {},
   "source": [
    "##  Monte Carlo valuation of European call options in Black-Scholes-Merton model"
   ]
  },
  {
   "cell_type": "code",
   "execution_count": 13,
   "metadata": {
    "uuid": "1447b7bb-ed26-4c0f-9e0f-222dfd5d0c9b"
   },
   "outputs": [],
   "source": [
    "#\n",
    "#  Monte Carlo valuation of European call options \n",
    "#  in Black-Scholes-Merton mode\n",
    "#\n",
    "\n",
    "S0 = 100.     # initial stock index level\n",
    "K = 105.      # strike price of European call option\n",
    "T = 1.0       # time-to maturity (T = 1 year)\n",
    "r = 0.05      # constant riskless short rate (r = 5%)\n",
    "sigma = 0.2   # constant volatility (sigma = 20%)"
   ]
  },
  {
   "cell_type": "code",
   "execution_count": 14,
   "metadata": {
    "uuid": "a95c7301-39f7-4d51-937a-334f051c2d9e"
   },
   "outputs": [],
   "source": [
    "from numpy import *\n",
    "\n",
    "I = 100000    # number of simulations\n",
    "\n",
    "# valuation algorithm\n",
    "random.seed(1000)      \n",
    "z = random.standard_normal(I)      # draw I pseudo random numbers\n",
    "ST = S0 * exp((r - 0.5 * sigma ** 2)* T + sigma * sqrt(T) * z)\n",
    "hT = maximum(ST - K, 0)            # inner values at maturity\n",
    "\n",
    "C0 = exp(-r * T) * sum(hT) / I     # Monte Carlo estimator "
   ]
  },
  {
   "cell_type": "code",
   "execution_count": 15,
   "metadata": {},
   "outputs": [
    {
     "name": "stdout",
     "output_type": "stream",
     "text": [
      "Value of the European Call Option 8.019\n"
     ]
    }
   ],
   "source": [
    "print (\"Value of the European Call Option %5.3f\" % C0)"
   ]
  },
  {
   "cell_type": "code",
   "execution_count": null,
   "metadata": {},
   "outputs": [],
   "source": [
    "z"
   ]
  },
  {
   "cell_type": "code",
   "execution_count": null,
   "metadata": {},
   "outputs": [],
   "source": [
    "hT"
   ]
  },
  {
   "cell_type": "code",
   "execution_count": null,
   "metadata": {},
   "outputs": [],
   "source": [
    "ST"
   ]
  },
  {
   "cell_type": "markdown",
   "metadata": {},
   "source": [
    "## Getting Stock Volatility (from an API)"
   ]
  },
  {
   "cell_type": "code",
   "execution_count": 20,
   "metadata": {},
   "outputs": [],
   "source": [
    "from datetime import datetime\n",
    "import numpy as np\n",
    "import pandas as pd\n",
    "pd.core.common.is_list_like = pd.api.types.is_list_like\n",
    "from pandas_datareader.iex.daily import IEXDailyReader as xread"
   ]
  },
  {
   "cell_type": "code",
   "execution_count": 24,
   "metadata": {},
   "outputs": [
    {
     "name": "stdout",
     "output_type": "stream",
     "text": [
      "5y\n"
     ]
    }
   ],
   "source": [
    "start = datetime(2015, 2, 9)\n",
    "\n",
    "end = datetime(2017, 5, 24)\n",
    "\n",
    "fiex = xread(['F','AAPL'], start, end).read()"
   ]
  },
  {
   "cell_type": "code",
   "execution_count": 25,
   "metadata": {},
   "outputs": [
    {
     "data": {
      "text/plain": [
       "{'F':                open     high      low    close    volume\n",
       " date                                                    \n",
       " 2015-02-09  12.8679  13.0883  12.8352  12.9985  20286720\n",
       " 2015-02-10  13.1047  13.1781  12.9903  13.1373  27928530\n",
       " 2015-02-11  13.1291  13.3169  13.0720  13.2680  34285331\n",
       " 2015-02-12  13.3414  13.4313  13.3088  13.3578  23738806\n",
       " 2015-02-13  13.3333  13.3578  13.2190  13.3088  19954568\n",
       " 2015-02-17  13.2353  13.3088  13.0638  13.1536  44362323\n",
       " 2015-02-18  13.1945  13.3333  13.1128  13.2353  22812702\n",
       " 2015-02-19  13.2190  13.4557  13.2026  13.4149  24863932\n",
       " 2015-02-20  13.3823  13.4394  13.2680  13.3904  21523627\n",
       " 2015-02-23  13.3333  13.4313  13.3006  13.3741  19016756\n",
       " 2015-02-24  13.3578  13.4068  13.2924  13.3578  17672510\n",
       " 2015-02-25  13.3414  13.5701  13.3414  13.4802  23320169\n",
       " 2015-02-26  13.3904  13.5292  13.3659  13.3741  20799991\n",
       " 2015-02-27  13.3741  13.3904  13.2435  13.3414  20336962\n",
       " 2015-03-02  13.3986  13.5456  13.3945  13.5292  26341113\n",
       " 2015-03-03  13.1210  13.3088  13.1128  13.2026  37688950\n",
       " 2015-03-04  13.1373  13.1781  13.0067  13.0883  25659401\n",
       " 2015-03-05  13.1373  13.2516  13.1373  13.1536  16548157\n",
       " 2015-03-06  13.0965  13.2271  12.9903  13.0067  24420536\n",
       " 2015-03-09  13.0475  13.1455  13.0067  13.0883  17132373\n",
       " 2015-03-10  13.0148  13.0230  12.8107  12.8352  31687721\n",
       " 2015-03-11  12.8760  12.9414  12.8189  12.8597  20638698\n",
       " 2015-03-12  12.9659  13.2516  12.9495  13.2026  31172242\n",
       " 2015-03-13  13.1945  13.2680  13.0638  13.2271  27877722\n",
       " 2015-03-16  13.2761  13.4721  13.2598  13.4639  37731651\n",
       " 2015-03-17  13.3823  13.4639  13.3578  13.3823  20917650\n",
       " 2015-03-18  13.3169  13.4802  13.1536  13.4394  33748031\n",
       " 2015-03-19  13.4068  13.4394  13.2924  13.3414  18021525\n",
       " 2015-03-20  13.3496  13.5047  13.3414  13.4557  42096844\n",
       " 2015-03-23  13.4476  13.6680  13.4394  13.5292  30708965\n",
       " ...             ...      ...      ...      ...       ...\n",
       " 2017-04-12  10.3004  10.3233  10.2365  10.2639  56588425\n",
       " 2017-04-13  10.2547  10.2822  10.1542  10.1542  32789905\n",
       " 2017-04-17  10.2547  10.3279  10.1816  10.3096  44731735\n",
       " 2017-04-18  10.3281  10.3559  10.2633  10.3188  35659989\n",
       " 2017-04-19  10.3652  10.4485  10.3466  10.3652  37524445\n",
       " 2017-04-20  10.4207  10.6523  10.4115  10.6245  49990191\n",
       " 2017-04-21  10.6153  10.6338  10.4856  10.5041  26076186\n",
       " 2017-04-24  10.6338  10.6523  10.5226  10.5875  41071326\n",
       " 2017-04-25  10.6245  10.6523  10.5875  10.6338  35862521\n",
       " 2017-04-26  10.6245  10.8376  10.6060  10.7449  51685768\n",
       " 2017-04-27  10.8005  10.8190  10.5041  10.6245  50203741\n",
       " 2017-04-28  10.6616  10.6616  10.5597  10.6245  41415145\n",
       " 2017-05-01  10.6430  10.6894  10.5597  10.5782  32118379\n",
       " 2017-05-02  10.4670  10.5319  10.0965  10.1151  99514739\n",
       " 2017-05-03  10.1151  10.2725  10.1058  10.2540  57290560\n",
       " 2017-05-04  10.2725  10.2911  10.1521  10.1892  34637854\n",
       " 2017-05-05  10.1984  10.3374  10.1706  10.3188  28926001\n",
       " 2017-05-08  10.3559  10.4115  10.2725  10.3096  35561764\n",
       " 2017-05-09  10.3188  10.4254  10.2818  10.3374  44142864\n",
       " 2017-05-10  10.3374  10.3744  10.2170  10.2262  34989254\n",
       " 2017-05-11  10.2262  10.2540  10.1614  10.1984  29276286\n",
       " 2017-05-12  10.1892  10.2170  10.0965  10.1151  34264277\n",
       " 2017-05-15  10.1521  10.2170  10.1151  10.1336  27359494\n",
       " 2017-05-16  10.2447  10.2540  10.0965  10.1336  42130215\n",
       " 2017-05-17  10.0780  10.1428   9.8835   9.9669  54670105\n",
       " 2017-05-18   9.9391  10.0224   9.9113   9.9946  37890811\n",
       " 2017-05-19  10.0132  10.1336   9.9946  10.0687  32431694\n",
       " 2017-05-22  10.2911  10.3096  10.1706  10.2818  73334997\n",
       " 2017-05-23  10.3374  10.3420  10.1614  10.2355  40816647\n",
       " 2017-05-24  10.2447  10.2447  10.0687  10.1521  46732734\n",
       " \n",
       " [578 rows x 5 columns],\n",
       " 'AAPL':                 open      high       low     close    volume\n",
       " date                                                        \n",
       " 2015-02-09  111.3859  112.5979  111.2731  112.4852  38889797\n",
       " 2015-02-10  112.9080  114.7683  112.8986  114.6462  62008506\n",
       " 2015-02-11  115.3509  117.3709  115.0972  117.3333  73561797\n",
       " 2015-02-12  118.4420  119.7762  117.9816  118.8179  74474466\n",
       " 2015-02-13  119.5883  119.5883  118.0568  119.4004  54272219\n",
       " 2015-02-17  119.7856  121.0916  119.2501  120.1051  63152405\n",
       " 2015-02-18  119.9125  120.9977  119.7480  120.9366  44891737\n",
       " 2015-02-19  120.7158  121.2325  120.5749  120.6876  37362381\n",
       " 2015-02-20  120.8473  121.6741  120.3118  121.6694  48948419\n",
       " 2015-02-23  122.1627  124.9626  121.8245  124.9626  70974110\n",
       " 2015-02-24  124.9063  125.5264  123.2432  124.1828  69228130\n",
       " 2015-02-25  123.6097  123.6472  120.4057  121.0071  74711746\n",
       " 2015-02-26  121.0024  122.9614  118.9588  122.5339  91287529\n",
       " 2015-02-27  122.1439  122.6795  120.4903  120.6970  62014847\n",
       " 2015-03-02  121.4393  122.4070  120.5467  121.2889  48096663\n",
       " 2015-03-03  121.1668  121.6929  120.3494  121.5426  37816283\n",
       " 2015-03-04  121.2983  121.7305  120.5655  120.7722  31666340\n",
       " 2015-03-05  120.8097  120.9695  118.1602  118.7709  56517146\n",
       " 2015-03-06  120.6406  121.5520  118.6299  118.9494  72842060\n",
       " 2015-03-09  120.2272  121.7399  117.5025  119.4568  88528487\n",
       " 2015-03-10  118.7709  119.5319  116.3186  116.9857  68856582\n",
       " 2015-03-11  117.2112  117.2300  114.7307  114.8529  68938974\n",
       " 2015-03-12  114.9186  117.3521  114.2797  116.9293  48362719\n",
       " 2015-03-13  116.8823  117.8173  115.1723  116.1213  51827283\n",
       " 2015-03-16  116.3938  117.3991  115.4448  117.3991  35874300\n",
       " 2015-03-17  118.2917  119.6259  118.0568  119.3628  51023104\n",
       " 2015-03-18  119.3252  121.3547  118.7333  120.7064  65270945\n",
       " 2015-03-19  120.9695  121.4346  119.7011  119.7903  45809490\n",
       " 2015-03-20  120.4997  120.6406  117.5964  118.2917  68695136\n",
       " 2015-03-23  119.4380  120.1239  118.8742  119.5225  37709674\n",
       " ...              ...       ...       ...       ...       ...\n",
       " 2017-04-12  138.3740  138.9114  137.7974  138.5694  20350000\n",
       " 2017-04-13  138.6769  139.1362  137.8365  137.8365  17822880\n",
       " 2017-04-17  138.2567  138.6476  137.6606  138.5987  16582094\n",
       " 2017-04-18  138.1883  138.8039  137.8951  137.9831  14697544\n",
       " 2017-04-19  138.6476  138.7648  137.2502  137.4749  17328375\n",
       " 2017-04-20  138.0026  139.6639  137.9440  139.1948  23319562\n",
       " 2017-04-21  139.1948  139.4293  138.6183  139.0287  17320928\n",
       " 2017-04-24  140.2307  140.6704  139.9180  140.3675  17134333\n",
       " 2017-04-25  140.6313  141.5988  140.5922  141.2372  18871501\n",
       " 2017-04-26  141.1786  141.3056  140.1097  140.4066  20041241\n",
       " 2017-04-27  140.6435  140.8756  140.0450  140.5141  14246347\n",
       " 2017-04-28  140.8072  141.0124  140.0059  140.3772  20860358\n",
       " 2017-05-01  141.7942  143.8464  141.6574  143.2405  33602943\n",
       " 2017-05-02  144.1786  144.7161  143.4946  144.1493  45352194\n",
       " 2017-05-03  142.2730  144.1298  140.9831  143.7096  45697034\n",
       " 2017-05-04  143.1819  143.7877  142.4880  143.1916  23371872\n",
       " 2017-05-05  143.4164  145.5858  143.4164  145.5663  27327725\n",
       " 2017-05-08  145.6347  150.1983  145.6347  149.5240  48752413\n",
       " 2017-05-09  150.3644  151.3514  149.9540  150.4817  39130363\n",
       " 2017-05-10  150.1299  150.4328  148.6445  149.7683  25805692\n",
       " 2017-05-11  149.5917  151.1814  149.4544  151.0636  27255058\n",
       " 2017-05-12  151.7995  153.4873  151.7701  153.1733  32527017\n",
       " 2017-05-15  153.0850  153.7130  152.1430  152.7808  26009719\n",
       " 2017-05-16  153.0163  153.1340  151.8192  152.5551  20048478\n",
       " 2017-05-17  150.7202  151.6720  146.9031  147.4330  50767678\n",
       " 2017-05-18  148.4339  150.4650  148.2965  149.6800  33568215\n",
       " 2017-05-19  150.5043  151.0930  149.7684  150.1903  26960788\n",
       " 2017-05-22  151.1127  151.6818  150.0431  151.1029  22966437\n",
       " 2017-05-23  151.9958  151.9958  150.4356  150.9164  19918871\n",
       " 2017-05-24  150.9557  151.2795  149.8076  150.4650  19219154\n",
       " \n",
       " [578 rows x 5 columns]}"
      ]
     },
     "execution_count": 25,
     "metadata": {},
     "output_type": "execute_result"
    }
   ],
   "source": [
    "fiex"
   ]
  },
  {
   "cell_type": "code",
   "execution_count": 26,
   "metadata": {},
   "outputs": [
    {
     "data": {
      "text/plain": [
       "pandas.core.frame.DataFrame"
      ]
     },
     "execution_count": 26,
     "metadata": {},
     "output_type": "execute_result"
    }
   ],
   "source": [
    "type(fiex['AAPL'])"
   ]
  },
  {
   "cell_type": "code",
   "execution_count": 27,
   "metadata": {},
   "outputs": [],
   "source": [
    "fordFrame, appleFrame = fiex['F'], fiex['AAPL']"
   ]
  },
  {
   "cell_type": "code",
   "execution_count": 23,
   "metadata": {},
   "outputs": [
    {
     "data": {
      "text/html": [
       "<div>\n",
       "<style scoped>\n",
       "    .dataframe tbody tr th:only-of-type {\n",
       "        vertical-align: middle;\n",
       "    }\n",
       "\n",
       "    .dataframe tbody tr th {\n",
       "        vertical-align: top;\n",
       "    }\n",
       "\n",
       "    .dataframe thead th {\n",
       "        text-align: right;\n",
       "    }\n",
       "</style>\n",
       "<table border=\"1\" class=\"dataframe\">\n",
       "  <thead>\n",
       "    <tr style=\"text-align: right;\">\n",
       "      <th></th>\n",
       "      <th>open</th>\n",
       "      <th>high</th>\n",
       "      <th>low</th>\n",
       "      <th>close</th>\n",
       "      <th>volume</th>\n",
       "    </tr>\n",
       "    <tr>\n",
       "      <th>date</th>\n",
       "      <th></th>\n",
       "      <th></th>\n",
       "      <th></th>\n",
       "      <th></th>\n",
       "      <th></th>\n",
       "    </tr>\n",
       "  </thead>\n",
       "  <tbody>\n",
       "    <tr>\n",
       "      <th>2015-02-09</th>\n",
       "      <td>12.8679</td>\n",
       "      <td>13.0883</td>\n",
       "      <td>12.8352</td>\n",
       "      <td>12.9985</td>\n",
       "      <td>20286720</td>\n",
       "    </tr>\n",
       "    <tr>\n",
       "      <th>2015-02-10</th>\n",
       "      <td>13.1047</td>\n",
       "      <td>13.1781</td>\n",
       "      <td>12.9903</td>\n",
       "      <td>13.1373</td>\n",
       "      <td>27928530</td>\n",
       "    </tr>\n",
       "    <tr>\n",
       "      <th>2015-02-11</th>\n",
       "      <td>13.1291</td>\n",
       "      <td>13.3169</td>\n",
       "      <td>13.0720</td>\n",
       "      <td>13.2680</td>\n",
       "      <td>34285331</td>\n",
       "    </tr>\n",
       "    <tr>\n",
       "      <th>2015-02-12</th>\n",
       "      <td>13.3414</td>\n",
       "      <td>13.4313</td>\n",
       "      <td>13.3088</td>\n",
       "      <td>13.3578</td>\n",
       "      <td>23738806</td>\n",
       "    </tr>\n",
       "    <tr>\n",
       "      <th>2015-02-13</th>\n",
       "      <td>13.3333</td>\n",
       "      <td>13.3578</td>\n",
       "      <td>13.2190</td>\n",
       "      <td>13.3088</td>\n",
       "      <td>19954568</td>\n",
       "    </tr>\n",
       "  </tbody>\n",
       "</table>\n",
       "</div>"
      ],
      "text/plain": [
       "               open     high      low    close    volume\n",
       "date                                                    \n",
       "2015-02-09  12.8679  13.0883  12.8352  12.9985  20286720\n",
       "2015-02-10  13.1047  13.1781  12.9903  13.1373  27928530\n",
       "2015-02-11  13.1291  13.3169  13.0720  13.2680  34285331\n",
       "2015-02-12  13.3414  13.4313  13.3088  13.3578  23738806\n",
       "2015-02-13  13.3333  13.3578  13.2190  13.3088  19954568"
      ]
     },
     "execution_count": 23,
     "metadata": {},
     "output_type": "execute_result"
    }
   ],
   "source": [
    "fordFrame.head()"
   ]
  },
  {
   "cell_type": "code",
   "execution_count": 28,
   "metadata": {},
   "outputs": [
    {
     "data": {
      "text/html": [
       "<div>\n",
       "<style scoped>\n",
       "    .dataframe tbody tr th:only-of-type {\n",
       "        vertical-align: middle;\n",
       "    }\n",
       "\n",
       "    .dataframe tbody tr th {\n",
       "        vertical-align: top;\n",
       "    }\n",
       "\n",
       "    .dataframe thead th {\n",
       "        text-align: right;\n",
       "    }\n",
       "</style>\n",
       "<table border=\"1\" class=\"dataframe\">\n",
       "  <thead>\n",
       "    <tr style=\"text-align: right;\">\n",
       "      <th></th>\n",
       "      <th>open</th>\n",
       "      <th>high</th>\n",
       "      <th>low</th>\n",
       "      <th>close</th>\n",
       "      <th>volume</th>\n",
       "    </tr>\n",
       "    <tr>\n",
       "      <th>date</th>\n",
       "      <th></th>\n",
       "      <th></th>\n",
       "      <th></th>\n",
       "      <th></th>\n",
       "      <th></th>\n",
       "    </tr>\n",
       "  </thead>\n",
       "  <tbody>\n",
       "    <tr>\n",
       "      <th>2015-02-09</th>\n",
       "      <td>111.3859</td>\n",
       "      <td>112.5979</td>\n",
       "      <td>111.2731</td>\n",
       "      <td>112.4852</td>\n",
       "      <td>38889797</td>\n",
       "    </tr>\n",
       "    <tr>\n",
       "      <th>2015-02-10</th>\n",
       "      <td>112.9080</td>\n",
       "      <td>114.7683</td>\n",
       "      <td>112.8986</td>\n",
       "      <td>114.6462</td>\n",
       "      <td>62008506</td>\n",
       "    </tr>\n",
       "    <tr>\n",
       "      <th>2015-02-11</th>\n",
       "      <td>115.3509</td>\n",
       "      <td>117.3709</td>\n",
       "      <td>115.0972</td>\n",
       "      <td>117.3333</td>\n",
       "      <td>73561797</td>\n",
       "    </tr>\n",
       "    <tr>\n",
       "      <th>2015-02-12</th>\n",
       "      <td>118.4420</td>\n",
       "      <td>119.7762</td>\n",
       "      <td>117.9816</td>\n",
       "      <td>118.8179</td>\n",
       "      <td>74474466</td>\n",
       "    </tr>\n",
       "    <tr>\n",
       "      <th>2015-02-13</th>\n",
       "      <td>119.5883</td>\n",
       "      <td>119.5883</td>\n",
       "      <td>118.0568</td>\n",
       "      <td>119.4004</td>\n",
       "      <td>54272219</td>\n",
       "    </tr>\n",
       "  </tbody>\n",
       "</table>\n",
       "</div>"
      ],
      "text/plain": [
       "                open      high       low     close    volume\n",
       "date                                                        \n",
       "2015-02-09  111.3859  112.5979  111.2731  112.4852  38889797\n",
       "2015-02-10  112.9080  114.7683  112.8986  114.6462  62008506\n",
       "2015-02-11  115.3509  117.3709  115.0972  117.3333  73561797\n",
       "2015-02-12  118.4420  119.7762  117.9816  118.8179  74474466\n",
       "2015-02-13  119.5883  119.5883  118.0568  119.4004  54272219"
      ]
     },
     "execution_count": 28,
     "metadata": {},
     "output_type": "execute_result"
    }
   ],
   "source": [
    "appleFrame.head()"
   ]
  },
  {
   "cell_type": "code",
   "execution_count": 29,
   "metadata": {},
   "outputs": [
    {
     "data": {
      "text/html": [
       "<div>\n",
       "<style scoped>\n",
       "    .dataframe tbody tr th:only-of-type {\n",
       "        vertical-align: middle;\n",
       "    }\n",
       "\n",
       "    .dataframe tbody tr th {\n",
       "        vertical-align: top;\n",
       "    }\n",
       "\n",
       "    .dataframe thead th {\n",
       "        text-align: right;\n",
       "    }\n",
       "</style>\n",
       "<table border=\"1\" class=\"dataframe\">\n",
       "  <thead>\n",
       "    <tr style=\"text-align: right;\">\n",
       "      <th></th>\n",
       "      <th>open</th>\n",
       "      <th>high</th>\n",
       "      <th>low</th>\n",
       "      <th>close</th>\n",
       "      <th>volume</th>\n",
       "    </tr>\n",
       "    <tr>\n",
       "      <th>date</th>\n",
       "      <th></th>\n",
       "      <th></th>\n",
       "      <th></th>\n",
       "      <th></th>\n",
       "      <th></th>\n",
       "    </tr>\n",
       "  </thead>\n",
       "  <tbody>\n",
       "    <tr>\n",
       "      <th>2017-05-18</th>\n",
       "      <td>148.4339</td>\n",
       "      <td>150.4650</td>\n",
       "      <td>148.2965</td>\n",
       "      <td>149.6800</td>\n",
       "      <td>33568215</td>\n",
       "    </tr>\n",
       "    <tr>\n",
       "      <th>2017-05-19</th>\n",
       "      <td>150.5043</td>\n",
       "      <td>151.0930</td>\n",
       "      <td>149.7684</td>\n",
       "      <td>150.1903</td>\n",
       "      <td>26960788</td>\n",
       "    </tr>\n",
       "    <tr>\n",
       "      <th>2017-05-22</th>\n",
       "      <td>151.1127</td>\n",
       "      <td>151.6818</td>\n",
       "      <td>150.0431</td>\n",
       "      <td>151.1029</td>\n",
       "      <td>22966437</td>\n",
       "    </tr>\n",
       "    <tr>\n",
       "      <th>2017-05-23</th>\n",
       "      <td>151.9958</td>\n",
       "      <td>151.9958</td>\n",
       "      <td>150.4356</td>\n",
       "      <td>150.9164</td>\n",
       "      <td>19918871</td>\n",
       "    </tr>\n",
       "    <tr>\n",
       "      <th>2017-05-24</th>\n",
       "      <td>150.9557</td>\n",
       "      <td>151.2795</td>\n",
       "      <td>149.8076</td>\n",
       "      <td>150.4650</td>\n",
       "      <td>19219154</td>\n",
       "    </tr>\n",
       "  </tbody>\n",
       "</table>\n",
       "</div>"
      ],
      "text/plain": [
       "                open      high       low     close    volume\n",
       "date                                                        \n",
       "2017-05-18  148.4339  150.4650  148.2965  149.6800  33568215\n",
       "2017-05-19  150.5043  151.0930  149.7684  150.1903  26960788\n",
       "2017-05-22  151.1127  151.6818  150.0431  151.1029  22966437\n",
       "2017-05-23  151.9958  151.9958  150.4356  150.9164  19918871\n",
       "2017-05-24  150.9557  151.2795  149.8076  150.4650  19219154"
      ]
     },
     "execution_count": 29,
     "metadata": {},
     "output_type": "execute_result"
    }
   ],
   "source": [
    "appleFrame.tail()"
   ]
  },
  {
   "cell_type": "code",
   "execution_count": 30,
   "metadata": {},
   "outputs": [],
   "source": [
    "appleFrame['Log_Ret'] = np.log(appleFrame['close'] / appleFrame['close'].shift(1))\n",
    "appleFrame['Volatility'] = appleFrame['Log_Ret'].rolling(center=False, window=252).std()*np.sqrt(252)"
   ]
  },
  {
   "cell_type": "code",
   "execution_count": 31,
   "metadata": {},
   "outputs": [
    {
     "data": {
      "image/png": "[encoded data removed]",
      "text/plain": [
       "<Figure size 576x432 with 2 Axes>"
      ]
     },
     "metadata": {},
     "output_type": "display_data"
    }
   ],
   "source": [
    "%matplotlib inline\n",
    "appleFrame[['close', 'Volatility']].plot(subplots=True, color='blue',\n",
    "                                   figsize=(8, 6), grid=True);"
   ]
  }
 ],
 "metadata": {
  "kernelspec": {
   "display_name": "Python 3",
   "language": "python",
   "name": "python3"
  },
  "language_info": {
   "codemirror_mode": {
    "name": "ipython",
    "version": 3
   },
   "file_extension": ".py",
   "mimetype": "text/x-python",
   "name": "python",
   "nbconvert_exporter": "python",
   "pygments_lexer": "ipython3",
   "version": "3.6.5"
  }
 },
 "nbformat": 4,
 "nbformat_minor": 2
}
