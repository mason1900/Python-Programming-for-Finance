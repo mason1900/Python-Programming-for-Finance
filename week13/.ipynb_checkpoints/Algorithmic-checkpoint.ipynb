{
 "cells": [
  {
   "cell_type": "markdown",
   "metadata": {},
   "source": [
    "\n",
    "# CPS600 - Python Programming for Finance \n",
    "###  \n",
    "<img src=\"https://www.syracuse.edu/wp-content/themes/g6-carbon/img/syracuse-university-seal.svg?ver=6.3.9\" style=\"width: 200px;\"/>\n",
    "\n",
    "## Algorithmic Trading & Python Basics Review\n",
    "\n",
    "###  November 27, 2018\n"
   ]
  },
  {
   "cell_type": "code",
   "execution_count": 1,
   "metadata": {},
   "outputs": [],
   "source": [
    "# Usual imports\n",
    "import pandas as pd\n",
    "from iexfinance import get_historical_data\n",
    "from datetime import datetime\n",
    "import numpy as np\n",
    "import matplotlib.pyplot as plt\n",
    "%matplotlib inline\n",
    "\n",
    "# Setting options\n",
    "pd.set_option('display.notebook_repr_html', False)\n",
    "pd.set_option('display.max_columns', 8)\n",
    "pd.set_option('display.max_rows', 10)\n",
    "pd.set_option('display.width', 78)\n",
    "pd.set_option('precision', 6)"
   ]
  },
  {
   "cell_type": "markdown",
   "metadata": {},
   "source": [
    "Some topics to discuss at a high level:\n",
    "\n",
    "* The process of algorithmic trading\n",
    "* Momentum and mean-reversion strategies\n",
    "* Moving averages and their significance in automated decision making\n",
    "* Simple and exponentially weighted moving averages\n",
    "* Common algorithms used in algorithmic trading\n",
    "* Crossovers, including simple and dual moving average crossovers\n",
    "* Pairs trading strategies"
   ]
  },
  {
   "cell_type": "markdown",
   "metadata": {},
   "source": [
    "Let's begin. From *Mastering Pandas*:\n",
    "> Algorithmic trading is the use of an automated system to execute trades in a market."
   ]
  },
  {
   "cell_type": "markdown",
   "metadata": {},
   "source": [
    "There are two basic strategies in algorithmic trading: **momentum strategies** and **mean-reversion** strategies."
   ]
  },
  {
   "cell_type": "markdown",
   "metadata": {},
   "source": [
    "**Momentum Strategies**\n",
    "\n",
    "> In momentum trading, trading focuses on stocks that are moving in a specific direction\n",
    "on high volume, measuring the rate of change in price changes. "
   ]
  },
  {
   "cell_type": "markdown",
   "metadata": {},
   "source": [
    "**Mean-Reversion Strategies**\n",
    "> Mean reversion is a theory in trading that prices and returns will eventually move\n",
    "back towards the mean of the stock or of another historical average, such as the\n",
    "growth of the economy or an industry average."
   ]
  },
  {
   "cell_type": "markdown",
   "metadata": {},
   "source": [
    "**Moving Averages**\n",
    "\n",
    "We will consider two moving averages:\n",
    "\n",
    "* Simple Moving Averages\n",
    "* Exponential Moving Averages"
   ]
  },
  {
   "cell_type": "markdown",
   "metadata": {},
   "source": [
    "**Simple Moving Average**\n",
    "> A moving average is a technical analysis technique that smooths price data by\n",
    "calculating a constantly updated average price. This average is taken over a specific\n",
    "period of time, ranging from minutes, to days, weeks, and months. The period\n",
    "selected depends on the type of movement of interest, such as making a decision\n",
    "on short-term, medium-term, or long-term investment."
   ]
  },
  {
   "cell_type": "markdown",
   "metadata": {},
   "source": [
    "Let's demonstrate:"
   ]
  },
  {
   "cell_type": "code",
   "execution_count": 2,
   "metadata": {},
   "outputs": [],
   "source": [
    "symbol = 'MSFT'\n",
    "\n",
    "# Let's start about five years ago\n",
    "start = datetime(2014, 1, 1)\n",
    "#end   = datetime(2014, 12, 31)\n",
    "\n",
    "\n",
    "# Here is our query.\n",
    "msft = get_historical_data(symbol, start=start, output_format='pandas')\n"
   ]
  },
  {
   "cell_type": "code",
   "execution_count": null,
   "metadata": {},
   "outputs": [],
   "source": [
    "msft.head()"
   ]
  },
  {
   "cell_type": "markdown",
   "metadata": {},
   "source": [
    "Now, we can calculate the rolling means using `pd.rolling_mean()`:"
   ]
  },
  {
   "cell_type": "code",
   "execution_count": 3,
   "metadata": {},
   "outputs": [],
   "source": [
    "# We really should be using Adjusted Close.\n",
    "# It is not available.\n",
    "\n",
    "msft['MA7'] = msft['close'].rolling(7).mean()\n",
    "msft['MA30'] = msft['close'].rolling(30).mean()\n",
    "msft['MA90'] = msft['close'].rolling(90).mean()\n",
    "msft['MA120'] = msft['close'].rolling(120).mean()"
   ]
  },
  {
   "cell_type": "markdown",
   "metadata": {},
   "source": [
    "Then, we plot the price versus various rolling means to see this concept of support:"
   ]
  },
  {
   "cell_type": "code",
   "execution_count": null,
   "metadata": {},
   "outputs": [],
   "source": [
    "msft[['close', 'MA7','MA30', 'MA120']].plot(figsize=(12,8));"
   ]
  },
  {
   "cell_type": "markdown",
   "metadata": {},
   "source": [
    "Here is what we are supposed to notice about this plot:\n",
    "> The price of MSFT had a progressive rise over 2014, and the 120-day rolling mean\n",
    "has functioned as a floor/support, where the price bounces off this floor as it\n",
    "approaches it. The longer the window of the rolling mean, the lower and smoother\n",
    "the floor will be in an uptrending market."
   ]
  },
  {
   "cell_type": "markdown",
   "metadata": {},
   "source": [
    "In contrast, the same moving average functions as a *ceiling* during downtrending periods.This is called *resistance*."
   ]
  },
  {
   "cell_type": "markdown",
   "metadata": {},
   "source": [
    "This simple moving averages are limited in the following ways:\n",
    "\n",
    "* The shorter the window used, the more the noise in the signal feeds into the result.\n",
    "* Even though it uses actual data, it is lagging behind it by the size of the window.\n",
    "* It never reaches the peaks or valleys of the actual data as it is smoothing the data.\n",
    "* It does not tell you anything about the future\n",
    "* The average calculated at the end of the window can be significantly skewed by the values earlier in the window that are significantly skewed from the mean."
   ]
  },
  {
   "cell_type": "markdown",
   "metadata": {},
   "source": [
    "**Exponentially Weighted Average**\n",
    "\n",
    "This method helps to address some of the above concerns."
   ]
  },
  {
   "cell_type": "markdown",
   "metadata": {},
   "source": [
    "> As an example, a span of 10 corresponds to what is commonly referred to as a 10-day\n",
    "exponentially weighted moving average. The following command demonstrates\n",
    "the calculation of the percentage weights that will be used for each data point in a\n",
    "10-span EWMA ( alpha=0.18181818 )"
   ]
  },
  {
   "cell_type": "code",
   "execution_count": null,
   "metadata": {},
   "outputs": [],
   "source": [
    "periods = 10\n",
    "alpha = 2.0/(periods +1)\n",
    "factors = (1-alpha) ** np.arange(1, 11)\n",
    "sum_factors = factors.sum()\n",
    "weights = factors/sum_factors\n",
    "weights"
   ]
  },
  {
   "cell_type": "markdown",
   "metadata": {},
   "source": [
    "Some of the parameters:\n",
    "\n",
    "* The center of mass option specifies the point where half of the number of weights would be on each side of the center of mass.\n",
    "\n",
    "* The half-life specification specifies the period of time for the percentage of the weighting factor to become half of its value.\n",
    "\n"
   ]
  },
  {
   "cell_type": "markdown",
   "metadata": {},
   "source": [
    "Now, let's compare the *simple* and *exponentially weighted* averages:"
   ]
  },
  {
   "cell_type": "code",
   "execution_count": null,
   "metadata": {},
   "outputs": [],
   "source": [
    "span = 90\n",
    "msft_ewma = msft[['close']].copy()\n",
    "msft_ewma['MA90'] = msft_ewma.rolling(span).mean()\n",
    "msft_ewma['EWMA90'] = msft_ewma['close'].ewm(span=span).mean()\n",
    "msft_ewma.plot(figsize=(12, 8));"
   ]
  },
  {
   "cell_type": "markdown",
   "metadata": {},
   "source": [
    "Important things to note about this:\n",
    "\n",
    "* The exponential moving averages exhibit less lag, and, therefore, are more sensitive to recent prices and price changes.\n",
    "\n",
    "* Comparatively, a simple moving average represents a truer average of prices for the entire time period. Therefore, a simple moving average may be better suited to identify the support or resistance level."
   ]
  },
  {
   "cell_type": "markdown",
   "metadata": {},
   "source": [
    "**Technical Analysis Techniques**\n",
    "\n",
    "We will now cover two categories of technical analysis techniques, which utilize moving averages in different ways to be able to determine trends in market movements and hence give us the information needed to make potentially profitable transactions."
   ]
  },
  {
   "cell_type": "markdown",
   "metadata": {},
   "source": [
    "**Crossovers**\n",
    "\n",
    "> A crossover is the most basic type of signal for trading. The simplest form of a\n",
    "crossover is when the price of an asset moves from one side of a moving average to\n",
    "the other."
   ]
  },
  {
   "cell_type": "code",
   "execution_count": null,
   "metadata": {},
   "outputs": [],
   "source": [
    "msft['2014-1':'2014-9'][['close',\n",
    "'MA30']].plot(figsize=(12,8));"
   ]
  },
  {
   "cell_type": "markdown",
   "metadata": {},
   "source": [
    "Basic Idea:\n",
    "\n",
    "* A close above a moving average may signal the beginning of an uptrend.\n",
    "* A close below a moving average may signal the beginning of a downtrend."
   ]
  },
  {
   "cell_type": "markdown",
   "metadata": {},
   "source": [
    "**Dual Moving Average Crossover**\n",
    "\n",
    "Another kind of crossover is one between two moving averages."
   ]
  },
  {
   "cell_type": "code",
   "execution_count": null,
   "metadata": {},
   "outputs": [],
   "source": [
    "msft['2014-1':'2015-1'][['close',\n",
    "'MA30','MA90']].plot(figsize=(12,8));"
   ]
  },
  {
   "cell_type": "markdown",
   "metadata": {},
   "source": [
    "**Pairs Trading**\n",
    "\n",
    "> Pairs trading is a strategy that implements a statistical arbitrage and convergence.\n",
    "The basic idea is that, as we have seen, prices tend to move back to the mean. If two\n",
    "stocks can be identified that have a relatively high correlation, then the change in the\n",
    "difference in price between the two stocks can be used to signal trading events if one\n",
    "of the two moves out of correlation with the other."
   ]
  },
  {
   "cell_type": "markdown",
   "metadata": {},
   "source": [
    "### Python Basics Review\n",
    "\n",
    "Now let's review the Python programming we should be able to do by the end of the course. We'll review some of the finance concepts next time, then finish up by looking at the project next week."
   ]
  }
 ],
 "metadata": {
  "kernelspec": {
   "display_name": "Python 3",
   "language": "python",
   "name": "python3"
  },
  "language_info": {
   "codemirror_mode": {
    "name": "ipython",
    "version": 3
   },
   "file_extension": ".py",
   "mimetype": "text/x-python",
   "name": "python",
   "nbconvert_exporter": "python",
   "pygments_lexer": "ipython3",
   "version": "3.6.6"
  }
 },
 "nbformat": 4,
 "nbformat_minor": 2
}
