{
 "cells": [
  {
   "cell_type": "markdown",
   "metadata": {},
   "source": [
    "# CPS600 - Python Programming for Finance \n",
    "###  \n",
    "<img src=\"https://www.syracuse.edu/wp-content/themes/g6-carbon/img/syracuse-university-seal.svg?ver=6.3.9\" style=\"width: 200px;\"/>\n",
    "\n",
    "## Lab: Portfolio Optimization\n",
    "\n",
    "###  November 6, 2018\n"
   ]
  },
  {
   "cell_type": "markdown",
   "metadata": {},
   "source": [
    "**Exercise 0**\n",
    "\n",
    "Write a function that takes a list of ticker symbols and returns the largest Sharpe ratio achievable with a portfolio built from those stocks."
   ]
  },
  {
   "cell_type": "markdown",
   "metadata": {},
   "source": [
    "**Exercise 1**\n",
    "\n",
    "Do the same, but for the return."
   ]
  },
  {
   "cell_type": "markdown",
   "metadata": {},
   "source": [
    "**Exercise 2**\n",
    "\n",
    "Use your functions from the previous exercises. Get a large list of ticker symbols, say [here](http://www.nasdaq.com/screening/companies-by-industry.aspx?exchange=NASDAQ&render=download), and find a portfolio of $5$ stocks together with appropriate weights such that the expected return is maximized.\n",
    "\n",
    "Try the same for Sharpe ratio.\n",
    "\n",
    "In other words, try out many different combinations of $5$ stocks and see how high you can get the expected return and Sharpe ratio.\n",
    "\n",
    "Have fun with it, automate it as much or as little as you like. The challenge is to find out just how well you can do.\n",
    "\n",
    "The winner will be awarded with a special prize."
   ]
  }
 ],
 "metadata": {
  "kernelspec": {
   "display_name": "Python 3",
   "language": "python",
   "name": "python3"
  },
  "language_info": {
   "codemirror_mode": {
    "name": "ipython",
    "version": 3
   },
   "file_extension": ".py",
   "mimetype": "text/x-python",
   "name": "python",
   "nbconvert_exporter": "python",
   "pygments_lexer": "ipython3",
   "version": "3.6.6"
  }
 },
 "nbformat": 4,
 "nbformat_minor": 2
}
