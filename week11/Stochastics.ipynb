{
 "cells": [
  {
   "cell_type": "markdown",
   "metadata": {},
   "source": [
    "# CPS600 - Python Programming for Finance \n",
    "###  \n",
    "<img src=\"https://www.syracuse.edu/wp-content/themes/g6-carbon/img/syracuse-university-seal.svg?ver=6.3.9\" style=\"width: 200px;\"/>\n",
    "\n",
    "## Stochastic Processes\n",
    "\n",
    "###  November 6, 2018\n"
   ]
  },
  {
   "cell_type": "markdown",
   "metadata": {},
   "source": [
    "We will look this week at some useful statistical tools:"
   ]
  },
  {
   "cell_type": "markdown",
   "metadata": {},
   "source": [
    "* Normality tests\n",
    "* Portfolio theory\n",
    "* Principal component analysis\n",
    "* Bayesian regression\n",
    "* Hypothesis Testing"
   ]
  },
  {
   "cell_type": "markdown",
   "metadata": {},
   "source": [
    "But before we get into that, let's look at *stochastic processes* from Chapter $10$ of the Hilpisch book."
   ]
  },
  {
   "cell_type": "markdown",
   "metadata": {},
   "source": [
    "**Stochastic Processes**"
   ]
  },
  {
   "cell_type": "markdown",
   "metadata": {},
   "source": [
    "From the text:\n",
    "> Stochastics is one of the most important mathematical and numerical disciplines in finance.\n",
    "\n",
    "Then let's treat it with special attention! The main concepts are\n",
    "\n",
    "* Random Number Generation\n",
    "* Simulation\n",
    "* Valuation\n",
    "* Risk Measures"
   ]
  },
  {
   "cell_type": "markdown",
   "metadata": {},
   "source": [
    "**Random Number Generation**\n",
    "\n",
    "Many tools are available for this task in Python. We'll use `numpy`, as usual."
   ]
  },
  {
   "cell_type": "code",
   "execution_count": 1,
   "metadata": {},
   "outputs": [],
   "source": [
    "import numpy as np\n",
    "import numpy.random as npr\n",
    "import matplotlib.pyplot as plt\n",
    "%matplotlib inline"
   ]
  },
  {
   "cell_type": "markdown",
   "metadata": {},
   "source": [
    "As we've seen, we can generate a sample from the half-open interval $[0,1)$:"
   ]
  },
  {
   "cell_type": "code",
   "execution_count": 2,
   "metadata": {},
   "outputs": [
    {
     "data": {
      "text/plain": [
       "array([0.8915479 , 0.65795232, 0.05105131, 0.52090592, 0.76599676,\n",
       "       0.50598071, 0.97376169, 0.32114772, 0.89416096, 0.19151922])"
      ]
     },
     "execution_count": 2,
     "metadata": {},
     "output_type": "execute_result"
    }
   ],
   "source": [
    "npr.rand(10)"
   ]
  },
  {
   "cell_type": "markdown",
   "metadata": {},
   "source": [
    "We can also fill up an array with random values by giving a shape."
   ]
  },
  {
   "cell_type": "code",
   "execution_count": 3,
   "metadata": {},
   "outputs": [
    {
     "data": {
      "text/plain": [
       "array([[0.41989066, 0.11919302, 0.06738007, 0.34807645, 0.86776057],\n",
       "       [0.50364612, 0.89562003, 0.65916201, 0.50889679, 0.71480838],\n",
       "       [0.64275736, 0.72017913, 0.60851155, 0.16382304, 0.89631032],\n",
       "       [0.35827202, 0.45952289, 0.9253876 , 0.76133504, 0.48710681],\n",
       "       [0.20350979, 0.05013173, 0.1476629 , 0.1024961 , 0.8388516 ]])"
      ]
     },
     "execution_count": 3,
     "metadata": {},
     "output_type": "execute_result"
    }
   ],
   "source": [
    "M = npr.rand(5,5)\n",
    "M"
   ]
  },
  {
   "cell_type": "code",
   "execution_count": 4,
   "metadata": {},
   "outputs": [
    {
     "data": {
      "text/plain": [
       "(5, 5)"
      ]
     },
     "execution_count": 4,
     "metadata": {},
     "output_type": "execute_result"
    }
   ],
   "source": [
    "M.shape"
   ]
  },
  {
   "cell_type": "markdown",
   "metadata": {},
   "source": [
    "Here is a neat trick we saw the other day; you can sample from any kind of interval you want:"
   ]
  },
  {
   "cell_type": "code",
   "execution_count": 5,
   "metadata": {},
   "outputs": [
    {
     "data": {
      "text/plain": [
       "array([6.96856035, 8.38715667, 9.73629734, 9.07771771, 6.10626555,\n",
       "       9.59365842, 7.07013914, 8.74851466, 5.39675639, 8.97643187])"
      ]
     },
     "execution_count": 5,
     "metadata": {},
     "output_type": "execute_result"
    }
   ],
   "source": [
    "a = 10.\n",
    "b = 5.\n",
    "npr.rand(10)*(b-a) + a"
   ]
  },
  {
   "cell_type": "markdown",
   "metadata": {},
   "source": [
    "Here we are using broadcasting to do the same with a 2D array:"
   ]
  },
  {
   "cell_type": "code",
   "execution_count": 6,
   "metadata": {},
   "outputs": [
    {
     "data": {
      "text/plain": [
       "array([[5.39201749, 6.57933588, 9.92156175, 6.32856886, 6.67545252],\n",
       "       [5.44529174, 6.37643289, 5.95048537, 7.76005482, 7.7380949 ],\n",
       "       [8.9740312 , 9.87606036, 5.33098928, 6.41420674, 8.95703287],\n",
       "       [5.74982289, 6.73145498, 6.13013277, 5.52258523, 5.75612857],\n",
       "       [5.79177521, 9.68229223, 6.61469128, 8.85350377, 9.5665137 ]])"
      ]
     },
     "execution_count": 6,
     "metadata": {},
     "output_type": "execute_result"
    }
   ],
   "source": [
    "npr.rand(5,5)*(b-a) + a"
   ]
  },
  {
   "cell_type": "markdown",
   "metadata": {},
   "source": [
    "We also saw how to use the uniform random number generator to sample from other distributions. For example the normal:\n",
    "\n",
    "<img src=\"https://upload.wikimedia.org/wikipedia/commons/a/a9/Empirical_Rule.PNG\" style=\"width: 400px;\"/>\n"
   ]
  },
  {
   "cell_type": "markdown",
   "metadata": {},
   "source": [
    "We do this by plugging our uniform sample into the inverse CDF or *quantile function*, also called the *percent point function* or *ppf*:"
   ]
  },
  {
   "cell_type": "code",
   "execution_count": 7,
   "metadata": {},
   "outputs": [
    {
     "data": {
      "text/plain": [
       "(array([  2.,   1.,   3.,   5.,   6.,   8.,  13.,  21.,  34.,  47.,  62.,\n",
       "         74., 118., 137., 184., 240., 257., 295., 359., 408., 501., 530.,\n",
       "        583., 564., 565., 555., 624., 572., 464., 489., 411., 350., 307.,\n",
       "        287., 209., 180., 137., 110.,  81.,  68.,  45.,  34.,  21.,  13.,\n",
       "          8.,   8.,   5.,   1.,   1.,   3.]),\n",
       " array([-3.66064992, -3.51456276, -3.36847559, -3.22238843, -3.07630126,\n",
       "        -2.9302141 , -2.78412693, -2.63803977, -2.49195261, -2.34586544,\n",
       "        -2.19977828, -2.05369111, -1.90760395, -1.76151678, -1.61542962,\n",
       "        -1.46934245, -1.32325529, -1.17716813, -1.03108096, -0.8849938 ,\n",
       "        -0.73890663, -0.59281947, -0.4467323 , -0.30064514, -0.15455797,\n",
       "        -0.00847081,  0.13761635,  0.28370352,  0.42979068,  0.57587785,\n",
       "         0.72196501,  0.86805218,  1.01413934,  1.16022651,  1.30631367,\n",
       "         1.45240084,  1.598488  ,  1.74457516,  1.89066233,  2.03674949,\n",
       "         2.18283666,  2.32892382,  2.47501099,  2.62109815,  2.76718532,\n",
       "         2.91327248,  3.05935964,  3.20544681,  3.35153397,  3.49762114,\n",
       "         3.6437083 ]),\n",
       " <a list of 50 Patch objects>)"
      ]
     },
     "execution_count": 7,
     "metadata": {},
     "output_type": "execute_result"
    },
    {
     "data": {
      "image/png": "[encoded data removed]",
      "text/plain": [
       "<Figure size 432x288 with 1 Axes>"
      ]
     },
     "metadata": {
      "needs_background": "light"
     },
     "output_type": "display_data"
    }
   ],
   "source": [
    "from scipy.stats import norm\n",
    "X = npr.rand(10000)\n",
    "Y = norm.ppf(X)\n",
    "plt.hist(Y, bins=50)"
   ]
  },
  {
   "cell_type": "markdown",
   "metadata": {},
   "source": [
    "Here are some other types of samples provided by `npr`."
   ]
  },
  {
   "cell_type": "code",
   "execution_count": 8,
   "metadata": {},
   "outputs": [],
   "source": [
    "sample_size = 500\n",
    "rn1 = npr.rand(sample_size, 3) # Many observations of 3 columns\n",
    "rn2 = npr.randint(0, 10, sample_size) # Includes 0, not 10. With replacement (obviously)\n",
    "rn3 = npr.sample(size=sample_size) # Random floats in [0.0,1.0)\n",
    "a = [0, 25, 50, 75, 100]\n",
    "rn4 = npr.choice(a, size=sample_size, replace=True) # Sample from a given array"
   ]
  },
  {
   "cell_type": "markdown",
   "metadata": {},
   "source": [
    "Here is a nice depiction of all of these together:"
   ]
  },
  {
   "cell_type": "code",
   "execution_count": 9,
   "metadata": {},
   "outputs": [
    {
     "data": {
      "image/png": "[encoded data removed]",
      "text/plain": [
       "<Figure size 504x504 with 4 Axes>"
      ]
     },
     "metadata": {
      "needs_background": "light"
     },
     "output_type": "display_data"
    }
   ],
   "source": [
    "fig, ((ax1, ax2), (ax3, ax4)) = plt.subplots(nrows=2, ncols=2,figsize=(7,7))\n",
    "\n",
    "ax1.hist(rn1, bins=25, stacked=True)\n",
    "ax1.set_title('rand')\n",
    "ax1.set_ylabel('frequency')\n",
    "ax1.grid(True)\n",
    "ax2.hist(rn2,bins=25)\n",
    "ax2.set_title('randint')\n",
    "ax2.grid(True)\n",
    "ax3.hist(rn3,bins=25)\n",
    "ax3.set_title('sample')\n",
    "ax3.set_ylabel('frequency')\n",
    "ax3.grid(True)\n",
    "ax4.hist(rn4,bins=25)\n",
    "ax4.set_title('choice')\n",
    "ax4.grid(True)"
   ]
  },
  {
   "cell_type": "markdown",
   "metadata": {},
   "source": [
    "It is nice to know the *quantile function* trick above because it illustrates the relationship between CDF and sampling, but we need not do that most of the time because we have plenty of distributions implemented already in `numpy`."
   ]
  },
  {
   "cell_type": "markdown",
   "metadata": {},
   "source": [
    "Let's look at some of these starting with the *standard normal* or *Gaussian*. From the text:\n",
    ">Although\tthere\tis\tmuch\tcriticism\taround\tthe\tuse\tof\t(standard)\tnormal\tdistributions\tin finance,\tthey\tare\tan\tindispensible\ttool\tand\tstill\tthe\tmost\twidely\tused\ttype\tof\tdistribution,\n",
    "in\tanalytical\tas\twell\tas\tnumerical\tapplications.\tOne\treason\tis\tthat\tmany\tfinancial\tmodels\n",
    "directly\trest\tin\tone\tway\tor\tanother\ton\ta\tnormal\tdistribution\tor\ta\tlog-normal\tdistribution."
   ]
  },
  {
   "cell_type": "code",
   "execution_count": 10,
   "metadata": {},
   "outputs": [],
   "source": [
    "sample_size = 500\n",
    "rn1 = npr.standard_normal(sample_size)\n",
    "rn2 = npr.normal(100, 20, sample_size)\n",
    "rn3 = npr.chisquare(df=0.5, size=sample_size)\n",
    "rn4 = npr.poisson(lam=1.0, size=sample_size)"
   ]
  },
  {
   "cell_type": "markdown",
   "metadata": {},
   "source": [
    "Another nifty four-pane plot of these samples:"
   ]
  },
  {
   "cell_type": "code",
   "execution_count": 11,
   "metadata": {},
   "outputs": [
    {
     "data": {
      "image/png": "[encoded data removed]",
      "text/plain": [
       "<Figure size 504x504 with 4 Axes>"
      ]
     },
     "metadata": {
      "needs_background": "light"
     },
     "output_type": "display_data"
    }
   ],
   "source": [
    "fig, ((ax1, ax2), (ax3, ax4)) = plt.subplots(nrows=2, ncols=2,figsize=(7,7))\n",
    "\n",
    "ax1.hist(rn1, bins=25)\n",
    "ax1.set_title('standard normal')\n",
    "ax1.set_ylabel('frequency')\n",
    "ax1.grid(True)\n",
    "ax2.hist(rn2,bins=25)\n",
    "ax2.set_title('normal (100,20)')\n",
    "ax2.grid(True)\n",
    "ax3.hist(rn3,bins=25)\n",
    "ax3.set_title('chi square')\n",
    "ax3.set_ylabel('frequency')\n",
    "ax3.grid(True)\n",
    "ax4.hist(rn4,bins=25)\n",
    "ax4.set_title('Poisson')\n",
    "ax4.grid(True)"
   ]
  },
  {
   "cell_type": "markdown",
   "metadata": {},
   "source": [
    "**Simulation**\n",
    "\n",
    "What we just saw was the mathematical engine inside the stochastic financial models we really care about. *Monte Carlo* simulation is the modeling technique we'll discuss now.\n",
    "\n",
    "Again quoting your text:\n",
    ">Monte\tCarlo\tsimulation\t(MCS)\tis\tamong\tthe\tmost\timportant\tnumerical\ttechniques\tin\n",
    "finance,\tif\tnot\tthe\tmost\timportant\tand\twidely\tused."
   ]
  },
  {
   "cell_type": "markdown",
   "metadata": {},
   "source": [
    "But where does this odd name come from?"
   ]
  },
  {
   "cell_type": "markdown",
   "metadata": {},
   "source": [
    "<img src=\"https://upload.wikimedia.org/wikipedia/commons/f/f3/Le_casino_de_Monte-Carlo.JPG\" style=\"width: 600px;\"/>\n"
   ]
  },
  {
   "cell_type": "markdown",
   "metadata": {},
   "source": [
    "Let's look at the *Black-Scholes-Merton* equation"
   ]
  },
  {
   "cell_type": "markdown",
   "metadata": {},
   "source": [
    "$$ S_T = S_0\\exp((r-\\frac{1}{2}\\sigma^2)T + \\sigma\\sqrt{T}z)$$"
   ]
  },
  {
   "cell_type": "markdown",
   "metadata": {},
   "source": [
    "where\n",
    "\n",
    "* $S_T$ is the index level at time $T$.\n",
    "* $r$ is the constant riskless short rate.\n",
    "* $\\sigma$ is the constant volatility (= standard deviation of returns) of $S$.\n",
    "* $z$ is a *standard normally distributed* random variable."
   ]
  },
  {
   "cell_type": "markdown",
   "metadata": {},
   "source": [
    "Let's set up the simulation."
   ]
  },
  {
   "cell_type": "code",
   "execution_count": 12,
   "metadata": {},
   "outputs": [],
   "source": [
    "S0 = 100 # Initial value\n",
    "r = 0.05 # Constant Short Rate\n",
    "sigma = 0.25 # Volatility\n",
    "T = 2.0 # in years\n",
    "I = 10000 # number of random draws\n",
    "z = npr.standard_normal(I)\n",
    "ST1 = S0*np.exp((r-.5*sigma**2)*T + sigma*np.sqrt(T)*z)"
   ]
  },
  {
   "cell_type": "markdown",
   "metadata": {},
   "source": [
    "Here we visualize this:"
   ]
  },
  {
   "cell_type": "code",
   "execution_count": 13,
   "metadata": {},
   "outputs": [
    {
     "data": {
      "image/png": "[encoded data removed]",
      "text/plain": [
       "<Figure size 432x288 with 1 Axes>"
      ]
     },
     "metadata": {
      "needs_background": "light"
     },
     "output_type": "display_data"
    }
   ],
   "source": [
    "plt.hist(ST1, bins=50)\n",
    "plt.xlabel('index level')\n",
    "plt.ylabel('frequency')\n",
    "plt.grid(True)"
   ]
  },
  {
   "cell_type": "markdown",
   "metadata": {},
   "source": [
    "This should evoke feelings of *log-normality*, i.e. the log of this random variable is normally distributed. Therefore, we can also sample direction from the lognormal:"
   ]
  },
  {
   "cell_type": "code",
   "execution_count": 14,
   "metadata": {},
   "outputs": [],
   "source": [
    "ST2 = S0 * npr.lognormal((r-.5*sigma**2)*T, sigma * np.sqrt(T), size=I)"
   ]
  },
  {
   "cell_type": "markdown",
   "metadata": {},
   "source": [
    "Let's have a look:"
   ]
  },
  {
   "cell_type": "code",
   "execution_count": 15,
   "metadata": {},
   "outputs": [
    {
     "data": {
      "image/png": "[encoded data removed]",
      "text/plain": [
       "<Figure size 432x288 with 1 Axes>"
      ]
     },
     "metadata": {
      "needs_background": "light"
     },
     "output_type": "display_data"
    }
   ],
   "source": [
    "plt.hist(ST2, bins=50)\n",
    "plt.xlabel('index level')\n",
    "plt.ylabel('frequency')\n",
    "plt.grid(True)"
   ]
  },
  {
   "cell_type": "markdown",
   "metadata": {},
   "source": [
    "And now let's compare numerically..."
   ]
  },
  {
   "cell_type": "code",
   "execution_count": 16,
   "metadata": {},
   "outputs": [],
   "source": [
    "import scipy.stats as scs\n",
    "\n",
    "def print_statistics(a1,a2):\n",
    "    sta1=scs.describe(a1)\n",
    "    sta2=scs.describe(a2)\n",
    "    print(\"%14s %14s %14s\" % ('statistic','data set 1', 'data set 2') )\n",
    "    print(45*\"\")\n",
    "    print(\"%14s %14.3f %14.3f\" % ('size', sta1[0], sta2[0]))\n",
    "    print(\"%14s %14.3f %14.3f\" % ('min', sta1[1][0], sta2[1][0]))\n",
    "    print(\"%14s %14.3f %14.3f\" % ('max', sta1[1][1], sta2[1][1]))\n",
    "    print(\"%14s %14.3f %14.3f\" % ('mean', sta1[2], sta2[2]))\n",
    "    print(\"%14s %14.3f %14.3f\" % ('std', np.sqrt(sta1[3]), np.sqrt(sta2[3])))\n",
    "    print(\"%14s %14.3f %14.3f\" % ('skew', sta1[4], sta2[4]))\n",
    "    print(\"%14s %14.3f %14.3f\" % ('kurtosis', sta1[5], sta2[5]))"
   ]
  },
  {
   "cell_type": "markdown",
   "metadata": {},
   "source": [
    "Trying it out:"
   ]
  },
  {
   "cell_type": "code",
   "execution_count": 17,
   "metadata": {},
   "outputs": [
    {
     "name": "stdout",
     "output_type": "stream",
     "text": [
      "     statistic     data set 1     data set 2\n",
      "\n",
      "          size      10000.000      10000.000\n",
      "           min         25.658         29.698\n",
      "           max        504.005        528.590\n",
      "          mean        110.034        110.543\n",
      "           std         39.724         40.118\n",
      "          skew          1.110          1.179\n",
      "      kurtosis          2.524          3.164\n"
     ]
    }
   ],
   "source": [
    "print_statistics(ST1,ST2)"
   ]
  },
  {
   "cell_type": "markdown",
   "metadata": {},
   "source": [
    "Pretty close!"
   ]
  },
  {
   "cell_type": "markdown",
   "metadata": {},
   "source": [
    "**Stochastic Processes**\n",
    "\n",
    "Let's talk about the *processes* that generate these data. Technically speaking, a *Stochastic process* is a sequence of random variables."
   ]
  },
  {
   "cell_type": "markdown",
   "metadata": {},
   "source": [
    "In finance, stochastic processes generally exhibit the *Markov property*:\n",
    "\n",
    ">that\ttomorrow’s\tvalue\tof\tthe\tprocess\tonly\tdepends\ton\ttoday’s\tstate\tof\n",
    "the\tprocess,\tand\tnot\tany\tother\tmore\t“historic”\tstate\tor\teven\tthe\twhole\tpath\thistory.\tThe\n",
    "process\tthen\tis\talso\tcalled\tmemoryless."
   ]
  },
  {
   "cell_type": "markdown",
   "metadata": {},
   "source": [
    "**Geometric Brownian Motion**\n",
    "\n",
    "Consider the BSM model in its differential form:\n",
    "\n",
    "$$ S_t = S_{t-\\Delta t} \\exp((r-\\frac{1}{2}\\sigma^2)\\Delta t + \\sigma\\sqrt{\\Delta t}z_t) $$\n",
    "\n",
    "We translate into Python:"
   ]
  },
  {
   "cell_type": "code",
   "execution_count": 18,
   "metadata": {},
   "outputs": [],
   "source": [
    "I = 10000\n",
    "M = 50\n",
    "dt = T / M\n",
    "S = np.zeros((M+1,I))\n",
    "S[0] = S0\n",
    "for t in range(1,M+1):\n",
    "    S[t] = S[t-1]*np.exp((r - .5*sigma**2)*dt\n",
    "                         + sigma * np.sqrt(dt) * npr.standard_normal(I))"
   ]
  },
  {
   "cell_type": "markdown",
   "metadata": {},
   "source": [
    "Once again our data have a lognormal distribution:"
   ]
  },
  {
   "cell_type": "code",
   "execution_count": 19,
   "metadata": {},
   "outputs": [
    {
     "data": {
      "image/png": "[encoded data removed]",
      "text/plain": [
       "<Figure size 432x288 with 1 Axes>"
      ]
     },
     "metadata": {
      "needs_background": "light"
     },
     "output_type": "display_data"
    }
   ],
   "source": [
    "plt.hist(S[-1], bins=50)\n",
    "plt.xlabel('index level')\n",
    "plt.ylabel('frequency')\n",
    "plt.grid(True)"
   ]
  },
  {
   "cell_type": "markdown",
   "metadata": {},
   "source": [
    "Again, we can compare the summary statistics."
   ]
  },
  {
   "cell_type": "code",
   "execution_count": 20,
   "metadata": {},
   "outputs": [
    {
     "name": "stdout",
     "output_type": "stream",
     "text": [
      "     statistic     data set 1     data set 2\n",
      "\n",
      "          size      10000.000      10000.000\n",
      "           min         26.127         29.698\n",
      "           max        359.987        528.590\n",
      "          mean        110.859        110.543\n",
      "           std         40.089         40.118\n",
      "          skew          1.113          1.179\n",
      "      kurtosis          2.057          3.164\n"
     ]
    }
   ],
   "source": [
    "print_statistics(S[-1],ST2)"
   ]
  },
  {
   "cell_type": "markdown",
   "metadata": {},
   "source": [
    "Then we can visualize the first 10 *simulated paths* (stop and think about what that really means)."
   ]
  },
  {
   "cell_type": "code",
   "execution_count": 21,
   "metadata": {},
   "outputs": [
    {
     "data": {
      "image/png": "[encoded data removed]",
      "text/plain": [
       "<Figure size 432x288 with 1 Axes>"
      ]
     },
     "metadata": {
      "needs_background": "light"
     },
     "output_type": "display_data"
    }
   ],
   "source": [
    "plt.plot(S[:,:10],lw=1.5)\n",
    "plt.xlabel('time')\n",
    "plt.ylabel('index_level')\n",
    "plt.grid(True)"
   ]
  },
  {
   "cell_type": "markdown",
   "metadata": {},
   "source": [
    "That's enough of that for now. We'll pick with the *square-root diffusion* model next time (an example of a mean-reverting process)."
   ]
  },
  {
   "cell_type": "markdown",
   "metadata": {},
   "source": [
    "**Statistics**"
   ]
  },
  {
   "cell_type": "markdown",
   "metadata": {},
   "source": [
    "**Normality Tests**\n",
    "\n",
    "Important financial models rest on the assumption that returns of securities are normally distributed - but this assumption is not always valid.\n",
    "\n",
    "Let's discuss approaches to test a given time series for normality of returns\n"
   ]
  },
  {
   "cell_type": "markdown",
   "metadata": {},
   "source": [
    "**Benchmark Case**\n",
    "\n",
    "We will take another look at *paths* just like the ones we saw above. Let's encapsulate it in a function."
   ]
  },
  {
   "cell_type": "code",
   "execution_count": 22,
   "metadata": {},
   "outputs": [],
   "source": [
    "import matplotlib as mpl\n",
    "import statsmodels.api as sm"
   ]
  },
  {
   "cell_type": "code",
   "execution_count": 23,
   "metadata": {},
   "outputs": [],
   "source": [
    "def gen_paths(S0, r, sigma, T, M, I):\n",
    "    ''' Generate Monte Carlo paths for geometric Brownian motion.\n",
    "    \n",
    "    Parameters\n",
    "    ==========\n",
    "    S0 : float      initial stock/index value\n",
    "    r : float       constant short rate\n",
    "    sigma : float   constant volatility\n",
    "    T : float       final time horizon\n",
    "    M : int         number of time steps/intervals\n",
    "    I : int         number of paths to be simulated\n",
    "        \n",
    "    Returns\n",
    "    =======\n",
    "    paths : ndarray, shape (M + 1, I)\n",
    "        simulated paths given the parameters\n",
    "    '''\n",
    "    dt = float(T) / M\n",
    "    paths = np.zeros((M + 1, I), np.float64)\n",
    "    paths[0] = S0\n",
    "    for t in range(1, M + 1):\n",
    "        rand = np.random.standard_normal(I)\n",
    "        rand = (rand - rand.mean()) / rand.std()\n",
    "        paths[t] = paths[t - 1] * np.exp((r - 0.5 * sigma ** 2) * dt +\n",
    "                                         sigma * np.sqrt(dt) * rand)\n",
    "    return paths"
   ]
  },
  {
   "cell_type": "markdown",
   "metadata": {},
   "source": [
    "Here are the parameters for a Monte Carlo simulation, generating via the function `gen_paths` $250,000$ paths with $50$ time steps each:\n"
   ]
  },
  {
   "cell_type": "code",
   "execution_count": 24,
   "metadata": {},
   "outputs": [],
   "source": [
    "S0 = 100.\n",
    "r = 0.05\n",
    "sigma = 0.2\n",
    "T = 1.0\n",
    "M = 50\n",
    "I = 250000\n",
    "paths = gen_paths(S0, r, sigma, T, M, I)"
   ]
  },
  {
   "cell_type": "markdown",
   "metadata": {},
   "source": [
    "Let's plot again; $10$ simulated paths (out of hundreds of thousands) of geometric Brownian motion."
   ]
  },
  {
   "cell_type": "code",
   "execution_count": 25,
   "metadata": {},
   "outputs": [
    {
     "data": {
      "text/plain": [
       "Text(0, 0.5, 'index level')"
      ]
     },
     "execution_count": 25,
     "metadata": {},
     "output_type": "execute_result"
    },
    {
     "data": {
      "image/png": "[encoded data removed]",
      "text/plain": [
       "<Figure size 432x288 with 1 Axes>"
      ]
     },
     "metadata": {
      "needs_background": "light"
     },
     "output_type": "display_data"
    }
   ],
   "source": [
    "plt.plot(paths[:, :10])\n",
    "plt.grid(True)\n",
    "plt.xlabel('time steps')\n",
    "plt.ylabel('index level')"
   ]
  },
  {
   "cell_type": "markdown",
   "metadata": {},
   "source": [
    "Now we generate an `ndarray` object with all log returns.\n"
   ]
  },
  {
   "cell_type": "code",
   "execution_count": 26,
   "metadata": {},
   "outputs": [],
   "source": [
    "log_returns = np.log(paths[1:] / paths[0:-1]) "
   ]
  },
  {
   "cell_type": "markdown",
   "metadata": {},
   "source": [
    "And here is the first path over all 50 time steps."
   ]
  },
  {
   "cell_type": "code",
   "execution_count": 27,
   "metadata": {},
   "outputs": [
    {
     "data": {
      "text/plain": [
       "array([100.    ,  98.5377, 102.1373,  99.0873,  94.067 ,  91.9849,\n",
       "        93.9068,  95.0215,  94.6091,  96.1838,  97.6349, 102.237 ,\n",
       "       100.313 , 100.1774,  96.665 ,  99.9355, 105.8294, 107.343 ,\n",
       "       103.1832, 105.6556, 105.7956, 110.1965, 108.6645, 106.082 ,\n",
       "       109.339 , 105.879 , 104.744 , 105.6984, 106.9673, 108.1575,\n",
       "       108.6096, 111.6892, 112.0864, 105.8915, 109.8368, 108.8159,\n",
       "       106.5145, 106.2051, 110.8507, 106.7946, 104.4197, 105.5742,\n",
       "       101.8949, 105.9872, 102.6803, 105.6199, 111.1095, 110.3768,\n",
       "       112.9087, 112.6291, 116.6391])"
      ]
     },
     "execution_count": 27,
     "metadata": {},
     "output_type": "execute_result"
    }
   ],
   "source": [
    "paths[:, 0].round(4)"
   ]
  },
  {
   "cell_type": "markdown",
   "metadata": {},
   "source": [
    "And the log-return series for a simulated path"
   ]
  },
  {
   "cell_type": "code",
   "execution_count": 28,
   "metadata": {},
   "outputs": [
    {
     "data": {
      "text/plain": [
       "array([-0.0147,  0.0359, -0.0303, -0.052 , -0.0224,  0.0207,  0.0118,\n",
       "       -0.0043,  0.0165,  0.015 ,  0.0461, -0.019 , -0.0014, -0.0357,\n",
       "        0.0333,  0.0573,  0.0142, -0.0395,  0.0237,  0.0013,  0.0408,\n",
       "       -0.014 , -0.0241,  0.0302, -0.0322, -0.0108,  0.0091,  0.0119,\n",
       "        0.0111,  0.0042,  0.028 ,  0.0035, -0.0569,  0.0366, -0.0093,\n",
       "       -0.0214, -0.0029,  0.0428, -0.0373, -0.0225,  0.011 , -0.0355,\n",
       "        0.0394, -0.0317,  0.0282,  0.0507, -0.0066,  0.0227, -0.0025,\n",
       "        0.035 ])"
      ]
     },
     "execution_count": 28,
     "metadata": {},
     "output_type": "execute_result"
    }
   ],
   "source": [
    "log_returns[:, 0].round(4)"
   ]
  },
  {
   "cell_type": "markdown",
   "metadata": {},
   "source": [
    "Here is a different function for printing statistics"
   ]
  },
  {
   "cell_type": "code",
   "execution_count": 29,
   "metadata": {},
   "outputs": [],
   "source": [
    "def printStatistics(array):\n",
    "    ''' Prints selected statistics.\n",
    "    \n",
    "    Parameters\n",
    "    ==========\n",
    "    array: ndarray\n",
    "        object to generate statistics on\n",
    "    '''\n",
    "    sta = scs.describe(array)\n",
    "    print (\"%14s %15s\" % ('statistic', 'value'))\n",
    "    print (30 * \"-\")\n",
    "    print (\"%14s %15.5f\" % ('size', sta[0]))\n",
    "    print (\"%14s %15.5f\" % ('min', sta[1][0]))\n",
    "    print (\"%14s %15.5f\" % ('max', sta[1][1]))\n",
    "    print (\"%14s %15.5f\" % ('mean', sta[2]))\n",
    "    print (\"%14s %15.5f\" % ('std', np.sqrt(sta[3])))\n",
    "    print (\"%14s %15.5f\" % ('skew', sta[4]))\n",
    "    print (\"%14s %15.5f\" % ('kurtosis', sta[5]))"
   ]
  },
  {
   "cell_type": "markdown",
   "metadata": {},
   "source": [
    "Now we flatten the 2D array and print a summary of all of the log-return data."
   ]
  },
  {
   "cell_type": "code",
   "execution_count": 30,
   "metadata": {},
   "outputs": [
    {
     "name": "stdout",
     "output_type": "stream",
     "text": [
      "     statistic           value\n",
      "------------------------------\n",
      "          size  12500000.00000\n",
      "           min        -0.14225\n",
      "           max         0.14847\n",
      "          mean         0.00060\n",
      "           std         0.02828\n",
      "          skew         0.00022\n",
      "      kurtosis        -0.00223\n"
     ]
    }
   ],
   "source": [
    "printStatistics(log_returns.flatten())"
   ]
  },
  {
   "cell_type": "markdown",
   "metadata": {},
   "source": [
    "One way to test normality is by visual inspection..."
   ]
  },
  {
   "cell_type": "code",
   "execution_count": 31,
   "metadata": {},
   "outputs": [
    {
     "data": {
      "text/plain": [
       "[<matplotlib.lines.Line2D at 0x7f0a9fbba4a8>]"
      ]
     },
     "execution_count": 31,
     "metadata": {},
     "output_type": "execute_result"
    },
    {
     "data": {
      "image/png": "[encoded data removed]",
      "text/plain": [
       "<Figure size 432x288 with 1 Axes>"
      ]
     },
     "metadata": {
      "needs_background": "light"
     },
     "output_type": "display_data"
    }
   ],
   "source": [
    "plt.hist(log_returns.flatten(), bins=70, density=True)\n",
    "plt.grid(True)\n",
    "plt.xlabel('log-return')\n",
    "plt.ylabel('frequency')\n",
    "x = np.linspace(plt.axis()[0], plt.axis()[1])\n",
    "plt.plot(x, scs.norm.pdf(x, loc=r / M, scale=sigma / np.sqrt(M)),\n",
    "         'r', lw=2.0) "
   ]
  },
  {
   "cell_type": "markdown",
   "metadata": {},
   "source": [
    "Another way to graphically 'test' for normality is to create quantile-quantile plot. Here, sample quantile values are compared to theoretical quantile values.\n"
   ]
  },
  {
   "cell_type": "code",
   "execution_count": 32,
   "metadata": {},
   "outputs": [
    {
     "data": {
      "text/plain": [
       "Text(0, 0.5, 'sample quantiles')"
      ]
     },
     "execution_count": 32,
     "metadata": {},
     "output_type": "execute_result"
    },
    {
     "data": {
      "image/png": "[encoded data removed]",
      "text/plain": [
       "<Figure size 432x288 with 1 Axes>"
      ]
     },
     "metadata": {
      "needs_background": "light"
     },
     "output_type": "display_data"
    }
   ],
   "source": [
    "sm.qqplot(log_returns.flatten()[::500], line='s')\n",
    "plt.grid(True)\n",
    "plt.xlabel('theoretical quantiles')\n",
    "plt.ylabel('sample quantiles')"
   ]
  },
  {
   "cell_type": "markdown",
   "metadata": {},
   "source": [
    "Here is a (slightly) more rigorous analysis of normality."
   ]
  },
  {
   "cell_type": "code",
   "execution_count": 33,
   "metadata": {},
   "outputs": [],
   "source": [
    "def normality_tests(array):\n",
    "    ''' Tests for normality distribution of given data set.\n",
    "    \n",
    "    Parameters\n",
    "    ==========\n",
    "    array: ndarray\n",
    "        object to generate statistics on\n",
    "    '''\n",
    "    print (\"Skew of data set  %14.3f\" % scs.skew(array))\n",
    "    print (\"Skew test p-value %14.3f\" % scs.skewtest(array)[1])\n",
    "    print (\"Kurt of data set  %14.3f\" % scs.kurtosis(array))\n",
    "    print (\"Kurt test p-value %14.3f\" % scs.kurtosistest(array)[1])\n",
    "    print (\"Norm test p-value %14.3f\" % scs.normaltest(array)[1])"
   ]
  },
  {
   "cell_type": "code",
   "execution_count": 34,
   "metadata": {},
   "outputs": [
    {
     "name": "stdout",
     "output_type": "stream",
     "text": [
      "Skew of data set           0.000\n",
      "Skew test p-value          0.752\n",
      "Kurt of data set          -0.002\n",
      "Kurt test p-value          0.107\n",
      "Norm test p-value          0.259\n"
     ]
    }
   ],
   "source": [
    "normality_tests(log_returns.flatten())"
   ]
  },
  {
   "cell_type": "markdown",
   "metadata": {},
   "source": [
    "Generally, a *p-value* is the probability of *falsely rejecting the null hypothesis given that the null hypothesis is true*. So we want these p-values to be high. Two of them look pretty high, though it'd be nice if that last guy were higher."
   ]
  },
  {
   "cell_type": "markdown",
   "metadata": {},
   "source": [
    "That was a look at all of the log-return values. Now we will check whether the end-of-period values are log-normal:"
   ]
  },
  {
   "cell_type": "code",
   "execution_count": 35,
   "metadata": {},
   "outputs": [
    {
     "data": {
      "text/plain": [
       "Text(0.5, 1.0, 'log data')"
      ]
     },
     "execution_count": 35,
     "metadata": {},
     "output_type": "execute_result"
    },
    {
     "data": {
      "image/png": "[encoded data removed]",
      "text/plain": [
       "<Figure size 648x288 with 2 Axes>"
      ]
     },
     "metadata": {
      "needs_background": "light"
     },
     "output_type": "display_data"
    }
   ],
   "source": [
    "f, (ax1, ax2) = plt.subplots(1, 2, figsize=(9, 4))\n",
    "ax1.hist(paths[-1], bins=30)\n",
    "ax1.grid(True)\n",
    "ax1.set_xlabel('index level')\n",
    "ax1.set_ylabel('frequency')\n",
    "ax1.set_title('regular data')\n",
    "ax2.hist(np.log(paths[-1]), bins=30)\n",
    "ax2.grid(True)\n",
    "ax2.set_xlabel('log index level')\n",
    "ax2.set_title('log data')"
   ]
  },
  {
   "cell_type": "markdown",
   "metadata": {},
   "source": [
    "Looks pretty normal, if you ask me."
   ]
  },
  {
   "cell_type": "markdown",
   "metadata": {},
   "source": [
    "The statistics for the data set show expected behavior — for example, a mean value close to $105$ and a standard deviation (volatility) close to $20\\%$:"
   ]
  },
  {
   "cell_type": "code",
   "execution_count": 36,
   "metadata": {},
   "outputs": [
    {
     "name": "stdout",
     "output_type": "stream",
     "text": [
      "     statistic           value\n",
      "------------------------------\n",
      "          size    250000.00000\n",
      "           min        42.36338\n",
      "           max       242.14912\n",
      "          mean       105.11920\n",
      "           std        21.19157\n",
      "          skew         0.60756\n",
      "      kurtosis         0.63678\n"
     ]
    }
   ],
   "source": [
    "printStatistics(paths[-1])"
   ]
  },
  {
   "cell_type": "markdown",
   "metadata": {},
   "source": [
    "The mean and volatility are close to what we'd expect based on the parameters $r=.05$ and $\\sigma = .2$"
   ]
  },
  {
   "cell_type": "markdown",
   "metadata": {},
   "source": [
    "The log index level values also have skew and kurtosis values close to zero:"
   ]
  },
  {
   "cell_type": "code",
   "execution_count": 37,
   "metadata": {},
   "outputs": [
    {
     "name": "stdout",
     "output_type": "stream",
     "text": [
      "     statistic           value\n",
      "------------------------------\n",
      "          size    250000.00000\n",
      "           min         3.74628\n",
      "           max         5.48955\n",
      "          mean         4.63517\n",
      "           std         0.19963\n",
      "          skew        -0.00025\n",
      "      kurtosis        -0.01385\n"
     ]
    }
   ],
   "source": [
    "printStatistics(np.log(paths[-1]))"
   ]
  },
  {
   "cell_type": "markdown",
   "metadata": {},
   "source": [
    "This data set also shows high p-values, providing strong support for the normal distribution hypothesis\n"
   ]
  },
  {
   "cell_type": "code",
   "execution_count": 38,
   "metadata": {},
   "outputs": [
    {
     "name": "stdout",
     "output_type": "stream",
     "text": [
      "Skew of data set          -0.000\n",
      "Skew test p-value          0.960\n",
      "Kurt of data set          -0.014\n",
      "Kurt test p-value          0.157\n",
      "Norm test p-value          0.367\n"
     ]
    }
   ],
   "source": [
    "normality_tests(np.log(paths[-1]))"
   ]
  },
  {
   "cell_type": "markdown",
   "metadata": {},
   "source": [
    "Again, visual inspection of the match between our distribution and a normal directly sampled."
   ]
  },
  {
   "cell_type": "code",
   "execution_count": 39,
   "metadata": {},
   "outputs": [
    {
     "data": {
      "text/plain": [
       "<matplotlib.legend.Legend at 0x7f0a9f95e470>"
      ]
     },
     "execution_count": 39,
     "metadata": {},
     "output_type": "execute_result"
    },
    {
     "data": {
      "image/png": "[encoded data removed]",
      "text/plain": [
       "<Figure size 432x288 with 1 Axes>"
      ]
     },
     "metadata": {
      "needs_background": "light"
     },
     "output_type": "display_data"
    }
   ],
   "source": [
    "log_data = np.log(paths[-1])\n",
    "plt.hist(log_data, bins=70, density=True, label='observed')\n",
    "plt.grid(True)\n",
    "plt.xlabel('index levels')\n",
    "plt.ylabel('frequency')\n",
    "x = np.linspace(plt.axis()[0], plt.axis()[1])\n",
    "plt.plot(x, scs.norm.pdf(x, log_data.mean(), log_data.std()),\n",
    "         'r', lw=2.0, label='pdf')\n",
    "plt.legend()"
   ]
  },
  {
   "cell_type": "markdown",
   "metadata": {},
   "source": [
    "And, again, the quantile-quantile plot:"
   ]
  },
  {
   "cell_type": "code",
   "execution_count": 40,
   "metadata": {},
   "outputs": [
    {
     "data": {
      "text/plain": [
       "Text(0, 0.5, 'sample quantiles')"
      ]
     },
     "execution_count": 40,
     "metadata": {},
     "output_type": "execute_result"
    },
    {
     "data": {
      "image/png": "[encoded data removed]",
      "text/plain": [
       "<Figure size 432x288 with 1 Axes>"
      ]
     },
     "metadata": {
      "needs_background": "light"
     },
     "output_type": "display_data"
    }
   ],
   "source": [
    "sm.qqplot(log_data, line='s')\n",
    "plt.grid(True)\n",
    "plt.xlabel('theoretical quantiles')\n",
    "plt.ylabel('sample quantiles')"
   ]
  },
  {
   "cell_type": "markdown",
   "metadata": {},
   "source": [
    "**Real World Data**"
   ]
  },
  {
   "cell_type": "code",
   "execution_count": 41,
   "metadata": {},
   "outputs": [],
   "source": [
    "import pandas as pd\n",
    "from iexfinance import get_historical_data\n",
    "from datetime import datetime"
   ]
  },
  {
   "cell_type": "markdown",
   "metadata": {},
   "source": [
    "We are going to analyze four historical time series: two tracking ETFs (the SPY and DIA) and two stocks (Apple and Google).\n"
   ]
  },
  {
   "cell_type": "code",
   "execution_count": 42,
   "metadata": {},
   "outputs": [],
   "source": [
    "symbols = ['SPY', 'DIA', 'AAPL', 'GOOG']\n",
    "\n",
    "# Let's start four years ago\n",
    "start = datetime(2014, 11, 6)\n",
    "\n",
    "# Here is our query.\n",
    "data = get_historical_data(symbols=symbols, start=start,  output_format='pandas')\n"
   ]
  },
  {
   "cell_type": "markdown",
   "metadata": {},
   "source": [
    "We must convert this to a dataframe - the 'output_format' parameter is not enough because of what `data` actually is:"
   ]
  },
  {
   "cell_type": "code",
   "execution_count": 43,
   "metadata": {},
   "outputs": [
    {
     "data": {
      "text/html": [
       "<div>\n",
       "<style scoped>\n",
       "    .dataframe tbody tr th:only-of-type {\n",
       "        vertical-align: middle;\n",
       "    }\n",
       "\n",
       "    .dataframe tbody tr th {\n",
       "        vertical-align: top;\n",
       "    }\n",
       "\n",
       "    .dataframe thead th {\n",
       "        text-align: right;\n",
       "    }\n",
       "</style>\n",
       "<table border=\"1\" class=\"dataframe\">\n",
       "  <thead>\n",
       "    <tr style=\"text-align: right;\">\n",
       "      <th></th>\n",
       "      <th>open</th>\n",
       "      <th>high</th>\n",
       "      <th>low</th>\n",
       "      <th>close</th>\n",
       "      <th>volume</th>\n",
       "    </tr>\n",
       "    <tr>\n",
       "      <th>date</th>\n",
       "      <th></th>\n",
       "      <th></th>\n",
       "      <th></th>\n",
       "      <th></th>\n",
       "      <th></th>\n",
       "    </tr>\n",
       "  </thead>\n",
       "  <tbody>\n",
       "    <tr>\n",
       "      <th>2014-11-06</th>\n",
       "      <td>186.9475</td>\n",
       "      <td>187.7511</td>\n",
       "      <td>186.2547</td>\n",
       "      <td>187.6495</td>\n",
       "      <td>107089076</td>\n",
       "    </tr>\n",
       "    <tr>\n",
       "      <th>2014-11-07</th>\n",
       "      <td>187.6865</td>\n",
       "      <td>188.0651</td>\n",
       "      <td>187.1507</td>\n",
       "      <td>187.8250</td>\n",
       "      <td>89539712</td>\n",
       "    </tr>\n",
       "    <tr>\n",
       "      <th>2014-11-10</th>\n",
       "      <td>187.8712</td>\n",
       "      <td>188.4716</td>\n",
       "      <td>187.6310</td>\n",
       "      <td>188.4162</td>\n",
       "      <td>66318964</td>\n",
       "    </tr>\n",
       "    <tr>\n",
       "      <th>2014-11-11</th>\n",
       "      <td>188.4855</td>\n",
       "      <td>188.7210</td>\n",
       "      <td>188.1114</td>\n",
       "      <td>188.5963</td>\n",
       "      <td>54499375</td>\n",
       "    </tr>\n",
       "    <tr>\n",
       "      <th>2014-11-12</th>\n",
       "      <td>187.8343</td>\n",
       "      <td>188.6564</td>\n",
       "      <td>187.7973</td>\n",
       "      <td>188.3977</td>\n",
       "      <td>90120295</td>\n",
       "    </tr>\n",
       "    <tr>\n",
       "      <th>2014-11-13</th>\n",
       "      <td>188.5640</td>\n",
       "      <td>189.2013</td>\n",
       "      <td>187.7049</td>\n",
       "      <td>188.6102</td>\n",
       "      <td>85357918</td>\n",
       "    </tr>\n",
       "    <tr>\n",
       "      <th>2014-11-14</th>\n",
       "      <td>188.5455</td>\n",
       "      <td>188.8873</td>\n",
       "      <td>188.1760</td>\n",
       "      <td>188.6564</td>\n",
       "      <td>80417514</td>\n",
       "    </tr>\n",
       "    <tr>\n",
       "      <th>2014-11-17</th>\n",
       "      <td>188.2961</td>\n",
       "      <td>188.9704</td>\n",
       "      <td>188.1114</td>\n",
       "      <td>188.7764</td>\n",
       "      <td>80440954</td>\n",
       "    </tr>\n",
       "    <tr>\n",
       "      <th>2014-11-18</th>\n",
       "      <td>188.8411</td>\n",
       "      <td>190.2082</td>\n",
       "      <td>188.8411</td>\n",
       "      <td>189.8664</td>\n",
       "      <td>76068107</td>\n",
       "    </tr>\n",
       "    <tr>\n",
       "      <th>2014-11-19</th>\n",
       "      <td>189.6447</td>\n",
       "      <td>189.8664</td>\n",
       "      <td>188.7118</td>\n",
       "      <td>189.5616</td>\n",
       "      <td>82373009</td>\n",
       "    </tr>\n",
       "    <tr>\n",
       "      <th>2014-11-20</th>\n",
       "      <td>188.6748</td>\n",
       "      <td>190.0142</td>\n",
       "      <td>188.6009</td>\n",
       "      <td>189.8941</td>\n",
       "      <td>72840326</td>\n",
       "    </tr>\n",
       "    <tr>\n",
       "      <th>2014-11-21</th>\n",
       "      <td>191.7969</td>\n",
       "      <td>191.9858</td>\n",
       "      <td>190.2636</td>\n",
       "      <td>190.9102</td>\n",
       "      <td>142327285</td>\n",
       "    </tr>\n",
       "    <tr>\n",
       "      <th>2014-11-24</th>\n",
       "      <td>191.3628</td>\n",
       "      <td>191.5660</td>\n",
       "      <td>191.1226</td>\n",
       "      <td>191.4459</td>\n",
       "      <td>65880759</td>\n",
       "    </tr>\n",
       "    <tr>\n",
       "      <th>2014-11-25</th>\n",
       "      <td>191.7046</td>\n",
       "      <td>191.9355</td>\n",
       "      <td>191.0210</td>\n",
       "      <td>191.3074</td>\n",
       "      <td>79108301</td>\n",
       "    </tr>\n",
       "    <tr>\n",
       "      <th>2014-11-26</th>\n",
       "      <td>191.4736</td>\n",
       "      <td>191.9078</td>\n",
       "      <td>191.2335</td>\n",
       "      <td>191.7969</td>\n",
       "      <td>62167832</td>\n",
       "    </tr>\n",
       "    <tr>\n",
       "      <th>2014-11-28</th>\n",
       "      <td>191.6584</td>\n",
       "      <td>192.0094</td>\n",
       "      <td>191.1226</td>\n",
       "      <td>191.3905</td>\n",
       "      <td>57890088</td>\n",
       "    </tr>\n",
       "    <tr>\n",
       "      <th>2014-12-01</th>\n",
       "      <td>190.6515</td>\n",
       "      <td>190.7809</td>\n",
       "      <td>189.7094</td>\n",
       "      <td>190.0604</td>\n",
       "      <td>103968354</td>\n",
       "    </tr>\n",
       "    <tr>\n",
       "      <th>2014-12-02</th>\n",
       "      <td>190.1066</td>\n",
       "      <td>191.5198</td>\n",
       "      <td>190.0807</td>\n",
       "      <td>191.2843</td>\n",
       "      <td>74507192</td>\n",
       "    </tr>\n",
       "    <tr>\n",
       "      <th>2014-12-03</th>\n",
       "      <td>191.4829</td>\n",
       "      <td>192.2680</td>\n",
       "      <td>191.2981</td>\n",
       "      <td>192.0279</td>\n",
       "      <td>68951968</td>\n",
       "    </tr>\n",
       "    <tr>\n",
       "      <th>2014-12-04</th>\n",
       "      <td>191.7046</td>\n",
       "      <td>192.3742</td>\n",
       "      <td>190.9287</td>\n",
       "      <td>191.8154</td>\n",
       "      <td>91316591</td>\n",
       "    </tr>\n",
       "    <tr>\n",
       "      <th>2014-12-05</th>\n",
       "      <td>192.0094</td>\n",
       "      <td>192.5636</td>\n",
       "      <td>191.7138</td>\n",
       "      <td>192.1295</td>\n",
       "      <td>91025470</td>\n",
       "    </tr>\n",
       "    <tr>\n",
       "      <th>2014-12-08</th>\n",
       "      <td>191.6861</td>\n",
       "      <td>192.2403</td>\n",
       "      <td>190.2174</td>\n",
       "      <td>190.8455</td>\n",
       "      <td>108588152</td>\n",
       "    </tr>\n",
       "    <tr>\n",
       "      <th>2014-12-09</th>\n",
       "      <td>188.7764</td>\n",
       "      <td>190.8363</td>\n",
       "      <td>188.3515</td>\n",
       "      <td>190.7162</td>\n",
       "      <td>125180054</td>\n",
       "    </tr>\n",
       "    <tr>\n",
       "      <th>2014-12-10</th>\n",
       "      <td>190.1989</td>\n",
       "      <td>190.2636</td>\n",
       "      <td>187.4463</td>\n",
       "      <td>187.6589</td>\n",
       "      <td>159856394</td>\n",
       "    </tr>\n",
       "    <tr>\n",
       "      <th>2014-12-11</th>\n",
       "      <td>188.3238</td>\n",
       "      <td>190.4576</td>\n",
       "      <td>188.1668</td>\n",
       "      <td>188.6102</td>\n",
       "      <td>159012805</td>\n",
       "    </tr>\n",
       "    <tr>\n",
       "      <th>2014-12-12</th>\n",
       "      <td>187.1784</td>\n",
       "      <td>188.2675</td>\n",
       "      <td>185.5250</td>\n",
       "      <td>185.5620</td>\n",
       "      <td>202330191</td>\n",
       "    </tr>\n",
       "    <tr>\n",
       "      <th>2014-12-15</th>\n",
       "      <td>186.5688</td>\n",
       "      <td>187.0768</td>\n",
       "      <td>183.6130</td>\n",
       "      <td>184.2873</td>\n",
       "      <td>189965750</td>\n",
       "    </tr>\n",
       "    <tr>\n",
       "      <th>2014-12-16</th>\n",
       "      <td>183.4282</td>\n",
       "      <td>186.9521</td>\n",
       "      <td>182.7632</td>\n",
       "      <td>182.8093</td>\n",
       "      <td>259543848</td>\n",
       "    </tr>\n",
       "    <tr>\n",
       "      <th>2014-12-17</th>\n",
       "      <td>183.2989</td>\n",
       "      <td>186.9013</td>\n",
       "      <td>183.1603</td>\n",
       "      <td>186.3933</td>\n",
       "      <td>253910092</td>\n",
       "    </tr>\n",
       "    <tr>\n",
       "      <th>2014-12-18</th>\n",
       "      <td>189.1182</td>\n",
       "      <td>196.7202</td>\n",
       "      <td>188.3608</td>\n",
       "      <td>191.0026</td>\n",
       "      <td>257633887</td>\n",
       "    </tr>\n",
       "    <tr>\n",
       "      <th>...</th>\n",
       "      <td>...</td>\n",
       "      <td>...</td>\n",
       "      <td>...</td>\n",
       "      <td>...</td>\n",
       "      <td>...</td>\n",
       "    </tr>\n",
       "    <tr>\n",
       "      <th>2018-10-19</th>\n",
       "      <td>277.1300</td>\n",
       "      <td>279.3000</td>\n",
       "      <td>275.4700</td>\n",
       "      <td>276.2500</td>\n",
       "      <td>139901634</td>\n",
       "    </tr>\n",
       "    <tr>\n",
       "      <th>2018-10-22</th>\n",
       "      <td>277.0000</td>\n",
       "      <td>277.3600</td>\n",
       "      <td>274.4100</td>\n",
       "      <td>275.0100</td>\n",
       "      <td>82415812</td>\n",
       "    </tr>\n",
       "    <tr>\n",
       "      <th>2018-10-23</th>\n",
       "      <td>270.9500</td>\n",
       "      <td>274.8700</td>\n",
       "      <td>268.6100</td>\n",
       "      <td>273.6100</td>\n",
       "      <td>146352719</td>\n",
       "    </tr>\n",
       "    <tr>\n",
       "      <th>2018-10-24</th>\n",
       "      <td>273.3300</td>\n",
       "      <td>273.7600</td>\n",
       "      <td>264.7000</td>\n",
       "      <td>265.3200</td>\n",
       "      <td>177806697</td>\n",
       "    </tr>\n",
       "    <tr>\n",
       "      <th>2018-10-25</th>\n",
       "      <td>267.3800</td>\n",
       "      <td>271.8100</td>\n",
       "      <td>266.2300</td>\n",
       "      <td>270.0800</td>\n",
       "      <td>138061545</td>\n",
       "    </tr>\n",
       "    <tr>\n",
       "      <th>2018-10-26</th>\n",
       "      <td>265.9200</td>\n",
       "      <td>271.0000</td>\n",
       "      <td>262.2900</td>\n",
       "      <td>265.3300</td>\n",
       "      <td>201574596</td>\n",
       "    </tr>\n",
       "    <tr>\n",
       "      <th>2018-10-29</th>\n",
       "      <td>268.8000</td>\n",
       "      <td>270.2500</td>\n",
       "      <td>259.8500</td>\n",
       "      <td>263.8600</td>\n",
       "      <td>160749101</td>\n",
       "    </tr>\n",
       "    <tr>\n",
       "      <th>2018-10-30</th>\n",
       "      <td>263.6700</td>\n",
       "      <td>268.1200</td>\n",
       "      <td>263.1200</td>\n",
       "      <td>267.7700</td>\n",
       "      <td>157115995</td>\n",
       "    </tr>\n",
       "    <tr>\n",
       "      <th>2018-10-31</th>\n",
       "      <td>270.6500</td>\n",
       "      <td>273.2300</td>\n",
       "      <td>270.1200</td>\n",
       "      <td>270.6300</td>\n",
       "      <td>128296325</td>\n",
       "    </tr>\n",
       "    <tr>\n",
       "      <th>2018-11-01</th>\n",
       "      <td>271.6000</td>\n",
       "      <td>273.7300</td>\n",
       "      <td>270.3800</td>\n",
       "      <td>273.5100</td>\n",
       "      <td>99495037</td>\n",
       "    </tr>\n",
       "    <tr>\n",
       "      <th>2018-11-02</th>\n",
       "      <td>274.7500</td>\n",
       "      <td>275.2300</td>\n",
       "      <td>269.5900</td>\n",
       "      <td>271.8900</td>\n",
       "      <td>122634107</td>\n",
       "    </tr>\n",
       "    <tr>\n",
       "      <th>2018-11-05</th>\n",
       "      <td>272.4400</td>\n",
       "      <td>274.0100</td>\n",
       "      <td>271.3500</td>\n",
       "      <td>273.3900</td>\n",
       "      <td>65622482</td>\n",
       "    </tr>\n",
       "    <tr>\n",
       "      <th>2018-11-06</th>\n",
       "      <td>273.3200</td>\n",
       "      <td>275.3000</td>\n",
       "      <td>273.2500</td>\n",
       "      <td>275.1200</td>\n",
       "      <td>60085894</td>\n",
       "    </tr>\n",
       "    <tr>\n",
       "      <th>2018-11-07</th>\n",
       "      <td>277.5600</td>\n",
       "      <td>281.1000</td>\n",
       "      <td>277.0800</td>\n",
       "      <td>281.0100</td>\n",
       "      <td>102752099</td>\n",
       "    </tr>\n",
       "    <tr>\n",
       "      <th>2018-11-08</th>\n",
       "      <td>280.1100</td>\n",
       "      <td>281.2200</td>\n",
       "      <td>279.2200</td>\n",
       "      <td>280.5000</td>\n",
       "      <td>65584886</td>\n",
       "    </tr>\n",
       "    <tr>\n",
       "      <th>2018-11-09</th>\n",
       "      <td>279.0300</td>\n",
       "      <td>279.2400</td>\n",
       "      <td>276.1800</td>\n",
       "      <td>277.7600</td>\n",
       "      <td>98812561</td>\n",
       "    </tr>\n",
       "    <tr>\n",
       "      <th>2018-11-12</th>\n",
       "      <td>277.1900</td>\n",
       "      <td>277.4600</td>\n",
       "      <td>271.9900</td>\n",
       "      <td>272.5700</td>\n",
       "      <td>99673574</td>\n",
       "    </tr>\n",
       "    <tr>\n",
       "      <th>2018-11-13</th>\n",
       "      <td>273.0900</td>\n",
       "      <td>275.3250</td>\n",
       "      <td>271.2500</td>\n",
       "      <td>272.0600</td>\n",
       "      <td>98176610</td>\n",
       "    </tr>\n",
       "    <tr>\n",
       "      <th>2018-11-14</th>\n",
       "      <td>274.1600</td>\n",
       "      <td>274.6100</td>\n",
       "      <td>268.4500</td>\n",
       "      <td>270.2000</td>\n",
       "      <td>125335931</td>\n",
       "    </tr>\n",
       "    <tr>\n",
       "      <th>2018-11-15</th>\n",
       "      <td>268.7800</td>\n",
       "      <td>273.5400</td>\n",
       "      <td>267.0102</td>\n",
       "      <td>273.0200</td>\n",
       "      <td>135101437</td>\n",
       "    </tr>\n",
       "    <tr>\n",
       "      <th>2018-11-16</th>\n",
       "      <td>271.7900</td>\n",
       "      <td>274.7500</td>\n",
       "      <td>271.2100</td>\n",
       "      <td>273.7300</td>\n",
       "      <td>126668040</td>\n",
       "    </tr>\n",
       "    <tr>\n",
       "      <th>2018-11-19</th>\n",
       "      <td>273.0500</td>\n",
       "      <td>273.3800</td>\n",
       "      <td>268.0700</td>\n",
       "      <td>269.1000</td>\n",
       "      <td>103061706</td>\n",
       "    </tr>\n",
       "    <tr>\n",
       "      <th>2018-11-20</th>\n",
       "      <td>265.3600</td>\n",
       "      <td>267.0000</td>\n",
       "      <td>263.1500</td>\n",
       "      <td>264.1200</td>\n",
       "      <td>136021311</td>\n",
       "    </tr>\n",
       "    <tr>\n",
       "      <th>2018-11-21</th>\n",
       "      <td>265.8600</td>\n",
       "      <td>267.1500</td>\n",
       "      <td>265.0100</td>\n",
       "      <td>265.0200</td>\n",
       "      <td>75563743</td>\n",
       "    </tr>\n",
       "    <tr>\n",
       "      <th>2018-11-23</th>\n",
       "      <td>263.1800</td>\n",
       "      <td>264.8234</td>\n",
       "      <td>263.0700</td>\n",
       "      <td>263.2500</td>\n",
       "      <td>42807878</td>\n",
       "    </tr>\n",
       "    <tr>\n",
       "      <th>2018-11-26</th>\n",
       "      <td>265.7800</td>\n",
       "      <td>267.7500</td>\n",
       "      <td>265.3400</td>\n",
       "      <td>267.5000</td>\n",
       "      <td>79981362</td>\n",
       "    </tr>\n",
       "    <tr>\n",
       "      <th>2018-11-27</th>\n",
       "      <td>266.3400</td>\n",
       "      <td>268.4000</td>\n",
       "      <td>265.6600</td>\n",
       "      <td>268.4000</td>\n",
       "      <td>75502441</td>\n",
       "    </tr>\n",
       "    <tr>\n",
       "      <th>2018-11-28</th>\n",
       "      <td>269.6000</td>\n",
       "      <td>274.5800</td>\n",
       "      <td>268.3272</td>\n",
       "      <td>274.5800</td>\n",
       "      <td>127629633</td>\n",
       "    </tr>\n",
       "    <tr>\n",
       "      <th>2018-11-29</th>\n",
       "      <td>273.7100</td>\n",
       "      <td>275.5500</td>\n",
       "      <td>272.4300</td>\n",
       "      <td>273.9800</td>\n",
       "      <td>82346420</td>\n",
       "    </tr>\n",
       "    <tr>\n",
       "      <th>2018-11-30</th>\n",
       "      <td>273.8100</td>\n",
       "      <td>276.2800</td>\n",
       "      <td>273.4500</td>\n",
       "      <td>275.6500</td>\n",
       "      <td>98204190</td>\n",
       "    </tr>\n",
       "  </tbody>\n",
       "</table>\n",
       "<p>1025 rows × 5 columns</p>\n",
       "</div>"
      ],
      "text/plain": [
       "                open      high       low     close     volume\n",
       "date                                                         \n",
       "2014-11-06  186.9475  187.7511  186.2547  187.6495  107089076\n",
       "2014-11-07  187.6865  188.0651  187.1507  187.8250   89539712\n",
       "2014-11-10  187.8712  188.4716  187.6310  188.4162   66318964\n",
       "2014-11-11  188.4855  188.7210  188.1114  188.5963   54499375\n",
       "2014-11-12  187.8343  188.6564  187.7973  188.3977   90120295\n",
       "2014-11-13  188.5640  189.2013  187.7049  188.6102   85357918\n",
       "2014-11-14  188.5455  188.8873  188.1760  188.6564   80417514\n",
       "2014-11-17  188.2961  188.9704  188.1114  188.7764   80440954\n",
       "2014-11-18  188.8411  190.2082  188.8411  189.8664   76068107\n",
       "2014-11-19  189.6447  189.8664  188.7118  189.5616   82373009\n",
       "2014-11-20  188.6748  190.0142  188.6009  189.8941   72840326\n",
       "2014-11-21  191.7969  191.9858  190.2636  190.9102  142327285\n",
       "2014-11-24  191.3628  191.5660  191.1226  191.4459   65880759\n",
       "2014-11-25  191.7046  191.9355  191.0210  191.3074   79108301\n",
       "2014-11-26  191.4736  191.9078  191.2335  191.7969   62167832\n",
       "2014-11-28  191.6584  192.0094  191.1226  191.3905   57890088\n",
       "2014-12-01  190.6515  190.7809  189.7094  190.0604  103968354\n",
       "2014-12-02  190.1066  191.5198  190.0807  191.2843   74507192\n",
       "2014-12-03  191.4829  192.2680  191.2981  192.0279   68951968\n",
       "2014-12-04  191.7046  192.3742  190.9287  191.8154   91316591\n",
       "2014-12-05  192.0094  192.5636  191.7138  192.1295   91025470\n",
       "2014-12-08  191.6861  192.2403  190.2174  190.8455  108588152\n",
       "2014-12-09  188.7764  190.8363  188.3515  190.7162  125180054\n",
       "2014-12-10  190.1989  190.2636  187.4463  187.6589  159856394\n",
       "2014-12-11  188.3238  190.4576  188.1668  188.6102  159012805\n",
       "2014-12-12  187.1784  188.2675  185.5250  185.5620  202330191\n",
       "2014-12-15  186.5688  187.0768  183.6130  184.2873  189965750\n",
       "2014-12-16  183.4282  186.9521  182.7632  182.8093  259543848\n",
       "2014-12-17  183.2989  186.9013  183.1603  186.3933  253910092\n",
       "2014-12-18  189.1182  196.7202  188.3608  191.0026  257633887\n",
       "...              ...       ...       ...       ...        ...\n",
       "2018-10-19  277.1300  279.3000  275.4700  276.2500  139901634\n",
       "2018-10-22  277.0000  277.3600  274.4100  275.0100   82415812\n",
       "2018-10-23  270.9500  274.8700  268.6100  273.6100  146352719\n",
       "2018-10-24  273.3300  273.7600  264.7000  265.3200  177806697\n",
       "2018-10-25  267.3800  271.8100  266.2300  270.0800  138061545\n",
       "2018-10-26  265.9200  271.0000  262.2900  265.3300  201574596\n",
       "2018-10-29  268.8000  270.2500  259.8500  263.8600  160749101\n",
       "2018-10-30  263.6700  268.1200  263.1200  267.7700  157115995\n",
       "2018-10-31  270.6500  273.2300  270.1200  270.6300  128296325\n",
       "2018-11-01  271.6000  273.7300  270.3800  273.5100   99495037\n",
       "2018-11-02  274.7500  275.2300  269.5900  271.8900  122634107\n",
       "2018-11-05  272.4400  274.0100  271.3500  273.3900   65622482\n",
       "2018-11-06  273.3200  275.3000  273.2500  275.1200   60085894\n",
       "2018-11-07  277.5600  281.1000  277.0800  281.0100  102752099\n",
       "2018-11-08  280.1100  281.2200  279.2200  280.5000   65584886\n",
       "2018-11-09  279.0300  279.2400  276.1800  277.7600   98812561\n",
       "2018-11-12  277.1900  277.4600  271.9900  272.5700   99673574\n",
       "2018-11-13  273.0900  275.3250  271.2500  272.0600   98176610\n",
       "2018-11-14  274.1600  274.6100  268.4500  270.2000  125335931\n",
       "2018-11-15  268.7800  273.5400  267.0102  273.0200  135101437\n",
       "2018-11-16  271.7900  274.7500  271.2100  273.7300  126668040\n",
       "2018-11-19  273.0500  273.3800  268.0700  269.1000  103061706\n",
       "2018-11-20  265.3600  267.0000  263.1500  264.1200  136021311\n",
       "2018-11-21  265.8600  267.1500  265.0100  265.0200   75563743\n",
       "2018-11-23  263.1800  264.8234  263.0700  263.2500   42807878\n",
       "2018-11-26  265.7800  267.7500  265.3400  267.5000   79981362\n",
       "2018-11-27  266.3400  268.4000  265.6600  268.4000   75502441\n",
       "2018-11-28  269.6000  274.5800  268.3272  274.5800  127629633\n",
       "2018-11-29  273.7100  275.5500  272.4300  273.9800   82346420\n",
       "2018-11-30  273.8100  276.2800  273.4500  275.6500   98204190\n",
       "\n",
       "[1025 rows x 5 columns]"
      ]
     },
     "execution_count": 43,
     "metadata": {},
     "output_type": "execute_result"
    }
   ],
   "source": [
    "data['SPY']"
   ]
  },
  {
   "cell_type": "code",
   "execution_count": 44,
   "metadata": {},
   "outputs": [],
   "source": [
    "frame = pd.DataFrame({c:data[c]['close'] for c in symbols}, columns=symbols)"
   ]
  },
  {
   "cell_type": "markdown",
   "metadata": {},
   "source": [
    "And let's have a look at it.."
   ]
  },
  {
   "cell_type": "code",
   "execution_count": 45,
   "metadata": {},
   "outputs": [
    {
     "name": "stdout",
     "output_type": "stream",
     "text": [
      "<class 'pandas.core.frame.DataFrame'>\n",
      "Index: 1025 entries, 2014-11-06 to 2018-11-30\n",
      "Data columns (total 4 columns):\n",
      "SPY     1025 non-null float64\n",
      "DIA     1025 non-null float64\n",
      "AAPL    1025 non-null float64\n",
      "GOOG    1025 non-null float64\n",
      "dtypes: float64(4)\n",
      "memory usage: 40.0+ KB\n"
     ]
    }
   ],
   "source": [
    "frame.info()"
   ]
  },
  {
   "cell_type": "markdown",
   "metadata": {},
   "source": [
    "And what is in it?"
   ]
  },
  {
   "cell_type": "code",
   "execution_count": 46,
   "metadata": {},
   "outputs": [
    {
     "data": {
      "text/html": [
       "<div>\n",
       "<style scoped>\n",
       "    .dataframe tbody tr th:only-of-type {\n",
       "        vertical-align: middle;\n",
       "    }\n",
       "\n",
       "    .dataframe tbody tr th {\n",
       "        vertical-align: top;\n",
       "    }\n",
       "\n",
       "    .dataframe thead th {\n",
       "        text-align: right;\n",
       "    }\n",
       "</style>\n",
       "<table border=\"1\" class=\"dataframe\">\n",
       "  <thead>\n",
       "    <tr style=\"text-align: right;\">\n",
       "      <th></th>\n",
       "      <th>SPY</th>\n",
       "      <th>DIA</th>\n",
       "      <th>AAPL</th>\n",
       "      <th>GOOG</th>\n",
       "    </tr>\n",
       "    <tr>\n",
       "      <th>date</th>\n",
       "      <th></th>\n",
       "      <th></th>\n",
       "      <th></th>\n",
       "      <th></th>\n",
       "    </tr>\n",
       "  </thead>\n",
       "  <tbody>\n",
       "    <tr>\n",
       "      <th>2014-11-06</th>\n",
       "      <td>187.6495</td>\n",
       "      <td>159.7024</td>\n",
       "      <td>101.3759</td>\n",
       "      <td>542.04</td>\n",
       "    </tr>\n",
       "    <tr>\n",
       "      <th>2014-11-07</th>\n",
       "      <td>187.8250</td>\n",
       "      <td>159.9667</td>\n",
       "      <td>101.6650</td>\n",
       "      <td>541.01</td>\n",
       "    </tr>\n",
       "    <tr>\n",
       "      <th>2014-11-10</th>\n",
       "      <td>188.4162</td>\n",
       "      <td>160.3038</td>\n",
       "      <td>101.4972</td>\n",
       "      <td>547.49</td>\n",
       "    </tr>\n",
       "    <tr>\n",
       "      <th>2014-11-11</th>\n",
       "      <td>188.5963</td>\n",
       "      <td>160.3675</td>\n",
       "      <td>102.3085</td>\n",
       "      <td>550.29</td>\n",
       "    </tr>\n",
       "    <tr>\n",
       "      <th>2014-11-12</th>\n",
       "      <td>188.3977</td>\n",
       "      <td>160.3858</td>\n",
       "      <td>103.7541</td>\n",
       "      <td>547.31</td>\n",
       "    </tr>\n",
       "  </tbody>\n",
       "</table>\n",
       "</div>"
      ],
      "text/plain": [
       "                 SPY       DIA      AAPL    GOOG\n",
       "date                                            \n",
       "2014-11-06  187.6495  159.7024  101.3759  542.04\n",
       "2014-11-07  187.8250  159.9667  101.6650  541.01\n",
       "2014-11-10  188.4162  160.3038  101.4972  547.49\n",
       "2014-11-11  188.5963  160.3675  102.3085  550.29\n",
       "2014-11-12  188.3977  160.3858  103.7541  547.31"
      ]
     },
     "execution_count": 46,
     "metadata": {},
     "output_type": "execute_result"
    }
   ],
   "source": [
    "frame.head()"
   ]
  },
  {
   "cell_type": "markdown",
   "metadata": {},
   "source": [
    "We can get the four time series normalized to a starting value of 100:"
   ]
  },
  {
   "cell_type": "code",
   "execution_count": 47,
   "metadata": {},
   "outputs": [
    {
     "data": {
      "text/plain": [
       "<matplotlib.axes._subplots.AxesSubplot at 0x7f0aca8f7240>"
      ]
     },
     "execution_count": 47,
     "metadata": {},
     "output_type": "execute_result"
    },
    {
     "data": {
      "image/png": "[encoded data removed]",
      "text/plain": [
       "<Figure size 576x432 with 1 Axes>"
      ]
     },
     "metadata": {
      "needs_background": "light"
     },
     "output_type": "display_data"
    }
   ],
   "source": [
    "(frame / frame.iloc[0] * 100).plot(figsize=(8, 6))"
   ]
  },
  {
   "cell_type": "markdown",
   "metadata": {},
   "source": [
    "Once again, we can calculate the log-returns using the shift method:"
   ]
  },
  {
   "cell_type": "code",
   "execution_count": 48,
   "metadata": {},
   "outputs": [
    {
     "data": {
      "text/html": [
       "<div>\n",
       "<style scoped>\n",
       "    .dataframe tbody tr th:only-of-type {\n",
       "        vertical-align: middle;\n",
       "    }\n",
       "\n",
       "    .dataframe tbody tr th {\n",
       "        vertical-align: top;\n",
       "    }\n",
       "\n",
       "    .dataframe thead th {\n",
       "        text-align: right;\n",
       "    }\n",
       "</style>\n",
       "<table border=\"1\" class=\"dataframe\">\n",
       "  <thead>\n",
       "    <tr style=\"text-align: right;\">\n",
       "      <th></th>\n",
       "      <th>SPY</th>\n",
       "      <th>DIA</th>\n",
       "      <th>AAPL</th>\n",
       "      <th>GOOG</th>\n",
       "    </tr>\n",
       "    <tr>\n",
       "      <th>date</th>\n",
       "      <th></th>\n",
       "      <th></th>\n",
       "      <th></th>\n",
       "      <th></th>\n",
       "    </tr>\n",
       "  </thead>\n",
       "  <tbody>\n",
       "    <tr>\n",
       "      <th>2014-11-06</th>\n",
       "      <td>NaN</td>\n",
       "      <td>NaN</td>\n",
       "      <td>NaN</td>\n",
       "      <td>NaN</td>\n",
       "    </tr>\n",
       "    <tr>\n",
       "      <th>2014-11-07</th>\n",
       "      <td>0.000935</td>\n",
       "      <td>0.001654</td>\n",
       "      <td>0.002848</td>\n",
       "      <td>-0.001902</td>\n",
       "    </tr>\n",
       "    <tr>\n",
       "      <th>2014-11-10</th>\n",
       "      <td>0.003143</td>\n",
       "      <td>0.002105</td>\n",
       "      <td>-0.001652</td>\n",
       "      <td>0.011906</td>\n",
       "    </tr>\n",
       "    <tr>\n",
       "      <th>2014-11-11</th>\n",
       "      <td>0.000955</td>\n",
       "      <td>0.000397</td>\n",
       "      <td>0.007962</td>\n",
       "      <td>0.005101</td>\n",
       "    </tr>\n",
       "    <tr>\n",
       "      <th>2014-11-12</th>\n",
       "      <td>-0.001054</td>\n",
       "      <td>0.000114</td>\n",
       "      <td>0.014031</td>\n",
       "      <td>-0.005430</td>\n",
       "    </tr>\n",
       "  </tbody>\n",
       "</table>\n",
       "</div>"
      ],
      "text/plain": [
       "                 SPY       DIA      AAPL      GOOG\n",
       "date                                              \n",
       "2014-11-06       NaN       NaN       NaN       NaN\n",
       "2014-11-07  0.000935  0.001654  0.002848 -0.001902\n",
       "2014-11-10  0.003143  0.002105 -0.001652  0.011906\n",
       "2014-11-11  0.000955  0.000397  0.007962  0.005101\n",
       "2014-11-12 -0.001054  0.000114  0.014031 -0.005430"
      ]
     },
     "execution_count": 48,
     "metadata": {},
     "output_type": "execute_result"
    }
   ],
   "source": [
    "log_returns = np.log(frame / frame.shift(1))\n",
    "log_returns.head()"
   ]
  },
  {
   "cell_type": "markdown",
   "metadata": {},
   "source": [
    "And we have a look.\n",
    "\n",
    "We guess that these distributions are not normal."
   ]
  },
  {
   "cell_type": "code",
   "execution_count": 49,
   "metadata": {},
   "outputs": [
    {
     "data": {
      "text/plain": [
       "array([[<matplotlib.axes._subplots.AxesSubplot object at 0x7f0acd383ba8>,\n",
       "        <matplotlib.axes._subplots.AxesSubplot object at 0x7f0acc947be0>],\n",
       "       [<matplotlib.axes._subplots.AxesSubplot object at 0x7f0acca02e48>,\n",
       "        <matplotlib.axes._subplots.AxesSubplot object at 0x7f0acca8a240>]],\n",
       "      dtype=object)"
      ]
     },
     "execution_count": 49,
     "metadata": {},
     "output_type": "execute_result"
    },
    {
     "data": {
      "image/png": "[encoded data removed]",
      "text/plain": [
       "<Figure size 648x432 with 4 Axes>"
      ]
     },
     "metadata": {
      "needs_background": "light"
     },
     "output_type": "display_data"
    }
   ],
   "source": [
    "log_returns.hist(bins=50, figsize=(9, 6))"
   ]
  },
  {
   "cell_type": "markdown",
   "metadata": {},
   "source": [
    "Let's ask our statistical methods..."
   ]
  },
  {
   "cell_type": "code",
   "execution_count": 50,
   "metadata": {},
   "outputs": [
    {
     "name": "stdout",
     "output_type": "stream",
     "text": [
      "\n",
      "Results for symbol SPY\n",
      "------------------------------\n",
      "     statistic           value\n",
      "------------------------------\n",
      "          size      1024.00000\n",
      "           min        -0.04272\n",
      "           max         0.03767\n",
      "          mean         0.00038\n",
      "           std         0.00825\n",
      "          skew        -0.61704\n",
      "      kurtosis         3.60561\n",
      "\n",
      "Results for symbol DIA\n",
      "------------------------------\n",
      "     statistic           value\n",
      "------------------------------\n",
      "          size      1024.00000\n",
      "           min        -0.04682\n",
      "           max         0.03867\n",
      "          mean         0.00046\n",
      "           std         0.00831\n",
      "          skew        -0.60992\n",
      "      kurtosis         3.55194\n",
      "\n",
      "Results for symbol AAPL\n",
      "------------------------------\n",
      "     statistic           value\n",
      "------------------------------\n",
      "          size      1024.00000\n",
      "           min        -0.06863\n",
      "           max         0.06419\n",
      "          mean         0.00055\n",
      "           std         0.01509\n",
      "          skew        -0.15607\n",
      "      kurtosis         2.94471\n",
      "\n",
      "Results for symbol GOOG\n",
      "------------------------------\n",
      "     statistic           value\n",
      "------------------------------\n",
      "          size      1024.00000\n",
      "           min        -0.05464\n",
      "           max         0.14887\n",
      "          mean         0.00069\n",
      "           std         0.01466\n",
      "          skew         0.85934\n",
      "      kurtosis        12.27160\n"
     ]
    }
   ],
   "source": [
    "for sym in symbols:\n",
    "    print (\"\\nResults for symbol %s\" % sym)\n",
    "    print (30 * \"-\")\n",
    "    log_data = np.array(log_returns[sym].dropna())\n",
    "    printStatistics(log_data)"
   ]
  },
  {
   "cell_type": "markdown",
   "metadata": {},
   "source": [
    "The observation here is that the kurtosis is too far off for normality. Intuitively, you should think of it as *peakedness* - look again at the picture!"
   ]
  },
  {
   "cell_type": "markdown",
   "metadata": {},
   "source": [
    "We also have the quantile-quantile plot tool at our disposal:"
   ]
  },
  {
   "cell_type": "code",
   "execution_count": 51,
   "metadata": {},
   "outputs": [
    {
     "data": {
      "text/plain": [
       "Text(0, 0.5, 'sample quantiles')"
      ]
     },
     "execution_count": 51,
     "metadata": {},
     "output_type": "execute_result"
    },
    {
     "data": {
      "image/png": "[encoded data removed]",
      "text/plain": [
       "<Figure size 432x288 with 1 Axes>"
      ]
     },
     "metadata": {
      "needs_background": "light"
     },
     "output_type": "display_data"
    }
   ],
   "source": [
    "sm.qqplot(log_returns['SPY'].dropna(), line='s')\n",
    "plt.grid(True)\n",
    "plt.xlabel('theoretical quantiles')\n",
    "plt.ylabel('sample quantiles')"
   ]
  },
  {
   "cell_type": "code",
   "execution_count": 52,
   "metadata": {},
   "outputs": [
    {
     "data": {
      "text/plain": [
       "Text(0, 0.5, 'sample quantiles')"
      ]
     },
     "execution_count": 52,
     "metadata": {},
     "output_type": "execute_result"
    },
    {
     "data": {
      "image/png": "[encoded data removed]",
      "text/plain": [
       "<Figure size 432x288 with 1 Axes>"
      ]
     },
     "metadata": {
      "needs_background": "light"
     },
     "output_type": "display_data"
    }
   ],
   "source": [
    "sm.qqplot(log_returns['DIA'].dropna(), line='s')\n",
    "plt.grid(True)\n",
    "plt.xlabel('theoretical quantiles')\n",
    "plt.ylabel('sample quantiles')"
   ]
  },
  {
   "cell_type": "code",
   "execution_count": 53,
   "metadata": {},
   "outputs": [
    {
     "data": {
      "text/plain": [
       "Text(0, 0.5, 'sample quantiles')"
      ]
     },
     "execution_count": 53,
     "metadata": {},
     "output_type": "execute_result"
    },
    {
     "data": {
      "image/png": "[encoded data removed]",
      "text/plain": [
       "<Figure size 432x288 with 1 Axes>"
      ]
     },
     "metadata": {
      "needs_background": "light"
     },
     "output_type": "display_data"
    }
   ],
   "source": [
    "sm.qqplot(log_returns['AAPL'].dropna(), line='s')\n",
    "plt.grid(True)\n",
    "plt.xlabel('theoretical quantiles')\n",
    "plt.ylabel('sample quantiles')"
   ]
  },
  {
   "cell_type": "code",
   "execution_count": 54,
   "metadata": {},
   "outputs": [
    {
     "data": {
      "text/plain": [
       "Text(0, 0.5, 'sample quantiles')"
      ]
     },
     "execution_count": 54,
     "metadata": {},
     "output_type": "execute_result"
    },
    {
     "data": {
      "image/png": "[encoded data removed]",
      "text/plain": [
       "<Figure size 432x288 with 1 Axes>"
      ]
     },
     "metadata": {
      "needs_background": "light"
     },
     "output_type": "display_data"
    }
   ],
   "source": [
    "sm.qqplot(log_returns['GOOG'].dropna(), line='s')\n",
    "plt.grid(True)\n",
    "plt.xlabel('theoretical quantiles')\n",
    "plt.ylabel('sample quantiles')"
   ]
  },
  {
   "cell_type": "markdown",
   "metadata": {},
   "source": [
    "The sample quantile values do not lie on a straight line, indicating non-normality. The time series data exhibits fat tails."
   ]
  },
  {
   "cell_type": "markdown",
   "metadata": {},
   "source": [
    "At long last, we go ahead and do the formal normality tests:"
   ]
  },
  {
   "cell_type": "code",
   "execution_count": 55,
   "metadata": {},
   "outputs": [
    {
     "name": "stdout",
     "output_type": "stream",
     "text": [
      "\n",
      "Results for symbol SPY\n",
      "--------------------------------\n",
      "Skew of data set          -0.617\n",
      "Skew test p-value          0.000\n",
      "Kurt of data set           3.606\n",
      "Kurt test p-value          0.000\n",
      "Norm test p-value          0.000\n",
      "\n",
      "Results for symbol DIA\n",
      "--------------------------------\n",
      "Skew of data set          -0.610\n",
      "Skew test p-value          0.000\n",
      "Kurt of data set           3.552\n",
      "Kurt test p-value          0.000\n",
      "Norm test p-value          0.000\n",
      "\n",
      "Results for symbol AAPL\n",
      "--------------------------------\n",
      "Skew of data set          -0.156\n",
      "Skew test p-value          0.041\n",
      "Kurt of data set           2.945\n",
      "Kurt test p-value          0.000\n",
      "Norm test p-value          0.000\n",
      "\n",
      "Results for symbol GOOG\n",
      "--------------------------------\n",
      "Skew of data set           0.859\n",
      "Skew test p-value          0.000\n",
      "Kurt of data set          12.272\n",
      "Kurt test p-value          0.000\n",
      "Norm test p-value          0.000\n"
     ]
    }
   ],
   "source": [
    "for sym in symbols:\n",
    "    print (\"\\nResults for symbol %s\" % sym)\n",
    "    print (32 * \"-\")\n",
    "    log_data = np.array(log_returns[sym].dropna())\n",
    "    normality_tests(log_data)"
   ]
  },
  {
   "cell_type": "markdown",
   "metadata": {},
   "source": [
    "The tiny p-values (effectively zero), means that there is no chance of falsely rejecting the hypothesis of normality. Therefore we reject it."
   ]
  },
  {
   "cell_type": "markdown",
   "metadata": {},
   "source": [
    "**Portfolio Optimization**"
   ]
  },
  {
   "cell_type": "markdown",
   "metadata": {},
   "source": [
    "The following example is based on MPT - *mean-variance portfolio theory*. The basic idea of MPT is diversification to achieve a minimal portfolio risk or maximal portfolio returns given a certain level of risk."
   ]
  },
  {
   "cell_type": "markdown",
   "metadata": {},
   "source": [
    "Let's start with another set of stocks:"
   ]
  },
  {
   "cell_type": "code",
   "execution_count": 56,
   "metadata": {},
   "outputs": [],
   "source": [
    "# New stocks\n",
    "symbols = ['AAPL', 'GOOG', 'MSFT', 'DB', 'GLD']\n",
    "\n",
    "noa = len(symbols)\n",
    "\n",
    "# Let's start four years ago\n",
    "start = datetime(2014, 11, 6)\n",
    "\n",
    "# Here is our query.\n",
    "data = get_historical_data(symbols=symbols, start=start,  output_format='pandas')\n",
    "\n",
    "# Getting just the close values.\n",
    "frame = pd.DataFrame({c:data[c]['close'] for c in symbols}, columns=symbols)"
   ]
  },
  {
   "cell_type": "code",
   "execution_count": 57,
   "metadata": {},
   "outputs": [
    {
     "data": {
      "text/html": [
       "<div>\n",
       "<style scoped>\n",
       "    .dataframe tbody tr th:only-of-type {\n",
       "        vertical-align: middle;\n",
       "    }\n",
       "\n",
       "    .dataframe tbody tr th {\n",
       "        vertical-align: top;\n",
       "    }\n",
       "\n",
       "    .dataframe thead th {\n",
       "        text-align: right;\n",
       "    }\n",
       "</style>\n",
       "<table border=\"1\" class=\"dataframe\">\n",
       "  <thead>\n",
       "    <tr style=\"text-align: right;\">\n",
       "      <th></th>\n",
       "      <th>AAPL</th>\n",
       "      <th>GOOG</th>\n",
       "      <th>MSFT</th>\n",
       "      <th>DB</th>\n",
       "      <th>GLD</th>\n",
       "    </tr>\n",
       "    <tr>\n",
       "      <th>date</th>\n",
       "      <th></th>\n",
       "      <th></th>\n",
       "      <th></th>\n",
       "      <th></th>\n",
       "      <th></th>\n",
       "    </tr>\n",
       "  </thead>\n",
       "  <tbody>\n",
       "    <tr>\n",
       "      <th>2014-11-06</th>\n",
       "      <td>101.3759</td>\n",
       "      <td>542.04</td>\n",
       "      <td>44.0892</td>\n",
       "      <td>29.2518</td>\n",
       "      <td>109.88</td>\n",
       "    </tr>\n",
       "    <tr>\n",
       "      <th>2014-11-07</th>\n",
       "      <td>101.6650</td>\n",
       "      <td>541.01</td>\n",
       "      <td>44.0711</td>\n",
       "      <td>28.8888</td>\n",
       "      <td>112.97</td>\n",
       "    </tr>\n",
       "    <tr>\n",
       "      <th>2014-11-10</th>\n",
       "      <td>101.4972</td>\n",
       "      <td>547.49</td>\n",
       "      <td>44.2612</td>\n",
       "      <td>28.6595</td>\n",
       "      <td>110.46</td>\n",
       "    </tr>\n",
       "    <tr>\n",
       "      <th>2014-11-11</th>\n",
       "      <td>102.3085</td>\n",
       "      <td>550.29</td>\n",
       "      <td>44.2431</td>\n",
       "      <td>28.8028</td>\n",
       "      <td>112.04</td>\n",
       "    </tr>\n",
       "    <tr>\n",
       "      <th>2014-11-12</th>\n",
       "      <td>103.7541</td>\n",
       "      <td>547.31</td>\n",
       "      <td>44.1616</td>\n",
       "      <td>28.2774</td>\n",
       "      <td>111.50</td>\n",
       "    </tr>\n",
       "  </tbody>\n",
       "</table>\n",
       "</div>"
      ],
      "text/plain": [
       "                AAPL    GOOG     MSFT       DB     GLD\n",
       "date                                                  \n",
       "2014-11-06  101.3759  542.04  44.0892  29.2518  109.88\n",
       "2014-11-07  101.6650  541.01  44.0711  28.8888  112.97\n",
       "2014-11-10  101.4972  547.49  44.2612  28.6595  110.46\n",
       "2014-11-11  102.3085  550.29  44.2431  28.8028  112.04\n",
       "2014-11-12  103.7541  547.31  44.1616  28.2774  111.50"
      ]
     },
     "execution_count": 57,
     "metadata": {},
     "output_type": "execute_result"
    }
   ],
   "source": [
    "frame.head()"
   ]
  },
  {
   "cell_type": "markdown",
   "metadata": {},
   "source": [
    "Again, taking a normalized look at it:"
   ]
  },
  {
   "cell_type": "code",
   "execution_count": 58,
   "metadata": {},
   "outputs": [
    {
     "data": {
      "text/plain": [
       "<matplotlib.axes._subplots.AxesSubplot at 0x7f0acd318e48>"
      ]
     },
     "execution_count": 58,
     "metadata": {},
     "output_type": "execute_result"
    },
    {
     "data": {
      "image/png": "[encoded data removed]",
      "text/plain": [
       "<Figure size 576x360 with 1 Axes>"
      ]
     },
     "metadata": {
      "needs_background": "light"
     },
     "output_type": "display_data"
    }
   ],
   "source": [
    "(frame / frame.iloc[0] * 100).plot(figsize=(8, 5))"
   ]
  },
  {
   "cell_type": "markdown",
   "metadata": {},
   "source": [
    "The *mean-variance* in the name for this approach refers to the mean variance of the log-returns of the various securities, calculated thus:"
   ]
  },
  {
   "cell_type": "code",
   "execution_count": 59,
   "metadata": {},
   "outputs": [],
   "source": [
    "rets = np.log(frame / frame.shift(1))"
   ]
  },
  {
   "cell_type": "markdown",
   "metadata": {},
   "source": [
    "We use a factor of $252$ trading days to annualize the daily returns"
   ]
  },
  {
   "cell_type": "code",
   "execution_count": 60,
   "metadata": {},
   "outputs": [
    {
     "data": {
      "text/plain": [
       "AAPL    0.139339\n",
       "GOOG    0.172918\n",
       "MSFT    0.226978\n",
       "DB     -0.285738\n",
       "GLD     0.012361\n",
       "dtype: float64"
      ]
     },
     "execution_count": 60,
     "metadata": {},
     "output_type": "execute_result"
    }
   ],
   "source": [
    "rets.mean() * 252"
   ]
  },
  {
   "cell_type": "markdown",
   "metadata": {},
   "source": [
    "We can also get the *covariance matrix*, which says something about how the different stocks vary together."
   ]
  },
  {
   "cell_type": "code",
   "execution_count": 61,
   "metadata": {},
   "outputs": [
    {
     "data": {
      "text/html": [
       "<div>\n",
       "<style scoped>\n",
       "    .dataframe tbody tr th:only-of-type {\n",
       "        vertical-align: middle;\n",
       "    }\n",
       "\n",
       "    .dataframe tbody tr th {\n",
       "        vertical-align: top;\n",
       "    }\n",
       "\n",
       "    .dataframe thead th {\n",
       "        text-align: right;\n",
       "    }\n",
       "</style>\n",
       "<table border=\"1\" class=\"dataframe\">\n",
       "  <thead>\n",
       "    <tr style=\"text-align: right;\">\n",
       "      <th></th>\n",
       "      <th>AAPL</th>\n",
       "      <th>GOOG</th>\n",
       "      <th>MSFT</th>\n",
       "      <th>DB</th>\n",
       "      <th>GLD</th>\n",
       "    </tr>\n",
       "  </thead>\n",
       "  <tbody>\n",
       "    <tr>\n",
       "      <th>AAPL</th>\n",
       "      <td>0.057387</td>\n",
       "      <td>0.027604</td>\n",
       "      <td>0.030334</td>\n",
       "      <td>0.024170</td>\n",
       "      <td>-0.002968</td>\n",
       "    </tr>\n",
       "    <tr>\n",
       "      <th>GOOG</th>\n",
       "      <td>0.027604</td>\n",
       "      <td>0.054157</td>\n",
       "      <td>0.035886</td>\n",
       "      <td>0.024990</td>\n",
       "      <td>-0.002334</td>\n",
       "    </tr>\n",
       "    <tr>\n",
       "      <th>MSFT</th>\n",
       "      <td>0.030334</td>\n",
       "      <td>0.035886</td>\n",
       "      <td>0.054690</td>\n",
       "      <td>0.027467</td>\n",
       "      <td>-0.003153</td>\n",
       "    </tr>\n",
       "    <tr>\n",
       "      <th>DB</th>\n",
       "      <td>0.024170</td>\n",
       "      <td>0.024990</td>\n",
       "      <td>0.027467</td>\n",
       "      <td>0.144649</td>\n",
       "      <td>-0.009080</td>\n",
       "    </tr>\n",
       "    <tr>\n",
       "      <th>GLD</th>\n",
       "      <td>-0.002968</td>\n",
       "      <td>-0.002334</td>\n",
       "      <td>-0.003153</td>\n",
       "      <td>-0.009080</td>\n",
       "      <td>0.017732</td>\n",
       "    </tr>\n",
       "  </tbody>\n",
       "</table>\n",
       "</div>"
      ],
      "text/plain": [
       "          AAPL      GOOG      MSFT        DB       GLD\n",
       "AAPL  0.057387  0.027604  0.030334  0.024170 -0.002968\n",
       "GOOG  0.027604  0.054157  0.035886  0.024990 -0.002334\n",
       "MSFT  0.030334  0.035886  0.054690  0.027467 -0.003153\n",
       "DB    0.024170  0.024990  0.027467  0.144649 -0.009080\n",
       "GLD  -0.002968 -0.002334 -0.003153 -0.009080  0.017732"
      ]
     },
     "execution_count": 61,
     "metadata": {},
     "output_type": "execute_result"
    }
   ],
   "source": [
    "rets.cov() * 252"
   ]
  },
  {
   "cell_type": "markdown",
   "metadata": {},
   "source": [
    "**Basic Theory**"
   ]
  },
  {
   "cell_type": "code",
   "execution_count": 62,
   "metadata": {},
   "outputs": [
    {
     "data": {
      "text/plain": [
       "array([0.0353452 , 0.13082727, 0.34659483, 0.4704835 , 0.01674919])"
      ]
     },
     "execution_count": 62,
     "metadata": {},
     "output_type": "execute_result"
    }
   ],
   "source": [
    "weights = np.random.random(noa)\n",
    "weights /= np.sum(weights)\n",
    "weights"
   ]
  },
  {
   "cell_type": "markdown",
   "metadata": {},
   "source": [
    "##### General formula for expected portfolio return\n",
    "\n",
    "$\\Large \\mu_p = E(\\displaystyle\\sum_I w_ir_i) = \\sum_I w_i E(r_i) = \\sum_I w_i \\mu_i = w^T \\mu$\n",
    "\n",
    "$I$ is the number of assets \n",
    "\n",
    "$w_i$  is the weight of asset $i$ ($w_i ≥ 0$, $\\sum_I w_i = 1$)\n",
    "\n",
    "$r_i$ are the state-dependent future returns\n",
    "\n",
    "$\\mu_i$ is the expected return for security $i$\n",
    "\n",
    "$w_T$ is the transpose of the weights vector \n",
    "\n",
    "$\\mu$  is the vector of the expected security returns\n"
   ]
  },
  {
   "cell_type": "markdown",
   "metadata": {},
   "source": [
    "Note that this is another *linear model*. We saw some of those before. Note that there is nothing really profound here; we're just weighting the different returns."
   ]
  },
  {
   "cell_type": "markdown",
   "metadata": {},
   "source": [
    "The expected portfolio return, we multiply again by $252$ to get annualized return values"
   ]
  },
  {
   "cell_type": "code",
   "execution_count": 63,
   "metadata": {},
   "outputs": [
    {
     "data": {
      "text/plain": [
       "-0.028011345391164753"
      ]
     },
     "execution_count": 63,
     "metadata": {},
     "output_type": "execute_result"
    }
   ],
   "source": [
    "np.sum(rets.mean() * weights) * 252"
   ]
  },
  {
   "cell_type": "markdown",
   "metadata": {},
   "source": [
    "It gets a little more interesting when we consider the volatility of our portfolio. For that we'll need the covariance matrix."
   ]
  },
  {
   "cell_type": "markdown",
   "metadata": {},
   "source": [
    "##### Portfolio covariance matrix\n",
    "\n",
    "$\\Large \\sigma_{ij} = \\sigma_{ji} = E((r_i - \\mu_i)(r_j - \\mu_j))$\n",
    "\n",
    "##### variance of a security is a special case of the covariance\n",
    "\n",
    "$\\Large \\sigma_{i}^2 =  E((r_i - \\mu_i)^2)$\n",
    "\n",
    "##### General formula for expected portfolio variance\n",
    "\n",
    "$\\Large \\sigma_{p}^2 =  E((r - \\mu)^2)  = \\displaystyle\\sum_{i \\in I}\\sum_{j \\in I} w_i w_j \\sigma_{ij} = w^T \\sum w$"
   ]
  },
  {
   "cell_type": "markdown",
   "metadata": {},
   "source": [
    "The dot function gives the dot product of two vectors/matrices. The T or transpose method gives the transpose of a vector or matrix. We can use these to calculate the covariance and the standard deviation.\n"
   ]
  },
  {
   "cell_type": "code",
   "execution_count": 64,
   "metadata": {},
   "outputs": [
    {
     "data": {
      "text/plain": [
       "(0.05648972868726497, 0.23767567962933223)"
      ]
     },
     "execution_count": 64,
     "metadata": {},
     "output_type": "execute_result"
    }
   ],
   "source": [
    "(np.dot(weights.T, np.dot(rets.cov() * 252, weights)),\n",
    " np.sqrt(np.dot(weights.T, np.dot(rets.cov() * 252, weights))))"
   ]
  },
  {
   "cell_type": "markdown",
   "metadata": {},
   "source": [
    "Let's implement a Monte Carlo simulation to generate random portfolio weight vectors on a larger scale. For every simulated allocation, we record the resulting expected portfolio return and variance.\n"
   ]
  },
  {
   "cell_type": "code",
   "execution_count": 65,
   "metadata": {},
   "outputs": [],
   "source": [
    "prets = []\n",
    "pvols = []\n",
    "for p in range (2500):\n",
    "    weights = np.random.random(noa)\n",
    "    weights /= np.sum(weights)\n",
    "    prets.append(np.sum(rets.mean() * weights) * 252)\n",
    "    pvols.append(np.sqrt(np.dot(weights.T, \n",
    "                        np.dot(rets.cov() * 252, weights))))\n",
    "prets = np.array(prets)\n",
    "pvols = np.array(pvols)"
   ]
  },
  {
   "cell_type": "code",
   "execution_count": 66,
   "metadata": {},
   "outputs": [
    {
     "data": {
      "text/plain": [
       "<matplotlib.colorbar.Colorbar at 0x7f0a99a65be0>"
      ]
     },
     "execution_count": 66,
     "metadata": {},
     "output_type": "execute_result"
    },
    {
     "data": {
      "image/png": "[encoded data removed]",
      "text/plain": [
       "<Figure size 576x288 with 2 Axes>"
      ]
     },
     "metadata": {
      "needs_background": "light"
     },
     "output_type": "display_data"
    }
   ],
   "source": [
    "plt.figure(figsize=(8, 4))\n",
    "plt.scatter(pvols, prets, c=prets / pvols, marker='o')\n",
    "plt.grid(True)\n",
    "plt.xlabel('expected volatility')\n",
    "plt.ylabel('expected return')\n",
    "plt.colorbar(label='Sharpe ratio')"
   ]
  },
  {
   "cell_type": "markdown",
   "metadata": {},
   "source": [
    "An investor  is generally interested in the maximum return given a fixed risk level or the minimum risk given a fixed return expectation. This set of portfolios then makes up the so-called efficient frontier."
   ]
  },
  {
   "cell_type": "markdown",
   "metadata": {},
   "source": [
    "Check out the definition of the [Sharpe ratio](https://en.wikipedia.org/wiki/Sharpe_ratio). We want it to be high."
   ]
  },
  {
   "cell_type": "markdown",
   "metadata": {},
   "source": [
    "**Optimization**\n",
    "\n",
    "So far we just saw description and simulation - how do we figure out an optimal portfolio weighting, given some set of securities?"
   ]
  },
  {
   "cell_type": "code",
   "execution_count": 67,
   "metadata": {},
   "outputs": [],
   "source": [
    "import scipy.optimize as sco # Time to optimize again."
   ]
  },
  {
   "cell_type": "markdown",
   "metadata": {},
   "source": [
    "Note that the code in the function below refers to the returns floating around in the main namespace - *you will have to do something slightly different in the lab*."
   ]
  },
  {
   "cell_type": "code",
   "execution_count": 68,
   "metadata": {},
   "outputs": [],
   "source": [
    "def statistics(weights):\n",
    "    ''' Return portfolio statistics.\n",
    "    \n",
    "    Parameters\n",
    "    ==========\n",
    "    weights : array-like\n",
    "        weights for different securities in portfolio\n",
    "    \n",
    "    Returns\n",
    "    =======\n",
    "    pret : float\n",
    "        expected portfolio return\n",
    "    pvol : float\n",
    "        expected portfolio volatility\n",
    "    pret / pvol : float\n",
    "        Sharpe ratio for rf=0\n",
    "    '''\n",
    "    weights = np.array(weights)\n",
    "    pret = np.sum(rets.mean() * weights) * 252\n",
    "    pvol = np.sqrt(np.dot(weights.T, np.dot(rets.cov() * 252, weights)))\n",
    "    return np.array([pret, pvol, pret / pvol])"
   ]
  },
  {
   "cell_type": "markdown",
   "metadata": {},
   "source": [
    "The derivation of the optimal portfolios is a constrained optimization problem for which we use the function minimize from the `scipy.optimize` sublibrary.\n",
    "\n",
    "Let us start with the maximization of the Sharpe ratio. Formally, we minimize the negative value of the Sharpe ratio."
   ]
  },
  {
   "cell_type": "code",
   "execution_count": 69,
   "metadata": {},
   "outputs": [],
   "source": [
    "def min_func_sharpe(weights):\n",
    "    return -statistics(weights)[2]"
   ]
  },
  {
   "cell_type": "markdown",
   "metadata": {},
   "source": [
    "Recall how we provide constraints."
   ]
  },
  {
   "cell_type": "code",
   "execution_count": 70,
   "metadata": {},
   "outputs": [],
   "source": [
    "cons = ({'type': 'eq', 'fun': lambda x:  np.sum(x) - 1})\n",
    "bnds = tuple((0, 1) for x in range(noa))"
   ]
  },
  {
   "cell_type": "markdown",
   "metadata": {},
   "source": [
    "Now we do the optimization."
   ]
  },
  {
   "cell_type": "code",
   "execution_count": 71,
   "metadata": {},
   "outputs": [],
   "source": [
    "opts = sco.minimize(min_func_sharpe, noa * [1. / noa,], method='SLSQP',\n",
    "                       bounds=bnds, constraints=cons)"
   ]
  },
  {
   "cell_type": "markdown",
   "metadata": {},
   "source": [
    "Let's look at the results. We access the results object by providing the key of interest \n",
    " — i.e., x in our case.\n"
   ]
  },
  {
   "cell_type": "code",
   "execution_count": 72,
   "metadata": {},
   "outputs": [
    {
     "data": {
      "text/plain": [
       "array([0.039, 0.122, 0.596, 0.   , 0.243])"
      ]
     },
     "execution_count": 72,
     "metadata": {},
     "output_type": "execute_result"
    }
   ],
   "source": [
    "opts['x'].round(3)"
   ]
  },
  {
   "cell_type": "markdown",
   "metadata": {},
   "source": [
    "The expected return, volatility and sharpe ratio."
   ]
  },
  {
   "cell_type": "code",
   "execution_count": 73,
   "metadata": {},
   "outputs": [
    {
     "data": {
      "text/plain": [
       "array([0.165, 0.165, 1.   ])"
      ]
     },
     "execution_count": 73,
     "metadata": {},
     "output_type": "execute_result"
    }
   ],
   "source": [
    "statistics(opts['x']).round(3)"
   ]
  },
  {
   "cell_type": "markdown",
   "metadata": {},
   "source": [
    "Now let's minimize the variance of the portfolio. Our function describing it."
   ]
  },
  {
   "cell_type": "code",
   "execution_count": 74,
   "metadata": {},
   "outputs": [],
   "source": [
    "def min_func_variance(weights):\n",
    "    return statistics(weights)[1] ** 2"
   ]
  },
  {
   "cell_type": "markdown",
   "metadata": {},
   "source": [
    "The actual optimization."
   ]
  },
  {
   "cell_type": "code",
   "execution_count": 75,
   "metadata": {},
   "outputs": [],
   "source": [
    "optv = sco.minimize(min_func_variance, noa * [1. / noa,], method='SLSQP',\n",
    "                       bounds=bnds, constraints=cons)"
   ]
  },
  {
   "cell_type": "code",
   "execution_count": 76,
   "metadata": {},
   "outputs": [
    {
     "data": {
      "text/plain": [
       "array([0.105, 0.087, 0.077, 0.066, 0.664])"
      ]
     },
     "execution_count": 76,
     "metadata": {},
     "output_type": "execute_result"
    }
   ],
   "source": [
    "optv['x'].round(3)"
   ]
  },
  {
   "cell_type": "code",
   "execution_count": 77,
   "metadata": {},
   "outputs": [
    {
     "data": {
      "text/plain": [
       "array([0.036, 0.102, 0.357])"
      ]
     },
     "execution_count": 77,
     "metadata": {},
     "output_type": "execute_result"
    }
   ],
   "source": [
    "statistics(optv['x']).round(3)"
   ]
  },
  {
   "cell_type": "markdown",
   "metadata": {},
   "source": [
    "**Efficient Frontier**"
   ]
  },
  {
   "cell_type": "markdown",
   "metadata": {},
   "source": [
    "Now we look at how to calculate the efficient frontier. Remember this means we maximize return subject to a given risk or we minimize risky subject to an expected return."
   ]
  },
  {
   "cell_type": "code",
   "execution_count": 78,
   "metadata": {},
   "outputs": [],
   "source": [
    "cons = ({'type': 'eq', 'fun': lambda x:  statistics(x)[0] - tret},\n",
    "        {'type': 'eq', 'fun': lambda x:  np.sum(x) - 1})\n",
    "bnds = tuple((0, 1) for x in weights)"
   ]
  },
  {
   "cell_type": "code",
   "execution_count": 79,
   "metadata": {},
   "outputs": [],
   "source": [
    "def min_func_port(weights):\n",
    "    return statistics(weights)[1]"
   ]
  },
  {
   "cell_type": "markdown",
   "metadata": {},
   "source": [
    "Quoting from the text:\n",
    ">The\tapproach\twe\ttake\tis\tthat\twe\tfix\ta\ttarget\treturn\tlevel\tand\n",
    "derive\tfor\teach\tsuch\tlevel\tthose\tportfolio\tweights\tthat\tlead\tto\tthe\tminimum\tvolatility\n",
    "value."
   ]
  },
  {
   "cell_type": "code",
   "execution_count": 80,
   "metadata": {},
   "outputs": [],
   "source": [
    "trets = np.linspace(0.0, 0.21, 50)\n",
    "tvols = []\n",
    "for tret in trets:\n",
    "    cons = ({'type': 'eq', 'fun': lambda x:  statistics(x)[0] - tret},\n",
    "            {'type': 'eq', 'fun': lambda x:  np.sum(x) - 1})\n",
    "    res = sco.minimize(min_func_port, noa * [1. / noa,], method='SLSQP',\n",
    "                       bounds=bnds, constraints=cons)\n",
    "    tvols.append(res['fun'])\n",
    "tvols = np.array(tvols)"
   ]
  },
  {
   "cell_type": "markdown",
   "metadata": {},
   "source": [
    "Let's visualize the results:\n",
    ">Crosses\tindicate\tthe\toptimal\tportfolios\tgiven\n",
    "a\tcertain\ttarget\treturn;\tthe\tdots\tare,\tas\tbefore,\tthe\trandom\tportfolios.\tIn\taddition,\tthe\tfigure\n",
    "shows\ttwo\tlarger\tstars:\tone\tfor\tthe\tminimum\tvolatility/variance\tportfolio\t(the\tleftmost\n",
    "portfolio)\tand\tone\tfor\tthe\tportfolio\twith\tthe\tmaximum\tSharpe\tratio:"
   ]
  },
  {
   "cell_type": "code",
   "execution_count": 81,
   "metadata": {},
   "outputs": [
    {
     "data": {
      "text/plain": [
       "<matplotlib.colorbar.Colorbar at 0x7f0a99ac4c88>"
      ]
     },
     "execution_count": 81,
     "metadata": {},
     "output_type": "execute_result"
    },
    {
     "data": {
      "image/png": "[encoded data removed]",
      "text/plain": [
       "<Figure size 576x288 with 2 Axes>"
      ]
     },
     "metadata": {
      "needs_background": "light"
     },
     "output_type": "display_data"
    }
   ],
   "source": [
    "plt.figure(figsize=(8,4))\n",
    "plt.scatter(pvols,prets,c=prets/pvols,marker='o')#random portfolio composition\n",
    "plt.scatter(tvols,trets,c=trets/tvols,marker='x')#efficient frontier\n",
    "#portfolio with highest Sharpe ratio\n",
    "plt.plot(statistics(opts['x'])[1], statistics(opts['x'])[0],'r*',markersize=15.0)\n",
    "#minimum variance portfolio\n",
    "plt.plot(statistics(optv['x'])[1],statistics(optv['x'])[0],'y*',markersize=15.0)\n",
    "plt.grid(True)\n",
    "plt.xlabel('expected volatility')\n",
    "plt.ylabel('expected return')\n",
    "plt.colorbar(label='Sharpe ratio')"
   ]
  },
  {
   "cell_type": "markdown",
   "metadata": {},
   "source": [
    "**Capital Market Line**\n",
    "\n",
    "Let's finish off with the *Capital Market Line*."
   ]
  },
  {
   "cell_type": "code",
   "execution_count": 82,
   "metadata": {},
   "outputs": [],
   "source": [
    "import scipy.interpolate as sci"
   ]
  },
  {
   "cell_type": "code",
   "execution_count": 83,
   "metadata": {},
   "outputs": [],
   "source": [
    "ind = np.argmin(tvols)\n",
    "evols = tvols[ind:]\n",
    "erets = trets[ind:]"
   ]
  },
  {
   "cell_type": "markdown",
   "metadata": {},
   "source": [
    "Interpoloating..."
   ]
  },
  {
   "cell_type": "code",
   "execution_count": 84,
   "metadata": {},
   "outputs": [],
   "source": [
    "tck = sci.splrep(evols, erets)"
   ]
  },
  {
   "cell_type": "markdown",
   "metadata": {},
   "source": [
    "Defining a function describing the frontier and also getting its derivative."
   ]
  },
  {
   "cell_type": "code",
   "execution_count": 85,
   "metadata": {},
   "outputs": [],
   "source": [
    "def f(x):\n",
    "    return sci.splev(x, tck, der=0)\n",
    "def df(x):\n",
    "    return sci.splev(x, tck, der=1)"
   ]
  },
  {
   "cell_type": "markdown",
   "metadata": {},
   "source": [
    "##### What we are looking for is a function t(x) = a + b · x describing the line that passes\n",
    "##### through the riskless asset in risk-return space and that is tangent to the efficient frontier.\n",
    "\n",
    "##### Mathematical conditions for capital market line\n",
    "\n",
    "$\\Large t(x) = a + b \\cdot x$\n",
    "\n",
    "$\\Large t(0) = r_f   \\Leftrightarrow     a = r_f$\n",
    "\n",
    "$\\Large t(x) = f(x)   \\Leftrightarrow   a + b \\cdot x = f(x)$ \n",
    "\n",
    "$\\Large t'(x) = f'(x)  \\Leftrightarrow   b = f'(x)$"
   ]
  },
  {
   "cell_type": "code",
   "execution_count": 86,
   "metadata": {},
   "outputs": [],
   "source": [
    "def equations(p, rf=0.01):\n",
    "    eq1 = rf - p[0]\n",
    "    eq2 = rf + p[1] * p[2] - f(p[2])\n",
    "    eq3 = p[1] - df(p[2])\n",
    "    return eq1, eq2, eq3"
   ]
  },
  {
   "cell_type": "markdown",
   "metadata": {},
   "source": [
    "Solving...."
   ]
  },
  {
   "cell_type": "code",
   "execution_count": 87,
   "metadata": {},
   "outputs": [
    {
     "data": {
      "text/plain": [
       "array([0.01      , 0.9424077 , 0.18259317])"
      ]
     },
     "execution_count": 87,
     "metadata": {},
     "output_type": "execute_result"
    }
   ],
   "source": [
    "opt = sco.fsolve(equations, [0.01, 0.1, 0.1])\n",
    "opt"
   ]
  },
  {
   "cell_type": "markdown",
   "metadata": {},
   "source": [
    "Checking the equations."
   ]
  },
  {
   "cell_type": "code",
   "execution_count": 88,
   "metadata": {},
   "outputs": [
    {
     "data": {
      "text/plain": [
       "array([ 0.,  0., -0.])"
      ]
     },
     "execution_count": 88,
     "metadata": {},
     "output_type": "execute_result"
    }
   ],
   "source": [
    "np.round(equations(opt), 6)"
   ]
  },
  {
   "cell_type": "code",
   "execution_count": 89,
   "metadata": {},
   "outputs": [
    {
     "data": {
      "text/plain": [
       "array([0.14910487, 0.17218751, 0.1535889 , ..., 0.19915229, 0.15715892,\n",
       "       0.15591297])"
      ]
     },
     "execution_count": 89,
     "metadata": {},
     "output_type": "execute_result"
    }
   ],
   "source": [
    "pvols"
   ]
  },
  {
   "cell_type": "code",
   "execution_count": 90,
   "metadata": {},
   "outputs": [
    {
     "data": {
      "text/plain": [
       "array([0.06709969, 0.14972279, 0.05324755, ..., 0.13805565, 0.05421569,\n",
       "       0.13171893])"
      ]
     },
     "execution_count": 90,
     "metadata": {},
     "output_type": "execute_result"
    }
   ],
   "source": [
    "prets"
   ]
  },
  {
   "cell_type": "markdown",
   "metadata": {},
   "source": [
    "Having a look at it."
   ]
  },
  {
   "cell_type": "code",
   "execution_count": 91,
   "metadata": {},
   "outputs": [
    {
     "data": {
      "text/plain": [
       "<matplotlib.colorbar.Colorbar at 0x7f0a99a095c0>"
      ]
     },
     "execution_count": 91,
     "metadata": {},
     "output_type": "execute_result"
    },
    {
     "data": {
      "image/png": "[encoded data removed]",
      "text/plain": [
       "<Figure size 576x288 with 2 Axes>"
      ]
     },
     "metadata": {
      "needs_background": "light"
     },
     "output_type": "display_data"
    }
   ],
   "source": [
    "plt.figure(figsize=(8, 4))\n",
    "plt.scatter(pvols, prets,\n",
    "            c=(prets - 0.01) / pvols, marker='o')\n",
    "            # random portfolio composition\n",
    "plt.plot(evols, erets, 'g', lw=4.0)\n",
    "            # efficient frontier\n",
    "cx = np.linspace(0.0, 0.3)\n",
    "plt.plot(cx, opt[0] + opt[1] * cx, lw=1.5)\n",
    "            # capital market line\n",
    "plt.plot(opt[2], f(opt[2]), 'r*', markersize=15.0) \n",
    "plt.grid(True)\n",
    "plt.axhline(0, color='k', ls='--', lw=2.0)\n",
    "plt.axvline(0, color='k', ls='--', lw=2.0)\n",
    "plt.xlabel('expected volatility')\n",
    "plt.ylabel('expected return')\n",
    "plt.colorbar(label='Sharpe ratio')"
   ]
  },
  {
   "cell_type": "markdown",
   "metadata": {},
   "source": [
    "Beautiful and perfect! Finally, we are interested in the portfolio weights that actually did it for us. What are they?"
   ]
  },
  {
   "cell_type": "code",
   "execution_count": 92,
   "metadata": {},
   "outputs": [],
   "source": [
    "cons = ({'type': 'eq', 'fun': lambda x:  statistics(x)[0] - f(opt[2])},\n",
    "        {'type': 'eq', 'fun': lambda x:  np.sum(x) - 1})\n",
    "res = sco.minimize(min_func_port, noa * [1. / noa,], method='SLSQP',\n",
    "                       bounds=bnds, constraints=cons)"
   ]
  },
  {
   "cell_type": "code",
   "execution_count": 93,
   "metadata": {},
   "outputs": [
    {
     "data": {
      "text/plain": [
       "array([0.024, 0.125, 0.683, 0.   , 0.168])"
      ]
     },
     "execution_count": 93,
     "metadata": {},
     "output_type": "execute_result"
    }
   ],
   "source": [
    "res['x'].round(3)"
   ]
  }
 ],
 "metadata": {
  "kernelspec": {
   "display_name": "Python 3",
   "language": "python",
   "name": "python3"
  },
  "language_info": {
   "codemirror_mode": {
    "name": "ipython",
    "version": 3
   },
   "file_extension": ".py",
   "mimetype": "text/x-python",
   "name": "python",
   "nbconvert_exporter": "python",
   "pygments_lexer": "ipython3",
   "version": "3.6.8"
  }
 },
 "nbformat": 4,
 "nbformat_minor": 2
}
