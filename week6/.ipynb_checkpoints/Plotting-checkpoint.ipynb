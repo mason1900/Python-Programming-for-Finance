{
 "cells": [
  {
   "cell_type": "markdown",
   "metadata": {},
   "source": [
    "# CPS600 - Python Programming for Finance \n",
    "###  \n",
    "<img src=\"https://www.syracuse.edu/wp-content/themes/g6-carbon/img/syracuse-university-seal.svg?ver=6.3.9\" style=\"width: 200px;\"/>\n",
    "\n",
    "# Plotting & Interaction with `bokeh`\n",
    "\n",
    "###  October 4, 2018"
   ]
  },
  {
   "cell_type": "markdown",
   "metadata": {},
   "source": [
    "## `bokeh`"
   ]
  },
  {
   "cell_type": "markdown",
   "metadata": {},
   "source": [
    "Some imports:"
   ]
  },
  {
   "cell_type": "code",
   "execution_count": 2,
   "metadata": {},
   "outputs": [
    {
     "name": "stdout",
     "output_type": "stream",
     "text": [
      "Creating /home/muveexu/.bokeh directory\n",
      "Creating /home/muveexu/.bokeh/data directory\n",
      "Using data directory: /home/muveexu/.bokeh/data\n",
      "Downloading: CGM.csv (1589982 bytes)\n",
      "   1589982 [100.00%]\n",
      "Downloading: US_Counties.zip (3182088 bytes)\n",
      "   3182088 [100.00%]\n",
      "Unpacking: US_Counties.csv\n",
      "Downloading: us_cities.json (713565 bytes)\n",
      "    713565 [100.00%]\n",
      "Downloading: unemployment09.csv (253301 bytes)\n",
      "    253301 [100.00%]\n",
      "Downloading: AAPL.csv (166698 bytes)\n",
      "    166698 [100.00%]\n",
      "Downloading: FB.csv (9706 bytes)\n",
      "      9706 [100.00%]\n",
      "Downloading: GOOG.csv (113894 bytes)\n",
      "    113894 [100.00%]\n",
      "Downloading: IBM.csv (165625 bytes)\n",
      "    165625 [100.00%]\n",
      "Downloading: MSFT.csv (161614 bytes)\n",
      "    161614 [100.00%]\n",
      "Downloading: WPP2012_SA_DB03_POPULATION_QUINQUENNIAL.zip (5148539 bytes)\n",
      "   5148539 [100.00%]\n",
      "Unpacking: WPP2012_SA_DB03_POPULATION_QUINQUENNIAL.csv\n",
      "Downloading: gapminder_fertility.csv (64346 bytes)\n",
      "     64346 [100.00%]\n",
      "Downloading: gapminder_population.csv (94509 bytes)\n",
      "     94509 [100.00%]\n",
      "Downloading: gapminder_life_expectancy.csv (73243 bytes)\n",
      "     73243 [100.00%]\n",
      "Downloading: gapminder_regions.csv (7781 bytes)\n",
      "      7781 [100.00%]\n",
      "Downloading: world_cities.zip (646858 bytes)\n",
      "    646858 [100.00%]\n",
      "Unpacking: world_cities.csv\n",
      "Downloading: airports.json (6373 bytes)\n",
      "      6373 [100.00%]\n",
      "Downloading: movies.db.zip (5067833 bytes)\n",
      "   5067833 [100.00%]\n",
      "Unpacking: movies.db\n",
      "Downloading: airports.csv (203190 bytes)\n",
      "    203190 [100.00%]\n",
      "Downloading: routes.csv (377280 bytes)\n",
      "    377280 [100.00%]\n"
     ]
    }
   ],
   "source": [
    "import bokeh.sampledata\n",
    "#bokeh.sampledata.download()"
   ]
  },
  {
   "cell_type": "code",
   "execution_count": 3,
   "metadata": {},
   "outputs": [],
   "source": [
    "import numpy as np\n",
    "from bokeh.plotting import figure, output_notebook, show"
   ]
  },
  {
   "cell_type": "markdown",
   "metadata": {},
   "source": [
    "A beginning example:"
   ]
  },
  {
   "cell_type": "code",
   "execution_count": null,
   "metadata": {},
   "outputs": [],
   "source": [
    "# Create datapoints\n",
    "x = [0.1, 0.5, 1.0, 1.5, 2.0, 2.5, 3.0]\n",
    "y0 = [i**2 for i in x]\n",
    "y1 = [10**i for i in x]\n",
    "y2 = [10**(i**2) for i in x]\n",
    "\n",
    "# output to our notebook\n",
    "output_notebook()\n",
    "\n",
    "# create a new plot\n",
    "p = figure(\n",
    "   tools=\"pan,box_zoom,reset,save\",\n",
    "   y_axis_type=\"log\", y_range=[0.001, 10**11], title=\"log axis example\",\n",
    "   x_axis_label='sections', y_axis_label='particles'\n",
    ")\n",
    "\n",
    "# add some renderers\n",
    "p.line(x, x, legend=\"y=x\")\n",
    "p.circle(x, x, legend=\"y=x\", fill_color=\"white\", size=8)\n",
    "p.line(x, y0, legend=\"y=x^2\", line_width=3)\n",
    "p.line(x, y1, legend=\"y=10^x\", line_color=\"red\")\n",
    "p.circle(x, y1, legend=\"y=10^x\", fill_color=\"red\", line_color=\"red\", size=6)\n",
    "p.line(x, y2, legend=\"y=10^x^2\", line_color=\"orange\", line_dash=\"4 4\")\n",
    "\n",
    "# show the results\n",
    "show(p)"
   ]
  },
  {
   "cell_type": "markdown",
   "metadata": {},
   "source": [
    "### Concepts"
   ]
  },
  {
   "cell_type": "markdown",
   "metadata": {},
   "source": [
    "The `bokeh` library is actually two libraries: one in Python and one in JS. We will work with the Python side so that we don't have to think about JS.\n",
    "\n",
    "Here are some basic ideas from `bokeh`'s documentation."
   ]
  },
  {
   "cell_type": "markdown",
   "metadata": {},
   "source": [
    "*Plot*\n",
    "> Plots are a central concept in Bokeh. They are containers that hold all the various objects (renderers, guides, data, and tools) that comprise the final visualization that is presented to users. The bokeh.plotting interface provides a Figure class to help with assembling all the necessary objects, and a convenience function figure() for creating Figure objects."
   ]
  },
  {
   "cell_type": "markdown",
   "metadata": {},
   "source": [
    "Glyphs\n",
    "> Glyphs are the basic visual marks that Bokeh can display. At the lowest level, there are glyph objects, such as Line. If you are using the low-level bokeh.models interface, it is your responsibility to create and coordinate all the various Bokeh objects, including glyph objects and their data sources. To make life easier, the bokeh.plotting interface exposes higher level glyph methods such as the Figure.line method used in the first example..."
   ]
  },
  {
   "cell_type": "markdown",
   "metadata": {},
   "source": [
    "*Guides & Annotations*\n",
    ">Bokeh plots can also have other visual components that aid presentation or help the user make comparisons. These fall into two categories. Guides are visual aids that help users judge distances, angles, etc. These include grid lines or bands, axes (such as linear, log, or datetime) that may have ticks and tick labels as well. Annotations are visual aids that label or name parts of the plot. These include titles, legends, etc."
   ]
  },
  {
   "cell_type": "markdown",
   "metadata": {},
   "source": [
    "*Application*\n",
    ">A Bokeh application is a rendered Bokeh document, running in a browser.\n"
   ]
  },
  {
   "cell_type": "markdown",
   "metadata": {},
   "source": [
    "*Document*\n",
    ">An organizing data structure for Bokeh applications. Documents contain all the Bokeh Models and data needed to render an interactive visualization or application in the browser."
   ]
  },
  {
   "cell_type": "markdown",
   "metadata": {},
   "source": [
    "*Embedding*\n",
    ">Various methods of including Bokeh plots and widgets into web apps and pages, or the IPython notebook."
   ]
  },
  {
   "cell_type": "markdown",
   "metadata": {},
   "source": [
    "*Server*\n",
    ">Various methods of including Bokeh plots and widgets into web apps and pages, or the IPython notebook."
   ]
  },
  {
   "cell_type": "markdown",
   "metadata": {},
   "source": [
    "*Widgets*\n",
    ">Various methods of including Bokeh plots and widgets into web apps and pages, or the IPython notebook."
   ]
  },
  {
   "cell_type": "markdown",
   "metadata": {},
   "source": [
    "### Examples"
   ]
  },
  {
   "cell_type": "markdown",
   "metadata": {},
   "source": [
    "Below, we scatter circle markers on a plot. What are these things?"
   ]
  },
  {
   "cell_type": "code",
   "execution_count": null,
   "metadata": {},
   "outputs": [],
   "source": [
    "p = figure(plot_width=400, plot_height=400)\n",
    "\n",
    "# add a circle renderer with a size, color, and alpha\n",
    "p.circle([1, 2, 3, 4, 5], [6, 7, 2, 4, 5], size=20, color=\"navy\", alpha=0.5)\n",
    "\n",
    "# show the results\n",
    "show(p)"
   ]
  },
  {
   "cell_type": "markdown",
   "metadata": {},
   "source": [
    "We can do the same thing with square markers."
   ]
  },
  {
   "cell_type": "code",
   "execution_count": null,
   "metadata": {},
   "outputs": [],
   "source": [
    "q = figure(plot_width=400, plot_height=400)\n",
    "\n",
    "# add a square renderer with a size, color, and alpha\n",
    "q.square([1, 2, 3, 4, 5], [6, 7, 2, 4, 5], size=20, color=\"olive\", alpha=0.5)\n",
    "\n",
    "# show the results\n",
    "show(q)"
   ]
  },
  {
   "cell_type": "markdown",
   "metadata": {},
   "source": [
    "There are many. Here's a good one:"
   ]
  },
  {
   "cell_type": "code",
   "execution_count": null,
   "metadata": {},
   "outputs": [],
   "source": [
    "qq = figure(plot_width=400, plot_height=400)\n",
    "\n",
    "# add a square renderer with a size, color, and alpha\n",
    "qq.x([1, 2, 3, 4, 5], [6, 7, 2, 4, 5], size=20, color=\"red\", alpha=0.5)\n",
    "\n",
    "# show the results\n",
    "show(qq)"
   ]
  },
  {
   "cell_type": "markdown",
   "metadata": {},
   "source": [
    "Notice the inputs and the results. We do pretty much the same thing to create a line. You can make any kind of plot, not just a plot of a function."
   ]
  },
  {
   "cell_type": "code",
   "execution_count": null,
   "metadata": {},
   "outputs": [],
   "source": [
    "pp = figure(plot_width=400, plot_height=400)\n",
    "\n",
    "# add a line renderer\n",
    "pp.line([1,0, 2, 3, 4, 5, 1], [6, 1, 7, 2, 4, 5, 2], line_width=2)\n",
    "\n",
    "show(pp)"
   ]
  },
  {
   "cell_type": "markdown",
   "metadata": {},
   "source": [
    "We can make some funny looking plots with some of these methods."
   ]
  },
  {
   "cell_type": "code",
   "execution_count": null,
   "metadata": {},
   "outputs": [],
   "source": [
    "pp = figure(plot_width=400, plot_height=400)\n",
    "\n",
    "# add a line renderer\n",
    "pp.step([1,0, 2, 3, 4, 5, 1], [6, 1, 7, 2, 4, 5, 2], line_width=2)\n",
    "\n",
    "show(pp)"
   ]
  },
  {
   "cell_type": "markdown",
   "metadata": {},
   "source": [
    "Multiple lines at once. Let's recall a piece of our first example, where we added things one at a time:"
   ]
  },
  {
   "cell_type": "code",
   "execution_count": null,
   "metadata": {},
   "outputs": [],
   "source": [
    "x = [0.1, 0.5, 1.0, 1.5, 2.0, 2.5, 3.0]\n",
    "y0 = [i**2 for i in x]\n",
    "y1 = [10**i for i in x]\n",
    "y2 = [10**(i**2) for i in x]\n",
    "\n",
    "#Create a figure\n",
    "p = figure(plot_width=400, plot_height=400)\n",
    "\n",
    "# Add a line, and then another line:\n",
    "p.line(x, x, legend=\"y=x\")\n",
    "p.line(x, y0, legend=\"y=x^2\", line_width=3)\n",
    "\n",
    "#Show figure\n",
    "show(p)"
   ]
  },
  {
   "cell_type": "markdown",
   "metadata": {},
   "source": [
    "Here, we give the list of lists of x values, then the list of lists of y values."
   ]
  },
  {
   "cell_type": "code",
   "execution_count": null,
   "metadata": {},
   "outputs": [],
   "source": [
    "p = figure(plot_width=400, plot_height=400)\n",
    "\n",
    "p.multi_line([x, x], [x,y0],\n",
    "             color=[\"firebrick\", \"navy\"], alpha=[0.8, 0.3], line_width=4)\n",
    "\n",
    "show(p)"
   ]
  },
  {
   "cell_type": "markdown",
   "metadata": {},
   "source": [
    "Let's look at a few more basic shapes, and then look at some neat examples. Here are vertical and horizontal rectangles:"
   ]
  },
  {
   "cell_type": "code",
   "execution_count": null,
   "metadata": {},
   "outputs": [],
   "source": [
    "p = figure(plot_width=400, plot_height=400)\n",
    "p.vbar(x=[1, 2, 3], width=0.5, bottom=0,\n",
    "       top=[1.2, 2.5, 3.7], color=\"firebrick\")\n",
    "\n",
    "show(p)"
   ]
  },
  {
   "cell_type": "code",
   "execution_count": null,
   "metadata": {},
   "outputs": [],
   "source": [
    "p = figure(plot_width=400, plot_height=400)\n",
    "p.hbar(y=[1, 2, 3], height=0.5, left=0,\n",
    "       right=[1.2, 2.5, 3.7], color=\"navy\")\n",
    "\n",
    "show(p)"
   ]
  },
  {
   "cell_type": "markdown",
   "metadata": {},
   "source": [
    "Here are patches. We saw these in the very beginning (rotating this shape using `numpy` arrays)."
   ]
  },
  {
   "cell_type": "code",
   "execution_count": null,
   "metadata": {},
   "outputs": [],
   "source": [
    "p = figure(plot_width=400, plot_height=400)\n",
    "\n",
    "# add a patch renderer with an alpha an line width\n",
    "p.patch([1, 2, 3, 4, 5], [6, 7, 8, 7, 3], alpha=0.5, line_width=2)\n",
    "\n",
    "show(p)"
   ]
  },
  {
   "cell_type": "markdown",
   "metadata": {},
   "source": [
    "And multiple patches at once:"
   ]
  },
  {
   "cell_type": "code",
   "execution_count": null,
   "metadata": {},
   "outputs": [],
   "source": [
    "p = figure(plot_width=400, plot_height=400)\n",
    "\n",
    "# Notice the similarity with lines\n",
    "p.patches([[1, 3, 2], [3, 4, 6, 6]], [[2, 1, 4], [4, 7, 8, 5]],\n",
    "          color=[\"firebrick\", \"navy\"], alpha=[0.8, 0.3], line_width=2)\n",
    "\n",
    "show(p)"
   ]
  },
  {
   "cell_type": "markdown",
   "metadata": {},
   "source": [
    "Finally, ellipses:"
   ]
  },
  {
   "cell_type": "code",
   "execution_count": null,
   "metadata": {},
   "outputs": [],
   "source": [
    "p = figure(plot_width=400, plot_height=400)\n",
    "p.oval(x=[1, 2, 3], y=[1, 2, 3], width=0.2, height=40, color=\"#CAB2D6\",\n",
    "       angle=np.pi/3, height_units=\"screen\")\n",
    "\n",
    "show(p)"
   ]
  },
  {
   "cell_type": "markdown",
   "metadata": {},
   "source": [
    "**Grid Plots**"
   ]
  },
  {
   "cell_type": "code",
   "execution_count": 1,
   "metadata": {},
   "outputs": [
    {
     "data": {
      "text/html": [
       "\n",
       "    <div class=\"bk-root\">\n",
       "        <a href=\"https://bokeh.pydata.org\" target=\"_blank\" class=\"bk-logo bk-logo-small bk-logo-notebook\"></a>\n",
       "        <span id=\"ebe561ac-c336-4929-8f7f-3ea750fe88cb\">Loading BokehJS ...</span>\n",
       "    </div>"
      ]
     },
     "metadata": {},
     "output_type": "display_data"
    },
    {
     "data": {
      "application/javascript": [
       "\n",
       "(function(root) {\n",
       "  function now() {\n",
       "    return new Date();\n",
       "  }\n",
       "\n",
       "  var force = true;\n",
       "\n",
       "  if (typeof (root._bokeh_onload_callbacks) === \"undefined\" || force === true) {\n",
       "    root._bokeh_onload_callbacks = [];\n",
       "    root._bokeh_is_loading = undefined;\n",
       "  }\n",
       "\n",
       "  var JS_MIME_TYPE = 'application/javascript';\n",
       "  var HTML_MIME_TYPE = 'text/html';\n",
       "  var EXEC_MIME_TYPE = 'application/vnd.bokehjs_exec.v0+json';\n",
       "  var CLASS_NAME = 'output_bokeh rendered_html';\n",
       "\n",
       "  /**\n",
       "   * Render data to the DOM node\n",
       "   */\n",
       "  function render(props, node) {\n",
       "    var script = document.createElement(\"script\");\n",
       "    node.appendChild(script);\n",
       "  }\n",
       "\n",
       "  /**\n",
       "   * Handle when an output is cleared or removed\n",
       "   */\n",
       "  function handleClearOutput(event, handle) {\n",
       "    var cell = handle.cell;\n",
       "\n",
       "    var id = cell.output_area._bokeh_element_id;\n",
       "    var server_id = cell.output_area._bokeh_server_id;\n",
       "    // Clean up Bokeh references\n",
       "    if (id != null && id in Bokeh.index) {\n",
       "      Bokeh.index[id].model.document.clear();\n",
       "      delete Bokeh.index[id];\n",
       "    }\n",
       "\n",
       "    if (server_id !== undefined) {\n",
       "      // Clean up Bokeh references\n",
       "      var cmd = \"from bokeh.io.state import curstate; print(curstate().uuid_to_server['\" + server_id + \"'].get_sessions()[0].document.roots[0]._id)\";\n",
       "      cell.notebook.kernel.execute(cmd, {\n",
       "        iopub: {\n",
       "          output: function(msg) {\n",
       "            var id = msg.content.text.trim();\n",
       "            if (id in Bokeh.index) {\n",
       "              Bokeh.index[id].model.document.clear();\n",
       "              delete Bokeh.index[id];\n",
       "            }\n",
       "          }\n",
       "        }\n",
       "      });\n",
       "      // Destroy server and session\n",
       "      var cmd = \"import bokeh.io.notebook as ion; ion.destroy_server('\" + server_id + \"')\";\n",
       "      cell.notebook.kernel.execute(cmd);\n",
       "    }\n",
       "  }\n",
       "\n",
       "  /**\n",
       "   * Handle when a new output is added\n",
       "   */\n",
       "  function handleAddOutput(event, handle) {\n",
       "    var output_area = handle.output_area;\n",
       "    var output = handle.output;\n",
       "\n",
       "    // limit handleAddOutput to display_data with EXEC_MIME_TYPE content only\n",
       "    if ((output.output_type != \"display_data\") || (!output.data.hasOwnProperty(EXEC_MIME_TYPE))) {\n",
       "      return\n",
       "    }\n",
       "\n",
       "    var toinsert = output_area.element.find(\".\" + CLASS_NAME.split(' ')[0]);\n",
       "\n",
       "    if (output.metadata[EXEC_MIME_TYPE][\"id\"] !== undefined) {\n",
       "      toinsert[toinsert.length - 1].firstChild.textContent = output.data[JS_MIME_TYPE];\n",
       "      // store reference to embed id on output_area\n",
       "      output_area._bokeh_element_id = output.metadata[EXEC_MIME_TYPE][\"id\"];\n",
       "    }\n",
       "    if (output.metadata[EXEC_MIME_TYPE][\"server_id\"] !== undefined) {\n",
       "      var bk_div = document.createElement(\"div\");\n",
       "      bk_div.innerHTML = output.data[HTML_MIME_TYPE];\n",
       "      var script_attrs = bk_div.children[0].attributes;\n",
       "      for (var i = 0; i < script_attrs.length; i++) {\n",
       "        toinsert[toinsert.length - 1].firstChild.setAttribute(script_attrs[i].name, script_attrs[i].value);\n",
       "      }\n",
       "      // store reference to server id on output_area\n",
       "      output_area._bokeh_server_id = output.metadata[EXEC_MIME_TYPE][\"server_id\"];\n",
       "    }\n",
       "  }\n",
       "\n",
       "  function register_renderer(events, OutputArea) {\n",
       "\n",
       "    function append_mime(data, metadata, element) {\n",
       "      // create a DOM node to render to\n",
       "      var toinsert = this.create_output_subarea(\n",
       "        metadata,\n",
       "        CLASS_NAME,\n",
       "        EXEC_MIME_TYPE\n",
       "      );\n",
       "      this.keyboard_manager.register_events(toinsert);\n",
       "      // Render to node\n",
       "      var props = {data: data, metadata: metadata[EXEC_MIME_TYPE]};\n",
       "      render(props, toinsert[toinsert.length - 1]);\n",
       "      element.append(toinsert);\n",
       "      return toinsert\n",
       "    }\n",
       "\n",
       "    /* Handle when an output is cleared or removed */\n",
       "    events.on('clear_output.CodeCell', handleClearOutput);\n",
       "    events.on('delete.Cell', handleClearOutput);\n",
       "\n",
       "    /* Handle when a new output is added */\n",
       "    events.on('output_added.OutputArea', handleAddOutput);\n",
       "\n",
       "    /**\n",
       "     * Register the mime type and append_mime function with output_area\n",
       "     */\n",
       "    OutputArea.prototype.register_mime_type(EXEC_MIME_TYPE, append_mime, {\n",
       "      /* Is output safe? */\n",
       "      safe: true,\n",
       "      /* Index of renderer in `output_area.display_order` */\n",
       "      index: 0\n",
       "    });\n",
       "  }\n",
       "\n",
       "  // register the mime type if in Jupyter Notebook environment and previously unregistered\n",
       "  if (root.Jupyter !== undefined) {\n",
       "    var events = require('base/js/events');\n",
       "    var OutputArea = require('notebook/js/outputarea').OutputArea;\n",
       "\n",
       "    if (OutputArea.prototype.mime_types().indexOf(EXEC_MIME_TYPE) == -1) {\n",
       "      register_renderer(events, OutputArea);\n",
       "    }\n",
       "  }\n",
       "\n",
       "  \n",
       "  if (typeof (root._bokeh_timeout) === \"undefined\" || force === true) {\n",
       "    root._bokeh_timeout = Date.now() + 5000;\n",
       "    root._bokeh_failed_load = false;\n",
       "  }\n",
       "\n",
       "  var NB_LOAD_WARNING = {'data': {'text/html':\n",
       "     \"<div style='background-color: #fdd'>\\n\"+\n",
       "     \"<p>\\n\"+\n",
       "     \"BokehJS does not appear to have successfully loaded. If loading BokehJS from CDN, this \\n\"+\n",
       "     \"may be due to a slow or bad network connection. Possible fixes:\\n\"+\n",
       "     \"</p>\\n\"+\n",
       "     \"<ul>\\n\"+\n",
       "     \"<li>re-rerun `output_notebook()` to attempt to load from CDN again, or</li>\\n\"+\n",
       "     \"<li>use INLINE resources instead, as so:</li>\\n\"+\n",
       "     \"</ul>\\n\"+\n",
       "     \"<code>\\n\"+\n",
       "     \"from bokeh.resources import INLINE\\n\"+\n",
       "     \"output_notebook(resources=INLINE)\\n\"+\n",
       "     \"</code>\\n\"+\n",
       "     \"</div>\"}};\n",
       "\n",
       "  function display_loaded() {\n",
       "    var el = document.getElementById(\"ebe561ac-c336-4929-8f7f-3ea750fe88cb\");\n",
       "    if (el != null) {\n",
       "      el.textContent = \"BokehJS is loading...\";\n",
       "    }\n",
       "    if (root.Bokeh !== undefined) {\n",
       "      if (el != null) {\n",
       "        el.textContent = \"BokehJS \" + root.Bokeh.version + \" successfully loaded.\";\n",
       "      }\n",
       "    } else if (Date.now() < root._bokeh_timeout) {\n",
       "      setTimeout(display_loaded, 100)\n",
       "    }\n",
       "  }\n",
       "\n",
       "\n",
       "  function run_callbacks() {\n",
       "    try {\n",
       "      root._bokeh_onload_callbacks.forEach(function(callback) { callback() });\n",
       "    }\n",
       "    finally {\n",
       "      delete root._bokeh_onload_callbacks\n",
       "    }\n",
       "    console.info(\"Bokeh: all callbacks have finished\");\n",
       "  }\n",
       "\n",
       "  function load_libs(js_urls, callback) {\n",
       "    root._bokeh_onload_callbacks.push(callback);\n",
       "    if (root._bokeh_is_loading > 0) {\n",
       "      console.log(\"Bokeh: BokehJS is being loaded, scheduling callback at\", now());\n",
       "      return null;\n",
       "    }\n",
       "    if (js_urls == null || js_urls.length === 0) {\n",
       "      run_callbacks();\n",
       "      return null;\n",
       "    }\n",
       "    console.log(\"Bokeh: BokehJS not loaded, scheduling load and callback at\", now());\n",
       "    root._bokeh_is_loading = js_urls.length;\n",
       "    for (var i = 0; i < js_urls.length; i++) {\n",
       "      var url = js_urls[i];\n",
       "      var s = document.createElement('script');\n",
       "      s.src = url;\n",
       "      s.async = false;\n",
       "      s.onreadystatechange = s.onload = function() {\n",
       "        root._bokeh_is_loading--;\n",
       "        if (root._bokeh_is_loading === 0) {\n",
       "          console.log(\"Bokeh: all BokehJS libraries loaded\");\n",
       "          run_callbacks()\n",
       "        }\n",
       "      };\n",
       "      s.onerror = function() {\n",
       "        console.warn(\"failed to load library \" + url);\n",
       "      };\n",
       "      console.log(\"Bokeh: injecting script tag for BokehJS library: \", url);\n",
       "      document.getElementsByTagName(\"head\")[0].appendChild(s);\n",
       "    }\n",
       "  };var element = document.getElementById(\"ebe561ac-c336-4929-8f7f-3ea750fe88cb\");\n",
       "  if (element == null) {\n",
       "    console.log(\"Bokeh: ERROR: autoload.js configured with elementid 'ebe561ac-c336-4929-8f7f-3ea750fe88cb' but no matching script tag was found. \")\n",
       "    return false;\n",
       "  }\n",
       "\n",
       "  var js_urls = [\"https://cdn.pydata.org/bokeh/release/bokeh-0.13.0.min.js\", \"https://cdn.pydata.org/bokeh/release/bokeh-widgets-0.13.0.min.js\", \"https://cdn.pydata.org/bokeh/release/bokeh-tables-0.13.0.min.js\", \"https://cdn.pydata.org/bokeh/release/bokeh-gl-0.13.0.min.js\"];\n",
       "\n",
       "  var inline_js = [\n",
       "    function(Bokeh) {\n",
       "      Bokeh.set_log_level(\"info\");\n",
       "    },\n",
       "    \n",
       "    function(Bokeh) {\n",
       "      \n",
       "    },\n",
       "    function(Bokeh) {\n",
       "      console.log(\"Bokeh: injecting CSS: https://cdn.pydata.org/bokeh/release/bokeh-0.13.0.min.css\");\n",
       "      Bokeh.embed.inject_css(\"https://cdn.pydata.org/bokeh/release/bokeh-0.13.0.min.css\");\n",
       "      console.log(\"Bokeh: injecting CSS: https://cdn.pydata.org/bokeh/release/bokeh-widgets-0.13.0.min.css\");\n",
       "      Bokeh.embed.inject_css(\"https://cdn.pydata.org/bokeh/release/bokeh-widgets-0.13.0.min.css\");\n",
       "      console.log(\"Bokeh: injecting CSS: https://cdn.pydata.org/bokeh/release/bokeh-tables-0.13.0.min.css\");\n",
       "      Bokeh.embed.inject_css(\"https://cdn.pydata.org/bokeh/release/bokeh-tables-0.13.0.min.css\");\n",
       "    }\n",
       "  ];\n",
       "\n",
       "  function run_inline_js() {\n",
       "    \n",
       "    if ((root.Bokeh !== undefined) || (force === true)) {\n",
       "      for (var i = 0; i < inline_js.length; i++) {\n",
       "        inline_js[i].call(root, root.Bokeh);\n",
       "      }if (force === true) {\n",
       "        display_loaded();\n",
       "      }} else if (Date.now() < root._bokeh_timeout) {\n",
       "      setTimeout(run_inline_js, 100);\n",
       "    } else if (!root._bokeh_failed_load) {\n",
       "      console.log(\"Bokeh: BokehJS failed to load within specified timeout.\");\n",
       "      root._bokeh_failed_load = true;\n",
       "    } else if (force !== true) {\n",
       "      var cell = $(document.getElementById(\"ebe561ac-c336-4929-8f7f-3ea750fe88cb\")).parents('.cell').data().cell;\n",
       "      cell.output_area.append_execute_result(NB_LOAD_WARNING)\n",
       "    }\n",
       "\n",
       "  }\n",
       "\n",
       "  if (root._bokeh_is_loading === 0) {\n",
       "    console.log(\"Bokeh: BokehJS loaded, going straight to plotting\");\n",
       "    run_inline_js();\n",
       "  } else {\n",
       "    load_libs(js_urls, function() {\n",
       "      console.log(\"Bokeh: BokehJS plotting callback run at\", now());\n",
       "      run_inline_js();\n",
       "    });\n",
       "  }\n",
       "}(window));"
      ],
      "application/vnd.bokehjs_load.v0+json": "\n(function(root) {\n  function now() {\n    return new Date();\n  }\n\n  var force = true;\n\n  if (typeof (root._bokeh_onload_callbacks) === \"undefined\" || force === true) {\n    root._bokeh_onload_callbacks = [];\n    root._bokeh_is_loading = undefined;\n  }\n\n  \n\n  \n  if (typeof (root._bokeh_timeout) === \"undefined\" || force === true) {\n    root._bokeh_timeout = Date.now() + 5000;\n    root._bokeh_failed_load = false;\n  }\n\n  var NB_LOAD_WARNING = {'data': {'text/html':\n     \"<div style='background-color: #fdd'>\\n\"+\n     \"<p>\\n\"+\n     \"BokehJS does not appear to have successfully loaded. If loading BokehJS from CDN, this \\n\"+\n     \"may be due to a slow or bad network connection. Possible fixes:\\n\"+\n     \"</p>\\n\"+\n     \"<ul>\\n\"+\n     \"<li>re-rerun `output_notebook()` to attempt to load from CDN again, or</li>\\n\"+\n     \"<li>use INLINE resources instead, as so:</li>\\n\"+\n     \"</ul>\\n\"+\n     \"<code>\\n\"+\n     \"from bokeh.resources import INLINE\\n\"+\n     \"output_notebook(resources=INLINE)\\n\"+\n     \"</code>\\n\"+\n     \"</div>\"}};\n\n  function display_loaded() {\n    var el = document.getElementById(\"ebe561ac-c336-4929-8f7f-3ea750fe88cb\");\n    if (el != null) {\n      el.textContent = \"BokehJS is loading...\";\n    }\n    if (root.Bokeh !== undefined) {\n      if (el != null) {\n        el.textContent = \"BokehJS \" + root.Bokeh.version + \" successfully loaded.\";\n      }\n    } else if (Date.now() < root._bokeh_timeout) {\n      setTimeout(display_loaded, 100)\n    }\n  }\n\n\n  function run_callbacks() {\n    try {\n      root._bokeh_onload_callbacks.forEach(function(callback) { callback() });\n    }\n    finally {\n      delete root._bokeh_onload_callbacks\n    }\n    console.info(\"Bokeh: all callbacks have finished\");\n  }\n\n  function load_libs(js_urls, callback) {\n    root._bokeh_onload_callbacks.push(callback);\n    if (root._bokeh_is_loading > 0) {\n      console.log(\"Bokeh: BokehJS is being loaded, scheduling callback at\", now());\n      return null;\n    }\n    if (js_urls == null || js_urls.length === 0) {\n      run_callbacks();\n      return null;\n    }\n    console.log(\"Bokeh: BokehJS not loaded, scheduling load and callback at\", now());\n    root._bokeh_is_loading = js_urls.length;\n    for (var i = 0; i < js_urls.length; i++) {\n      var url = js_urls[i];\n      var s = document.createElement('script');\n      s.src = url;\n      s.async = false;\n      s.onreadystatechange = s.onload = function() {\n        root._bokeh_is_loading--;\n        if (root._bokeh_is_loading === 0) {\n          console.log(\"Bokeh: all BokehJS libraries loaded\");\n          run_callbacks()\n        }\n      };\n      s.onerror = function() {\n        console.warn(\"failed to load library \" + url);\n      };\n      console.log(\"Bokeh: injecting script tag for BokehJS library: \", url);\n      document.getElementsByTagName(\"head\")[0].appendChild(s);\n    }\n  };var element = document.getElementById(\"ebe561ac-c336-4929-8f7f-3ea750fe88cb\");\n  if (element == null) {\n    console.log(\"Bokeh: ERROR: autoload.js configured with elementid 'ebe561ac-c336-4929-8f7f-3ea750fe88cb' but no matching script tag was found. \")\n    return false;\n  }\n\n  var js_urls = [\"https://cdn.pydata.org/bokeh/release/bokeh-0.13.0.min.js\", \"https://cdn.pydata.org/bokeh/release/bokeh-widgets-0.13.0.min.js\", \"https://cdn.pydata.org/bokeh/release/bokeh-tables-0.13.0.min.js\", \"https://cdn.pydata.org/bokeh/release/bokeh-gl-0.13.0.min.js\"];\n\n  var inline_js = [\n    function(Bokeh) {\n      Bokeh.set_log_level(\"info\");\n    },\n    \n    function(Bokeh) {\n      \n    },\n    function(Bokeh) {\n      console.log(\"Bokeh: injecting CSS: https://cdn.pydata.org/bokeh/release/bokeh-0.13.0.min.css\");\n      Bokeh.embed.inject_css(\"https://cdn.pydata.org/bokeh/release/bokeh-0.13.0.min.css\");\n      console.log(\"Bokeh: injecting CSS: https://cdn.pydata.org/bokeh/release/bokeh-widgets-0.13.0.min.css\");\n      Bokeh.embed.inject_css(\"https://cdn.pydata.org/bokeh/release/bokeh-widgets-0.13.0.min.css\");\n      console.log(\"Bokeh: injecting CSS: https://cdn.pydata.org/bokeh/release/bokeh-tables-0.13.0.min.css\");\n      Bokeh.embed.inject_css(\"https://cdn.pydata.org/bokeh/release/bokeh-tables-0.13.0.min.css\");\n    }\n  ];\n\n  function run_inline_js() {\n    \n    if ((root.Bokeh !== undefined) || (force === true)) {\n      for (var i = 0; i < inline_js.length; i++) {\n        inline_js[i].call(root, root.Bokeh);\n      }if (force === true) {\n        display_loaded();\n      }} else if (Date.now() < root._bokeh_timeout) {\n      setTimeout(run_inline_js, 100);\n    } else if (!root._bokeh_failed_load) {\n      console.log(\"Bokeh: BokehJS failed to load within specified timeout.\");\n      root._bokeh_failed_load = true;\n    } else if (force !== true) {\n      var cell = $(document.getElementById(\"ebe561ac-c336-4929-8f7f-3ea750fe88cb\")).parents('.cell').data().cell;\n      cell.output_area.append_execute_result(NB_LOAD_WARNING)\n    }\n\n  }\n\n  if (root._bokeh_is_loading === 0) {\n    console.log(\"Bokeh: BokehJS loaded, going straight to plotting\");\n    run_inline_js();\n  } else {\n    load_libs(js_urls, function() {\n      console.log(\"Bokeh: BokehJS plotting callback run at\", now());\n      run_inline_js();\n    });\n  }\n}(window));"
     },
     "metadata": {},
     "output_type": "display_data"
    },
    {
     "data": {
      "text/html": [
       "\n",
       "\n",
       "\n",
       "\n",
       "\n",
       "\n",
       "  <div class=\"bk-root\" id=\"8329cb60-2b94-45d9-8044-fc2665d2eff6\"></div>\n"
      ]
     },
     "metadata": {},
     "output_type": "display_data"
    },
    {
     "data": {
      "application/javascript": [
       "(function(root) {\n",
       "  function embed_document(root) {\n",
       "    \n",
       "  var docs_json = {\"5f581810-c835-4de2-9dbf-7b7947b52bf9\":{\"roots\":{\"references\":[{\"attributes\":{\"bottom_units\":\"screen\",\"fill_alpha\":{\"value\":0.5},\"fill_color\":{\"value\":\"lightgrey\"},\"left_units\":\"screen\",\"level\":\"overlay\",\"line_alpha\":{\"value\":1.0},\"line_color\":{\"value\":\"black\"},\"line_dash\":[4,4],\"line_width\":{\"value\":2},\"plot\":null,\"render_mode\":\"css\",\"right_units\":\"screen\",\"top_units\":\"screen\"},\"id\":\"4c8bc056-8be4-4a33-9b5d-7a8f5229ffd6\",\"type\":\"BoxAnnotation\"},{\"attributes\":{},\"id\":\"54afec05-2a23-42a4-bfd5-842cd14bf44b\",\"type\":\"HelpTool\"},{\"attributes\":{\"callback\":null},\"id\":\"d840b6a2-fd36-4246-a430-ad5379c47b26\",\"type\":\"DataRange1d\"},{\"attributes\":{\"source\":{\"id\":\"0b7b930c-fe14-4810-b075-8a281cc3ab47\",\"type\":\"ColumnDataSource\"}},\"id\":\"b9aa9c24-10d0-4bc2-a771-45ce4a605b22\",\"type\":\"CDSView\"},{\"attributes\":{\"active_drag\":\"auto\",\"active_inspect\":\"auto\",\"active_multi\":null,\"active_scroll\":\"auto\",\"active_tap\":\"auto\",\"tools\":[{\"id\":\"f7303c2b-47e9-4517-bd74-fbc231b05586\",\"type\":\"PanTool\"},{\"id\":\"b8d8b800-94f6-4a4b-9b0e-b4fc3ea8847c\",\"type\":\"WheelZoomTool\"},{\"id\":\"c50970aa-a833-4f52-99b9-0ebc9536f135\",\"type\":\"BoxZoomTool\"},{\"id\":\"2d6a11fd-528a-4401-a5ee-e4c57b30828d\",\"type\":\"SaveTool\"},{\"id\":\"d740f2f4-3c94-4ef5-8bcd-2868f7d5bb0f\",\"type\":\"ResetTool\"},{\"id\":\"7fac58cc-3cae-4345-974f-44a42a948052\",\"type\":\"HelpTool\"}]},\"id\":\"0520c3b4-2cee-4515-9652-d138cbfb38e6\",\"type\":\"Toolbar\"},{\"attributes\":{\"fill_alpha\":{\"value\":0.1},\"fill_color\":{\"value\":\"#1f77b4\"},\"line_alpha\":{\"value\":0.1},\"line_color\":{\"value\":\"#1f77b4\"},\"size\":{\"units\":\"screen\",\"value\":10},\"x\":{\"field\":\"x\"},\"y\":{\"field\":\"y\"}},\"id\":\"4451ee91-51e6-4736-b169-eafe829dfc9d\",\"type\":\"Square\"},{\"attributes\":{},\"id\":\"88cb4724-6bef-41b3-a307-0822815c63d7\",\"type\":\"LinearScale\"},{\"attributes\":{\"callback\":null},\"id\":\"9bead71d-3ba3-48a1-93ac-ee778b6179e6\",\"type\":\"DataRange1d\"},{\"attributes\":{},\"id\":\"c106e45c-416f-4bab-88a1-d2d44185fd4d\",\"type\":\"LinearScale\"},{\"attributes\":{\"plot\":{\"id\":\"f4e1cfbc-e204-4890-91c6-c0fe83bb432e\",\"subtype\":\"Figure\",\"type\":\"Plot\"},\"ticker\":{\"id\":\"a61a594e-a0da-480e-b24d-33045bfc25d1\",\"type\":\"BasicTicker\"}},\"id\":\"a50cb62d-07cb-488a-a08b-6f9da7a661d0\",\"type\":\"Grid\"},{\"attributes\":{\"formatter\":{\"id\":\"a4347d68-b4d7-400a-b371-80a6f96003d5\",\"type\":\"BasicTickFormatter\"},\"plot\":{\"id\":\"f4e1cfbc-e204-4890-91c6-c0fe83bb432e\",\"subtype\":\"Figure\",\"type\":\"Plot\"},\"ticker\":{\"id\":\"a61a594e-a0da-480e-b24d-33045bfc25d1\",\"type\":\"BasicTicker\"}},\"id\":\"221da263-7508-4ad4-8916-50ad25a32bf3\",\"type\":\"LinearAxis\"},{\"attributes\":{},\"id\":\"a61a594e-a0da-480e-b24d-33045bfc25d1\",\"type\":\"BasicTicker\"},{\"attributes\":{\"formatter\":{\"id\":\"413ef38b-5730-4b57-a110-f02a654a6bae\",\"type\":\"BasicTickFormatter\"},\"plot\":{\"id\":\"f4e1cfbc-e204-4890-91c6-c0fe83bb432e\",\"subtype\":\"Figure\",\"type\":\"Plot\"},\"ticker\":{\"id\":\"ef1c2285-9e40-4163-bf32-a00d988ca4de\",\"type\":\"BasicTicker\"}},\"id\":\"800b122d-7ac2-4cfd-b8af-174ffa9aa2bc\",\"type\":\"LinearAxis\"},{\"attributes\":{},\"id\":\"de53bd02-8f80-47dd-897e-759816a9934e\",\"type\":\"LinearScale\"},{\"attributes\":{\"fill_alpha\":{\"value\":0.1},\"fill_color\":{\"value\":\"#1f77b4\"},\"line_alpha\":{\"value\":0.1},\"line_color\":{\"value\":\"#1f77b4\"},\"size\":{\"units\":\"screen\",\"value\":10},\"x\":{\"field\":\"x\"},\"y\":{\"field\":\"y\"}},\"id\":\"e1eac624-ead0-4378-a3ff-d53e00496037\",\"type\":\"Circle\"},{\"attributes\":{},\"id\":\"ef1c2285-9e40-4163-bf32-a00d988ca4de\",\"type\":\"BasicTicker\"},{\"attributes\":{\"dimension\":1,\"plot\":{\"id\":\"f4e1cfbc-e204-4890-91c6-c0fe83bb432e\",\"subtype\":\"Figure\",\"type\":\"Plot\"},\"ticker\":{\"id\":\"ef1c2285-9e40-4163-bf32-a00d988ca4de\",\"type\":\"BasicTicker\"}},\"id\":\"14762bcd-8f2e-4703-ae2c-67864e026a7b\",\"type\":\"Grid\"},{\"attributes\":{\"data_source\":{\"id\":\"0b7b930c-fe14-4810-b075-8a281cc3ab47\",\"type\":\"ColumnDataSource\"},\"glyph\":{\"id\":\"aa6a3a94-94ff-4980-bceb-4101fe646a30\",\"type\":\"Square\"},\"hover_glyph\":null,\"muted_glyph\":null,\"nonselection_glyph\":{\"id\":\"4451ee91-51e6-4736-b169-eafe829dfc9d\",\"type\":\"Square\"},\"selection_glyph\":null,\"view\":{\"id\":\"b9aa9c24-10d0-4bc2-a771-45ce4a605b22\",\"type\":\"CDSView\"}},\"id\":\"890ebf29-e997-44d6-91ca-62fa9a596dca\",\"type\":\"GlyphRenderer\"},{\"attributes\":{\"children\":[{\"id\":\"b9034a74-62ba-423c-8235-f23f461284a0\",\"subtype\":\"Figure\",\"type\":\"Plot\"},{\"id\":\"594c7dee-05d6-49a9-a42e-cbdedcc3e5d3\",\"subtype\":\"Figure\",\"type\":\"Plot\"}]},\"id\":\"4588832f-565c-42e4-b1ad-30566fbbd452\",\"type\":\"Row\"},{\"attributes\":{\"children\":[{\"id\":\"4588832f-565c-42e4-b1ad-30566fbbd452\",\"type\":\"Row\"},{\"id\":\"4ab68c28-1bd1-42c1-8a2c-3c79c61f3e68\",\"type\":\"Row\"}]},\"id\":\"e4e7550d-11d7-4f42-be18-94104b090c45\",\"type\":\"Column\"},{\"attributes\":{\"bottom_units\":\"screen\",\"fill_alpha\":{\"value\":0.5},\"fill_color\":{\"value\":\"lightgrey\"},\"left_units\":\"screen\",\"level\":\"overlay\",\"line_alpha\":{\"value\":1.0},\"line_color\":{\"value\":\"black\"},\"line_dash\":[4,4],\"line_width\":{\"value\":2},\"plot\":null,\"render_mode\":\"css\",\"right_units\":\"screen\",\"top_units\":\"screen\"},\"id\":\"4e8c2595-8141-4e45-9f7f-ed2c194a3a96\",\"type\":\"BoxAnnotation\"},{\"attributes\":{\"callback\":null,\"data\":{\"x\":[0,1,2,3,4,5,6,7,8,9,10],\"y\":[10,9,8,7,6,5,4,3,2,1,0]},\"selected\":{\"id\":\"dd3f783c-6164-4fdf-bdc1-12b5c73d6719\",\"type\":\"Selection\"},\"selection_policy\":{\"id\":\"ade1eea1-d2cd-494c-b8a1-c888ab26a51d\",\"type\":\"UnionRenderers\"}},\"id\":\"4aeae9c6-d317-4a8f-a1b3-51aa5066ddee\",\"type\":\"ColumnDataSource\"},{\"attributes\":{},\"id\":\"f7303c2b-47e9-4517-bd74-fbc231b05586\",\"type\":\"PanTool\"},{\"attributes\":{\"below\":[{\"id\":\"db124dc3-d38f-4cbe-a691-d50d92663a14\",\"type\":\"LinearAxis\"}],\"left\":[{\"id\":\"815528fe-1af6-4448-b9d2-40b42ceb6d41\",\"type\":\"LinearAxis\"}],\"plot_height\":250,\"plot_width\":250,\"renderers\":[{\"id\":\"db124dc3-d38f-4cbe-a691-d50d92663a14\",\"type\":\"LinearAxis\"},{\"id\":\"0c1e2621-c6a7-44d4-be70-d18d4ae10dca\",\"type\":\"Grid\"},{\"id\":\"815528fe-1af6-4448-b9d2-40b42ceb6d41\",\"type\":\"LinearAxis\"},{\"id\":\"e7181d69-4e14-4e36-93fa-0eed3b1705cd\",\"type\":\"Grid\"},{\"id\":\"4c8bc056-8be4-4a33-9b5d-7a8f5229ffd6\",\"type\":\"BoxAnnotation\"},{\"id\":\"0082dddd-bdda-4881-92fa-72985bbee5d5\",\"type\":\"GlyphRenderer\"}],\"title\":null,\"toolbar\":{\"id\":\"70b8a4a9-c966-46de-b788-7f578423b1c7\",\"type\":\"Toolbar\"},\"toolbar_location\":null,\"x_range\":{\"id\":\"d29ebd3c-1750-42a0-8504-01adc1167574\",\"type\":\"DataRange1d\"},\"x_scale\":{\"id\":\"72db4b3d-20ef-417e-a1ba-9a9b05f18955\",\"type\":\"LinearScale\"},\"y_range\":{\"id\":\"0242c78a-df90-4997-9c83-d5aa0e74cd11\",\"type\":\"DataRange1d\"},\"y_scale\":{\"id\":\"54b4ff7b-9eb5-43b3-9185-00c929924b29\",\"type\":\"LinearScale\"}},\"id\":\"594c7dee-05d6-49a9-a42e-cbdedcc3e5d3\",\"subtype\":\"Figure\",\"type\":\"Plot\"},{\"attributes\":{},\"id\":\"b8d8b800-94f6-4a4b-9b0e-b4fc3ea8847c\",\"type\":\"WheelZoomTool\"},{\"attributes\":{\"overlay\":{\"id\":\"4e8c2595-8141-4e45-9f7f-ed2c194a3a96\",\"type\":\"BoxAnnotation\"}},\"id\":\"c50970aa-a833-4f52-99b9-0ebc9536f135\",\"type\":\"BoxZoomTool\"},{\"attributes\":{},\"id\":\"2d6a11fd-528a-4401-a5ee-e4c57b30828d\",\"type\":\"SaveTool\"},{\"attributes\":{},\"id\":\"d740f2f4-3c94-4ef5-8bcd-2868f7d5bb0f\",\"type\":\"ResetTool\"},{\"attributes\":{},\"id\":\"7fac58cc-3cae-4345-974f-44a42a948052\",\"type\":\"HelpTool\"},{\"attributes\":{\"active_drag\":\"auto\",\"active_inspect\":\"auto\",\"active_multi\":null,\"active_scroll\":\"auto\",\"active_tap\":\"auto\",\"tools\":[{\"id\":\"396a5335-ad14-4e73-9c3d-4d6df431a293\",\"type\":\"PanTool\"},{\"id\":\"bc7b236f-fe9d-495b-bba3-c432ab328209\",\"type\":\"WheelZoomTool\"},{\"id\":\"e896567d-95a1-4da7-841a-ec1f697d53fa\",\"type\":\"BoxZoomTool\"},{\"id\":\"fd7773b9-fc73-4335-9c1b-e308d31ed2a8\",\"type\":\"SaveTool\"},{\"id\":\"4ec0436e-9750-474e-b8aa-3485d8941933\",\"type\":\"ResetTool\"},{\"id\":\"267baf01-3460-4a5e-8ed8-7d0da13e4307\",\"type\":\"HelpTool\"}]},\"id\":\"bc6aacd3-b64c-4a82-9eda-ca07a27be754\",\"type\":\"Toolbar\"},{\"attributes\":{},\"id\":\"47bb1193-f266-4434-8d55-aab5de35b083\",\"type\":\"UnionRenderers\"},{\"attributes\":{},\"id\":\"4f0c99d3-e2a7-4494-ad9b-f5fd6c972cdb\",\"type\":\"BasicTickFormatter\"},{\"attributes\":{},\"id\":\"e388d8cd-0d1f-4af6-875a-5067a4ff63e6\",\"type\":\"BasicTickFormatter\"},{\"attributes\":{},\"id\":\"ade1eea1-d2cd-494c-b8a1-c888ab26a51d\",\"type\":\"UnionRenderers\"},{\"attributes\":{\"callback\":null},\"id\":\"58b686a9-97c2-4a59-a7db-e016749233f1\",\"type\":\"DataRange1d\"},{\"attributes\":{},\"id\":\"8fb47b46-8525-47c1-bc09-9799e77a1d15\",\"type\":\"Selection\"},{\"attributes\":{},\"id\":\"b8b7383f-ff24-4614-92f7-f56bd647b724\",\"type\":\"LinearScale\"},{\"attributes\":{},\"id\":\"3fb8aab6-dec9-45fa-a91f-46b557f37100\",\"type\":\"BasicTickFormatter\"},{\"attributes\":{},\"id\":\"0d86e80d-1eeb-459c-9003-479d0ccd10be\",\"type\":\"BasicTickFormatter\"},{\"attributes\":{\"formatter\":{\"id\":\"e388d8cd-0d1f-4af6-875a-5067a4ff63e6\",\"type\":\"BasicTickFormatter\"},\"plot\":{\"id\":\"b9034a74-62ba-423c-8235-f23f461284a0\",\"subtype\":\"Figure\",\"type\":\"Plot\"},\"ticker\":{\"id\":\"c7781c99-42da-455a-b617-f60b4dbeae05\",\"type\":\"BasicTicker\"}},\"id\":\"2ca75250-71c1-4579-a76c-f032284650c6\",\"type\":\"LinearAxis\"},{\"attributes\":{},\"id\":\"a4347d68-b4d7-400a-b371-80a6f96003d5\",\"type\":\"BasicTickFormatter\"},{\"attributes\":{},\"id\":\"c7781c99-42da-455a-b617-f60b4dbeae05\",\"type\":\"BasicTicker\"},{\"attributes\":{},\"id\":\"dd3f783c-6164-4fdf-bdc1-12b5c73d6719\",\"type\":\"Selection\"},{\"attributes\":{\"callback\":null,\"data\":{\"x\":[0,1,2,3,4,5,6,7,8,9,10],\"y\":[0,1,2,3,4,5,6,7,8,9,10]},\"selected\":{\"id\":\"8fb47b46-8525-47c1-bc09-9799e77a1d15\",\"type\":\"Selection\"},\"selection_policy\":{\"id\":\"47bb1193-f266-4434-8d55-aab5de35b083\",\"type\":\"UnionRenderers\"}},\"id\":\"bb7c0830-b775-4375-97b9-dab351ebba98\",\"type\":\"ColumnDataSource\"},{\"attributes\":{\"plot\":{\"id\":\"b9034a74-62ba-423c-8235-f23f461284a0\",\"subtype\":\"Figure\",\"type\":\"Plot\"},\"ticker\":{\"id\":\"c7781c99-42da-455a-b617-f60b4dbeae05\",\"type\":\"BasicTicker\"}},\"id\":\"6c0351a9-3329-4f43-baa2-dada3a75b232\",\"type\":\"Grid\"},{\"attributes\":{\"height\":250,\"width\":250},\"id\":\"eb617e78-17b0-487c-b4e1-08973d0305bb\",\"type\":\"Spacer\"},{\"attributes\":{\"formatter\":{\"id\":\"4f0c99d3-e2a7-4494-ad9b-f5fd6c972cdb\",\"type\":\"BasicTickFormatter\"},\"plot\":{\"id\":\"b9034a74-62ba-423c-8235-f23f461284a0\",\"subtype\":\"Figure\",\"type\":\"Plot\"},\"ticker\":{\"id\":\"e07eb0e1-537c-43b5-bb0e-7494a650f739\",\"type\":\"BasicTicker\"}},\"id\":\"9fccba75-4e5d-4ab3-9fc8-5e551e2c1418\",\"type\":\"LinearAxis\"},{\"attributes\":{\"children\":[{\"id\":\"eb617e78-17b0-487c-b4e1-08973d0305bb\",\"type\":\"Spacer\"},{\"id\":\"f4e1cfbc-e204-4890-91c6-c0fe83bb432e\",\"subtype\":\"Figure\",\"type\":\"Plot\"}]},\"id\":\"4ab68c28-1bd1-42c1-8a2c-3c79c61f3e68\",\"type\":\"Row\"},{\"attributes\":{\"callback\":null},\"id\":\"b9aa0626-af73-46a6-a7f4-9142452f74ee\",\"type\":\"DataRange1d\"},{\"attributes\":{},\"id\":\"e07eb0e1-537c-43b5-bb0e-7494a650f739\",\"type\":\"BasicTicker\"},{\"attributes\":{},\"id\":\"413ef38b-5730-4b57-a110-f02a654a6bae\",\"type\":\"BasicTickFormatter\"},{\"attributes\":{\"dimension\":1,\"plot\":{\"id\":\"b9034a74-62ba-423c-8235-f23f461284a0\",\"subtype\":\"Figure\",\"type\":\"Plot\"},\"ticker\":{\"id\":\"e07eb0e1-537c-43b5-bb0e-7494a650f739\",\"type\":\"BasicTicker\"}},\"id\":\"be4c8dc7-20a9-40aa-a330-433bf875b291\",\"type\":\"Grid\"},{\"attributes\":{},\"id\":\"178ce07e-047c-4e8f-94f9-12070f00ae36\",\"type\":\"UnionRenderers\"},{\"attributes\":{\"bottom_units\":\"screen\",\"fill_alpha\":{\"value\":0.5},\"fill_color\":{\"value\":\"lightgrey\"},\"left_units\":\"screen\",\"level\":\"overlay\",\"line_alpha\":{\"value\":1.0},\"line_color\":{\"value\":\"black\"},\"line_dash\":[4,4],\"line_width\":{\"value\":2},\"plot\":null,\"render_mode\":\"css\",\"right_units\":\"screen\",\"top_units\":\"screen\"},\"id\":\"b6fd3193-d587-453c-afd4-99931d830efb\",\"type\":\"BoxAnnotation\"},{\"attributes\":{\"toolbar\":{\"id\":\"ed174afe-a15a-4689-851f-daeb3af3c76b\",\"type\":\"ProxyToolbar\"},\"toolbar_location\":\"above\"},\"id\":\"7e31740c-53d5-4b3e-8d4d-5ccabcdfb96a\",\"type\":\"ToolbarBox\"},{\"attributes\":{\"source\":{\"id\":\"bb7c0830-b775-4375-97b9-dab351ebba98\",\"type\":\"ColumnDataSource\"}},\"id\":\"715c5716-73e4-4b82-9b60-1b19f256d72a\",\"type\":\"CDSView\"},{\"attributes\":{},\"id\":\"6ef1ff5b-b52e-4d5e-8888-1b27c1dd62a9\",\"type\":\"Selection\"},{\"attributes\":{\"fill_color\":{\"value\":\"#440154\"},\"line_color\":{\"value\":\"#440154\"},\"size\":{\"units\":\"screen\",\"value\":10},\"x\":{\"field\":\"x\"},\"y\":{\"field\":\"y\"}},\"id\":\"b52c4313-5578-41f6-87d2-a4fb4428e7b1\",\"type\":\"Circle\"},{\"attributes\":{\"tools\":[{\"id\":\"396a5335-ad14-4e73-9c3d-4d6df431a293\",\"type\":\"PanTool\"},{\"id\":\"bc7b236f-fe9d-495b-bba3-c432ab328209\",\"type\":\"WheelZoomTool\"},{\"id\":\"e896567d-95a1-4da7-841a-ec1f697d53fa\",\"type\":\"BoxZoomTool\"},{\"id\":\"fd7773b9-fc73-4335-9c1b-e308d31ed2a8\",\"type\":\"SaveTool\"},{\"id\":\"4ec0436e-9750-474e-b8aa-3485d8941933\",\"type\":\"ResetTool\"},{\"id\":\"267baf01-3460-4a5e-8ed8-7d0da13e4307\",\"type\":\"HelpTool\"},{\"id\":\"303ffe1c-118f-4c82-a57b-5a0259649d6d\",\"type\":\"PanTool\"},{\"id\":\"4a2b55ef-860a-44b1-8db5-898f67cea081\",\"type\":\"WheelZoomTool\"},{\"id\":\"182f4edf-6c12-4a21-bd78-1959cdbd1094\",\"type\":\"BoxZoomTool\"},{\"id\":\"c12d7d72-b0fc-4c0f-92fd-df68ee595bb0\",\"type\":\"SaveTool\"},{\"id\":\"11508b71-7fda-462a-970f-ef02f6a50972\",\"type\":\"ResetTool\"},{\"id\":\"54afec05-2a23-42a4-bfd5-842cd14bf44b\",\"type\":\"HelpTool\"},{\"id\":\"f7303c2b-47e9-4517-bd74-fbc231b05586\",\"type\":\"PanTool\"},{\"id\":\"b8d8b800-94f6-4a4b-9b0e-b4fc3ea8847c\",\"type\":\"WheelZoomTool\"},{\"id\":\"c50970aa-a833-4f52-99b9-0ebc9536f135\",\"type\":\"BoxZoomTool\"},{\"id\":\"2d6a11fd-528a-4401-a5ee-e4c57b30828d\",\"type\":\"SaveTool\"},{\"id\":\"d740f2f4-3c94-4ef5-8bcd-2868f7d5bb0f\",\"type\":\"ResetTool\"},{\"id\":\"7fac58cc-3cae-4345-974f-44a42a948052\",\"type\":\"HelpTool\"}]},\"id\":\"ed174afe-a15a-4689-851f-daeb3af3c76b\",\"type\":\"ProxyToolbar\"},{\"attributes\":{\"callback\":null,\"data\":{\"x\":[0,1,2,3,4,5,6,7,8,9,10],\"y\":[5,4,3,2,1,0,1,2,3,4,5]},\"selected\":{\"id\":\"6ef1ff5b-b52e-4d5e-8888-1b27c1dd62a9\",\"type\":\"Selection\"},\"selection_policy\":{\"id\":\"178ce07e-047c-4e8f-94f9-12070f00ae36\",\"type\":\"UnionRenderers\"}},\"id\":\"0b7b930c-fe14-4810-b075-8a281cc3ab47\",\"type\":\"ColumnDataSource\"},{\"attributes\":{},\"id\":\"396a5335-ad14-4e73-9c3d-4d6df431a293\",\"type\":\"PanTool\"},{\"attributes\":{\"children\":[{\"id\":\"7e31740c-53d5-4b3e-8d4d-5ccabcdfb96a\",\"type\":\"ToolbarBox\"},{\"id\":\"e4e7550d-11d7-4f42-be18-94104b090c45\",\"type\":\"Column\"}]},\"id\":\"1a03a4e0-ff7c-41f9-92d2-7cb6c6305af5\",\"type\":\"Column\"},{\"attributes\":{},\"id\":\"bc7b236f-fe9d-495b-bba3-c432ab328209\",\"type\":\"WheelZoomTool\"},{\"attributes\":{\"overlay\":{\"id\":\"b6fd3193-d587-453c-afd4-99931d830efb\",\"type\":\"BoxAnnotation\"}},\"id\":\"e896567d-95a1-4da7-841a-ec1f697d53fa\",\"type\":\"BoxZoomTool\"},{\"attributes\":{\"data_source\":{\"id\":\"bb7c0830-b775-4375-97b9-dab351ebba98\",\"type\":\"ColumnDataSource\"},\"glyph\":{\"id\":\"b52c4313-5578-41f6-87d2-a4fb4428e7b1\",\"type\":\"Circle\"},\"hover_glyph\":null,\"muted_glyph\":null,\"nonselection_glyph\":{\"id\":\"e1eac624-ead0-4378-a3ff-d53e00496037\",\"type\":\"Circle\"},\"selection_glyph\":null,\"view\":{\"id\":\"715c5716-73e4-4b82-9b60-1b19f256d72a\",\"type\":\"CDSView\"}},\"id\":\"ea4972da-4595-4f86-95b3-e2a0eeabf882\",\"type\":\"GlyphRenderer\"},{\"attributes\":{},\"id\":\"fd7773b9-fc73-4335-9c1b-e308d31ed2a8\",\"type\":\"SaveTool\"},{\"attributes\":{},\"id\":\"4ec0436e-9750-474e-b8aa-3485d8941933\",\"type\":\"ResetTool\"},{\"attributes\":{},\"id\":\"267baf01-3460-4a5e-8ed8-7d0da13e4307\",\"type\":\"HelpTool\"},{\"attributes\":{\"active_drag\":\"auto\",\"active_inspect\":\"auto\",\"active_multi\":null,\"active_scroll\":\"auto\",\"active_tap\":\"auto\",\"tools\":[{\"id\":\"303ffe1c-118f-4c82-a57b-5a0259649d6d\",\"type\":\"PanTool\"},{\"id\":\"4a2b55ef-860a-44b1-8db5-898f67cea081\",\"type\":\"WheelZoomTool\"},{\"id\":\"182f4edf-6c12-4a21-bd78-1959cdbd1094\",\"type\":\"BoxZoomTool\"},{\"id\":\"c12d7d72-b0fc-4c0f-92fd-df68ee595bb0\",\"type\":\"SaveTool\"},{\"id\":\"11508b71-7fda-462a-970f-ef02f6a50972\",\"type\":\"ResetTool\"},{\"id\":\"54afec05-2a23-42a4-bfd5-842cd14bf44b\",\"type\":\"HelpTool\"}]},\"id\":\"70b8a4a9-c966-46de-b788-7f578423b1c7\",\"type\":\"Toolbar\"},{\"attributes\":{\"below\":[{\"id\":\"2ca75250-71c1-4579-a76c-f032284650c6\",\"type\":\"LinearAxis\"}],\"left\":[{\"id\":\"9fccba75-4e5d-4ab3-9fc8-5e551e2c1418\",\"type\":\"LinearAxis\"}],\"plot_height\":250,\"plot_width\":250,\"renderers\":[{\"id\":\"2ca75250-71c1-4579-a76c-f032284650c6\",\"type\":\"LinearAxis\"},{\"id\":\"6c0351a9-3329-4f43-baa2-dada3a75b232\",\"type\":\"Grid\"},{\"id\":\"9fccba75-4e5d-4ab3-9fc8-5e551e2c1418\",\"type\":\"LinearAxis\"},{\"id\":\"be4c8dc7-20a9-40aa-a330-433bf875b291\",\"type\":\"Grid\"},{\"id\":\"b6fd3193-d587-453c-afd4-99931d830efb\",\"type\":\"BoxAnnotation\"},{\"id\":\"ea4972da-4595-4f86-95b3-e2a0eeabf882\",\"type\":\"GlyphRenderer\"}],\"title\":null,\"toolbar\":{\"id\":\"bc6aacd3-b64c-4a82-9eda-ca07a27be754\",\"type\":\"Toolbar\"},\"toolbar_location\":null,\"x_range\":{\"id\":\"b9aa0626-af73-46a6-a7f4-9142452f74ee\",\"type\":\"DataRange1d\"},\"x_scale\":{\"id\":\"de53bd02-8f80-47dd-897e-759816a9934e\",\"type\":\"LinearScale\"},\"y_range\":{\"id\":\"58b686a9-97c2-4a59-a7db-e016749233f1\",\"type\":\"DataRange1d\"},\"y_scale\":{\"id\":\"b8b7383f-ff24-4614-92f7-f56bd647b724\",\"type\":\"LinearScale\"}},\"id\":\"b9034a74-62ba-423c-8235-f23f461284a0\",\"subtype\":\"Figure\",\"type\":\"Plot\"},{\"attributes\":{\"source\":{\"id\":\"4aeae9c6-d317-4a8f-a1b3-51aa5066ddee\",\"type\":\"ColumnDataSource\"}},\"id\":\"fc8f407a-d47b-4de8-b307-603014f55a05\",\"type\":\"CDSView\"},{\"attributes\":{\"callback\":null},\"id\":\"d29ebd3c-1750-42a0-8504-01adc1167574\",\"type\":\"DataRange1d\"},{\"attributes\":{\"fill_alpha\":{\"value\":0.1},\"fill_color\":{\"value\":\"#1f77b4\"},\"line_alpha\":{\"value\":0.1},\"line_color\":{\"value\":\"#1f77b4\"},\"size\":{\"units\":\"screen\",\"value\":10},\"x\":{\"field\":\"x\"},\"y\":{\"field\":\"y\"}},\"id\":\"f23505db-8555-4be3-a220-b02d1b2e17be\",\"type\":\"Triangle\"},{\"attributes\":{},\"id\":\"72db4b3d-20ef-417e-a1ba-9a9b05f18955\",\"type\":\"LinearScale\"},{\"attributes\":{\"callback\":null},\"id\":\"0242c78a-df90-4997-9c83-d5aa0e74cd11\",\"type\":\"DataRange1d\"},{\"attributes\":{},\"id\":\"54b4ff7b-9eb5-43b3-9185-00c929924b29\",\"type\":\"LinearScale\"},{\"attributes\":{\"plot\":{\"id\":\"594c7dee-05d6-49a9-a42e-cbdedcc3e5d3\",\"subtype\":\"Figure\",\"type\":\"Plot\"},\"ticker\":{\"id\":\"1493d033-6d6c-4ef4-a509-0ae8e638c0c3\",\"type\":\"BasicTicker\"}},\"id\":\"0c1e2621-c6a7-44d4-be70-d18d4ae10dca\",\"type\":\"Grid\"},{\"attributes\":{\"formatter\":{\"id\":\"0d86e80d-1eeb-459c-9003-479d0ccd10be\",\"type\":\"BasicTickFormatter\"},\"plot\":{\"id\":\"594c7dee-05d6-49a9-a42e-cbdedcc3e5d3\",\"subtype\":\"Figure\",\"type\":\"Plot\"},\"ticker\":{\"id\":\"1493d033-6d6c-4ef4-a509-0ae8e638c0c3\",\"type\":\"BasicTicker\"}},\"id\":\"db124dc3-d38f-4cbe-a691-d50d92663a14\",\"type\":\"LinearAxis\"},{\"attributes\":{},\"id\":\"1493d033-6d6c-4ef4-a509-0ae8e638c0c3\",\"type\":\"BasicTicker\"},{\"attributes\":{\"formatter\":{\"id\":\"3fb8aab6-dec9-45fa-a91f-46b557f37100\",\"type\":\"BasicTickFormatter\"},\"plot\":{\"id\":\"594c7dee-05d6-49a9-a42e-cbdedcc3e5d3\",\"subtype\":\"Figure\",\"type\":\"Plot\"},\"ticker\":{\"id\":\"9e9295d4-ed0b-4529-b947-3142d6e60c0a\",\"type\":\"BasicTicker\"}},\"id\":\"815528fe-1af6-4448-b9d2-40b42ceb6d41\",\"type\":\"LinearAxis\"},{\"attributes\":{},\"id\":\"9e9295d4-ed0b-4529-b947-3142d6e60c0a\",\"type\":\"BasicTicker\"},{\"attributes\":{\"dimension\":1,\"plot\":{\"id\":\"594c7dee-05d6-49a9-a42e-cbdedcc3e5d3\",\"subtype\":\"Figure\",\"type\":\"Plot\"},\"ticker\":{\"id\":\"9e9295d4-ed0b-4529-b947-3142d6e60c0a\",\"type\":\"BasicTicker\"}},\"id\":\"e7181d69-4e14-4e36-93fa-0eed3b1705cd\",\"type\":\"Grid\"},{\"attributes\":{\"data_source\":{\"id\":\"4aeae9c6-d317-4a8f-a1b3-51aa5066ddee\",\"type\":\"ColumnDataSource\"},\"glyph\":{\"id\":\"5c57e927-feff-4bb6-b23a-da497f1a4121\",\"type\":\"Triangle\"},\"hover_glyph\":null,\"muted_glyph\":null,\"nonselection_glyph\":{\"id\":\"f23505db-8555-4be3-a220-b02d1b2e17be\",\"type\":\"Triangle\"},\"selection_glyph\":null,\"view\":{\"id\":\"fc8f407a-d47b-4de8-b307-603014f55a05\",\"type\":\"CDSView\"}},\"id\":\"0082dddd-bdda-4881-92fa-72985bbee5d5\",\"type\":\"GlyphRenderer\"},{\"attributes\":{\"fill_color\":{\"value\":\"#208F8C\"},\"line_color\":{\"value\":\"#208F8C\"},\"size\":{\"units\":\"screen\",\"value\":10},\"x\":{\"field\":\"x\"},\"y\":{\"field\":\"y\"}},\"id\":\"5c57e927-feff-4bb6-b23a-da497f1a4121\",\"type\":\"Triangle\"},{\"attributes\":{\"below\":[{\"id\":\"221da263-7508-4ad4-8916-50ad25a32bf3\",\"type\":\"LinearAxis\"}],\"left\":[{\"id\":\"800b122d-7ac2-4cfd-b8af-174ffa9aa2bc\",\"type\":\"LinearAxis\"}],\"plot_height\":250,\"plot_width\":250,\"renderers\":[{\"id\":\"221da263-7508-4ad4-8916-50ad25a32bf3\",\"type\":\"LinearAxis\"},{\"id\":\"a50cb62d-07cb-488a-a08b-6f9da7a661d0\",\"type\":\"Grid\"},{\"id\":\"800b122d-7ac2-4cfd-b8af-174ffa9aa2bc\",\"type\":\"LinearAxis\"},{\"id\":\"14762bcd-8f2e-4703-ae2c-67864e026a7b\",\"type\":\"Grid\"},{\"id\":\"4e8c2595-8141-4e45-9f7f-ed2c194a3a96\",\"type\":\"BoxAnnotation\"},{\"id\":\"890ebf29-e997-44d6-91ca-62fa9a596dca\",\"type\":\"GlyphRenderer\"}],\"title\":null,\"toolbar\":{\"id\":\"0520c3b4-2cee-4515-9652-d138cbfb38e6\",\"type\":\"Toolbar\"},\"toolbar_location\":null,\"x_range\":{\"id\":\"d840b6a2-fd36-4246-a430-ad5379c47b26\",\"type\":\"DataRange1d\"},\"x_scale\":{\"id\":\"88cb4724-6bef-41b3-a307-0822815c63d7\",\"type\":\"LinearScale\"},\"y_range\":{\"id\":\"9bead71d-3ba3-48a1-93ac-ee778b6179e6\",\"type\":\"DataRange1d\"},\"y_scale\":{\"id\":\"c106e45c-416f-4bab-88a1-d2d44185fd4d\",\"type\":\"LinearScale\"}},\"id\":\"f4e1cfbc-e204-4890-91c6-c0fe83bb432e\",\"subtype\":\"Figure\",\"type\":\"Plot\"},{\"attributes\":{\"fill_color\":{\"value\":\"#FDE724\"},\"line_color\":{\"value\":\"#FDE724\"},\"size\":{\"units\":\"screen\",\"value\":10},\"x\":{\"field\":\"x\"},\"y\":{\"field\":\"y\"}},\"id\":\"aa6a3a94-94ff-4980-bceb-4101fe646a30\",\"type\":\"Square\"},{\"attributes\":{},\"id\":\"303ffe1c-118f-4c82-a57b-5a0259649d6d\",\"type\":\"PanTool\"},{\"attributes\":{},\"id\":\"11508b71-7fda-462a-970f-ef02f6a50972\",\"type\":\"ResetTool\"},{\"attributes\":{},\"id\":\"4a2b55ef-860a-44b1-8db5-898f67cea081\",\"type\":\"WheelZoomTool\"},{\"attributes\":{\"overlay\":{\"id\":\"4c8bc056-8be4-4a33-9b5d-7a8f5229ffd6\",\"type\":\"BoxAnnotation\"}},\"id\":\"182f4edf-6c12-4a21-bd78-1959cdbd1094\",\"type\":\"BoxZoomTool\"},{\"attributes\":{},\"id\":\"c12d7d72-b0fc-4c0f-92fd-df68ee595bb0\",\"type\":\"SaveTool\"}],\"root_ids\":[\"1a03a4e0-ff7c-41f9-92d2-7cb6c6305af5\"]},\"title\":\"Bokeh Application\",\"version\":\"0.13.0\"}};\n",
       "  var render_items = [{\"docid\":\"5f581810-c835-4de2-9dbf-7b7947b52bf9\",\"roots\":{\"1a03a4e0-ff7c-41f9-92d2-7cb6c6305af5\":\"8329cb60-2b94-45d9-8044-fc2665d2eff6\"}}];\n",
       "  root.Bokeh.embed.embed_items_notebook(docs_json, render_items);\n",
       "\n",
       "  }\n",
       "  if (root.Bokeh !== undefined) {\n",
       "    embed_document(root);\n",
       "  } else {\n",
       "    var attempts = 0;\n",
       "    var timer = setInterval(function(root) {\n",
       "      if (root.Bokeh !== undefined) {\n",
       "        embed_document(root);\n",
       "        clearInterval(timer);\n",
       "      }\n",
       "      attempts++;\n",
       "      if (attempts > 100) {\n",
       "        console.log(\"Bokeh: ERROR: Unable to run BokehJS code because BokehJS library is missing\")\n",
       "        clearInterval(timer);\n",
       "      }\n",
       "    }, 10, root)\n",
       "  }\n",
       "})(window);"
      ],
      "application/vnd.bokehjs_exec.v0+json": ""
     },
     "metadata": {
      "application/vnd.bokehjs_exec.v0+json": {
       "id": "1a03a4e0-ff7c-41f9-92d2-7cb6c6305af5"
      }
     },
     "output_type": "display_data"
    }
   ],
   "source": [
    "from bokeh.io import output_file, show\n",
    "from bokeh.layouts import gridplot\n",
    "from bokeh.palettes import Viridis3\n",
    "from bokeh.plotting import figure, output_notebook\n",
    "\n",
    "output_notebook()\n",
    "\n",
    "x = list(range(11))\n",
    "y0 = x\n",
    "y1 = [10 - i for i in x]\n",
    "y2 = [abs(i - 5) for i in x]\n",
    "\n",
    "# create three plots\n",
    "p1 = figure(plot_width=250, plot_height=250, title=None)\n",
    "p1.circle(x, y0, size=10, color=Viridis3[0])\n",
    "p2 = figure(plot_width=250, plot_height=250, title=None)\n",
    "p2.triangle(x, y1, size=10, color=Viridis3[1])\n",
    "p3 = figure(plot_width=250, plot_height=250, title=None)\n",
    "p3.square(x, y2, size=10, color=Viridis3[2])\n",
    "\n",
    "# make a grid\n",
    "grid = gridplot([[p1, p2], [None, p3]])\n",
    "\n",
    "# show the results\n",
    "show(grid)\n"
   ]
  },
  {
   "cell_type": "code",
   "execution_count": 3,
   "metadata": {},
   "outputs": [
    {
     "data": {
      "text/html": [
       "\n",
       "\n",
       "\n",
       "\n",
       "\n",
       "\n",
       "  <div class=\"bk-root\" id=\"af17126d-2c62-4c88-9066-d5c32ee969a2\"></div>\n"
      ]
     },
     "metadata": {},
     "output_type": "display_data"
    },
    {
     "data": {
      "application/javascript": [
       "(function(root) {\n",
       "  function embed_document(root) {\n",
       "    \n",
       "  var docs_json = {\"38fb0404-2734-4d5a-b3f7-cb6863d64820\":{\"roots\":{\"references\":[{\"attributes\":{},\"id\":\"e7788030-e3c9-4836-ab7e-f335adfe88eb\",\"type\":\"BasicTickFormatter\"},{\"attributes\":{},\"id\":\"cc55b4d5-5c73-4585-a721-473285c826eb\",\"type\":\"BasicTicker\"},{\"attributes\":{},\"id\":\"f2c9dd26-09d8-4766-9a34-83c15037c5c4\",\"type\":\"BasicTickFormatter\"},{\"attributes\":{\"source\":{\"id\":\"e5b5c7d0-9e3a-4a9f-a8e7-4c307f26bef9\",\"type\":\"ColumnDataSource\"}},\"id\":\"2f47e9e9-7c68-48a2-a8cd-f3481756c7c0\",\"type\":\"CDSView\"},{\"attributes\":{},\"id\":\"586837c6-f624-4c84-9c4c-2759c6eb3766\",\"type\":\"BasicTickFormatter\"},{\"attributes\":{\"callback\":null},\"id\":\"ec6ffc35-7807-4890-b3e0-4d9b95f6f667\",\"type\":\"DataRange1d\"},{\"attributes\":{},\"id\":\"249a98f5-6715-410d-b9fa-22df0573d8d9\",\"type\":\"BasicTickFormatter\"},{\"attributes\":{\"source\":{\"id\":\"322b47dc-0fc4-466f-86f0-5193db343b0c\",\"type\":\"ColumnDataSource\"}},\"id\":\"ff61b1b6-3e35-456a-b194-4d980e2288c2\",\"type\":\"CDSView\"},{\"attributes\":{},\"id\":\"e9f3035d-34f7-4307-8cbb-fd9f23c25fc2\",\"type\":\"BasicTickFormatter\"},{\"attributes\":{},\"id\":\"7e1a7a50-d997-443e-920c-9f352f45d659\",\"type\":\"BasicTickFormatter\"},{\"attributes\":{},\"id\":\"e4f48b7d-abd3-43aa-815c-a49625953d5e\",\"type\":\"LinearScale\"},{\"attributes\":{},\"id\":\"87617900-5d6e-437c-9157-8a440ea3d9bc\",\"type\":\"UnionRenderers\"},{\"attributes\":{\"formatter\":{\"id\":\"e7788030-e3c9-4836-ab7e-f335adfe88eb\",\"type\":\"BasicTickFormatter\"},\"plot\":{\"id\":\"202a2668-3704-4b1b-ba16-b6577c94f0fc\",\"subtype\":\"Figure\",\"type\":\"Plot\"},\"ticker\":{\"id\":\"a2c36e6b-f2a6-47e0-add1-fa405c16b13b\",\"type\":\"BasicTicker\"}},\"id\":\"f8ef723f-1a3e-46d9-bad1-010689c4ba84\",\"type\":\"LinearAxis\"},{\"attributes\":{},\"id\":\"13910839-8084-418d-9120-f8baf8228738\",\"type\":\"Selection\"},{\"attributes\":{\"fill_alpha\":{\"value\":0.5},\"fill_color\":{\"value\":\"navy\"},\"line_alpha\":{\"value\":0.5},\"line_color\":{\"value\":\"navy\"},\"size\":{\"units\":\"screen\",\"value\":10},\"x\":{\"field\":\"x\"},\"y\":{\"field\":\"y\"}},\"id\":\"d925a669-66dc-4182-a853-15794fe953a0\",\"type\":\"Circle\"},{\"attributes\":{\"overlay\":{\"id\":\"1fa53ee1-b899-4b04-bb83-8ed8f0bd3405\",\"type\":\"BoxAnnotation\"}},\"id\":\"f443ae8b-3d36-4ca8-bd6b-39e9783d7978\",\"type\":\"BoxZoomTool\"},{\"attributes\":{},\"id\":\"14ae92d9-2f04-4514-962e-2fb54589c173\",\"type\":\"Selection\"},{\"attributes\":{},\"id\":\"f401979a-2bca-448c-94b6-3e5b6f88842d\",\"type\":\"UnionRenderers\"},{\"attributes\":{},\"id\":\"0204b999-5863-44bb-a1ab-c8002402e094\",\"type\":\"ResetTool\"},{\"attributes\":{},\"id\":\"bcd7960e-6b5f-414a-b525-985764bf0643\",\"type\":\"Selection\"},{\"attributes\":{\"callback\":null,\"data\":{\"x\":[0,1,2,3,4,5,6,7,8,9,10],\"y\":[5,4,3,2,1,0,1,2,3,4,5]},\"selected\":{\"id\":\"bcd7960e-6b5f-414a-b525-985764bf0643\",\"type\":\"Selection\"},\"selection_policy\":{\"id\":\"8d930be6-27e3-48a8-b0b1-8938b8dbe7cc\",\"type\":\"UnionRenderers\"}},\"id\":\"43fe841e-2c84-473b-a229-9624adc85af0\",\"type\":\"ColumnDataSource\"},{\"attributes\":{},\"id\":\"8d930be6-27e3-48a8-b0b1-8938b8dbe7cc\",\"type\":\"UnionRenderers\"},{\"attributes\":{},\"id\":\"e8decf93-ce74-4b74-95f6-d5ea0e12e8b0\",\"type\":\"HelpTool\"},{\"attributes\":{\"below\":[{\"id\":\"89e41e1e-75f3-4741-9f1b-31e8cba248c6\",\"type\":\"LinearAxis\"}],\"left\":[{\"id\":\"23570bab-6941-4714-9a7b-96b30a8f7b34\",\"type\":\"LinearAxis\"}],\"plot_height\":250,\"plot_width\":250,\"renderers\":[{\"id\":\"89e41e1e-75f3-4741-9f1b-31e8cba248c6\",\"type\":\"LinearAxis\"},{\"id\":\"28f367c8-8057-4784-8633-aef9d7282025\",\"type\":\"Grid\"},{\"id\":\"23570bab-6941-4714-9a7b-96b30a8f7b34\",\"type\":\"LinearAxis\"},{\"id\":\"ad700652-60e8-4ecb-b1e9-266f611b331e\",\"type\":\"Grid\"},{\"id\":\"8a6243b9-9096-40f0-a522-7b94d9aacde3\",\"type\":\"BoxAnnotation\"},{\"id\":\"e9883044-968c-4e3e-97ed-da1c3f6ffcb3\",\"type\":\"GlyphRenderer\"}],\"title\":null,\"toolbar\":{\"id\":\"76fd60dc-9f65-4f51-8feb-d37030ef85d3\",\"type\":\"Toolbar\"},\"x_range\":{\"id\":\"c026bfb0-9b6d-41c2-87e6-5ba903ab3311\",\"type\":\"DataRange1d\"},\"x_scale\":{\"id\":\"c23af039-48a9-45e1-8b7a-8f672f0e8976\",\"type\":\"LinearScale\"},\"y_range\":{\"id\":\"4f0ea6d0-fbaf-4e91-b206-e922ab10cc6f\",\"type\":\"DataRange1d\"},\"y_scale\":{\"id\":\"8483d013-ee29-4e4a-b627-29a0961f7181\",\"type\":\"LinearScale\"}},\"id\":\"25d3387d-29ab-4f3c-8c77-e0dede6a0f54\",\"subtype\":\"Figure\",\"type\":\"Plot\"},{\"attributes\":{\"data_source\":{\"id\":\"e5b5c7d0-9e3a-4a9f-a8e7-4c307f26bef9\",\"type\":\"ColumnDataSource\"},\"glyph\":{\"id\":\"d925a669-66dc-4182-a853-15794fe953a0\",\"type\":\"Circle\"},\"hover_glyph\":null,\"muted_glyph\":null,\"nonselection_glyph\":{\"id\":\"75ecebc4-2c21-484a-951e-8098fdb0270f\",\"type\":\"Circle\"},\"selection_glyph\":null,\"view\":{\"id\":\"2f47e9e9-7c68-48a2-a8cd-f3481756c7c0\",\"type\":\"CDSView\"}},\"id\":\"24331edb-0efa-4740-ab77-fc97f20502c8\",\"type\":\"GlyphRenderer\"},{\"attributes\":{},\"id\":\"568f8dbb-5cd4-462f-93b3-721e45a7a296\",\"type\":\"SaveTool\"},{\"attributes\":{\"dimension\":1,\"plot\":{\"id\":\"202a2668-3704-4b1b-ba16-b6577c94f0fc\",\"subtype\":\"Figure\",\"type\":\"Plot\"},\"ticker\":{\"id\":\"a2c36e6b-f2a6-47e0-add1-fa405c16b13b\",\"type\":\"BasicTicker\"}},\"id\":\"a66d3ded-0bfd-4a4a-a1ec-c2a0383a6b3d\",\"type\":\"Grid\"},{\"attributes\":{\"plot\":{\"id\":\"202a2668-3704-4b1b-ba16-b6577c94f0fc\",\"subtype\":\"Figure\",\"type\":\"Plot\"},\"ticker\":{\"id\":\"cc55b4d5-5c73-4585-a721-473285c826eb\",\"type\":\"BasicTicker\"}},\"id\":\"76871974-267a-42f1-8aa1-a96d81eec385\",\"type\":\"Grid\"},{\"attributes\":{},\"id\":\"a2c36e6b-f2a6-47e0-add1-fa405c16b13b\",\"type\":\"BasicTicker\"},{\"attributes\":{\"formatter\":{\"id\":\"f2c9dd26-09d8-4766-9a34-83c15037c5c4\",\"type\":\"BasicTickFormatter\"},\"plot\":{\"id\":\"202a2668-3704-4b1b-ba16-b6577c94f0fc\",\"subtype\":\"Figure\",\"type\":\"Plot\"},\"ticker\":{\"id\":\"cc55b4d5-5c73-4585-a721-473285c826eb\",\"type\":\"BasicTicker\"}},\"id\":\"1c3a3532-1e23-45f5-8af1-5f510365f812\",\"type\":\"LinearAxis\"},{\"attributes\":{\"callback\":null,\"data\":{\"x\":[0,1,2,3,4,5,6,7,8,9,10],\"y\":[0,1,2,3,4,5,6,7,8,9,10]},\"selected\":{\"id\":\"14ae92d9-2f04-4514-962e-2fb54589c173\",\"type\":\"Selection\"},\"selection_policy\":{\"id\":\"87617900-5d6e-437c-9157-8a440ea3d9bc\",\"type\":\"UnionRenderers\"}},\"id\":\"e5b5c7d0-9e3a-4a9f-a8e7-4c307f26bef9\",\"type\":\"ColumnDataSource\"},{\"attributes\":{},\"id\":\"79a57c7a-382b-4cd5-9d4b-fdd5ef0e483c\",\"type\":\"ResetTool\"},{\"attributes\":{\"callback\":null,\"data\":{\"x\":[0,1,2,3,4,5,6,7,8,9,10],\"y\":[10,9,8,7,6,5,4,3,2,1,0]},\"selected\":{\"id\":\"13910839-8084-418d-9120-f8baf8228738\",\"type\":\"Selection\"},\"selection_policy\":{\"id\":\"f401979a-2bca-448c-94b6-3e5b6f88842d\",\"type\":\"UnionRenderers\"}},\"id\":\"322b47dc-0fc4-466f-86f0-5193db343b0c\",\"type\":\"ColumnDataSource\"},{\"attributes\":{\"fill_alpha\":{\"value\":0.1},\"fill_color\":{\"value\":\"#1f77b4\"},\"line_alpha\":{\"value\":0.1},\"line_color\":{\"value\":\"#1f77b4\"},\"size\":{\"units\":\"screen\",\"value\":10},\"x\":{\"field\":\"x\"},\"y\":{\"field\":\"y\"}},\"id\":\"75ecebc4-2c21-484a-951e-8098fdb0270f\",\"type\":\"Circle\"},{\"attributes\":{\"callback\":null},\"id\":\"97a892e6-dac6-4be8-9d50-a90984859f56\",\"type\":\"DataRange1d\"},{\"attributes\":{},\"id\":\"c622df08-2235-4118-b91c-2383c7a7a55a\",\"type\":\"HelpTool\"},{\"attributes\":{\"active_drag\":\"auto\",\"active_inspect\":\"auto\",\"active_multi\":null,\"active_scroll\":\"auto\",\"active_tap\":\"auto\",\"tools\":[{\"id\":\"1390f931-4cac-4a30-8741-0adbe12ba922\",\"type\":\"PanTool\"},{\"id\":\"bf7c7b7b-b757-451c-b1ed-0d7f23ce3b03\",\"type\":\"WheelZoomTool\"},{\"id\":\"041b1ea0-5a0f-4826-982e-fb2584d56607\",\"type\":\"BoxZoomTool\"},{\"id\":\"f1e73ddd-e6d9-456a-9c12-5244cb31a958\",\"type\":\"SaveTool\"},{\"id\":\"d2d76bf5-8255-495f-8feb-a9513358d9a9\",\"type\":\"ResetTool\"},{\"id\":\"803c5ed7-98ff-415c-be1d-7cc7a302564a\",\"type\":\"HelpTool\"}]},\"id\":\"76fd60dc-9f65-4f51-8feb-d37030ef85d3\",\"type\":\"Toolbar\"},{\"attributes\":{\"bottom_units\":\"screen\",\"fill_alpha\":{\"value\":0.5},\"fill_color\":{\"value\":\"lightgrey\"},\"left_units\":\"screen\",\"level\":\"overlay\",\"line_alpha\":{\"value\":1.0},\"line_color\":{\"value\":\"black\"},\"line_dash\":[4,4],\"line_width\":{\"value\":2},\"plot\":null,\"render_mode\":\"css\",\"right_units\":\"screen\",\"top_units\":\"screen\"},\"id\":\"1fa53ee1-b899-4b04-bb83-8ed8f0bd3405\",\"type\":\"BoxAnnotation\"},{\"attributes\":{},\"id\":\"715d6e04-116d-47d3-8213-082759820663\",\"type\":\"PanTool\"},{\"attributes\":{},\"id\":\"ccdb7e19-9d6c-4090-939f-c31782eb7b4e\",\"type\":\"WheelZoomTool\"},{\"attributes\":{},\"id\":\"a00d6440-c2c5-46e2-8c7a-9b40bc2378a1\",\"type\":\"SaveTool\"},{\"attributes\":{},\"id\":\"1390f931-4cac-4a30-8741-0adbe12ba922\",\"type\":\"PanTool\"},{\"attributes\":{\"bottom_units\":\"screen\",\"fill_alpha\":{\"value\":0.5},\"fill_color\":{\"value\":\"lightgrey\"},\"left_units\":\"screen\",\"level\":\"overlay\",\"line_alpha\":{\"value\":1.0},\"line_color\":{\"value\":\"black\"},\"line_dash\":[4,4],\"line_width\":{\"value\":2},\"plot\":null,\"render_mode\":\"css\",\"right_units\":\"screen\",\"top_units\":\"screen\"},\"id\":\"8a6243b9-9096-40f0-a522-7b94d9aacde3\",\"type\":\"BoxAnnotation\"},{\"attributes\":{\"below\":[{\"id\":\"1c3a3532-1e23-45f5-8af1-5f510365f812\",\"type\":\"LinearAxis\"}],\"left\":[{\"id\":\"f8ef723f-1a3e-46d9-bad1-010689c4ba84\",\"type\":\"LinearAxis\"}],\"plot_height\":250,\"plot_width\":250,\"renderers\":[{\"id\":\"1c3a3532-1e23-45f5-8af1-5f510365f812\",\"type\":\"LinearAxis\"},{\"id\":\"76871974-267a-42f1-8aa1-a96d81eec385\",\"type\":\"Grid\"},{\"id\":\"f8ef723f-1a3e-46d9-bad1-010689c4ba84\",\"type\":\"LinearAxis\"},{\"id\":\"a66d3ded-0bfd-4a4a-a1ec-c2a0383a6b3d\",\"type\":\"Grid\"},{\"id\":\"1fa53ee1-b899-4b04-bb83-8ed8f0bd3405\",\"type\":\"BoxAnnotation\"},{\"id\":\"24331edb-0efa-4740-ab77-fc97f20502c8\",\"type\":\"GlyphRenderer\"}],\"title\":null,\"toolbar\":{\"id\":\"84920e0e-5ba5-4dea-8478-db231902d3cb\",\"type\":\"Toolbar\"},\"x_range\":{\"id\":\"97a892e6-dac6-4be8-9d50-a90984859f56\",\"type\":\"DataRange1d\"},\"x_scale\":{\"id\":\"e4f48b7d-abd3-43aa-815c-a49625953d5e\",\"type\":\"LinearScale\"},\"y_range\":{\"id\":\"ec6ffc35-7807-4890-b3e0-4d9b95f6f667\",\"type\":\"DataRange1d\"},\"y_scale\":{\"id\":\"405fcf57-c871-410b-a36c-ad1f10dd128e\",\"type\":\"LinearScale\"}},\"id\":\"202a2668-3704-4b1b-ba16-b6577c94f0fc\",\"subtype\":\"Figure\",\"type\":\"Plot\"},{\"attributes\":{\"source\":{\"id\":\"43fe841e-2c84-473b-a229-9624adc85af0\",\"type\":\"ColumnDataSource\"}},\"id\":\"b704cedf-e1a5-4213-9036-56a61abe3eb8\",\"type\":\"CDSView\"},{\"attributes\":{},\"id\":\"c23af039-48a9-45e1-8b7a-8f672f0e8976\",\"type\":\"LinearScale\"},{\"attributes\":{\"callback\":null},\"id\":\"c026bfb0-9b6d-41c2-87e6-5ba903ab3311\",\"type\":\"DataRange1d\"},{\"attributes\":{},\"id\":\"8483d013-ee29-4e4a-b627-29a0961f7181\",\"type\":\"LinearScale\"},{\"attributes\":{\"plot\":{\"id\":\"25d3387d-29ab-4f3c-8c77-e0dede6a0f54\",\"subtype\":\"Figure\",\"type\":\"Plot\"},\"ticker\":{\"id\":\"70570259-48cf-4690-bfa5-4ba33cb03ce7\",\"type\":\"BasicTicker\"}},\"id\":\"28f367c8-8057-4784-8633-aef9d7282025\",\"type\":\"Grid\"},{\"attributes\":{\"fill_alpha\":{\"value\":0.1},\"fill_color\":{\"value\":\"#1f77b4\"},\"line_alpha\":{\"value\":0.1},\"line_color\":{\"value\":\"#1f77b4\"},\"size\":{\"units\":\"screen\",\"value\":10},\"x\":{\"field\":\"x\"},\"y\":{\"field\":\"y\"}},\"id\":\"b54e865e-b16a-4992-8690-f2d1f86bf904\",\"type\":\"Triangle\"},{\"attributes\":{\"callback\":null},\"id\":\"4f0ea6d0-fbaf-4e91-b206-e922ab10cc6f\",\"type\":\"DataRange1d\"},{\"attributes\":{},\"id\":\"6fa902c8-af8e-4d4c-83bb-db64a9e287c4\",\"type\":\"BasicTicker\"},{\"attributes\":{\"formatter\":{\"id\":\"249a98f5-6715-410d-b9fa-22df0573d8d9\",\"type\":\"BasicTickFormatter\"},\"plot\":{\"id\":\"25d3387d-29ab-4f3c-8c77-e0dede6a0f54\",\"subtype\":\"Figure\",\"type\":\"Plot\"},\"ticker\":{\"id\":\"70570259-48cf-4690-bfa5-4ba33cb03ce7\",\"type\":\"BasicTicker\"}},\"id\":\"89e41e1e-75f3-4741-9f1b-31e8cba248c6\",\"type\":\"LinearAxis\"},{\"attributes\":{},\"id\":\"70570259-48cf-4690-bfa5-4ba33cb03ce7\",\"type\":\"BasicTicker\"},{\"attributes\":{\"formatter\":{\"id\":\"586837c6-f624-4c84-9c4c-2759c6eb3766\",\"type\":\"BasicTickFormatter\"},\"plot\":{\"id\":\"25d3387d-29ab-4f3c-8c77-e0dede6a0f54\",\"subtype\":\"Figure\",\"type\":\"Plot\"},\"ticker\":{\"id\":\"6fa902c8-af8e-4d4c-83bb-db64a9e287c4\",\"type\":\"BasicTicker\"}},\"id\":\"23570bab-6941-4714-9a7b-96b30a8f7b34\",\"type\":\"LinearAxis\"},{\"attributes\":{\"data_source\":{\"id\":\"322b47dc-0fc4-466f-86f0-5193db343b0c\",\"type\":\"ColumnDataSource\"},\"glyph\":{\"id\":\"ea80590b-a4a3-4433-8e47-b519097f4381\",\"type\":\"Triangle\"},\"hover_glyph\":null,\"muted_glyph\":null,\"nonselection_glyph\":{\"id\":\"b54e865e-b16a-4992-8690-f2d1f86bf904\",\"type\":\"Triangle\"},\"selection_glyph\":null,\"view\":{\"id\":\"ff61b1b6-3e35-456a-b194-4d980e2288c2\",\"type\":\"CDSView\"}},\"id\":\"e9883044-968c-4e3e-97ed-da1c3f6ffcb3\",\"type\":\"GlyphRenderer\"},{\"attributes\":{\"dimension\":1,\"plot\":{\"id\":\"25d3387d-29ab-4f3c-8c77-e0dede6a0f54\",\"subtype\":\"Figure\",\"type\":\"Plot\"},\"ticker\":{\"id\":\"6fa902c8-af8e-4d4c-83bb-db64a9e287c4\",\"type\":\"BasicTicker\"}},\"id\":\"ad700652-60e8-4ecb-b1e9-266f611b331e\",\"type\":\"Grid\"},{\"attributes\":{\"active_drag\":\"auto\",\"active_inspect\":\"auto\",\"active_multi\":null,\"active_scroll\":\"auto\",\"active_tap\":\"auto\",\"tools\":[{\"id\":\"299a3910-4f58-458b-9b87-90c023991be9\",\"type\":\"PanTool\"},{\"id\":\"7e7cb748-eb2b-4d3a-940c-9f93aaf8d825\",\"type\":\"WheelZoomTool\"},{\"id\":\"d86095c7-c891-40e2-92f1-5e7da4c061c7\",\"type\":\"BoxZoomTool\"},{\"id\":\"568f8dbb-5cd4-462f-93b3-721e45a7a296\",\"type\":\"SaveTool\"},{\"id\":\"0204b999-5863-44bb-a1ab-c8002402e094\",\"type\":\"ResetTool\"},{\"id\":\"e8decf93-ce74-4b74-95f6-d5ea0e12e8b0\",\"type\":\"HelpTool\"}]},\"id\":\"d4c096ce-b6f5-4597-ad3b-9c0b62aa81c3\",\"type\":\"Toolbar\"},{\"attributes\":{\"fill_alpha\":{\"value\":0.5},\"fill_color\":{\"value\":\"firebrick\"},\"line_alpha\":{\"value\":0.5},\"line_color\":{\"value\":\"firebrick\"},\"size\":{\"units\":\"screen\",\"value\":10},\"x\":{\"field\":\"x\"},\"y\":{\"field\":\"y\"}},\"id\":\"ea80590b-a4a3-4433-8e47-b519097f4381\",\"type\":\"Triangle\"},{\"attributes\":{\"below\":[{\"id\":\"23dbbc86-2f2a-4405-b931-f6c0e47df637\",\"type\":\"LinearAxis\"}],\"left\":[{\"id\":\"27f3d538-2dc6-4dc1-abcc-5721f3f8e4ae\",\"type\":\"LinearAxis\"}],\"plot_height\":250,\"plot_width\":250,\"renderers\":[{\"id\":\"23dbbc86-2f2a-4405-b931-f6c0e47df637\",\"type\":\"LinearAxis\"},{\"id\":\"ce121425-c0d2-43ea-a648-baa279bfbe48\",\"type\":\"Grid\"},{\"id\":\"27f3d538-2dc6-4dc1-abcc-5721f3f8e4ae\",\"type\":\"LinearAxis\"},{\"id\":\"378bc619-3549-4b76-95a6-727a1e841cf9\",\"type\":\"Grid\"},{\"id\":\"c4aacebb-29ea-49d4-810c-d9a91baf4ca9\",\"type\":\"BoxAnnotation\"},{\"id\":\"0f6abf98-58cc-46aa-b9c8-b2b17439ae6a\",\"type\":\"GlyphRenderer\"}],\"title\":null,\"toolbar\":{\"id\":\"d4c096ce-b6f5-4597-ad3b-9c0b62aa81c3\",\"type\":\"Toolbar\"},\"x_range\":{\"id\":\"0921f0f8-dfc3-404b-b3a1-f81d23046c42\",\"type\":\"DataRange1d\"},\"x_scale\":{\"id\":\"c26b7cc0-0548-4028-9096-5e57b58ef521\",\"type\":\"LinearScale\"},\"y_range\":{\"id\":\"eec4cbd5-0620-46f5-9df3-767f19742740\",\"type\":\"DataRange1d\"},\"y_scale\":{\"id\":\"d99d8fdc-9dce-46d0-b855-37dbf032caa1\",\"type\":\"LinearScale\"}},\"id\":\"42169adb-1e20-4c21-ab61-ba53c227feb7\",\"subtype\":\"Figure\",\"type\":\"Plot\"},{\"attributes\":{},\"id\":\"bf7c7b7b-b757-451c-b1ed-0d7f23ce3b03\",\"type\":\"WheelZoomTool\"},{\"attributes\":{\"overlay\":{\"id\":\"8a6243b9-9096-40f0-a522-7b94d9aacde3\",\"type\":\"BoxAnnotation\"}},\"id\":\"041b1ea0-5a0f-4826-982e-fb2584d56607\",\"type\":\"BoxZoomTool\"},{\"attributes\":{},\"id\":\"f1e73ddd-e6d9-456a-9c12-5244cb31a958\",\"type\":\"SaveTool\"},{\"attributes\":{\"active_drag\":\"auto\",\"active_inspect\":\"auto\",\"active_multi\":null,\"active_scroll\":\"auto\",\"active_tap\":\"auto\",\"tools\":[{\"id\":\"715d6e04-116d-47d3-8213-082759820663\",\"type\":\"PanTool\"},{\"id\":\"ccdb7e19-9d6c-4090-939f-c31782eb7b4e\",\"type\":\"WheelZoomTool\"},{\"id\":\"f443ae8b-3d36-4ca8-bd6b-39e9783d7978\",\"type\":\"BoxZoomTool\"},{\"id\":\"a00d6440-c2c5-46e2-8c7a-9b40bc2378a1\",\"type\":\"SaveTool\"},{\"id\":\"79a57c7a-382b-4cd5-9d4b-fdd5ef0e483c\",\"type\":\"ResetTool\"},{\"id\":\"c622df08-2235-4118-b91c-2383c7a7a55a\",\"type\":\"HelpTool\"}]},\"id\":\"84920e0e-5ba5-4dea-8478-db231902d3cb\",\"type\":\"Toolbar\"},{\"attributes\":{},\"id\":\"d2d76bf5-8255-495f-8feb-a9513358d9a9\",\"type\":\"ResetTool\"},{\"attributes\":{},\"id\":\"803c5ed7-98ff-415c-be1d-7cc7a302564a\",\"type\":\"HelpTool\"},{\"attributes\":{\"callback\":null},\"id\":\"0921f0f8-dfc3-404b-b3a1-f81d23046c42\",\"type\":\"DataRange1d\"},{\"attributes\":{},\"id\":\"7e7cb748-eb2b-4d3a-940c-9f93aaf8d825\",\"type\":\"WheelZoomTool\"},{\"attributes\":{},\"id\":\"f5fc163f-f403-4efc-85ac-5012829ee4a7\",\"type\":\"BasicTicker\"},{\"attributes\":{\"formatter\":{\"id\":\"e9f3035d-34f7-4307-8cbb-fd9f23c25fc2\",\"type\":\"BasicTickFormatter\"},\"plot\":{\"id\":\"42169adb-1e20-4c21-ab61-ba53c227feb7\",\"subtype\":\"Figure\",\"type\":\"Plot\"},\"ticker\":{\"id\":\"4e51d047-ba65-4add-8e79-d2f62a88686b\",\"type\":\"BasicTicker\"}},\"id\":\"27f3d538-2dc6-4dc1-abcc-5721f3f8e4ae\",\"type\":\"LinearAxis\"},{\"attributes\":{\"fill_alpha\":{\"value\":0.1},\"fill_color\":{\"value\":\"#1f77b4\"},\"line_alpha\":{\"value\":0.1},\"line_color\":{\"value\":\"#1f77b4\"},\"size\":{\"units\":\"screen\",\"value\":10},\"x\":{\"field\":\"x\"},\"y\":{\"field\":\"y\"}},\"id\":\"ea621f44-84b5-4e5e-aa84-c2d362f3558a\",\"type\":\"Square\"},{\"attributes\":{},\"id\":\"c26b7cc0-0548-4028-9096-5e57b58ef521\",\"type\":\"LinearScale\"},{\"attributes\":{},\"id\":\"4e51d047-ba65-4add-8e79-d2f62a88686b\",\"type\":\"BasicTicker\"},{\"attributes\":{\"callback\":null},\"id\":\"eec4cbd5-0620-46f5-9df3-767f19742740\",\"type\":\"DataRange1d\"},{\"attributes\":{},\"id\":\"d99d8fdc-9dce-46d0-b855-37dbf032caa1\",\"type\":\"LinearScale\"},{\"attributes\":{\"plot\":{\"id\":\"42169adb-1e20-4c21-ab61-ba53c227feb7\",\"subtype\":\"Figure\",\"type\":\"Plot\"},\"ticker\":{\"id\":\"f5fc163f-f403-4efc-85ac-5012829ee4a7\",\"type\":\"BasicTicker\"}},\"id\":\"ce121425-c0d2-43ea-a648-baa279bfbe48\",\"type\":\"Grid\"},{\"attributes\":{\"formatter\":{\"id\":\"7e1a7a50-d997-443e-920c-9f352f45d659\",\"type\":\"BasicTickFormatter\"},\"plot\":{\"id\":\"42169adb-1e20-4c21-ab61-ba53c227feb7\",\"subtype\":\"Figure\",\"type\":\"Plot\"},\"ticker\":{\"id\":\"f5fc163f-f403-4efc-85ac-5012829ee4a7\",\"type\":\"BasicTicker\"}},\"id\":\"23dbbc86-2f2a-4405-b931-f6c0e47df637\",\"type\":\"LinearAxis\"},{\"attributes\":{\"data_source\":{\"id\":\"43fe841e-2c84-473b-a229-9624adc85af0\",\"type\":\"ColumnDataSource\"},\"glyph\":{\"id\":\"9d050708-f38c-43eb-80e8-d20e2e225e1d\",\"type\":\"Square\"},\"hover_glyph\":null,\"muted_glyph\":null,\"nonselection_glyph\":{\"id\":\"ea621f44-84b5-4e5e-aa84-c2d362f3558a\",\"type\":\"Square\"},\"selection_glyph\":null,\"view\":{\"id\":\"b704cedf-e1a5-4213-9036-56a61abe3eb8\",\"type\":\"CDSView\"}},\"id\":\"0f6abf98-58cc-46aa-b9c8-b2b17439ae6a\",\"type\":\"GlyphRenderer\"},{\"attributes\":{},\"id\":\"405fcf57-c871-410b-a36c-ad1f10dd128e\",\"type\":\"LinearScale\"},{\"attributes\":{\"dimension\":1,\"plot\":{\"id\":\"42169adb-1e20-4c21-ab61-ba53c227feb7\",\"subtype\":\"Figure\",\"type\":\"Plot\"},\"ticker\":{\"id\":\"4e51d047-ba65-4add-8e79-d2f62a88686b\",\"type\":\"BasicTicker\"}},\"id\":\"378bc619-3549-4b76-95a6-727a1e841cf9\",\"type\":\"Grid\"},{\"attributes\":{\"bottom_units\":\"screen\",\"fill_alpha\":{\"value\":0.5},\"fill_color\":{\"value\":\"lightgrey\"},\"left_units\":\"screen\",\"level\":\"overlay\",\"line_alpha\":{\"value\":1.0},\"line_color\":{\"value\":\"black\"},\"line_dash\":[4,4],\"line_width\":{\"value\":2},\"plot\":null,\"render_mode\":\"css\",\"right_units\":\"screen\",\"top_units\":\"screen\"},\"id\":\"c4aacebb-29ea-49d4-810c-d9a91baf4ca9\",\"type\":\"BoxAnnotation\"},{\"attributes\":{\"fill_alpha\":{\"value\":0.5},\"fill_color\":{\"value\":\"olive\"},\"line_alpha\":{\"value\":0.5},\"line_color\":{\"value\":\"olive\"},\"size\":{\"units\":\"screen\",\"value\":10},\"x\":{\"field\":\"x\"},\"y\":{\"field\":\"y\"}},\"id\":\"9d050708-f38c-43eb-80e8-d20e2e225e1d\",\"type\":\"Square\"},{\"attributes\":{},\"id\":\"299a3910-4f58-458b-9b87-90c023991be9\",\"type\":\"PanTool\"},{\"attributes\":{\"children\":[{\"id\":\"202a2668-3704-4b1b-ba16-b6577c94f0fc\",\"subtype\":\"Figure\",\"type\":\"Plot\"},{\"id\":\"25d3387d-29ab-4f3c-8c77-e0dede6a0f54\",\"subtype\":\"Figure\",\"type\":\"Plot\"},{\"id\":\"42169adb-1e20-4c21-ab61-ba53c227feb7\",\"subtype\":\"Figure\",\"type\":\"Plot\"}]},\"id\":\"b4b6f536-281a-42f1-aa6d-6f902a0d5f18\",\"type\":\"Row\"},{\"attributes\":{\"overlay\":{\"id\":\"c4aacebb-29ea-49d4-810c-d9a91baf4ca9\",\"type\":\"BoxAnnotation\"}},\"id\":\"d86095c7-c891-40e2-92f1-5e7da4c061c7\",\"type\":\"BoxZoomTool\"}],\"root_ids\":[\"b4b6f536-281a-42f1-aa6d-6f902a0d5f18\"]},\"title\":\"Bokeh Application\",\"version\":\"0.13.0\"}};\n",
       "  var render_items = [{\"docid\":\"38fb0404-2734-4d5a-b3f7-cb6863d64820\",\"roots\":{\"b4b6f536-281a-42f1-aa6d-6f902a0d5f18\":\"af17126d-2c62-4c88-9066-d5c32ee969a2\"}}];\n",
       "  root.Bokeh.embed.embed_items_notebook(docs_json, render_items);\n",
       "\n",
       "  }\n",
       "  if (root.Bokeh !== undefined) {\n",
       "    embed_document(root);\n",
       "  } else {\n",
       "    var attempts = 0;\n",
       "    var timer = setInterval(function(root) {\n",
       "      if (root.Bokeh !== undefined) {\n",
       "        embed_document(root);\n",
       "        clearInterval(timer);\n",
       "      }\n",
       "      attempts++;\n",
       "      if (attempts > 100) {\n",
       "        console.log(\"Bokeh: ERROR: Unable to run BokehJS code because BokehJS library is missing\")\n",
       "        clearInterval(timer);\n",
       "      }\n",
       "    }, 10, root)\n",
       "  }\n",
       "})(window);"
      ],
      "application/vnd.bokehjs_exec.v0+json": ""
     },
     "metadata": {
      "application/vnd.bokehjs_exec.v0+json": {
       "id": "b4b6f536-281a-42f1-aa6d-6f902a0d5f18"
      }
     },
     "output_type": "display_data"
    }
   ],
   "source": [
    "from bokeh.io import output_file, show\n",
    "from bokeh.layouts import row\n",
    "from bokeh.plotting import figure, output_notebook\n",
    "\n",
    "#output_file(\"layout.html\")\n",
    "\n",
    "x = list(range(11))\n",
    "y0 = x\n",
    "y1 = [10 - i for i in x]\n",
    "y2 = [abs(i - 5) for i in x]\n",
    "\n",
    "# create a new plot\n",
    "s1 = figure(plot_width=250, plot_height=250, title=None)\n",
    "s1.circle(x, y0, size=10, color=\"navy\", alpha=0.5)\n",
    "\n",
    "# create another one\n",
    "s2 = figure(plot_width=250, plot_height=250, title=None)\n",
    "s2.triangle(x, y1, size=10, color=\"firebrick\", alpha=0.5)\n",
    "\n",
    "# create and another\n",
    "s3 = figure(plot_width=250, plot_height=250, title=None)\n",
    "s3.square(x, y2, size=10, color=\"olive\", alpha=0.5)\n",
    "\n",
    "# put the results in a row\n",
    "show(row(s1, s2, s3))\n"
   ]
  },
  {
   "cell_type": "markdown",
   "metadata": {},
   "source": [
    "**Layouts, generally**"
   ]
  },
  {
   "cell_type": "code",
   "execution_count": 2,
   "metadata": {},
   "outputs": [
    {
     "name": "stderr",
     "output_type": "stream",
     "text": [
      "/home/martin/anaconda3/lib/python3.6/site-packages/ipykernel_launcher.py:16: DeprecationWarning: This function is deprecated. Please call randint(100, 150 + 1) instead\n",
      "  app.launch_new_instance()\n"
     ]
    },
    {
     "data": {
      "text/html": [
       "\n",
       "\n",
       "\n",
       "\n",
       "\n",
       "\n",
       "  <div class=\"bk-root\" id=\"a4007bf3-4fd5-4d7c-8fd7-cb76cfbbf0c7\"></div>\n"
      ]
     },
     "metadata": {},
     "output_type": "display_data"
    },
    {
     "data": {
      "application/javascript": [
       "(function(root) {\n",
       "  function embed_document(root) {\n",
       "    \n",
       "  var docs_json = {\"5ae43030-9193-46e5-b0d8-481602db97f8\":{\"roots\":{\"references\":[{\"attributes\":{},\"id\":\"cb56e68b-abc0-4e97-976d-3dc1e7ad419c\",\"type\":\"LinearScale\"},{\"attributes\":{},\"id\":\"4e2c46a9-42d1-422e-ba54-fbf6ebf245c7\",\"type\":\"PanTool\"},{\"attributes\":{\"grid_line_alpha\":{\"value\":0.4},\"plot\":{\"id\":\"1704d77d-0051-4cd3-b7c9-5839260f8db4\",\"subtype\":\"Figure\",\"type\":\"Plot\"},\"ticker\":{\"id\":\"81889007-cb77-4e22-9177-d08f1b969156\",\"type\":\"DatetimeTicker\"}},\"id\":\"7abf6593-5403-487d-901b-8fbcc0c658ca\",\"type\":\"Grid\"},{\"attributes\":{\"formatter\":{\"id\":\"c3758638-af34-419d-b06c-22588509492f\",\"type\":\"DatetimeTickFormatter\"},\"plot\":{\"id\":\"1704d77d-0051-4cd3-b7c9-5839260f8db4\",\"subtype\":\"Figure\",\"type\":\"Plot\"},\"ticker\":{\"id\":\"81889007-cb77-4e22-9177-d08f1b969156\",\"type\":\"DatetimeTicker\"}},\"id\":\"2157162a-324b-4f90-97e0-93ea1f8255e8\",\"type\":\"DatetimeAxis\"},{\"attributes\":{\"num_minor_ticks\":5,\"tickers\":[{\"id\":\"75b6b82e-0fdb-4f33-855b-0ee5b2ddd69f\",\"type\":\"AdaptiveTicker\"},{\"id\":\"de960300-2d1a-436c-9c6e-a771c6ad0a77\",\"type\":\"AdaptiveTicker\"},{\"id\":\"d67daf4f-bdd3-455d-809c-9167dbc3d607\",\"type\":\"AdaptiveTicker\"},{\"id\":\"36299274-fd47-4662-843e-fced23e1b5ca\",\"type\":\"DaysTicker\"},{\"id\":\"1e14ce3b-d508-4d59-8bbc-56bb6a7b5267\",\"type\":\"DaysTicker\"},{\"id\":\"048eda99-a009-4cc3-8b88-f02bd792f3cd\",\"type\":\"DaysTicker\"},{\"id\":\"c09fa8fb-59df-4735-9e1a-e4173a6d31a2\",\"type\":\"DaysTicker\"},{\"id\":\"493e6673-bf13-4825-ae29-a746997f5f28\",\"type\":\"MonthsTicker\"},{\"id\":\"baf5ee2a-1d5d-47c2-8919-f051913e6780\",\"type\":\"MonthsTicker\"},{\"id\":\"384ed946-6835-445c-9044-455a310fbb9a\",\"type\":\"MonthsTicker\"},{\"id\":\"49777cb3-bc68-4040-b889-f416fc8ae7ea\",\"type\":\"MonthsTicker\"},{\"id\":\"d895bf0a-37ae-4b25-9c9f-1037af472303\",\"type\":\"YearsTicker\"}]},\"id\":\"81889007-cb77-4e22-9177-d08f1b969156\",\"type\":\"DatetimeTicker\"},{\"attributes\":{\"formatter\":{\"id\":\"9b5c15bf-6bb5-472d-92ac-d910efb605ee\",\"type\":\"BasicTickFormatter\"},\"plot\":{\"id\":\"1704d77d-0051-4cd3-b7c9-5839260f8db4\",\"subtype\":\"Figure\",\"type\":\"Plot\"},\"ticker\":{\"id\":\"538ecdc0-30f4-46a2-954f-2a36759aa668\",\"type\":\"BasicTicker\"}},\"id\":\"9ceed1ac-9c47-4628-80ee-cb81781ab2ff\",\"type\":\"LinearAxis\"},{\"attributes\":{},\"id\":\"538ecdc0-30f4-46a2-954f-2a36759aa668\",\"type\":\"BasicTicker\"},{\"attributes\":{\"dimension\":1,\"grid_line_alpha\":{\"value\":0.4},\"plot\":{\"id\":\"1704d77d-0051-4cd3-b7c9-5839260f8db4\",\"subtype\":\"Figure\",\"type\":\"Plot\"},\"ticker\":{\"id\":\"538ecdc0-30f4-46a2-954f-2a36759aa668\",\"type\":\"BasicTicker\"}},\"id\":\"483ce88a-e4c6-44fd-9456-036a0757eb90\",\"type\":\"Grid\"},{\"attributes\":{\"fill_alpha\":0.2,\"fill_color\":\"#7570B3\",\"line_color\":\"#7570B3\",\"x\":{\"field\":\"x\"},\"y\":{\"field\":\"y\"}},\"id\":\"5e3a3439-0490-4a7b-aef5-59aaa5c8bce6\",\"type\":\"Patch\"},{\"attributes\":{\"fill_alpha\":0.1,\"fill_color\":\"#1f77b4\",\"line_alpha\":0.1,\"line_color\":\"#1f77b4\",\"x\":{\"field\":\"x\"},\"y\":{\"field\":\"y\"}},\"id\":\"05f7ec35-1581-40d8-ada4-f59708401792\",\"type\":\"Patch\"},{\"attributes\":{\"plot\":null,\"text\":\"Bollinger Bands\"},\"id\":\"05024dfe-4abe-4279-8dbc-22b8e72d85d5\",\"type\":\"Title\"},{\"attributes\":{\"data_source\":{\"id\":\"d1913725-1c42-4373-87cd-b8c5b99f52fb\",\"type\":\"ColumnDataSource\"},\"glyph\":{\"id\":\"5e3a3439-0490-4a7b-aef5-59aaa5c8bce6\",\"type\":\"Patch\"},\"hover_glyph\":null,\"muted_glyph\":null,\"nonselection_glyph\":{\"id\":\"05f7ec35-1581-40d8-ada4-f59708401792\",\"type\":\"Patch\"},\"selection_glyph\":null,\"view\":{\"id\":\"c92495fa-5466-4ab2-a3c6-8a88990a6b70\",\"type\":\"CDSView\"}},\"id\":\"ae0f9e5e-b5ed-4528-ba6f-4ce02e97e28a\",\"type\":\"GlyphRenderer\"},{\"attributes\":{\"source\":{\"id\":\"d1913725-1c42-4373-87cd-b8c5b99f52fb\",\"type\":\"ColumnDataSource\"}},\"id\":\"c92495fa-5466-4ab2-a3c6-8a88990a6b70\",\"type\":\"CDSView\"},{\"attributes\":{\"below\":[{\"id\":\"10846580-a02a-45c2-8a74-87d958889161\",\"type\":\"LinearAxis\"}],\"left\":[{\"id\":\"c7168ef9-5a12-400c-ab1d-b33ce6888e17\",\"type\":\"LinearAxis\"}],\"renderers\":[{\"id\":\"10846580-a02a-45c2-8a74-87d958889161\",\"type\":\"LinearAxis\"},{\"id\":\"e8ef24eb-a487-4d7e-930d-3294094ebcdf\",\"type\":\"Grid\"},{\"id\":\"c7168ef9-5a12-400c-ab1d-b33ce6888e17\",\"type\":\"LinearAxis\"},{\"id\":\"48ff22b2-dacb-4817-81bc-e6805c4aa7a6\",\"type\":\"Grid\"},{\"id\":\"9b4a4972-0ed2-45a2-940c-b99377223dc9\",\"type\":\"GlyphRenderer\"}],\"sizing_mode\":\"stretch_both\",\"title\":{\"id\":\"6a9b8bed-4964-4880-8332-f27e8e928f32\",\"type\":\"Title\"},\"toolbar\":{\"id\":\"19321a2f-bbae-4816-870a-98cc8d56b0cc\",\"type\":\"Toolbar\"},\"toolbar_location\":null,\"x_range\":{\"id\":\"6e1c67fc-0311-4411-a012-7c0b38569b44\",\"type\":\"DataRange1d\"},\"x_scale\":{\"id\":\"77ae63f4-0a41-4e17-8e27-f275d6a9eba7\",\"type\":\"LinearScale\"},\"y_range\":{\"id\":\"dd66d5e2-f723-422f-bcf4-3a26389fafd2\",\"type\":\"Range1d\"},\"y_scale\":{\"id\":\"5e97c152-1e1e-41a7-836a-74263b926edf\",\"type\":\"LinearScale\"}},\"id\":\"e959a198-535b-454c-b4cf-7c33f935b1c6\",\"subtype\":\"Figure\",\"type\":\"Plot\"},{\"attributes\":{\"callback\":null,\"data\":{\"x\":{\"__ndarray__\":\"AAAAAAAAAAAxb2dIzNu5PzFvZ0jM28k/ZZNNNtlk0z8xb2dIzNvZP3+lQK1fKeA/ZZNNNtlk4z9LgVq/UqDmPzFvZ0jM2+k/F1100UUX7T9/pUCtXynwP3Icx3Ecx/E/ZZNNNtlk8z9YCtT6lQL1P0uBWr9SoPY/Pvjggw8++D8xb2dIzNv5PyTm7QyJefs/F1100UUX/T8K1PqVArX+P3+lQK1fKQBA+OCDDz74AEByHMdxHMcBQOtXCtT6lQJAZZNNNtlkA0DezpCYtzMEQFgK1PqVAgVA0UUXXXTRBUBLgVq/UqAGQMS8nSExbwdAPvjggw8+CEC3MyTm7QwJQDFvZ0jM2wlAq6qqqqqqCkAk5u0MiXkLQJ4hMW9nSAxAF1100UUXDUCRmLczJOYNQArU+pUCtQ5AhA8++OCDD0B/pUCtXykQQDtDYt7OkBBA+OCDDz74EEC1fqVArV8RQHIcx3EcxxFALrrooosuEkDrVwrU+pUSQKj1KwVq/RJAZZNNNtlkE0AiMW9nSMwTQN7OkJi3MxRAm2yyySabFEBYCtT6lQIVQBWo9SsFahVA0UUXXXTRFUCO4ziO4zgWQEuBWr9SoBZACB988MEHF0DEvJ0hMW8XQIFav1Kg1hdAPvjggw8+GED7lQK1fqUYQLczJObtDBlAdNFFF110GUAxb2dIzNsZQO4MiXk7QxpAq6qqqqqqGkBnSMzbGRIbQCTm7QyJeRtA4YMPPvjgG0CeITFvZ0gcQFq/UqDWrxxAF1100UUXHUDU+pUCtX4dQJGYtzMk5h1ATTbZZJNNHkAK1PqVArUeQMdxHMdxHB9AhA8++OCDH0BArV8pUOsfQH+lQK1fKSBAXXTRRRddIEA7Q2LezpAgQBoS83aGxCBA+OCDDz74IEDXrxSo9SshQLV+pUCtXyFAk0022WSTIUByHMdxHMchQFDrVwrU+iFALrrooosuIkANiXk7Q2IiQOtXCtT6lSJAyiabbLLJIkCo9SsFav0iQIbEvJ0hMSNAZZNNNtlkI0BDYt7OkJgjQCIxb2dIzCNAAAAAAAAAJEA=\",\"dtype\":\"float64\",\"shape\":[100]},\"y\":{\"__ndarray__\":\"AAAAAAAAAABWWTD1i9C5P1FTX5rcrsk/gsOxNjYZ0z9VYwJ3JinZPxcA895s994/joZ7TnE64j/qrfXjmcnkP2ssuWGCIuc/Iswnjgo/6T+RI+TArxnrP1BTS0Sbrew/3oUw9q727T8Xi+UGkPHuP/kGhbqvm+8/OPqkFVLz7z8TWwZkkvfvP5TacY1lqO8/kSusMpoG7z8wOzaS1hPuPz2qWDqU0uw/jV22kxlG6z8pMUFVcXLpP4gS3/dfXOc/1MdGRVcJ5T/m1IwiaH/iP8q16nZlit8/8e22b6rD2T9j8JxQsrnTPwFWfWl/+Mo/+7miP25uvD8ew57TVQ2FP7c2U+b2Mbe/NJcb8IdkyL+cMtDaNXjSv4gGHUH0jdi/BM5I1Z1j3r8dASM//PThv5J0Xo5MieS/fMX9lQTo5r9AD0Xy9Arpv5gfWUKK7Oq/hEBctduH7L9UjGrat9jtv9nTBZKv2+6/Gw5iBB+O778QwS6FNO7vv7NU4lL1+u+/vLAjJUC0778fSaaDzRrvv6PqleQtMO6/ehV7l8X27L+nYD+HxnHrv2M/nOMnpem/D922x5uV57/CVOv4gkjlv1eewt3ew+K/ZCe00UEO4L8DKjT9e13av93iNNGlWdS/wgS4cmdBzL8fFrKmiwu/v2He8+4MDZW/u4zZNsGStD+7ZD9aihnHP7P36Je11tE/W/DDABjy1z9jyIBZ/M7dP8e6gdUKr+E/qWzMAXFI5D//7Lop6KzmP7yvSOox1ug/Al+5UKq+6j+T7POSVmHsP14AZw7yue0/UWGMa/nE7j/0lfnIs3/vP+x2ENY56O8/b1zFynr97z+a4IMvP7/vP+dX8G0pLu8/1DgMKbRL7j8lnQ9hLhrtP1CyCm21nOs/N08I2izX6T+2POhENM7nPxy7bUkbh+U/z6j/pdMH4z+wXUa44VbgP6UpR/aW9to/VbjOZAz51D8WLl/Qi4nNP2bQXAjp08A//1m7LN2Snz/o7+kO/fKxv37G6czszcW/VIdizLk00b98w03tlVXXvzzw4HCMOd2/Uk/z9Z5o4b8=\",\"dtype\":\"float64\",\"shape\":[100]}},\"selected\":{\"id\":\"3c940007-c903-4159-95e3-e1fcacc20ce8\",\"type\":\"Selection\"},\"selection_policy\":{\"id\":\"ad76e1f5-ba48-4e1d-9d5d-c9fe8e0235f1\",\"type\":\"UnionRenderers\"}},\"id\":\"aaabf397-d27f-4421-8815-db27c12b20da\",\"type\":\"ColumnDataSource\"},{\"attributes\":{\"below\":[{\"id\":\"ad32b23e-b4ed-42de-a6b0-4651f4bb7bca\",\"type\":\"LinearAxis\"}],\"left\":[{\"id\":\"fbac0fda-d124-4f13-8f72-c3489094cc74\",\"type\":\"LinearAxis\"}],\"renderers\":[{\"id\":\"ad32b23e-b4ed-42de-a6b0-4651f4bb7bca\",\"type\":\"LinearAxis\"},{\"id\":\"514c3d13-48ed-45f7-98ee-efd7c937c607\",\"type\":\"Grid\"},{\"id\":\"fbac0fda-d124-4f13-8f72-c3489094cc74\",\"type\":\"LinearAxis\"},{\"id\":\"95b13cec-2552-4c37-a40f-6476d935ecad\",\"type\":\"Grid\"},{\"id\":\"7319a8e6-acab-446e-93fa-acfbbbb37004\",\"type\":\"GlyphRenderer\"}],\"sizing_mode\":\"stretch_both\",\"title\":{\"id\":\"a7b7a006-6372-4dc9-820c-4e3280738b39\",\"type\":\"Title\"},\"toolbar\":{\"id\":\"9b7abd50-3ebb-457d-be87-771592b07a9e\",\"type\":\"Toolbar\"},\"x_range\":{\"id\":\"bbb94493-407a-43e4-81dc-dfe8ed3ceb0e\",\"type\":\"DataRange1d\"},\"x_scale\":{\"id\":\"c5bdbec3-ea35-490b-8cb7-15dfda64b807\",\"type\":\"LinearScale\"},\"y_range\":{\"id\":\"8cbd4490-10d0-4ba7-aa10-d830f0d8b022\",\"type\":\"DataRange1d\"},\"y_scale\":{\"id\":\"87e0177f-c5e8-4c7f-aefe-379fe5bb2401\",\"type\":\"LinearScale\"}},\"id\":\"e6303fac-2a9d-43fa-9aad-a47be3aec889\",\"subtype\":\"Figure\",\"type\":\"Plot\"},{\"attributes\":{\"plot\":null,\"text\":\"Sliders example\"},\"id\":\"6a9b8bed-4964-4880-8332-f27e8e928f32\",\"type\":\"Title\"},{\"attributes\":{\"callback\":null},\"id\":\"6e1c67fc-0311-4411-a012-7c0b38569b44\",\"type\":\"DataRange1d\"},{\"attributes\":{\"active_drag\":\"auto\",\"active_inspect\":\"auto\",\"active_multi\":null,\"active_scroll\":\"auto\",\"active_tap\":\"auto\"},\"id\":\"19321a2f-bbae-4816-870a-98cc8d56b0cc\",\"type\":\"Toolbar\"},{\"attributes\":{\"line_alpha\":0.6,\"line_color\":\"#1f77b4\",\"line_width\":3,\"x\":{\"field\":\"x\"},\"y\":{\"field\":\"y\"}},\"id\":\"c2ac4dad-6084-479c-9b53-8fa6bbc73da8\",\"type\":\"Line\"},{\"attributes\":{},\"id\":\"77ae63f4-0a41-4e17-8e27-f275d6a9eba7\",\"type\":\"LinearScale\"},{\"attributes\":{\"callback\":null,\"end\":10,\"start\":-10},\"id\":\"dd66d5e2-f723-422f-bcf4-3a26389fafd2\",\"type\":\"Range1d\"},{\"attributes\":{},\"id\":\"5e97c152-1e1e-41a7-836a-74263b926edf\",\"type\":\"LinearScale\"},{\"attributes\":{\"plot\":{\"id\":\"e959a198-535b-454c-b4cf-7c33f935b1c6\",\"subtype\":\"Figure\",\"type\":\"Plot\"},\"ticker\":{\"id\":\"12fc017b-61f8-41c9-82b1-6d79db63acb0\",\"type\":\"BasicTicker\"}},\"id\":\"e8ef24eb-a487-4d7e-930d-3294094ebcdf\",\"type\":\"Grid\"},{\"attributes\":{\"formatter\":{\"id\":\"53cd0800-d5e7-4f1a-a4e9-f0cec3434c5d\",\"type\":\"BasicTickFormatter\"},\"plot\":{\"id\":\"e959a198-535b-454c-b4cf-7c33f935b1c6\",\"subtype\":\"Figure\",\"type\":\"Plot\"},\"ticker\":{\"id\":\"12fc017b-61f8-41c9-82b1-6d79db63acb0\",\"type\":\"BasicTicker\"}},\"id\":\"10846580-a02a-45c2-8a74-87d958889161\",\"type\":\"LinearAxis\"},{\"attributes\":{},\"id\":\"12fc017b-61f8-41c9-82b1-6d79db63acb0\",\"type\":\"BasicTicker\"},{\"attributes\":{\"formatter\":{\"id\":\"88e82b8b-12e5-4ab7-8095-6e0fba1a754c\",\"type\":\"BasicTickFormatter\"},\"plot\":{\"id\":\"e959a198-535b-454c-b4cf-7c33f935b1c6\",\"subtype\":\"Figure\",\"type\":\"Plot\"},\"ticker\":{\"id\":\"fc927985-9d7f-46fe-8df1-249b3d827111\",\"type\":\"BasicTicker\"}},\"id\":\"c7168ef9-5a12-400c-ab1d-b33ce6888e17\",\"type\":\"LinearAxis\"},{\"attributes\":{},\"id\":\"fc927985-9d7f-46fe-8df1-249b3d827111\",\"type\":\"BasicTicker\"},{\"attributes\":{\"dimension\":1,\"plot\":{\"id\":\"e959a198-535b-454c-b4cf-7c33f935b1c6\",\"subtype\":\"Figure\",\"type\":\"Plot\"},\"ticker\":{\"id\":\"fc927985-9d7f-46fe-8df1-249b3d827111\",\"type\":\"BasicTicker\"}},\"id\":\"48ff22b2-dacb-4817-81bc-e6805c4aa7a6\",\"type\":\"Grid\"},{\"attributes\":{\"args\":{\"amp\":{\"id\":\"c53018b5-48e2-4f33-acf9-09108d22fb7b\",\"type\":\"Slider\"},\"freq\":{\"id\":\"25f3bd41-359c-47bb-b632-3ff2e790c7b8\",\"type\":\"Slider\"},\"offset\":{\"id\":\"5e63a7cf-9031-4508-ac12-fb28e23c3afc\",\"type\":\"Slider\"},\"phase\":{\"id\":\"1864c800-f0fe-4b89-bc9a-b22f7c962f13\",\"type\":\"Slider\"},\"source\":{\"id\":\"aaabf397-d27f-4421-8815-db27c12b20da\",\"type\":\"ColumnDataSource\"}},\"code\":\"\\n        var data = source.data;\\n        var A = amp.value;\\n        var k = freq.value;\\n        var phi = phase.value;\\n        var B = offset.value;\\n        var x = data['x']\\n        var y = data['y']\\n        for (var i = 0; i < x.length; i++) {\\n            y[i] = B + A*Math.sin(k*x[i]+phi);\\n        }\\n        source.change.emit();\\n    \"},\"id\":\"fc2c372b-ff12-40c5-a1ce-5fcf451e1dad\",\"type\":\"CustomJS\"},{\"attributes\":{\"line_alpha\":0.1,\"line_color\":\"#1f77b4\",\"line_width\":3,\"x\":{\"field\":\"x\"},\"y\":{\"field\":\"y\"}},\"id\":\"4a51116a-11d1-48a3-92fd-47c61463c1e8\",\"type\":\"Line\"},{\"attributes\":{\"data_source\":{\"id\":\"aaabf397-d27f-4421-8815-db27c12b20da\",\"type\":\"ColumnDataSource\"},\"glyph\":{\"id\":\"c2ac4dad-6084-479c-9b53-8fa6bbc73da8\",\"type\":\"Line\"},\"hover_glyph\":null,\"muted_glyph\":null,\"nonselection_glyph\":{\"id\":\"4a51116a-11d1-48a3-92fd-47c61463c1e8\",\"type\":\"Line\"},\"selection_glyph\":null,\"view\":{\"id\":\"49f17826-b329-4f73-9f92-259cdd5ef4d3\",\"type\":\"CDSView\"}},\"id\":\"9b4a4972-0ed2-45a2-940c-b99377223dc9\",\"type\":\"GlyphRenderer\"},{\"attributes\":{\"source\":{\"id\":\"aaabf397-d27f-4421-8815-db27c12b20da\",\"type\":\"ColumnDataSource\"}},\"id\":\"49f17826-b329-4f73-9f92-259cdd5ef4d3\",\"type\":\"CDSView\"},{\"attributes\":{\"callback\":{\"id\":\"fc2c372b-ff12-40c5-a1ce-5fcf451e1dad\",\"type\":\"CustomJS\"},\"end\":10,\"start\":0.1,\"step\":0.1,\"title\":\"Frequency\",\"value\":1},\"id\":\"25f3bd41-359c-47bb-b632-3ff2e790c7b8\",\"type\":\"Slider\"},{\"attributes\":{\"callback\":{\"id\":\"fc2c372b-ff12-40c5-a1ce-5fcf451e1dad\",\"type\":\"CustomJS\"},\"callback_policy\":\"mouseup\",\"end\":10,\"start\":0.1,\"step\":0.1,\"title\":\"Amplitude\",\"value\":1},\"id\":\"c53018b5-48e2-4f33-acf9-09108d22fb7b\",\"type\":\"Slider\"},{\"attributes\":{\"callback\":{\"id\":\"fc2c372b-ff12-40c5-a1ce-5fcf451e1dad\",\"type\":\"CustomJS\"},\"end\":6.4,\"start\":0,\"step\":0.1,\"title\":\"Phase\",\"value\":0},\"id\":\"1864c800-f0fe-4b89-bc9a-b22f7c962f13\",\"type\":\"Slider\"},{\"attributes\":{\"callback\":{\"id\":\"fc2c372b-ff12-40c5-a1ce-5fcf451e1dad\",\"type\":\"CustomJS\"},\"end\":5,\"start\":-5,\"step\":0.1,\"title\":\"Offset\",\"value\":0},\"id\":\"5e63a7cf-9031-4508-ac12-fb28e23c3afc\",\"type\":\"Slider\"},{\"attributes\":{\"children\":[{\"id\":\"c53018b5-48e2-4f33-acf9-09108d22fb7b\",\"type\":\"Slider\"},{\"id\":\"25f3bd41-359c-47bb-b632-3ff2e790c7b8\",\"type\":\"Slider\"},{\"id\":\"1864c800-f0fe-4b89-bc9a-b22f7c962f13\",\"type\":\"Slider\"},{\"id\":\"5e63a7cf-9031-4508-ac12-fb28e23c3afc\",\"type\":\"Slider\"}],\"sizing_mode\":\"stretch_both\"},\"id\":\"8f497aeb-d9a1-4624-9205-9d4c46954297\",\"type\":\"WidgetBox\"},{\"attributes\":{\"active_drag\":\"auto\",\"active_inspect\":\"auto\",\"active_multi\":null,\"active_scroll\":\"auto\",\"active_tap\":\"auto\",\"tools\":[{\"id\":\"43afa25e-6012-44c3-aab0-5ec44d184e3c\",\"type\":\"PanTool\"}]},\"id\":\"9b7abd50-3ebb-457d-be87-771592b07a9e\",\"type\":\"Toolbar\"},{\"attributes\":{\"callback\":null,\"data\":{\"x\":{\"__ndarray__\":\"AAAAAAAAAACRGkt8Vz/AP5EaS3xXP9A/2qdwOgNf2D+RGkt8Vz/gPzXhXVstT+Q/2qdwOgNf6D9+boMZ2W7sP5EaS3xXP/A/433Ua0JH8j814V1bLU/0P4dE50oYV/Y/2qdwOgNf+D8sC/op7mb6P35ugxnZbvw/0NEMCcR2/j+RGkt8Vz8AQDrMD/RMQwFA433Ua0JHAkCML5njN0sDQDXhXVstTwRA3pIi0yJTBUCHROdKGFcGQDD2q8INWwdA2qdwOgNfCECDWTWy+GIJQCwL+inuZgpA1by+oeNqC0B+boMZ2W4MQCcgSJHOcg1A0NEMCcR2DkB5g9GAuXoPQJEaS3xXPxBAZnMtOFLBEEA6zA/0TEMRQA8l8q9HxRFA433Ua0JHEkC41rYnPckSQIwvmeM3SxNAYYh7nzLNE0A14V1bLU8UQAo6QBco0RRA3pIi0yJTFUCz6wSPHdUVQIdE50oYVxZAXJ3JBhPZFkAw9qvCDVsXQAVPjn4I3RdA2qdwOgNfGECuAFP2/eAYQINZNbL4YhlAV7IXbvPkGUAsC/op7mYaQABk3OXo6BpA1by+oeNqG0CpFaFd3uwbQH5ugxnZbhxAUsdl1dPwHEAnIEiRznIdQPt4Kk3J9B1A0NEMCcR2HkCkKu/EvvgeQHmD0YC5eh9ATdyzPLT8H0CRGkt8Vz8gQPtGPNpUgCBAZnMtOFLBIEDQnx6WTwIhQDrMD/RMQyFApPgAUkqEIUAPJfKvR8UhQHlR4w1FBiJA433Ua0JHIkBNqsXJP4giQLjWtic9ySJAIgOohToKI0CML5njN0sjQPZbikE1jCNAYYh7nzLNI0DLtGz9Lw4kQDXhXVstTyRAoA1PuSqQJEAKOkAXKNEkQHRmMXUlEiVA3pIi0yJTJUBJvxMxIJQlQLPrBI8d1SVAHRj27BoWJkCHROdKGFcmQPJw2KgVmCZAXJ3JBhPZJkDGybpkEBonQDD2q8INWydAmyKdIAucJ0AFT45+CN0nQG97f9wFHihA2qdwOgNfKEBE1GGYAKAoQK4AU/b94ChAGC1EVPshKUA=\",\"dtype\":\"float64\",\"shape\":[100]},\"y\":{\"__ndarray__\":\"AAAAAAAAAADwgwJ4LjTAP5qI2QHPEtA/+5MNU1HJ1z8ZTT7q2B3fP0aFmgwa+eI/ABg/lCAV5j+IQCEcMdboP3fOhmLzMOs/EyzujrQb7T/9Izwlj47uPxccgYyLg+8/g6xao7j27z9mZrL8O+bvP7+X94FZUu8/xVNiW3I97j9RB8Ai+6vsP5FWKYlppOo/oSg6uxkv6D/Th2bxK1blPyZGRbpaJeI/8qg+VZVT3T/4C4p0qOPVP+UppLIiM8w/3FNHxZdVuD/J23zJpD6gv+3ENsZjOcS/wo12/ecH0r/dgWKM2KjZv2MTsJELcOC/83ixWvXH47+358MBZM7mv5eCD4nhdum/rExY6Hq267+TIxAn7YPtvwSssILL1+6/70I4BJ6s77/vOc8G+P7vvzTGy1KGze+/3176khQZ77/C8a4NiuTtvzGcHq/dNOy/l0FFlgER6r+FGZN4xoHnvx8WPFK3keS/Cli7+O1M4b+HQNqEwoHbv9kfIiFb+NO/gKyggGI5yL8EhrXMjDywvyGGtcyMPLA/jqyggGI5yD/gHyIhW/jTP39A2oTCgds/DVi7+O1M4T8bFjxSt5HkP4cZk3jGgec/lUFFlgER6j8ynB6v3TTsP8Hxrg2K5O0/4F76khQZ7z80xstShs3vP+85zwb4/u8/8EI4BJ6s7z8DrLCCy9fuP5UjECftg+0/p0xY6Hq26z+Vgg+J4XbpP7fnwwFkzuY/9nixWvXH4z9dE7CRC3DgP9eBYozYqNk/w412/ecH0j/+xDbGYznEP0/bfMmkPqA/+FNHxZdVuL/UKaSyIjPMv+gLinSo49W/+Kg+VZVT3b8lRkW6WiXiv8+HZvErVuW/pig6uxkv6L+TVimJaaTqv1EHwCL7q+y/xFNiW3I97r/Al/eBWVLvv2Zmsvw75u+/g6xao7j2778YHIGMi4Pvv/sjPCWPju6/EyzujrQb7b94zoZi8zDrv4xAIRwx1ui//Bc/lCAV5r9GhZoMGvnivx9NPurYHd+/65MNU1HJ17+SiNkBzxLQv/GDAnguNMC/B1wUMyamwbw=\",\"dtype\":\"float64\",\"shape\":[100]}},\"selected\":{\"id\":\"bfebac6c-8e6d-440e-90ad-57ead9842cf8\",\"type\":\"Selection\"},\"selection_policy\":{\"id\":\"79ae5a58-ba2f-4037-89a1-43db12aa249c\",\"type\":\"UnionRenderers\"}},\"id\":\"f5de2b81-67ab-483e-8db7-581dcb3dfa2a\",\"type\":\"ColumnDataSource\"},{\"attributes\":{\"callback\":null},\"id\":\"bbb94493-407a-43e4-81dc-dfe8ed3ceb0e\",\"type\":\"DataRange1d\"},{\"attributes\":{},\"id\":\"43afa25e-6012-44c3-aab0-5ec44d184e3c\",\"type\":\"PanTool\"},{\"attributes\":{\"callback\":null},\"id\":\"8cbd4490-10d0-4ba7-aa10-d830f0d8b022\",\"type\":\"DataRange1d\"},{\"attributes\":{},\"id\":\"c5bdbec3-ea35-490b-8cb7-15dfda64b807\",\"type\":\"LinearScale\"},{\"attributes\":{},\"id\":\"87e0177f-c5e8-4c7f-aefe-379fe5bb2401\",\"type\":\"LinearScale\"},{\"attributes\":{\"plot\":{\"id\":\"e6303fac-2a9d-43fa-9aad-a47be3aec889\",\"subtype\":\"Figure\",\"type\":\"Plot\"},\"ticker\":{\"id\":\"016ec6cb-72ee-4c0a-9777-7fd3834a7b9b\",\"type\":\"BasicTicker\"}},\"id\":\"514c3d13-48ed-45f7-98ee-efd7c937c607\",\"type\":\"Grid\"},{\"attributes\":{\"formatter\":{\"id\":\"975f6c80-833c-45ae-a594-b938097764c6\",\"type\":\"BasicTickFormatter\"},\"plot\":{\"id\":\"e6303fac-2a9d-43fa-9aad-a47be3aec889\",\"subtype\":\"Figure\",\"type\":\"Plot\"},\"ticker\":{\"id\":\"016ec6cb-72ee-4c0a-9777-7fd3834a7b9b\",\"type\":\"BasicTicker\"}},\"id\":\"ad32b23e-b4ed-42de-a6b0-4651f4bb7bca\",\"type\":\"LinearAxis\"},{\"attributes\":{},\"id\":\"016ec6cb-72ee-4c0a-9777-7fd3834a7b9b\",\"type\":\"BasicTicker\"},{\"attributes\":{\"formatter\":{\"id\":\"8282bb52-5da0-4810-8b35-383798ee4a38\",\"type\":\"BasicTickFormatter\"},\"plot\":{\"id\":\"e6303fac-2a9d-43fa-9aad-a47be3aec889\",\"subtype\":\"Figure\",\"type\":\"Plot\"},\"ticker\":{\"id\":\"db07bae5-b794-4a1f-a382-4ace412f8b23\",\"type\":\"BasicTicker\"}},\"id\":\"fbac0fda-d124-4f13-8f72-c3489094cc74\",\"type\":\"LinearAxis\"},{\"attributes\":{},\"id\":\"db07bae5-b794-4a1f-a382-4ace412f8b23\",\"type\":\"BasicTicker\"},{\"attributes\":{\"dimension\":1,\"plot\":{\"id\":\"e6303fac-2a9d-43fa-9aad-a47be3aec889\",\"subtype\":\"Figure\",\"type\":\"Plot\"},\"ticker\":{\"id\":\"db07bae5-b794-4a1f-a382-4ace412f8b23\",\"type\":\"BasicTicker\"}},\"id\":\"95b13cec-2552-4c37-a40f-6476d935ecad\",\"type\":\"Grid\"},{\"attributes\":{\"fill_alpha\":{\"value\":0.5},\"fill_color\":{\"value\":\"navy\"},\"line_alpha\":{\"value\":0.5},\"line_color\":{\"value\":\"navy\"},\"size\":{\"units\":\"screen\",\"value\":8},\"x\":{\"field\":\"x\"},\"y\":{\"field\":\"y\"}},\"id\":\"63a81612-0fb8-4f9d-992d-d6e07a132bc8\",\"type\":\"Circle\"},{\"attributes\":{\"fill_alpha\":{\"value\":0.1},\"fill_color\":{\"value\":\"#1f77b4\"},\"line_alpha\":{\"value\":0.1},\"line_color\":{\"value\":\"#1f77b4\"},\"size\":{\"units\":\"screen\",\"value\":8},\"x\":{\"field\":\"x\"},\"y\":{\"field\":\"y\"}},\"id\":\"890e39a7-3bc0-4bad-aa0b-6ea00cb1bf2d\",\"type\":\"Circle\"},{\"attributes\":{\"below\":[{\"id\":\"38ec6b21-6ea6-44ba-82fb-fadb989fe136\",\"type\":\"LinearAxis\"}],\"left\":[{\"id\":\"f9235220-eed9-4bd3-b9e2-ac007bbcbac3\",\"type\":\"LinearAxis\"}],\"renderers\":[{\"id\":\"38ec6b21-6ea6-44ba-82fb-fadb989fe136\",\"type\":\"LinearAxis\"},{\"id\":\"af8945d8-b88d-40d2-babf-f52e22dfcb57\",\"type\":\"Grid\"},{\"id\":\"f9235220-eed9-4bd3-b9e2-ac007bbcbac3\",\"type\":\"LinearAxis\"},{\"id\":\"0256a3e2-4246-45e7-8cb8-84f2f646409e\",\"type\":\"Grid\"},{\"id\":\"581a4756-bfb5-450b-a015-beb226854961\",\"type\":\"GlyphRenderer\"}],\"sizing_mode\":\"stretch_both\",\"title\":{\"id\":\"c7daff5c-5835-4259-bd98-97c7ecbc8fef\",\"type\":\"Title\"},\"toolbar\":{\"id\":\"2d3f7a97-27bf-4ae9-a8d8-1dc7dc9790e6\",\"type\":\"Toolbar\"},\"x_range\":{\"id\":\"bbb94493-407a-43e4-81dc-dfe8ed3ceb0e\",\"type\":\"DataRange1d\"},\"x_scale\":{\"id\":\"03df8acb-3d5d-4c6a-939b-fcfa32b8497c\",\"type\":\"LinearScale\"},\"y_range\":{\"id\":\"8cbd4490-10d0-4ba7-aa10-d830f0d8b022\",\"type\":\"DataRange1d\"},\"y_scale\":{\"id\":\"5dfc2176-314b-4a8e-b8c3-8e6c87f05cc5\",\"type\":\"LinearScale\"}},\"id\":\"48491032-eba6-45d7-afe3-92e682488077\",\"subtype\":\"Figure\",\"type\":\"Plot\"},{\"attributes\":{\"data_source\":{\"id\":\"f5de2b81-67ab-483e-8db7-581dcb3dfa2a\",\"type\":\"ColumnDataSource\"},\"glyph\":{\"id\":\"63a81612-0fb8-4f9d-992d-d6e07a132bc8\",\"type\":\"Circle\"},\"hover_glyph\":null,\"muted_glyph\":null,\"nonselection_glyph\":{\"id\":\"890e39a7-3bc0-4bad-aa0b-6ea00cb1bf2d\",\"type\":\"Circle\"},\"selection_glyph\":null,\"view\":{\"id\":\"4697c746-e51c-4ba6-a36c-e2e424e8e5bc\",\"type\":\"CDSView\"}},\"id\":\"7319a8e6-acab-446e-93fa-acfbbbb37004\",\"type\":\"GlyphRenderer\"},{\"attributes\":{\"source\":{\"id\":\"f5de2b81-67ab-483e-8db7-581dcb3dfa2a\",\"type\":\"ColumnDataSource\"}},\"id\":\"4697c746-e51c-4ba6-a36c-e2e424e8e5bc\",\"type\":\"CDSView\"},{\"attributes\":{\"callback\":null,\"data\":{\"x\":{\"__ndarray__\":\"AAAAAAAAAACRGkt8Vz/AP5EaS3xXP9A/2qdwOgNf2D+RGkt8Vz/gPzXhXVstT+Q/2qdwOgNf6D9+boMZ2W7sP5EaS3xXP/A/433Ua0JH8j814V1bLU/0P4dE50oYV/Y/2qdwOgNf+D8sC/op7mb6P35ugxnZbvw/0NEMCcR2/j+RGkt8Vz8AQDrMD/RMQwFA433Ua0JHAkCML5njN0sDQDXhXVstTwRA3pIi0yJTBUCHROdKGFcGQDD2q8INWwdA2qdwOgNfCECDWTWy+GIJQCwL+inuZgpA1by+oeNqC0B+boMZ2W4MQCcgSJHOcg1A0NEMCcR2DkB5g9GAuXoPQJEaS3xXPxBAZnMtOFLBEEA6zA/0TEMRQA8l8q9HxRFA433Ua0JHEkC41rYnPckSQIwvmeM3SxNAYYh7nzLNE0A14V1bLU8UQAo6QBco0RRA3pIi0yJTFUCz6wSPHdUVQIdE50oYVxZAXJ3JBhPZFkAw9qvCDVsXQAVPjn4I3RdA2qdwOgNfGECuAFP2/eAYQINZNbL4YhlAV7IXbvPkGUAsC/op7mYaQABk3OXo6BpA1by+oeNqG0CpFaFd3uwbQH5ugxnZbhxAUsdl1dPwHEAnIEiRznIdQPt4Kk3J9B1A0NEMCcR2HkCkKu/EvvgeQHmD0YC5eh9ATdyzPLT8H0CRGkt8Vz8gQPtGPNpUgCBAZnMtOFLBIEDQnx6WTwIhQDrMD/RMQyFApPgAUkqEIUAPJfKvR8UhQHlR4w1FBiJA433Ua0JHIkBNqsXJP4giQLjWtic9ySJAIgOohToKI0CML5njN0sjQPZbikE1jCNAYYh7nzLNI0DLtGz9Lw4kQDXhXVstTyRAoA1PuSqQJEAKOkAXKNEkQHRmMXUlEiVA3pIi0yJTJUBJvxMxIJQlQLPrBI8d1SVAHRj27BoWJkCHROdKGFcmQPJw2KgVmCZAXJ3JBhPZJkDGybpkEBonQDD2q8INWydAmyKdIAucJ0AFT45+CN0nQG97f9wFHihA2qdwOgNfKEBE1GGYAKAoQK4AU/b94ChAGC1EVPshKUA=\",\"dtype\":\"float64\",\"shape\":[100]},\"y\":{\"__ndarray__\":\"AAAAAAAA8D9o+gYFGL7vPyN/Fo5v+e4/XLHeqjC17T9foQT4kvbrP1YykSHGxOk/tDkVSdQo5z9AE3HJfC3kP1wsoPEH3+A/thLH2SiW2j9bQ2NRvgDTP4xzC34aOsY/cyCwKKhcqD8MyeikuUm0v0/eq9oaN8q/PSGBd67u1L+LyZhelmvcv8/m3JG2ueG/hlh3f5705L9dUsfUNNnnv10cd/2OW+q/wfLvCVdx7L8bLVJC9hHuv0PyRoe4Nu+/XjTx7ufa778HB0As4PvvvwQ9tXAZme+/V1DNmyq07r/ZTwivwlDtv4lZi6GZdOu/JeDa0Vgn6b/aPrV2e3Lmv8y0DJEnYeO/+f//////3783i/Tn4LnYv4yAwi7oDdG/3kQPZF83wr9U+ijPKj+QvxHsuGvkX7w/k1rgSlktzj+GU4hOOdfWP1m1P3WwOd4/AasNgtOP4j+XUJVeWbblPzdQz6Jvg+g/uvBkh4zr6j99NRQyxuTsP/FJcov7Zu4/Juk3u/Vr7z+VSynBge/vP5RLKcGB7+8/Jek3u/Vr7z/vSXKL+2buP381FDLG5Ow/uPBkh4zr6j86UM+ib4PoP5RQlV5ZtuU/BasNgtOP4j9TtT91sDneP45TiE4519Y/hVrgSlktzj807Lhr5F+8P8f6KM8qP5C/zUQPZF83wr+TgMIu6A3Rvy+L9Ofgudi/BwAAAAAA4L/PtAyRJ2Hjv9k+tXZ7cua/I+Da0Vgn6b+NWYuhmXTrv9pPCK/CUO2/V1DNmyq07r8DPbVwGZnvvwgHQCzg+++/XjTx7ufa779E8kaHuDbvvx4tUkL2Ee6/wPLvCVdx7L9dHHf9jlvqv2BSx9Q02ee/gVh3f5705L/M5tyRtrnhv4zJmF6Wa9y/RSGBd67u1L8x3qvaGjfKv/DI6KS5SbS/bSCwKKhcqD9zcwt+GjrGP2ZDY1G+ANM/uRLH2SiW2j9aLKDxB9/gPzsTccl8LeQ/uDkVSdQo5z9WMpEhxsTpP16hBPiS9us/X7HeqjC17T8kfxaOb/nuP2j6BgUYvu8/AAAAAAAA8D8=\",\"dtype\":\"float64\",\"shape\":[100]}},\"selected\":{\"id\":\"a0219bc7-d342-40df-9629-69d7ad4de15f\",\"type\":\"Selection\"},\"selection_policy\":{\"id\":\"9b831986-1853-4749-8eff-77cdfd6544ac\",\"type\":\"UnionRenderers\"}},\"id\":\"a86d8ada-473b-4b9e-98f1-a5edb026533f\",\"type\":\"ColumnDataSource\"},{\"attributes\":{\"active_drag\":\"auto\",\"active_inspect\":\"auto\",\"active_multi\":null,\"active_scroll\":\"auto\",\"active_tap\":\"auto\",\"tools\":[{\"id\":\"bf2193a9-ab9c-41f6-937d-eed67ac093bb\",\"type\":\"PanTool\"}]},\"id\":\"2d3f7a97-27bf-4ae9-a8d8-1dc7dc9790e6\",\"type\":\"Toolbar\"},{\"attributes\":{},\"id\":\"03df8acb-3d5d-4c6a-939b-fcfa32b8497c\",\"type\":\"LinearScale\"},{\"attributes\":{},\"id\":\"bf2193a9-ab9c-41f6-937d-eed67ac093bb\",\"type\":\"PanTool\"},{\"attributes\":{},\"id\":\"5dfc2176-314b-4a8e-b8c3-8e6c87f05cc5\",\"type\":\"LinearScale\"},{\"attributes\":{\"plot\":{\"id\":\"48491032-eba6-45d7-afe3-92e682488077\",\"subtype\":\"Figure\",\"type\":\"Plot\"},\"ticker\":{\"id\":\"4b4087cf-f3ac-4222-8b73-a910443bcc79\",\"type\":\"BasicTicker\"}},\"id\":\"af8945d8-b88d-40d2-babf-f52e22dfcb57\",\"type\":\"Grid\"},{\"attributes\":{\"formatter\":{\"id\":\"dfac06fb-248a-4463-9423-3b2e7959a516\",\"type\":\"BasicTickFormatter\"},\"plot\":{\"id\":\"48491032-eba6-45d7-afe3-92e682488077\",\"subtype\":\"Figure\",\"type\":\"Plot\"},\"ticker\":{\"id\":\"4b4087cf-f3ac-4222-8b73-a910443bcc79\",\"type\":\"BasicTicker\"}},\"id\":\"38ec6b21-6ea6-44ba-82fb-fadb989fe136\",\"type\":\"LinearAxis\"},{\"attributes\":{},\"id\":\"4b4087cf-f3ac-4222-8b73-a910443bcc79\",\"type\":\"BasicTicker\"},{\"attributes\":{\"formatter\":{\"id\":\"3af2d69c-5411-4102-beb1-57c9e28420ba\",\"type\":\"BasicTickFormatter\"},\"plot\":{\"id\":\"48491032-eba6-45d7-afe3-92e682488077\",\"subtype\":\"Figure\",\"type\":\"Plot\"},\"ticker\":{\"id\":\"a3bf92c3-7e4d-46bb-bb40-38b2be060e27\",\"type\":\"BasicTicker\"}},\"id\":\"f9235220-eed9-4bd3-b9e2-ac007bbcbac3\",\"type\":\"LinearAxis\"},{\"attributes\":{},\"id\":\"a3bf92c3-7e4d-46bb-bb40-38b2be060e27\",\"type\":\"BasicTicker\"},{\"attributes\":{\"dimension\":1,\"plot\":{\"id\":\"48491032-eba6-45d7-afe3-92e682488077\",\"subtype\":\"Figure\",\"type\":\"Plot\"},\"ticker\":{\"id\":\"a3bf92c3-7e4d-46bb-bb40-38b2be060e27\",\"type\":\"BasicTicker\"}},\"id\":\"0256a3e2-4246-45e7-8cb8-84f2f646409e\",\"type\":\"Grid\"},{\"attributes\":{\"fill_alpha\":{\"value\":0.5},\"fill_color\":{\"value\":\"firebrick\"},\"line_alpha\":{\"value\":0.5},\"line_color\":{\"value\":\"firebrick\"},\"size\":{\"units\":\"screen\",\"value\":8},\"x\":{\"field\":\"x\"},\"y\":{\"field\":\"y\"}},\"id\":\"81c531b1-c28d-4346-af92-82ea3f1f071f\",\"type\":\"Circle\"},{\"attributes\":{\"fill_alpha\":{\"value\":0.1},\"fill_color\":{\"value\":\"#1f77b4\"},\"line_alpha\":{\"value\":0.1},\"line_color\":{\"value\":\"#1f77b4\"},\"size\":{\"units\":\"screen\",\"value\":8},\"x\":{\"field\":\"x\"},\"y\":{\"field\":\"y\"}},\"id\":\"7d2ac5e1-542b-4489-92af-4ec941fe29f6\",\"type\":\"Circle\"},{\"attributes\":{\"source\":{\"id\":\"a86d8ada-473b-4b9e-98f1-a5edb026533f\",\"type\":\"ColumnDataSource\"}},\"id\":\"949aa795-e9bf-414a-ae9a-ac7179772e76\",\"type\":\"CDSView\"},{\"attributes\":{\"data_source\":{\"id\":\"a86d8ada-473b-4b9e-98f1-a5edb026533f\",\"type\":\"ColumnDataSource\"},\"glyph\":{\"id\":\"81c531b1-c28d-4346-af92-82ea3f1f071f\",\"type\":\"Circle\"},\"hover_glyph\":null,\"muted_glyph\":null,\"nonselection_glyph\":{\"id\":\"7d2ac5e1-542b-4489-92af-4ec941fe29f6\",\"type\":\"Circle\"},\"selection_glyph\":null,\"view\":{\"id\":\"949aa795-e9bf-414a-ae9a-ac7179772e76\",\"type\":\"CDSView\"}},\"id\":\"581a4756-bfb5-450b-a015-beb226854961\",\"type\":\"GlyphRenderer\"},{\"attributes\":{\"children\":[{\"id\":\"1704d77d-0051-4cd3-b7c9-5839260f8db4\",\"subtype\":\"Figure\",\"type\":\"Plot\"}],\"sizing_mode\":\"stretch_both\"},\"id\":\"663e45fa-09aa-4275-9e3e-4b54933429c4\",\"type\":\"Row\"},{\"attributes\":{\"below\":[{\"id\":\"b7b32c05-cf28-4da1-963e-372b7e7609db\",\"type\":\"LinearAxis\"}],\"left\":[{\"id\":\"dbaf43bf-9288-4b32-bee0-d130945d2b72\",\"type\":\"LinearAxis\"}],\"renderers\":[{\"id\":\"b7b32c05-cf28-4da1-963e-372b7e7609db\",\"type\":\"LinearAxis\"},{\"id\":\"25e20fca-c9fa-40a0-a2c0-974c1828285d\",\"type\":\"Grid\"},{\"id\":\"dbaf43bf-9288-4b32-bee0-d130945d2b72\",\"type\":\"LinearAxis\"},{\"id\":\"b6dfbdeb-7f22-4e0a-9add-36c07c0ef486\",\"type\":\"Grid\"},{\"id\":\"2b4dff13-cd22-4711-bd50-e64af1d9cded\",\"type\":\"BoxAnnotation\"},{\"id\":\"a50eefd2-02fe-404e-a5f0-f07b03950f23\",\"type\":\"GlyphRenderer\"}],\"sizing_mode\":\"stretch_both\",\"title\":{\"id\":\"b4c18167-6850-4072-a5eb-ada276b49bd0\",\"type\":\"Title\"},\"toolbar\":{\"id\":\"e235e18b-39c5-4fc6-b46a-11089039ef6a\",\"type\":\"Toolbar\"},\"x_range\":{\"id\":\"bbb94493-407a-43e4-81dc-dfe8ed3ceb0e\",\"type\":\"DataRange1d\"},\"x_scale\":{\"id\":\"70953412-2098-4c44-9b03-f1495b0f2047\",\"type\":\"LinearScale\"},\"y_range\":{\"id\":\"72649708-263c-4f14-a71c-f1205fa2259d\",\"type\":\"DataRange1d\"},\"y_scale\":{\"id\":\"7bae14d8-4b7e-4df4-9592-edbd00116acc\",\"type\":\"LinearScale\"}},\"id\":\"8a0bf8bc-5d94-4e7f-a05c-e68c19e11c55\",\"subtype\":\"Figure\",\"type\":\"Plot\"},{\"attributes\":{\"active_drag\":\"auto\",\"active_inspect\":\"auto\",\"active_multi\":null,\"active_scroll\":\"auto\",\"active_tap\":\"auto\",\"tools\":[{\"id\":\"14d67b40-46ab-426a-9ba0-5ec35a8316c2\",\"type\":\"PanTool\"},{\"id\":\"a9c5bdcd-ff32-4c75-854e-863b7e2bec0e\",\"type\":\"BoxSelectTool\"}]},\"id\":\"e235e18b-39c5-4fc6-b46a-11089039ef6a\",\"type\":\"Toolbar\"},{\"attributes\":{\"callback\":null},\"id\":\"72649708-263c-4f14-a71c-f1205fa2259d\",\"type\":\"DataRange1d\"},{\"attributes\":{\"bottom_units\":\"screen\",\"fill_alpha\":{\"value\":0.5},\"fill_color\":{\"value\":\"lightgrey\"},\"left_units\":\"screen\",\"level\":\"overlay\",\"line_alpha\":{\"value\":1.0},\"line_color\":{\"value\":\"black\"},\"line_dash\":[4,4],\"line_width\":{\"value\":2},\"plot\":null,\"render_mode\":\"css\",\"right_units\":\"screen\",\"top_units\":\"screen\"},\"id\":\"2b4dff13-cd22-4711-bd50-e64af1d9cded\",\"type\":\"BoxAnnotation\"},{\"attributes\":{},\"id\":\"70953412-2098-4c44-9b03-f1495b0f2047\",\"type\":\"LinearScale\"},{\"attributes\":{},\"id\":\"7bae14d8-4b7e-4df4-9592-edbd00116acc\",\"type\":\"LinearScale\"},{\"attributes\":{\"plot\":{\"id\":\"8a0bf8bc-5d94-4e7f-a05c-e68c19e11c55\",\"subtype\":\"Figure\",\"type\":\"Plot\"},\"ticker\":{\"id\":\"0f2067d0-5e52-4dc7-b5bb-e86aec1d2c9a\",\"type\":\"BasicTicker\"}},\"id\":\"25e20fca-c9fa-40a0-a2c0-974c1828285d\",\"type\":\"Grid\"},{\"attributes\":{\"formatter\":{\"id\":\"7c2e2819-59ab-4806-ab2e-ea5c046715f9\",\"type\":\"BasicTickFormatter\"},\"plot\":{\"id\":\"8a0bf8bc-5d94-4e7f-a05c-e68c19e11c55\",\"subtype\":\"Figure\",\"type\":\"Plot\"},\"ticker\":{\"id\":\"0f2067d0-5e52-4dc7-b5bb-e86aec1d2c9a\",\"type\":\"BasicTicker\"}},\"id\":\"b7b32c05-cf28-4da1-963e-372b7e7609db\",\"type\":\"LinearAxis\"},{\"attributes\":{},\"id\":\"0f2067d0-5e52-4dc7-b5bb-e86aec1d2c9a\",\"type\":\"BasicTicker\"},{\"attributes\":{\"formatter\":{\"id\":\"e5894597-5fa2-42df-a8c3-291dcff74c40\",\"type\":\"BasicTickFormatter\"},\"plot\":{\"id\":\"8a0bf8bc-5d94-4e7f-a05c-e68c19e11c55\",\"subtype\":\"Figure\",\"type\":\"Plot\"},\"ticker\":{\"id\":\"59e83767-8e89-4ff3-b616-69c3e50fcf3a\",\"type\":\"BasicTicker\"}},\"id\":\"dbaf43bf-9288-4b32-bee0-d130945d2b72\",\"type\":\"LinearAxis\"},{\"attributes\":{},\"id\":\"59e83767-8e89-4ff3-b616-69c3e50fcf3a\",\"type\":\"BasicTicker\"},{\"attributes\":{\"dimension\":1,\"plot\":{\"id\":\"8a0bf8bc-5d94-4e7f-a05c-e68c19e11c55\",\"subtype\":\"Figure\",\"type\":\"Plot\"},\"ticker\":{\"id\":\"59e83767-8e89-4ff3-b616-69c3e50fcf3a\",\"type\":\"BasicTicker\"}},\"id\":\"b6dfbdeb-7f22-4e0a-9add-36c07c0ef486\",\"type\":\"Grid\"},{\"attributes\":{\"callback\":null,\"data\":{\"x\":{\"__ndarray__\":\"AAAAAAAAAACRGkt8Vz/AP5EaS3xXP9A/2qdwOgNf2D+RGkt8Vz/gPzXhXVstT+Q/2qdwOgNf6D9+boMZ2W7sP5EaS3xXP/A/433Ua0JH8j814V1bLU/0P4dE50oYV/Y/2qdwOgNf+D8sC/op7mb6P35ugxnZbvw/0NEMCcR2/j+RGkt8Vz8AQDrMD/RMQwFA433Ua0JHAkCML5njN0sDQDXhXVstTwRA3pIi0yJTBUCHROdKGFcGQDD2q8INWwdA2qdwOgNfCECDWTWy+GIJQCwL+inuZgpA1by+oeNqC0B+boMZ2W4MQCcgSJHOcg1A0NEMCcR2DkB5g9GAuXoPQJEaS3xXPxBAZnMtOFLBEEA6zA/0TEMRQA8l8q9HxRFA433Ua0JHEkC41rYnPckSQIwvmeM3SxNAYYh7nzLNE0A14V1bLU8UQAo6QBco0RRA3pIi0yJTFUCz6wSPHdUVQIdE50oYVxZAXJ3JBhPZFkAw9qvCDVsXQAVPjn4I3RdA2qdwOgNfGECuAFP2/eAYQINZNbL4YhlAV7IXbvPkGUAsC/op7mYaQABk3OXo6BpA1by+oeNqG0CpFaFd3uwbQH5ugxnZbhxAUsdl1dPwHEAnIEiRznIdQPt4Kk3J9B1A0NEMCcR2HkCkKu/EvvgeQHmD0YC5eh9ATdyzPLT8H0CRGkt8Vz8gQPtGPNpUgCBAZnMtOFLBIEDQnx6WTwIhQDrMD/RMQyFApPgAUkqEIUAPJfKvR8UhQHlR4w1FBiJA433Ua0JHIkBNqsXJP4giQLjWtic9ySJAIgOohToKI0CML5njN0sjQPZbikE1jCNAYYh7nzLNI0DLtGz9Lw4kQDXhXVstTyRAoA1PuSqQJEAKOkAXKNEkQHRmMXUlEiVA3pIi0yJTJUBJvxMxIJQlQLPrBI8d1SVAHRj27BoWJkCHROdKGFcmQPJw2KgVmCZAXJ3JBhPZJkDGybpkEBonQDD2q8INWydAmyKdIAucJ0AFT45+CN0nQG97f9wFHihA2qdwOgNfKEBE1GGYAKAoQK4AU/b94ChAGC1EVPshKUA=\",\"dtype\":\"float64\",\"shape\":[100]},\"y\":{\"__ndarray__\":\"AAAAAAAA8D+yzYPRkeXxP7ihgYdrgfM/rb0yquzM9D/245G2v8L1P87bFRfwXvY/2iiqbvqe9j/kKcny1oH2P2p9E6r9B/Y/t9rofWQz9T/V4vYmdwf0P338ARYJifI/RdfykkG+8D9ETRXIBF3tPyugTMuSxOg/JsOhHxvG4z8XRefmX+zcP4TfmO5l1dE/2IAW3tnTuT9QVAYbRxi0v26sY4ZobNC/kDyhvhiP278fJw0IIiDjv8rnndrvKei/4klI9jTQ7L9i6ms85X/wvyB3ITG5U/K/nEtETQ/c879kyJx6lxL1v3a2nZlS8vW/jCxGFqd39r9Ikzy8b6D2v7IbDo0EbPa/VCYsdD3b9b+XNIXNbvD0vyX2CM1fr/O/Ewqe7jod8r/hQKSueEDwv7KoVMWJQey/OkhCQL6N57//x2pm7XjivwmD/egKMNq/WFreULgEzr/gjtyf0basv8DQmYTCjb8/YDFTHT090z9zKk7fyUfePwQ64frNauQ/Br4PG51d6T/UmpIn8OftPyz+X62J+/A/JAqwLSe98j/wrAGOlDH0P9+qQLrTUvU/YiQQQD0c9j8qs4V6k4r2Pw41lOsPnPY/TXYpjGpQ9j9uO9/02qj1P8SNeVoTqPQ/wTrZcjVS8z/dcSFwwazxPxnyVbD+fO8/vXE0K8Ye6z+6a09r11DmP/7dFbP8JuE/QJmw0PVs1z8YNwvg51bIP4A3qsMi+oY/tJyl3I19xb9gjLYfHAnWv+4O12hWfOC/dgkSnTaw5b/Eiyd/wIrqv1M5qN/19+6/bg/Nc81y8b9c/veZwCHzv4mZSz7lgfS/nqNH2pCN9b9BMd7bdED2vxjtFmOwl/a/lMBYHdyR9r+wHoMNEC/2vww2BinjcPW/M3KRy2Ra9L+mR1EcEPDyv8K/p5i5N/G/fKrPIO5w7r87P/7sBPXpv0iCivwvDuW/bUUVRECh3788RM3h1qPUv0S1wErRosK/wBtiTTs7oT9AtNpTsC7LP531ygVNz9g/audXAYjQ4T/buikNCPDmP2xZBmcMses//P//////7z8=\",\"dtype\":\"float64\",\"shape\":[100]}},\"selected\":{\"id\":\"1fbf17bb-8a5b-420b-946c-072c474c392c\",\"type\":\"Selection\"},\"selection_policy\":{\"id\":\"518cb5de-8fbd-4978-bd0b-abee34a9c17f\",\"type\":\"UnionRenderers\"}},\"id\":\"d89ce7aa-35ff-4832-a78a-6ef15c14e39e\",\"type\":\"ColumnDataSource\"},{\"attributes\":{},\"id\":\"14d67b40-46ab-426a-9ba0-5ec35a8316c2\",\"type\":\"PanTool\"},{\"attributes\":{\"callback\":null},\"id\":\"165f1668-a148-4aa0-b7d0-8775af51b9ee\",\"type\":\"DataRange1d\"},{\"attributes\":{\"fill_alpha\":{\"value\":0.5},\"fill_color\":{\"value\":\"olive\"},\"line_alpha\":{\"value\":0.5},\"line_color\":{\"value\":\"olive\"},\"size\":{\"units\":\"screen\",\"value\":8},\"x\":{\"field\":\"x\"},\"y\":{\"field\":\"y\"}},\"id\":\"9e8677d7-8953-47ee-bcc3-c14a0909c8fa\",\"type\":\"Circle\"},{\"attributes\":{\"callback\":null,\"overlay\":{\"id\":\"2b4dff13-cd22-4711-bd50-e64af1d9cded\",\"type\":\"BoxAnnotation\"}},\"id\":\"a9c5bdcd-ff32-4c75-854e-863b7e2bec0e\",\"type\":\"BoxSelectTool\"},{\"attributes\":{\"source\":{\"id\":\"d89ce7aa-35ff-4832-a78a-6ef15c14e39e\",\"type\":\"ColumnDataSource\"}},\"id\":\"7c7deae7-76e7-4df9-ba2d-b054559b6103\",\"type\":\"CDSView\"},{\"attributes\":{\"data_source\":{\"id\":\"d89ce7aa-35ff-4832-a78a-6ef15c14e39e\",\"type\":\"ColumnDataSource\"},\"glyph\":{\"id\":\"9e8677d7-8953-47ee-bcc3-c14a0909c8fa\",\"type\":\"Circle\"},\"hover_glyph\":null,\"muted_glyph\":null,\"nonselection_glyph\":{\"id\":\"bc4b00e2-3c13-49cd-b3ce-b65b3500e65f\",\"type\":\"Circle\"},\"selection_glyph\":null,\"view\":{\"id\":\"7c7deae7-76e7-4df9-ba2d-b054559b6103\",\"type\":\"CDSView\"}},\"id\":\"a50eefd2-02fe-404e-a5f0-f07b03950f23\",\"type\":\"GlyphRenderer\"},{\"attributes\":{\"fill_alpha\":{\"value\":0.1},\"fill_color\":{\"value\":\"#1f77b4\"},\"line_alpha\":{\"value\":0.1},\"line_color\":{\"value\":\"#1f77b4\"},\"size\":{\"units\":\"screen\",\"value\":8},\"x\":{\"field\":\"x\"},\"y\":{\"field\":\"y\"}},\"id\":\"bc4b00e2-3c13-49cd-b3ce-b65b3500e65f\",\"type\":\"Circle\"},{\"attributes\":{\"children\":[{\"id\":\"663e45fa-09aa-4275-9e3e-4b54933429c4\",\"type\":\"Row\"},{\"id\":\"e44af5da-f402-4abc-989c-580b8e283467\",\"type\":\"Row\"},{\"id\":\"dc3f2468-d566-4a3d-88b2-404ec65b052a\",\"type\":\"Row\"}],\"sizing_mode\":\"stretch_both\"},\"id\":\"e201ad66-08e7-458f-97c8-202474106ad8\",\"type\":\"Column\"},{\"attributes\":{\"children\":[{\"id\":\"8f497aeb-d9a1-4624-9205-9d4c46954297\",\"type\":\"WidgetBox\"},{\"id\":\"e959a198-535b-454c-b4cf-7c33f935b1c6\",\"subtype\":\"Figure\",\"type\":\"Plot\"}],\"sizing_mode\":\"stretch_both\"},\"id\":\"e44af5da-f402-4abc-989c-580b8e283467\",\"type\":\"Row\"},{\"attributes\":{\"children\":[{\"id\":\"e6303fac-2a9d-43fa-9aad-a47be3aec889\",\"subtype\":\"Figure\",\"type\":\"Plot\"},{\"id\":\"48491032-eba6-45d7-afe3-92e682488077\",\"subtype\":\"Figure\",\"type\":\"Plot\"},{\"id\":\"8a0bf8bc-5d94-4e7f-a05c-e68c19e11c55\",\"subtype\":\"Figure\",\"type\":\"Plot\"}],\"sizing_mode\":\"stretch_both\"},\"id\":\"dc3f2468-d566-4a3d-88b2-404ec65b052a\",\"type\":\"Row\"},{\"attributes\":{\"plot\":null,\"text\":\"\"},\"id\":\"a7b7a006-6372-4dc9-820c-4e3280738b39\",\"type\":\"Title\"},{\"attributes\":{},\"id\":\"9b5c15bf-6bb5-472d-92ac-d910efb605ee\",\"type\":\"BasicTickFormatter\"},{\"attributes\":{\"plot\":null,\"text\":\"\"},\"id\":\"c7daff5c-5835-4259-bd98-97c7ecbc8fef\",\"type\":\"Title\"},{\"attributes\":{\"base\":60,\"mantissas\":[1,2,5,10,15,20,30],\"max_interval\":1800000.0,\"min_interval\":1000.0,\"num_minor_ticks\":0},\"id\":\"de960300-2d1a-436c-9c6e-a771c6ad0a77\",\"type\":\"AdaptiveTicker\"},{\"attributes\":{\"plot\":null,\"text\":\"\"},\"id\":\"b4c18167-6850-4072-a5eb-ada276b49bd0\",\"type\":\"Title\"},{\"attributes\":{},\"id\":\"c3758638-af34-419d-b06c-22588509492f\",\"type\":\"DatetimeTickFormatter\"},{\"attributes\":{},\"id\":\"53cd0800-d5e7-4f1a-a4e9-f0cec3434c5d\",\"type\":\"BasicTickFormatter\"},{\"attributes\":{},\"id\":\"88e82b8b-12e5-4ab7-8095-6e0fba1a754c\",\"type\":\"BasicTickFormatter\"},{\"attributes\":{},\"id\":\"975f6c80-833c-45ae-a594-b938097764c6\",\"type\":\"BasicTickFormatter\"},{\"attributes\":{},\"id\":\"79ae5a58-ba2f-4037-89a1-43db12aa249c\",\"type\":\"UnionRenderers\"},{\"attributes\":{},\"id\":\"8282bb52-5da0-4810-8b35-383798ee4a38\",\"type\":\"BasicTickFormatter\"},{\"attributes\":{},\"id\":\"bfebac6c-8e6d-440e-90ad-57ead9842cf8\",\"type\":\"Selection\"},{\"attributes\":{},\"id\":\"dfac06fb-248a-4463-9423-3b2e7959a516\",\"type\":\"BasicTickFormatter\"},{\"attributes\":{},\"id\":\"3af2d69c-5411-4102-beb1-57c9e28420ba\",\"type\":\"BasicTickFormatter\"},{\"attributes\":{},\"id\":\"7c2e2819-59ab-4806-ab2e-ea5c046715f9\",\"type\":\"BasicTickFormatter\"},{\"attributes\":{},\"id\":\"e5894597-5fa2-42df-a8c3-291dcff74c40\",\"type\":\"BasicTickFormatter\"},{\"attributes\":{\"mantissas\":[1,2,5],\"max_interval\":500.0,\"num_minor_ticks\":0},\"id\":\"75b6b82e-0fdb-4f33-855b-0ee5b2ddd69f\",\"type\":\"AdaptiveTicker\"},{\"attributes\":{},\"id\":\"a0219bc7-d342-40df-9629-69d7ad4de15f\",\"type\":\"Selection\"},{\"attributes\":{\"base\":24,\"mantissas\":[1,2,4,6,8,12],\"max_interval\":43200000.0,\"min_interval\":3600000.0,\"num_minor_ticks\":0},\"id\":\"d67daf4f-bdd3-455d-809c-9167dbc3d607\",\"type\":\"AdaptiveTicker\"},{\"attributes\":{\"days\":[1,2,3,4,5,6,7,8,9,10,11,12,13,14,15,16,17,18,19,20,21,22,23,24,25,26,27,28,29,30,31]},\"id\":\"36299274-fd47-4662-843e-fced23e1b5ca\",\"type\":\"DaysTicker\"},{\"attributes\":{\"days\":[1,4,7,10,13,16,19,22,25,28]},\"id\":\"1e14ce3b-d508-4d59-8bbc-56bb6a7b5267\",\"type\":\"DaysTicker\"},{\"attributes\":{\"days\":[1,8,15,22]},\"id\":\"048eda99-a009-4cc3-8b88-f02bd792f3cd\",\"type\":\"DaysTicker\"},{\"attributes\":{\"days\":[1,15]},\"id\":\"c09fa8fb-59df-4735-9e1a-e4173a6d31a2\",\"type\":\"DaysTicker\"},{\"attributes\":{\"months\":[0,1,2,3,4,5,6,7,8,9,10,11]},\"id\":\"493e6673-bf13-4825-ae29-a746997f5f28\",\"type\":\"MonthsTicker\"},{\"attributes\":{\"callback\":null},\"id\":\"8a9e8294-8579-4a95-a1c0-2a9f34641420\",\"type\":\"DataRange1d\"},{\"attributes\":{\"months\":[0,2,4,6,8,10]},\"id\":\"baf5ee2a-1d5d-47c2-8919-f051913e6780\",\"type\":\"MonthsTicker\"},{\"attributes\":{\"months\":[0,4,8]},\"id\":\"384ed946-6835-445c-9044-455a310fbb9a\",\"type\":\"MonthsTicker\"},{\"attributes\":{\"months\":[0,6]},\"id\":\"49777cb3-bc68-4040-b889-f416fc8ae7ea\",\"type\":\"MonthsTicker\"},{\"attributes\":{},\"id\":\"d895bf0a-37ae-4b25-9c9f-1037af472303\",\"type\":\"YearsTicker\"},{\"attributes\":{},\"id\":\"75b691ea-fc90-421c-bcd3-904ec07888d6\",\"type\":\"Selection\"},{\"attributes\":{},\"id\":\"038c6fa6-20ea-4daf-999f-76d454e73844\",\"type\":\"UnionRenderers\"},{\"attributes\":{},\"id\":\"50adc275-4ebc-40a7-9359-1dabc44e77aa\",\"type\":\"LinearScale\"},{\"attributes\":{},\"id\":\"3c940007-c903-4159-95e3-e1fcacc20ce8\",\"type\":\"Selection\"},{\"attributes\":{},\"id\":\"ad76e1f5-ba48-4e1d-9d5d-c9fe8e0235f1\",\"type\":\"UnionRenderers\"},{\"attributes\":{},\"id\":\"518cb5de-8fbd-4978-bd0b-abee34a9c17f\",\"type\":\"UnionRenderers\"},{\"attributes\":{},\"id\":\"9b831986-1853-4749-8eff-77cdfd6544ac\",\"type\":\"UnionRenderers\"},{\"attributes\":{},\"id\":\"1fbf17bb-8a5b-420b-946c-072c474c392c\",\"type\":\"Selection\"},{\"attributes\":{\"below\":[{\"id\":\"2157162a-324b-4f90-97e0-93ea1f8255e8\",\"type\":\"DatetimeAxis\"}],\"left\":[{\"id\":\"9ceed1ac-9c47-4628-80ee-cb81781ab2ff\",\"type\":\"LinearAxis\"}],\"plot_width\":800,\"renderers\":[{\"id\":\"2157162a-324b-4f90-97e0-93ea1f8255e8\",\"type\":\"DatetimeAxis\"},{\"id\":\"7abf6593-5403-487d-901b-8fbcc0c658ca\",\"type\":\"Grid\"},{\"id\":\"9ceed1ac-9c47-4628-80ee-cb81781ab2ff\",\"type\":\"LinearAxis\"},{\"id\":\"483ce88a-e4c6-44fd-9456-036a0757eb90\",\"type\":\"Grid\"},{\"id\":\"ae0f9e5e-b5ed-4528-ba6f-4ce02e97e28a\",\"type\":\"GlyphRenderer\"}],\"sizing_mode\":\"stretch_both\",\"title\":{\"id\":\"05024dfe-4abe-4279-8dbc-22b8e72d85d5\",\"type\":\"Title\"},\"title_location\":\"left\",\"toolbar\":{\"id\":\"b451e86f-821d-4cc7-9e4e-d76cd009fbd0\",\"type\":\"Toolbar\"},\"x_range\":{\"id\":\"8a9e8294-8579-4a95-a1c0-2a9f34641420\",\"type\":\"DataRange1d\"},\"x_scale\":{\"id\":\"50adc275-4ebc-40a7-9359-1dabc44e77aa\",\"type\":\"LinearScale\"},\"y_range\":{\"id\":\"165f1668-a148-4aa0-b7d0-8775af51b9ee\",\"type\":\"DataRange1d\"},\"y_scale\":{\"id\":\"cb56e68b-abc0-4e97-976d-3dc1e7ad419c\",\"type\":\"LinearScale\"}},\"id\":\"1704d77d-0051-4cd3-b7c9-5839260f8db4\",\"subtype\":\"Figure\",\"type\":\"Plot\"},{\"attributes\":{\"callback\":null,\"data\":{\"x\":[1,2,3,4,5,6,7,8,9,10,11,12,13,14,15,16,17,18,19,20,21,22,23,24,25,26,27,28,29,30,31,32,33,34,35,36,37,38,39,40,41,42,43,44,45,46,47,48,49,50,51,52,53,54,55,56,57,58,59,60,61,62,63,64,65,66,67,68,69,70,71,72,73,74,75,76,77,78,79,80,81,82,83,84,85,86,87,88,89,90,91,92,93,94,95,96,97,98,99,100,100,99,98,97,96,95,94,93,92,91,90,89,88,87,86,85,84,83,82,81,80,79,78,77,76,75,74,73,72,71,70,69,68,67,66,65,64,63,62,61,60,59,58,57,56,55,54,53,52,51,50,49,48,47,46,45,44,43,42,41,40,39,38,37,36,35,34,33,32,31,30,29,28,27,26,25,24,23,22,21,20,19,18,17,16,15,14,13,12,11,10,9,8,7,6,5,4,3,2,1],\"y\":[0,44,11,49,22,41,44,36,29,32,37,45,26,37,39,4,4,40,22,36,40,27,7,23,15,13,26,0,7,45,29,41,32,13,34,34,3,23,2,24,31,4,13,2,43,50,43,3,45,22,1,29,22,32,39,16,43,45,50,22,17,41,50,7,16,45,46,7,39,48,8,33,44,2,17,10,11,46,35,46,39,10,49,32,41,42,12,17,9,28,43,37,17,19,33,14,42,21,2,23,123,102,121,142,114,133,119,117,137,143,128,109,117,112,142,141,132,149,110,139,146,135,146,111,110,117,102,144,133,108,148,139,107,146,145,116,107,150,141,117,122,150,145,143,116,139,132,122,129,101,122,145,103,143,150,143,102,113,104,131,124,102,123,103,134,134,113,132,141,129,145,107,100,126,113,115,123,107,127,140,136,122,140,104,104,139,137,126,145,137,132,129,136,144,141,122,149,111,144,100]},\"selected\":{\"id\":\"75b691ea-fc90-421c-bcd3-904ec07888d6\",\"type\":\"Selection\"},\"selection_policy\":{\"id\":\"038c6fa6-20ea-4daf-999f-76d454e73844\",\"type\":\"UnionRenderers\"}},\"id\":\"d1913725-1c42-4373-87cd-b8c5b99f52fb\",\"type\":\"ColumnDataSource\"},{\"attributes\":{\"active_drag\":\"auto\",\"active_inspect\":\"auto\",\"active_multi\":null,\"active_scroll\":\"auto\",\"active_tap\":\"auto\",\"tools\":[{\"id\":\"4e2c46a9-42d1-422e-ba54-fbf6ebf245c7\",\"type\":\"PanTool\"}]},\"id\":\"b451e86f-821d-4cc7-9e4e-d76cd009fbd0\",\"type\":\"Toolbar\"}],\"root_ids\":[\"e201ad66-08e7-458f-97c8-202474106ad8\"]},\"title\":\"Bokeh Application\",\"version\":\"0.13.0\"}};\n",
       "  var render_items = [{\"docid\":\"5ae43030-9193-46e5-b0d8-481602db97f8\",\"roots\":{\"e201ad66-08e7-458f-97c8-202474106ad8\":\"a4007bf3-4fd5-4d7c-8fd7-cb76cfbbf0c7\"}}];\n",
       "  root.Bokeh.embed.embed_items_notebook(docs_json, render_items);\n",
       "\n",
       "  }\n",
       "  if (root.Bokeh !== undefined) {\n",
       "    embed_document(root);\n",
       "  } else {\n",
       "    var attempts = 0;\n",
       "    var timer = setInterval(function(root) {\n",
       "      if (root.Bokeh !== undefined) {\n",
       "        embed_document(root);\n",
       "        clearInterval(timer);\n",
       "      }\n",
       "      attempts++;\n",
       "      if (attempts > 100) {\n",
       "        console.log(\"Bokeh: ERROR: Unable to run BokehJS code because BokehJS library is missing\")\n",
       "        clearInterval(timer);\n",
       "      }\n",
       "    }, 10, root)\n",
       "  }\n",
       "})(window);"
      ],
      "application/vnd.bokehjs_exec.v0+json": ""
     },
     "metadata": {
      "application/vnd.bokehjs_exec.v0+json": {
       "id": "e201ad66-08e7-458f-97c8-202474106ad8"
      }
     },
     "output_type": "display_data"
    }
   ],
   "source": [
    "import numpy as np\n",
    "\n",
    "from bokeh.layouts import layout\n",
    "from bokeh.models import CustomJS, Slider, ColumnDataSource, WidgetBox\n",
    "from bokeh.plotting import figure, output_file, output_notebook, show\n",
    "\n",
    "#output_notebook()\n",
    "\n",
    "output_file('dashboard.html')\n",
    "\n",
    "tools = 'pan'\n",
    "\n",
    "\n",
    "def bollinger():\n",
    "    # Define Bollinger Bands.\n",
    "    upperband = np.random.random_integers(100, 150, size=100)\n",
    "    lowerband = upperband - 100\n",
    "    x_data = np.arange(1, 101)\n",
    "\n",
    "    # Bollinger shading glyph:\n",
    "    band_x = np.append(x_data, x_data[::-1])\n",
    "    band_y = np.append(lowerband, upperband[::-1])\n",
    "\n",
    "    p = figure(x_axis_type='datetime', tools=tools)\n",
    "    p.patch(band_x, band_y, color='#7570B3', fill_alpha=0.2)\n",
    "\n",
    "    p.title.text = 'Bollinger Bands'\n",
    "    p.title_location = 'left'\n",
    "    p.title.align = 'left'\n",
    "    p.plot_height = 600\n",
    "    p.plot_width = 800\n",
    "    p.grid.grid_line_alpha = 0.4\n",
    "    return [p]\n",
    "\n",
    "\n",
    "def slider():\n",
    "    x = np.linspace(0, 10, 100)\n",
    "    y = np.sin(x)\n",
    "\n",
    "    source = ColumnDataSource(data=dict(x=x, y=y))\n",
    "\n",
    "    plot = figure(\n",
    "        y_range=(-10, 10), tools='', toolbar_location=None,\n",
    "        title=\"Sliders example\")\n",
    "    plot.line('x', 'y', source=source, line_width=3, line_alpha=0.6)\n",
    "\n",
    "    callback = CustomJS(args=dict(source=source), code=\"\"\"\n",
    "        var data = source.data;\n",
    "        var A = amp.value;\n",
    "        var k = freq.value;\n",
    "        var phi = phase.value;\n",
    "        var B = offset.value;\n",
    "        var x = data['x']\n",
    "        var y = data['y']\n",
    "        for (var i = 0; i < x.length; i++) {\n",
    "            y[i] = B + A*Math.sin(k*x[i]+phi);\n",
    "        }\n",
    "        source.change.emit();\n",
    "    \"\"\")\n",
    "\n",
    "    amp_slider = Slider(start=0.1, end=10, value=1, step=.1, title=\"Amplitude\", callback=callback, callback_policy='mouseup')\n",
    "    callback.args[\"amp\"] = amp_slider\n",
    "\n",
    "    freq_slider = Slider(start=0.1, end=10, value=1, step=.1, title=\"Frequency\", callback=callback)\n",
    "    callback.args[\"freq\"] = freq_slider\n",
    "\n",
    "    phase_slider = Slider(start=0, end=6.4, value=0, step=.1, title=\"Phase\", callback=callback)\n",
    "    callback.args[\"phase\"] = phase_slider\n",
    "\n",
    "    offset_slider = Slider(start=-5, end=5, value=0, step=.1, title=\"Offset\", callback=callback)\n",
    "    callback.args[\"offset\"] = offset_slider\n",
    "\n",
    "    widgets = WidgetBox(amp_slider, freq_slider, phase_slider, offset_slider)\n",
    "    return [widgets, plot]\n",
    "\n",
    "\n",
    "def linked_panning():\n",
    "    N = 100\n",
    "    x = np.linspace(0, 4 * np.pi, N)\n",
    "    y1 = np.sin(x)\n",
    "    y2 = np.cos(x)\n",
    "    y3 = np.sin(x) + np.cos(x)\n",
    "\n",
    "    s1 = figure(tools=tools)\n",
    "    s1.circle(x, y1, color=\"navy\", size=8, alpha=0.5)\n",
    "    s2 = figure(tools=tools, x_range=s1.x_range, y_range=s1.y_range)\n",
    "    s2.circle(x, y2, color=\"firebrick\", size=8, alpha=0.5)\n",
    "    s3 = figure(tools='pan, box_select', x_range=s1.x_range)\n",
    "    s3.circle(x, y3, color=\"olive\", size=8, alpha=0.5)\n",
    "    return [s1, s2, s3]\n",
    "\n",
    "l = layout([\n",
    "    bollinger(),\n",
    "    slider(),\n",
    "    linked_panning(),\n",
    "], sizing_mode='stretch_both')\n",
    "\n",
    "show(l)\n"
   ]
  },
  {
   "cell_type": "markdown",
   "metadata": {},
   "source": [
    "### Jupyter Interactors"
   ]
  },
  {
   "cell_type": "markdown",
   "metadata": {},
   "source": [
    ">This demo shows off an interactive visualization using `bokeh` for plotting, and Ipython interactors for widgets. The demo runs entirely inside the Ipython notebook, with no `bokeh` server required.\n",
    "\n",
    ">The dropdown offers a choice of trig functions to plot, and the sliders control the frequency, amplitude, and phase. "
   ]
  },
  {
   "cell_type": "code",
   "execution_count": null,
   "metadata": {},
   "outputs": [],
   "source": [
    "from ipywidgets import interact\n",
    "\n",
    "from bokeh.io import push_notebook, show, output_notebook\n",
    "output_notebook()\n",
    "\n",
    "\n",
    "# Original data\n",
    "x = np.linspace(0, 2*np.pi, 2000)\n",
    "y = np.sin(x)\n",
    "\n",
    "# Note the value returned by p.line\n",
    "p = figure(title=\"simple line example\", plot_height=300, plot_width=600, y_range=(-5,5))\n",
    "r = p.line(x, y, color=\"#2222aa\", line_width=3)\n",
    "\n",
    "# Update function\n",
    "def update(f, w=1, A=1, phi=0):\n",
    "    if   f == \"sin\": func = np.sin\n",
    "    elif f == \"cos\": func = np.cos\n",
    "    elif f == \"tan\": func = np.tan\n",
    "    r.data_source.data['y'] = A * func(w * x + phi)\n",
    "    push_notebook()\n",
    "\n",
    "# Show figure\n",
    "show(p, notebook_handle=True)"
   ]
  },
  {
   "cell_type": "code",
   "execution_count": null,
   "metadata": {},
   "outputs": [],
   "source": [
    "interact(update, f=[\"sin\", \"cos\", \"tan\"], w=(0,100), A=(1,5), phi=(0, 20, 0.1))"
   ]
  },
  {
   "cell_type": "markdown",
   "metadata": {},
   "source": [
    "### Server"
   ]
  },
  {
   "cell_type": "markdown",
   "metadata": {},
   "source": [
    "There are two sides to the `bokeh` library. Let's [look at another way](https://bokeh.pydata.org/en/latest/docs/user_guide/server.html) `bokeh` can be used to visualize data interactively."
   ]
  }
 ],
 "metadata": {
  "kernelspec": {
   "display_name": "Python 3",
   "language": "python",
   "name": "python3"
  },
  "language_info": {
   "codemirror_mode": {
    "name": "ipython",
    "version": 3
   },
   "file_extension": ".py",
   "mimetype": "text/x-python",
   "name": "python",
   "nbconvert_exporter": "python",
   "pygments_lexer": "ipython3",
   "version": "3.6.5"
  }
 },
 "nbformat": 4,
 "nbformat_minor": 2
}
