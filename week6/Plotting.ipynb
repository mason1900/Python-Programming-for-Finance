{
 "cells": [
  {
   "cell_type": "markdown",
   "metadata": {},
   "source": [
    "# CPS600 - Python Programming for Finance \n",
    "###  \n",
    "<img src=\"https://www.syracuse.edu/wp-content/themes/g6-carbon/img/syracuse-university-seal.svg?ver=6.3.9\" style=\"width: 200px;\"/>\n",
    "\n",
    "# Plotting & Interaction with `bokeh`\n",
    "\n",
    "###  October 4, 2018"
   ]
  },
  {
   "cell_type": "markdown",
   "metadata": {},
   "source": [
    "## `bokeh`"
   ]
  },
  {
   "cell_type": "markdown",
   "metadata": {},
   "source": [
    "Some imports:"
   ]
  },
  {
   "cell_type": "code",
   "execution_count": 2,
   "metadata": {},
   "outputs": [
    {
     "name": "stdout",
     "output_type": "stream",
     "text": [
      "Creating /home/muveexu/.bokeh directory\n",
      "Creating /home/muveexu/.bokeh/data directory\n",
      "Using data directory: /home/muveexu/.bokeh/data\n",
      "Downloading: CGM.csv (1589982 bytes)\n",
      "   1589982 [100.00%]\n",
      "Downloading: US_Counties.zip (3182088 bytes)\n",
      "   3182088 [100.00%]\n",
      "Unpacking: US_Counties.csv\n",
      "Downloading: us_cities.json (713565 bytes)\n",
      "    713565 [100.00%]\n",
      "Downloading: unemployment09.csv (253301 bytes)\n",
      "    253301 [100.00%]\n",
      "Downloading: AAPL.csv (166698 bytes)\n",
      "    166698 [100.00%]\n",
      "Downloading: FB.csv (9706 bytes)\n",
      "      9706 [100.00%]\n",
      "Downloading: GOOG.csv (113894 bytes)\n",
      "    113894 [100.00%]\n",
      "Downloading: IBM.csv (165625 bytes)\n",
      "    165625 [100.00%]\n",
      "Downloading: MSFT.csv (161614 bytes)\n",
      "    161614 [100.00%]\n",
      "Downloading: WPP2012_SA_DB03_POPULATION_QUINQUENNIAL.zip (5148539 bytes)\n",
      "   5148539 [100.00%]\n",
      "Unpacking: WPP2012_SA_DB03_POPULATION_QUINQUENNIAL.csv\n",
      "Downloading: gapminder_fertility.csv (64346 bytes)\n",
      "     64346 [100.00%]\n",
      "Downloading: gapminder_population.csv (94509 bytes)\n",
      "     94509 [100.00%]\n",
      "Downloading: gapminder_life_expectancy.csv (73243 bytes)\n",
      "     73243 [100.00%]\n",
      "Downloading: gapminder_regions.csv (7781 bytes)\n",
      "      7781 [100.00%]\n",
      "Downloading: world_cities.zip (646858 bytes)\n",
      "    646858 [100.00%]\n",
      "Unpacking: world_cities.csv\n",
      "Downloading: airports.json (6373 bytes)\n",
      "      6373 [100.00%]\n",
      "Downloading: movies.db.zip (5067833 bytes)\n",
      "   5067833 [100.00%]\n",
      "Unpacking: movies.db\n",
      "Downloading: airports.csv (203190 bytes)\n",
      "    203190 [100.00%]\n",
      "Downloading: routes.csv (377280 bytes)\n",
      "    377280 [100.00%]\n"
     ]
    }
   ],
   "source": [
    "import bokeh.sampledata\n",
    "#bokeh.sampledata.download()"
   ]
  },
  {
   "cell_type": "code",
   "execution_count": 3,
   "metadata": {},
   "outputs": [],
   "source": [
    "import numpy as np\n",
    "from bokeh.plotting import figure, output_notebook, show"
   ]
  },
  {
   "cell_type": "markdown",
   "metadata": {},
   "source": [
    "A beginning example:"
   ]
  },
  {
   "cell_type": "code",
   "execution_count": 4,
   "metadata": {},
   "outputs": [
    {
     "data": {
      "text/html": [
       "\n",
       "    <div class=\"bk-root\">\n",
       "        <a href=\"https://bokeh.pydata.org\" target=\"_blank\" class=\"bk-logo bk-logo-small bk-logo-notebook\"></a>\n",
       "        <span id=\"e9addc9e-bc8e-47d8-b092-5fff5b658129\">Loading BokehJS ...</span>\n",
       "    </div>"
      ]
     },
     "metadata": {},
     "output_type": "display_data"
    },
    {
     "data": {
      "application/javascript": [
       "\n",
       "(function(root) {\n",
       "  function now() {\n",
       "    return new Date();\n",
       "  }\n",
       "\n",
       "  var force = true;\n",
       "\n",
       "  if (typeof (root._bokeh_onload_callbacks) === \"undefined\" || force === true) {\n",
       "    root._bokeh_onload_callbacks = [];\n",
       "    root._bokeh_is_loading = undefined;\n",
       "  }\n",
       "\n",
       "  var JS_MIME_TYPE = 'application/javascript';\n",
       "  var HTML_MIME_TYPE = 'text/html';\n",
       "  var EXEC_MIME_TYPE = 'application/vnd.bokehjs_exec.v0+json';\n",
       "  var CLASS_NAME = 'output_bokeh rendered_html';\n",
       "\n",
       "  /**\n",
       "   * Render data to the DOM node\n",
       "   */\n",
       "  function render(props, node) {\n",
       "    var script = document.createElement(\"script\");\n",
       "    node.appendChild(script);\n",
       "  }\n",
       "\n",
       "  /**\n",
       "   * Handle when an output is cleared or removed\n",
       "   */\n",
       "  function handleClearOutput(event, handle) {\n",
       "    var cell = handle.cell;\n",
       "\n",
       "    var id = cell.output_area._bokeh_element_id;\n",
       "    var server_id = cell.output_area._bokeh_server_id;\n",
       "    // Clean up Bokeh references\n",
       "    if (id !== undefined) {\n",
       "      Bokeh.index[id].model.document.clear();\n",
       "      delete Bokeh.index[id];\n",
       "    }\n",
       "\n",
       "    if (server_id !== undefined) {\n",
       "      // Clean up Bokeh references\n",
       "      var cmd = \"from bokeh.io.state import curstate; print(curstate().uuid_to_server['\" + server_id + \"'].get_sessions()[0].document.roots[0]._id)\";\n",
       "      cell.notebook.kernel.execute(cmd, {\n",
       "        iopub: {\n",
       "          output: function(msg) {\n",
       "            var element_id = msg.content.text.trim();\n",
       "            Bokeh.index[element_id].model.document.clear();\n",
       "            delete Bokeh.index[element_id];\n",
       "          }\n",
       "        }\n",
       "      });\n",
       "      // Destroy server and session\n",
       "      var cmd = \"import bokeh.io.notebook as ion; ion.destroy_server('\" + server_id + \"')\";\n",
       "      cell.notebook.kernel.execute(cmd);\n",
       "    }\n",
       "  }\n",
       "\n",
       "  /**\n",
       "   * Handle when a new output is added\n",
       "   */\n",
       "  function handleAddOutput(event, handle) {\n",
       "    var output_area = handle.output_area;\n",
       "    var output = handle.output;\n",
       "\n",
       "    // limit handleAddOutput to display_data with EXEC_MIME_TYPE content only\n",
       "    if ((output.output_type != \"display_data\") || (!output.data.hasOwnProperty(EXEC_MIME_TYPE))) {\n",
       "      return\n",
       "    }\n",
       "\n",
       "    var toinsert = output_area.element.find(\".\" + CLASS_NAME.split(' ')[0]);\n",
       "\n",
       "    if (output.metadata[EXEC_MIME_TYPE][\"id\"] !== undefined) {\n",
       "      toinsert[toinsert.length - 1].firstChild.textContent = output.data[JS_MIME_TYPE];\n",
       "      // store reference to embed id on output_area\n",
       "      output_area._bokeh_element_id = output.metadata[EXEC_MIME_TYPE][\"id\"];\n",
       "    }\n",
       "    if (output.metadata[EXEC_MIME_TYPE][\"server_id\"] !== undefined) {\n",
       "      var bk_div = document.createElement(\"div\");\n",
       "      bk_div.innerHTML = output.data[HTML_MIME_TYPE];\n",
       "      var script_attrs = bk_div.children[0].attributes;\n",
       "      for (var i = 0; i < script_attrs.length; i++) {\n",
       "        toinsert[toinsert.length - 1].firstChild.setAttribute(script_attrs[i].name, script_attrs[i].value);\n",
       "      }\n",
       "      // store reference to server id on output_area\n",
       "      output_area._bokeh_server_id = output.metadata[EXEC_MIME_TYPE][\"server_id\"];\n",
       "    }\n",
       "  }\n",
       "\n",
       "  function register_renderer(events, OutputArea) {\n",
       "\n",
       "    function append_mime(data, metadata, element) {\n",
       "      // create a DOM node to render to\n",
       "      var toinsert = this.create_output_subarea(\n",
       "        metadata,\n",
       "        CLASS_NAME,\n",
       "        EXEC_MIME_TYPE\n",
       "      );\n",
       "      this.keyboard_manager.register_events(toinsert);\n",
       "      // Render to node\n",
       "      var props = {data: data, metadata: metadata[EXEC_MIME_TYPE]};\n",
       "      render(props, toinsert[toinsert.length - 1]);\n",
       "      element.append(toinsert);\n",
       "      return toinsert\n",
       "    }\n",
       "\n",
       "    /* Handle when an output is cleared or removed */\n",
       "    events.on('clear_output.CodeCell', handleClearOutput);\n",
       "    events.on('delete.Cell', handleClearOutput);\n",
       "\n",
       "    /* Handle when a new output is added */\n",
       "    events.on('output_added.OutputArea', handleAddOutput);\n",
       "\n",
       "    /**\n",
       "     * Register the mime type and append_mime function with output_area\n",
       "     */\n",
       "    OutputArea.prototype.register_mime_type(EXEC_MIME_TYPE, append_mime, {\n",
       "      /* Is output safe? */\n",
       "      safe: true,\n",
       "      /* Index of renderer in `output_area.display_order` */\n",
       "      index: 0\n",
       "    });\n",
       "  }\n",
       "\n",
       "  // register the mime type if in Jupyter Notebook environment and previously unregistered\n",
       "  if (root.Jupyter !== undefined) {\n",
       "    var events = require('base/js/events');\n",
       "    var OutputArea = require('notebook/js/outputarea').OutputArea;\n",
       "\n",
       "    if (OutputArea.prototype.mime_types().indexOf(EXEC_MIME_TYPE) == -1) {\n",
       "      register_renderer(events, OutputArea);\n",
       "    }\n",
       "  }\n",
       "\n",
       "  \n",
       "  if (typeof (root._bokeh_timeout) === \"undefined\" || force === true) {\n",
       "    root._bokeh_timeout = Date.now() + 5000;\n",
       "    root._bokeh_failed_load = false;\n",
       "  }\n",
       "\n",
       "  var NB_LOAD_WARNING = {'data': {'text/html':\n",
       "     \"<div style='background-color: #fdd'>\\n\"+\n",
       "     \"<p>\\n\"+\n",
       "     \"BokehJS does not appear to have successfully loaded. If loading BokehJS from CDN, this \\n\"+\n",
       "     \"may be due to a slow or bad network connection. Possible fixes:\\n\"+\n",
       "     \"</p>\\n\"+\n",
       "     \"<ul>\\n\"+\n",
       "     \"<li>re-rerun `output_notebook()` to attempt to load from CDN again, or</li>\\n\"+\n",
       "     \"<li>use INLINE resources instead, as so:</li>\\n\"+\n",
       "     \"</ul>\\n\"+\n",
       "     \"<code>\\n\"+\n",
       "     \"from bokeh.resources import INLINE\\n\"+\n",
       "     \"output_notebook(resources=INLINE)\\n\"+\n",
       "     \"</code>\\n\"+\n",
       "     \"</div>\"}};\n",
       "\n",
       "  function display_loaded() {\n",
       "    var el = document.getElementById(\"e9addc9e-bc8e-47d8-b092-5fff5b658129\");\n",
       "    if (el != null) {\n",
       "      el.textContent = \"BokehJS is loading...\";\n",
       "    }\n",
       "    if (root.Bokeh !== undefined) {\n",
       "      if (el != null) {\n",
       "        el.textContent = \"BokehJS \" + root.Bokeh.version + \" successfully loaded.\";\n",
       "      }\n",
       "    } else if (Date.now() < root._bokeh_timeout) {\n",
       "      setTimeout(display_loaded, 100)\n",
       "    }\n",
       "  }\n",
       "\n",
       "\n",
       "  function run_callbacks() {\n",
       "    try {\n",
       "      root._bokeh_onload_callbacks.forEach(function(callback) { callback() });\n",
       "    }\n",
       "    finally {\n",
       "      delete root._bokeh_onload_callbacks\n",
       "    }\n",
       "    console.info(\"Bokeh: all callbacks have finished\");\n",
       "  }\n",
       "\n",
       "  function load_libs(js_urls, callback) {\n",
       "    root._bokeh_onload_callbacks.push(callback);\n",
       "    if (root._bokeh_is_loading > 0) {\n",
       "      console.log(\"Bokeh: BokehJS is being loaded, scheduling callback at\", now());\n",
       "      return null;\n",
       "    }\n",
       "    if (js_urls == null || js_urls.length === 0) {\n",
       "      run_callbacks();\n",
       "      return null;\n",
       "    }\n",
       "    console.log(\"Bokeh: BokehJS not loaded, scheduling load and callback at\", now());\n",
       "    root._bokeh_is_loading = js_urls.length;\n",
       "    for (var i = 0; i < js_urls.length; i++) {\n",
       "      var url = js_urls[i];\n",
       "      var s = document.createElement('script');\n",
       "      s.src = url;\n",
       "      s.async = false;\n",
       "      s.onreadystatechange = s.onload = function() {\n",
       "        root._bokeh_is_loading--;\n",
       "        if (root._bokeh_is_loading === 0) {\n",
       "          console.log(\"Bokeh: all BokehJS libraries loaded\");\n",
       "          run_callbacks()\n",
       "        }\n",
       "      };\n",
       "      s.onerror = function() {\n",
       "        console.warn(\"failed to load library \" + url);\n",
       "      };\n",
       "      console.log(\"Bokeh: injecting script tag for BokehJS library: \", url);\n",
       "      document.getElementsByTagName(\"head\")[0].appendChild(s);\n",
       "    }\n",
       "  };var element = document.getElementById(\"e9addc9e-bc8e-47d8-b092-5fff5b658129\");\n",
       "  if (element == null) {\n",
       "    console.log(\"Bokeh: ERROR: autoload.js configured with elementid 'e9addc9e-bc8e-47d8-b092-5fff5b658129' but no matching script tag was found. \")\n",
       "    return false;\n",
       "  }\n",
       "\n",
       "  var js_urls = [\"https://cdn.pydata.org/bokeh/release/bokeh-0.12.16.min.js\", \"https://cdn.pydata.org/bokeh/release/bokeh-widgets-0.12.16.min.js\", \"https://cdn.pydata.org/bokeh/release/bokeh-tables-0.12.16.min.js\", \"https://cdn.pydata.org/bokeh/release/bokeh-gl-0.12.16.min.js\"];\n",
       "\n",
       "  var inline_js = [\n",
       "    function(Bokeh) {\n",
       "      Bokeh.set_log_level(\"info\");\n",
       "    },\n",
       "    \n",
       "    function(Bokeh) {\n",
       "      \n",
       "    },\n",
       "    function(Bokeh) {\n",
       "      console.log(\"Bokeh: injecting CSS: https://cdn.pydata.org/bokeh/release/bokeh-0.12.16.min.css\");\n",
       "      Bokeh.embed.inject_css(\"https://cdn.pydata.org/bokeh/release/bokeh-0.12.16.min.css\");\n",
       "      console.log(\"Bokeh: injecting CSS: https://cdn.pydata.org/bokeh/release/bokeh-widgets-0.12.16.min.css\");\n",
       "      Bokeh.embed.inject_css(\"https://cdn.pydata.org/bokeh/release/bokeh-widgets-0.12.16.min.css\");\n",
       "      console.log(\"Bokeh: injecting CSS: https://cdn.pydata.org/bokeh/release/bokeh-tables-0.12.16.min.css\");\n",
       "      Bokeh.embed.inject_css(\"https://cdn.pydata.org/bokeh/release/bokeh-tables-0.12.16.min.css\");\n",
       "    }\n",
       "  ];\n",
       "\n",
       "  function run_inline_js() {\n",
       "    \n",
       "    if ((root.Bokeh !== undefined) || (force === true)) {\n",
       "      for (var i = 0; i < inline_js.length; i++) {\n",
       "        inline_js[i].call(root, root.Bokeh);\n",
       "      }if (force === true) {\n",
       "        display_loaded();\n",
       "      }} else if (Date.now() < root._bokeh_timeout) {\n",
       "      setTimeout(run_inline_js, 100);\n",
       "    } else if (!root._bokeh_failed_load) {\n",
       "      console.log(\"Bokeh: BokehJS failed to load within specified timeout.\");\n",
       "      root._bokeh_failed_load = true;\n",
       "    } else if (force !== true) {\n",
       "      var cell = $(document.getElementById(\"e9addc9e-bc8e-47d8-b092-5fff5b658129\")).parents('.cell').data().cell;\n",
       "      cell.output_area.append_execute_result(NB_LOAD_WARNING)\n",
       "    }\n",
       "\n",
       "  }\n",
       "\n",
       "  if (root._bokeh_is_loading === 0) {\n",
       "    console.log(\"Bokeh: BokehJS loaded, going straight to plotting\");\n",
       "    run_inline_js();\n",
       "  } else {\n",
       "    load_libs(js_urls, function() {\n",
       "      console.log(\"Bokeh: BokehJS plotting callback run at\", now());\n",
       "      run_inline_js();\n",
       "    });\n",
       "  }\n",
       "}(window));"
      ],
      "application/vnd.bokehjs_load.v0+json": "\n(function(root) {\n  function now() {\n    return new Date();\n  }\n\n  var force = true;\n\n  if (typeof (root._bokeh_onload_callbacks) === \"undefined\" || force === true) {\n    root._bokeh_onload_callbacks = [];\n    root._bokeh_is_loading = undefined;\n  }\n\n  \n\n  \n  if (typeof (root._bokeh_timeout) === \"undefined\" || force === true) {\n    root._bokeh_timeout = Date.now() + 5000;\n    root._bokeh_failed_load = false;\n  }\n\n  var NB_LOAD_WARNING = {'data': {'text/html':\n     \"<div style='background-color: #fdd'>\\n\"+\n     \"<p>\\n\"+\n     \"BokehJS does not appear to have successfully loaded. If loading BokehJS from CDN, this \\n\"+\n     \"may be due to a slow or bad network connection. Possible fixes:\\n\"+\n     \"</p>\\n\"+\n     \"<ul>\\n\"+\n     \"<li>re-rerun `output_notebook()` to attempt to load from CDN again, or</li>\\n\"+\n     \"<li>use INLINE resources instead, as so:</li>\\n\"+\n     \"</ul>\\n\"+\n     \"<code>\\n\"+\n     \"from bokeh.resources import INLINE\\n\"+\n     \"output_notebook(resources=INLINE)\\n\"+\n     \"</code>\\n\"+\n     \"</div>\"}};\n\n  function display_loaded() {\n    var el = document.getElementById(\"e9addc9e-bc8e-47d8-b092-5fff5b658129\");\n    if (el != null) {\n      el.textContent = \"BokehJS is loading...\";\n    }\n    if (root.Bokeh !== undefined) {\n      if (el != null) {\n        el.textContent = \"BokehJS \" + root.Bokeh.version + \" successfully loaded.\";\n      }\n    } else if (Date.now() < root._bokeh_timeout) {\n      setTimeout(display_loaded, 100)\n    }\n  }\n\n\n  function run_callbacks() {\n    try {\n      root._bokeh_onload_callbacks.forEach(function(callback) { callback() });\n    }\n    finally {\n      delete root._bokeh_onload_callbacks\n    }\n    console.info(\"Bokeh: all callbacks have finished\");\n  }\n\n  function load_libs(js_urls, callback) {\n    root._bokeh_onload_callbacks.push(callback);\n    if (root._bokeh_is_loading > 0) {\n      console.log(\"Bokeh: BokehJS is being loaded, scheduling callback at\", now());\n      return null;\n    }\n    if (js_urls == null || js_urls.length === 0) {\n      run_callbacks();\n      return null;\n    }\n    console.log(\"Bokeh: BokehJS not loaded, scheduling load and callback at\", now());\n    root._bokeh_is_loading = js_urls.length;\n    for (var i = 0; i < js_urls.length; i++) {\n      var url = js_urls[i];\n      var s = document.createElement('script');\n      s.src = url;\n      s.async = false;\n      s.onreadystatechange = s.onload = function() {\n        root._bokeh_is_loading--;\n        if (root._bokeh_is_loading === 0) {\n          console.log(\"Bokeh: all BokehJS libraries loaded\");\n          run_callbacks()\n        }\n      };\n      s.onerror = function() {\n        console.warn(\"failed to load library \" + url);\n      };\n      console.log(\"Bokeh: injecting script tag for BokehJS library: \", url);\n      document.getElementsByTagName(\"head\")[0].appendChild(s);\n    }\n  };var element = document.getElementById(\"e9addc9e-bc8e-47d8-b092-5fff5b658129\");\n  if (element == null) {\n    console.log(\"Bokeh: ERROR: autoload.js configured with elementid 'e9addc9e-bc8e-47d8-b092-5fff5b658129' but no matching script tag was found. \")\n    return false;\n  }\n\n  var js_urls = [\"https://cdn.pydata.org/bokeh/release/bokeh-0.12.16.min.js\", \"https://cdn.pydata.org/bokeh/release/bokeh-widgets-0.12.16.min.js\", \"https://cdn.pydata.org/bokeh/release/bokeh-tables-0.12.16.min.js\", \"https://cdn.pydata.org/bokeh/release/bokeh-gl-0.12.16.min.js\"];\n\n  var inline_js = [\n    function(Bokeh) {\n      Bokeh.set_log_level(\"info\");\n    },\n    \n    function(Bokeh) {\n      \n    },\n    function(Bokeh) {\n      console.log(\"Bokeh: injecting CSS: https://cdn.pydata.org/bokeh/release/bokeh-0.12.16.min.css\");\n      Bokeh.embed.inject_css(\"https://cdn.pydata.org/bokeh/release/bokeh-0.12.16.min.css\");\n      console.log(\"Bokeh: injecting CSS: https://cdn.pydata.org/bokeh/release/bokeh-widgets-0.12.16.min.css\");\n      Bokeh.embed.inject_css(\"https://cdn.pydata.org/bokeh/release/bokeh-widgets-0.12.16.min.css\");\n      console.log(\"Bokeh: injecting CSS: https://cdn.pydata.org/bokeh/release/bokeh-tables-0.12.16.min.css\");\n      Bokeh.embed.inject_css(\"https://cdn.pydata.org/bokeh/release/bokeh-tables-0.12.16.min.css\");\n    }\n  ];\n\n  function run_inline_js() {\n    \n    if ((root.Bokeh !== undefined) || (force === true)) {\n      for (var i = 0; i < inline_js.length; i++) {\n        inline_js[i].call(root, root.Bokeh);\n      }if (force === true) {\n        display_loaded();\n      }} else if (Date.now() < root._bokeh_timeout) {\n      setTimeout(run_inline_js, 100);\n    } else if (!root._bokeh_failed_load) {\n      console.log(\"Bokeh: BokehJS failed to load within specified timeout.\");\n      root._bokeh_failed_load = true;\n    } else if (force !== true) {\n      var cell = $(document.getElementById(\"e9addc9e-bc8e-47d8-b092-5fff5b658129\")).parents('.cell').data().cell;\n      cell.output_area.append_execute_result(NB_LOAD_WARNING)\n    }\n\n  }\n\n  if (root._bokeh_is_loading === 0) {\n    console.log(\"Bokeh: BokehJS loaded, going straight to plotting\");\n    run_inline_js();\n  } else {\n    load_libs(js_urls, function() {\n      console.log(\"Bokeh: BokehJS plotting callback run at\", now());\n      run_inline_js();\n    });\n  }\n}(window));"
     },
     "metadata": {},
     "output_type": "display_data"
    },
    {
     "data": {
      "text/html": [
       "\n",
       "<div class=\"bk-root\">\n",
       "    <div class=\"bk-plotdiv\" id=\"04e37120-acf3-493a-bb74-d5214154ed2d\"></div>\n",
       "</div>"
      ]
     },
     "metadata": {},
     "output_type": "display_data"
    },
    {
     "data": {
      "application/javascript": [
       "(function(root) {\n",
       "  function embed_document(root) {\n",
       "    \n",
       "  var docs_json = {\"42cc3c15-02a6-4ade-9233-d8cb8bb2c656\":{\"roots\":{\"references\":[{\"attributes\":{},\"id\":\"4e9475eb-e211-402c-b3d9-157cde5d24b8\",\"type\":\"UnionRenderers\"},{\"attributes\":{\"fill_color\":{\"value\":\"red\"},\"line_color\":{\"value\":\"red\"},\"size\":{\"units\":\"screen\",\"value\":6},\"x\":{\"field\":\"x\"},\"y\":{\"field\":\"y\"}},\"id\":\"6db34af7-4de8-4b4b-8fdf-8084f7360d1d\",\"type\":\"Circle\"},{\"attributes\":{},\"id\":\"62cb4d20-6369-4098-a742-a5a4004e97be\",\"type\":\"Selection\"},{\"attributes\":{\"label\":{\"value\":\"y=x^2\"},\"renderers\":[{\"id\":\"fa26a904-3230-488a-817a-01f9703f79e7\",\"type\":\"GlyphRenderer\"}]},\"id\":\"f0601699-54af-4053-a580-43bacbbee98e\",\"type\":\"LegendItem\"},{\"attributes\":{},\"id\":\"40614900-bbbd-4ddd-ae09-2d0b77f684fa\",\"type\":\"UnionRenderers\"},{\"attributes\":{\"line_alpha\":0.1,\"line_color\":\"#1f77b4\",\"x\":{\"field\":\"x\"},\"y\":{\"field\":\"y\"}},\"id\":\"a3fffae8-b491-4c6d-b3b0-6cc279d3782f\",\"type\":\"Line\"},{\"attributes\":{\"callback\":null,\"data\":{\"x\":[0.1,0.5,1.0,1.5,2.0,2.5,3.0],\"y\":[1.2589254117941673,3.1622776601683795,10.0,31.622776601683793,100.0,316.22776601683796,1000.0]},\"selected\":{\"id\":\"28127d32-045d-4778-b3a3-a2836558bd06\",\"type\":\"Selection\"},\"selection_policy\":{\"id\":\"de353c56-c1e0-48fb-9804-be3743b05183\",\"type\":\"UnionRenderers\"}},\"id\":\"3da6098d-5e51-42bd-90c9-440b6773842d\",\"type\":\"ColumnDataSource\"},{\"attributes\":{\"source\":{\"id\":\"7799cc24-78c4-4ec8-a6b4-57374b58ffe2\",\"type\":\"ColumnDataSource\"}},\"id\":\"e8564258-a11d-4e9c-a838-c1112ce0e63e\",\"type\":\"CDSView\"},{\"attributes\":{\"data_source\":{\"id\":\"7799cc24-78c4-4ec8-a6b4-57374b58ffe2\",\"type\":\"ColumnDataSource\"},\"glyph\":{\"id\":\"1122bce7-941e-4cb8-b1fc-1de73ae18471\",\"type\":\"Line\"},\"hover_glyph\":null,\"muted_glyph\":null,\"nonselection_glyph\":{\"id\":\"a3fffae8-b491-4c6d-b3b0-6cc279d3782f\",\"type\":\"Line\"},\"selection_glyph\":null,\"view\":{\"id\":\"e8564258-a11d-4e9c-a838-c1112ce0e63e\",\"type\":\"CDSView\"}},\"id\":\"3b8f5f85-7049-41be-9c4c-143cd5b9c7b8\",\"type\":\"GlyphRenderer\"},{\"attributes\":{},\"id\":\"8bbc72ae-b657-400b-a950-c1aee3726213\",\"type\":\"Selection\"},{\"attributes\":{},\"id\":\"a4ae6b0e-e353-4550-8dc8-a2fe7b5e769d\",\"type\":\"UnionRenderers\"},{\"attributes\":{},\"id\":\"98c65193-785d-40a7-a7ce-013c22dbdd81\",\"type\":\"Selection\"},{\"attributes\":{\"callback\":null,\"data\":{\"x\":[0.1,0.5,1.0,1.5,2.0,2.5,3.0],\"y\":[1.023292992280754,1.7782794100389228,10.0,177.82794100389228,10000.0,1778279.410038923,1000000000.0]},\"selected\":{\"id\":\"78c49650-3d6c-4fd6-8483-1021f0d19752\",\"type\":\"Selection\"},\"selection_policy\":{\"id\":\"40614900-bbbd-4ddd-ae09-2d0b77f684fa\",\"type\":\"UnionRenderers\"}},\"id\":\"18cb7082-d8c0-4600-8f0c-d82256bb62e0\",\"type\":\"ColumnDataSource\"},{\"attributes\":{\"label\":{\"value\":\"y=10^x\"},\"renderers\":[{\"id\":\"3b8f5f85-7049-41be-9c4c-143cd5b9c7b8\",\"type\":\"GlyphRenderer\"},{\"id\":\"09819569-b509-4b9b-8bdc-731bc51d02a4\",\"type\":\"GlyphRenderer\"}]},\"id\":\"a8334d14-6904-456d-a78f-786897443ca0\",\"type\":\"LegendItem\"},{\"attributes\":{\"source\":{\"id\":\"3da6098d-5e51-42bd-90c9-440b6773842d\",\"type\":\"ColumnDataSource\"}},\"id\":\"ed118749-8318-4e4d-89f1-b1adf93fe860\",\"type\":\"CDSView\"},{\"attributes\":{\"data_source\":{\"id\":\"3da6098d-5e51-42bd-90c9-440b6773842d\",\"type\":\"ColumnDataSource\"},\"glyph\":{\"id\":\"6db34af7-4de8-4b4b-8fdf-8084f7360d1d\",\"type\":\"Circle\"},\"hover_glyph\":null,\"muted_glyph\":null,\"nonselection_glyph\":{\"id\":\"f76098e7-49b6-4dd3-95cf-18288bc68e52\",\"type\":\"Circle\"},\"selection_glyph\":null,\"view\":{\"id\":\"ed118749-8318-4e4d-89f1-b1adf93fe860\",\"type\":\"CDSView\"}},\"id\":\"09819569-b509-4b9b-8bdc-731bc51d02a4\",\"type\":\"GlyphRenderer\"},{\"attributes\":{\"line_color\":\"#1f77b4\",\"x\":{\"field\":\"x\"},\"y\":{\"field\":\"y\"}},\"id\":\"75ab3c6c-1bbe-46a5-aef8-b3eb880b7418\",\"type\":\"Line\"},{\"attributes\":{\"fill_alpha\":{\"value\":0.1},\"fill_color\":{\"value\":\"#1f77b4\"},\"line_alpha\":{\"value\":0.1},\"line_color\":{\"value\":\"#1f77b4\"},\"size\":{\"units\":\"screen\",\"value\":6},\"x\":{\"field\":\"x\"},\"y\":{\"field\":\"y\"}},\"id\":\"f76098e7-49b6-4dd3-95cf-18288bc68e52\",\"type\":\"Circle\"},{\"attributes\":{},\"id\":\"ada45d0d-caf3-4a8e-bda3-174add1a1664\",\"type\":\"UnionRenderers\"},{\"attributes\":{\"ticker\":null},\"id\":\"a820e70d-0441-4bc7-bf8b-d56869d12cb1\",\"type\":\"LogTickFormatter\"},{\"attributes\":{\"source\":{\"id\":\"18cb7082-d8c0-4600-8f0c-d82256bb62e0\",\"type\":\"ColumnDataSource\"}},\"id\":\"34bf6343-1a2d-4d7b-a967-a87705f8db88\",\"type\":\"CDSView\"},{\"attributes\":{\"line_color\":\"orange\",\"line_dash\":[4,4],\"x\":{\"field\":\"x\"},\"y\":{\"field\":\"y\"}},\"id\":\"73f28929-5a1e-4ecd-918f-d71b7810266f\",\"type\":\"Line\"},{\"attributes\":{},\"id\":\"e556677c-e894-4054-b10f-1fb98844c46a\",\"type\":\"BasicTickFormatter\"},{\"attributes\":{\"items\":[{\"id\":\"c64dd18b-2637-4bd7-838b-f4e7af4da0e3\",\"type\":\"LegendItem\"},{\"id\":\"f0601699-54af-4053-a580-43bacbbee98e\",\"type\":\"LegendItem\"},{\"id\":\"a8334d14-6904-456d-a78f-786897443ca0\",\"type\":\"LegendItem\"},{\"id\":\"9a2a4360-3a16-4b67-87c7-85f039a85cb2\",\"type\":\"LegendItem\"}],\"plot\":{\"id\":\"dbda338a-2912-4d1d-9adb-96764422777f\",\"subtype\":\"Figure\",\"type\":\"Plot\"}},\"id\":\"81f3ad5d-d82b-4589-ae2f-b9b5388045dd\",\"type\":\"Legend\"},{\"attributes\":{},\"id\":\"28127d32-045d-4778-b3a3-a2836558bd06\",\"type\":\"Selection\"},{\"attributes\":{\"line_alpha\":0.1,\"line_color\":\"#1f77b4\",\"line_dash\":[4,4],\"x\":{\"field\":\"x\"},\"y\":{\"field\":\"y\"}},\"id\":\"511f955a-5774-47e1-915f-d73259e9366a\",\"type\":\"Line\"},{\"attributes\":{\"data_source\":{\"id\":\"18cb7082-d8c0-4600-8f0c-d82256bb62e0\",\"type\":\"ColumnDataSource\"},\"glyph\":{\"id\":\"73f28929-5a1e-4ecd-918f-d71b7810266f\",\"type\":\"Line\"},\"hover_glyph\":null,\"muted_glyph\":null,\"nonselection_glyph\":{\"id\":\"511f955a-5774-47e1-915f-d73259e9366a\",\"type\":\"Line\"},\"selection_glyph\":null,\"view\":{\"id\":\"34bf6343-1a2d-4d7b-a967-a87705f8db88\",\"type\":\"CDSView\"}},\"id\":\"362b4b5b-3801-4b86-aa7b-dca869ab64bf\",\"type\":\"GlyphRenderer\"},{\"attributes\":{},\"id\":\"de353c56-c1e0-48fb-9804-be3743b05183\",\"type\":\"UnionRenderers\"},{\"attributes\":{\"label\":{\"value\":\"y=10^x^2\"},\"renderers\":[{\"id\":\"362b4b5b-3801-4b86-aa7b-dca869ab64bf\",\"type\":\"GlyphRenderer\"}]},\"id\":\"9a2a4360-3a16-4b67-87c7-85f039a85cb2\",\"type\":\"LegendItem\"},{\"attributes\":{\"callback\":null},\"id\":\"3049b260-9cd4-4f7c-a0ee-b378ce091106\",\"type\":\"DataRange1d\"},{\"attributes\":{\"active_drag\":\"auto\",\"active_inspect\":\"auto\",\"active_scroll\":\"auto\",\"active_tap\":\"auto\",\"tools\":[{\"id\":\"189eb21e-09fa-4f43-b985-9e17313dc7df\",\"type\":\"PanTool\"},{\"id\":\"0b7b1049-11d4-42c7-abd6-769d86a62773\",\"type\":\"BoxZoomTool\"},{\"id\":\"603579d9-6d8a-42b7-981b-f72cb1ce3954\",\"type\":\"ResetTool\"},{\"id\":\"0362e0ba-4377-49d9-aeee-a54e008dab3b\",\"type\":\"SaveTool\"}]},\"id\":\"dcd2c80b-0643-4260-b438-9765a02e0cd7\",\"type\":\"Toolbar\"},{\"attributes\":{},\"id\":\"78c49650-3d6c-4fd6-8483-1021f0d19752\",\"type\":\"Selection\"},{\"attributes\":{\"below\":[{\"id\":\"61c2d919-b3e1-44f6-b5f2-b8de35208e22\",\"type\":\"LinearAxis\"}],\"left\":[{\"id\":\"49189517-7664-48da-91c2-8b232de0aa4a\",\"type\":\"LogAxis\"}],\"renderers\":[{\"id\":\"61c2d919-b3e1-44f6-b5f2-b8de35208e22\",\"type\":\"LinearAxis\"},{\"id\":\"fc96b065-fddd-4e78-bcb5-29c6d448cfac\",\"type\":\"Grid\"},{\"id\":\"49189517-7664-48da-91c2-8b232de0aa4a\",\"type\":\"LogAxis\"},{\"id\":\"e5d24ca5-631c-408e-b937-66acfc801239\",\"type\":\"Grid\"},{\"id\":\"88cfc2da-7e04-4dd8-b05e-27fa5d81be87\",\"type\":\"BoxAnnotation\"},{\"id\":\"81f3ad5d-d82b-4589-ae2f-b9b5388045dd\",\"type\":\"Legend\"},{\"id\":\"65cdf51d-630a-407c-98bb-1ef39f9fc814\",\"type\":\"GlyphRenderer\"},{\"id\":\"e5313567-35b3-4235-9cc9-7add2d26008f\",\"type\":\"GlyphRenderer\"},{\"id\":\"fa26a904-3230-488a-817a-01f9703f79e7\",\"type\":\"GlyphRenderer\"},{\"id\":\"3b8f5f85-7049-41be-9c4c-143cd5b9c7b8\",\"type\":\"GlyphRenderer\"},{\"id\":\"09819569-b509-4b9b-8bdc-731bc51d02a4\",\"type\":\"GlyphRenderer\"},{\"id\":\"362b4b5b-3801-4b86-aa7b-dca869ab64bf\",\"type\":\"GlyphRenderer\"}],\"title\":{\"id\":\"46a87411-ec7d-42a5-a54e-6a38e317b28d\",\"type\":\"Title\"},\"toolbar\":{\"id\":\"dcd2c80b-0643-4260-b438-9765a02e0cd7\",\"type\":\"Toolbar\"},\"x_range\":{\"id\":\"3049b260-9cd4-4f7c-a0ee-b378ce091106\",\"type\":\"DataRange1d\"},\"x_scale\":{\"id\":\"78c54009-811c-41d7-bf2c-ed27cad52b2b\",\"type\":\"LinearScale\"},\"y_range\":{\"id\":\"91e9cb5f-174d-417e-907b-abb3673440f9\",\"type\":\"Range1d\"},\"y_scale\":{\"id\":\"277b541f-9c60-4dec-9f28-1b0153403494\",\"type\":\"LogScale\"}},\"id\":\"dbda338a-2912-4d1d-9adb-96764422777f\",\"subtype\":\"Figure\",\"type\":\"Plot\"},{\"attributes\":{\"line_alpha\":0.1,\"line_color\":\"#1f77b4\",\"x\":{\"field\":\"x\"},\"y\":{\"field\":\"y\"}},\"id\":\"2dc7640b-97ce-4e3d-8766-ae019c83bda2\",\"type\":\"Line\"},{\"attributes\":{\"data_source\":{\"id\":\"e49997fc-fe4b-4f31-8bbc-c787fa413901\",\"type\":\"ColumnDataSource\"},\"glyph\":{\"id\":\"75ab3c6c-1bbe-46a5-aef8-b3eb880b7418\",\"type\":\"Line\"},\"hover_glyph\":null,\"muted_glyph\":null,\"nonselection_glyph\":{\"id\":\"2dc7640b-97ce-4e3d-8766-ae019c83bda2\",\"type\":\"Line\"},\"selection_glyph\":null,\"view\":{\"id\":\"0ddbe897-9abd-4150-a8fd-99d93f182191\",\"type\":\"CDSView\"}},\"id\":\"65cdf51d-630a-407c-98bb-1ef39f9fc814\",\"type\":\"GlyphRenderer\"},{\"attributes\":{\"callback\":null,\"data\":{\"x\":[0.1,0.5,1.0,1.5,2.0,2.5,3.0],\"y\":[0.1,0.5,1.0,1.5,2.0,2.5,3.0]},\"selected\":{\"id\":\"aa7f7342-f759-4218-8a16-effdfd9fb3b3\",\"type\":\"Selection\"},\"selection_policy\":{\"id\":\"6b16e2b3-7006-4192-8544-7304a184730d\",\"type\":\"UnionRenderers\"}},\"id\":\"e49997fc-fe4b-4f31-8bbc-c787fa413901\",\"type\":\"ColumnDataSource\"},{\"attributes\":{\"plot\":null,\"text\":\"log axis example\"},\"id\":\"46a87411-ec7d-42a5-a54e-6a38e317b28d\",\"type\":\"Title\"},{\"attributes\":{\"source\":{\"id\":\"e49997fc-fe4b-4f31-8bbc-c787fa413901\",\"type\":\"ColumnDataSource\"}},\"id\":\"0ddbe897-9abd-4150-a8fd-99d93f182191\",\"type\":\"CDSView\"},{\"attributes\":{\"fill_color\":{\"value\":\"white\"},\"line_color\":{\"value\":\"#1f77b4\"},\"size\":{\"units\":\"screen\",\"value\":8},\"x\":{\"field\":\"x\"},\"y\":{\"field\":\"y\"}},\"id\":\"4e31fd48-b932-4972-b996-c51fe6856379\",\"type\":\"Circle\"},{\"attributes\":{},\"id\":\"78c54009-811c-41d7-bf2c-ed27cad52b2b\",\"type\":\"LinearScale\"},{\"attributes\":{\"callback\":null,\"end\":100000000000,\"start\":0.001},\"id\":\"91e9cb5f-174d-417e-907b-abb3673440f9\",\"type\":\"Range1d\"},{\"attributes\":{},\"id\":\"277b541f-9c60-4dec-9f28-1b0153403494\",\"type\":\"LogScale\"},{\"attributes\":{\"callback\":null,\"data\":{\"x\":[0.1,0.5,1.0,1.5,2.0,2.5,3.0],\"y\":[0.1,0.5,1.0,1.5,2.0,2.5,3.0]},\"selected\":{\"id\":\"62cb4d20-6369-4098-a742-a5a4004e97be\",\"type\":\"Selection\"},\"selection_policy\":{\"id\":\"4e9475eb-e211-402c-b3d9-157cde5d24b8\",\"type\":\"UnionRenderers\"}},\"id\":\"14913a14-fe4f-4fd9-a590-5af07c6b848e\",\"type\":\"ColumnDataSource\"},{\"attributes\":{\"axis_label\":\"sections\",\"formatter\":{\"id\":\"e556677c-e894-4054-b10f-1fb98844c46a\",\"type\":\"BasicTickFormatter\"},\"plot\":{\"id\":\"dbda338a-2912-4d1d-9adb-96764422777f\",\"subtype\":\"Figure\",\"type\":\"Plot\"},\"ticker\":{\"id\":\"649bd365-e480-4ae0-99c1-c4eca69eb338\",\"type\":\"BasicTicker\"}},\"id\":\"61c2d919-b3e1-44f6-b5f2-b8de35208e22\",\"type\":\"LinearAxis\"},{\"attributes\":{},\"id\":\"649bd365-e480-4ae0-99c1-c4eca69eb338\",\"type\":\"BasicTicker\"},{\"attributes\":{\"plot\":{\"id\":\"dbda338a-2912-4d1d-9adb-96764422777f\",\"subtype\":\"Figure\",\"type\":\"Plot\"},\"ticker\":{\"id\":\"649bd365-e480-4ae0-99c1-c4eca69eb338\",\"type\":\"BasicTicker\"}},\"id\":\"fc96b065-fddd-4e78-bcb5-29c6d448cfac\",\"type\":\"Grid\"},{\"attributes\":{\"axis_label\":\"particles\",\"formatter\":{\"id\":\"a820e70d-0441-4bc7-bf8b-d56869d12cb1\",\"type\":\"LogTickFormatter\"},\"plot\":{\"id\":\"dbda338a-2912-4d1d-9adb-96764422777f\",\"subtype\":\"Figure\",\"type\":\"Plot\"},\"ticker\":{\"id\":\"1b476632-285a-4a4c-8fb1-96b17dbdbba7\",\"type\":\"LogTicker\"}},\"id\":\"49189517-7664-48da-91c2-8b232de0aa4a\",\"type\":\"LogAxis\"},{\"attributes\":{\"num_minor_ticks\":10},\"id\":\"1b476632-285a-4a4c-8fb1-96b17dbdbba7\",\"type\":\"LogTicker\"},{\"attributes\":{\"dimension\":1,\"plot\":{\"id\":\"dbda338a-2912-4d1d-9adb-96764422777f\",\"subtype\":\"Figure\",\"type\":\"Plot\"},\"ticker\":{\"id\":\"1b476632-285a-4a4c-8fb1-96b17dbdbba7\",\"type\":\"LogTicker\"}},\"id\":\"e5d24ca5-631c-408e-b937-66acfc801239\",\"type\":\"Grid\"},{\"attributes\":{},\"id\":\"189eb21e-09fa-4f43-b985-9e17313dc7df\",\"type\":\"PanTool\"},{\"attributes\":{\"source\":{\"id\":\"10a6f3ce-392c-4ffd-b4f8-a6553923d742\",\"type\":\"ColumnDataSource\"}},\"id\":\"b3972f91-d8c8-4f06-b690-ba4fa2e80f9b\",\"type\":\"CDSView\"},{\"attributes\":{\"overlay\":{\"id\":\"88cfc2da-7e04-4dd8-b05e-27fa5d81be87\",\"type\":\"BoxAnnotation\"}},\"id\":\"0b7b1049-11d4-42c7-abd6-769d86a62773\",\"type\":\"BoxZoomTool\"},{\"attributes\":{},\"id\":\"603579d9-6d8a-42b7-981b-f72cb1ce3954\",\"type\":\"ResetTool\"},{\"attributes\":{},\"id\":\"0362e0ba-4377-49d9-aeee-a54e008dab3b\",\"type\":\"SaveTool\"},{\"attributes\":{\"bottom_units\":\"screen\",\"fill_alpha\":{\"value\":0.5},\"fill_color\":{\"value\":\"lightgrey\"},\"left_units\":\"screen\",\"level\":\"overlay\",\"line_alpha\":{\"value\":1.0},\"line_color\":{\"value\":\"black\"},\"line_dash\":[4,4],\"line_width\":{\"value\":2},\"plot\":null,\"render_mode\":\"css\",\"right_units\":\"screen\",\"top_units\":\"screen\"},\"id\":\"88cfc2da-7e04-4dd8-b05e-27fa5d81be87\",\"type\":\"BoxAnnotation\"},{\"attributes\":{\"source\":{\"id\":\"14913a14-fe4f-4fd9-a590-5af07c6b848e\",\"type\":\"ColumnDataSource\"}},\"id\":\"aa9df97a-a491-463c-8094-c162f32567c0\",\"type\":\"CDSView\"},{\"attributes\":{\"callback\":null,\"data\":{\"x\":[0.1,0.5,1.0,1.5,2.0,2.5,3.0],\"y\":[0.010000000000000002,0.25,1.0,2.25,4.0,6.25,9.0]},\"selected\":{\"id\":\"8bbc72ae-b657-400b-a950-c1aee3726213\",\"type\":\"Selection\"},\"selection_policy\":{\"id\":\"a4ae6b0e-e353-4550-8dc8-a2fe7b5e769d\",\"type\":\"UnionRenderers\"}},\"id\":\"10a6f3ce-392c-4ffd-b4f8-a6553923d742\",\"type\":\"ColumnDataSource\"},{\"attributes\":{\"label\":{\"value\":\"y=x\"},\"renderers\":[{\"id\":\"65cdf51d-630a-407c-98bb-1ef39f9fc814\",\"type\":\"GlyphRenderer\"},{\"id\":\"e5313567-35b3-4235-9cc9-7add2d26008f\",\"type\":\"GlyphRenderer\"}]},\"id\":\"c64dd18b-2637-4bd7-838b-f4e7af4da0e3\",\"type\":\"LegendItem\"},{\"attributes\":{\"data_source\":{\"id\":\"14913a14-fe4f-4fd9-a590-5af07c6b848e\",\"type\":\"ColumnDataSource\"},\"glyph\":{\"id\":\"4e31fd48-b932-4972-b996-c51fe6856379\",\"type\":\"Circle\"},\"hover_glyph\":null,\"muted_glyph\":null,\"nonselection_glyph\":{\"id\":\"600ba829-4086-488e-9e2b-29af28000790\",\"type\":\"Circle\"},\"selection_glyph\":null,\"view\":{\"id\":\"aa9df97a-a491-463c-8094-c162f32567c0\",\"type\":\"CDSView\"}},\"id\":\"e5313567-35b3-4235-9cc9-7add2d26008f\",\"type\":\"GlyphRenderer\"},{\"attributes\":{},\"id\":\"6b16e2b3-7006-4192-8544-7304a184730d\",\"type\":\"UnionRenderers\"},{\"attributes\":{\"fill_alpha\":{\"value\":0.1},\"fill_color\":{\"value\":\"#1f77b4\"},\"line_alpha\":{\"value\":0.1},\"line_color\":{\"value\":\"#1f77b4\"},\"size\":{\"units\":\"screen\",\"value\":8},\"x\":{\"field\":\"x\"},\"y\":{\"field\":\"y\"}},\"id\":\"600ba829-4086-488e-9e2b-29af28000790\",\"type\":\"Circle\"},{\"attributes\":{},\"id\":\"aa7f7342-f759-4218-8a16-effdfd9fb3b3\",\"type\":\"Selection\"},{\"attributes\":{\"line_color\":\"#1f77b4\",\"line_width\":3,\"x\":{\"field\":\"x\"},\"y\":{\"field\":\"y\"}},\"id\":\"4068a1cb-38cb-4fdb-b5e4-2157d602f538\",\"type\":\"Line\"},{\"attributes\":{\"callback\":null,\"data\":{\"x\":[0.1,0.5,1.0,1.5,2.0,2.5,3.0],\"y\":[1.2589254117941673,3.1622776601683795,10.0,31.622776601683793,100.0,316.22776601683796,1000.0]},\"selected\":{\"id\":\"98c65193-785d-40a7-a7ce-013c22dbdd81\",\"type\":\"Selection\"},\"selection_policy\":{\"id\":\"ada45d0d-caf3-4a8e-bda3-174add1a1664\",\"type\":\"UnionRenderers\"}},\"id\":\"7799cc24-78c4-4ec8-a6b4-57374b58ffe2\",\"type\":\"ColumnDataSource\"},{\"attributes\":{\"line_color\":\"red\",\"x\":{\"field\":\"x\"},\"y\":{\"field\":\"y\"}},\"id\":\"1122bce7-941e-4cb8-b1fc-1de73ae18471\",\"type\":\"Line\"},{\"attributes\":{\"line_alpha\":0.1,\"line_color\":\"#1f77b4\",\"line_width\":3,\"x\":{\"field\":\"x\"},\"y\":{\"field\":\"y\"}},\"id\":\"98b78ac2-126a-46d6-b1b2-9cfaa191b558\",\"type\":\"Line\"},{\"attributes\":{\"data_source\":{\"id\":\"10a6f3ce-392c-4ffd-b4f8-a6553923d742\",\"type\":\"ColumnDataSource\"},\"glyph\":{\"id\":\"4068a1cb-38cb-4fdb-b5e4-2157d602f538\",\"type\":\"Line\"},\"hover_glyph\":null,\"muted_glyph\":null,\"nonselection_glyph\":{\"id\":\"98b78ac2-126a-46d6-b1b2-9cfaa191b558\",\"type\":\"Line\"},\"selection_glyph\":null,\"view\":{\"id\":\"b3972f91-d8c8-4f06-b690-ba4fa2e80f9b\",\"type\":\"CDSView\"}},\"id\":\"fa26a904-3230-488a-817a-01f9703f79e7\",\"type\":\"GlyphRenderer\"}],\"root_ids\":[\"dbda338a-2912-4d1d-9adb-96764422777f\"]},\"title\":\"Bokeh Application\",\"version\":\"0.12.16\"}};\n",
       "  var render_items = [{\"docid\":\"42cc3c15-02a6-4ade-9233-d8cb8bb2c656\",\"elementid\":\"04e37120-acf3-493a-bb74-d5214154ed2d\",\"modelid\":\"dbda338a-2912-4d1d-9adb-96764422777f\"}];\n",
       "  root.Bokeh.embed.embed_items_notebook(docs_json, render_items);\n",
       "\n",
       "  }\n",
       "  if (root.Bokeh !== undefined) {\n",
       "    embed_document(root);\n",
       "  } else {\n",
       "    var attempts = 0;\n",
       "    var timer = setInterval(function(root) {\n",
       "      if (root.Bokeh !== undefined) {\n",
       "        embed_document(root);\n",
       "        clearInterval(timer);\n",
       "      }\n",
       "      attempts++;\n",
       "      if (attempts > 100) {\n",
       "        console.log(\"Bokeh: ERROR: Unable to run BokehJS code because BokehJS library is missing\")\n",
       "        clearInterval(timer);\n",
       "      }\n",
       "    }, 10, root)\n",
       "  }\n",
       "})(window);"
      ],
      "application/vnd.bokehjs_exec.v0+json": ""
     },
     "metadata": {
      "application/vnd.bokehjs_exec.v0+json": {
       "id": "dbda338a-2912-4d1d-9adb-96764422777f"
      }
     },
     "output_type": "display_data"
    }
   ],
   "source": [
    "# Create datapoints\n",
    "x = [0.1, 0.5, 1.0, 1.5, 2.0, 2.5, 3.0]\n",
    "y0 = [i**2 for i in x]\n",
    "y1 = [10**i for i in x]\n",
    "y2 = [10**(i**2) for i in x]\n",
    "\n",
    "# output to our notebook\n",
    "output_notebook()\n",
    "\n",
    "# create a new plot\n",
    "p = figure(\n",
    "   tools=\"pan,box_zoom,reset,save\",\n",
    "   y_axis_type=\"log\", y_range=[0.001, 10**11], title=\"log axis example\",\n",
    "   x_axis_label='sections', y_axis_label='particles'\n",
    ")\n",
    "\n",
    "# add some renderers\n",
    "p.line(x, x, legend=\"y=x\")\n",
    "p.circle(x, x, legend=\"y=x\", fill_color=\"white\", size=8)\n",
    "p.line(x, y0, legend=\"y=x^2\", line_width=3)\n",
    "p.line(x, y1, legend=\"y=10^x\", line_color=\"red\")\n",
    "p.circle(x, y1, legend=\"y=10^x\", fill_color=\"red\", line_color=\"red\", size=6)\n",
    "p.line(x, y2, legend=\"y=10^x^2\", line_color=\"orange\", line_dash=\"4 4\")\n",
    "\n",
    "# show the results\n",
    "show(p)"
   ]
  },
  {
   "cell_type": "markdown",
   "metadata": {},
   "source": [
    "### Concepts"
   ]
  },
  {
   "cell_type": "markdown",
   "metadata": {},
   "source": [
    "The `bokeh` library is actually two libraries: one in Python and one in JS. We will work with the Python side so that we don't have to think about JS.\n",
    "\n",
    "Here are some basic ideas from `bokeh`'s documentation."
   ]
  },
  {
   "cell_type": "markdown",
   "metadata": {},
   "source": [
    "*Plot*\n",
    "> Plots are a central concept in Bokeh. They are containers that hold all the various objects (renderers, guides, data, and tools) that comprise the final visualization that is presented to users. The bokeh.plotting interface provides a Figure class to help with assembling all the necessary objects, and a convenience function figure() for creating Figure objects."
   ]
  },
  {
   "cell_type": "markdown",
   "metadata": {},
   "source": [
    "Glyphs\n",
    "> Glyphs are the basic visual marks that Bokeh can display. At the lowest level, there are glyph objects, such as Line. If you are using the low-level bokeh.models interface, it is your responsibility to create and coordinate all the various Bokeh objects, including glyph objects and their data sources. To make life easier, the bokeh.plotting interface exposes higher level glyph methods such as the Figure.line method used in the first example..."
   ]
  },
  {
   "cell_type": "markdown",
   "metadata": {},
   "source": [
    "*Guides & Annotations*\n",
    ">Bokeh plots can also have other visual components that aid presentation or help the user make comparisons. These fall into two categories. Guides are visual aids that help users judge distances, angles, etc. These include grid lines or bands, axes (such as linear, log, or datetime) that may have ticks and tick labels as well. Annotations are visual aids that label or name parts of the plot. These include titles, legends, etc."
   ]
  },
  {
   "cell_type": "markdown",
   "metadata": {},
   "source": [
    "*Application*\n",
    ">A Bokeh application is a rendered Bokeh document, running in a browser.\n"
   ]
  },
  {
   "cell_type": "markdown",
   "metadata": {},
   "source": [
    "*Document*\n",
    ">An organizing data structure for Bokeh applications. Documents contain all the Bokeh Models and data needed to render an interactive visualization or application in the browser."
   ]
  },
  {
   "cell_type": "markdown",
   "metadata": {},
   "source": [
    "*Embedding*\n",
    ">Various methods of including Bokeh plots and widgets into web apps and pages, or the IPython notebook."
   ]
  },
  {
   "cell_type": "markdown",
   "metadata": {},
   "source": [
    "*Server*\n",
    ">Various methods of including Bokeh plots and widgets into web apps and pages, or the IPython notebook."
   ]
  },
  {
   "cell_type": "markdown",
   "metadata": {},
   "source": [
    "*Widgets*\n",
    ">Various methods of including Bokeh plots and widgets into web apps and pages, or the IPython notebook."
   ]
  },
  {
   "cell_type": "markdown",
   "metadata": {},
   "source": [
    "### Examples"
   ]
  },
  {
   "cell_type": "markdown",
   "metadata": {},
   "source": [
    "Below, we scatter circle markers on a plot. What are these things?"
   ]
  },
  {
   "cell_type": "code",
   "execution_count": 5,
   "metadata": {},
   "outputs": [
    {
     "data": {
      "text/html": [
       "\n",
       "<div class=\"bk-root\">\n",
       "    <div class=\"bk-plotdiv\" id=\"991bb3b8-2b57-412d-bbf1-9f36470a971f\"></div>\n",
       "</div>"
      ]
     },
     "metadata": {},
     "output_type": "display_data"
    },
    {
     "data": {
      "application/javascript": [
       "(function(root) {\n",
       "  function embed_document(root) {\n",
       "    \n",
       "  var docs_json = {\"7c5fe783-35ac-41fb-86ef-cbec1cff7564\":{\"roots\":{\"references\":[{\"attributes\":{},\"id\":\"be6bc133-69dd-45b2-b25e-3decf1a156e2\",\"type\":\"WheelZoomTool\"},{\"attributes\":{\"fill_alpha\":{\"value\":0.5},\"fill_color\":{\"value\":\"navy\"},\"line_alpha\":{\"value\":0.5},\"line_color\":{\"value\":\"navy\"},\"size\":{\"units\":\"screen\",\"value\":20},\"x\":{\"field\":\"x\"},\"y\":{\"field\":\"y\"}},\"id\":\"75eeaef3-50d2-4b9b-9c55-1bdf921e3ac1\",\"type\":\"Circle\"},{\"attributes\":{},\"id\":\"465cd213-522c-4b5b-b442-aaff46dbbf29\",\"type\":\"Selection\"},{\"attributes\":{},\"id\":\"ba96c551-7ffd-4f4a-8af0-249573ed3aa7\",\"type\":\"HelpTool\"},{\"attributes\":{},\"id\":\"80be2a8b-bf44-47e6-80de-fa9d24436989\",\"type\":\"ResetTool\"},{\"attributes\":{\"formatter\":{\"id\":\"5ea2d23c-9abe-4598-84cf-05e437edf4da\",\"type\":\"BasicTickFormatter\"},\"plot\":{\"id\":\"d01e9401-f3c2-494a-8190-c3e5536f59e8\",\"subtype\":\"Figure\",\"type\":\"Plot\"},\"ticker\":{\"id\":\"cf8cb0d7-937c-45bf-b80a-a882ab4cd4e8\",\"type\":\"BasicTicker\"}},\"id\":\"ed529679-3a04-4caf-8f8b-c931a617a2d5\",\"type\":\"LinearAxis\"},{\"attributes\":{},\"id\":\"5ea2d23c-9abe-4598-84cf-05e437edf4da\",\"type\":\"BasicTickFormatter\"},{\"attributes\":{\"source\":{\"id\":\"f77fe364-a58a-4e7d-b7a4-eb3a6119c02e\",\"type\":\"ColumnDataSource\"}},\"id\":\"8b560768-727d-4814-8d51-e85733f63072\",\"type\":\"CDSView\"},{\"attributes\":{\"plot\":{\"id\":\"d01e9401-f3c2-494a-8190-c3e5536f59e8\",\"subtype\":\"Figure\",\"type\":\"Plot\"},\"ticker\":{\"id\":\"87e63b51-1389-4f8c-a095-025e84ef852e\",\"type\":\"BasicTicker\"}},\"id\":\"80f76c1e-55e2-454c-b6db-9266c332f952\",\"type\":\"Grid\"},{\"attributes\":{\"callback\":null},\"id\":\"7790c35b-1029-49f0-bc36-05e711868364\",\"type\":\"DataRange1d\"},{\"attributes\":{\"bottom_units\":\"screen\",\"fill_alpha\":{\"value\":0.5},\"fill_color\":{\"value\":\"lightgrey\"},\"left_units\":\"screen\",\"level\":\"overlay\",\"line_alpha\":{\"value\":1.0},\"line_color\":{\"value\":\"black\"},\"line_dash\":[4,4],\"line_width\":{\"value\":2},\"plot\":null,\"render_mode\":\"css\",\"right_units\":\"screen\",\"top_units\":\"screen\"},\"id\":\"1cf4e374-6f73-4e47-b512-08316a7f527f\",\"type\":\"BoxAnnotation\"},{\"attributes\":{},\"id\":\"bff582bc-a358-4cde-bee3-2d8d09406ed1\",\"type\":\"LinearScale\"},{\"attributes\":{},\"id\":\"48f058b0-b86c-4ce9-82cf-4ead533d08de\",\"type\":\"LinearScale\"},{\"attributes\":{\"plot\":null,\"text\":\"\"},\"id\":\"2fc61455-c5e5-4260-84ec-2aafc9d00feb\",\"type\":\"Title\"},{\"attributes\":{\"fill_alpha\":{\"value\":0.1},\"fill_color\":{\"value\":\"#1f77b4\"},\"line_alpha\":{\"value\":0.1},\"line_color\":{\"value\":\"#1f77b4\"},\"size\":{\"units\":\"screen\",\"value\":20},\"x\":{\"field\":\"x\"},\"y\":{\"field\":\"y\"}},\"id\":\"ec8452e1-bd84-4db6-a807-74c60a8d79af\",\"type\":\"Circle\"},{\"attributes\":{\"below\":[{\"id\":\"0fb3587c-a019-4a48-a1b6-b10f46258be8\",\"type\":\"LinearAxis\"}],\"left\":[{\"id\":\"ed529679-3a04-4caf-8f8b-c931a617a2d5\",\"type\":\"LinearAxis\"}],\"plot_height\":400,\"plot_width\":400,\"renderers\":[{\"id\":\"0fb3587c-a019-4a48-a1b6-b10f46258be8\",\"type\":\"LinearAxis\"},{\"id\":\"80f76c1e-55e2-454c-b6db-9266c332f952\",\"type\":\"Grid\"},{\"id\":\"ed529679-3a04-4caf-8f8b-c931a617a2d5\",\"type\":\"LinearAxis\"},{\"id\":\"017d56cd-e4d9-4910-be51-8b27eeb38822\",\"type\":\"Grid\"},{\"id\":\"1cf4e374-6f73-4e47-b512-08316a7f527f\",\"type\":\"BoxAnnotation\"},{\"id\":\"77a1849a-d816-461b-9702-dcb8ddbacf66\",\"type\":\"GlyphRenderer\"}],\"title\":{\"id\":\"2fc61455-c5e5-4260-84ec-2aafc9d00feb\",\"type\":\"Title\"},\"toolbar\":{\"id\":\"cabb51d0-3b76-4803-a73b-a3c3ce529fd7\",\"type\":\"Toolbar\"},\"x_range\":{\"id\":\"7790c35b-1029-49f0-bc36-05e711868364\",\"type\":\"DataRange1d\"},\"x_scale\":{\"id\":\"48f058b0-b86c-4ce9-82cf-4ead533d08de\",\"type\":\"LinearScale\"},\"y_range\":{\"id\":\"df4e1787-26c7-46f6-abcc-60b0a2f3ef09\",\"type\":\"DataRange1d\"},\"y_scale\":{\"id\":\"bff582bc-a358-4cde-bee3-2d8d09406ed1\",\"type\":\"LinearScale\"}},\"id\":\"d01e9401-f3c2-494a-8190-c3e5536f59e8\",\"subtype\":\"Figure\",\"type\":\"Plot\"},{\"attributes\":{\"formatter\":{\"id\":\"236ec42b-014b-48cc-a140-2a1679343358\",\"type\":\"BasicTickFormatter\"},\"plot\":{\"id\":\"d01e9401-f3c2-494a-8190-c3e5536f59e8\",\"subtype\":\"Figure\",\"type\":\"Plot\"},\"ticker\":{\"id\":\"87e63b51-1389-4f8c-a095-025e84ef852e\",\"type\":\"BasicTicker\"}},\"id\":\"0fb3587c-a019-4a48-a1b6-b10f46258be8\",\"type\":\"LinearAxis\"},{\"attributes\":{},\"id\":\"236ec42b-014b-48cc-a140-2a1679343358\",\"type\":\"BasicTickFormatter\"},{\"attributes\":{},\"id\":\"82bb3307-696f-4dfa-9443-60fdcc93a39b\",\"type\":\"PanTool\"},{\"attributes\":{\"callback\":null},\"id\":\"df4e1787-26c7-46f6-abcc-60b0a2f3ef09\",\"type\":\"DataRange1d\"},{\"attributes\":{\"dimension\":1,\"plot\":{\"id\":\"d01e9401-f3c2-494a-8190-c3e5536f59e8\",\"subtype\":\"Figure\",\"type\":\"Plot\"},\"ticker\":{\"id\":\"cf8cb0d7-937c-45bf-b80a-a882ab4cd4e8\",\"type\":\"BasicTicker\"}},\"id\":\"017d56cd-e4d9-4910-be51-8b27eeb38822\",\"type\":\"Grid\"},{\"attributes\":{},\"id\":\"cf8cb0d7-937c-45bf-b80a-a882ab4cd4e8\",\"type\":\"BasicTicker\"},{\"attributes\":{},\"id\":\"87e63b51-1389-4f8c-a095-025e84ef852e\",\"type\":\"BasicTicker\"},{\"attributes\":{\"active_drag\":\"auto\",\"active_inspect\":\"auto\",\"active_scroll\":\"auto\",\"active_tap\":\"auto\",\"tools\":[{\"id\":\"82bb3307-696f-4dfa-9443-60fdcc93a39b\",\"type\":\"PanTool\"},{\"id\":\"be6bc133-69dd-45b2-b25e-3decf1a156e2\",\"type\":\"WheelZoomTool\"},{\"id\":\"08a3d328-59fa-4066-bb20-8fc757ab353e\",\"type\":\"BoxZoomTool\"},{\"id\":\"4cfef781-896d-4cdd-99b1-e09d770fedc7\",\"type\":\"SaveTool\"},{\"id\":\"80be2a8b-bf44-47e6-80de-fa9d24436989\",\"type\":\"ResetTool\"},{\"id\":\"ba96c551-7ffd-4f4a-8af0-249573ed3aa7\",\"type\":\"HelpTool\"}]},\"id\":\"cabb51d0-3b76-4803-a73b-a3c3ce529fd7\",\"type\":\"Toolbar\"},{\"attributes\":{},\"id\":\"6ebc8c8b-57fe-45e5-90d8-8d0d8750e788\",\"type\":\"UnionRenderers\"},{\"attributes\":{\"data_source\":{\"id\":\"f77fe364-a58a-4e7d-b7a4-eb3a6119c02e\",\"type\":\"ColumnDataSource\"},\"glyph\":{\"id\":\"75eeaef3-50d2-4b9b-9c55-1bdf921e3ac1\",\"type\":\"Circle\"},\"hover_glyph\":null,\"muted_glyph\":null,\"nonselection_glyph\":{\"id\":\"ec8452e1-bd84-4db6-a807-74c60a8d79af\",\"type\":\"Circle\"},\"selection_glyph\":null,\"view\":{\"id\":\"8b560768-727d-4814-8d51-e85733f63072\",\"type\":\"CDSView\"}},\"id\":\"77a1849a-d816-461b-9702-dcb8ddbacf66\",\"type\":\"GlyphRenderer\"},{\"attributes\":{\"callback\":null,\"data\":{\"x\":[1,2,3,4,5],\"y\":[6,7,2,4,5]},\"selected\":{\"id\":\"465cd213-522c-4b5b-b442-aaff46dbbf29\",\"type\":\"Selection\"},\"selection_policy\":{\"id\":\"6ebc8c8b-57fe-45e5-90d8-8d0d8750e788\",\"type\":\"UnionRenderers\"}},\"id\":\"f77fe364-a58a-4e7d-b7a4-eb3a6119c02e\",\"type\":\"ColumnDataSource\"},{\"attributes\":{},\"id\":\"4cfef781-896d-4cdd-99b1-e09d770fedc7\",\"type\":\"SaveTool\"},{\"attributes\":{\"overlay\":{\"id\":\"1cf4e374-6f73-4e47-b512-08316a7f527f\",\"type\":\"BoxAnnotation\"}},\"id\":\"08a3d328-59fa-4066-bb20-8fc757ab353e\",\"type\":\"BoxZoomTool\"}],\"root_ids\":[\"d01e9401-f3c2-494a-8190-c3e5536f59e8\"]},\"title\":\"Bokeh Application\",\"version\":\"0.12.16\"}};\n",
       "  var render_items = [{\"docid\":\"7c5fe783-35ac-41fb-86ef-cbec1cff7564\",\"elementid\":\"991bb3b8-2b57-412d-bbf1-9f36470a971f\",\"modelid\":\"d01e9401-f3c2-494a-8190-c3e5536f59e8\"}];\n",
       "  root.Bokeh.embed.embed_items_notebook(docs_json, render_items);\n",
       "\n",
       "  }\n",
       "  if (root.Bokeh !== undefined) {\n",
       "    embed_document(root);\n",
       "  } else {\n",
       "    var attempts = 0;\n",
       "    var timer = setInterval(function(root) {\n",
       "      if (root.Bokeh !== undefined) {\n",
       "        embed_document(root);\n",
       "        clearInterval(timer);\n",
       "      }\n",
       "      attempts++;\n",
       "      if (attempts > 100) {\n",
       "        console.log(\"Bokeh: ERROR: Unable to run BokehJS code because BokehJS library is missing\")\n",
       "        clearInterval(timer);\n",
       "      }\n",
       "    }, 10, root)\n",
       "  }\n",
       "})(window);"
      ],
      "application/vnd.bokehjs_exec.v0+json": ""
     },
     "metadata": {
      "application/vnd.bokehjs_exec.v0+json": {
       "id": "d01e9401-f3c2-494a-8190-c3e5536f59e8"
      }
     },
     "output_type": "display_data"
    }
   ],
   "source": [
    "p = figure(plot_width=400, plot_height=400)\n",
    "\n",
    "# add a circle renderer with a size, color, and alpha\n",
    "p.circle([1, 2, 3, 4, 5], [6, 7, 2, 4, 5], size=20, color=\"navy\", alpha=0.5)\n",
    "\n",
    "# show the results\n",
    "show(p)"
   ]
  },
  {
   "cell_type": "markdown",
   "metadata": {},
   "source": [
    "We can do the same thing with square markers."
   ]
  },
  {
   "cell_type": "code",
   "execution_count": 6,
   "metadata": {},
   "outputs": [
    {
     "data": {
      "text/html": [
       "\n",
       "<div class=\"bk-root\">\n",
       "    <div class=\"bk-plotdiv\" id=\"772f2d7b-fbe0-49d0-b8c7-91ca610bb590\"></div>\n",
       "</div>"
      ]
     },
     "metadata": {},
     "output_type": "display_data"
    },
    {
     "data": {
      "application/javascript": [
       "(function(root) {\n",
       "  function embed_document(root) {\n",
       "    \n",
       "  var docs_json = {\"fa18745f-7ee0-4729-a4d0-485e1e71fff3\":{\"roots\":{\"references\":[{\"attributes\":{\"plot\":{\"id\":\"487899b1-f101-4e6a-845a-19b6f36d905f\",\"subtype\":\"Figure\",\"type\":\"Plot\"},\"ticker\":{\"id\":\"b62541b2-cd36-43e5-bbe5-f388916cb3fe\",\"type\":\"BasicTicker\"}},\"id\":\"f08cbdff-a928-4e4d-88e5-4e5cf6a6cf4b\",\"type\":\"Grid\"},{\"attributes\":{},\"id\":\"b3e01cbd-12e3-421c-9884-918cd56560a0\",\"type\":\"LinearScale\"},{\"attributes\":{\"source\":{\"id\":\"0725f5e0-43cb-4fdd-8bec-36f0b7887efa\",\"type\":\"ColumnDataSource\"}},\"id\":\"1c3c6fc3-dc6f-4745-a699-1b95732173db\",\"type\":\"CDSView\"},{\"attributes\":{\"dimension\":1,\"plot\":{\"id\":\"487899b1-f101-4e6a-845a-19b6f36d905f\",\"subtype\":\"Figure\",\"type\":\"Plot\"},\"ticker\":{\"id\":\"3f8fa475-d666-4b68-8c1f-3d209ecf6f63\",\"type\":\"BasicTicker\"}},\"id\":\"84a3796e-c747-4bc0-b13c-e29e5c9a416a\",\"type\":\"Grid\"},{\"attributes\":{\"below\":[{\"id\":\"9972c611-9c4a-4434-8e47-86a3d86c1c78\",\"type\":\"LinearAxis\"}],\"left\":[{\"id\":\"b15dbe2b-c0ea-448a-91a8-fc77c31f8f7f\",\"type\":\"LinearAxis\"}],\"plot_height\":400,\"plot_width\":400,\"renderers\":[{\"id\":\"9972c611-9c4a-4434-8e47-86a3d86c1c78\",\"type\":\"LinearAxis\"},{\"id\":\"f08cbdff-a928-4e4d-88e5-4e5cf6a6cf4b\",\"type\":\"Grid\"},{\"id\":\"b15dbe2b-c0ea-448a-91a8-fc77c31f8f7f\",\"type\":\"LinearAxis\"},{\"id\":\"84a3796e-c747-4bc0-b13c-e29e5c9a416a\",\"type\":\"Grid\"},{\"id\":\"133fc678-4759-41c0-8f31-2a65cf0d28f9\",\"type\":\"BoxAnnotation\"},{\"id\":\"7f223caa-54d6-4c9c-bbe0-507a7d6a37a3\",\"type\":\"GlyphRenderer\"}],\"title\":{\"id\":\"8945aec4-9b00-400c-a3e5-76f04987e62a\",\"type\":\"Title\"},\"toolbar\":{\"id\":\"edca82f5-c6ef-4ff3-8bae-ad31394c4d78\",\"type\":\"Toolbar\"},\"x_range\":{\"id\":\"4b44700d-fdb8-495d-a190-8e4eeda3f263\",\"type\":\"DataRange1d\"},\"x_scale\":{\"id\":\"027323a7-62ad-4fec-b4e1-0fb458a9359f\",\"type\":\"LinearScale\"},\"y_range\":{\"id\":\"a0ad54aa-3b5d-4308-8e08-0c4b6696ef70\",\"type\":\"DataRange1d\"},\"y_scale\":{\"id\":\"b3e01cbd-12e3-421c-9884-918cd56560a0\",\"type\":\"LinearScale\"}},\"id\":\"487899b1-f101-4e6a-845a-19b6f36d905f\",\"subtype\":\"Figure\",\"type\":\"Plot\"},{\"attributes\":{},\"id\":\"7c4b8e11-9da3-42ea-a623-3d576d54120d\",\"type\":\"BasicTickFormatter\"},{\"attributes\":{\"fill_alpha\":{\"value\":0.5},\"fill_color\":{\"value\":\"olive\"},\"line_alpha\":{\"value\":0.5},\"line_color\":{\"value\":\"olive\"},\"size\":{\"units\":\"screen\",\"value\":20},\"x\":{\"field\":\"x\"},\"y\":{\"field\":\"y\"}},\"id\":\"c88e9bfe-e683-4bca-aa91-191e9ff75bd2\",\"type\":\"Square\"},{\"attributes\":{\"callback\":null,\"data\":{\"x\":[1,2,3,4,5],\"y\":[6,7,2,4,5]},\"selected\":{\"id\":\"935472be-6dc8-4aeb-bf3c-62ea17d61a73\",\"type\":\"Selection\"},\"selection_policy\":{\"id\":\"cbad2816-c840-4ba3-ad7d-51748f15cc7a\",\"type\":\"UnionRenderers\"}},\"id\":\"0725f5e0-43cb-4fdd-8bec-36f0b7887efa\",\"type\":\"ColumnDataSource\"},{\"attributes\":{\"data_source\":{\"id\":\"0725f5e0-43cb-4fdd-8bec-36f0b7887efa\",\"type\":\"ColumnDataSource\"},\"glyph\":{\"id\":\"c88e9bfe-e683-4bca-aa91-191e9ff75bd2\",\"type\":\"Square\"},\"hover_glyph\":null,\"muted_glyph\":null,\"nonselection_glyph\":{\"id\":\"c58e27c1-fa9d-450e-b860-a5a46ba3660c\",\"type\":\"Square\"},\"selection_glyph\":null,\"view\":{\"id\":\"1c3c6fc3-dc6f-4745-a699-1b95732173db\",\"type\":\"CDSView\"}},\"id\":\"7f223caa-54d6-4c9c-bbe0-507a7d6a37a3\",\"type\":\"GlyphRenderer\"},{\"attributes\":{\"plot\":null,\"text\":\"\"},\"id\":\"8945aec4-9b00-400c-a3e5-76f04987e62a\",\"type\":\"Title\"},{\"attributes\":{\"overlay\":{\"id\":\"133fc678-4759-41c0-8f31-2a65cf0d28f9\",\"type\":\"BoxAnnotation\"}},\"id\":\"e2d739bd-496c-4298-bb7d-e4235c885fbd\",\"type\":\"BoxZoomTool\"},{\"attributes\":{},\"id\":\"027323a7-62ad-4fec-b4e1-0fb458a9359f\",\"type\":\"LinearScale\"},{\"attributes\":{},\"id\":\"cbad2816-c840-4ba3-ad7d-51748f15cc7a\",\"type\":\"UnionRenderers\"},{\"attributes\":{\"callback\":null},\"id\":\"a0ad54aa-3b5d-4308-8e08-0c4b6696ef70\",\"type\":\"DataRange1d\"},{\"attributes\":{},\"id\":\"8669d705-de43-4ecc-b465-2978a3e2eb41\",\"type\":\"BasicTickFormatter\"},{\"attributes\":{},\"id\":\"59636c01-f29b-4e0b-b13d-b3def9f91a1f\",\"type\":\"WheelZoomTool\"},{\"attributes\":{\"fill_alpha\":{\"value\":0.1},\"fill_color\":{\"value\":\"#1f77b4\"},\"line_alpha\":{\"value\":0.1},\"line_color\":{\"value\":\"#1f77b4\"},\"size\":{\"units\":\"screen\",\"value\":20},\"x\":{\"field\":\"x\"},\"y\":{\"field\":\"y\"}},\"id\":\"c58e27c1-fa9d-450e-b860-a5a46ba3660c\",\"type\":\"Square\"},{\"attributes\":{\"bottom_units\":\"screen\",\"fill_alpha\":{\"value\":0.5},\"fill_color\":{\"value\":\"lightgrey\"},\"left_units\":\"screen\",\"level\":\"overlay\",\"line_alpha\":{\"value\":1.0},\"line_color\":{\"value\":\"black\"},\"line_dash\":[4,4],\"line_width\":{\"value\":2},\"plot\":null,\"render_mode\":\"css\",\"right_units\":\"screen\",\"top_units\":\"screen\"},\"id\":\"133fc678-4759-41c0-8f31-2a65cf0d28f9\",\"type\":\"BoxAnnotation\"},{\"attributes\":{\"callback\":null},\"id\":\"4b44700d-fdb8-495d-a190-8e4eeda3f263\",\"type\":\"DataRange1d\"},{\"attributes\":{},\"id\":\"887ea202-f1bd-4b9a-b872-566fb51b2254\",\"type\":\"ResetTool\"},{\"attributes\":{\"active_drag\":\"auto\",\"active_inspect\":\"auto\",\"active_scroll\":\"auto\",\"active_tap\":\"auto\",\"tools\":[{\"id\":\"28d69667-512b-4723-aa5a-1357d4f3296c\",\"type\":\"PanTool\"},{\"id\":\"59636c01-f29b-4e0b-b13d-b3def9f91a1f\",\"type\":\"WheelZoomTool\"},{\"id\":\"e2d739bd-496c-4298-bb7d-e4235c885fbd\",\"type\":\"BoxZoomTool\"},{\"id\":\"33fe9b81-0b3f-4d41-abbd-871421a99221\",\"type\":\"SaveTool\"},{\"id\":\"887ea202-f1bd-4b9a-b872-566fb51b2254\",\"type\":\"ResetTool\"},{\"id\":\"81b4deea-4ecc-474b-8e60-8b1fb345a838\",\"type\":\"HelpTool\"}]},\"id\":\"edca82f5-c6ef-4ff3-8bae-ad31394c4d78\",\"type\":\"Toolbar\"},{\"attributes\":{},\"id\":\"28d69667-512b-4723-aa5a-1357d4f3296c\",\"type\":\"PanTool\"},{\"attributes\":{},\"id\":\"33fe9b81-0b3f-4d41-abbd-871421a99221\",\"type\":\"SaveTool\"},{\"attributes\":{},\"id\":\"3f8fa475-d666-4b68-8c1f-3d209ecf6f63\",\"type\":\"BasicTicker\"},{\"attributes\":{},\"id\":\"935472be-6dc8-4aeb-bf3c-62ea17d61a73\",\"type\":\"Selection\"},{\"attributes\":{\"formatter\":{\"id\":\"7c4b8e11-9da3-42ea-a623-3d576d54120d\",\"type\":\"BasicTickFormatter\"},\"plot\":{\"id\":\"487899b1-f101-4e6a-845a-19b6f36d905f\",\"subtype\":\"Figure\",\"type\":\"Plot\"},\"ticker\":{\"id\":\"b62541b2-cd36-43e5-bbe5-f388916cb3fe\",\"type\":\"BasicTicker\"}},\"id\":\"9972c611-9c4a-4434-8e47-86a3d86c1c78\",\"type\":\"LinearAxis\"},{\"attributes\":{},\"id\":\"81b4deea-4ecc-474b-8e60-8b1fb345a838\",\"type\":\"HelpTool\"},{\"attributes\":{\"formatter\":{\"id\":\"8669d705-de43-4ecc-b465-2978a3e2eb41\",\"type\":\"BasicTickFormatter\"},\"plot\":{\"id\":\"487899b1-f101-4e6a-845a-19b6f36d905f\",\"subtype\":\"Figure\",\"type\":\"Plot\"},\"ticker\":{\"id\":\"3f8fa475-d666-4b68-8c1f-3d209ecf6f63\",\"type\":\"BasicTicker\"}},\"id\":\"b15dbe2b-c0ea-448a-91a8-fc77c31f8f7f\",\"type\":\"LinearAxis\"},{\"attributes\":{},\"id\":\"b62541b2-cd36-43e5-bbe5-f388916cb3fe\",\"type\":\"BasicTicker\"}],\"root_ids\":[\"487899b1-f101-4e6a-845a-19b6f36d905f\"]},\"title\":\"Bokeh Application\",\"version\":\"0.12.16\"}};\n",
       "  var render_items = [{\"docid\":\"fa18745f-7ee0-4729-a4d0-485e1e71fff3\",\"elementid\":\"772f2d7b-fbe0-49d0-b8c7-91ca610bb590\",\"modelid\":\"487899b1-f101-4e6a-845a-19b6f36d905f\"}];\n",
       "  root.Bokeh.embed.embed_items_notebook(docs_json, render_items);\n",
       "\n",
       "  }\n",
       "  if (root.Bokeh !== undefined) {\n",
       "    embed_document(root);\n",
       "  } else {\n",
       "    var attempts = 0;\n",
       "    var timer = setInterval(function(root) {\n",
       "      if (root.Bokeh !== undefined) {\n",
       "        embed_document(root);\n",
       "        clearInterval(timer);\n",
       "      }\n",
       "      attempts++;\n",
       "      if (attempts > 100) {\n",
       "        console.log(\"Bokeh: ERROR: Unable to run BokehJS code because BokehJS library is missing\")\n",
       "        clearInterval(timer);\n",
       "      }\n",
       "    }, 10, root)\n",
       "  }\n",
       "})(window);"
      ],
      "application/vnd.bokehjs_exec.v0+json": ""
     },
     "metadata": {
      "application/vnd.bokehjs_exec.v0+json": {
       "id": "487899b1-f101-4e6a-845a-19b6f36d905f"
      }
     },
     "output_type": "display_data"
    }
   ],
   "source": [
    "q = figure(plot_width=400, plot_height=400)\n",
    "\n",
    "# add a square renderer with a size, color, and alpha\n",
    "q.square([1, 2, 3, 4, 5], [6, 7, 2, 4, 5], size=20, color=\"olive\", alpha=0.5)\n",
    "\n",
    "# show the results\n",
    "show(q)"
   ]
  },
  {
   "cell_type": "markdown",
   "metadata": {},
   "source": [
    "There are many. Here's a good one:"
   ]
  },
  {
   "cell_type": "code",
   "execution_count": 7,
   "metadata": {},
   "outputs": [
    {
     "data": {
      "text/html": [
       "\n",
       "<div class=\"bk-root\">\n",
       "    <div class=\"bk-plotdiv\" id=\"6853b328-3a67-426f-883e-122475bd1a0f\"></div>\n",
       "</div>"
      ]
     },
     "metadata": {},
     "output_type": "display_data"
    },
    {
     "data": {
      "application/javascript": [
       "(function(root) {\n",
       "  function embed_document(root) {\n",
       "    \n",
       "  var docs_json = {\"154f6c5e-2219-4b51-9431-6a16e5deccf7\":{\"roots\":{\"references\":[{\"attributes\":{\"callback\":null},\"id\":\"17d83986-060f-493e-9734-e1ea03c283a0\",\"type\":\"DataRange1d\"},{\"attributes\":{},\"id\":\"c3cdff5b-ba65-4894-8022-a907fc17915b\",\"type\":\"BasicTicker\"},{\"attributes\":{\"formatter\":{\"id\":\"164ca25f-9916-46e9-bb0f-91129a2c361d\",\"type\":\"BasicTickFormatter\"},\"plot\":{\"id\":\"ccbcd878-1374-462e-a234-e0478f4cd064\",\"subtype\":\"Figure\",\"type\":\"Plot\"},\"ticker\":{\"id\":\"c3cdff5b-ba65-4894-8022-a907fc17915b\",\"type\":\"BasicTicker\"}},\"id\":\"81572b59-33f7-4e65-b923-7be278be7a97\",\"type\":\"LinearAxis\"},{\"attributes\":{\"below\":[{\"id\":\"81572b59-33f7-4e65-b923-7be278be7a97\",\"type\":\"LinearAxis\"}],\"left\":[{\"id\":\"8234658a-5049-452b-b364-aa9086809fe1\",\"type\":\"LinearAxis\"}],\"plot_height\":400,\"plot_width\":400,\"renderers\":[{\"id\":\"81572b59-33f7-4e65-b923-7be278be7a97\",\"type\":\"LinearAxis\"},{\"id\":\"8f0b79f3-9387-4af1-99b0-2534cb715914\",\"type\":\"Grid\"},{\"id\":\"8234658a-5049-452b-b364-aa9086809fe1\",\"type\":\"LinearAxis\"},{\"id\":\"fbfb948a-2f36-401f-9f30-67eca9656b66\",\"type\":\"Grid\"},{\"id\":\"8c8362eb-7fbe-431e-809d-dca4a3802228\",\"type\":\"BoxAnnotation\"},{\"id\":\"d565a97d-340c-4a10-ab99-21ad78d1b49b\",\"type\":\"GlyphRenderer\"}],\"title\":{\"id\":\"18a670a8-7e7d-43c2-aea4-19b83bc45942\",\"type\":\"Title\"},\"toolbar\":{\"id\":\"aaf96e3b-09b8-4bb7-9da1-2cea3efe6e99\",\"type\":\"Toolbar\"},\"x_range\":{\"id\":\"e53c92ba-1102-40cb-8ad6-801628f41cef\",\"type\":\"DataRange1d\"},\"x_scale\":{\"id\":\"58042be4-78bc-4ef3-828a-56e960be5a74\",\"type\":\"LinearScale\"},\"y_range\":{\"id\":\"17d83986-060f-493e-9734-e1ea03c283a0\",\"type\":\"DataRange1d\"},\"y_scale\":{\"id\":\"4c131a00-0c17-4495-a223-b8716a0306c1\",\"type\":\"LinearScale\"}},\"id\":\"ccbcd878-1374-462e-a234-e0478f4cd064\",\"subtype\":\"Figure\",\"type\":\"Plot\"},{\"attributes\":{},\"id\":\"c0147d0e-85bf-41f0-b8bc-8e17fb3cf257\",\"type\":\"HelpTool\"},{\"attributes\":{\"source\":{\"id\":\"c8a04238-9b0b-4732-bea4-b5e043055d28\",\"type\":\"ColumnDataSource\"}},\"id\":\"8d868e8c-a60b-4682-ab72-3f11195bd8e9\",\"type\":\"CDSView\"},{\"attributes\":{\"fill_alpha\":{\"value\":0.5},\"fill_color\":{\"value\":\"red\"},\"line_alpha\":{\"value\":0.5},\"line_color\":{\"value\":\"red\"},\"size\":{\"units\":\"screen\",\"value\":20},\"x\":{\"field\":\"x\"},\"y\":{\"field\":\"y\"}},\"id\":\"9c3eb604-4485-4c80-a21c-e221e860942c\",\"type\":\"X\"},{\"attributes\":{},\"id\":\"4c131a00-0c17-4495-a223-b8716a0306c1\",\"type\":\"LinearScale\"},{\"attributes\":{\"active_drag\":\"auto\",\"active_inspect\":\"auto\",\"active_scroll\":\"auto\",\"active_tap\":\"auto\",\"tools\":[{\"id\":\"4512332e-5b37-4406-9e13-b3a62b63ae0a\",\"type\":\"PanTool\"},{\"id\":\"83f33fbb-5f14-47cc-aca9-5c37014731fa\",\"type\":\"WheelZoomTool\"},{\"id\":\"76f3744f-8669-41b7-90fb-40caf4a3c93a\",\"type\":\"BoxZoomTool\"},{\"id\":\"787949fa-833d-4636-95ec-2b1287ef3add\",\"type\":\"SaveTool\"},{\"id\":\"b939f045-1d14-4e4c-8066-ecab0cfe51ee\",\"type\":\"ResetTool\"},{\"id\":\"c0147d0e-85bf-41f0-b8bc-8e17fb3cf257\",\"type\":\"HelpTool\"}]},\"id\":\"aaf96e3b-09b8-4bb7-9da1-2cea3efe6e99\",\"type\":\"Toolbar\"},{\"attributes\":{\"plot\":{\"id\":\"ccbcd878-1374-462e-a234-e0478f4cd064\",\"subtype\":\"Figure\",\"type\":\"Plot\"},\"ticker\":{\"id\":\"c3cdff5b-ba65-4894-8022-a907fc17915b\",\"type\":\"BasicTicker\"}},\"id\":\"8f0b79f3-9387-4af1-99b0-2534cb715914\",\"type\":\"Grid\"},{\"attributes\":{},\"id\":\"5b73dd8f-4b4a-48b9-83c6-9d272664fda1\",\"type\":\"BasicTickFormatter\"},{\"attributes\":{\"data_source\":{\"id\":\"c8a04238-9b0b-4732-bea4-b5e043055d28\",\"type\":\"ColumnDataSource\"},\"glyph\":{\"id\":\"9c3eb604-4485-4c80-a21c-e221e860942c\",\"type\":\"X\"},\"hover_glyph\":null,\"muted_glyph\":null,\"nonselection_glyph\":{\"id\":\"0a64250c-916b-47aa-8a69-8f238f1f85bc\",\"type\":\"X\"},\"selection_glyph\":null,\"view\":{\"id\":\"8d868e8c-a60b-4682-ab72-3f11195bd8e9\",\"type\":\"CDSView\"}},\"id\":\"d565a97d-340c-4a10-ab99-21ad78d1b49b\",\"type\":\"GlyphRenderer\"},{\"attributes\":{\"dimension\":1,\"plot\":{\"id\":\"ccbcd878-1374-462e-a234-e0478f4cd064\",\"subtype\":\"Figure\",\"type\":\"Plot\"},\"ticker\":{\"id\":\"961b246b-2889-46ee-b6d4-d8a2f6d00873\",\"type\":\"BasicTicker\"}},\"id\":\"fbfb948a-2f36-401f-9f30-67eca9656b66\",\"type\":\"Grid\"},{\"attributes\":{},\"id\":\"787949fa-833d-4636-95ec-2b1287ef3add\",\"type\":\"SaveTool\"},{\"attributes\":{\"bottom_units\":\"screen\",\"fill_alpha\":{\"value\":0.5},\"fill_color\":{\"value\":\"lightgrey\"},\"left_units\":\"screen\",\"level\":\"overlay\",\"line_alpha\":{\"value\":1.0},\"line_color\":{\"value\":\"black\"},\"line_dash\":[4,4],\"line_width\":{\"value\":2},\"plot\":null,\"render_mode\":\"css\",\"right_units\":\"screen\",\"top_units\":\"screen\"},\"id\":\"8c8362eb-7fbe-431e-809d-dca4a3802228\",\"type\":\"BoxAnnotation\"},{\"attributes\":{},\"id\":\"b939f045-1d14-4e4c-8066-ecab0cfe51ee\",\"type\":\"ResetTool\"},{\"attributes\":{},\"id\":\"961b246b-2889-46ee-b6d4-d8a2f6d00873\",\"type\":\"BasicTicker\"},{\"attributes\":{},\"id\":\"d7e05b0e-26e0-414b-8062-9b14b9095b75\",\"type\":\"Selection\"},{\"attributes\":{},\"id\":\"58042be4-78bc-4ef3-828a-56e960be5a74\",\"type\":\"LinearScale\"},{\"attributes\":{\"formatter\":{\"id\":\"5b73dd8f-4b4a-48b9-83c6-9d272664fda1\",\"type\":\"BasicTickFormatter\"},\"plot\":{\"id\":\"ccbcd878-1374-462e-a234-e0478f4cd064\",\"subtype\":\"Figure\",\"type\":\"Plot\"},\"ticker\":{\"id\":\"961b246b-2889-46ee-b6d4-d8a2f6d00873\",\"type\":\"BasicTicker\"}},\"id\":\"8234658a-5049-452b-b364-aa9086809fe1\",\"type\":\"LinearAxis\"},{\"attributes\":{},\"id\":\"164ca25f-9916-46e9-bb0f-91129a2c361d\",\"type\":\"BasicTickFormatter\"},{\"attributes\":{},\"id\":\"4512332e-5b37-4406-9e13-b3a62b63ae0a\",\"type\":\"PanTool\"},{\"attributes\":{\"callback\":null,\"data\":{\"x\":[1,2,3,4,5],\"y\":[6,7,2,4,5]},\"selected\":{\"id\":\"d7e05b0e-26e0-414b-8062-9b14b9095b75\",\"type\":\"Selection\"},\"selection_policy\":{\"id\":\"0389be2c-d4e9-4142-b815-566d256a73a3\",\"type\":\"UnionRenderers\"}},\"id\":\"c8a04238-9b0b-4732-bea4-b5e043055d28\",\"type\":\"ColumnDataSource\"},{\"attributes\":{\"overlay\":{\"id\":\"8c8362eb-7fbe-431e-809d-dca4a3802228\",\"type\":\"BoxAnnotation\"}},\"id\":\"76f3744f-8669-41b7-90fb-40caf4a3c93a\",\"type\":\"BoxZoomTool\"},{\"attributes\":{\"plot\":null,\"text\":\"\"},\"id\":\"18a670a8-7e7d-43c2-aea4-19b83bc45942\",\"type\":\"Title\"},{\"attributes\":{},\"id\":\"83f33fbb-5f14-47cc-aca9-5c37014731fa\",\"type\":\"WheelZoomTool\"},{\"attributes\":{\"fill_alpha\":{\"value\":0.1},\"fill_color\":{\"value\":\"#1f77b4\"},\"line_alpha\":{\"value\":0.1},\"line_color\":{\"value\":\"#1f77b4\"},\"size\":{\"units\":\"screen\",\"value\":20},\"x\":{\"field\":\"x\"},\"y\":{\"field\":\"y\"}},\"id\":\"0a64250c-916b-47aa-8a69-8f238f1f85bc\",\"type\":\"X\"},{\"attributes\":{},\"id\":\"0389be2c-d4e9-4142-b815-566d256a73a3\",\"type\":\"UnionRenderers\"},{\"attributes\":{\"callback\":null},\"id\":\"e53c92ba-1102-40cb-8ad6-801628f41cef\",\"type\":\"DataRange1d\"}],\"root_ids\":[\"ccbcd878-1374-462e-a234-e0478f4cd064\"]},\"title\":\"Bokeh Application\",\"version\":\"0.12.16\"}};\n",
       "  var render_items = [{\"docid\":\"154f6c5e-2219-4b51-9431-6a16e5deccf7\",\"elementid\":\"6853b328-3a67-426f-883e-122475bd1a0f\",\"modelid\":\"ccbcd878-1374-462e-a234-e0478f4cd064\"}];\n",
       "  root.Bokeh.embed.embed_items_notebook(docs_json, render_items);\n",
       "\n",
       "  }\n",
       "  if (root.Bokeh !== undefined) {\n",
       "    embed_document(root);\n",
       "  } else {\n",
       "    var attempts = 0;\n",
       "    var timer = setInterval(function(root) {\n",
       "      if (root.Bokeh !== undefined) {\n",
       "        embed_document(root);\n",
       "        clearInterval(timer);\n",
       "      }\n",
       "      attempts++;\n",
       "      if (attempts > 100) {\n",
       "        console.log(\"Bokeh: ERROR: Unable to run BokehJS code because BokehJS library is missing\")\n",
       "        clearInterval(timer);\n",
       "      }\n",
       "    }, 10, root)\n",
       "  }\n",
       "})(window);"
      ],
      "application/vnd.bokehjs_exec.v0+json": ""
     },
     "metadata": {
      "application/vnd.bokehjs_exec.v0+json": {
       "id": "ccbcd878-1374-462e-a234-e0478f4cd064"
      }
     },
     "output_type": "display_data"
    }
   ],
   "source": [
    "qq = figure(plot_width=400, plot_height=400)\n",
    "\n",
    "# add a square renderer with a size, color, and alpha\n",
    "qq.x([1, 2, 3, 4, 5], [6, 7, 2, 4, 5], size=20, color=\"red\", alpha=0.5)\n",
    "\n",
    "# show the results\n",
    "show(qq)"
   ]
  },
  {
   "cell_type": "markdown",
   "metadata": {},
   "source": [
    "Notice the inputs and the results. We do pretty much the same thing to create a line. You can make any kind of plot, not just a plot of a function."
   ]
  },
  {
   "cell_type": "code",
   "execution_count": 8,
   "metadata": {},
   "outputs": [
    {
     "data": {
      "text/html": [
       "\n",
       "<div class=\"bk-root\">\n",
       "    <div class=\"bk-plotdiv\" id=\"f7aa8418-882e-4cfb-8d29-79a66acff9e7\"></div>\n",
       "</div>"
      ]
     },
     "metadata": {},
     "output_type": "display_data"
    },
    {
     "data": {
      "application/javascript": [
       "(function(root) {\n",
       "  function embed_document(root) {\n",
       "    \n",
       "  var docs_json = {\"af405486-fc44-4936-b145-c21295837d57\":{\"roots\":{\"references\":[{\"attributes\":{},\"id\":\"04668bc2-5deb-4b34-aa0b-013b979563df\",\"type\":\"BasicTickFormatter\"},{\"attributes\":{\"dimension\":1,\"plot\":{\"id\":\"6fc67291-0232-4d9f-96ce-55ac37b46738\",\"subtype\":\"Figure\",\"type\":\"Plot\"},\"ticker\":{\"id\":\"36a2a0b6-81b1-47f9-9680-eb9e00ac31d1\",\"type\":\"BasicTicker\"}},\"id\":\"c1445022-95af-4c9d-b7cb-037945c93404\",\"type\":\"Grid\"},{\"attributes\":{\"source\":{\"id\":\"fe500513-74b1-4626-8ee7-faccb58156b0\",\"type\":\"ColumnDataSource\"}},\"id\":\"31726803-10bc-4f10-b2ef-20e33dba9727\",\"type\":\"CDSView\"},{\"attributes\":{\"bottom_units\":\"screen\",\"fill_alpha\":{\"value\":0.5},\"fill_color\":{\"value\":\"lightgrey\"},\"left_units\":\"screen\",\"level\":\"overlay\",\"line_alpha\":{\"value\":1.0},\"line_color\":{\"value\":\"black\"},\"line_dash\":[4,4],\"line_width\":{\"value\":2},\"plot\":null,\"render_mode\":\"css\",\"right_units\":\"screen\",\"top_units\":\"screen\"},\"id\":\"b78732bf-3ba5-4134-abab-93afdb6847c2\",\"type\":\"BoxAnnotation\"},{\"attributes\":{\"active_drag\":\"auto\",\"active_inspect\":\"auto\",\"active_scroll\":\"auto\",\"active_tap\":\"auto\",\"tools\":[{\"id\":\"9539473f-eb14-4aab-ba1f-6b04076a6958\",\"type\":\"PanTool\"},{\"id\":\"5ab916b2-66d9-4eb3-94e1-f9431f0ba988\",\"type\":\"WheelZoomTool\"},{\"id\":\"56922d84-4a0f-43cc-9993-d46b10c735d3\",\"type\":\"BoxZoomTool\"},{\"id\":\"59278aa7-9b32-453c-87e3-2bd4cf911e6d\",\"type\":\"SaveTool\"},{\"id\":\"2e639947-dcb6-4219-a36c-ba6c5e8eedc0\",\"type\":\"ResetTool\"},{\"id\":\"2cd718f1-1240-4975-96ef-f3537de1c0c1\",\"type\":\"HelpTool\"}]},\"id\":\"9134a33e-2ce6-41e2-85a3-a1eb2524a27a\",\"type\":\"Toolbar\"},{\"attributes\":{\"line_alpha\":0.1,\"line_color\":\"#1f77b4\",\"line_width\":2,\"x\":{\"field\":\"x\"},\"y\":{\"field\":\"y\"}},\"id\":\"784986a5-11f5-4700-9d5f-9817d35fe5df\",\"type\":\"Line\"},{\"attributes\":{},\"id\":\"2e639947-dcb6-4219-a36c-ba6c5e8eedc0\",\"type\":\"ResetTool\"},{\"attributes\":{},\"id\":\"36a2a0b6-81b1-47f9-9680-eb9e00ac31d1\",\"type\":\"BasicTicker\"},{\"attributes\":{},\"id\":\"dfef2a03-978b-4449-b624-510e4e14133b\",\"type\":\"UnionRenderers\"},{\"attributes\":{\"below\":[{\"id\":\"6de9f7b3-7db9-4341-b102-127965c4d0f9\",\"type\":\"LinearAxis\"}],\"left\":[{\"id\":\"f573481f-503c-4392-93ed-de8be877612a\",\"type\":\"LinearAxis\"}],\"plot_height\":400,\"plot_width\":400,\"renderers\":[{\"id\":\"6de9f7b3-7db9-4341-b102-127965c4d0f9\",\"type\":\"LinearAxis\"},{\"id\":\"d55dad09-69d0-4cf4-8daa-871a8da6e542\",\"type\":\"Grid\"},{\"id\":\"f573481f-503c-4392-93ed-de8be877612a\",\"type\":\"LinearAxis\"},{\"id\":\"c1445022-95af-4c9d-b7cb-037945c93404\",\"type\":\"Grid\"},{\"id\":\"b78732bf-3ba5-4134-abab-93afdb6847c2\",\"type\":\"BoxAnnotation\"},{\"id\":\"72af337d-4c3f-4c04-a1a7-0fc434dadd1a\",\"type\":\"GlyphRenderer\"}],\"title\":{\"id\":\"5607e45a-f4ae-41c1-8e95-7cc2c0c5df54\",\"type\":\"Title\"},\"toolbar\":{\"id\":\"9134a33e-2ce6-41e2-85a3-a1eb2524a27a\",\"type\":\"Toolbar\"},\"x_range\":{\"id\":\"a41d2f18-a788-482b-b250-184a91b403c0\",\"type\":\"DataRange1d\"},\"x_scale\":{\"id\":\"25a6f305-20f8-44f8-a0f6-52aa7cf7d8fb\",\"type\":\"LinearScale\"},\"y_range\":{\"id\":\"65d2c611-7a41-4150-8365-45a22e564aed\",\"type\":\"DataRange1d\"},\"y_scale\":{\"id\":\"3ffa97ab-9edb-4eb9-bf70-37330702c44d\",\"type\":\"LinearScale\"}},\"id\":\"6fc67291-0232-4d9f-96ce-55ac37b46738\",\"subtype\":\"Figure\",\"type\":\"Plot\"},{\"attributes\":{\"line_color\":\"#1f77b4\",\"line_width\":2,\"x\":{\"field\":\"x\"},\"y\":{\"field\":\"y\"}},\"id\":\"e666fb2e-26ca-4a67-8b33-39cf02303bf7\",\"type\":\"Line\"},{\"attributes\":{\"overlay\":{\"id\":\"b78732bf-3ba5-4134-abab-93afdb6847c2\",\"type\":\"BoxAnnotation\"}},\"id\":\"56922d84-4a0f-43cc-9993-d46b10c735d3\",\"type\":\"BoxZoomTool\"},{\"attributes\":{\"plot\":{\"id\":\"6fc67291-0232-4d9f-96ce-55ac37b46738\",\"subtype\":\"Figure\",\"type\":\"Plot\"},\"ticker\":{\"id\":\"aff2a0ed-ab27-4cf4-8ebe-ef6e47d3f12f\",\"type\":\"BasicTicker\"}},\"id\":\"d55dad09-69d0-4cf4-8daa-871a8da6e542\",\"type\":\"Grid\"},{\"attributes\":{\"callback\":null,\"data\":{\"x\":[1,0,2,3,4,5,1],\"y\":[6,1,7,2,4,5,2]},\"selected\":{\"id\":\"24aff82f-cfbc-4fbd-b459-cdd2db32de31\",\"type\":\"Selection\"},\"selection_policy\":{\"id\":\"dfef2a03-978b-4449-b624-510e4e14133b\",\"type\":\"UnionRenderers\"}},\"id\":\"fe500513-74b1-4626-8ee7-faccb58156b0\",\"type\":\"ColumnDataSource\"},{\"attributes\":{\"callback\":null},\"id\":\"65d2c611-7a41-4150-8365-45a22e564aed\",\"type\":\"DataRange1d\"},{\"attributes\":{\"formatter\":{\"id\":\"7af8dfaf-0a98-4439-abab-ba7c3f9fe25b\",\"type\":\"BasicTickFormatter\"},\"plot\":{\"id\":\"6fc67291-0232-4d9f-96ce-55ac37b46738\",\"subtype\":\"Figure\",\"type\":\"Plot\"},\"ticker\":{\"id\":\"36a2a0b6-81b1-47f9-9680-eb9e00ac31d1\",\"type\":\"BasicTicker\"}},\"id\":\"f573481f-503c-4392-93ed-de8be877612a\",\"type\":\"LinearAxis\"},{\"attributes\":{\"plot\":null,\"text\":\"\"},\"id\":\"5607e45a-f4ae-41c1-8e95-7cc2c0c5df54\",\"type\":\"Title\"},{\"attributes\":{\"data_source\":{\"id\":\"fe500513-74b1-4626-8ee7-faccb58156b0\",\"type\":\"ColumnDataSource\"},\"glyph\":{\"id\":\"e666fb2e-26ca-4a67-8b33-39cf02303bf7\",\"type\":\"Line\"},\"hover_glyph\":null,\"muted_glyph\":null,\"nonselection_glyph\":{\"id\":\"784986a5-11f5-4700-9d5f-9817d35fe5df\",\"type\":\"Line\"},\"selection_glyph\":null,\"view\":{\"id\":\"31726803-10bc-4f10-b2ef-20e33dba9727\",\"type\":\"CDSView\"}},\"id\":\"72af337d-4c3f-4c04-a1a7-0fc434dadd1a\",\"type\":\"GlyphRenderer\"},{\"attributes\":{},\"id\":\"7af8dfaf-0a98-4439-abab-ba7c3f9fe25b\",\"type\":\"BasicTickFormatter\"},{\"attributes\":{},\"id\":\"25a6f305-20f8-44f8-a0f6-52aa7cf7d8fb\",\"type\":\"LinearScale\"},{\"attributes\":{},\"id\":\"aff2a0ed-ab27-4cf4-8ebe-ef6e47d3f12f\",\"type\":\"BasicTicker\"},{\"attributes\":{},\"id\":\"2cd718f1-1240-4975-96ef-f3537de1c0c1\",\"type\":\"HelpTool\"},{\"attributes\":{\"callback\":null},\"id\":\"a41d2f18-a788-482b-b250-184a91b403c0\",\"type\":\"DataRange1d\"},{\"attributes\":{},\"id\":\"5ab916b2-66d9-4eb3-94e1-f9431f0ba988\",\"type\":\"WheelZoomTool\"},{\"attributes\":{},\"id\":\"59278aa7-9b32-453c-87e3-2bd4cf911e6d\",\"type\":\"SaveTool\"},{\"attributes\":{},\"id\":\"3ffa97ab-9edb-4eb9-bf70-37330702c44d\",\"type\":\"LinearScale\"},{\"attributes\":{\"formatter\":{\"id\":\"04668bc2-5deb-4b34-aa0b-013b979563df\",\"type\":\"BasicTickFormatter\"},\"plot\":{\"id\":\"6fc67291-0232-4d9f-96ce-55ac37b46738\",\"subtype\":\"Figure\",\"type\":\"Plot\"},\"ticker\":{\"id\":\"aff2a0ed-ab27-4cf4-8ebe-ef6e47d3f12f\",\"type\":\"BasicTicker\"}},\"id\":\"6de9f7b3-7db9-4341-b102-127965c4d0f9\",\"type\":\"LinearAxis\"},{\"attributes\":{},\"id\":\"9539473f-eb14-4aab-ba1f-6b04076a6958\",\"type\":\"PanTool\"},{\"attributes\":{},\"id\":\"24aff82f-cfbc-4fbd-b459-cdd2db32de31\",\"type\":\"Selection\"}],\"root_ids\":[\"6fc67291-0232-4d9f-96ce-55ac37b46738\"]},\"title\":\"Bokeh Application\",\"version\":\"0.12.16\"}};\n",
       "  var render_items = [{\"docid\":\"af405486-fc44-4936-b145-c21295837d57\",\"elementid\":\"f7aa8418-882e-4cfb-8d29-79a66acff9e7\",\"modelid\":\"6fc67291-0232-4d9f-96ce-55ac37b46738\"}];\n",
       "  root.Bokeh.embed.embed_items_notebook(docs_json, render_items);\n",
       "\n",
       "  }\n",
       "  if (root.Bokeh !== undefined) {\n",
       "    embed_document(root);\n",
       "  } else {\n",
       "    var attempts = 0;\n",
       "    var timer = setInterval(function(root) {\n",
       "      if (root.Bokeh !== undefined) {\n",
       "        embed_document(root);\n",
       "        clearInterval(timer);\n",
       "      }\n",
       "      attempts++;\n",
       "      if (attempts > 100) {\n",
       "        console.log(\"Bokeh: ERROR: Unable to run BokehJS code because BokehJS library is missing\")\n",
       "        clearInterval(timer);\n",
       "      }\n",
       "    }, 10, root)\n",
       "  }\n",
       "})(window);"
      ],
      "application/vnd.bokehjs_exec.v0+json": ""
     },
     "metadata": {
      "application/vnd.bokehjs_exec.v0+json": {
       "id": "6fc67291-0232-4d9f-96ce-55ac37b46738"
      }
     },
     "output_type": "display_data"
    }
   ],
   "source": [
    "pp = figure(plot_width=400, plot_height=400)\n",
    "\n",
    "# add a line renderer\n",
    "pp.line([1,0, 2, 3, 4, 5, 1], [6, 1, 7, 2, 4, 5, 2], line_width=2)\n",
    "\n",
    "show(pp)"
   ]
  },
  {
   "cell_type": "markdown",
   "metadata": {},
   "source": [
    "We can make some funny looking plots with some of these methods."
   ]
  },
  {
   "cell_type": "code",
   "execution_count": 9,
   "metadata": {},
   "outputs": [
    {
     "data": {
      "text/html": [
       "\n",
       "<div class=\"bk-root\">\n",
       "    <div class=\"bk-plotdiv\" id=\"fb46cb2d-a19a-4186-816b-81bf130f2c31\"></div>\n",
       "</div>"
      ]
     },
     "metadata": {},
     "output_type": "display_data"
    },
    {
     "data": {
      "application/javascript": [
       "(function(root) {\n",
       "  function embed_document(root) {\n",
       "    \n",
       "  var docs_json = {\"ffd803fd-2c9f-40d1-be09-08dceb28dbd7\":{\"roots\":{\"references\":[{\"attributes\":{},\"id\":\"65d49170-fd8e-4a3b-a487-b1bf6d21fbe0\",\"type\":\"BasicTickFormatter\"},{\"attributes\":{\"line_alpha\":{\"value\":0.1},\"line_color\":{\"value\":\"#1f77b4\"},\"line_width\":{\"value\":2},\"x\":{\"field\":\"x\"},\"y\":{\"field\":\"y\"}},\"id\":\"2b974e54-6ec4-4629-acea-c5177860c2e4\",\"type\":\"Step\"},{\"attributes\":{\"callback\":null},\"id\":\"6908479a-48e6-4b7e-a77f-8eaa3ae40f54\",\"type\":\"DataRange1d\"},{\"attributes\":{\"line_color\":{\"value\":\"#1f77b4\"},\"line_width\":{\"value\":2},\"x\":{\"field\":\"x\"},\"y\":{\"field\":\"y\"}},\"id\":\"096b2c26-9bb3-4617-b6df-b12dea0ca459\",\"type\":\"Step\"},{\"attributes\":{},\"id\":\"002793e0-2d7f-4d5c-9266-a53333adf7f1\",\"type\":\"BasicTickFormatter\"},{\"attributes\":{\"bottom_units\":\"screen\",\"fill_alpha\":{\"value\":0.5},\"fill_color\":{\"value\":\"lightgrey\"},\"left_units\":\"screen\",\"level\":\"overlay\",\"line_alpha\":{\"value\":1.0},\"line_color\":{\"value\":\"black\"},\"line_dash\":[4,4],\"line_width\":{\"value\":2},\"plot\":null,\"render_mode\":\"css\",\"right_units\":\"screen\",\"top_units\":\"screen\"},\"id\":\"d40dd439-90dc-4ab3-bded-6571647855cc\",\"type\":\"BoxAnnotation\"},{\"attributes\":{},\"id\":\"41bb79bf-1c4f-4780-b89f-6e5f7bc57664\",\"type\":\"BasicTicker\"},{\"attributes\":{},\"id\":\"47c3ac6c-b7ea-46f9-aac3-a8c9e0fb3210\",\"type\":\"LinearScale\"},{\"attributes\":{},\"id\":\"850feb20-7869-4851-a46d-5bd13b273c3d\",\"type\":\"PanTool\"},{\"attributes\":{\"below\":[{\"id\":\"9ae82371-4b86-49e4-978d-3b56a08af922\",\"type\":\"LinearAxis\"}],\"left\":[{\"id\":\"4654278a-5e79-4a77-bc90-7fbea0b1147c\",\"type\":\"LinearAxis\"}],\"plot_height\":400,\"plot_width\":400,\"renderers\":[{\"id\":\"9ae82371-4b86-49e4-978d-3b56a08af922\",\"type\":\"LinearAxis\"},{\"id\":\"bc6f54ee-0494-4cd8-b601-dfbbe6d74944\",\"type\":\"Grid\"},{\"id\":\"4654278a-5e79-4a77-bc90-7fbea0b1147c\",\"type\":\"LinearAxis\"},{\"id\":\"c103e818-51db-4fd4-87fb-816528d69905\",\"type\":\"Grid\"},{\"id\":\"d40dd439-90dc-4ab3-bded-6571647855cc\",\"type\":\"BoxAnnotation\"},{\"id\":\"5b9c9f23-8001-4df7-8118-8b5f64b2eed3\",\"type\":\"GlyphRenderer\"}],\"title\":{\"id\":\"7296454c-10c7-4663-ae7b-fdc3edcd640b\",\"type\":\"Title\"},\"toolbar\":{\"id\":\"1dee298e-6541-45f4-b480-0777d86a7278\",\"type\":\"Toolbar\"},\"x_range\":{\"id\":\"32699fb9-8315-47c1-9ffb-2df21c5c8133\",\"type\":\"DataRange1d\"},\"x_scale\":{\"id\":\"e56ec6d9-2ae2-4d30-a23f-019d9ed68d72\",\"type\":\"LinearScale\"},\"y_range\":{\"id\":\"6908479a-48e6-4b7e-a77f-8eaa3ae40f54\",\"type\":\"DataRange1d\"},\"y_scale\":{\"id\":\"47c3ac6c-b7ea-46f9-aac3-a8c9e0fb3210\",\"type\":\"LinearScale\"}},\"id\":\"927e1fe8-7d26-4ecb-b7b3-f2a7f027e18f\",\"subtype\":\"Figure\",\"type\":\"Plot\"},{\"attributes\":{\"data_source\":{\"id\":\"ce5223de-7c7d-4307-89e8-effc684ff1d5\",\"type\":\"ColumnDataSource\"},\"glyph\":{\"id\":\"096b2c26-9bb3-4617-b6df-b12dea0ca459\",\"type\":\"Step\"},\"hover_glyph\":null,\"muted_glyph\":null,\"nonselection_glyph\":{\"id\":\"2b974e54-6ec4-4629-acea-c5177860c2e4\",\"type\":\"Step\"},\"selection_glyph\":null,\"view\":{\"id\":\"790ad3cc-829c-481e-a35d-229c44e420ce\",\"type\":\"CDSView\"}},\"id\":\"5b9c9f23-8001-4df7-8118-8b5f64b2eed3\",\"type\":\"GlyphRenderer\"},{\"attributes\":{\"callback\":null,\"data\":{\"x\":[1,0,2,3,4,5,1],\"y\":[6,1,7,2,4,5,2]},\"selected\":{\"id\":\"91bc92b5-e21e-45c6-b070-b49345788351\",\"type\":\"Selection\"},\"selection_policy\":{\"id\":\"bc931007-cc51-4ecd-8146-4242e239aeaf\",\"type\":\"UnionRenderers\"}},\"id\":\"ce5223de-7c7d-4307-89e8-effc684ff1d5\",\"type\":\"ColumnDataSource\"},{\"attributes\":{},\"id\":\"cb945d9c-23ec-4efd-bfd5-eb0c0e6211ea\",\"type\":\"WheelZoomTool\"},{\"attributes\":{\"plot\":{\"id\":\"927e1fe8-7d26-4ecb-b7b3-f2a7f027e18f\",\"subtype\":\"Figure\",\"type\":\"Plot\"},\"ticker\":{\"id\":\"a10bea0a-c61b-467c-8815-7dc50a420da8\",\"type\":\"BasicTicker\"}},\"id\":\"bc6f54ee-0494-4cd8-b601-dfbbe6d74944\",\"type\":\"Grid\"},{\"attributes\":{\"overlay\":{\"id\":\"d40dd439-90dc-4ab3-bded-6571647855cc\",\"type\":\"BoxAnnotation\"}},\"id\":\"3723d158-91b8-4898-bf16-401827a66b3d\",\"type\":\"BoxZoomTool\"},{\"attributes\":{\"formatter\":{\"id\":\"65d49170-fd8e-4a3b-a487-b1bf6d21fbe0\",\"type\":\"BasicTickFormatter\"},\"plot\":{\"id\":\"927e1fe8-7d26-4ecb-b7b3-f2a7f027e18f\",\"subtype\":\"Figure\",\"type\":\"Plot\"},\"ticker\":{\"id\":\"a10bea0a-c61b-467c-8815-7dc50a420da8\",\"type\":\"BasicTicker\"}},\"id\":\"9ae82371-4b86-49e4-978d-3b56a08af922\",\"type\":\"LinearAxis\"},{\"attributes\":{\"formatter\":{\"id\":\"002793e0-2d7f-4d5c-9266-a53333adf7f1\",\"type\":\"BasicTickFormatter\"},\"plot\":{\"id\":\"927e1fe8-7d26-4ecb-b7b3-f2a7f027e18f\",\"subtype\":\"Figure\",\"type\":\"Plot\"},\"ticker\":{\"id\":\"41bb79bf-1c4f-4780-b89f-6e5f7bc57664\",\"type\":\"BasicTicker\"}},\"id\":\"4654278a-5e79-4a77-bc90-7fbea0b1147c\",\"type\":\"LinearAxis\"},{\"attributes\":{},\"id\":\"e62fc863-e994-45fd-a736-8ab91a44b5a6\",\"type\":\"SaveTool\"},{\"attributes\":{\"callback\":null},\"id\":\"32699fb9-8315-47c1-9ffb-2df21c5c8133\",\"type\":\"DataRange1d\"},{\"attributes\":{},\"id\":\"ee0321a9-a956-4553-a273-6413b5b3c6fb\",\"type\":\"ResetTool\"},{\"attributes\":{\"plot\":null,\"text\":\"\"},\"id\":\"7296454c-10c7-4663-ae7b-fdc3edcd640b\",\"type\":\"Title\"},{\"attributes\":{},\"id\":\"b608b1bb-f565-4d12-a652-7884a79339eb\",\"type\":\"HelpTool\"},{\"attributes\":{},\"id\":\"a10bea0a-c61b-467c-8815-7dc50a420da8\",\"type\":\"BasicTicker\"},{\"attributes\":{\"dimension\":1,\"plot\":{\"id\":\"927e1fe8-7d26-4ecb-b7b3-f2a7f027e18f\",\"subtype\":\"Figure\",\"type\":\"Plot\"},\"ticker\":{\"id\":\"41bb79bf-1c4f-4780-b89f-6e5f7bc57664\",\"type\":\"BasicTicker\"}},\"id\":\"c103e818-51db-4fd4-87fb-816528d69905\",\"type\":\"Grid\"},{\"attributes\":{\"active_drag\":\"auto\",\"active_inspect\":\"auto\",\"active_scroll\":\"auto\",\"active_tap\":\"auto\",\"tools\":[{\"id\":\"850feb20-7869-4851-a46d-5bd13b273c3d\",\"type\":\"PanTool\"},{\"id\":\"cb945d9c-23ec-4efd-bfd5-eb0c0e6211ea\",\"type\":\"WheelZoomTool\"},{\"id\":\"3723d158-91b8-4898-bf16-401827a66b3d\",\"type\":\"BoxZoomTool\"},{\"id\":\"e62fc863-e994-45fd-a736-8ab91a44b5a6\",\"type\":\"SaveTool\"},{\"id\":\"ee0321a9-a956-4553-a273-6413b5b3c6fb\",\"type\":\"ResetTool\"},{\"id\":\"b608b1bb-f565-4d12-a652-7884a79339eb\",\"type\":\"HelpTool\"}]},\"id\":\"1dee298e-6541-45f4-b480-0777d86a7278\",\"type\":\"Toolbar\"},{\"attributes\":{\"source\":{\"id\":\"ce5223de-7c7d-4307-89e8-effc684ff1d5\",\"type\":\"ColumnDataSource\"}},\"id\":\"790ad3cc-829c-481e-a35d-229c44e420ce\",\"type\":\"CDSView\"},{\"attributes\":{},\"id\":\"bc931007-cc51-4ecd-8146-4242e239aeaf\",\"type\":\"UnionRenderers\"},{\"attributes\":{},\"id\":\"91bc92b5-e21e-45c6-b070-b49345788351\",\"type\":\"Selection\"},{\"attributes\":{},\"id\":\"e56ec6d9-2ae2-4d30-a23f-019d9ed68d72\",\"type\":\"LinearScale\"}],\"root_ids\":[\"927e1fe8-7d26-4ecb-b7b3-f2a7f027e18f\"]},\"title\":\"Bokeh Application\",\"version\":\"0.12.16\"}};\n",
       "  var render_items = [{\"docid\":\"ffd803fd-2c9f-40d1-be09-08dceb28dbd7\",\"elementid\":\"fb46cb2d-a19a-4186-816b-81bf130f2c31\",\"modelid\":\"927e1fe8-7d26-4ecb-b7b3-f2a7f027e18f\"}];\n",
       "  root.Bokeh.embed.embed_items_notebook(docs_json, render_items);\n",
       "\n",
       "  }\n",
       "  if (root.Bokeh !== undefined) {\n",
       "    embed_document(root);\n",
       "  } else {\n",
       "    var attempts = 0;\n",
       "    var timer = setInterval(function(root) {\n",
       "      if (root.Bokeh !== undefined) {\n",
       "        embed_document(root);\n",
       "        clearInterval(timer);\n",
       "      }\n",
       "      attempts++;\n",
       "      if (attempts > 100) {\n",
       "        console.log(\"Bokeh: ERROR: Unable to run BokehJS code because BokehJS library is missing\")\n",
       "        clearInterval(timer);\n",
       "      }\n",
       "    }, 10, root)\n",
       "  }\n",
       "})(window);"
      ],
      "application/vnd.bokehjs_exec.v0+json": ""
     },
     "metadata": {
      "application/vnd.bokehjs_exec.v0+json": {
       "id": "927e1fe8-7d26-4ecb-b7b3-f2a7f027e18f"
      }
     },
     "output_type": "display_data"
    }
   ],
   "source": [
    "pp = figure(plot_width=400, plot_height=400)\n",
    "\n",
    "# add a line renderer\n",
    "pp.step([1,0, 2, 3, 4, 5, 1], [6, 1, 7, 2, 4, 5, 2], line_width=2)\n",
    "\n",
    "show(pp)"
   ]
  },
  {
   "cell_type": "markdown",
   "metadata": {},
   "source": [
    "Multiple lines at once. Let's recall a piece of our first example, where we added things one at a time:"
   ]
  },
  {
   "cell_type": "code",
   "execution_count": 10,
   "metadata": {},
   "outputs": [
    {
     "data": {
      "text/html": [
       "\n",
       "<div class=\"bk-root\">\n",
       "    <div class=\"bk-plotdiv\" id=\"649715e5-cafa-459e-9e22-e6ceb4065ab6\"></div>\n",
       "</div>"
      ]
     },
     "metadata": {},
     "output_type": "display_data"
    },
    {
     "data": {
      "application/javascript": [
       "(function(root) {\n",
       "  function embed_document(root) {\n",
       "    \n",
       "  var docs_json = {\"9b3e5419-bf88-4433-be1d-222a1e9366ba\":{\"roots\":{\"references\":[{\"attributes\":{\"bottom_units\":\"screen\",\"fill_alpha\":{\"value\":0.5},\"fill_color\":{\"value\":\"lightgrey\"},\"left_units\":\"screen\",\"level\":\"overlay\",\"line_alpha\":{\"value\":1.0},\"line_color\":{\"value\":\"black\"},\"line_dash\":[4,4],\"line_width\":{\"value\":2},\"plot\":null,\"render_mode\":\"css\",\"right_units\":\"screen\",\"top_units\":\"screen\"},\"id\":\"3b8b041f-fb97-4bf3-97c0-f62f3ec986c6\",\"type\":\"BoxAnnotation\"},{\"attributes\":{},\"id\":\"31a04f11-81bd-439a-9648-10fda5b9e80f\",\"type\":\"PanTool\"},{\"attributes\":{\"items\":[{\"id\":\"4bf9c3bb-b284-4aa8-9b0b-d3ddd445364c\",\"type\":\"LegendItem\"},{\"id\":\"5cd3240f-2ef8-493a-aade-eeb70e945b8a\",\"type\":\"LegendItem\"}],\"plot\":{\"id\":\"4e996dd7-cf3c-4d22-aff8-d3c6918d21b9\",\"subtype\":\"Figure\",\"type\":\"Plot\"}},\"id\":\"ecea7fa3-e051-4b2f-94ec-7c809ae84566\",\"type\":\"Legend\"},{\"attributes\":{},\"id\":\"c8bd50cd-5253-456c-991e-b6c4885ad048\",\"type\":\"WheelZoomTool\"},{\"attributes\":{\"overlay\":{\"id\":\"3b8b041f-fb97-4bf3-97c0-f62f3ec986c6\",\"type\":\"BoxAnnotation\"}},\"id\":\"66ccef7f-28df-4f9a-b786-2c7593f3c33a\",\"type\":\"BoxZoomTool\"},{\"attributes\":{},\"id\":\"44fb1588-4d8d-49c2-b53d-87a2874b1231\",\"type\":\"SaveTool\"},{\"attributes\":{},\"id\":\"aca6c4c6-4c54-4b3d-bb41-f4382eec841b\",\"type\":\"ResetTool\"},{\"attributes\":{},\"id\":\"b3ccd34e-77e3-4db4-845a-2d6ca5028f08\",\"type\":\"HelpTool\"},{\"attributes\":{\"line_alpha\":0.1,\"line_color\":\"#1f77b4\",\"line_width\":3,\"x\":{\"field\":\"x\"},\"y\":{\"field\":\"y\"}},\"id\":\"a0745ca2-8a24-4ec3-ad4a-68275e2e0f36\",\"type\":\"Line\"},{\"attributes\":{},\"id\":\"01fd793b-e569-45af-9aeb-f5d61c04f659\",\"type\":\"BasicTickFormatter\"},{\"attributes\":{\"plot\":null,\"text\":\"\"},\"id\":\"e75a609b-0e8c-48bf-a03d-44501cb9e5fe\",\"type\":\"Title\"},{\"attributes\":{\"label\":{\"value\":\"y=x\"},\"renderers\":[{\"id\":\"039dba09-ad06-43da-a40a-1dde0663931f\",\"type\":\"GlyphRenderer\"}]},\"id\":\"4bf9c3bb-b284-4aa8-9b0b-d3ddd445364c\",\"type\":\"LegendItem\"},{\"attributes\":{},\"id\":\"83e884b6-ca73-465a-a1d1-916a8883ebef\",\"type\":\"Selection\"},{\"attributes\":{},\"id\":\"45cdba7c-42a2-42fa-8e84-008729c46ec6\",\"type\":\"BasicTickFormatter\"},{\"attributes\":{\"callback\":null},\"id\":\"f5e3b2df-7ddf-4b63-89f6-54e296fb40a4\",\"type\":\"DataRange1d\"},{\"attributes\":{\"data_source\":{\"id\":\"292b262f-b13e-4908-9002-d187aee81733\",\"type\":\"ColumnDataSource\"},\"glyph\":{\"id\":\"c6791833-a908-4cbc-8bad-79ee8ae0964f\",\"type\":\"Line\"},\"hover_glyph\":null,\"muted_glyph\":null,\"nonselection_glyph\":{\"id\":\"a0745ca2-8a24-4ec3-ad4a-68275e2e0f36\",\"type\":\"Line\"},\"selection_glyph\":null,\"view\":{\"id\":\"9637699c-5ece-4039-8397-b05204abcc47\",\"type\":\"CDSView\"}},\"id\":\"56323d29-72de-45a6-a1fb-eff205bedbdd\",\"type\":\"GlyphRenderer\"},{\"attributes\":{\"source\":{\"id\":\"292b262f-b13e-4908-9002-d187aee81733\",\"type\":\"ColumnDataSource\"}},\"id\":\"9637699c-5ece-4039-8397-b05204abcc47\",\"type\":\"CDSView\"},{\"attributes\":{},\"id\":\"fb1118de-aad5-467a-9c16-a090e5690e46\",\"type\":\"UnionRenderers\"},{\"attributes\":{\"callback\":null,\"data\":{\"x\":[0.1,0.5,1.0,1.5,2.0,2.5,3.0],\"y\":[0.010000000000000002,0.25,1.0,2.25,4.0,6.25,9.0]},\"selected\":{\"id\":\"447accb3-39a8-4984-876c-ce34d2f6d90e\",\"type\":\"Selection\"},\"selection_policy\":{\"id\":\"afdfde0d-891e-4bf9-8415-8c4d517b3c3c\",\"type\":\"UnionRenderers\"}},\"id\":\"292b262f-b13e-4908-9002-d187aee81733\",\"type\":\"ColumnDataSource\"},{\"attributes\":{},\"id\":\"810ce436-5dd8-4e03-9fd2-20519178bb28\",\"type\":\"BasicTicker\"},{\"attributes\":{\"label\":{\"value\":\"y=x^2\"},\"renderers\":[{\"id\":\"56323d29-72de-45a6-a1fb-eff205bedbdd\",\"type\":\"GlyphRenderer\"}]},\"id\":\"5cd3240f-2ef8-493a-aade-eeb70e945b8a\",\"type\":\"LegendItem\"},{\"attributes\":{\"below\":[{\"id\":\"420b549c-90bb-4781-9d98-821fed743b63\",\"type\":\"LinearAxis\"}],\"left\":[{\"id\":\"a644defc-2734-40b7-aa47-14f609946568\",\"type\":\"LinearAxis\"}],\"plot_height\":400,\"plot_width\":400,\"renderers\":[{\"id\":\"420b549c-90bb-4781-9d98-821fed743b63\",\"type\":\"LinearAxis\"},{\"id\":\"06ae3420-c394-4576-a94c-b5193c666959\",\"type\":\"Grid\"},{\"id\":\"a644defc-2734-40b7-aa47-14f609946568\",\"type\":\"LinearAxis\"},{\"id\":\"f0cdaf65-6d06-405b-bf5f-b9fc37378fcc\",\"type\":\"Grid\"},{\"id\":\"3b8b041f-fb97-4bf3-97c0-f62f3ec986c6\",\"type\":\"BoxAnnotation\"},{\"id\":\"ecea7fa3-e051-4b2f-94ec-7c809ae84566\",\"type\":\"Legend\"},{\"id\":\"039dba09-ad06-43da-a40a-1dde0663931f\",\"type\":\"GlyphRenderer\"},{\"id\":\"56323d29-72de-45a6-a1fb-eff205bedbdd\",\"type\":\"GlyphRenderer\"}],\"title\":{\"id\":\"e75a609b-0e8c-48bf-a03d-44501cb9e5fe\",\"type\":\"Title\"},\"toolbar\":{\"id\":\"d82525d3-0691-4fc5-b736-921fd223c4db\",\"type\":\"Toolbar\"},\"x_range\":{\"id\":\"af01c492-1db5-4a3b-b32f-9395f02f51b0\",\"type\":\"DataRange1d\"},\"x_scale\":{\"id\":\"b1b60a0e-d6af-48c6-b48e-a2ee72e6df48\",\"type\":\"LinearScale\"},\"y_range\":{\"id\":\"f5e3b2df-7ddf-4b63-89f6-54e296fb40a4\",\"type\":\"DataRange1d\"},\"y_scale\":{\"id\":\"4e93b8d2-f021-47c5-829b-dbf03b523710\",\"type\":\"LinearScale\"}},\"id\":\"4e996dd7-cf3c-4d22-aff8-d3c6918d21b9\",\"subtype\":\"Figure\",\"type\":\"Plot\"},{\"attributes\":{\"plot\":{\"id\":\"4e996dd7-cf3c-4d22-aff8-d3c6918d21b9\",\"subtype\":\"Figure\",\"type\":\"Plot\"},\"ticker\":{\"id\":\"810ce436-5dd8-4e03-9fd2-20519178bb28\",\"type\":\"BasicTicker\"}},\"id\":\"06ae3420-c394-4576-a94c-b5193c666959\",\"type\":\"Grid\"},{\"attributes\":{\"formatter\":{\"id\":\"45cdba7c-42a2-42fa-8e84-008729c46ec6\",\"type\":\"BasicTickFormatter\"},\"plot\":{\"id\":\"4e996dd7-cf3c-4d22-aff8-d3c6918d21b9\",\"subtype\":\"Figure\",\"type\":\"Plot\"},\"ticker\":{\"id\":\"810ce436-5dd8-4e03-9fd2-20519178bb28\",\"type\":\"BasicTicker\"}},\"id\":\"420b549c-90bb-4781-9d98-821fed743b63\",\"type\":\"LinearAxis\"},{\"attributes\":{},\"id\":\"447accb3-39a8-4984-876c-ce34d2f6d90e\",\"type\":\"Selection\"},{\"attributes\":{\"active_drag\":\"auto\",\"active_inspect\":\"auto\",\"active_scroll\":\"auto\",\"active_tap\":\"auto\",\"tools\":[{\"id\":\"31a04f11-81bd-439a-9648-10fda5b9e80f\",\"type\":\"PanTool\"},{\"id\":\"c8bd50cd-5253-456c-991e-b6c4885ad048\",\"type\":\"WheelZoomTool\"},{\"id\":\"66ccef7f-28df-4f9a-b786-2c7593f3c33a\",\"type\":\"BoxZoomTool\"},{\"id\":\"44fb1588-4d8d-49c2-b53d-87a2874b1231\",\"type\":\"SaveTool\"},{\"id\":\"aca6c4c6-4c54-4b3d-bb41-f4382eec841b\",\"type\":\"ResetTool\"},{\"id\":\"b3ccd34e-77e3-4db4-845a-2d6ca5028f08\",\"type\":\"HelpTool\"}]},\"id\":\"d82525d3-0691-4fc5-b736-921fd223c4db\",\"type\":\"Toolbar\"},{\"attributes\":{\"callback\":null,\"data\":{\"x\":[0.1,0.5,1.0,1.5,2.0,2.5,3.0],\"y\":[0.1,0.5,1.0,1.5,2.0,2.5,3.0]},\"selected\":{\"id\":\"83e884b6-ca73-465a-a1d1-916a8883ebef\",\"type\":\"Selection\"},\"selection_policy\":{\"id\":\"fb1118de-aad5-467a-9c16-a090e5690e46\",\"type\":\"UnionRenderers\"}},\"id\":\"5d67dec7-9f22-4680-b3f4-b62282a85876\",\"type\":\"ColumnDataSource\"},{\"attributes\":{},\"id\":\"7bfd123a-8e33-4a45-a1c8-45025bad347b\",\"type\":\"BasicTicker\"},{\"attributes\":{\"line_alpha\":0.1,\"line_color\":\"#1f77b4\",\"x\":{\"field\":\"x\"},\"y\":{\"field\":\"y\"}},\"id\":\"b6ad12e2-0bc9-4a0b-9fd3-3417b22927fa\",\"type\":\"Line\"},{\"attributes\":{\"line_color\":\"#1f77b4\",\"x\":{\"field\":\"x\"},\"y\":{\"field\":\"y\"}},\"id\":\"5bb8a8f7-ff85-4d17-be2a-cb226cc44354\",\"type\":\"Line\"},{\"attributes\":{\"callback\":null},\"id\":\"af01c492-1db5-4a3b-b32f-9395f02f51b0\",\"type\":\"DataRange1d\"},{\"attributes\":{},\"id\":\"afdfde0d-891e-4bf9-8415-8c4d517b3c3c\",\"type\":\"UnionRenderers\"},{\"attributes\":{\"dimension\":1,\"plot\":{\"id\":\"4e996dd7-cf3c-4d22-aff8-d3c6918d21b9\",\"subtype\":\"Figure\",\"type\":\"Plot\"},\"ticker\":{\"id\":\"7bfd123a-8e33-4a45-a1c8-45025bad347b\",\"type\":\"BasicTicker\"}},\"id\":\"f0cdaf65-6d06-405b-bf5f-b9fc37378fcc\",\"type\":\"Grid\"},{\"attributes\":{\"data_source\":{\"id\":\"5d67dec7-9f22-4680-b3f4-b62282a85876\",\"type\":\"ColumnDataSource\"},\"glyph\":{\"id\":\"5bb8a8f7-ff85-4d17-be2a-cb226cc44354\",\"type\":\"Line\"},\"hover_glyph\":null,\"muted_glyph\":null,\"nonselection_glyph\":{\"id\":\"b6ad12e2-0bc9-4a0b-9fd3-3417b22927fa\",\"type\":\"Line\"},\"selection_glyph\":null,\"view\":{\"id\":\"bb6e4eda-85e6-44cc-bc33-79a1b652560f\",\"type\":\"CDSView\"}},\"id\":\"039dba09-ad06-43da-a40a-1dde0663931f\",\"type\":\"GlyphRenderer\"},{\"attributes\":{},\"id\":\"4e93b8d2-f021-47c5-829b-dbf03b523710\",\"type\":\"LinearScale\"},{\"attributes\":{},\"id\":\"b1b60a0e-d6af-48c6-b48e-a2ee72e6df48\",\"type\":\"LinearScale\"},{\"attributes\":{\"source\":{\"id\":\"5d67dec7-9f22-4680-b3f4-b62282a85876\",\"type\":\"ColumnDataSource\"}},\"id\":\"bb6e4eda-85e6-44cc-bc33-79a1b652560f\",\"type\":\"CDSView\"},{\"attributes\":{\"formatter\":{\"id\":\"01fd793b-e569-45af-9aeb-f5d61c04f659\",\"type\":\"BasicTickFormatter\"},\"plot\":{\"id\":\"4e996dd7-cf3c-4d22-aff8-d3c6918d21b9\",\"subtype\":\"Figure\",\"type\":\"Plot\"},\"ticker\":{\"id\":\"7bfd123a-8e33-4a45-a1c8-45025bad347b\",\"type\":\"BasicTicker\"}},\"id\":\"a644defc-2734-40b7-aa47-14f609946568\",\"type\":\"LinearAxis\"},{\"attributes\":{\"line_color\":\"#1f77b4\",\"line_width\":3,\"x\":{\"field\":\"x\"},\"y\":{\"field\":\"y\"}},\"id\":\"c6791833-a908-4cbc-8bad-79ee8ae0964f\",\"type\":\"Line\"}],\"root_ids\":[\"4e996dd7-cf3c-4d22-aff8-d3c6918d21b9\"]},\"title\":\"Bokeh Application\",\"version\":\"0.12.16\"}};\n",
       "  var render_items = [{\"docid\":\"9b3e5419-bf88-4433-be1d-222a1e9366ba\",\"elementid\":\"649715e5-cafa-459e-9e22-e6ceb4065ab6\",\"modelid\":\"4e996dd7-cf3c-4d22-aff8-d3c6918d21b9\"}];\n",
       "  root.Bokeh.embed.embed_items_notebook(docs_json, render_items);\n",
       "\n",
       "  }\n",
       "  if (root.Bokeh !== undefined) {\n",
       "    embed_document(root);\n",
       "  } else {\n",
       "    var attempts = 0;\n",
       "    var timer = setInterval(function(root) {\n",
       "      if (root.Bokeh !== undefined) {\n",
       "        embed_document(root);\n",
       "        clearInterval(timer);\n",
       "      }\n",
       "      attempts++;\n",
       "      if (attempts > 100) {\n",
       "        console.log(\"Bokeh: ERROR: Unable to run BokehJS code because BokehJS library is missing\")\n",
       "        clearInterval(timer);\n",
       "      }\n",
       "    }, 10, root)\n",
       "  }\n",
       "})(window);"
      ],
      "application/vnd.bokehjs_exec.v0+json": ""
     },
     "metadata": {
      "application/vnd.bokehjs_exec.v0+json": {
       "id": "4e996dd7-cf3c-4d22-aff8-d3c6918d21b9"
      }
     },
     "output_type": "display_data"
    }
   ],
   "source": [
    "x = [0.1, 0.5, 1.0, 1.5, 2.0, 2.5, 3.0]\n",
    "y0 = [i**2 for i in x]\n",
    "y1 = [10**i for i in x]\n",
    "y2 = [10**(i**2) for i in x]\n",
    "\n",
    "#Create a figure\n",
    "p = figure(plot_width=400, plot_height=400)\n",
    "\n",
    "# Add a line, and then another line:\n",
    "p.line(x, x, legend=\"y=x\")\n",
    "p.line(x, y0, legend=\"y=x^2\", line_width=3)\n",
    "\n",
    "#Show figure\n",
    "show(p)"
   ]
  },
  {
   "cell_type": "markdown",
   "metadata": {},
   "source": [
    "Here, we give the list of lists of x values, then the list of lists of y values."
   ]
  },
  {
   "cell_type": "code",
   "execution_count": 11,
   "metadata": {},
   "outputs": [
    {
     "data": {
      "text/html": [
       "\n",
       "<div class=\"bk-root\">\n",
       "    <div class=\"bk-plotdiv\" id=\"d3053c0b-aab2-44da-bc1a-bd3b0403eb3f\"></div>\n",
       "</div>"
      ]
     },
     "metadata": {},
     "output_type": "display_data"
    },
    {
     "data": {
      "application/javascript": [
       "(function(root) {\n",
       "  function embed_document(root) {\n",
       "    \n",
       "  var docs_json = {\"d13d6695-8bb5-4c12-a755-041994cc269a\":{\"roots\":{\"references\":[{\"attributes\":{},\"id\":\"432e566c-ce6c-4414-8cf2-9ba31be0004b\",\"type\":\"WheelZoomTool\"},{\"attributes\":{},\"id\":\"fb7e9c87-5f98-44ba-bf61-bfef76dff818\",\"type\":\"ResetTool\"},{\"attributes\":{\"line_alpha\":{\"field\":\"line_alpha\"},\"line_color\":{\"field\":\"line_color\"},\"line_width\":{\"value\":4},\"xs\":{\"field\":\"xs\"},\"ys\":{\"field\":\"ys\"}},\"id\":\"fe7aeec5-e619-4e65-939a-61c8317b5a03\",\"type\":\"MultiLine\"},{\"attributes\":{\"plot\":null,\"text\":\"\"},\"id\":\"060fbe8e-3ab5-4fe2-a21c-d79d90624f8b\",\"type\":\"Title\"},{\"attributes\":{\"overlay\":{\"id\":\"2f4525ee-f4d5-4beb-a3d5-a0e7d5c121a0\",\"type\":\"BoxAnnotation\"}},\"id\":\"c5017575-588c-40e3-9685-415d5dfc38cb\",\"type\":\"BoxZoomTool\"},{\"attributes\":{},\"id\":\"9bfd95bc-7583-4238-b5cc-700f0c777381\",\"type\":\"BasicTickFormatter\"},{\"attributes\":{},\"id\":\"70a1ad83-f7a1-452b-a38b-97b6642df1a5\",\"type\":\"UnionRenderers\"},{\"attributes\":{\"below\":[{\"id\":\"bee4899e-20a3-413d-9093-32b9be13225a\",\"type\":\"LinearAxis\"}],\"left\":[{\"id\":\"7a09cd63-5107-41c4-a4f1-0e9e7647cf74\",\"type\":\"LinearAxis\"}],\"plot_height\":400,\"plot_width\":400,\"renderers\":[{\"id\":\"bee4899e-20a3-413d-9093-32b9be13225a\",\"type\":\"LinearAxis\"},{\"id\":\"71a1c80e-8d9b-4061-8194-6474a9d23d8c\",\"type\":\"Grid\"},{\"id\":\"7a09cd63-5107-41c4-a4f1-0e9e7647cf74\",\"type\":\"LinearAxis\"},{\"id\":\"de4e9011-9209-4c6e-a41f-0e39078029a1\",\"type\":\"Grid\"},{\"id\":\"2f4525ee-f4d5-4beb-a3d5-a0e7d5c121a0\",\"type\":\"BoxAnnotation\"},{\"id\":\"4903a0de-1e58-4607-ad88-ffeb9d9845f3\",\"type\":\"GlyphRenderer\"}],\"title\":{\"id\":\"060fbe8e-3ab5-4fe2-a21c-d79d90624f8b\",\"type\":\"Title\"},\"toolbar\":{\"id\":\"a9bb8d73-82c5-4bde-ba31-25250dd67eb9\",\"type\":\"Toolbar\"},\"x_range\":{\"id\":\"7b461b3e-1cc5-41e5-bf88-32b4fe213bdf\",\"type\":\"DataRange1d\"},\"x_scale\":{\"id\":\"b6098c60-80a8-4807-a4b4-1748d85a670b\",\"type\":\"LinearScale\"},\"y_range\":{\"id\":\"a53dfcf0-befe-4d92-b00a-44d73bcc7f62\",\"type\":\"DataRange1d\"},\"y_scale\":{\"id\":\"6dfab980-99aa-40e2-901b-2b041111e7fc\",\"type\":\"LinearScale\"}},\"id\":\"2ea09fdf-0540-407c-903d-e32dabaee12b\",\"subtype\":\"Figure\",\"type\":\"Plot\"},{\"attributes\":{},\"id\":\"cde1fdae-3caf-4dc4-b509-2ba9b374281a\",\"type\":\"HelpTool\"},{\"attributes\":{},\"id\":\"309c0cd5-0059-4b08-a7ec-af39a27f7927\",\"type\":\"BasicTickFormatter\"},{\"attributes\":{},\"id\":\"9a28cb57-116b-4068-9cc9-8d366ad27877\",\"type\":\"PanTool\"},{\"attributes\":{\"formatter\":{\"id\":\"309c0cd5-0059-4b08-a7ec-af39a27f7927\",\"type\":\"BasicTickFormatter\"},\"plot\":{\"id\":\"2ea09fdf-0540-407c-903d-e32dabaee12b\",\"subtype\":\"Figure\",\"type\":\"Plot\"},\"ticker\":{\"id\":\"12ab0f74-48e7-4e05-9573-46cc71981ad5\",\"type\":\"BasicTicker\"}},\"id\":\"bee4899e-20a3-413d-9093-32b9be13225a\",\"type\":\"LinearAxis\"},{\"attributes\":{},\"id\":\"ee0313f7-c99f-479d-898f-a8852eb786e8\",\"type\":\"Selection\"},{\"attributes\":{\"source\":{\"id\":\"724c70be-27fe-4d23-b0d5-e0138263ac17\",\"type\":\"ColumnDataSource\"}},\"id\":\"3d12c91f-d999-4e3d-aa39-4fd96a78c859\",\"type\":\"CDSView\"},{\"attributes\":{},\"id\":\"6dfab980-99aa-40e2-901b-2b041111e7fc\",\"type\":\"LinearScale\"},{\"attributes\":{\"dimension\":1,\"plot\":{\"id\":\"2ea09fdf-0540-407c-903d-e32dabaee12b\",\"subtype\":\"Figure\",\"type\":\"Plot\"},\"ticker\":{\"id\":\"9e929528-89f5-4be2-bace-203bea591d83\",\"type\":\"BasicTicker\"}},\"id\":\"de4e9011-9209-4c6e-a41f-0e39078029a1\",\"type\":\"Grid\"},{\"attributes\":{\"line_alpha\":{\"value\":0.1},\"line_color\":{\"value\":\"#1f77b4\"},\"line_width\":{\"value\":4},\"xs\":{\"field\":\"xs\"},\"ys\":{\"field\":\"ys\"}},\"id\":\"c7f32f6b-b189-4db7-b1f5-991e122e31b6\",\"type\":\"MultiLine\"},{\"attributes\":{},\"id\":\"9e929528-89f5-4be2-bace-203bea591d83\",\"type\":\"BasicTicker\"},{\"attributes\":{},\"id\":\"b6098c60-80a8-4807-a4b4-1748d85a670b\",\"type\":\"LinearScale\"},{\"attributes\":{\"bottom_units\":\"screen\",\"fill_alpha\":{\"value\":0.5},\"fill_color\":{\"value\":\"lightgrey\"},\"left_units\":\"screen\",\"level\":\"overlay\",\"line_alpha\":{\"value\":1.0},\"line_color\":{\"value\":\"black\"},\"line_dash\":[4,4],\"line_width\":{\"value\":2},\"plot\":null,\"render_mode\":\"css\",\"right_units\":\"screen\",\"top_units\":\"screen\"},\"id\":\"2f4525ee-f4d5-4beb-a3d5-a0e7d5c121a0\",\"type\":\"BoxAnnotation\"},{\"attributes\":{\"callback\":null},\"id\":\"a53dfcf0-befe-4d92-b00a-44d73bcc7f62\",\"type\":\"DataRange1d\"},{\"attributes\":{\"active_drag\":\"auto\",\"active_inspect\":\"auto\",\"active_scroll\":\"auto\",\"active_tap\":\"auto\",\"tools\":[{\"id\":\"9a28cb57-116b-4068-9cc9-8d366ad27877\",\"type\":\"PanTool\"},{\"id\":\"432e566c-ce6c-4414-8cf2-9ba31be0004b\",\"type\":\"WheelZoomTool\"},{\"id\":\"c5017575-588c-40e3-9685-415d5dfc38cb\",\"type\":\"BoxZoomTool\"},{\"id\":\"b75d01ea-e8c0-4a5f-b02e-89bcd78ac225\",\"type\":\"SaveTool\"},{\"id\":\"fb7e9c87-5f98-44ba-bf61-bfef76dff818\",\"type\":\"ResetTool\"},{\"id\":\"cde1fdae-3caf-4dc4-b509-2ba9b374281a\",\"type\":\"HelpTool\"}]},\"id\":\"a9bb8d73-82c5-4bde-ba31-25250dd67eb9\",\"type\":\"Toolbar\"},{\"attributes\":{\"callback\":null,\"data\":{\"line_alpha\":[0.8,0.3],\"line_color\":[\"firebrick\",\"navy\"],\"xs\":[[0.1,0.5,1.0,1.5,2.0,2.5,3.0],[0.1,0.5,1.0,1.5,2.0,2.5,3.0]],\"ys\":[[0.1,0.5,1.0,1.5,2.0,2.5,3.0],[0.010000000000000002,0.25,1.0,2.25,4.0,6.25,9.0]]},\"selected\":{\"id\":\"ee0313f7-c99f-479d-898f-a8852eb786e8\",\"type\":\"Selection\"},\"selection_policy\":{\"id\":\"70a1ad83-f7a1-452b-a38b-97b6642df1a5\",\"type\":\"UnionRenderers\"}},\"id\":\"724c70be-27fe-4d23-b0d5-e0138263ac17\",\"type\":\"ColumnDataSource\"},{\"attributes\":{\"formatter\":{\"id\":\"9bfd95bc-7583-4238-b5cc-700f0c777381\",\"type\":\"BasicTickFormatter\"},\"plot\":{\"id\":\"2ea09fdf-0540-407c-903d-e32dabaee12b\",\"subtype\":\"Figure\",\"type\":\"Plot\"},\"ticker\":{\"id\":\"9e929528-89f5-4be2-bace-203bea591d83\",\"type\":\"BasicTicker\"}},\"id\":\"7a09cd63-5107-41c4-a4f1-0e9e7647cf74\",\"type\":\"LinearAxis\"},{\"attributes\":{\"plot\":{\"id\":\"2ea09fdf-0540-407c-903d-e32dabaee12b\",\"subtype\":\"Figure\",\"type\":\"Plot\"},\"ticker\":{\"id\":\"12ab0f74-48e7-4e05-9573-46cc71981ad5\",\"type\":\"BasicTicker\"}},\"id\":\"71a1c80e-8d9b-4061-8194-6474a9d23d8c\",\"type\":\"Grid\"},{\"attributes\":{\"callback\":null},\"id\":\"7b461b3e-1cc5-41e5-bf88-32b4fe213bdf\",\"type\":\"DataRange1d\"},{\"attributes\":{},\"id\":\"b75d01ea-e8c0-4a5f-b02e-89bcd78ac225\",\"type\":\"SaveTool\"},{\"attributes\":{\"data_source\":{\"id\":\"724c70be-27fe-4d23-b0d5-e0138263ac17\",\"type\":\"ColumnDataSource\"},\"glyph\":{\"id\":\"fe7aeec5-e619-4e65-939a-61c8317b5a03\",\"type\":\"MultiLine\"},\"hover_glyph\":null,\"muted_glyph\":null,\"nonselection_glyph\":{\"id\":\"c7f32f6b-b189-4db7-b1f5-991e122e31b6\",\"type\":\"MultiLine\"},\"selection_glyph\":null,\"view\":{\"id\":\"3d12c91f-d999-4e3d-aa39-4fd96a78c859\",\"type\":\"CDSView\"}},\"id\":\"4903a0de-1e58-4607-ad88-ffeb9d9845f3\",\"type\":\"GlyphRenderer\"},{\"attributes\":{},\"id\":\"12ab0f74-48e7-4e05-9573-46cc71981ad5\",\"type\":\"BasicTicker\"}],\"root_ids\":[\"2ea09fdf-0540-407c-903d-e32dabaee12b\"]},\"title\":\"Bokeh Application\",\"version\":\"0.12.16\"}};\n",
       "  var render_items = [{\"docid\":\"d13d6695-8bb5-4c12-a755-041994cc269a\",\"elementid\":\"d3053c0b-aab2-44da-bc1a-bd3b0403eb3f\",\"modelid\":\"2ea09fdf-0540-407c-903d-e32dabaee12b\"}];\n",
       "  root.Bokeh.embed.embed_items_notebook(docs_json, render_items);\n",
       "\n",
       "  }\n",
       "  if (root.Bokeh !== undefined) {\n",
       "    embed_document(root);\n",
       "  } else {\n",
       "    var attempts = 0;\n",
       "    var timer = setInterval(function(root) {\n",
       "      if (root.Bokeh !== undefined) {\n",
       "        embed_document(root);\n",
       "        clearInterval(timer);\n",
       "      }\n",
       "      attempts++;\n",
       "      if (attempts > 100) {\n",
       "        console.log(\"Bokeh: ERROR: Unable to run BokehJS code because BokehJS library is missing\")\n",
       "        clearInterval(timer);\n",
       "      }\n",
       "    }, 10, root)\n",
       "  }\n",
       "})(window);"
      ],
      "application/vnd.bokehjs_exec.v0+json": ""
     },
     "metadata": {
      "application/vnd.bokehjs_exec.v0+json": {
       "id": "2ea09fdf-0540-407c-903d-e32dabaee12b"
      }
     },
     "output_type": "display_data"
    }
   ],
   "source": [
    "p = figure(plot_width=400, plot_height=400)\n",
    "\n",
    "p.multi_line([x, x], [x,y0],\n",
    "             color=[\"firebrick\", \"navy\"], alpha=[0.8, 0.3], line_width=4)\n",
    "\n",
    "show(p)"
   ]
  },
  {
   "cell_type": "markdown",
   "metadata": {},
   "source": [
    "Let's look at a few more basic shapes, and then look at some neat examples. Here are vertical and horizontal rectangles:"
   ]
  },
  {
   "cell_type": "code",
   "execution_count": 12,
   "metadata": {},
   "outputs": [
    {
     "data": {
      "text/html": [
       "\n",
       "<div class=\"bk-root\">\n",
       "    <div class=\"bk-plotdiv\" id=\"486c8ce3-27c8-4889-ac01-733f4eaccad1\"></div>\n",
       "</div>"
      ]
     },
     "metadata": {},
     "output_type": "display_data"
    },
    {
     "data": {
      "application/javascript": [
       "(function(root) {\n",
       "  function embed_document(root) {\n",
       "    \n",
       "  var docs_json = {\"76e300cc-6e36-45ea-a9fa-ad63025e686d\":{\"roots\":{\"references\":[{\"attributes\":{\"active_drag\":\"auto\",\"active_inspect\":\"auto\",\"active_scroll\":\"auto\",\"active_tap\":\"auto\",\"tools\":[{\"id\":\"2e35563e-75e3-429b-8b1e-d62c8735d7f9\",\"type\":\"PanTool\"},{\"id\":\"4ad9ec1c-f72b-4e77-a93a-4f528dcc47d5\",\"type\":\"WheelZoomTool\"},{\"id\":\"fd8b609d-8fce-4008-b100-0ecb69b758b3\",\"type\":\"BoxZoomTool\"},{\"id\":\"7b77e638-6eec-47dd-bf74-611ad2c2b3ae\",\"type\":\"SaveTool\"},{\"id\":\"54eb35df-74ae-4dae-bcaf-97807a671a0e\",\"type\":\"ResetTool\"},{\"id\":\"388e2fbc-b5d4-46a8-b54f-05cbdc21665d\",\"type\":\"HelpTool\"}]},\"id\":\"8193a545-bc22-4896-a971-03bbf08670cb\",\"type\":\"Toolbar\"},{\"attributes\":{},\"id\":\"2e35563e-75e3-429b-8b1e-d62c8735d7f9\",\"type\":\"PanTool\"},{\"attributes\":{\"plot\":null,\"text\":\"\"},\"id\":\"4be05e08-49bc-4814-877b-49bcf5bbf10a\",\"type\":\"Title\"},{\"attributes\":{\"callback\":null,\"data\":{\"top\":[1.2,2.5,3.7],\"x\":[1,2,3]},\"selected\":{\"id\":\"c0c8cc0c-e853-43b1-b581-f498701467d3\",\"type\":\"Selection\"},\"selection_policy\":{\"id\":\"4dc3e6d1-07d7-4a48-983e-84fc78106ed2\",\"type\":\"UnionRenderers\"}},\"id\":\"c34abda2-6c1a-4dbc-8e4c-96c7e75290f2\",\"type\":\"ColumnDataSource\"},{\"attributes\":{},\"id\":\"388e2fbc-b5d4-46a8-b54f-05cbdc21665d\",\"type\":\"HelpTool\"},{\"attributes\":{},\"id\":\"5913855a-c96c-44ba-8b3c-c817f4d9c0ae\",\"type\":\"BasicTicker\"},{\"attributes\":{\"overlay\":{\"id\":\"57cad86f-de91-4c2a-ab79-3ab450f22e8e\",\"type\":\"BoxAnnotation\"}},\"id\":\"fd8b609d-8fce-4008-b100-0ecb69b758b3\",\"type\":\"BoxZoomTool\"},{\"attributes\":{},\"id\":\"2869967c-a179-49c0-b250-d9e7cfbec35c\",\"type\":\"LinearScale\"},{\"attributes\":{\"source\":{\"id\":\"c34abda2-6c1a-4dbc-8e4c-96c7e75290f2\",\"type\":\"ColumnDataSource\"}},\"id\":\"261cfe21-81e3-4861-a7a5-8c8701c2cf71\",\"type\":\"CDSView\"},{\"attributes\":{\"plot\":{\"id\":\"2554c5b4-0f72-4692-ab83-79ff09a331b1\",\"subtype\":\"Figure\",\"type\":\"Plot\"},\"ticker\":{\"id\":\"a5319a13-b2de-4c8c-a44c-d63b45ba017e\",\"type\":\"BasicTicker\"}},\"id\":\"437dbed1-114b-42f7-9480-6e7928889c42\",\"type\":\"Grid\"},{\"attributes\":{},\"id\":\"54eb35df-74ae-4dae-bcaf-97807a671a0e\",\"type\":\"ResetTool\"},{\"attributes\":{},\"id\":\"a5319a13-b2de-4c8c-a44c-d63b45ba017e\",\"type\":\"BasicTicker\"},{\"attributes\":{},\"id\":\"a3498845-e7ae-4f5e-87f0-ad24f142f4f5\",\"type\":\"LinearScale\"},{\"attributes\":{\"callback\":null},\"id\":\"b3278c6e-8129-49bc-8438-7c04f44ab6a6\",\"type\":\"DataRange1d\"},{\"attributes\":{\"below\":[{\"id\":\"b6ee6f0d-b3ea-4f56-a726-61e90d6cdb6e\",\"type\":\"LinearAxis\"}],\"left\":[{\"id\":\"92ad27d9-d7e8-40ad-a71e-c5f613350e61\",\"type\":\"LinearAxis\"}],\"plot_height\":400,\"plot_width\":400,\"renderers\":[{\"id\":\"b6ee6f0d-b3ea-4f56-a726-61e90d6cdb6e\",\"type\":\"LinearAxis\"},{\"id\":\"437dbed1-114b-42f7-9480-6e7928889c42\",\"type\":\"Grid\"},{\"id\":\"92ad27d9-d7e8-40ad-a71e-c5f613350e61\",\"type\":\"LinearAxis\"},{\"id\":\"90e68b0f-a030-4aaa-a762-2c44762002d8\",\"type\":\"Grid\"},{\"id\":\"57cad86f-de91-4c2a-ab79-3ab450f22e8e\",\"type\":\"BoxAnnotation\"},{\"id\":\"58fbea10-e38b-4380-b04d-ff071c639afc\",\"type\":\"GlyphRenderer\"}],\"title\":{\"id\":\"4be05e08-49bc-4814-877b-49bcf5bbf10a\",\"type\":\"Title\"},\"toolbar\":{\"id\":\"8193a545-bc22-4896-a971-03bbf08670cb\",\"type\":\"Toolbar\"},\"x_range\":{\"id\":\"c7c6de12-529c-4859-b87e-e36eaa2452e5\",\"type\":\"DataRange1d\"},\"x_scale\":{\"id\":\"2869967c-a179-49c0-b250-d9e7cfbec35c\",\"type\":\"LinearScale\"},\"y_range\":{\"id\":\"b3278c6e-8129-49bc-8438-7c04f44ab6a6\",\"type\":\"DataRange1d\"},\"y_scale\":{\"id\":\"a3498845-e7ae-4f5e-87f0-ad24f142f4f5\",\"type\":\"LinearScale\"}},\"id\":\"2554c5b4-0f72-4692-ab83-79ff09a331b1\",\"subtype\":\"Figure\",\"type\":\"Plot\"},{\"attributes\":{\"fill_alpha\":{\"value\":0.1},\"fill_color\":{\"value\":\"#1f77b4\"},\"line_alpha\":{\"value\":0.1},\"line_color\":{\"value\":\"#1f77b4\"},\"top\":{\"field\":\"top\"},\"width\":{\"value\":0.5},\"x\":{\"field\":\"x\"}},\"id\":\"1eadd927-5814-49c6-8b45-9db76b1ab190\",\"type\":\"VBar\"},{\"attributes\":{\"formatter\":{\"id\":\"a1e8c256-e1ab-40df-a33a-96dc97354d77\",\"type\":\"BasicTickFormatter\"},\"plot\":{\"id\":\"2554c5b4-0f72-4692-ab83-79ff09a331b1\",\"subtype\":\"Figure\",\"type\":\"Plot\"},\"ticker\":{\"id\":\"5913855a-c96c-44ba-8b3c-c817f4d9c0ae\",\"type\":\"BasicTicker\"}},\"id\":\"92ad27d9-d7e8-40ad-a71e-c5f613350e61\",\"type\":\"LinearAxis\"},{\"attributes\":{},\"id\":\"7b77e638-6eec-47dd-bf74-611ad2c2b3ae\",\"type\":\"SaveTool\"},{\"attributes\":{\"formatter\":{\"id\":\"692bc32c-f700-4ffc-81c4-d71c052cdc80\",\"type\":\"BasicTickFormatter\"},\"plot\":{\"id\":\"2554c5b4-0f72-4692-ab83-79ff09a331b1\",\"subtype\":\"Figure\",\"type\":\"Plot\"},\"ticker\":{\"id\":\"a5319a13-b2de-4c8c-a44c-d63b45ba017e\",\"type\":\"BasicTicker\"}},\"id\":\"b6ee6f0d-b3ea-4f56-a726-61e90d6cdb6e\",\"type\":\"LinearAxis\"},{\"attributes\":{},\"id\":\"c0c8cc0c-e853-43b1-b581-f498701467d3\",\"type\":\"Selection\"},{\"attributes\":{},\"id\":\"4ad9ec1c-f72b-4e77-a93a-4f528dcc47d5\",\"type\":\"WheelZoomTool\"},{\"attributes\":{\"bottom_units\":\"screen\",\"fill_alpha\":{\"value\":0.5},\"fill_color\":{\"value\":\"lightgrey\"},\"left_units\":\"screen\",\"level\":\"overlay\",\"line_alpha\":{\"value\":1.0},\"line_color\":{\"value\":\"black\"},\"line_dash\":[4,4],\"line_width\":{\"value\":2},\"plot\":null,\"render_mode\":\"css\",\"right_units\":\"screen\",\"top_units\":\"screen\"},\"id\":\"57cad86f-de91-4c2a-ab79-3ab450f22e8e\",\"type\":\"BoxAnnotation\"},{\"attributes\":{\"fill_color\":{\"value\":\"firebrick\"},\"line_color\":{\"value\":\"firebrick\"},\"top\":{\"field\":\"top\"},\"width\":{\"value\":0.5},\"x\":{\"field\":\"x\"}},\"id\":\"02be08a6-55fd-4af0-9890-82a573c5665e\",\"type\":\"VBar\"},{\"attributes\":{},\"id\":\"4dc3e6d1-07d7-4a48-983e-84fc78106ed2\",\"type\":\"UnionRenderers\"},{\"attributes\":{},\"id\":\"a1e8c256-e1ab-40df-a33a-96dc97354d77\",\"type\":\"BasicTickFormatter\"},{\"attributes\":{\"callback\":null},\"id\":\"c7c6de12-529c-4859-b87e-e36eaa2452e5\",\"type\":\"DataRange1d\"},{\"attributes\":{\"dimension\":1,\"plot\":{\"id\":\"2554c5b4-0f72-4692-ab83-79ff09a331b1\",\"subtype\":\"Figure\",\"type\":\"Plot\"},\"ticker\":{\"id\":\"5913855a-c96c-44ba-8b3c-c817f4d9c0ae\",\"type\":\"BasicTicker\"}},\"id\":\"90e68b0f-a030-4aaa-a762-2c44762002d8\",\"type\":\"Grid\"},{\"attributes\":{},\"id\":\"692bc32c-f700-4ffc-81c4-d71c052cdc80\",\"type\":\"BasicTickFormatter\"},{\"attributes\":{\"data_source\":{\"id\":\"c34abda2-6c1a-4dbc-8e4c-96c7e75290f2\",\"type\":\"ColumnDataSource\"},\"glyph\":{\"id\":\"02be08a6-55fd-4af0-9890-82a573c5665e\",\"type\":\"VBar\"},\"hover_glyph\":null,\"muted_glyph\":null,\"nonselection_glyph\":{\"id\":\"1eadd927-5814-49c6-8b45-9db76b1ab190\",\"type\":\"VBar\"},\"selection_glyph\":null,\"view\":{\"id\":\"261cfe21-81e3-4861-a7a5-8c8701c2cf71\",\"type\":\"CDSView\"}},\"id\":\"58fbea10-e38b-4380-b04d-ff071c639afc\",\"type\":\"GlyphRenderer\"}],\"root_ids\":[\"2554c5b4-0f72-4692-ab83-79ff09a331b1\"]},\"title\":\"Bokeh Application\",\"version\":\"0.12.16\"}};\n",
       "  var render_items = [{\"docid\":\"76e300cc-6e36-45ea-a9fa-ad63025e686d\",\"elementid\":\"486c8ce3-27c8-4889-ac01-733f4eaccad1\",\"modelid\":\"2554c5b4-0f72-4692-ab83-79ff09a331b1\"}];\n",
       "  root.Bokeh.embed.embed_items_notebook(docs_json, render_items);\n",
       "\n",
       "  }\n",
       "  if (root.Bokeh !== undefined) {\n",
       "    embed_document(root);\n",
       "  } else {\n",
       "    var attempts = 0;\n",
       "    var timer = setInterval(function(root) {\n",
       "      if (root.Bokeh !== undefined) {\n",
       "        embed_document(root);\n",
       "        clearInterval(timer);\n",
       "      }\n",
       "      attempts++;\n",
       "      if (attempts > 100) {\n",
       "        console.log(\"Bokeh: ERROR: Unable to run BokehJS code because BokehJS library is missing\")\n",
       "        clearInterval(timer);\n",
       "      }\n",
       "    }, 10, root)\n",
       "  }\n",
       "})(window);"
      ],
      "application/vnd.bokehjs_exec.v0+json": ""
     },
     "metadata": {
      "application/vnd.bokehjs_exec.v0+json": {
       "id": "2554c5b4-0f72-4692-ab83-79ff09a331b1"
      }
     },
     "output_type": "display_data"
    }
   ],
   "source": [
    "p = figure(plot_width=400, plot_height=400)\n",
    "p.vbar(x=[1, 2, 3], width=0.5, bottom=0,\n",
    "       top=[1.2, 2.5, 3.7], color=\"firebrick\")\n",
    "\n",
    "show(p)"
   ]
  },
  {
   "cell_type": "code",
   "execution_count": 20,
   "metadata": {},
   "outputs": [
    {
     "data": {
      "text/html": [
       "\n",
       "<div class=\"bk-root\">\n",
       "    <div class=\"bk-plotdiv\" id=\"77ce91b9-5e56-430f-b695-174fd3e954cc\"></div>\n",
       "</div>"
      ]
     },
     "metadata": {},
     "output_type": "display_data"
    },
    {
     "data": {
      "application/javascript": [
       "(function(root) {\n",
       "  function embed_document(root) {\n",
       "    \n",
       "  var docs_json = {\"323f80ad-747c-4227-8a09-42c55a0ca6ea\":{\"roots\":{\"references\":[{\"attributes\":{\"data_source\":{\"id\":\"4dfc524d-03ac-44d0-918f-cdc45f036ba2\",\"type\":\"ColumnDataSource\"},\"glyph\":{\"id\":\"ab7a48b9-d8f9-49b0-ae54-c457c03beaf8\",\"type\":\"HBar\"},\"hover_glyph\":null,\"muted_glyph\":null,\"nonselection_glyph\":{\"id\":\"ebc15096-1044-43b5-b343-ce8e35765ec2\",\"type\":\"HBar\"},\"selection_glyph\":null,\"view\":{\"id\":\"911e869f-f649-4c2f-96ac-2b2607d41a1f\",\"type\":\"CDSView\"}},\"id\":\"3ff212ed-87c1-4eb9-895b-79553fa71554\",\"type\":\"GlyphRenderer\"},{\"attributes\":{},\"id\":\"52329a71-e854-4b8b-9db0-42e0ab8dc285\",\"type\":\"BasicTickFormatter\"},{\"attributes\":{},\"id\":\"5014a992-de58-4b36-b10e-75bcc9ba9a9c\",\"type\":\"BasicTickFormatter\"},{\"attributes\":{\"plot\":{\"id\":\"4ad5501a-9f2a-4c53-8012-d7e1fe645dff\",\"subtype\":\"Figure\",\"type\":\"Plot\"},\"ticker\":{\"id\":\"1b77d974-e110-4bae-bc47-87f5b56572e7\",\"type\":\"BasicTicker\"}},\"id\":\"52957fe2-cdc6-44e1-95ac-fe769ae6de69\",\"type\":\"Grid\"},{\"attributes\":{\"bottom_units\":\"screen\",\"fill_alpha\":{\"value\":0.5},\"fill_color\":{\"value\":\"lightgrey\"},\"left_units\":\"screen\",\"level\":\"overlay\",\"line_alpha\":{\"value\":1.0},\"line_color\":{\"value\":\"black\"},\"line_dash\":[4,4],\"line_width\":{\"value\":2},\"plot\":null,\"render_mode\":\"css\",\"right_units\":\"screen\",\"top_units\":\"screen\"},\"id\":\"2e1aa994-26ee-478e-9b4f-4ecf239ad72e\",\"type\":\"BoxAnnotation\"},{\"attributes\":{\"callback\":null},\"id\":\"80f82923-87ff-4a62-a0ba-4be1ff7d7eb8\",\"type\":\"DataRange1d\"},{\"attributes\":{},\"id\":\"979ff996-38a1-4aa2-953d-410ae8af5642\",\"type\":\"Selection\"},{\"attributes\":{},\"id\":\"73cbfc34-3664-47e5-badf-001bed9d6c2c\",\"type\":\"PanTool\"},{\"attributes\":{},\"id\":\"e5289c00-2cce-4e3c-bd97-59cc6ef4a32b\",\"type\":\"LinearScale\"},{\"attributes\":{},\"id\":\"63cfb408-6c52-4c86-939a-4563f37e80eb\",\"type\":\"UnionRenderers\"},{\"attributes\":{},\"id\":\"759bc2c0-8e8c-4a5f-b2bc-bafddb0356a3\",\"type\":\"WheelZoomTool\"},{\"attributes\":{\"callback\":null,\"data\":{\"right\":[1.2,2.5,3.7],\"y\":[1,2,3]},\"selected\":{\"id\":\"979ff996-38a1-4aa2-953d-410ae8af5642\",\"type\":\"Selection\"},\"selection_policy\":{\"id\":\"63cfb408-6c52-4c86-939a-4563f37e80eb\",\"type\":\"UnionRenderers\"}},\"id\":\"4dfc524d-03ac-44d0-918f-cdc45f036ba2\",\"type\":\"ColumnDataSource\"},{\"attributes\":{\"overlay\":{\"id\":\"2e1aa994-26ee-478e-9b4f-4ecf239ad72e\",\"type\":\"BoxAnnotation\"}},\"id\":\"ab0b3801-da1b-48e7-8034-bf136d784188\",\"type\":\"BoxZoomTool\"},{\"attributes\":{\"formatter\":{\"id\":\"52329a71-e854-4b8b-9db0-42e0ab8dc285\",\"type\":\"BasicTickFormatter\"},\"plot\":{\"id\":\"4ad5501a-9f2a-4c53-8012-d7e1fe645dff\",\"subtype\":\"Figure\",\"type\":\"Plot\"},\"ticker\":{\"id\":\"1b77d974-e110-4bae-bc47-87f5b56572e7\",\"type\":\"BasicTicker\"}},\"id\":\"20f079a8-d178-44b8-99e4-65b3e8f8be19\",\"type\":\"LinearAxis\"},{\"attributes\":{},\"id\":\"43d9c61e-e971-4258-aa92-bdc53ab11de2\",\"type\":\"SaveTool\"},{\"attributes\":{},\"id\":\"f4a0759a-6a98-48eb-8044-5feffe60049d\",\"type\":\"ResetTool\"},{\"attributes\":{},\"id\":\"248d7ead-83ae-4038-b5e1-31487799db1a\",\"type\":\"HelpTool\"},{\"attributes\":{},\"id\":\"f5d5d411-9610-4a16-9424-3586cd5494b6\",\"type\":\"BasicTicker\"},{\"attributes\":{},\"id\":\"c3d9a7d4-e2b0-4470-91b4-233d679f555a\",\"type\":\"LinearScale\"},{\"attributes\":{\"plot\":null,\"text\":\"\"},\"id\":\"5eddc8a7-9ea9-4867-9c5d-ea71f61c7a72\",\"type\":\"Title\"},{\"attributes\":{\"fill_alpha\":{\"value\":0.1},\"fill_color\":{\"value\":\"#1f77b4\"},\"height\":{\"value\":0.5},\"line_alpha\":{\"value\":0.1},\"line_color\":{\"value\":\"#1f77b4\"},\"right\":{\"field\":\"right\"},\"y\":{\"field\":\"y\"}},\"id\":\"ebc15096-1044-43b5-b343-ce8e35765ec2\",\"type\":\"HBar\"},{\"attributes\":{\"callback\":null},\"id\":\"6ff6f358-40ee-4a5b-a758-a1f18f44b010\",\"type\":\"DataRange1d\"},{\"attributes\":{\"below\":[{\"id\":\"20f079a8-d178-44b8-99e4-65b3e8f8be19\",\"type\":\"LinearAxis\"}],\"left\":[{\"id\":\"3afec2a6-eb25-45f5-86e9-d8f941e0a832\",\"type\":\"LinearAxis\"}],\"plot_height\":400,\"plot_width\":400,\"renderers\":[{\"id\":\"20f079a8-d178-44b8-99e4-65b3e8f8be19\",\"type\":\"LinearAxis\"},{\"id\":\"52957fe2-cdc6-44e1-95ac-fe769ae6de69\",\"type\":\"Grid\"},{\"id\":\"3afec2a6-eb25-45f5-86e9-d8f941e0a832\",\"type\":\"LinearAxis\"},{\"id\":\"ec8e0196-ceaf-400b-bd64-990e0c396c5c\",\"type\":\"Grid\"},{\"id\":\"2e1aa994-26ee-478e-9b4f-4ecf239ad72e\",\"type\":\"BoxAnnotation\"},{\"id\":\"3ff212ed-87c1-4eb9-895b-79553fa71554\",\"type\":\"GlyphRenderer\"}],\"title\":{\"id\":\"5eddc8a7-9ea9-4867-9c5d-ea71f61c7a72\",\"type\":\"Title\"},\"toolbar\":{\"id\":\"0f66d74c-798f-4eae-8ccb-4ef527c21576\",\"type\":\"Toolbar\"},\"x_range\":{\"id\":\"80f82923-87ff-4a62-a0ba-4be1ff7d7eb8\",\"type\":\"DataRange1d\"},\"x_scale\":{\"id\":\"e5289c00-2cce-4e3c-bd97-59cc6ef4a32b\",\"type\":\"LinearScale\"},\"y_range\":{\"id\":\"6ff6f358-40ee-4a5b-a758-a1f18f44b010\",\"type\":\"DataRange1d\"},\"y_scale\":{\"id\":\"c3d9a7d4-e2b0-4470-91b4-233d679f555a\",\"type\":\"LinearScale\"}},\"id\":\"4ad5501a-9f2a-4c53-8012-d7e1fe645dff\",\"subtype\":\"Figure\",\"type\":\"Plot\"},{\"attributes\":{},\"id\":\"1b77d974-e110-4bae-bc47-87f5b56572e7\",\"type\":\"BasicTicker\"},{\"attributes\":{\"source\":{\"id\":\"4dfc524d-03ac-44d0-918f-cdc45f036ba2\",\"type\":\"ColumnDataSource\"}},\"id\":\"911e869f-f649-4c2f-96ac-2b2607d41a1f\",\"type\":\"CDSView\"},{\"attributes\":{\"active_drag\":\"auto\",\"active_inspect\":\"auto\",\"active_scroll\":\"auto\",\"active_tap\":\"auto\",\"tools\":[{\"id\":\"73cbfc34-3664-47e5-badf-001bed9d6c2c\",\"type\":\"PanTool\"},{\"id\":\"759bc2c0-8e8c-4a5f-b2bc-bafddb0356a3\",\"type\":\"WheelZoomTool\"},{\"id\":\"ab0b3801-da1b-48e7-8034-bf136d784188\",\"type\":\"BoxZoomTool\"},{\"id\":\"43d9c61e-e971-4258-aa92-bdc53ab11de2\",\"type\":\"SaveTool\"},{\"id\":\"f4a0759a-6a98-48eb-8044-5feffe60049d\",\"type\":\"ResetTool\"},{\"id\":\"248d7ead-83ae-4038-b5e1-31487799db1a\",\"type\":\"HelpTool\"}]},\"id\":\"0f66d74c-798f-4eae-8ccb-4ef527c21576\",\"type\":\"Toolbar\"},{\"attributes\":{\"formatter\":{\"id\":\"5014a992-de58-4b36-b10e-75bcc9ba9a9c\",\"type\":\"BasicTickFormatter\"},\"plot\":{\"id\":\"4ad5501a-9f2a-4c53-8012-d7e1fe645dff\",\"subtype\":\"Figure\",\"type\":\"Plot\"},\"ticker\":{\"id\":\"f5d5d411-9610-4a16-9424-3586cd5494b6\",\"type\":\"BasicTicker\"}},\"id\":\"3afec2a6-eb25-45f5-86e9-d8f941e0a832\",\"type\":\"LinearAxis\"},{\"attributes\":{\"dimension\":1,\"plot\":{\"id\":\"4ad5501a-9f2a-4c53-8012-d7e1fe645dff\",\"subtype\":\"Figure\",\"type\":\"Plot\"},\"ticker\":{\"id\":\"f5d5d411-9610-4a16-9424-3586cd5494b6\",\"type\":\"BasicTicker\"}},\"id\":\"ec8e0196-ceaf-400b-bd64-990e0c396c5c\",\"type\":\"Grid\"},{\"attributes\":{\"fill_color\":{\"value\":\"navy\"},\"height\":{\"value\":0.5},\"line_color\":{\"value\":\"navy\"},\"right\":{\"field\":\"right\"},\"y\":{\"field\":\"y\"}},\"id\":\"ab7a48b9-d8f9-49b0-ae54-c457c03beaf8\",\"type\":\"HBar\"}],\"root_ids\":[\"4ad5501a-9f2a-4c53-8012-d7e1fe645dff\"]},\"title\":\"Bokeh Application\",\"version\":\"0.12.16\"}};\n",
       "  var render_items = [{\"docid\":\"323f80ad-747c-4227-8a09-42c55a0ca6ea\",\"elementid\":\"77ce91b9-5e56-430f-b695-174fd3e954cc\",\"modelid\":\"4ad5501a-9f2a-4c53-8012-d7e1fe645dff\"}];\n",
       "  root.Bokeh.embed.embed_items_notebook(docs_json, render_items);\n",
       "\n",
       "  }\n",
       "  if (root.Bokeh !== undefined) {\n",
       "    embed_document(root);\n",
       "  } else {\n",
       "    var attempts = 0;\n",
       "    var timer = setInterval(function(root) {\n",
       "      if (root.Bokeh !== undefined) {\n",
       "        embed_document(root);\n",
       "        clearInterval(timer);\n",
       "      }\n",
       "      attempts++;\n",
       "      if (attempts > 100) {\n",
       "        console.log(\"Bokeh: ERROR: Unable to run BokehJS code because BokehJS library is missing\")\n",
       "        clearInterval(timer);\n",
       "      }\n",
       "    }, 10, root)\n",
       "  }\n",
       "})(window);"
      ],
      "application/vnd.bokehjs_exec.v0+json": ""
     },
     "metadata": {
      "application/vnd.bokehjs_exec.v0+json": {
       "id": "4ad5501a-9f2a-4c53-8012-d7e1fe645dff"
      }
     },
     "output_type": "display_data"
    }
   ],
   "source": [
    "p = figure(plot_width=400, plot_height=400)\n",
    "p.hbar(y=[1, 2, 3], height=0.5, left=0,\n",
    "       right=[1.2, 2.5, 3.7], color=\"navy\")\n",
    "\n",
    "show(p)"
   ]
  },
  {
   "cell_type": "markdown",
   "metadata": {},
   "source": [
    "Here are patches. We saw these in the very beginning (rotating this shape using `numpy` arrays)."
   ]
  },
  {
   "cell_type": "code",
   "execution_count": 24,
   "metadata": {},
   "outputs": [
    {
     "data": {
      "text/html": [
       "\n",
       "<div class=\"bk-root\">\n",
       "    <div class=\"bk-plotdiv\" id=\"343bfb23-f5b9-4519-9ffc-b28d7569a2de\"></div>\n",
       "</div>"
      ]
     },
     "metadata": {},
     "output_type": "display_data"
    },
    {
     "data": {
      "application/javascript": [
       "(function(root) {\n",
       "  function embed_document(root) {\n",
       "    \n",
       "  var docs_json = {\"dad06fb1-c03a-4df3-8046-f2fa7b1d5d0b\":{\"roots\":{\"references\":[{\"attributes\":{\"plot\":null,\"text\":\"\"},\"id\":\"a86fa6ac-913c-46d4-adc8-b34b6b1fcfca\",\"type\":\"Title\"},{\"attributes\":{},\"id\":\"a1bb0400-4ad0-4288-bfc6-bab0a03e6f4a\",\"type\":\"HelpTool\"},{\"attributes\":{},\"id\":\"9c0379d2-96c9-41c4-ad9a-7600a0aac4a0\",\"type\":\"UnionRenderers\"},{\"attributes\":{},\"id\":\"aaaad667-5d5f-4afd-97ce-82c00063f346\",\"type\":\"ResetTool\"},{\"attributes\":{},\"id\":\"9f256960-4400-4240-b29d-7759c628fb51\",\"type\":\"BasicTickFormatter\"},{\"attributes\":{},\"id\":\"7f837392-d3ad-4fcb-8f53-8d2e2c0701c8\",\"type\":\"BasicTicker\"},{\"attributes\":{},\"id\":\"dec1e733-fada-40f7-87ca-49c78be74c7f\",\"type\":\"LinearScale\"},{\"attributes\":{},\"id\":\"008955b3-e07a-49c3-9970-da4e104727d6\",\"type\":\"BasicTickFormatter\"},{\"attributes\":{},\"id\":\"0f08e94f-08dd-4a78-a6cd-fcda042848a1\",\"type\":\"PanTool\"},{\"attributes\":{\"callback\":null},\"id\":\"7074b34e-c6e3-422e-a1e2-9e4f2ca5d631\",\"type\":\"DataRange1d\"},{\"attributes\":{\"formatter\":{\"id\":\"008955b3-e07a-49c3-9970-da4e104727d6\",\"type\":\"BasicTickFormatter\"},\"plot\":{\"id\":\"f96b7997-2779-445c-9683-3fdbb419a4ee\",\"subtype\":\"Figure\",\"type\":\"Plot\"},\"ticker\":{\"id\":\"269f904a-2049-41af-a70b-58603e113caf\",\"type\":\"BasicTicker\"}},\"id\":\"20ce583f-4bf8-4d49-8a2e-ed0d0e8326ab\",\"type\":\"LinearAxis\"},{\"attributes\":{\"overlay\":{\"id\":\"8cff2b35-9404-4e1d-a85f-721aede2302b\",\"type\":\"BoxAnnotation\"}},\"id\":\"8268e960-e5d4-4574-9830-68c980c43e49\",\"type\":\"BoxZoomTool\"},{\"attributes\":{\"dimension\":1,\"plot\":{\"id\":\"f96b7997-2779-445c-9683-3fdbb419a4ee\",\"subtype\":\"Figure\",\"type\":\"Plot\"},\"ticker\":{\"id\":\"7f837392-d3ad-4fcb-8f53-8d2e2c0701c8\",\"type\":\"BasicTicker\"}},\"id\":\"e1a7045a-9ecc-4a31-a571-aa4f25bc571d\",\"type\":\"Grid\"},{\"attributes\":{\"fill_alpha\":0.5,\"fill_color\":\"#1f77b4\",\"line_alpha\":0.5,\"line_color\":\"#1f77b4\",\"line_width\":2,\"x\":{\"field\":\"x\"},\"y\":{\"field\":\"y\"}},\"id\":\"ec827fad-61e8-45fc-89b6-258b8a282a52\",\"type\":\"Patch\"},{\"attributes\":{},\"id\":\"8db90a28-c5e8-49f6-bc90-646a0d56f9cc\",\"type\":\"WheelZoomTool\"},{\"attributes\":{\"data_source\":{\"id\":\"9430f341-3887-41b4-b875-17a8efbb6f11\",\"type\":\"ColumnDataSource\"},\"glyph\":{\"id\":\"ec827fad-61e8-45fc-89b6-258b8a282a52\",\"type\":\"Patch\"},\"hover_glyph\":null,\"muted_glyph\":null,\"nonselection_glyph\":{\"id\":\"0da677ca-8ed3-4e83-b66a-6a3dd53b3ee9\",\"type\":\"Patch\"},\"selection_glyph\":null,\"view\":{\"id\":\"dea8c604-9a60-455f-aae7-94526fe442b7\",\"type\":\"CDSView\"}},\"id\":\"e388e4f5-2a34-4749-8079-47e7b7cd703c\",\"type\":\"GlyphRenderer\"},{\"attributes\":{},\"id\":\"c62b7f7a-6843-417a-a60c-afc5340ac417\",\"type\":\"SaveTool\"},{\"attributes\":{\"callback\":null,\"data\":{\"x\":[1,2,3,4,5],\"y\":[6,7,8,7,3]},\"selected\":{\"id\":\"364416cd-ddfd-4f78-b085-3cc3bb5173f0\",\"type\":\"Selection\"},\"selection_policy\":{\"id\":\"9c0379d2-96c9-41c4-ad9a-7600a0aac4a0\",\"type\":\"UnionRenderers\"}},\"id\":\"9430f341-3887-41b4-b875-17a8efbb6f11\",\"type\":\"ColumnDataSource\"},{\"attributes\":{\"plot\":{\"id\":\"f96b7997-2779-445c-9683-3fdbb419a4ee\",\"subtype\":\"Figure\",\"type\":\"Plot\"},\"ticker\":{\"id\":\"269f904a-2049-41af-a70b-58603e113caf\",\"type\":\"BasicTicker\"}},\"id\":\"f3687872-5aec-4435-8050-6aa4d4b7b232\",\"type\":\"Grid\"},{\"attributes\":{\"callback\":null},\"id\":\"205a2577-3975-4027-83b0-bb6ac6e4447a\",\"type\":\"DataRange1d\"},{\"attributes\":{\"fill_alpha\":0.1,\"fill_color\":\"#1f77b4\",\"line_alpha\":0.1,\"line_color\":\"#1f77b4\",\"line_width\":2,\"x\":{\"field\":\"x\"},\"y\":{\"field\":\"y\"}},\"id\":\"0da677ca-8ed3-4e83-b66a-6a3dd53b3ee9\",\"type\":\"Patch\"},{\"attributes\":{\"source\":{\"id\":\"9430f341-3887-41b4-b875-17a8efbb6f11\",\"type\":\"ColumnDataSource\"}},\"id\":\"dea8c604-9a60-455f-aae7-94526fe442b7\",\"type\":\"CDSView\"},{\"attributes\":{\"active_drag\":\"auto\",\"active_inspect\":\"auto\",\"active_scroll\":\"auto\",\"active_tap\":\"auto\",\"tools\":[{\"id\":\"0f08e94f-08dd-4a78-a6cd-fcda042848a1\",\"type\":\"PanTool\"},{\"id\":\"8db90a28-c5e8-49f6-bc90-646a0d56f9cc\",\"type\":\"WheelZoomTool\"},{\"id\":\"8268e960-e5d4-4574-9830-68c980c43e49\",\"type\":\"BoxZoomTool\"},{\"id\":\"c62b7f7a-6843-417a-a60c-afc5340ac417\",\"type\":\"SaveTool\"},{\"id\":\"aaaad667-5d5f-4afd-97ce-82c00063f346\",\"type\":\"ResetTool\"},{\"id\":\"a1bb0400-4ad0-4288-bfc6-bab0a03e6f4a\",\"type\":\"HelpTool\"}]},\"id\":\"ba1b1715-5a68-4f65-aaf0-ed0e528b38a9\",\"type\":\"Toolbar\"},{\"attributes\":{\"formatter\":{\"id\":\"9f256960-4400-4240-b29d-7759c628fb51\",\"type\":\"BasicTickFormatter\"},\"plot\":{\"id\":\"f96b7997-2779-445c-9683-3fdbb419a4ee\",\"subtype\":\"Figure\",\"type\":\"Plot\"},\"ticker\":{\"id\":\"7f837392-d3ad-4fcb-8f53-8d2e2c0701c8\",\"type\":\"BasicTicker\"}},\"id\":\"2979e31c-dedc-4774-b79f-58aa5df1e086\",\"type\":\"LinearAxis\"},{\"attributes\":{},\"id\":\"364416cd-ddfd-4f78-b085-3cc3bb5173f0\",\"type\":\"Selection\"},{\"attributes\":{},\"id\":\"41223e37-8795-4940-85b4-d1327a717b9e\",\"type\":\"LinearScale\"},{\"attributes\":{},\"id\":\"269f904a-2049-41af-a70b-58603e113caf\",\"type\":\"BasicTicker\"},{\"attributes\":{\"below\":[{\"id\":\"20ce583f-4bf8-4d49-8a2e-ed0d0e8326ab\",\"type\":\"LinearAxis\"}],\"left\":[{\"id\":\"2979e31c-dedc-4774-b79f-58aa5df1e086\",\"type\":\"LinearAxis\"}],\"plot_height\":400,\"plot_width\":400,\"renderers\":[{\"id\":\"20ce583f-4bf8-4d49-8a2e-ed0d0e8326ab\",\"type\":\"LinearAxis\"},{\"id\":\"f3687872-5aec-4435-8050-6aa4d4b7b232\",\"type\":\"Grid\"},{\"id\":\"2979e31c-dedc-4774-b79f-58aa5df1e086\",\"type\":\"LinearAxis\"},{\"id\":\"e1a7045a-9ecc-4a31-a571-aa4f25bc571d\",\"type\":\"Grid\"},{\"id\":\"8cff2b35-9404-4e1d-a85f-721aede2302b\",\"type\":\"BoxAnnotation\"},{\"id\":\"e388e4f5-2a34-4749-8079-47e7b7cd703c\",\"type\":\"GlyphRenderer\"}],\"title\":{\"id\":\"a86fa6ac-913c-46d4-adc8-b34b6b1fcfca\",\"type\":\"Title\"},\"toolbar\":{\"id\":\"ba1b1715-5a68-4f65-aaf0-ed0e528b38a9\",\"type\":\"Toolbar\"},\"x_range\":{\"id\":\"7074b34e-c6e3-422e-a1e2-9e4f2ca5d631\",\"type\":\"DataRange1d\"},\"x_scale\":{\"id\":\"dec1e733-fada-40f7-87ca-49c78be74c7f\",\"type\":\"LinearScale\"},\"y_range\":{\"id\":\"205a2577-3975-4027-83b0-bb6ac6e4447a\",\"type\":\"DataRange1d\"},\"y_scale\":{\"id\":\"41223e37-8795-4940-85b4-d1327a717b9e\",\"type\":\"LinearScale\"}},\"id\":\"f96b7997-2779-445c-9683-3fdbb419a4ee\",\"subtype\":\"Figure\",\"type\":\"Plot\"},{\"attributes\":{\"bottom_units\":\"screen\",\"fill_alpha\":{\"value\":0.5},\"fill_color\":{\"value\":\"lightgrey\"},\"left_units\":\"screen\",\"level\":\"overlay\",\"line_alpha\":{\"value\":1.0},\"line_color\":{\"value\":\"black\"},\"line_dash\":[4,4],\"line_width\":{\"value\":2},\"plot\":null,\"render_mode\":\"css\",\"right_units\":\"screen\",\"top_units\":\"screen\"},\"id\":\"8cff2b35-9404-4e1d-a85f-721aede2302b\",\"type\":\"BoxAnnotation\"}],\"root_ids\":[\"f96b7997-2779-445c-9683-3fdbb419a4ee\"]},\"title\":\"Bokeh Application\",\"version\":\"0.12.16\"}};\n",
       "  var render_items = [{\"docid\":\"dad06fb1-c03a-4df3-8046-f2fa7b1d5d0b\",\"elementid\":\"343bfb23-f5b9-4519-9ffc-b28d7569a2de\",\"modelid\":\"f96b7997-2779-445c-9683-3fdbb419a4ee\"}];\n",
       "  root.Bokeh.embed.embed_items_notebook(docs_json, render_items);\n",
       "\n",
       "  }\n",
       "  if (root.Bokeh !== undefined) {\n",
       "    embed_document(root);\n",
       "  } else {\n",
       "    var attempts = 0;\n",
       "    var timer = setInterval(function(root) {\n",
       "      if (root.Bokeh !== undefined) {\n",
       "        embed_document(root);\n",
       "        clearInterval(timer);\n",
       "      }\n",
       "      attempts++;\n",
       "      if (attempts > 100) {\n",
       "        console.log(\"Bokeh: ERROR: Unable to run BokehJS code because BokehJS library is missing\")\n",
       "        clearInterval(timer);\n",
       "      }\n",
       "    }, 10, root)\n",
       "  }\n",
       "})(window);"
      ],
      "application/vnd.bokehjs_exec.v0+json": ""
     },
     "metadata": {
      "application/vnd.bokehjs_exec.v0+json": {
       "id": "f96b7997-2779-445c-9683-3fdbb419a4ee"
      }
     },
     "output_type": "display_data"
    }
   ],
   "source": [
    "p = figure(plot_width=400, plot_height=400)\n",
    "\n",
    "# add a patch renderer with an alpha an line width\n",
    "p.patch([1, 2, 3, 4, 5], [6, 7, 8, 7, 3], alpha=0.5, line_width=2)\n",
    "\n",
    "show(p)"
   ]
  },
  {
   "cell_type": "markdown",
   "metadata": {},
   "source": [
    "And multiple patches at once:"
   ]
  },
  {
   "cell_type": "code",
   "execution_count": 22,
   "metadata": {},
   "outputs": [
    {
     "data": {
      "text/html": [
       "\n",
       "<div class=\"bk-root\">\n",
       "    <div class=\"bk-plotdiv\" id=\"31580846-66f6-45d2-8545-bb17b4fe330c\"></div>\n",
       "</div>"
      ]
     },
     "metadata": {},
     "output_type": "display_data"
    },
    {
     "data": {
      "application/javascript": [
       "(function(root) {\n",
       "  function embed_document(root) {\n",
       "    \n",
       "  var docs_json = {\"62c7485e-89fe-44c4-ac4d-996aff2f1956\":{\"roots\":{\"references\":[{\"attributes\":{\"formatter\":{\"id\":\"2e79513a-bc9e-415b-aaa5-49d09478aaf4\",\"type\":\"BasicTickFormatter\"},\"plot\":{\"id\":\"04dae763-3837-4d51-bbdf-0e36dae22208\",\"subtype\":\"Figure\",\"type\":\"Plot\"},\"ticker\":{\"id\":\"5b1b5064-5897-40da-ad2e-5fcfa4d5e9ec\",\"type\":\"BasicTicker\"}},\"id\":\"2d2d3a69-dc26-4700-8e38-4756f2bb0c74\",\"type\":\"LinearAxis\"},{\"attributes\":{\"fill_alpha\":{\"field\":\"fill_alpha\"},\"fill_color\":{\"field\":\"fill_color\"},\"line_alpha\":{\"field\":\"line_alpha\"},\"line_color\":{\"field\":\"line_color\"},\"line_width\":{\"value\":2},\"xs\":{\"field\":\"xs\"},\"ys\":{\"field\":\"ys\"}},\"id\":\"b24c1525-f769-4777-9ddc-a844c3c02f9d\",\"type\":\"Patches\"},{\"attributes\":{\"data_source\":{\"id\":\"74712504-8919-4572-8ae8-e89fb8cb015c\",\"type\":\"ColumnDataSource\"},\"glyph\":{\"id\":\"b24c1525-f769-4777-9ddc-a844c3c02f9d\",\"type\":\"Patches\"},\"hover_glyph\":null,\"muted_glyph\":null,\"nonselection_glyph\":{\"id\":\"01030b27-fcbe-474d-99f3-0260de652140\",\"type\":\"Patches\"},\"selection_glyph\":null,\"view\":{\"id\":\"f39b4752-135f-4a0e-aaf3-4dce8b8fe36c\",\"type\":\"CDSView\"}},\"id\":\"acf1336c-5072-4a0c-95d0-756917639461\",\"type\":\"GlyphRenderer\"},{\"attributes\":{},\"id\":\"a8d66118-c295-4aa5-84e8-c2ff3e72fe52\",\"type\":\"BasicTicker\"},{\"attributes\":{},\"id\":\"fab1bbfe-e1c1-42c9-b68c-737d454abe56\",\"type\":\"LinearScale\"},{\"attributes\":{},\"id\":\"2e79513a-bc9e-415b-aaa5-49d09478aaf4\",\"type\":\"BasicTickFormatter\"},{\"attributes\":{\"formatter\":{\"id\":\"2955cdea-49d2-41b9-b6d4-5eb4e87d070c\",\"type\":\"BasicTickFormatter\"},\"plot\":{\"id\":\"04dae763-3837-4d51-bbdf-0e36dae22208\",\"subtype\":\"Figure\",\"type\":\"Plot\"},\"ticker\":{\"id\":\"a8d66118-c295-4aa5-84e8-c2ff3e72fe52\",\"type\":\"BasicTicker\"}},\"id\":\"7ea2c2c5-41ad-4c0c-8334-c139c460ac11\",\"type\":\"LinearAxis\"},{\"attributes\":{},\"id\":\"811bf631-86e7-4e20-869c-5fefd6f21e98\",\"type\":\"WheelZoomTool\"},{\"attributes\":{},\"id\":\"7dbaca0d-233e-49f8-a79a-4d36bb734494\",\"type\":\"UnionRenderers\"},{\"attributes\":{\"bottom_units\":\"screen\",\"fill_alpha\":{\"value\":0.5},\"fill_color\":{\"value\":\"lightgrey\"},\"left_units\":\"screen\",\"level\":\"overlay\",\"line_alpha\":{\"value\":1.0},\"line_color\":{\"value\":\"black\"},\"line_dash\":[4,4],\"line_width\":{\"value\":2},\"plot\":null,\"render_mode\":\"css\",\"right_units\":\"screen\",\"top_units\":\"screen\"},\"id\":\"1e64f79d-acb0-4c3a-a0a6-c21d3ac21d06\",\"type\":\"BoxAnnotation\"},{\"attributes\":{},\"id\":\"149f077a-e98e-46a2-bab3-5f144e5943fc\",\"type\":\"Selection\"},{\"attributes\":{},\"id\":\"2955cdea-49d2-41b9-b6d4-5eb4e87d070c\",\"type\":\"BasicTickFormatter\"},{\"attributes\":{},\"id\":\"2cfd7b15-7c97-4218-9638-22d444e8779b\",\"type\":\"PanTool\"},{\"attributes\":{\"fill_alpha\":{\"value\":0.1},\"fill_color\":{\"value\":\"#1f77b4\"},\"line_alpha\":{\"value\":0.1},\"line_color\":{\"value\":\"#1f77b4\"},\"line_width\":{\"value\":2},\"xs\":{\"field\":\"xs\"},\"ys\":{\"field\":\"ys\"}},\"id\":\"01030b27-fcbe-474d-99f3-0260de652140\",\"type\":\"Patches\"},{\"attributes\":{},\"id\":\"159a8463-29ec-4f49-98fa-ba1858377f27\",\"type\":\"ResetTool\"},{\"attributes\":{\"callback\":null,\"data\":{\"fill_alpha\":[0.8,0.3],\"fill_color\":[\"firebrick\",\"navy\"],\"line_alpha\":[0.8,0.3],\"line_color\":[\"firebrick\",\"navy\"],\"xs\":[[1,3,2],[3,4,6,6]],\"ys\":[[2,1,4],[4,7,8,5]]},\"selected\":{\"id\":\"149f077a-e98e-46a2-bab3-5f144e5943fc\",\"type\":\"Selection\"},\"selection_policy\":{\"id\":\"7dbaca0d-233e-49f8-a79a-4d36bb734494\",\"type\":\"UnionRenderers\"}},\"id\":\"74712504-8919-4572-8ae8-e89fb8cb015c\",\"type\":\"ColumnDataSource\"},{\"attributes\":{\"callback\":null},\"id\":\"da957e3d-896a-4ded-b23d-565eb1fa0546\",\"type\":\"DataRange1d\"},{\"attributes\":{},\"id\":\"5b1b5064-5897-40da-ad2e-5fcfa4d5e9ec\",\"type\":\"BasicTicker\"},{\"attributes\":{\"overlay\":{\"id\":\"1e64f79d-acb0-4c3a-a0a6-c21d3ac21d06\",\"type\":\"BoxAnnotation\"}},\"id\":\"8c6ac08b-663e-4895-8084-de7fb8df3c55\",\"type\":\"BoxZoomTool\"},{\"attributes\":{\"active_drag\":\"auto\",\"active_inspect\":\"auto\",\"active_scroll\":\"auto\",\"active_tap\":\"auto\",\"tools\":[{\"id\":\"2cfd7b15-7c97-4218-9638-22d444e8779b\",\"type\":\"PanTool\"},{\"id\":\"811bf631-86e7-4e20-869c-5fefd6f21e98\",\"type\":\"WheelZoomTool\"},{\"id\":\"8c6ac08b-663e-4895-8084-de7fb8df3c55\",\"type\":\"BoxZoomTool\"},{\"id\":\"c9c4a0af-096b-4cec-97ea-dec81d95402c\",\"type\":\"SaveTool\"},{\"id\":\"159a8463-29ec-4f49-98fa-ba1858377f27\",\"type\":\"ResetTool\"},{\"id\":\"3114a4d9-83aa-4b6c-b449-711881a70b6f\",\"type\":\"HelpTool\"}]},\"id\":\"50719e44-3901-4f36-a61e-6fa4c3320d39\",\"type\":\"Toolbar\"},{\"attributes\":{\"source\":{\"id\":\"74712504-8919-4572-8ae8-e89fb8cb015c\",\"type\":\"ColumnDataSource\"}},\"id\":\"f39b4752-135f-4a0e-aaf3-4dce8b8fe36c\",\"type\":\"CDSView\"},{\"attributes\":{},\"id\":\"c9c4a0af-096b-4cec-97ea-dec81d95402c\",\"type\":\"SaveTool\"},{\"attributes\":{},\"id\":\"3114a4d9-83aa-4b6c-b449-711881a70b6f\",\"type\":\"HelpTool\"},{\"attributes\":{\"below\":[{\"id\":\"2d2d3a69-dc26-4700-8e38-4756f2bb0c74\",\"type\":\"LinearAxis\"}],\"left\":[{\"id\":\"7ea2c2c5-41ad-4c0c-8334-c139c460ac11\",\"type\":\"LinearAxis\"}],\"plot_height\":400,\"plot_width\":400,\"renderers\":[{\"id\":\"2d2d3a69-dc26-4700-8e38-4756f2bb0c74\",\"type\":\"LinearAxis\"},{\"id\":\"b71368bd-4d28-4736-919f-7ef2fbfdf200\",\"type\":\"Grid\"},{\"id\":\"7ea2c2c5-41ad-4c0c-8334-c139c460ac11\",\"type\":\"LinearAxis\"},{\"id\":\"3e9f0511-0d86-45c9-a67b-9506a9904771\",\"type\":\"Grid\"},{\"id\":\"1e64f79d-acb0-4c3a-a0a6-c21d3ac21d06\",\"type\":\"BoxAnnotation\"},{\"id\":\"acf1336c-5072-4a0c-95d0-756917639461\",\"type\":\"GlyphRenderer\"}],\"title\":{\"id\":\"9cd640c3-fe52-4d10-a2a7-74f047534eea\",\"type\":\"Title\"},\"toolbar\":{\"id\":\"50719e44-3901-4f36-a61e-6fa4c3320d39\",\"type\":\"Toolbar\"},\"x_range\":{\"id\":\"da957e3d-896a-4ded-b23d-565eb1fa0546\",\"type\":\"DataRange1d\"},\"x_scale\":{\"id\":\"8d565d5d-15f3-4037-af6e-8c3ef8ae3ebe\",\"type\":\"LinearScale\"},\"y_range\":{\"id\":\"c9f15b26-2d7b-49fa-88d3-8782e7d7ae35\",\"type\":\"DataRange1d\"},\"y_scale\":{\"id\":\"fab1bbfe-e1c1-42c9-b68c-737d454abe56\",\"type\":\"LinearScale\"}},\"id\":\"04dae763-3837-4d51-bbdf-0e36dae22208\",\"subtype\":\"Figure\",\"type\":\"Plot\"},{\"attributes\":{\"plot\":{\"id\":\"04dae763-3837-4d51-bbdf-0e36dae22208\",\"subtype\":\"Figure\",\"type\":\"Plot\"},\"ticker\":{\"id\":\"5b1b5064-5897-40da-ad2e-5fcfa4d5e9ec\",\"type\":\"BasicTicker\"}},\"id\":\"b71368bd-4d28-4736-919f-7ef2fbfdf200\",\"type\":\"Grid\"},{\"attributes\":{},\"id\":\"8d565d5d-15f3-4037-af6e-8c3ef8ae3ebe\",\"type\":\"LinearScale\"},{\"attributes\":{\"dimension\":1,\"plot\":{\"id\":\"04dae763-3837-4d51-bbdf-0e36dae22208\",\"subtype\":\"Figure\",\"type\":\"Plot\"},\"ticker\":{\"id\":\"a8d66118-c295-4aa5-84e8-c2ff3e72fe52\",\"type\":\"BasicTicker\"}},\"id\":\"3e9f0511-0d86-45c9-a67b-9506a9904771\",\"type\":\"Grid\"},{\"attributes\":{\"callback\":null},\"id\":\"c9f15b26-2d7b-49fa-88d3-8782e7d7ae35\",\"type\":\"DataRange1d\"},{\"attributes\":{\"plot\":null,\"text\":\"\"},\"id\":\"9cd640c3-fe52-4d10-a2a7-74f047534eea\",\"type\":\"Title\"}],\"root_ids\":[\"04dae763-3837-4d51-bbdf-0e36dae22208\"]},\"title\":\"Bokeh Application\",\"version\":\"0.12.16\"}};\n",
       "  var render_items = [{\"docid\":\"62c7485e-89fe-44c4-ac4d-996aff2f1956\",\"elementid\":\"31580846-66f6-45d2-8545-bb17b4fe330c\",\"modelid\":\"04dae763-3837-4d51-bbdf-0e36dae22208\"}];\n",
       "  root.Bokeh.embed.embed_items_notebook(docs_json, render_items);\n",
       "\n",
       "  }\n",
       "  if (root.Bokeh !== undefined) {\n",
       "    embed_document(root);\n",
       "  } else {\n",
       "    var attempts = 0;\n",
       "    var timer = setInterval(function(root) {\n",
       "      if (root.Bokeh !== undefined) {\n",
       "        embed_document(root);\n",
       "        clearInterval(timer);\n",
       "      }\n",
       "      attempts++;\n",
       "      if (attempts > 100) {\n",
       "        console.log(\"Bokeh: ERROR: Unable to run BokehJS code because BokehJS library is missing\")\n",
       "        clearInterval(timer);\n",
       "      }\n",
       "    }, 10, root)\n",
       "  }\n",
       "})(window);"
      ],
      "application/vnd.bokehjs_exec.v0+json": ""
     },
     "metadata": {
      "application/vnd.bokehjs_exec.v0+json": {
       "id": "04dae763-3837-4d51-bbdf-0e36dae22208"
      }
     },
     "output_type": "display_data"
    }
   ],
   "source": [
    "p = figure(plot_width=400, plot_height=400)\n",
    "\n",
    "# Notice the similarity with lines\n",
    "p.patches([[1, 3, 2], [3, 4, 6, 6]], [[2, 1, 4], [4, 7, 8, 5]],\n",
    "          color=[\"firebrick\", \"navy\"], alpha=[0.8, 0.3], line_width=2)\n",
    "\n",
    "show(p)"
   ]
  },
  {
   "cell_type": "markdown",
   "metadata": {},
   "source": [
    "Finally, ellipses:"
   ]
  },
  {
   "cell_type": "code",
   "execution_count": 31,
   "metadata": {},
   "outputs": [
    {
     "data": {
      "text/html": [
       "\n",
       "<div class=\"bk-root\">\n",
       "    <div class=\"bk-plotdiv\" id=\"1b859cfc-2776-40dd-893d-7529af514b76\"></div>\n",
       "</div>"
      ]
     },
     "metadata": {},
     "output_type": "display_data"
    },
    {
     "data": {
      "application/javascript": [
       "(function(root) {\n",
       "  function embed_document(root) {\n",
       "    \n",
       "  var docs_json = {\"b108e813-76b0-4c06-a897-b7a337724405\":{\"roots\":{\"references\":[{\"attributes\":{\"formatter\":{\"id\":\"c080ba2c-cccc-4aa2-adb2-e17a8cc82fa6\",\"type\":\"BasicTickFormatter\"},\"plot\":{\"id\":\"d771eb29-77f7-4fa2-bd45-40971d1dbde2\",\"subtype\":\"Figure\",\"type\":\"Plot\"},\"ticker\":{\"id\":\"3b0889a9-005d-4cb3-b15a-1db343f1e4d2\",\"type\":\"BasicTicker\"}},\"id\":\"63479116-24a6-41f5-a32b-08be9d3406fd\",\"type\":\"LinearAxis\"},{\"attributes\":{\"plot\":{\"id\":\"d771eb29-77f7-4fa2-bd45-40971d1dbde2\",\"subtype\":\"Figure\",\"type\":\"Plot\"},\"ticker\":{\"id\":\"a7990950-216a-4093-b587-f4e5374ac02b\",\"type\":\"BasicTicker\"}},\"id\":\"e40b65e9-09a5-4141-b40f-80d275eb0585\",\"type\":\"Grid\"},{\"attributes\":{\"formatter\":{\"id\":\"8fd824ad-e42f-41cf-bf7c-14433939bf48\",\"type\":\"BasicTickFormatter\"},\"plot\":{\"id\":\"d771eb29-77f7-4fa2-bd45-40971d1dbde2\",\"subtype\":\"Figure\",\"type\":\"Plot\"},\"ticker\":{\"id\":\"a7990950-216a-4093-b587-f4e5374ac02b\",\"type\":\"BasicTicker\"}},\"id\":\"15aa07ff-6f54-4c76-9708-89fcd8bd2b99\",\"type\":\"LinearAxis\"},{\"attributes\":{},\"id\":\"56a1bf1a-50da-4f8d-907a-2fb31c3bf2f4\",\"type\":\"LinearScale\"},{\"attributes\":{\"bottom_units\":\"screen\",\"fill_alpha\":{\"value\":0.5},\"fill_color\":{\"value\":\"lightgrey\"},\"left_units\":\"screen\",\"level\":\"overlay\",\"line_alpha\":{\"value\":1.0},\"line_color\":{\"value\":\"black\"},\"line_dash\":[4,4],\"line_width\":{\"value\":2},\"plot\":null,\"render_mode\":\"css\",\"right_units\":\"screen\",\"top_units\":\"screen\"},\"id\":\"3d816ab8-256f-40fc-ba28-53309021ea6f\",\"type\":\"BoxAnnotation\"},{\"attributes\":{\"callback\":null,\"data\":{\"x\":[1,2,3],\"y\":[1,2,3]},\"selected\":{\"id\":\"b3465d77-f0bd-4885-9e95-1455ff519efc\",\"type\":\"Selection\"},\"selection_policy\":{\"id\":\"206325d6-4ca8-402a-8bab-305aa7ff001a\",\"type\":\"UnionRenderers\"}},\"id\":\"94362ebd-a957-4cab-8a0e-7e8417a511ba\",\"type\":\"ColumnDataSource\"},{\"attributes\":{\"below\":[{\"id\":\"15aa07ff-6f54-4c76-9708-89fcd8bd2b99\",\"type\":\"LinearAxis\"}],\"left\":[{\"id\":\"63479116-24a6-41f5-a32b-08be9d3406fd\",\"type\":\"LinearAxis\"}],\"plot_height\":400,\"plot_width\":400,\"renderers\":[{\"id\":\"15aa07ff-6f54-4c76-9708-89fcd8bd2b99\",\"type\":\"LinearAxis\"},{\"id\":\"e40b65e9-09a5-4141-b40f-80d275eb0585\",\"type\":\"Grid\"},{\"id\":\"63479116-24a6-41f5-a32b-08be9d3406fd\",\"type\":\"LinearAxis\"},{\"id\":\"b630cfea-93c0-4deb-8fcd-f3cec33ea120\",\"type\":\"Grid\"},{\"id\":\"3d816ab8-256f-40fc-ba28-53309021ea6f\",\"type\":\"BoxAnnotation\"},{\"id\":\"c65ed23b-738f-4e01-9131-e4916dca3f3f\",\"type\":\"GlyphRenderer\"}],\"title\":{\"id\":\"d570e19b-e926-410d-bbe1-2acce7e5cf2f\",\"type\":\"Title\"},\"toolbar\":{\"id\":\"099b0a6c-185f-47cf-a23c-0b748c66deac\",\"type\":\"Toolbar\"},\"x_range\":{\"id\":\"38bdba80-cc17-4c84-b658-f9425f8fd77c\",\"type\":\"DataRange1d\"},\"x_scale\":{\"id\":\"56a1bf1a-50da-4f8d-907a-2fb31c3bf2f4\",\"type\":\"LinearScale\"},\"y_range\":{\"id\":\"80f3e461-f74b-4e74-891b-0ffdefd4b0bb\",\"type\":\"DataRange1d\"},\"y_scale\":{\"id\":\"548a64ef-625f-428a-89b8-42f4462414a6\",\"type\":\"LinearScale\"}},\"id\":\"d771eb29-77f7-4fa2-bd45-40971d1dbde2\",\"subtype\":\"Figure\",\"type\":\"Plot\"},{\"attributes\":{},\"id\":\"a7990950-216a-4093-b587-f4e5374ac02b\",\"type\":\"BasicTicker\"},{\"attributes\":{},\"id\":\"c080ba2c-cccc-4aa2-adb2-e17a8cc82fa6\",\"type\":\"BasicTickFormatter\"},{\"attributes\":{\"data_source\":{\"id\":\"94362ebd-a957-4cab-8a0e-7e8417a511ba\",\"type\":\"ColumnDataSource\"},\"glyph\":{\"id\":\"6cd6f7d8-b289-4c50-a502-1cc2eb6fea32\",\"type\":\"Oval\"},\"hover_glyph\":null,\"muted_glyph\":null,\"nonselection_glyph\":{\"id\":\"e141c40e-8f0a-42fb-aa7e-aa4fb26dad99\",\"type\":\"Oval\"},\"selection_glyph\":null,\"view\":{\"id\":\"3bf77036-03f5-4943-a374-d857410ca354\",\"type\":\"CDSView\"}},\"id\":\"c65ed23b-738f-4e01-9131-e4916dca3f3f\",\"type\":\"GlyphRenderer\"},{\"attributes\":{},\"id\":\"016b9bf5-629e-4b58-ac7d-bb6073d5de87\",\"type\":\"PanTool\"},{\"attributes\":{\"plot\":null,\"text\":\"\"},\"id\":\"d570e19b-e926-410d-bbe1-2acce7e5cf2f\",\"type\":\"Title\"},{\"attributes\":{\"active_drag\":\"auto\",\"active_inspect\":\"auto\",\"active_scroll\":\"auto\",\"active_tap\":\"auto\",\"tools\":[{\"id\":\"016b9bf5-629e-4b58-ac7d-bb6073d5de87\",\"type\":\"PanTool\"},{\"id\":\"f4512dcd-2991-481a-9afc-a6e243ed5d34\",\"type\":\"WheelZoomTool\"},{\"id\":\"7bb6328e-23ec-499f-9d14-59abc9e80b24\",\"type\":\"BoxZoomTool\"},{\"id\":\"c0c0fe5e-2bab-4076-89e7-805f12986f63\",\"type\":\"SaveTool\"},{\"id\":\"0751de2c-69ee-46d4-8a29-504f462b95fb\",\"type\":\"ResetTool\"},{\"id\":\"f4db5b50-f9b6-43d2-81e9-36d7c9ac315e\",\"type\":\"HelpTool\"}]},\"id\":\"099b0a6c-185f-47cf-a23c-0b748c66deac\",\"type\":\"Toolbar\"},{\"attributes\":{},\"id\":\"b3465d77-f0bd-4885-9e95-1455ff519efc\",\"type\":\"Selection\"},{\"attributes\":{\"overlay\":{\"id\":\"3d816ab8-256f-40fc-ba28-53309021ea6f\",\"type\":\"BoxAnnotation\"}},\"id\":\"7bb6328e-23ec-499f-9d14-59abc9e80b24\",\"type\":\"BoxZoomTool\"},{\"attributes\":{},\"id\":\"0751de2c-69ee-46d4-8a29-504f462b95fb\",\"type\":\"ResetTool\"},{\"attributes\":{},\"id\":\"8fd824ad-e42f-41cf-bf7c-14433939bf48\",\"type\":\"BasicTickFormatter\"},{\"attributes\":{},\"id\":\"3b0889a9-005d-4cb3-b15a-1db343f1e4d2\",\"type\":\"BasicTicker\"},{\"attributes\":{\"angle\":{\"units\":\"rad\",\"value\":1.0471975511965976},\"fill_alpha\":{\"value\":0.1},\"fill_color\":{\"value\":\"#1f77b4\"},\"height\":{\"units\":\"screen\",\"value\":40},\"line_alpha\":{\"value\":0.1},\"line_color\":{\"value\":\"#1f77b4\"},\"width\":{\"units\":\"data\",\"value\":0.2},\"x\":{\"field\":\"x\"},\"y\":{\"field\":\"y\"}},\"id\":\"e141c40e-8f0a-42fb-aa7e-aa4fb26dad99\",\"type\":\"Oval\"},{\"attributes\":{},\"id\":\"f4512dcd-2991-481a-9afc-a6e243ed5d34\",\"type\":\"WheelZoomTool\"},{\"attributes\":{},\"id\":\"206325d6-4ca8-402a-8bab-305aa7ff001a\",\"type\":\"UnionRenderers\"},{\"attributes\":{},\"id\":\"548a64ef-625f-428a-89b8-42f4462414a6\",\"type\":\"LinearScale\"},{\"attributes\":{\"source\":{\"id\":\"94362ebd-a957-4cab-8a0e-7e8417a511ba\",\"type\":\"ColumnDataSource\"}},\"id\":\"3bf77036-03f5-4943-a374-d857410ca354\",\"type\":\"CDSView\"},{\"attributes\":{},\"id\":\"c0c0fe5e-2bab-4076-89e7-805f12986f63\",\"type\":\"SaveTool\"},{\"attributes\":{\"callback\":null},\"id\":\"80f3e461-f74b-4e74-891b-0ffdefd4b0bb\",\"type\":\"DataRange1d\"},{\"attributes\":{},\"id\":\"f4db5b50-f9b6-43d2-81e9-36d7c9ac315e\",\"type\":\"HelpTool\"},{\"attributes\":{\"angle\":{\"units\":\"rad\",\"value\":1.0471975511965976},\"fill_color\":{\"value\":\"#CAB2D6\"},\"height\":{\"units\":\"screen\",\"value\":40},\"line_color\":{\"value\":\"#CAB2D6\"},\"width\":{\"units\":\"data\",\"value\":0.2},\"x\":{\"field\":\"x\"},\"y\":{\"field\":\"y\"}},\"id\":\"6cd6f7d8-b289-4c50-a502-1cc2eb6fea32\",\"type\":\"Oval\"},{\"attributes\":{\"dimension\":1,\"plot\":{\"id\":\"d771eb29-77f7-4fa2-bd45-40971d1dbde2\",\"subtype\":\"Figure\",\"type\":\"Plot\"},\"ticker\":{\"id\":\"3b0889a9-005d-4cb3-b15a-1db343f1e4d2\",\"type\":\"BasicTicker\"}},\"id\":\"b630cfea-93c0-4deb-8fcd-f3cec33ea120\",\"type\":\"Grid\"},{\"attributes\":{\"callback\":null},\"id\":\"38bdba80-cc17-4c84-b658-f9425f8fd77c\",\"type\":\"DataRange1d\"}],\"root_ids\":[\"d771eb29-77f7-4fa2-bd45-40971d1dbde2\"]},\"title\":\"Bokeh Application\",\"version\":\"0.12.16\"}};\n",
       "  var render_items = [{\"docid\":\"b108e813-76b0-4c06-a897-b7a337724405\",\"elementid\":\"1b859cfc-2776-40dd-893d-7529af514b76\",\"modelid\":\"d771eb29-77f7-4fa2-bd45-40971d1dbde2\"}];\n",
       "  root.Bokeh.embed.embed_items_notebook(docs_json, render_items);\n",
       "\n",
       "  }\n",
       "  if (root.Bokeh !== undefined) {\n",
       "    embed_document(root);\n",
       "  } else {\n",
       "    var attempts = 0;\n",
       "    var timer = setInterval(function(root) {\n",
       "      if (root.Bokeh !== undefined) {\n",
       "        embed_document(root);\n",
       "        clearInterval(timer);\n",
       "      }\n",
       "      attempts++;\n",
       "      if (attempts > 100) {\n",
       "        console.log(\"Bokeh: ERROR: Unable to run BokehJS code because BokehJS library is missing\")\n",
       "        clearInterval(timer);\n",
       "      }\n",
       "    }, 10, root)\n",
       "  }\n",
       "})(window);"
      ],
      "application/vnd.bokehjs_exec.v0+json": ""
     },
     "metadata": {
      "application/vnd.bokehjs_exec.v0+json": {
       "id": "d771eb29-77f7-4fa2-bd45-40971d1dbde2"
      }
     },
     "output_type": "display_data"
    }
   ],
   "source": [
    "p = figure(plot_width=400, plot_height=400)\n",
    "p.oval(x=[1, 2, 3], y=[1, 2, 3], width=0.2, height=40, color=\"#CAB2D6\",\n",
    "       angle=np.pi/3, height_units=\"screen\")\n",
    "\n",
    "show(p)"
   ]
  },
  {
   "cell_type": "markdown",
   "metadata": {},
   "source": [
    "**Grid Plots**"
   ]
  },
  {
   "cell_type": "code",
   "execution_count": 34,
   "metadata": {},
   "outputs": [
    {
     "data": {
      "text/html": [
       "\n",
       "    <div class=\"bk-root\">\n",
       "        <a href=\"https://bokeh.pydata.org\" target=\"_blank\" class=\"bk-logo bk-logo-small bk-logo-notebook\"></a>\n",
       "        <span id=\"4cae8c59-4ad9-475f-854e-7739c5996d3f\">Loading BokehJS ...</span>\n",
       "    </div>"
      ]
     },
     "metadata": {},
     "output_type": "display_data"
    },
    {
     "data": {
      "application/javascript": [
       "\n",
       "(function(root) {\n",
       "  function now() {\n",
       "    return new Date();\n",
       "  }\n",
       "\n",
       "  var force = true;\n",
       "\n",
       "  if (typeof (root._bokeh_onload_callbacks) === \"undefined\" || force === true) {\n",
       "    root._bokeh_onload_callbacks = [];\n",
       "    root._bokeh_is_loading = undefined;\n",
       "  }\n",
       "\n",
       "  var JS_MIME_TYPE = 'application/javascript';\n",
       "  var HTML_MIME_TYPE = 'text/html';\n",
       "  var EXEC_MIME_TYPE = 'application/vnd.bokehjs_exec.v0+json';\n",
       "  var CLASS_NAME = 'output_bokeh rendered_html';\n",
       "\n",
       "  /**\n",
       "   * Render data to the DOM node\n",
       "   */\n",
       "  function render(props, node) {\n",
       "    var script = document.createElement(\"script\");\n",
       "    node.appendChild(script);\n",
       "  }\n",
       "\n",
       "  /**\n",
       "   * Handle when an output is cleared or removed\n",
       "   */\n",
       "  function handleClearOutput(event, handle) {\n",
       "    var cell = handle.cell;\n",
       "\n",
       "    var id = cell.output_area._bokeh_element_id;\n",
       "    var server_id = cell.output_area._bokeh_server_id;\n",
       "    // Clean up Bokeh references\n",
       "    if (id !== undefined) {\n",
       "      Bokeh.index[id].model.document.clear();\n",
       "      delete Bokeh.index[id];\n",
       "    }\n",
       "\n",
       "    if (server_id !== undefined) {\n",
       "      // Clean up Bokeh references\n",
       "      var cmd = \"from bokeh.io.state import curstate; print(curstate().uuid_to_server['\" + server_id + \"'].get_sessions()[0].document.roots[0]._id)\";\n",
       "      cell.notebook.kernel.execute(cmd, {\n",
       "        iopub: {\n",
       "          output: function(msg) {\n",
       "            var element_id = msg.content.text.trim();\n",
       "            Bokeh.index[element_id].model.document.clear();\n",
       "            delete Bokeh.index[element_id];\n",
       "          }\n",
       "        }\n",
       "      });\n",
       "      // Destroy server and session\n",
       "      var cmd = \"import bokeh.io.notebook as ion; ion.destroy_server('\" + server_id + \"')\";\n",
       "      cell.notebook.kernel.execute(cmd);\n",
       "    }\n",
       "  }\n",
       "\n",
       "  /**\n",
       "   * Handle when a new output is added\n",
       "   */\n",
       "  function handleAddOutput(event, handle) {\n",
       "    var output_area = handle.output_area;\n",
       "    var output = handle.output;\n",
       "\n",
       "    // limit handleAddOutput to display_data with EXEC_MIME_TYPE content only\n",
       "    if ((output.output_type != \"display_data\") || (!output.data.hasOwnProperty(EXEC_MIME_TYPE))) {\n",
       "      return\n",
       "    }\n",
       "\n",
       "    var toinsert = output_area.element.find(\".\" + CLASS_NAME.split(' ')[0]);\n",
       "\n",
       "    if (output.metadata[EXEC_MIME_TYPE][\"id\"] !== undefined) {\n",
       "      toinsert[toinsert.length - 1].firstChild.textContent = output.data[JS_MIME_TYPE];\n",
       "      // store reference to embed id on output_area\n",
       "      output_area._bokeh_element_id = output.metadata[EXEC_MIME_TYPE][\"id\"];\n",
       "    }\n",
       "    if (output.metadata[EXEC_MIME_TYPE][\"server_id\"] !== undefined) {\n",
       "      var bk_div = document.createElement(\"div\");\n",
       "      bk_div.innerHTML = output.data[HTML_MIME_TYPE];\n",
       "      var script_attrs = bk_div.children[0].attributes;\n",
       "      for (var i = 0; i < script_attrs.length; i++) {\n",
       "        toinsert[toinsert.length - 1].firstChild.setAttribute(script_attrs[i].name, script_attrs[i].value);\n",
       "      }\n",
       "      // store reference to server id on output_area\n",
       "      output_area._bokeh_server_id = output.metadata[EXEC_MIME_TYPE][\"server_id\"];\n",
       "    }\n",
       "  }\n",
       "\n",
       "  function register_renderer(events, OutputArea) {\n",
       "\n",
       "    function append_mime(data, metadata, element) {\n",
       "      // create a DOM node to render to\n",
       "      var toinsert = this.create_output_subarea(\n",
       "        metadata,\n",
       "        CLASS_NAME,\n",
       "        EXEC_MIME_TYPE\n",
       "      );\n",
       "      this.keyboard_manager.register_events(toinsert);\n",
       "      // Render to node\n",
       "      var props = {data: data, metadata: metadata[EXEC_MIME_TYPE]};\n",
       "      render(props, toinsert[toinsert.length - 1]);\n",
       "      element.append(toinsert);\n",
       "      return toinsert\n",
       "    }\n",
       "\n",
       "    /* Handle when an output is cleared or removed */\n",
       "    events.on('clear_output.CodeCell', handleClearOutput);\n",
       "    events.on('delete.Cell', handleClearOutput);\n",
       "\n",
       "    /* Handle when a new output is added */\n",
       "    events.on('output_added.OutputArea', handleAddOutput);\n",
       "\n",
       "    /**\n",
       "     * Register the mime type and append_mime function with output_area\n",
       "     */\n",
       "    OutputArea.prototype.register_mime_type(EXEC_MIME_TYPE, append_mime, {\n",
       "      /* Is output safe? */\n",
       "      safe: true,\n",
       "      /* Index of renderer in `output_area.display_order` */\n",
       "      index: 0\n",
       "    });\n",
       "  }\n",
       "\n",
       "  // register the mime type if in Jupyter Notebook environment and previously unregistered\n",
       "  if (root.Jupyter !== undefined) {\n",
       "    var events = require('base/js/events');\n",
       "    var OutputArea = require('notebook/js/outputarea').OutputArea;\n",
       "\n",
       "    if (OutputArea.prototype.mime_types().indexOf(EXEC_MIME_TYPE) == -1) {\n",
       "      register_renderer(events, OutputArea);\n",
       "    }\n",
       "  }\n",
       "\n",
       "  \n",
       "  if (typeof (root._bokeh_timeout) === \"undefined\" || force === true) {\n",
       "    root._bokeh_timeout = Date.now() + 5000;\n",
       "    root._bokeh_failed_load = false;\n",
       "  }\n",
       "\n",
       "  var NB_LOAD_WARNING = {'data': {'text/html':\n",
       "     \"<div style='background-color: #fdd'>\\n\"+\n",
       "     \"<p>\\n\"+\n",
       "     \"BokehJS does not appear to have successfully loaded. If loading BokehJS from CDN, this \\n\"+\n",
       "     \"may be due to a slow or bad network connection. Possible fixes:\\n\"+\n",
       "     \"</p>\\n\"+\n",
       "     \"<ul>\\n\"+\n",
       "     \"<li>re-rerun `output_notebook()` to attempt to load from CDN again, or</li>\\n\"+\n",
       "     \"<li>use INLINE resources instead, as so:</li>\\n\"+\n",
       "     \"</ul>\\n\"+\n",
       "     \"<code>\\n\"+\n",
       "     \"from bokeh.resources import INLINE\\n\"+\n",
       "     \"output_notebook(resources=INLINE)\\n\"+\n",
       "     \"</code>\\n\"+\n",
       "     \"</div>\"}};\n",
       "\n",
       "  function display_loaded() {\n",
       "    var el = document.getElementById(\"4cae8c59-4ad9-475f-854e-7739c5996d3f\");\n",
       "    if (el != null) {\n",
       "      el.textContent = \"BokehJS is loading...\";\n",
       "    }\n",
       "    if (root.Bokeh !== undefined) {\n",
       "      if (el != null) {\n",
       "        el.textContent = \"BokehJS \" + root.Bokeh.version + \" successfully loaded.\";\n",
       "      }\n",
       "    } else if (Date.now() < root._bokeh_timeout) {\n",
       "      setTimeout(display_loaded, 100)\n",
       "    }\n",
       "  }\n",
       "\n",
       "\n",
       "  function run_callbacks() {\n",
       "    try {\n",
       "      root._bokeh_onload_callbacks.forEach(function(callback) { callback() });\n",
       "    }\n",
       "    finally {\n",
       "      delete root._bokeh_onload_callbacks\n",
       "    }\n",
       "    console.info(\"Bokeh: all callbacks have finished\");\n",
       "  }\n",
       "\n",
       "  function load_libs(js_urls, callback) {\n",
       "    root._bokeh_onload_callbacks.push(callback);\n",
       "    if (root._bokeh_is_loading > 0) {\n",
       "      console.log(\"Bokeh: BokehJS is being loaded, scheduling callback at\", now());\n",
       "      return null;\n",
       "    }\n",
       "    if (js_urls == null || js_urls.length === 0) {\n",
       "      run_callbacks();\n",
       "      return null;\n",
       "    }\n",
       "    console.log(\"Bokeh: BokehJS not loaded, scheduling load and callback at\", now());\n",
       "    root._bokeh_is_loading = js_urls.length;\n",
       "    for (var i = 0; i < js_urls.length; i++) {\n",
       "      var url = js_urls[i];\n",
       "      var s = document.createElement('script');\n",
       "      s.src = url;\n",
       "      s.async = false;\n",
       "      s.onreadystatechange = s.onload = function() {\n",
       "        root._bokeh_is_loading--;\n",
       "        if (root._bokeh_is_loading === 0) {\n",
       "          console.log(\"Bokeh: all BokehJS libraries loaded\");\n",
       "          run_callbacks()\n",
       "        }\n",
       "      };\n",
       "      s.onerror = function() {\n",
       "        console.warn(\"failed to load library \" + url);\n",
       "      };\n",
       "      console.log(\"Bokeh: injecting script tag for BokehJS library: \", url);\n",
       "      document.getElementsByTagName(\"head\")[0].appendChild(s);\n",
       "    }\n",
       "  };var element = document.getElementById(\"4cae8c59-4ad9-475f-854e-7739c5996d3f\");\n",
       "  if (element == null) {\n",
       "    console.log(\"Bokeh: ERROR: autoload.js configured with elementid '4cae8c59-4ad9-475f-854e-7739c5996d3f' but no matching script tag was found. \")\n",
       "    return false;\n",
       "  }\n",
       "\n",
       "  var js_urls = [\"https://cdn.pydata.org/bokeh/release/bokeh-0.12.16.min.js\", \"https://cdn.pydata.org/bokeh/release/bokeh-widgets-0.12.16.min.js\", \"https://cdn.pydata.org/bokeh/release/bokeh-tables-0.12.16.min.js\", \"https://cdn.pydata.org/bokeh/release/bokeh-gl-0.12.16.min.js\"];\n",
       "\n",
       "  var inline_js = [\n",
       "    function(Bokeh) {\n",
       "      Bokeh.set_log_level(\"info\");\n",
       "    },\n",
       "    \n",
       "    function(Bokeh) {\n",
       "      \n",
       "    },\n",
       "    function(Bokeh) {\n",
       "      console.log(\"Bokeh: injecting CSS: https://cdn.pydata.org/bokeh/release/bokeh-0.12.16.min.css\");\n",
       "      Bokeh.embed.inject_css(\"https://cdn.pydata.org/bokeh/release/bokeh-0.12.16.min.css\");\n",
       "      console.log(\"Bokeh: injecting CSS: https://cdn.pydata.org/bokeh/release/bokeh-widgets-0.12.16.min.css\");\n",
       "      Bokeh.embed.inject_css(\"https://cdn.pydata.org/bokeh/release/bokeh-widgets-0.12.16.min.css\");\n",
       "      console.log(\"Bokeh: injecting CSS: https://cdn.pydata.org/bokeh/release/bokeh-tables-0.12.16.min.css\");\n",
       "      Bokeh.embed.inject_css(\"https://cdn.pydata.org/bokeh/release/bokeh-tables-0.12.16.min.css\");\n",
       "    }\n",
       "  ];\n",
       "\n",
       "  function run_inline_js() {\n",
       "    \n",
       "    if ((root.Bokeh !== undefined) || (force === true)) {\n",
       "      for (var i = 0; i < inline_js.length; i++) {\n",
       "        inline_js[i].call(root, root.Bokeh);\n",
       "      }if (force === true) {\n",
       "        display_loaded();\n",
       "      }} else if (Date.now() < root._bokeh_timeout) {\n",
       "      setTimeout(run_inline_js, 100);\n",
       "    } else if (!root._bokeh_failed_load) {\n",
       "      console.log(\"Bokeh: BokehJS failed to load within specified timeout.\");\n",
       "      root._bokeh_failed_load = true;\n",
       "    } else if (force !== true) {\n",
       "      var cell = $(document.getElementById(\"4cae8c59-4ad9-475f-854e-7739c5996d3f\")).parents('.cell').data().cell;\n",
       "      cell.output_area.append_execute_result(NB_LOAD_WARNING)\n",
       "    }\n",
       "\n",
       "  }\n",
       "\n",
       "  if (root._bokeh_is_loading === 0) {\n",
       "    console.log(\"Bokeh: BokehJS loaded, going straight to plotting\");\n",
       "    run_inline_js();\n",
       "  } else {\n",
       "    load_libs(js_urls, function() {\n",
       "      console.log(\"Bokeh: BokehJS plotting callback run at\", now());\n",
       "      run_inline_js();\n",
       "    });\n",
       "  }\n",
       "}(window));"
      ],
      "application/vnd.bokehjs_load.v0+json": "\n(function(root) {\n  function now() {\n    return new Date();\n  }\n\n  var force = true;\n\n  if (typeof (root._bokeh_onload_callbacks) === \"undefined\" || force === true) {\n    root._bokeh_onload_callbacks = [];\n    root._bokeh_is_loading = undefined;\n  }\n\n  \n\n  \n  if (typeof (root._bokeh_timeout) === \"undefined\" || force === true) {\n    root._bokeh_timeout = Date.now() + 5000;\n    root._bokeh_failed_load = false;\n  }\n\n  var NB_LOAD_WARNING = {'data': {'text/html':\n     \"<div style='background-color: #fdd'>\\n\"+\n     \"<p>\\n\"+\n     \"BokehJS does not appear to have successfully loaded. If loading BokehJS from CDN, this \\n\"+\n     \"may be due to a slow or bad network connection. Possible fixes:\\n\"+\n     \"</p>\\n\"+\n     \"<ul>\\n\"+\n     \"<li>re-rerun `output_notebook()` to attempt to load from CDN again, or</li>\\n\"+\n     \"<li>use INLINE resources instead, as so:</li>\\n\"+\n     \"</ul>\\n\"+\n     \"<code>\\n\"+\n     \"from bokeh.resources import INLINE\\n\"+\n     \"output_notebook(resources=INLINE)\\n\"+\n     \"</code>\\n\"+\n     \"</div>\"}};\n\n  function display_loaded() {\n    var el = document.getElementById(\"4cae8c59-4ad9-475f-854e-7739c5996d3f\");\n    if (el != null) {\n      el.textContent = \"BokehJS is loading...\";\n    }\n    if (root.Bokeh !== undefined) {\n      if (el != null) {\n        el.textContent = \"BokehJS \" + root.Bokeh.version + \" successfully loaded.\";\n      }\n    } else if (Date.now() < root._bokeh_timeout) {\n      setTimeout(display_loaded, 100)\n    }\n  }\n\n\n  function run_callbacks() {\n    try {\n      root._bokeh_onload_callbacks.forEach(function(callback) { callback() });\n    }\n    finally {\n      delete root._bokeh_onload_callbacks\n    }\n    console.info(\"Bokeh: all callbacks have finished\");\n  }\n\n  function load_libs(js_urls, callback) {\n    root._bokeh_onload_callbacks.push(callback);\n    if (root._bokeh_is_loading > 0) {\n      console.log(\"Bokeh: BokehJS is being loaded, scheduling callback at\", now());\n      return null;\n    }\n    if (js_urls == null || js_urls.length === 0) {\n      run_callbacks();\n      return null;\n    }\n    console.log(\"Bokeh: BokehJS not loaded, scheduling load and callback at\", now());\n    root._bokeh_is_loading = js_urls.length;\n    for (var i = 0; i < js_urls.length; i++) {\n      var url = js_urls[i];\n      var s = document.createElement('script');\n      s.src = url;\n      s.async = false;\n      s.onreadystatechange = s.onload = function() {\n        root._bokeh_is_loading--;\n        if (root._bokeh_is_loading === 0) {\n          console.log(\"Bokeh: all BokehJS libraries loaded\");\n          run_callbacks()\n        }\n      };\n      s.onerror = function() {\n        console.warn(\"failed to load library \" + url);\n      };\n      console.log(\"Bokeh: injecting script tag for BokehJS library: \", url);\n      document.getElementsByTagName(\"head\")[0].appendChild(s);\n    }\n  };var element = document.getElementById(\"4cae8c59-4ad9-475f-854e-7739c5996d3f\");\n  if (element == null) {\n    console.log(\"Bokeh: ERROR: autoload.js configured with elementid '4cae8c59-4ad9-475f-854e-7739c5996d3f' but no matching script tag was found. \")\n    return false;\n  }\n\n  var js_urls = [\"https://cdn.pydata.org/bokeh/release/bokeh-0.12.16.min.js\", \"https://cdn.pydata.org/bokeh/release/bokeh-widgets-0.12.16.min.js\", \"https://cdn.pydata.org/bokeh/release/bokeh-tables-0.12.16.min.js\", \"https://cdn.pydata.org/bokeh/release/bokeh-gl-0.12.16.min.js\"];\n\n  var inline_js = [\n    function(Bokeh) {\n      Bokeh.set_log_level(\"info\");\n    },\n    \n    function(Bokeh) {\n      \n    },\n    function(Bokeh) {\n      console.log(\"Bokeh: injecting CSS: https://cdn.pydata.org/bokeh/release/bokeh-0.12.16.min.css\");\n      Bokeh.embed.inject_css(\"https://cdn.pydata.org/bokeh/release/bokeh-0.12.16.min.css\");\n      console.log(\"Bokeh: injecting CSS: https://cdn.pydata.org/bokeh/release/bokeh-widgets-0.12.16.min.css\");\n      Bokeh.embed.inject_css(\"https://cdn.pydata.org/bokeh/release/bokeh-widgets-0.12.16.min.css\");\n      console.log(\"Bokeh: injecting CSS: https://cdn.pydata.org/bokeh/release/bokeh-tables-0.12.16.min.css\");\n      Bokeh.embed.inject_css(\"https://cdn.pydata.org/bokeh/release/bokeh-tables-0.12.16.min.css\");\n    }\n  ];\n\n  function run_inline_js() {\n    \n    if ((root.Bokeh !== undefined) || (force === true)) {\n      for (var i = 0; i < inline_js.length; i++) {\n        inline_js[i].call(root, root.Bokeh);\n      }if (force === true) {\n        display_loaded();\n      }} else if (Date.now() < root._bokeh_timeout) {\n      setTimeout(run_inline_js, 100);\n    } else if (!root._bokeh_failed_load) {\n      console.log(\"Bokeh: BokehJS failed to load within specified timeout.\");\n      root._bokeh_failed_load = true;\n    } else if (force !== true) {\n      var cell = $(document.getElementById(\"4cae8c59-4ad9-475f-854e-7739c5996d3f\")).parents('.cell').data().cell;\n      cell.output_area.append_execute_result(NB_LOAD_WARNING)\n    }\n\n  }\n\n  if (root._bokeh_is_loading === 0) {\n    console.log(\"Bokeh: BokehJS loaded, going straight to plotting\");\n    run_inline_js();\n  } else {\n    load_libs(js_urls, function() {\n      console.log(\"Bokeh: BokehJS plotting callback run at\", now());\n      run_inline_js();\n    });\n  }\n}(window));"
     },
     "metadata": {},
     "output_type": "display_data"
    },
    {
     "data": {
      "text/html": [
       "\n",
       "<div class=\"bk-root\">\n",
       "    <div class=\"bk-plotdiv\" id=\"39918a36-9536-491f-a246-a5cc79e627b6\"></div>\n",
       "</div>"
      ]
     },
     "metadata": {},
     "output_type": "display_data"
    },
    {
     "data": {
      "application/javascript": [
       "(function(root) {\n",
       "  function embed_document(root) {\n",
       "    \n",
       "  var docs_json = {\"798708d4-41b2-4587-976b-ff5d916fb1f1\":{\"roots\":{\"references\":[{\"attributes\":{\"bottom_units\":\"screen\",\"fill_alpha\":{\"value\":0.5},\"fill_color\":{\"value\":\"lightgrey\"},\"left_units\":\"screen\",\"level\":\"overlay\",\"line_alpha\":{\"value\":1.0},\"line_color\":{\"value\":\"black\"},\"line_dash\":[4,4],\"line_width\":{\"value\":2},\"plot\":null,\"render_mode\":\"css\",\"right_units\":\"screen\",\"top_units\":\"screen\"},\"id\":\"77217224-b795-477b-8b11-b09b660bf527\",\"type\":\"BoxAnnotation\"},{\"attributes\":{},\"id\":\"8ea5cb66-bcf7-4099-9699-d75ce76927f5\",\"type\":\"PanTool\"},{\"attributes\":{},\"id\":\"1f85cdac-5255-4baf-9c53-fb39a4f4b3ca\",\"type\":\"BasicTickFormatter\"},{\"attributes\":{},\"id\":\"ad170c0b-eb0c-4780-8bc3-fbc8e8889cfa\",\"type\":\"WheelZoomTool\"},{\"attributes\":{\"fill_alpha\":{\"value\":0.1},\"fill_color\":{\"value\":\"#1f77b4\"},\"line_alpha\":{\"value\":0.1},\"line_color\":{\"value\":\"#1f77b4\"},\"size\":{\"units\":\"screen\",\"value\":10},\"x\":{\"field\":\"x\"},\"y\":{\"field\":\"y\"}},\"id\":\"70b83cd4-70fd-49f3-be1a-65626c0e614d\",\"type\":\"Circle\"},{\"attributes\":{\"overlay\":{\"id\":\"77217224-b795-477b-8b11-b09b660bf527\",\"type\":\"BoxAnnotation\"}},\"id\":\"2a1c4a7e-82fc-4d73-845e-8d15bf56e442\",\"type\":\"BoxZoomTool\"},{\"attributes\":{\"source\":{\"id\":\"9e1ba4be-5558-4a86-a035-ca9f0ee134b9\",\"type\":\"ColumnDataSource\"}},\"id\":\"e411e17b-71bb-470e-9b4c-213858e25588\",\"type\":\"CDSView\"},{\"attributes\":{},\"id\":\"91d48992-4fc9-4c70-8a87-c9c0073326ef\",\"type\":\"SaveTool\"},{\"attributes\":{},\"id\":\"6ac30ba8-e5b8-4a84-ac67-aa3b148afde6\",\"type\":\"ResetTool\"},{\"attributes\":{\"below\":[{\"id\":\"a7cfa1ff-a311-4f8e-ba71-05ce678a320f\",\"type\":\"LinearAxis\"}],\"left\":[{\"id\":\"23e5ea70-8ff1-4cf3-928b-7e448f941f6c\",\"type\":\"LinearAxis\"}],\"plot_height\":250,\"plot_width\":250,\"renderers\":[{\"id\":\"a7cfa1ff-a311-4f8e-ba71-05ce678a320f\",\"type\":\"LinearAxis\"},{\"id\":\"4a2551e7-3753-4979-82fd-a64799194fa2\",\"type\":\"Grid\"},{\"id\":\"23e5ea70-8ff1-4cf3-928b-7e448f941f6c\",\"type\":\"LinearAxis\"},{\"id\":\"6831e851-d590-415b-8898-6f4bb84fe17c\",\"type\":\"Grid\"},{\"id\":\"5660405d-47fe-4b5c-8ec0-7cf9bfa25120\",\"type\":\"BoxAnnotation\"},{\"id\":\"7e941302-d751-49c4-bca9-866cc20377eb\",\"type\":\"GlyphRenderer\"}],\"title\":null,\"toolbar\":{\"id\":\"06b7332b-4695-41c2-94b5-a15a9449b17c\",\"type\":\"Toolbar\"},\"toolbar_location\":null,\"x_range\":{\"id\":\"426fa4fb-c1f5-4c5a-9c61-a4d4e1a21370\",\"type\":\"DataRange1d\"},\"x_scale\":{\"id\":\"1c244cdf-4ea9-4944-b392-1e124ddab762\",\"type\":\"LinearScale\"},\"y_range\":{\"id\":\"97f21283-638f-4392-9de9-82a65698cef0\",\"type\":\"DataRange1d\"},\"y_scale\":{\"id\":\"7a2d8946-2db9-4ffb-8a5a-c6830b3ac925\",\"type\":\"LinearScale\"}},\"id\":\"0ae5b9a8-92c3-4ad2-a76c-7b100c4c1652\",\"subtype\":\"Figure\",\"type\":\"Plot\"},{\"attributes\":{},\"id\":\"1231bb15-8077-4883-9a83-c03b669ef065\",\"type\":\"HelpTool\"},{\"attributes\":{\"callback\":null,\"data\":{\"x\":[0,1,2,3,4,5,6,7,8,9,10],\"y\":[10,9,8,7,6,5,4,3,2,1,0]},\"selected\":{\"id\":\"3a0b6d61-4b60-4fcf-810c-932e1c83ace5\",\"type\":\"Selection\"},\"selection_policy\":{\"id\":\"3eef94e5-4273-4688-87b9-cf6d83645a64\",\"type\":\"UnionRenderers\"}},\"id\":\"2476e1ea-8466-42ac-81a2-3ac61b821277\",\"type\":\"ColumnDataSource\"},{\"attributes\":{\"active_drag\":\"auto\",\"active_inspect\":\"auto\",\"active_scroll\":\"auto\",\"active_tap\":\"auto\",\"tools\":[{\"id\":\"8e997a4e-904a-4b0b-8644-101916ada1b5\",\"type\":\"PanTool\"},{\"id\":\"2f64190b-7c7e-467d-9c81-c88c7b251353\",\"type\":\"WheelZoomTool\"},{\"id\":\"1ff5623d-c08b-48a5-89de-d4c9f81c3520\",\"type\":\"BoxZoomTool\"},{\"id\":\"42a48983-57cf-410f-99aa-072d186cbe41\",\"type\":\"SaveTool\"},{\"id\":\"ace9835a-878d-4bb1-bc60-649a532c0040\",\"type\":\"ResetTool\"},{\"id\":\"86a89ace-bfb8-494a-a17f-defe9f7bc146\",\"type\":\"HelpTool\"}]},\"id\":\"06b7332b-4695-41c2-94b5-a15a9449b17c\",\"type\":\"Toolbar\"},{\"attributes\":{},\"id\":\"4b9cd502-4cd1-42fd-8424-2b33671522f8\",\"type\":\"BasicTickFormatter\"},{\"attributes\":{\"children\":[{\"id\":\"0ae5b9a8-92c3-4ad2-a76c-7b100c4c1652\",\"subtype\":\"Figure\",\"type\":\"Plot\"},{\"id\":\"d5a6d6e7-2d85-4f63-ade5-2a659e9e41bb\",\"subtype\":\"Figure\",\"type\":\"Plot\"}]},\"id\":\"176b7615-19d9-4b89-8974-cbb888693907\",\"type\":\"Row\"},{\"attributes\":{\"callback\":null},\"id\":\"426fa4fb-c1f5-4c5a-9c61-a4d4e1a21370\",\"type\":\"DataRange1d\"},{\"attributes\":{},\"id\":\"1c244cdf-4ea9-4944-b392-1e124ddab762\",\"type\":\"LinearScale\"},{\"attributes\":{},\"id\":\"bbe2b588-da35-4d50-90e2-d60d2d4f219a\",\"type\":\"UnionRenderers\"},{\"attributes\":{\"callback\":null},\"id\":\"97f21283-638f-4392-9de9-82a65698cef0\",\"type\":\"DataRange1d\"},{\"attributes\":{},\"id\":\"3eef94e5-4273-4688-87b9-cf6d83645a64\",\"type\":\"UnionRenderers\"},{\"attributes\":{},\"id\":\"7a2d8946-2db9-4ffb-8a5a-c6830b3ac925\",\"type\":\"LinearScale\"},{\"attributes\":{\"plot\":{\"id\":\"0ae5b9a8-92c3-4ad2-a76c-7b100c4c1652\",\"subtype\":\"Figure\",\"type\":\"Plot\"},\"ticker\":{\"id\":\"6a7a452f-6bb3-4bde-bf8a-84965319827d\",\"type\":\"BasicTicker\"}},\"id\":\"4a2551e7-3753-4979-82fd-a64799194fa2\",\"type\":\"Grid\"},{\"attributes\":{},\"id\":\"6fea04ab-6435-4ad2-a0e9-2f0821c7c288\",\"type\":\"Selection\"},{\"attributes\":{\"formatter\":{\"id\":\"4b9cd502-4cd1-42fd-8424-2b33671522f8\",\"type\":\"BasicTickFormatter\"},\"plot\":{\"id\":\"0ae5b9a8-92c3-4ad2-a76c-7b100c4c1652\",\"subtype\":\"Figure\",\"type\":\"Plot\"},\"ticker\":{\"id\":\"6a7a452f-6bb3-4bde-bf8a-84965319827d\",\"type\":\"BasicTicker\"}},\"id\":\"a7cfa1ff-a311-4f8e-ba71-05ce678a320f\",\"type\":\"LinearAxis\"},{\"attributes\":{},\"id\":\"fa1a31ea-189a-4ca7-bced-3ba5584cfb13\",\"type\":\"BasicTickFormatter\"},{\"attributes\":{},\"id\":\"6a7a452f-6bb3-4bde-bf8a-84965319827d\",\"type\":\"BasicTicker\"},{\"attributes\":{},\"id\":\"92c2e623-5ddf-41bb-8560-3e6bc1e0b9ea\",\"type\":\"BasicTickFormatter\"},{\"attributes\":{\"formatter\":{\"id\":\"1f85cdac-5255-4baf-9c53-fb39a4f4b3ca\",\"type\":\"BasicTickFormatter\"},\"plot\":{\"id\":\"0ae5b9a8-92c3-4ad2-a76c-7b100c4c1652\",\"subtype\":\"Figure\",\"type\":\"Plot\"},\"ticker\":{\"id\":\"c086eb88-3c10-4b01-b82b-432652e41488\",\"type\":\"BasicTicker\"}},\"id\":\"23e5ea70-8ff1-4cf3-928b-7e448f941f6c\",\"type\":\"LinearAxis\"},{\"attributes\":{},\"id\":\"3a0b6d61-4b60-4fcf-810c-932e1c83ace5\",\"type\":\"Selection\"},{\"attributes\":{\"children\":[{\"id\":\"ef8b5d6a-dac7-49b0-8917-c1056ac091d3\",\"type\":\"Spacer\"},{\"id\":\"d2b4b286-86c2-4224-8a50-0b60c74b340b\",\"subtype\":\"Figure\",\"type\":\"Plot\"}]},\"id\":\"a43f2265-6ff3-4236-854d-d50321a5cc33\",\"type\":\"Row\"},{\"attributes\":{},\"id\":\"c086eb88-3c10-4b01-b82b-432652e41488\",\"type\":\"BasicTicker\"},{\"attributes\":{\"height\":250,\"width\":250},\"id\":\"ef8b5d6a-dac7-49b0-8917-c1056ac091d3\",\"type\":\"Spacer\"},{\"attributes\":{\"dimension\":1,\"plot\":{\"id\":\"0ae5b9a8-92c3-4ad2-a76c-7b100c4c1652\",\"subtype\":\"Figure\",\"type\":\"Plot\"},\"ticker\":{\"id\":\"c086eb88-3c10-4b01-b82b-432652e41488\",\"type\":\"BasicTicker\"}},\"id\":\"6831e851-d590-415b-8898-6f4bb84fe17c\",\"type\":\"Grid\"},{\"attributes\":{\"data_source\":{\"id\":\"9e1ba4be-5558-4a86-a035-ca9f0ee134b9\",\"type\":\"ColumnDataSource\"},\"glyph\":{\"id\":\"3a3f8a76-4e26-42a4-a949-34545f5adb7f\",\"type\":\"Circle\"},\"hover_glyph\":null,\"muted_glyph\":null,\"nonselection_glyph\":{\"id\":\"70b83cd4-70fd-49f3-be1a-65626c0e614d\",\"type\":\"Circle\"},\"selection_glyph\":null,\"view\":{\"id\":\"e411e17b-71bb-470e-9b4c-213858e25588\",\"type\":\"CDSView\"}},\"id\":\"7e941302-d751-49c4-bca9-866cc20377eb\",\"type\":\"GlyphRenderer\"},{\"attributes\":{},\"id\":\"af223952-f846-497e-b7c7-946bd7001657\",\"type\":\"UnionRenderers\"},{\"attributes\":{\"tools\":[{\"id\":\"8e997a4e-904a-4b0b-8644-101916ada1b5\",\"type\":\"PanTool\"},{\"id\":\"2f64190b-7c7e-467d-9c81-c88c7b251353\",\"type\":\"WheelZoomTool\"},{\"id\":\"1ff5623d-c08b-48a5-89de-d4c9f81c3520\",\"type\":\"BoxZoomTool\"},{\"id\":\"42a48983-57cf-410f-99aa-072d186cbe41\",\"type\":\"SaveTool\"},{\"id\":\"ace9835a-878d-4bb1-bc60-649a532c0040\",\"type\":\"ResetTool\"},{\"id\":\"86a89ace-bfb8-494a-a17f-defe9f7bc146\",\"type\":\"HelpTool\"},{\"id\":\"04236238-722d-499c-b105-c45e9bc07122\",\"type\":\"PanTool\"},{\"id\":\"2b682792-7086-4e92-9fa8-9099d557cf1f\",\"type\":\"WheelZoomTool\"},{\"id\":\"3cfb7540-e1db-4322-9724-65d7f5375fac\",\"type\":\"BoxZoomTool\"},{\"id\":\"a0ce39bc-d27d-4574-8ebf-1113224cf1c4\",\"type\":\"SaveTool\"},{\"id\":\"24d30d0b-0bf7-44da-a17e-751d017bd175\",\"type\":\"ResetTool\"},{\"id\":\"9c12f1e9-2f01-40af-be81-5b4e7d1b9ead\",\"type\":\"HelpTool\"},{\"id\":\"8ea5cb66-bcf7-4099-9699-d75ce76927f5\",\"type\":\"PanTool\"},{\"id\":\"ad170c0b-eb0c-4780-8bc3-fbc8e8889cfa\",\"type\":\"WheelZoomTool\"},{\"id\":\"2a1c4a7e-82fc-4d73-845e-8d15bf56e442\",\"type\":\"BoxZoomTool\"},{\"id\":\"91d48992-4fc9-4c70-8a87-c9c0073326ef\",\"type\":\"SaveTool\"},{\"id\":\"6ac30ba8-e5b8-4a84-ac67-aa3b148afde6\",\"type\":\"ResetTool\"},{\"id\":\"1231bb15-8077-4883-9a83-c03b669ef065\",\"type\":\"HelpTool\"}]},\"id\":\"b0f4bd62-066d-4b81-b1d6-927205461182\",\"type\":\"ProxyToolbar\"},{\"attributes\":{\"fill_color\":{\"value\":\"#F98C09\"},\"line_color\":{\"value\":\"#F98C09\"},\"size\":{\"units\":\"screen\",\"value\":10},\"x\":{\"field\":\"x\"},\"y\":{\"field\":\"y\"}},\"id\":\"3a3f8a76-4e26-42a4-a949-34545f5adb7f\",\"type\":\"Circle\"},{\"attributes\":{\"below\":[{\"id\":\"19b454e4-10ff-4485-a942-95c682d48fd1\",\"type\":\"LinearAxis\"}],\"left\":[{\"id\":\"a601f546-450d-4372-b7bc-5e45e044e368\",\"type\":\"LinearAxis\"}],\"plot_height\":250,\"plot_width\":250,\"renderers\":[{\"id\":\"19b454e4-10ff-4485-a942-95c682d48fd1\",\"type\":\"LinearAxis\"},{\"id\":\"0ec731d1-287d-44c2-bcdf-9303eab0aee9\",\"type\":\"Grid\"},{\"id\":\"a601f546-450d-4372-b7bc-5e45e044e368\",\"type\":\"LinearAxis\"},{\"id\":\"04bead3c-1b48-46e5-bc16-2dcc400df87f\",\"type\":\"Grid\"},{\"id\":\"f69455ca-3210-4ac1-abd0-705d0a371d0f\",\"type\":\"BoxAnnotation\"},{\"id\":\"afa35360-0496-48ae-9f12-3e264909e8d7\",\"type\":\"GlyphRenderer\"}],\"title\":null,\"toolbar\":{\"id\":\"35f724c6-30e9-4eac-973e-ba2eaa20ecf7\",\"type\":\"Toolbar\"},\"toolbar_location\":null,\"x_range\":{\"id\":\"88f3032f-0e07-460c-851f-611bbc6ab24b\",\"type\":\"DataRange1d\"},\"x_scale\":{\"id\":\"7ca217f4-2ea5-496d-b4e3-0f8e19bb81e2\",\"type\":\"LinearScale\"},\"y_range\":{\"id\":\"be3c36ba-b9d4-4d32-b27d-a05df0200f12\",\"type\":\"DataRange1d\"},\"y_scale\":{\"id\":\"405c48d5-5762-46da-bb1c-e72bfa20e719\",\"type\":\"LinearScale\"}},\"id\":\"d5a6d6e7-2d85-4f63-ade5-2a659e9e41bb\",\"subtype\":\"Figure\",\"type\":\"Plot\"},{\"attributes\":{},\"id\":\"b537be0d-0b6b-478b-963c-31c3f4d79a80\",\"type\":\"BasicTickFormatter\"},{\"attributes\":{\"bottom_units\":\"screen\",\"fill_alpha\":{\"value\":0.5},\"fill_color\":{\"value\":\"lightgrey\"},\"left_units\":\"screen\",\"level\":\"overlay\",\"line_alpha\":{\"value\":1.0},\"line_color\":{\"value\":\"black\"},\"line_dash\":[4,4],\"line_width\":{\"value\":2},\"plot\":null,\"render_mode\":\"css\",\"right_units\":\"screen\",\"top_units\":\"screen\"},\"id\":\"5660405d-47fe-4b5c-8ec0-7cf9bfa25120\",\"type\":\"BoxAnnotation\"},{\"attributes\":{},\"id\":\"a99e1683-fe1b-415e-b813-59cf21b428c1\",\"type\":\"BasicTickFormatter\"},{\"attributes\":{},\"id\":\"8e997a4e-904a-4b0b-8644-101916ada1b5\",\"type\":\"PanTool\"},{\"attributes\":{},\"id\":\"d2e10199-9b1e-4ad9-a403-30189b598006\",\"type\":\"Selection\"},{\"attributes\":{\"source\":{\"id\":\"2476e1ea-8466-42ac-81a2-3ac61b821277\",\"type\":\"ColumnDataSource\"}},\"id\":\"3f053813-9ab7-4ef7-9817-0da38daf989b\",\"type\":\"CDSView\"},{\"attributes\":{},\"id\":\"2f64190b-7c7e-467d-9c81-c88c7b251353\",\"type\":\"WheelZoomTool\"},{\"attributes\":{\"toolbar\":{\"id\":\"b0f4bd62-066d-4b81-b1d6-927205461182\",\"type\":\"ProxyToolbar\"},\"toolbar_location\":\"above\"},\"id\":\"7baa195d-6523-4eb1-abd5-6a10346fc033\",\"type\":\"ToolbarBox\"},{\"attributes\":{\"overlay\":{\"id\":\"5660405d-47fe-4b5c-8ec0-7cf9bfa25120\",\"type\":\"BoxAnnotation\"}},\"id\":\"1ff5623d-c08b-48a5-89de-d4c9f81c3520\",\"type\":\"BoxZoomTool\"},{\"attributes\":{\"children\":[{\"id\":\"7baa195d-6523-4eb1-abd5-6a10346fc033\",\"type\":\"ToolbarBox\"},{\"id\":\"31fde19c-d86d-45c5-b3b0-b2ce73f1d21a\",\"type\":\"Column\"}]},\"id\":\"e61db06c-a428-48a7-aa61-63ed5a6c6446\",\"type\":\"Column\"},{\"attributes\":{},\"id\":\"42a48983-57cf-410f-99aa-072d186cbe41\",\"type\":\"SaveTool\"},{\"attributes\":{},\"id\":\"ace9835a-878d-4bb1-bc60-649a532c0040\",\"type\":\"ResetTool\"},{\"attributes\":{},\"id\":\"86a89ace-bfb8-494a-a17f-defe9f7bc146\",\"type\":\"HelpTool\"},{\"attributes\":{\"callback\":null},\"id\":\"88f3032f-0e07-460c-851f-611bbc6ab24b\",\"type\":\"DataRange1d\"},{\"attributes\":{\"callback\":null,\"data\":{\"x\":[0,1,2,3,4,5,6,7,8,9,10],\"y\":[5,4,3,2,1,0,1,2,3,4,5]},\"selected\":{\"id\":\"d2e10199-9b1e-4ad9-a403-30189b598006\",\"type\":\"Selection\"},\"selection_policy\":{\"id\":\"af223952-f846-497e-b7c7-946bd7001657\",\"type\":\"UnionRenderers\"}},\"id\":\"eabc3c45-4996-4b1e-a4f2-4a1de7cc9bad\",\"type\":\"ColumnDataSource\"},{\"attributes\":{\"callback\":null,\"data\":{\"x\":[0,1,2,3,4,5,6,7,8,9,10],\"y\":[0,1,2,3,4,5,6,7,8,9,10]},\"selected\":{\"id\":\"6fea04ab-6435-4ad2-a0e9-2f0821c7c288\",\"type\":\"Selection\"},\"selection_policy\":{\"id\":\"bbe2b588-da35-4d50-90e2-d60d2d4f219a\",\"type\":\"UnionRenderers\"}},\"id\":\"9e1ba4be-5558-4a86-a035-ca9f0ee134b9\",\"type\":\"ColumnDataSource\"},{\"attributes\":{\"active_drag\":\"auto\",\"active_inspect\":\"auto\",\"active_scroll\":\"auto\",\"active_tap\":\"auto\",\"tools\":[{\"id\":\"04236238-722d-499c-b105-c45e9bc07122\",\"type\":\"PanTool\"},{\"id\":\"2b682792-7086-4e92-9fa8-9099d557cf1f\",\"type\":\"WheelZoomTool\"},{\"id\":\"3cfb7540-e1db-4322-9724-65d7f5375fac\",\"type\":\"BoxZoomTool\"},{\"id\":\"a0ce39bc-d27d-4574-8ebf-1113224cf1c4\",\"type\":\"SaveTool\"},{\"id\":\"24d30d0b-0bf7-44da-a17e-751d017bd175\",\"type\":\"ResetTool\"},{\"id\":\"9c12f1e9-2f01-40af-be81-5b4e7d1b9ead\",\"type\":\"HelpTool\"}]},\"id\":\"35f724c6-30e9-4eac-973e-ba2eaa20ecf7\",\"type\":\"Toolbar\"},{\"attributes\":{\"fill_alpha\":{\"value\":0.1},\"fill_color\":{\"value\":\"#1f77b4\"},\"line_alpha\":{\"value\":0.1},\"line_color\":{\"value\":\"#1f77b4\"},\"size\":{\"units\":\"screen\",\"value\":10},\"x\":{\"field\":\"x\"},\"y\":{\"field\":\"y\"}},\"id\":\"6520f81c-9482-4c8b-8e3f-ca5b6c7984f3\",\"type\":\"Triangle\"},{\"attributes\":{\"callback\":null},\"id\":\"be3c36ba-b9d4-4d32-b27d-a05df0200f12\",\"type\":\"DataRange1d\"},{\"attributes\":{},\"id\":\"7ca217f4-2ea5-496d-b4e3-0f8e19bb81e2\",\"type\":\"LinearScale\"},{\"attributes\":{},\"id\":\"405c48d5-5762-46da-bb1c-e72bfa20e719\",\"type\":\"LinearScale\"},{\"attributes\":{\"formatter\":{\"id\":\"92c2e623-5ddf-41bb-8560-3e6bc1e0b9ea\",\"type\":\"BasicTickFormatter\"},\"plot\":{\"id\":\"d5a6d6e7-2d85-4f63-ade5-2a659e9e41bb\",\"subtype\":\"Figure\",\"type\":\"Plot\"},\"ticker\":{\"id\":\"f0a23a26-e090-43e4-8911-33d70dc8c05e\",\"type\":\"BasicTicker\"}},\"id\":\"19b454e4-10ff-4485-a942-95c682d48fd1\",\"type\":\"LinearAxis\"},{\"attributes\":{\"plot\":{\"id\":\"d5a6d6e7-2d85-4f63-ade5-2a659e9e41bb\",\"subtype\":\"Figure\",\"type\":\"Plot\"},\"ticker\":{\"id\":\"f0a23a26-e090-43e4-8911-33d70dc8c05e\",\"type\":\"BasicTicker\"}},\"id\":\"0ec731d1-287d-44c2-bcdf-9303eab0aee9\",\"type\":\"Grid\"},{\"attributes\":{},\"id\":\"f0a23a26-e090-43e4-8911-33d70dc8c05e\",\"type\":\"BasicTicker\"},{\"attributes\":{\"formatter\":{\"id\":\"fa1a31ea-189a-4ca7-bced-3ba5584cfb13\",\"type\":\"BasicTickFormatter\"},\"plot\":{\"id\":\"d5a6d6e7-2d85-4f63-ade5-2a659e9e41bb\",\"subtype\":\"Figure\",\"type\":\"Plot\"},\"ticker\":{\"id\":\"a59ecc83-962b-44ad-be79-193779e77966\",\"type\":\"BasicTicker\"}},\"id\":\"a601f546-450d-4372-b7bc-5e45e044e368\",\"type\":\"LinearAxis\"},{\"attributes\":{},\"id\":\"a59ecc83-962b-44ad-be79-193779e77966\",\"type\":\"BasicTicker\"},{\"attributes\":{\"dimension\":1,\"plot\":{\"id\":\"d5a6d6e7-2d85-4f63-ade5-2a659e9e41bb\",\"subtype\":\"Figure\",\"type\":\"Plot\"},\"ticker\":{\"id\":\"a59ecc83-962b-44ad-be79-193779e77966\",\"type\":\"BasicTicker\"}},\"id\":\"04bead3c-1b48-46e5-bc16-2dcc400df87f\",\"type\":\"Grid\"},{\"attributes\":{\"data_source\":{\"id\":\"2476e1ea-8466-42ac-81a2-3ac61b821277\",\"type\":\"ColumnDataSource\"},\"glyph\":{\"id\":\"77d78a93-6ecf-4f46-ac31-10d5b7bcdef3\",\"type\":\"Triangle\"},\"hover_glyph\":null,\"muted_glyph\":null,\"nonselection_glyph\":{\"id\":\"6520f81c-9482-4c8b-8e3f-ca5b6c7984f3\",\"type\":\"Triangle\"},\"selection_glyph\":null,\"view\":{\"id\":\"3f053813-9ab7-4ef7-9817-0da38daf989b\",\"type\":\"CDSView\"}},\"id\":\"afa35360-0496-48ae-9f12-3e264909e8d7\",\"type\":\"GlyphRenderer\"},{\"attributes\":{\"fill_color\":{\"value\":\"#208F8C\"},\"line_color\":{\"value\":\"#208F8C\"},\"size\":{\"units\":\"screen\",\"value\":10},\"x\":{\"field\":\"x\"},\"y\":{\"field\":\"y\"}},\"id\":\"77d78a93-6ecf-4f46-ac31-10d5b7bcdef3\",\"type\":\"Triangle\"},{\"attributes\":{\"below\":[{\"id\":\"c6b297a1-3212-471e-a834-8d1e125c1da1\",\"type\":\"LinearAxis\"}],\"left\":[{\"id\":\"7f594256-b56b-4380-935a-57b6e5faa38d\",\"type\":\"LinearAxis\"}],\"plot_height\":250,\"plot_width\":250,\"renderers\":[{\"id\":\"c6b297a1-3212-471e-a834-8d1e125c1da1\",\"type\":\"LinearAxis\"},{\"id\":\"0e456c01-66cb-41a5-a27a-875caef18805\",\"type\":\"Grid\"},{\"id\":\"7f594256-b56b-4380-935a-57b6e5faa38d\",\"type\":\"LinearAxis\"},{\"id\":\"3a3deccf-efd5-4e63-b465-af3f5391d91b\",\"type\":\"Grid\"},{\"id\":\"77217224-b795-477b-8b11-b09b660bf527\",\"type\":\"BoxAnnotation\"},{\"id\":\"d7fa01d7-33ea-4b74-ac50-bff75d3a33af\",\"type\":\"GlyphRenderer\"}],\"title\":null,\"toolbar\":{\"id\":\"8fc17b5b-7585-41e5-93c5-5824afc9e439\",\"type\":\"Toolbar\"},\"toolbar_location\":null,\"x_range\":{\"id\":\"f73b9e50-8978-480d-b8a4-2f438b1066d5\",\"type\":\"DataRange1d\"},\"x_scale\":{\"id\":\"cc48ed90-193d-42fc-94f8-fe82164ae628\",\"type\":\"LinearScale\"},\"y_range\":{\"id\":\"a7898734-a67d-476b-ae0d-f9ec4fcdf0fc\",\"type\":\"DataRange1d\"},\"y_scale\":{\"id\":\"3bbfbb6f-c73b-4ac2-95bb-72743b811752\",\"type\":\"LinearScale\"}},\"id\":\"d2b4b286-86c2-4224-8a50-0b60c74b340b\",\"subtype\":\"Figure\",\"type\":\"Plot\"},{\"attributes\":{\"bottom_units\":\"screen\",\"fill_alpha\":{\"value\":0.5},\"fill_color\":{\"value\":\"lightgrey\"},\"left_units\":\"screen\",\"level\":\"overlay\",\"line_alpha\":{\"value\":1.0},\"line_color\":{\"value\":\"black\"},\"line_dash\":[4,4],\"line_width\":{\"value\":2},\"plot\":null,\"render_mode\":\"css\",\"right_units\":\"screen\",\"top_units\":\"screen\"},\"id\":\"f69455ca-3210-4ac1-abd0-705d0a371d0f\",\"type\":\"BoxAnnotation\"},{\"attributes\":{},\"id\":\"04236238-722d-499c-b105-c45e9bc07122\",\"type\":\"PanTool\"},{\"attributes\":{\"source\":{\"id\":\"eabc3c45-4996-4b1e-a4f2-4a1de7cc9bad\",\"type\":\"ColumnDataSource\"}},\"id\":\"1d737b27-172c-4dd8-be6a-11d8b3886866\",\"type\":\"CDSView\"},{\"attributes\":{},\"id\":\"2b682792-7086-4e92-9fa8-9099d557cf1f\",\"type\":\"WheelZoomTool\"},{\"attributes\":{\"overlay\":{\"id\":\"f69455ca-3210-4ac1-abd0-705d0a371d0f\",\"type\":\"BoxAnnotation\"}},\"id\":\"3cfb7540-e1db-4322-9724-65d7f5375fac\",\"type\":\"BoxZoomTool\"},{\"attributes\":{},\"id\":\"a0ce39bc-d27d-4574-8ebf-1113224cf1c4\",\"type\":\"SaveTool\"},{\"attributes\":{},\"id\":\"24d30d0b-0bf7-44da-a17e-751d017bd175\",\"type\":\"ResetTool\"},{\"attributes\":{},\"id\":\"9c12f1e9-2f01-40af-be81-5b4e7d1b9ead\",\"type\":\"HelpTool\"},{\"attributes\":{\"callback\":null},\"id\":\"f73b9e50-8978-480d-b8a4-2f438b1066d5\",\"type\":\"DataRange1d\"},{\"attributes\":{\"active_drag\":\"auto\",\"active_inspect\":\"auto\",\"active_scroll\":\"auto\",\"active_tap\":\"auto\",\"tools\":[{\"id\":\"8ea5cb66-bcf7-4099-9699-d75ce76927f5\",\"type\":\"PanTool\"},{\"id\":\"ad170c0b-eb0c-4780-8bc3-fbc8e8889cfa\",\"type\":\"WheelZoomTool\"},{\"id\":\"2a1c4a7e-82fc-4d73-845e-8d15bf56e442\",\"type\":\"BoxZoomTool\"},{\"id\":\"91d48992-4fc9-4c70-8a87-c9c0073326ef\",\"type\":\"SaveTool\"},{\"id\":\"6ac30ba8-e5b8-4a84-ac67-aa3b148afde6\",\"type\":\"ResetTool\"},{\"id\":\"1231bb15-8077-4883-9a83-c03b669ef065\",\"type\":\"HelpTool\"}]},\"id\":\"8fc17b5b-7585-41e5-93c5-5824afc9e439\",\"type\":\"Toolbar\"},{\"attributes\":{\"fill_alpha\":{\"value\":0.1},\"fill_color\":{\"value\":\"#1f77b4\"},\"line_alpha\":{\"value\":0.1},\"line_color\":{\"value\":\"#1f77b4\"},\"size\":{\"units\":\"screen\",\"value\":10},\"x\":{\"field\":\"x\"},\"y\":{\"field\":\"y\"}},\"id\":\"83d5d190-a97f-409f-a022-3ed26e5bf6bf\",\"type\":\"Square\"},{\"attributes\":{\"formatter\":{\"id\":\"a99e1683-fe1b-415e-b813-59cf21b428c1\",\"type\":\"BasicTickFormatter\"},\"plot\":{\"id\":\"d2b4b286-86c2-4224-8a50-0b60c74b340b\",\"subtype\":\"Figure\",\"type\":\"Plot\"},\"ticker\":{\"id\":\"aa853a95-184a-4184-863f-ead429687323\",\"type\":\"BasicTicker\"}},\"id\":\"c6b297a1-3212-471e-a834-8d1e125c1da1\",\"type\":\"LinearAxis\"},{\"attributes\":{\"callback\":null},\"id\":\"a7898734-a67d-476b-ae0d-f9ec4fcdf0fc\",\"type\":\"DataRange1d\"},{\"attributes\":{},\"id\":\"cc48ed90-193d-42fc-94f8-fe82164ae628\",\"type\":\"LinearScale\"},{\"attributes\":{\"plot\":{\"id\":\"d2b4b286-86c2-4224-8a50-0b60c74b340b\",\"subtype\":\"Figure\",\"type\":\"Plot\"},\"ticker\":{\"id\":\"aa853a95-184a-4184-863f-ead429687323\",\"type\":\"BasicTicker\"}},\"id\":\"0e456c01-66cb-41a5-a27a-875caef18805\",\"type\":\"Grid\"},{\"attributes\":{},\"id\":\"3bbfbb6f-c73b-4ac2-95bb-72743b811752\",\"type\":\"LinearScale\"},{\"attributes\":{},\"id\":\"aa853a95-184a-4184-863f-ead429687323\",\"type\":\"BasicTicker\"},{\"attributes\":{\"formatter\":{\"id\":\"b537be0d-0b6b-478b-963c-31c3f4d79a80\",\"type\":\"BasicTickFormatter\"},\"plot\":{\"id\":\"d2b4b286-86c2-4224-8a50-0b60c74b340b\",\"subtype\":\"Figure\",\"type\":\"Plot\"},\"ticker\":{\"id\":\"425c62fc-9c2d-4361-83c3-8466b70739c4\",\"type\":\"BasicTicker\"}},\"id\":\"7f594256-b56b-4380-935a-57b6e5faa38d\",\"type\":\"LinearAxis\"},{\"attributes\":{},\"id\":\"425c62fc-9c2d-4361-83c3-8466b70739c4\",\"type\":\"BasicTicker\"},{\"attributes\":{\"dimension\":1,\"plot\":{\"id\":\"d2b4b286-86c2-4224-8a50-0b60c74b340b\",\"subtype\":\"Figure\",\"type\":\"Plot\"},\"ticker\":{\"id\":\"425c62fc-9c2d-4361-83c3-8466b70739c4\",\"type\":\"BasicTicker\"}},\"id\":\"3a3deccf-efd5-4e63-b465-af3f5391d91b\",\"type\":\"Grid\"},{\"attributes\":{\"data_source\":{\"id\":\"eabc3c45-4996-4b1e-a4f2-4a1de7cc9bad\",\"type\":\"ColumnDataSource\"},\"glyph\":{\"id\":\"c93268de-74a6-4347-8d2e-8edaee6ad823\",\"type\":\"Square\"},\"hover_glyph\":null,\"muted_glyph\":null,\"nonselection_glyph\":{\"id\":\"83d5d190-a97f-409f-a022-3ed26e5bf6bf\",\"type\":\"Square\"},\"selection_glyph\":null,\"view\":{\"id\":\"1d737b27-172c-4dd8-be6a-11d8b3886866\",\"type\":\"CDSView\"}},\"id\":\"d7fa01d7-33ea-4b74-ac50-bff75d3a33af\",\"type\":\"GlyphRenderer\"},{\"attributes\":{\"fill_color\":{\"value\":\"#FDE724\"},\"line_color\":{\"value\":\"#FDE724\"},\"size\":{\"units\":\"screen\",\"value\":10},\"x\":{\"field\":\"x\"},\"y\":{\"field\":\"y\"}},\"id\":\"c93268de-74a6-4347-8d2e-8edaee6ad823\",\"type\":\"Square\"},{\"attributes\":{\"children\":[{\"id\":\"176b7615-19d9-4b89-8974-cbb888693907\",\"type\":\"Row\"},{\"id\":\"a43f2265-6ff3-4236-854d-d50321a5cc33\",\"type\":\"Row\"}]},\"id\":\"31fde19c-d86d-45c5-b3b0-b2ce73f1d21a\",\"type\":\"Column\"}],\"root_ids\":[\"e61db06c-a428-48a7-aa61-63ed5a6c6446\"]},\"title\":\"Bokeh Application\",\"version\":\"0.12.16\"}};\n",
       "  var render_items = [{\"docid\":\"798708d4-41b2-4587-976b-ff5d916fb1f1\",\"elementid\":\"39918a36-9536-491f-a246-a5cc79e627b6\",\"modelid\":\"e61db06c-a428-48a7-aa61-63ed5a6c6446\"}];\n",
       "  root.Bokeh.embed.embed_items_notebook(docs_json, render_items);\n",
       "\n",
       "  }\n",
       "  if (root.Bokeh !== undefined) {\n",
       "    embed_document(root);\n",
       "  } else {\n",
       "    var attempts = 0;\n",
       "    var timer = setInterval(function(root) {\n",
       "      if (root.Bokeh !== undefined) {\n",
       "        embed_document(root);\n",
       "        clearInterval(timer);\n",
       "      }\n",
       "      attempts++;\n",
       "      if (attempts > 100) {\n",
       "        console.log(\"Bokeh: ERROR: Unable to run BokehJS code because BokehJS library is missing\")\n",
       "        clearInterval(timer);\n",
       "      }\n",
       "    }, 10, root)\n",
       "  }\n",
       "})(window);"
      ],
      "application/vnd.bokehjs_exec.v0+json": ""
     },
     "metadata": {
      "application/vnd.bokehjs_exec.v0+json": {
       "id": "e61db06c-a428-48a7-aa61-63ed5a6c6446"
      }
     },
     "output_type": "display_data"
    }
   ],
   "source": [
    "from bokeh.io import output_file, show\n",
    "from bokeh.layouts import gridplot\n",
    "from bokeh.palettes import Viridis3\n",
    "from bokeh.plotting import figure, output_notebook\n",
    "\n",
    "from bokeh.palettes import Inferno5\n",
    "\n",
    "output_notebook()\n",
    "\n",
    "x = list(range(11))\n",
    "y0 = x\n",
    "y1 = [10 - i for i in x]\n",
    "y2 = [abs(i - 5) for i in x]\n",
    "\n",
    "# create three plots\n",
    "p1 = figure(plot_width=250, plot_height=250, title=None)\n",
    "p1.circle(x, y0, size=10, color=Inferno5[3])\n",
    "p2 = figure(plot_width=250, plot_height=250, title=None)\n",
    "p2.triangle(x, y1, size=10, color=Viridis3[1])\n",
    "p3 = figure(plot_width=250, plot_height=250, title=None)\n",
    "p3.square(x, y2, size=10, color=Viridis3[2])\n",
    "\n",
    "# make a grid\n",
    "grid = gridplot([[p1, p2], [None, p3]])\n",
    "\n",
    "# show the results\n",
    "show(grid)\n"
   ]
  },
  {
   "cell_type": "code",
   "execution_count": 35,
   "metadata": {},
   "outputs": [
    {
     "data": {
      "text/html": [
       "\n",
       "<div class=\"bk-root\">\n",
       "    <div class=\"bk-plotdiv\" id=\"c7f1b8e5-f493-4bb6-9e9a-38b88c4db6d1\"></div>\n",
       "</div>"
      ]
     },
     "metadata": {},
     "output_type": "display_data"
    },
    {
     "data": {
      "application/javascript": [
       "(function(root) {\n",
       "  function embed_document(root) {\n",
       "    \n",
       "  var docs_json = {\"c3018e09-b6fc-4393-b1d5-a1d940988490\":{\"roots\":{\"references\":[{\"attributes\":{\"data_source\":{\"id\":\"7f094ec3-8411-4cdc-917c-ffedbf0ef869\",\"type\":\"ColumnDataSource\"},\"glyph\":{\"id\":\"89e4e749-004d-4450-92de-334daa1cd86a\",\"type\":\"Square\"},\"hover_glyph\":null,\"muted_glyph\":null,\"nonselection_glyph\":{\"id\":\"d7d7d383-da4f-4b5a-8665-9d7747bce6cd\",\"type\":\"Square\"},\"selection_glyph\":null,\"view\":{\"id\":\"133413bb-5aef-4951-aae1-85e28747fd83\",\"type\":\"CDSView\"}},\"id\":\"eb2097b1-6450-4748-8f47-ced2e330ab9f\",\"type\":\"GlyphRenderer\"},{\"attributes\":{\"plot\":{\"id\":\"bbf90384-c845-4983-8612-cfc07a116055\",\"subtype\":\"Figure\",\"type\":\"Plot\"},\"ticker\":{\"id\":\"8ffeb8a1-3cc4-45c9-bb9f-b7f782475384\",\"type\":\"BasicTicker\"}},\"id\":\"69ec85bd-66b0-4554-a813-7493ec23c5a4\",\"type\":\"Grid\"},{\"attributes\":{\"formatter\":{\"id\":\"776215ac-e133-48ef-bfc9-a24d1ed2af65\",\"type\":\"BasicTickFormatter\"},\"plot\":{\"id\":\"bbf90384-c845-4983-8612-cfc07a116055\",\"subtype\":\"Figure\",\"type\":\"Plot\"},\"ticker\":{\"id\":\"a7d7c206-dad5-4b05-a317-a055b0aa2ce0\",\"type\":\"BasicTicker\"}},\"id\":\"f3b2e442-4147-418a-a8fa-b4d71af60ad7\",\"type\":\"LinearAxis\"},{\"attributes\":{},\"id\":\"a7d7c206-dad5-4b05-a317-a055b0aa2ce0\",\"type\":\"BasicTicker\"},{\"attributes\":{\"dimension\":1,\"plot\":{\"id\":\"bbf90384-c845-4983-8612-cfc07a116055\",\"subtype\":\"Figure\",\"type\":\"Plot\"},\"ticker\":{\"id\":\"a7d7c206-dad5-4b05-a317-a055b0aa2ce0\",\"type\":\"BasicTicker\"}},\"id\":\"562d033f-47c3-418f-8229-a28ec5efe2c2\",\"type\":\"Grid\"},{\"attributes\":{\"source\":{\"id\":\"7f094ec3-8411-4cdc-917c-ffedbf0ef869\",\"type\":\"ColumnDataSource\"}},\"id\":\"133413bb-5aef-4951-aae1-85e28747fd83\",\"type\":\"CDSView\"},{\"attributes\":{\"fill_alpha\":{\"value\":0.1},\"fill_color\":{\"value\":\"#1f77b4\"},\"line_alpha\":{\"value\":0.1},\"line_color\":{\"value\":\"#1f77b4\"},\"size\":{\"units\":\"screen\",\"value\":10},\"x\":{\"field\":\"x\"},\"y\":{\"field\":\"y\"}},\"id\":\"d7d7d383-da4f-4b5a-8665-9d7747bce6cd\",\"type\":\"Square\"},{\"attributes\":{\"bottom_units\":\"screen\",\"fill_alpha\":{\"value\":0.5},\"fill_color\":{\"value\":\"lightgrey\"},\"left_units\":\"screen\",\"level\":\"overlay\",\"line_alpha\":{\"value\":1.0},\"line_color\":{\"value\":\"black\"},\"line_dash\":[4,4],\"line_width\":{\"value\":2},\"plot\":null,\"render_mode\":\"css\",\"right_units\":\"screen\",\"top_units\":\"screen\"},\"id\":\"7fa55ef6-ce0a-41ae-b0d3-d1ed22479cf2\",\"type\":\"BoxAnnotation\"},{\"attributes\":{},\"id\":\"e8bc881b-da29-48a3-afb5-dcd766a92fc9\",\"type\":\"PanTool\"},{\"attributes\":{},\"id\":\"05b86961-f41b-4d9c-a7ec-cdace000a4de\",\"type\":\"BasicTickFormatter\"},{\"attributes\":{},\"id\":\"71309343-2c2e-41ca-84eb-819c9b4c2220\",\"type\":\"WheelZoomTool\"},{\"attributes\":{\"overlay\":{\"id\":\"7fa55ef6-ce0a-41ae-b0d3-d1ed22479cf2\",\"type\":\"BoxAnnotation\"}},\"id\":\"a6a995d5-bfc5-46e6-8ba3-8ef661b5760e\",\"type\":\"BoxZoomTool\"},{\"attributes\":{},\"id\":\"f3947699-882d-49f2-a10a-7f958e39e863\",\"type\":\"SaveTool\"},{\"attributes\":{},\"id\":\"1ce93d6f-629a-4913-b34a-e1397a42466d\",\"type\":\"ResetTool\"},{\"attributes\":{\"source\":{\"id\":\"1f686cc0-5279-419d-98ab-5b54be87ac66\",\"type\":\"ColumnDataSource\"}},\"id\":\"719f4871-a76e-41f1-9c8d-f141f0070808\",\"type\":\"CDSView\"},{\"attributes\":{},\"id\":\"5e94214d-0e43-4bde-9a6a-62dffb2c0c09\",\"type\":\"HelpTool\"},{\"attributes\":{\"active_drag\":\"auto\",\"active_inspect\":\"auto\",\"active_scroll\":\"auto\",\"active_tap\":\"auto\",\"tools\":[{\"id\":\"8092bf16-f0eb-43d2-94b6-b597e4565913\",\"type\":\"PanTool\"},{\"id\":\"d39bf334-b5d0-48dc-97ca-7f86914abc82\",\"type\":\"WheelZoomTool\"},{\"id\":\"5a809d42-447d-4aad-ae04-8c52d74807a1\",\"type\":\"BoxZoomTool\"},{\"id\":\"b2b20e5e-e2b5-43b6-af49-95cf3aa518f8\",\"type\":\"SaveTool\"},{\"id\":\"13706450-4dad-4c35-bf56-6e9b83e2f70c\",\"type\":\"ResetTool\"},{\"id\":\"14e7df3c-2300-4f92-9401-e6fb2aa88762\",\"type\":\"HelpTool\"}]},\"id\":\"62868755-1d46-40eb-88a1-fdecca604ceb\",\"type\":\"Toolbar\"},{\"attributes\":{},\"id\":\"c7858a14-46f4-4c39-83f2-1c978858fff9\",\"type\":\"BasicTickFormatter\"},{\"attributes\":{\"fill_alpha\":{\"value\":0.1},\"fill_color\":{\"value\":\"#1f77b4\"},\"line_alpha\":{\"value\":0.1},\"line_color\":{\"value\":\"#1f77b4\"},\"size\":{\"units\":\"screen\",\"value\":10},\"x\":{\"field\":\"x\"},\"y\":{\"field\":\"y\"}},\"id\":\"ec63853f-e102-47ce-8a23-a9c416f9eff2\",\"type\":\"Circle\"},{\"attributes\":{\"callback\":null},\"id\":\"3f8cdd78-f980-4c25-880f-03311237b5b6\",\"type\":\"DataRange1d\"},{\"attributes\":{\"callback\":null,\"data\":{\"x\":[0,1,2,3,4,5,6,7,8,9,10],\"y\":[10,9,8,7,6,5,4,3,2,1,0]},\"selected\":{\"id\":\"77749d6b-bcf9-47b9-a5b0-3fb915f25287\",\"type\":\"Selection\"},\"selection_policy\":{\"id\":\"4c9e3097-c336-4f7c-a1f1-c0e264a26291\",\"type\":\"UnionRenderers\"}},\"id\":\"683c4069-9976-4187-9890-df0411f09927\",\"type\":\"ColumnDataSource\"},{\"attributes\":{},\"id\":\"78d40f78-5d2d-4b67-a5aa-f598fae494bd\",\"type\":\"BasicTickFormatter\"},{\"attributes\":{\"callback\":null,\"data\":{\"x\":[0,1,2,3,4,5,6,7,8,9,10],\"y\":[0,1,2,3,4,5,6,7,8,9,10]},\"selected\":{\"id\":\"ac0120b7-d50e-4f23-9b6a-f8432309ea98\",\"type\":\"Selection\"},\"selection_policy\":{\"id\":\"04b512f0-67d0-4b7c-aa93-39ab3d23f39d\",\"type\":\"UnionRenderers\"}},\"id\":\"1f686cc0-5279-419d-98ab-5b54be87ac66\",\"type\":\"ColumnDataSource\"},{\"attributes\":{},\"id\":\"8c0cbb28-d455-49f6-be56-fb8755c15f0e\",\"type\":\"BasicTickFormatter\"},{\"attributes\":{\"below\":[{\"id\":\"fbc9ba02-741d-4ba9-a121-b2eb2e4e5b6b\",\"type\":\"LinearAxis\"}],\"left\":[{\"id\":\"8a0a08f9-f63f-43d8-aea1-9d629c63a0ce\",\"type\":\"LinearAxis\"}],\"plot_height\":250,\"plot_width\":250,\"renderers\":[{\"id\":\"fbc9ba02-741d-4ba9-a121-b2eb2e4e5b6b\",\"type\":\"LinearAxis\"},{\"id\":\"f0666f83-b3e2-473e-aa65-ed9a6a846c59\",\"type\":\"Grid\"},{\"id\":\"8a0a08f9-f63f-43d8-aea1-9d629c63a0ce\",\"type\":\"LinearAxis\"},{\"id\":\"6cc94659-8c0e-4d59-b864-44f789ee3ac0\",\"type\":\"Grid\"},{\"id\":\"189585c9-b256-4a1a-80ca-0d52d253f6ab\",\"type\":\"BoxAnnotation\"},{\"id\":\"dc77588e-1d4f-4264-99dc-58ef7fd04a7c\",\"type\":\"GlyphRenderer\"}],\"title\":null,\"toolbar\":{\"id\":\"62868755-1d46-40eb-88a1-fdecca604ceb\",\"type\":\"Toolbar\"},\"x_range\":{\"id\":\"3f8cdd78-f980-4c25-880f-03311237b5b6\",\"type\":\"DataRange1d\"},\"x_scale\":{\"id\":\"c84b1b1b-eb17-4089-b558-45ee61222b2d\",\"type\":\"LinearScale\"},\"y_range\":{\"id\":\"82d1e0bc-79b6-4471-922a-cb2431faec53\",\"type\":\"DataRange1d\"},\"y_scale\":{\"id\":\"997a957f-ffc5-48a8-8d33-dd7129513eec\",\"type\":\"LinearScale\"}},\"id\":\"0eb574ea-6488-4f06-bc0d-0ad0053c730b\",\"subtype\":\"Figure\",\"type\":\"Plot\"},{\"attributes\":{},\"id\":\"4c9e3097-c336-4f7c-a1f1-c0e264a26291\",\"type\":\"UnionRenderers\"},{\"attributes\":{},\"id\":\"c84b1b1b-eb17-4089-b558-45ee61222b2d\",\"type\":\"LinearScale\"},{\"attributes\":{},\"id\":\"776215ac-e133-48ef-bfc9-a24d1ed2af65\",\"type\":\"BasicTickFormatter\"},{\"attributes\":{\"callback\":null},\"id\":\"82d1e0bc-79b6-4471-922a-cb2431faec53\",\"type\":\"DataRange1d\"},{\"attributes\":{},\"id\":\"77749d6b-bcf9-47b9-a5b0-3fb915f25287\",\"type\":\"Selection\"},{\"attributes\":{},\"id\":\"997a957f-ffc5-48a8-8d33-dd7129513eec\",\"type\":\"LinearScale\"},{\"attributes\":{},\"id\":\"04b512f0-67d0-4b7c-aa93-39ab3d23f39d\",\"type\":\"UnionRenderers\"},{\"attributes\":{\"plot\":{\"id\":\"0eb574ea-6488-4f06-bc0d-0ad0053c730b\",\"subtype\":\"Figure\",\"type\":\"Plot\"},\"ticker\":{\"id\":\"d701fae1-8c7a-48be-84ca-da23f0e68de3\",\"type\":\"BasicTicker\"}},\"id\":\"f0666f83-b3e2-473e-aa65-ed9a6a846c59\",\"type\":\"Grid\"},{\"attributes\":{},\"id\":\"ac0120b7-d50e-4f23-9b6a-f8432309ea98\",\"type\":\"Selection\"},{\"attributes\":{\"formatter\":{\"id\":\"05b86961-f41b-4d9c-a7ec-cdace000a4de\",\"type\":\"BasicTickFormatter\"},\"plot\":{\"id\":\"0eb574ea-6488-4f06-bc0d-0ad0053c730b\",\"subtype\":\"Figure\",\"type\":\"Plot\"},\"ticker\":{\"id\":\"d701fae1-8c7a-48be-84ca-da23f0e68de3\",\"type\":\"BasicTicker\"}},\"id\":\"fbc9ba02-741d-4ba9-a121-b2eb2e4e5b6b\",\"type\":\"LinearAxis\"},{\"attributes\":{\"below\":[{\"id\":\"e4a0fe7e-7cd9-4d70-a20a-8ac2f0308bf8\",\"type\":\"LinearAxis\"}],\"left\":[{\"id\":\"f3b2e442-4147-418a-a8fa-b4d71af60ad7\",\"type\":\"LinearAxis\"}],\"plot_height\":250,\"plot_width\":250,\"renderers\":[{\"id\":\"e4a0fe7e-7cd9-4d70-a20a-8ac2f0308bf8\",\"type\":\"LinearAxis\"},{\"id\":\"69ec85bd-66b0-4554-a813-7493ec23c5a4\",\"type\":\"Grid\"},{\"id\":\"f3b2e442-4147-418a-a8fa-b4d71af60ad7\",\"type\":\"LinearAxis\"},{\"id\":\"562d033f-47c3-418f-8229-a28ec5efe2c2\",\"type\":\"Grid\"},{\"id\":\"7fa55ef6-ce0a-41ae-b0d3-d1ed22479cf2\",\"type\":\"BoxAnnotation\"},{\"id\":\"eb2097b1-6450-4748-8f47-ced2e330ab9f\",\"type\":\"GlyphRenderer\"}],\"title\":null,\"toolbar\":{\"id\":\"3e35f8a4-9c98-43b4-b1b5-5e21d74d0ddc\",\"type\":\"Toolbar\"},\"x_range\":{\"id\":\"db165504-0aff-4586-90b0-096f57e3a5ff\",\"type\":\"DataRange1d\"},\"x_scale\":{\"id\":\"43beb1b4-1017-4dd1-b058-b9f21fcf61b6\",\"type\":\"LinearScale\"},\"y_range\":{\"id\":\"f86d3c76-c1aa-47f3-944a-0505519cb6b5\",\"type\":\"DataRange1d\"},\"y_scale\":{\"id\":\"74fe287e-7f76-4d40-8137-11efe7515082\",\"type\":\"LinearScale\"}},\"id\":\"bbf90384-c845-4983-8612-cfc07a116055\",\"subtype\":\"Figure\",\"type\":\"Plot\"},{\"attributes\":{},\"id\":\"099060f0-89bd-4a4a-b442-10002d442bdc\",\"type\":\"UnionRenderers\"},{\"attributes\":{},\"id\":\"d701fae1-8c7a-48be-84ca-da23f0e68de3\",\"type\":\"BasicTicker\"},{\"attributes\":{},\"id\":\"6faa9ba0-541f-4304-aafa-0c4655c98752\",\"type\":\"Selection\"},{\"attributes\":{\"formatter\":{\"id\":\"d01be1a5-59a2-404a-a927-4bdfa893d3ff\",\"type\":\"BasicTickFormatter\"},\"plot\":{\"id\":\"0eb574ea-6488-4f06-bc0d-0ad0053c730b\",\"subtype\":\"Figure\",\"type\":\"Plot\"},\"ticker\":{\"id\":\"74255cbe-c594-4343-adb6-3e64f092d987\",\"type\":\"BasicTicker\"}},\"id\":\"8a0a08f9-f63f-43d8-aea1-9d629c63a0ce\",\"type\":\"LinearAxis\"},{\"attributes\":{},\"id\":\"74255cbe-c594-4343-adb6-3e64f092d987\",\"type\":\"BasicTicker\"},{\"attributes\":{\"dimension\":1,\"plot\":{\"id\":\"0eb574ea-6488-4f06-bc0d-0ad0053c730b\",\"subtype\":\"Figure\",\"type\":\"Plot\"},\"ticker\":{\"id\":\"74255cbe-c594-4343-adb6-3e64f092d987\",\"type\":\"BasicTicker\"}},\"id\":\"6cc94659-8c0e-4d59-b864-44f789ee3ac0\",\"type\":\"Grid\"},{\"attributes\":{\"data_source\":{\"id\":\"1f686cc0-5279-419d-98ab-5b54be87ac66\",\"type\":\"ColumnDataSource\"},\"glyph\":{\"id\":\"57d84180-695b-40d4-a5de-00665813e965\",\"type\":\"Circle\"},\"hover_glyph\":null,\"muted_glyph\":null,\"nonselection_glyph\":{\"id\":\"ec63853f-e102-47ce-8a23-a9c416f9eff2\",\"type\":\"Circle\"},\"selection_glyph\":null,\"view\":{\"id\":\"719f4871-a76e-41f1-9c8d-f141f0070808\",\"type\":\"CDSView\"}},\"id\":\"dc77588e-1d4f-4264-99dc-58ef7fd04a7c\",\"type\":\"GlyphRenderer\"},{\"attributes\":{\"fill_alpha\":{\"value\":0.5},\"fill_color\":{\"value\":\"navy\"},\"line_alpha\":{\"value\":0.5},\"line_color\":{\"value\":\"navy\"},\"size\":{\"units\":\"screen\",\"value\":10},\"x\":{\"field\":\"x\"},\"y\":{\"field\":\"y\"}},\"id\":\"57d84180-695b-40d4-a5de-00665813e965\",\"type\":\"Circle\"},{\"attributes\":{\"below\":[{\"id\":\"8e24e625-94d3-4757-af68-85419481a034\",\"type\":\"LinearAxis\"}],\"left\":[{\"id\":\"9e5dd8b6-4e9d-4c13-9c70-332804179f03\",\"type\":\"LinearAxis\"}],\"plot_height\":250,\"plot_width\":250,\"renderers\":[{\"id\":\"8e24e625-94d3-4757-af68-85419481a034\",\"type\":\"LinearAxis\"},{\"id\":\"7712d63b-4ea6-4bb1-b39a-df781d3972df\",\"type\":\"Grid\"},{\"id\":\"9e5dd8b6-4e9d-4c13-9c70-332804179f03\",\"type\":\"LinearAxis\"},{\"id\":\"6b3d25df-4a71-489e-a5a4-0d2daf09f2bc\",\"type\":\"Grid\"},{\"id\":\"6a2eae62-58f7-45af-b9b1-9a0281198d23\",\"type\":\"BoxAnnotation\"},{\"id\":\"6a0e1d91-3318-47ae-89ad-062daf0fb424\",\"type\":\"GlyphRenderer\"}],\"title\":null,\"toolbar\":{\"id\":\"6ac749c3-b87e-41ec-9383-898cdf79eac6\",\"type\":\"Toolbar\"},\"x_range\":{\"id\":\"11343c26-1b57-4e2f-9401-dbe42b79690b\",\"type\":\"DataRange1d\"},\"x_scale\":{\"id\":\"78b24e95-6f7b-4412-b4c7-4e7177b3dcb5\",\"type\":\"LinearScale\"},\"y_range\":{\"id\":\"8f254f0c-d877-4f4e-95a9-c1edfa23b380\",\"type\":\"DataRange1d\"},\"y_scale\":{\"id\":\"af7cbb47-9339-4756-b27d-9606b696a9c2\",\"type\":\"LinearScale\"}},\"id\":\"94d7a515-ed1a-403e-849e-5dc495123da0\",\"subtype\":\"Figure\",\"type\":\"Plot\"},{\"attributes\":{\"bottom_units\":\"screen\",\"fill_alpha\":{\"value\":0.5},\"fill_color\":{\"value\":\"lightgrey\"},\"left_units\":\"screen\",\"level\":\"overlay\",\"line_alpha\":{\"value\":1.0},\"line_color\":{\"value\":\"black\"},\"line_dash\":[4,4],\"line_width\":{\"value\":2},\"plot\":null,\"render_mode\":\"css\",\"right_units\":\"screen\",\"top_units\":\"screen\"},\"id\":\"189585c9-b256-4a1a-80ca-0d52d253f6ab\",\"type\":\"BoxAnnotation\"},{\"attributes\":{},\"id\":\"8092bf16-f0eb-43d2-94b6-b597e4565913\",\"type\":\"PanTool\"},{\"attributes\":{\"source\":{\"id\":\"683c4069-9976-4187-9890-df0411f09927\",\"type\":\"ColumnDataSource\"}},\"id\":\"887e74ca-d9d4-4f35-83f6-34764e77e3f6\",\"type\":\"CDSView\"},{\"attributes\":{},\"id\":\"d39bf334-b5d0-48dc-97ca-7f86914abc82\",\"type\":\"WheelZoomTool\"},{\"attributes\":{\"fill_alpha\":{\"value\":0.5},\"fill_color\":{\"value\":\"olive\"},\"line_alpha\":{\"value\":0.5},\"line_color\":{\"value\":\"olive\"},\"size\":{\"units\":\"screen\",\"value\":10},\"x\":{\"field\":\"x\"},\"y\":{\"field\":\"y\"}},\"id\":\"89e4e749-004d-4450-92de-334daa1cd86a\",\"type\":\"Square\"},{\"attributes\":{\"overlay\":{\"id\":\"189585c9-b256-4a1a-80ca-0d52d253f6ab\",\"type\":\"BoxAnnotation\"}},\"id\":\"5a809d42-447d-4aad-ae04-8c52d74807a1\",\"type\":\"BoxZoomTool\"},{\"attributes\":{},\"id\":\"b2b20e5e-e2b5-43b6-af49-95cf3aa518f8\",\"type\":\"SaveTool\"},{\"attributes\":{},\"id\":\"13706450-4dad-4c35-bf56-6e9b83e2f70c\",\"type\":\"ResetTool\"},{\"attributes\":{},\"id\":\"14e7df3c-2300-4f92-9401-e6fb2aa88762\",\"type\":\"HelpTool\"},{\"attributes\":{\"callback\":null},\"id\":\"11343c26-1b57-4e2f-9401-dbe42b79690b\",\"type\":\"DataRange1d\"},{\"attributes\":{\"active_drag\":\"auto\",\"active_inspect\":\"auto\",\"active_scroll\":\"auto\",\"active_tap\":\"auto\",\"tools\":[{\"id\":\"e8bc881b-da29-48a3-afb5-dcd766a92fc9\",\"type\":\"PanTool\"},{\"id\":\"71309343-2c2e-41ca-84eb-819c9b4c2220\",\"type\":\"WheelZoomTool\"},{\"id\":\"a6a995d5-bfc5-46e6-8ba3-8ef661b5760e\",\"type\":\"BoxZoomTool\"},{\"id\":\"f3947699-882d-49f2-a10a-7f958e39e863\",\"type\":\"SaveTool\"},{\"id\":\"1ce93d6f-629a-4913-b34a-e1397a42466d\",\"type\":\"ResetTool\"},{\"id\":\"5e94214d-0e43-4bde-9a6a-62dffb2c0c09\",\"type\":\"HelpTool\"}]},\"id\":\"3e35f8a4-9c98-43b4-b1b5-5e21d74d0ddc\",\"type\":\"Toolbar\"},{\"attributes\":{\"active_drag\":\"auto\",\"active_inspect\":\"auto\",\"active_scroll\":\"auto\",\"active_tap\":\"auto\",\"tools\":[{\"id\":\"ec786014-0d19-4d2b-9e47-35a46fcfb4d9\",\"type\":\"PanTool\"},{\"id\":\"2c1c524e-5320-4823-8759-4befd22b107e\",\"type\":\"WheelZoomTool\"},{\"id\":\"7024526c-9c47-4af0-80d7-d1eda64e17b9\",\"type\":\"BoxZoomTool\"},{\"id\":\"6653d51d-0cce-4184-b058-e7b4c4b16604\",\"type\":\"SaveTool\"},{\"id\":\"207001d5-38f9-4736-b089-f8462f366b3a\",\"type\":\"ResetTool\"},{\"id\":\"a0fd0af5-f51a-4e86-99a7-becab70c5fc4\",\"type\":\"HelpTool\"}]},\"id\":\"6ac749c3-b87e-41ec-9383-898cdf79eac6\",\"type\":\"Toolbar\"},{\"attributes\":{\"fill_alpha\":{\"value\":0.1},\"fill_color\":{\"value\":\"#1f77b4\"},\"line_alpha\":{\"value\":0.1},\"line_color\":{\"value\":\"#1f77b4\"},\"size\":{\"units\":\"screen\",\"value\":10},\"x\":{\"field\":\"x\"},\"y\":{\"field\":\"y\"}},\"id\":\"2be959b0-5d46-4680-b277-84363e82d9a0\",\"type\":\"Triangle\"},{\"attributes\":{\"formatter\":{\"id\":\"c7858a14-46f4-4c39-83f2-1c978858fff9\",\"type\":\"BasicTickFormatter\"},\"plot\":{\"id\":\"94d7a515-ed1a-403e-849e-5dc495123da0\",\"subtype\":\"Figure\",\"type\":\"Plot\"},\"ticker\":{\"id\":\"1c4582b3-f889-449c-827a-8c04e86ced3d\",\"type\":\"BasicTicker\"}},\"id\":\"8e24e625-94d3-4757-af68-85419481a034\",\"type\":\"LinearAxis\"},{\"attributes\":{\"callback\":null},\"id\":\"8f254f0c-d877-4f4e-95a9-c1edfa23b380\",\"type\":\"DataRange1d\"},{\"attributes\":{},\"id\":\"d01be1a5-59a2-404a-a927-4bdfa893d3ff\",\"type\":\"BasicTickFormatter\"},{\"attributes\":{},\"id\":\"78b24e95-6f7b-4412-b4c7-4e7177b3dcb5\",\"type\":\"LinearScale\"},{\"attributes\":{\"plot\":{\"id\":\"94d7a515-ed1a-403e-849e-5dc495123da0\",\"subtype\":\"Figure\",\"type\":\"Plot\"},\"ticker\":{\"id\":\"1c4582b3-f889-449c-827a-8c04e86ced3d\",\"type\":\"BasicTicker\"}},\"id\":\"7712d63b-4ea6-4bb1-b39a-df781d3972df\",\"type\":\"Grid\"},{\"attributes\":{},\"id\":\"af7cbb47-9339-4756-b27d-9606b696a9c2\",\"type\":\"LinearScale\"},{\"attributes\":{},\"id\":\"1c4582b3-f889-449c-827a-8c04e86ced3d\",\"type\":\"BasicTicker\"},{\"attributes\":{\"formatter\":{\"id\":\"78d40f78-5d2d-4b67-a5aa-f598fae494bd\",\"type\":\"BasicTickFormatter\"},\"plot\":{\"id\":\"94d7a515-ed1a-403e-849e-5dc495123da0\",\"subtype\":\"Figure\",\"type\":\"Plot\"},\"ticker\":{\"id\":\"cff99b60-62cd-4156-aa07-e3ed5ee305f3\",\"type\":\"BasicTicker\"}},\"id\":\"9e5dd8b6-4e9d-4c13-9c70-332804179f03\",\"type\":\"LinearAxis\"},{\"attributes\":{},\"id\":\"cff99b60-62cd-4156-aa07-e3ed5ee305f3\",\"type\":\"BasicTicker\"},{\"attributes\":{\"dimension\":1,\"plot\":{\"id\":\"94d7a515-ed1a-403e-849e-5dc495123da0\",\"subtype\":\"Figure\",\"type\":\"Plot\"},\"ticker\":{\"id\":\"cff99b60-62cd-4156-aa07-e3ed5ee305f3\",\"type\":\"BasicTicker\"}},\"id\":\"6b3d25df-4a71-489e-a5a4-0d2daf09f2bc\",\"type\":\"Grid\"},{\"attributes\":{\"data_source\":{\"id\":\"683c4069-9976-4187-9890-df0411f09927\",\"type\":\"ColumnDataSource\"},\"glyph\":{\"id\":\"b0278b0b-d7af-45d7-864e-149f7bf4b8d6\",\"type\":\"Triangle\"},\"hover_glyph\":null,\"muted_glyph\":null,\"nonselection_glyph\":{\"id\":\"2be959b0-5d46-4680-b277-84363e82d9a0\",\"type\":\"Triangle\"},\"selection_glyph\":null,\"view\":{\"id\":\"887e74ca-d9d4-4f35-83f6-34764e77e3f6\",\"type\":\"CDSView\"}},\"id\":\"6a0e1d91-3318-47ae-89ad-062daf0fb424\",\"type\":\"GlyphRenderer\"},{\"attributes\":{\"fill_alpha\":{\"value\":0.5},\"fill_color\":{\"value\":\"firebrick\"},\"line_alpha\":{\"value\":0.5},\"line_color\":{\"value\":\"firebrick\"},\"size\":{\"units\":\"screen\",\"value\":10},\"x\":{\"field\":\"x\"},\"y\":{\"field\":\"y\"}},\"id\":\"b0278b0b-d7af-45d7-864e-149f7bf4b8d6\",\"type\":\"Triangle\"},{\"attributes\":{\"callback\":null,\"data\":{\"x\":[0,1,2,3,4,5,6,7,8,9,10],\"y\":[5,4,3,2,1,0,1,2,3,4,5]},\"selected\":{\"id\":\"6faa9ba0-541f-4304-aafa-0c4655c98752\",\"type\":\"Selection\"},\"selection_policy\":{\"id\":\"099060f0-89bd-4a4a-b442-10002d442bdc\",\"type\":\"UnionRenderers\"}},\"id\":\"7f094ec3-8411-4cdc-917c-ffedbf0ef869\",\"type\":\"ColumnDataSource\"},{\"attributes\":{\"bottom_units\":\"screen\",\"fill_alpha\":{\"value\":0.5},\"fill_color\":{\"value\":\"lightgrey\"},\"left_units\":\"screen\",\"level\":\"overlay\",\"line_alpha\":{\"value\":1.0},\"line_color\":{\"value\":\"black\"},\"line_dash\":[4,4],\"line_width\":{\"value\":2},\"plot\":null,\"render_mode\":\"css\",\"right_units\":\"screen\",\"top_units\":\"screen\"},\"id\":\"6a2eae62-58f7-45af-b9b1-9a0281198d23\",\"type\":\"BoxAnnotation\"},{\"attributes\":{},\"id\":\"ec786014-0d19-4d2b-9e47-35a46fcfb4d9\",\"type\":\"PanTool\"},{\"attributes\":{\"callback\":null},\"id\":\"db165504-0aff-4586-90b0-096f57e3a5ff\",\"type\":\"DataRange1d\"},{\"attributes\":{},\"id\":\"2c1c524e-5320-4823-8759-4befd22b107e\",\"type\":\"WheelZoomTool\"},{\"attributes\":{\"overlay\":{\"id\":\"6a2eae62-58f7-45af-b9b1-9a0281198d23\",\"type\":\"BoxAnnotation\"}},\"id\":\"7024526c-9c47-4af0-80d7-d1eda64e17b9\",\"type\":\"BoxZoomTool\"},{\"attributes\":{},\"id\":\"6653d51d-0cce-4184-b058-e7b4c4b16604\",\"type\":\"SaveTool\"},{\"attributes\":{},\"id\":\"207001d5-38f9-4736-b089-f8462f366b3a\",\"type\":\"ResetTool\"},{\"attributes\":{},\"id\":\"a0fd0af5-f51a-4e86-99a7-becab70c5fc4\",\"type\":\"HelpTool\"},{\"attributes\":{},\"id\":\"43beb1b4-1017-4dd1-b058-b9f21fcf61b6\",\"type\":\"LinearScale\"},{\"attributes\":{\"children\":[{\"id\":\"0eb574ea-6488-4f06-bc0d-0ad0053c730b\",\"subtype\":\"Figure\",\"type\":\"Plot\"},{\"id\":\"94d7a515-ed1a-403e-849e-5dc495123da0\",\"subtype\":\"Figure\",\"type\":\"Plot\"},{\"id\":\"bbf90384-c845-4983-8612-cfc07a116055\",\"subtype\":\"Figure\",\"type\":\"Plot\"}]},\"id\":\"1e3e0b42-48e7-4a8f-8c79-85237495f1c1\",\"type\":\"Row\"},{\"attributes\":{},\"id\":\"8ffeb8a1-3cc4-45c9-bb9f-b7f782475384\",\"type\":\"BasicTicker\"},{\"attributes\":{\"callback\":null},\"id\":\"f86d3c76-c1aa-47f3-944a-0505519cb6b5\",\"type\":\"DataRange1d\"},{\"attributes\":{},\"id\":\"74fe287e-7f76-4d40-8137-11efe7515082\",\"type\":\"LinearScale\"},{\"attributes\":{\"formatter\":{\"id\":\"8c0cbb28-d455-49f6-be56-fb8755c15f0e\",\"type\":\"BasicTickFormatter\"},\"plot\":{\"id\":\"bbf90384-c845-4983-8612-cfc07a116055\",\"subtype\":\"Figure\",\"type\":\"Plot\"},\"ticker\":{\"id\":\"8ffeb8a1-3cc4-45c9-bb9f-b7f782475384\",\"type\":\"BasicTicker\"}},\"id\":\"e4a0fe7e-7cd9-4d70-a20a-8ac2f0308bf8\",\"type\":\"LinearAxis\"}],\"root_ids\":[\"1e3e0b42-48e7-4a8f-8c79-85237495f1c1\"]},\"title\":\"Bokeh Application\",\"version\":\"0.12.16\"}};\n",
       "  var render_items = [{\"docid\":\"c3018e09-b6fc-4393-b1d5-a1d940988490\",\"elementid\":\"c7f1b8e5-f493-4bb6-9e9a-38b88c4db6d1\",\"modelid\":\"1e3e0b42-48e7-4a8f-8c79-85237495f1c1\"}];\n",
       "  root.Bokeh.embed.embed_items_notebook(docs_json, render_items);\n",
       "\n",
       "  }\n",
       "  if (root.Bokeh !== undefined) {\n",
       "    embed_document(root);\n",
       "  } else {\n",
       "    var attempts = 0;\n",
       "    var timer = setInterval(function(root) {\n",
       "      if (root.Bokeh !== undefined) {\n",
       "        embed_document(root);\n",
       "        clearInterval(timer);\n",
       "      }\n",
       "      attempts++;\n",
       "      if (attempts > 100) {\n",
       "        console.log(\"Bokeh: ERROR: Unable to run BokehJS code because BokehJS library is missing\")\n",
       "        clearInterval(timer);\n",
       "      }\n",
       "    }, 10, root)\n",
       "  }\n",
       "})(window);"
      ],
      "application/vnd.bokehjs_exec.v0+json": ""
     },
     "metadata": {
      "application/vnd.bokehjs_exec.v0+json": {
       "id": "1e3e0b42-48e7-4a8f-8c79-85237495f1c1"
      }
     },
     "output_type": "display_data"
    }
   ],
   "source": [
    "from bokeh.io import output_file, show\n",
    "from bokeh.layouts import row\n",
    "from bokeh.plotting import figure, output_notebook\n",
    "\n",
    "#output_file(\"layout.html\")\n",
    "\n",
    "x = list(range(11))\n",
    "y0 = x\n",
    "y1 = [10 - i for i in x]\n",
    "y2 = [abs(i - 5) for i in x]\n",
    "\n",
    "# create a new plot\n",
    "s1 = figure(plot_width=250, plot_height=250, title=None)\n",
    "s1.circle(x, y0, size=10, color=\"navy\", alpha=0.5)\n",
    "\n",
    "# create another one\n",
    "s2 = figure(plot_width=250, plot_height=250, title=None)\n",
    "s2.triangle(x, y1, size=10, color=\"firebrick\", alpha=0.5)\n",
    "\n",
    "# create and another\n",
    "s3 = figure(plot_width=250, plot_height=250, title=None)\n",
    "s3.square(x, y2, size=10, color=\"olive\", alpha=0.5)\n",
    "\n",
    "# put the results in a row\n",
    "show(row(s1, s2, s3))\n"
   ]
  },
  {
   "cell_type": "markdown",
   "metadata": {},
   "source": [
    "**Layouts, generally**"
   ]
  },
  {
   "cell_type": "code",
   "execution_count": 36,
   "metadata": {},
   "outputs": [
    {
     "name": "stderr",
     "output_type": "stream",
     "text": [
      "/home/muveexu/anaconda3/lib/python3.6/site-packages/ipykernel_launcher.py:16: DeprecationWarning: This function is deprecated. Please call randint(100, 150 + 1) instead\n",
      "  app.launch_new_instance()\n"
     ]
    },
    {
     "data": {
      "text/html": [
       "\n",
       "<div class=\"bk-root\">\n",
       "    <div class=\"bk-plotdiv\" id=\"b3230b43-2798-4d88-9e07-478697e08014\"></div>\n",
       "</div>"
      ]
     },
     "metadata": {},
     "output_type": "display_data"
    },
    {
     "data": {
      "application/javascript": [
       "(function(root) {\n",
       "  function embed_document(root) {\n",
       "    \n",
       "  var docs_json = {\"a52b3898-1aef-4cd0-9265-c8b6d1ac4723\":{\"roots\":{\"references\":[{\"attributes\":{\"fill_alpha\":0.2,\"fill_color\":\"#7570B3\",\"line_color\":\"#7570B3\",\"x\":{\"field\":\"x\"},\"y\":{\"field\":\"y\"}},\"id\":\"06361be1-e743-4bab-837c-cd1e70a48d81\",\"type\":\"Patch\"},{\"attributes\":{\"callback\":null,\"data\":{\"x\":[1,2,3,4,5,6,7,8,9,10,11,12,13,14,15,16,17,18,19,20,21,22,23,24,25,26,27,28,29,30,31,32,33,34,35,36,37,38,39,40,41,42,43,44,45,46,47,48,49,50,51,52,53,54,55,56,57,58,59,60,61,62,63,64,65,66,67,68,69,70,71,72,73,74,75,76,77,78,79,80,81,82,83,84,85,86,87,88,89,90,91,92,93,94,95,96,97,98,99,100,100,99,98,97,96,95,94,93,92,91,90,89,88,87,86,85,84,83,82,81,80,79,78,77,76,75,74,73,72,71,70,69,68,67,66,65,64,63,62,61,60,59,58,57,56,55,54,53,52,51,50,49,48,47,46,45,44,43,42,41,40,39,38,37,36,35,34,33,32,31,30,29,28,27,26,25,24,23,22,21,20,19,18,17,16,15,14,13,12,11,10,9,8,7,6,5,4,3,2,1],\"y\":[43,28,37,23,13,27,40,45,18,11,40,4,29,4,38,25,18,37,18,1,44,39,28,47,5,23,22,13,39,0,28,32,10,43,12,42,11,27,35,29,13,29,33,14,23,20,26,26,47,30,2,38,39,7,4,24,31,41,34,50,19,0,24,43,35,29,12,33,38,20,8,41,50,14,50,50,19,36,47,19,3,36,3,11,45,35,10,21,2,11,28,37,9,13,17,0,37,34,16,16,116,116,134,137,100,117,113,109,137,128,111,102,121,110,135,145,111,103,136,103,119,147,136,119,150,150,114,150,141,108,120,138,133,112,129,135,143,124,100,119,150,134,141,131,124,104,107,139,138,102,130,147,126,126,120,123,114,133,129,113,129,135,127,111,142,112,143,110,132,128,100,139,113,122,123,105,147,128,139,144,101,118,137,118,125,138,104,129,104,140,111,118,145,140,127,113,123,137,128,143]},\"selected\":{\"id\":\"9a17cc1c-9f81-421b-8212-120254991bae\",\"type\":\"Selection\"},\"selection_policy\":{\"id\":\"7fbdd1cc-38ed-415f-b21d-5fbfdedbbf5e\",\"type\":\"UnionRenderers\"}},\"id\":\"bee10c43-de41-47dc-89d4-a424fad5d23f\",\"type\":\"ColumnDataSource\"},{\"attributes\":{\"dimension\":1,\"grid_line_alpha\":{\"value\":0.4},\"plot\":{\"id\":\"f7c79e93-687e-486d-8def-034d67b58996\",\"subtype\":\"Figure\",\"type\":\"Plot\"},\"ticker\":{\"id\":\"3ba42280-1b3d-4f51-accf-091619ffb106\",\"type\":\"BasicTicker\"}},\"id\":\"6f20ab4d-bab9-4b84-af5b-92f6604b78c1\",\"type\":\"Grid\"},{\"attributes\":{\"callback\":null},\"id\":\"db66016b-b9bd-4d18-8cf8-d384be60fe6a\",\"type\":\"DataRange1d\"},{\"attributes\":{\"active_drag\":\"auto\",\"active_inspect\":\"auto\",\"active_scroll\":\"auto\",\"active_tap\":\"auto\",\"tools\":[{\"id\":\"95bcf8ba-aa15-4713-a11e-16d64dfc7f4b\",\"type\":\"PanTool\"}]},\"id\":\"f1221868-7e2a-4afc-ba50-3c27ae386b0d\",\"type\":\"Toolbar\"},{\"attributes\":{\"callback\":null},\"id\":\"cb9b5b2d-8d3c-49d1-8df3-bb8bc48c3744\",\"type\":\"DataRange1d\"},{\"attributes\":{},\"id\":\"0400c696-517d-4500-8cd9-d41b99a38830\",\"type\":\"LinearScale\"},{\"attributes\":{},\"id\":\"152622c1-297f-405d-885d-4e1cc9c6d42f\",\"type\":\"LinearScale\"},{\"attributes\":{\"grid_line_alpha\":{\"value\":0.4},\"plot\":{\"id\":\"f7c79e93-687e-486d-8def-034d67b58996\",\"subtype\":\"Figure\",\"type\":\"Plot\"},\"ticker\":{\"id\":\"2cefc2f4-ae83-4880-a72c-9914ed6ed23c\",\"type\":\"DatetimeTicker\"}},\"id\":\"83123112-6452-4313-b89d-9f2e2aa5c34b\",\"type\":\"Grid\"},{\"attributes\":{\"formatter\":{\"id\":\"4d6b0a81-0601-4b8b-85ba-4f5e48e29c5a\",\"type\":\"DatetimeTickFormatter\"},\"plot\":{\"id\":\"f7c79e93-687e-486d-8def-034d67b58996\",\"subtype\":\"Figure\",\"type\":\"Plot\"},\"ticker\":{\"id\":\"2cefc2f4-ae83-4880-a72c-9914ed6ed23c\",\"type\":\"DatetimeTicker\"}},\"id\":\"54ae3428-b2c7-4d41-8f7c-ee437edd7d6f\",\"type\":\"DatetimeAxis\"},{\"attributes\":{\"num_minor_ticks\":5,\"tickers\":[{\"id\":\"2d6652da-ecae-41dd-b375-af82e78afd18\",\"type\":\"AdaptiveTicker\"},{\"id\":\"3f6bba98-4940-4b21-b25b-1db075d67dce\",\"type\":\"AdaptiveTicker\"},{\"id\":\"ab70f728-96f7-496e-a0e2-ab44103e8855\",\"type\":\"AdaptiveTicker\"},{\"id\":\"4290f49e-c11e-45f6-a75a-81cb57c0afd9\",\"type\":\"DaysTicker\"},{\"id\":\"bc77bb4d-a74a-4fe3-8805-4882140aa821\",\"type\":\"DaysTicker\"},{\"id\":\"1b7e0e64-3b7e-4578-be34-d9d8d48f4590\",\"type\":\"DaysTicker\"},{\"id\":\"2584d058-74e7-44d3-94be-dda684533a7a\",\"type\":\"DaysTicker\"},{\"id\":\"98512a19-5ec3-4ff8-86c4-8e2b182ecf88\",\"type\":\"MonthsTicker\"},{\"id\":\"64ee8a52-9f49-4ff7-86e4-1b081b49fc70\",\"type\":\"MonthsTicker\"},{\"id\":\"d0533724-fdfb-4303-8720-1a26b857ea70\",\"type\":\"MonthsTicker\"},{\"id\":\"ab0d1d7d-b743-4704-a0c0-ae3b6fe193b2\",\"type\":\"MonthsTicker\"},{\"id\":\"1ac57d30-bea8-4305-a29a-eccc96079084\",\"type\":\"YearsTicker\"}]},\"id\":\"2cefc2f4-ae83-4880-a72c-9914ed6ed23c\",\"type\":\"DatetimeTicker\"},{\"attributes\":{\"formatter\":{\"id\":\"077d9546-715f-4f3f-81ff-a18ae1e41caa\",\"type\":\"BasicTickFormatter\"},\"plot\":{\"id\":\"f7c79e93-687e-486d-8def-034d67b58996\",\"subtype\":\"Figure\",\"type\":\"Plot\"},\"ticker\":{\"id\":\"3ba42280-1b3d-4f51-accf-091619ffb106\",\"type\":\"BasicTicker\"}},\"id\":\"ded781b8-2d06-498a-ae4a-b903c0e808fa\",\"type\":\"LinearAxis\"},{\"attributes\":{},\"id\":\"3ba42280-1b3d-4f51-accf-091619ffb106\",\"type\":\"BasicTicker\"},{\"attributes\":{\"plot\":null,\"text\":\"Bollinger Bands\"},\"id\":\"50f7cef7-90c2-4bef-9246-08b7f0ac3f67\",\"type\":\"Title\"},{\"attributes\":{\"bottom_units\":\"screen\",\"fill_alpha\":{\"value\":0.5},\"fill_color\":{\"value\":\"lightgrey\"},\"left_units\":\"screen\",\"level\":\"overlay\",\"line_alpha\":{\"value\":1.0},\"line_color\":{\"value\":\"black\"},\"line_dash\":[4,4],\"line_width\":{\"value\":2},\"plot\":null,\"render_mode\":\"css\",\"right_units\":\"screen\",\"top_units\":\"screen\"},\"id\":\"a546dc51-47e7-4d33-bcb0-6c6bf5c373c5\",\"type\":\"BoxAnnotation\"},{\"attributes\":{\"plot\":{\"id\":\"18a71f1d-b396-45a6-8a89-3070df5f5a4b\",\"subtype\":\"Figure\",\"type\":\"Plot\"},\"ticker\":{\"id\":\"582f259d-72ec-4a61-99b0-42e829249a8f\",\"type\":\"BasicTicker\"}},\"id\":\"783b8e60-c91f-4b05-97ef-5024d2cb6e87\",\"type\":\"Grid\"},{\"attributes\":{},\"id\":\"95bcf8ba-aa15-4713-a11e-16d64dfc7f4b\",\"type\":\"PanTool\"},{\"attributes\":{\"formatter\":{\"id\":\"3ae4781b-2e50-4508-b5ec-fea4ca1ddb81\",\"type\":\"BasicTickFormatter\"},\"plot\":{\"id\":\"18a71f1d-b396-45a6-8a89-3070df5f5a4b\",\"subtype\":\"Figure\",\"type\":\"Plot\"},\"ticker\":{\"id\":\"582f259d-72ec-4a61-99b0-42e829249a8f\",\"type\":\"BasicTicker\"}},\"id\":\"f39024b6-c6c4-4772-b075-4d76d725f7ee\",\"type\":\"LinearAxis\"},{\"attributes\":{\"fill_alpha\":0.1,\"fill_color\":\"#1f77b4\",\"line_alpha\":0.1,\"line_color\":\"#1f77b4\",\"x\":{\"field\":\"x\"},\"y\":{\"field\":\"y\"}},\"id\":\"5173e696-296d-43b3-b96f-e5f5faa37fdf\",\"type\":\"Patch\"},{\"attributes\":{},\"id\":\"582f259d-72ec-4a61-99b0-42e829249a8f\",\"type\":\"BasicTicker\"},{\"attributes\":{\"data_source\":{\"id\":\"bee10c43-de41-47dc-89d4-a424fad5d23f\",\"type\":\"ColumnDataSource\"},\"glyph\":{\"id\":\"06361be1-e743-4bab-837c-cd1e70a48d81\",\"type\":\"Patch\"},\"hover_glyph\":null,\"muted_glyph\":null,\"nonselection_glyph\":{\"id\":\"5173e696-296d-43b3-b96f-e5f5faa37fdf\",\"type\":\"Patch\"},\"selection_glyph\":null,\"view\":{\"id\":\"6cabb0dd-0ffc-4018-8069-6760a3ba87b1\",\"type\":\"CDSView\"}},\"id\":\"c2a0fa13-55a4-4331-b1cb-b59caaed8ce8\",\"type\":\"GlyphRenderer\"},{\"attributes\":{\"formatter\":{\"id\":\"6ba676ba-763c-4ac4-83ae-80dc9e5eb2a8\",\"type\":\"BasicTickFormatter\"},\"plot\":{\"id\":\"18a71f1d-b396-45a6-8a89-3070df5f5a4b\",\"subtype\":\"Figure\",\"type\":\"Plot\"},\"ticker\":{\"id\":\"83868199-ddb4-477b-bc99-3d76868289e9\",\"type\":\"BasicTicker\"}},\"id\":\"1088bedb-b977-409a-9369-6896a0a7c182\",\"type\":\"LinearAxis\"},{\"attributes\":{\"source\":{\"id\":\"bee10c43-de41-47dc-89d4-a424fad5d23f\",\"type\":\"ColumnDataSource\"}},\"id\":\"6cabb0dd-0ffc-4018-8069-6760a3ba87b1\",\"type\":\"CDSView\"},{\"attributes\":{},\"id\":\"83868199-ddb4-477b-bc99-3d76868289e9\",\"type\":\"BasicTicker\"},{\"attributes\":{\"dimension\":1,\"plot\":{\"id\":\"18a71f1d-b396-45a6-8a89-3070df5f5a4b\",\"subtype\":\"Figure\",\"type\":\"Plot\"},\"ticker\":{\"id\":\"83868199-ddb4-477b-bc99-3d76868289e9\",\"type\":\"BasicTicker\"}},\"id\":\"6954cf0b-44ec-4294-8c9a-e4f5c7aa981c\",\"type\":\"Grid\"},{\"attributes\":{\"callback\":null,\"data\":{\"x\":{\"__ndarray__\":\"AAAAAAAAAAAxb2dIzNu5PzFvZ0jM28k/ZZNNNtlk0z8xb2dIzNvZP3+lQK1fKeA/ZZNNNtlk4z9LgVq/UqDmPzFvZ0jM2+k/F1100UUX7T9/pUCtXynwP3Icx3Ecx/E/ZZNNNtlk8z9YCtT6lQL1P0uBWr9SoPY/Pvjggw8++D8xb2dIzNv5PyTm7QyJefs/F1100UUX/T8K1PqVArX+P3+lQK1fKQBA+OCDDz74AEByHMdxHMcBQOtXCtT6lQJAZZNNNtlkA0DezpCYtzMEQFgK1PqVAgVA0UUXXXTRBUBLgVq/UqAGQMS8nSExbwdAPvjggw8+CEC3MyTm7QwJQDFvZ0jM2wlAq6qqqqqqCkAk5u0MiXkLQJ4hMW9nSAxAF1100UUXDUCRmLczJOYNQArU+pUCtQ5AhA8++OCDD0B/pUCtXykQQDtDYt7OkBBA+OCDDz74EEC1fqVArV8RQHIcx3EcxxFALrrooosuEkDrVwrU+pUSQKj1KwVq/RJAZZNNNtlkE0AiMW9nSMwTQN7OkJi3MxRAm2yyySabFEBYCtT6lQIVQBWo9SsFahVA0UUXXXTRFUCO4ziO4zgWQEuBWr9SoBZACB988MEHF0DEvJ0hMW8XQIFav1Kg1hdAPvjggw8+GED7lQK1fqUYQLczJObtDBlAdNFFF110GUAxb2dIzNsZQO4MiXk7QxpAq6qqqqqqGkBnSMzbGRIbQCTm7QyJeRtA4YMPPvjgG0CeITFvZ0gcQFq/UqDWrxxAF1100UUXHUDU+pUCtX4dQJGYtzMk5h1ATTbZZJNNHkAK1PqVArUeQMdxHMdxHB9AhA8++OCDH0BArV8pUOsfQH+lQK1fKSBAXXTRRRddIEA7Q2LezpAgQBoS83aGxCBA+OCDDz74IEDXrxSo9SshQLV+pUCtXyFAk0022WSTIUByHMdxHMchQFDrVwrU+iFALrrooosuIkANiXk7Q2IiQOtXCtT6lSJAyiabbLLJIkCo9SsFav0iQIbEvJ0hMSNAZZNNNtlkI0BDYt7OkJgjQCIxb2dIzCNAAAAAAAAAJEA=\",\"dtype\":\"float64\",\"shape\":[100]},\"y\":{\"__ndarray__\":\"AAAAAAAAAABWWTD1i9C5P1FTX5rcrsk/gsOxNjYZ0z9VYwJ3JinZPxcA895s994/joZ7TnE64j/qrfXjmcnkP2ssuWGCIuc/Iswnjgo/6T+RI+TArxnrP1BTS0Sbrew/3oUw9q727T8Xi+UGkPHuP/kGhbqvm+8/OPqkFVLz7z8TWwZkkvfvP5TacY1lqO8/kSusMpoG7z8wOzaS1hPuPz2qWDqU0uw/jV22kxlG6z8pMUFVcXLpP4gS3/dfXOc/1MdGRVcJ5T/m1IwiaH/iP8q16nZlit8/8e22b6rD2T9j8JxQsrnTPwFWfWl/+Mo/+7miP25uvD8ew57TVQ2FP7c2U+b2Mbe/NJcb8IdkyL+cMtDaNXjSv4gGHUH0jdi/BM5I1Z1j3r8dASM//PThv5J0Xo5MieS/fMX9lQTo5r9AD0Xy9Arpv5gfWUKK7Oq/hEBctduH7L9UjGrat9jtv9nTBZKv2+6/Gw5iBB+O778QwS6FNO7vv7NU4lL1+u+/vLAjJUC0778fSaaDzRrvv6PqleQtMO6/ehV7l8X27L+nYD+HxnHrv2M/nOMnpem/D922x5uV57/CVOv4gkjlv1eewt3ew+K/ZCe00UEO4L8DKjT9e13av93iNNGlWdS/wgS4cmdBzL8fFrKmiwu/v2He8+4MDZW/u4zZNsGStD+7ZD9aihnHP7P36Je11tE/W/DDABjy1z9jyIBZ/M7dP8e6gdUKr+E/qWzMAXFI5D//7Lop6KzmP7yvSOox1ug/Al+5UKq+6j+T7POSVmHsP14AZw7yue0/UWGMa/nE7j/0lfnIs3/vP+x2ENY56O8/b1zFynr97z+a4IMvP7/vP+dX8G0pLu8/1DgMKbRL7j8lnQ9hLhrtP1CyCm21nOs/N08I2izX6T+2POhENM7nPxy7bUkbh+U/z6j/pdMH4z+wXUa44VbgP6UpR/aW9to/VbjOZAz51D8WLl/Qi4nNP2bQXAjp08A//1m7LN2Snz/o7+kO/fKxv37G6czszcW/VIdizLk00b98w03tlVXXvzzw4HCMOd2/Uk/z9Z5o4b8=\",\"dtype\":\"float64\",\"shape\":[100]}},\"selected\":{\"id\":\"d7aad9aa-cbc3-4228-aa67-95022334c862\",\"type\":\"Selection\"},\"selection_policy\":{\"id\":\"45f2b1a2-3e55-4062-a95c-396421c39b78\",\"type\":\"UnionRenderers\"}},\"id\":\"5ed4e002-a433-4f3d-990d-0470e2aa05a9\",\"type\":\"ColumnDataSource\"},{\"attributes\":{\"below\":[{\"id\":\"83283976-725d-4d2a-9fe7-94cab528f64c\",\"type\":\"LinearAxis\"}],\"left\":[{\"id\":\"b5925963-5f4c-4e8b-b080-8b61a05b0fa3\",\"type\":\"LinearAxis\"}],\"renderers\":[{\"id\":\"83283976-725d-4d2a-9fe7-94cab528f64c\",\"type\":\"LinearAxis\"},{\"id\":\"ffb4b52f-6297-4d9f-8672-28bf9164e30d\",\"type\":\"Grid\"},{\"id\":\"b5925963-5f4c-4e8b-b080-8b61a05b0fa3\",\"type\":\"LinearAxis\"},{\"id\":\"eaa9c30c-4e6d-489a-b73f-cfc7ccd62c51\",\"type\":\"Grid\"},{\"id\":\"1f089841-a7cb-4a7d-a153-74d466c24c8a\",\"type\":\"GlyphRenderer\"}],\"sizing_mode\":\"stretch_both\",\"title\":{\"id\":\"5af5b2c2-accd-4ff9-830d-98c47d86f021\",\"type\":\"Title\"},\"toolbar\":{\"id\":\"8bc5be21-5602-4a57-a739-4fa7d49417bb\",\"type\":\"Toolbar\"},\"toolbar_location\":null,\"x_range\":{\"id\":\"e7d0b674-d8e1-4248-8436-6a4c238cf4f2\",\"type\":\"DataRange1d\"},\"x_scale\":{\"id\":\"057c45db-f7b3-4b17-9a70-818aa77f81f4\",\"type\":\"LinearScale\"},\"y_range\":{\"id\":\"0f68c5fb-dff3-47cf-a56f-ea1ff9c8e8ba\",\"type\":\"Range1d\"},\"y_scale\":{\"id\":\"aebea42d-12b8-40d9-aedf-acd0caf1ec3f\",\"type\":\"LinearScale\"}},\"id\":\"6133aeec-edb6-4cd2-b927-c5bb1563bd68\",\"subtype\":\"Figure\",\"type\":\"Plot\"},{\"attributes\":{\"children\":[{\"id\":\"f7c79e93-687e-486d-8def-034d67b58996\",\"subtype\":\"Figure\",\"type\":\"Plot\"}],\"sizing_mode\":\"stretch_both\"},\"id\":\"22510d67-e539-40d2-90eb-5393d10d0e0a\",\"type\":\"Row\"},{\"attributes\":{\"callback\":null},\"id\":\"633df21e-a91f-40d3-a0e1-b043dfc83997\",\"type\":\"DataRange1d\"},{\"attributes\":{},\"id\":\"f9f7c54a-b15d-4bd5-80f5-02a9aa1311a4\",\"type\":\"PanTool\"},{\"attributes\":{\"plot\":null,\"text\":\"Sliders example\"},\"id\":\"5af5b2c2-accd-4ff9-830d-98c47d86f021\",\"type\":\"Title\"},{\"attributes\":{\"fill_alpha\":{\"value\":0.5},\"fill_color\":{\"value\":\"olive\"},\"line_alpha\":{\"value\":0.5},\"line_color\":{\"value\":\"olive\"},\"size\":{\"units\":\"screen\",\"value\":8},\"x\":{\"field\":\"x\"},\"y\":{\"field\":\"y\"}},\"id\":\"9cb14510-8815-42ef-b159-2b2437ef4314\",\"type\":\"Circle\"},{\"attributes\":{\"callback\":null},\"id\":\"e7d0b674-d8e1-4248-8436-6a4c238cf4f2\",\"type\":\"DataRange1d\"},{\"attributes\":{\"callback\":null,\"overlay\":{\"id\":\"a546dc51-47e7-4d33-bcb0-6c6bf5c373c5\",\"type\":\"BoxAnnotation\"}},\"id\":\"2410c342-9e0d-4dfe-acba-bbbdaf691421\",\"type\":\"BoxSelectTool\"},{\"attributes\":{\"active_drag\":\"auto\",\"active_inspect\":\"auto\",\"active_scroll\":\"auto\",\"active_tap\":\"auto\"},\"id\":\"8bc5be21-5602-4a57-a739-4fa7d49417bb\",\"type\":\"Toolbar\"},{\"attributes\":{\"source\":{\"id\":\"059b4758-c5e3-4237-8c6c-adf17508593f\",\"type\":\"ColumnDataSource\"}},\"id\":\"d72e5b1f-ddb7-4aa4-ad2f-3b4e5f91b1fb\",\"type\":\"CDSView\"},{\"attributes\":{\"data_source\":{\"id\":\"059b4758-c5e3-4237-8c6c-adf17508593f\",\"type\":\"ColumnDataSource\"},\"glyph\":{\"id\":\"9cb14510-8815-42ef-b159-2b2437ef4314\",\"type\":\"Circle\"},\"hover_glyph\":null,\"muted_glyph\":null,\"nonselection_glyph\":{\"id\":\"df9090e6-27de-4a1b-92d6-cc09a645c1d1\",\"type\":\"Circle\"},\"selection_glyph\":null,\"view\":{\"id\":\"d72e5b1f-ddb7-4aa4-ad2f-3b4e5f91b1fb\",\"type\":\"CDSView\"}},\"id\":\"c233f0c7-53d8-42e0-ad75-89a0c440d150\",\"type\":\"GlyphRenderer\"},{\"attributes\":{\"line_alpha\":0.6,\"line_color\":\"#1f77b4\",\"line_width\":3,\"x\":{\"field\":\"x\"},\"y\":{\"field\":\"y\"}},\"id\":\"a0cfbced-530c-4996-86e4-14d134e2376c\",\"type\":\"Line\"},{\"attributes\":{},\"id\":\"057c45db-f7b3-4b17-9a70-818aa77f81f4\",\"type\":\"LinearScale\"},{\"attributes\":{\"fill_alpha\":{\"value\":0.1},\"fill_color\":{\"value\":\"#1f77b4\"},\"line_alpha\":{\"value\":0.1},\"line_color\":{\"value\":\"#1f77b4\"},\"size\":{\"units\":\"screen\",\"value\":8},\"x\":{\"field\":\"x\"},\"y\":{\"field\":\"y\"}},\"id\":\"df9090e6-27de-4a1b-92d6-cc09a645c1d1\",\"type\":\"Circle\"},{\"attributes\":{\"callback\":null,\"end\":10,\"start\":-10},\"id\":\"0f68c5fb-dff3-47cf-a56f-ea1ff9c8e8ba\",\"type\":\"Range1d\"},{\"attributes\":{},\"id\":\"aebea42d-12b8-40d9-aedf-acd0caf1ec3f\",\"type\":\"LinearScale\"},{\"attributes\":{},\"id\":\"7eec26da-275c-42a1-8937-baaf5f1f37ce\",\"type\":\"BasicTickFormatter\"},{\"attributes\":{\"children\":[{\"id\":\"b5ea656e-9095-42af-b21a-d7997090ba67\",\"subtype\":\"Figure\",\"type\":\"Plot\"},{\"id\":\"804e9c11-0204-45c9-83e3-154fea7c2cc8\",\"subtype\":\"Figure\",\"type\":\"Plot\"},{\"id\":\"18a71f1d-b396-45a6-8a89-3070df5f5a4b\",\"subtype\":\"Figure\",\"type\":\"Plot\"}],\"sizing_mode\":\"stretch_both\"},\"id\":\"e22492c4-e245-41ba-a668-74db70c5a60f\",\"type\":\"Row\"},{\"attributes\":{\"plot\":{\"id\":\"6133aeec-edb6-4cd2-b927-c5bb1563bd68\",\"subtype\":\"Figure\",\"type\":\"Plot\"},\"ticker\":{\"id\":\"f6fb2b81-446d-40da-a32f-2bef3e94c0c4\",\"type\":\"BasicTicker\"}},\"id\":\"ffb4b52f-6297-4d9f-8672-28bf9164e30d\",\"type\":\"Grid\"},{\"attributes\":{\"children\":[{\"id\":\"22510d67-e539-40d2-90eb-5393d10d0e0a\",\"type\":\"Row\"},{\"id\":\"f97353bf-bb7d-4571-84f0-66c3d3c1b569\",\"type\":\"Row\"},{\"id\":\"e22492c4-e245-41ba-a668-74db70c5a60f\",\"type\":\"Row\"}],\"sizing_mode\":\"stretch_both\"},\"id\":\"bdeff3b6-e3fc-4a87-ae45-5661ad6f5d68\",\"type\":\"Column\"},{\"attributes\":{\"formatter\":{\"id\":\"eea5e363-0346-46b4-a4b5-511c7190f306\",\"type\":\"BasicTickFormatter\"},\"plot\":{\"id\":\"6133aeec-edb6-4cd2-b927-c5bb1563bd68\",\"subtype\":\"Figure\",\"type\":\"Plot\"},\"ticker\":{\"id\":\"f6fb2b81-446d-40da-a32f-2bef3e94c0c4\",\"type\":\"BasicTicker\"}},\"id\":\"83283976-725d-4d2a-9fe7-94cab528f64c\",\"type\":\"LinearAxis\"},{\"attributes\":{},\"id\":\"4d6b0a81-0601-4b8b-85ba-4f5e48e29c5a\",\"type\":\"DatetimeTickFormatter\"},{\"attributes\":{},\"id\":\"f6fb2b81-446d-40da-a32f-2bef3e94c0c4\",\"type\":\"BasicTicker\"},{\"attributes\":{\"formatter\":{\"id\":\"7eec26da-275c-42a1-8937-baaf5f1f37ce\",\"type\":\"BasicTickFormatter\"},\"plot\":{\"id\":\"6133aeec-edb6-4cd2-b927-c5bb1563bd68\",\"subtype\":\"Figure\",\"type\":\"Plot\"},\"ticker\":{\"id\":\"d6837585-743c-4b51-ba28-9ae2b22b83ff\",\"type\":\"BasicTicker\"}},\"id\":\"b5925963-5f4c-4e8b-b080-8b61a05b0fa3\",\"type\":\"LinearAxis\"},{\"attributes\":{\"plot\":null,\"text\":\"\"},\"id\":\"ba411216-dbd5-410f-9597-eba9e39980fe\",\"type\":\"Title\"},{\"attributes\":{\"plot\":null,\"text\":\"\"},\"id\":\"f1c3e7f8-d0ac-47b9-b23c-962db0098219\",\"type\":\"Title\"},{\"attributes\":{},\"id\":\"d6837585-743c-4b51-ba28-9ae2b22b83ff\",\"type\":\"BasicTicker\"},{\"attributes\":{\"dimension\":1,\"plot\":{\"id\":\"6133aeec-edb6-4cd2-b927-c5bb1563bd68\",\"subtype\":\"Figure\",\"type\":\"Plot\"},\"ticker\":{\"id\":\"d6837585-743c-4b51-ba28-9ae2b22b83ff\",\"type\":\"BasicTicker\"}},\"id\":\"eaa9c30c-4e6d-489a-b73f-cfc7ccd62c51\",\"type\":\"Grid\"},{\"attributes\":{},\"id\":\"6ba676ba-763c-4ac4-83ae-80dc9e5eb2a8\",\"type\":\"BasicTickFormatter\"},{\"attributes\":{},\"id\":\"077d9546-715f-4f3f-81ff-a18ae1e41caa\",\"type\":\"BasicTickFormatter\"},{\"attributes\":{\"args\":{\"amp\":{\"id\":\"8090bca5-079d-4a32-bc87-81c89ed4e9f5\",\"type\":\"Slider\"},\"freq\":{\"id\":\"619536f7-d681-4641-aadc-de079efb4e9e\",\"type\":\"Slider\"},\"offset\":{\"id\":\"824b39ad-7875-4d1c-8e50-270f80de8152\",\"type\":\"Slider\"},\"phase\":{\"id\":\"33cbd7e1-9a71-4f00-86f0-d9684d78d9b7\",\"type\":\"Slider\"},\"source\":{\"id\":\"5ed4e002-a433-4f3d-990d-0470e2aa05a9\",\"type\":\"ColumnDataSource\"}},\"code\":\"\\n        var data = source.data;\\n        var A = amp.value;\\n        var k = freq.value;\\n        var phi = phase.value;\\n        var B = offset.value;\\n        var x = data['x']\\n        var y = data['y']\\n        for (var i = 0; i < x.length; i++) {\\n            y[i] = B + A*Math.sin(k*x[i]+phi);\\n        }\\n        source.change.emit();\\n    \"},\"id\":\"9440dbde-1173-4117-b124-181f7d1fe102\",\"type\":\"CustomJS\"},{\"attributes\":{\"line_alpha\":0.1,\"line_color\":\"#1f77b4\",\"line_width\":3,\"x\":{\"field\":\"x\"},\"y\":{\"field\":\"y\"}},\"id\":\"dc00fd0d-11ea-40d9-b6ea-877228c905ce\",\"type\":\"Line\"},{\"attributes\":{},\"id\":\"c8dc87f3-1a1a-404a-bf2f-6013a697205a\",\"type\":\"BasicTickFormatter\"},{\"attributes\":{\"data_source\":{\"id\":\"5ed4e002-a433-4f3d-990d-0470e2aa05a9\",\"type\":\"ColumnDataSource\"},\"glyph\":{\"id\":\"a0cfbced-530c-4996-86e4-14d134e2376c\",\"type\":\"Line\"},\"hover_glyph\":null,\"muted_glyph\":null,\"nonselection_glyph\":{\"id\":\"dc00fd0d-11ea-40d9-b6ea-877228c905ce\",\"type\":\"Line\"},\"selection_glyph\":null,\"view\":{\"id\":\"9ee0a746-d0b0-43b1-ba91-877a43da43ef\",\"type\":\"CDSView\"}},\"id\":\"1f089841-a7cb-4a7d-a153-74d466c24c8a\",\"type\":\"GlyphRenderer\"},{\"attributes\":{},\"id\":\"eea5e363-0346-46b4-a4b5-511c7190f306\",\"type\":\"BasicTickFormatter\"},{\"attributes\":{\"source\":{\"id\":\"5ed4e002-a433-4f3d-990d-0470e2aa05a9\",\"type\":\"ColumnDataSource\"}},\"id\":\"9ee0a746-d0b0-43b1-ba91-877a43da43ef\",\"type\":\"CDSView\"},{\"attributes\":{},\"id\":\"8d79449a-f5ca-4d31-818c-591dad93cd51\",\"type\":\"BasicTickFormatter\"},{\"attributes\":{\"callback\":{\"id\":\"9440dbde-1173-4117-b124-181f7d1fe102\",\"type\":\"CustomJS\"},\"callback_policy\":\"mouseup\",\"end\":10,\"start\":0.1,\"step\":0.1,\"title\":\"Amplitude\",\"value\":1},\"id\":\"8090bca5-079d-4a32-bc87-81c89ed4e9f5\",\"type\":\"Slider\"},{\"attributes\":{\"mantissas\":[1,2,5],\"max_interval\":500.0,\"num_minor_ticks\":0},\"id\":\"2d6652da-ecae-41dd-b375-af82e78afd18\",\"type\":\"AdaptiveTicker\"},{\"attributes\":{\"below\":[{\"id\":\"40a69d1b-7cf7-4569-8f3c-de4eab1a3f79\",\"type\":\"LinearAxis\"}],\"left\":[{\"id\":\"243c9e6b-5615-4771-aff2-978621b0eaa3\",\"type\":\"LinearAxis\"}],\"renderers\":[{\"id\":\"40a69d1b-7cf7-4569-8f3c-de4eab1a3f79\",\"type\":\"LinearAxis\"},{\"id\":\"cf16fa05-348e-4073-8867-00502f6811d2\",\"type\":\"Grid\"},{\"id\":\"243c9e6b-5615-4771-aff2-978621b0eaa3\",\"type\":\"LinearAxis\"},{\"id\":\"fdc57364-4e1c-4b31-879a-27ba2dfc0f68\",\"type\":\"Grid\"},{\"id\":\"57f46967-d66e-46d9-a928-d015ba27d026\",\"type\":\"GlyphRenderer\"}],\"sizing_mode\":\"stretch_both\",\"title\":{\"id\":\"9c805e01-9891-4c18-93f3-e90b17a148fa\",\"type\":\"Title\"},\"toolbar\":{\"id\":\"8ef9edd9-2e05-47ad-8738-3c231e8dad73\",\"type\":\"Toolbar\"},\"x_range\":{\"id\":\"ae422e74-188f-4dfe-ac6c-85d15f7d02f5\",\"type\":\"DataRange1d\"},\"x_scale\":{\"id\":\"b4df4829-8805-4928-9685-fb20b907241f\",\"type\":\"LinearScale\"},\"y_range\":{\"id\":\"633df21e-a91f-40d3-a0e1-b043dfc83997\",\"type\":\"DataRange1d\"},\"y_scale\":{\"id\":\"52834303-0bb6-46f2-9570-1194e0672a6d\",\"type\":\"LinearScale\"}},\"id\":\"b5ea656e-9095-42af-b21a-d7997090ba67\",\"subtype\":\"Figure\",\"type\":\"Plot\"},{\"attributes\":{},\"id\":\"bc7cf463-c565-4734-9bdb-840855696aa3\",\"type\":\"BasicTickFormatter\"},{\"attributes\":{\"callback\":{\"id\":\"9440dbde-1173-4117-b124-181f7d1fe102\",\"type\":\"CustomJS\"},\"end\":10,\"start\":0.1,\"step\":0.1,\"title\":\"Frequency\",\"value\":1},\"id\":\"619536f7-d681-4641-aadc-de079efb4e9e\",\"type\":\"Slider\"},{\"attributes\":{},\"id\":\"6e07148c-78b8-430d-b269-b36dd152d7fa\",\"type\":\"BasicTickFormatter\"},{\"attributes\":{\"callback\":{\"id\":\"9440dbde-1173-4117-b124-181f7d1fe102\",\"type\":\"CustomJS\"},\"end\":6.4,\"start\":0,\"step\":0.1,\"title\":\"Phase\",\"value\":0},\"id\":\"33cbd7e1-9a71-4f00-86f0-d9684d78d9b7\",\"type\":\"Slider\"},{\"attributes\":{\"base\":60,\"mantissas\":[1,2,5,10,15,20,30],\"max_interval\":1800000.0,\"min_interval\":1000.0,\"num_minor_ticks\":0},\"id\":\"3f6bba98-4940-4b21-b25b-1db075d67dce\",\"type\":\"AdaptiveTicker\"},{\"attributes\":{\"callback\":{\"id\":\"9440dbde-1173-4117-b124-181f7d1fe102\",\"type\":\"CustomJS\"},\"end\":5,\"start\":-5,\"step\":0.1,\"title\":\"Offset\",\"value\":0},\"id\":\"824b39ad-7875-4d1c-8e50-270f80de8152\",\"type\":\"Slider\"},{\"attributes\":{},\"id\":\"3ae4781b-2e50-4508-b5ec-fea4ca1ddb81\",\"type\":\"BasicTickFormatter\"},{\"attributes\":{\"children\":[{\"id\":\"8090bca5-079d-4a32-bc87-81c89ed4e9f5\",\"type\":\"Slider\"},{\"id\":\"619536f7-d681-4641-aadc-de079efb4e9e\",\"type\":\"Slider\"},{\"id\":\"33cbd7e1-9a71-4f00-86f0-d9684d78d9b7\",\"type\":\"Slider\"},{\"id\":\"824b39ad-7875-4d1c-8e50-270f80de8152\",\"type\":\"Slider\"}],\"sizing_mode\":\"stretch_both\"},\"id\":\"8892ca4b-ad37-4ecd-837a-e8c54a42fff6\",\"type\":\"WidgetBox\"},{\"attributes\":{},\"id\":\"14d6eb49-bf0f-4bae-a4f3-f4cf37d479ba\",\"type\":\"Selection\"},{\"attributes\":{\"active_drag\":\"auto\",\"active_inspect\":\"auto\",\"active_scroll\":\"auto\",\"active_tap\":\"auto\",\"tools\":[{\"id\":\"7ad088e5-a515-43fa-a673-599aeeb3d72f\",\"type\":\"PanTool\"}]},\"id\":\"8ef9edd9-2e05-47ad-8738-3c231e8dad73\",\"type\":\"Toolbar\"},{\"attributes\":{\"callback\":null,\"data\":{\"x\":{\"__ndarray__\":\"AAAAAAAAAACRGkt8Vz/AP5EaS3xXP9A/2qdwOgNf2D+RGkt8Vz/gPzXhXVstT+Q/2qdwOgNf6D9+boMZ2W7sP5EaS3xXP/A/433Ua0JH8j814V1bLU/0P4dE50oYV/Y/2qdwOgNf+D8sC/op7mb6P35ugxnZbvw/0NEMCcR2/j+RGkt8Vz8AQDrMD/RMQwFA433Ua0JHAkCML5njN0sDQDXhXVstTwRA3pIi0yJTBUCHROdKGFcGQDD2q8INWwdA2qdwOgNfCECDWTWy+GIJQCwL+inuZgpA1by+oeNqC0B+boMZ2W4MQCcgSJHOcg1A0NEMCcR2DkB5g9GAuXoPQJEaS3xXPxBAZnMtOFLBEEA6zA/0TEMRQA8l8q9HxRFA433Ua0JHEkC41rYnPckSQIwvmeM3SxNAYYh7nzLNE0A14V1bLU8UQAo6QBco0RRA3pIi0yJTFUCz6wSPHdUVQIdE50oYVxZAXJ3JBhPZFkAw9qvCDVsXQAVPjn4I3RdA2qdwOgNfGECuAFP2/eAYQINZNbL4YhlAV7IXbvPkGUAsC/op7mYaQABk3OXo6BpA1by+oeNqG0CpFaFd3uwbQH5ugxnZbhxAUsdl1dPwHEAnIEiRznIdQPt4Kk3J9B1A0NEMCcR2HkCkKu/EvvgeQHmD0YC5eh9ATdyzPLT8H0CRGkt8Vz8gQPtGPNpUgCBAZnMtOFLBIEDQnx6WTwIhQDrMD/RMQyFApPgAUkqEIUAPJfKvR8UhQHlR4w1FBiJA433Ua0JHIkBNqsXJP4giQLjWtic9ySJAIgOohToKI0CML5njN0sjQPZbikE1jCNAYYh7nzLNI0DLtGz9Lw4kQDXhXVstTyRAoA1PuSqQJEAKOkAXKNEkQHRmMXUlEiVA3pIi0yJTJUBJvxMxIJQlQLPrBI8d1SVAHRj27BoWJkCHROdKGFcmQPJw2KgVmCZAXJ3JBhPZJkDGybpkEBonQDD2q8INWydAmyKdIAucJ0AFT45+CN0nQG97f9wFHihA2qdwOgNfKEBE1GGYAKAoQK4AU/b94ChAGC1EVPshKUA=\",\"dtype\":\"float64\",\"shape\":[100]},\"y\":{\"__ndarray__\":\"AAAAAAAAAADwgwJ4LjTAP5qI2QHPEtA/+5MNU1HJ1z8ZTT7q2B3fP0aFmgwa+eI/ABg/lCAV5j+IQCEcMdboP3fOhmLzMOs/EyzujrQb7T/9Izwlj47uPxccgYyLg+8/g6xao7j27z9mZrL8O+bvP7+X94FZUu8/xVNiW3I97j9RB8Ai+6vsP5FWKYlppOo/oSg6uxkv6D/Th2bxK1blPyZGRbpaJeI/8qg+VZVT3T/4C4p0qOPVP+UppLIiM8w/3FNHxZdVuD/J23zJpD6gv+3ENsZjOcS/wo12/ecH0r/dgWKM2KjZv2MTsJELcOC/83ixWvXH47+358MBZM7mv5eCD4nhdum/rExY6Hq267+TIxAn7YPtvwSssILL1+6/70I4BJ6s77/vOc8G+P7vvzTGy1KGze+/3176khQZ77/C8a4NiuTtvzGcHq/dNOy/l0FFlgER6r+FGZN4xoHnvx8WPFK3keS/Cli7+O1M4b+HQNqEwoHbv9kfIiFb+NO/gKyggGI5yL8EhrXMjDywvyGGtcyMPLA/jqyggGI5yD/gHyIhW/jTP39A2oTCgds/DVi7+O1M4T8bFjxSt5HkP4cZk3jGgec/lUFFlgER6j8ynB6v3TTsP8Hxrg2K5O0/4F76khQZ7z80xstShs3vP+85zwb4/u8/8EI4BJ6s7z8DrLCCy9fuP5UjECftg+0/p0xY6Hq26z+Vgg+J4XbpP7fnwwFkzuY/9nixWvXH4z9dE7CRC3DgP9eBYozYqNk/w412/ecH0j/+xDbGYznEP0/bfMmkPqA/+FNHxZdVuL/UKaSyIjPMv+gLinSo49W/+Kg+VZVT3b8lRkW6WiXiv8+HZvErVuW/pig6uxkv6L+TVimJaaTqv1EHwCL7q+y/xFNiW3I97r/Al/eBWVLvv2Zmsvw75u+/g6xao7j2778YHIGMi4Pvv/sjPCWPju6/EyzujrQb7b94zoZi8zDrv4xAIRwx1ui//Bc/lCAV5r9GhZoMGvnivx9NPurYHd+/65MNU1HJ17+SiNkBzxLQv/GDAnguNMC/B1wUMyamwbw=\",\"dtype\":\"float64\",\"shape\":[100]}},\"selected\":{\"id\":\"a22b4fde-5bde-4ad8-a09f-c19d553b779b\",\"type\":\"Selection\"},\"selection_policy\":{\"id\":\"237f29b2-a28a-4481-bfb4-208a4783fada\",\"type\":\"UnionRenderers\"}},\"id\":\"7bdb0607-e982-4f03-8cd7-11a5dd352da8\",\"type\":\"ColumnDataSource\"},{\"attributes\":{\"base\":24,\"mantissas\":[1,2,4,6,8,12],\"max_interval\":43200000.0,\"min_interval\":3600000.0,\"num_minor_ticks\":0},\"id\":\"ab70f728-96f7-496e-a0e2-ab44103e8855\",\"type\":\"AdaptiveTicker\"},{\"attributes\":{\"children\":[{\"id\":\"8892ca4b-ad37-4ecd-837a-e8c54a42fff6\",\"type\":\"WidgetBox\"},{\"id\":\"6133aeec-edb6-4cd2-b927-c5bb1563bd68\",\"subtype\":\"Figure\",\"type\":\"Plot\"}],\"sizing_mode\":\"stretch_both\"},\"id\":\"f97353bf-bb7d-4571-84f0-66c3d3c1b569\",\"type\":\"Row\"},{\"attributes\":{\"days\":[1,2,3,4,5,6,7,8,9,10,11,12,13,14,15,16,17,18,19,20,21,22,23,24,25,26,27,28,29,30,31]},\"id\":\"4290f49e-c11e-45f6-a75a-81cb57c0afd9\",\"type\":\"DaysTicker\"},{\"attributes\":{\"days\":[1,4,7,10,13,16,19,22,25,28]},\"id\":\"bc77bb4d-a74a-4fe3-8805-4882140aa821\",\"type\":\"DaysTicker\"},{\"attributes\":{\"callback\":null},\"id\":\"ae422e74-188f-4dfe-ac6c-85d15f7d02f5\",\"type\":\"DataRange1d\"},{\"attributes\":{\"days\":[1,8,15,22]},\"id\":\"1b7e0e64-3b7e-4578-be34-d9d8d48f4590\",\"type\":\"DaysTicker\"},{\"attributes\":{},\"id\":\"b4df4829-8805-4928-9685-fb20b907241f\",\"type\":\"LinearScale\"},{\"attributes\":{\"days\":[1,15]},\"id\":\"2584d058-74e7-44d3-94be-dda684533a7a\",\"type\":\"DaysTicker\"},{\"attributes\":{},\"id\":\"7ad088e5-a515-43fa-a673-599aeeb3d72f\",\"type\":\"PanTool\"},{\"attributes\":{\"months\":[0,1,2,3,4,5,6,7,8,9,10,11]},\"id\":\"98512a19-5ec3-4ff8-86c4-8e2b182ecf88\",\"type\":\"MonthsTicker\"},{\"attributes\":{},\"id\":\"52834303-0bb6-46f2-9570-1194e0672a6d\",\"type\":\"LinearScale\"},{\"attributes\":{\"months\":[0,2,4,6,8,10]},\"id\":\"64ee8a52-9f49-4ff7-86e4-1b081b49fc70\",\"type\":\"MonthsTicker\"},{\"attributes\":{\"below\":[{\"id\":\"54ae3428-b2c7-4d41-8f7c-ee437edd7d6f\",\"type\":\"DatetimeAxis\"}],\"left\":[{\"id\":\"ded781b8-2d06-498a-ae4a-b903c0e808fa\",\"type\":\"LinearAxis\"}],\"plot_width\":800,\"renderers\":[{\"id\":\"54ae3428-b2c7-4d41-8f7c-ee437edd7d6f\",\"type\":\"DatetimeAxis\"},{\"id\":\"83123112-6452-4313-b89d-9f2e2aa5c34b\",\"type\":\"Grid\"},{\"id\":\"ded781b8-2d06-498a-ae4a-b903c0e808fa\",\"type\":\"LinearAxis\"},{\"id\":\"6f20ab4d-bab9-4b84-af5b-92f6604b78c1\",\"type\":\"Grid\"},{\"id\":\"c2a0fa13-55a4-4331-b1cb-b59caaed8ce8\",\"type\":\"GlyphRenderer\"}],\"sizing_mode\":\"stretch_both\",\"title\":{\"id\":\"50f7cef7-90c2-4bef-9246-08b7f0ac3f67\",\"type\":\"Title\"},\"title_location\":\"left\",\"toolbar\":{\"id\":\"f1221868-7e2a-4afc-ba50-3c27ae386b0d\",\"type\":\"Toolbar\"},\"x_range\":{\"id\":\"db66016b-b9bd-4d18-8cf8-d384be60fe6a\",\"type\":\"DataRange1d\"},\"x_scale\":{\"id\":\"0400c696-517d-4500-8cd9-d41b99a38830\",\"type\":\"LinearScale\"},\"y_range\":{\"id\":\"cb9b5b2d-8d3c-49d1-8df3-bb8bc48c3744\",\"type\":\"DataRange1d\"},\"y_scale\":{\"id\":\"152622c1-297f-405d-885d-4e1cc9c6d42f\",\"type\":\"LinearScale\"}},\"id\":\"f7c79e93-687e-486d-8def-034d67b58996\",\"subtype\":\"Figure\",\"type\":\"Plot\"},{\"attributes\":{\"plot\":{\"id\":\"b5ea656e-9095-42af-b21a-d7997090ba67\",\"subtype\":\"Figure\",\"type\":\"Plot\"},\"ticker\":{\"id\":\"1cb2e2f9-e210-4fb9-a7cd-6caaaf7a411a\",\"type\":\"BasicTicker\"}},\"id\":\"cf16fa05-348e-4073-8867-00502f6811d2\",\"type\":\"Grid\"},{\"attributes\":{\"months\":[0,4,8]},\"id\":\"d0533724-fdfb-4303-8720-1a26b857ea70\",\"type\":\"MonthsTicker\"},{\"attributes\":{\"formatter\":{\"id\":\"bc7cf463-c565-4734-9bdb-840855696aa3\",\"type\":\"BasicTickFormatter\"},\"plot\":{\"id\":\"b5ea656e-9095-42af-b21a-d7997090ba67\",\"subtype\":\"Figure\",\"type\":\"Plot\"},\"ticker\":{\"id\":\"1cb2e2f9-e210-4fb9-a7cd-6caaaf7a411a\",\"type\":\"BasicTicker\"}},\"id\":\"40a69d1b-7cf7-4569-8f3c-de4eab1a3f79\",\"type\":\"LinearAxis\"},{\"attributes\":{\"months\":[0,6]},\"id\":\"ab0d1d7d-b743-4704-a0c0-ae3b6fe193b2\",\"type\":\"MonthsTicker\"},{\"attributes\":{},\"id\":\"1cb2e2f9-e210-4fb9-a7cd-6caaaf7a411a\",\"type\":\"BasicTicker\"},{\"attributes\":{},\"id\":\"1ac57d30-bea8-4305-a29a-eccc96079084\",\"type\":\"YearsTicker\"},{\"attributes\":{\"formatter\":{\"id\":\"8d79449a-f5ca-4d31-818c-591dad93cd51\",\"type\":\"BasicTickFormatter\"},\"plot\":{\"id\":\"b5ea656e-9095-42af-b21a-d7997090ba67\",\"subtype\":\"Figure\",\"type\":\"Plot\"},\"ticker\":{\"id\":\"1e31faf8-0da9-4304-9ee0-fef85132dd82\",\"type\":\"BasicTicker\"}},\"id\":\"243c9e6b-5615-4771-aff2-978621b0eaa3\",\"type\":\"LinearAxis\"},{\"attributes\":{\"plot\":null,\"text\":\"\"},\"id\":\"9c805e01-9891-4c18-93f3-e90b17a148fa\",\"type\":\"Title\"},{\"attributes\":{},\"id\":\"7fbdd1cc-38ed-415f-b21d-5fbfdedbbf5e\",\"type\":\"UnionRenderers\"},{\"attributes\":{},\"id\":\"1e31faf8-0da9-4304-9ee0-fef85132dd82\",\"type\":\"BasicTicker\"},{\"attributes\":{},\"id\":\"9a17cc1c-9f81-421b-8212-120254991bae\",\"type\":\"Selection\"},{\"attributes\":{\"dimension\":1,\"plot\":{\"id\":\"b5ea656e-9095-42af-b21a-d7997090ba67\",\"subtype\":\"Figure\",\"type\":\"Plot\"},\"ticker\":{\"id\":\"1e31faf8-0da9-4304-9ee0-fef85132dd82\",\"type\":\"BasicTicker\"}},\"id\":\"fdc57364-4e1c-4b31-879a-27ba2dfc0f68\",\"type\":\"Grid\"},{\"attributes\":{},\"id\":\"45f2b1a2-3e55-4062-a95c-396421c39b78\",\"type\":\"UnionRenderers\"},{\"attributes\":{\"fill_alpha\":{\"value\":0.5},\"fill_color\":{\"value\":\"navy\"},\"line_alpha\":{\"value\":0.5},\"line_color\":{\"value\":\"navy\"},\"size\":{\"units\":\"screen\",\"value\":8},\"x\":{\"field\":\"x\"},\"y\":{\"field\":\"y\"}},\"id\":\"193b94a6-f524-467e-a33e-78d2ee3bc487\",\"type\":\"Circle\"},{\"attributes\":{},\"id\":\"d7aad9aa-cbc3-4228-aa67-95022334c862\",\"type\":\"Selection\"},{\"attributes\":{\"fill_alpha\":{\"value\":0.1},\"fill_color\":{\"value\":\"#1f77b4\"},\"line_alpha\":{\"value\":0.1},\"line_color\":{\"value\":\"#1f77b4\"},\"size\":{\"units\":\"screen\",\"value\":8},\"x\":{\"field\":\"x\"},\"y\":{\"field\":\"y\"}},\"id\":\"9e0f78cb-3db1-4aec-884a-ccab26ef7cf4\",\"type\":\"Circle\"},{\"attributes\":{},\"id\":\"237f29b2-a28a-4481-bfb4-208a4783fada\",\"type\":\"UnionRenderers\"},{\"attributes\":{\"below\":[{\"id\":\"85c41ff5-05ac-40f5-b24e-7e7864e6bd7d\",\"type\":\"LinearAxis\"}],\"left\":[{\"id\":\"806e9920-3f50-41d5-bb22-14f48782a431\",\"type\":\"LinearAxis\"}],\"renderers\":[{\"id\":\"85c41ff5-05ac-40f5-b24e-7e7864e6bd7d\",\"type\":\"LinearAxis\"},{\"id\":\"349d50f1-8630-47cc-b4f4-19df9f18c7a9\",\"type\":\"Grid\"},{\"id\":\"806e9920-3f50-41d5-bb22-14f48782a431\",\"type\":\"LinearAxis\"},{\"id\":\"fba33498-46d9-4bb4-ac7c-8bbd2bd8bbd4\",\"type\":\"Grid\"},{\"id\":\"a726b03e-70dc-4b8c-880b-da538dd00e25\",\"type\":\"GlyphRenderer\"}],\"sizing_mode\":\"stretch_both\",\"title\":{\"id\":\"ba411216-dbd5-410f-9597-eba9e39980fe\",\"type\":\"Title\"},\"toolbar\":{\"id\":\"fd075ecf-684e-41a7-a1e4-960145a45f19\",\"type\":\"Toolbar\"},\"x_range\":{\"id\":\"ae422e74-188f-4dfe-ac6c-85d15f7d02f5\",\"type\":\"DataRange1d\"},\"x_scale\":{\"id\":\"f161238e-3265-4892-8857-851e85fe1840\",\"type\":\"LinearScale\"},\"y_range\":{\"id\":\"633df21e-a91f-40d3-a0e1-b043dfc83997\",\"type\":\"DataRange1d\"},\"y_scale\":{\"id\":\"e2cce2de-a0ce-40c7-9d1e-d9a33b03ca05\",\"type\":\"LinearScale\"}},\"id\":\"804e9c11-0204-45c9-83e3-154fea7c2cc8\",\"subtype\":\"Figure\",\"type\":\"Plot\"},{\"attributes\":{},\"id\":\"a22b4fde-5bde-4ad8-a09f-c19d553b779b\",\"type\":\"Selection\"},{\"attributes\":{\"data_source\":{\"id\":\"7bdb0607-e982-4f03-8cd7-11a5dd352da8\",\"type\":\"ColumnDataSource\"},\"glyph\":{\"id\":\"193b94a6-f524-467e-a33e-78d2ee3bc487\",\"type\":\"Circle\"},\"hover_glyph\":null,\"muted_glyph\":null,\"nonselection_glyph\":{\"id\":\"9e0f78cb-3db1-4aec-884a-ccab26ef7cf4\",\"type\":\"Circle\"},\"selection_glyph\":null,\"view\":{\"id\":\"69fa88b6-cc5a-4e98-8ae9-72bb488022c0\",\"type\":\"CDSView\"}},\"id\":\"57f46967-d66e-46d9-a928-d015ba27d026\",\"type\":\"GlyphRenderer\"},{\"attributes\":{},\"id\":\"fe050318-3d9c-438d-b0b4-fdd44a39b983\",\"type\":\"UnionRenderers\"},{\"attributes\":{\"source\":{\"id\":\"7bdb0607-e982-4f03-8cd7-11a5dd352da8\",\"type\":\"ColumnDataSource\"}},\"id\":\"69fa88b6-cc5a-4e98-8ae9-72bb488022c0\",\"type\":\"CDSView\"},{\"attributes\":{},\"id\":\"566c11fe-7a96-410a-9fcc-30fae9dd5788\",\"type\":\"Selection\"},{\"attributes\":{\"active_drag\":\"auto\",\"active_inspect\":\"auto\",\"active_scroll\":\"auto\",\"active_tap\":\"auto\",\"tools\":[{\"id\":\"353f488b-e428-4d6f-8d4c-137c15b2dbc4\",\"type\":\"PanTool\"}]},\"id\":\"fd075ecf-684e-41a7-a1e4-960145a45f19\",\"type\":\"Toolbar\"},{\"attributes\":{\"callback\":null,\"data\":{\"x\":{\"__ndarray__\":\"AAAAAAAAAACRGkt8Vz/AP5EaS3xXP9A/2qdwOgNf2D+RGkt8Vz/gPzXhXVstT+Q/2qdwOgNf6D9+boMZ2W7sP5EaS3xXP/A/433Ua0JH8j814V1bLU/0P4dE50oYV/Y/2qdwOgNf+D8sC/op7mb6P35ugxnZbvw/0NEMCcR2/j+RGkt8Vz8AQDrMD/RMQwFA433Ua0JHAkCML5njN0sDQDXhXVstTwRA3pIi0yJTBUCHROdKGFcGQDD2q8INWwdA2qdwOgNfCECDWTWy+GIJQCwL+inuZgpA1by+oeNqC0B+boMZ2W4MQCcgSJHOcg1A0NEMCcR2DkB5g9GAuXoPQJEaS3xXPxBAZnMtOFLBEEA6zA/0TEMRQA8l8q9HxRFA433Ua0JHEkC41rYnPckSQIwvmeM3SxNAYYh7nzLNE0A14V1bLU8UQAo6QBco0RRA3pIi0yJTFUCz6wSPHdUVQIdE50oYVxZAXJ3JBhPZFkAw9qvCDVsXQAVPjn4I3RdA2qdwOgNfGECuAFP2/eAYQINZNbL4YhlAV7IXbvPkGUAsC/op7mYaQABk3OXo6BpA1by+oeNqG0CpFaFd3uwbQH5ugxnZbhxAUsdl1dPwHEAnIEiRznIdQPt4Kk3J9B1A0NEMCcR2HkCkKu/EvvgeQHmD0YC5eh9ATdyzPLT8H0CRGkt8Vz8gQPtGPNpUgCBAZnMtOFLBIEDQnx6WTwIhQDrMD/RMQyFApPgAUkqEIUAPJfKvR8UhQHlR4w1FBiJA433Ua0JHIkBNqsXJP4giQLjWtic9ySJAIgOohToKI0CML5njN0sjQPZbikE1jCNAYYh7nzLNI0DLtGz9Lw4kQDXhXVstTyRAoA1PuSqQJEAKOkAXKNEkQHRmMXUlEiVA3pIi0yJTJUBJvxMxIJQlQLPrBI8d1SVAHRj27BoWJkCHROdKGFcmQPJw2KgVmCZAXJ3JBhPZJkDGybpkEBonQDD2q8INWydAmyKdIAucJ0AFT45+CN0nQG97f9wFHihA2qdwOgNfKEBE1GGYAKAoQK4AU/b94ChAGC1EVPshKUA=\",\"dtype\":\"float64\",\"shape\":[100]},\"y\":{\"__ndarray__\":\"AAAAAAAA8D9o+gYFGL7vPyN/Fo5v+e4/XLHeqjC17T9foQT4kvbrP1YykSHGxOk/tDkVSdQo5z9AE3HJfC3kP1wsoPEH3+A/thLH2SiW2j9bQ2NRvgDTP4xzC34aOsY/cyCwKKhcqD8MyeikuUm0v0/eq9oaN8q/PSGBd67u1L+LyZhelmvcv8/m3JG2ueG/hlh3f5705L9dUsfUNNnnv10cd/2OW+q/wfLvCVdx7L8bLVJC9hHuv0PyRoe4Nu+/XjTx7ufa778HB0As4PvvvwQ9tXAZme+/V1DNmyq07r/ZTwivwlDtv4lZi6GZdOu/JeDa0Vgn6b/aPrV2e3Lmv8y0DJEnYeO/+f//////3783i/Tn4LnYv4yAwi7oDdG/3kQPZF83wr9U+ijPKj+QvxHsuGvkX7w/k1rgSlktzj+GU4hOOdfWP1m1P3WwOd4/AasNgtOP4j+XUJVeWbblPzdQz6Jvg+g/uvBkh4zr6j99NRQyxuTsP/FJcov7Zu4/Juk3u/Vr7z+VSynBge/vP5RLKcGB7+8/Jek3u/Vr7z/vSXKL+2buP381FDLG5Ow/uPBkh4zr6j86UM+ib4PoP5RQlV5ZtuU/BasNgtOP4j9TtT91sDneP45TiE4519Y/hVrgSlktzj807Lhr5F+8P8f6KM8qP5C/zUQPZF83wr+TgMIu6A3Rvy+L9Ofgudi/BwAAAAAA4L/PtAyRJ2Hjv9k+tXZ7cua/I+Da0Vgn6b+NWYuhmXTrv9pPCK/CUO2/V1DNmyq07r8DPbVwGZnvvwgHQCzg+++/XjTx7ufa779E8kaHuDbvvx4tUkL2Ee6/wPLvCVdx7L9dHHf9jlvqv2BSx9Q02ee/gVh3f5705L/M5tyRtrnhv4zJmF6Wa9y/RSGBd67u1L8x3qvaGjfKv/DI6KS5SbS/bSCwKKhcqD9zcwt+GjrGP2ZDY1G+ANM/uRLH2SiW2j9aLKDxB9/gPzsTccl8LeQ/uDkVSdQo5z9WMpEhxsTpP16hBPiS9us/X7HeqjC17T8kfxaOb/nuP2j6BgUYvu8/AAAAAAAA8D8=\",\"dtype\":\"float64\",\"shape\":[100]}},\"selected\":{\"id\":\"566c11fe-7a96-410a-9fcc-30fae9dd5788\",\"type\":\"Selection\"},\"selection_policy\":{\"id\":\"fe050318-3d9c-438d-b0b4-fdd44a39b983\",\"type\":\"UnionRenderers\"}},\"id\":\"660788e3-272e-4231-b07a-0b00aee235a5\",\"type\":\"ColumnDataSource\"},{\"attributes\":{},\"id\":\"f161238e-3265-4892-8857-851e85fe1840\",\"type\":\"LinearScale\"},{\"attributes\":{},\"id\":\"f844f0d5-1f9d-4aed-bc74-ce3ba7082f0e\",\"type\":\"UnionRenderers\"},{\"attributes\":{},\"id\":\"353f488b-e428-4d6f-8d4c-137c15b2dbc4\",\"type\":\"PanTool\"},{\"attributes\":{},\"id\":\"e2cce2de-a0ce-40c7-9d1e-d9a33b03ca05\",\"type\":\"LinearScale\"},{\"attributes\":{\"plot\":{\"id\":\"804e9c11-0204-45c9-83e3-154fea7c2cc8\",\"subtype\":\"Figure\",\"type\":\"Plot\"},\"ticker\":{\"id\":\"9a72e6dd-5c39-462b-9319-817c76c4fd18\",\"type\":\"BasicTicker\"}},\"id\":\"349d50f1-8630-47cc-b4f4-19df9f18c7a9\",\"type\":\"Grid\"},{\"attributes\":{\"formatter\":{\"id\":\"6e07148c-78b8-430d-b269-b36dd152d7fa\",\"type\":\"BasicTickFormatter\"},\"plot\":{\"id\":\"804e9c11-0204-45c9-83e3-154fea7c2cc8\",\"subtype\":\"Figure\",\"type\":\"Plot\"},\"ticker\":{\"id\":\"9a72e6dd-5c39-462b-9319-817c76c4fd18\",\"type\":\"BasicTicker\"}},\"id\":\"85c41ff5-05ac-40f5-b24e-7e7864e6bd7d\",\"type\":\"LinearAxis\"},{\"attributes\":{},\"id\":\"9a72e6dd-5c39-462b-9319-817c76c4fd18\",\"type\":\"BasicTicker\"},{\"attributes\":{\"formatter\":{\"id\":\"c8dc87f3-1a1a-404a-bf2f-6013a697205a\",\"type\":\"BasicTickFormatter\"},\"plot\":{\"id\":\"804e9c11-0204-45c9-83e3-154fea7c2cc8\",\"subtype\":\"Figure\",\"type\":\"Plot\"},\"ticker\":{\"id\":\"781573ae-16d1-4425-98e8-5f06c2d26d2f\",\"type\":\"BasicTicker\"}},\"id\":\"806e9920-3f50-41d5-bb22-14f48782a431\",\"type\":\"LinearAxis\"},{\"attributes\":{},\"id\":\"781573ae-16d1-4425-98e8-5f06c2d26d2f\",\"type\":\"BasicTicker\"},{\"attributes\":{\"dimension\":1,\"plot\":{\"id\":\"804e9c11-0204-45c9-83e3-154fea7c2cc8\",\"subtype\":\"Figure\",\"type\":\"Plot\"},\"ticker\":{\"id\":\"781573ae-16d1-4425-98e8-5f06c2d26d2f\",\"type\":\"BasicTicker\"}},\"id\":\"fba33498-46d9-4bb4-ac7c-8bbd2bd8bbd4\",\"type\":\"Grid\"},{\"attributes\":{\"fill_alpha\":{\"value\":0.5},\"fill_color\":{\"value\":\"firebrick\"},\"line_alpha\":{\"value\":0.5},\"line_color\":{\"value\":\"firebrick\"},\"size\":{\"units\":\"screen\",\"value\":8},\"x\":{\"field\":\"x\"},\"y\":{\"field\":\"y\"}},\"id\":\"6df3bff6-9fc6-4a18-80ab-65695321ce3a\",\"type\":\"Circle\"},{\"attributes\":{\"fill_alpha\":{\"value\":0.1},\"fill_color\":{\"value\":\"#1f77b4\"},\"line_alpha\":{\"value\":0.1},\"line_color\":{\"value\":\"#1f77b4\"},\"size\":{\"units\":\"screen\",\"value\":8},\"x\":{\"field\":\"x\"},\"y\":{\"field\":\"y\"}},\"id\":\"7fd24637-79d9-41e5-9da7-d83ca58b68db\",\"type\":\"Circle\"},{\"attributes\":{\"below\":[{\"id\":\"f39024b6-c6c4-4772-b075-4d76d725f7ee\",\"type\":\"LinearAxis\"}],\"left\":[{\"id\":\"1088bedb-b977-409a-9369-6896a0a7c182\",\"type\":\"LinearAxis\"}],\"renderers\":[{\"id\":\"f39024b6-c6c4-4772-b075-4d76d725f7ee\",\"type\":\"LinearAxis\"},{\"id\":\"783b8e60-c91f-4b05-97ef-5024d2cb6e87\",\"type\":\"Grid\"},{\"id\":\"1088bedb-b977-409a-9369-6896a0a7c182\",\"type\":\"LinearAxis\"},{\"id\":\"6954cf0b-44ec-4294-8c9a-e4f5c7aa981c\",\"type\":\"Grid\"},{\"id\":\"a546dc51-47e7-4d33-bcb0-6c6bf5c373c5\",\"type\":\"BoxAnnotation\"},{\"id\":\"c233f0c7-53d8-42e0-ad75-89a0c440d150\",\"type\":\"GlyphRenderer\"}],\"sizing_mode\":\"stretch_both\",\"title\":{\"id\":\"f1c3e7f8-d0ac-47b9-b23c-962db0098219\",\"type\":\"Title\"},\"toolbar\":{\"id\":\"3d53085e-b979-44ae-81ba-12729d4ee33b\",\"type\":\"Toolbar\"},\"x_range\":{\"id\":\"ae422e74-188f-4dfe-ac6c-85d15f7d02f5\",\"type\":\"DataRange1d\"},\"x_scale\":{\"id\":\"7ba00732-3941-424b-a588-809bb1d77ebb\",\"type\":\"LinearScale\"},\"y_range\":{\"id\":\"da935504-2f38-4756-9cb2-d8edd773268b\",\"type\":\"DataRange1d\"},\"y_scale\":{\"id\":\"12328639-e0bd-4004-9dd2-a85405e8d829\",\"type\":\"LinearScale\"}},\"id\":\"18a71f1d-b396-45a6-8a89-3070df5f5a4b\",\"subtype\":\"Figure\",\"type\":\"Plot\"},{\"attributes\":{\"data_source\":{\"id\":\"660788e3-272e-4231-b07a-0b00aee235a5\",\"type\":\"ColumnDataSource\"},\"glyph\":{\"id\":\"6df3bff6-9fc6-4a18-80ab-65695321ce3a\",\"type\":\"Circle\"},\"hover_glyph\":null,\"muted_glyph\":null,\"nonselection_glyph\":{\"id\":\"7fd24637-79d9-41e5-9da7-d83ca58b68db\",\"type\":\"Circle\"},\"selection_glyph\":null,\"view\":{\"id\":\"9e26ee9a-0cdd-4d4d-9d52-09972f0de05e\",\"type\":\"CDSView\"}},\"id\":\"a726b03e-70dc-4b8c-880b-da538dd00e25\",\"type\":\"GlyphRenderer\"},{\"attributes\":{\"source\":{\"id\":\"660788e3-272e-4231-b07a-0b00aee235a5\",\"type\":\"ColumnDataSource\"}},\"id\":\"9e26ee9a-0cdd-4d4d-9d52-09972f0de05e\",\"type\":\"CDSView\"},{\"attributes\":{\"active_drag\":\"auto\",\"active_inspect\":\"auto\",\"active_scroll\":\"auto\",\"active_tap\":\"auto\",\"tools\":[{\"id\":\"f9f7c54a-b15d-4bd5-80f5-02a9aa1311a4\",\"type\":\"PanTool\"},{\"id\":\"2410c342-9e0d-4dfe-acba-bbbdaf691421\",\"type\":\"BoxSelectTool\"}]},\"id\":\"3d53085e-b979-44ae-81ba-12729d4ee33b\",\"type\":\"Toolbar\"},{\"attributes\":{\"callback\":null,\"data\":{\"x\":{\"__ndarray__\":\"AAAAAAAAAACRGkt8Vz/AP5EaS3xXP9A/2qdwOgNf2D+RGkt8Vz/gPzXhXVstT+Q/2qdwOgNf6D9+boMZ2W7sP5EaS3xXP/A/433Ua0JH8j814V1bLU/0P4dE50oYV/Y/2qdwOgNf+D8sC/op7mb6P35ugxnZbvw/0NEMCcR2/j+RGkt8Vz8AQDrMD/RMQwFA433Ua0JHAkCML5njN0sDQDXhXVstTwRA3pIi0yJTBUCHROdKGFcGQDD2q8INWwdA2qdwOgNfCECDWTWy+GIJQCwL+inuZgpA1by+oeNqC0B+boMZ2W4MQCcgSJHOcg1A0NEMCcR2DkB5g9GAuXoPQJEaS3xXPxBAZnMtOFLBEEA6zA/0TEMRQA8l8q9HxRFA433Ua0JHEkC41rYnPckSQIwvmeM3SxNAYYh7nzLNE0A14V1bLU8UQAo6QBco0RRA3pIi0yJTFUCz6wSPHdUVQIdE50oYVxZAXJ3JBhPZFkAw9qvCDVsXQAVPjn4I3RdA2qdwOgNfGECuAFP2/eAYQINZNbL4YhlAV7IXbvPkGUAsC/op7mYaQABk3OXo6BpA1by+oeNqG0CpFaFd3uwbQH5ugxnZbhxAUsdl1dPwHEAnIEiRznIdQPt4Kk3J9B1A0NEMCcR2HkCkKu/EvvgeQHmD0YC5eh9ATdyzPLT8H0CRGkt8Vz8gQPtGPNpUgCBAZnMtOFLBIEDQnx6WTwIhQDrMD/RMQyFApPgAUkqEIUAPJfKvR8UhQHlR4w1FBiJA433Ua0JHIkBNqsXJP4giQLjWtic9ySJAIgOohToKI0CML5njN0sjQPZbikE1jCNAYYh7nzLNI0DLtGz9Lw4kQDXhXVstTyRAoA1PuSqQJEAKOkAXKNEkQHRmMXUlEiVA3pIi0yJTJUBJvxMxIJQlQLPrBI8d1SVAHRj27BoWJkCHROdKGFcmQPJw2KgVmCZAXJ3JBhPZJkDGybpkEBonQDD2q8INWydAmyKdIAucJ0AFT45+CN0nQG97f9wFHihA2qdwOgNfKEBE1GGYAKAoQK4AU/b94ChAGC1EVPshKUA=\",\"dtype\":\"float64\",\"shape\":[100]},\"y\":{\"__ndarray__\":\"AAAAAAAA8D+yzYPRkeXxP7ihgYdrgfM/rb0yquzM9D/245G2v8L1P87bFRfwXvY/2iiqbvqe9j/kKcny1oH2P2p9E6r9B/Y/t9rofWQz9T/V4vYmdwf0P338ARYJifI/RdfykkG+8D9ETRXIBF3tPyugTMuSxOg/JsOhHxvG4z8XRefmX+zcP4TfmO5l1dE/2IAW3tnTuT9QVAYbRxi0v26sY4ZobNC/kDyhvhiP278fJw0IIiDjv8rnndrvKei/4klI9jTQ7L9i6ms85X/wvyB3ITG5U/K/nEtETQ/c879kyJx6lxL1v3a2nZlS8vW/jCxGFqd39r9Ikzy8b6D2v7IbDo0EbPa/VCYsdD3b9b+XNIXNbvD0vyX2CM1fr/O/Ewqe7jod8r/hQKSueEDwv7KoVMWJQey/OkhCQL6N57//x2pm7XjivwmD/egKMNq/WFreULgEzr/gjtyf0basv8DQmYTCjb8/YDFTHT090z9zKk7fyUfePwQ64frNauQ/Br4PG51d6T/UmpIn8OftPyz+X62J+/A/JAqwLSe98j/wrAGOlDH0P9+qQLrTUvU/YiQQQD0c9j8qs4V6k4r2Pw41lOsPnPY/TXYpjGpQ9j9uO9/02qj1P8SNeVoTqPQ/wTrZcjVS8z/dcSFwwazxPxnyVbD+fO8/vXE0K8Ye6z+6a09r11DmP/7dFbP8JuE/QJmw0PVs1z8YNwvg51bIP4A3qsMi+oY/tJyl3I19xb9gjLYfHAnWv+4O12hWfOC/dgkSnTaw5b/Eiyd/wIrqv1M5qN/19+6/bg/Nc81y8b9c/veZwCHzv4mZSz7lgfS/nqNH2pCN9b9BMd7bdED2vxjtFmOwl/a/lMBYHdyR9r+wHoMNEC/2vww2BinjcPW/M3KRy2Ra9L+mR1EcEPDyv8K/p5i5N/G/fKrPIO5w7r87P/7sBPXpv0iCivwvDuW/bUUVRECh3788RM3h1qPUv0S1wErRosK/wBtiTTs7oT9AtNpTsC7LP531ygVNz9g/audXAYjQ4T/buikNCPDmP2xZBmcMses//P//////7z8=\",\"dtype\":\"float64\",\"shape\":[100]}},\"selected\":{\"id\":\"14d6eb49-bf0f-4bae-a4f3-f4cf37d479ba\",\"type\":\"Selection\"},\"selection_policy\":{\"id\":\"f844f0d5-1f9d-4aed-bc74-ce3ba7082f0e\",\"type\":\"UnionRenderers\"}},\"id\":\"059b4758-c5e3-4237-8c6c-adf17508593f\",\"type\":\"ColumnDataSource\"},{\"attributes\":{\"callback\":null},\"id\":\"da935504-2f38-4756-9cb2-d8edd773268b\",\"type\":\"DataRange1d\"},{\"attributes\":{},\"id\":\"12328639-e0bd-4004-9dd2-a85405e8d829\",\"type\":\"LinearScale\"},{\"attributes\":{},\"id\":\"7ba00732-3941-424b-a588-809bb1d77ebb\",\"type\":\"LinearScale\"}],\"root_ids\":[\"bdeff3b6-e3fc-4a87-ae45-5661ad6f5d68\"]},\"title\":\"Bokeh Application\",\"version\":\"0.12.16\"}};\n",
       "  var render_items = [{\"docid\":\"a52b3898-1aef-4cd0-9265-c8b6d1ac4723\",\"elementid\":\"b3230b43-2798-4d88-9e07-478697e08014\",\"modelid\":\"bdeff3b6-e3fc-4a87-ae45-5661ad6f5d68\"}];\n",
       "  root.Bokeh.embed.embed_items_notebook(docs_json, render_items);\n",
       "\n",
       "  }\n",
       "  if (root.Bokeh !== undefined) {\n",
       "    embed_document(root);\n",
       "  } else {\n",
       "    var attempts = 0;\n",
       "    var timer = setInterval(function(root) {\n",
       "      if (root.Bokeh !== undefined) {\n",
       "        embed_document(root);\n",
       "        clearInterval(timer);\n",
       "      }\n",
       "      attempts++;\n",
       "      if (attempts > 100) {\n",
       "        console.log(\"Bokeh: ERROR: Unable to run BokehJS code because BokehJS library is missing\")\n",
       "        clearInterval(timer);\n",
       "      }\n",
       "    }, 10, root)\n",
       "  }\n",
       "})(window);"
      ],
      "application/vnd.bokehjs_exec.v0+json": ""
     },
     "metadata": {
      "application/vnd.bokehjs_exec.v0+json": {
       "id": "bdeff3b6-e3fc-4a87-ae45-5661ad6f5d68"
      }
     },
     "output_type": "display_data"
    }
   ],
   "source": [
    "import numpy as np\n",
    "\n",
    "from bokeh.layouts import layout\n",
    "from bokeh.models import CustomJS, Slider, ColumnDataSource, WidgetBox\n",
    "from bokeh.plotting import figure, output_file, output_notebook, show\n",
    "\n",
    "#output_notebook()\n",
    "\n",
    "output_file('dashboard.html')\n",
    "\n",
    "tools = 'pan'\n",
    "\n",
    "\n",
    "def bollinger():\n",
    "    # Define Bollinger Bands.\n",
    "    upperband = np.random.random_integers(100, 150, size=100)\n",
    "    lowerband = upperband - 100\n",
    "    x_data = np.arange(1, 101)\n",
    "\n",
    "    # Bollinger shading glyph:\n",
    "    band_x = np.append(x_data, x_data[::-1])\n",
    "    band_y = np.append(lowerband, upperband[::-1])\n",
    "\n",
    "    p = figure(x_axis_type='datetime', tools=tools)\n",
    "    p.patch(band_x, band_y, color='#7570B3', fill_alpha=0.2)\n",
    "\n",
    "    p.title.text = 'Bollinger Bands'\n",
    "    p.title_location = 'left'\n",
    "    p.title.align = 'left'\n",
    "    p.plot_height = 600\n",
    "    p.plot_width = 800\n",
    "    p.grid.grid_line_alpha = 0.4\n",
    "    return [p]\n",
    "\n",
    "\n",
    "def slider():\n",
    "    x = np.linspace(0, 10, 100)\n",
    "    y = np.sin(x)\n",
    "\n",
    "    source = ColumnDataSource(data=dict(x=x, y=y))\n",
    "\n",
    "    plot = figure(\n",
    "        y_range=(-10, 10), tools='', toolbar_location=None,\n",
    "        title=\"Sliders example\")\n",
    "    plot.line('x', 'y', source=source, line_width=3, line_alpha=0.6)\n",
    "\n",
    "    callback = CustomJS(args=dict(source=source), code=\"\"\"\n",
    "        var data = source.data;\n",
    "        var A = amp.value;\n",
    "        var k = freq.value;\n",
    "        var phi = phase.value;\n",
    "        var B = offset.value;\n",
    "        var x = data['x']\n",
    "        var y = data['y']\n",
    "        for (var i = 0; i < x.length; i++) {\n",
    "            y[i] = B + A*Math.sin(k*x[i]+phi);\n",
    "        }\n",
    "        source.change.emit();\n",
    "    \"\"\")\n",
    "\n",
    "    amp_slider = Slider(start=0.1, end=10, value=1, step=.1, title=\"Amplitude\", callback=callback, callback_policy='mouseup')\n",
    "    callback.args[\"amp\"] = amp_slider\n",
    "\n",
    "    freq_slider = Slider(start=0.1, end=10, value=1, step=.1, title=\"Frequency\", callback=callback)\n",
    "    callback.args[\"freq\"] = freq_slider\n",
    "\n",
    "    phase_slider = Slider(start=0, end=6.4, value=0, step=.1, title=\"Phase\", callback=callback)\n",
    "    callback.args[\"phase\"] = phase_slider\n",
    "\n",
    "    offset_slider = Slider(start=-5, end=5, value=0, step=.1, title=\"Offset\", callback=callback)\n",
    "    callback.args[\"offset\"] = offset_slider\n",
    "\n",
    "    widgets = WidgetBox(amp_slider, freq_slider, phase_slider, offset_slider)\n",
    "    return [widgets, plot]\n",
    "\n",
    "\n",
    "def linked_panning():\n",
    "    N = 100\n",
    "    x = np.linspace(0, 4 * np.pi, N)\n",
    "    y1 = np.sin(x)\n",
    "    y2 = np.cos(x)\n",
    "    y3 = np.sin(x) + np.cos(x)\n",
    "\n",
    "    s1 = figure(tools=tools)\n",
    "    s1.circle(x, y1, color=\"navy\", size=8, alpha=0.5)\n",
    "    s2 = figure(tools=tools, x_range=s1.x_range, y_range=s1.y_range)\n",
    "    s2.circle(x, y2, color=\"firebrick\", size=8, alpha=0.5)\n",
    "    s3 = figure(tools='pan, box_select', x_range=s1.x_range)\n",
    "    s3.circle(x, y3, color=\"olive\", size=8, alpha=0.5)\n",
    "    return [s1, s2, s3]\n",
    "\n",
    "l = layout([\n",
    "    bollinger(),\n",
    "    slider(),\n",
    "    linked_panning(),\n",
    "], sizing_mode='stretch_both')\n",
    "\n",
    "show(l)\n"
   ]
  },
  {
   "cell_type": "markdown",
   "metadata": {},
   "source": [
    "### Jupyter Interactors"
   ]
  },
  {
   "cell_type": "markdown",
   "metadata": {},
   "source": [
    ">This demo shows off an interactive visualization using `bokeh` for plotting, and Ipython interactors for widgets. The demo runs entirely inside the Ipython notebook, with no `bokeh` server required.\n",
    "\n",
    ">The dropdown offers a choice of trig functions to plot, and the sliders control the frequency, amplitude, and phase. "
   ]
  },
  {
   "cell_type": "code",
   "execution_count": 38,
   "metadata": {},
   "outputs": [
    {
     "data": {
      "text/html": [
       "\n",
       "    <div class=\"bk-root\">\n",
       "        <a href=\"https://bokeh.pydata.org\" target=\"_blank\" class=\"bk-logo bk-logo-small bk-logo-notebook\"></a>\n",
       "        <span id=\"ad3ba983-dbac-4347-b80a-ea295f4ea66d\">Loading BokehJS ...</span>\n",
       "    </div>"
      ]
     },
     "metadata": {},
     "output_type": "display_data"
    },
    {
     "data": {
      "application/javascript": [
       "\n",
       "(function(root) {\n",
       "  function now() {\n",
       "    return new Date();\n",
       "  }\n",
       "\n",
       "  var force = true;\n",
       "\n",
       "  if (typeof (root._bokeh_onload_callbacks) === \"undefined\" || force === true) {\n",
       "    root._bokeh_onload_callbacks = [];\n",
       "    root._bokeh_is_loading = undefined;\n",
       "  }\n",
       "\n",
       "  var JS_MIME_TYPE = 'application/javascript';\n",
       "  var HTML_MIME_TYPE = 'text/html';\n",
       "  var EXEC_MIME_TYPE = 'application/vnd.bokehjs_exec.v0+json';\n",
       "  var CLASS_NAME = 'output_bokeh rendered_html';\n",
       "\n",
       "  /**\n",
       "   * Render data to the DOM node\n",
       "   */\n",
       "  function render(props, node) {\n",
       "    var script = document.createElement(\"script\");\n",
       "    node.appendChild(script);\n",
       "  }\n",
       "\n",
       "  /**\n",
       "   * Handle when an output is cleared or removed\n",
       "   */\n",
       "  function handleClearOutput(event, handle) {\n",
       "    var cell = handle.cell;\n",
       "\n",
       "    var id = cell.output_area._bokeh_element_id;\n",
       "    var server_id = cell.output_area._bokeh_server_id;\n",
       "    // Clean up Bokeh references\n",
       "    if (id !== undefined) {\n",
       "      Bokeh.index[id].model.document.clear();\n",
       "      delete Bokeh.index[id];\n",
       "    }\n",
       "\n",
       "    if (server_id !== undefined) {\n",
       "      // Clean up Bokeh references\n",
       "      var cmd = \"from bokeh.io.state import curstate; print(curstate().uuid_to_server['\" + server_id + \"'].get_sessions()[0].document.roots[0]._id)\";\n",
       "      cell.notebook.kernel.execute(cmd, {\n",
       "        iopub: {\n",
       "          output: function(msg) {\n",
       "            var element_id = msg.content.text.trim();\n",
       "            Bokeh.index[element_id].model.document.clear();\n",
       "            delete Bokeh.index[element_id];\n",
       "          }\n",
       "        }\n",
       "      });\n",
       "      // Destroy server and session\n",
       "      var cmd = \"import bokeh.io.notebook as ion; ion.destroy_server('\" + server_id + \"')\";\n",
       "      cell.notebook.kernel.execute(cmd);\n",
       "    }\n",
       "  }\n",
       "\n",
       "  /**\n",
       "   * Handle when a new output is added\n",
       "   */\n",
       "  function handleAddOutput(event, handle) {\n",
       "    var output_area = handle.output_area;\n",
       "    var output = handle.output;\n",
       "\n",
       "    // limit handleAddOutput to display_data with EXEC_MIME_TYPE content only\n",
       "    if ((output.output_type != \"display_data\") || (!output.data.hasOwnProperty(EXEC_MIME_TYPE))) {\n",
       "      return\n",
       "    }\n",
       "\n",
       "    var toinsert = output_area.element.find(\".\" + CLASS_NAME.split(' ')[0]);\n",
       "\n",
       "    if (output.metadata[EXEC_MIME_TYPE][\"id\"] !== undefined) {\n",
       "      toinsert[toinsert.length - 1].firstChild.textContent = output.data[JS_MIME_TYPE];\n",
       "      // store reference to embed id on output_area\n",
       "      output_area._bokeh_element_id = output.metadata[EXEC_MIME_TYPE][\"id\"];\n",
       "    }\n",
       "    if (output.metadata[EXEC_MIME_TYPE][\"server_id\"] !== undefined) {\n",
       "      var bk_div = document.createElement(\"div\");\n",
       "      bk_div.innerHTML = output.data[HTML_MIME_TYPE];\n",
       "      var script_attrs = bk_div.children[0].attributes;\n",
       "      for (var i = 0; i < script_attrs.length; i++) {\n",
       "        toinsert[toinsert.length - 1].firstChild.setAttribute(script_attrs[i].name, script_attrs[i].value);\n",
       "      }\n",
       "      // store reference to server id on output_area\n",
       "      output_area._bokeh_server_id = output.metadata[EXEC_MIME_TYPE][\"server_id\"];\n",
       "    }\n",
       "  }\n",
       "\n",
       "  function register_renderer(events, OutputArea) {\n",
       "\n",
       "    function append_mime(data, metadata, element) {\n",
       "      // create a DOM node to render to\n",
       "      var toinsert = this.create_output_subarea(\n",
       "        metadata,\n",
       "        CLASS_NAME,\n",
       "        EXEC_MIME_TYPE\n",
       "      );\n",
       "      this.keyboard_manager.register_events(toinsert);\n",
       "      // Render to node\n",
       "      var props = {data: data, metadata: metadata[EXEC_MIME_TYPE]};\n",
       "      render(props, toinsert[toinsert.length - 1]);\n",
       "      element.append(toinsert);\n",
       "      return toinsert\n",
       "    }\n",
       "\n",
       "    /* Handle when an output is cleared or removed */\n",
       "    events.on('clear_output.CodeCell', handleClearOutput);\n",
       "    events.on('delete.Cell', handleClearOutput);\n",
       "\n",
       "    /* Handle when a new output is added */\n",
       "    events.on('output_added.OutputArea', handleAddOutput);\n",
       "\n",
       "    /**\n",
       "     * Register the mime type and append_mime function with output_area\n",
       "     */\n",
       "    OutputArea.prototype.register_mime_type(EXEC_MIME_TYPE, append_mime, {\n",
       "      /* Is output safe? */\n",
       "      safe: true,\n",
       "      /* Index of renderer in `output_area.display_order` */\n",
       "      index: 0\n",
       "    });\n",
       "  }\n",
       "\n",
       "  // register the mime type if in Jupyter Notebook environment and previously unregistered\n",
       "  if (root.Jupyter !== undefined) {\n",
       "    var events = require('base/js/events');\n",
       "    var OutputArea = require('notebook/js/outputarea').OutputArea;\n",
       "\n",
       "    if (OutputArea.prototype.mime_types().indexOf(EXEC_MIME_TYPE) == -1) {\n",
       "      register_renderer(events, OutputArea);\n",
       "    }\n",
       "  }\n",
       "\n",
       "  \n",
       "  if (typeof (root._bokeh_timeout) === \"undefined\" || force === true) {\n",
       "    root._bokeh_timeout = Date.now() + 5000;\n",
       "    root._bokeh_failed_load = false;\n",
       "  }\n",
       "\n",
       "  var NB_LOAD_WARNING = {'data': {'text/html':\n",
       "     \"<div style='background-color: #fdd'>\\n\"+\n",
       "     \"<p>\\n\"+\n",
       "     \"BokehJS does not appear to have successfully loaded. If loading BokehJS from CDN, this \\n\"+\n",
       "     \"may be due to a slow or bad network connection. Possible fixes:\\n\"+\n",
       "     \"</p>\\n\"+\n",
       "     \"<ul>\\n\"+\n",
       "     \"<li>re-rerun `output_notebook()` to attempt to load from CDN again, or</li>\\n\"+\n",
       "     \"<li>use INLINE resources instead, as so:</li>\\n\"+\n",
       "     \"</ul>\\n\"+\n",
       "     \"<code>\\n\"+\n",
       "     \"from bokeh.resources import INLINE\\n\"+\n",
       "     \"output_notebook(resources=INLINE)\\n\"+\n",
       "     \"</code>\\n\"+\n",
       "     \"</div>\"}};\n",
       "\n",
       "  function display_loaded() {\n",
       "    var el = document.getElementById(\"ad3ba983-dbac-4347-b80a-ea295f4ea66d\");\n",
       "    if (el != null) {\n",
       "      el.textContent = \"BokehJS is loading...\";\n",
       "    }\n",
       "    if (root.Bokeh !== undefined) {\n",
       "      if (el != null) {\n",
       "        el.textContent = \"BokehJS \" + root.Bokeh.version + \" successfully loaded.\";\n",
       "      }\n",
       "    } else if (Date.now() < root._bokeh_timeout) {\n",
       "      setTimeout(display_loaded, 100)\n",
       "    }\n",
       "  }\n",
       "\n",
       "\n",
       "  function run_callbacks() {\n",
       "    try {\n",
       "      root._bokeh_onload_callbacks.forEach(function(callback) { callback() });\n",
       "    }\n",
       "    finally {\n",
       "      delete root._bokeh_onload_callbacks\n",
       "    }\n",
       "    console.info(\"Bokeh: all callbacks have finished\");\n",
       "  }\n",
       "\n",
       "  function load_libs(js_urls, callback) {\n",
       "    root._bokeh_onload_callbacks.push(callback);\n",
       "    if (root._bokeh_is_loading > 0) {\n",
       "      console.log(\"Bokeh: BokehJS is being loaded, scheduling callback at\", now());\n",
       "      return null;\n",
       "    }\n",
       "    if (js_urls == null || js_urls.length === 0) {\n",
       "      run_callbacks();\n",
       "      return null;\n",
       "    }\n",
       "    console.log(\"Bokeh: BokehJS not loaded, scheduling load and callback at\", now());\n",
       "    root._bokeh_is_loading = js_urls.length;\n",
       "    for (var i = 0; i < js_urls.length; i++) {\n",
       "      var url = js_urls[i];\n",
       "      var s = document.createElement('script');\n",
       "      s.src = url;\n",
       "      s.async = false;\n",
       "      s.onreadystatechange = s.onload = function() {\n",
       "        root._bokeh_is_loading--;\n",
       "        if (root._bokeh_is_loading === 0) {\n",
       "          console.log(\"Bokeh: all BokehJS libraries loaded\");\n",
       "          run_callbacks()\n",
       "        }\n",
       "      };\n",
       "      s.onerror = function() {\n",
       "        console.warn(\"failed to load library \" + url);\n",
       "      };\n",
       "      console.log(\"Bokeh: injecting script tag for BokehJS library: \", url);\n",
       "      document.getElementsByTagName(\"head\")[0].appendChild(s);\n",
       "    }\n",
       "  };var element = document.getElementById(\"ad3ba983-dbac-4347-b80a-ea295f4ea66d\");\n",
       "  if (element == null) {\n",
       "    console.log(\"Bokeh: ERROR: autoload.js configured with elementid 'ad3ba983-dbac-4347-b80a-ea295f4ea66d' but no matching script tag was found. \")\n",
       "    return false;\n",
       "  }\n",
       "\n",
       "  var js_urls = [\"https://cdn.pydata.org/bokeh/release/bokeh-0.12.16.min.js\", \"https://cdn.pydata.org/bokeh/release/bokeh-widgets-0.12.16.min.js\", \"https://cdn.pydata.org/bokeh/release/bokeh-tables-0.12.16.min.js\", \"https://cdn.pydata.org/bokeh/release/bokeh-gl-0.12.16.min.js\"];\n",
       "\n",
       "  var inline_js = [\n",
       "    function(Bokeh) {\n",
       "      Bokeh.set_log_level(\"info\");\n",
       "    },\n",
       "    \n",
       "    function(Bokeh) {\n",
       "      \n",
       "    },\n",
       "    function(Bokeh) {\n",
       "      console.log(\"Bokeh: injecting CSS: https://cdn.pydata.org/bokeh/release/bokeh-0.12.16.min.css\");\n",
       "      Bokeh.embed.inject_css(\"https://cdn.pydata.org/bokeh/release/bokeh-0.12.16.min.css\");\n",
       "      console.log(\"Bokeh: injecting CSS: https://cdn.pydata.org/bokeh/release/bokeh-widgets-0.12.16.min.css\");\n",
       "      Bokeh.embed.inject_css(\"https://cdn.pydata.org/bokeh/release/bokeh-widgets-0.12.16.min.css\");\n",
       "      console.log(\"Bokeh: injecting CSS: https://cdn.pydata.org/bokeh/release/bokeh-tables-0.12.16.min.css\");\n",
       "      Bokeh.embed.inject_css(\"https://cdn.pydata.org/bokeh/release/bokeh-tables-0.12.16.min.css\");\n",
       "    }\n",
       "  ];\n",
       "\n",
       "  function run_inline_js() {\n",
       "    \n",
       "    if ((root.Bokeh !== undefined) || (force === true)) {\n",
       "      for (var i = 0; i < inline_js.length; i++) {\n",
       "        inline_js[i].call(root, root.Bokeh);\n",
       "      }if (force === true) {\n",
       "        display_loaded();\n",
       "      }} else if (Date.now() < root._bokeh_timeout) {\n",
       "      setTimeout(run_inline_js, 100);\n",
       "    } else if (!root._bokeh_failed_load) {\n",
       "      console.log(\"Bokeh: BokehJS failed to load within specified timeout.\");\n",
       "      root._bokeh_failed_load = true;\n",
       "    } else if (force !== true) {\n",
       "      var cell = $(document.getElementById(\"ad3ba983-dbac-4347-b80a-ea295f4ea66d\")).parents('.cell').data().cell;\n",
       "      cell.output_area.append_execute_result(NB_LOAD_WARNING)\n",
       "    }\n",
       "\n",
       "  }\n",
       "\n",
       "  if (root._bokeh_is_loading === 0) {\n",
       "    console.log(\"Bokeh: BokehJS loaded, going straight to plotting\");\n",
       "    run_inline_js();\n",
       "  } else {\n",
       "    load_libs(js_urls, function() {\n",
       "      console.log(\"Bokeh: BokehJS plotting callback run at\", now());\n",
       "      run_inline_js();\n",
       "    });\n",
       "  }\n",
       "}(window));"
      ],
      "application/vnd.bokehjs_load.v0+json": "\n(function(root) {\n  function now() {\n    return new Date();\n  }\n\n  var force = true;\n\n  if (typeof (root._bokeh_onload_callbacks) === \"undefined\" || force === true) {\n    root._bokeh_onload_callbacks = [];\n    root._bokeh_is_loading = undefined;\n  }\n\n  \n\n  \n  if (typeof (root._bokeh_timeout) === \"undefined\" || force === true) {\n    root._bokeh_timeout = Date.now() + 5000;\n    root._bokeh_failed_load = false;\n  }\n\n  var NB_LOAD_WARNING = {'data': {'text/html':\n     \"<div style='background-color: #fdd'>\\n\"+\n     \"<p>\\n\"+\n     \"BokehJS does not appear to have successfully loaded. If loading BokehJS from CDN, this \\n\"+\n     \"may be due to a slow or bad network connection. Possible fixes:\\n\"+\n     \"</p>\\n\"+\n     \"<ul>\\n\"+\n     \"<li>re-rerun `output_notebook()` to attempt to load from CDN again, or</li>\\n\"+\n     \"<li>use INLINE resources instead, as so:</li>\\n\"+\n     \"</ul>\\n\"+\n     \"<code>\\n\"+\n     \"from bokeh.resources import INLINE\\n\"+\n     \"output_notebook(resources=INLINE)\\n\"+\n     \"</code>\\n\"+\n     \"</div>\"}};\n\n  function display_loaded() {\n    var el = document.getElementById(\"ad3ba983-dbac-4347-b80a-ea295f4ea66d\");\n    if (el != null) {\n      el.textContent = \"BokehJS is loading...\";\n    }\n    if (root.Bokeh !== undefined) {\n      if (el != null) {\n        el.textContent = \"BokehJS \" + root.Bokeh.version + \" successfully loaded.\";\n      }\n    } else if (Date.now() < root._bokeh_timeout) {\n      setTimeout(display_loaded, 100)\n    }\n  }\n\n\n  function run_callbacks() {\n    try {\n      root._bokeh_onload_callbacks.forEach(function(callback) { callback() });\n    }\n    finally {\n      delete root._bokeh_onload_callbacks\n    }\n    console.info(\"Bokeh: all callbacks have finished\");\n  }\n\n  function load_libs(js_urls, callback) {\n    root._bokeh_onload_callbacks.push(callback);\n    if (root._bokeh_is_loading > 0) {\n      console.log(\"Bokeh: BokehJS is being loaded, scheduling callback at\", now());\n      return null;\n    }\n    if (js_urls == null || js_urls.length === 0) {\n      run_callbacks();\n      return null;\n    }\n    console.log(\"Bokeh: BokehJS not loaded, scheduling load and callback at\", now());\n    root._bokeh_is_loading = js_urls.length;\n    for (var i = 0; i < js_urls.length; i++) {\n      var url = js_urls[i];\n      var s = document.createElement('script');\n      s.src = url;\n      s.async = false;\n      s.onreadystatechange = s.onload = function() {\n        root._bokeh_is_loading--;\n        if (root._bokeh_is_loading === 0) {\n          console.log(\"Bokeh: all BokehJS libraries loaded\");\n          run_callbacks()\n        }\n      };\n      s.onerror = function() {\n        console.warn(\"failed to load library \" + url);\n      };\n      console.log(\"Bokeh: injecting script tag for BokehJS library: \", url);\n      document.getElementsByTagName(\"head\")[0].appendChild(s);\n    }\n  };var element = document.getElementById(\"ad3ba983-dbac-4347-b80a-ea295f4ea66d\");\n  if (element == null) {\n    console.log(\"Bokeh: ERROR: autoload.js configured with elementid 'ad3ba983-dbac-4347-b80a-ea295f4ea66d' but no matching script tag was found. \")\n    return false;\n  }\n\n  var js_urls = [\"https://cdn.pydata.org/bokeh/release/bokeh-0.12.16.min.js\", \"https://cdn.pydata.org/bokeh/release/bokeh-widgets-0.12.16.min.js\", \"https://cdn.pydata.org/bokeh/release/bokeh-tables-0.12.16.min.js\", \"https://cdn.pydata.org/bokeh/release/bokeh-gl-0.12.16.min.js\"];\n\n  var inline_js = [\n    function(Bokeh) {\n      Bokeh.set_log_level(\"info\");\n    },\n    \n    function(Bokeh) {\n      \n    },\n    function(Bokeh) {\n      console.log(\"Bokeh: injecting CSS: https://cdn.pydata.org/bokeh/release/bokeh-0.12.16.min.css\");\n      Bokeh.embed.inject_css(\"https://cdn.pydata.org/bokeh/release/bokeh-0.12.16.min.css\");\n      console.log(\"Bokeh: injecting CSS: https://cdn.pydata.org/bokeh/release/bokeh-widgets-0.12.16.min.css\");\n      Bokeh.embed.inject_css(\"https://cdn.pydata.org/bokeh/release/bokeh-widgets-0.12.16.min.css\");\n      console.log(\"Bokeh: injecting CSS: https://cdn.pydata.org/bokeh/release/bokeh-tables-0.12.16.min.css\");\n      Bokeh.embed.inject_css(\"https://cdn.pydata.org/bokeh/release/bokeh-tables-0.12.16.min.css\");\n    }\n  ];\n\n  function run_inline_js() {\n    \n    if ((root.Bokeh !== undefined) || (force === true)) {\n      for (var i = 0; i < inline_js.length; i++) {\n        inline_js[i].call(root, root.Bokeh);\n      }if (force === true) {\n        display_loaded();\n      }} else if (Date.now() < root._bokeh_timeout) {\n      setTimeout(run_inline_js, 100);\n    } else if (!root._bokeh_failed_load) {\n      console.log(\"Bokeh: BokehJS failed to load within specified timeout.\");\n      root._bokeh_failed_load = true;\n    } else if (force !== true) {\n      var cell = $(document.getElementById(\"ad3ba983-dbac-4347-b80a-ea295f4ea66d\")).parents('.cell').data().cell;\n      cell.output_area.append_execute_result(NB_LOAD_WARNING)\n    }\n\n  }\n\n  if (root._bokeh_is_loading === 0) {\n    console.log(\"Bokeh: BokehJS loaded, going straight to plotting\");\n    run_inline_js();\n  } else {\n    load_libs(js_urls, function() {\n      console.log(\"Bokeh: BokehJS plotting callback run at\", now());\n      run_inline_js();\n    });\n  }\n}(window));"
     },
     "metadata": {},
     "output_type": "display_data"
    },
    {
     "data": {
      "text/html": [
       "\n",
       "<div class=\"bk-root\">\n",
       "    <div class=\"bk-plotdiv\" id=\"bd3d80c9-e0a9-4942-b1bf-a7bc16c9db50\"></div>\n",
       "</div>"
      ]
     },
     "metadata": {},
     "output_type": "display_data"
    },
    {
     "data": {
      "application/javascript": [
       "(function(root) {\n",
       "  function embed_document(root) {\n",
       "    \n",
       "  var docs_json = {\"807d1166-51e7-4836-a325-601e398f29ba\":{\"roots\":{\"references\":[{\"attributes\":{\"active_drag\":\"auto\",\"active_inspect\":\"auto\",\"active_scroll\":\"auto\",\"active_tap\":\"auto\",\"tools\":[{\"id\":\"f5d53998-5311-4066-b56a-161e54808688\",\"type\":\"PanTool\"},{\"id\":\"41ad2455-5a76-4ad3-8696-9070e0ddd424\",\"type\":\"WheelZoomTool\"},{\"id\":\"8dccf70d-680f-4059-8d6b-f0a067eaef41\",\"type\":\"BoxZoomTool\"},{\"id\":\"ba815b13-3bdf-4ecb-a430-df437b2a16e6\",\"type\":\"SaveTool\"},{\"id\":\"5326dfe8-388b-42a1-9c23-6db983b56ebb\",\"type\":\"ResetTool\"},{\"id\":\"d4339bf6-3f33-41e1-b33e-8d3903ac5d2c\",\"type\":\"HelpTool\"}]},\"id\":\"96d0872f-399a-48aa-8d9b-73300e247c1d\",\"type\":\"Toolbar\"},{\"attributes\":{\"plot\":{\"id\":\"ae881819-a8b3-4768-a1be-f2be9921e130\",\"subtype\":\"Figure\",\"type\":\"Plot\"},\"ticker\":{\"id\":\"32d29633-32eb-4e24-a3dc-8ba13e195564\",\"type\":\"BasicTicker\"}},\"id\":\"fe63ca9b-b630-4070-ab90-7f101dac3dc5\",\"type\":\"Grid\"},{\"attributes\":{},\"id\":\"82937e81-73f1-466c-b896-38ca125d5b5f\",\"type\":\"LinearScale\"},{\"attributes\":{\"formatter\":{\"id\":\"42d70fba-e846-4e87-8beb-3c1202be7e68\",\"type\":\"BasicTickFormatter\"},\"plot\":{\"id\":\"ae881819-a8b3-4768-a1be-f2be9921e130\",\"subtype\":\"Figure\",\"type\":\"Plot\"},\"ticker\":{\"id\":\"32d29633-32eb-4e24-a3dc-8ba13e195564\",\"type\":\"BasicTicker\"}},\"id\":\"0c1b8e30-c0fd-43d2-b68e-c5ffc86593bb\",\"type\":\"LinearAxis\"},{\"attributes\":{},\"id\":\"32d29633-32eb-4e24-a3dc-8ba13e195564\",\"type\":\"BasicTicker\"},{\"attributes\":{\"callback\":null},\"id\":\"77e441f8-beb4-4292-ba20-78250daaf49d\",\"type\":\"DataRange1d\"},{\"attributes\":{},\"id\":\"5326dfe8-388b-42a1-9c23-6db983b56ebb\",\"type\":\"ResetTool\"},{\"attributes\":{\"callback\":null,\"data\":{\"x\":{\"__ndarray__\":\"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\",\"dtype\":\"float64\",\"shape\":[2000]},\"y\":{\"__ndarray__\":\"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\",\"dtype\":\"float64\",\"shape\":[2000]}},\"selected\":{\"id\":\"d8dfda5d-ec86-4097-ba9d-b4c861e8aad8\",\"type\":\"Selection\"},\"selection_policy\":{\"id\":\"fc4c2a7c-a2b3-4cb7-9f53-3457ba7abf3c\",\"type\":\"UnionRenderers\"}},\"id\":\"16bc1ffd-70f1-4036-87f3-4bb725d85cec\",\"type\":\"ColumnDataSource\"},{\"attributes\":{\"below\":[{\"id\":\"0c1b8e30-c0fd-43d2-b68e-c5ffc86593bb\",\"type\":\"LinearAxis\"}],\"left\":[{\"id\":\"ef5cbc03-9a64-4fa5-957e-57dbee2ee30c\",\"type\":\"LinearAxis\"}],\"plot_height\":300,\"renderers\":[{\"id\":\"0c1b8e30-c0fd-43d2-b68e-c5ffc86593bb\",\"type\":\"LinearAxis\"},{\"id\":\"fe63ca9b-b630-4070-ab90-7f101dac3dc5\",\"type\":\"Grid\"},{\"id\":\"ef5cbc03-9a64-4fa5-957e-57dbee2ee30c\",\"type\":\"LinearAxis\"},{\"id\":\"56fad729-ee30-47b5-9650-02321558cf80\",\"type\":\"Grid\"},{\"id\":\"ca502cf9-e6d6-40e1-9b64-48b5912af39e\",\"type\":\"BoxAnnotation\"},{\"id\":\"38c307ce-8c87-4115-a35f-07bf70a22a6a\",\"type\":\"GlyphRenderer\"}],\"title\":{\"id\":\"61117da4-8403-4e42-a1ca-d2ccc4e7d3c6\",\"type\":\"Title\"},\"toolbar\":{\"id\":\"96d0872f-399a-48aa-8d9b-73300e247c1d\",\"type\":\"Toolbar\"},\"x_range\":{\"id\":\"77e441f8-beb4-4292-ba20-78250daaf49d\",\"type\":\"DataRange1d\"},\"x_scale\":{\"id\":\"e115a06e-3be2-4790-b94d-e06d63823327\",\"type\":\"LinearScale\"},\"y_range\":{\"id\":\"09e8b854-6aad-476b-a2ad-6bdf61a76af7\",\"type\":\"Range1d\"},\"y_scale\":{\"id\":\"82937e81-73f1-466c-b896-38ca125d5b5f\",\"type\":\"LinearScale\"}},\"id\":\"ae881819-a8b3-4768-a1be-f2be9921e130\",\"subtype\":\"Figure\",\"type\":\"Plot\"},{\"attributes\":{\"formatter\":{\"id\":\"83b58983-60aa-4648-8d82-4d2351d9f7b7\",\"type\":\"BasicTickFormatter\"},\"plot\":{\"id\":\"ae881819-a8b3-4768-a1be-f2be9921e130\",\"subtype\":\"Figure\",\"type\":\"Plot\"},\"ticker\":{\"id\":\"30f1d1f8-bcc2-41cb-8db2-696edf62a04d\",\"type\":\"BasicTicker\"}},\"id\":\"ef5cbc03-9a64-4fa5-957e-57dbee2ee30c\",\"type\":\"LinearAxis\"},{\"attributes\":{},\"id\":\"42d70fba-e846-4e87-8beb-3c1202be7e68\",\"type\":\"BasicTickFormatter\"},{\"attributes\":{},\"id\":\"e115a06e-3be2-4790-b94d-e06d63823327\",\"type\":\"LinearScale\"},{\"attributes\":{},\"id\":\"83b58983-60aa-4648-8d82-4d2351d9f7b7\",\"type\":\"BasicTickFormatter\"},{\"attributes\":{},\"id\":\"ba815b13-3bdf-4ecb-a430-df437b2a16e6\",\"type\":\"SaveTool\"},{\"attributes\":{\"callback\":null,\"end\":5,\"start\":-5},\"id\":\"09e8b854-6aad-476b-a2ad-6bdf61a76af7\",\"type\":\"Range1d\"},{\"attributes\":{},\"id\":\"d4339bf6-3f33-41e1-b33e-8d3903ac5d2c\",\"type\":\"HelpTool\"},{\"attributes\":{\"source\":{\"id\":\"16bc1ffd-70f1-4036-87f3-4bb725d85cec\",\"type\":\"ColumnDataSource\"}},\"id\":\"1bdc8e5c-5db3-4620-9d92-50f8ac149e35\",\"type\":\"CDSView\"},{\"attributes\":{\"line_alpha\":0.1,\"line_color\":\"#1f77b4\",\"line_width\":3,\"x\":{\"field\":\"x\"},\"y\":{\"field\":\"y\"}},\"id\":\"4c83e929-ae01-4aac-b069-2a4a7c8d2855\",\"type\":\"Line\"},{\"attributes\":{},\"id\":\"f5d53998-5311-4066-b56a-161e54808688\",\"type\":\"PanTool\"},{\"attributes\":{\"plot\":null,\"text\":\"simple line example\"},\"id\":\"61117da4-8403-4e42-a1ca-d2ccc4e7d3c6\",\"type\":\"Title\"},{\"attributes\":{},\"id\":\"30f1d1f8-bcc2-41cb-8db2-696edf62a04d\",\"type\":\"BasicTicker\"},{\"attributes\":{},\"id\":\"d8dfda5d-ec86-4097-ba9d-b4c861e8aad8\",\"type\":\"Selection\"},{\"attributes\":{\"bottom_units\":\"screen\",\"fill_alpha\":{\"value\":0.5},\"fill_color\":{\"value\":\"lightgrey\"},\"left_units\":\"screen\",\"level\":\"overlay\",\"line_alpha\":{\"value\":1.0},\"line_color\":{\"value\":\"black\"},\"line_dash\":[4,4],\"line_width\":{\"value\":2},\"plot\":null,\"render_mode\":\"css\",\"right_units\":\"screen\",\"top_units\":\"screen\"},\"id\":\"ca502cf9-e6d6-40e1-9b64-48b5912af39e\",\"type\":\"BoxAnnotation\"},{\"attributes\":{\"dimension\":1,\"plot\":{\"id\":\"ae881819-a8b3-4768-a1be-f2be9921e130\",\"subtype\":\"Figure\",\"type\":\"Plot\"},\"ticker\":{\"id\":\"30f1d1f8-bcc2-41cb-8db2-696edf62a04d\",\"type\":\"BasicTicker\"}},\"id\":\"56fad729-ee30-47b5-9650-02321558cf80\",\"type\":\"Grid\"},{\"attributes\":{},\"id\":\"41ad2455-5a76-4ad3-8696-9070e0ddd424\",\"type\":\"WheelZoomTool\"},{\"attributes\":{},\"id\":\"fc4c2a7c-a2b3-4cb7-9f53-3457ba7abf3c\",\"type\":\"UnionRenderers\"},{\"attributes\":{\"overlay\":{\"id\":\"ca502cf9-e6d6-40e1-9b64-48b5912af39e\",\"type\":\"BoxAnnotation\"}},\"id\":\"8dccf70d-680f-4059-8d6b-f0a067eaef41\",\"type\":\"BoxZoomTool\"},{\"attributes\":{\"data_source\":{\"id\":\"16bc1ffd-70f1-4036-87f3-4bb725d85cec\",\"type\":\"ColumnDataSource\"},\"glyph\":{\"id\":\"fc67c1f5-e003-49c3-b054-2b9089176883\",\"type\":\"Line\"},\"hover_glyph\":null,\"muted_glyph\":null,\"nonselection_glyph\":{\"id\":\"4c83e929-ae01-4aac-b069-2a4a7c8d2855\",\"type\":\"Line\"},\"selection_glyph\":null,\"view\":{\"id\":\"1bdc8e5c-5db3-4620-9d92-50f8ac149e35\",\"type\":\"CDSView\"}},\"id\":\"38c307ce-8c87-4115-a35f-07bf70a22a6a\",\"type\":\"GlyphRenderer\"},{\"attributes\":{\"line_color\":\"#2222aa\",\"line_width\":3,\"x\":{\"field\":\"x\"},\"y\":{\"field\":\"y\"}},\"id\":\"fc67c1f5-e003-49c3-b054-2b9089176883\",\"type\":\"Line\"}],\"root_ids\":[\"ae881819-a8b3-4768-a1be-f2be9921e130\"]},\"title\":\"Bokeh Application\",\"version\":\"0.12.16\"}};\n",
       "  var render_items = [{\"docid\":\"807d1166-51e7-4836-a325-601e398f29ba\",\"elementid\":\"bd3d80c9-e0a9-4942-b1bf-a7bc16c9db50\",\"modelid\":\"ae881819-a8b3-4768-a1be-f2be9921e130\",\"notebook_comms_target\":\"b3ca0cab-431f-498f-9a66-66d6fe1cedf7\"}];\n",
       "  root.Bokeh.embed.embed_items_notebook(docs_json, render_items);\n",
       "\n",
       "  }\n",
       "  if (root.Bokeh !== undefined) {\n",
       "    embed_document(root);\n",
       "  } else {\n",
       "    var attempts = 0;\n",
       "    var timer = setInterval(function(root) {\n",
       "      if (root.Bokeh !== undefined) {\n",
       "        embed_document(root);\n",
       "        clearInterval(timer);\n",
       "      }\n",
       "      attempts++;\n",
       "      if (attempts > 100) {\n",
       "        console.log(\"Bokeh: ERROR: Unable to run BokehJS code because BokehJS library is missing\")\n",
       "        clearInterval(timer);\n",
       "      }\n",
       "    }, 10, root)\n",
       "  }\n",
       "})(window);"
      ],
      "application/vnd.bokehjs_exec.v0+json": ""
     },
     "metadata": {
      "application/vnd.bokehjs_exec.v0+json": {
       "id": "ae881819-a8b3-4768-a1be-f2be9921e130"
      }
     },
     "output_type": "display_data"
    },
    {
     "data": {
      "text/html": [
       "<p><code>&lt;Bokeh Notebook handle for <strong>In[38]</strong>&gt;</code></p>"
      ],
      "text/plain": [
       "<bokeh.io.notebook.CommsHandle at 0x7f5c9257fc88>"
      ]
     },
     "execution_count": 38,
     "metadata": {},
     "output_type": "execute_result"
    }
   ],
   "source": [
    "from ipywidgets import interact\n",
    "\n",
    "from bokeh.io import push_notebook, show, output_notebook\n",
    "output_notebook()\n",
    "\n",
    "\n",
    "# Original data\n",
    "x = np.linspace(0, 2*np.pi, 2000)\n",
    "y = np.sin(x)\n",
    "\n",
    "# Note the value returned by p.line\n",
    "p = figure(title=\"simple line example\", plot_height=300, plot_width=600, y_range=(-5,5))\n",
    "r = p.line(x, y, color=\"#2222aa\", line_width=3)\n",
    "\n",
    "# Update function\n",
    "def update(f, w=1, A=1, phi=0):\n",
    "    if   f == \"sin\": func = np.sin\n",
    "    elif f == \"cos\": func = np.cos\n",
    "    elif f == \"tan\": func = np.tan\n",
    "    r.data_source.data['y'] = A * func(w * x + phi)\n",
    "    push_notebook()\n",
    "\n",
    "# Show figure\n",
    "show(p, notebook_handle=True)"
   ]
  },
  {
   "cell_type": "code",
   "execution_count": 39,
   "metadata": {},
   "outputs": [
    {
     "data": {
      "application/vnd.jupyter.widget-view+json": {
       "model_id": "6a1fef7790f64bf388168c6936e98434",
       "version_major": 2,
       "version_minor": 0
      },
      "text/plain": [
       "interactive(children=(Dropdown(description='f', options=('sin', 'cos', 'tan'), value='sin'), IntSlider(value=1…"
      ]
     },
     "metadata": {},
     "output_type": "display_data"
    },
    {
     "data": {
      "text/plain": [
       "<function __main__.update(f, w=1, A=1, phi=0)>"
      ]
     },
     "execution_count": 39,
     "metadata": {},
     "output_type": "execute_result"
    }
   ],
   "source": [
    "interact(update, f=[\"sin\", \"cos\", \"tan\"], w=(0,100), A=(1,5), phi=(0, 20, 0.1))"
   ]
  },
  {
   "cell_type": "markdown",
   "metadata": {},
   "source": [
    "### Server"
   ]
  },
  {
   "cell_type": "markdown",
   "metadata": {},
   "source": [
    "There are two sides to the `bokeh` library. Let's [look at another way](https://bokeh.pydata.org/en/latest/docs/user_guide/server.html) `bokeh` can be used to visualize data interactively."
   ]
  }
 ],
 "metadata": {
  "kernelspec": {
   "display_name": "Python 3",
   "language": "python",
   "name": "python3"
  },
  "language_info": {
   "codemirror_mode": {
    "name": "ipython",
    "version": 3
   },
   "file_extension": ".py",
   "mimetype": "text/x-python",
   "name": "python",
   "nbconvert_exporter": "python",
   "pygments_lexer": "ipython3",
   "version": "3.6.8"
  }
 },
 "nbformat": 4,
 "nbformat_minor": 2
}
