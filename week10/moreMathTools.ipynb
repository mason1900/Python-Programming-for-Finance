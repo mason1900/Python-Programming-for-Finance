{
 "cells": [
  {
   "cell_type": "markdown",
   "metadata": {},
   "source": [
    "# CPS600 - Python Programming for Finance \n",
    "###  \n",
    "<img src=\"https://www.syracuse.edu/wp-content/themes/g6-carbon/img/syracuse-university-seal.svg?ver=6.3.9\" style=\"width: 200px;\"/>\n",
    "\n",
    "## More Math Tools\n",
    "\n",
    "###  October 30, 2018"
   ]
  },
  {
   "cell_type": "markdown",
   "metadata": {},
   "source": [
    "**Mathematical Tools**\n",
    "\n",
    "Today we will look at some advance mathematical tools that have been graciously implemented for us by gods of Python. These include:\n",
    "\n",
    "* Approximation: Regression and interpolation\n",
    "* Convex optimization\n",
    "* Integration\n",
    "* Symbolic mathematics\n"
   ]
  },
  {
   "cell_type": "markdown",
   "metadata": {},
   "source": [
    "For those who are keeping track, we are following Chapter $9$ of *Python for Finance*."
   ]
  },
  {
   "cell_type": "markdown",
   "metadata": {},
   "source": [
    "**Approximation**"
   ]
  },
  {
   "cell_type": "markdown",
   "metadata": {},
   "source": [
    "There are a couple of different ways we'll look at *approximating* a function. First, let's start with the thing we'll try to approximate."
   ]
  },
  {
   "cell_type": "code",
   "execution_count": 1,
   "metadata": {
    "uuid": "460b709e-eed1-48e4-b3ad-d07377ea5de6"
   },
   "outputs": [],
   "source": [
    "import numpy as np\n",
    "import matplotlib.pyplot as plt\n",
    "%matplotlib inline"
   ]
  },
  {
   "cell_type": "markdown",
   "metadata": {},
   "source": [
    "Defining a special kind of function we'll play with later."
   ]
  },
  {
   "cell_type": "code",
   "execution_count": 2,
   "metadata": {
    "uuid": "2326c3ad-f244-4f48-8b68-851bd2347d57"
   },
   "outputs": [],
   "source": [
    "def f(x):\n",
    "    return np.sin(x) + 0.5 * x"
   ]
  },
  {
   "cell_type": "markdown",
   "metadata": {},
   "source": [
    "A fixed interval is defined via the linspace function. `np.linspace(start, stop, num)` returns `num` points beginning with `start` and ending with `stop`, with the subintervals between two consecutive points being evenly spaced."
   ]
  },
  {
   "cell_type": "code",
   "execution_count": 3,
   "metadata": {},
   "outputs": [
    {
     "name": "stdout",
     "output_type": "stream",
     "text": [
      "Number of points= 50\n"
     ]
    },
    {
     "data": {
      "text/plain": [
       "array([-6.28318531, -6.02672876, -5.77027222, -5.51381568, -5.25735913,\n",
       "       -5.00090259, -4.74444605, -4.48798951, -4.23153296, -3.97507642,\n",
       "       -3.71861988, -3.46216333, -3.20570679, -2.94925025, -2.6927937 ,\n",
       "       -2.43633716, -2.17988062, -1.92342407, -1.66696753, -1.41051099,\n",
       "       -1.15405444, -0.8975979 , -0.64114136, -0.38468481, -0.12822827,\n",
       "        0.12822827,  0.38468481,  0.64114136,  0.8975979 ,  1.15405444,\n",
       "        1.41051099,  1.66696753,  1.92342407,  2.17988062,  2.43633716,\n",
       "        2.6927937 ,  2.94925025,  3.20570679,  3.46216333,  3.71861988,\n",
       "        3.97507642,  4.23153296,  4.48798951,  4.74444605,  5.00090259,\n",
       "        5.25735913,  5.51381568,  5.77027222,  6.02672876,  6.28318531])"
      ]
     },
     "execution_count": 3,
     "metadata": {},
     "output_type": "execute_result"
    }
   ],
   "source": [
    "x = np.linspace(-2 * np.pi, 2 * np.pi, 50)\n",
    "print('Number of points=', len(x))\n",
    "x"
   ]
  },
  {
   "cell_type": "markdown",
   "metadata": {},
   "source": [
    "Now, let's take a look at that special function we just defined."
   ]
  },
  {
   "cell_type": "code",
   "execution_count": 4,
   "metadata": {},
   "outputs": [
    {
     "data": {
      "text/plain": [
       "Text(0.5, 1.0, 'Example function plot')"
      ]
     },
     "execution_count": 4,
     "metadata": {},
     "output_type": "execute_result"
    },
    {
     "data": {
      "image/png": "[encoded data removed]",
      "text/plain": [
       "<Figure size 432x288 with 1 Axes>"
      ]
     },
     "metadata": {
      "needs_background": "light"
     },
     "output_type": "display_data"
    }
   ],
   "source": [
    "plt.plot(x, f(x), 'b')\n",
    "plt.grid(True)\n",
    "plt.xlabel('x')\n",
    "plt.ylabel('f(x)')\n",
    "plt.title(\"Example function plot\")"
   ]
  },
  {
   "cell_type": "markdown",
   "metadata": {},
   "source": [
    "**Regression**"
   ]
  },
  {
   "cell_type": "markdown",
   "metadata": {},
   "source": [
    "In regression, which we saw last week for the first (or second) time, we are finding the best $\\color{blue}{parameters}$ to fit the data"
   ]
  },
  {
   "cell_type": "markdown",
   "metadata": {},
   "source": [
    "$\\Large{\\displaystyle\\min_{\\alpha_1,...,\\alpha_D} \\frac{1}{I} \\displaystyle\\sum_{i = 1}^{I} (y_i - \\displaystyle\\sum_{d = 1}^{D} \\color{blue}{\\alpha}_{d} \\cdot b_d (x_i ))^2}$\n",
    "\n",
    "*Minimization problem of regression*"
   ]
  },
  {
   "cell_type": "markdown",
   "metadata": {},
   "source": [
    "It is fundamentally an optimization problem. The *indexing set* $I$ above is running over all of the *observations* or *datapoints*, whereas the index $d$ refers to the *features* or *basis functions* of the *input/predictive/independent* variable."
   ]
  },
  {
   "cell_type": "markdown",
   "metadata": {},
   "source": [
    "**Monomials as Basis Functions**\n",
    "\n",
    "One of the simplest cases is to take monomials as basis functions, e.g.\n",
    "\n",
    "$$b_1 = 1$$\n",
    "$$b_2 = x$$\n",
    "$$b_3 = x^2$$\n",
    "$$b_4 = x^3$$\n",
    "\n",
    "...and so on"
   ]
  },
  {
   "cell_type": "markdown",
   "metadata": {},
   "source": [
    "NumPy has built-in functions `polyfit` for the determination of the optimal parameters $\\alpha$.\n",
    "* `x`       x coordinates (independent variable values)\n",
    "* `y`       y coordinates (dependent variable values)\n",
    "* `deg`     degree of the fitting polynomial\n",
    "* `polyval` for the evaluation of the approximation given a set of input values\n"
   ]
  },
  {
   "cell_type": "markdown",
   "metadata": {},
   "source": [
    "Let's fit our special function with a straight line."
   ]
  },
  {
   "cell_type": "code",
   "execution_count": 5,
   "metadata": {
    "uuid": "ace90420-7219-4227-8210-bf107f556726"
   },
   "outputs": [],
   "source": [
    "reg = np.polyfit(x, f(x), deg=1)    # linear regression\n",
    "ry = np.polyval(reg, x)             # regression estimates "
   ]
  },
  {
   "cell_type": "code",
   "execution_count": 6,
   "metadata": {},
   "outputs": [
    {
     "name": "stdout",
     "output_type": "stream",
     "text": [
      "Alpha: [ 4.28841952e-01 -1.40254456e-16]\n",
      "[-2.69449345 -2.58451412 -2.4745348  -2.36455548 -2.25457615 -2.14459683\n",
      " -2.0346175  -1.92463818 -1.81465885 -1.70467953 -1.5947002  -1.48472088\n",
      " -1.37474156 -1.26476223 -1.15478291 -1.04480358 -0.93482426 -0.82484493\n",
      " -0.71486561 -0.60488628 -0.49490696 -0.38492764 -0.27494831 -0.16496899\n",
      " -0.05498966  0.05498966  0.16496899  0.27494831  0.38492764  0.49490696\n",
      "  0.60488628  0.71486561  0.82484493  0.93482426  1.04480358  1.15478291\n",
      "  1.26476223  1.37474156  1.48472088  1.5947002   1.70467953  1.81465885\n",
      "  1.92463818  2.0346175   2.14459683  2.25457615  2.36455548  2.4745348\n",
      "  2.58451412  2.69449345]\n"
     ]
    }
   ],
   "source": [
    "print('Alpha:', reg)\n",
    "print(ry)"
   ]
  },
  {
   "cell_type": "markdown",
   "metadata": {},
   "source": [
    "And look at the results."
   ]
  },
  {
   "cell_type": "code",
   "execution_count": 7,
   "metadata": {},
   "outputs": [
    {
     "data": {
      "text/plain": [
       "Text(0.5, 1.0, 'Example function and linear regression')"
      ]
     },
     "execution_count": 7,
     "metadata": {},
     "output_type": "execute_result"
    },
    {
     "data": {
      "image/png": "[encoded data removed]",
      "text/plain": [
       "<Figure size 432x288 with 1 Axes>"
      ]
     },
     "metadata": {
      "needs_background": "light"
     },
     "output_type": "display_data"
    }
   ],
   "source": [
    "plt.plot(x, f(x), 'b', label='f(x)')\n",
    "plt.plot(x, ry, 'r.', label='regression')\n",
    "plt.legend(loc=0)\n",
    "plt.grid(True)\n",
    "plt.xlabel('x')\n",
    "plt.ylabel('f(x)')\n",
    "plt.title(\"Example function and linear regression\")"
   ]
  },
  {
   "cell_type": "markdown",
   "metadata": {},
   "source": [
    "Doing the same, but this time with monomials up to degree $5$."
   ]
  },
  {
   "cell_type": "code",
   "execution_count": 8,
   "metadata": {
    "uuid": "096bb07a-55f7-45de-8734-2a76d8749d53"
   },
   "outputs": [],
   "source": [
    "reg = np.polyfit(x, f(x), deg=5)\n",
    "ry = np.polyval(reg, x)"
   ]
  },
  {
   "cell_type": "code",
   "execution_count": 9,
   "metadata": {},
   "outputs": [
    {
     "name": "stdout",
     "output_type": "stream",
     "text": [
      "Alpha: [ 1.37920761e-03 -2.46674444e-18 -6.82525072e-02  2.76262507e-17\n",
      "  1.11425209e+00 -1.21874773e-16]\n"
     ]
    }
   ],
   "source": [
    "print('Alpha:',reg)"
   ]
  },
  {
   "cell_type": "code",
   "execution_count": 10,
   "metadata": {},
   "outputs": [
    {
     "data": {
      "text/plain": [
       "Text(0.5, 1.0, 'Regression with monomials up to order 5')"
      ]
     },
     "execution_count": 10,
     "metadata": {},
     "output_type": "execute_result"
    },
    {
     "data": {
      "image/png": "[encoded data removed]",
      "text/plain": [
       "<Figure size 432x288 with 1 Axes>"
      ]
     },
     "metadata": {
      "needs_background": "light"
     },
     "output_type": "display_data"
    }
   ],
   "source": [
    "plt.plot(x, f(x), 'b', label='f(x)')\n",
    "plt.plot(x, ry, 'r.', label='regression')\n",
    "plt.legend(loc=0)\n",
    "plt.grid(True)\n",
    "plt.xlabel('x')\n",
    "plt.ylabel('f(x)')\n",
    "plt.title(\"Regression with monomials up to order 5\")"
   ]
  },
  {
   "cell_type": "markdown",
   "metadata": {},
   "source": [
    "Again, this time with degree $7$."
   ]
  },
  {
   "cell_type": "code",
   "execution_count": 11,
   "metadata": {
    "uuid": "67b14a21-e8f2-4dd4-a43b-0d232f2b4055"
   },
   "outputs": [],
   "source": [
    "# take monomials up to order 7 to approximate the example function\n",
    "\n",
    "reg = np.polyfit(x, f(x), deg=7)\n",
    "ry = np.polyval(reg, x)"
   ]
  },
  {
   "cell_type": "code",
   "execution_count": 12,
   "metadata": {},
   "outputs": [
    {
     "data": {
      "text/plain": [
       "Text(0.5, 1.0, 'Regression with monomials up to order 7')"
      ]
     },
     "execution_count": 12,
     "metadata": {},
     "output_type": "execute_result"
    },
    {
     "data": {
      "image/png": "[encoded data removed]",
      "text/plain": [
       "<Figure size 432x288 with 1 Axes>"
      ]
     },
     "metadata": {
      "needs_background": "light"
     },
     "output_type": "display_data"
    }
   ],
   "source": [
    "plt.plot(x, f(x), 'b', label='f(x)')\n",
    "plt.plot(x, ry, 'r.', label='regression')\n",
    "plt.legend(loc=0)\n",
    "plt.grid(True)\n",
    "plt.xlabel('x')\n",
    "plt.ylabel('f(x)')\n",
    "plt.title(\"Regression with monomials up to order 7\")"
   ]
  },
  {
   "cell_type": "markdown",
   "metadata": {},
   "source": [
    "A brief check reveals that the result is not perfect:"
   ]
  },
  {
   "cell_type": "code",
   "execution_count": 13,
   "metadata": {},
   "outputs": [
    {
     "data": {
      "text/plain": [
       "False"
      ]
     },
     "execution_count": 13,
     "metadata": {},
     "output_type": "execute_result"
    }
   ],
   "source": [
    "np.allclose(f(x), ry)"
   ]
  },
  {
   "cell_type": "markdown",
   "metadata": {},
   "source": [
    "But he mean squared error (MSE) is not too large\n"
   ]
  },
  {
   "cell_type": "code",
   "execution_count": 14,
   "metadata": {},
   "outputs": [
    {
     "data": {
      "text/plain": [
       "0.0017769134759517595"
      ]
     },
     "execution_count": 14,
     "metadata": {},
     "output_type": "execute_result"
    }
   ],
   "source": [
    "np.sum((f(x) - ry) ** 2) / len(x)"
   ]
  },
  {
   "cell_type": "markdown",
   "metadata": {},
   "source": [
    "**Individual Basis Functions**\n",
    "\n",
    "You can reach better regression results when you can choose better sets of basis functions. The individual basis functions have to be defined via a matrix approach (i.e., using a NumPy  ndarray object). First, the case with monomials up to order $3$ (note that we are not really getting an improvement here because this is just a subset of the basis functions we already tried):\n"
   ]
  },
  {
   "cell_type": "code",
   "execution_count": 15,
   "metadata": {
    "uuid": "b4f05890-56e0-4f29-9d61-bd9948ad8af0"
   },
   "outputs": [],
   "source": [
    "matrix = np.zeros((3 + 1, len(x)))    # len(x) = 50\n",
    "matrix[3, :] = x ** 3\n",
    "matrix[2, :] = x ** 2\n",
    "matrix[1, :] = x\n",
    "matrix[0, :] = 1"
   ]
  },
  {
   "cell_type": "code",
   "execution_count": 16,
   "metadata": {},
   "outputs": [
    {
     "name": "stdout",
     "output_type": "stream",
     "text": [
      "Shape: (4, 50)\n",
      "Size: 200\n"
     ]
    },
    {
     "data": {
      "text/plain": [
       "array([[ 1.00000000e+00,  1.00000000e+00,  1.00000000e+00,\n",
       "         1.00000000e+00,  1.00000000e+00,  1.00000000e+00,\n",
       "         1.00000000e+00,  1.00000000e+00,  1.00000000e+00,\n",
       "         1.00000000e+00,  1.00000000e+00,  1.00000000e+00,\n",
       "         1.00000000e+00,  1.00000000e+00,  1.00000000e+00,\n",
       "         1.00000000e+00,  1.00000000e+00,  1.00000000e+00,\n",
       "         1.00000000e+00,  1.00000000e+00,  1.00000000e+00,\n",
       "         1.00000000e+00,  1.00000000e+00,  1.00000000e+00,\n",
       "         1.00000000e+00,  1.00000000e+00,  1.00000000e+00,\n",
       "         1.00000000e+00,  1.00000000e+00,  1.00000000e+00,\n",
       "         1.00000000e+00,  1.00000000e+00,  1.00000000e+00,\n",
       "         1.00000000e+00,  1.00000000e+00,  1.00000000e+00,\n",
       "         1.00000000e+00,  1.00000000e+00,  1.00000000e+00,\n",
       "         1.00000000e+00,  1.00000000e+00,  1.00000000e+00,\n",
       "         1.00000000e+00,  1.00000000e+00,  1.00000000e+00,\n",
       "         1.00000000e+00,  1.00000000e+00,  1.00000000e+00,\n",
       "         1.00000000e+00,  1.00000000e+00],\n",
       "       [-6.28318531e+00, -6.02672876e+00, -5.77027222e+00,\n",
       "        -5.51381568e+00, -5.25735913e+00, -5.00090259e+00,\n",
       "        -4.74444605e+00, -4.48798951e+00, -4.23153296e+00,\n",
       "        -3.97507642e+00, -3.71861988e+00, -3.46216333e+00,\n",
       "        -3.20570679e+00, -2.94925025e+00, -2.69279370e+00,\n",
       "        -2.43633716e+00, -2.17988062e+00, -1.92342407e+00,\n",
       "        -1.66696753e+00, -1.41051099e+00, -1.15405444e+00,\n",
       "        -8.97597901e-01, -6.41141358e-01, -3.84684815e-01,\n",
       "        -1.28228272e-01,  1.28228272e-01,  3.84684815e-01,\n",
       "         6.41141358e-01,  8.97597901e-01,  1.15405444e+00,\n",
       "         1.41051099e+00,  1.66696753e+00,  1.92342407e+00,\n",
       "         2.17988062e+00,  2.43633716e+00,  2.69279370e+00,\n",
       "         2.94925025e+00,  3.20570679e+00,  3.46216333e+00,\n",
       "         3.71861988e+00,  3.97507642e+00,  4.23153296e+00,\n",
       "         4.48798951e+00,  4.74444605e+00,  5.00090259e+00,\n",
       "         5.25735913e+00,  5.51381568e+00,  5.77027222e+00,\n",
       "         6.02672876e+00,  6.28318531e+00],\n",
       "       [ 3.94784176e+01,  3.63214596e+01,  3.32960415e+01,\n",
       "         3.04021633e+01,  2.76398251e+01,  2.50090267e+01,\n",
       "         2.25097683e+01,  2.01420498e+01,  1.79058712e+01,\n",
       "         1.58012325e+01,  1.38281338e+01,  1.19865749e+01,\n",
       "         1.02765560e+01,  8.69807701e+00,  7.25113793e+00,\n",
       "         5.93573876e+00,  4.75187950e+00,  3.69956017e+00,\n",
       "         2.77878075e+00,  1.98954125e+00,  1.33184166e+00,\n",
       "         8.05681992e-01,  4.11062241e-01,  1.47982407e-01,\n",
       "         1.64424896e-02,  1.64424896e-02,  1.47982407e-01,\n",
       "         4.11062241e-01,  8.05681992e-01,  1.33184166e+00,\n",
       "         1.98954125e+00,  2.77878075e+00,  3.69956017e+00,\n",
       "         4.75187950e+00,  5.93573876e+00,  7.25113793e+00,\n",
       "         8.69807701e+00,  1.02765560e+01,  1.19865749e+01,\n",
       "         1.38281338e+01,  1.58012325e+01,  1.79058712e+01,\n",
       "         2.01420498e+01,  2.25097683e+01,  2.50090267e+01,\n",
       "         2.76398251e+01,  3.04021633e+01,  3.32960415e+01,\n",
       "         3.63214596e+01,  3.94784176e+01],\n",
       "       [-2.48050213e+02, -2.18899585e+02, -1.92127223e+02,\n",
       "        -1.67631925e+02, -1.45312487e+02, -1.25067707e+02,\n",
       "        -1.06796381e+02, -9.03973081e+01, -7.57692842e+01,\n",
       "        -6.28111068e+01, -5.14215731e+01, -4.14994802e+01,\n",
       "        -3.29436254e+01, -2.56528058e+01, -1.95258186e+01,\n",
       "        -1.44614609e+01, -1.03585300e+01, -7.11582309e+00,\n",
       "        -4.63213728e+00, -2.80626979e+00, -1.53701779e+00,\n",
       "        -7.23178465e-01, -2.63549003e-01, -5.69265847e-02,\n",
       "        -2.10839203e-03,  2.10839203e-03,  5.69265847e-02,\n",
       "         2.63549003e-01,  7.23178465e-01,  1.53701779e+00,\n",
       "         2.80626979e+00,  4.63213728e+00,  7.11582309e+00,\n",
       "         1.03585300e+01,  1.44614609e+01,  1.95258186e+01,\n",
       "         2.56528058e+01,  3.29436254e+01,  4.14994802e+01,\n",
       "         5.14215731e+01,  6.28111068e+01,  7.57692842e+01,\n",
       "         9.03973081e+01,  1.06796381e+02,  1.25067707e+02,\n",
       "         1.45312487e+02,  1.67631925e+02,  1.92127223e+02,\n",
       "         2.18899585e+02,  2.48050213e+02]])"
      ]
     },
     "execution_count": 16,
     "metadata": {},
     "output_type": "execute_result"
    }
   ],
   "source": [
    "print('Shape:',matrix.shape)\n",
    "print('Size:',matrix.size)\n",
    "matrix"
   ]
  },
  {
   "cell_type": "markdown",
   "metadata": {},
   "source": [
    "The sublibrary `numpy.linalg` provides the function `lstsq` to solve least-squares optimization problems\n"
   ]
  },
  {
   "cell_type": "code",
   "execution_count": 17,
   "metadata": {
    "uuid": "c8963eee-4bc8-4ef2-a172-d4b64fd065a3"
   },
   "outputs": [],
   "source": [
    "reg = np.linalg.lstsq(matrix.T, f(x),rcond=None)[0]"
   ]
  },
  {
   "cell_type": "code",
   "execution_count": 18,
   "metadata": {},
   "outputs": [
    {
     "data": {
      "text/plain": [
       "(array([ 1.50654604e-14,  5.62777448e-01, -1.11022302e-15, -5.43553615e-03]),\n",
       " array([18.70019638]),\n",
       " 4,\n",
       " array([703.78757296, 130.00970131,  10.44694523,   4.7085911 ]))"
      ]
     },
     "execution_count": 18,
     "metadata": {},
     "output_type": "execute_result"
    }
   ],
   "source": [
    "np.linalg.lstsq(matrix.T, f(x),rcond=None)"
   ]
  },
  {
   "cell_type": "code",
   "execution_count": 19,
   "metadata": {},
   "outputs": [
    {
     "name": "stdout",
     "output_type": "stream",
     "text": [
      "regression parameters: [ 1.50654604e-14  5.62777448e-01 -1.11022302e-15 -5.43553615e-03]\n",
      "regression shape: (4,)\n",
      "matrix shape: (4, 50)\n"
     ]
    }
   ],
   "source": [
    "print(\"regression parameters:\",reg)        # optimal parameters for the single basis functions:\n",
    "print(\"regression shape:\", reg.shape)\n",
    "print (\"matrix shape:\", matrix.shape)"
   ]
  },
  {
   "cell_type": "markdown",
   "metadata": {},
   "source": [
    " To get the regression estimates we apply the dot function to the reg and matrix arrays. `np.dot(a, b)` simply gives the dot product for the two arrays a and b:\n"
   ]
  },
  {
   "cell_type": "code",
   "execution_count": 20,
   "metadata": {
    "uuid": "efb7b252-d0f8-4263-b2be-4d9588ab06a7"
   },
   "outputs": [],
   "source": [
    "ry = np.dot(reg, matrix)"
   ]
  },
  {
   "cell_type": "markdown",
   "metadata": {},
   "source": [
    "Alternatively, we can use `matmul`:"
   ]
  },
  {
   "cell_type": "code",
   "execution_count": 21,
   "metadata": {},
   "outputs": [],
   "source": [
    "rz = np.matmul(reg, matrix)"
   ]
  },
  {
   "cell_type": "markdown",
   "metadata": {},
   "source": [
    "See, it's the same:"
   ]
  },
  {
   "cell_type": "code",
   "execution_count": 22,
   "metadata": {},
   "outputs": [
    {
     "data": {
      "text/plain": [
       "True"
      ]
     },
     "execution_count": 22,
     "metadata": {},
     "output_type": "execute_result"
    }
   ],
   "source": [
    "np.allclose(rz,ry)"
   ]
  },
  {
   "cell_type": "markdown",
   "metadata": {},
   "source": [
    "Having a look at it:"
   ]
  },
  {
   "cell_type": "code",
   "execution_count": 23,
   "metadata": {},
   "outputs": [
    {
     "data": {
      "text/plain": [
       "Text(0.5, 1.0, 'Regression via least-squares function')"
      ]
     },
     "execution_count": 23,
     "metadata": {},
     "output_type": "execute_result"
    },
    {
     "data": {
      "image/png": "[encoded data removed]",
      "text/plain": [
       "<Figure size 432x288 with 1 Axes>"
      ]
     },
     "metadata": {
      "needs_background": "light"
     },
     "output_type": "display_data"
    }
   ],
   "source": [
    "plt.plot(x, f(x), 'b', label='f(x)')\n",
    "plt.plot(x, ry, 'r.', label='regression')\n",
    "plt.legend(loc=0)\n",
    "plt.grid(True)\n",
    "plt.xlabel('x')\n",
    "plt.ylabel('f(x)')\n",
    "plt.title(\"Regression via least-squares function\")\n",
    "#    The result is not really as good as expected"
   ]
  },
  {
   "cell_type": "markdown",
   "metadata": {},
   "source": [
    "Now let's use our knowledge of the sine-wavey nature of the example function."
   ]
  },
  {
   "cell_type": "code",
   "execution_count": 24,
   "metadata": {
    "uuid": "ac77ef01-8abe-4b99-8f92-8325a396ff2c"
   },
   "outputs": [],
   "source": [
    "matrix[3, :] = np.sin(x) #Replacing the highest-degree monomial\n",
    "reg = np.linalg.lstsq(matrix.T, f(x),rcond=None)[0]\n",
    "ry = np.dot(reg, matrix)"
   ]
  },
  {
   "cell_type": "markdown",
   "metadata": {},
   "source": [
    "Having a look..."
   ]
  },
  {
   "cell_type": "code",
   "execution_count": 25,
   "metadata": {},
   "outputs": [
    {
     "data": {
      "text/plain": [
       "array([4.2004068e-16, 5.0000000e-01, 0.0000000e+00, 1.0000000e+00])"
      ]
     },
     "execution_count": 25,
     "metadata": {},
     "output_type": "execute_result"
    }
   ],
   "source": [
    "reg"
   ]
  },
  {
   "cell_type": "code",
   "execution_count": 26,
   "metadata": {},
   "outputs": [
    {
     "data": {
      "text/plain": [
       "Text(0.5, 1.0, 'Regression using individual functions')"
      ]
     },
     "execution_count": 26,
     "metadata": {},
     "output_type": "execute_result"
    },
    {
     "data": {
      "image/png": "[encoded data removed]",
      "text/plain": [
       "<Figure size 432x288 with 1 Axes>"
      ]
     },
     "metadata": {
      "needs_background": "light"
     },
     "output_type": "display_data"
    }
   ],
   "source": [
    "plt.plot(x, f(x), 'b', label='f(x)')\n",
    "plt.plot(x, ry, 'r.', label='regression')\n",
    "plt.legend(loc=0)\n",
    "plt.grid(True)\n",
    "plt.xlabel('x')\n",
    "plt.ylabel('f(x)')\n",
    "plt.title(\"Regression using individual functions\")"
   ]
  },
  {
   "cell_type": "markdown",
   "metadata": {},
   "source": [
    "<img src=\"https://media1.tenor.com/images/24168fdb3087be9a171f5b33439b25ba/tenor.gif\" style=\"width: 200px;\"/>\n",
    "\n",
    "\n"
   ]
  },
  {
   "cell_type": "markdown",
   "metadata": {},
   "source": [
    "The regression now is “perfect” in a numerical sense:"
   ]
  },
  {
   "cell_type": "code",
   "execution_count": 27,
   "metadata": {},
   "outputs": [
    {
     "data": {
      "text/plain": [
       "True"
      ]
     },
     "execution_count": 27,
     "metadata": {},
     "output_type": "execute_result"
    }
   ],
   "source": [
    "np.allclose(f(x), ry)"
   ]
  },
  {
   "cell_type": "markdown",
   "metadata": {},
   "source": [
    "The mean squared error (*MSE*) is close to $0$."
   ]
  },
  {
   "cell_type": "code",
   "execution_count": 28,
   "metadata": {},
   "outputs": [
    {
     "data": {
      "text/plain": [
       "3.345571424993955e-31"
      ]
     },
     "execution_count": 28,
     "metadata": {},
     "output_type": "execute_result"
    }
   ],
   "source": [
    "np.sum((f(x) - ry) ** 2) / len(x)"
   ]
  },
  {
   "cell_type": "markdown",
   "metadata": {},
   "source": [
    "In fact, the minimization routine recovers the correct parameters of $1$ for the `sin` part and $0.5$ for the linear part:\n",
    "\n",
    "`np.sin(x) + 0.5 * x`\n"
   ]
  },
  {
   "cell_type": "code",
   "execution_count": 29,
   "metadata": {},
   "outputs": [
    {
     "data": {
      "text/plain": [
       "array([4.2004068e-16, 5.0000000e-01, 0.0000000e+00, 1.0000000e+00])"
      ]
     },
     "execution_count": 29,
     "metadata": {},
     "output_type": "execute_result"
    }
   ],
   "source": [
    "reg"
   ]
  },
  {
   "cell_type": "markdown",
   "metadata": {},
   "source": [
    "**Noisy Data**\n",
    "\n",
    "Regression can cope equally well with noisy data, be it data from simulation or from (nonperfect) measurements\n"
   ]
  },
  {
   "cell_type": "code",
   "execution_count": 30,
   "metadata": {
    "uuid": "75d3a6a6-a940-4a49-b35d-29f21880ab95"
   },
   "outputs": [],
   "source": [
    "xn = np.linspace(-2 * np.pi, 2 * np.pi, 50)\n",
    "xn = xn + 0.15 * np.random.standard_normal(len(xn)) # Adding Gaussian noise\n",
    "yn = f(xn) + 0.25 * np.random.standard_normal(len(xn))"
   ]
  },
  {
   "cell_type": "code",
   "execution_count": 31,
   "metadata": {
    "uuid": "f6f9c05f-1f96-48ee-aaca-f4d80c3d3ac5"
   },
   "outputs": [],
   "source": [
    "reg = np.polyfit(xn, yn, 7)\n",
    "ry = np.polyval(reg, xn)"
   ]
  },
  {
   "cell_type": "code",
   "execution_count": 32,
   "metadata": {},
   "outputs": [
    {
     "data": {
      "text/plain": [
       "Text(0.5, 1.0, 'Regression with noisy data')"
      ]
     },
     "execution_count": 32,
     "metadata": {},
     "output_type": "execute_result"
    },
    {
     "data": {
      "image/png": "[encoded data removed]",
      "text/plain": [
       "<Figure size 432x288 with 1 Axes>"
      ]
     },
     "metadata": {
      "needs_background": "light"
     },
     "output_type": "display_data"
    }
   ],
   "source": [
    "plt.plot(xn, yn, 'b^', label='f(x)')\n",
    "plt.plot(xn, ry, 'ro', label='regression')\n",
    "plt.legend(loc=0)\n",
    "plt.grid(True)\n",
    "plt.xlabel('x')\n",
    "plt.ylabel('f(x)')\n",
    "plt.title(\"Regression with noisy data\")"
   ]
  },
  {
   "cell_type": "markdown",
   "metadata": {},
   "source": [
    "**Unsorted Data**\n",
    "\n",
    "Regression  also works seamlessly with unsorted datalet us randomize the independent data points.\n"
   ]
  },
  {
   "cell_type": "code",
   "execution_count": 33,
   "metadata": {
    "uuid": "8ea85cdb-47f2-4967-b684-7894d9964e76"
   },
   "outputs": [],
   "source": [
    "xu = np.random.rand(50) * 4 * np.pi - 2 * np.pi\n",
    "yu = f(xu)"
   ]
  },
  {
   "cell_type": "markdown",
   "metadata": {},
   "source": [
    "Inspecting the raw data *visually* but not *graphically*:"
   ]
  },
  {
   "cell_type": "code",
   "execution_count": 34,
   "metadata": {},
   "outputs": [
    {
     "name": "stdout",
     "output_type": "stream",
     "text": [
      "[ 1.89  4.97  4.9   5.11 -1.21 -4.47  1.83 -0.97  3.88 -3.58]\n",
      "[ 1.89  1.52  1.47  1.64 -1.54 -1.26  1.88 -1.31  1.27 -1.37]\n"
     ]
    }
   ],
   "source": [
    "print (xu[:10].round(2))\n",
    "print (yu[:10].round(2))"
   ]
  },
  {
   "cell_type": "markdown",
   "metadata": {},
   "source": [
    "Take monomials up to the order of $5$ as basis functions..."
   ]
  },
  {
   "cell_type": "code",
   "execution_count": 35,
   "metadata": {
    "uuid": "d7f5f003-1cb8-4432-a8d6-cb4bef1a101a"
   },
   "outputs": [],
   "source": [
    "reg = np.polyfit(xu, yu, 5) \n",
    "ry = np.polyval(reg, xu)"
   ]
  },
  {
   "cell_type": "code",
   "execution_count": 36,
   "metadata": {},
   "outputs": [
    {
     "data": {
      "text/plain": [
       "Text(0.5, 1.0, 'Regression with unsorted data')"
      ]
     },
     "execution_count": 36,
     "metadata": {},
     "output_type": "execute_result"
    },
    {
     "data": {
      "image/png": "[encoded data removed]",
      "text/plain": [
       "<Figure size 432x288 with 1 Axes>"
      ]
     },
     "metadata": {
      "needs_background": "light"
     },
     "output_type": "display_data"
    }
   ],
   "source": [
    "plt.plot(xu, yu, 'b^', label='f(x)')\n",
    "plt.plot(xu, ry, 'ro', label='regression')\n",
    "plt.legend(loc=0)\n",
    "plt.grid(True)\n",
    "plt.xlabel('x')\n",
    "plt.ylabel('f(x)')\n",
    "plt.title(\"Regression with unsorted data\")"
   ]
  },
  {
   "cell_type": "markdown",
   "metadata": {},
   "source": [
    "If this example confuses you, then just forget about it. The point is that the regression algorithm doesn't care about the order in which the observations appear - as you can easily tell by looking at it as an optimization problem. Recall:\n",
    "\n",
    "$\\Large{\\displaystyle\\min_{\\alpha_1,...,\\alpha_D} \\frac{1}{I} \\displaystyle\\sum_{i = 1}^{I} (y_i - \\displaystyle\\sum_{d = 1}^{D} \\color{blue}{\\alpha}_{d} \\cdot b_d (x_i ))^2}$\n"
   ]
  },
  {
   "cell_type": "markdown",
   "metadata": {},
   "source": [
    "**Multiple Dimensions**\n",
    "\n",
    "Univariate models are great, but the world is lots more complicated than that. Happily, we can use basically the same methods to do linear regression on multivariate data (inputs and outputs)."
   ]
  },
  {
   "cell_type": "markdown",
   "metadata": {},
   "source": [
    "Let's define another function to generate $2D$ data."
   ]
  },
  {
   "cell_type": "code",
   "execution_count": 166,
   "metadata": {
    "uuid": "82b95a7b-9e3e-4dc8-b313-1af775b06b8b"
   },
   "outputs": [],
   "source": [
    "def fm(x, y):\n",
    "    return np.sin(x) + 0.25 * x + np.sqrt(y) + 0.05 * y ** 2"
   ]
  },
  {
   "cell_type": "markdown",
   "metadata": {},
   "source": [
    "We're meeting a new `numpy` utility here called `meshgrid`. It's really handy because you don't want to do this yourself."
   ]
  },
  {
   "cell_type": "code",
   "execution_count": 167,
   "metadata": {
    "uuid": "b03b67ac-f7df-41d1-9dab-1e074e8738fa"
   },
   "outputs": [],
   "source": [
    "x = np.linspace(0, 10, 20)\n",
    "y = np.linspace(0, 10, 20)\n",
    "X, Y = np.meshgrid(x, y)     # generates 2-d grids out of the 1-d arrays\n",
    "Z = fm(X, Y)                 # dependent data points"
   ]
  },
  {
   "cell_type": "code",
   "execution_count": 174,
   "metadata": {
    "scrolled": true
   },
   "outputs": [
    {
     "data": {
      "text/plain": [
       "array([[ 0.        ,  0.6339301 ,  1.13188751,  1.39470362,  1.38685613,\n",
       "         1.14608395,  0.77317232,  0.40467303,  0.17594355,  0.18450949,\n",
       "         0.46366711,  0.9734709 ,  1.61154576,  2.24079713,  2.72651873,\n",
       "         2.97285383,  2.9487411 ,  2.69632201,  2.3195343 ,  1.95597889],\n",
       "       [ 0.73932667,  1.37325677,  1.87121418,  2.13403029,  2.12618279,\n",
       "         1.88541061,  1.51249899,  1.1439997 ,  0.91527021,  0.92383615,\n",
       "         1.20299377,  1.71279756,  2.35087242,  2.9801238 ,  3.46584539,\n",
       "         3.7121805 ,  3.68806777,  3.43564867,  3.05886096,  2.69530555],\n",
       "       [ 1.08138001,  1.71531012,  2.21326753,  2.47608364,  2.46823614,\n",
       "         2.22746396,  1.85455234,  1.48605305,  1.25732356,  1.2658895 ,\n",
       "         1.54504712,  2.05485091,  2.69292577,  3.32217715,  3.80789874,\n",
       "         4.05423385,  4.03012112,  3.77770202,  3.40091431,  3.0373589 ],\n",
       "       [ 1.38121546,  2.01514557,  2.51310298,  2.77591909,  2.76807159,\n",
       "         2.52729941,  2.15438779,  1.7858885 ,  1.55715901,  1.56572495,\n",
       "         1.84488257,  2.35468636,  2.99276122,  3.6220126 ,  4.10773419,\n",
       "         4.3540693 ,  4.32995657,  4.07753747,  3.70074976,  3.33719435],\n",
       "       [ 1.67255915,  2.30648925,  2.80444666,  3.06726277,  3.05941528,\n",
       "         2.81864309,  2.44573147,  2.07723218,  1.8485027 ,  1.85706864,\n",
       "         2.13622625,  2.64603004,  3.28410491,  3.91335628,  4.39907787,\n",
       "         4.64541298,  4.62130025,  4.36888116,  3.99209344,  3.62853804],\n",
       "       [ 1.9684746 ,  2.6024047 ,  3.10036211,  3.36317822,  3.35533073,\n",
       "         3.11455854,  2.74164692,  2.37314763,  2.14441815,  2.15298409,\n",
       "         2.4321417 ,  2.94194549,  3.58002036,  4.20927173,  4.69499332,\n",
       "         4.94132843,  4.9172157 ,  4.66479661,  4.2880089 ,  3.92445349],\n",
       "       [ 2.27566159,  2.90959169,  3.4075491 ,  3.67036521,  3.66251772,\n",
       "         3.42174554,  3.04883391,  2.68033462,  2.45160514,  2.46017108,\n",
       "         2.7393287 ,  3.24913249,  3.88720735,  4.51645872,  5.00218032,\n",
       "         5.24851542,  5.22440269,  4.9719836 ,  4.59519589,  4.23164048],\n",
       "       [ 2.5981001 ,  3.2320302 ,  3.72998761,  3.99280372,  3.98495623,\n",
       "         3.74418405,  3.37127242,  3.00277313,  2.77404365,  2.78260959,\n",
       "         3.06176721,  3.571571  ,  4.20964586,  4.83889723,  5.32461883,\n",
       "         5.57095393,  5.5468412 ,  5.29442211,  4.9176344 ,  4.55407899],\n",
       "       [ 2.9383833 ,  3.5723134 ,  4.07027081,  4.33308692,  4.32523942,\n",
       "         4.08446724,  3.71155562,  3.34305633,  3.11432684,  3.12289279,\n",
       "         3.4020504 ,  3.91185419,  4.54992906,  5.17918043,  5.66490202,\n",
       "         5.91123713,  5.8871244 ,  5.63470531,  5.25791759,  4.89436219],\n",
       "       [ 3.29831241,  3.93224251,  4.43019992,  4.69301603,  4.68516853,\n",
       "         4.44439635,  4.07148473,  3.70298544,  3.47425595,  3.4828219 ,\n",
       "         3.76197951,  4.2717833 ,  4.90985817,  5.53910954,  6.02483113,\n",
       "         6.27116624,  6.24705351,  5.99463442,  5.6178467 ,  5.2542913 ],\n",
       "       [ 3.67919889,  4.31312899,  4.8110864 ,  5.07390251,  5.06605502,\n",
       "         4.82528284,  4.45237121,  4.08387192,  3.85514244,  3.86370838,\n",
       "         4.142866  ,  4.65266979,  5.29074465,  5.91999602,  6.40571762,\n",
       "         6.65205272,  6.62793999,  6.3755209 ,  5.99873319,  5.63517778],\n",
       "       [ 4.08203279,  4.71596289,  5.21392031,  5.47673642,  5.46888892,\n",
       "         5.22811674,  4.85520512,  4.48670583,  4.25797634,  4.26654228,\n",
       "         4.5456999 ,  5.05550369,  5.69357855,  6.32282992,  6.80855152,\n",
       "         7.05488662,  7.0307739 ,  6.7783548 ,  6.40156709,  6.03801168],\n",
       "       [ 4.50758328,  5.14151339,  5.6394708 ,  5.90228691,  5.89443941,\n",
       "         5.65366723,  5.28075561,  4.91225632,  4.68352683,  4.69209277,\n",
       "         4.97125039,  5.48105418,  6.11912904,  6.74838041,  7.23410201,\n",
       "         7.48043712,  7.45632439,  7.20390529,  6.82711758,  6.46356217],\n",
       "       [ 4.95646204,  5.59039214,  6.08834955,  6.35116566,  6.34331817,\n",
       "         6.10254599,  5.72963436,  5.36113507,  5.13240559,  5.14097153,\n",
       "         5.42012915,  5.92993294,  6.5680078 ,  7.19725917,  7.68298077,\n",
       "         7.92931587,  7.90520314,  7.65278405,  7.27599634,  6.91244093],\n",
       "       [ 5.42916501,  6.06309511,  6.56105252,  6.82386863,  6.81602114,\n",
       "         6.57524896,  6.20233733,  5.83383804,  5.60510856,  5.6136745 ,\n",
       "         5.89283212,  6.40263591,  7.04071077,  7.66996214,  8.15568374,\n",
       "         8.40201884,  8.37790611,  8.12548702,  7.74869931,  7.3851439 ],\n",
       "       [ 5.92610093,  6.56003103,  7.05798844,  7.32080455,  7.31295705,\n",
       "         7.07218487,  6.69927325,  6.33077396,  6.10204447,  6.11061041,\n",
       "         6.38976803,  6.89957182,  7.53764668,  8.16689806,  8.65261965,\n",
       "         8.89895476,  8.87484203,  8.62242293,  8.24563522,  7.88207981],\n",
       "       [ 6.44761137,  7.08154147,  7.57949888,  7.84231499,  7.8344675 ,\n",
       "         7.59369532,  7.22078369,  6.8522844 ,  6.62355492,  6.63212086,\n",
       "         6.91127848,  7.42108227,  8.05915713,  8.6884085 ,  9.1741301 ,\n",
       "         9.4204652 ,  9.39635247,  9.14393338,  8.76714567,  8.40359026],\n",
       "       [ 6.99398529,  7.62791539,  8.1258728 ,  8.38868891,  8.38084142,\n",
       "         8.14006924,  7.76715761,  7.39865832,  7.16992884,  7.17849478,\n",
       "         7.4576524 ,  7.96745619,  8.60553105,  9.23478242,  9.72050402,\n",
       "         9.96683912,  9.94272639,  9.6903073 ,  9.31351959,  8.94996418],\n",
       "       [ 7.56546968,  8.19939978,  8.6973572 ,  8.9601733 ,  8.95232581,\n",
       "         8.71155363,  8.33864201,  7.97014271,  7.74141323,  7.74997917,\n",
       "         8.02913679,  8.53894058,  9.17701544,  9.80626681, 10.29198841,\n",
       "        10.53832351, 10.51421079, 10.26179169,  9.88500398,  9.52144857],\n",
       "       [ 8.16227766,  8.79620776,  9.29416517,  9.55698128,  9.54913379,\n",
       "         9.30836161,  8.93544998,  8.56695069,  8.33822121,  8.34678715,\n",
       "         8.62594477,  9.13574856,  9.77382342, 10.40307479, 10.88879639,\n",
       "        11.13513149, 11.11101876, 10.85859967, 10.48181196, 10.11825655]])"
      ]
     },
     "execution_count": 174,
     "metadata": {},
     "output_type": "execute_result"
    }
   ],
   "source": [
    "Z"
   ]
  },
  {
   "cell_type": "code",
   "execution_count": 177,
   "metadata": {},
   "outputs": [
    {
     "data": {
      "text/plain": [
       "array([[ 0.        ,  0.52631579,  1.05263158,  1.57894737,  2.10526316,\n",
       "         2.63157895,  3.15789474,  3.68421053,  4.21052632,  4.73684211,\n",
       "         5.26315789,  5.78947368,  6.31578947,  6.84210526,  7.36842105,\n",
       "         7.89473684,  8.42105263,  8.94736842,  9.47368421, 10.        ],\n",
       "       [ 0.        ,  0.52631579,  1.05263158,  1.57894737,  2.10526316,\n",
       "         2.63157895,  3.15789474,  3.68421053,  4.21052632,  4.73684211,\n",
       "         5.26315789,  5.78947368,  6.31578947,  6.84210526,  7.36842105,\n",
       "         7.89473684,  8.42105263,  8.94736842,  9.47368421, 10.        ],\n",
       "       [ 0.        ,  0.52631579,  1.05263158,  1.57894737,  2.10526316,\n",
       "         2.63157895,  3.15789474,  3.68421053,  4.21052632,  4.73684211,\n",
       "         5.26315789,  5.78947368,  6.31578947,  6.84210526,  7.36842105,\n",
       "         7.89473684,  8.42105263,  8.94736842,  9.47368421, 10.        ],\n",
       "       [ 0.        ,  0.52631579,  1.05263158,  1.57894737,  2.10526316,\n",
       "         2.63157895,  3.15789474,  3.68421053,  4.21052632,  4.73684211,\n",
       "         5.26315789,  5.78947368,  6.31578947,  6.84210526,  7.36842105,\n",
       "         7.89473684,  8.42105263,  8.94736842,  9.47368421, 10.        ],\n",
       "       [ 0.        ,  0.52631579,  1.05263158,  1.57894737,  2.10526316,\n",
       "         2.63157895,  3.15789474,  3.68421053,  4.21052632,  4.73684211,\n",
       "         5.26315789,  5.78947368,  6.31578947,  6.84210526,  7.36842105,\n",
       "         7.89473684,  8.42105263,  8.94736842,  9.47368421, 10.        ],\n",
       "       [ 0.        ,  0.52631579,  1.05263158,  1.57894737,  2.10526316,\n",
       "         2.63157895,  3.15789474,  3.68421053,  4.21052632,  4.73684211,\n",
       "         5.26315789,  5.78947368,  6.31578947,  6.84210526,  7.36842105,\n",
       "         7.89473684,  8.42105263,  8.94736842,  9.47368421, 10.        ],\n",
       "       [ 0.        ,  0.52631579,  1.05263158,  1.57894737,  2.10526316,\n",
       "         2.63157895,  3.15789474,  3.68421053,  4.21052632,  4.73684211,\n",
       "         5.26315789,  5.78947368,  6.31578947,  6.84210526,  7.36842105,\n",
       "         7.89473684,  8.42105263,  8.94736842,  9.47368421, 10.        ],\n",
       "       [ 0.        ,  0.52631579,  1.05263158,  1.57894737,  2.10526316,\n",
       "         2.63157895,  3.15789474,  3.68421053,  4.21052632,  4.73684211,\n",
       "         5.26315789,  5.78947368,  6.31578947,  6.84210526,  7.36842105,\n",
       "         7.89473684,  8.42105263,  8.94736842,  9.47368421, 10.        ],\n",
       "       [ 0.        ,  0.52631579,  1.05263158,  1.57894737,  2.10526316,\n",
       "         2.63157895,  3.15789474,  3.68421053,  4.21052632,  4.73684211,\n",
       "         5.26315789,  5.78947368,  6.31578947,  6.84210526,  7.36842105,\n",
       "         7.89473684,  8.42105263,  8.94736842,  9.47368421, 10.        ],\n",
       "       [ 0.        ,  0.52631579,  1.05263158,  1.57894737,  2.10526316,\n",
       "         2.63157895,  3.15789474,  3.68421053,  4.21052632,  4.73684211,\n",
       "         5.26315789,  5.78947368,  6.31578947,  6.84210526,  7.36842105,\n",
       "         7.89473684,  8.42105263,  8.94736842,  9.47368421, 10.        ],\n",
       "       [ 0.        ,  0.52631579,  1.05263158,  1.57894737,  2.10526316,\n",
       "         2.63157895,  3.15789474,  3.68421053,  4.21052632,  4.73684211,\n",
       "         5.26315789,  5.78947368,  6.31578947,  6.84210526,  7.36842105,\n",
       "         7.89473684,  8.42105263,  8.94736842,  9.47368421, 10.        ],\n",
       "       [ 0.        ,  0.52631579,  1.05263158,  1.57894737,  2.10526316,\n",
       "         2.63157895,  3.15789474,  3.68421053,  4.21052632,  4.73684211,\n",
       "         5.26315789,  5.78947368,  6.31578947,  6.84210526,  7.36842105,\n",
       "         7.89473684,  8.42105263,  8.94736842,  9.47368421, 10.        ],\n",
       "       [ 0.        ,  0.52631579,  1.05263158,  1.57894737,  2.10526316,\n",
       "         2.63157895,  3.15789474,  3.68421053,  4.21052632,  4.73684211,\n",
       "         5.26315789,  5.78947368,  6.31578947,  6.84210526,  7.36842105,\n",
       "         7.89473684,  8.42105263,  8.94736842,  9.47368421, 10.        ],\n",
       "       [ 0.        ,  0.52631579,  1.05263158,  1.57894737,  2.10526316,\n",
       "         2.63157895,  3.15789474,  3.68421053,  4.21052632,  4.73684211,\n",
       "         5.26315789,  5.78947368,  6.31578947,  6.84210526,  7.36842105,\n",
       "         7.89473684,  8.42105263,  8.94736842,  9.47368421, 10.        ],\n",
       "       [ 0.        ,  0.52631579,  1.05263158,  1.57894737,  2.10526316,\n",
       "         2.63157895,  3.15789474,  3.68421053,  4.21052632,  4.73684211,\n",
       "         5.26315789,  5.78947368,  6.31578947,  6.84210526,  7.36842105,\n",
       "         7.89473684,  8.42105263,  8.94736842,  9.47368421, 10.        ],\n",
       "       [ 0.        ,  0.52631579,  1.05263158,  1.57894737,  2.10526316,\n",
       "         2.63157895,  3.15789474,  3.68421053,  4.21052632,  4.73684211,\n",
       "         5.26315789,  5.78947368,  6.31578947,  6.84210526,  7.36842105,\n",
       "         7.89473684,  8.42105263,  8.94736842,  9.47368421, 10.        ],\n",
       "       [ 0.        ,  0.52631579,  1.05263158,  1.57894737,  2.10526316,\n",
       "         2.63157895,  3.15789474,  3.68421053,  4.21052632,  4.73684211,\n",
       "         5.26315789,  5.78947368,  6.31578947,  6.84210526,  7.36842105,\n",
       "         7.89473684,  8.42105263,  8.94736842,  9.47368421, 10.        ],\n",
       "       [ 0.        ,  0.52631579,  1.05263158,  1.57894737,  2.10526316,\n",
       "         2.63157895,  3.15789474,  3.68421053,  4.21052632,  4.73684211,\n",
       "         5.26315789,  5.78947368,  6.31578947,  6.84210526,  7.36842105,\n",
       "         7.89473684,  8.42105263,  8.94736842,  9.47368421, 10.        ],\n",
       "       [ 0.        ,  0.52631579,  1.05263158,  1.57894737,  2.10526316,\n",
       "         2.63157895,  3.15789474,  3.68421053,  4.21052632,  4.73684211,\n",
       "         5.26315789,  5.78947368,  6.31578947,  6.84210526,  7.36842105,\n",
       "         7.89473684,  8.42105263,  8.94736842,  9.47368421, 10.        ],\n",
       "       [ 0.        ,  0.52631579,  1.05263158,  1.57894737,  2.10526316,\n",
       "         2.63157895,  3.15789474,  3.68421053,  4.21052632,  4.73684211,\n",
       "         5.26315789,  5.78947368,  6.31578947,  6.84210526,  7.36842105,\n",
       "         7.89473684,  8.42105263,  8.94736842,  9.47368421, 10.        ]])"
      ]
     },
     "execution_count": 177,
     "metadata": {},
     "output_type": "execute_result"
    }
   ],
   "source": [
    "X"
   ]
  },
  {
   "cell_type": "code",
   "execution_count": 175,
   "metadata": {},
   "outputs": [
    {
     "data": {
      "text/plain": [
       "array([ 0.        ,  1.37325677,  2.21326753,  2.77591909,  3.05941528,\n",
       "        3.11455854,  3.04883391,  3.00277313,  3.11432684,  3.4828219 ,\n",
       "        4.142866  ,  5.05550369,  6.11912904,  7.19725917,  8.15568374,\n",
       "        8.89895476,  9.39635247,  9.6903073 ,  9.88500398, 10.11825655])"
      ]
     },
     "execution_count": 175,
     "metadata": {},
     "output_type": "execute_result"
    }
   ],
   "source": [
    "fm(x, y)"
   ]
  },
  {
   "cell_type": "code",
   "execution_count": 176,
   "metadata": {},
   "outputs": [
    {
     "data": {
      "text/plain": [
       "array([ 0.        ,  1.37325677,  2.21326753,  2.77591909,  3.05941528,\n",
       "        3.11455854,  3.04883391,  3.00277313,  3.11432684,  3.4828219 ,\n",
       "        4.142866  ,  5.05550369,  6.11912904,  7.19725917,  8.15568374,\n",
       "        8.89895476,  9.39635247,  9.6903073 ,  9.88500398, 10.11825655])"
      ]
     },
     "execution_count": 176,
     "metadata": {},
     "output_type": "execute_result"
    }
   ],
   "source": [
    "Z.diagonal()"
   ]
  },
  {
   "cell_type": "code",
   "execution_count": 168,
   "metadata": {},
   "outputs": [
    {
     "data": {
      "text/plain": [
       "(20, 20)"
      ]
     },
     "execution_count": 168,
     "metadata": {},
     "output_type": "execute_result"
    }
   ],
   "source": [
    "Z.shape"
   ]
  },
  {
   "cell_type": "code",
   "execution_count": 146,
   "metadata": {},
   "outputs": [
    {
     "data": {
      "text/plain": [
       "numpy.ndarray"
      ]
     },
     "execution_count": 146,
     "metadata": {},
     "output_type": "execute_result"
    }
   ],
   "source": [
    "type(Z)"
   ]
  },
  {
   "cell_type": "code",
   "execution_count": 91,
   "metadata": {},
   "outputs": [
    {
     "data": {
      "text/plain": [
       "array([ 0.        ,  0.52631579,  1.05263158,  1.57894737,  2.10526316,\n",
       "        2.63157895,  3.15789474,  3.68421053,  4.21052632,  4.73684211,\n",
       "        5.26315789,  5.78947368,  6.31578947,  6.84210526,  7.36842105,\n",
       "        7.89473684,  8.42105263,  8.94736842,  9.47368421, 10.        ])"
      ]
     },
     "execution_count": 91,
     "metadata": {},
     "output_type": "execute_result"
    }
   ],
   "source": [
    "x"
   ]
  },
  {
   "cell_type": "markdown",
   "metadata": {},
   "source": [
    "Let's take a look at what we've got here:"
   ]
  },
  {
   "cell_type": "code",
   "execution_count": 92,
   "metadata": {},
   "outputs": [
    {
     "data": {
      "image/png": "[encoded data removed]",
      "text/plain": [
       "<Figure size 648x432 with 2 Axes>"
      ]
     },
     "metadata": {
      "needs_background": "light"
     },
     "output_type": "display_data"
    }
   ],
   "source": [
    "from mpl_toolkits.mplot3d import Axes3D\n",
    "import matplotlib as mpl\n",
    "\n",
    "fig = plt.figure(figsize=(9, 6))\n",
    "ax = fig.gca(projection='3d')\n",
    "surf = ax.plot_surface(X, Y, Z, rstride=2, cstride=2, cmap=mpl.cm.coolwarm, \n",
    "       linewidth=0.5, antialiased=True)\n",
    "#  X, Y, Z - data values as 2D arrays\n",
    "#  stride, cstride - array row and column stride (step size)\n",
    "#  cmap - a color map for surface pathes\n",
    "ax.set_xlabel('x')\n",
    "ax.set_ylabel('y')\n",
    "ax.set_zlabel('f(x, y)')\n",
    "fig.colorbar(surf, shrink=0.5, aspect=5)\n",
    "plt.show()\n",
    "# title: Function with two parameters"
   ]
  },
  {
   "cell_type": "markdown",
   "metadata": {},
   "source": [
    "Now, manually, let's create some basis functions. It's really got the same exact structure - it's an array."
   ]
  },
  {
   "cell_type": "markdown",
   "metadata": {},
   "source": [
    "To get good regression results we compile a set of basis functions, including both a `sin` and a `sqrt` function, which leverages our knowledge of the example function:"
   ]
  },
  {
   "cell_type": "code",
   "execution_count": 169,
   "metadata": {
    "uuid": "5918f2cf-3ead-4b80-980e-4a375ee159db"
   },
   "outputs": [],
   "source": [
    "matrix = np.zeros((len(x), 9 + 1))\n",
    "matrix[:, 9] = x * y\n",
    "matrix[:, 8] = np.sqrt(y)\n",
    "matrix[:, 7] = np.sin(x)\n",
    "matrix[:, 6] = x ** 3\n",
    "matrix[:, 5] = y ** 3\n",
    "matrix[:, 4] = x ** 2\n",
    "matrix[:, 3] = y ** 2\n",
    "matrix[:, 2] = x\n",
    "matrix[:, 1] = y\n",
    "matrix[:, 0] = 1"
   ]
  },
  {
   "cell_type": "markdown",
   "metadata": {},
   "source": [
    "This time we'll use `statsmodels`. The `OLS` provided by it works for both univariate and multivariate regressions."
   ]
  },
  {
   "cell_type": "code",
   "execution_count": 148,
   "metadata": {
    "uuid": "48ce242e-3411-41bf-b6c1-c8e228f3e494"
   },
   "outputs": [],
   "source": [
    "import statsmodels.api as sm"
   ]
  },
  {
   "cell_type": "markdown",
   "metadata": {},
   "source": [
    "More [here](http://statsmodels.sourceforge.net/stable/generated/statsmodels.regression.linear_model.OLS.html)."
   ]
  },
  {
   "cell_type": "code",
   "execution_count": 172,
   "metadata": {},
   "outputs": [],
   "source": [
    "xx = fm(x,y)"
   ]
  },
  {
   "cell_type": "code",
   "execution_count": 173,
   "metadata": {
    "scrolled": true
   },
   "outputs": [
    {
     "data": {
      "text/html": [
       "<table class=\"simpletable\">\n",
       "<caption>OLS Regression Results</caption>\n",
       "<tr>\n",
       "  <th>Dep. Variable:</th>            <td>y</td>        <th>  R-squared:         </th> <td>   1.000</td> \n",
       "</tr>\n",
       "<tr>\n",
       "  <th>Model:</th>                   <td>OLS</td>       <th>  Adj. R-squared:    </th> <td>   1.000</td> \n",
       "</tr>\n",
       "<tr>\n",
       "  <th>Method:</th>             <td>Least Squares</td>  <th>  F-statistic:       </th> <td>5.906e+26</td>\n",
       "</tr>\n",
       "<tr>\n",
       "  <th>Date:</th>             <td>Tue, 13 Nov 2018</td> <th>  Prob (F-statistic):</th> <td>9.59e-184</td>\n",
       "</tr>\n",
       "<tr>\n",
       "  <th>Time:</th>                 <td>20:47:33</td>     <th>  Log-Likelihood:    </th> <td>  555.01</td> \n",
       "</tr>\n",
       "<tr>\n",
       "  <th>No. Observations:</th>      <td>    20</td>      <th>  AIC:               </th> <td>  -1098.</td> \n",
       "</tr>\n",
       "<tr>\n",
       "  <th>Df Residuals:</th>          <td>    14</td>      <th>  BIC:               </th> <td>  -1092.</td> \n",
       "</tr>\n",
       "<tr>\n",
       "  <th>Df Model:</th>              <td>     5</td>      <th>                     </th>     <td> </td>    \n",
       "</tr>\n",
       "<tr>\n",
       "  <th>Covariance Type:</th>      <td>nonrobust</td>    <th>                     </th>     <td> </td>    \n",
       "</tr>\n",
       "</table>\n",
       "<table class=\"simpletable\">\n",
       "<tr>\n",
       "    <td></td>       <th>coef</th>     <th>std err</th>      <th>t</th>      <th>P>|t|</th>  <th>[0.025</th>    <th>0.975]</th>  \n",
       "</tr>\n",
       "<tr>\n",
       "  <th>const</th> <td>-3.184e-14</td> <td> 2.56e-13</td> <td>   -0.124</td> <td> 0.903</td> <td>-5.81e-13</td> <td> 5.17e-13</td>\n",
       "</tr>\n",
       "<tr>\n",
       "  <th>x1</th>    <td>    0.1250</td> <td> 4.19e-13</td> <td> 2.98e+11</td> <td> 0.000</td> <td>    0.125</td> <td>    0.125</td>\n",
       "</tr>\n",
       "<tr>\n",
       "  <th>x2</th>    <td>    0.1250</td> <td> 4.19e-13</td> <td> 2.98e+11</td> <td> 0.000</td> <td>    0.125</td> <td>    0.125</td>\n",
       "</tr>\n",
       "<tr>\n",
       "  <th>x3</th>    <td>    0.0167</td> <td> 3.62e-14</td> <td> 4.61e+11</td> <td> 0.000</td> <td>    0.017</td> <td>    0.017</td>\n",
       "</tr>\n",
       "<tr>\n",
       "  <th>x4</th>    <td>    0.0167</td> <td> 3.62e-14</td> <td> 4.61e+11</td> <td> 0.000</td> <td>    0.017</td> <td>    0.017</td>\n",
       "</tr>\n",
       "<tr>\n",
       "  <th>x5</th>    <td>-9.649e-15</td> <td> 2.84e-15</td> <td>   -3.393</td> <td> 0.004</td> <td>-1.57e-14</td> <td>-3.55e-15</td>\n",
       "</tr>\n",
       "<tr>\n",
       "  <th>x6</th>    <td> 9.536e-15</td> <td> 2.84e-15</td> <td>    3.353</td> <td> 0.005</td> <td> 3.44e-15</td> <td> 1.56e-14</td>\n",
       "</tr>\n",
       "<tr>\n",
       "  <th>x7</th>    <td>    1.0000</td> <td> 1.28e-13</td> <td> 7.79e+12</td> <td> 0.000</td> <td>    1.000</td> <td>    1.000</td>\n",
       "</tr>\n",
       "<tr>\n",
       "  <th>x8</th>    <td>    1.0000</td> <td> 1.03e-12</td> <td> 9.68e+11</td> <td> 0.000</td> <td>    1.000</td> <td>    1.000</td>\n",
       "</tr>\n",
       "<tr>\n",
       "  <th>x9</th>    <td>    0.0167</td> <td> 3.62e-14</td> <td> 4.61e+11</td> <td> 0.000</td> <td>    0.017</td> <td>    0.017</td>\n",
       "</tr>\n",
       "</table>\n",
       "<table class=\"simpletable\">\n",
       "<tr>\n",
       "  <th>Omnibus:</th>       <td> 2.798</td> <th>  Durbin-Watson:     </th> <td>   0.014</td>\n",
       "</tr>\n",
       "<tr>\n",
       "  <th>Prob(Omnibus):</th> <td> 0.247</td> <th>  Jarque-Bera (JB):  </th> <td>   2.307</td>\n",
       "</tr>\n",
       "<tr>\n",
       "  <th>Skew:</th>          <td> 0.761</td> <th>  Prob(JB):          </th> <td>   0.316</td>\n",
       "</tr>\n",
       "<tr>\n",
       "  <th>Kurtosis:</th>      <td> 2.328</td> <th>  Cond. No.          </th> <td>8.34e+33</td>\n",
       "</tr>\n",
       "</table><br/><br/>Warnings:<br/>[1] Standard Errors assume that the covariance matrix of the errors is correctly specified.<br/>[2] The smallest eigenvalue is 9.5e-62. This might indicate that there are<br/>strong multicollinearity problems or that the design matrix is singular."
      ],
      "text/plain": [
       "<class 'statsmodels.iolib.summary.Summary'>\n",
       "\"\"\"\n",
       "                            OLS Regression Results                            \n",
       "==============================================================================\n",
       "Dep. Variable:                      y   R-squared:                       1.000\n",
       "Model:                            OLS   Adj. R-squared:                  1.000\n",
       "Method:                 Least Squares   F-statistic:                 5.906e+26\n",
       "Date:                Tue, 13 Nov 2018   Prob (F-statistic):          9.59e-184\n",
       "Time:                        20:47:33   Log-Likelihood:                 555.01\n",
       "No. Observations:                  20   AIC:                            -1098.\n",
       "Df Residuals:                      14   BIC:                            -1092.\n",
       "Df Model:                           5                                         \n",
       "Covariance Type:            nonrobust                                         \n",
       "==============================================================================\n",
       "                 coef    std err          t      P>|t|      [0.025      0.975]\n",
       "------------------------------------------------------------------------------\n",
       "const      -3.184e-14   2.56e-13     -0.124      0.903   -5.81e-13    5.17e-13\n",
       "x1             0.1250   4.19e-13   2.98e+11      0.000       0.125       0.125\n",
       "x2             0.1250   4.19e-13   2.98e+11      0.000       0.125       0.125\n",
       "x3             0.0167   3.62e-14   4.61e+11      0.000       0.017       0.017\n",
       "x4             0.0167   3.62e-14   4.61e+11      0.000       0.017       0.017\n",
       "x5         -9.649e-15   2.84e-15     -3.393      0.004   -1.57e-14   -3.55e-15\n",
       "x6          9.536e-15   2.84e-15      3.353      0.005    3.44e-15    1.56e-14\n",
       "x7             1.0000   1.28e-13   7.79e+12      0.000       1.000       1.000\n",
       "x8             1.0000   1.03e-12   9.68e+11      0.000       1.000       1.000\n",
       "x9             0.0167   3.62e-14   4.61e+11      0.000       0.017       0.017\n",
       "==============================================================================\n",
       "Omnibus:                        2.798   Durbin-Watson:                   0.014\n",
       "Prob(Omnibus):                  0.247   Jarque-Bera (JB):                2.307\n",
       "Skew:                           0.761   Prob(JB):                        0.316\n",
       "Kurtosis:                       2.328   Cond. No.                     8.34e+33\n",
       "==============================================================================\n",
       "\n",
       "Warnings:\n",
       "[1] Standard Errors assume that the covariance matrix of the errors is correctly specified.\n",
       "[2] The smallest eigenvalue is 9.5e-62. This might indicate that there are\n",
       "strong multicollinearity problems or that the design matrix is singular.\n",
       "\"\"\""
      ]
     },
     "execution_count": 173,
     "metadata": {},
     "output_type": "execute_result"
    }
   ],
   "source": [
    "sm.OLS(xx, matrix).fit().summary()"
   ]
  },
  {
   "cell_type": "code",
   "execution_count": 181,
   "metadata": {},
   "outputs": [
    {
     "data": {
      "text/plain": [
       "numpy.ndarray"
      ]
     },
     "execution_count": 181,
     "metadata": {},
     "output_type": "execute_result"
    }
   ],
   "source": [
    "type(X)"
   ]
  },
  {
   "cell_type": "code",
   "execution_count": 179,
   "metadata": {},
   "outputs": [],
   "source": [
    "x = X.flatten()\n",
    "y = Y.flatten()\n",
    "\n",
    "matrix2 = np.zeros((len(x), 9 + 1))\n",
    "matrix2[:, 9] = x * y\n",
    "matrix2[:, 8] = np.sqrt(y)\n",
    "matrix2[:, 7] = np.sin(x)\n",
    "matrix2[:, 6] = x ** 3\n",
    "matrix2[:, 5] = y ** 3\n",
    "matrix2[:, 4] = x ** 2\n",
    "matrix2[:, 3] = y ** 2\n",
    "matrix2[:, 2] = x\n",
    "matrix2[:, 1] = y\n",
    "matrix2[:, 0] = 1"
   ]
  },
  {
   "cell_type": "code",
   "execution_count": 180,
   "metadata": {},
   "outputs": [
    {
     "data": {
      "text/html": [
       "<table class=\"simpletable\">\n",
       "<caption>OLS Regression Results</caption>\n",
       "<tr>\n",
       "  <th>Dep. Variable:</th>            <td>y</td>        <th>  R-squared:         </th>  <td>   1.000</td> \n",
       "</tr>\n",
       "<tr>\n",
       "  <th>Model:</th>                   <td>OLS</td>       <th>  Adj. R-squared:    </th>  <td>   1.000</td> \n",
       "</tr>\n",
       "<tr>\n",
       "  <th>Method:</th>             <td>Least Squares</td>  <th>  F-statistic:       </th>  <td>3.588e+29</td>\n",
       "</tr>\n",
       "<tr>\n",
       "  <th>Date:</th>             <td>Tue, 13 Nov 2018</td> <th>  Prob (F-statistic):</th>   <td>  0.00</td>  \n",
       "</tr>\n",
       "<tr>\n",
       "  <th>Time:</th>                 <td>21:25:12</td>     <th>  Log-Likelihood:    </th>  <td>  11919.</td> \n",
       "</tr>\n",
       "<tr>\n",
       "  <th>No. Observations:</th>      <td>   400</td>      <th>  AIC:               </th> <td>-2.382e+04</td>\n",
       "</tr>\n",
       "<tr>\n",
       "  <th>Df Residuals:</th>          <td>   390</td>      <th>  BIC:               </th> <td>-2.378e+04</td>\n",
       "</tr>\n",
       "<tr>\n",
       "  <th>Df Model:</th>              <td>     9</td>      <th>                     </th>      <td> </td>    \n",
       "</tr>\n",
       "<tr>\n",
       "  <th>Covariance Type:</th>      <td>nonrobust</td>    <th>                     </th>      <td> </td>    \n",
       "</tr>\n",
       "</table>\n",
       "<table class=\"simpletable\">\n",
       "<tr>\n",
       "    <td></td>       <th>coef</th>     <th>std err</th>      <th>t</th>      <th>P>|t|</th>  <th>[0.025</th>    <th>0.975]</th>  \n",
       "</tr>\n",
       "<tr>\n",
       "  <th>const</th> <td>-1.132e-14</td> <td> 8.86e-15</td> <td>   -1.279</td> <td> 0.202</td> <td>-2.87e-14</td> <td> 6.09e-15</td>\n",
       "</tr>\n",
       "<tr>\n",
       "  <th>x1</th>    <td> -2.22e-16</td> <td> 1.43e-14</td> <td>   -0.016</td> <td> 0.988</td> <td>-2.83e-14</td> <td> 2.79e-14</td>\n",
       "</tr>\n",
       "<tr>\n",
       "  <th>x2</th>    <td>    0.2500</td> <td> 4.55e-15</td> <td> 5.49e+13</td> <td> 0.000</td> <td>    0.250</td> <td>    0.250</td>\n",
       "</tr>\n",
       "<tr>\n",
       "  <th>x3</th>    <td>    0.0500</td> <td> 1.87e-15</td> <td> 2.68e+13</td> <td> 0.000</td> <td>    0.050</td> <td>    0.050</td>\n",
       "</tr>\n",
       "<tr>\n",
       "  <th>x4</th>    <td>-1.832e-15</td> <td> 1.04e-15</td> <td>   -1.765</td> <td> 0.078</td> <td>-3.87e-15</td> <td> 2.08e-16</td>\n",
       "</tr>\n",
       "<tr>\n",
       "  <th>x5</th>    <td>-1.119e-16</td> <td> 1.01e-16</td> <td>   -1.104</td> <td> 0.270</td> <td>-3.11e-16</td> <td> 8.74e-17</td>\n",
       "</tr>\n",
       "<tr>\n",
       "  <th>x6</th>    <td> 9.368e-17</td> <td> 6.72e-17</td> <td>    1.394</td> <td> 0.164</td> <td>-3.84e-17</td> <td> 2.26e-16</td>\n",
       "</tr>\n",
       "<tr>\n",
       "  <th>x7</th>    <td>    1.0000</td> <td> 2.31e-15</td> <td> 4.32e+14</td> <td> 0.000</td> <td>    1.000</td> <td>    1.000</td>\n",
       "</tr>\n",
       "<tr>\n",
       "  <th>x8</th>    <td>    1.0000</td> <td> 1.86e-14</td> <td> 5.37e+13</td> <td> 0.000</td> <td>    1.000</td> <td>    1.000</td>\n",
       "</tr>\n",
       "<tr>\n",
       "  <th>x9</th>    <td>-2.914e-16</td> <td> 1.53e-16</td> <td>   -1.910</td> <td> 0.057</td> <td>-5.91e-16</td> <td> 8.51e-18</td>\n",
       "</tr>\n",
       "</table>\n",
       "<table class=\"simpletable\">\n",
       "<tr>\n",
       "  <th>Omnibus:</th>       <td>54.371</td> <th>  Durbin-Watson:     </th> <td>   0.290</td>\n",
       "</tr>\n",
       "<tr>\n",
       "  <th>Prob(Omnibus):</th> <td> 0.000</td> <th>  Jarque-Bera (JB):  </th> <td>  14.302</td>\n",
       "</tr>\n",
       "<tr>\n",
       "  <th>Skew:</th>          <td>-0.019</td> <th>  Prob(JB):          </th> <td>0.000784</td>\n",
       "</tr>\n",
       "<tr>\n",
       "  <th>Kurtosis:</th>      <td> 2.074</td> <th>  Cond. No.          </th> <td>8.14e+03</td>\n",
       "</tr>\n",
       "</table><br/><br/>Warnings:<br/>[1] Standard Errors assume that the covariance matrix of the errors is correctly specified.<br/>[2] The condition number is large, 8.14e+03. This might indicate that there are<br/>strong multicollinearity or other numerical problems."
      ],
      "text/plain": [
       "<class 'statsmodels.iolib.summary.Summary'>\n",
       "\"\"\"\n",
       "                            OLS Regression Results                            \n",
       "==============================================================================\n",
       "Dep. Variable:                      y   R-squared:                       1.000\n",
       "Model:                            OLS   Adj. R-squared:                  1.000\n",
       "Method:                 Least Squares   F-statistic:                 3.588e+29\n",
       "Date:                Tue, 13 Nov 2018   Prob (F-statistic):               0.00\n",
       "Time:                        21:25:12   Log-Likelihood:                 11919.\n",
       "No. Observations:                 400   AIC:                        -2.382e+04\n",
       "Df Residuals:                     390   BIC:                        -2.378e+04\n",
       "Df Model:                           9                                         \n",
       "Covariance Type:            nonrobust                                         \n",
       "==============================================================================\n",
       "                 coef    std err          t      P>|t|      [0.025      0.975]\n",
       "------------------------------------------------------------------------------\n",
       "const      -1.132e-14   8.86e-15     -1.279      0.202   -2.87e-14    6.09e-15\n",
       "x1          -2.22e-16   1.43e-14     -0.016      0.988   -2.83e-14    2.79e-14\n",
       "x2             0.2500   4.55e-15   5.49e+13      0.000       0.250       0.250\n",
       "x3             0.0500   1.87e-15   2.68e+13      0.000       0.050       0.050\n",
       "x4         -1.832e-15   1.04e-15     -1.765      0.078   -3.87e-15    2.08e-16\n",
       "x5         -1.119e-16   1.01e-16     -1.104      0.270   -3.11e-16    8.74e-17\n",
       "x6          9.368e-17   6.72e-17      1.394      0.164   -3.84e-17    2.26e-16\n",
       "x7             1.0000   2.31e-15   4.32e+14      0.000       1.000       1.000\n",
       "x8             1.0000   1.86e-14   5.37e+13      0.000       1.000       1.000\n",
       "x9         -2.914e-16   1.53e-16     -1.910      0.057   -5.91e-16    8.51e-18\n",
       "==============================================================================\n",
       "Omnibus:                       54.371   Durbin-Watson:                   0.290\n",
       "Prob(Omnibus):                  0.000   Jarque-Bera (JB):               14.302\n",
       "Skew:                          -0.019   Prob(JB):                     0.000784\n",
       "Kurtosis:                       2.074   Cond. No.                     8.14e+03\n",
       "==============================================================================\n",
       "\n",
       "Warnings:\n",
       "[1] Standard Errors assume that the covariance matrix of the errors is correctly specified.\n",
       "[2] The condition number is large, 8.14e+03. This might indicate that there are\n",
       "strong multicollinearity or other numerical problems.\n",
       "\"\"\""
      ]
     },
     "execution_count": 180,
     "metadata": {},
     "output_type": "execute_result"
    }
   ],
   "source": [
    "sm.OLS(Z.flatten(), matrix2).fit().summary()"
   ]
  },
  {
   "cell_type": "code",
   "execution_count": 142,
   "metadata": {
    "uuid": "b9eb74bd-9280-4d8b-ae7d-8853911389cb"
   },
   "outputs": [],
   "source": [
    "model = sm.OLS(fm(x, y), matrix).fit()"
   ]
  },
  {
   "cell_type": "markdown",
   "metadata": {},
   "source": [
    "Here is some information about our model."
   ]
  },
  {
   "cell_type": "code",
   "execution_count": 96,
   "metadata": {},
   "outputs": [
    {
     "data": {
      "text/plain": [
       "(20, 10)"
      ]
     },
     "execution_count": 96,
     "metadata": {},
     "output_type": "execute_result"
    }
   ],
   "source": [
    "matrix.shape"
   ]
  },
  {
   "cell_type": "code",
   "execution_count": 97,
   "metadata": {},
   "outputs": [
    {
     "data": {
      "text/plain": [
       "(20, 20)"
      ]
     },
     "execution_count": 97,
     "metadata": {},
     "output_type": "execute_result"
    }
   ],
   "source": [
    "Z.shape"
   ]
  },
  {
   "cell_type": "code",
   "execution_count": 119,
   "metadata": {
    "scrolled": true
   },
   "outputs": [
    {
     "data": {
      "text/html": [
       "<table class=\"simpletable\">\n",
       "<caption>OLS Regression Results</caption>\n",
       "<tr>\n",
       "  <th>Dep. Variable:</th>            <td>y</td>        <th>  R-squared:         </th> <td>   1.000</td> \n",
       "</tr>\n",
       "<tr>\n",
       "  <th>Model:</th>                   <td>OLS</td>       <th>  Adj. R-squared:    </th> <td>   1.000</td> \n",
       "</tr>\n",
       "<tr>\n",
       "  <th>Method:</th>             <td>Least Squares</td>  <th>  F-statistic:       </th> <td>5.906e+26</td>\n",
       "</tr>\n",
       "<tr>\n",
       "  <th>Date:</th>             <td>Tue, 13 Nov 2018</td> <th>  Prob (F-statistic):</th> <td>9.59e-184</td>\n",
       "</tr>\n",
       "<tr>\n",
       "  <th>Time:</th>                 <td>20:09:16</td>     <th>  Log-Likelihood:    </th> <td>  555.01</td> \n",
       "</tr>\n",
       "<tr>\n",
       "  <th>No. Observations:</th>      <td>    20</td>      <th>  AIC:               </th> <td>  -1098.</td> \n",
       "</tr>\n",
       "<tr>\n",
       "  <th>Df Residuals:</th>          <td>    14</td>      <th>  BIC:               </th> <td>  -1092.</td> \n",
       "</tr>\n",
       "<tr>\n",
       "  <th>Df Model:</th>              <td>     5</td>      <th>                     </th>     <td> </td>    \n",
       "</tr>\n",
       "<tr>\n",
       "  <th>Covariance Type:</th>      <td>nonrobust</td>    <th>                     </th>     <td> </td>    \n",
       "</tr>\n",
       "</table>\n",
       "<table class=\"simpletable\">\n",
       "<tr>\n",
       "    <td></td>       <th>coef</th>     <th>std err</th>      <th>t</th>      <th>P>|t|</th>  <th>[0.025</th>    <th>0.975]</th>  \n",
       "</tr>\n",
       "<tr>\n",
       "  <th>const</th> <td>-3.184e-14</td> <td> 2.56e-13</td> <td>   -0.124</td> <td> 0.903</td> <td>-5.81e-13</td> <td> 5.17e-13</td>\n",
       "</tr>\n",
       "<tr>\n",
       "  <th>x1</th>    <td>    0.1250</td> <td> 4.19e-13</td> <td> 2.98e+11</td> <td> 0.000</td> <td>    0.125</td> <td>    0.125</td>\n",
       "</tr>\n",
       "<tr>\n",
       "  <th>x2</th>    <td>    0.1250</td> <td> 4.19e-13</td> <td> 2.98e+11</td> <td> 0.000</td> <td>    0.125</td> <td>    0.125</td>\n",
       "</tr>\n",
       "<tr>\n",
       "  <th>x3</th>    <td>    0.0167</td> <td> 3.62e-14</td> <td> 4.61e+11</td> <td> 0.000</td> <td>    0.017</td> <td>    0.017</td>\n",
       "</tr>\n",
       "<tr>\n",
       "  <th>x4</th>    <td>    0.0167</td> <td> 3.62e-14</td> <td> 4.61e+11</td> <td> 0.000</td> <td>    0.017</td> <td>    0.017</td>\n",
       "</tr>\n",
       "<tr>\n",
       "  <th>x5</th>    <td>-9.649e-15</td> <td> 2.84e-15</td> <td>   -3.393</td> <td> 0.004</td> <td>-1.57e-14</td> <td>-3.55e-15</td>\n",
       "</tr>\n",
       "<tr>\n",
       "  <th>x6</th>    <td> 9.536e-15</td> <td> 2.84e-15</td> <td>    3.353</td> <td> 0.005</td> <td> 3.44e-15</td> <td> 1.56e-14</td>\n",
       "</tr>\n",
       "<tr>\n",
       "  <th>x7</th>    <td>    1.0000</td> <td> 1.28e-13</td> <td> 7.79e+12</td> <td> 0.000</td> <td>    1.000</td> <td>    1.000</td>\n",
       "</tr>\n",
       "<tr>\n",
       "  <th>x8</th>    <td>    1.0000</td> <td> 1.03e-12</td> <td> 9.68e+11</td> <td> 0.000</td> <td>    1.000</td> <td>    1.000</td>\n",
       "</tr>\n",
       "<tr>\n",
       "  <th>x9</th>    <td>    0.0167</td> <td> 3.62e-14</td> <td> 4.61e+11</td> <td> 0.000</td> <td>    0.017</td> <td>    0.017</td>\n",
       "</tr>\n",
       "</table>\n",
       "<table class=\"simpletable\">\n",
       "<tr>\n",
       "  <th>Omnibus:</th>       <td> 2.798</td> <th>  Durbin-Watson:     </th> <td>   0.014</td>\n",
       "</tr>\n",
       "<tr>\n",
       "  <th>Prob(Omnibus):</th> <td> 0.247</td> <th>  Jarque-Bera (JB):  </th> <td>   2.307</td>\n",
       "</tr>\n",
       "<tr>\n",
       "  <th>Skew:</th>          <td> 0.761</td> <th>  Prob(JB):          </th> <td>   0.316</td>\n",
       "</tr>\n",
       "<tr>\n",
       "  <th>Kurtosis:</th>      <td> 2.328</td> <th>  Cond. No.          </th> <td>8.34e+33</td>\n",
       "</tr>\n",
       "</table><br/><br/>Warnings:<br/>[1] Standard Errors assume that the covariance matrix of the errors is correctly specified.<br/>[2] The smallest eigenvalue is 9.5e-62. This might indicate that there are<br/>strong multicollinearity problems or that the design matrix is singular."
      ],
      "text/plain": [
       "<class 'statsmodels.iolib.summary.Summary'>\n",
       "\"\"\"\n",
       "                            OLS Regression Results                            \n",
       "==============================================================================\n",
       "Dep. Variable:                      y   R-squared:                       1.000\n",
       "Model:                            OLS   Adj. R-squared:                  1.000\n",
       "Method:                 Least Squares   F-statistic:                 5.906e+26\n",
       "Date:                Tue, 13 Nov 2018   Prob (F-statistic):          9.59e-184\n",
       "Time:                        20:09:16   Log-Likelihood:                 555.01\n",
       "No. Observations:                  20   AIC:                            -1098.\n",
       "Df Residuals:                      14   BIC:                            -1092.\n",
       "Df Model:                           5                                         \n",
       "Covariance Type:            nonrobust                                         \n",
       "==============================================================================\n",
       "                 coef    std err          t      P>|t|      [0.025      0.975]\n",
       "------------------------------------------------------------------------------\n",
       "const      -3.184e-14   2.56e-13     -0.124      0.903   -5.81e-13    5.17e-13\n",
       "x1             0.1250   4.19e-13   2.98e+11      0.000       0.125       0.125\n",
       "x2             0.1250   4.19e-13   2.98e+11      0.000       0.125       0.125\n",
       "x3             0.0167   3.62e-14   4.61e+11      0.000       0.017       0.017\n",
       "x4             0.0167   3.62e-14   4.61e+11      0.000       0.017       0.017\n",
       "x5         -9.649e-15   2.84e-15     -3.393      0.004   -1.57e-14   -3.55e-15\n",
       "x6          9.536e-15   2.84e-15      3.353      0.005    3.44e-15    1.56e-14\n",
       "x7             1.0000   1.28e-13   7.79e+12      0.000       1.000       1.000\n",
       "x8             1.0000   1.03e-12   9.68e+11      0.000       1.000       1.000\n",
       "x9             0.0167   3.62e-14   4.61e+11      0.000       0.017       0.017\n",
       "==============================================================================\n",
       "Omnibus:                        2.798   Durbin-Watson:                   0.014\n",
       "Prob(Omnibus):                  0.247   Jarque-Bera (JB):                2.307\n",
       "Skew:                           0.761   Prob(JB):                        0.316\n",
       "Kurtosis:                       2.328   Cond. No.                     8.34e+33\n",
       "==============================================================================\n",
       "\n",
       "Warnings:\n",
       "[1] Standard Errors assume that the covariance matrix of the errors is correctly specified.\n",
       "[2] The smallest eigenvalue is 9.5e-62. This might indicate that there are\n",
       "strong multicollinearity problems or that the design matrix is singular.\n",
       "\"\"\""
      ]
     },
     "execution_count": 119,
     "metadata": {},
     "output_type": "execute_result"
    }
   ],
   "source": [
    "model.summary()"
   ]
  },
  {
   "cell_type": "markdown",
   "metadata": {},
   "source": [
    "The optimal regression parameters, which are stored in the `params` attribute of our model object:\n"
   ]
  },
  {
   "cell_type": "code",
   "execution_count": 47,
   "metadata": {},
   "outputs": [
    {
     "data": {
      "text/plain": [
       "array([-3.18356452e-14,  1.25000000e-01,  1.25000000e-01,  1.66666667e-02,\n",
       "        1.66666667e-02, -9.64853197e-15,  9.53577495e-15,  1.00000000e+00,\n",
       "        1.00000000e+00,  1.66666667e-02])"
      ]
     },
     "execution_count": 47,
     "metadata": {},
     "output_type": "execute_result"
    }
   ],
   "source": [
    "a = model.params\n",
    "a"
   ]
  },
  {
   "cell_type": "markdown",
   "metadata": {},
   "source": [
    "Here is the function we found - note the parameters are another input."
   ]
  },
  {
   "cell_type": "code",
   "execution_count": 184,
   "metadata": {
    "uuid": "1f5d1574-8238-45e4-987d-bdb7cc6b5e03"
   },
   "outputs": [],
   "source": [
    "def reg_func(a, x, y):\n",
    "    f9 = a[9] * x * y\n",
    "    f8 = a[8] * np.sqrt(y)\n",
    "    f7 = a[7] * np.sin(x)\n",
    "    f6 = a[6] * x ** 3\n",
    "    f5 = a[5] * y ** 3\n",
    "    f4 = a[4] * x ** 2\n",
    "    f3 = a[3] * y ** 2\n",
    "    f2 = a[2] * x\n",
    "    f1 = a[1] * y\n",
    "    f0 = a[0] * 1\n",
    "    return (f9 + f8 + f7 + f6 + f5 +\n",
    "             f4 + f3 + f2 + f1 + f0)"
   ]
  },
  {
   "cell_type": "code",
   "execution_count": 185,
   "metadata": {
    "uuid": "fd9f8eed-1b10-4ec8-8a15-bedae7f53a18"
   },
   "outputs": [],
   "source": [
    "RZ = reg_func(a, X, Y)"
   ]
  },
  {
   "cell_type": "markdown",
   "metadata": {},
   "source": [
    "Let's see how we did."
   ]
  },
  {
   "cell_type": "code",
   "execution_count": 183,
   "metadata": {},
   "outputs": [
    {
     "data": {
      "text/plain": [
       "(20, 20)"
      ]
     },
     "execution_count": 183,
     "metadata": {},
     "output_type": "execute_result"
    }
   ],
   "source": [
    "RZ.shape"
   ]
  },
  {
   "cell_type": "code",
   "execution_count": 50,
   "metadata": {},
   "outputs": [
    {
     "data": {
      "text/plain": [
       "<matplotlib.colorbar.Colorbar at 0x7fed54959748>"
      ]
     },
     "execution_count": 50,
     "metadata": {},
     "output_type": "execute_result"
    },
    {
     "data": {
      "image/png": "[encoded data removed]",
      "text/plain": [
       "<Figure size 648x432 with 2 Axes>"
      ]
     },
     "metadata": {
      "needs_background": "light"
     },
     "output_type": "display_data"
    }
   ],
   "source": [
    "fig = plt.figure(figsize=(9, 6))\n",
    "ax = fig.gca(projection='3d')\n",
    "surf1 = ax.plot_surface(X, Y, Z, rstride=2, cstride=2, cmap=mpl.cm.coolwarm,\n",
    "        linewidth=0.5, antialiased=True)\n",
    "surf2 = ax.plot_wireframe(X, Y, RZ, rstride=2, cstride=2, label='regression')\n",
    "ax.set_xlabel('x')\n",
    "ax.set_ylabel('y')\n",
    "ax.set_zlabel('f(x, y)')\n",
    "ax.legend()\n",
    "fig.colorbar(surf, shrink=0.5, aspect=5)\n",
    "#  title: Higher dimension regression\n",
    "# NOTE: textbook defines different regression function"
   ]
  },
  {
   "cell_type": "markdown",
   "metadata": {},
   "source": [
    "Not bad."
   ]
  },
  {
   "cell_type": "markdown",
   "metadata": {},
   "source": [
    "**Interpolation**"
   ]
  },
  {
   "cell_type": "markdown",
   "metadata": {},
   "source": [
    "Sometimes you want to hit exact values at certain points and then fill in the gaps smoothly. The basic idea is to do a regression between neighboring datapoints so that the functions agree at the points and are nice and smooth in between."
   ]
  },
  {
   "cell_type": "markdown",
   "metadata": {},
   "source": [
    "The `SciPy` module lets us do this."
   ]
  },
  {
   "cell_type": "code",
   "execution_count": 51,
   "metadata": {
    "uuid": "5e345542-f425-4630-9eae-0a446927ad73"
   },
   "outputs": [],
   "source": [
    "import scipy.interpolate as spi"
   ]
  },
  {
   "cell_type": "code",
   "execution_count": 52,
   "metadata": {
    "uuid": "20200433-3e90-4bb6-be5a-8e6a1360989e"
   },
   "outputs": [],
   "source": [
    "x = np.linspace(-2 * np.pi, 2 * np.pi, 25)"
   ]
  },
  {
   "cell_type": "code",
   "execution_count": 53,
   "metadata": {},
   "outputs": [
    {
     "data": {
      "text/plain": [
       "array([-6.28318531, -5.75958653, -5.23598776, -4.71238898, -4.1887902 ,\n",
       "       -3.66519143, -3.14159265, -2.61799388, -2.0943951 , -1.57079633,\n",
       "       -1.04719755, -0.52359878,  0.        ,  0.52359878,  1.04719755,\n",
       "        1.57079633,  2.0943951 ,  2.61799388,  3.14159265,  3.66519143,\n",
       "        4.1887902 ,  4.71238898,  5.23598776,  5.75958653,  6.28318531])"
      ]
     },
     "execution_count": 53,
     "metadata": {},
     "output_type": "execute_result"
    }
   ],
   "source": [
    "x"
   ]
  },
  {
   "cell_type": "markdown",
   "metadata": {},
   "source": [
    "Same function as before."
   ]
  },
  {
   "cell_type": "code",
   "execution_count": 54,
   "metadata": {
    "uuid": "6e3caa90-2a2a-4429-8536-ab25091a5640"
   },
   "outputs": [],
   "source": [
    "def f(x):\n",
    "    return np.sin(x) + 0.5 * x"
   ]
  },
  {
   "cell_type": "code",
   "execution_count": 55,
   "metadata": {},
   "outputs": [],
   "source": [
    "y=f(x)"
   ]
  },
  {
   "cell_type": "code",
   "execution_count": 56,
   "metadata": {},
   "outputs": [
    {
     "data": {
      "text/plain": [
       "array([-3.14159265, -2.37979327, -1.75196847, -1.35619449, -1.2283697 ,\n",
       "       -1.33259571, -1.57079633, -1.80899694, -1.91322295, -1.78539816,\n",
       "       -1.38962418, -0.76179939,  0.        ,  0.76179939,  1.38962418,\n",
       "        1.78539816,  1.91322295,  1.80899694,  1.57079633,  1.33259571,\n",
       "        1.2283697 ,  1.35619449,  1.75196847,  2.37979327,  3.14159265])"
      ]
     },
     "execution_count": 56,
     "metadata": {},
     "output_type": "execute_result"
    }
   ],
   "source": [
    "y"
   ]
  },
  {
   "cell_type": "code",
   "execution_count": 57,
   "metadata": {
    "uuid": "afdb9c45-1b12-4358-ba3e-a1bc3c4d32db"
   },
   "outputs": [],
   "source": [
    "# scipy.interpolate defines function splrep \n",
    "#    x       (Ordered) x coordinates (independent variable values)\n",
    "#    y       ( x-ordered) y coordinates (dependent variable values)\n",
    "#    k       Order of the spline fit ( 1 <= k <= 5)\n",
    "\n",
    "ipo = spi.splrep(x, y, k=1)   # linear spline"
   ]
  },
  {
   "cell_type": "markdown",
   "metadata": {},
   "source": [
    "This defines an interpolation fitted to our data. We can then evaluate it on the points in question."
   ]
  },
  {
   "cell_type": "code",
   "execution_count": 58,
   "metadata": {
    "uuid": "7217594a-3398-4dfd-9d16-f90ee0f24bd9"
   },
   "outputs": [],
   "source": [
    "# scipy.interpolate defines function splev\n",
    "#   x        (Ordered) x coordinates (independent variable values)\n",
    "#   tck      Sequence of length 3 returned by splrep (knots, coefficients, degree)\n",
    "\n",
    "iy = spi.splev(x, ipo)"
   ]
  },
  {
   "cell_type": "code",
   "execution_count": 59,
   "metadata": {},
   "outputs": [
    {
     "data": {
      "text/plain": [
       "array([-3.14159265, -2.37979327, -1.75196847, -1.35619449, -1.2283697 ,\n",
       "       -1.33259571, -1.57079633, -1.80899694, -1.91322295, -1.78539816,\n",
       "       -1.38962418, -0.76179939,  0.        ,  0.76179939,  1.38962418,\n",
       "        1.78539816,  1.91322295,  1.80899694,  1.57079633,  1.33259571,\n",
       "        1.2283697 ,  1.35619449,  1.75196847,  2.37979327,  3.14159265])"
      ]
     },
     "execution_count": 59,
     "metadata": {},
     "output_type": "execute_result"
    }
   ],
   "source": [
    "iy"
   ]
  },
  {
   "cell_type": "code",
   "execution_count": 60,
   "metadata": {},
   "outputs": [
    {
     "data": {
      "text/plain": [
       "Text(0, 0.5, 'f(x)')"
      ]
     },
     "execution_count": 60,
     "metadata": {},
     "output_type": "execute_result"
    },
    {
     "data": {
      "image/png": "[encoded data removed]",
      "text/plain": [
       "<Figure size 432x288 with 1 Axes>"
      ]
     },
     "metadata": {
      "needs_background": "light"
     },
     "output_type": "display_data"
    }
   ],
   "source": [
    "plt.plot(x, f(x), 'b', label='f(x)')\n",
    "plt.plot(x, iy, 'r.', label='interpolation')\n",
    "plt.legend(loc=0)\n",
    "plt.grid(True)\n",
    "plt.xlabel('x')\n",
    "plt.ylabel('f(x)')\n",
    "# title: Example plot with linear interpolation"
   ]
  },
  {
   "cell_type": "code",
   "execution_count": 61,
   "metadata": {},
   "outputs": [
    {
     "data": {
      "text/plain": [
       "True"
      ]
     },
     "execution_count": 61,
     "metadata": {},
     "output_type": "execute_result"
    }
   ],
   "source": [
    "np.allclose(f(x), iy)"
   ]
  },
  {
   "cell_type": "markdown",
   "metadata": {},
   "source": [
    "No surprises there."
   ]
  },
  {
   "cell_type": "markdown",
   "metadata": {},
   "source": [
    "Next, let's pick a smaller interval and look at the interpolated values in between."
   ]
  },
  {
   "cell_type": "code",
   "execution_count": 62,
   "metadata": {
    "uuid": "3daf1f42-54d8-4150-aab6-5188d1c23bdb"
   },
   "outputs": [],
   "source": [
    "xd = np.linspace(1.0, 3.0, 50)\n",
    "iyd = spi.splev(xd, ipo)"
   ]
  },
  {
   "cell_type": "code",
   "execution_count": 63,
   "metadata": {},
   "outputs": [
    {
     "data": {
      "text/plain": [
       "Text(0, 0.5, 'f(x)')"
      ]
     },
     "execution_count": 63,
     "metadata": {},
     "output_type": "execute_result"
    },
    {
     "data": {
      "image/png": "[encoded data removed]",
      "text/plain": [
       "<Figure size 432x288 with 1 Axes>"
      ]
     },
     "metadata": {
      "needs_background": "light"
     },
     "output_type": "display_data"
    }
   ],
   "source": [
    "plt.plot(xd, f(xd), 'b', label='f(x)')\n",
    "plt.plot(xd, iyd, 'r.', label='interpolation')\n",
    "plt.legend(loc=0)\n",
    "plt.grid(True)\n",
    "plt.xlabel('x')\n",
    "plt.ylabel('f(x)')\n",
    "# title: Example plot (detail) with linear interpolation"
   ]
  },
  {
   "cell_type": "markdown",
   "metadata": {},
   "source": [
    "What we see here is the *linear* nature of the interpolation in between the points to which we fitted the model."
   ]
  },
  {
   "cell_type": "markdown",
   "metadata": {},
   "source": [
    "Here is an example where the the model is *cubic* in between the fitted points."
   ]
  },
  {
   "cell_type": "code",
   "execution_count": 64,
   "metadata": {
    "uuid": "c3d9f85f-671f-4353-beab-fad9db9f8aa4"
   },
   "outputs": [],
   "source": [
    "ipo = spi.splrep(x, f(x), k=3)\n",
    "iyd = spi.splev(xd, ipo)"
   ]
  },
  {
   "cell_type": "code",
   "execution_count": 65,
   "metadata": {},
   "outputs": [
    {
     "data": {
      "text/plain": [
       "Text(0, 0.5, 'f(x)')"
      ]
     },
     "execution_count": 65,
     "metadata": {},
     "output_type": "execute_result"
    },
    {
     "data": {
      "image/png": "[encoded data removed]",
      "text/plain": [
       "<Figure size 432x288 with 1 Axes>"
      ]
     },
     "metadata": {
      "needs_background": "light"
     },
     "output_type": "display_data"
    }
   ],
   "source": [
    "plt.plot(xd, f(xd), 'b', label='f(x)')\n",
    "plt.plot(xd, iyd, 'r.', label='interpolation')\n",
    "plt.legend(loc=0)\n",
    "plt.grid(True)\n",
    "plt.xlabel('x')\n",
    "plt.ylabel('f(x)')\n",
    "# title: Example plot (detail) with cubic splines interpolation"
   ]
  },
  {
   "cell_type": "markdown",
   "metadata": {},
   "source": [
    "Numerically, the interpolation is not perfect, but the mean squared error is really small."
   ]
  },
  {
   "cell_type": "code",
   "execution_count": 66,
   "metadata": {},
   "outputs": [
    {
     "data": {
      "text/plain": [
       "(False, 1.1349319851436252e-08)"
      ]
     },
     "execution_count": 66,
     "metadata": {},
     "output_type": "execute_result"
    }
   ],
   "source": [
    "np.allclose(f(xd), iyd), np.sum((f(xd) - iyd) ** 2) / len(xd)"
   ]
  },
  {
   "cell_type": "markdown",
   "metadata": {},
   "source": [
    "**Convex Optimization**\n",
    "\n",
    "(Used, for example,  for calibration of option pricing models to market data)"
   ]
  },
  {
   "cell_type": "code",
   "execution_count": 67,
   "metadata": {
    "uuid": "a09a918e-760c-4e9c-95b8-fe3b568dacdb"
   },
   "outputs": [],
   "source": [
    "import numpy as np\n",
    "import matplotlib.pyplot as plt\n",
    "from mpl_toolkits.mplot3d import Axes3D\n",
    "import matplotlib as mpl\n",
    "%matplotlib inline\n",
    "\n",
    "\n",
    "# we want to minimize the following function:\n",
    "\n",
    "def fm(w):    # w is a tuple\n",
    "    x = w[0]\n",
    "    y = w[1]\n",
    "    return (np.sin(x) + 0.05 * x ** 2\n",
    "          + np.sin(y) + 0.05 * y ** 2)"
   ]
  },
  {
   "cell_type": "code",
   "execution_count": 68,
   "metadata": {
    "uuid": "1f4a147b-d9d2-42d5-8553-dd95d75d8251"
   },
   "outputs": [],
   "source": [
    "x = np.linspace(-10, 10, 50)\n",
    "y = np.linspace(-10, 10, 50)\n",
    "X, Y = np.meshgrid(x, y)\n",
    "Z = fm((X, Y))"
   ]
  },
  {
   "cell_type": "code",
   "execution_count": 69,
   "metadata": {
    "uuid": "b3a1d3b7-25eb-4ac8-81ed-ad740fd1a297"
   },
   "outputs": [
    {
     "data": {
      "text/plain": [
       "<matplotlib.colorbar.Colorbar at 0x7fed543b89b0>"
      ]
     },
     "execution_count": 69,
     "metadata": {},
     "output_type": "execute_result"
    },
    {
     "data": {
      "image/png": "[encoded data removed]",
      "text/plain": [
       "<Figure size 648x432 with 2 Axes>"
      ]
     },
     "metadata": {
      "needs_background": "light"
     },
     "output_type": "display_data"
    }
   ],
   "source": [
    "fig = plt.figure(figsize=(9, 6))\n",
    "ax = fig.gca(projection='3d')\n",
    "surf = ax.plot_surface(X, Y, Z, rstride=2, cstride=2, cmap=mpl.cm.coolwarm,\n",
    "        linewidth=0.5, antialiased=True)\n",
    "ax.set_xlabel('x')\n",
    "ax.set_ylabel('y')\n",
    "ax.set_zlabel('f(x, y)')\n",
    "fig.colorbar(surf, shrink=0.5, aspect=5)\n",
    "# title: Function to minimize with two parameters"
   ]
  },
  {
   "cell_type": "markdown",
   "metadata": {},
   "source": [
    "Now, we want to implement both a global minimization approach and a local one. The functions `brute` and `fmin` that we want to use can be found in the sublibrary `scipy.optimize`:"
   ]
  },
  {
   "cell_type": "code",
   "execution_count": 70,
   "metadata": {
    "uuid": "72b2e44d-2127-412e-9046-2b0c7c5bf7c6"
   },
   "outputs": [],
   "source": [
    "import scipy.optimize as spo"
   ]
  },
  {
   "cell_type": "markdown",
   "metadata": {},
   "source": [
    "**Global Optimization**\n",
    "\n",
    "We amend the original function by an option to output current parameter values as well as the function value:\n"
   ]
  },
  {
   "cell_type": "code",
   "execution_count": 71,
   "metadata": {
    "uuid": "e6c829bb-f358-430d-9e8c-781e9d15c9e6"
   },
   "outputs": [],
   "source": [
    "def fo(w):\n",
    "    x = w[0]\n",
    "    y = w[1]\n",
    "    z = np.sin(x) + 0.05 * x ** 2 + np.sin(y) + 0.05 * y ** 2\n",
    "    if output == True:   # output is a global variable\n",
    "        print ('%8.4f %8.4f %8.4f' % (x, y, z))\n",
    "    return z"
   ]
  },
  {
   "cell_type": "markdown",
   "metadata": {},
   "source": [
    "`brute` takes the parameter ranges as input. For example, providing parameter range $(-10, 10.1, 5)$ for the `x` value will lead to “tested” values of $-10, -5, 0, 5, 10$:\n"
   ]
  },
  {
   "cell_type": "code",
   "execution_count": 72,
   "metadata": {
    "scrolled": true
   },
   "outputs": [
    {
     "name": "stdout",
     "output_type": "stream",
     "text": [
      "-10.0000 -10.0000  11.0880\n",
      "-10.0000 -10.0000  11.0880\n",
      "-10.0000  -5.0000   7.7529\n",
      "-10.0000   0.0000   5.5440\n",
      "-10.0000   5.0000   5.8351\n",
      "-10.0000  10.0000  10.0000\n",
      " -5.0000 -10.0000   7.7529\n",
      " -5.0000  -5.0000   4.4178\n",
      " -5.0000   0.0000   2.2089\n",
      " -5.0000   5.0000   2.5000\n",
      " -5.0000  10.0000   6.6649\n",
      "  0.0000 -10.0000   5.5440\n",
      "  0.0000  -5.0000   2.2089\n",
      "  0.0000   0.0000   0.0000\n",
      "  0.0000   5.0000   0.2911\n",
      "  0.0000  10.0000   4.4560\n",
      "  5.0000 -10.0000   5.8351\n",
      "  5.0000  -5.0000   2.5000\n",
      "  5.0000   0.0000   0.2911\n",
      "  5.0000   5.0000   0.5822\n",
      "  5.0000  10.0000   4.7471\n",
      " 10.0000 -10.0000  10.0000\n",
      " 10.0000  -5.0000   6.6649\n",
      " 10.0000   0.0000   4.4560\n",
      " 10.0000   5.0000   4.7471\n",
      " 10.0000  10.0000   8.9120\n"
     ]
    },
    {
     "data": {
      "text/plain": [
       "array([0., 0.])"
      ]
     },
     "execution_count": 72,
     "metadata": {},
     "output_type": "execute_result"
    }
   ],
   "source": [
    "output = True\n",
    "spo.brute(fo, ((-10, 10.1, 5), (-10, 10.1, 5)), finish=None)"
   ]
  },
  {
   "cell_type": "markdown",
   "metadata": {},
   "source": [
    "*Result* The first parameterization here is quite rough, in that we used steps of width $5$ for  both input parameters. \n",
    "\n",
    "The optimal parameter values are $x = y = 0$. The resulting function value is also $0$."
   ]
  },
  {
   "cell_type": "markdown",
   "metadata": {},
   "source": [
    "Let's be a little smarter and more patient."
   ]
  },
  {
   "cell_type": "code",
   "execution_count": 73,
   "metadata": {
    "uuid": "dc42167b-4e8f-462c-8aad-a94afdf0a8bc"
   },
   "outputs": [
    {
     "data": {
      "text/plain": [
       "array([-1.4, -1.4])"
      ]
     },
     "execution_count": 73,
     "metadata": {},
     "output_type": "execute_result"
    }
   ],
   "source": [
    "output = False\n",
    "opt1 = spo.brute(fo, ((-10, 10.1, 0.1), (-10, 10.1, 0.1)), finish=None)\n",
    "opt1        # The optimal parameter values"
   ]
  },
  {
   "cell_type": "markdown",
   "metadata": {},
   "source": [
    "*Result* The second  parameterization is better.\n",
    "\n",
    "We used steps of width $0.1$ for  both input parameters.\n",
    "\n",
    "The optimal parameter values are $x = y = -1.4$"
   ]
  },
  {
   "cell_type": "markdown",
   "metadata": {},
   "source": [
    "The minimum function value:"
   ]
  },
  {
   "cell_type": "code",
   "execution_count": 74,
   "metadata": {},
   "outputs": [
    {
     "data": {
      "text/plain": [
       "-1.7748994599769203"
      ]
     },
     "execution_count": 74,
     "metadata": {},
     "output_type": "execute_result"
    }
   ],
   "source": [
    "fm(opt1)"
   ]
  },
  {
   "cell_type": "markdown",
   "metadata": {},
   "source": [
    "**Local Optimization**"
   ]
  },
  {
   "cell_type": "markdown",
   "metadata": {},
   "source": [
    "The function `fmin` takes as input the function to minimize (`fo`) and the starting parameter values (`opt1`). `xtol`, `ftol` are levels for the input parameter tolerance and the function value tolerance.\n",
    "\n",
    "`maxiter` is the maximum number of iterations  "
   ]
  },
  {
   "cell_type": "code",
   "execution_count": 75,
   "metadata": {},
   "outputs": [
    {
     "name": "stdout",
     "output_type": "stream",
     "text": [
      " -1.4000  -1.4000  -1.7749\n",
      " -1.4700  -1.4000  -1.7743\n",
      " -1.4000  -1.4700  -1.7743\n",
      " -1.3300  -1.4700  -1.7696\n",
      " -1.4350  -1.4175  -1.7756\n",
      " -1.4350  -1.3475  -1.7722\n",
      " -1.4088  -1.4394  -1.7755\n",
      " -1.4438  -1.4569  -1.7751\n",
      " -1.4328  -1.4427  -1.7756\n",
      " -1.4591  -1.4208  -1.7752\n",
      " -1.4213  -1.4347  -1.7757\n",
      " -1.4235  -1.4096  -1.7755\n",
      " -1.4305  -1.4344  -1.7757\n",
      " -1.4168  -1.4516  -1.7753\n",
      " -1.4305  -1.4260  -1.7757\n",
      " -1.4396  -1.4257  -1.7756\n",
      " -1.4259  -1.4325  -1.7757\n",
      " -1.4259  -1.4241  -1.7757\n",
      " -1.4304  -1.4177  -1.7757\n",
      " -1.4270  -1.4288  -1.7757\n",
      "Warning: Maximum number of function evaluations has been exceeded.\n"
     ]
    },
    {
     "data": {
      "text/plain": [
       "array([-1.42702972, -1.42876755])"
      ]
     },
     "execution_count": 75,
     "metadata": {},
     "output_type": "execute_result"
    }
   ],
   "source": [
    "output = True\n",
    "opt2 = spo.fmin(fo, opt1, xtol=0.001, ftol=0.001, maxiter=15, maxfun=20)\n",
    "opt2"
   ]
  },
  {
   "cell_type": "markdown",
   "metadata": {},
   "source": [
    "The value we found:"
   ]
  },
  {
   "cell_type": "code",
   "execution_count": 76,
   "metadata": {},
   "outputs": [
    {
     "data": {
      "text/plain": [
       "-1.7757246992239009"
      ]
     },
     "execution_count": 76,
     "metadata": {},
     "output_type": "execute_result"
    }
   ],
   "source": [
    "fm(opt2)"
   ]
  },
  {
   "cell_type": "markdown",
   "metadata": {},
   "source": [
    "For many convex optimization problems it is advisable to have a global minimization before the local one. The major reason for this is that local convex optimization  algorithms can easily be trapped in a local minimum, ignoring completely “better”  local minima and/or a global minimum \n"
   ]
  },
  {
   "cell_type": "code",
   "execution_count": 77,
   "metadata": {},
   "outputs": [
    {
     "name": "stdout",
     "output_type": "stream",
     "text": [
      "Optimization terminated successfully.\n",
      "         Current function value: 0.015826\n",
      "         Iterations: 46\n",
      "         Function evaluations: 86\n"
     ]
    },
    {
     "data": {
      "text/plain": [
       "array([4.2710728 , 4.27106945])"
      ]
     },
     "execution_count": 77,
     "metadata": {},
     "output_type": "execute_result"
    }
   ],
   "source": [
    "output = False\n",
    "spo.fmin(fo, (2.0, 2.0), maxiter=250)"
   ]
  },
  {
   "cell_type": "markdown",
   "metadata": {},
   "source": [
    "**Constrained Optimization**\n",
    "\n",
    "(*expected utility maximization*)"
   ]
  },
  {
   "cell_type": "markdown",
   "metadata": {},
   "source": [
    "$\\Large\\displaystyle\\max_{a,b} E(u(w_1)) = p\\sqrt{w_{1u}} + (1 - p)\\sqrt{w_{1d}}$\n",
    "\n",
    "$\\Large w_1 = ar_a + br_b$\n",
    "\n",
    "$\\Large w_0 \\geq aq_a + bq_b$\n",
    "\n",
    "$\\Large a,b \\geq 0$"
   ]
  },
  {
   "cell_type": "markdown",
   "metadata": {},
   "source": [
    "As a simple example, consider the utility maximization problem of an investor \n",
    "who can invest in two risky securities. Both securities cost $q_a = q_b = 10$ today. \n",
    "After one year, they have a payoff of \n",
    "$r_a = 15 USD$ and $r_b = 5 USD$, respectively, in state $u$, and of \n",
    "$r_a = 5 USD$  and $r_b = 12 USD$, respectively, in state $d$. \n",
    "Both states are equally likely $p = 0.5$\n",
    "The investor has a budget of $w_0 = 100 USD$ to invest."
   ]
  },
  {
   "cell_type": "markdown",
   "metadata": {},
   "source": [
    "$\\Large\\displaystyle\\min_{a,b} -E(u(w_1)) = -(0.5\\sqrt{w_{1u}} + 0.5\\sqrt{w_{1d}})$\n",
    "\n",
    "$\\Large w_{1u} = a \\cdot 15 + b \\cdot 5$\n",
    "\n",
    "$\\Large w_{1d} = a \\cdot 5 + b \\cdot 12$\n",
    "\n",
    "$\\Large 100 \\geq a \\cdot 10 + b \\cdot 10$\n",
    "\n",
    "$\\Large a,b \\geq 0$"
   ]
  },
  {
   "cell_type": "code",
   "execution_count": 78,
   "metadata": {},
   "outputs": [],
   "source": [
    "# function to be minimized\n",
    "from math import sqrt\n",
    "def Eu(w):\n",
    "    s = w[0]\n",
    "    b = w[1]\n",
    "    return -(0.5 * sqrt(s * 15 + b * 5) + 0.5 * sqrt(s * 5 + b * 12))\n",
    "\n",
    "# constraints\n",
    "def cons_f (w):\n",
    "    s = w[0]\n",
    "    b = w[1]\n",
    "    return 100 - s * 10 - b * 10\n",
    "\n",
    "cons = ({'type': 'ineq', 'fun': cons_f})\n",
    "\n",
    "# budget constraint\n",
    "bnds = ((0, 1000), (0, 1000))  # uppper bounds large enough - why tho?"
   ]
  },
  {
   "cell_type": "markdown",
   "metadata": {},
   "source": [
    "To solve this problem, we use the `scipy.optimize.minimize` function. \n",
    "This function takes as input \n",
    "*  `Eu`,  the function to be minimized \n",
    "*  equations and inequalities (as a list of `dict` objects) \n",
    "*  boundaries for the parameters (as a tuple of tuple objects)\n",
    "\n",
    "The function returns a dict object\n"
   ]
  },
  {
   "cell_type": "code",
   "execution_count": 79,
   "metadata": {
    "uuid": "8f989832-637a-4188-b096-26ceeabd77ea"
   },
   "outputs": [],
   "source": [
    "result = spo.minimize(Eu, [5, 5], method='SLSQP',\n",
    "                       bounds=bnds, constraints=cons)"
   ]
  },
  {
   "cell_type": "code",
   "execution_count": 80,
   "metadata": {},
   "outputs": [
    {
     "data": {
      "text/plain": [
       "     fun: -9.700883611487832\n",
       "     jac: array([-0.48508096, -0.48489535])\n",
       " message: 'Optimization terminated successfully.'\n",
       "    nfev: 21\n",
       "     nit: 5\n",
       "    njev: 5\n",
       "  status: 0\n",
       " success: True\n",
       "       x: array([8.02547122, 1.97452878])"
      ]
     },
     "execution_count": 80,
     "metadata": {},
     "output_type": "execute_result"
    }
   ],
   "source": [
    "result"
   ]
  },
  {
   "cell_type": "code",
   "execution_count": 81,
   "metadata": {},
   "outputs": [
    {
     "data": {
      "text/plain": [
       "array([8.02547122, 1.97452878])"
      ]
     },
     "execution_count": 81,
     "metadata": {},
     "output_type": "execute_result"
    }
   ],
   "source": [
    "result['x']"
   ]
  },
  {
   "cell_type": "code",
   "execution_count": 82,
   "metadata": {},
   "outputs": [
    {
     "data": {
      "text/plain": [
       "9.700883611487832"
      ]
     },
     "execution_count": 82,
     "metadata": {},
     "output_type": "execute_result"
    }
   ],
   "source": [
    "-result['fun']"
   ]
  },
  {
   "cell_type": "markdown",
   "metadata": {},
   "source": [
    "The budget constraint is  binding; i.e., the investor invests his/her total wealth of $100$ USD into the securities. This is easily verified through taking the dot product of the optimal parameter vector and the price vector:\n"
   ]
  },
  {
   "cell_type": "code",
   "execution_count": 83,
   "metadata": {},
   "outputs": [
    {
     "data": {
      "text/plain": [
       "99.99999999999999"
      ]
     },
     "execution_count": 83,
     "metadata": {},
     "output_type": "execute_result"
    }
   ],
   "source": [
    "np.dot(result['x'], [10, 10])"
   ]
  },
  {
   "cell_type": "code",
   "execution_count": null,
   "metadata": {},
   "outputs": [],
   "source": []
  }
 ],
 "metadata": {
  "anaconda-cloud": {},
  "kernelspec": {
   "display_name": "Python 3",
   "language": "python",
   "name": "python3"
  },
  "language_info": {
   "codemirror_mode": {
    "name": "ipython",
    "version": 3
   },
   "file_extension": ".py",
   "mimetype": "text/x-python",
   "name": "python",
   "nbconvert_exporter": "python",
   "pygments_lexer": "ipython3",
   "version": "3.6.6"
  }
 },
 "nbformat": 4,
 "nbformat_minor": 1
}
