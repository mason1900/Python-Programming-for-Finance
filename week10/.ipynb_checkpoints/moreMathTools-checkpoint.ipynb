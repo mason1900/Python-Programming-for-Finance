{
 "cells": [
  {
   "cell_type": "markdown",
   "metadata": {},
   "source": [
    "# CPS600 - Python Programming for Finance \n",
    "###  \n",
    "<img src=\"https://www.syracuse.edu/wp-content/themes/g6-carbon/img/syracuse-university-seal.svg?ver=6.3.9\" style=\"width: 200px;\"/>\n",
    "\n",
    "## More Math Tools\n",
    "\n",
    "###  October 30, 2018"
   ]
  },
  {
   "cell_type": "markdown",
   "metadata": {},
   "source": [
    "**Mathematical Tools**\n",
    "\n",
    "Today we will look at some advance mathematical tools that have been graciously implemented for us by gods of Python. These include:\n",
    "\n",
    "* Approximation: Regression and interpolation\n",
    "* Convex optimization\n",
    "* Integration\n",
    "* Symbolic mathematics\n"
   ]
  },
  {
   "cell_type": "markdown",
   "metadata": {},
   "source": [
    "For those who are keeping track, we are following Chapter $9$ of *Python for Finance*."
   ]
  },
  {
   "cell_type": "markdown",
   "metadata": {},
   "source": [
    "**Approximation**"
   ]
  },
  {
   "cell_type": "markdown",
   "metadata": {},
   "source": [
    "There are a couple of different ways we'll look at *approximating* a function. First, let's start with the thing we'll try to approximate."
   ]
  },
  {
   "cell_type": "code",
   "execution_count": 1,
   "metadata": {
    "uuid": "460b709e-eed1-48e4-b3ad-d07377ea5de6"
   },
   "outputs": [],
   "source": [
    "import numpy as np\n",
    "import matplotlib.pyplot as plt\n",
    "%matplotlib inline"
   ]
  },
  {
   "cell_type": "markdown",
   "metadata": {},
   "source": [
    "Defining a special kind of function we'll play with later."
   ]
  },
  {
   "cell_type": "code",
   "execution_count": 2,
   "metadata": {
    "uuid": "2326c3ad-f244-4f48-8b68-851bd2347d57"
   },
   "outputs": [],
   "source": [
    "def f(x):\n",
    "    return np.sin(x) + 0.5 * x"
   ]
  },
  {
   "cell_type": "markdown",
   "metadata": {},
   "source": [
    "A fixed interval is defined via the linspace function. `np.linspace(start, stop, num)` returns `num` points beginning with `start` and ending with `stop`, with the subintervals between two consecutive points being evenly spaced."
   ]
  },
  {
   "cell_type": "code",
   "execution_count": null,
   "metadata": {},
   "outputs": [],
   "source": [
    "x = np.linspace(-2 * np.pi, 2 * np.pi, 50)\n",
    "print('Number of points=', len(x))\n",
    "x"
   ]
  },
  {
   "cell_type": "markdown",
   "metadata": {},
   "source": [
    "Now, let's take a look at that special function we just defined."
   ]
  },
  {
   "cell_type": "code",
   "execution_count": null,
   "metadata": {},
   "outputs": [],
   "source": [
    "plt.plot(x, f(x), 'b')\n",
    "plt.grid(True)\n",
    "plt.xlabel('x')\n",
    "plt.ylabel('f(x)')\n",
    "plt.title(\"Example function plot\")"
   ]
  },
  {
   "cell_type": "markdown",
   "metadata": {},
   "source": [
    "**Regression**"
   ]
  },
  {
   "cell_type": "markdown",
   "metadata": {},
   "source": [
    "In regression, which we saw last week for the first (or second) time, we are finding the best $\\color{blue}{parameters}$ to fit the data"
   ]
  },
  {
   "cell_type": "markdown",
   "metadata": {},
   "source": [
    "$\\Large{\\displaystyle\\min_{\\alpha_1,...,\\alpha_D} \\frac{1}{I} \\displaystyle\\sum_{i = 1}^{I} (y_i - \\displaystyle\\sum_{d = 1}^{D} \\color{blue}{\\alpha}_{d} \\cdot b_d (x_i ))^2}$\n",
    "\n",
    "*Minimization problem of regression*"
   ]
  },
  {
   "cell_type": "markdown",
   "metadata": {},
   "source": [
    "It is fundamentally an optimization problem. The *indexing set* $I$ above is running over all of the *observations* or *datapoints*, whereas the index $d$ refers to the *features* or *basis functions* of the *input/predictive/independent* variable."
   ]
  },
  {
   "cell_type": "markdown",
   "metadata": {},
   "source": [
    "**Monomials as Basis Functions**\n",
    "\n",
    "One of the simplest cases is to take monomials as basis functions, e.g.\n",
    "\n",
    "$$b_1 = 1$$\n",
    "$$b_2 = x$$\n",
    "$$b_3 = x^2$$\n",
    "$$b_4 = x^3$$\n",
    "\n",
    "...and so on"
   ]
  },
  {
   "cell_type": "markdown",
   "metadata": {},
   "source": [
    "NumPy has built-in functions `polyfit` for the determination of the optimal parameters $\\alpha$.\n",
    "* `x`       x coordinates (independent variable values)\n",
    "* `y`       y coordinates (dependent variable values)\n",
    "* `deg`     degree of the fitting polynomial\n",
    "* `polyval` for the evaluation of the approximation given a set of input values\n"
   ]
  },
  {
   "cell_type": "markdown",
   "metadata": {},
   "source": [
    "Let's fit our special function with a straight line."
   ]
  },
  {
   "cell_type": "code",
   "execution_count": 4,
   "metadata": {
    "uuid": "ace90420-7219-4227-8210-bf107f556726"
   },
   "outputs": [],
   "source": [
    "reg = np.polyfit(x, f(x), deg=1)    # linear regression\n",
    "ry = np.polyval(reg, x)             # regression estimates "
   ]
  },
  {
   "cell_type": "code",
   "execution_count": null,
   "metadata": {},
   "outputs": [],
   "source": [
    "print('Alpha:', reg)\n",
    "print(ry)"
   ]
  },
  {
   "cell_type": "markdown",
   "metadata": {},
   "source": [
    "And look at the results."
   ]
  },
  {
   "cell_type": "code",
   "execution_count": null,
   "metadata": {},
   "outputs": [],
   "source": [
    "plt.plot(x, f(x), 'b', label='f(x)')\n",
    "plt.plot(x, ry, 'r.', label='regression')\n",
    "plt.legend(loc=0)\n",
    "plt.grid(True)\n",
    "plt.xlabel('x')\n",
    "plt.ylabel('f(x)')\n",
    "plt.title(\"Example function and linear regression\")"
   ]
  },
  {
   "cell_type": "markdown",
   "metadata": {},
   "source": [
    "Doing the same, but this time with monomials up to degree $5$."
   ]
  },
  {
   "cell_type": "code",
   "execution_count": 7,
   "metadata": {
    "uuid": "096bb07a-55f7-45de-8734-2a76d8749d53"
   },
   "outputs": [],
   "source": [
    "reg = np.polyfit(x, f(x), deg=5)\n",
    "ry = np.polyval(reg, x)"
   ]
  },
  {
   "cell_type": "code",
   "execution_count": null,
   "metadata": {},
   "outputs": [],
   "source": [
    "print('Alpha:',reg)"
   ]
  },
  {
   "cell_type": "code",
   "execution_count": null,
   "metadata": {},
   "outputs": [],
   "source": [
    "plt.plot(x, f(x), 'b', label='f(x)')\n",
    "plt.plot(x, ry, 'r.', label='regression')\n",
    "plt.legend(loc=0)\n",
    "plt.grid(True)\n",
    "plt.xlabel('x')\n",
    "plt.ylabel('f(x)')\n",
    "plt.title(\"Regression with monomials up to order 5\")"
   ]
  },
  {
   "cell_type": "markdown",
   "metadata": {},
   "source": [
    "Again, this time with degree $7$."
   ]
  },
  {
   "cell_type": "code",
   "execution_count": 13,
   "metadata": {
    "uuid": "67b14a21-e8f2-4dd4-a43b-0d232f2b4055"
   },
   "outputs": [],
   "source": [
    "# take monomials up to order 7 to approximate the example function\n",
    "\n",
    "reg = np.polyfit(x, f(x), deg=7)\n",
    "ry = np.polyval(reg, x)"
   ]
  },
  {
   "cell_type": "code",
   "execution_count": null,
   "metadata": {},
   "outputs": [],
   "source": [
    "plt.plot(x, f(x), 'b', label='f(x)')\n",
    "plt.plot(x, ry, 'r.', label='regression')\n",
    "plt.legend(loc=0)\n",
    "plt.grid(True)\n",
    "plt.xlabel('x')\n",
    "plt.ylabel('f(x)')\n",
    "plt.title(\"Regression with monomials up to order 7\")"
   ]
  },
  {
   "cell_type": "markdown",
   "metadata": {},
   "source": [
    "A brief check reveals that the result is not perfect:"
   ]
  },
  {
   "cell_type": "code",
   "execution_count": null,
   "metadata": {},
   "outputs": [],
   "source": [
    "np.allclose(f(x), ry)"
   ]
  },
  {
   "cell_type": "markdown",
   "metadata": {},
   "source": [
    "But he mean squared error (MSE) is not too large\n"
   ]
  },
  {
   "cell_type": "code",
   "execution_count": null,
   "metadata": {},
   "outputs": [],
   "source": [
    "np.sum((f(x) - ry) ** 2) / len(x)"
   ]
  },
  {
   "cell_type": "markdown",
   "metadata": {},
   "source": [
    "**Individual Basis Functions**\n",
    "\n",
    "You can reach better regression results when you can choose better sets of basis functions. The individual basis functions have to be defined via a matrix approach (i.e., using a NumPy  ndarray object). First, the case with monomials up to order $3$ (note that we are not really getting an improvement here because this is just a subset of the basis functions we already tried):\n"
   ]
  },
  {
   "cell_type": "code",
   "execution_count": 13,
   "metadata": {
    "uuid": "b4f05890-56e0-4f29-9d61-bd9948ad8af0"
   },
   "outputs": [],
   "source": [
    "matrix = np.zeros((3 + 1, len(x)))    # len(x) = 50\n",
    "matrix[3, :] = x ** 3\n",
    "matrix[2, :] = x ** 2\n",
    "matrix[1, :] = x\n",
    "matrix[0, :] = 1"
   ]
  },
  {
   "cell_type": "code",
   "execution_count": null,
   "metadata": {},
   "outputs": [],
   "source": [
    "print('Shape:',matrix.shape)\n",
    "print('Size:',matrix.size)\n",
    "matrix"
   ]
  },
  {
   "cell_type": "markdown",
   "metadata": {},
   "source": [
    "The sublibrary `numpy.linalg` provides the function `lstsq` to solve least-squares optimization problems\n"
   ]
  },
  {
   "cell_type": "code",
   "execution_count": 15,
   "metadata": {
    "uuid": "c8963eee-4bc8-4ef2-a172-d4b64fd065a3"
   },
   "outputs": [],
   "source": [
    "reg = np.linalg.lstsq(matrix.T, f(x),rcond=None)[0]"
   ]
  },
  {
   "cell_type": "code",
   "execution_count": null,
   "metadata": {},
   "outputs": [],
   "source": [
    "print(\"regression parameters:\",reg)        # optimal parameters for the single basis functions:\n",
    "print(\"regression shape:\", reg.shape)\n",
    "print (\"matrix shape:\", matrix.shape)"
   ]
  },
  {
   "cell_type": "markdown",
   "metadata": {},
   "source": [
    " To get the regression estimates we apply the dot function to the reg and matrix arrays. `np.dot(a, b)` simply gives the dot product for the two arrays a and b:\n"
   ]
  },
  {
   "cell_type": "code",
   "execution_count": 16,
   "metadata": {
    "uuid": "efb7b252-d0f8-4263-b2be-4d9588ab06a7"
   },
   "outputs": [],
   "source": [
    "ry = np.dot(reg, matrix)"
   ]
  },
  {
   "cell_type": "markdown",
   "metadata": {},
   "source": [
    "Alternatively, we can use `matmul`:"
   ]
  },
  {
   "cell_type": "code",
   "execution_count": 17,
   "metadata": {},
   "outputs": [],
   "source": [
    "rz = np.matmul(reg, matrix)"
   ]
  },
  {
   "cell_type": "markdown",
   "metadata": {},
   "source": [
    "See, it's the same:"
   ]
  },
  {
   "cell_type": "code",
   "execution_count": null,
   "metadata": {},
   "outputs": [],
   "source": [
    "np.allclose(rz,ry)"
   ]
  },
  {
   "cell_type": "markdown",
   "metadata": {},
   "source": [
    "Having a look at it:"
   ]
  },
  {
   "cell_type": "code",
   "execution_count": null,
   "metadata": {},
   "outputs": [],
   "source": [
    "plt.plot(x, f(x), 'b', label='f(x)')\n",
    "plt.plot(x, ry, 'r.', label='regression')\n",
    "plt.legend(loc=0)\n",
    "plt.grid(True)\n",
    "plt.xlabel('x')\n",
    "plt.ylabel('f(x)')\n",
    "plt.title(\"Regression via least-squares function\")\n",
    "#    The result is not really as good as expected"
   ]
  },
  {
   "cell_type": "markdown",
   "metadata": {},
   "source": [
    "Now let's use our knowledge of the sine-wavey nature of the example function."
   ]
  },
  {
   "cell_type": "code",
   "execution_count": 20,
   "metadata": {
    "uuid": "ac77ef01-8abe-4b99-8f92-8325a396ff2c"
   },
   "outputs": [],
   "source": [
    "matrix[3, :] = np.sin(x) #Replacing the highest-degree monomial\n",
    "reg = np.linalg.lstsq(matrix.T, f(x),rcond=None)[0]\n",
    "ry = np.dot(reg, matrix)"
   ]
  },
  {
   "cell_type": "markdown",
   "metadata": {},
   "source": [
    "Having a look..."
   ]
  },
  {
   "cell_type": "code",
   "execution_count": null,
   "metadata": {},
   "outputs": [],
   "source": [
    "plt.plot(x, f(x), 'b', label='f(x)')\n",
    "plt.plot(x, ry, 'r.', label='regression')\n",
    "plt.legend(loc=0)\n",
    "plt.grid(True)\n",
    "plt.xlabel('x')\n",
    "plt.ylabel('f(x)')\n",
    "plt.title(\"Regression using individual functions\")"
   ]
  },
  {
   "cell_type": "markdown",
   "metadata": {},
   "source": [
    "<img src=\"https://media1.tenor.com/images/24168fdb3087be9a171f5b33439b25ba/tenor.gif\" style=\"width: 200px;\"/>\n",
    "\n",
    "\n"
   ]
  },
  {
   "cell_type": "markdown",
   "metadata": {},
   "source": [
    "The regression now is “perfect” in a numerical sense:"
   ]
  },
  {
   "cell_type": "code",
   "execution_count": null,
   "metadata": {},
   "outputs": [],
   "source": [
    "np.allclose(f(x), ry)"
   ]
  },
  {
   "cell_type": "markdown",
   "metadata": {},
   "source": [
    "The mean squared error (*MSE*) is close to $0$."
   ]
  },
  {
   "cell_type": "code",
   "execution_count": null,
   "metadata": {},
   "outputs": [],
   "source": [
    "np.sum((f(x) - ry) ** 2) / len(x)"
   ]
  },
  {
   "cell_type": "markdown",
   "metadata": {},
   "source": [
    "In fact, the minimization routine recovers the correct parameters of $1$ for the `sin` part and $0.5$ for the linear part:\n",
    "\n",
    "`np.sin(x) + 0.5 * x`\n"
   ]
  },
  {
   "cell_type": "code",
   "execution_count": null,
   "metadata": {},
   "outputs": [],
   "source": [
    "reg"
   ]
  },
  {
   "cell_type": "markdown",
   "metadata": {},
   "source": [
    "**Noisy Data**\n",
    "\n",
    "Regression can cope equally well with noisy data, be it data from simulation or from (nonperfect) measurements\n"
   ]
  },
  {
   "cell_type": "code",
   "execution_count": 31,
   "metadata": {
    "uuid": "75d3a6a6-a940-4a49-b35d-29f21880ab95"
   },
   "outputs": [],
   "source": [
    "xn = np.linspace(-2 * np.pi, 2 * np.pi, 50)\n",
    "xn = xn + 0.15 * np.random.standard_normal(len(xn)) # Adding Gaussian noise\n",
    "yn = f(xn) + 0.25 * np.random.standard_normal(len(xn))"
   ]
  },
  {
   "cell_type": "code",
   "execution_count": 25,
   "metadata": {
    "uuid": "f6f9c05f-1f96-48ee-aaca-f4d80c3d3ac5"
   },
   "outputs": [],
   "source": [
    "reg = np.polyfit(xn, yn, 7)\n",
    "ry = np.polyval(reg, xn)"
   ]
  },
  {
   "cell_type": "code",
   "execution_count": null,
   "metadata": {},
   "outputs": [],
   "source": [
    "plt.plot(xn, yn, 'b^', label='f(x)')\n",
    "plt.plot(xn, ry, 'ro', label='regression')\n",
    "plt.legend(loc=0)\n",
    "plt.grid(True)\n",
    "plt.xlabel('x')\n",
    "plt.ylabel('f(x)')\n",
    "plt.title(\"Regression with noisy data\")"
   ]
  },
  {
   "cell_type": "markdown",
   "metadata": {},
   "source": [
    "**Unsorted Data**\n",
    "\n",
    "Regression  also works seamlessly with unsorted datalet us randomize the independent data points.\n"
   ]
  },
  {
   "cell_type": "code",
   "execution_count": 28,
   "metadata": {
    "uuid": "8ea85cdb-47f2-4967-b684-7894d9964e76"
   },
   "outputs": [],
   "source": [
    "xu = np.random.rand(50) * 4 * np.pi - 2 * np.pi\n",
    "yu = f(xu)"
   ]
  },
  {
   "cell_type": "markdown",
   "metadata": {},
   "source": [
    "Inspecting the raw data *visually* but not *graphically*:"
   ]
  },
  {
   "cell_type": "code",
   "execution_count": null,
   "metadata": {},
   "outputs": [],
   "source": [
    "print (xu[:10].round(2))\n",
    "print (yu[:10].round(2))"
   ]
  },
  {
   "cell_type": "markdown",
   "metadata": {},
   "source": [
    "Take monomials up to the order of $5$ as basis functions..."
   ]
  },
  {
   "cell_type": "code",
   "execution_count": 29,
   "metadata": {
    "uuid": "d7f5f003-1cb8-4432-a8d6-cb4bef1a101a"
   },
   "outputs": [],
   "source": [
    "reg = np.polyfit(xu, yu, 5) \n",
    "ry = np.polyval(reg, xu)"
   ]
  },
  {
   "cell_type": "code",
   "execution_count": null,
   "metadata": {},
   "outputs": [],
   "source": [
    "plt.plot(xu, yu, 'b^', label='f(x)')\n",
    "plt.plot(xu, ry, 'ro', label='regression')\n",
    "plt.legend(loc=0)\n",
    "plt.grid(True)\n",
    "plt.xlabel('x')\n",
    "plt.ylabel('f(x)')\n",
    "plt.title(\"Regression with unsorted data\")"
   ]
  },
  {
   "cell_type": "markdown",
   "metadata": {},
   "source": [
    "If this example confuses you, then just forget about it. The point is that the regression algorithm doesn't care about the order in which the observations appear - as you can easily tell by looking at it as an optimization problem. Recall:\n",
    "\n",
    "$\\Large{\\displaystyle\\min_{\\alpha_1,...,\\alpha_D} \\frac{1}{I} \\displaystyle\\sum_{i = 1}^{I} (y_i - \\displaystyle\\sum_{d = 1}^{D} \\color{blue}{\\alpha}_{d} \\cdot b_d (x_i ))^2}$\n"
   ]
  },
  {
   "cell_type": "markdown",
   "metadata": {},
   "source": [
    "**Multiple Dimensions**\n",
    "\n",
    "Univariate models are great, but the world is lots more complicated than that. Happily, we can use basically the same methods to do linear regression on multivariate data (inputs and outputs)."
   ]
  },
  {
   "cell_type": "markdown",
   "metadata": {},
   "source": [
    "Let's define another function to generate $2D$ data."
   ]
  },
  {
   "cell_type": "code",
   "execution_count": 32,
   "metadata": {
    "uuid": "82b95a7b-9e3e-4dc8-b313-1af775b06b8b"
   },
   "outputs": [],
   "source": [
    "def fm(x, y):\n",
    "    return np.sin(x) + 0.25 * x + np.sqrt(y) + 0.05 * y ** 2"
   ]
  },
  {
   "cell_type": "markdown",
   "metadata": {},
   "source": [
    "We're meeting a new `numpy` utility here called `meshgrid`. It's really handy because you don't want to do this yourself."
   ]
  },
  {
   "cell_type": "code",
   "execution_count": 33,
   "metadata": {
    "uuid": "b03b67ac-f7df-41d1-9dab-1e074e8738fa"
   },
   "outputs": [],
   "source": [
    "x = np.linspace(0, 10, 20)\n",
    "y = np.linspace(0, 10, 20)\n",
    "X, Y = np.meshgrid(x, y)     # generates 2-d grids out of the 1-d arrays\n",
    "Z = fm(X, Y)                 # dependent data points"
   ]
  },
  {
   "cell_type": "markdown",
   "metadata": {},
   "source": [
    "Let's take a look at what we've got here:"
   ]
  },
  {
   "cell_type": "code",
   "execution_count": null,
   "metadata": {},
   "outputs": [],
   "source": [
    "from mpl_toolkits.mplot3d import Axes3D\n",
    "import matplotlib as mpl\n",
    "\n",
    "fig = plt.figure(figsize=(9, 6))\n",
    "ax = fig.gca(projection='3d')\n",
    "surf = ax.plot_surface(X, Y, Z, rstride=2, cstride=2, cmap=mpl.cm.coolwarm, \n",
    "       linewidth=0.5, antialiased=True)\n",
    "#  X, Y, Z - data values as 2D arrays\n",
    "#  stride, cstride - array row and column stride (step size)\n",
    "#  cmap - a color map for surface pathes\n",
    "ax.set_xlabel('x')\n",
    "ax.set_ylabel('y')\n",
    "ax.set_zlabel('f(x, y)')\n",
    "fig.colorbar(surf, shrink=0.5, aspect=5)\n",
    "# title: Function with two parameters"
   ]
  },
  {
   "cell_type": "markdown",
   "metadata": {},
   "source": [
    "Now, manually, let's create some basis functions. It's really got the same exact structure - it's an array."
   ]
  },
  {
   "cell_type": "markdown",
   "metadata": {},
   "source": [
    "To get good regression results we compile a set of basis functions, including both a `sin` and a `sqrt` function, which leverages our knowledge of the example function:"
   ]
  },
  {
   "cell_type": "code",
   "execution_count": 35,
   "metadata": {
    "uuid": "5918f2cf-3ead-4b80-980e-4a375ee159db"
   },
   "outputs": [],
   "source": [
    "matrix = np.zeros((len(x), 9 + 1))\n",
    "matrix[:, 9] = x * y\n",
    "matrix[:, 8] = np.sqrt(y)\n",
    "matrix[:, 7] = np.sin(x)\n",
    "matrix[:, 6] = x ** 3\n",
    "matrix[:, 5] = y ** 3\n",
    "matrix[:, 4] = x ** 2\n",
    "matrix[:, 3] = y ** 2\n",
    "matrix[:, 2] = x\n",
    "matrix[:, 1] = y\n",
    "matrix[:, 0] = 1"
   ]
  },
  {
   "cell_type": "markdown",
   "metadata": {},
   "source": [
    "This time we'll use `statsmodels`. The `OLS` provided by it works for both univariate and multivariate regressions."
   ]
  },
  {
   "cell_type": "code",
   "execution_count": 36,
   "metadata": {
    "uuid": "48ce242e-3411-41bf-b6c1-c8e228f3e494"
   },
   "outputs": [],
   "source": [
    "import statsmodels.api as sm"
   ]
  },
  {
   "cell_type": "markdown",
   "metadata": {},
   "source": [
    "More [here](http://statsmodels.sourceforge.net/stable/generated/statsmodels.regression.linear_model.OLS.html)."
   ]
  },
  {
   "cell_type": "code",
   "execution_count": 37,
   "metadata": {
    "uuid": "b9eb74bd-9280-4d8b-ae7d-8853911389cb"
   },
   "outputs": [],
   "source": [
    "model = sm.OLS(fm(x, y), matrix).fit()"
   ]
  },
  {
   "cell_type": "markdown",
   "metadata": {},
   "source": [
    "Here is some information about our model."
   ]
  },
  {
   "cell_type": "code",
   "execution_count": null,
   "metadata": {},
   "outputs": [],
   "source": [
    "model.summary()"
   ]
  },
  {
   "cell_type": "markdown",
   "metadata": {},
   "source": [
    "The optimal regression parameters, which are stored in the `params` attribute of our model object:\n"
   ]
  },
  {
   "cell_type": "code",
   "execution_count": null,
   "metadata": {},
   "outputs": [],
   "source": [
    "a = model.params\n",
    "a"
   ]
  },
  {
   "cell_type": "markdown",
   "metadata": {},
   "source": [
    "Here is the function we found - note the parameters are another input."
   ]
  },
  {
   "cell_type": "code",
   "execution_count": 40,
   "metadata": {
    "uuid": "1f5d1574-8238-45e4-987d-bdb7cc6b5e03"
   },
   "outputs": [],
   "source": [
    "def reg_func(a, x, y):\n",
    "    f9 = a[9] * x * y\n",
    "    f8 = a[8] * np.sqrt(y)\n",
    "    f7 = a[7] * np.sin(x)\n",
    "    f6 = a[6] * x ** 3\n",
    "    f5 = a[5] * y ** 3\n",
    "    f4 = a[4] * x ** 2\n",
    "    f3 = a[3] * y ** 2\n",
    "    f2 = a[2] * x\n",
    "    f1 = a[1] * y\n",
    "    f0 = a[0] * 1\n",
    "    return (f9 + f8 + f7 + f6 + f5 +\n",
    "             f4 + f3 + f2 + f1 + f0)"
   ]
  },
  {
   "cell_type": "code",
   "execution_count": 41,
   "metadata": {
    "uuid": "fd9f8eed-1b10-4ec8-8a15-bedae7f53a18"
   },
   "outputs": [],
   "source": [
    "RZ = reg_func(a, X, Y)"
   ]
  },
  {
   "cell_type": "markdown",
   "metadata": {},
   "source": [
    "Let's see how we did."
   ]
  },
  {
   "cell_type": "code",
   "execution_count": null,
   "metadata": {},
   "outputs": [],
   "source": [
    "fig = plt.figure(figsize=(9, 6))\n",
    "ax = fig.gca(projection='3d')\n",
    "surf1 = ax.plot_surface(X, Y, Z, rstride=2, cstride=2, cmap=mpl.cm.coolwarm,\n",
    "        linewidth=0.5, antialiased=True)\n",
    "surf2 = ax.plot_wireframe(X, Y, RZ, rstride=2, cstride=2, label='regression')\n",
    "ax.set_xlabel('x')\n",
    "ax.set_ylabel('y')\n",
    "ax.set_zlabel('f(x, y)')\n",
    "ax.legend()\n",
    "fig.colorbar(surf, shrink=0.5, aspect=5)\n",
    "#  title: Higher dimension regression\n",
    "# NOTE: textbook defines different regression function"
   ]
  },
  {
   "cell_type": "markdown",
   "metadata": {},
   "source": [
    "Not bad."
   ]
  },
  {
   "cell_type": "markdown",
   "metadata": {},
   "source": [
    "**Interpolation**"
   ]
  },
  {
   "cell_type": "markdown",
   "metadata": {},
   "source": [
    "Sometimes you want to hit exact values at certain points and then fill in the gaps smoothly. The basic idea is to do a regression between neighboring datapoints so that the functions agree at the points and are nice and smooth in between."
   ]
  },
  {
   "cell_type": "markdown",
   "metadata": {},
   "source": [
    "The `SciPy` module lets us do this."
   ]
  },
  {
   "cell_type": "code",
   "execution_count": 44,
   "metadata": {
    "uuid": "5e345542-f425-4630-9eae-0a446927ad73"
   },
   "outputs": [],
   "source": [
    "import scipy.interpolate as spi"
   ]
  },
  {
   "cell_type": "code",
   "execution_count": 45,
   "metadata": {
    "uuid": "20200433-3e90-4bb6-be5a-8e6a1360989e"
   },
   "outputs": [],
   "source": [
    "x = np.linspace(-2 * np.pi, 2 * np.pi, 25)"
   ]
  },
  {
   "cell_type": "code",
   "execution_count": null,
   "metadata": {},
   "outputs": [],
   "source": [
    "x"
   ]
  },
  {
   "cell_type": "markdown",
   "metadata": {},
   "source": [
    "Same function as before."
   ]
  },
  {
   "cell_type": "code",
   "execution_count": 47,
   "metadata": {
    "uuid": "6e3caa90-2a2a-4429-8536-ab25091a5640"
   },
   "outputs": [],
   "source": [
    "def f(x):\n",
    "    return np.sin(x) + 0.5 * x"
   ]
  },
  {
   "cell_type": "code",
   "execution_count": 48,
   "metadata": {},
   "outputs": [],
   "source": [
    "y=f(x)"
   ]
  },
  {
   "cell_type": "code",
   "execution_count": null,
   "metadata": {},
   "outputs": [],
   "source": [
    "y"
   ]
  },
  {
   "cell_type": "code",
   "execution_count": 50,
   "metadata": {
    "uuid": "afdb9c45-1b12-4358-ba3e-a1bc3c4d32db"
   },
   "outputs": [],
   "source": [
    "# scipy.interpolate defines function splrep \n",
    "#    x       (Ordered) x coordinates (independent variable values)\n",
    "#    y       ( x-ordered) y coordinates (dependent variable values)\n",
    "#    k       Order of the spline fit ( 1 <= k <= 5)\n",
    "\n",
    "ipo = spi.splrep(x, y, k=1)   # linear spline"
   ]
  },
  {
   "cell_type": "markdown",
   "metadata": {},
   "source": [
    "This defines an interpolation fitted to our data. We can then evaluate it on the points in question."
   ]
  },
  {
   "cell_type": "code",
   "execution_count": 56,
   "metadata": {
    "uuid": "7217594a-3398-4dfd-9d16-f90ee0f24bd9"
   },
   "outputs": [],
   "source": [
    "# scipy.interpolate defines function splev\n",
    "#   x        (Ordered) x coordinates (independent variable values)\n",
    "#   tck      Sequence of length 3 returned by splrep (knots, coefficients, degree)\n",
    "\n",
    "iy = spi.splev(x, ipo)"
   ]
  },
  {
   "cell_type": "code",
   "execution_count": null,
   "metadata": {},
   "outputs": [],
   "source": [
    "iy"
   ]
  },
  {
   "cell_type": "code",
   "execution_count": null,
   "metadata": {},
   "outputs": [],
   "source": [
    "plt.plot(x, f(x), 'b', label='f(x)')\n",
    "plt.plot(x, iy, 'r.', label='interpolation')\n",
    "plt.legend(loc=0)\n",
    "plt.grid(True)\n",
    "plt.xlabel('x')\n",
    "plt.ylabel('f(x)')\n",
    "# title: Example plot with linear interpolation"
   ]
  },
  {
   "cell_type": "code",
   "execution_count": null,
   "metadata": {},
   "outputs": [],
   "source": [
    "np.allclose(f(x), iy)"
   ]
  },
  {
   "cell_type": "markdown",
   "metadata": {},
   "source": [
    "No surprises there."
   ]
  },
  {
   "cell_type": "markdown",
   "metadata": {},
   "source": [
    "Next, let's pick a smaller interval and look at the interpolated values in between."
   ]
  },
  {
   "cell_type": "code",
   "execution_count": 61,
   "metadata": {
    "uuid": "3daf1f42-54d8-4150-aab6-5188d1c23bdb"
   },
   "outputs": [],
   "source": [
    "xd = np.linspace(1.0, 3.0, 50)\n",
    "iyd = spi.splev(xd, ipo)"
   ]
  },
  {
   "cell_type": "code",
   "execution_count": null,
   "metadata": {},
   "outputs": [],
   "source": [
    "plt.plot(xd, f(xd), 'b', label='f(x)')\n",
    "plt.plot(xd, iyd, 'r.', label='interpolation')\n",
    "plt.legend(loc=0)\n",
    "plt.grid(True)\n",
    "plt.xlabel('x')\n",
    "plt.ylabel('f(x)')\n",
    "# title: Example plot (detail) with linear interpolation"
   ]
  },
  {
   "cell_type": "markdown",
   "metadata": {},
   "source": [
    "What we see here is the *linear* nature of the interpolation in between the points to which we fitted the model."
   ]
  },
  {
   "cell_type": "markdown",
   "metadata": {},
   "source": [
    "Here is an example where the the model is *cubic* in between the fitted points."
   ]
  },
  {
   "cell_type": "code",
   "execution_count": 64,
   "metadata": {
    "uuid": "c3d9f85f-671f-4353-beab-fad9db9f8aa4"
   },
   "outputs": [],
   "source": [
    "ipo = spi.splrep(x, f(x), k=3)\n",
    "iyd = spi.splev(xd, ipo)"
   ]
  },
  {
   "cell_type": "code",
   "execution_count": null,
   "metadata": {},
   "outputs": [],
   "source": [
    "plt.plot(xd, f(xd), 'b', label='f(x)')\n",
    "plt.plot(xd, iyd, 'r.', label='interpolation')\n",
    "plt.legend(loc=0)\n",
    "plt.grid(True)\n",
    "plt.xlabel('x')\n",
    "plt.ylabel('f(x)')\n",
    "# title: Example plot (detail) with cubic splines interpolation"
   ]
  },
  {
   "cell_type": "markdown",
   "metadata": {},
   "source": [
    "Numerically, the interpolation is not perfect, but the mean squared error is really small."
   ]
  },
  {
   "cell_type": "code",
   "execution_count": null,
   "metadata": {},
   "outputs": [],
   "source": [
    "np.allclose(f(xd), iyd), np.sum((f(xd) - iyd) ** 2) / len(xd)"
   ]
  },
  {
   "cell_type": "markdown",
   "metadata": {},
   "source": [
    "**Convex Optimization**\n",
    "\n",
    "(Used, for example,  for calibration of option pricing models to market data)"
   ]
  },
  {
   "cell_type": "code",
   "execution_count": 68,
   "metadata": {
    "uuid": "a09a918e-760c-4e9c-95b8-fe3b568dacdb"
   },
   "outputs": [],
   "source": [
    "import numpy as np\n",
    "import matplotlib.pyplot as plt\n",
    "from mpl_toolkits.mplot3d import Axes3D\n",
    "import matplotlib as mpl\n",
    "%matplotlib inline\n",
    "\n",
    "\n",
    "# we want to minimize the following function:\n",
    "\n",
    "def fm(w):    # w is a tuple\n",
    "    x = w[0]\n",
    "    y = w[1]\n",
    "    return (np.sin(x) + 0.05 * x ** 2\n",
    "          + np.sin(y) + 0.05 * y ** 2)"
   ]
  },
  {
   "cell_type": "code",
   "execution_count": 69,
   "metadata": {
    "uuid": "1f4a147b-d9d2-42d5-8553-dd95d75d8251"
   },
   "outputs": [],
   "source": [
    "x = np.linspace(-10, 10, 50)\n",
    "y = np.linspace(-10, 10, 50)\n",
    "X, Y = np.meshgrid(x, y)\n",
    "Z = fm((X, Y))"
   ]
  },
  {
   "cell_type": "code",
   "execution_count": 70,
   "metadata": {
    "uuid": "b3a1d3b7-25eb-4ac8-81ed-ad740fd1a297"
   },
   "outputs": [
    {
     "data": {
      "text/plain": [
       "<matplotlib.colorbar.Colorbar at 0x7fc07ffdaef0>"
      ]
     },
     "execution_count": 70,
     "metadata": {},
     "output_type": "execute_result"
    },
    {
     "data": {
      "image/png": "[encoded data removed]",
      "text/plain": [
       "<Figure size 648x432 with 2 Axes>"
      ]
     },
     "metadata": {},
     "output_type": "display_data"
    }
   ],
   "source": [
    "fig = plt.figure(figsize=(9, 6))\n",
    "ax = fig.gca(projection='3d')\n",
    "surf = ax.plot_surface(X, Y, Z, rstride=2, cstride=2, cmap=mpl.cm.coolwarm,\n",
    "        linewidth=0.5, antialiased=True)\n",
    "ax.set_xlabel('x')\n",
    "ax.set_ylabel('y')\n",
    "ax.set_zlabel('f(x, y)')\n",
    "fig.colorbar(surf, shrink=0.5, aspect=5)\n",
    "# title: Function to minimize with two parameters"
   ]
  },
  {
   "cell_type": "markdown",
   "metadata": {},
   "source": [
    "Now, we want to implement both a global minimization approach and a local one. The functions `brute` and `fmin` that we want to use can be found in the sublibrary `scipy.optimize`:"
   ]
  },
  {
   "cell_type": "code",
   "execution_count": 71,
   "metadata": {
    "uuid": "72b2e44d-2127-412e-9046-2b0c7c5bf7c6"
   },
   "outputs": [],
   "source": [
    "import scipy.optimize as spo"
   ]
  },
  {
   "cell_type": "markdown",
   "metadata": {},
   "source": [
    "**Global Optimization**\n",
    "\n",
    "We amend the original function by an option to output current parameter values as well as the function value:\n"
   ]
  },
  {
   "cell_type": "code",
   "execution_count": 72,
   "metadata": {
    "uuid": "e6c829bb-f358-430d-9e8c-781e9d15c9e6"
   },
   "outputs": [],
   "source": [
    "def fo(w):\n",
    "    x = w[0]\n",
    "    y = w[1]\n",
    "    z = np.sin(x) + 0.05 * x ** 2 + np.sin(y) + 0.05 * y ** 2\n",
    "    if output == True:   # output is a global variable\n",
    "        print ('%8.4f %8.4f %8.4f' % (x, y, z))\n",
    "    return z"
   ]
  },
  {
   "cell_type": "markdown",
   "metadata": {},
   "source": [
    "`brute` takes the parameter ranges as input. For example, providing parameter range $(-10, 10.1, 5)$ for the `x` value will lead to “tested” values of $-10, -5, 0, 5, 10$:\n"
   ]
  },
  {
   "cell_type": "code",
   "execution_count": null,
   "metadata": {},
   "outputs": [],
   "source": [
    "output = True\n",
    "spo.brute(fo, ((-10, 10.1, 5), (-10, 10.1, 5)), finish=None)"
   ]
  },
  {
   "cell_type": "markdown",
   "metadata": {},
   "source": [
    "*Result* The first parameterization here is quite rough, in that we used steps of width $5$ for  both input parameters. \n",
    "\n",
    "The optimal parameter values are $x = y = 0$. The resulting function value is also $0$."
   ]
  },
  {
   "cell_type": "markdown",
   "metadata": {},
   "source": [
    "Let's be a little smarter and more patient."
   ]
  },
  {
   "cell_type": "code",
   "execution_count": 74,
   "metadata": {
    "uuid": "dc42167b-4e8f-462c-8aad-a94afdf0a8bc"
   },
   "outputs": [
    {
     "data": {
      "text/plain": [
       "array([-1.4, -1.4])"
      ]
     },
     "execution_count": 74,
     "metadata": {},
     "output_type": "execute_result"
    }
   ],
   "source": [
    "output = False\n",
    "opt1 = spo.brute(fo, ((-10, 10.1, 0.1), (-10, 10.1, 0.1)), finish=None)\n",
    "opt1        # The optimal parameter values"
   ]
  },
  {
   "cell_type": "markdown",
   "metadata": {},
   "source": [
    "*Result* The second  parameterization is better.\n",
    "\n",
    "We used steps of width $0.1$ for  both input parameters.\n",
    "\n",
    "The optimal parameter values are $x = y = -1.4$"
   ]
  },
  {
   "cell_type": "markdown",
   "metadata": {},
   "source": [
    "The minimum function value:"
   ]
  },
  {
   "cell_type": "code",
   "execution_count": null,
   "metadata": {},
   "outputs": [],
   "source": [
    "fm(opt1)"
   ]
  },
  {
   "cell_type": "markdown",
   "metadata": {},
   "source": [
    "**Local Optimization**"
   ]
  },
  {
   "cell_type": "markdown",
   "metadata": {},
   "source": [
    "The function `fmin` takes as input the function to minimize (`fo`) and the starting parameter values (`opt1`). `xtol`, `ftol` are levels for the input parameter tolerance and the function value tolerance.\n",
    "\n",
    "`maxiter` is the maximum number of iterations  "
   ]
  },
  {
   "cell_type": "code",
   "execution_count": null,
   "metadata": {},
   "outputs": [],
   "source": [
    "output = True\n",
    "opt2 = spo.fmin(fo, opt1, xtol=0.001, ftol=0.001, maxiter=15, maxfun=20)\n",
    "opt2"
   ]
  },
  {
   "cell_type": "markdown",
   "metadata": {},
   "source": [
    "The value we found:"
   ]
  },
  {
   "cell_type": "code",
   "execution_count": null,
   "metadata": {},
   "outputs": [],
   "source": [
    "fm(opt2)"
   ]
  },
  {
   "cell_type": "markdown",
   "metadata": {},
   "source": [
    "For many convex optimization problems it is advisable to have a global minimization before the local one. The major reason for this is that local convex optimization  algorithms can easily be trapped in a local minimum, ignoring completely “better”  local minima and/or a global minimum \n"
   ]
  },
  {
   "cell_type": "code",
   "execution_count": null,
   "metadata": {},
   "outputs": [],
   "source": [
    "output = False\n",
    "spo.fmin(fo, (2.0, 2.0), maxiter=250)"
   ]
  },
  {
   "cell_type": "markdown",
   "metadata": {},
   "source": [
    "**Constrained Optimization**\n",
    "\n",
    "(*expected utility maximization*)"
   ]
  },
  {
   "cell_type": "markdown",
   "metadata": {},
   "source": [
    "$\\Large\\displaystyle\\max_{a,b} E(u(w_1)) = p\\sqrt{w_{1u}} + (1 - p)\\sqrt{w_{1d}}$\n",
    "\n",
    "$\\Large w_1 = ar_a + br_b$\n",
    "\n",
    "$\\Large w_0 \\geq aq_a + bq_b$\n",
    "\n",
    "$\\Large a,b \\geq 0$"
   ]
  },
  {
   "cell_type": "markdown",
   "metadata": {},
   "source": [
    "As a simple example, consider the utility maximization problem of an investor \n",
    "who can invest in two risky securities. Both securities cost $q_a = q_b = 10$ today. \n",
    "After one year, they have a payoff of \n",
    "$r_a = 15 USD$ and $r_b = 5 USD$, respectively, in state $u$, and of \n",
    "$r_a = 5 USD$  and $r_b = 12 USD$, respectively, in state $d$. \n",
    "Both states are equally likely $p = 0.5$\n",
    "The investor has a budget of $w_0 = 100 USD$ to invest."
   ]
  },
  {
   "cell_type": "markdown",
   "metadata": {},
   "source": [
    "$\\Large\\displaystyle\\min_{a,b} -E(u(w_1)) = -(0.5\\sqrt{w_{1u}} + 0.5\\sqrt{w_{1d}})$\n",
    "\n",
    "$\\Large w_{1u} = a \\cdot 15 + b \\cdot 5$\n",
    "\n",
    "$\\Large w_{1d} = a \\cdot 5 + b \\cdot 12$\n",
    "\n",
    "$\\Large 100 \\geq a \\cdot 10 + b \\cdot 10$\n",
    "\n",
    "$\\Large a,b \\geq 0$"
   ]
  },
  {
   "cell_type": "code",
   "execution_count": 89,
   "metadata": {},
   "outputs": [],
   "source": [
    "# function to be minimized\n",
    "from math import sqrt\n",
    "def Eu(w):\n",
    "    s = w[0]\n",
    "    b = w[1]\n",
    "    return -(0.5 * sqrt(s * 15 + b * 5) + 0.5 * sqrt(s * 5 + b * 12))\n",
    "\n",
    "# constraints\n",
    "def cons_f (w):\n",
    "    s = w[0]\n",
    "    b = w[1]\n",
    "    return 100 - s * 10 - b * 10\n",
    "\n",
    "cons = ({'type': 'ineq', 'fun': cons_f})\n",
    "\n",
    "# budget constraint\n",
    "bnds = ((0, 1000), (0, 1000))  # uppper bounds large enough - why tho?"
   ]
  },
  {
   "cell_type": "markdown",
   "metadata": {},
   "source": [
    "To solve this problem, we use the `scipy.optimize.minimize` function. \n",
    "This function takes as input \n",
    "*  `Eu`,  the function to be minimized \n",
    "*  equations and inequalities (as a list of `dict` objects) \n",
    "*  boundaries for the parameters (as a tuple of tuple objects)\n",
    "\n",
    "The function returns a dict object\n"
   ]
  },
  {
   "cell_type": "code",
   "execution_count": 83,
   "metadata": {
    "uuid": "8f989832-637a-4188-b096-26ceeabd77ea"
   },
   "outputs": [],
   "source": [
    "result = spo.minimize(Eu, [5, 5], method='SLSQP',\n",
    "                       bounds=bnds, constraints=cons)"
   ]
  },
  {
   "cell_type": "code",
   "execution_count": null,
   "metadata": {},
   "outputs": [],
   "source": [
    "result"
   ]
  },
  {
   "cell_type": "code",
   "execution_count": null,
   "metadata": {},
   "outputs": [],
   "source": [
    "result['x']"
   ]
  },
  {
   "cell_type": "code",
   "execution_count": null,
   "metadata": {},
   "outputs": [],
   "source": [
    "-result['fun']"
   ]
  },
  {
   "cell_type": "markdown",
   "metadata": {},
   "source": [
    "The budget constraint is  binding; i.e., the investor invests his/her total wealth of $100$ USD into the securities. This is easily verified through taking the dot product of the optimal parameter vector and the price vector:\n"
   ]
  },
  {
   "cell_type": "code",
   "execution_count": null,
   "metadata": {},
   "outputs": [],
   "source": [
    "np.dot(result['x'], [10, 10])"
   ]
  }
 ],
 "metadata": {
  "anaconda-cloud": {},
  "kernelspec": {
   "display_name": "Python 3",
   "language": "python",
   "name": "python3"
  },
  "language_info": {
   "codemirror_mode": {
    "name": "ipython",
    "version": 3
   },
   "file_extension": ".py",
   "mimetype": "text/x-python",
   "name": "python",
   "nbconvert_exporter": "python",
   "pygments_lexer": "ipython3",
   "version": "3.7.1"
  }
 },
 "nbformat": 4,
 "nbformat_minor": 1
}
