{
 "cells": [
  {
   "cell_type": "markdown",
   "metadata": {},
   "source": [
    "# CPS600 - Python Programming for Finance \n",
    "###  \n",
    "<img src=\"https://www.syracuse.edu/wp-content/themes/g6-carbon/img/syracuse-university-seal.svg?ver=6.3.9\" style=\"width: 200px;\"/>\n",
    "\n",
    "## Financial Time Series\n",
    "\n",
    "###  October 25, 2018\n",
    "\n"
   ]
  },
  {
   "cell_type": "code",
   "execution_count": 1,
   "metadata": {},
   "outputs": [],
   "source": [
    "import pandas as pd\n",
    "import numpy as np"
   ]
  },
  {
   "cell_type": "markdown",
   "metadata": {},
   "source": [
    "**First Steps with the `DataFrame`**"
   ]
  },
  {
   "cell_type": "code",
   "execution_count": 2,
   "metadata": {
    "scrolled": false
   },
   "outputs": [
    {
     "data": {
      "text/html": [
       "<div>\n",
       "<style scoped>\n",
       "    .dataframe tbody tr th:only-of-type {\n",
       "        vertical-align: middle;\n",
       "    }\n",
       "\n",
       "    .dataframe tbody tr th {\n",
       "        vertical-align: top;\n",
       "    }\n",
       "\n",
       "    .dataframe thead th {\n",
       "        text-align: right;\n",
       "    }\n",
       "</style>\n",
       "<table border=\"1\" class=\"dataframe\">\n",
       "  <thead>\n",
       "    <tr style=\"text-align: right;\">\n",
       "      <th></th>\n",
       "      <th>numbers</th>\n",
       "    </tr>\n",
       "  </thead>\n",
       "  <tbody>\n",
       "    <tr>\n",
       "      <th>a</th>\n",
       "      <td>10</td>\n",
       "    </tr>\n",
       "    <tr>\n",
       "      <th>b</th>\n",
       "      <td>20</td>\n",
       "    </tr>\n",
       "    <tr>\n",
       "      <th>c</th>\n",
       "      <td>30</td>\n",
       "    </tr>\n",
       "    <tr>\n",
       "      <th>d</th>\n",
       "      <td>40</td>\n",
       "    </tr>\n",
       "  </tbody>\n",
       "</table>\n",
       "</div>"
      ],
      "text/plain": [
       "   numbers\n",
       "a       10\n",
       "b       20\n",
       "c       30\n",
       "d       40"
      ]
     },
     "execution_count": 2,
     "metadata": {},
     "output_type": "execute_result"
    }
   ],
   "source": [
    "# pandas DataFrame class is designed to manage indexed and labeled data \n",
    "# Data itself can be provided in different shapes and types \n",
    "#    (list, tuple, ndarray, and dict objects).\n",
    "# Create DataFrame object\n",
    "\n",
    "df = pd.DataFrame([10, 20, 30, 40], columns=['numbers'],\n",
    "                  index=['a', 'b', 'c', 'd'])\n",
    "df"
   ]
  },
  {
   "cell_type": "code",
   "execution_count": 3,
   "metadata": {},
   "outputs": [
    {
     "data": {
      "text/plain": [
       "Index(['a', 'b', 'c', 'd'], dtype='object')"
      ]
     },
     "execution_count": 3,
     "metadata": {},
     "output_type": "execute_result"
    }
   ],
   "source": [
    "# There is an index that can take on different formats \n",
    "# (e.g., numbers, strings, time information).\n",
    "\n",
    "df.index  # the index values"
   ]
  },
  {
   "cell_type": "code",
   "execution_count": 4,
   "metadata": {},
   "outputs": [
    {
     "data": {
      "text/plain": [
       "Index(['numbers'], dtype='object')"
      ]
     },
     "execution_count": 4,
     "metadata": {},
     "output_type": "execute_result"
    }
   ],
   "source": [
    "# Data is organized in columns, which can have custom names\n",
    "\n",
    "df.columns  # the column names"
   ]
  },
  {
   "cell_type": "code",
   "execution_count": 10,
   "metadata": {},
   "outputs": [
    {
     "data": {
      "text/plain": [
       "numbers    30\n",
       "Name: c, dtype: int64"
      ]
     },
     "execution_count": 10,
     "metadata": {},
     "output_type": "execute_result"
    }
   ],
   "source": [
    "df.loc['c']  # selection via index"
   ]
  },
  {
   "cell_type": "code",
   "execution_count": 6,
   "metadata": {},
   "outputs": [
    {
     "name": "stderr",
     "output_type": "stream",
     "text": [
      "/home/martin/anaconda3/lib/python3.6/site-packages/ipykernel_launcher.py:1: DeprecationWarning: \n",
      ".ix is deprecated. Please use\n",
      ".loc for label based indexing or\n",
      ".iloc for positional indexing\n",
      "\n",
      "See the documentation here:\n",
      "http://pandas.pydata.org/pandas-docs/stable/indexing.html#ix-indexer-is-deprecated\n",
      "  \"\"\"Entry point for launching an IPython kernel.\n"
     ]
    },
    {
     "data": {
      "text/html": [
       "<div>\n",
       "<style scoped>\n",
       "    .dataframe tbody tr th:only-of-type {\n",
       "        vertical-align: middle;\n",
       "    }\n",
       "\n",
       "    .dataframe tbody tr th {\n",
       "        vertical-align: top;\n",
       "    }\n",
       "\n",
       "    .dataframe thead th {\n",
       "        text-align: right;\n",
       "    }\n",
       "</style>\n",
       "<table border=\"1\" class=\"dataframe\">\n",
       "  <thead>\n",
       "    <tr style=\"text-align: right;\">\n",
       "      <th></th>\n",
       "      <th>numbers</th>\n",
       "    </tr>\n",
       "  </thead>\n",
       "  <tbody>\n",
       "    <tr>\n",
       "      <th>a</th>\n",
       "      <td>10</td>\n",
       "    </tr>\n",
       "    <tr>\n",
       "      <th>d</th>\n",
       "      <td>40</td>\n",
       "    </tr>\n",
       "  </tbody>\n",
       "</table>\n",
       "</div>"
      ],
      "text/plain": [
       "   numbers\n",
       "a       10\n",
       "d       40"
      ]
     },
     "execution_count": 6,
     "metadata": {},
     "output_type": "execute_result"
    }
   ],
   "source": [
    "df.ix[['a', 'd']]  # selection of multiple indices"
   ]
  },
  {
   "cell_type": "code",
   "execution_count": 11,
   "metadata": {},
   "outputs": [
    {
     "data": {
      "text/html": [
       "<div>\n",
       "<style scoped>\n",
       "    .dataframe tbody tr th:only-of-type {\n",
       "        vertical-align: middle;\n",
       "    }\n",
       "\n",
       "    .dataframe tbody tr th {\n",
       "        vertical-align: top;\n",
       "    }\n",
       "\n",
       "    .dataframe thead th {\n",
       "        text-align: right;\n",
       "    }\n",
       "</style>\n",
       "<table border=\"1\" class=\"dataframe\">\n",
       "  <thead>\n",
       "    <tr style=\"text-align: right;\">\n",
       "      <th></th>\n",
       "      <th>numbers</th>\n",
       "    </tr>\n",
       "  </thead>\n",
       "  <tbody>\n",
       "    <tr>\n",
       "      <th>b</th>\n",
       "      <td>20</td>\n",
       "    </tr>\n",
       "    <tr>\n",
       "      <th>c</th>\n",
       "      <td>30</td>\n",
       "    </tr>\n",
       "  </tbody>\n",
       "</table>\n",
       "</div>"
      ],
      "text/plain": [
       "   numbers\n",
       "b       20\n",
       "c       30"
      ]
     },
     "execution_count": 11,
     "metadata": {},
     "output_type": "execute_result"
    }
   ],
   "source": [
    "df.loc[df.index[1:3]]  # selection via Index object"
   ]
  },
  {
   "cell_type": "code",
   "execution_count": 4,
   "metadata": {},
   "outputs": [
    {
     "data": {
      "text/plain": [
       "Index(['b', 'c'], dtype='object')"
      ]
     },
     "execution_count": 4,
     "metadata": {},
     "output_type": "execute_result"
    }
   ],
   "source": [
    "df.index[1:3]"
   ]
  },
  {
   "cell_type": "code",
   "execution_count": 15,
   "metadata": {},
   "outputs": [
    {
     "data": {
      "text/html": [
       "<div>\n",
       "<style scoped>\n",
       "    .dataframe tbody tr th:only-of-type {\n",
       "        vertical-align: middle;\n",
       "    }\n",
       "\n",
       "    .dataframe tbody tr th {\n",
       "        vertical-align: top;\n",
       "    }\n",
       "\n",
       "    .dataframe thead th {\n",
       "        text-align: right;\n",
       "    }\n",
       "</style>\n",
       "<table border=\"1\" class=\"dataframe\">\n",
       "  <thead>\n",
       "    <tr style=\"text-align: right;\">\n",
       "      <th></th>\n",
       "      <th>numbers</th>\n",
       "    </tr>\n",
       "  </thead>\n",
       "  <tbody>\n",
       "    <tr>\n",
       "      <th>a</th>\n",
       "      <td>10</td>\n",
       "    </tr>\n",
       "    <tr>\n",
       "      <th>b</th>\n",
       "      <td>20</td>\n",
       "    </tr>\n",
       "    <tr>\n",
       "      <th>c</th>\n",
       "      <td>30</td>\n",
       "    </tr>\n",
       "    <tr>\n",
       "      <th>d</th>\n",
       "      <td>40</td>\n",
       "    </tr>\n",
       "  </tbody>\n",
       "</table>\n",
       "</div>"
      ],
      "text/plain": [
       "   numbers\n",
       "a       10\n",
       "b       20\n",
       "c       30\n",
       "d       40"
      ]
     },
     "execution_count": 15,
     "metadata": {},
     "output_type": "execute_result"
    }
   ],
   "source": [
    "df"
   ]
  },
  {
   "cell_type": "code",
   "execution_count": 7,
   "metadata": {},
   "outputs": [
    {
     "data": {
      "text/plain": [
       "a    10\n",
       "b    20\n",
       "c    30\n",
       "d    40\n",
       "dtype: int64"
      ]
     },
     "execution_count": 7,
     "metadata": {},
     "output_type": "execute_result"
    }
   ],
   "source": [
    "df.sum(axis=1)  # sum per column"
   ]
  },
  {
   "cell_type": "code",
   "execution_count": 16,
   "metadata": {},
   "outputs": [
    {
     "data": {
      "text/html": [
       "<div>\n",
       "<style scoped>\n",
       "    .dataframe tbody tr th:only-of-type {\n",
       "        vertical-align: middle;\n",
       "    }\n",
       "\n",
       "    .dataframe tbody tr th {\n",
       "        vertical-align: top;\n",
       "    }\n",
       "\n",
       "    .dataframe thead th {\n",
       "        text-align: right;\n",
       "    }\n",
       "</style>\n",
       "<table border=\"1\" class=\"dataframe\">\n",
       "  <thead>\n",
       "    <tr style=\"text-align: right;\">\n",
       "      <th></th>\n",
       "      <th>numbers</th>\n",
       "    </tr>\n",
       "  </thead>\n",
       "  <tbody>\n",
       "    <tr>\n",
       "      <th>a</th>\n",
       "      <td>100</td>\n",
       "    </tr>\n",
       "    <tr>\n",
       "      <th>b</th>\n",
       "      <td>400</td>\n",
       "    </tr>\n",
       "    <tr>\n",
       "      <th>c</th>\n",
       "      <td>900</td>\n",
       "    </tr>\n",
       "    <tr>\n",
       "      <th>d</th>\n",
       "      <td>1600</td>\n",
       "    </tr>\n",
       "  </tbody>\n",
       "</table>\n",
       "</div>"
      ],
      "text/plain": [
       "   numbers\n",
       "a      100\n",
       "b      400\n",
       "c      900\n",
       "d     1600"
      ]
     },
     "execution_count": 16,
     "metadata": {},
     "output_type": "execute_result"
    }
   ],
   "source": [
    "df.apply(lambda x: x ** 2)  # square of every element"
   ]
  },
  {
   "cell_type": "code",
   "execution_count": 18,
   "metadata": {},
   "outputs": [
    {
     "data": {
      "text/html": [
       "<div>\n",
       "<style scoped>\n",
       "    .dataframe tbody tr th:only-of-type {\n",
       "        vertical-align: middle;\n",
       "    }\n",
       "\n",
       "    .dataframe tbody tr th {\n",
       "        vertical-align: top;\n",
       "    }\n",
       "\n",
       "    .dataframe thead th {\n",
       "        text-align: right;\n",
       "    }\n",
       "</style>\n",
       "<table border=\"1\" class=\"dataframe\">\n",
       "  <thead>\n",
       "    <tr style=\"text-align: right;\">\n",
       "      <th></th>\n",
       "      <th>numbers</th>\n",
       "    </tr>\n",
       "  </thead>\n",
       "  <tbody>\n",
       "    <tr>\n",
       "      <th>a</th>\n",
       "      <td>100</td>\n",
       "    </tr>\n",
       "    <tr>\n",
       "      <th>b</th>\n",
       "      <td>400</td>\n",
       "    </tr>\n",
       "    <tr>\n",
       "      <th>c</th>\n",
       "      <td>900</td>\n",
       "    </tr>\n",
       "    <tr>\n",
       "      <th>d</th>\n",
       "      <td>1600</td>\n",
       "    </tr>\n",
       "  </tbody>\n",
       "</table>\n",
       "</div>"
      ],
      "text/plain": [
       "   numbers\n",
       "a      100\n",
       "b      400\n",
       "c      900\n",
       "d     1600"
      ]
     },
     "execution_count": 18,
     "metadata": {},
     "output_type": "execute_result"
    }
   ],
   "source": [
    "df ** 2  # again square, this time NumPy-like"
   ]
  },
  {
   "cell_type": "code",
   "execution_count": 19,
   "metadata": {},
   "outputs": [
    {
     "data": {
      "text/html": [
       "<div>\n",
       "<style scoped>\n",
       "    .dataframe tbody tr th:only-of-type {\n",
       "        vertical-align: middle;\n",
       "    }\n",
       "\n",
       "    .dataframe tbody tr th {\n",
       "        vertical-align: top;\n",
       "    }\n",
       "\n",
       "    .dataframe thead th {\n",
       "        text-align: right;\n",
       "    }\n",
       "</style>\n",
       "<table border=\"1\" class=\"dataframe\">\n",
       "  <thead>\n",
       "    <tr style=\"text-align: right;\">\n",
       "      <th></th>\n",
       "      <th>numbers</th>\n",
       "      <th>floats</th>\n",
       "    </tr>\n",
       "  </thead>\n",
       "  <tbody>\n",
       "    <tr>\n",
       "      <th>a</th>\n",
       "      <td>10</td>\n",
       "      <td>1.5</td>\n",
       "    </tr>\n",
       "    <tr>\n",
       "      <th>b</th>\n",
       "      <td>20</td>\n",
       "      <td>2.5</td>\n",
       "    </tr>\n",
       "    <tr>\n",
       "      <th>c</th>\n",
       "      <td>30</td>\n",
       "      <td>3.5</td>\n",
       "    </tr>\n",
       "    <tr>\n",
       "      <th>d</th>\n",
       "      <td>40</td>\n",
       "      <td>4.5</td>\n",
       "    </tr>\n",
       "  </tbody>\n",
       "</table>\n",
       "</div>"
      ],
      "text/plain": [
       "   numbers  floats\n",
       "a       10     1.5\n",
       "b       20     2.5\n",
       "c       30     3.5\n",
       "d       40     4.5"
      ]
     },
     "execution_count": 19,
     "metadata": {},
     "output_type": "execute_result"
    }
   ],
   "source": [
    "df['floats'] = (1.5, 2.5, 3.5, 4.5)\n",
    "  # new column is generated\n",
    "df"
   ]
  },
  {
   "cell_type": "code",
   "execution_count": 20,
   "metadata": {},
   "outputs": [
    {
     "data": {
      "text/plain": [
       "a    1.5\n",
       "b    2.5\n",
       "c    3.5\n",
       "d    4.5\n",
       "Name: floats, dtype: float64"
      ]
     },
     "execution_count": 20,
     "metadata": {},
     "output_type": "execute_result"
    }
   ],
   "source": [
    "df['floats']  # selection of column"
   ]
  },
  {
   "cell_type": "code",
   "execution_count": 21,
   "metadata": {},
   "outputs": [
    {
     "data": {
      "text/html": [
       "<div>\n",
       "<style scoped>\n",
       "    .dataframe tbody tr th:only-of-type {\n",
       "        vertical-align: middle;\n",
       "    }\n",
       "\n",
       "    .dataframe tbody tr th {\n",
       "        vertical-align: top;\n",
       "    }\n",
       "\n",
       "    .dataframe thead th {\n",
       "        text-align: right;\n",
       "    }\n",
       "</style>\n",
       "<table border=\"1\" class=\"dataframe\">\n",
       "  <thead>\n",
       "    <tr style=\"text-align: right;\">\n",
       "      <th></th>\n",
       "      <th>numbers</th>\n",
       "      <th>floats</th>\n",
       "      <th>names</th>\n",
       "    </tr>\n",
       "  </thead>\n",
       "  <tbody>\n",
       "    <tr>\n",
       "      <th>a</th>\n",
       "      <td>10</td>\n",
       "      <td>1.5</td>\n",
       "      <td>Guido</td>\n",
       "    </tr>\n",
       "    <tr>\n",
       "      <th>b</th>\n",
       "      <td>20</td>\n",
       "      <td>2.5</td>\n",
       "      <td>Peter</td>\n",
       "    </tr>\n",
       "    <tr>\n",
       "      <th>c</th>\n",
       "      <td>30</td>\n",
       "      <td>3.5</td>\n",
       "      <td>Travis</td>\n",
       "    </tr>\n",
       "    <tr>\n",
       "      <th>d</th>\n",
       "      <td>40</td>\n",
       "      <td>4.5</td>\n",
       "      <td>Yves</td>\n",
       "    </tr>\n",
       "  </tbody>\n",
       "</table>\n",
       "</div>"
      ],
      "text/plain": [
       "   numbers  floats   names\n",
       "a       10     1.5   Guido\n",
       "b       20     2.5   Peter\n",
       "c       30     3.5  Travis\n",
       "d       40     4.5    Yves"
      ]
     },
     "execution_count": 21,
     "metadata": {},
     "output_type": "execute_result"
    }
   ],
   "source": [
    "df['names'] = pd.DataFrame(['Yves', 'Guido', 'Peter', 'Travis'],\n",
    "                           index=['d', 'a', 'b', 'c'])\n",
    "df"
   ]
  },
  {
   "cell_type": "code",
   "execution_count": 22,
   "metadata": {},
   "outputs": [
    {
     "data": {
      "text/html": [
       "<div>\n",
       "<style scoped>\n",
       "    .dataframe tbody tr th:only-of-type {\n",
       "        vertical-align: middle;\n",
       "    }\n",
       "\n",
       "    .dataframe tbody tr th {\n",
       "        vertical-align: top;\n",
       "    }\n",
       "\n",
       "    .dataframe thead th {\n",
       "        text-align: right;\n",
       "    }\n",
       "</style>\n",
       "<table border=\"1\" class=\"dataframe\">\n",
       "  <thead>\n",
       "    <tr style=\"text-align: right;\">\n",
       "      <th></th>\n",
       "      <th>numbers</th>\n",
       "      <th>floats</th>\n",
       "      <th>names</th>\n",
       "    </tr>\n",
       "  </thead>\n",
       "  <tbody>\n",
       "    <tr>\n",
       "      <th>0</th>\n",
       "      <td>10</td>\n",
       "      <td>1.50</td>\n",
       "      <td>Guido</td>\n",
       "    </tr>\n",
       "    <tr>\n",
       "      <th>1</th>\n",
       "      <td>20</td>\n",
       "      <td>2.50</td>\n",
       "      <td>Peter</td>\n",
       "    </tr>\n",
       "    <tr>\n",
       "      <th>2</th>\n",
       "      <td>30</td>\n",
       "      <td>3.50</td>\n",
       "      <td>Travis</td>\n",
       "    </tr>\n",
       "    <tr>\n",
       "      <th>3</th>\n",
       "      <td>40</td>\n",
       "      <td>4.50</td>\n",
       "      <td>Yves</td>\n",
       "    </tr>\n",
       "    <tr>\n",
       "      <th>4</th>\n",
       "      <td>100</td>\n",
       "      <td>5.75</td>\n",
       "      <td>Henry</td>\n",
       "    </tr>\n",
       "  </tbody>\n",
       "</table>\n",
       "</div>"
      ],
      "text/plain": [
       "   numbers  floats   names\n",
       "0       10    1.50   Guido\n",
       "1       20    2.50   Peter\n",
       "2       30    3.50  Travis\n",
       "3       40    4.50    Yves\n",
       "4      100    5.75   Henry"
      ]
     },
     "execution_count": 22,
     "metadata": {},
     "output_type": "execute_result"
    }
   ],
   "source": [
    "df.append({'numbers': 100, 'floats': 5.75, 'names': 'Henry'},\n",
    "               ignore_index=True)\n",
    "    # temporary object; df not changed\n",
    "    # the index gets replaced by a simple numbered index\n",
    "    # avoid ignoring index"
   ]
  },
  {
   "cell_type": "code",
   "execution_count": 23,
   "metadata": {},
   "outputs": [
    {
     "data": {
      "text/html": [
       "<div>\n",
       "<style scoped>\n",
       "    .dataframe tbody tr th:only-of-type {\n",
       "        vertical-align: middle;\n",
       "    }\n",
       "\n",
       "    .dataframe tbody tr th {\n",
       "        vertical-align: top;\n",
       "    }\n",
       "\n",
       "    .dataframe thead th {\n",
       "        text-align: right;\n",
       "    }\n",
       "</style>\n",
       "<table border=\"1\" class=\"dataframe\">\n",
       "  <thead>\n",
       "    <tr style=\"text-align: right;\">\n",
       "      <th></th>\n",
       "      <th>numbers</th>\n",
       "      <th>floats</th>\n",
       "      <th>names</th>\n",
       "    </tr>\n",
       "  </thead>\n",
       "  <tbody>\n",
       "    <tr>\n",
       "      <th>a</th>\n",
       "      <td>10</td>\n",
       "      <td>1.50</td>\n",
       "      <td>Guido</td>\n",
       "    </tr>\n",
       "    <tr>\n",
       "      <th>b</th>\n",
       "      <td>20</td>\n",
       "      <td>2.50</td>\n",
       "      <td>Peter</td>\n",
       "    </tr>\n",
       "    <tr>\n",
       "      <th>c</th>\n",
       "      <td>30</td>\n",
       "      <td>3.50</td>\n",
       "      <td>Travis</td>\n",
       "    </tr>\n",
       "    <tr>\n",
       "      <th>d</th>\n",
       "      <td>40</td>\n",
       "      <td>4.50</td>\n",
       "      <td>Yves</td>\n",
       "    </tr>\n",
       "    <tr>\n",
       "      <th>z</th>\n",
       "      <td>100</td>\n",
       "      <td>5.75</td>\n",
       "      <td>Henry</td>\n",
       "    </tr>\n",
       "  </tbody>\n",
       "</table>\n",
       "</div>"
      ],
      "text/plain": [
       "   numbers  floats   names\n",
       "a       10    1.50   Guido\n",
       "b       20    2.50   Peter\n",
       "c       30    3.50  Travis\n",
       "d       40    4.50    Yves\n",
       "z      100    5.75   Henry"
      ]
     },
     "execution_count": 23,
     "metadata": {},
     "output_type": "execute_result"
    }
   ],
   "source": [
    "# It is  better to append a DataFrame object, \n",
    "# providing the appropriate index information\n",
    "\n",
    "df = df.append(pd.DataFrame({'numbers': 100, 'floats': 5.75,\n",
    "                             'names': 'Henry'}, index=['z',]))\n",
    "df"
   ]
  },
  {
   "cell_type": "code",
   "execution_count": 24,
   "metadata": {},
   "outputs": [
    {
     "data": {
      "text/html": [
       "<div>\n",
       "<style scoped>\n",
       "    .dataframe tbody tr th:only-of-type {\n",
       "        vertical-align: middle;\n",
       "    }\n",
       "\n",
       "    .dataframe tbody tr th {\n",
       "        vertical-align: top;\n",
       "    }\n",
       "\n",
       "    .dataframe thead th {\n",
       "        text-align: right;\n",
       "    }\n",
       "</style>\n",
       "<table border=\"1\" class=\"dataframe\">\n",
       "  <thead>\n",
       "    <tr style=\"text-align: right;\">\n",
       "      <th></th>\n",
       "      <th>numbers</th>\n",
       "      <th>floats</th>\n",
       "      <th>names</th>\n",
       "      <th>squares</th>\n",
       "    </tr>\n",
       "  </thead>\n",
       "  <tbody>\n",
       "    <tr>\n",
       "      <th>a</th>\n",
       "      <td>10</td>\n",
       "      <td>1.50</td>\n",
       "      <td>Guido</td>\n",
       "      <td>1.0</td>\n",
       "    </tr>\n",
       "    <tr>\n",
       "      <th>b</th>\n",
       "      <td>20</td>\n",
       "      <td>2.50</td>\n",
       "      <td>Peter</td>\n",
       "      <td>4.0</td>\n",
       "    </tr>\n",
       "    <tr>\n",
       "      <th>c</th>\n",
       "      <td>30</td>\n",
       "      <td>3.50</td>\n",
       "      <td>Travis</td>\n",
       "      <td>9.0</td>\n",
       "    </tr>\n",
       "    <tr>\n",
       "      <th>d</th>\n",
       "      <td>40</td>\n",
       "      <td>4.50</td>\n",
       "      <td>Yves</td>\n",
       "      <td>16.0</td>\n",
       "    </tr>\n",
       "    <tr>\n",
       "      <th>z</th>\n",
       "      <td>100</td>\n",
       "      <td>5.75</td>\n",
       "      <td>Henry</td>\n",
       "      <td>NaN</td>\n",
       "    </tr>\n",
       "  </tbody>\n",
       "</table>\n",
       "</div>"
      ],
      "text/plain": [
       "   numbers  floats   names  squares\n",
       "a       10    1.50   Guido      1.0\n",
       "b       20    2.50   Peter      4.0\n",
       "c       30    3.50  Travis      9.0\n",
       "d       40    4.50    Yves     16.0\n",
       "z      100    5.75   Henry      NaN"
      ]
     },
     "execution_count": 24,
     "metadata": {},
     "output_type": "execute_result"
    }
   ],
   "source": [
    "# The following code  adds a new column, but with a slightly different index.\n",
    "# Pandas by default accepts only values for those indices that already exist. \n",
    "# We lose the value for the index y and have a NaN value \n",
    "# (i.e., “Not a Number”) at index position z.\n",
    "\n",
    "df.join(pd.DataFrame([1, 4, 9, 16, 25],\n",
    "            index=['a', 'b', 'c', 'd', 'y'],\n",
    "            columns=['squares',]))\n",
    "  # temporary object"
   ]
  },
  {
   "cell_type": "code",
   "execution_count": 25,
   "metadata": {},
   "outputs": [
    {
     "data": {
      "text/html": [
       "<div>\n",
       "<style scoped>\n",
       "    .dataframe tbody tr th:only-of-type {\n",
       "        vertical-align: middle;\n",
       "    }\n",
       "\n",
       "    .dataframe tbody tr th {\n",
       "        vertical-align: top;\n",
       "    }\n",
       "\n",
       "    .dataframe thead th {\n",
       "        text-align: right;\n",
       "    }\n",
       "</style>\n",
       "<table border=\"1\" class=\"dataframe\">\n",
       "  <thead>\n",
       "    <tr style=\"text-align: right;\">\n",
       "      <th></th>\n",
       "      <th>numbers</th>\n",
       "      <th>floats</th>\n",
       "      <th>names</th>\n",
       "      <th>squares</th>\n",
       "    </tr>\n",
       "  </thead>\n",
       "  <tbody>\n",
       "    <tr>\n",
       "      <th>a</th>\n",
       "      <td>10.0</td>\n",
       "      <td>1.50</td>\n",
       "      <td>Guido</td>\n",
       "      <td>1.0</td>\n",
       "    </tr>\n",
       "    <tr>\n",
       "      <th>b</th>\n",
       "      <td>20.0</td>\n",
       "      <td>2.50</td>\n",
       "      <td>Peter</td>\n",
       "      <td>4.0</td>\n",
       "    </tr>\n",
       "    <tr>\n",
       "      <th>c</th>\n",
       "      <td>30.0</td>\n",
       "      <td>3.50</td>\n",
       "      <td>Travis</td>\n",
       "      <td>9.0</td>\n",
       "    </tr>\n",
       "    <tr>\n",
       "      <th>d</th>\n",
       "      <td>40.0</td>\n",
       "      <td>4.50</td>\n",
       "      <td>Yves</td>\n",
       "      <td>16.0</td>\n",
       "    </tr>\n",
       "    <tr>\n",
       "      <th>y</th>\n",
       "      <td>NaN</td>\n",
       "      <td>NaN</td>\n",
       "      <td>NaN</td>\n",
       "      <td>25.0</td>\n",
       "    </tr>\n",
       "    <tr>\n",
       "      <th>z</th>\n",
       "      <td>100.0</td>\n",
       "      <td>5.75</td>\n",
       "      <td>Henry</td>\n",
       "      <td>NaN</td>\n",
       "    </tr>\n",
       "  </tbody>\n",
       "</table>\n",
       "</div>"
      ],
      "text/plain": [
       "   numbers  floats   names  squares\n",
       "a     10.0    1.50   Guido      1.0\n",
       "b     20.0    2.50   Peter      4.0\n",
       "c     30.0    3.50  Travis      9.0\n",
       "d     40.0    4.50    Yves     16.0\n",
       "y      NaN     NaN     NaN     25.0\n",
       "z    100.0    5.75   Henry      NaN"
      ]
     },
     "execution_count": 25,
     "metadata": {},
     "output_type": "execute_result"
    }
   ],
   "source": [
    "# we use how=“outer” to use the union of all values from both indices\n",
    "\n",
    "df = df.join(pd.DataFrame([1, 4, 9, 16, 25],\n",
    "                    index=['a', 'b', 'c', 'd', 'y'],\n",
    "                    columns=['squares',]),\n",
    "                    how='outer')\n",
    "df"
   ]
  },
  {
   "cell_type": "code",
   "execution_count": 26,
   "metadata": {},
   "outputs": [
    {
     "data": {
      "text/plain": [
       "numbers    40.0\n",
       "squares    11.0\n",
       "dtype: float64"
      ]
     },
     "execution_count": 26,
     "metadata": {},
     "output_type": "execute_result"
    }
   ],
   "source": [
    "df[['numbers', 'squares']].mean()\n",
    "  # column-wise mean"
   ]
  },
  {
   "cell_type": "code",
   "execution_count": 27,
   "metadata": {},
   "outputs": [
    {
     "data": {
      "text/plain": [
       "numbers    35.355339\n",
       "squares     9.669540\n",
       "dtype: float64"
      ]
     },
     "execution_count": 27,
     "metadata": {},
     "output_type": "execute_result"
    }
   ],
   "source": [
    "df[['numbers', 'squares']].std()\n",
    "  # column-wise standard deviation"
   ]
  },
  {
   "cell_type": "markdown",
   "metadata": {},
   "source": [
    "**Second Steps with DataFrame Class**"
   ]
  },
  {
   "cell_type": "code",
   "execution_count": 93,
   "metadata": {},
   "outputs": [
    {
     "data": {
      "text/plain": [
       "array([[-1.985500e+00, -9.748620e-01,  2.316482e+00, -8.425800e-02],\n",
       "       [ 7.140000e-04,  1.950669e+00, -1.222839e+00, -5.686010e-01],\n",
       "       [-9.642510e-01,  9.100640e-01, -3.869720e-01, -5.616400e-01],\n",
       "       [-8.693500e-02,  5.867450e-01, -2.275285e+00,  1.192219e+00],\n",
       "       [-1.533826e+00, -3.878340e-01,  4.475800e-01, -5.823500e-01],\n",
       "       [-1.394570e+00, -2.359788e+00, -1.786899e+00,  1.439917e+00],\n",
       "       [-5.281610e-01, -4.499670e-01,  2.504859e+00, -2.705220e-01],\n",
       "       [ 3.685980e-01, -1.498820e-01, -1.304906e+00, -1.042842e+00],\n",
       "       [ 2.822700e-02, -6.977030e-01, -9.738000e-03, -1.158279e+00]])"
      ]
     },
     "execution_count": 93,
     "metadata": {},
     "output_type": "execute_result"
    }
   ],
   "source": [
    "# Let's generate a numpy.ndarry with, with  nine rows and four columns \n",
    "# of  pseudorandom, standard normally distributed numbers\n",
    "\n",
    "a = np.random.standard_normal((9, 4))\n",
    "a.round(6)"
   ]
  },
  {
   "cell_type": "code",
   "execution_count": 94,
   "metadata": {},
   "outputs": [
    {
     "data": {
      "text/html": [
       "<div>\n",
       "<style scoped>\n",
       "    .dataframe tbody tr th:only-of-type {\n",
       "        vertical-align: middle;\n",
       "    }\n",
       "\n",
       "    .dataframe tbody tr th {\n",
       "        vertical-align: top;\n",
       "    }\n",
       "\n",
       "    .dataframe thead th {\n",
       "        text-align: right;\n",
       "    }\n",
       "</style>\n",
       "<table border=\"1\" class=\"dataframe\">\n",
       "  <thead>\n",
       "    <tr style=\"text-align: right;\">\n",
       "      <th></th>\n",
       "      <th>0</th>\n",
       "      <th>1</th>\n",
       "      <th>2</th>\n",
       "      <th>3</th>\n",
       "    </tr>\n",
       "  </thead>\n",
       "  <tbody>\n",
       "    <tr>\n",
       "      <th>0</th>\n",
       "      <td>-1.985500</td>\n",
       "      <td>-0.974862</td>\n",
       "      <td>2.316482</td>\n",
       "      <td>-0.084258</td>\n",
       "    </tr>\n",
       "    <tr>\n",
       "      <th>1</th>\n",
       "      <td>0.000714</td>\n",
       "      <td>1.950669</td>\n",
       "      <td>-1.222839</td>\n",
       "      <td>-0.568601</td>\n",
       "    </tr>\n",
       "    <tr>\n",
       "      <th>2</th>\n",
       "      <td>-0.964251</td>\n",
       "      <td>0.910064</td>\n",
       "      <td>-0.386972</td>\n",
       "      <td>-0.561640</td>\n",
       "    </tr>\n",
       "    <tr>\n",
       "      <th>3</th>\n",
       "      <td>-0.086935</td>\n",
       "      <td>0.586745</td>\n",
       "      <td>-2.275285</td>\n",
       "      <td>1.192219</td>\n",
       "    </tr>\n",
       "    <tr>\n",
       "      <th>4</th>\n",
       "      <td>-1.533826</td>\n",
       "      <td>-0.387834</td>\n",
       "      <td>0.447580</td>\n",
       "      <td>-0.582350</td>\n",
       "    </tr>\n",
       "    <tr>\n",
       "      <th>5</th>\n",
       "      <td>-1.394570</td>\n",
       "      <td>-2.359788</td>\n",
       "      <td>-1.786899</td>\n",
       "      <td>1.439917</td>\n",
       "    </tr>\n",
       "    <tr>\n",
       "      <th>6</th>\n",
       "      <td>-0.528161</td>\n",
       "      <td>-0.449967</td>\n",
       "      <td>2.504859</td>\n",
       "      <td>-0.270522</td>\n",
       "    </tr>\n",
       "    <tr>\n",
       "      <th>7</th>\n",
       "      <td>0.368598</td>\n",
       "      <td>-0.149882</td>\n",
       "      <td>-1.304906</td>\n",
       "      <td>-1.042842</td>\n",
       "    </tr>\n",
       "    <tr>\n",
       "      <th>8</th>\n",
       "      <td>0.028227</td>\n",
       "      <td>-0.697703</td>\n",
       "      <td>-0.009738</td>\n",
       "      <td>-1.158279</td>\n",
       "    </tr>\n",
       "  </tbody>\n",
       "</table>\n",
       "</div>"
      ],
      "text/plain": [
       "          0         1         2         3\n",
       "0 -1.985500 -0.974862  2.316482 -0.084258\n",
       "1  0.000714  1.950669 -1.222839 -0.568601\n",
       "2 -0.964251  0.910064 -0.386972 -0.561640\n",
       "3 -0.086935  0.586745 -2.275285  1.192219\n",
       "4 -1.533826 -0.387834  0.447580 -0.582350\n",
       "5 -1.394570 -2.359788 -1.786899  1.439917\n",
       "6 -0.528161 -0.449967  2.504859 -0.270522\n",
       "7  0.368598 -0.149882 -1.304906 -1.042842\n",
       "8  0.028227 -0.697703 -0.009738 -1.158279"
      ]
     },
     "execution_count": 94,
     "metadata": {},
     "output_type": "execute_result"
    }
   ],
   "source": [
    "df = pd.DataFrame(a)\n",
    "df"
   ]
  },
  {
   "cell_type": "code",
   "execution_count": 7,
   "metadata": {
    "collapsed": true
   },
   "outputs": [],
   "source": [
    "#  Parameters of DataFrame function\n",
    "# Parameter Format                   Description\n",
    "# --------- ------                   -----------\n",
    "# data      ndarray/dict/DataFrame   Data for DataFrame; dict can contain Series, ndarrays, lists\n",
    "# index     Index/array-like         Index to use; defaults to range(n)\n",
    "# columns   Index/array-like         Column headers to use; defaults to range(n)\n",
    "# dtype     dtype, default None      Data type to use/force; otherwise, it is inferred\n",
    "# copy      bool, default None       Copy data from inputs"
   ]
  },
  {
   "cell_type": "code",
   "execution_count": 99,
   "metadata": {},
   "outputs": [
    {
     "data": {
      "text/html": [
       "<div>\n",
       "<style scoped>\n",
       "    .dataframe tbody tr th:only-of-type {\n",
       "        vertical-align: middle;\n",
       "    }\n",
       "\n",
       "    .dataframe tbody tr th {\n",
       "        vertical-align: top;\n",
       "    }\n",
       "\n",
       "    .dataframe thead th {\n",
       "        text-align: right;\n",
       "    }\n",
       "</style>\n",
       "<table border=\"1\" class=\"dataframe\">\n",
       "  <thead>\n",
       "    <tr style=\"text-align: right;\">\n",
       "      <th></th>\n",
       "      <th>No1</th>\n",
       "      <th>No2</th>\n",
       "      <th>No3</th>\n",
       "      <th>No4</th>\n",
       "    </tr>\n",
       "  </thead>\n",
       "  <tbody>\n",
       "    <tr>\n",
       "      <th>0</th>\n",
       "      <td>-1.985500</td>\n",
       "      <td>-0.974862</td>\n",
       "      <td>2.316482</td>\n",
       "      <td>-0.084258</td>\n",
       "    </tr>\n",
       "    <tr>\n",
       "      <th>1</th>\n",
       "      <td>0.000714</td>\n",
       "      <td>1.950669</td>\n",
       "      <td>-1.222839</td>\n",
       "      <td>-0.568601</td>\n",
       "    </tr>\n",
       "    <tr>\n",
       "      <th>2</th>\n",
       "      <td>-0.964251</td>\n",
       "      <td>0.910064</td>\n",
       "      <td>-0.386972</td>\n",
       "      <td>-0.561640</td>\n",
       "    </tr>\n",
       "    <tr>\n",
       "      <th>3</th>\n",
       "      <td>-0.086935</td>\n",
       "      <td>0.586745</td>\n",
       "      <td>-2.275285</td>\n",
       "      <td>1.192219</td>\n",
       "    </tr>\n",
       "    <tr>\n",
       "      <th>4</th>\n",
       "      <td>-1.533826</td>\n",
       "      <td>-0.387834</td>\n",
       "      <td>0.447580</td>\n",
       "      <td>-0.582350</td>\n",
       "    </tr>\n",
       "    <tr>\n",
       "      <th>5</th>\n",
       "      <td>-1.394570</td>\n",
       "      <td>-2.359788</td>\n",
       "      <td>-1.786899</td>\n",
       "      <td>1.439917</td>\n",
       "    </tr>\n",
       "    <tr>\n",
       "      <th>6</th>\n",
       "      <td>-0.528161</td>\n",
       "      <td>-0.449967</td>\n",
       "      <td>2.504859</td>\n",
       "      <td>-0.270522</td>\n",
       "    </tr>\n",
       "    <tr>\n",
       "      <th>7</th>\n",
       "      <td>0.368598</td>\n",
       "      <td>-0.149882</td>\n",
       "      <td>-1.304906</td>\n",
       "      <td>-1.042842</td>\n",
       "    </tr>\n",
       "    <tr>\n",
       "      <th>8</th>\n",
       "      <td>0.028227</td>\n",
       "      <td>-0.697703</td>\n",
       "      <td>-0.009738</td>\n",
       "      <td>-1.158279</td>\n",
       "    </tr>\n",
       "  </tbody>\n",
       "</table>\n",
       "</div>"
      ],
      "text/plain": [
       "        No1       No2       No3       No4\n",
       "0 -1.985500 -0.974862  2.316482 -0.084258\n",
       "1  0.000714  1.950669 -1.222839 -0.568601\n",
       "2 -0.964251  0.910064 -0.386972 -0.561640\n",
       "3 -0.086935  0.586745 -2.275285  1.192219\n",
       "4 -1.533826 -0.387834  0.447580 -0.582350\n",
       "5 -1.394570 -2.359788 -1.786899  1.439917\n",
       "6 -0.528161 -0.449967  2.504859 -0.270522\n",
       "7  0.368598 -0.149882 -1.304906 -1.042842\n",
       "8  0.028227 -0.697703 -0.009738 -1.158279"
      ]
     },
     "execution_count": 99,
     "metadata": {},
     "output_type": "execute_result"
    }
   ],
   "source": [
    "df.columns = ['No1', 'No2', 'No3', 'No4']\n",
    "df"
   ]
  },
  {
   "cell_type": "code",
   "execution_count": 100,
   "metadata": {},
   "outputs": [
    {
     "data": {
      "text/plain": [
       "Index(['No1', 'No2', 'No3', 'No4'], dtype='object')"
      ]
     },
     "execution_count": 100,
     "metadata": {},
     "output_type": "execute_result"
    }
   ],
   "source": [
    "df.columns"
   ]
  },
  {
   "cell_type": "code",
   "execution_count": 32,
   "metadata": {},
   "outputs": [
    {
     "data": {
      "text/plain": [
       "No2    0.067533\n",
       "Name: 3, dtype: float64"
      ]
     },
     "execution_count": 32,
     "metadata": {},
     "output_type": "execute_result"
    }
   ],
   "source": [
    "df['No2'].loc[3]  # value in column No2 at index position 3"
   ]
  },
  {
   "cell_type": "code",
   "execution_count": 33,
   "metadata": {},
   "outputs": [
    {
     "data": {
      "text/plain": [
       "DatetimeIndex(['2015-01-31', '2015-02-28', '2015-03-31', '2015-04-30',\n",
       "               '2015-05-31', '2015-06-30', '2015-07-31', '2015-08-31',\n",
       "               '2015-09-30'],\n",
       "              dtype='datetime64[ns]', freq='M')"
      ]
     },
     "execution_count": 33,
     "metadata": {},
     "output_type": "execute_result"
    }
   ],
   "source": [
    "# assume that our nine data entries in the four columns correspond to\n",
    "# month-end data, beginning in January 2015.\n",
    "\n",
    "# freq = 'M'     Month end frequency  (See Table 6.3)\n",
    "# periods = 9    number of periods \n",
    "\n",
    "dates = pd.date_range('2015-1-1', periods=9, freq='M')\n",
    "dates"
   ]
  },
  {
   "cell_type": "code",
   "execution_count": 82,
   "metadata": {},
   "outputs": [
    {
     "data": {
      "text/html": [
       "<div>\n",
       "<style scoped>\n",
       "    .dataframe tbody tr th:only-of-type {\n",
       "        vertical-align: middle;\n",
       "    }\n",
       "\n",
       "    .dataframe tbody tr th {\n",
       "        vertical-align: top;\n",
       "    }\n",
       "\n",
       "    .dataframe thead tr th {\n",
       "        text-align: left;\n",
       "    }\n",
       "</style>\n",
       "<table border=\"1\" class=\"dataframe\">\n",
       "  <thead>\n",
       "    <tr>\n",
       "      <th></th>\n",
       "      <th>No1</th>\n",
       "      <th>No2</th>\n",
       "      <th>No3</th>\n",
       "      <th>No4</th>\n",
       "    </tr>\n",
       "  </thead>\n",
       "  <tbody>\n",
       "    <tr>\n",
       "      <th>2015-01-31</th>\n",
       "      <td>-0.223773</td>\n",
       "      <td>-0.632451</td>\n",
       "      <td>-1.669138</td>\n",
       "      <td>0.143991</td>\n",
       "    </tr>\n",
       "    <tr>\n",
       "      <th>2015-02-28</th>\n",
       "      <td>0.230734</td>\n",
       "      <td>1.317229</td>\n",
       "      <td>0.011095</td>\n",
       "      <td>-0.910279</td>\n",
       "    </tr>\n",
       "    <tr>\n",
       "      <th>2015-03-31</th>\n",
       "      <td>-0.021768</td>\n",
       "      <td>0.894276</td>\n",
       "      <td>0.110953</td>\n",
       "      <td>0.646183</td>\n",
       "    </tr>\n",
       "    <tr>\n",
       "      <th>2015-04-30</th>\n",
       "      <td>-0.031041</td>\n",
       "      <td>1.055389</td>\n",
       "      <td>-0.297306</td>\n",
       "      <td>0.179135</td>\n",
       "    </tr>\n",
       "    <tr>\n",
       "      <th>2015-05-31</th>\n",
       "      <td>1.243623</td>\n",
       "      <td>-1.246282</td>\n",
       "      <td>0.949306</td>\n",
       "      <td>-1.055247</td>\n",
       "    </tr>\n",
       "    <tr>\n",
       "      <th>2015-06-30</th>\n",
       "      <td>0.361356</td>\n",
       "      <td>-0.472813</td>\n",
       "      <td>-0.467294</td>\n",
       "      <td>0.188044</td>\n",
       "    </tr>\n",
       "    <tr>\n",
       "      <th>2015-07-31</th>\n",
       "      <td>-0.784584</td>\n",
       "      <td>0.222173</td>\n",
       "      <td>-0.820245</td>\n",
       "      <td>2.572906</td>\n",
       "    </tr>\n",
       "    <tr>\n",
       "      <th>2015-08-31</th>\n",
       "      <td>0.484065</td>\n",
       "      <td>-0.948094</td>\n",
       "      <td>-0.581043</td>\n",
       "      <td>-0.938547</td>\n",
       "    </tr>\n",
       "    <tr>\n",
       "      <th>2015-09-30</th>\n",
       "      <td>-0.155354</td>\n",
       "      <td>1.044066</td>\n",
       "      <td>0.539766</td>\n",
       "      <td>-2.653969</td>\n",
       "    </tr>\n",
       "  </tbody>\n",
       "</table>\n",
       "</div>"
      ],
      "text/plain": [
       "                 No1       No2       No3       No4\n",
       "2015-01-31 -0.223773 -0.632451 -1.669138  0.143991\n",
       "2015-02-28  0.230734  1.317229  0.011095 -0.910279\n",
       "2015-03-31 -0.021768  0.894276  0.110953  0.646183\n",
       "2015-04-30 -0.031041  1.055389 -0.297306  0.179135\n",
       "2015-05-31  1.243623 -1.246282  0.949306 -1.055247\n",
       "2015-06-30  0.361356 -0.472813 -0.467294  0.188044\n",
       "2015-07-31 -0.784584  0.222173 -0.820245  2.572906\n",
       "2015-08-31  0.484065 -0.948094 -0.581043 -0.938547\n",
       "2015-09-30 -0.155354  1.044066  0.539766 -2.653969"
      ]
     },
     "execution_count": 82,
     "metadata": {},
     "output_type": "execute_result"
    }
   ],
   "source": [
    "# we assign the newly generated DatetimeIndex \n",
    "# as the new Index object to the DataFrame object\n",
    "\n",
    "df.index = dates\n",
    "df"
   ]
  },
  {
   "cell_type": "code",
   "execution_count": 35,
   "metadata": {},
   "outputs": [
    {
     "data": {
      "text/plain": [
       "array([[-1.472727,  0.852144,  0.743174,  0.350744],\n",
       "       [-0.644485, -0.998382, -0.038649, -0.985248],\n",
       "       [ 0.007714,  0.634279, -0.649456,  0.713492],\n",
       "       [ 0.474794,  0.067533, -0.700208,  0.309814],\n",
       "       [ 0.710978, -0.159839, -0.043638, -0.117871],\n",
       "       [ 0.831812,  0.05395 ,  0.306022, -0.787363],\n",
       "       [ 1.331667, -0.249252, -1.205049,  0.587488],\n",
       "       [ 0.338746, -0.913581,  0.202414, -0.74529 ],\n",
       "       [-0.938748, -1.04394 ,  0.106201,  0.035294]])"
      ]
     },
     "execution_count": 35,
     "metadata": {},
     "output_type": "execute_result"
    }
   ],
   "source": [
    "# You can generate a DataFrame object in general from an ndarray object. \n",
    "# You can also generate an ndarray object out of a DataFrame by using the function array of NumPy.\n",
    "\n",
    "np.array(df).round(6)"
   ]
  },
  {
   "cell_type": "markdown",
   "metadata": {},
   "source": [
    "### Basic Analytics"
   ]
  },
  {
   "cell_type": "code",
   "execution_count": 36,
   "metadata": {},
   "outputs": [
    {
     "data": {
      "text/plain": [
       "No1    0.639750\n",
       "No2   -1.757088\n",
       "No3   -1.279189\n",
       "No4   -0.638940\n",
       "dtype: float64"
      ]
     },
     "execution_count": 36,
     "metadata": {},
     "output_type": "execute_result"
    }
   ],
   "source": [
    "df.sum()   # column-wise sums"
   ]
  },
  {
   "cell_type": "code",
   "execution_count": 37,
   "metadata": {},
   "outputs": [
    {
     "data": {
      "text/plain": [
       "No1    0.071083\n",
       "No2   -0.195232\n",
       "No3   -0.142132\n",
       "No4   -0.070993\n",
       "dtype: float64"
      ]
     },
     "execution_count": 37,
     "metadata": {},
     "output_type": "execute_result"
    }
   ],
   "source": [
    "df.mean()   # column-wise means"
   ]
  },
  {
   "cell_type": "code",
   "execution_count": 39,
   "metadata": {},
   "outputs": [
    {
     "data": {
      "text/html": [
       "<div>\n",
       "<style scoped>\n",
       "    .dataframe tbody tr th:only-of-type {\n",
       "        vertical-align: middle;\n",
       "    }\n",
       "\n",
       "    .dataframe tbody tr th {\n",
       "        vertical-align: top;\n",
       "    }\n",
       "\n",
       "    .dataframe thead tr th {\n",
       "        text-align: left;\n",
       "    }\n",
       "</style>\n",
       "<table border=\"1\" class=\"dataframe\">\n",
       "  <thead>\n",
       "    <tr>\n",
       "      <th></th>\n",
       "      <th>No1</th>\n",
       "      <th>No2</th>\n",
       "      <th>No3</th>\n",
       "      <th>No4</th>\n",
       "    </tr>\n",
       "  </thead>\n",
       "  <tbody>\n",
       "    <tr>\n",
       "      <th>2015-01-31</th>\n",
       "      <td>-1.472727</td>\n",
       "      <td>0.852144</td>\n",
       "      <td>0.743174</td>\n",
       "      <td>0.350744</td>\n",
       "    </tr>\n",
       "    <tr>\n",
       "      <th>2015-02-28</th>\n",
       "      <td>-0.644485</td>\n",
       "      <td>-0.998382</td>\n",
       "      <td>-0.038649</td>\n",
       "      <td>-0.985248</td>\n",
       "    </tr>\n",
       "    <tr>\n",
       "      <th>2015-03-31</th>\n",
       "      <td>0.007714</td>\n",
       "      <td>0.634279</td>\n",
       "      <td>-0.649456</td>\n",
       "      <td>0.713492</td>\n",
       "    </tr>\n",
       "    <tr>\n",
       "      <th>2015-04-30</th>\n",
       "      <td>0.474794</td>\n",
       "      <td>0.067533</td>\n",
       "      <td>-0.700208</td>\n",
       "      <td>0.309814</td>\n",
       "    </tr>\n",
       "    <tr>\n",
       "      <th>2015-05-31</th>\n",
       "      <td>0.710978</td>\n",
       "      <td>-0.159839</td>\n",
       "      <td>-0.043638</td>\n",
       "      <td>-0.117871</td>\n",
       "    </tr>\n",
       "    <tr>\n",
       "      <th>2015-06-30</th>\n",
       "      <td>0.831812</td>\n",
       "      <td>0.053950</td>\n",
       "      <td>0.306022</td>\n",
       "      <td>-0.787363</td>\n",
       "    </tr>\n",
       "    <tr>\n",
       "      <th>2015-07-31</th>\n",
       "      <td>1.331667</td>\n",
       "      <td>-0.249252</td>\n",
       "      <td>-1.205049</td>\n",
       "      <td>0.587488</td>\n",
       "    </tr>\n",
       "    <tr>\n",
       "      <th>2015-08-31</th>\n",
       "      <td>0.338746</td>\n",
       "      <td>-0.913581</td>\n",
       "      <td>0.202414</td>\n",
       "      <td>-0.745290</td>\n",
       "    </tr>\n",
       "    <tr>\n",
       "      <th>2015-09-30</th>\n",
       "      <td>-0.938748</td>\n",
       "      <td>-1.043940</td>\n",
       "      <td>0.106201</td>\n",
       "      <td>0.035294</td>\n",
       "    </tr>\n",
       "  </tbody>\n",
       "</table>\n",
       "</div>"
      ],
      "text/plain": [
       "                 No1       No2       No3       No4\n",
       "2015-01-31 -1.472727  0.852144  0.743174  0.350744\n",
       "2015-02-28 -0.644485 -0.998382 -0.038649 -0.985248\n",
       "2015-03-31  0.007714  0.634279 -0.649456  0.713492\n",
       "2015-04-30  0.474794  0.067533 -0.700208  0.309814\n",
       "2015-05-31  0.710978 -0.159839 -0.043638 -0.117871\n",
       "2015-06-30  0.831812  0.053950  0.306022 -0.787363\n",
       "2015-07-31  1.331667 -0.249252 -1.205049  0.587488\n",
       "2015-08-31  0.338746 -0.913581  0.202414 -0.745290\n",
       "2015-09-30 -0.938748 -1.043940  0.106201  0.035294"
      ]
     },
     "execution_count": 39,
     "metadata": {},
     "output_type": "execute_result"
    }
   ],
   "source": [
    "df"
   ]
  },
  {
   "cell_type": "code",
   "execution_count": 38,
   "metadata": {},
   "outputs": [
    {
     "data": {
      "text/html": [
       "<div>\n",
       "<style scoped>\n",
       "    .dataframe tbody tr th:only-of-type {\n",
       "        vertical-align: middle;\n",
       "    }\n",
       "\n",
       "    .dataframe tbody tr th {\n",
       "        vertical-align: top;\n",
       "    }\n",
       "\n",
       "    .dataframe thead tr th {\n",
       "        text-align: left;\n",
       "    }\n",
       "</style>\n",
       "<table border=\"1\" class=\"dataframe\">\n",
       "  <thead>\n",
       "    <tr>\n",
       "      <th></th>\n",
       "      <th>No1</th>\n",
       "      <th>No2</th>\n",
       "      <th>No3</th>\n",
       "      <th>No4</th>\n",
       "    </tr>\n",
       "  </thead>\n",
       "  <tbody>\n",
       "    <tr>\n",
       "      <th>2015-01-31</th>\n",
       "      <td>-1.472727</td>\n",
       "      <td>0.852144</td>\n",
       "      <td>0.743174</td>\n",
       "      <td>0.350744</td>\n",
       "    </tr>\n",
       "    <tr>\n",
       "      <th>2015-02-28</th>\n",
       "      <td>-2.117212</td>\n",
       "      <td>-0.146239</td>\n",
       "      <td>0.704525</td>\n",
       "      <td>-0.634504</td>\n",
       "    </tr>\n",
       "    <tr>\n",
       "      <th>2015-03-31</th>\n",
       "      <td>-2.109498</td>\n",
       "      <td>0.488041</td>\n",
       "      <td>0.055069</td>\n",
       "      <td>0.078988</td>\n",
       "    </tr>\n",
       "    <tr>\n",
       "      <th>2015-04-30</th>\n",
       "      <td>-1.634704</td>\n",
       "      <td>0.555574</td>\n",
       "      <td>-0.645139</td>\n",
       "      <td>0.388801</td>\n",
       "    </tr>\n",
       "    <tr>\n",
       "      <th>2015-05-31</th>\n",
       "      <td>-0.923727</td>\n",
       "      <td>0.395735</td>\n",
       "      <td>-0.688777</td>\n",
       "      <td>0.270930</td>\n",
       "    </tr>\n",
       "    <tr>\n",
       "      <th>2015-06-30</th>\n",
       "      <td>-0.091915</td>\n",
       "      <td>0.449685</td>\n",
       "      <td>-0.382755</td>\n",
       "      <td>-0.516433</td>\n",
       "    </tr>\n",
       "    <tr>\n",
       "      <th>2015-07-31</th>\n",
       "      <td>1.239752</td>\n",
       "      <td>0.200433</td>\n",
       "      <td>-1.587804</td>\n",
       "      <td>0.071055</td>\n",
       "    </tr>\n",
       "    <tr>\n",
       "      <th>2015-08-31</th>\n",
       "      <td>1.578498</td>\n",
       "      <td>-0.713148</td>\n",
       "      <td>-1.385390</td>\n",
       "      <td>-0.674234</td>\n",
       "    </tr>\n",
       "    <tr>\n",
       "      <th>2015-09-30</th>\n",
       "      <td>0.639750</td>\n",
       "      <td>-1.757088</td>\n",
       "      <td>-1.279189</td>\n",
       "      <td>-0.638940</td>\n",
       "    </tr>\n",
       "  </tbody>\n",
       "</table>\n",
       "</div>"
      ],
      "text/plain": [
       "                 No1       No2       No3       No4\n",
       "2015-01-31 -1.472727  0.852144  0.743174  0.350744\n",
       "2015-02-28 -2.117212 -0.146239  0.704525 -0.634504\n",
       "2015-03-31 -2.109498  0.488041  0.055069  0.078988\n",
       "2015-04-30 -1.634704  0.555574 -0.645139  0.388801\n",
       "2015-05-31 -0.923727  0.395735 -0.688777  0.270930\n",
       "2015-06-30 -0.091915  0.449685 -0.382755 -0.516433\n",
       "2015-07-31  1.239752  0.200433 -1.587804  0.071055\n",
       "2015-08-31  1.578498 -0.713148 -1.385390 -0.674234\n",
       "2015-09-30  0.639750 -1.757088 -1.279189 -0.638940"
      ]
     },
     "execution_count": 38,
     "metadata": {},
     "output_type": "execute_result"
    }
   ],
   "source": [
    "df.cumsum()  #column-wise cumulative sums"
   ]
  },
  {
   "cell_type": "code",
   "execution_count": 40,
   "metadata": {},
   "outputs": [
    {
     "data": {
      "text/html": [
       "<div>\n",
       "<style scoped>\n",
       "    .dataframe tbody tr th:only-of-type {\n",
       "        vertical-align: middle;\n",
       "    }\n",
       "\n",
       "    .dataframe tbody tr th {\n",
       "        vertical-align: top;\n",
       "    }\n",
       "\n",
       "    .dataframe thead tr th {\n",
       "        text-align: left;\n",
       "    }\n",
       "</style>\n",
       "<table border=\"1\" class=\"dataframe\">\n",
       "  <thead>\n",
       "    <tr>\n",
       "      <th></th>\n",
       "      <th>No1</th>\n",
       "      <th>No2</th>\n",
       "      <th>No3</th>\n",
       "      <th>No4</th>\n",
       "    </tr>\n",
       "  </thead>\n",
       "  <tbody>\n",
       "    <tr>\n",
       "      <th>count</th>\n",
       "      <td>9.000000</td>\n",
       "      <td>9.000000</td>\n",
       "      <td>9.000000</td>\n",
       "      <td>9.000000</td>\n",
       "    </tr>\n",
       "    <tr>\n",
       "      <th>mean</th>\n",
       "      <td>0.071083</td>\n",
       "      <td>-0.195232</td>\n",
       "      <td>-0.142132</td>\n",
       "      <td>-0.070993</td>\n",
       "    </tr>\n",
       "    <tr>\n",
       "      <th>std</th>\n",
       "      <td>0.917267</td>\n",
       "      <td>0.689363</td>\n",
       "      <td>0.600418</td>\n",
       "      <td>0.631378</td>\n",
       "    </tr>\n",
       "    <tr>\n",
       "      <th>min</th>\n",
       "      <td>-1.472727</td>\n",
       "      <td>-1.043940</td>\n",
       "      <td>-1.205049</td>\n",
       "      <td>-0.985248</td>\n",
       "    </tr>\n",
       "    <tr>\n",
       "      <th>25%</th>\n",
       "      <td>-0.644485</td>\n",
       "      <td>-0.913581</td>\n",
       "      <td>-0.649456</td>\n",
       "      <td>-0.745290</td>\n",
       "    </tr>\n",
       "    <tr>\n",
       "      <th>50%</th>\n",
       "      <td>0.338746</td>\n",
       "      <td>-0.159839</td>\n",
       "      <td>-0.038649</td>\n",
       "      <td>0.035294</td>\n",
       "    </tr>\n",
       "    <tr>\n",
       "      <th>75%</th>\n",
       "      <td>0.710978</td>\n",
       "      <td>0.067533</td>\n",
       "      <td>0.202414</td>\n",
       "      <td>0.350744</td>\n",
       "    </tr>\n",
       "    <tr>\n",
       "      <th>max</th>\n",
       "      <td>1.331667</td>\n",
       "      <td>0.852144</td>\n",
       "      <td>0.743174</td>\n",
       "      <td>0.713492</td>\n",
       "    </tr>\n",
       "  </tbody>\n",
       "</table>\n",
       "</div>"
      ],
      "text/plain": [
       "            No1       No2       No3       No4\n",
       "count  9.000000  9.000000  9.000000  9.000000\n",
       "mean   0.071083 -0.195232 -0.142132 -0.070993\n",
       "std    0.917267  0.689363  0.600418  0.631378\n",
       "min   -1.472727 -1.043940 -1.205049 -0.985248\n",
       "25%   -0.644485 -0.913581 -0.649456 -0.745290\n",
       "50%    0.338746 -0.159839 -0.038649  0.035294\n",
       "75%    0.710978  0.067533  0.202414  0.350744\n",
       "max    1.331667  0.852144  0.743174  0.713492"
      ]
     },
     "execution_count": 40,
     "metadata": {},
     "output_type": "execute_result"
    }
   ],
   "source": [
    "df.describe()   # a number of often-used statistics for numerical data sets"
   ]
  },
  {
   "cell_type": "code",
   "execution_count": 41,
   "metadata": {},
   "outputs": [
    {
     "name": "stderr",
     "output_type": "stream",
     "text": [
      "/home/martin/anaconda3/lib/python3.6/site-packages/ipykernel_launcher.py:3: RuntimeWarning: invalid value encountered in sqrt\n",
      "  This is separate from the ipykernel package so we can avoid doing imports until\n"
     ]
    },
    {
     "data": {
      "text/html": [
       "<div>\n",
       "<style scoped>\n",
       "    .dataframe tbody tr th:only-of-type {\n",
       "        vertical-align: middle;\n",
       "    }\n",
       "\n",
       "    .dataframe tbody tr th {\n",
       "        vertical-align: top;\n",
       "    }\n",
       "\n",
       "    .dataframe thead tr th {\n",
       "        text-align: left;\n",
       "    }\n",
       "</style>\n",
       "<table border=\"1\" class=\"dataframe\">\n",
       "  <thead>\n",
       "    <tr>\n",
       "      <th></th>\n",
       "      <th>No1</th>\n",
       "      <th>No2</th>\n",
       "      <th>No3</th>\n",
       "      <th>No4</th>\n",
       "    </tr>\n",
       "  </thead>\n",
       "  <tbody>\n",
       "    <tr>\n",
       "      <th>2015-01-31</th>\n",
       "      <td>NaN</td>\n",
       "      <td>0.923116</td>\n",
       "      <td>0.862075</td>\n",
       "      <td>0.592236</td>\n",
       "    </tr>\n",
       "    <tr>\n",
       "      <th>2015-02-28</th>\n",
       "      <td>NaN</td>\n",
       "      <td>NaN</td>\n",
       "      <td>NaN</td>\n",
       "      <td>NaN</td>\n",
       "    </tr>\n",
       "    <tr>\n",
       "      <th>2015-03-31</th>\n",
       "      <td>0.087828</td>\n",
       "      <td>0.796417</td>\n",
       "      <td>NaN</td>\n",
       "      <td>0.844685</td>\n",
       "    </tr>\n",
       "    <tr>\n",
       "      <th>2015-04-30</th>\n",
       "      <td>0.689053</td>\n",
       "      <td>0.259872</td>\n",
       "      <td>NaN</td>\n",
       "      <td>0.556609</td>\n",
       "    </tr>\n",
       "    <tr>\n",
       "      <th>2015-05-31</th>\n",
       "      <td>0.843195</td>\n",
       "      <td>NaN</td>\n",
       "      <td>NaN</td>\n",
       "      <td>NaN</td>\n",
       "    </tr>\n",
       "    <tr>\n",
       "      <th>2015-06-30</th>\n",
       "      <td>0.912037</td>\n",
       "      <td>0.232272</td>\n",
       "      <td>0.553192</td>\n",
       "      <td>NaN</td>\n",
       "    </tr>\n",
       "    <tr>\n",
       "      <th>2015-07-31</th>\n",
       "      <td>1.153979</td>\n",
       "      <td>NaN</td>\n",
       "      <td>NaN</td>\n",
       "      <td>0.766478</td>\n",
       "    </tr>\n",
       "    <tr>\n",
       "      <th>2015-08-31</th>\n",
       "      <td>0.582019</td>\n",
       "      <td>NaN</td>\n",
       "      <td>0.449905</td>\n",
       "      <td>NaN</td>\n",
       "    </tr>\n",
       "    <tr>\n",
       "      <th>2015-09-30</th>\n",
       "      <td>NaN</td>\n",
       "      <td>NaN</td>\n",
       "      <td>0.325885</td>\n",
       "      <td>0.187867</td>\n",
       "    </tr>\n",
       "  </tbody>\n",
       "</table>\n",
       "</div>"
      ],
      "text/plain": [
       "                 No1       No2       No3       No4\n",
       "2015-01-31       NaN  0.923116  0.862075  0.592236\n",
       "2015-02-28       NaN       NaN       NaN       NaN\n",
       "2015-03-31  0.087828  0.796417       NaN  0.844685\n",
       "2015-04-30  0.689053  0.259872       NaN  0.556609\n",
       "2015-05-31  0.843195       NaN       NaN       NaN\n",
       "2015-06-30  0.912037  0.232272  0.553192       NaN\n",
       "2015-07-31  1.153979       NaN       NaN  0.766478\n",
       "2015-08-31  0.582019       NaN  0.449905       NaN\n",
       "2015-09-30       NaN       NaN  0.325885  0.187867"
      ]
     },
     "execution_count": 41,
     "metadata": {},
     "output_type": "execute_result"
    }
   ],
   "source": [
    "# You can  apply the majority of NumPy universal functions to DataFrame objects\n",
    "\n",
    "np.sqrt(df)"
   ]
  },
  {
   "cell_type": "code",
   "execution_count": 43,
   "metadata": {},
   "outputs": [
    {
     "name": "stderr",
     "output_type": "stream",
     "text": [
      "/home/martin/anaconda3/lib/python3.6/site-packages/ipykernel_launcher.py:3: RuntimeWarning: invalid value encountered in sqrt\n",
      "  This is separate from the ipykernel package so we can avoid doing imports until\n"
     ]
    },
    {
     "data": {
      "text/plain": [
       "2015-01-31    2.377428\n",
       "2015-02-28    0.000000\n",
       "2015-03-31    1.728930\n",
       "2015-04-30    1.505534\n",
       "2015-05-31    0.843195\n",
       "2015-06-30    1.697501\n",
       "2015-07-31    1.920457\n",
       "2015-08-31    1.031923\n",
       "2015-09-30    0.513752\n",
       "Freq: M, dtype: float64"
      ]
     },
     "execution_count": 43,
     "metadata": {},
     "output_type": "execute_result"
    }
   ],
   "source": [
    "# pandas leaves out the NaN values and only works with the other available values\n",
    "\n",
    "np.sqrt(df).sum(axis=1)"
   ]
  },
  {
   "cell_type": "code",
   "execution_count": 44,
   "metadata": {},
   "outputs": [
    {
     "data": {
      "text/plain": [
       "<matplotlib.axes._subplots.AxesSubplot at 0x7ff36407edd8>"
      ]
     },
     "execution_count": 44,
     "metadata": {},
     "output_type": "execute_result"
    },
    {
     "data": {
      "image/png": "[encoded data removed]",
      "text/plain": [
       "<Figure size 432x288 with 1 Axes>"
      ]
     },
     "metadata": {},
     "output_type": "display_data"
    }
   ],
   "source": [
    "# Plotting of data\n",
    "# pandas provides a wrapper around matplotplib, specifically designed for DataFrame objects\n",
    "\n",
    "# Parameters of plot method are listed in table 6.4\n",
    "#  subplots  Boolean, default False    Plot columns in subplots\n",
    "#  grid      Boolean, default False    Horizontal and vertical grid lines\n",
    "#  title     String, default None      Title for the plot\n",
    "#  legend    Boolean, default True     Legend of labels\n",
    "#  logx      Boolean, default False    Logarithmic scaling of x-axis\n",
    "#  logy      Boolean, default False    Logarithmic scaling of y-axis\n",
    "#  xlim      2-tuple, list             Boundaries for x-axis\n",
    "#  ylim      2-tuple, list             Boundaries for y-axis\n",
    "#    etc...\n",
    "\n",
    "%matplotlib inline\n",
    "df.cumsum().plot(lw=2.0, # subplots = True\n",
    "                 grid = True)\n",
    "# title: Line plot of a DataFrame object"
   ]
  },
  {
   "cell_type": "markdown",
   "metadata": {},
   "source": [
    "### TimeSeries Class"
   ]
  },
  {
   "cell_type": "code",
   "execution_count": 45,
   "metadata": {},
   "outputs": [
    {
     "data": {
      "text/plain": [
       "pandas.core.frame.DataFrame"
      ]
     },
     "execution_count": 45,
     "metadata": {},
     "output_type": "execute_result"
    }
   ],
   "source": [
    "# we have worked mainly with the pandas DataFrame class\n",
    "\n",
    "type(df)"
   ]
  },
  {
   "cell_type": "code",
   "execution_count": 64,
   "metadata": {},
   "outputs": [
    {
     "data": {
      "text/plain": [
       "pandas.core.series.Series"
      ]
     },
     "execution_count": 64,
     "metadata": {},
     "output_type": "execute_result"
    }
   ],
   "source": [
    "type(df.iloc[:,0])"
   ]
  },
  {
   "cell_type": "code",
   "execution_count": 56,
   "metadata": {},
   "outputs": [
    {
     "data": {
      "text/html": [
       "<div>\n",
       "<style scoped>\n",
       "    .dataframe tbody tr th:only-of-type {\n",
       "        vertical-align: middle;\n",
       "    }\n",
       "\n",
       "    .dataframe tbody tr th {\n",
       "        vertical-align: top;\n",
       "    }\n",
       "\n",
       "    .dataframe thead tr th {\n",
       "        text-align: left;\n",
       "    }\n",
       "</style>\n",
       "<table border=\"1\" class=\"dataframe\">\n",
       "  <thead>\n",
       "    <tr>\n",
       "      <th></th>\n",
       "      <th>No1</th>\n",
       "      <th>No2</th>\n",
       "      <th>No3</th>\n",
       "      <th>No4</th>\n",
       "    </tr>\n",
       "  </thead>\n",
       "  <tbody>\n",
       "    <tr>\n",
       "      <th>2015-01-31</th>\n",
       "      <td>-1.472727</td>\n",
       "      <td>0.852144</td>\n",
       "      <td>0.743174</td>\n",
       "      <td>0.350744</td>\n",
       "    </tr>\n",
       "    <tr>\n",
       "      <th>2015-02-28</th>\n",
       "      <td>-0.644485</td>\n",
       "      <td>-0.998382</td>\n",
       "      <td>-0.038649</td>\n",
       "      <td>-0.985248</td>\n",
       "    </tr>\n",
       "    <tr>\n",
       "      <th>2015-03-31</th>\n",
       "      <td>0.007714</td>\n",
       "      <td>0.634279</td>\n",
       "      <td>-0.649456</td>\n",
       "      <td>0.713492</td>\n",
       "    </tr>\n",
       "    <tr>\n",
       "      <th>2015-04-30</th>\n",
       "      <td>0.474794</td>\n",
       "      <td>0.067533</td>\n",
       "      <td>-0.700208</td>\n",
       "      <td>0.309814</td>\n",
       "    </tr>\n",
       "    <tr>\n",
       "      <th>2015-05-31</th>\n",
       "      <td>0.710978</td>\n",
       "      <td>-0.159839</td>\n",
       "      <td>-0.043638</td>\n",
       "      <td>-0.117871</td>\n",
       "    </tr>\n",
       "  </tbody>\n",
       "</table>\n",
       "</div>"
      ],
      "text/plain": [
       "                 No1       No2       No3       No4\n",
       "2015-01-31 -1.472727  0.852144  0.743174  0.350744\n",
       "2015-02-28 -0.644485 -0.998382 -0.038649 -0.985248\n",
       "2015-03-31  0.007714  0.634279 -0.649456  0.713492\n",
       "2015-04-30  0.474794  0.067533 -0.700208  0.309814\n",
       "2015-05-31  0.710978 -0.159839 -0.043638 -0.117871"
      ]
     },
     "execution_count": 56,
     "metadata": {},
     "output_type": "execute_result"
    }
   ],
   "source": [
    "df.head()"
   ]
  },
  {
   "cell_type": "code",
   "execution_count": 58,
   "metadata": {},
   "outputs": [
    {
     "data": {
      "text/html": [
       "<div>\n",
       "<style scoped>\n",
       "    .dataframe tbody tr th:only-of-type {\n",
       "        vertical-align: middle;\n",
       "    }\n",
       "\n",
       "    .dataframe tbody tr th {\n",
       "        vertical-align: top;\n",
       "    }\n",
       "\n",
       "    .dataframe thead tr th {\n",
       "        text-align: left;\n",
       "    }\n",
       "</style>\n",
       "<table border=\"1\" class=\"dataframe\">\n",
       "  <thead>\n",
       "    <tr>\n",
       "      <th></th>\n",
       "      <th>No1</th>\n",
       "    </tr>\n",
       "  </thead>\n",
       "  <tbody>\n",
       "    <tr>\n",
       "      <th>2015-01-31</th>\n",
       "      <td>-1.472727</td>\n",
       "    </tr>\n",
       "    <tr>\n",
       "      <th>2015-02-28</th>\n",
       "      <td>-0.644485</td>\n",
       "    </tr>\n",
       "    <tr>\n",
       "      <th>2015-03-31</th>\n",
       "      <td>0.007714</td>\n",
       "    </tr>\n",
       "    <tr>\n",
       "      <th>2015-04-30</th>\n",
       "      <td>0.474794</td>\n",
       "    </tr>\n",
       "    <tr>\n",
       "      <th>2015-05-31</th>\n",
       "      <td>0.710978</td>\n",
       "    </tr>\n",
       "    <tr>\n",
       "      <th>2015-06-30</th>\n",
       "      <td>0.831812</td>\n",
       "    </tr>\n",
       "    <tr>\n",
       "      <th>2015-07-31</th>\n",
       "      <td>1.331667</td>\n",
       "    </tr>\n",
       "    <tr>\n",
       "      <th>2015-08-31</th>\n",
       "      <td>0.338746</td>\n",
       "    </tr>\n",
       "    <tr>\n",
       "      <th>2015-09-30</th>\n",
       "      <td>-0.938748</td>\n",
       "    </tr>\n",
       "  </tbody>\n",
       "</table>\n",
       "</div>"
      ],
      "text/plain": [
       "                 No1\n",
       "2015-01-31 -1.472727\n",
       "2015-02-28 -0.644485\n",
       "2015-03-31  0.007714\n",
       "2015-04-30  0.474794\n",
       "2015-05-31  0.710978\n",
       "2015-06-30  0.831812\n",
       "2015-07-31  1.331667\n",
       "2015-08-31  0.338746\n",
       "2015-09-30 -0.938748"
      ]
     },
     "execution_count": 58,
     "metadata": {},
     "output_type": "execute_result"
    }
   ],
   "source": [
    "df."
   ]
  },
  {
   "cell_type": "code",
   "execution_count": 55,
   "metadata": {},
   "outputs": [
    {
     "data": {
      "text/plain": [
       "pandas.core.frame.DataFrame"
      ]
     },
     "execution_count": 55,
     "metadata": {},
     "output_type": "execute_result"
    }
   ],
   "source": [
    "type(df['No1'])"
   ]
  },
  {
   "cell_type": "code",
   "execution_count": 65,
   "metadata": {},
   "outputs": [
    {
     "data": {
      "text/plain": [
       "Text(0.5,1,'Line plot of a TimeSeries object')"
      ]
     },
     "execution_count": 65,
     "metadata": {},
     "output_type": "execute_result"
    },
    {
     "data": {
      "image/png": "[encoded data removed]",
      "text/plain": [
       "<Figure size 432x288 with 1 Axes>"
      ]
     },
     "metadata": {},
     "output_type": "display_data"
    }
   ],
   "source": [
    "# we can plot Series objets\n",
    "# style = 'b'     blue line   \n",
    "\n",
    "%matplotlib inline\n",
    "import matplotlib.pyplot as plt\n",
    "df['No1'].cumsum().plot(style='b', lw=2.)\n",
    "plt.xlabel('date')\n",
    "plt.ylabel('value')\n",
    "plt.grid()\n",
    "plt.title(\"Line plot of a TimeSeries object\")\n",
    "# title: Line plot of a TimeSeries object"
   ]
  },
  {
   "cell_type": "markdown",
   "metadata": {},
   "source": [
    "### GroupBy Operations"
   ]
  },
  {
   "cell_type": "code",
   "execution_count": 101,
   "metadata": {},
   "outputs": [
    {
     "data": {
      "text/html": [
       "<div>\n",
       "<style scoped>\n",
       "    .dataframe tbody tr th:only-of-type {\n",
       "        vertical-align: middle;\n",
       "    }\n",
       "\n",
       "    .dataframe tbody tr th {\n",
       "        vertical-align: top;\n",
       "    }\n",
       "\n",
       "    .dataframe thead th {\n",
       "        text-align: right;\n",
       "    }\n",
       "</style>\n",
       "<table border=\"1\" class=\"dataframe\">\n",
       "  <thead>\n",
       "    <tr style=\"text-align: right;\">\n",
       "      <th></th>\n",
       "      <th>No1</th>\n",
       "      <th>No2</th>\n",
       "      <th>No3</th>\n",
       "      <th>No4</th>\n",
       "      <th>Quarter</th>\n",
       "    </tr>\n",
       "  </thead>\n",
       "  <tbody>\n",
       "    <tr>\n",
       "      <th>0</th>\n",
       "      <td>-1.985500</td>\n",
       "      <td>-0.974862</td>\n",
       "      <td>2.316482</td>\n",
       "      <td>-0.084258</td>\n",
       "      <td>Q1</td>\n",
       "    </tr>\n",
       "    <tr>\n",
       "      <th>1</th>\n",
       "      <td>0.000714</td>\n",
       "      <td>1.950669</td>\n",
       "      <td>-1.222839</td>\n",
       "      <td>-0.568601</td>\n",
       "      <td>Q1</td>\n",
       "    </tr>\n",
       "    <tr>\n",
       "      <th>2</th>\n",
       "      <td>-0.964251</td>\n",
       "      <td>0.910064</td>\n",
       "      <td>-0.386972</td>\n",
       "      <td>-0.561640</td>\n",
       "      <td>Q1</td>\n",
       "    </tr>\n",
       "    <tr>\n",
       "      <th>3</th>\n",
       "      <td>-0.086935</td>\n",
       "      <td>0.586745</td>\n",
       "      <td>-2.275285</td>\n",
       "      <td>1.192219</td>\n",
       "      <td>Q2</td>\n",
       "    </tr>\n",
       "    <tr>\n",
       "      <th>4</th>\n",
       "      <td>-1.533826</td>\n",
       "      <td>-0.387834</td>\n",
       "      <td>0.447580</td>\n",
       "      <td>-0.582350</td>\n",
       "      <td>Q2</td>\n",
       "    </tr>\n",
       "    <tr>\n",
       "      <th>5</th>\n",
       "      <td>-1.394570</td>\n",
       "      <td>-2.359788</td>\n",
       "      <td>-1.786899</td>\n",
       "      <td>1.439917</td>\n",
       "      <td>Q2</td>\n",
       "    </tr>\n",
       "    <tr>\n",
       "      <th>6</th>\n",
       "      <td>-0.528161</td>\n",
       "      <td>-0.449967</td>\n",
       "      <td>2.504859</td>\n",
       "      <td>-0.270522</td>\n",
       "      <td>Q3</td>\n",
       "    </tr>\n",
       "    <tr>\n",
       "      <th>7</th>\n",
       "      <td>0.368598</td>\n",
       "      <td>-0.149882</td>\n",
       "      <td>-1.304906</td>\n",
       "      <td>-1.042842</td>\n",
       "      <td>Q3</td>\n",
       "    </tr>\n",
       "    <tr>\n",
       "      <th>8</th>\n",
       "      <td>0.028227</td>\n",
       "      <td>-0.697703</td>\n",
       "      <td>-0.009738</td>\n",
       "      <td>-1.158279</td>\n",
       "      <td>Q3</td>\n",
       "    </tr>\n",
       "  </tbody>\n",
       "</table>\n",
       "</div>"
      ],
      "text/plain": [
       "        No1       No2       No3       No4 Quarter\n",
       "0 -1.985500 -0.974862  2.316482 -0.084258      Q1\n",
       "1  0.000714  1.950669 -1.222839 -0.568601      Q1\n",
       "2 -0.964251  0.910064 -0.386972 -0.561640      Q1\n",
       "3 -0.086935  0.586745 -2.275285  1.192219      Q2\n",
       "4 -1.533826 -0.387834  0.447580 -0.582350      Q2\n",
       "5 -1.394570 -2.359788 -1.786899  1.439917      Q2\n",
       "6 -0.528161 -0.449967  2.504859 -0.270522      Q3\n",
       "7  0.368598 -0.149882 -1.304906 -1.042842      Q3\n",
       "8  0.028227 -0.697703 -0.009738 -1.158279      Q3"
      ]
     },
     "execution_count": 101,
     "metadata": {},
     "output_type": "execute_result"
    }
   ],
   "source": [
    "# pandas has powerful and flexible grouping capabilities\n",
    "# similar to grouping in SQL as well as pivot tables in Microsoft Excel\n",
    "\n",
    "# To have something to group by, we add a column \n",
    "# indicating the quarter the respective data\n",
    "\n",
    "df['Quarter'] = ['Q1', 'Q1', 'Q1', 'Q2', 'Q2', 'Q2', 'Q3', 'Q3', 'Q3']\n",
    "df"
   ]
  },
  {
   "cell_type": "code",
   "execution_count": 104,
   "metadata": {},
   "outputs": [],
   "source": [
    "# Now, we can group by the “Quarter” column\n",
    "\n",
    "groups = df.groupby('Quarter')"
   ]
  },
  {
   "cell_type": "code",
   "execution_count": 105,
   "metadata": {},
   "outputs": [
    {
     "data": {
      "text/html": [
       "<div>\n",
       "<style scoped>\n",
       "    .dataframe tbody tr th:only-of-type {\n",
       "        vertical-align: middle;\n",
       "    }\n",
       "\n",
       "    .dataframe tbody tr th {\n",
       "        vertical-align: top;\n",
       "    }\n",
       "\n",
       "    .dataframe thead th {\n",
       "        text-align: right;\n",
       "    }\n",
       "</style>\n",
       "<table border=\"1\" class=\"dataframe\">\n",
       "  <thead>\n",
       "    <tr style=\"text-align: right;\">\n",
       "      <th></th>\n",
       "      <th>No1</th>\n",
       "      <th>No2</th>\n",
       "      <th>No3</th>\n",
       "      <th>No4</th>\n",
       "    </tr>\n",
       "    <tr>\n",
       "      <th>Quarter</th>\n",
       "      <th></th>\n",
       "      <th></th>\n",
       "      <th></th>\n",
       "      <th></th>\n",
       "    </tr>\n",
       "  </thead>\n",
       "  <tbody>\n",
       "    <tr>\n",
       "      <th>Q1</th>\n",
       "      <td>-0.983012</td>\n",
       "      <td>0.628624</td>\n",
       "      <td>0.235557</td>\n",
       "      <td>-0.404833</td>\n",
       "    </tr>\n",
       "    <tr>\n",
       "      <th>Q2</th>\n",
       "      <td>-1.005110</td>\n",
       "      <td>-0.720293</td>\n",
       "      <td>-1.204868</td>\n",
       "      <td>0.683262</td>\n",
       "    </tr>\n",
       "    <tr>\n",
       "      <th>Q3</th>\n",
       "      <td>-0.043779</td>\n",
       "      <td>-0.432517</td>\n",
       "      <td>0.396738</td>\n",
       "      <td>-0.823881</td>\n",
       "    </tr>\n",
       "  </tbody>\n",
       "</table>\n",
       "</div>"
      ],
      "text/plain": [
       "              No1       No2       No3       No4\n",
       "Quarter                                        \n",
       "Q1      -0.983012  0.628624  0.235557 -0.404833\n",
       "Q2      -1.005110 -0.720293 -1.204868  0.683262\n",
       "Q3      -0.043779 -0.432517  0.396738 -0.823881"
      ]
     },
     "execution_count": 105,
     "metadata": {},
     "output_type": "execute_result"
    }
   ],
   "source": [
    "groups.mean()"
   ]
  },
  {
   "cell_type": "code",
   "execution_count": 106,
   "metadata": {},
   "outputs": [
    {
     "data": {
      "text/html": [
       "<div>\n",
       "<style scoped>\n",
       "    .dataframe tbody tr th:only-of-type {\n",
       "        vertical-align: middle;\n",
       "    }\n",
       "\n",
       "    .dataframe tbody tr th {\n",
       "        vertical-align: top;\n",
       "    }\n",
       "\n",
       "    .dataframe thead th {\n",
       "        text-align: right;\n",
       "    }\n",
       "</style>\n",
       "<table border=\"1\" class=\"dataframe\">\n",
       "  <thead>\n",
       "    <tr style=\"text-align: right;\">\n",
       "      <th></th>\n",
       "      <th>No1</th>\n",
       "      <th>No2</th>\n",
       "      <th>No3</th>\n",
       "      <th>No4</th>\n",
       "    </tr>\n",
       "    <tr>\n",
       "      <th>Quarter</th>\n",
       "      <th></th>\n",
       "      <th></th>\n",
       "      <th></th>\n",
       "      <th></th>\n",
       "    </tr>\n",
       "  </thead>\n",
       "  <tbody>\n",
       "    <tr>\n",
       "      <th>Q1</th>\n",
       "      <td>0.000714</td>\n",
       "      <td>1.950669</td>\n",
       "      <td>2.316482</td>\n",
       "      <td>-0.084258</td>\n",
       "    </tr>\n",
       "    <tr>\n",
       "      <th>Q2</th>\n",
       "      <td>-0.086935</td>\n",
       "      <td>0.586745</td>\n",
       "      <td>0.447580</td>\n",
       "      <td>1.439917</td>\n",
       "    </tr>\n",
       "    <tr>\n",
       "      <th>Q3</th>\n",
       "      <td>0.368598</td>\n",
       "      <td>-0.149882</td>\n",
       "      <td>2.504859</td>\n",
       "      <td>-0.270522</td>\n",
       "    </tr>\n",
       "  </tbody>\n",
       "</table>\n",
       "</div>"
      ],
      "text/plain": [
       "              No1       No2       No3       No4\n",
       "Quarter                                        \n",
       "Q1       0.000714  1.950669  2.316482 -0.084258\n",
       "Q2      -0.086935  0.586745  0.447580  1.439917\n",
       "Q3       0.368598 -0.149882  2.504859 -0.270522"
      ]
     },
     "execution_count": 106,
     "metadata": {},
     "output_type": "execute_result"
    }
   ],
   "source": [
    "groups.max()"
   ]
  },
  {
   "cell_type": "code",
   "execution_count": 107,
   "metadata": {},
   "outputs": [
    {
     "data": {
      "text/plain": [
       "Quarter\n",
       "Q1    3\n",
       "Q2    3\n",
       "Q3    3\n",
       "dtype: int64"
      ]
     },
     "execution_count": 107,
     "metadata": {},
     "output_type": "execute_result"
    }
   ],
   "source": [
    "groups.size()"
   ]
  },
  {
   "cell_type": "code",
   "execution_count": 108,
   "metadata": {},
   "outputs": [],
   "source": [
    "# Grouping can also be done with multiple columns. \n",
    "# add another column, indicating whether the month of the index date is odd or even\n",
    "\n",
    "df['Odd_Even'] = ['Odd', 'Even', 'Odd', 'Even', 'Odd', 'Even',\n",
    "                  'Odd', 'Even', 'Odd']"
   ]
  },
  {
   "cell_type": "code",
   "execution_count": 109,
   "metadata": {},
   "outputs": [],
   "source": [
    "# grouping based on two columns simultaneously\n",
    "\n",
    "groups = df.groupby(['Quarter','Odd_Even'])"
   ]
  },
  {
   "cell_type": "code",
   "execution_count": 110,
   "metadata": {},
   "outputs": [
    {
     "data": {
      "text/plain": [
       "Quarter  Odd_Even\n",
       "Q1       Even        1\n",
       "         Odd         2\n",
       "Q2       Even        2\n",
       "         Odd         1\n",
       "Q3       Even        1\n",
       "         Odd         2\n",
       "dtype: int64"
      ]
     },
     "execution_count": 110,
     "metadata": {},
     "output_type": "execute_result"
    }
   ],
   "source": [
    "groups.size()"
   ]
  },
  {
   "cell_type": "code",
   "execution_count": 111,
   "metadata": {},
   "outputs": [
    {
     "data": {
      "text/html": [
       "<div>\n",
       "<style scoped>\n",
       "    .dataframe tbody tr th:only-of-type {\n",
       "        vertical-align: middle;\n",
       "    }\n",
       "\n",
       "    .dataframe tbody tr th {\n",
       "        vertical-align: top;\n",
       "    }\n",
       "\n",
       "    .dataframe thead th {\n",
       "        text-align: right;\n",
       "    }\n",
       "</style>\n",
       "<table border=\"1\" class=\"dataframe\">\n",
       "  <thead>\n",
       "    <tr style=\"text-align: right;\">\n",
       "      <th></th>\n",
       "      <th></th>\n",
       "      <th>No1</th>\n",
       "      <th>No2</th>\n",
       "      <th>No3</th>\n",
       "      <th>No4</th>\n",
       "    </tr>\n",
       "    <tr>\n",
       "      <th>Quarter</th>\n",
       "      <th>Odd_Even</th>\n",
       "      <th></th>\n",
       "      <th></th>\n",
       "      <th></th>\n",
       "      <th></th>\n",
       "    </tr>\n",
       "  </thead>\n",
       "  <tbody>\n",
       "    <tr>\n",
       "      <th rowspan=\"2\" valign=\"top\">Q1</th>\n",
       "      <th>Even</th>\n",
       "      <td>0.000714</td>\n",
       "      <td>1.950669</td>\n",
       "      <td>-1.222839</td>\n",
       "      <td>-0.568601</td>\n",
       "    </tr>\n",
       "    <tr>\n",
       "      <th>Odd</th>\n",
       "      <td>-1.474875</td>\n",
       "      <td>-0.032399</td>\n",
       "      <td>0.964755</td>\n",
       "      <td>-0.322949</td>\n",
       "    </tr>\n",
       "    <tr>\n",
       "      <th rowspan=\"2\" valign=\"top\">Q2</th>\n",
       "      <th>Even</th>\n",
       "      <td>-0.740752</td>\n",
       "      <td>-0.886522</td>\n",
       "      <td>-2.031092</td>\n",
       "      <td>1.316068</td>\n",
       "    </tr>\n",
       "    <tr>\n",
       "      <th>Odd</th>\n",
       "      <td>-1.533826</td>\n",
       "      <td>-0.387834</td>\n",
       "      <td>0.447580</td>\n",
       "      <td>-0.582350</td>\n",
       "    </tr>\n",
       "    <tr>\n",
       "      <th rowspan=\"2\" valign=\"top\">Q3</th>\n",
       "      <th>Even</th>\n",
       "      <td>0.368598</td>\n",
       "      <td>-0.149882</td>\n",
       "      <td>-1.304906</td>\n",
       "      <td>-1.042842</td>\n",
       "    </tr>\n",
       "    <tr>\n",
       "      <th>Odd</th>\n",
       "      <td>-0.249967</td>\n",
       "      <td>-0.573835</td>\n",
       "      <td>1.247560</td>\n",
       "      <td>-0.714401</td>\n",
       "    </tr>\n",
       "  </tbody>\n",
       "</table>\n",
       "</div>"
      ],
      "text/plain": [
       "                       No1       No2       No3       No4\n",
       "Quarter Odd_Even                                        \n",
       "Q1      Even      0.000714  1.950669 -1.222839 -0.568601\n",
       "        Odd      -1.474875 -0.032399  0.964755 -0.322949\n",
       "Q2      Even     -0.740752 -0.886522 -2.031092  1.316068\n",
       "        Odd      -1.533826 -0.387834  0.447580 -0.582350\n",
       "Q3      Even      0.368598 -0.149882 -1.304906 -1.042842\n",
       "        Odd      -0.249967 -0.573835  1.247560 -0.714401"
      ]
     },
     "execution_count": 111,
     "metadata": {},
     "output_type": "execute_result"
    }
   ],
   "source": [
    "groups.mean()"
   ]
  },
  {
   "cell_type": "markdown",
   "metadata": {},
   "source": [
    "**Financial Data**"
   ]
  },
  {
   "cell_type": "markdown",
   "metadata": {},
   "source": [
    "We will use `iexfinance` as before. And we will download some other data from the web."
   ]
  },
  {
   "cell_type": "code",
   "execution_count": 112,
   "metadata": {
    "uuid": "9805e014-8a17-4e54-b6fd-1c77db7b6b78"
   },
   "outputs": [],
   "source": [
    "import numpy as np\n",
    "import pandas as pd\n",
    "import matplotlib.pyplot as plt\n",
    "from iexfinance import get_historical_data\n",
    "from datetime import datetime"
   ]
  },
  {
   "cell_type": "markdown",
   "metadata": {},
   "source": [
    "Here, we are downloading *Apple* stock data (historical)."
   ]
  },
  {
   "cell_type": "code",
   "execution_count": 113,
   "metadata": {},
   "outputs": [],
   "source": [
    "start = datetime(2014, 2, 9)\n",
    "#end = datetime(2017, 5, 24)\n",
    "\n",
    "AAPL = get_historical_data(\"AAPL\", start=start,  output_format='pandas')"
   ]
  },
  {
   "cell_type": "code",
   "execution_count": 114,
   "metadata": {},
   "outputs": [
    {
     "name": "stdout",
     "output_type": "stream",
     "text": [
      "<class 'pandas.core.frame.DataFrame'>\n",
      "Index: 1187 entries, 2014-02-10 to 2018-10-24\n",
      "Data columns (total 5 columns):\n",
      "open      1187 non-null float64\n",
      "high      1187 non-null float64\n",
      "low       1187 non-null float64\n",
      "close     1187 non-null float64\n",
      "volume    1187 non-null int64\n",
      "dtypes: float64(4), int64(1)\n",
      "memory usage: 55.6+ KB\n"
     ]
    }
   ],
   "source": [
    "AAPL.info()"
   ]
  },
  {
   "cell_type": "code",
   "execution_count": 115,
   "metadata": {},
   "outputs": [
    {
     "data": {
      "text/plain": [
       "(1187, 5)"
      ]
     },
     "execution_count": 115,
     "metadata": {},
     "output_type": "execute_result"
    }
   ],
   "source": [
    "AAPL.shape"
   ]
  },
  {
   "cell_type": "code",
   "execution_count": 116,
   "metadata": {},
   "outputs": [
    {
     "data": {
      "text/html": [
       "<div>\n",
       "<style scoped>\n",
       "    .dataframe tbody tr th:only-of-type {\n",
       "        vertical-align: middle;\n",
       "    }\n",
       "\n",
       "    .dataframe tbody tr th {\n",
       "        vertical-align: top;\n",
       "    }\n",
       "\n",
       "    .dataframe thead th {\n",
       "        text-align: right;\n",
       "    }\n",
       "</style>\n",
       "<table border=\"1\" class=\"dataframe\">\n",
       "  <thead>\n",
       "    <tr style=\"text-align: right;\">\n",
       "      <th></th>\n",
       "      <th>open</th>\n",
       "      <th>high</th>\n",
       "      <th>low</th>\n",
       "      <th>close</th>\n",
       "      <th>volume</th>\n",
       "    </tr>\n",
       "    <tr>\n",
       "      <th>date</th>\n",
       "      <th></th>\n",
       "      <th></th>\n",
       "      <th></th>\n",
       "      <th></th>\n",
       "      <th></th>\n",
       "    </tr>\n",
       "  </thead>\n",
       "  <tbody>\n",
       "    <tr>\n",
       "      <th>2014-02-10</th>\n",
       "      <td>68.6475</td>\n",
       "      <td>70.4118</td>\n",
       "      <td>68.5601</td>\n",
       "      <td>70.0147</td>\n",
       "      <td>86451022</td>\n",
       "    </tr>\n",
       "    <tr>\n",
       "      <th>2014-02-11</th>\n",
       "      <td>70.2291</td>\n",
       "      <td>71.1741</td>\n",
       "      <td>70.0822</td>\n",
       "      <td>70.9372</td>\n",
       "      <td>70672252</td>\n",
       "    </tr>\n",
       "    <tr>\n",
       "      <th>2014-02-12</th>\n",
       "      <td>71.0682</td>\n",
       "      <td>71.4137</td>\n",
       "      <td>70.5772</td>\n",
       "      <td>70.9319</td>\n",
       "      <td>77127064</td>\n",
       "    </tr>\n",
       "    <tr>\n",
       "      <th>2014-02-13</th>\n",
       "      <td>70.7651</td>\n",
       "      <td>72.1138</td>\n",
       "      <td>70.7043</td>\n",
       "      <td>72.0583</td>\n",
       "      <td>76960156</td>\n",
       "    </tr>\n",
       "    <tr>\n",
       "      <th>2014-02-14</th>\n",
       "      <td>71.7988</td>\n",
       "      <td>72.2634</td>\n",
       "      <td>71.6321</td>\n",
       "      <td>72.0000</td>\n",
       "      <td>68468036</td>\n",
       "    </tr>\n",
       "  </tbody>\n",
       "</table>\n",
       "</div>"
      ],
      "text/plain": [
       "               open     high      low    close    volume\n",
       "date                                                    \n",
       "2014-02-10  68.6475  70.4118  68.5601  70.0147  86451022\n",
       "2014-02-11  70.2291  71.1741  70.0822  70.9372  70672252\n",
       "2014-02-12  71.0682  71.4137  70.5772  70.9319  77127064\n",
       "2014-02-13  70.7651  72.1138  70.7043  72.0583  76960156\n",
       "2014-02-14  71.7988  72.2634  71.6321  72.0000  68468036"
      ]
     },
     "execution_count": 116,
     "metadata": {},
     "output_type": "execute_result"
    }
   ],
   "source": [
    "AAPL.head()"
   ]
  },
  {
   "cell_type": "code",
   "execution_count": 117,
   "metadata": {},
   "outputs": [
    {
     "data": {
      "text/html": [
       "<div>\n",
       "<style scoped>\n",
       "    .dataframe tbody tr th:only-of-type {\n",
       "        vertical-align: middle;\n",
       "    }\n",
       "\n",
       "    .dataframe tbody tr th {\n",
       "        vertical-align: top;\n",
       "    }\n",
       "\n",
       "    .dataframe thead th {\n",
       "        text-align: right;\n",
       "    }\n",
       "</style>\n",
       "<table border=\"1\" class=\"dataframe\">\n",
       "  <thead>\n",
       "    <tr style=\"text-align: right;\">\n",
       "      <th></th>\n",
       "      <th>open</th>\n",
       "      <th>high</th>\n",
       "      <th>low</th>\n",
       "      <th>close</th>\n",
       "      <th>volume</th>\n",
       "    </tr>\n",
       "    <tr>\n",
       "      <th>date</th>\n",
       "      <th></th>\n",
       "      <th></th>\n",
       "      <th></th>\n",
       "      <th></th>\n",
       "      <th></th>\n",
       "    </tr>\n",
       "  </thead>\n",
       "  <tbody>\n",
       "    <tr>\n",
       "      <th>2018-10-18</th>\n",
       "      <td>217.86</td>\n",
       "      <td>219.74</td>\n",
       "      <td>213.00</td>\n",
       "      <td>216.02</td>\n",
       "      <td>32581315</td>\n",
       "    </tr>\n",
       "    <tr>\n",
       "      <th>2018-10-19</th>\n",
       "      <td>218.06</td>\n",
       "      <td>221.26</td>\n",
       "      <td>217.43</td>\n",
       "      <td>219.31</td>\n",
       "      <td>33078726</td>\n",
       "    </tr>\n",
       "    <tr>\n",
       "      <th>2018-10-22</th>\n",
       "      <td>219.79</td>\n",
       "      <td>223.36</td>\n",
       "      <td>218.94</td>\n",
       "      <td>220.65</td>\n",
       "      <td>28792082</td>\n",
       "    </tr>\n",
       "    <tr>\n",
       "      <th>2018-10-23</th>\n",
       "      <td>215.83</td>\n",
       "      <td>223.25</td>\n",
       "      <td>214.70</td>\n",
       "      <td>222.73</td>\n",
       "      <td>38767846</td>\n",
       "    </tr>\n",
       "    <tr>\n",
       "      <th>2018-10-24</th>\n",
       "      <td>222.60</td>\n",
       "      <td>224.23</td>\n",
       "      <td>214.54</td>\n",
       "      <td>215.09</td>\n",
       "      <td>40925163</td>\n",
       "    </tr>\n",
       "  </tbody>\n",
       "</table>\n",
       "</div>"
      ],
      "text/plain": [
       "              open    high     low   close    volume\n",
       "date                                                \n",
       "2018-10-18  217.86  219.74  213.00  216.02  32581315\n",
       "2018-10-19  218.06  221.26  217.43  219.31  33078726\n",
       "2018-10-22  219.79  223.36  218.94  220.65  28792082\n",
       "2018-10-23  215.83  223.25  214.70  222.73  38767846\n",
       "2018-10-24  222.60  224.23  214.54  215.09  40925163"
      ]
     },
     "execution_count": 117,
     "metadata": {},
     "output_type": "execute_result"
    }
   ],
   "source": [
    "AAPL.tail()"
   ]
  },
  {
   "cell_type": "markdown",
   "metadata": {},
   "source": [
    "We can easily visualize..."
   ]
  },
  {
   "cell_type": "code",
   "execution_count": 118,
   "metadata": {},
   "outputs": [
    {
     "data": {
      "text/plain": [
       "<matplotlib.axes._subplots.AxesSubplot at 0x7ff3626d7e80>"
      ]
     },
     "execution_count": 118,
     "metadata": {},
     "output_type": "execute_result"
    },
    {
     "data": {
      "image/png": "[encoded data removed]",
      "text/plain": [
       "<Figure size 576x360 with 1 Axes>"
      ]
     },
     "metadata": {},
     "output_type": "display_data"
    }
   ],
   "source": [
    "AAPL['close'].plot(figsize=(8,5))"
   ]
  },
  {
   "cell_type": "markdown",
   "metadata": {},
   "source": [
    "We can take advantage of the vectorization provided by `pandas` in computing a new column:"
   ]
  },
  {
   "cell_type": "code",
   "execution_count": 119,
   "metadata": {},
   "outputs": [],
   "source": [
    "AAPL['return'] = np.log(AAPL['close'] / AAPL['close'].shift(1))"
   ]
  },
  {
   "cell_type": "markdown",
   "metadata": {},
   "source": [
    "Sanity Check:"
   ]
  },
  {
   "cell_type": "code",
   "execution_count": 120,
   "metadata": {},
   "outputs": [
    {
     "data": {
      "text/plain": [
       "date\n",
       "2014-02-10         NaN\n",
       "2014-02-11     70.0147\n",
       "2014-02-12     70.9372\n",
       "2014-02-13     70.9319\n",
       "2014-02-14     72.0583\n",
       "2014-02-18     72.0000\n",
       "2014-02-19     72.2647\n",
       "2014-02-20     71.1238\n",
       "2014-02-21     70.3006\n",
       "2014-02-24     69.5197\n",
       "2014-02-25     69.8241\n",
       "2014-02-26     69.0975\n",
       "2014-02-27     68.4741\n",
       "2014-02-28     69.8400\n",
       "2014-03-03     69.6507\n",
       "2014-03-04     69.8519\n",
       "2014-03-05     70.3125\n",
       "2014-03-06     70.4607\n",
       "2014-03-07     70.2476\n",
       "2014-03-10     70.2066\n",
       "2014-03-11     70.2701\n",
       "2014-03-12     70.9544\n",
       "2014-03-13     71.0232\n",
       "2014-03-14     70.2344\n",
       "2014-03-17     69.4456\n",
       "2014-03-18     69.7169\n",
       "2014-03-19     70.3337\n",
       "2014-03-20     70.3151\n",
       "2014-03-21     69.9763\n",
       "2014-03-24     70.5282\n",
       "                ...   \n",
       "2018-09-13    221.0700\n",
       "2018-09-14    226.4100\n",
       "2018-09-17    223.8400\n",
       "2018-09-18    217.8800\n",
       "2018-09-19    218.2400\n",
       "2018-09-20    218.3700\n",
       "2018-09-21    220.0300\n",
       "2018-09-24    217.6600\n",
       "2018-09-25    220.7900\n",
       "2018-09-26    222.1900\n",
       "2018-09-27    220.4200\n",
       "2018-09-28    224.9500\n",
       "2018-10-01    225.7400\n",
       "2018-10-02    227.2600\n",
       "2018-10-03    229.2800\n",
       "2018-10-04    232.0700\n",
       "2018-10-05    227.9900\n",
       "2018-10-08    224.2900\n",
       "2018-10-09    223.7700\n",
       "2018-10-10    226.8700\n",
       "2018-10-11    216.3600\n",
       "2018-10-12    214.4500\n",
       "2018-10-15    222.1100\n",
       "2018-10-16    217.3600\n",
       "2018-10-17    222.1500\n",
       "2018-10-18    221.1900\n",
       "2018-10-19    216.0200\n",
       "2018-10-22    219.3100\n",
       "2018-10-23    220.6500\n",
       "2018-10-24    222.7300\n",
       "Name: close, Length: 1187, dtype: float64"
      ]
     },
     "execution_count": 120,
     "metadata": {},
     "output_type": "execute_result"
    }
   ],
   "source": [
    "AAPL.close.shift(1)"
   ]
  },
  {
   "cell_type": "markdown",
   "metadata": {},
   "source": [
    "We can now plot these two next two each other with a single line:"
   ]
  },
  {
   "cell_type": "code",
   "execution_count": 121,
   "metadata": {},
   "outputs": [
    {
     "data": {
      "text/plain": [
       "array([<matplotlib.axes._subplots.AxesSubplot object at 0x7ff390091438>,\n",
       "       <matplotlib.axes._subplots.AxesSubplot object at 0x7ff362625e10>],\n",
       "      dtype=object)"
      ]
     },
     "execution_count": 121,
     "metadata": {},
     "output_type": "execute_result"
    },
    {
     "data": {
      "image/png": "[encoded data removed]",
      "text/plain": [
       "<Figure size 576x360 with 2 Axes>"
      ]
     },
     "metadata": {},
     "output_type": "display_data"
    }
   ],
   "source": [
    "AAPL[['close','return']].plot(subplots=True,style='b',figsize=(8,5))"
   ]
  },
  {
   "cell_type": "markdown",
   "metadata": {},
   "source": [
    "This is allegedly demonstrating some principles in finance (i.e. *volatility clustering* and *leveraging effect*), but I've substituted different data for the textbook's, so you tell me!"
   ]
  },
  {
   "cell_type": "markdown",
   "metadata": {},
   "source": [
    "One of the most basic moves one makes in analyzing time series data is to calculate a *rolling average* or *rolling mean*. There's a method for that."
   ]
  },
  {
   "cell_type": "code",
   "execution_count": 122,
   "metadata": {},
   "outputs": [],
   "source": [
    "AAPL['42d'] = AAPL.close.rolling(window=42).mean()\n",
    "AAPL['252d'] = AAPL.close.rolling(window=252).mean()"
   ]
  },
  {
   "cell_type": "markdown",
   "metadata": {},
   "source": [
    "Finally, we can plot the two of these together."
   ]
  },
  {
   "cell_type": "code",
   "execution_count": 123,
   "metadata": {},
   "outputs": [
    {
     "data": {
      "text/plain": [
       "<matplotlib.axes._subplots.AxesSubplot at 0x7ff36255d128>"
      ]
     },
     "execution_count": 123,
     "metadata": {},
     "output_type": "execute_result"
    },
    {
     "data": {
      "image/png": "[encoded data removed]",
      "text/plain": [
       "<Figure size 576x360 with 1 Axes>"
      ]
     },
     "metadata": {},
     "output_type": "display_data"
    }
   ],
   "source": [
    "AAPL[['close','42d','252d']].plot(figsize=(8,5))"
   ]
  },
  {
   "cell_type": "markdown",
   "metadata": {},
   "source": [
    "Another financial metric a trader might want to calculate is the *moving volatility*, which is given by the rolling *standard deviation* of the return."
   ]
  },
  {
   "cell_type": "code",
   "execution_count": 124,
   "metadata": {},
   "outputs": [],
   "source": [
    "AAPL['movVol'] = AAPL['return'].rolling(window=252).std()*np.sqrt(252)"
   ]
  },
  {
   "cell_type": "code",
   "execution_count": 125,
   "metadata": {},
   "outputs": [
    {
     "data": {
      "text/plain": [
       "array([<matplotlib.axes._subplots.AxesSubplot object at 0x7ff3624db2b0>,\n",
       "       <matplotlib.axes._subplots.AxesSubplot object at 0x7ff3625029e8>,\n",
       "       <matplotlib.axes._subplots.AxesSubplot object at 0x7ff3624adf60>],\n",
       "      dtype=object)"
      ]
     },
     "execution_count": 125,
     "metadata": {},
     "output_type": "execute_result"
    },
    {
     "data": {
      "image/png": "[encoded data removed]",
      "text/plain": [
       "<Figure size 576x360 with 3 Axes>"
      ]
     },
     "metadata": {},
     "output_type": "display_data"
    }
   ],
   "source": [
    "AAPL[['close','movVol','return']].plot(subplots=True,style='b',figsize=(8,5))"
   ]
  },
  {
   "cell_type": "markdown",
   "metadata": {},
   "source": [
    "This seems to do a better job of illustrating those two principles mentioned above."
   ]
  },
  {
   "cell_type": "markdown",
   "metadata": {},
   "source": [
    "**Regression**"
   ]
  },
  {
   "cell_type": "markdown",
   "metadata": {},
   "source": [
    "Let's talk about quantifying and automatically detecting the patterns we find in plots like the ones we made above. This is *regression analysis* and is basically glorified curve-fitting."
   ]
  },
  {
   "cell_type": "markdown",
   "metadata": {},
   "source": [
    "The first step is to get our hands on some nice new data from [Stoxx](stoxx.com)."
   ]
  },
  {
   "cell_type": "code",
   "execution_count": 126,
   "metadata": {},
   "outputs": [
    {
     "data": {
      "text/plain": [
       "('vs.txt', <http.client.HTTPMessage at 0x7ff3559cb1d0>)"
      ]
     },
     "execution_count": 126,
     "metadata": {},
     "output_type": "execute_result"
    }
   ],
   "source": [
    "# Necessary imports (the latter for later)\n",
    "from urllib.request import urlretrieve\n",
    "import statsmodels.api as sm\n",
    "\n",
    "# Here downloading the data\n",
    "es_url = 'http://www.stoxx.com/download/historical_values/hbrbcpe.txt'\n",
    "vs_url = 'http://www.stoxx.com/download/historical_values/h_vstoxx.txt'\n",
    "urlretrieve(es_url, 'es.txt')\n",
    "urlretrieve(vs_url, 'vs.txt')"
   ]
  },
  {
   "cell_type": "markdown",
   "metadata": {},
   "source": [
    "(might take a moment)"
   ]
  },
  {
   "cell_type": "markdown",
   "metadata": {},
   "source": [
    "Now that we have this data...what is it?\n",
    "\n",
    "* EURO STOXX 50 index\n",
    "    >  Historical\tdaily\tclosing\tvalues\tof\tthe\tEURO\tSTOXX\t50\tindex,\tcomposed\tof European\tblue-chip\tstocks\n",
    "* VSTOXX\n",
    "    > Historical daily closing\tdata for the VSTOXX volatility index, calculated\ton\tthe\tbasis of volatilities implied by options on\tthe\tEURO STOXX 50 index"
   ]
  },
  {
   "cell_type": "markdown",
   "metadata": {},
   "source": [
    "The first of these, call it `es`, needs some formatting changes. You can reverse engineer the following cell if you feel like it; I think it is really not interesting."
   ]
  },
  {
   "cell_type": "code",
   "execution_count": 127,
   "metadata": {},
   "outputs": [
    {
     "data": {
      "text/plain": [
       "['date;SX5P;SX5E;SXXP;SXXE;SXXF;SXXA;DK5F;DKXF;DEL\\n',\n",
       " '31.12.1986;775.00;900.82;82.76;98.58;98.06;69.06;645.26;65.56\\n',\n",
       " '01.01.1987;775.00;900.82;82.76;98.58;98.06;69.06;645.26;65.56\\n',\n",
       " '02.01.1987;770.89;891.78;82.57;97.80;97.43;69.37;647.62;65.81\\n',\n",
       " '05.01.1987;771.89;898.33;82.82;98.60;98.19;69.16;649.94;65.82\\n']"
      ]
     },
     "execution_count": 127,
     "metadata": {},
     "output_type": "execute_result"
    }
   ],
   "source": [
    "with open('es.txt', 'r') as f:\n",
    "    lines = f.readlines()\n",
    "\n",
    "lines = [line.replace(' ', '') for line in lines]\n",
    "\n",
    "with open('es50.txt', 'w') as new_file:\n",
    "    new_file.writelines('date' + lines[3][:-1]\n",
    "                        + ';DEL' + lines[3][-1])\n",
    "        # writes the corrected third line of the orginal file\n",
    "        # as first line of new file\n",
    "    new_file.writelines(lines[4:])\n",
    "        # writes the remaining lines of the orginial file\n",
    "\n",
    "new_lines = open('es50.txt', 'r').readlines()\n",
    "new_lines[:5]"
   ]
  },
  {
   "cell_type": "markdown",
   "metadata": {},
   "source": [
    "It is ready to be read in."
   ]
  },
  {
   "cell_type": "code",
   "execution_count": 128,
   "metadata": {},
   "outputs": [],
   "source": [
    "es = pd.read_csv('es50.txt',index_col=0,parse_dates=True,sep=';',dayfirst=True)"
   ]
  },
  {
   "cell_type": "code",
   "execution_count": 131,
   "metadata": {},
   "outputs": [
    {
     "data": {
      "text/html": [
       "<div>\n",
       "<style scoped>\n",
       "    .dataframe tbody tr th:only-of-type {\n",
       "        vertical-align: middle;\n",
       "    }\n",
       "\n",
       "    .dataframe tbody tr th {\n",
       "        vertical-align: top;\n",
       "    }\n",
       "\n",
       "    .dataframe thead th {\n",
       "        text-align: right;\n",
       "    }\n",
       "</style>\n",
       "<table border=\"1\" class=\"dataframe\">\n",
       "  <thead>\n",
       "    <tr style=\"text-align: right;\">\n",
       "      <th></th>\n",
       "      <th>SX5P</th>\n",
       "      <th>SX5E</th>\n",
       "      <th>SXXP</th>\n",
       "      <th>SXXE</th>\n",
       "      <th>SXXF</th>\n",
       "      <th>SXXA</th>\n",
       "      <th>DK5F</th>\n",
       "      <th>DKXF</th>\n",
       "    </tr>\n",
       "    <tr>\n",
       "      <th>date</th>\n",
       "      <th></th>\n",
       "      <th></th>\n",
       "      <th></th>\n",
       "      <th></th>\n",
       "      <th></th>\n",
       "      <th></th>\n",
       "      <th></th>\n",
       "      <th></th>\n",
       "    </tr>\n",
       "  </thead>\n",
       "  <tbody>\n",
       "    <tr>\n",
       "      <th>2016-09-28</th>\n",
       "      <td>2847.0</td>\n",
       "      <td>2991.0</td>\n",
       "      <td>343.0</td>\n",
       "      <td>324.0</td>\n",
       "      <td>408.0</td>\n",
       "      <td>350.0</td>\n",
       "      <td>9072.0</td>\n",
       "      <td>581.0</td>\n",
       "    </tr>\n",
       "    <tr>\n",
       "      <th>2016-09-29</th>\n",
       "      <td>2849.0</td>\n",
       "      <td>2992.0</td>\n",
       "      <td>343.0</td>\n",
       "      <td>324.0</td>\n",
       "      <td>408.0</td>\n",
       "      <td>351.0</td>\n",
       "      <td>9112.0</td>\n",
       "      <td>583.0</td>\n",
       "    </tr>\n",
       "    <tr>\n",
       "      <th>2016-09-30</th>\n",
       "      <td>2843.0</td>\n",
       "      <td>3002.0</td>\n",
       "      <td>343.0</td>\n",
       "      <td>325.0</td>\n",
       "      <td>408.0</td>\n",
       "      <td>350.0</td>\n",
       "      <td>9116.0</td>\n",
       "      <td>583.0</td>\n",
       "    </tr>\n",
       "    <tr>\n",
       "      <th>2016-10-03</th>\n",
       "      <td>2845.0</td>\n",
       "      <td>2998.0</td>\n",
       "      <td>343.0</td>\n",
       "      <td>325.0</td>\n",
       "      <td>408.0</td>\n",
       "      <td>351.0</td>\n",
       "      <td>9131.0</td>\n",
       "      <td>584.0</td>\n",
       "    </tr>\n",
       "    <tr>\n",
       "      <th>2016-10-04</th>\n",
       "      <td>2871.0</td>\n",
       "      <td>3030.0</td>\n",
       "      <td>346.0</td>\n",
       "      <td>328.0</td>\n",
       "      <td>411.0</td>\n",
       "      <td>354.0</td>\n",
       "      <td>9212.0</td>\n",
       "      <td>589.0</td>\n",
       "    </tr>\n",
       "  </tbody>\n",
       "</table>\n",
       "</div>"
      ],
      "text/plain": [
       "              SX5P    SX5E   SXXP   SXXE   SXXF   SXXA    DK5F   DKXF\n",
       "date                                                                 \n",
       "2016-09-28  2847.0  2991.0  343.0  324.0  408.0  350.0  9072.0  581.0\n",
       "2016-09-29  2849.0  2992.0  343.0  324.0  408.0  351.0  9112.0  583.0\n",
       "2016-09-30  2843.0  3002.0  343.0  325.0  408.0  350.0  9116.0  583.0\n",
       "2016-10-03  2845.0  2998.0  343.0  325.0  408.0  351.0  9131.0  584.0\n",
       "2016-10-04  2871.0  3030.0  346.0  328.0  411.0  354.0  9212.0  589.0"
      ]
     },
     "execution_count": 131,
     "metadata": {},
     "output_type": "execute_result"
    }
   ],
   "source": [
    "np.round(es.tail())"
   ]
  },
  {
   "cell_type": "markdown",
   "metadata": {},
   "source": [
    "See that little guy on the end? We don't need that little guy."
   ]
  },
  {
   "cell_type": "code",
   "execution_count": 130,
   "metadata": {},
   "outputs": [],
   "source": [
    "del es['DEL']"
   ]
  },
  {
   "cell_type": "markdown",
   "metadata": {},
   "source": [
    "We also want the VSTOXX set. That one is already nice."
   ]
  },
  {
   "cell_type": "code",
   "execution_count": 132,
   "metadata": {},
   "outputs": [],
   "source": [
    "vs = pd.read_csv('vs.txt',index_col=0,parse_dates=True,header=2,sep=',',dayfirst=True)"
   ]
  },
  {
   "cell_type": "code",
   "execution_count": 133,
   "metadata": {},
   "outputs": [],
   "source": [
    "import datetime as dt # Needed for next thing"
   ]
  },
  {
   "cell_type": "code",
   "execution_count": 134,
   "metadata": {},
   "outputs": [],
   "source": [
    "# Just one column, filtered, from the first\n",
    "data = pd.DataFrame({'EUROSTOXX' :\n",
    "                     es['SX5E'][es.index > dt.datetime(1999, 1, 1)]})\n",
    "\n",
    "# Combining with another column, also filtered, from the second\n",
    "data = data.join(pd.DataFrame({'VSTOXX' :\n",
    "                     vs['V2TX'][vs.index > dt.datetime(1999, 1, 1)]}))"
   ]
  },
  {
   "cell_type": "markdown",
   "metadata": {},
   "source": [
    "We  fill missing values with the last available values from the time series. \n",
    "\n",
    "We call the fillna method, providing ffill (for forward fill) as the method parameter\n"
   ]
  },
  {
   "cell_type": "code",
   "execution_count": 135,
   "metadata": {},
   "outputs": [
    {
     "data": {
      "text/html": [
       "<div>\n",
       "<style scoped>\n",
       "    .dataframe tbody tr th:only-of-type {\n",
       "        vertical-align: middle;\n",
       "    }\n",
       "\n",
       "    .dataframe tbody tr th {\n",
       "        vertical-align: top;\n",
       "    }\n",
       "\n",
       "    .dataframe thead th {\n",
       "        text-align: right;\n",
       "    }\n",
       "</style>\n",
       "<table border=\"1\" class=\"dataframe\">\n",
       "  <thead>\n",
       "    <tr style=\"text-align: right;\">\n",
       "      <th></th>\n",
       "      <th>EUROSTOXX</th>\n",
       "      <th>VSTOXX</th>\n",
       "    </tr>\n",
       "    <tr>\n",
       "      <th>date</th>\n",
       "      <th></th>\n",
       "      <th></th>\n",
       "    </tr>\n",
       "  </thead>\n",
       "  <tbody>\n",
       "    <tr>\n",
       "      <th>1999-01-04</th>\n",
       "      <td>3543.10</td>\n",
       "      <td>18.2033</td>\n",
       "    </tr>\n",
       "    <tr>\n",
       "      <th>1999-01-05</th>\n",
       "      <td>3604.67</td>\n",
       "      <td>29.6912</td>\n",
       "    </tr>\n",
       "    <tr>\n",
       "      <th>1999-01-06</th>\n",
       "      <td>3685.36</td>\n",
       "      <td>25.1670</td>\n",
       "    </tr>\n",
       "    <tr>\n",
       "      <th>1999-01-07</th>\n",
       "      <td>3627.87</td>\n",
       "      <td>32.5205</td>\n",
       "    </tr>\n",
       "    <tr>\n",
       "      <th>1999-01-08</th>\n",
       "      <td>3616.57</td>\n",
       "      <td>33.2296</td>\n",
       "    </tr>\n",
       "  </tbody>\n",
       "</table>\n",
       "</div>"
      ],
      "text/plain": [
       "            EUROSTOXX   VSTOXX\n",
       "date                          \n",
       "1999-01-04    3543.10  18.2033\n",
       "1999-01-05    3604.67  29.6912\n",
       "1999-01-06    3685.36  25.1670\n",
       "1999-01-07    3627.87  32.5205\n",
       "1999-01-08    3616.57  33.2296"
      ]
     },
     "execution_count": 135,
     "metadata": {},
     "output_type": "execute_result"
    }
   ],
   "source": [
    "data.head()"
   ]
  },
  {
   "cell_type": "code",
   "execution_count": 136,
   "metadata": {},
   "outputs": [],
   "source": [
    "data = data.fillna(method='ffill')"
   ]
  },
  {
   "cell_type": "markdown",
   "metadata": {},
   "source": [
    "Let's take a look"
   ]
  },
  {
   "cell_type": "code",
   "execution_count": 137,
   "metadata": {},
   "outputs": [
    {
     "data": {
      "text/html": [
       "<div>\n",
       "<style scoped>\n",
       "    .dataframe tbody tr th:only-of-type {\n",
       "        vertical-align: middle;\n",
       "    }\n",
       "\n",
       "    .dataframe tbody tr th {\n",
       "        vertical-align: top;\n",
       "    }\n",
       "\n",
       "    .dataframe thead th {\n",
       "        text-align: right;\n",
       "    }\n",
       "</style>\n",
       "<table border=\"1\" class=\"dataframe\">\n",
       "  <thead>\n",
       "    <tr style=\"text-align: right;\">\n",
       "      <th></th>\n",
       "      <th>EUROSTOXX</th>\n",
       "      <th>VSTOXX</th>\n",
       "    </tr>\n",
       "    <tr>\n",
       "      <th>date</th>\n",
       "      <th></th>\n",
       "      <th></th>\n",
       "    </tr>\n",
       "  </thead>\n",
       "  <tbody>\n",
       "    <tr>\n",
       "      <th>2016-09-28</th>\n",
       "      <td>2991.11</td>\n",
       "      <td>35.6846</td>\n",
       "    </tr>\n",
       "    <tr>\n",
       "      <th>2016-09-29</th>\n",
       "      <td>2991.58</td>\n",
       "      <td>35.6846</td>\n",
       "    </tr>\n",
       "    <tr>\n",
       "      <th>2016-09-30</th>\n",
       "      <td>3002.24</td>\n",
       "      <td>35.6846</td>\n",
       "    </tr>\n",
       "    <tr>\n",
       "      <th>2016-10-03</th>\n",
       "      <td>2998.50</td>\n",
       "      <td>35.6846</td>\n",
       "    </tr>\n",
       "    <tr>\n",
       "      <th>2016-10-04</th>\n",
       "      <td>3029.50</td>\n",
       "      <td>35.6846</td>\n",
       "    </tr>\n",
       "  </tbody>\n",
       "</table>\n",
       "</div>"
      ],
      "text/plain": [
       "            EUROSTOXX   VSTOXX\n",
       "date                          \n",
       "2016-09-28    2991.11  35.6846\n",
       "2016-09-29    2991.58  35.6846\n",
       "2016-09-30    3002.24  35.6846\n",
       "2016-10-03    2998.50  35.6846\n",
       "2016-10-04    3029.50  35.6846"
      ]
     },
     "execution_count": 137,
     "metadata": {},
     "output_type": "execute_result"
    }
   ],
   "source": [
    "data.tail()"
   ]
  },
  {
   "cell_type": "markdown",
   "metadata": {},
   "source": [
    "Looking good! How about a look at the plot?"
   ]
  },
  {
   "cell_type": "code",
   "execution_count": 138,
   "metadata": {},
   "outputs": [
    {
     "data": {
      "text/plain": [
       "array([<matplotlib.axes._subplots.AxesSubplot object at 0x7ff3559cbba8>,\n",
       "       <matplotlib.axes._subplots.AxesSubplot object at 0x7ff3557a8f98>],\n",
       "      dtype=object)"
      ]
     },
     "execution_count": 138,
     "metadata": {},
     "output_type": "execute_result"
    },
    {
     "data": {
      "image/png": "[encoded data removed]",
      "text/plain": [
       "<Figure size 576x432 with 2 Axes>"
      ]
     },
     "metadata": {},
     "output_type": "display_data"
    }
   ],
   "source": [
    "data.plot(subplots=True, grid=True, style='b', figsize=(8, 6))"
   ]
  },
  {
   "cell_type": "markdown",
   "metadata": {},
   "source": [
    "We can also quickly look at the log returns of the two quantities in question."
   ]
  },
  {
   "cell_type": "code",
   "execution_count": 140,
   "metadata": {},
   "outputs": [
    {
     "name": "stderr",
     "output_type": "stream",
     "text": [
      "/home/martin/anaconda3/lib/python3.6/site-packages/ipykernel_launcher.py:2: RuntimeWarning: divide by zero encountered in log\n",
      "  \n"
     ]
    },
    {
     "data": {
      "text/plain": [
       "array([<matplotlib.axes._subplots.AxesSubplot object at 0x7ff3556dad68>,\n",
       "       <matplotlib.axes._subplots.AxesSubplot object at 0x7ff35479a358>],\n",
       "      dtype=object)"
      ]
     },
     "execution_count": 140,
     "metadata": {},
     "output_type": "execute_result"
    },
    {
     "data": {
      "image/png": "[encoded data removed]",
      "text/plain": [
       "<Figure size 576x432 with 2 Axes>"
      ]
     },
     "metadata": {},
     "output_type": "display_data"
    }
   ],
   "source": [
    "# Calculating - massive broadcasting here\n",
    "rets = np.log(data / data.shift(1)) \n",
    "rets.dropna(inplace=True)\n",
    "\n",
    "rets.plot(subplots=True, grid=True, style='b', figsize=(8, 6))"
   ]
  },
  {
   "cell_type": "markdown",
   "metadata": {},
   "source": [
    "Now we are ready to hit it with the linear regression hammer. We take the `es` values as the *independent* or *predictor* variable, and the `vs` variables as the *dependent* or *response* variable."
   ]
  },
  {
   "cell_type": "markdown",
   "metadata": {},
   "source": [
    "There is unfortunately some nasty stuff in there, so lets get rid of it first."
   ]
  },
  {
   "cell_type": "code",
   "execution_count": 142,
   "metadata": {},
   "outputs": [],
   "source": [
    "rets.dropna(inplace=True)\n",
    "rets = rets[(rets.EUROSTOXX != np.inf) & (rets.EUROSTOXX != -np.inf)] # Removes infinity values"
   ]
  },
  {
   "cell_type": "code",
   "execution_count": 144,
   "metadata": {},
   "outputs": [
    {
     "data": {
      "text/plain": [
       "<matplotlib.collections.PathCollection at 0x7ff3546ab828>"
      ]
     },
     "execution_count": 144,
     "metadata": {},
     "output_type": "execute_result"
    },
    {
     "data": {
      "image/png": "[encoded data removed]",
      "text/plain": [
       "<Figure size 432x288 with 1 Axes>"
      ]
     },
     "metadata": {},
     "output_type": "display_data"
    }
   ],
   "source": [
    "plt.scatter(xdat,ydat)"
   ]
  },
  {
   "cell_type": "code",
   "execution_count": 143,
   "metadata": {},
   "outputs": [],
   "source": [
    "xdat = rets['EUROSTOXX']\n",
    "ydat = rets['VSTOXX']"
   ]
  },
  {
   "cell_type": "markdown",
   "metadata": {},
   "source": [
    "The model is now very easy to do:"
   ]
  },
  {
   "cell_type": "code",
   "execution_count": 145,
   "metadata": {},
   "outputs": [],
   "source": [
    "model = sm.OLS(ydat, xdat) # Create model object\n",
    "olsres = model.fit() # Do the fit; an optimization"
   ]
  },
  {
   "cell_type": "code",
   "execution_count": 150,
   "metadata": {},
   "outputs": [
    {
     "data": {
      "text/html": [
       "<table class=\"simpletable\">\n",
       "<caption>OLS Regression Results</caption>\n",
       "<tr>\n",
       "  <th>Dep. Variable:</th>         <td>VSTOXX</td>      <th>  R-squared:         </th>  <td>   0.526</td> \n",
       "</tr>\n",
       "<tr>\n",
       "  <th>Model:</th>                   <td>OLS</td>       <th>  Adj. R-squared:    </th>  <td>   0.525</td> \n",
       "</tr>\n",
       "<tr>\n",
       "  <th>Method:</th>             <td>Least Squares</td>  <th>  F-statistic:       </th>  <td>   5039.</td> \n",
       "</tr>\n",
       "<tr>\n",
       "  <th>Date:</th>             <td>Thu, 25 Oct 2018</td> <th>  Prob (F-statistic):</th>   <td>  0.00</td>  \n",
       "</tr>\n",
       "<tr>\n",
       "  <th>Time:</th>                 <td>14:58:36</td>     <th>  Log-Likelihood:    </th>  <td>  8261.8</td> \n",
       "</tr>\n",
       "<tr>\n",
       "  <th>No. Observations:</th>      <td>  4550</td>      <th>  AIC:               </th> <td>-1.652e+04</td>\n",
       "</tr>\n",
       "<tr>\n",
       "  <th>Df Residuals:</th>          <td>  4549</td>      <th>  BIC:               </th> <td>-1.652e+04</td>\n",
       "</tr>\n",
       "<tr>\n",
       "  <th>Df Model:</th>              <td>     1</td>      <th>                     </th>      <td> </td>    \n",
       "</tr>\n",
       "<tr>\n",
       "  <th>Covariance Type:</th>      <td>nonrobust</td>    <th>                     </th>      <td> </td>    \n",
       "</tr>\n",
       "</table>\n",
       "<table class=\"simpletable\">\n",
       "<tr>\n",
       "      <td></td>         <th>coef</th>     <th>std err</th>      <th>t</th>      <th>P>|t|</th>  <th>[0.025</th>    <th>0.975]</th>  \n",
       "</tr>\n",
       "<tr>\n",
       "  <th>EUROSTOXX</th> <td>   -2.7539</td> <td>    0.039</td> <td>  -70.985</td> <td> 0.000</td> <td>   -2.830</td> <td>   -2.678</td>\n",
       "</tr>\n",
       "</table>\n",
       "<table class=\"simpletable\">\n",
       "<tr>\n",
       "  <th>Omnibus:</th>       <td>1296.560</td> <th>  Durbin-Watson:     </th> <td>   2.043</td> \n",
       "</tr>\n",
       "<tr>\n",
       "  <th>Prob(Omnibus):</th>  <td> 0.000</td>  <th>  Jarque-Bera (JB):  </th> <td>24644.094</td>\n",
       "</tr>\n",
       "<tr>\n",
       "  <th>Skew:</th>           <td> 0.875</td>  <th>  Prob(JB):          </th> <td>    0.00</td> \n",
       "</tr>\n",
       "<tr>\n",
       "  <th>Kurtosis:</th>       <td>14.266</td>  <th>  Cond. No.          </th> <td>    1.00</td> \n",
       "</tr>\n",
       "</table><br/><br/>Warnings:<br/>[1] Standard Errors assume that the covariance matrix of the errors is correctly specified."
      ],
      "text/plain": [
       "<class 'statsmodels.iolib.summary.Summary'>\n",
       "\"\"\"\n",
       "                            OLS Regression Results                            \n",
       "==============================================================================\n",
       "Dep. Variable:                 VSTOXX   R-squared:                       0.526\n",
       "Model:                            OLS   Adj. R-squared:                  0.525\n",
       "Method:                 Least Squares   F-statistic:                     5039.\n",
       "Date:                Thu, 25 Oct 2018   Prob (F-statistic):               0.00\n",
       "Time:                        14:58:36   Log-Likelihood:                 8261.8\n",
       "No. Observations:                4550   AIC:                        -1.652e+04\n",
       "Df Residuals:                    4549   BIC:                        -1.652e+04\n",
       "Df Model:                           1                                         \n",
       "Covariance Type:            nonrobust                                         \n",
       "==============================================================================\n",
       "                 coef    std err          t      P>|t|      [0.025      0.975]\n",
       "------------------------------------------------------------------------------\n",
       "EUROSTOXX     -2.7539      0.039    -70.985      0.000      -2.830      -2.678\n",
       "==============================================================================\n",
       "Omnibus:                     1296.560   Durbin-Watson:                   2.043\n",
       "Prob(Omnibus):                  0.000   Jarque-Bera (JB):            24644.094\n",
       "Skew:                           0.875   Prob(JB):                         0.00\n",
       "Kurtosis:                      14.266   Cond. No.                         1.00\n",
       "==============================================================================\n",
       "\n",
       "Warnings:\n",
       "[1] Standard Errors assume that the covariance matrix of the errors is correctly specified.\n",
       "\"\"\""
      ]
     },
     "execution_count": 150,
     "metadata": {},
     "output_type": "execute_result"
    }
   ],
   "source": [
    "olsres.summary()"
   ]
  },
  {
   "cell_type": "markdown",
   "metadata": {},
   "source": [
    "Let's plot the line of predicted values for this sucker together with a scatterplot of the original data."
   ]
  },
  {
   "cell_type": "code",
   "execution_count": 147,
   "metadata": {},
   "outputs": [],
   "source": [
    "preds = olsres.predict(xdat) # Getting the predictions."
   ]
  },
  {
   "cell_type": "code",
   "execution_count": 148,
   "metadata": {},
   "outputs": [
    {
     "data": {
      "text/html": [
       "\n",
       "    <div class=\"bk-root\">\n",
       "        <a href=\"https://bokeh.pydata.org\" target=\"_blank\" class=\"bk-logo bk-logo-small bk-logo-notebook\"></a>\n",
       "        <span id=\"04d9ba2f-bff7-4179-a94a-b57b3ec339a9\">Loading BokehJS ...</span>\n",
       "    </div>"
      ]
     },
     "metadata": {},
     "output_type": "display_data"
    },
    {
     "data": {
      "application/javascript": [
       "\n",
       "(function(root) {\n",
       "  function now() {\n",
       "    return new Date();\n",
       "  }\n",
       "\n",
       "  var force = true;\n",
       "\n",
       "  if (typeof (root._bokeh_onload_callbacks) === \"undefined\" || force === true) {\n",
       "    root._bokeh_onload_callbacks = [];\n",
       "    root._bokeh_is_loading = undefined;\n",
       "  }\n",
       "\n",
       "  var JS_MIME_TYPE = 'application/javascript';\n",
       "  var HTML_MIME_TYPE = 'text/html';\n",
       "  var EXEC_MIME_TYPE = 'application/vnd.bokehjs_exec.v0+json';\n",
       "  var CLASS_NAME = 'output_bokeh rendered_html';\n",
       "\n",
       "  /**\n",
       "   * Render data to the DOM node\n",
       "   */\n",
       "  function render(props, node) {\n",
       "    var script = document.createElement(\"script\");\n",
       "    node.appendChild(script);\n",
       "  }\n",
       "\n",
       "  /**\n",
       "   * Handle when an output is cleared or removed\n",
       "   */\n",
       "  function handleClearOutput(event, handle) {\n",
       "    var cell = handle.cell;\n",
       "\n",
       "    var id = cell.output_area._bokeh_element_id;\n",
       "    var server_id = cell.output_area._bokeh_server_id;\n",
       "    // Clean up Bokeh references\n",
       "    if (id != null && id in Bokeh.index) {\n",
       "      Bokeh.index[id].model.document.clear();\n",
       "      delete Bokeh.index[id];\n",
       "    }\n",
       "\n",
       "    if (server_id !== undefined) {\n",
       "      // Clean up Bokeh references\n",
       "      var cmd = \"from bokeh.io.state import curstate; print(curstate().uuid_to_server['\" + server_id + \"'].get_sessions()[0].document.roots[0]._id)\";\n",
       "      cell.notebook.kernel.execute(cmd, {\n",
       "        iopub: {\n",
       "          output: function(msg) {\n",
       "            var id = msg.content.text.trim();\n",
       "            if (id in Bokeh.index) {\n",
       "              Bokeh.index[id].model.document.clear();\n",
       "              delete Bokeh.index[id];\n",
       "            }\n",
       "          }\n",
       "        }\n",
       "      });\n",
       "      // Destroy server and session\n",
       "      var cmd = \"import bokeh.io.notebook as ion; ion.destroy_server('\" + server_id + \"')\";\n",
       "      cell.notebook.kernel.execute(cmd);\n",
       "    }\n",
       "  }\n",
       "\n",
       "  /**\n",
       "   * Handle when a new output is added\n",
       "   */\n",
       "  function handleAddOutput(event, handle) {\n",
       "    var output_area = handle.output_area;\n",
       "    var output = handle.output;\n",
       "\n",
       "    // limit handleAddOutput to display_data with EXEC_MIME_TYPE content only\n",
       "    if ((output.output_type != \"display_data\") || (!output.data.hasOwnProperty(EXEC_MIME_TYPE))) {\n",
       "      return\n",
       "    }\n",
       "\n",
       "    var toinsert = output_area.element.find(\".\" + CLASS_NAME.split(' ')[0]);\n",
       "\n",
       "    if (output.metadata[EXEC_MIME_TYPE][\"id\"] !== undefined) {\n",
       "      toinsert[toinsert.length - 1].firstChild.textContent = output.data[JS_MIME_TYPE];\n",
       "      // store reference to embed id on output_area\n",
       "      output_area._bokeh_element_id = output.metadata[EXEC_MIME_TYPE][\"id\"];\n",
       "    }\n",
       "    if (output.metadata[EXEC_MIME_TYPE][\"server_id\"] !== undefined) {\n",
       "      var bk_div = document.createElement(\"div\");\n",
       "      bk_div.innerHTML = output.data[HTML_MIME_TYPE];\n",
       "      var script_attrs = bk_div.children[0].attributes;\n",
       "      for (var i = 0; i < script_attrs.length; i++) {\n",
       "        toinsert[toinsert.length - 1].firstChild.setAttribute(script_attrs[i].name, script_attrs[i].value);\n",
       "      }\n",
       "      // store reference to server id on output_area\n",
       "      output_area._bokeh_server_id = output.metadata[EXEC_MIME_TYPE][\"server_id\"];\n",
       "    }\n",
       "  }\n",
       "\n",
       "  function register_renderer(events, OutputArea) {\n",
       "\n",
       "    function append_mime(data, metadata, element) {\n",
       "      // create a DOM node to render to\n",
       "      var toinsert = this.create_output_subarea(\n",
       "        metadata,\n",
       "        CLASS_NAME,\n",
       "        EXEC_MIME_TYPE\n",
       "      );\n",
       "      this.keyboard_manager.register_events(toinsert);\n",
       "      // Render to node\n",
       "      var props = {data: data, metadata: metadata[EXEC_MIME_TYPE]};\n",
       "      render(props, toinsert[toinsert.length - 1]);\n",
       "      element.append(toinsert);\n",
       "      return toinsert\n",
       "    }\n",
       "\n",
       "    /* Handle when an output is cleared or removed */\n",
       "    events.on('clear_output.CodeCell', handleClearOutput);\n",
       "    events.on('delete.Cell', handleClearOutput);\n",
       "\n",
       "    /* Handle when a new output is added */\n",
       "    events.on('output_added.OutputArea', handleAddOutput);\n",
       "\n",
       "    /**\n",
       "     * Register the mime type and append_mime function with output_area\n",
       "     */\n",
       "    OutputArea.prototype.register_mime_type(EXEC_MIME_TYPE, append_mime, {\n",
       "      /* Is output safe? */\n",
       "      safe: true,\n",
       "      /* Index of renderer in `output_area.display_order` */\n",
       "      index: 0\n",
       "    });\n",
       "  }\n",
       "\n",
       "  // register the mime type if in Jupyter Notebook environment and previously unregistered\n",
       "  if (root.Jupyter !== undefined) {\n",
       "    var events = require('base/js/events');\n",
       "    var OutputArea = require('notebook/js/outputarea').OutputArea;\n",
       "\n",
       "    if (OutputArea.prototype.mime_types().indexOf(EXEC_MIME_TYPE) == -1) {\n",
       "      register_renderer(events, OutputArea);\n",
       "    }\n",
       "  }\n",
       "\n",
       "  \n",
       "  if (typeof (root._bokeh_timeout) === \"undefined\" || force === true) {\n",
       "    root._bokeh_timeout = Date.now() + 5000;\n",
       "    root._bokeh_failed_load = false;\n",
       "  }\n",
       "\n",
       "  var NB_LOAD_WARNING = {'data': {'text/html':\n",
       "     \"<div style='background-color: #fdd'>\\n\"+\n",
       "     \"<p>\\n\"+\n",
       "     \"BokehJS does not appear to have successfully loaded. If loading BokehJS from CDN, this \\n\"+\n",
       "     \"may be due to a slow or bad network connection. Possible fixes:\\n\"+\n",
       "     \"</p>\\n\"+\n",
       "     \"<ul>\\n\"+\n",
       "     \"<li>re-rerun `output_notebook()` to attempt to load from CDN again, or</li>\\n\"+\n",
       "     \"<li>use INLINE resources instead, as so:</li>\\n\"+\n",
       "     \"</ul>\\n\"+\n",
       "     \"<code>\\n\"+\n",
       "     \"from bokeh.resources import INLINE\\n\"+\n",
       "     \"output_notebook(resources=INLINE)\\n\"+\n",
       "     \"</code>\\n\"+\n",
       "     \"</div>\"}};\n",
       "\n",
       "  function display_loaded() {\n",
       "    var el = document.getElementById(\"04d9ba2f-bff7-4179-a94a-b57b3ec339a9\");\n",
       "    if (el != null) {\n",
       "      el.textContent = \"BokehJS is loading...\";\n",
       "    }\n",
       "    if (root.Bokeh !== undefined) {\n",
       "      if (el != null) {\n",
       "        el.textContent = \"BokehJS \" + root.Bokeh.version + \" successfully loaded.\";\n",
       "      }\n",
       "    } else if (Date.now() < root._bokeh_timeout) {\n",
       "      setTimeout(display_loaded, 100)\n",
       "    }\n",
       "  }\n",
       "\n",
       "\n",
       "  function run_callbacks() {\n",
       "    try {\n",
       "      root._bokeh_onload_callbacks.forEach(function(callback) { callback() });\n",
       "    }\n",
       "    finally {\n",
       "      delete root._bokeh_onload_callbacks\n",
       "    }\n",
       "    console.info(\"Bokeh: all callbacks have finished\");\n",
       "  }\n",
       "\n",
       "  function load_libs(js_urls, callback) {\n",
       "    root._bokeh_onload_callbacks.push(callback);\n",
       "    if (root._bokeh_is_loading > 0) {\n",
       "      console.log(\"Bokeh: BokehJS is being loaded, scheduling callback at\", now());\n",
       "      return null;\n",
       "    }\n",
       "    if (js_urls == null || js_urls.length === 0) {\n",
       "      run_callbacks();\n",
       "      return null;\n",
       "    }\n",
       "    console.log(\"Bokeh: BokehJS not loaded, scheduling load and callback at\", now());\n",
       "    root._bokeh_is_loading = js_urls.length;\n",
       "    for (var i = 0; i < js_urls.length; i++) {\n",
       "      var url = js_urls[i];\n",
       "      var s = document.createElement('script');\n",
       "      s.src = url;\n",
       "      s.async = false;\n",
       "      s.onreadystatechange = s.onload = function() {\n",
       "        root._bokeh_is_loading--;\n",
       "        if (root._bokeh_is_loading === 0) {\n",
       "          console.log(\"Bokeh: all BokehJS libraries loaded\");\n",
       "          run_callbacks()\n",
       "        }\n",
       "      };\n",
       "      s.onerror = function() {\n",
       "        console.warn(\"failed to load library \" + url);\n",
       "      };\n",
       "      console.log(\"Bokeh: injecting script tag for BokehJS library: \", url);\n",
       "      document.getElementsByTagName(\"head\")[0].appendChild(s);\n",
       "    }\n",
       "  };var element = document.getElementById(\"04d9ba2f-bff7-4179-a94a-b57b3ec339a9\");\n",
       "  if (element == null) {\n",
       "    console.log(\"Bokeh: ERROR: autoload.js configured with elementid '04d9ba2f-bff7-4179-a94a-b57b3ec339a9' but no matching script tag was found. \")\n",
       "    return false;\n",
       "  }\n",
       "\n",
       "  var js_urls = [\"https://cdn.pydata.org/bokeh/release/bokeh-0.13.0.min.js\", \"https://cdn.pydata.org/bokeh/release/bokeh-widgets-0.13.0.min.js\", \"https://cdn.pydata.org/bokeh/release/bokeh-tables-0.13.0.min.js\", \"https://cdn.pydata.org/bokeh/release/bokeh-gl-0.13.0.min.js\"];\n",
       "\n",
       "  var inline_js = [\n",
       "    function(Bokeh) {\n",
       "      Bokeh.set_log_level(\"info\");\n",
       "    },\n",
       "    \n",
       "    function(Bokeh) {\n",
       "      \n",
       "    },\n",
       "    function(Bokeh) {\n",
       "      console.log(\"Bokeh: injecting CSS: https://cdn.pydata.org/bokeh/release/bokeh-0.13.0.min.css\");\n",
       "      Bokeh.embed.inject_css(\"https://cdn.pydata.org/bokeh/release/bokeh-0.13.0.min.css\");\n",
       "      console.log(\"Bokeh: injecting CSS: https://cdn.pydata.org/bokeh/release/bokeh-widgets-0.13.0.min.css\");\n",
       "      Bokeh.embed.inject_css(\"https://cdn.pydata.org/bokeh/release/bokeh-widgets-0.13.0.min.css\");\n",
       "      console.log(\"Bokeh: injecting CSS: https://cdn.pydata.org/bokeh/release/bokeh-tables-0.13.0.min.css\");\n",
       "      Bokeh.embed.inject_css(\"https://cdn.pydata.org/bokeh/release/bokeh-tables-0.13.0.min.css\");\n",
       "    }\n",
       "  ];\n",
       "\n",
       "  function run_inline_js() {\n",
       "    \n",
       "    if ((root.Bokeh !== undefined) || (force === true)) {\n",
       "      for (var i = 0; i < inline_js.length; i++) {\n",
       "        inline_js[i].call(root, root.Bokeh);\n",
       "      }if (force === true) {\n",
       "        display_loaded();\n",
       "      }} else if (Date.now() < root._bokeh_timeout) {\n",
       "      setTimeout(run_inline_js, 100);\n",
       "    } else if (!root._bokeh_failed_load) {\n",
       "      console.log(\"Bokeh: BokehJS failed to load within specified timeout.\");\n",
       "      root._bokeh_failed_load = true;\n",
       "    } else if (force !== true) {\n",
       "      var cell = $(document.getElementById(\"04d9ba2f-bff7-4179-a94a-b57b3ec339a9\")).parents('.cell').data().cell;\n",
       "      cell.output_area.append_execute_result(NB_LOAD_WARNING)\n",
       "    }\n",
       "\n",
       "  }\n",
       "\n",
       "  if (root._bokeh_is_loading === 0) {\n",
       "    console.log(\"Bokeh: BokehJS loaded, going straight to plotting\");\n",
       "    run_inline_js();\n",
       "  } else {\n",
       "    load_libs(js_urls, function() {\n",
       "      console.log(\"Bokeh: BokehJS plotting callback run at\", now());\n",
       "      run_inline_js();\n",
       "    });\n",
       "  }\n",
       "}(window));"
      ],
      "application/vnd.bokehjs_load.v0+json": "\n(function(root) {\n  function now() {\n    return new Date();\n  }\n\n  var force = true;\n\n  if (typeof (root._bokeh_onload_callbacks) === \"undefined\" || force === true) {\n    root._bokeh_onload_callbacks = [];\n    root._bokeh_is_loading = undefined;\n  }\n\n  \n\n  \n  if (typeof (root._bokeh_timeout) === \"undefined\" || force === true) {\n    root._bokeh_timeout = Date.now() + 5000;\n    root._bokeh_failed_load = false;\n  }\n\n  var NB_LOAD_WARNING = {'data': {'text/html':\n     \"<div style='background-color: #fdd'>\\n\"+\n     \"<p>\\n\"+\n     \"BokehJS does not appear to have successfully loaded. If loading BokehJS from CDN, this \\n\"+\n     \"may be due to a slow or bad network connection. Possible fixes:\\n\"+\n     \"</p>\\n\"+\n     \"<ul>\\n\"+\n     \"<li>re-rerun `output_notebook()` to attempt to load from CDN again, or</li>\\n\"+\n     \"<li>use INLINE resources instead, as so:</li>\\n\"+\n     \"</ul>\\n\"+\n     \"<code>\\n\"+\n     \"from bokeh.resources import INLINE\\n\"+\n     \"output_notebook(resources=INLINE)\\n\"+\n     \"</code>\\n\"+\n     \"</div>\"}};\n\n  function display_loaded() {\n    var el = document.getElementById(\"04d9ba2f-bff7-4179-a94a-b57b3ec339a9\");\n    if (el != null) {\n      el.textContent = \"BokehJS is loading...\";\n    }\n    if (root.Bokeh !== undefined) {\n      if (el != null) {\n        el.textContent = \"BokehJS \" + root.Bokeh.version + \" successfully loaded.\";\n      }\n    } else if (Date.now() < root._bokeh_timeout) {\n      setTimeout(display_loaded, 100)\n    }\n  }\n\n\n  function run_callbacks() {\n    try {\n      root._bokeh_onload_callbacks.forEach(function(callback) { callback() });\n    }\n    finally {\n      delete root._bokeh_onload_callbacks\n    }\n    console.info(\"Bokeh: all callbacks have finished\");\n  }\n\n  function load_libs(js_urls, callback) {\n    root._bokeh_onload_callbacks.push(callback);\n    if (root._bokeh_is_loading > 0) {\n      console.log(\"Bokeh: BokehJS is being loaded, scheduling callback at\", now());\n      return null;\n    }\n    if (js_urls == null || js_urls.length === 0) {\n      run_callbacks();\n      return null;\n    }\n    console.log(\"Bokeh: BokehJS not loaded, scheduling load and callback at\", now());\n    root._bokeh_is_loading = js_urls.length;\n    for (var i = 0; i < js_urls.length; i++) {\n      var url = js_urls[i];\n      var s = document.createElement('script');\n      s.src = url;\n      s.async = false;\n      s.onreadystatechange = s.onload = function() {\n        root._bokeh_is_loading--;\n        if (root._bokeh_is_loading === 0) {\n          console.log(\"Bokeh: all BokehJS libraries loaded\");\n          run_callbacks()\n        }\n      };\n      s.onerror = function() {\n        console.warn(\"failed to load library \" + url);\n      };\n      console.log(\"Bokeh: injecting script tag for BokehJS library: \", url);\n      document.getElementsByTagName(\"head\")[0].appendChild(s);\n    }\n  };var element = document.getElementById(\"04d9ba2f-bff7-4179-a94a-b57b3ec339a9\");\n  if (element == null) {\n    console.log(\"Bokeh: ERROR: autoload.js configured with elementid '04d9ba2f-bff7-4179-a94a-b57b3ec339a9' but no matching script tag was found. \")\n    return false;\n  }\n\n  var js_urls = [\"https://cdn.pydata.org/bokeh/release/bokeh-0.13.0.min.js\", \"https://cdn.pydata.org/bokeh/release/bokeh-widgets-0.13.0.min.js\", \"https://cdn.pydata.org/bokeh/release/bokeh-tables-0.13.0.min.js\", \"https://cdn.pydata.org/bokeh/release/bokeh-gl-0.13.0.min.js\"];\n\n  var inline_js = [\n    function(Bokeh) {\n      Bokeh.set_log_level(\"info\");\n    },\n    \n    function(Bokeh) {\n      \n    },\n    function(Bokeh) {\n      console.log(\"Bokeh: injecting CSS: https://cdn.pydata.org/bokeh/release/bokeh-0.13.0.min.css\");\n      Bokeh.embed.inject_css(\"https://cdn.pydata.org/bokeh/release/bokeh-0.13.0.min.css\");\n      console.log(\"Bokeh: injecting CSS: https://cdn.pydata.org/bokeh/release/bokeh-widgets-0.13.0.min.css\");\n      Bokeh.embed.inject_css(\"https://cdn.pydata.org/bokeh/release/bokeh-widgets-0.13.0.min.css\");\n      console.log(\"Bokeh: injecting CSS: https://cdn.pydata.org/bokeh/release/bokeh-tables-0.13.0.min.css\");\n      Bokeh.embed.inject_css(\"https://cdn.pydata.org/bokeh/release/bokeh-tables-0.13.0.min.css\");\n    }\n  ];\n\n  function run_inline_js() {\n    \n    if ((root.Bokeh !== undefined) || (force === true)) {\n      for (var i = 0; i < inline_js.length; i++) {\n        inline_js[i].call(root, root.Bokeh);\n      }if (force === true) {\n        display_loaded();\n      }} else if (Date.now() < root._bokeh_timeout) {\n      setTimeout(run_inline_js, 100);\n    } else if (!root._bokeh_failed_load) {\n      console.log(\"Bokeh: BokehJS failed to load within specified timeout.\");\n      root._bokeh_failed_load = true;\n    } else if (force !== true) {\n      var cell = $(document.getElementById(\"04d9ba2f-bff7-4179-a94a-b57b3ec339a9\")).parents('.cell').data().cell;\n      cell.output_area.append_execute_result(NB_LOAD_WARNING)\n    }\n\n  }\n\n  if (root._bokeh_is_loading === 0) {\n    console.log(\"Bokeh: BokehJS loaded, going straight to plotting\");\n    run_inline_js();\n  } else {\n    load_libs(js_urls, function() {\n      console.log(\"Bokeh: BokehJS plotting callback run at\", now());\n      run_inline_js();\n    });\n  }\n}(window));"
     },
     "metadata": {},
     "output_type": "display_data"
    },
    {
     "data": {
      "text/html": [
       "\n",
       "\n",
       "\n",
       "\n",
       "\n",
       "\n",
       "  <div class=\"bk-root\" id=\"58211119-a69b-4e58-a526-9ee3f127640f\"></div>\n"
      ]
     },
     "metadata": {},
     "output_type": "display_data"
    },
    {
     "data": {
      "application/javascript": [
       "(function(root) {\n",
       "  function embed_document(root) {\n",
       "    \n",
       "  var docs_json = {\"b752f349-1fe8-4dc3-b5d3-b715fa14f8aa\":{\"roots\":{\"references\":[{\"attributes\":{},\"id\":\"84d32eb5-51f4-4985-a89f-744d471bc71f\",\"type\":\"BasicTicker\"},{\"attributes\":{\"dimension\":1,\"plot\":{\"id\":\"eb4d0d2c-1793-4b9a-b9dc-f5b1273047cf\",\"subtype\":\"Figure\",\"type\":\"Plot\"},\"ticker\":{\"id\":\"84d32eb5-51f4-4985-a89f-744d471bc71f\",\"type\":\"BasicTicker\"}},\"id\":\"b5a7fda9-78a2-40f1-b05a-86c8e7fd140b\",\"type\":\"Grid\"},{\"attributes\":{\"data_source\":{\"id\":\"0d36f708-89b5-4f8e-8ea2-21342282df32\",\"type\":\"ColumnDataSource\"},\"glyph\":{\"id\":\"51b8d146-5f21-466f-a9c7-cb480115dbcf\",\"type\":\"Circle\"},\"hover_glyph\":null,\"muted_glyph\":null,\"nonselection_glyph\":{\"id\":\"e337fc41-feb7-44c3-ba9a-659efead22aa\",\"type\":\"Circle\"},\"selection_glyph\":null,\"view\":{\"id\":\"d9fe08f0-6538-4a71-9b5d-686f787c01c8\",\"type\":\"CDSView\"}},\"id\":\"b3fa23ba-3a9c-4bc2-a341-4c597cbd6cbc\",\"type\":\"GlyphRenderer\"},{\"attributes\":{\"fill_alpha\":{\"value\":0.5},\"fill_color\":{\"value\":\"navy\"},\"line_alpha\":{\"value\":0.5},\"line_color\":{\"value\":\"navy\"},\"size\":{\"units\":\"screen\",\"value\":20},\"x\":{\"field\":\"x\"},\"y\":{\"field\":\"y\"}},\"id\":\"51b8d146-5f21-466f-a9c7-cb480115dbcf\",\"type\":\"Circle\"},{\"attributes\":{\"callback\":null,\"data\":{\"x\":{\"__ndarray__\":\"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\",\"dtype\":\"float64\",\"shape\":[4550]},\"y\":{\"__ndarray__\":\"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\",\"dtype\":\"float64\",\"shape\":[4550]}},\"selected\":{\"id\":\"a814bfcc-f18e-471a-81c6-e35f8d5a60d0\",\"type\":\"Selection\"},\"selection_policy\":{\"id\":\"79753a48-5cf5-4cca-9024-1fcce523cdd6\",\"type\":\"UnionRenderers\"}},\"id\":\"ec843cfe-5bab-4d85-8bea-0c2e68a881e1\",\"type\":\"ColumnDataSource\"},{\"attributes\":{\"bottom_units\":\"screen\",\"fill_alpha\":{\"value\":0.5},\"fill_color\":{\"value\":\"lightgrey\"},\"left_units\":\"screen\",\"level\":\"overlay\",\"line_alpha\":{\"value\":1.0},\"line_color\":{\"value\":\"black\"},\"line_dash\":[4,4],\"line_width\":{\"value\":2},\"plot\":null,\"render_mode\":\"css\",\"right_units\":\"screen\",\"top_units\":\"screen\"},\"id\":\"a81190e1-e7fc-451d-bf0b-40e045013559\",\"type\":\"BoxAnnotation\"},{\"attributes\":{},\"id\":\"06608154-f7c0-486a-bed8-0a07cae5744c\",\"type\":\"PanTool\"},{\"attributes\":{\"plot\":null,\"text\":\"\"},\"id\":\"e8249dfa-cf9c-4427-a33a-71769a5d649a\",\"type\":\"Title\"},{\"attributes\":{},\"id\":\"07c44dd3-7518-4827-ab2f-7093e3cf6b9e\",\"type\":\"WheelZoomTool\"},{\"attributes\":{\"overlay\":{\"id\":\"a81190e1-e7fc-451d-bf0b-40e045013559\",\"type\":\"BoxAnnotation\"}},\"id\":\"cedbeb94-6af4-4269-a9a9-a04cddca9597\",\"type\":\"BoxZoomTool\"},{\"attributes\":{},\"id\":\"80d3e063-aab9-4004-a10c-aeaceb27ccf5\",\"type\":\"SaveTool\"},{\"attributes\":{},\"id\":\"f9e9f590-701c-430a-8d99-3777894a888e\",\"type\":\"ResetTool\"},{\"attributes\":{\"callback\":null,\"data\":{\"x\":{\"__ndarray__\":\"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\",\"dtype\":\"float64\",\"shape\":[4550]},\"y\":{\"__ndarray__\":\"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\",\"dtype\":\"float64\",\"shape\":[4550]}},\"selected\":{\"id\":\"e35ae980-cc97-4e0d-807e-1595546f6c12\",\"type\":\"Selection\"},\"selection_policy\":{\"id\":\"d9adc3ff-a0d8-4864-a735-1ff712784d96\",\"type\":\"UnionRenderers\"}},\"id\":\"0d36f708-89b5-4f8e-8ea2-21342282df32\",\"type\":\"ColumnDataSource\"},{\"attributes\":{},\"id\":\"d8cb68ca-9e71-4976-a91a-1cccf08a2e01\",\"type\":\"HelpTool\"},{\"attributes\":{\"line_alpha\":0.1,\"line_color\":\"#1f77b4\",\"x\":{\"field\":\"x\"},\"y\":{\"field\":\"y\"}},\"id\":\"b108bdbe-aef4-46f2-911d-3b1c7b3c50b1\",\"type\":\"Line\"},{\"attributes\":{},\"id\":\"d9adc3ff-a0d8-4864-a735-1ff712784d96\",\"type\":\"UnionRenderers\"},{\"attributes\":{\"line_color\":\"firebrick\",\"x\":{\"field\":\"x\"},\"y\":{\"field\":\"y\"}},\"id\":\"e09599c5-b780-4b87-8c6c-227e756d3285\",\"type\":\"Line\"},{\"attributes\":{\"data_source\":{\"id\":\"ec843cfe-5bab-4d85-8bea-0c2e68a881e1\",\"type\":\"ColumnDataSource\"},\"glyph\":{\"id\":\"e09599c5-b780-4b87-8c6c-227e756d3285\",\"type\":\"Line\"},\"hover_glyph\":null,\"muted_glyph\":null,\"nonselection_glyph\":{\"id\":\"b108bdbe-aef4-46f2-911d-3b1c7b3c50b1\",\"type\":\"Line\"},\"selection_glyph\":null,\"view\":{\"id\":\"9e0c08ec-3ac2-43b8-aaa4-6d866d71e08a\",\"type\":\"CDSView\"}},\"id\":\"57d7a188-8aa3-4c9c-b090-f80333e6b4f0\",\"type\":\"GlyphRenderer\"},{\"attributes\":{\"source\":{\"id\":\"ec843cfe-5bab-4d85-8bea-0c2e68a881e1\",\"type\":\"ColumnDataSource\"}},\"id\":\"9e0c08ec-3ac2-43b8-aaa4-6d866d71e08a\",\"type\":\"CDSView\"},{\"attributes\":{},\"id\":\"6d31bc54-8149-4a69-9d0a-038fa2f3fd9c\",\"type\":\"BasicTickFormatter\"},{\"attributes\":{},\"id\":\"5a3451c7-6bb6-4d15-b052-b7e7d1ed2493\",\"type\":\"BasicTickFormatter\"},{\"attributes\":{},\"id\":\"e35ae980-cc97-4e0d-807e-1595546f6c12\",\"type\":\"Selection\"},{\"attributes\":{},\"id\":\"79753a48-5cf5-4cca-9024-1fcce523cdd6\",\"type\":\"UnionRenderers\"},{\"attributes\":{\"below\":[{\"id\":\"6e49d707-65ba-41c2-a1f1-bcc0f71464e1\",\"type\":\"LinearAxis\"}],\"left\":[{\"id\":\"7880e1c8-3783-45af-86a9-b24391562bbb\",\"type\":\"LinearAxis\"}],\"plot_height\":400,\"plot_width\":400,\"renderers\":[{\"id\":\"6e49d707-65ba-41c2-a1f1-bcc0f71464e1\",\"type\":\"LinearAxis\"},{\"id\":\"7cec90ad-362c-4edd-a10f-75832074bd9a\",\"type\":\"Grid\"},{\"id\":\"7880e1c8-3783-45af-86a9-b24391562bbb\",\"type\":\"LinearAxis\"},{\"id\":\"b5a7fda9-78a2-40f1-b05a-86c8e7fd140b\",\"type\":\"Grid\"},{\"id\":\"a81190e1-e7fc-451d-bf0b-40e045013559\",\"type\":\"BoxAnnotation\"},{\"id\":\"b3fa23ba-3a9c-4bc2-a341-4c597cbd6cbc\",\"type\":\"GlyphRenderer\"},{\"id\":\"57d7a188-8aa3-4c9c-b090-f80333e6b4f0\",\"type\":\"GlyphRenderer\"}],\"title\":{\"id\":\"e8249dfa-cf9c-4427-a33a-71769a5d649a\",\"type\":\"Title\"},\"toolbar\":{\"id\":\"6c2278a2-275f-47da-a258-8778a088d229\",\"type\":\"Toolbar\"},\"x_range\":{\"id\":\"87ebe5b5-45d0-4e27-9835-486505759b63\",\"type\":\"DataRange1d\"},\"x_scale\":{\"id\":\"f5c842d4-7552-4bdd-9135-75513393bd8a\",\"type\":\"LinearScale\"},\"y_range\":{\"id\":\"02d9eac7-a55e-4090-a982-9c203ce42d6a\",\"type\":\"DataRange1d\"},\"y_scale\":{\"id\":\"d839e864-62b7-4c12-8272-c1ba82a84745\",\"type\":\"LinearScale\"}},\"id\":\"eb4d0d2c-1793-4b9a-b9dc-f5b1273047cf\",\"subtype\":\"Figure\",\"type\":\"Plot\"},{\"attributes\":{},\"id\":\"a814bfcc-f18e-471a-81c6-e35f8d5a60d0\",\"type\":\"Selection\"},{\"attributes\":{\"callback\":null},\"id\":\"02d9eac7-a55e-4090-a982-9c203ce42d6a\",\"type\":\"DataRange1d\"},{\"attributes\":{\"active_drag\":\"auto\",\"active_inspect\":\"auto\",\"active_multi\":null,\"active_scroll\":\"auto\",\"active_tap\":\"auto\",\"tools\":[{\"id\":\"06608154-f7c0-486a-bed8-0a07cae5744c\",\"type\":\"PanTool\"},{\"id\":\"07c44dd3-7518-4827-ab2f-7093e3cf6b9e\",\"type\":\"WheelZoomTool\"},{\"id\":\"cedbeb94-6af4-4269-a9a9-a04cddca9597\",\"type\":\"BoxZoomTool\"},{\"id\":\"80d3e063-aab9-4004-a10c-aeaceb27ccf5\",\"type\":\"SaveTool\"},{\"id\":\"f9e9f590-701c-430a-8d99-3777894a888e\",\"type\":\"ResetTool\"},{\"id\":\"d8cb68ca-9e71-4976-a91a-1cccf08a2e01\",\"type\":\"HelpTool\"}]},\"id\":\"6c2278a2-275f-47da-a258-8778a088d229\",\"type\":\"Toolbar\"},{\"attributes\":{\"fill_alpha\":{\"value\":0.1},\"fill_color\":{\"value\":\"#1f77b4\"},\"line_alpha\":{\"value\":0.1},\"line_color\":{\"value\":\"#1f77b4\"},\"size\":{\"units\":\"screen\",\"value\":20},\"x\":{\"field\":\"x\"},\"y\":{\"field\":\"y\"}},\"id\":\"e337fc41-feb7-44c3-ba9a-659efead22aa\",\"type\":\"Circle\"},{\"attributes\":{\"source\":{\"id\":\"0d36f708-89b5-4f8e-8ea2-21342282df32\",\"type\":\"ColumnDataSource\"}},\"id\":\"d9fe08f0-6538-4a71-9b5d-686f787c01c8\",\"type\":\"CDSView\"},{\"attributes\":{\"callback\":null},\"id\":\"87ebe5b5-45d0-4e27-9835-486505759b63\",\"type\":\"DataRange1d\"},{\"attributes\":{},\"id\":\"f5c842d4-7552-4bdd-9135-75513393bd8a\",\"type\":\"LinearScale\"},{\"attributes\":{},\"id\":\"d839e864-62b7-4c12-8272-c1ba82a84745\",\"type\":\"LinearScale\"},{\"attributes\":{\"plot\":{\"id\":\"eb4d0d2c-1793-4b9a-b9dc-f5b1273047cf\",\"subtype\":\"Figure\",\"type\":\"Plot\"},\"ticker\":{\"id\":\"ad53e04d-ed93-4d4c-819e-f4fd2511bf23\",\"type\":\"BasicTicker\"}},\"id\":\"7cec90ad-362c-4edd-a10f-75832074bd9a\",\"type\":\"Grid\"},{\"attributes\":{\"formatter\":{\"id\":\"6d31bc54-8149-4a69-9d0a-038fa2f3fd9c\",\"type\":\"BasicTickFormatter\"},\"plot\":{\"id\":\"eb4d0d2c-1793-4b9a-b9dc-f5b1273047cf\",\"subtype\":\"Figure\",\"type\":\"Plot\"},\"ticker\":{\"id\":\"ad53e04d-ed93-4d4c-819e-f4fd2511bf23\",\"type\":\"BasicTicker\"}},\"id\":\"6e49d707-65ba-41c2-a1f1-bcc0f71464e1\",\"type\":\"LinearAxis\"},{\"attributes\":{},\"id\":\"ad53e04d-ed93-4d4c-819e-f4fd2511bf23\",\"type\":\"BasicTicker\"},{\"attributes\":{\"formatter\":{\"id\":\"5a3451c7-6bb6-4d15-b052-b7e7d1ed2493\",\"type\":\"BasicTickFormatter\"},\"plot\":{\"id\":\"eb4d0d2c-1793-4b9a-b9dc-f5b1273047cf\",\"subtype\":\"Figure\",\"type\":\"Plot\"},\"ticker\":{\"id\":\"84d32eb5-51f4-4985-a89f-744d471bc71f\",\"type\":\"BasicTicker\"}},\"id\":\"7880e1c8-3783-45af-86a9-b24391562bbb\",\"type\":\"LinearAxis\"}],\"root_ids\":[\"eb4d0d2c-1793-4b9a-b9dc-f5b1273047cf\"]},\"title\":\"Bokeh Application\",\"version\":\"0.13.0\"}};\n",
       "  var render_items = [{\"docid\":\"b752f349-1fe8-4dc3-b5d3-b715fa14f8aa\",\"roots\":{\"eb4d0d2c-1793-4b9a-b9dc-f5b1273047cf\":\"58211119-a69b-4e58-a526-9ee3f127640f\"}}];\n",
       "  root.Bokeh.embed.embed_items_notebook(docs_json, render_items);\n",
       "\n",
       "  }\n",
       "  if (root.Bokeh !== undefined) {\n",
       "    embed_document(root);\n",
       "  } else {\n",
       "    var attempts = 0;\n",
       "    var timer = setInterval(function(root) {\n",
       "      if (root.Bokeh !== undefined) {\n",
       "        embed_document(root);\n",
       "        clearInterval(timer);\n",
       "      }\n",
       "      attempts++;\n",
       "      if (attempts > 100) {\n",
       "        console.log(\"Bokeh: ERROR: Unable to run BokehJS code because BokehJS library is missing\")\n",
       "        clearInterval(timer);\n",
       "      }\n",
       "    }, 10, root)\n",
       "  }\n",
       "})(window);"
      ],
      "application/vnd.bokehjs_exec.v0+json": ""
     },
     "metadata": {
      "application/vnd.bokehjs_exec.v0+json": {
       "id": "eb4d0d2c-1793-4b9a-b9dc-f5b1273047cf"
      }
     },
     "output_type": "display_data"
    }
   ],
   "source": [
    "from bokeh.plotting import figure, output_notebook, show\n",
    "\n",
    "output_notebook()\n",
    "\n",
    "p = figure(plot_width=400, plot_height=400)\n",
    "\n",
    "p.circle(xdat, ydat, size=20, color=\"navy\", alpha=0.5)\n",
    "\n",
    "p.line(xdat,preds,color='firebrick')\n",
    "\n",
    "show(p)"
   ]
  },
  {
   "cell_type": "markdown",
   "metadata": {},
   "source": [
    "Nice!"
   ]
  }
 ],
 "metadata": {
  "kernelspec": {
   "display_name": "Python 3",
   "language": "python",
   "name": "python3"
  },
  "language_info": {
   "codemirror_mode": {
    "name": "ipython",
    "version": 3
   },
   "file_extension": ".py",
   "mimetype": "text/x-python",
   "name": "python",
   "nbconvert_exporter": "python",
   "pygments_lexer": "ipython3",
   "version": "3.6.6"
  }
 },
 "nbformat": 4,
 "nbformat_minor": 2
}
