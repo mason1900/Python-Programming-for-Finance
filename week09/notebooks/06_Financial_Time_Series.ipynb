{
 "cells": [
  {
   "cell_type": "markdown",
   "metadata": {},
   "source": [
    "# Financial Time Series"
   ]
  },
  {
   "cell_type": "markdown",
   "metadata": {},
   "source": [
    "## pandas Basics"
   ]
  },
  {
   "cell_type": "code",
   "execution_count": 1,
   "metadata": {
    "uuid": "eda2a742-134d-4d47-8b30-557b846b9bb3"
   },
   "outputs": [],
   "source": [
    "import numpy as np\n",
    "import pandas as pd"
   ]
  },
  {
   "cell_type": "markdown",
   "metadata": {},
   "source": [
    "### First Steps with DataFrame Class"
   ]
  },
  {
   "cell_type": "code",
   "execution_count": 3,
   "metadata": {
    "uuid": "f3be2d89-829a-49b2-96fc-07c475db1e3f"
   },
   "outputs": [
    {
     "data": {
      "text/html": [
       "<div>\n",
       "<table border=\"1\" class=\"dataframe\">\n",
       "  <thead>\n",
       "    <tr style=\"text-align: right;\">\n",
       "      <th></th>\n",
       "      <th>numbers</th>\n",
       "    </tr>\n",
       "  </thead>\n",
       "  <tbody>\n",
       "    <tr>\n",
       "      <th>a</th>\n",
       "      <td>10</td>\n",
       "    </tr>\n",
       "    <tr>\n",
       "      <th>b</th>\n",
       "      <td>20</td>\n",
       "    </tr>\n",
       "    <tr>\n",
       "      <th>c</th>\n",
       "      <td>30</td>\n",
       "    </tr>\n",
       "    <tr>\n",
       "      <th>d</th>\n",
       "      <td>40</td>\n",
       "    </tr>\n",
       "  </tbody>\n",
       "</table>\n",
       "</div>"
      ],
      "text/plain": [
       "   numbers\n",
       "a       10\n",
       "b       20\n",
       "c       30\n",
       "d       40"
      ]
     },
     "execution_count": 3,
     "metadata": {},
     "output_type": "execute_result"
    }
   ],
   "source": [
    "# pandas DataFrame class is designed to manage indexed and labeled data \n",
    "# Data itself can be provided in different shapes and types \n",
    "#    (list, tuple, ndarray, and dict objects).\n",
    "# Create DataFrame object\n",
    "\n",
    "df = pd.DataFrame([10, 20, 30, 40], columns=['numbers'],\n",
    "                  index=['a', 'b', 'c', 'd'])\n",
    "df"
   ]
  },
  {
   "cell_type": "code",
   "execution_count": 4,
   "metadata": {
    "uuid": "47b70a7b-710f-4c40-9a70-b09db7af1a12"
   },
   "outputs": [
    {
     "data": {
      "text/plain": [
       "Index(['a', 'b', 'c', 'd'], dtype='object')"
      ]
     },
     "execution_count": 4,
     "metadata": {},
     "output_type": "execute_result"
    }
   ],
   "source": [
    "# There is an index that can take on different formats \n",
    "# (e.g., numbers, strings, time information).\n",
    "\n",
    "df.index  # the index values"
   ]
  },
  {
   "cell_type": "code",
   "execution_count": 5,
   "metadata": {
    "uuid": "a36c6695-520d-4df1-a6fa-5f8362af37a3"
   },
   "outputs": [
    {
     "data": {
      "text/plain": [
       "Index(['numbers'], dtype='object')"
      ]
     },
     "execution_count": 5,
     "metadata": {},
     "output_type": "execute_result"
    }
   ],
   "source": [
    "# Data is organized in columns, which can have custom names\n",
    "\n",
    "df.columns  # the column names"
   ]
  },
  {
   "cell_type": "code",
   "execution_count": 9,
   "metadata": {
    "uuid": "c93aed37-21de-429d-86ed-9849e4c3e23c"
   },
   "outputs": [
    {
     "data": {
      "text/plain": [
       "numbers    30\n",
       "Name: c, dtype: int64"
      ]
     },
     "execution_count": 9,
     "metadata": {},
     "output_type": "execute_result"
    }
   ],
   "source": [
    "df.ix['c']  # selection via index\n",
    "#   print(df.ix.__doc__)"
   ]
  },
  {
   "cell_type": "code",
   "execution_count": 10,
   "metadata": {
    "uuid": "8c7c2f69-3673-40d9-a568-0471c629810d"
   },
   "outputs": [
    {
     "data": {
      "text/html": [
       "<div>\n",
       "<table border=\"1\" class=\"dataframe\">\n",
       "  <thead>\n",
       "    <tr style=\"text-align: right;\">\n",
       "      <th></th>\n",
       "      <th>numbers</th>\n",
       "    </tr>\n",
       "  </thead>\n",
       "  <tbody>\n",
       "    <tr>\n",
       "      <th>a</th>\n",
       "      <td>10</td>\n",
       "    </tr>\n",
       "    <tr>\n",
       "      <th>d</th>\n",
       "      <td>40</td>\n",
       "    </tr>\n",
       "  </tbody>\n",
       "</table>\n",
       "</div>"
      ],
      "text/plain": [
       "   numbers\n",
       "a       10\n",
       "d       40"
      ]
     },
     "execution_count": 10,
     "metadata": {},
     "output_type": "execute_result"
    }
   ],
   "source": [
    "df.ix[['a', 'd']]  # selection of multiple indices"
   ]
  },
  {
   "cell_type": "code",
   "execution_count": 11,
   "metadata": {
    "uuid": "c3ce0cc3-26e8-4256-ab8c-9a2d4b181633"
   },
   "outputs": [
    {
     "data": {
      "text/html": [
       "<div>\n",
       "<table border=\"1\" class=\"dataframe\">\n",
       "  <thead>\n",
       "    <tr style=\"text-align: right;\">\n",
       "      <th></th>\n",
       "      <th>numbers</th>\n",
       "    </tr>\n",
       "  </thead>\n",
       "  <tbody>\n",
       "    <tr>\n",
       "      <th>b</th>\n",
       "      <td>20</td>\n",
       "    </tr>\n",
       "    <tr>\n",
       "      <th>c</th>\n",
       "      <td>30</td>\n",
       "    </tr>\n",
       "  </tbody>\n",
       "</table>\n",
       "</div>"
      ],
      "text/plain": [
       "   numbers\n",
       "b       20\n",
       "c       30"
      ]
     },
     "execution_count": 11,
     "metadata": {},
     "output_type": "execute_result"
    }
   ],
   "source": [
    "df.ix[df.index[1:3]]  # selection via Index object"
   ]
  },
  {
   "cell_type": "code",
   "execution_count": 12,
   "metadata": {
    "uuid": "94b1d846-63df-49f4-8a7f-8fed03e5f4fa"
   },
   "outputs": [
    {
     "data": {
      "text/plain": [
       "numbers    100\n",
       "dtype: int64"
      ]
     },
     "execution_count": 12,
     "metadata": {},
     "output_type": "execute_result"
    }
   ],
   "source": [
    "df.sum()  # sum per column"
   ]
  },
  {
   "cell_type": "code",
   "execution_count": 13,
   "metadata": {
    "uuid": "4e73eb4f-352d-4527-b0c5-4f3a6e7eb354"
   },
   "outputs": [
    {
     "data": {
      "text/html": [
       "<div>\n",
       "<table border=\"1\" class=\"dataframe\">\n",
       "  <thead>\n",
       "    <tr style=\"text-align: right;\">\n",
       "      <th></th>\n",
       "      <th>numbers</th>\n",
       "    </tr>\n",
       "  </thead>\n",
       "  <tbody>\n",
       "    <tr>\n",
       "      <th>a</th>\n",
       "      <td>100</td>\n",
       "    </tr>\n",
       "    <tr>\n",
       "      <th>b</th>\n",
       "      <td>400</td>\n",
       "    </tr>\n",
       "    <tr>\n",
       "      <th>c</th>\n",
       "      <td>900</td>\n",
       "    </tr>\n",
       "    <tr>\n",
       "      <th>d</th>\n",
       "      <td>1600</td>\n",
       "    </tr>\n",
       "  </tbody>\n",
       "</table>\n",
       "</div>"
      ],
      "text/plain": [
       "   numbers\n",
       "a      100\n",
       "b      400\n",
       "c      900\n",
       "d     1600"
      ]
     },
     "execution_count": 13,
     "metadata": {},
     "output_type": "execute_result"
    }
   ],
   "source": [
    "df.apply(lambda x: x ** 2)  # square of every element"
   ]
  },
  {
   "cell_type": "code",
   "execution_count": 14,
   "metadata": {
    "uuid": "75206a83-0154-4be2-88d0-7a82a190fda1"
   },
   "outputs": [
    {
     "data": {
      "text/html": [
       "<div>\n",
       "<table border=\"1\" class=\"dataframe\">\n",
       "  <thead>\n",
       "    <tr style=\"text-align: right;\">\n",
       "      <th></th>\n",
       "      <th>numbers</th>\n",
       "    </tr>\n",
       "  </thead>\n",
       "  <tbody>\n",
       "    <tr>\n",
       "      <th>a</th>\n",
       "      <td>100</td>\n",
       "    </tr>\n",
       "    <tr>\n",
       "      <th>b</th>\n",
       "      <td>400</td>\n",
       "    </tr>\n",
       "    <tr>\n",
       "      <th>c</th>\n",
       "      <td>900</td>\n",
       "    </tr>\n",
       "    <tr>\n",
       "      <th>d</th>\n",
       "      <td>1600</td>\n",
       "    </tr>\n",
       "  </tbody>\n",
       "</table>\n",
       "</div>"
      ],
      "text/plain": [
       "   numbers\n",
       "a      100\n",
       "b      400\n",
       "c      900\n",
       "d     1600"
      ]
     },
     "execution_count": 14,
     "metadata": {},
     "output_type": "execute_result"
    }
   ],
   "source": [
    "df ** 2  # again square, this time NumPy-like"
   ]
  },
  {
   "cell_type": "code",
   "execution_count": 15,
   "metadata": {
    "uuid": "49a2633a-b3c0-4d00-a227-e0ff4a8cf81d"
   },
   "outputs": [
    {
     "data": {
      "text/html": [
       "<div>\n",
       "<table border=\"1\" class=\"dataframe\">\n",
       "  <thead>\n",
       "    <tr style=\"text-align: right;\">\n",
       "      <th></th>\n",
       "      <th>numbers</th>\n",
       "      <th>floats</th>\n",
       "    </tr>\n",
       "  </thead>\n",
       "  <tbody>\n",
       "    <tr>\n",
       "      <th>a</th>\n",
       "      <td>10</td>\n",
       "      <td>1.5</td>\n",
       "    </tr>\n",
       "    <tr>\n",
       "      <th>b</th>\n",
       "      <td>20</td>\n",
       "      <td>2.5</td>\n",
       "    </tr>\n",
       "    <tr>\n",
       "      <th>c</th>\n",
       "      <td>30</td>\n",
       "      <td>3.5</td>\n",
       "    </tr>\n",
       "    <tr>\n",
       "      <th>d</th>\n",
       "      <td>40</td>\n",
       "      <td>4.5</td>\n",
       "    </tr>\n",
       "  </tbody>\n",
       "</table>\n",
       "</div>"
      ],
      "text/plain": [
       "   numbers  floats\n",
       "a       10     1.5\n",
       "b       20     2.5\n",
       "c       30     3.5\n",
       "d       40     4.5"
      ]
     },
     "execution_count": 15,
     "metadata": {},
     "output_type": "execute_result"
    }
   ],
   "source": [
    "df['floats'] = (1.5, 2.5, 3.5, 4.5)\n",
    "  # new column is generated\n",
    "df"
   ]
  },
  {
   "cell_type": "code",
   "execution_count": 16,
   "metadata": {
    "uuid": "c49b9aea-417a-4c2b-8e27-0e8771a77c87"
   },
   "outputs": [
    {
     "data": {
      "text/plain": [
       "a    1.5\n",
       "b    2.5\n",
       "c    3.5\n",
       "d    4.5\n",
       "Name: floats, dtype: float64"
      ]
     },
     "execution_count": 16,
     "metadata": {},
     "output_type": "execute_result"
    }
   ],
   "source": [
    "df['floats']  # selection of column"
   ]
  },
  {
   "cell_type": "code",
   "execution_count": 17,
   "metadata": {
    "uuid": "aa892c41-6637-45ed-876b-6a70285e4c0b"
   },
   "outputs": [
    {
     "data": {
      "text/html": [
       "<div>\n",
       "<table border=\"1\" class=\"dataframe\">\n",
       "  <thead>\n",
       "    <tr style=\"text-align: right;\">\n",
       "      <th></th>\n",
       "      <th>numbers</th>\n",
       "      <th>floats</th>\n",
       "      <th>names</th>\n",
       "    </tr>\n",
       "  </thead>\n",
       "  <tbody>\n",
       "    <tr>\n",
       "      <th>a</th>\n",
       "      <td>10</td>\n",
       "      <td>1.5</td>\n",
       "      <td>Guido</td>\n",
       "    </tr>\n",
       "    <tr>\n",
       "      <th>b</th>\n",
       "      <td>20</td>\n",
       "      <td>2.5</td>\n",
       "      <td>Peter</td>\n",
       "    </tr>\n",
       "    <tr>\n",
       "      <th>c</th>\n",
       "      <td>30</td>\n",
       "      <td>3.5</td>\n",
       "      <td>Travis</td>\n",
       "    </tr>\n",
       "    <tr>\n",
       "      <th>d</th>\n",
       "      <td>40</td>\n",
       "      <td>4.5</td>\n",
       "      <td>Yves</td>\n",
       "    </tr>\n",
       "  </tbody>\n",
       "</table>\n",
       "</div>"
      ],
      "text/plain": [
       "   numbers  floats   names\n",
       "a       10     1.5   Guido\n",
       "b       20     2.5   Peter\n",
       "c       30     3.5  Travis\n",
       "d       40     4.5    Yves"
      ]
     },
     "execution_count": 17,
     "metadata": {},
     "output_type": "execute_result"
    }
   ],
   "source": [
    "df['names'] = pd.DataFrame(['Yves', 'Guido', 'Peter', 'Travis'],\n",
    "                           index=['d', 'a', 'b', 'c'])\n",
    "df"
   ]
  },
  {
   "cell_type": "code",
   "execution_count": 20,
   "metadata": {
    "uuid": "584ac18c-161f-4c7b-8ff1-1cd406fb8437"
   },
   "outputs": [
    {
     "data": {
      "text/html": [
       "<div>\n",
       "<table border=\"1\" class=\"dataframe\">\n",
       "  <thead>\n",
       "    <tr style=\"text-align: right;\">\n",
       "      <th></th>\n",
       "      <th>numbers</th>\n",
       "      <th>floats</th>\n",
       "      <th>names</th>\n",
       "    </tr>\n",
       "  </thead>\n",
       "  <tbody>\n",
       "    <tr>\n",
       "      <th>0</th>\n",
       "      <td>10</td>\n",
       "      <td>1.50</td>\n",
       "      <td>Guido</td>\n",
       "    </tr>\n",
       "    <tr>\n",
       "      <th>1</th>\n",
       "      <td>20</td>\n",
       "      <td>2.50</td>\n",
       "      <td>Peter</td>\n",
       "    </tr>\n",
       "    <tr>\n",
       "      <th>2</th>\n",
       "      <td>30</td>\n",
       "      <td>3.50</td>\n",
       "      <td>Travis</td>\n",
       "    </tr>\n",
       "    <tr>\n",
       "      <th>3</th>\n",
       "      <td>40</td>\n",
       "      <td>4.50</td>\n",
       "      <td>Yves</td>\n",
       "    </tr>\n",
       "    <tr>\n",
       "      <th>4</th>\n",
       "      <td>100</td>\n",
       "      <td>5.75</td>\n",
       "      <td>Henry</td>\n",
       "    </tr>\n",
       "  </tbody>\n",
       "</table>\n",
       "</div>"
      ],
      "text/plain": [
       "   numbers  floats   names\n",
       "0       10    1.50   Guido\n",
       "1       20    2.50   Peter\n",
       "2       30    3.50  Travis\n",
       "3       40    4.50    Yves\n",
       "4      100    5.75   Henry"
      ]
     },
     "execution_count": 20,
     "metadata": {},
     "output_type": "execute_result"
    }
   ],
   "source": [
    "df.append({'numbers': 100, 'floats': 5.75, 'names': 'Henry'},\n",
    "               ignore_index=True)\n",
    "    # temporary object;    df not changed  !!\n",
    "    # the index gets replaced by a simple numbered index\n",
    "\n",
    "#  df"
   ]
  },
  {
   "cell_type": "code",
   "execution_count": 21,
   "metadata": {
    "uuid": "9068cd04-c6ff-4d0c-bd52-cf04cd89a0e9"
   },
   "outputs": [
    {
     "data": {
      "text/html": [
       "<div>\n",
       "<table border=\"1\" class=\"dataframe\">\n",
       "  <thead>\n",
       "    <tr style=\"text-align: right;\">\n",
       "      <th></th>\n",
       "      <th>floats</th>\n",
       "      <th>names</th>\n",
       "      <th>numbers</th>\n",
       "    </tr>\n",
       "  </thead>\n",
       "  <tbody>\n",
       "    <tr>\n",
       "      <th>a</th>\n",
       "      <td>1.50</td>\n",
       "      <td>Guido</td>\n",
       "      <td>10</td>\n",
       "    </tr>\n",
       "    <tr>\n",
       "      <th>b</th>\n",
       "      <td>2.50</td>\n",
       "      <td>Peter</td>\n",
       "      <td>20</td>\n",
       "    </tr>\n",
       "    <tr>\n",
       "      <th>c</th>\n",
       "      <td>3.50</td>\n",
       "      <td>Travis</td>\n",
       "      <td>30</td>\n",
       "    </tr>\n",
       "    <tr>\n",
       "      <th>d</th>\n",
       "      <td>4.50</td>\n",
       "      <td>Yves</td>\n",
       "      <td>40</td>\n",
       "    </tr>\n",
       "    <tr>\n",
       "      <th>z</th>\n",
       "      <td>5.75</td>\n",
       "      <td>Henry</td>\n",
       "      <td>100</td>\n",
       "    </tr>\n",
       "  </tbody>\n",
       "</table>\n",
       "</div>"
      ],
      "text/plain": [
       "   floats   names  numbers\n",
       "a    1.50   Guido       10\n",
       "b    2.50   Peter       20\n",
       "c    3.50  Travis       30\n",
       "d    4.50    Yves       40\n",
       "z    5.75   Henry      100"
      ]
     },
     "execution_count": 21,
     "metadata": {},
     "output_type": "execute_result"
    }
   ],
   "source": [
    "# It is  better to append a DataFrame object, \n",
    "# providing the appropriate index information\n",
    "\n",
    "df = df.append(pd.DataFrame({'numbers': 100, 'floats': 5.75,\n",
    "                             'names': 'Henry'}, index=['z',]))\n",
    "df"
   ]
  },
  {
   "cell_type": "code",
   "execution_count": 22,
   "metadata": {
    "uuid": "0d526ac2-8691-4a59-83c5-712c800f0464"
   },
   "outputs": [
    {
     "data": {
      "text/html": [
       "<div>\n",
       "<table border=\"1\" class=\"dataframe\">\n",
       "  <thead>\n",
       "    <tr style=\"text-align: right;\">\n",
       "      <th></th>\n",
       "      <th>floats</th>\n",
       "      <th>names</th>\n",
       "      <th>numbers</th>\n",
       "      <th>squares</th>\n",
       "    </tr>\n",
       "  </thead>\n",
       "  <tbody>\n",
       "    <tr>\n",
       "      <th>a</th>\n",
       "      <td>1.50</td>\n",
       "      <td>Guido</td>\n",
       "      <td>10</td>\n",
       "      <td>1.0</td>\n",
       "    </tr>\n",
       "    <tr>\n",
       "      <th>b</th>\n",
       "      <td>2.50</td>\n",
       "      <td>Peter</td>\n",
       "      <td>20</td>\n",
       "      <td>4.0</td>\n",
       "    </tr>\n",
       "    <tr>\n",
       "      <th>c</th>\n",
       "      <td>3.50</td>\n",
       "      <td>Travis</td>\n",
       "      <td>30</td>\n",
       "      <td>9.0</td>\n",
       "    </tr>\n",
       "    <tr>\n",
       "      <th>d</th>\n",
       "      <td>4.50</td>\n",
       "      <td>Yves</td>\n",
       "      <td>40</td>\n",
       "      <td>16.0</td>\n",
       "    </tr>\n",
       "    <tr>\n",
       "      <th>z</th>\n",
       "      <td>5.75</td>\n",
       "      <td>Henry</td>\n",
       "      <td>100</td>\n",
       "      <td>NaN</td>\n",
       "    </tr>\n",
       "  </tbody>\n",
       "</table>\n",
       "</div>"
      ],
      "text/plain": [
       "   floats   names  numbers  squares\n",
       "a    1.50   Guido       10      1.0\n",
       "b    2.50   Peter       20      4.0\n",
       "c    3.50  Travis       30      9.0\n",
       "d    4.50    Yves       40     16.0\n",
       "z    5.75   Henry      100      NaN"
      ]
     },
     "execution_count": 22,
     "metadata": {},
     "output_type": "execute_result"
    }
   ],
   "source": [
    "# The following code  adds a new column, but with a slightly different index.\n",
    "# Pandas by default accepts only values for those indices that already exist. \n",
    "# We lose the value for the index y and have a NaN value \n",
    "# (i.e., “Not a Number”) at index position z.\n",
    "\n",
    "df.join(pd.DataFrame([1, 4, 9, 16, 25],\n",
    "            index=['a', 'b', 'c', 'd', 'y'],\n",
    "            columns=['squares',]))\n",
    "  # temporary object"
   ]
  },
  {
   "cell_type": "code",
   "execution_count": 23,
   "metadata": {
    "uuid": "6558c7ff-f24e-4dd0-b57e-a30196bad1f4"
   },
   "outputs": [
    {
     "data": {
      "text/html": [
       "<div>\n",
       "<table border=\"1\" class=\"dataframe\">\n",
       "  <thead>\n",
       "    <tr style=\"text-align: right;\">\n",
       "      <th></th>\n",
       "      <th>floats</th>\n",
       "      <th>names</th>\n",
       "      <th>numbers</th>\n",
       "      <th>squares</th>\n",
       "    </tr>\n",
       "  </thead>\n",
       "  <tbody>\n",
       "    <tr>\n",
       "      <th>a</th>\n",
       "      <td>1.50</td>\n",
       "      <td>Guido</td>\n",
       "      <td>10.0</td>\n",
       "      <td>1.0</td>\n",
       "    </tr>\n",
       "    <tr>\n",
       "      <th>b</th>\n",
       "      <td>2.50</td>\n",
       "      <td>Peter</td>\n",
       "      <td>20.0</td>\n",
       "      <td>4.0</td>\n",
       "    </tr>\n",
       "    <tr>\n",
       "      <th>c</th>\n",
       "      <td>3.50</td>\n",
       "      <td>Travis</td>\n",
       "      <td>30.0</td>\n",
       "      <td>9.0</td>\n",
       "    </tr>\n",
       "    <tr>\n",
       "      <th>d</th>\n",
       "      <td>4.50</td>\n",
       "      <td>Yves</td>\n",
       "      <td>40.0</td>\n",
       "      <td>16.0</td>\n",
       "    </tr>\n",
       "    <tr>\n",
       "      <th>y</th>\n",
       "      <td>NaN</td>\n",
       "      <td>NaN</td>\n",
       "      <td>NaN</td>\n",
       "      <td>25.0</td>\n",
       "    </tr>\n",
       "    <tr>\n",
       "      <th>z</th>\n",
       "      <td>5.75</td>\n",
       "      <td>Henry</td>\n",
       "      <td>100.0</td>\n",
       "      <td>NaN</td>\n",
       "    </tr>\n",
       "  </tbody>\n",
       "</table>\n",
       "</div>"
      ],
      "text/plain": [
       "   floats   names  numbers  squares\n",
       "a    1.50   Guido     10.0      1.0\n",
       "b    2.50   Peter     20.0      4.0\n",
       "c    3.50  Travis     30.0      9.0\n",
       "d    4.50    Yves     40.0     16.0\n",
       "y     NaN     NaN      NaN     25.0\n",
       "z    5.75   Henry    100.0      NaN"
      ]
     },
     "execution_count": 23,
     "metadata": {},
     "output_type": "execute_result"
    }
   ],
   "source": [
    "# we use how=“outer” to use the union of all values from both indices\n",
    "\n",
    "df = df.join(pd.DataFrame([1, 4, 9, 16, 25],\n",
    "                    index=['a', 'b', 'c', 'd', 'y'],\n",
    "                    columns=['squares',]),\n",
    "                    how='outer')\n",
    "df"
   ]
  },
  {
   "cell_type": "code",
   "execution_count": 24,
   "metadata": {
    "uuid": "3e863c7f-7875-4911-997b-6e48123dc1e5"
   },
   "outputs": [
    {
     "data": {
      "text/plain": [
       "numbers    40.0\n",
       "squares    11.0\n",
       "dtype: float64"
      ]
     },
     "execution_count": 24,
     "metadata": {},
     "output_type": "execute_result"
    }
   ],
   "source": [
    "df[['numbers', 'squares']].mean()\n",
    "  # column-wise mean"
   ]
  },
  {
   "cell_type": "code",
   "execution_count": 25,
   "metadata": {
    "uuid": "c52173a0-485d-4eb2-b6b4-407d1ff2c30e"
   },
   "outputs": [
    {
     "data": {
      "text/plain": [
       "numbers    35.355339\n",
       "squares     9.669540\n",
       "dtype: float64"
      ]
     },
     "execution_count": 25,
     "metadata": {},
     "output_type": "execute_result"
    }
   ],
   "source": [
    "df[['numbers', 'squares']].std()\n",
    "  # column-wise standard deviation"
   ]
  },
  {
   "cell_type": "markdown",
   "metadata": {},
   "source": [
    "### Second Steps with DataFrame Class"
   ]
  },
  {
   "cell_type": "code",
   "execution_count": 26,
   "metadata": {
    "collapsed": true
   },
   "outputs": [],
   "source": [
    "import numpy as np\n",
    "import pandas as pd"
   ]
  },
  {
   "cell_type": "code",
   "execution_count": 27,
   "metadata": {
    "uuid": "d6f56a00-91e6-4221-a1ec-6093f416d1be"
   },
   "outputs": [
    {
     "data": {
      "text/plain": [
       "array([[-0.873502, -0.181518, -1.00754 ,  1.169338],\n",
       "       [-0.58707 ,  0.511014,  1.187308,  2.64094 ],\n",
       "       [ 0.170314, -0.240261,  0.066821,  1.445502],\n",
       "       [ 0.592607, -0.378034, -0.649862, -0.606795],\n",
       "       [-1.824358,  1.032427,  0.430457, -1.095211],\n",
       "       [-0.82538 , -0.171953,  0.629528,  0.601883],\n",
       "       [ 0.241524,  0.905131,  0.411498, -0.073473],\n",
       "       [-0.974406,  1.080573, -0.221565,  0.42142 ],\n",
       "       [ 0.355221,  0.225342, -0.52567 , -2.128876]])"
      ]
     },
     "execution_count": 27,
     "metadata": {},
     "output_type": "execute_result"
    }
   ],
   "source": [
    "# Let's generate a numpy.ndarry with, with  nine rows and four columns \n",
    "# of  pseudorandom, standard normally distributed numbers\n",
    "\n",
    "a = np.random.standard_normal((9, 4))\n",
    "a.round(6)"
   ]
  },
  {
   "cell_type": "code",
   "execution_count": 28,
   "metadata": {
    "uuid": "450bd14d-7668-4f3f-a863-966f13562818"
   },
   "outputs": [
    {
     "data": {
      "text/html": [
       "<div>\n",
       "<table border=\"1\" class=\"dataframe\">\n",
       "  <thead>\n",
       "    <tr style=\"text-align: right;\">\n",
       "      <th></th>\n",
       "      <th>0</th>\n",
       "      <th>1</th>\n",
       "      <th>2</th>\n",
       "      <th>3</th>\n",
       "    </tr>\n",
       "  </thead>\n",
       "  <tbody>\n",
       "    <tr>\n",
       "      <th>0</th>\n",
       "      <td>-0.873502</td>\n",
       "      <td>-0.181518</td>\n",
       "      <td>-1.007540</td>\n",
       "      <td>1.169338</td>\n",
       "    </tr>\n",
       "    <tr>\n",
       "      <th>1</th>\n",
       "      <td>-0.587070</td>\n",
       "      <td>0.511014</td>\n",
       "      <td>1.187308</td>\n",
       "      <td>2.640940</td>\n",
       "    </tr>\n",
       "    <tr>\n",
       "      <th>2</th>\n",
       "      <td>0.170314</td>\n",
       "      <td>-0.240261</td>\n",
       "      <td>0.066821</td>\n",
       "      <td>1.445502</td>\n",
       "    </tr>\n",
       "    <tr>\n",
       "      <th>3</th>\n",
       "      <td>0.592607</td>\n",
       "      <td>-0.378034</td>\n",
       "      <td>-0.649862</td>\n",
       "      <td>-0.606795</td>\n",
       "    </tr>\n",
       "    <tr>\n",
       "      <th>4</th>\n",
       "      <td>-1.824358</td>\n",
       "      <td>1.032427</td>\n",
       "      <td>0.430457</td>\n",
       "      <td>-1.095211</td>\n",
       "    </tr>\n",
       "    <tr>\n",
       "      <th>5</th>\n",
       "      <td>-0.825380</td>\n",
       "      <td>-0.171953</td>\n",
       "      <td>0.629528</td>\n",
       "      <td>0.601883</td>\n",
       "    </tr>\n",
       "    <tr>\n",
       "      <th>6</th>\n",
       "      <td>0.241524</td>\n",
       "      <td>0.905131</td>\n",
       "      <td>0.411498</td>\n",
       "      <td>-0.073473</td>\n",
       "    </tr>\n",
       "    <tr>\n",
       "      <th>7</th>\n",
       "      <td>-0.974406</td>\n",
       "      <td>1.080573</td>\n",
       "      <td>-0.221565</td>\n",
       "      <td>0.421420</td>\n",
       "    </tr>\n",
       "    <tr>\n",
       "      <th>8</th>\n",
       "      <td>0.355221</td>\n",
       "      <td>0.225342</td>\n",
       "      <td>-0.525670</td>\n",
       "      <td>-2.128876</td>\n",
       "    </tr>\n",
       "  </tbody>\n",
       "</table>\n",
       "</div>"
      ],
      "text/plain": [
       "          0         1         2         3\n",
       "0 -0.873502 -0.181518 -1.007540  1.169338\n",
       "1 -0.587070  0.511014  1.187308  2.640940\n",
       "2  0.170314 -0.240261  0.066821  1.445502\n",
       "3  0.592607 -0.378034 -0.649862 -0.606795\n",
       "4 -1.824358  1.032427  0.430457 -1.095211\n",
       "5 -0.825380 -0.171953  0.629528  0.601883\n",
       "6  0.241524  0.905131  0.411498 -0.073473\n",
       "7 -0.974406  1.080573 -0.221565  0.421420\n",
       "8  0.355221  0.225342 -0.525670 -2.128876"
      ]
     },
     "execution_count": 28,
     "metadata": {},
     "output_type": "execute_result"
    }
   ],
   "source": [
    "df = pd.DataFrame(a)\n",
    "df"
   ]
  },
  {
   "cell_type": "code",
   "execution_count": null,
   "metadata": {
    "collapsed": true
   },
   "outputs": [],
   "source": [
    "#  Parameters of DataFrame function\n",
    "# Parameter Format                   Description\n",
    "# --------- ------                   -----------\n",
    "# data      ndarray/dict/DataFrame   Data for DataFrame; dict can contain Series, ndarrays, lists\n",
    "# index     Index/array-like         Index to use; defaults to range(n)\n",
    "# columns   Index/array-like         Column headers to use; defaults to range(n)\n",
    "# dtype     dtype, default None      Data type to use/force; otherwise, it is inferred\n",
    "# copy      bool, default None       Copy data from inputs\n",
    "\n",
    "# e.g. pd.DataFrame([10, 20, 30, 40], columns=['numbers'],index=['a', 'b', 'c', 'd'])"
   ]
  },
  {
   "cell_type": "code",
   "execution_count": 29,
   "metadata": {
    "uuid": "968395a4-12bc-46d2-b486-6c767abce366"
   },
   "outputs": [
    {
     "data": {
      "text/html": [
       "<div>\n",
       "<table border=\"1\" class=\"dataframe\">\n",
       "  <thead>\n",
       "    <tr style=\"text-align: right;\">\n",
       "      <th></th>\n",
       "      <th>No1</th>\n",
       "      <th>No2</th>\n",
       "      <th>No3</th>\n",
       "      <th>No4</th>\n",
       "    </tr>\n",
       "  </thead>\n",
       "  <tbody>\n",
       "    <tr>\n",
       "      <th>0</th>\n",
       "      <td>-0.873502</td>\n",
       "      <td>-0.181518</td>\n",
       "      <td>-1.007540</td>\n",
       "      <td>1.169338</td>\n",
       "    </tr>\n",
       "    <tr>\n",
       "      <th>1</th>\n",
       "      <td>-0.587070</td>\n",
       "      <td>0.511014</td>\n",
       "      <td>1.187308</td>\n",
       "      <td>2.640940</td>\n",
       "    </tr>\n",
       "    <tr>\n",
       "      <th>2</th>\n",
       "      <td>0.170314</td>\n",
       "      <td>-0.240261</td>\n",
       "      <td>0.066821</td>\n",
       "      <td>1.445502</td>\n",
       "    </tr>\n",
       "    <tr>\n",
       "      <th>3</th>\n",
       "      <td>0.592607</td>\n",
       "      <td>-0.378034</td>\n",
       "      <td>-0.649862</td>\n",
       "      <td>-0.606795</td>\n",
       "    </tr>\n",
       "    <tr>\n",
       "      <th>4</th>\n",
       "      <td>-1.824358</td>\n",
       "      <td>1.032427</td>\n",
       "      <td>0.430457</td>\n",
       "      <td>-1.095211</td>\n",
       "    </tr>\n",
       "    <tr>\n",
       "      <th>5</th>\n",
       "      <td>-0.825380</td>\n",
       "      <td>-0.171953</td>\n",
       "      <td>0.629528</td>\n",
       "      <td>0.601883</td>\n",
       "    </tr>\n",
       "    <tr>\n",
       "      <th>6</th>\n",
       "      <td>0.241524</td>\n",
       "      <td>0.905131</td>\n",
       "      <td>0.411498</td>\n",
       "      <td>-0.073473</td>\n",
       "    </tr>\n",
       "    <tr>\n",
       "      <th>7</th>\n",
       "      <td>-0.974406</td>\n",
       "      <td>1.080573</td>\n",
       "      <td>-0.221565</td>\n",
       "      <td>0.421420</td>\n",
       "    </tr>\n",
       "    <tr>\n",
       "      <th>8</th>\n",
       "      <td>0.355221</td>\n",
       "      <td>0.225342</td>\n",
       "      <td>-0.525670</td>\n",
       "      <td>-2.128876</td>\n",
       "    </tr>\n",
       "  </tbody>\n",
       "</table>\n",
       "</div>"
      ],
      "text/plain": [
       "        No1       No2       No3       No4\n",
       "0 -0.873502 -0.181518 -1.007540  1.169338\n",
       "1 -0.587070  0.511014  1.187308  2.640940\n",
       "2  0.170314 -0.240261  0.066821  1.445502\n",
       "3  0.592607 -0.378034 -0.649862 -0.606795\n",
       "4 -1.824358  1.032427  0.430457 -1.095211\n",
       "5 -0.825380 -0.171953  0.629528  0.601883\n",
       "6  0.241524  0.905131  0.411498 -0.073473\n",
       "7 -0.974406  1.080573 -0.221565  0.421420\n",
       "8  0.355221  0.225342 -0.525670 -2.128876"
      ]
     },
     "execution_count": 29,
     "metadata": {},
     "output_type": "execute_result"
    }
   ],
   "source": [
    "df.columns = [['No1', 'No2', 'No3', 'No4']]\n",
    "df"
   ]
  },
  {
   "cell_type": "code",
   "execution_count": 30,
   "metadata": {
    "uuid": "68e8d73f-93d3-47ac-a656-1edbdebcd1ff"
   },
   "outputs": [
    {
     "data": {
      "text/plain": [
       "-0.37803352807605817"
      ]
     },
     "execution_count": 30,
     "metadata": {},
     "output_type": "execute_result"
    }
   ],
   "source": [
    "df['No2'][3]  # value in column No2 at index position 3"
   ]
  },
  {
   "cell_type": "code",
   "execution_count": 35,
   "metadata": {
    "uuid": "a80e1e88-d211-4ee4-a6d3-90403a7739a8"
   },
   "outputs": [
    {
     "data": {
      "text/plain": [
       "DatetimeIndex(['2015-01-31', '2015-02-28', '2015-03-31', '2015-04-30',\n",
       "               '2015-05-31', '2015-06-30', '2015-07-31', '2015-08-31',\n",
       "               '2015-09-30'],\n",
       "              dtype='datetime64[ns]', freq='M')"
      ]
     },
     "execution_count": 35,
     "metadata": {},
     "output_type": "execute_result"
    }
   ],
   "source": [
    "# Now, generate new index:\n",
    "\n",
    "# assume that our nine data entries in the four columns correspond to\n",
    "# month-end data, beginning in January 2015.\n",
    "\n",
    "# PARAMETERRS OF date_range\n",
    "# start = string/datetime\n",
    "# end   = string/datetime\n",
    "# freq = 'M'     Month end frequency  (See Table 6.3)\n",
    "#    B, C, D, W, M, BM, MS, BMS, Q, BQ,QS, BQS, A, BA, AS, BAS, , H, T, S, L, U\n",
    "# periods = 9    number of periods \n",
    "# tz    = string representing timezine\n",
    "\n",
    "\n",
    "dates = pd.date_range(start='2015-1-1', periods=9, freq='M')\n",
    "dates"
   ]
  },
  {
   "cell_type": "code",
   "execution_count": 36,
   "metadata": {
    "uuid": "d8fef9ed-25ca-4ae0-bd0c-026d340a903b"
   },
   "outputs": [
    {
     "data": {
      "text/html": [
       "<div>\n",
       "<table border=\"1\" class=\"dataframe\">\n",
       "  <thead>\n",
       "    <tr style=\"text-align: right;\">\n",
       "      <th></th>\n",
       "      <th>No1</th>\n",
       "      <th>No2</th>\n",
       "      <th>No3</th>\n",
       "      <th>No4</th>\n",
       "    </tr>\n",
       "  </thead>\n",
       "  <tbody>\n",
       "    <tr>\n",
       "      <th>2015-01-31</th>\n",
       "      <td>-0.873502</td>\n",
       "      <td>-0.181518</td>\n",
       "      <td>-1.007540</td>\n",
       "      <td>1.169338</td>\n",
       "    </tr>\n",
       "    <tr>\n",
       "      <th>2015-02-28</th>\n",
       "      <td>-0.587070</td>\n",
       "      <td>0.511014</td>\n",
       "      <td>1.187308</td>\n",
       "      <td>2.640940</td>\n",
       "    </tr>\n",
       "    <tr>\n",
       "      <th>2015-03-31</th>\n",
       "      <td>0.170314</td>\n",
       "      <td>-0.240261</td>\n",
       "      <td>0.066821</td>\n",
       "      <td>1.445502</td>\n",
       "    </tr>\n",
       "    <tr>\n",
       "      <th>2015-04-30</th>\n",
       "      <td>0.592607</td>\n",
       "      <td>-0.378034</td>\n",
       "      <td>-0.649862</td>\n",
       "      <td>-0.606795</td>\n",
       "    </tr>\n",
       "    <tr>\n",
       "      <th>2015-05-31</th>\n",
       "      <td>-1.824358</td>\n",
       "      <td>1.032427</td>\n",
       "      <td>0.430457</td>\n",
       "      <td>-1.095211</td>\n",
       "    </tr>\n",
       "    <tr>\n",
       "      <th>2015-06-30</th>\n",
       "      <td>-0.825380</td>\n",
       "      <td>-0.171953</td>\n",
       "      <td>0.629528</td>\n",
       "      <td>0.601883</td>\n",
       "    </tr>\n",
       "    <tr>\n",
       "      <th>2015-07-31</th>\n",
       "      <td>0.241524</td>\n",
       "      <td>0.905131</td>\n",
       "      <td>0.411498</td>\n",
       "      <td>-0.073473</td>\n",
       "    </tr>\n",
       "    <tr>\n",
       "      <th>2015-08-31</th>\n",
       "      <td>-0.974406</td>\n",
       "      <td>1.080573</td>\n",
       "      <td>-0.221565</td>\n",
       "      <td>0.421420</td>\n",
       "    </tr>\n",
       "    <tr>\n",
       "      <th>2015-09-30</th>\n",
       "      <td>0.355221</td>\n",
       "      <td>0.225342</td>\n",
       "      <td>-0.525670</td>\n",
       "      <td>-2.128876</td>\n",
       "    </tr>\n",
       "  </tbody>\n",
       "</table>\n",
       "</div>"
      ],
      "text/plain": [
       "                 No1       No2       No3       No4\n",
       "2015-01-31 -0.873502 -0.181518 -1.007540  1.169338\n",
       "2015-02-28 -0.587070  0.511014  1.187308  2.640940\n",
       "2015-03-31  0.170314 -0.240261  0.066821  1.445502\n",
       "2015-04-30  0.592607 -0.378034 -0.649862 -0.606795\n",
       "2015-05-31 -1.824358  1.032427  0.430457 -1.095211\n",
       "2015-06-30 -0.825380 -0.171953  0.629528  0.601883\n",
       "2015-07-31  0.241524  0.905131  0.411498 -0.073473\n",
       "2015-08-31 -0.974406  1.080573 -0.221565  0.421420\n",
       "2015-09-30  0.355221  0.225342 -0.525670 -2.128876"
      ]
     },
     "execution_count": 36,
     "metadata": {},
     "output_type": "execute_result"
    }
   ],
   "source": [
    "# we assign the newly generated DatetimeIndex \n",
    "# as the new Index object to the DataFrame object\n",
    "\n",
    "df.index = dates\n",
    "df"
   ]
  },
  {
   "cell_type": "code",
   "execution_count": 37,
   "metadata": {
    "uuid": "bcc38d60-3e1c-49bb-b883-ea7564c136b4"
   },
   "outputs": [
    {
     "data": {
      "text/plain": [
       "array([[-0.873502, -0.181518, -1.00754 ,  1.169338],\n",
       "       [-0.58707 ,  0.511014,  1.187308,  2.64094 ],\n",
       "       [ 0.170314, -0.240261,  0.066821,  1.445502],\n",
       "       [ 0.592607, -0.378034, -0.649862, -0.606795],\n",
       "       [-1.824358,  1.032427,  0.430457, -1.095211],\n",
       "       [-0.82538 , -0.171953,  0.629528,  0.601883],\n",
       "       [ 0.241524,  0.905131,  0.411498, -0.073473],\n",
       "       [-0.974406,  1.080573, -0.221565,  0.42142 ],\n",
       "       [ 0.355221,  0.225342, -0.52567 , -2.128876]])"
      ]
     },
     "execution_count": 37,
     "metadata": {},
     "output_type": "execute_result"
    }
   ],
   "source": [
    "# You can generate a DataFrame object in general from an ndarray object. \n",
    "#   ndarray --> DataFrame\n",
    "# You can also generate an ndarray object out of a DataFrame \n",
    "# by using the function array of NumPy.\n",
    "#   DataFrame --> ndarray\n",
    "\n",
    "np.array(df).round(6)"
   ]
  },
  {
   "cell_type": "markdown",
   "metadata": {},
   "source": [
    "### Basic Analytics"
   ]
  },
  {
   "cell_type": "code",
   "execution_count": 38,
   "metadata": {
    "uuid": "f760ea25-c64c-4e70-9f91-b72701d919ce"
   },
   "outputs": [
    {
     "data": {
      "text/plain": [
       "No1   -3.725049\n",
       "No2    2.782723\n",
       "No3    0.320977\n",
       "No4    2.374729\n",
       "dtype: float64"
      ]
     },
     "execution_count": 38,
     "metadata": {},
     "output_type": "execute_result"
    }
   ],
   "source": [
    "df.sum()   # column-wise sums"
   ]
  },
  {
   "cell_type": "code",
   "execution_count": 39,
   "metadata": {
    "uuid": "3dd9bd77-eb80-46cb-87f3-62c053a8e223"
   },
   "outputs": [
    {
     "data": {
      "text/plain": [
       "No1   -0.413894\n",
       "No2    0.309191\n",
       "No3    0.035664\n",
       "No4    0.263859\n",
       "dtype: float64"
      ]
     },
     "execution_count": 39,
     "metadata": {},
     "output_type": "execute_result"
    }
   ],
   "source": [
    "df.mean()   # column-wise means"
   ]
  },
  {
   "cell_type": "code",
   "execution_count": 40,
   "metadata": {
    "uuid": "8e167ea8-09b7-4585-8cac-28fe20eefe66"
   },
   "outputs": [
    {
     "data": {
      "text/html": [
       "<div>\n",
       "<table border=\"1\" class=\"dataframe\">\n",
       "  <thead>\n",
       "    <tr style=\"text-align: right;\">\n",
       "      <th></th>\n",
       "      <th>No1</th>\n",
       "      <th>No2</th>\n",
       "      <th>No3</th>\n",
       "      <th>No4</th>\n",
       "    </tr>\n",
       "  </thead>\n",
       "  <tbody>\n",
       "    <tr>\n",
       "      <th>2015-01-31</th>\n",
       "      <td>-0.873502</td>\n",
       "      <td>-0.181518</td>\n",
       "      <td>-1.007540</td>\n",
       "      <td>1.169338</td>\n",
       "    </tr>\n",
       "    <tr>\n",
       "      <th>2015-02-28</th>\n",
       "      <td>-1.460571</td>\n",
       "      <td>0.329496</td>\n",
       "      <td>0.179769</td>\n",
       "      <td>3.810278</td>\n",
       "    </tr>\n",
       "    <tr>\n",
       "      <th>2015-03-31</th>\n",
       "      <td>-1.290257</td>\n",
       "      <td>0.089235</td>\n",
       "      <td>0.246590</td>\n",
       "      <td>5.255780</td>\n",
       "    </tr>\n",
       "    <tr>\n",
       "      <th>2015-04-30</th>\n",
       "      <td>-0.697650</td>\n",
       "      <td>-0.288798</td>\n",
       "      <td>-0.403272</td>\n",
       "      <td>4.648986</td>\n",
       "    </tr>\n",
       "    <tr>\n",
       "      <th>2015-05-31</th>\n",
       "      <td>-2.522008</td>\n",
       "      <td>0.743629</td>\n",
       "      <td>0.027185</td>\n",
       "      <td>3.553775</td>\n",
       "    </tr>\n",
       "    <tr>\n",
       "      <th>2015-06-30</th>\n",
       "      <td>-3.347388</td>\n",
       "      <td>0.571676</td>\n",
       "      <td>0.656713</td>\n",
       "      <td>4.155657</td>\n",
       "    </tr>\n",
       "    <tr>\n",
       "      <th>2015-07-31</th>\n",
       "      <td>-3.105864</td>\n",
       "      <td>1.476807</td>\n",
       "      <td>1.068212</td>\n",
       "      <td>4.082184</td>\n",
       "    </tr>\n",
       "    <tr>\n",
       "      <th>2015-08-31</th>\n",
       "      <td>-4.080270</td>\n",
       "      <td>2.557381</td>\n",
       "      <td>0.846647</td>\n",
       "      <td>4.503605</td>\n",
       "    </tr>\n",
       "    <tr>\n",
       "      <th>2015-09-30</th>\n",
       "      <td>-3.725049</td>\n",
       "      <td>2.782723</td>\n",
       "      <td>0.320977</td>\n",
       "      <td>2.374729</td>\n",
       "    </tr>\n",
       "  </tbody>\n",
       "</table>\n",
       "</div>"
      ],
      "text/plain": [
       "                 No1       No2       No3       No4\n",
       "2015-01-31 -0.873502 -0.181518 -1.007540  1.169338\n",
       "2015-02-28 -1.460571  0.329496  0.179769  3.810278\n",
       "2015-03-31 -1.290257  0.089235  0.246590  5.255780\n",
       "2015-04-30 -0.697650 -0.288798 -0.403272  4.648986\n",
       "2015-05-31 -2.522008  0.743629  0.027185  3.553775\n",
       "2015-06-30 -3.347388  0.571676  0.656713  4.155657\n",
       "2015-07-31 -3.105864  1.476807  1.068212  4.082184\n",
       "2015-08-31 -4.080270  2.557381  0.846647  4.503605\n",
       "2015-09-30 -3.725049  2.782723  0.320977  2.374729"
      ]
     },
     "execution_count": 40,
     "metadata": {},
     "output_type": "execute_result"
    }
   ],
   "source": [
    "df.cumsum()  #column-wise cumulative sums"
   ]
  },
  {
   "cell_type": "code",
   "execution_count": 42,
   "metadata": {
    "uuid": "125980cc-91ec-4ab4-9a4a-cfd772dd1254"
   },
   "outputs": [
    {
     "data": {
      "text/html": [
       "<div>\n",
       "<table border=\"1\" class=\"dataframe\">\n",
       "  <thead>\n",
       "    <tr style=\"text-align: right;\">\n",
       "      <th></th>\n",
       "      <th>No1</th>\n",
       "      <th>No2</th>\n",
       "      <th>No3</th>\n",
       "      <th>No4</th>\n",
       "    </tr>\n",
       "  </thead>\n",
       "  <tbody>\n",
       "    <tr>\n",
       "      <th>count</th>\n",
       "      <td>9.000000</td>\n",
       "      <td>9.000000</td>\n",
       "      <td>9.000000</td>\n",
       "      <td>9.000000</td>\n",
       "    </tr>\n",
       "    <tr>\n",
       "      <th>mean</th>\n",
       "      <td>-0.413894</td>\n",
       "      <td>0.309191</td>\n",
       "      <td>0.035664</td>\n",
       "      <td>0.263859</td>\n",
       "    </tr>\n",
       "    <tr>\n",
       "      <th>std</th>\n",
       "      <td>0.797621</td>\n",
       "      <td>0.588162</td>\n",
       "      <td>0.699690</td>\n",
       "      <td>1.433957</td>\n",
       "    </tr>\n",
       "    <tr>\n",
       "      <th>min</th>\n",
       "      <td>-1.824358</td>\n",
       "      <td>-0.378034</td>\n",
       "      <td>-1.007540</td>\n",
       "      <td>-2.128876</td>\n",
       "    </tr>\n",
       "    <tr>\n",
       "      <th>25%</th>\n",
       "      <td>-0.873502</td>\n",
       "      <td>-0.181518</td>\n",
       "      <td>-0.525670</td>\n",
       "      <td>-0.606795</td>\n",
       "    </tr>\n",
       "    <tr>\n",
       "      <th>50%</th>\n",
       "      <td>-0.587070</td>\n",
       "      <td>0.225342</td>\n",
       "      <td>0.066821</td>\n",
       "      <td>0.421420</td>\n",
       "    </tr>\n",
       "    <tr>\n",
       "      <th>75%</th>\n",
       "      <td>0.241524</td>\n",
       "      <td>0.905131</td>\n",
       "      <td>0.430457</td>\n",
       "      <td>1.169338</td>\n",
       "    </tr>\n",
       "    <tr>\n",
       "      <th>max</th>\n",
       "      <td>0.592607</td>\n",
       "      <td>1.080573</td>\n",
       "      <td>1.187308</td>\n",
       "      <td>2.640940</td>\n",
       "    </tr>\n",
       "  </tbody>\n",
       "</table>\n",
       "</div>"
      ],
      "text/plain": [
       "            No1       No2       No3       No4\n",
       "count  9.000000  9.000000  9.000000  9.000000\n",
       "mean  -0.413894  0.309191  0.035664  0.263859\n",
       "std    0.797621  0.588162  0.699690  1.433957\n",
       "min   -1.824358 -0.378034 -1.007540 -2.128876\n",
       "25%   -0.873502 -0.181518 -0.525670 -0.606795\n",
       "50%   -0.587070  0.225342  0.066821  0.421420\n",
       "75%    0.241524  0.905131  0.430457  1.169338\n",
       "max    0.592607  1.080573  1.187308  2.640940"
      ]
     },
     "execution_count": 42,
     "metadata": {},
     "output_type": "execute_result"
    }
   ],
   "source": [
    "df.describe()   # a number of often-used statistics for numerical data sets\n",
    "                # By default percentiles is [.25, .5, .75], \n",
    "                # returning the 25th, 50th, and 75th percentiles."
   ]
  },
  {
   "cell_type": "code",
   "execution_count": 43,
   "metadata": {
    "uuid": "9dfc1e40-c030-4a9c-9e3a-ff28c64a93df"
   },
   "outputs": [
    {
     "data": {
      "text/html": [
       "<div>\n",
       "<table border=\"1\" class=\"dataframe\">\n",
       "  <thead>\n",
       "    <tr style=\"text-align: right;\">\n",
       "      <th></th>\n",
       "      <th>No1</th>\n",
       "      <th>No2</th>\n",
       "      <th>No3</th>\n",
       "      <th>No4</th>\n",
       "    </tr>\n",
       "  </thead>\n",
       "  <tbody>\n",
       "    <tr>\n",
       "      <th>2015-01-31</th>\n",
       "      <td>NaN</td>\n",
       "      <td>NaN</td>\n",
       "      <td>NaN</td>\n",
       "      <td>1.081359</td>\n",
       "    </tr>\n",
       "    <tr>\n",
       "      <th>2015-02-28</th>\n",
       "      <td>NaN</td>\n",
       "      <td>0.714853</td>\n",
       "      <td>1.089637</td>\n",
       "      <td>1.625097</td>\n",
       "    </tr>\n",
       "    <tr>\n",
       "      <th>2015-03-31</th>\n",
       "      <td>0.412692</td>\n",
       "      <td>NaN</td>\n",
       "      <td>0.258498</td>\n",
       "      <td>1.202290</td>\n",
       "    </tr>\n",
       "    <tr>\n",
       "      <th>2015-04-30</th>\n",
       "      <td>0.769810</td>\n",
       "      <td>NaN</td>\n",
       "      <td>NaN</td>\n",
       "      <td>NaN</td>\n",
       "    </tr>\n",
       "    <tr>\n",
       "      <th>2015-05-31</th>\n",
       "      <td>NaN</td>\n",
       "      <td>1.016084</td>\n",
       "      <td>0.656092</td>\n",
       "      <td>NaN</td>\n",
       "    </tr>\n",
       "    <tr>\n",
       "      <th>2015-06-30</th>\n",
       "      <td>NaN</td>\n",
       "      <td>NaN</td>\n",
       "      <td>0.793428</td>\n",
       "      <td>0.775811</td>\n",
       "    </tr>\n",
       "    <tr>\n",
       "      <th>2015-07-31</th>\n",
       "      <td>0.491451</td>\n",
       "      <td>0.951384</td>\n",
       "      <td>0.641481</td>\n",
       "      <td>NaN</td>\n",
       "    </tr>\n",
       "    <tr>\n",
       "      <th>2015-08-31</th>\n",
       "      <td>NaN</td>\n",
       "      <td>1.039506</td>\n",
       "      <td>NaN</td>\n",
       "      <td>0.649169</td>\n",
       "    </tr>\n",
       "    <tr>\n",
       "      <th>2015-09-30</th>\n",
       "      <td>0.596004</td>\n",
       "      <td>0.474702</td>\n",
       "      <td>NaN</td>\n",
       "      <td>NaN</td>\n",
       "    </tr>\n",
       "  </tbody>\n",
       "</table>\n",
       "</div>"
      ],
      "text/plain": [
       "                 No1       No2       No3       No4\n",
       "2015-01-31       NaN       NaN       NaN  1.081359\n",
       "2015-02-28       NaN  0.714853  1.089637  1.625097\n",
       "2015-03-31  0.412692       NaN  0.258498  1.202290\n",
       "2015-04-30  0.769810       NaN       NaN       NaN\n",
       "2015-05-31       NaN  1.016084  0.656092       NaN\n",
       "2015-06-30       NaN       NaN  0.793428  0.775811\n",
       "2015-07-31  0.491451  0.951384  0.641481       NaN\n",
       "2015-08-31       NaN  1.039506       NaN  0.649169\n",
       "2015-09-30  0.596004  0.474702       NaN       NaN"
      ]
     },
     "execution_count": 43,
     "metadata": {},
     "output_type": "execute_result"
    }
   ],
   "source": [
    "# You can  apply the majority of NumPy universal functions to DataFrame objects\n",
    "\n",
    "np.sqrt(df)"
   ]
  },
  {
   "cell_type": "code",
   "execution_count": 44,
   "metadata": {
    "uuid": "a540362b-50d7-4ef0-89ba-0b6ee38033f6"
   },
   "outputs": [
    {
     "data": {
      "text/plain": [
       "No1    2.269957\n",
       "No2    4.196530\n",
       "No3    3.439137\n",
       "No4    5.333727\n",
       "dtype: float64"
      ]
     },
     "execution_count": 44,
     "metadata": {},
     "output_type": "execute_result"
    }
   ],
   "source": [
    "# pandas leaves out the NaN values and only works with the other available values\n",
    "\n",
    "np.sqrt(df).sum()"
   ]
  },
  {
   "cell_type": "code",
   "execution_count": 51,
   "metadata": {
    "uuid": "4b1834ec-9f9b-41d6-8d06-f2efc8433dc4"
   },
   "outputs": [
    {
     "data": {
      "text/plain": [
       "array([<matplotlib.axes._subplots.AxesSubplot object at 0x0000019577E29C50>,\n",
       "       <matplotlib.axes._subplots.AxesSubplot object at 0x000001957519F908>,\n",
       "       <matplotlib.axes._subplots.AxesSubplot object at 0x0000019577DD2C88>,\n",
       "       <matplotlib.axes._subplots.AxesSubplot object at 0x0000019577E6E9E8>], dtype=object)"
      ]
     },
     "execution_count": 51,
     "metadata": {},
     "output_type": "execute_result"
    },
    {
     "data": {
      "image/png": "[encoded data removed]",
      "text/plain": [
       "<matplotlib.figure.Figure at 0x19577d1ae10>"
      ]
     },
     "metadata": {},
     "output_type": "display_data"
    }
   ],
   "source": [
    "# Plotting of data\n",
    "# pandas provides a wrapper around matplotplib, specifically designed for DataFrame objects\n",
    "\n",
    "# Parameters of plot method are listed in table 6.4\n",
    "#  subplots  Boolean, default False    Plot columns in subplots\n",
    "#  grid      Boolean, default False    Horizontal and vertical grid lines\n",
    "#  title     String, default None      Title for the plot\n",
    "#  legend    Boolean, default True     Legend of labels\n",
    "#  logx      Boolean, default False    Logarithmic scaling of x-axis\n",
    "#  logy      Boolean, default False    Logarithmic scaling of y-axis\n",
    "#  xlim      2-tuple, list             Boundaries for x-axis\n",
    "#  ylim      2-tuple, list             Boundaries for y-axis\n",
    "#    etc...\n",
    "\n",
    "%matplotlib inline\n",
    "df.cumsum().plot(lw=2.0,  # subplots = True, figsize=(6,10),\n",
    "                 grid = True)\n",
    "# title: Line plot of a DataFrame object"
   ]
  },
  {
   "cell_type": "markdown",
   "metadata": {},
   "source": [
    "### TimeSeries Class"
   ]
  },
  {
   "cell_type": "code",
   "execution_count": 52,
   "metadata": {
    "uuid": "e86f82d1-5934-42d3-a986-f01bc829adaa"
   },
   "outputs": [
    {
     "data": {
      "text/plain": [
       "pandas.core.frame.DataFrame"
      ]
     },
     "execution_count": 52,
     "metadata": {},
     "output_type": "execute_result"
    }
   ],
   "source": [
    "# we have worked mainly with the pandas DataFrame class\n",
    "\n",
    "type(df)"
   ]
  },
  {
   "cell_type": "code",
   "execution_count": 53,
   "metadata": {
    "uuid": "bcebc814-623d-4e8a-81e9-314ab36a7429"
   },
   "outputs": [
    {
     "data": {
      "text/plain": [
       "2015-01-31   -0.873502\n",
       "2015-02-28   -0.587070\n",
       "2015-03-31    0.170314\n",
       "2015-04-30    0.592607\n",
       "2015-05-31   -1.824358\n",
       "2015-06-30   -0.825380\n",
       "2015-07-31    0.241524\n",
       "2015-08-31   -0.974406\n",
       "2015-09-30    0.355221\n",
       "Freq: M, Name: No1, dtype: float64"
      ]
     },
     "execution_count": 53,
     "metadata": {},
     "output_type": "execute_result"
    }
   ],
   "source": [
    "# there is  a dedicated Series class. We get a Series object, \n",
    "# for example, when selecting a single column from our DataFrame object\n",
    "\n",
    "df['No1']"
   ]
  },
  {
   "cell_type": "code",
   "execution_count": 54,
   "metadata": {
    "uuid": "ca241ef9-5359-4c89-bc92-be6346cb3959"
   },
   "outputs": [
    {
     "data": {
      "text/plain": [
       "pandas.core.series.Series"
      ]
     },
     "execution_count": 54,
     "metadata": {},
     "output_type": "execute_result"
    }
   ],
   "source": [
    "type(df['No1'])"
   ]
  },
  {
   "cell_type": "code",
   "execution_count": 55,
   "metadata": {
    "uuid": "b3d4cc90-e499-459c-88a5-011fde80d864"
   },
   "outputs": [
    {
     "data": {
      "text/plain": [
       "<matplotlib.text.Text at 0x19577f6fb38>"
      ]
     },
     "execution_count": 55,
     "metadata": {},
     "output_type": "execute_result"
    },
    {
     "data": {
      "image/png": "[encoded data removed]",
      "text/plain": [
       "<matplotlib.figure.Figure at 0x19577d31a58>"
      ]
     },
     "metadata": {},
     "output_type": "display_data"
    }
   ],
   "source": [
    "# we can plot Series objets\n",
    "# style = 'b'     blue line   \n",
    "\n",
    "%matplotlib inline\n",
    "import matplotlib.pyplot as plt\n",
    "df['No1'].cumsum().plot(style='b', lw=2.)\n",
    "plt.xlabel('date')\n",
    "plt.ylabel('value')\n",
    "plt.grid()\n",
    "plt.title(\"Line plot of a TimeSeries object\")\n"
   ]
  },
  {
   "cell_type": "markdown",
   "metadata": {},
   "source": [
    "### GroupBy Operations"
   ]
  },
  {
   "cell_type": "code",
   "execution_count": 56,
   "metadata": {
    "uuid": "4bc106dd-9590-4566-bc70-d410517c8223"
   },
   "outputs": [
    {
     "data": {
      "text/html": [
       "<div>\n",
       "<table border=\"1\" class=\"dataframe\">\n",
       "  <thead>\n",
       "    <tr style=\"text-align: right;\">\n",
       "      <th></th>\n",
       "      <th>No1</th>\n",
       "      <th>No2</th>\n",
       "      <th>No3</th>\n",
       "      <th>No4</th>\n",
       "      <th>Quarter</th>\n",
       "    </tr>\n",
       "  </thead>\n",
       "  <tbody>\n",
       "    <tr>\n",
       "      <th>2015-01-31</th>\n",
       "      <td>-0.873502</td>\n",
       "      <td>-0.181518</td>\n",
       "      <td>-1.007540</td>\n",
       "      <td>1.169338</td>\n",
       "      <td>Q1</td>\n",
       "    </tr>\n",
       "    <tr>\n",
       "      <th>2015-02-28</th>\n",
       "      <td>-0.587070</td>\n",
       "      <td>0.511014</td>\n",
       "      <td>1.187308</td>\n",
       "      <td>2.640940</td>\n",
       "      <td>Q1</td>\n",
       "    </tr>\n",
       "    <tr>\n",
       "      <th>2015-03-31</th>\n",
       "      <td>0.170314</td>\n",
       "      <td>-0.240261</td>\n",
       "      <td>0.066821</td>\n",
       "      <td>1.445502</td>\n",
       "      <td>Q1</td>\n",
       "    </tr>\n",
       "    <tr>\n",
       "      <th>2015-04-30</th>\n",
       "      <td>0.592607</td>\n",
       "      <td>-0.378034</td>\n",
       "      <td>-0.649862</td>\n",
       "      <td>-0.606795</td>\n",
       "      <td>Q2</td>\n",
       "    </tr>\n",
       "    <tr>\n",
       "      <th>2015-05-31</th>\n",
       "      <td>-1.824358</td>\n",
       "      <td>1.032427</td>\n",
       "      <td>0.430457</td>\n",
       "      <td>-1.095211</td>\n",
       "      <td>Q2</td>\n",
       "    </tr>\n",
       "    <tr>\n",
       "      <th>2015-06-30</th>\n",
       "      <td>-0.825380</td>\n",
       "      <td>-0.171953</td>\n",
       "      <td>0.629528</td>\n",
       "      <td>0.601883</td>\n",
       "      <td>Q2</td>\n",
       "    </tr>\n",
       "    <tr>\n",
       "      <th>2015-07-31</th>\n",
       "      <td>0.241524</td>\n",
       "      <td>0.905131</td>\n",
       "      <td>0.411498</td>\n",
       "      <td>-0.073473</td>\n",
       "      <td>Q3</td>\n",
       "    </tr>\n",
       "    <tr>\n",
       "      <th>2015-08-31</th>\n",
       "      <td>-0.974406</td>\n",
       "      <td>1.080573</td>\n",
       "      <td>-0.221565</td>\n",
       "      <td>0.421420</td>\n",
       "      <td>Q3</td>\n",
       "    </tr>\n",
       "    <tr>\n",
       "      <th>2015-09-30</th>\n",
       "      <td>0.355221</td>\n",
       "      <td>0.225342</td>\n",
       "      <td>-0.525670</td>\n",
       "      <td>-2.128876</td>\n",
       "      <td>Q3</td>\n",
       "    </tr>\n",
       "  </tbody>\n",
       "</table>\n",
       "</div>"
      ],
      "text/plain": [
       "                 No1       No2       No3       No4 Quarter\n",
       "2015-01-31 -0.873502 -0.181518 -1.007540  1.169338      Q1\n",
       "2015-02-28 -0.587070  0.511014  1.187308  2.640940      Q1\n",
       "2015-03-31  0.170314 -0.240261  0.066821  1.445502      Q1\n",
       "2015-04-30  0.592607 -0.378034 -0.649862 -0.606795      Q2\n",
       "2015-05-31 -1.824358  1.032427  0.430457 -1.095211      Q2\n",
       "2015-06-30 -0.825380 -0.171953  0.629528  0.601883      Q2\n",
       "2015-07-31  0.241524  0.905131  0.411498 -0.073473      Q3\n",
       "2015-08-31 -0.974406  1.080573 -0.221565  0.421420      Q3\n",
       "2015-09-30  0.355221  0.225342 -0.525670 -2.128876      Q3"
      ]
     },
     "execution_count": 56,
     "metadata": {},
     "output_type": "execute_result"
    }
   ],
   "source": [
    "# pandas has powerful and flexible grouping capabilities\n",
    "# similar to grouping in SQL as well as pivot tables in Microsoft Excel\n",
    "\n",
    "# To have something to group by, we add a column \n",
    "# indicating the quarter the respective data\n",
    "\n",
    "df['Quarter'] = ['Q1', 'Q1', 'Q1', 'Q2', 'Q2', 'Q2', 'Q3', 'Q3', 'Q3']\n",
    "df"
   ]
  },
  {
   "cell_type": "code",
   "execution_count": 58,
   "metadata": {
    "uuid": "41c1962a-05ba-4c0f-b017-e6873e2d245e"
   },
   "outputs": [
    {
     "data": {
      "text/plain": [
       "<pandas.core.groupby.DataFrameGroupBy object at 0x00000195780E66D8>"
      ]
     },
     "execution_count": 58,
     "metadata": {},
     "output_type": "execute_result"
    }
   ],
   "source": [
    "# Now, we can group by the “Quarter” column\n",
    "\n",
    "groups = df.groupby('Quarter')"
   ]
  },
  {
   "cell_type": "code",
   "execution_count": 59,
   "metadata": {
    "uuid": "804e567f-6b74-4405-a10e-d19d914655e7"
   },
   "outputs": [
    {
     "data": {
      "text/html": [
       "<div>\n",
       "<table border=\"1\" class=\"dataframe\">\n",
       "  <thead>\n",
       "    <tr style=\"text-align: right;\">\n",
       "      <th></th>\n",
       "      <th>No1</th>\n",
       "      <th>No2</th>\n",
       "      <th>No3</th>\n",
       "      <th>No4</th>\n",
       "    </tr>\n",
       "    <tr>\n",
       "      <th>Quarter</th>\n",
       "      <th></th>\n",
       "      <th></th>\n",
       "      <th></th>\n",
       "      <th></th>\n",
       "    </tr>\n",
       "  </thead>\n",
       "  <tbody>\n",
       "    <tr>\n",
       "      <th>Q1</th>\n",
       "      <td>-0.430086</td>\n",
       "      <td>0.029745</td>\n",
       "      <td>0.082197</td>\n",
       "      <td>1.751927</td>\n",
       "    </tr>\n",
       "    <tr>\n",
       "      <th>Q2</th>\n",
       "      <td>-0.685710</td>\n",
       "      <td>0.160814</td>\n",
       "      <td>0.136708</td>\n",
       "      <td>-0.366708</td>\n",
       "    </tr>\n",
       "    <tr>\n",
       "      <th>Q3</th>\n",
       "      <td>-0.125887</td>\n",
       "      <td>0.737016</td>\n",
       "      <td>-0.111912</td>\n",
       "      <td>-0.593643</td>\n",
       "    </tr>\n",
       "  </tbody>\n",
       "</table>\n",
       "</div>"
      ],
      "text/plain": [
       "              No1       No2       No3       No4\n",
       "Quarter                                        \n",
       "Q1      -0.430086  0.029745  0.082197  1.751927\n",
       "Q2      -0.685710  0.160814  0.136708 -0.366708\n",
       "Q3      -0.125887  0.737016 -0.111912 -0.593643"
      ]
     },
     "execution_count": 59,
     "metadata": {},
     "output_type": "execute_result"
    }
   ],
   "source": [
    "# get the mean of every group bucket\n",
    "\n",
    "groups.mean()"
   ]
  },
  {
   "cell_type": "code",
   "execution_count": 60,
   "metadata": {
    "uuid": "7eb45e5c-b86f-4464-afd9-d5a3665e0f8e"
   },
   "outputs": [
    {
     "data": {
      "text/html": [
       "<div>\n",
       "<table border=\"1\" class=\"dataframe\">\n",
       "  <thead>\n",
       "    <tr style=\"text-align: right;\">\n",
       "      <th></th>\n",
       "      <th>No1</th>\n",
       "      <th>No2</th>\n",
       "      <th>No3</th>\n",
       "      <th>No4</th>\n",
       "    </tr>\n",
       "    <tr>\n",
       "      <th>Quarter</th>\n",
       "      <th></th>\n",
       "      <th></th>\n",
       "      <th></th>\n",
       "      <th></th>\n",
       "    </tr>\n",
       "  </thead>\n",
       "  <tbody>\n",
       "    <tr>\n",
       "      <th>Q1</th>\n",
       "      <td>0.170314</td>\n",
       "      <td>0.511014</td>\n",
       "      <td>1.187308</td>\n",
       "      <td>2.640940</td>\n",
       "    </tr>\n",
       "    <tr>\n",
       "      <th>Q2</th>\n",
       "      <td>0.592607</td>\n",
       "      <td>1.032427</td>\n",
       "      <td>0.629528</td>\n",
       "      <td>0.601883</td>\n",
       "    </tr>\n",
       "    <tr>\n",
       "      <th>Q3</th>\n",
       "      <td>0.355221</td>\n",
       "      <td>1.080573</td>\n",
       "      <td>0.411498</td>\n",
       "      <td>0.421420</td>\n",
       "    </tr>\n",
       "  </tbody>\n",
       "</table>\n",
       "</div>"
      ],
      "text/plain": [
       "              No1       No2       No3       No4\n",
       "Quarter                                        \n",
       "Q1       0.170314  0.511014  1.187308  2.640940\n",
       "Q2       0.592607  1.032427  0.629528  0.601883\n",
       "Q3       0.355221  1.080573  0.411498  0.421420"
      ]
     },
     "execution_count": 60,
     "metadata": {},
     "output_type": "execute_result"
    }
   ],
   "source": [
    "# get the max of every group bucket\n",
    "\n",
    "groups.max()"
   ]
  },
  {
   "cell_type": "code",
   "execution_count": 61,
   "metadata": {
    "uuid": "a871b95e-5946-4b09-b8dc-bc9503d2ff14"
   },
   "outputs": [
    {
     "data": {
      "text/plain": [
       "Quarter\n",
       "Q1    3\n",
       "Q2    3\n",
       "Q3    3\n",
       "dtype: int64"
      ]
     },
     "execution_count": 61,
     "metadata": {},
     "output_type": "execute_result"
    }
   ],
   "source": [
    "# get the size of every group bucket\n",
    "\n",
    "groups.size()"
   ]
  },
  {
   "cell_type": "code",
   "execution_count": 63,
   "metadata": {
    "uuid": "542cf99a-bbf8-447e-9643-d6887ac74be7"
   },
   "outputs": [
    {
     "data": {
      "text/html": [
       "<div>\n",
       "<table border=\"1\" class=\"dataframe\">\n",
       "  <thead>\n",
       "    <tr style=\"text-align: right;\">\n",
       "      <th></th>\n",
       "      <th>No1</th>\n",
       "      <th>No2</th>\n",
       "      <th>No3</th>\n",
       "      <th>No4</th>\n",
       "      <th>Quarter</th>\n",
       "      <th>Odd_Even</th>\n",
       "    </tr>\n",
       "  </thead>\n",
       "  <tbody>\n",
       "    <tr>\n",
       "      <th>2015-01-31</th>\n",
       "      <td>-0.873502</td>\n",
       "      <td>-0.181518</td>\n",
       "      <td>-1.007540</td>\n",
       "      <td>1.169338</td>\n",
       "      <td>Q1</td>\n",
       "      <td>Odd</td>\n",
       "    </tr>\n",
       "    <tr>\n",
       "      <th>2015-02-28</th>\n",
       "      <td>-0.587070</td>\n",
       "      <td>0.511014</td>\n",
       "      <td>1.187308</td>\n",
       "      <td>2.640940</td>\n",
       "      <td>Q1</td>\n",
       "      <td>Even</td>\n",
       "    </tr>\n",
       "    <tr>\n",
       "      <th>2015-03-31</th>\n",
       "      <td>0.170314</td>\n",
       "      <td>-0.240261</td>\n",
       "      <td>0.066821</td>\n",
       "      <td>1.445502</td>\n",
       "      <td>Q1</td>\n",
       "      <td>Odd</td>\n",
       "    </tr>\n",
       "    <tr>\n",
       "      <th>2015-04-30</th>\n",
       "      <td>0.592607</td>\n",
       "      <td>-0.378034</td>\n",
       "      <td>-0.649862</td>\n",
       "      <td>-0.606795</td>\n",
       "      <td>Q2</td>\n",
       "      <td>Even</td>\n",
       "    </tr>\n",
       "    <tr>\n",
       "      <th>2015-05-31</th>\n",
       "      <td>-1.824358</td>\n",
       "      <td>1.032427</td>\n",
       "      <td>0.430457</td>\n",
       "      <td>-1.095211</td>\n",
       "      <td>Q2</td>\n",
       "      <td>Odd</td>\n",
       "    </tr>\n",
       "    <tr>\n",
       "      <th>2015-06-30</th>\n",
       "      <td>-0.825380</td>\n",
       "      <td>-0.171953</td>\n",
       "      <td>0.629528</td>\n",
       "      <td>0.601883</td>\n",
       "      <td>Q2</td>\n",
       "      <td>Even</td>\n",
       "    </tr>\n",
       "    <tr>\n",
       "      <th>2015-07-31</th>\n",
       "      <td>0.241524</td>\n",
       "      <td>0.905131</td>\n",
       "      <td>0.411498</td>\n",
       "      <td>-0.073473</td>\n",
       "      <td>Q3</td>\n",
       "      <td>Odd</td>\n",
       "    </tr>\n",
       "    <tr>\n",
       "      <th>2015-08-31</th>\n",
       "      <td>-0.974406</td>\n",
       "      <td>1.080573</td>\n",
       "      <td>-0.221565</td>\n",
       "      <td>0.421420</td>\n",
       "      <td>Q3</td>\n",
       "      <td>Even</td>\n",
       "    </tr>\n",
       "    <tr>\n",
       "      <th>2015-09-30</th>\n",
       "      <td>0.355221</td>\n",
       "      <td>0.225342</td>\n",
       "      <td>-0.525670</td>\n",
       "      <td>-2.128876</td>\n",
       "      <td>Q3</td>\n",
       "      <td>Odd</td>\n",
       "    </tr>\n",
       "  </tbody>\n",
       "</table>\n",
       "</div>"
      ],
      "text/plain": [
       "                 No1       No2       No3       No4 Quarter Odd_Even\n",
       "2015-01-31 -0.873502 -0.181518 -1.007540  1.169338      Q1      Odd\n",
       "2015-02-28 -0.587070  0.511014  1.187308  2.640940      Q1     Even\n",
       "2015-03-31  0.170314 -0.240261  0.066821  1.445502      Q1      Odd\n",
       "2015-04-30  0.592607 -0.378034 -0.649862 -0.606795      Q2     Even\n",
       "2015-05-31 -1.824358  1.032427  0.430457 -1.095211      Q2      Odd\n",
       "2015-06-30 -0.825380 -0.171953  0.629528  0.601883      Q2     Even\n",
       "2015-07-31  0.241524  0.905131  0.411498 -0.073473      Q3      Odd\n",
       "2015-08-31 -0.974406  1.080573 -0.221565  0.421420      Q3     Even\n",
       "2015-09-30  0.355221  0.225342 -0.525670 -2.128876      Q3      Odd"
      ]
     },
     "execution_count": 63,
     "metadata": {},
     "output_type": "execute_result"
    }
   ],
   "source": [
    "# Grouping can also be done with multiple columns. \n",
    "# add another column, indicating whether the month of the index date is odd or even\n",
    "\n",
    "df['Odd_Even'] = ['Odd', 'Even', 'Odd', 'Even', 'Odd', 'Even',\n",
    "                  'Odd', 'Even', 'Odd']\n",
    "df"
   ]
  },
  {
   "cell_type": "code",
   "execution_count": 64,
   "metadata": {
    "uuid": "f5144c9f-ff37-4e35-9417-e39debdcd45b"
   },
   "outputs": [],
   "source": [
    "# grouping based on two columns simultaneously\n",
    "\n",
    "groups = df.groupby(['Quarter', 'Odd_Even'])"
   ]
  },
  {
   "cell_type": "code",
   "execution_count": 65,
   "metadata": {
    "uuid": "06904508-dbf1-431f-a3a2-681f29f03c51"
   },
   "outputs": [
    {
     "data": {
      "text/plain": [
       "Quarter  Odd_Even\n",
       "Q1       Even        1\n",
       "         Odd         2\n",
       "Q2       Even        2\n",
       "         Odd         1\n",
       "Q3       Even        1\n",
       "         Odd         2\n",
       "dtype: int64"
      ]
     },
     "execution_count": 65,
     "metadata": {},
     "output_type": "execute_result"
    }
   ],
   "source": [
    "groups.size()"
   ]
  },
  {
   "cell_type": "code",
   "execution_count": 66,
   "metadata": {
    "uuid": "b8471956-40fc-4203-a54a-aaa45f5a3c00"
   },
   "outputs": [
    {
     "data": {
      "text/html": [
       "<div>\n",
       "<table border=\"1\" class=\"dataframe\">\n",
       "  <thead>\n",
       "    <tr style=\"text-align: right;\">\n",
       "      <th></th>\n",
       "      <th></th>\n",
       "      <th>No1</th>\n",
       "      <th>No2</th>\n",
       "      <th>No3</th>\n",
       "      <th>No4</th>\n",
       "    </tr>\n",
       "    <tr>\n",
       "      <th>Quarter</th>\n",
       "      <th>Odd_Even</th>\n",
       "      <th></th>\n",
       "      <th></th>\n",
       "      <th></th>\n",
       "      <th></th>\n",
       "    </tr>\n",
       "  </thead>\n",
       "  <tbody>\n",
       "    <tr>\n",
       "      <th rowspan=\"2\" valign=\"top\">Q1</th>\n",
       "      <th>Even</th>\n",
       "      <td>-0.587070</td>\n",
       "      <td>0.511014</td>\n",
       "      <td>1.187308</td>\n",
       "      <td>2.640940</td>\n",
       "    </tr>\n",
       "    <tr>\n",
       "      <th>Odd</th>\n",
       "      <td>-0.351594</td>\n",
       "      <td>-0.210890</td>\n",
       "      <td>-0.470359</td>\n",
       "      <td>1.307420</td>\n",
       "    </tr>\n",
       "    <tr>\n",
       "      <th rowspan=\"2\" valign=\"top\">Q2</th>\n",
       "      <th>Even</th>\n",
       "      <td>-0.116386</td>\n",
       "      <td>-0.274993</td>\n",
       "      <td>-0.010167</td>\n",
       "      <td>-0.002456</td>\n",
       "    </tr>\n",
       "    <tr>\n",
       "      <th>Odd</th>\n",
       "      <td>-1.824358</td>\n",
       "      <td>1.032427</td>\n",
       "      <td>0.430457</td>\n",
       "      <td>-1.095211</td>\n",
       "    </tr>\n",
       "    <tr>\n",
       "      <th rowspan=\"2\" valign=\"top\">Q3</th>\n",
       "      <th>Even</th>\n",
       "      <td>-0.974406</td>\n",
       "      <td>1.080573</td>\n",
       "      <td>-0.221565</td>\n",
       "      <td>0.421420</td>\n",
       "    </tr>\n",
       "    <tr>\n",
       "      <th>Odd</th>\n",
       "      <td>0.298373</td>\n",
       "      <td>0.565237</td>\n",
       "      <td>-0.057086</td>\n",
       "      <td>-1.101174</td>\n",
       "    </tr>\n",
       "  </tbody>\n",
       "</table>\n",
       "</div>"
      ],
      "text/plain": [
       "                       No1       No2       No3       No4\n",
       "Quarter Odd_Even                                        \n",
       "Q1      Even     -0.587070  0.511014  1.187308  2.640940\n",
       "        Odd      -0.351594 -0.210890 -0.470359  1.307420\n",
       "Q2      Even     -0.116386 -0.274993 -0.010167 -0.002456\n",
       "        Odd      -1.824358  1.032427  0.430457 -1.095211\n",
       "Q3      Even     -0.974406  1.080573 -0.221565  0.421420\n",
       "        Odd       0.298373  0.565237 -0.057086 -1.101174"
      ]
     },
     "execution_count": 66,
     "metadata": {},
     "output_type": "execute_result"
    }
   ],
   "source": [
    "groups.mean()"
   ]
  },
  {
   "cell_type": "markdown",
   "metadata": {},
   "source": [
    "## Financial Data"
   ]
  },
  {
   "cell_type": "code",
   "execution_count": 2,
   "metadata": {},
   "outputs": [],
   "source": [
    "import mpl_finance"
   ]
  },
  {
   "cell_type": "markdown",
   "metadata": {},
   "source": [
    "Let's look at some financial data"
   ]
  },
  {
   "cell_type": "code",
   "execution_count": 1,
   "metadata": {},
   "outputs": [
    {
     "ename": "ModuleNotFoundError",
     "evalue": "No module named 'matplotlib.finance'",
     "output_type": "error",
     "traceback": [
      "\u001b[0;31m---------------------------------------------------------------------------\u001b[0m",
      "\u001b[0;31mModuleNotFoundError\u001b[0m                       Traceback (most recent call last)",
      "\u001b[0;32m<ipython-input-1-4b7d51832b00>\u001b[0m in \u001b[0;36m<module>\u001b[0;34m()\u001b[0m\n\u001b[0;32m----> 1\u001b[0;31m \u001b[0;32mimport\u001b[0m \u001b[0mmatplotlib\u001b[0m\u001b[0;34m.\u001b[0m\u001b[0mfinance\u001b[0m \u001b[0;32mas\u001b[0m \u001b[0mmpf\u001b[0m\u001b[0;34m\u001b[0m\u001b[0m\n\u001b[0m\u001b[1;32m      2\u001b[0m \u001b[0;32mimport\u001b[0m \u001b[0mnumpy\u001b[0m \u001b[0;32mas\u001b[0m \u001b[0mnp\u001b[0m\u001b[0;34m\u001b[0m\u001b[0m\n\u001b[1;32m      3\u001b[0m \u001b[0;32mimport\u001b[0m \u001b[0mmatplotlib\u001b[0m\u001b[0;34m.\u001b[0m\u001b[0mpyplot\u001b[0m \u001b[0;32mas\u001b[0m \u001b[0mplt\u001b[0m\u001b[0;34m\u001b[0m\u001b[0m\n\u001b[1;32m      4\u001b[0m \u001b[0mget_ipython\u001b[0m\u001b[0;34m(\u001b[0m\u001b[0;34m)\u001b[0m\u001b[0;34m.\u001b[0m\u001b[0mrun_line_magic\u001b[0m\u001b[0;34m(\u001b[0m\u001b[0;34m'matplotlib'\u001b[0m\u001b[0;34m,\u001b[0m \u001b[0;34m'inline'\u001b[0m\u001b[0;34m)\u001b[0m\u001b[0;34m\u001b[0m\u001b[0m\n\u001b[1;32m      5\u001b[0m \u001b[0;34m\u001b[0m\u001b[0m\n",
      "\u001b[0;31mModuleNotFoundError\u001b[0m: No module named 'matplotlib.finance'"
     ]
    }
   ],
   "source": [
    "import matplotlib.finance as mpf\n",
    "import numpy as np\n",
    "import matplotlib.pyplot as plt\n",
    "%matplotlib inline\n",
    "\n",
    "start = (2016, 1, 1)\n",
    "end = (2016, 3, 31)\n",
    "quotes = mpf.quotes_historical_yahoo_ohlc('FB', start, end)\n",
    "y = np.array(quotes)\n",
    "\n",
    "fig, (ax1, ax2) = plt.subplots(2, sharex=True, figsize=(8, 10))\n",
    "mpf.candlestick_ohlc(ax1, quotes, width=0.6, colorup='b', colordown='r')\n",
    "ax1.set_title('FB stock')\n",
    "ax1.set_ylabel('index level')\n",
    "ax1.grid(True)\n",
    "ax1.xaxis_date()\n",
    "\n",
    "plt.plot(y[:,0],y[:, 1], lw=1.5, label='open')  # open column\n",
    "plt.plot(y[:,0],y[:, 2], lw=1.5, label='high')  # high column\n",
    "plt.plot(y[:,0],y[:, 3], lw=1.5, label='low')   # low column\n",
    "plt.plot(y[:,0],y[:, 4], lw=1.5, label='close')  # close column\n",
    "ax2.set_ylabel('price')\n",
    "ax2.grid(True)\n",
    "ax2.legend(loc=0) \n",
    "ax2.autoscale_view()\n",
    "plt.setp(plt.gca().get_xticklabels(), rotation=30)"
   ]
  },
  {
   "cell_type": "code",
   "execution_count": 3,
   "metadata": {
    "uuid": "9805e014-8a17-4e54-b6fd-1c77db7b6b78"
   },
   "outputs": [],
   "source": [
    "# use the pandas built-in function DataReader to retrieve stock price data \n",
    "# from Yahoo! Finance, analyze the data, and generate different plots of it\n",
    "\n",
    "import numpy as np\n",
    "import pandas as pd\n",
    "import matplotlib.pyplot as plt\n",
    "# import pandas.io.data as web\n",
    "import pandas_datareader.data as web"
   ]
  },
  {
   "cell_type": "code",
   "execution_count": 4,
   "metadata": {
    "uuid": "53a33e39-a3ff-4c95-b0f2-a94d727ae0da"
   },
   "outputs": [
    {
     "name": "stdout",
     "output_type": "stream",
     "text": [
      "<class 'pandas.core.frame.DataFrame'>\n",
      "DatetimeIndex: 4280 entries, 2000-01-03 to 2016-10-19\n",
      "Data columns (total 6 columns):\n",
      "Open         4280 non-null float64\n",
      "High         4280 non-null float64\n",
      "Low          4280 non-null float64\n",
      "Close        4280 non-null float64\n",
      "Volume       4280 non-null int64\n",
      "Adj Close    4280 non-null float64\n",
      "dtypes: float64(5), int64(1)\n",
      "memory usage: 234.1 KB\n"
     ]
    }
   ],
   "source": [
    "# retrieve stock price information for the German DAX index \n",
    "# from Yahoo! Finance with a single line of code\n",
    "\n",
    "# name            String               Name of data set — generally, the ticker symbol\n",
    "# data_source     e.g., 'yahoo'        Data source (yahoo, google, oecd, eurostat, FRED)\n",
    "# start          String/datetime/None  Left boundary of range\n",
    "# end            String/datetime/None  Right boundary of range (default today)\n",
    "\n",
    "DAX = web.DataReader(name='^GDAXI', data_source='yahoo',\n",
    "                     start='2000-1-1')\n",
    "DAX.info()"
   ]
  },
  {
   "cell_type": "code",
   "execution_count": 5,
   "metadata": {
    "uuid": "11984b1c-5248-4640-8f3b-a85040eb5683"
   },
   "outputs": [
    {
     "data": {
      "text/html": [
       "<div>\n",
       "<table border=\"1\" class=\"dataframe\">\n",
       "  <thead>\n",
       "    <tr style=\"text-align: right;\">\n",
       "      <th></th>\n",
       "      <th>Open</th>\n",
       "      <th>High</th>\n",
       "      <th>Low</th>\n",
       "      <th>Close</th>\n",
       "      <th>Volume</th>\n",
       "      <th>Adj Close</th>\n",
       "    </tr>\n",
       "    <tr>\n",
       "      <th>Date</th>\n",
       "      <th></th>\n",
       "      <th></th>\n",
       "      <th></th>\n",
       "      <th></th>\n",
       "      <th></th>\n",
       "      <th></th>\n",
       "    </tr>\n",
       "  </thead>\n",
       "  <tbody>\n",
       "    <tr>\n",
       "      <th>2016-10-13</th>\n",
       "      <td>10425.790039</td>\n",
       "      <td>10430.830078</td>\n",
       "      <td>10349.059570</td>\n",
       "      <td>10414.070312</td>\n",
       "      <td>95793600</td>\n",
       "      <td>10414.070312</td>\n",
       "    </tr>\n",
       "    <tr>\n",
       "      <th>2016-10-14</th>\n",
       "      <td>10450.059570</td>\n",
       "      <td>10615.299805</td>\n",
       "      <td>10449.469727</td>\n",
       "      <td>10580.379883</td>\n",
       "      <td>98226700</td>\n",
       "      <td>10580.379883</td>\n",
       "    </tr>\n",
       "    <tr>\n",
       "      <th>2016-10-17</th>\n",
       "      <td>10544.690430</td>\n",
       "      <td>10583.700195</td>\n",
       "      <td>10491.280273</td>\n",
       "      <td>10503.570312</td>\n",
       "      <td>61818000</td>\n",
       "      <td>10503.570312</td>\n",
       "    </tr>\n",
       "    <tr>\n",
       "      <th>2016-10-18</th>\n",
       "      <td>10560.139648</td>\n",
       "      <td>10657.339844</td>\n",
       "      <td>10543.690430</td>\n",
       "      <td>10631.549805</td>\n",
       "      <td>88963500</td>\n",
       "      <td>10631.549805</td>\n",
       "    </tr>\n",
       "    <tr>\n",
       "      <th>2016-10-19</th>\n",
       "      <td>10626.990234</td>\n",
       "      <td>10672.219727</td>\n",
       "      <td>10587.709961</td>\n",
       "      <td>10645.679688</td>\n",
       "      <td>73697200</td>\n",
       "      <td>10645.679688</td>\n",
       "    </tr>\n",
       "  </tbody>\n",
       "</table>\n",
       "</div>"
      ],
      "text/plain": [
       "                    Open          High           Low         Close    Volume  \\\n",
       "Date                                                                           \n",
       "2016-10-13  10425.790039  10430.830078  10349.059570  10414.070312  95793600   \n",
       "2016-10-14  10450.059570  10615.299805  10449.469727  10580.379883  98226700   \n",
       "2016-10-17  10544.690430  10583.700195  10491.280273  10503.570312  61818000   \n",
       "2016-10-18  10560.139648  10657.339844  10543.690430  10631.549805  88963500   \n",
       "2016-10-19  10626.990234  10672.219727  10587.709961  10645.679688  73697200   \n",
       "\n",
       "               Adj Close  \n",
       "Date                      \n",
       "2016-10-13  10414.070312  \n",
       "2016-10-14  10580.379883  \n",
       "2016-10-17  10503.570312  \n",
       "2016-10-18  10631.549805  \n",
       "2016-10-19  10645.679688  "
      ]
     },
     "execution_count": 5,
     "metadata": {},
     "output_type": "execute_result"
    }
   ],
   "source": [
    "DAX.tail()"
   ]
  },
  {
   "cell_type": "code",
   "execution_count": 6,
   "metadata": {
    "uuid": "6185abc6-54c5-4711-b273-3252938f3e5e"
   },
   "outputs": [
    {
     "data": {
      "text/plain": [
       "<matplotlib.axes._subplots.AxesSubplot at 0x2126c9c6dd8>"
      ]
     },
     "execution_count": 6,
     "metadata": {},
     "output_type": "execute_result"
    },
    {
     "data": {
      "image/png": "[encoded data removed]",
      "text/plain": [
       "<matplotlib.figure.Figure at 0x2126c9a36a0>"
      ]
     },
     "metadata": {},
     "output_type": "display_data"
    }
   ],
   "source": [
    "# plot the index history\n",
    "\n",
    "DAX['Close'].plot(figsize=(8, 5))\n",
    "# title: Historical DAX index levels"
   ]
  },
  {
   "cell_type": "code",
   "execution_count": 8,
   "metadata": {
    "uuid": "9b45b8c2-3b95-4c80-94a0-14f891cdd161"
   },
   "outputs": [
    {
     "name": "stdout",
     "output_type": "stream",
     "text": [
      "Wall time: 4 ms\n"
     ]
    }
   ],
   "source": [
    "# LOG returns based on the daily closing prices\n",
    "\n",
    "# pandas allows for vectorized mathematical operations.\n",
    "\n",
    "# instead of generating a new, empty column and then\n",
    "# iterating over all indexes to calculate the single \n",
    "# log return values step by step, \n",
    "\n",
    "# DAX['Return'] = 0.0     # generate empty column\n",
    "# for i in range(1, len(DAX)):\n",
    "#      DAX['Return'][i] = np.log(DAX['Close'][i] / DAX['Close'][i-1])\n",
    "#  \n",
    "\n",
    "# we can use vectorized code to reach the same result without looping.\n",
    "\n",
    "# the shift method is useful; it shifts Series or whole DataFrame objects \n",
    "# relative to their index, forward as well as backward\n",
    "\n",
    "%time DAX['Return'] = np.log(DAX['Close'] / DAX['Close'].shift(1))\n",
    "\n",
    "# we need to shift the Close column by one day (one index position)"
   ]
  },
  {
   "cell_type": "code",
   "execution_count": 9,
   "metadata": {
    "uuid": "5fbf45e9-dd56-40ba-8a75-086a80a04d5b"
   },
   "outputs": [
    {
     "data": {
      "text/html": [
       "<div>\n",
       "<table border=\"1\" class=\"dataframe\">\n",
       "  <thead>\n",
       "    <tr style=\"text-align: right;\">\n",
       "      <th></th>\n",
       "      <th>Close</th>\n",
       "      <th>Return</th>\n",
       "    </tr>\n",
       "    <tr>\n",
       "      <th>Date</th>\n",
       "      <th></th>\n",
       "      <th></th>\n",
       "    </tr>\n",
       "  </thead>\n",
       "  <tbody>\n",
       "    <tr>\n",
       "      <th>2016-10-13</th>\n",
       "      <td>10414.070312</td>\n",
       "      <td>-0.010412</td>\n",
       "    </tr>\n",
       "    <tr>\n",
       "      <th>2016-10-14</th>\n",
       "      <td>10580.379883</td>\n",
       "      <td>0.015844</td>\n",
       "    </tr>\n",
       "    <tr>\n",
       "      <th>2016-10-17</th>\n",
       "      <td>10503.570312</td>\n",
       "      <td>-0.007286</td>\n",
       "    </tr>\n",
       "    <tr>\n",
       "      <th>2016-10-18</th>\n",
       "      <td>10631.549805</td>\n",
       "      <td>0.012111</td>\n",
       "    </tr>\n",
       "    <tr>\n",
       "      <th>2016-10-19</th>\n",
       "      <td>10645.679688</td>\n",
       "      <td>0.001328</td>\n",
       "    </tr>\n",
       "  </tbody>\n",
       "</table>\n",
       "</div>"
      ],
      "text/plain": [
       "                   Close    Return\n",
       "Date                              \n",
       "2016-10-13  10414.070312 -0.010412\n",
       "2016-10-14  10580.379883  0.015844\n",
       "2016-10-17  10503.570312 -0.007286\n",
       "2016-10-18  10631.549805  0.012111\n",
       "2016-10-19  10645.679688  0.001328"
      ]
     },
     "execution_count": 9,
     "metadata": {},
     "output_type": "execute_result"
    }
   ],
   "source": [
    "DAX[['Close', 'Return']].tail()"
   ]
  },
  {
   "cell_type": "code",
   "execution_count": 11,
   "metadata": {
    "uuid": "41cd4741-6e1b-4d56-93ec-16ccfd889b94"
   },
   "outputs": [
    {
     "name": "stdout",
     "output_type": "stream",
     "text": [
      "<class 'pandas.core.frame.DataFrame'>\n",
      "DatetimeIndex: 4280 entries, 2000-01-03 to 2016-10-19\n",
      "Data columns (total 8 columns):\n",
      "Open         4280 non-null float64\n",
      "High         4280 non-null float64\n",
      "Low          4280 non-null float64\n",
      "Close        4280 non-null float64\n",
      "Volume       4280 non-null int64\n",
      "Adj Close    4280 non-null float64\n",
      "Ret_loop     4280 non-null float64\n",
      "Return       4279 non-null float64\n",
      "dtypes: float64(7), int64(1)\n",
      "memory usage: 300.9 KB\n"
     ]
    }
   ],
   "source": [
    "# Example : add and delete a column\n",
    "\n",
    "DAX['Ret_loop'] = 0.0\n",
    "DAX.info()\n",
    "# del DAX['Ret_loop']"
   ]
  },
  {
   "cell_type": "code",
   "execution_count": 14,
   "metadata": {
    "uuid": "8995980e-7fa1-482e-8996-3a0cc1050359"
   },
   "outputs": [
    {
     "data": {
      "text/plain": [
       "array([<matplotlib.axes._subplots.AxesSubplot object at 0x000002126DC39198>,\n",
       "       <matplotlib.axes._subplots.AxesSubplot object at 0x000002126DD55940>], dtype=object)"
      ]
     },
     "execution_count": 14,
     "metadata": {},
     "output_type": "execute_result"
    },
    {
     "data": {
      "image/png": "[encoded data removed]",
      "text/plain": [
       "<matplotlib.figure.Figure at 0x2126dd03080>"
      ]
     },
     "metadata": {},
     "output_type": "display_data"
    }
   ],
   "source": [
    "DAX[['Close', 'Return']].plot(subplots=True, style='b',\n",
    "        figsize=(8, 5), title=\"The DAX index and daily log returns\")\n",
    "\n",
    "# Volatility clustering\n",
    "#   Volatility is not constant over time; there are periods of high volatility \n",
    "#   (both highly positive and negative returns) as well as periods of low volatility.\n",
    "# Leverage effect\n",
    "#   Generally, volatility and stock market returns are negatively correlated; \n",
    "#   when markets come down volatility rises, and vice versa."
   ]
  },
  {
   "cell_type": "code",
   "execution_count": 15,
   "metadata": {
    "uuid": "956890ca-7927-4fac-a99a-af7a15cac58f"
   },
   "outputs": [],
   "source": [
    "# moving averages - so-called trends. \n",
    "# A moving average is  calculated with the rolling_mean function of pandas \n",
    "# (there are other “rolling” functions as well, \n",
    "# like rolling_max, rolling_min, and rolling_corr, rolling_std):\n",
    "\n",
    "# DAX['42d'] = pd.rolling_mean(DAX['Close'], window=42)\n",
    "# DAX['252d'] = pd.rolling_mean(DAX['Close'], window=252)\n",
    "DAX['42d'] = DAX['Close'].rolling(center=False, window=42).mean()\n",
    "DAX['252d'] = DAX['Close'].rolling(center=False, window=252).mean()\n"
   ]
  },
  {
   "cell_type": "code",
   "execution_count": 16,
   "metadata": {
    "uuid": "f5440e3f-b808-4685-9bec-5f6ca39609c5"
   },
   "outputs": [
    {
     "data": {
      "text/html": [
       "<div>\n",
       "<table border=\"1\" class=\"dataframe\">\n",
       "  <thead>\n",
       "    <tr style=\"text-align: right;\">\n",
       "      <th></th>\n",
       "      <th>Close</th>\n",
       "      <th>42d</th>\n",
       "      <th>252d</th>\n",
       "    </tr>\n",
       "    <tr>\n",
       "      <th>Date</th>\n",
       "      <th></th>\n",
       "      <th></th>\n",
       "      <th></th>\n",
       "    </tr>\n",
       "  </thead>\n",
       "  <tbody>\n",
       "    <tr>\n",
       "      <th>2016-10-13</th>\n",
       "      <td>10414.070312</td>\n",
       "      <td>10535.387416</td>\n",
       "      <td>10171.774402</td>\n",
       "    </tr>\n",
       "    <tr>\n",
       "      <th>2016-10-14</th>\n",
       "      <td>10580.379883</td>\n",
       "      <td>10533.095261</td>\n",
       "      <td>10173.663094</td>\n",
       "    </tr>\n",
       "    <tr>\n",
       "      <th>2016-10-17</th>\n",
       "      <td>10503.570312</td>\n",
       "      <td>10532.283366</td>\n",
       "      <td>10175.009366</td>\n",
       "    </tr>\n",
       "    <tr>\n",
       "      <th>2016-10-18</th>\n",
       "      <td>10631.549805</td>\n",
       "      <td>10532.962402</td>\n",
       "      <td>10176.929486</td>\n",
       "    </tr>\n",
       "    <tr>\n",
       "      <th>2016-10-19</th>\n",
       "      <td>10645.679688</td>\n",
       "      <td>10535.374767</td>\n",
       "      <td>10178.546867</td>\n",
       "    </tr>\n",
       "  </tbody>\n",
       "</table>\n",
       "</div>"
      ],
      "text/plain": [
       "                   Close           42d          252d\n",
       "Date                                                \n",
       "2016-10-13  10414.070312  10535.387416  10171.774402\n",
       "2016-10-14  10580.379883  10533.095261  10173.663094\n",
       "2016-10-17  10503.570312  10532.283366  10175.009366\n",
       "2016-10-18  10631.549805  10532.962402  10176.929486\n",
       "2016-10-19  10645.679688  10535.374767  10178.546867"
      ]
     },
     "execution_count": 16,
     "metadata": {},
     "output_type": "execute_result"
    }
   ],
   "source": [
    "DAX[['Close', '42d', '252d']].tail()"
   ]
  },
  {
   "cell_type": "code",
   "execution_count": 18,
   "metadata": {
    "uuid": "281a5820-2a77-46b4-b399-8c0913423bc3"
   },
   "outputs": [
    {
     "data": {
      "text/plain": [
       "<matplotlib.axes._subplots.AxesSubplot at 0x2126de5d588>"
      ]
     },
     "execution_count": 18,
     "metadata": {},
     "output_type": "execute_result"
    },
    {
     "data": {
      "image/png": "[encoded data removed]",
      "text/plain": [
       "<matplotlib.figure.Figure at 0x21268341668>"
      ]
     },
     "metadata": {},
     "output_type": "display_data"
    }
   ],
   "source": [
    "# A typical stock price chart with the two trends included\n",
    "\n",
    "DAX[['Close', '42d', '252d']].plot(figsize=(8, 5), grid=True)\n",
    "# title: The DAX index and moving averages"
   ]
  },
  {
   "cell_type": "code",
   "execution_count": 19,
   "metadata": {
    "uuid": "1b12ae02-5e35-47ff-a9c9-8563e468b489"
   },
   "outputs": [],
   "source": [
    "# the moving historical standard deviation of the log returns\n",
    "#    moving annual volatility\n",
    "\n",
    "import math\n",
    "# DAX['Mov_Vol'] = pd.rolling_std(DAX['Return'],window=252) * math.sqrt(252)\n",
    "DAX['Mov_Vol'] = DAX['Return'].rolling(center=False,window=252).std() * math.sqrt(252)\n",
    " "
   ]
  },
  {
   "cell_type": "code",
   "execution_count": 20,
   "metadata": {
    "uuid": "2e75f8fd-bcf8-4c36-93b9-974ef94366c7"
   },
   "outputs": [
    {
     "data": {
      "text/plain": [
       "array([<matplotlib.axes._subplots.AxesSubplot object at 0x000002126EFBE6D8>,\n",
       "       <matplotlib.axes._subplots.AxesSubplot object at 0x000002126EF535C0>,\n",
       "       <matplotlib.axes._subplots.AxesSubplot object at 0x000002126EFDE6A0>], dtype=object)"
      ]
     },
     "execution_count": 20,
     "metadata": {},
     "output_type": "execute_result"
    },
    {
     "data": {
      "image/png": "[encoded data removed]",
      "text/plain": [
       "<matplotlib.figure.Figure at 0x2126efa54a8>"
      ]
     },
     "metadata": {},
     "output_type": "display_data"
    }
   ],
   "source": [
    "DAX[['Close', 'Mov_Vol', 'Return']].plot(subplots=True, style='b',\n",
    "                                         figsize=(8, 7),grid=True)\n",
    "\n",
    "# title: The DAX index and moving, annualized volatility\n",
    "\n",
    "# see the leverage effect:\n",
    "# the historical moving volatility tends to increase when markets come down, \n",
    "# and to decrease when they rise:"
   ]
  },
  {
   "cell_type": "code",
   "execution_count": 22,
   "metadata": {},
   "outputs": [
    {
     "name": "stdout",
     "output_type": "stream",
     "text": [
      "              Open    High     Low   Close     Volume\n",
      "Date                                                 \n",
      "2014-04-08  542.60  555.00  541.61  554.90  3152406.0\n",
      "2014-04-09  559.62  565.37  552.95  564.14  3324742.0\n",
      "2014-04-10  565.00  565.00  539.90  540.95  4027743.0\n",
      "2014-04-11  532.55  540.00  526.53  530.60  3916171.0\n",
      "2014-04-14  538.25  544.10  529.56  532.52  2568020.0\n"
     ]
    },
    {
     "data": {
      "text/plain": [
       "array([<matplotlib.axes._subplots.AxesSubplot object at 0x000002126F0FE780>,\n",
       "       <matplotlib.axes._subplots.AxesSubplot object at 0x000002126F1CE160>], dtype=object)"
      ]
     },
     "execution_count": 22,
     "metadata": {},
     "output_type": "execute_result"
    },
    {
     "data": {
      "image/png": "[encoded data removed]",
      "text/plain": [
       "<matplotlib.figure.Figure at 0x2126eef6978>"
      ]
     },
     "metadata": {},
     "output_type": "display_data"
    }
   ],
   "source": [
    "# Google closing prices and yearly volatility\n",
    "\n",
    "import numpy as np\n",
    "import pandas as pd\n",
    "# import pandas.io.data as web\n",
    "import pandas_datareader.data as web\n",
    "\n",
    "goog = web.DataReader('GOOG', data_source='google', start='3/14/2009', end='4/14/2014')\n",
    "print(goog.tail())\n",
    "\n",
    "goog['Log_Ret'] = np.log(goog['Close'] / goog['Close'].shift(1))\n",
    "goog['Volatility'] = goog['Log_Ret'].rolling(center=False, window=252).std() * np.sqrt(252)\n",
    "\n",
    "goog[['Close', 'Volatility']].plot(subplots=True,color='blue',figsize=(8,6))"
   ]
  },
  {
   "cell_type": "markdown",
   "metadata": {},
   "source": [
    "## Regression Analysis - OLS DOES NOT WORK ANY MORE!!!"
   ]
  },
  {
   "cell_type": "code",
   "execution_count": 1,
   "metadata": {
    "uuid": "85bf9df2-d445-4600-a02e-37cf2b7dc9ff"
   },
   "outputs": [],
   "source": [
    "# Let's use (linear) ordinary least-squares regression (OLS)\n",
    "import pandas as pd\n",
    "import numpy as np\n",
    "from urllib.request import urlretrieve\n",
    "import statsmodels.api as sm\n",
    "import matplotlib.pyplot as plt"
   ]
  },
  {
   "cell_type": "code",
   "execution_count": 2,
   "metadata": {
    "uuid": "5bc6a566-4adf-4cd4-9af5-a37ea53aa1bc"
   },
   "outputs": [
    {
     "name": "stdout",
     "output_type": "stream",
     "text": [
      " Volume in drive C is System\n",
      " Volume Serial Number is 0EAB-AF41\n",
      "\n",
      " Directory of C:\\Users\\Roman\\Desktop\\CPS600\\Fall 2016\\MyLectures\\08\\data\n",
      "\n",
      "10/13/2016  05:46 PM    <DIR>          .\n",
      "10/13/2016  05:46 PM    <DIR>          ..\n",
      "10/19/2016  09:20 PM           688,500 es.txt\n",
      "10/19/2016  09:25 PM           539,080 es50.txt\n",
      "10/19/2016  09:20 PM           363,485 vs.txt\n",
      "               3 File(s)      1,591,065 bytes\n",
      "               2 Dir(s)  55,113,207,808 bytes free\n"
     ]
    }
   ],
   "source": [
    "!dir \"./data/\""
   ]
  },
  {
   "cell_type": "code",
   "execution_count": 3,
   "metadata": {
    "uuid": "17a2e317-7047-4c9f-9faf-7e0e4132bd01"
   },
   "outputs": [
    {
     "name": "stdout",
     "output_type": "stream",
     "text": [
      " Volume in drive C is System\n",
      " Volume Serial Number is 0EAB-AF41\n",
      "\n",
      " Directory of C:\\Users\\Roman\\Desktop\\CPS600\\Fall 2016\\MyLectures\\08\\data\n",
      "\n",
      "10/13/2016  05:46 PM    <DIR>          .\n",
      "10/13/2016  05:46 PM    <DIR>          ..\n",
      "10/22/2016  05:40 PM           688,500 es.txt\n",
      "10/19/2016  09:25 PM           539,080 es50.txt\n",
      "10/22/2016  05:40 PM           363,485 vs.txt\n",
      "               3 File(s)      1,591,065 bytes\n",
      "               2 Dir(s)  55,111,725,056 bytes free\n"
     ]
    }
   ],
   "source": [
    "# EURO STOXX 50\n",
    "#    Historical daily closing values of the EURO STOXX 50 index, \n",
    "#    composed of  European blue-chip stocks\n",
    "# VSTOXX\n",
    "#    Historical daily closing data for the VSTOXX volatility index, \n",
    "#    calculated on the basis of volatilities implied by options on the EURO STOXX 50 index\n",
    "\n",
    "# we retrieve files from the Web and save them in a folder called data\n",
    "\n",
    "es_url = 'http://www.stoxx.com/download/historical_values/hbrbcpe.txt'\n",
    "vs_url = 'http://www.stoxx.com/download/historical_values/h_vstoxx.txt'\n",
    "urlretrieve(es_url, './data/es.txt')\n",
    "urlretrieve(vs_url, './data/vs.txt')\n",
    "!dir  \"./data/\""
   ]
  },
  {
   "cell_type": "code",
   "execution_count": 5,
   "metadata": {
    "uuid": "3bdd1237-41d5-4e92-8d2c-3c4ffd25e7e9"
   },
   "outputs": [],
   "source": [
    "# read the whole data set and removes all blanks\n",
    "\n",
    "lines = open('./data/es.txt', 'r').readlines()\n",
    "lines = [line.replace(' ', '') for line in lines]"
   ]
  },
  {
   "cell_type": "code",
   "execution_count": 6,
   "metadata": {
    "uuid": "6c7769ea-4fb8-49ef-bdc8-4e06b986fb3e"
   },
   "outputs": [
    {
     "data": {
      "text/plain": [
       "['PriceIndices-EUROCurrency\\n',\n",
       " 'Date;Blue-Chip;Blue-Chip;Broad;Broad;ExUK;ExEuroZone;Blue-Chip;Broad\\n',\n",
       " ';Europe;Euro-Zone;Europe;Euro-Zone;;;Nordic;Nordic\\n',\n",
       " ';SX5P;SX5E;SXXP;SXXE;SXXF;SXXA;DK5F;DKXF\\n',\n",
       " '31.12.1986;775.00;900.82;82.76;98.58;98.06;69.06;645.26;65.56\\n',\n",
       " '01.01.1987;775.00;900.82;82.76;98.58;98.06;69.06;645.26;65.56\\n']"
      ]
     },
     "execution_count": 6,
     "metadata": {},
     "output_type": "execute_result"
    }
   ],
   "source": [
    "# printing the first couple of lines of the downloaded data set\n",
    "\n",
    "lines[:6]"
   ]
  },
  {
   "cell_type": "code",
   "execution_count": 7,
   "metadata": {
    "uuid": "b5edc764-13a4-4e0c-b6d3-ac615b4a530b"
   },
   "outputs": [
    {
     "name": "stdout",
     "output_type": "stream",
     "text": [
      "317.10;267.23;5268.36;363.19\n",
      "\n",
      "322.55;272.18;5360.52;370.94\n",
      "\n",
      "322.69;272.95;5360.52;370.94\n",
      "\n",
      "327.57;277.68;5479.59;378.69;\n",
      "\n",
      "329.94;278.87;5585.35;386.99;\n",
      "\n",
      "326.77;272.38;5522.25;380.09;\n",
      "\n",
      "332.62;277.08;5722.57;396.12;\n",
      "\n"
     ]
    }
   ],
   "source": [
    "# Make some necessary changes:\n",
    "\n",
    "# 1) There are a couple of additional header lines that we do not need for the import.\n",
    "# 2) from December 27, there suddenly appears an additional semicolon \n",
    "#      at the end of each data row\n",
    "\n",
    "for line in lines[3883:3890]:\n",
    "    print (line[41:])"
   ]
  },
  {
   "cell_type": "code",
   "execution_count": 8,
   "metadata": {
    "uuid": "ea43adac-94fb-4b11-8af5-153c6fb4cebe"
   },
   "outputs": [],
   "source": [
    "# To make the data set easier to import, we do the following:\n",
    "# 1. Generate a new text file.\n",
    "# 2. Delete unneeded header lines.\n",
    "# 3. Write an appropriate new header line to the new file.\n",
    "# 4. Add a helper column, DEL (to catch the trailing semicolons).\n",
    "# 5. Write all data rows to the new file.\n",
    "\n",
    "\n",
    "new_file = open('./data/es50.txt', 'w')\n",
    "    # opens a new file\n",
    "new_file.writelines('date' + lines[3][:-1]\n",
    "                    + ';DEL' + lines[3][-1])\n",
    "    # writes the corrected third line of the orginal file\n",
    "    # as first line of new file\n",
    "new_file.writelines(lines[4:])\n",
    "    # writes the remaining lines of the orginial file\n",
    "new_file.close()"
   ]
  },
  {
   "cell_type": "code",
   "execution_count": 11,
   "metadata": {
    "uuid": "aca0ad29-cce1-4da5-b39e-ace9bafe3077"
   },
   "outputs": [
    {
     "data": {
      "text/plain": [
       "['date;SX5P;SX5E;SXXP;SXXE;SXXF;SXXA;DK5F;DKXF;DEL\\n',\n",
       " '31.12.1986;775.00;900.82;82.76;98.58;98.06;69.06;645.26;65.56\\n',\n",
       " '01.01.1987;775.00;900.82;82.76;98.58;98.06;69.06;645.26;65.56\\n',\n",
       " '02.01.1987;770.89;891.78;82.57;97.80;97.43;69.37;647.62;65.81\\n',\n",
       " '05.01.1987;771.89;898.33;82.82;98.60;98.19;69.16;649.94;65.82\\n']"
      ]
     },
     "execution_count": 11,
     "metadata": {},
     "output_type": "execute_result"
    }
   ],
   "source": [
    "new_lines = open('./data/es50.txt', 'r').readlines()\n",
    "new_lines[:5]"
   ]
  },
  {
   "cell_type": "code",
   "execution_count": 12,
   "metadata": {
    "uuid": "0bc55f0d-cd99-45b9-955e-3a126360e94f"
   },
   "outputs": [],
   "source": [
    "es = pd.read_csv('./data/es50.txt', index_col=0,\n",
    "                 parse_dates=True, sep=';', dayfirst=True)"
   ]
  },
  {
   "cell_type": "code",
   "execution_count": 13,
   "metadata": {
    "uuid": "73526ac3-4bf0-4455-89b2-f6aa614ffdca"
   },
   "outputs": [
    {
     "data": {
      "text/html": [
       "<div>\n",
       "<table border=\"1\" class=\"dataframe\">\n",
       "  <thead>\n",
       "    <tr style=\"text-align: right;\">\n",
       "      <th></th>\n",
       "      <th>SX5P</th>\n",
       "      <th>SX5E</th>\n",
       "      <th>SXXP</th>\n",
       "      <th>SXXE</th>\n",
       "      <th>SXXF</th>\n",
       "      <th>SXXA</th>\n",
       "      <th>DK5F</th>\n",
       "      <th>DKXF</th>\n",
       "      <th>DEL</th>\n",
       "    </tr>\n",
       "    <tr>\n",
       "      <th>date</th>\n",
       "      <th></th>\n",
       "      <th></th>\n",
       "      <th></th>\n",
       "      <th></th>\n",
       "      <th></th>\n",
       "      <th></th>\n",
       "      <th></th>\n",
       "      <th></th>\n",
       "      <th></th>\n",
       "    </tr>\n",
       "  </thead>\n",
       "  <tbody>\n",
       "    <tr>\n",
       "      <th>2016-09-28</th>\n",
       "      <td>2847.0</td>\n",
       "      <td>2991.0</td>\n",
       "      <td>343.0</td>\n",
       "      <td>324.0</td>\n",
       "      <td>408.0</td>\n",
       "      <td>350.0</td>\n",
       "      <td>9072.0</td>\n",
       "      <td>581.0</td>\n",
       "      <td>NaN</td>\n",
       "    </tr>\n",
       "    <tr>\n",
       "      <th>2016-09-29</th>\n",
       "      <td>2849.0</td>\n",
       "      <td>2992.0</td>\n",
       "      <td>343.0</td>\n",
       "      <td>324.0</td>\n",
       "      <td>408.0</td>\n",
       "      <td>351.0</td>\n",
       "      <td>9112.0</td>\n",
       "      <td>583.0</td>\n",
       "      <td>NaN</td>\n",
       "    </tr>\n",
       "    <tr>\n",
       "      <th>2016-09-30</th>\n",
       "      <td>2843.0</td>\n",
       "      <td>3002.0</td>\n",
       "      <td>343.0</td>\n",
       "      <td>325.0</td>\n",
       "      <td>408.0</td>\n",
       "      <td>350.0</td>\n",
       "      <td>9116.0</td>\n",
       "      <td>583.0</td>\n",
       "      <td>NaN</td>\n",
       "    </tr>\n",
       "    <tr>\n",
       "      <th>2016-10-03</th>\n",
       "      <td>2845.0</td>\n",
       "      <td>2998.0</td>\n",
       "      <td>343.0</td>\n",
       "      <td>325.0</td>\n",
       "      <td>408.0</td>\n",
       "      <td>351.0</td>\n",
       "      <td>9131.0</td>\n",
       "      <td>584.0</td>\n",
       "      <td>NaN</td>\n",
       "    </tr>\n",
       "    <tr>\n",
       "      <th>2016-10-04</th>\n",
       "      <td>2871.0</td>\n",
       "      <td>3030.0</td>\n",
       "      <td>346.0</td>\n",
       "      <td>328.0</td>\n",
       "      <td>411.0</td>\n",
       "      <td>354.0</td>\n",
       "      <td>9212.0</td>\n",
       "      <td>589.0</td>\n",
       "      <td>NaN</td>\n",
       "    </tr>\n",
       "  </tbody>\n",
       "</table>\n",
       "</div>"
      ],
      "text/plain": [
       "              SX5P    SX5E   SXXP   SXXE   SXXF   SXXA    DK5F   DKXF  DEL\n",
       "date                                                                      \n",
       "2016-09-28  2847.0  2991.0  343.0  324.0  408.0  350.0  9072.0  581.0  NaN\n",
       "2016-09-29  2849.0  2992.0  343.0  324.0  408.0  351.0  9112.0  583.0  NaN\n",
       "2016-09-30  2843.0  3002.0  343.0  325.0  408.0  350.0  9116.0  583.0  NaN\n",
       "2016-10-03  2845.0  2998.0  343.0  325.0  408.0  351.0  9131.0  584.0  NaN\n",
       "2016-10-04  2871.0  3030.0  346.0  328.0  411.0  354.0  9212.0  589.0  NaN"
      ]
     },
     "execution_count": 13,
     "metadata": {},
     "output_type": "execute_result"
    }
   ],
   "source": [
    "np.round(es.tail())"
   ]
  },
  {
   "cell_type": "code",
   "execution_count": 14,
   "metadata": {
    "uuid": "e6e3100a-8296-494f-9758-bbb0006c5df4"
   },
   "outputs": [
    {
     "name": "stdout",
     "output_type": "stream",
     "text": [
      "<class 'pandas.core.frame.DataFrame'>\n",
      "DatetimeIndex: 7673 entries, 1986-12-31 to 2016-10-04\n",
      "Data columns (total 8 columns):\n",
      "SX5P    7673 non-null float64\n",
      "SX5E    7673 non-null float64\n",
      "SXXP    7673 non-null float64\n",
      "SXXE    7673 non-null float64\n",
      "SXXF    7673 non-null float64\n",
      "SXXA    7673 non-null float64\n",
      "DK5F    7673 non-null float64\n",
      "DKXF    7673 non-null float64\n",
      "dtypes: float64(8)\n",
      "memory usage: 539.5 KB\n"
     ]
    }
   ],
   "source": [
    "# delete DEL column\n",
    "\n",
    "del es['DEL'] \n",
    "es.info()"
   ]
  },
  {
   "cell_type": "code",
   "execution_count": 15,
   "metadata": {
    "uuid": "3a1920c2-8c61-4720-941e-afdb983350aa"
   },
   "outputs": [
    {
     "name": "stdout",
     "output_type": "stream",
     "text": [
      "<class 'pandas.core.frame.DataFrame'>\n",
      "DatetimeIndex: 4357 entries, 1999-01-04 to 2016-02-12\n",
      "Data columns (total 9 columns):\n",
      "V2TX    4357 non-null float64\n",
      "V6I1    3906 non-null float64\n",
      "V6I2    4357 non-null float64\n",
      "V6I3    4296 non-null float64\n",
      "V6I4    4357 non-null float64\n",
      "V6I5    4357 non-null float64\n",
      "V6I6    4340 non-null float64\n",
      "V6I7    4357 non-null float64\n",
      "V6I8    4343 non-null float64\n",
      "dtypes: float64(9)\n",
      "memory usage: 340.4 KB\n"
     ]
    }
   ],
   "source": [
    "# VSTOXX data set is already in a form such that it can be imported \n",
    "#  more easily into a DataFrame object\n",
    "\n",
    "# Table 6-6. Parameters of read_csv function\n",
    "\n",
    "# index_col    Integer     Number of index columns (sequence for multi-index)\n",
    "# header       Integer     Number of header rows\n",
    "# sep          String, default “,”      Delimiter to use\n",
    "# dayfirst     Boolean, default False   For European date convention DD/MM\n",
    "#    etc...\n",
    "\n",
    "vs = pd.read_csv('./data/vs.txt', index_col=0, header=2,\n",
    "                 parse_dates=True, sep=',', dayfirst=True)\n",
    "vs.info()"
   ]
  },
  {
   "cell_type": "code",
   "execution_count": 17,
   "metadata": {
    "uuid": "3a437278-4466-41bf-b7f2-f9c17d2c44a7"
   },
   "outputs": [],
   "source": [
    "# To implement the regression analysis, we only need one column from each data set. \n",
    "# We generate a new DataFrame object within which we combine the two columns of\n",
    "# interest.  Since VSTOXX data is only available from the beginning of January 1999,\n",
    "# we only take data from that date on:\n",
    "\n",
    "\n",
    "import datetime as dt\n",
    "data = pd.DataFrame({'EUROSTOXX' :\n",
    "                     es['SX5E'][es.index > dt.datetime(1999, 1, 1)]})\n",
    "data = data.join(pd.DataFrame({'VSTOXX' :\n",
    "                     vs['V2TX'][vs.index > dt.datetime(1999, 1, 1)]}))"
   ]
  },
  {
   "cell_type": "code",
   "execution_count": 18,
   "metadata": {
    "uuid": "9223e142-d574-40c9-92e7-149d86628458"
   },
   "outputs": [
    {
     "name": "stdout",
     "output_type": "stream",
     "text": [
      "<class 'pandas.core.frame.DataFrame'>\n",
      "DatetimeIndex: 4554 entries, 1999-01-04 to 2016-10-04\n",
      "Data columns (total 2 columns):\n",
      "EUROSTOXX    4554 non-null float64\n",
      "VSTOXX       4554 non-null float64\n",
      "dtypes: float64(2)\n",
      "memory usage: 106.7 KB\n"
     ]
    }
   ],
   "source": [
    "# We  fill missing values with the last available values from the time series. \n",
    "# We call the fillna method, providing ffill (for forward fill) as the method parameter\n",
    "\n",
    "data = data.fillna(method='ffill')\n",
    "data.info()"
   ]
  },
  {
   "cell_type": "code",
   "execution_count": 47,
   "metadata": {
    "uuid": "fc5fc92a-3475-4e4b-a5fe-145809d35919"
   },
   "outputs": [
    {
     "data": {
      "text/html": [
       "<div>\n",
       "<table border=\"1\" class=\"dataframe\">\n",
       "  <thead>\n",
       "    <tr style=\"text-align: right;\">\n",
       "      <th></th>\n",
       "      <th>EUROSTOXX</th>\n",
       "      <th>VSTOXX</th>\n",
       "    </tr>\n",
       "    <tr>\n",
       "      <th>date</th>\n",
       "      <th></th>\n",
       "      <th></th>\n",
       "    </tr>\n",
       "  </thead>\n",
       "  <tbody>\n",
       "    <tr>\n",
       "      <th>2016-09-28</th>\n",
       "      <td>2991.11</td>\n",
       "      <td>35.6846</td>\n",
       "    </tr>\n",
       "    <tr>\n",
       "      <th>2016-09-29</th>\n",
       "      <td>2991.58</td>\n",
       "      <td>35.6846</td>\n",
       "    </tr>\n",
       "    <tr>\n",
       "      <th>2016-09-30</th>\n",
       "      <td>3002.24</td>\n",
       "      <td>35.6846</td>\n",
       "    </tr>\n",
       "    <tr>\n",
       "      <th>2016-10-03</th>\n",
       "      <td>2998.50</td>\n",
       "      <td>35.6846</td>\n",
       "    </tr>\n",
       "    <tr>\n",
       "      <th>2016-10-04</th>\n",
       "      <td>3029.50</td>\n",
       "      <td>35.6846</td>\n",
       "    </tr>\n",
       "  </tbody>\n",
       "</table>\n",
       "</div>"
      ],
      "text/plain": [
       "            EUROSTOXX   VSTOXX\n",
       "date                          \n",
       "2016-09-28    2991.11  35.6846\n",
       "2016-09-29    2991.58  35.6846\n",
       "2016-09-30    3002.24  35.6846\n",
       "2016-10-03    2998.50  35.6846\n",
       "2016-10-04    3029.50  35.6846"
      ]
     },
     "execution_count": 47,
     "metadata": {},
     "output_type": "execute_result"
    }
   ],
   "source": [
    "data.tail()"
   ]
  },
  {
   "cell_type": "code",
   "execution_count": 19,
   "metadata": {
    "uuid": "07158c72-907f-4636-ad40-95182b7728e3"
   },
   "outputs": [
    {
     "data": {
      "text/plain": [
       "array([<matplotlib.axes._subplots.AxesSubplot object at 0x0000021A4FA0A390>,\n",
       "       <matplotlib.axes._subplots.AxesSubplot object at 0x0000021A4F13E898>], dtype=object)"
      ]
     },
     "execution_count": 19,
     "metadata": {},
     "output_type": "execute_result"
    },
    {
     "data": {
      "image/png": "[encoded data removed]",
      "text/plain": [
       "<matplotlib.figure.Figure at 0x21a465e4898>"
      ]
     },
     "metadata": {},
     "output_type": "display_data"
    }
   ],
   "source": [
    "# Plot: there seems to be a negative correlation between the two indexes\n",
    "\n",
    "%matplotlib inline\n",
    "data.plot(subplots=True, grid=True, style='b', figsize=(8, 6))\n",
    "# title: The EURO STOXX 50 Index and the VSTOXX volatility index"
   ]
  },
  {
   "cell_type": "code",
   "execution_count": 20,
   "metadata": {
    "uuid": "17ae59ff-9863-4c30-9493-22d44c0e5edf"
   },
   "outputs": [
    {
     "data": {
      "text/html": [
       "<div>\n",
       "<table border=\"1\" class=\"dataframe\">\n",
       "  <thead>\n",
       "    <tr style=\"text-align: right;\">\n",
       "      <th></th>\n",
       "      <th>EUROSTOXX</th>\n",
       "      <th>VSTOXX</th>\n",
       "    </tr>\n",
       "    <tr>\n",
       "      <th>date</th>\n",
       "      <th></th>\n",
       "      <th></th>\n",
       "    </tr>\n",
       "  </thead>\n",
       "  <tbody>\n",
       "    <tr>\n",
       "      <th>1999-01-04</th>\n",
       "      <td>NaN</td>\n",
       "      <td>NaN</td>\n",
       "    </tr>\n",
       "    <tr>\n",
       "      <th>1999-01-05</th>\n",
       "      <td>0.017228</td>\n",
       "      <td>0.489248</td>\n",
       "    </tr>\n",
       "    <tr>\n",
       "      <th>1999-01-06</th>\n",
       "      <td>0.022138</td>\n",
       "      <td>-0.165317</td>\n",
       "    </tr>\n",
       "    <tr>\n",
       "      <th>1999-01-07</th>\n",
       "      <td>-0.015723</td>\n",
       "      <td>0.256337</td>\n",
       "    </tr>\n",
       "    <tr>\n",
       "      <th>1999-01-08</th>\n",
       "      <td>-0.003120</td>\n",
       "      <td>0.021570</td>\n",
       "    </tr>\n",
       "  </tbody>\n",
       "</table>\n",
       "</div>"
      ],
      "text/plain": [
       "            EUROSTOXX    VSTOXX\n",
       "date                           \n",
       "1999-01-04        NaN       NaN\n",
       "1999-01-05   0.017228  0.489248\n",
       "1999-01-06   0.022138 -0.165317\n",
       "1999-01-07  -0.015723  0.256337\n",
       "1999-01-08  -0.003120  0.021570"
      ]
     },
     "execution_count": 20,
     "metadata": {},
     "output_type": "execute_result"
    }
   ],
   "source": [
    "# Plot log returns  of the two financial time series\n",
    "\n",
    "rets = np.log(data / data.shift(1)) \n",
    "rets.head()"
   ]
  },
  {
   "cell_type": "code",
   "execution_count": 21,
   "metadata": {
    "uuid": "771c53bf-78fb-4260-865b-39307973cb77"
   },
   "outputs": [
    {
     "data": {
      "text/plain": [
       "array([<matplotlib.axes._subplots.AxesSubplot object at 0x0000021A4F2380F0>,\n",
       "       <matplotlib.axes._subplots.AxesSubplot object at 0x0000021A4F2C35C0>], dtype=object)"
      ]
     },
     "execution_count": 21,
     "metadata": {},
     "output_type": "execute_result"
    },
    {
     "data": {
      "image/png": "[encoded data removed]",
      "text/plain": [
       "<matplotlib.figure.Figure at 0x21a4f255da0>"
      ]
     },
     "metadata": {},
     "output_type": "display_data"
    }
   ],
   "source": [
    "rets.plot(subplots=True, grid=True, style='b', figsize=(8, 6))\n",
    "# title: Log returns of EURO STOXX 50 and VSTOXX"
   ]
  },
  {
   "cell_type": "code",
   "execution_count": 22,
   "metadata": {
    "uuid": "709bc1e8-03a8-47c6-9b21-4efa08052dab"
   },
   "outputs": [
    {
     "name": "stdout",
     "output_type": "stream",
     "text": [
      "[ 0.02213799 -0.01572252 -0.00311964 ...,  0.003557   -0.00124651\n",
      "  0.01028543]\n"
     ]
    }
   ],
   "source": [
    "# We have everything together to implement the regression analysis. \n",
    "# The EURO STOXX 50 returns are taken as the independent variable \n",
    "# the VSTOXX returns are taken as the dependent variable\n",
    "# OLS - ordinary least-squares regression\n",
    "\n",
    "\n",
    "xdat = rets['EUROSTOXX']\n",
    "ydat = rets['VSTOXX']\n",
    "xdat.tail()\n",
    "print(xdat.values[2:])"
   ]
  },
  {
   "cell_type": "code",
   "execution_count": 39,
   "metadata": {},
   "outputs": [
    {
     "data": {
      "image/png": "[encoded data removed]",
      "text/plain": [
       "<matplotlib.figure.Figure at 0x21a51675198>"
      ]
     },
     "metadata": {},
     "output_type": "display_data"
    }
   ],
   "source": [
    "#  ordinary least-squares regression (OLS)\n",
    "\n",
    "rets.plot(figsize=(10,8), x=\"EUROSTOXX\", y=\"VSTOXX\", kind='scatter') \n",
    "olsx = sm.OLS(ydat.values, xdat.values)\n",
    "ols_fit = olsx.fit()\n",
    "\n",
    "#  print(ols_fit.summary())\n",
    "#  plt.plot(xdat[1:], ols_fit.fittedvalues[1:], 'r') "
   ]
  },
  {
   "cell_type": "code",
   "execution_count": 40,
   "metadata": {
    "uuid": "e1f9009e-5b73-4e04-9b10-deea36f4e508"
   },
   "outputs": [
    {
     "data": {
      "text/html": [
       "<div>\n",
       "<table border=\"1\" class=\"dataframe\">\n",
       "  <thead>\n",
       "    <tr style=\"text-align: right;\">\n",
       "      <th></th>\n",
       "      <th>EUROSTOXX</th>\n",
       "      <th>VSTOXX</th>\n",
       "    </tr>\n",
       "  </thead>\n",
       "  <tbody>\n",
       "    <tr>\n",
       "      <th>EUROSTOXX</th>\n",
       "      <td>1.000000</td>\n",
       "      <td>-0.724945</td>\n",
       "    </tr>\n",
       "    <tr>\n",
       "      <th>VSTOXX</th>\n",
       "      <td>-0.724945</td>\n",
       "      <td>1.000000</td>\n",
       "    </tr>\n",
       "  </tbody>\n",
       "</table>\n",
       "</div>"
      ],
      "text/plain": [
       "           EUROSTOXX    VSTOXX\n",
       "EUROSTOXX   1.000000 -0.724945\n",
       "VSTOXX     -0.724945  1.000000"
      ]
     },
     "execution_count": 40,
     "metadata": {},
     "output_type": "execute_result"
    }
   ],
   "source": [
    "# We can use the corr() function to derive the correlation values \n",
    "# between each column of values in the pandas DataFrame object \n",
    "#   EUROSTOXX is negatively correlated with VSTOXX\n",
    "rets.corr()"
   ]
  },
  {
   "cell_type": "code",
   "execution_count": 41,
   "metadata": {
    "uuid": "a534d3db-df59-4a31-b0b7-1ab3c19d77d0"
   },
   "outputs": [
    {
     "data": {
      "text/plain": [
       "<matplotlib.axes._subplots.AxesSubplot at 0x21a5167e6d8>"
      ]
     },
     "execution_count": 41,
     "metadata": {},
     "output_type": "execute_result"
    },
    {
     "data": {
      "image/png": "[encoded data removed]",
      "text/plain": [
       "<matplotlib.figure.Figure at 0x21a4f845a20>"
      ]
     },
     "metadata": {},
     "output_type": "display_data"
    }
   ],
   "source": [
    "#  pd.rolling_corr(rets['EUROSTOXX'], rets['VSTOXX'], window=252).plot(grid=True, style='b')\n",
    "\n",
    "rets['EUROSTOXX'].rolling(window=252).corr(other=rets['VSTOXX']).plot(grid=True, style='b')\n",
    "\n",
    "# title: Rolling correlation between EURO STOXX 50 and VSTOXX"
   ]
  },
  {
   "cell_type": "markdown",
   "metadata": {},
   "source": [
    "## High Frequency Data  "
   ]
  },
  {
   "cell_type": "code",
   "execution_count": 42,
   "metadata": {
    "uuid": "cd3bd5f2-565a-4158-a796-e8ec41f76d88"
   },
   "outputs": [],
   "source": [
    "# how to cope with tick data instead of daily financial data\n",
    "\n",
    "import numpy as np\n",
    "import pandas as pd\n",
    "import datetime as dt\n",
    "from urllib.request import urlretrieve\n",
    "%matplotlib inline"
   ]
  },
  {
   "cell_type": "code",
   "execution_count": 43,
   "metadata": {
    "collapsed": true
   },
   "outputs": [],
   "source": [
    "# The Norwegian online broker Netfonds provides tick data for a multitude of stocks, \n",
    "# in particular for American names\n",
    "\n",
    "url1 = 'http://www.netfonds.no/quotes/posdump.php?'\n",
    "url2 = 'date=%s%s%s&paper=NKE.N&csv_format=csv'\n",
    "url = url1 + url2"
   ]
  },
  {
   "cell_type": "code",
   "execution_count": 44,
   "metadata": {
    "collapsed": true
   },
   "outputs": [],
   "source": [
    "# ADJUST DATES\n",
    "\n",
    "year = '2016'\n",
    "month = '10'\n",
    "days = ['10', '11', '12', '13', '14']\n",
    "  # dates might need to be updated"
   ]
  },
  {
   "cell_type": "code",
   "execution_count": 45,
   "metadata": {
    "collapsed": true
   },
   "outputs": [],
   "source": [
    "#We want to download, combine, and analyze a week’s worth of tick data for the Nike stock\n",
    "\n",
    "NKE = pd.DataFrame()\n",
    "for day in days:\n",
    "    NKE = NKE.append(pd.read_csv(url % (year, month, day),\n",
    "                       index_col=0, header=0, parse_dates=True))\n",
    "NKE.columns = ['bid', 'bdepth', 'bdeptht', 'offer', 'odepth', 'odeptht']\n",
    "  # shorter colummn names"
   ]
  },
  {
   "cell_type": "code",
   "execution_count": 46,
   "metadata": {
    "uuid": "1fce3fb2-c664-4f77-80dc-0e4907f86dac"
   },
   "outputs": [
    {
     "data": {
      "text/html": [
       "<div>\n",
       "<table border=\"1\" class=\"dataframe\">\n",
       "  <thead>\n",
       "    <tr style=\"text-align: right;\">\n",
       "      <th></th>\n",
       "      <th>bid</th>\n",
       "      <th>bdepth</th>\n",
       "      <th>bdeptht</th>\n",
       "      <th>offer</th>\n",
       "      <th>odepth</th>\n",
       "      <th>odeptht</th>\n",
       "    </tr>\n",
       "    <tr>\n",
       "      <th>time</th>\n",
       "      <th></th>\n",
       "      <th></th>\n",
       "      <th></th>\n",
       "      <th></th>\n",
       "      <th></th>\n",
       "      <th></th>\n",
       "    </tr>\n",
       "  </thead>\n",
       "  <tbody>\n",
       "    <tr>\n",
       "      <th>2016-10-14 22:59:01</th>\n",
       "      <td>51.55</td>\n",
       "      <td>100</td>\n",
       "      <td>100</td>\n",
       "      <td>51.77</td>\n",
       "      <td>100</td>\n",
       "      <td>100</td>\n",
       "    </tr>\n",
       "    <tr>\n",
       "      <th>2016-10-14 23:00:00</th>\n",
       "      <td>51.55</td>\n",
       "      <td>100</td>\n",
       "      <td>100</td>\n",
       "      <td>51.78</td>\n",
       "      <td>500</td>\n",
       "      <td>500</td>\n",
       "    </tr>\n",
       "    <tr>\n",
       "      <th>2016-10-14 23:05:44</th>\n",
       "      <td>51.65</td>\n",
       "      <td>300</td>\n",
       "      <td>300</td>\n",
       "      <td>51.78</td>\n",
       "      <td>500</td>\n",
       "      <td>500</td>\n",
       "    </tr>\n",
       "    <tr>\n",
       "      <th>2016-10-14 23:09:33</th>\n",
       "      <td>51.65</td>\n",
       "      <td>300</td>\n",
       "      <td>300</td>\n",
       "      <td>51.77</td>\n",
       "      <td>500</td>\n",
       "      <td>500</td>\n",
       "    </tr>\n",
       "    <tr>\n",
       "      <th>2016-10-14 23:17:00</th>\n",
       "      <td>51.65</td>\n",
       "      <td>300</td>\n",
       "      <td>300</td>\n",
       "      <td>51.75</td>\n",
       "      <td>500</td>\n",
       "      <td>500</td>\n",
       "    </tr>\n",
       "  </tbody>\n",
       "</table>\n",
       "</div>"
      ],
      "text/plain": [
       "                       bid  bdepth  bdeptht  offer  odepth  odeptht\n",
       "time                                                               \n",
       "2016-10-14 22:59:01  51.55     100      100  51.77     100      100\n",
       "2016-10-14 23:00:00  51.55     100      100  51.78     500      500\n",
       "2016-10-14 23:05:44  51.65     300      300  51.78     500      500\n",
       "2016-10-14 23:09:33  51.65     300      300  51.77     500      500\n",
       "2016-10-14 23:17:00  51.65     300      300  51.75     500      500"
      ]
     },
     "execution_count": 46,
     "metadata": {},
     "output_type": "execute_result"
    }
   ],
   "source": [
    "NKE.tail()"
   ]
  },
  {
   "cell_type": "code",
   "execution_count": 47,
   "metadata": {},
   "outputs": [
    {
     "name": "stdout",
     "output_type": "stream",
     "text": [
      "<class 'pandas.core.frame.DataFrame'>\n",
      "DatetimeIndex: 57291 entries, 2016-10-10 10:00:02 to 2016-10-14 23:17:00\n",
      "Data columns (total 6 columns):\n",
      "bid        57291 non-null float64\n",
      "bdepth     57291 non-null int64\n",
      "bdeptht    57291 non-null int64\n",
      "offer      57291 non-null float64\n",
      "odepth     57291 non-null int64\n",
      "odeptht    57291 non-null int64\n",
      "dtypes: float64(2), int64(4)\n",
      "memory usage: 3.1 MB\n"
     ]
    }
   ],
   "source": [
    "NKE.info()"
   ]
  },
  {
   "cell_type": "code",
   "execution_count": 48,
   "metadata": {
    "uuid": "b0fa9c58-2087-4f99-a7f1-efeb490bb456"
   },
   "outputs": [
    {
     "data": {
      "text/plain": [
       "<matplotlib.axes._subplots.AxesSubplot at 0x21a5181b550>"
      ]
     },
     "execution_count": 48,
     "metadata": {},
     "output_type": "execute_result"
    },
    {
     "data": {
      "image/png": "[encoded data removed]",
      "text/plain": [
       "<matplotlib.figure.Figure at 0x21a4ec9c080>"
      ]
     },
     "metadata": {},
     "output_type": "display_data"
    }
   ],
   "source": [
    "# show the bid columns graphically\n",
    "# One can identify a number of periods without any \n",
    "# trading activity — i.e., times when the markets are closed\n",
    "\n",
    "NKE['bid'].plot(grid=True)\n",
    "# title: NKE stock tick data for a week"
   ]
  },
  {
   "cell_type": "code",
   "execution_count": 49,
   "metadata": {
    "uuid": "73447893-dc77-488a-8252-64c29a92e4c0"
   },
   "outputs": [
    {
     "data": {
      "text/plain": [
       "array([<matplotlib.axes._subplots.AxesSubplot object at 0x0000021A5127E160>,\n",
       "       <matplotlib.axes._subplots.AxesSubplot object at 0x0000021A5125EE10>], dtype=object)"
      ]
     },
     "execution_count": 49,
     "metadata": {},
     "output_type": "execute_result"
    },
    {
     "data": {
      "image/png": "[encoded data removed]",
      "text/plain": [
       "<matplotlib.figure.Figure at 0x21a5168dda0>"
      ]
     },
     "metadata": {},
     "output_type": "display_data"
    }
   ],
   "source": [
    "# show the trading activity for the first day in the sample and three hours of the second\n",
    "\n",
    "# ADJUST DATES\n",
    "\n",
    "to_plot = NKE[['bid', 'bdeptht']][\n",
    "    (NKE.index > dt.datetime(2016, 10, 10, 0, 0))\n",
    " &  (NKE.index < dt.datetime(2016, 10, 11, 2, 59))]\n",
    "to_plot.plot(subplots=True, style='b', figsize=(8, 5), grid=True)\n",
    "\n",
    "# title: NKE stock tick data and volume for a trading day"
   ]
  },
  {
   "cell_type": "code",
   "execution_count": 50,
   "metadata": {
    "uuid": "47a27b89-f6a1-4b3c-9944-8a6109642c72"
   },
   "outputs": [
    {
     "data": {
      "text/html": [
       "<div>\n",
       "<table border=\"1\" class=\"dataframe\">\n",
       "  <thead>\n",
       "    <tr style=\"text-align: right;\">\n",
       "      <th></th>\n",
       "      <th>bid</th>\n",
       "      <th>bdepth</th>\n",
       "      <th>bdeptht</th>\n",
       "      <th>offer</th>\n",
       "      <th>odepth</th>\n",
       "      <th>odeptht</th>\n",
       "    </tr>\n",
       "    <tr>\n",
       "      <th>time</th>\n",
       "      <th></th>\n",
       "      <th></th>\n",
       "      <th></th>\n",
       "      <th></th>\n",
       "      <th></th>\n",
       "      <th></th>\n",
       "    </tr>\n",
       "  </thead>\n",
       "  <tbody>\n",
       "    <tr>\n",
       "      <th>2016-10-10 10:00:00</th>\n",
       "      <td>51.80</td>\n",
       "      <td>127.87</td>\n",
       "      <td>127.87</td>\n",
       "      <td>52.64</td>\n",
       "      <td>500.00</td>\n",
       "      <td>500.00</td>\n",
       "    </tr>\n",
       "    <tr>\n",
       "      <th>2016-10-10 10:25:00</th>\n",
       "      <td>51.80</td>\n",
       "      <td>106.82</td>\n",
       "      <td>106.82</td>\n",
       "      <td>52.61</td>\n",
       "      <td>490.91</td>\n",
       "      <td>490.91</td>\n",
       "    </tr>\n",
       "    <tr>\n",
       "      <th>2016-10-10 10:50:00</th>\n",
       "      <td>51.79</td>\n",
       "      <td>100.00</td>\n",
       "      <td>100.00</td>\n",
       "      <td>52.46</td>\n",
       "      <td>500.00</td>\n",
       "      <td>500.00</td>\n",
       "    </tr>\n",
       "    <tr>\n",
       "      <th>2016-10-10 11:15:00</th>\n",
       "      <td>NaN</td>\n",
       "      <td>NaN</td>\n",
       "      <td>NaN</td>\n",
       "      <td>NaN</td>\n",
       "      <td>NaN</td>\n",
       "      <td>NaN</td>\n",
       "    </tr>\n",
       "    <tr>\n",
       "      <th>2016-10-10 11:40:00</th>\n",
       "      <td>51.76</td>\n",
       "      <td>100.00</td>\n",
       "      <td>100.00</td>\n",
       "      <td>52.28</td>\n",
       "      <td>457.14</td>\n",
       "      <td>457.14</td>\n",
       "    </tr>\n",
       "  </tbody>\n",
       "</table>\n",
       "</div>"
      ],
      "text/plain": [
       "                       bid  bdepth  bdeptht  offer  odepth  odeptht\n",
       "time                                                               \n",
       "2016-10-10 10:00:00  51.80  127.87   127.87  52.64  500.00   500.00\n",
       "2016-10-10 10:25:00  51.80  106.82   106.82  52.61  490.91   490.91\n",
       "2016-10-10 10:50:00  51.79  100.00   100.00  52.46  500.00   500.00\n",
       "2016-10-10 11:15:00    NaN     NaN      NaN    NaN     NaN      NaN\n",
       "2016-10-10 11:40:00  51.76  100.00   100.00  52.28  457.14   457.14"
      ]
     },
     "execution_count": 50,
     "metadata": {},
     "output_type": "execute_result"
    }
   ],
   "source": [
    "# resample: remove irregularities in DatetimeIndex\n",
    "\n",
    "NKE_resam = NKE.resample(rule='25min').mean()\n",
    "np.round(NKE_resam.head(), 2)"
   ]
  },
  {
   "cell_type": "code",
   "execution_count": 51,
   "metadata": {
    "uuid": "7730056f-4ce8-4a23-853e-f5206eb86ea7"
   },
   "outputs": [
    {
     "data": {
      "text/plain": [
       "<matplotlib.axes._subplots.AxesSubplot at 0x21a514a6da0>"
      ]
     },
     "execution_count": 51,
     "metadata": {},
     "output_type": "execute_result"
    },
    {
     "data": {
      "image/png": "[encoded data removed]",
      "text/plain": [
       "<matplotlib.figure.Figure at 0x21a4f813588>"
      ]
     },
     "metadata": {},
     "output_type": "display_data"
    }
   ],
   "source": [
    "NKE_resam['bid'].fillna(method='ffill').plot()\n",
    "# title: Resampled NKE stock tick data is smoother than above"
   ]
  },
  {
   "cell_type": "code",
   "execution_count": 52,
   "metadata": {
    "uuid": "d8d2f963-3909-4434-95fa-69f932b49451"
   },
   "outputs": [],
   "source": [
    "# To conclude this section, we apply a custom-defined Python function to our new data set.\n",
    "# The function we choose is arbitrary and does not make any economic sense here; it just\n",
    "# mirrors the stock performance at a certain stock price level\n",
    "\n",
    "\n",
    "def reversal(x):\n",
    "    return 2 * 95 - x"
   ]
  },
  {
   "cell_type": "code",
   "execution_count": 53,
   "metadata": {
    "uuid": "e6d72fc4-0617-480c-84a3-56892f0e4b01"
   },
   "outputs": [
    {
     "data": {
      "text/plain": [
       "<matplotlib.axes._subplots.AxesSubplot at 0x21a515b6208>"
      ]
     },
     "execution_count": 53,
     "metadata": {},
     "output_type": "execute_result"
    },
    {
     "data": {
      "image/png": "[encoded data removed]",
      "text/plain": [
       "<matplotlib.figure.Figure at 0x21a515ad710>"
      ]
     },
     "metadata": {},
     "output_type": "display_data"
    }
   ],
   "source": [
    "NKE_resam['bid'].fillna(method='ffill').apply(reversal).plot(grid=True)\n",
    "# title: Resampled NKE stock tick data with function applied to it"
   ]
  },
  {
   "cell_type": "markdown",
   "metadata": {},
   "source": [
    "## Documentation\n",
    "* the home page of the pandas library: http://pandas.pydata.org\n",
    "* comprehensive online documentation available at http://pandas.pydata.org/pandas-docs/stable/\n",
    "* The documentation in PDF format with 1,500+ pages http://pandas.pydata.org/pandasdocs/stable/pandas.pdf"
   ]
  },
  {
   "cell_type": "code",
   "execution_count": null,
   "metadata": {
    "collapsed": true
   },
   "outputs": [],
   "source": []
  }
 ],
 "metadata": {
  "anaconda-cloud": {},
  "kernelspec": {
   "display_name": "Python 3",
   "language": "python",
   "name": "python3"
  },
  "language_info": {
   "codemirror_mode": {
    "name": "ipython",
    "version": 3
   },
   "file_extension": ".py",
   "mimetype": "text/x-python",
   "name": "python",
   "nbconvert_exporter": "python",
   "pygments_lexer": "ipython3",
   "version": "3.6.8"
  }
 },
 "nbformat": 4,
 "nbformat_minor": 1
}
