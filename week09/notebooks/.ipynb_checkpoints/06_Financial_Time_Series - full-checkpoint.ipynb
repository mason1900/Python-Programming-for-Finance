{
 "cells": [
  {
   "cell_type": "markdown",
   "metadata": {},
   "source": [
    "# Financial Time Series"
   ]
  },
  {
   "cell_type": "markdown",
   "metadata": {},
   "source": [
    "## pandas Basics"
   ]
  },
  {
   "cell_type": "code",
   "execution_count": 2,
   "metadata": {
    "collapsed": false,
    "uuid": "eda2a742-134d-4d47-8b30-557b846b9bb3"
   },
   "outputs": [],
   "source": [
    "import numpy as np\n",
    "import pandas as pd"
   ]
  },
  {
   "cell_type": "markdown",
   "metadata": {},
   "source": [
    "### First Steps with DataFrame Class"
   ]
  },
  {
   "cell_type": "code",
   "execution_count": 3,
   "metadata": {
    "collapsed": false,
    "uuid": "f3be2d89-829a-49b2-96fc-07c475db1e3f"
   },
   "outputs": [
    {
     "data": {
      "text/html": [
       "<div>\n",
       "<table border=\"1\" class=\"dataframe\">\n",
       "  <thead>\n",
       "    <tr style=\"text-align: right;\">\n",
       "      <th></th>\n",
       "      <th>numbers</th>\n",
       "    </tr>\n",
       "  </thead>\n",
       "  <tbody>\n",
       "    <tr>\n",
       "      <th>a</th>\n",
       "      <td>10</td>\n",
       "    </tr>\n",
       "    <tr>\n",
       "      <th>b</th>\n",
       "      <td>20</td>\n",
       "    </tr>\n",
       "    <tr>\n",
       "      <th>c</th>\n",
       "      <td>30</td>\n",
       "    </tr>\n",
       "    <tr>\n",
       "      <th>d</th>\n",
       "      <td>40</td>\n",
       "    </tr>\n",
       "  </tbody>\n",
       "</table>\n",
       "</div>"
      ],
      "text/plain": [
       "   numbers\n",
       "a       10\n",
       "b       20\n",
       "c       30\n",
       "d       40"
      ]
     },
     "execution_count": 3,
     "metadata": {},
     "output_type": "execute_result"
    }
   ],
   "source": [
    "# pandas DataFrame class is designed to manage indexed and labeled data \n",
    "# Data itself can be provided in different shapes and types \n",
    "#    (list, tuple, ndarray, and dict objects).\n",
    "# Create DataFrame object\n",
    "\n",
    "df = pd.DataFrame([10, 20, 30, 40], columns=['numbers'],\n",
    "                  index=['a', 'b', 'c', 'd'])\n",
    "df"
   ]
  },
  {
   "cell_type": "code",
   "execution_count": 4,
   "metadata": {
    "collapsed": false,
    "uuid": "47b70a7b-710f-4c40-9a70-b09db7af1a12"
   },
   "outputs": [
    {
     "data": {
      "text/plain": [
       "Index(['a', 'b', 'c', 'd'], dtype='object')"
      ]
     },
     "execution_count": 4,
     "metadata": {},
     "output_type": "execute_result"
    }
   ],
   "source": [
    "# There is an index that can take on different formats \n",
    "# (e.g., numbers, strings, time information).\n",
    "\n",
    "df.index  # the index values"
   ]
  },
  {
   "cell_type": "code",
   "execution_count": 5,
   "metadata": {
    "collapsed": false,
    "uuid": "a36c6695-520d-4df1-a6fa-5f8362af37a3"
   },
   "outputs": [
    {
     "data": {
      "text/plain": [
       "Index(['numbers'], dtype='object')"
      ]
     },
     "execution_count": 5,
     "metadata": {},
     "output_type": "execute_result"
    }
   ],
   "source": [
    "# Data is organized in columns, which can have custom names\n",
    "\n",
    "df.columns  # the column names"
   ]
  },
  {
   "cell_type": "code",
   "execution_count": 6,
   "metadata": {
    "collapsed": false,
    "uuid": "c93aed37-21de-429d-86ed-9849e4c3e23c"
   },
   "outputs": [
    {
     "data": {
      "text/plain": [
       "numbers    30\n",
       "Name: c, dtype: int64"
      ]
     },
     "execution_count": 6,
     "metadata": {},
     "output_type": "execute_result"
    }
   ],
   "source": [
    "df.ix['c']  # selection via index"
   ]
  },
  {
   "cell_type": "code",
   "execution_count": 7,
   "metadata": {
    "collapsed": false,
    "uuid": "8c7c2f69-3673-40d9-a568-0471c629810d"
   },
   "outputs": [
    {
     "data": {
      "text/html": [
       "<div>\n",
       "<table border=\"1\" class=\"dataframe\">\n",
       "  <thead>\n",
       "    <tr style=\"text-align: right;\">\n",
       "      <th></th>\n",
       "      <th>numbers</th>\n",
       "    </tr>\n",
       "  </thead>\n",
       "  <tbody>\n",
       "    <tr>\n",
       "      <th>a</th>\n",
       "      <td>10</td>\n",
       "    </tr>\n",
       "    <tr>\n",
       "      <th>d</th>\n",
       "      <td>40</td>\n",
       "    </tr>\n",
       "  </tbody>\n",
       "</table>\n",
       "</div>"
      ],
      "text/plain": [
       "   numbers\n",
       "a       10\n",
       "d       40"
      ]
     },
     "execution_count": 7,
     "metadata": {},
     "output_type": "execute_result"
    }
   ],
   "source": [
    "df.ix[['a', 'd']]  # selection of multiple indices"
   ]
  },
  {
   "cell_type": "code",
   "execution_count": 8,
   "metadata": {
    "collapsed": false,
    "uuid": "c3ce0cc3-26e8-4256-ab8c-9a2d4b181633"
   },
   "outputs": [
    {
     "data": {
      "text/html": [
       "<div>\n",
       "<table border=\"1\" class=\"dataframe\">\n",
       "  <thead>\n",
       "    <tr style=\"text-align: right;\">\n",
       "      <th></th>\n",
       "      <th>numbers</th>\n",
       "    </tr>\n",
       "  </thead>\n",
       "  <tbody>\n",
       "    <tr>\n",
       "      <th>b</th>\n",
       "      <td>20</td>\n",
       "    </tr>\n",
       "    <tr>\n",
       "      <th>c</th>\n",
       "      <td>30</td>\n",
       "    </tr>\n",
       "  </tbody>\n",
       "</table>\n",
       "</div>"
      ],
      "text/plain": [
       "   numbers\n",
       "b       20\n",
       "c       30"
      ]
     },
     "execution_count": 8,
     "metadata": {},
     "output_type": "execute_result"
    }
   ],
   "source": [
    "df.ix[df.index[1:3]]  # selection via Index object"
   ]
  },
  {
   "cell_type": "code",
   "execution_count": 9,
   "metadata": {
    "collapsed": false,
    "uuid": "94b1d846-63df-49f4-8a7f-8fed03e5f4fa"
   },
   "outputs": [
    {
     "data": {
      "text/plain": [
       "numbers    100\n",
       "dtype: int64"
      ]
     },
     "execution_count": 9,
     "metadata": {},
     "output_type": "execute_result"
    }
   ],
   "source": [
    "df.sum()  # sum per column"
   ]
  },
  {
   "cell_type": "code",
   "execution_count": 10,
   "metadata": {
    "collapsed": false,
    "uuid": "4e73eb4f-352d-4527-b0c5-4f3a6e7eb354"
   },
   "outputs": [
    {
     "data": {
      "text/html": [
       "<div>\n",
       "<table border=\"1\" class=\"dataframe\">\n",
       "  <thead>\n",
       "    <tr style=\"text-align: right;\">\n",
       "      <th></th>\n",
       "      <th>numbers</th>\n",
       "    </tr>\n",
       "  </thead>\n",
       "  <tbody>\n",
       "    <tr>\n",
       "      <th>a</th>\n",
       "      <td>100</td>\n",
       "    </tr>\n",
       "    <tr>\n",
       "      <th>b</th>\n",
       "      <td>400</td>\n",
       "    </tr>\n",
       "    <tr>\n",
       "      <th>c</th>\n",
       "      <td>900</td>\n",
       "    </tr>\n",
       "    <tr>\n",
       "      <th>d</th>\n",
       "      <td>1600</td>\n",
       "    </tr>\n",
       "  </tbody>\n",
       "</table>\n",
       "</div>"
      ],
      "text/plain": [
       "   numbers\n",
       "a      100\n",
       "b      400\n",
       "c      900\n",
       "d     1600"
      ]
     },
     "execution_count": 10,
     "metadata": {},
     "output_type": "execute_result"
    }
   ],
   "source": [
    "df.apply(lambda x: x ** 2)  # square of every element"
   ]
  },
  {
   "cell_type": "code",
   "execution_count": 11,
   "metadata": {
    "collapsed": false,
    "uuid": "75206a83-0154-4be2-88d0-7a82a190fda1"
   },
   "outputs": [
    {
     "data": {
      "text/html": [
       "<div>\n",
       "<table border=\"1\" class=\"dataframe\">\n",
       "  <thead>\n",
       "    <tr style=\"text-align: right;\">\n",
       "      <th></th>\n",
       "      <th>numbers</th>\n",
       "    </tr>\n",
       "  </thead>\n",
       "  <tbody>\n",
       "    <tr>\n",
       "      <th>a</th>\n",
       "      <td>100</td>\n",
       "    </tr>\n",
       "    <tr>\n",
       "      <th>b</th>\n",
       "      <td>400</td>\n",
       "    </tr>\n",
       "    <tr>\n",
       "      <th>c</th>\n",
       "      <td>900</td>\n",
       "    </tr>\n",
       "    <tr>\n",
       "      <th>d</th>\n",
       "      <td>1600</td>\n",
       "    </tr>\n",
       "  </tbody>\n",
       "</table>\n",
       "</div>"
      ],
      "text/plain": [
       "   numbers\n",
       "a      100\n",
       "b      400\n",
       "c      900\n",
       "d     1600"
      ]
     },
     "execution_count": 11,
     "metadata": {},
     "output_type": "execute_result"
    }
   ],
   "source": [
    "df ** 2  # again square, this time NumPy-like"
   ]
  },
  {
   "cell_type": "code",
   "execution_count": 13,
   "metadata": {
    "collapsed": false,
    "uuid": "49a2633a-b3c0-4d00-a227-e0ff4a8cf81d"
   },
   "outputs": [
    {
     "data": {
      "text/html": [
       "<div>\n",
       "<table border=\"1\" class=\"dataframe\">\n",
       "  <thead>\n",
       "    <tr style=\"text-align: right;\">\n",
       "      <th></th>\n",
       "      <th>numbers</th>\n",
       "      <th>floats</th>\n",
       "    </tr>\n",
       "  </thead>\n",
       "  <tbody>\n",
       "    <tr>\n",
       "      <th>a</th>\n",
       "      <td>10</td>\n",
       "      <td>1.5</td>\n",
       "    </tr>\n",
       "    <tr>\n",
       "      <th>b</th>\n",
       "      <td>20</td>\n",
       "      <td>2.5</td>\n",
       "    </tr>\n",
       "    <tr>\n",
       "      <th>c</th>\n",
       "      <td>30</td>\n",
       "      <td>3.5</td>\n",
       "    </tr>\n",
       "    <tr>\n",
       "      <th>d</th>\n",
       "      <td>40</td>\n",
       "      <td>4.5</td>\n",
       "    </tr>\n",
       "  </tbody>\n",
       "</table>\n",
       "</div>"
      ],
      "text/plain": [
       "   numbers  floats\n",
       "a       10     1.5\n",
       "b       20     2.5\n",
       "c       30     3.5\n",
       "d       40     4.5"
      ]
     },
     "execution_count": 13,
     "metadata": {},
     "output_type": "execute_result"
    }
   ],
   "source": [
    "df['floats'] = (1.5, 2.5, 3.5, 4.5)\n",
    "  # new column is generated\n",
    "df"
   ]
  },
  {
   "cell_type": "code",
   "execution_count": 14,
   "metadata": {
    "collapsed": false,
    "uuid": "c49b9aea-417a-4c2b-8e27-0e8771a77c87"
   },
   "outputs": [
    {
     "data": {
      "text/plain": [
       "a    1.5\n",
       "b    2.5\n",
       "c    3.5\n",
       "d    4.5\n",
       "Name: floats, dtype: float64"
      ]
     },
     "execution_count": 14,
     "metadata": {},
     "output_type": "execute_result"
    }
   ],
   "source": [
    "df['floats']  # selection of column"
   ]
  },
  {
   "cell_type": "code",
   "execution_count": 15,
   "metadata": {
    "collapsed": false,
    "uuid": "aa892c41-6637-45ed-876b-6a70285e4c0b"
   },
   "outputs": [
    {
     "data": {
      "text/html": [
       "<div>\n",
       "<table border=\"1\" class=\"dataframe\">\n",
       "  <thead>\n",
       "    <tr style=\"text-align: right;\">\n",
       "      <th></th>\n",
       "      <th>numbers</th>\n",
       "      <th>floats</th>\n",
       "      <th>names</th>\n",
       "    </tr>\n",
       "  </thead>\n",
       "  <tbody>\n",
       "    <tr>\n",
       "      <th>a</th>\n",
       "      <td>10</td>\n",
       "      <td>1.5</td>\n",
       "      <td>Guido</td>\n",
       "    </tr>\n",
       "    <tr>\n",
       "      <th>b</th>\n",
       "      <td>20</td>\n",
       "      <td>2.5</td>\n",
       "      <td>Peter</td>\n",
       "    </tr>\n",
       "    <tr>\n",
       "      <th>c</th>\n",
       "      <td>30</td>\n",
       "      <td>3.5</td>\n",
       "      <td>Travis</td>\n",
       "    </tr>\n",
       "    <tr>\n",
       "      <th>d</th>\n",
       "      <td>40</td>\n",
       "      <td>4.5</td>\n",
       "      <td>Yves</td>\n",
       "    </tr>\n",
       "  </tbody>\n",
       "</table>\n",
       "</div>"
      ],
      "text/plain": [
       "   numbers  floats   names\n",
       "a       10     1.5   Guido\n",
       "b       20     2.5   Peter\n",
       "c       30     3.5  Travis\n",
       "d       40     4.5    Yves"
      ]
     },
     "execution_count": 15,
     "metadata": {},
     "output_type": "execute_result"
    }
   ],
   "source": [
    "df['names'] = pd.DataFrame(['Yves', 'Guido', 'Peter', 'Travis'],\n",
    "                           index=['d', 'a', 'b', 'c'])\n",
    "df"
   ]
  },
  {
   "cell_type": "code",
   "execution_count": 16,
   "metadata": {
    "collapsed": false,
    "uuid": "584ac18c-161f-4c7b-8ff1-1cd406fb8437"
   },
   "outputs": [
    {
     "data": {
      "text/html": [
       "<div>\n",
       "<table border=\"1\" class=\"dataframe\">\n",
       "  <thead>\n",
       "    <tr style=\"text-align: right;\">\n",
       "      <th></th>\n",
       "      <th>numbers</th>\n",
       "      <th>floats</th>\n",
       "      <th>names</th>\n",
       "    </tr>\n",
       "  </thead>\n",
       "  <tbody>\n",
       "    <tr>\n",
       "      <th>0</th>\n",
       "      <td>10</td>\n",
       "      <td>1.50</td>\n",
       "      <td>Guido</td>\n",
       "    </tr>\n",
       "    <tr>\n",
       "      <th>1</th>\n",
       "      <td>20</td>\n",
       "      <td>2.50</td>\n",
       "      <td>Peter</td>\n",
       "    </tr>\n",
       "    <tr>\n",
       "      <th>2</th>\n",
       "      <td>30</td>\n",
       "      <td>3.50</td>\n",
       "      <td>Travis</td>\n",
       "    </tr>\n",
       "    <tr>\n",
       "      <th>3</th>\n",
       "      <td>40</td>\n",
       "      <td>4.50</td>\n",
       "      <td>Yves</td>\n",
       "    </tr>\n",
       "    <tr>\n",
       "      <th>4</th>\n",
       "      <td>100</td>\n",
       "      <td>5.75</td>\n",
       "      <td>Henry</td>\n",
       "    </tr>\n",
       "  </tbody>\n",
       "</table>\n",
       "</div>"
      ],
      "text/plain": [
       "   numbers  floats   names\n",
       "0       10    1.50   Guido\n",
       "1       20    2.50   Peter\n",
       "2       30    3.50  Travis\n",
       "3       40    4.50    Yves\n",
       "4      100    5.75   Henry"
      ]
     },
     "execution_count": 16,
     "metadata": {},
     "output_type": "execute_result"
    }
   ],
   "source": [
    "df.append({'numbers': 100, 'floats': 5.75, 'names': 'Henry'},\n",
    "               ignore_index=True)\n",
    "    # temporary object; df not changed\n",
    "    # the index gets replaced by a simple numbered index\n",
    "    # avoid ignoring index"
   ]
  },
  {
   "cell_type": "code",
   "execution_count": 17,
   "metadata": {
    "collapsed": false,
    "uuid": "9068cd04-c6ff-4d0c-bd52-cf04cd89a0e9"
   },
   "outputs": [
    {
     "data": {
      "text/html": [
       "<div>\n",
       "<table border=\"1\" class=\"dataframe\">\n",
       "  <thead>\n",
       "    <tr style=\"text-align: right;\">\n",
       "      <th></th>\n",
       "      <th>floats</th>\n",
       "      <th>names</th>\n",
       "      <th>numbers</th>\n",
       "    </tr>\n",
       "  </thead>\n",
       "  <tbody>\n",
       "    <tr>\n",
       "      <th>a</th>\n",
       "      <td>1.50</td>\n",
       "      <td>Guido</td>\n",
       "      <td>10</td>\n",
       "    </tr>\n",
       "    <tr>\n",
       "      <th>b</th>\n",
       "      <td>2.50</td>\n",
       "      <td>Peter</td>\n",
       "      <td>20</td>\n",
       "    </tr>\n",
       "    <tr>\n",
       "      <th>c</th>\n",
       "      <td>3.50</td>\n",
       "      <td>Travis</td>\n",
       "      <td>30</td>\n",
       "    </tr>\n",
       "    <tr>\n",
       "      <th>d</th>\n",
       "      <td>4.50</td>\n",
       "      <td>Yves</td>\n",
       "      <td>40</td>\n",
       "    </tr>\n",
       "    <tr>\n",
       "      <th>z</th>\n",
       "      <td>5.75</td>\n",
       "      <td>Henry</td>\n",
       "      <td>100</td>\n",
       "    </tr>\n",
       "  </tbody>\n",
       "</table>\n",
       "</div>"
      ],
      "text/plain": [
       "   floats   names  numbers\n",
       "a    1.50   Guido       10\n",
       "b    2.50   Peter       20\n",
       "c    3.50  Travis       30\n",
       "d    4.50    Yves       40\n",
       "z    5.75   Henry      100"
      ]
     },
     "execution_count": 17,
     "metadata": {},
     "output_type": "execute_result"
    }
   ],
   "source": [
    "# It is  better to append a DataFrame object, \n",
    "# providing the appropriate index information\n",
    "\n",
    "df = df.append(pd.DataFrame({'numbers': 100, 'floats': 5.75,\n",
    "                             'names': 'Henry'}, index=['z',]))\n",
    "df"
   ]
  },
  {
   "cell_type": "code",
   "execution_count": 18,
   "metadata": {
    "collapsed": false,
    "uuid": "0d526ac2-8691-4a59-83c5-712c800f0464"
   },
   "outputs": [
    {
     "data": {
      "text/html": [
       "<div>\n",
       "<table border=\"1\" class=\"dataframe\">\n",
       "  <thead>\n",
       "    <tr style=\"text-align: right;\">\n",
       "      <th></th>\n",
       "      <th>floats</th>\n",
       "      <th>names</th>\n",
       "      <th>numbers</th>\n",
       "      <th>squares</th>\n",
       "    </tr>\n",
       "  </thead>\n",
       "  <tbody>\n",
       "    <tr>\n",
       "      <th>a</th>\n",
       "      <td>1.50</td>\n",
       "      <td>Guido</td>\n",
       "      <td>10</td>\n",
       "      <td>1.0</td>\n",
       "    </tr>\n",
       "    <tr>\n",
       "      <th>b</th>\n",
       "      <td>2.50</td>\n",
       "      <td>Peter</td>\n",
       "      <td>20</td>\n",
       "      <td>4.0</td>\n",
       "    </tr>\n",
       "    <tr>\n",
       "      <th>c</th>\n",
       "      <td>3.50</td>\n",
       "      <td>Travis</td>\n",
       "      <td>30</td>\n",
       "      <td>9.0</td>\n",
       "    </tr>\n",
       "    <tr>\n",
       "      <th>d</th>\n",
       "      <td>4.50</td>\n",
       "      <td>Yves</td>\n",
       "      <td>40</td>\n",
       "      <td>16.0</td>\n",
       "    </tr>\n",
       "    <tr>\n",
       "      <th>z</th>\n",
       "      <td>5.75</td>\n",
       "      <td>Henry</td>\n",
       "      <td>100</td>\n",
       "      <td>NaN</td>\n",
       "    </tr>\n",
       "  </tbody>\n",
       "</table>\n",
       "</div>"
      ],
      "text/plain": [
       "   floats   names  numbers  squares\n",
       "a    1.50   Guido       10      1.0\n",
       "b    2.50   Peter       20      4.0\n",
       "c    3.50  Travis       30      9.0\n",
       "d    4.50    Yves       40     16.0\n",
       "z    5.75   Henry      100      NaN"
      ]
     },
     "execution_count": 18,
     "metadata": {},
     "output_type": "execute_result"
    }
   ],
   "source": [
    "# The following code  adds a new column, but with a slightly different index.\n",
    "# Pandas by default accepts only values for those indices that already exist. \n",
    "# We lose the value for the index y and have a NaN value \n",
    "# (i.e., “Not a Number”) at index position z.\n",
    "\n",
    "df.join(pd.DataFrame([1, 4, 9, 16, 25],\n",
    "            index=['a', 'b', 'c', 'd', 'y'],\n",
    "            columns=['squares',]))\n",
    "  # temporary object"
   ]
  },
  {
   "cell_type": "code",
   "execution_count": 19,
   "metadata": {
    "collapsed": false,
    "uuid": "6558c7ff-f24e-4dd0-b57e-a30196bad1f4"
   },
   "outputs": [
    {
     "data": {
      "text/html": [
       "<div>\n",
       "<table border=\"1\" class=\"dataframe\">\n",
       "  <thead>\n",
       "    <tr style=\"text-align: right;\">\n",
       "      <th></th>\n",
       "      <th>floats</th>\n",
       "      <th>names</th>\n",
       "      <th>numbers</th>\n",
       "      <th>squares</th>\n",
       "    </tr>\n",
       "  </thead>\n",
       "  <tbody>\n",
       "    <tr>\n",
       "      <th>a</th>\n",
       "      <td>1.50</td>\n",
       "      <td>Guido</td>\n",
       "      <td>10.0</td>\n",
       "      <td>1.0</td>\n",
       "    </tr>\n",
       "    <tr>\n",
       "      <th>b</th>\n",
       "      <td>2.50</td>\n",
       "      <td>Peter</td>\n",
       "      <td>20.0</td>\n",
       "      <td>4.0</td>\n",
       "    </tr>\n",
       "    <tr>\n",
       "      <th>c</th>\n",
       "      <td>3.50</td>\n",
       "      <td>Travis</td>\n",
       "      <td>30.0</td>\n",
       "      <td>9.0</td>\n",
       "    </tr>\n",
       "    <tr>\n",
       "      <th>d</th>\n",
       "      <td>4.50</td>\n",
       "      <td>Yves</td>\n",
       "      <td>40.0</td>\n",
       "      <td>16.0</td>\n",
       "    </tr>\n",
       "    <tr>\n",
       "      <th>y</th>\n",
       "      <td>NaN</td>\n",
       "      <td>NaN</td>\n",
       "      <td>NaN</td>\n",
       "      <td>25.0</td>\n",
       "    </tr>\n",
       "    <tr>\n",
       "      <th>z</th>\n",
       "      <td>5.75</td>\n",
       "      <td>Henry</td>\n",
       "      <td>100.0</td>\n",
       "      <td>NaN</td>\n",
       "    </tr>\n",
       "  </tbody>\n",
       "</table>\n",
       "</div>"
      ],
      "text/plain": [
       "   floats   names  numbers  squares\n",
       "a    1.50   Guido     10.0      1.0\n",
       "b    2.50   Peter     20.0      4.0\n",
       "c    3.50  Travis     30.0      9.0\n",
       "d    4.50    Yves     40.0     16.0\n",
       "y     NaN     NaN      NaN     25.0\n",
       "z    5.75   Henry    100.0      NaN"
      ]
     },
     "execution_count": 19,
     "metadata": {},
     "output_type": "execute_result"
    }
   ],
   "source": [
    "# we use how=“outer” to use the union of all values from both indices\n",
    "\n",
    "df = df.join(pd.DataFrame([1, 4, 9, 16, 25],\n",
    "                    index=['a', 'b', 'c', 'd', 'y'],\n",
    "                    columns=['squares',]),\n",
    "                    how='outer')\n",
    "df"
   ]
  },
  {
   "cell_type": "code",
   "execution_count": 20,
   "metadata": {
    "collapsed": false,
    "uuid": "3e863c7f-7875-4911-997b-6e48123dc1e5"
   },
   "outputs": [
    {
     "data": {
      "text/plain": [
       "numbers    40.0\n",
       "squares    11.0\n",
       "dtype: float64"
      ]
     },
     "execution_count": 20,
     "metadata": {},
     "output_type": "execute_result"
    }
   ],
   "source": [
    "df[['numbers', 'squares']].mean()\n",
    "  # column-wise mean"
   ]
  },
  {
   "cell_type": "code",
   "execution_count": 21,
   "metadata": {
    "collapsed": false,
    "uuid": "c52173a0-485d-4eb2-b6b4-407d1ff2c30e"
   },
   "outputs": [
    {
     "data": {
      "text/plain": [
       "numbers    35.355339\n",
       "squares     9.669540\n",
       "dtype: float64"
      ]
     },
     "execution_count": 21,
     "metadata": {},
     "output_type": "execute_result"
    }
   ],
   "source": [
    "df[['numbers', 'squares']].std()\n",
    "  # column-wise standard deviation"
   ]
  },
  {
   "cell_type": "markdown",
   "metadata": {},
   "source": [
    "### Second Steps with DataFrame Class"
   ]
  },
  {
   "cell_type": "code",
   "execution_count": 22,
   "metadata": {
    "collapsed": true
   },
   "outputs": [],
   "source": [
    "import numpy as np\n",
    "import pandas as pd"
   ]
  },
  {
   "cell_type": "code",
   "execution_count": 23,
   "metadata": {
    "collapsed": false,
    "uuid": "d6f56a00-91e6-4221-a1ec-6093f416d1be"
   },
   "outputs": [
    {
     "data": {
      "text/plain": [
       "array([[ 0.507572,  0.517024,  0.928512, -0.442114],\n",
       "       [-0.100898, -0.504059,  0.750888, -0.355628],\n",
       "       [ 0.476485, -1.553533, -0.641864,  0.366842],\n",
       "       [ 0.66405 , -0.638227, -0.240518, -0.461165],\n",
       "       [ 0.459265,  1.82076 , -0.199404,  0.142979],\n",
       "       [-0.546969, -0.522306,  0.008874, -0.444842],\n",
       "       [ 0.344897,  0.287707,  0.249768,  1.693614],\n",
       "       [ 1.716738, -0.267318,  0.698416,  0.708441],\n",
       "       [-0.029078,  1.407865, -0.987566, -1.009189]])"
      ]
     },
     "execution_count": 23,
     "metadata": {},
     "output_type": "execute_result"
    }
   ],
   "source": [
    "# Let's generate a numpy.ndarry with, with  nine rows and four columns \n",
    "# of  pseudorandom, standard normally distributed numbers\n",
    "\n",
    "a = np.random.standard_normal((9, 4))\n",
    "a.round(6)"
   ]
  },
  {
   "cell_type": "code",
   "execution_count": 24,
   "metadata": {
    "collapsed": false,
    "uuid": "450bd14d-7668-4f3f-a863-966f13562818"
   },
   "outputs": [
    {
     "data": {
      "text/html": [
       "<div>\n",
       "<table border=\"1\" class=\"dataframe\">\n",
       "  <thead>\n",
       "    <tr style=\"text-align: right;\">\n",
       "      <th></th>\n",
       "      <th>0</th>\n",
       "      <th>1</th>\n",
       "      <th>2</th>\n",
       "      <th>3</th>\n",
       "    </tr>\n",
       "  </thead>\n",
       "  <tbody>\n",
       "    <tr>\n",
       "      <th>0</th>\n",
       "      <td>0.507572</td>\n",
       "      <td>0.517024</td>\n",
       "      <td>0.928512</td>\n",
       "      <td>-0.442114</td>\n",
       "    </tr>\n",
       "    <tr>\n",
       "      <th>1</th>\n",
       "      <td>-0.100898</td>\n",
       "      <td>-0.504059</td>\n",
       "      <td>0.750888</td>\n",
       "      <td>-0.355628</td>\n",
       "    </tr>\n",
       "    <tr>\n",
       "      <th>2</th>\n",
       "      <td>0.476485</td>\n",
       "      <td>-1.553533</td>\n",
       "      <td>-0.641864</td>\n",
       "      <td>0.366842</td>\n",
       "    </tr>\n",
       "    <tr>\n",
       "      <th>3</th>\n",
       "      <td>0.664050</td>\n",
       "      <td>-0.638227</td>\n",
       "      <td>-0.240518</td>\n",
       "      <td>-0.461165</td>\n",
       "    </tr>\n",
       "    <tr>\n",
       "      <th>4</th>\n",
       "      <td>0.459265</td>\n",
       "      <td>1.820760</td>\n",
       "      <td>-0.199404</td>\n",
       "      <td>0.142979</td>\n",
       "    </tr>\n",
       "    <tr>\n",
       "      <th>5</th>\n",
       "      <td>-0.546969</td>\n",
       "      <td>-0.522306</td>\n",
       "      <td>0.008874</td>\n",
       "      <td>-0.444842</td>\n",
       "    </tr>\n",
       "    <tr>\n",
       "      <th>6</th>\n",
       "      <td>0.344897</td>\n",
       "      <td>0.287707</td>\n",
       "      <td>0.249768</td>\n",
       "      <td>1.693614</td>\n",
       "    </tr>\n",
       "    <tr>\n",
       "      <th>7</th>\n",
       "      <td>1.716738</td>\n",
       "      <td>-0.267318</td>\n",
       "      <td>0.698416</td>\n",
       "      <td>0.708441</td>\n",
       "    </tr>\n",
       "    <tr>\n",
       "      <th>8</th>\n",
       "      <td>-0.029078</td>\n",
       "      <td>1.407865</td>\n",
       "      <td>-0.987566</td>\n",
       "      <td>-1.009189</td>\n",
       "    </tr>\n",
       "  </tbody>\n",
       "</table>\n",
       "</div>"
      ],
      "text/plain": [
       "          0         1         2         3\n",
       "0  0.507572  0.517024  0.928512 -0.442114\n",
       "1 -0.100898 -0.504059  0.750888 -0.355628\n",
       "2  0.476485 -1.553533 -0.641864  0.366842\n",
       "3  0.664050 -0.638227 -0.240518 -0.461165\n",
       "4  0.459265  1.820760 -0.199404  0.142979\n",
       "5 -0.546969 -0.522306  0.008874 -0.444842\n",
       "6  0.344897  0.287707  0.249768  1.693614\n",
       "7  1.716738 -0.267318  0.698416  0.708441\n",
       "8 -0.029078  1.407865 -0.987566 -1.009189"
      ]
     },
     "execution_count": 24,
     "metadata": {},
     "output_type": "execute_result"
    }
   ],
   "source": [
    "df = pd.DataFrame(a)\n",
    "df"
   ]
  },
  {
   "cell_type": "code",
   "execution_count": 7,
   "metadata": {
    "collapsed": true
   },
   "outputs": [],
   "source": [
    "#  Parameters of DataFrame function\n",
    "# Parameter Format                   Description\n",
    "# --------- ------                   -----------\n",
    "# data      ndarray/dict/DataFrame   Data for DataFrame; dict can contain Series, ndarrays, lists\n",
    "# index     Index/array-like         Index to use; defaults to range(n)\n",
    "# columns   Index/array-like         Column headers to use; defaults to range(n)\n",
    "# dtype     dtype, default None      Data type to use/force; otherwise, it is inferred\n",
    "# copy      bool, default None       Copy data from inputs"
   ]
  },
  {
   "cell_type": "code",
   "execution_count": 25,
   "metadata": {
    "collapsed": false,
    "uuid": "968395a4-12bc-46d2-b486-6c767abce366"
   },
   "outputs": [
    {
     "data": {
      "text/html": [
       "<div>\n",
       "<table border=\"1\" class=\"dataframe\">\n",
       "  <thead>\n",
       "    <tr style=\"text-align: right;\">\n",
       "      <th></th>\n",
       "      <th>No1</th>\n",
       "      <th>No2</th>\n",
       "      <th>No3</th>\n",
       "      <th>No4</th>\n",
       "    </tr>\n",
       "  </thead>\n",
       "  <tbody>\n",
       "    <tr>\n",
       "      <th>0</th>\n",
       "      <td>0.507572</td>\n",
       "      <td>0.517024</td>\n",
       "      <td>0.928512</td>\n",
       "      <td>-0.442114</td>\n",
       "    </tr>\n",
       "    <tr>\n",
       "      <th>1</th>\n",
       "      <td>-0.100898</td>\n",
       "      <td>-0.504059</td>\n",
       "      <td>0.750888</td>\n",
       "      <td>-0.355628</td>\n",
       "    </tr>\n",
       "    <tr>\n",
       "      <th>2</th>\n",
       "      <td>0.476485</td>\n",
       "      <td>-1.553533</td>\n",
       "      <td>-0.641864</td>\n",
       "      <td>0.366842</td>\n",
       "    </tr>\n",
       "    <tr>\n",
       "      <th>3</th>\n",
       "      <td>0.664050</td>\n",
       "      <td>-0.638227</td>\n",
       "      <td>-0.240518</td>\n",
       "      <td>-0.461165</td>\n",
       "    </tr>\n",
       "    <tr>\n",
       "      <th>4</th>\n",
       "      <td>0.459265</td>\n",
       "      <td>1.820760</td>\n",
       "      <td>-0.199404</td>\n",
       "      <td>0.142979</td>\n",
       "    </tr>\n",
       "    <tr>\n",
       "      <th>5</th>\n",
       "      <td>-0.546969</td>\n",
       "      <td>-0.522306</td>\n",
       "      <td>0.008874</td>\n",
       "      <td>-0.444842</td>\n",
       "    </tr>\n",
       "    <tr>\n",
       "      <th>6</th>\n",
       "      <td>0.344897</td>\n",
       "      <td>0.287707</td>\n",
       "      <td>0.249768</td>\n",
       "      <td>1.693614</td>\n",
       "    </tr>\n",
       "    <tr>\n",
       "      <th>7</th>\n",
       "      <td>1.716738</td>\n",
       "      <td>-0.267318</td>\n",
       "      <td>0.698416</td>\n",
       "      <td>0.708441</td>\n",
       "    </tr>\n",
       "    <tr>\n",
       "      <th>8</th>\n",
       "      <td>-0.029078</td>\n",
       "      <td>1.407865</td>\n",
       "      <td>-0.987566</td>\n",
       "      <td>-1.009189</td>\n",
       "    </tr>\n",
       "  </tbody>\n",
       "</table>\n",
       "</div>"
      ],
      "text/plain": [
       "        No1       No2       No3       No4\n",
       "0  0.507572  0.517024  0.928512 -0.442114\n",
       "1 -0.100898 -0.504059  0.750888 -0.355628\n",
       "2  0.476485 -1.553533 -0.641864  0.366842\n",
       "3  0.664050 -0.638227 -0.240518 -0.461165\n",
       "4  0.459265  1.820760 -0.199404  0.142979\n",
       "5 -0.546969 -0.522306  0.008874 -0.444842\n",
       "6  0.344897  0.287707  0.249768  1.693614\n",
       "7  1.716738 -0.267318  0.698416  0.708441\n",
       "8 -0.029078  1.407865 -0.987566 -1.009189"
      ]
     },
     "execution_count": 25,
     "metadata": {},
     "output_type": "execute_result"
    }
   ],
   "source": [
    "df.columns = [['No1', 'No2', 'No3', 'No4']]\n",
    "df"
   ]
  },
  {
   "cell_type": "code",
   "execution_count": 26,
   "metadata": {
    "collapsed": false,
    "uuid": "68e8d73f-93d3-47ac-a656-1edbdebcd1ff"
   },
   "outputs": [
    {
     "data": {
      "text/plain": [
       "-0.63822739005482465"
      ]
     },
     "execution_count": 26,
     "metadata": {},
     "output_type": "execute_result"
    }
   ],
   "source": [
    "df['No2'][3]  # value in column No2 at index position 3"
   ]
  },
  {
   "cell_type": "code",
   "execution_count": 27,
   "metadata": {
    "collapsed": false,
    "uuid": "a80e1e88-d211-4ee4-a6d3-90403a7739a8"
   },
   "outputs": [
    {
     "data": {
      "text/plain": [
       "DatetimeIndex(['2015-01-31', '2015-02-28', '2015-03-31', '2015-04-30',\n",
       "               '2015-05-31', '2015-06-30', '2015-07-31', '2015-08-31',\n",
       "               '2015-09-30'],\n",
       "              dtype='datetime64[ns]', freq='M')"
      ]
     },
     "execution_count": 27,
     "metadata": {},
     "output_type": "execute_result"
    }
   ],
   "source": [
    "# assume that our nine data entries in the four columns correspond to\n",
    "# month-end data, beginning in January 2015.\n",
    "\n",
    "# freq = 'M'     Month end frequency  (See Table 6.3)\n",
    "# periods = 9    number of periods \n",
    "\n",
    "dates = pd.date_range('2015-1-1', periods=9, freq='M')\n",
    "dates"
   ]
  },
  {
   "cell_type": "code",
   "execution_count": 28,
   "metadata": {
    "collapsed": false,
    "uuid": "d8fef9ed-25ca-4ae0-bd0c-026d340a903b"
   },
   "outputs": [
    {
     "data": {
      "text/html": [
       "<div>\n",
       "<table border=\"1\" class=\"dataframe\">\n",
       "  <thead>\n",
       "    <tr style=\"text-align: right;\">\n",
       "      <th></th>\n",
       "      <th>No1</th>\n",
       "      <th>No2</th>\n",
       "      <th>No3</th>\n",
       "      <th>No4</th>\n",
       "    </tr>\n",
       "  </thead>\n",
       "  <tbody>\n",
       "    <tr>\n",
       "      <th>2015-01-31</th>\n",
       "      <td>0.507572</td>\n",
       "      <td>0.517024</td>\n",
       "      <td>0.928512</td>\n",
       "      <td>-0.442114</td>\n",
       "    </tr>\n",
       "    <tr>\n",
       "      <th>2015-02-28</th>\n",
       "      <td>-0.100898</td>\n",
       "      <td>-0.504059</td>\n",
       "      <td>0.750888</td>\n",
       "      <td>-0.355628</td>\n",
       "    </tr>\n",
       "    <tr>\n",
       "      <th>2015-03-31</th>\n",
       "      <td>0.476485</td>\n",
       "      <td>-1.553533</td>\n",
       "      <td>-0.641864</td>\n",
       "      <td>0.366842</td>\n",
       "    </tr>\n",
       "    <tr>\n",
       "      <th>2015-04-30</th>\n",
       "      <td>0.664050</td>\n",
       "      <td>-0.638227</td>\n",
       "      <td>-0.240518</td>\n",
       "      <td>-0.461165</td>\n",
       "    </tr>\n",
       "    <tr>\n",
       "      <th>2015-05-31</th>\n",
       "      <td>0.459265</td>\n",
       "      <td>1.820760</td>\n",
       "      <td>-0.199404</td>\n",
       "      <td>0.142979</td>\n",
       "    </tr>\n",
       "    <tr>\n",
       "      <th>2015-06-30</th>\n",
       "      <td>-0.546969</td>\n",
       "      <td>-0.522306</td>\n",
       "      <td>0.008874</td>\n",
       "      <td>-0.444842</td>\n",
       "    </tr>\n",
       "    <tr>\n",
       "      <th>2015-07-31</th>\n",
       "      <td>0.344897</td>\n",
       "      <td>0.287707</td>\n",
       "      <td>0.249768</td>\n",
       "      <td>1.693614</td>\n",
       "    </tr>\n",
       "    <tr>\n",
       "      <th>2015-08-31</th>\n",
       "      <td>1.716738</td>\n",
       "      <td>-0.267318</td>\n",
       "      <td>0.698416</td>\n",
       "      <td>0.708441</td>\n",
       "    </tr>\n",
       "    <tr>\n",
       "      <th>2015-09-30</th>\n",
       "      <td>-0.029078</td>\n",
       "      <td>1.407865</td>\n",
       "      <td>-0.987566</td>\n",
       "      <td>-1.009189</td>\n",
       "    </tr>\n",
       "  </tbody>\n",
       "</table>\n",
       "</div>"
      ],
      "text/plain": [
       "                 No1       No2       No3       No4\n",
       "2015-01-31  0.507572  0.517024  0.928512 -0.442114\n",
       "2015-02-28 -0.100898 -0.504059  0.750888 -0.355628\n",
       "2015-03-31  0.476485 -1.553533 -0.641864  0.366842\n",
       "2015-04-30  0.664050 -0.638227 -0.240518 -0.461165\n",
       "2015-05-31  0.459265  1.820760 -0.199404  0.142979\n",
       "2015-06-30 -0.546969 -0.522306  0.008874 -0.444842\n",
       "2015-07-31  0.344897  0.287707  0.249768  1.693614\n",
       "2015-08-31  1.716738 -0.267318  0.698416  0.708441\n",
       "2015-09-30 -0.029078  1.407865 -0.987566 -1.009189"
      ]
     },
     "execution_count": 28,
     "metadata": {},
     "output_type": "execute_result"
    }
   ],
   "source": [
    "# we assign the newly generated DatetimeIndex \n",
    "# as the new Index object to the DataFrame object\n",
    "\n",
    "df.index = dates\n",
    "df"
   ]
  },
  {
   "cell_type": "code",
   "execution_count": 29,
   "metadata": {
    "collapsed": false,
    "uuid": "bcc38d60-3e1c-49bb-b883-ea7564c136b4"
   },
   "outputs": [
    {
     "data": {
      "text/plain": [
       "array([[ 0.507572,  0.517024,  0.928512, -0.442114],\n",
       "       [-0.100898, -0.504059,  0.750888, -0.355628],\n",
       "       [ 0.476485, -1.553533, -0.641864,  0.366842],\n",
       "       [ 0.66405 , -0.638227, -0.240518, -0.461165],\n",
       "       [ 0.459265,  1.82076 , -0.199404,  0.142979],\n",
       "       [-0.546969, -0.522306,  0.008874, -0.444842],\n",
       "       [ 0.344897,  0.287707,  0.249768,  1.693614],\n",
       "       [ 1.716738, -0.267318,  0.698416,  0.708441],\n",
       "       [-0.029078,  1.407865, -0.987566, -1.009189]])"
      ]
     },
     "execution_count": 29,
     "metadata": {},
     "output_type": "execute_result"
    }
   ],
   "source": [
    "# You can generate a DataFrame object in general from an ndarray object. \n",
    "# You can also generate an ndarray object out of a DataFrame by using the function array of NumPy.\n",
    "\n",
    "np.array(df).round(6)"
   ]
  },
  {
   "cell_type": "markdown",
   "metadata": {},
   "source": [
    "### Basic Analytics"
   ]
  },
  {
   "cell_type": "code",
   "execution_count": 30,
   "metadata": {
    "collapsed": false,
    "uuid": "f760ea25-c64c-4e70-9f91-b72701d919ce"
   },
   "outputs": [
    {
     "data": {
      "text/plain": [
       "No1    3.492063\n",
       "No2    0.547913\n",
       "No3    0.567106\n",
       "No4    0.198939\n",
       "dtype: float64"
      ]
     },
     "execution_count": 30,
     "metadata": {},
     "output_type": "execute_result"
    }
   ],
   "source": [
    "df.sum()   # column-wise sums"
   ]
  },
  {
   "cell_type": "code",
   "execution_count": 31,
   "metadata": {
    "collapsed": false,
    "uuid": "3dd9bd77-eb80-46cb-87f3-62c053a8e223"
   },
   "outputs": [
    {
     "data": {
      "text/plain": [
       "No1    0.388007\n",
       "No2    0.060879\n",
       "No3    0.063012\n",
       "No4    0.022104\n",
       "dtype: float64"
      ]
     },
     "execution_count": 31,
     "metadata": {},
     "output_type": "execute_result"
    }
   ],
   "source": [
    "df.mean()   # column-wise means"
   ]
  },
  {
   "cell_type": "code",
   "execution_count": 32,
   "metadata": {
    "collapsed": false,
    "uuid": "8e167ea8-09b7-4585-8cac-28fe20eefe66"
   },
   "outputs": [
    {
     "data": {
      "text/html": [
       "<div>\n",
       "<table border=\"1\" class=\"dataframe\">\n",
       "  <thead>\n",
       "    <tr style=\"text-align: right;\">\n",
       "      <th></th>\n",
       "      <th>No1</th>\n",
       "      <th>No2</th>\n",
       "      <th>No3</th>\n",
       "      <th>No4</th>\n",
       "    </tr>\n",
       "  </thead>\n",
       "  <tbody>\n",
       "    <tr>\n",
       "      <th>2015-01-31</th>\n",
       "      <td>0.507572</td>\n",
       "      <td>0.517024</td>\n",
       "      <td>0.928512</td>\n",
       "      <td>-0.442114</td>\n",
       "    </tr>\n",
       "    <tr>\n",
       "      <th>2015-02-28</th>\n",
       "      <td>0.406674</td>\n",
       "      <td>0.012965</td>\n",
       "      <td>1.679400</td>\n",
       "      <td>-0.797741</td>\n",
       "    </tr>\n",
       "    <tr>\n",
       "      <th>2015-03-31</th>\n",
       "      <td>0.883160</td>\n",
       "      <td>-1.540568</td>\n",
       "      <td>1.037536</td>\n",
       "      <td>-0.430899</td>\n",
       "    </tr>\n",
       "    <tr>\n",
       "      <th>2015-04-30</th>\n",
       "      <td>1.547210</td>\n",
       "      <td>-2.178796</td>\n",
       "      <td>0.797018</td>\n",
       "      <td>-0.892065</td>\n",
       "    </tr>\n",
       "    <tr>\n",
       "      <th>2015-05-31</th>\n",
       "      <td>2.006474</td>\n",
       "      <td>-0.358035</td>\n",
       "      <td>0.597614</td>\n",
       "      <td>-0.749085</td>\n",
       "    </tr>\n",
       "    <tr>\n",
       "      <th>2015-06-30</th>\n",
       "      <td>1.459505</td>\n",
       "      <td>-0.880342</td>\n",
       "      <td>0.606488</td>\n",
       "      <td>-1.193927</td>\n",
       "    </tr>\n",
       "    <tr>\n",
       "      <th>2015-07-31</th>\n",
       "      <td>1.804402</td>\n",
       "      <td>-0.592635</td>\n",
       "      <td>0.856256</td>\n",
       "      <td>0.499687</td>\n",
       "    </tr>\n",
       "    <tr>\n",
       "      <th>2015-08-31</th>\n",
       "      <td>3.521140</td>\n",
       "      <td>-0.859953</td>\n",
       "      <td>1.554672</td>\n",
       "      <td>1.208128</td>\n",
       "    </tr>\n",
       "    <tr>\n",
       "      <th>2015-09-30</th>\n",
       "      <td>3.492063</td>\n",
       "      <td>0.547913</td>\n",
       "      <td>0.567106</td>\n",
       "      <td>0.198939</td>\n",
       "    </tr>\n",
       "  </tbody>\n",
       "</table>\n",
       "</div>"
      ],
      "text/plain": [
       "                 No1       No2       No3       No4\n",
       "2015-01-31  0.507572  0.517024  0.928512 -0.442114\n",
       "2015-02-28  0.406674  0.012965  1.679400 -0.797741\n",
       "2015-03-31  0.883160 -1.540568  1.037536 -0.430899\n",
       "2015-04-30  1.547210 -2.178796  0.797018 -0.892065\n",
       "2015-05-31  2.006474 -0.358035  0.597614 -0.749085\n",
       "2015-06-30  1.459505 -0.880342  0.606488 -1.193927\n",
       "2015-07-31  1.804402 -0.592635  0.856256  0.499687\n",
       "2015-08-31  3.521140 -0.859953  1.554672  1.208128\n",
       "2015-09-30  3.492063  0.547913  0.567106  0.198939"
      ]
     },
     "execution_count": 32,
     "metadata": {},
     "output_type": "execute_result"
    }
   ],
   "source": [
    "df.cumsum()  #column-wise cumulative sums"
   ]
  },
  {
   "cell_type": "code",
   "execution_count": 33,
   "metadata": {
    "collapsed": false,
    "uuid": "125980cc-91ec-4ab4-9a4a-cfd772dd1254"
   },
   "outputs": [
    {
     "data": {
      "text/html": [
       "<div>\n",
       "<table border=\"1\" class=\"dataframe\">\n",
       "  <thead>\n",
       "    <tr style=\"text-align: right;\">\n",
       "      <th></th>\n",
       "      <th>No1</th>\n",
       "      <th>No2</th>\n",
       "      <th>No3</th>\n",
       "      <th>No4</th>\n",
       "    </tr>\n",
       "  </thead>\n",
       "  <tbody>\n",
       "    <tr>\n",
       "      <th>count</th>\n",
       "      <td>9.000000</td>\n",
       "      <td>9.000000</td>\n",
       "      <td>9.000000</td>\n",
       "      <td>9.000000</td>\n",
       "    </tr>\n",
       "    <tr>\n",
       "      <th>mean</th>\n",
       "      <td>0.388007</td>\n",
       "      <td>0.060879</td>\n",
       "      <td>0.063012</td>\n",
       "      <td>0.022104</td>\n",
       "    </tr>\n",
       "    <tr>\n",
       "      <th>std</th>\n",
       "      <td>0.628287</td>\n",
       "      <td>1.062610</td>\n",
       "      <td>0.654348</td>\n",
       "      <td>0.811772</td>\n",
       "    </tr>\n",
       "    <tr>\n",
       "      <th>min</th>\n",
       "      <td>-0.546969</td>\n",
       "      <td>-1.553533</td>\n",
       "      <td>-0.987566</td>\n",
       "      <td>-1.009189</td>\n",
       "    </tr>\n",
       "    <tr>\n",
       "      <th>25%</th>\n",
       "      <td>-0.029078</td>\n",
       "      <td>-0.522306</td>\n",
       "      <td>-0.240518</td>\n",
       "      <td>-0.444842</td>\n",
       "    </tr>\n",
       "    <tr>\n",
       "      <th>50%</th>\n",
       "      <td>0.459265</td>\n",
       "      <td>-0.267318</td>\n",
       "      <td>0.008874</td>\n",
       "      <td>-0.355628</td>\n",
       "    </tr>\n",
       "    <tr>\n",
       "      <th>75%</th>\n",
       "      <td>0.507572</td>\n",
       "      <td>0.517024</td>\n",
       "      <td>0.698416</td>\n",
       "      <td>0.366842</td>\n",
       "    </tr>\n",
       "    <tr>\n",
       "      <th>max</th>\n",
       "      <td>1.716738</td>\n",
       "      <td>1.820760</td>\n",
       "      <td>0.928512</td>\n",
       "      <td>1.693614</td>\n",
       "    </tr>\n",
       "  </tbody>\n",
       "</table>\n",
       "</div>"
      ],
      "text/plain": [
       "            No1       No2       No3       No4\n",
       "count  9.000000  9.000000  9.000000  9.000000\n",
       "mean   0.388007  0.060879  0.063012  0.022104\n",
       "std    0.628287  1.062610  0.654348  0.811772\n",
       "min   -0.546969 -1.553533 -0.987566 -1.009189\n",
       "25%   -0.029078 -0.522306 -0.240518 -0.444842\n",
       "50%    0.459265 -0.267318  0.008874 -0.355628\n",
       "75%    0.507572  0.517024  0.698416  0.366842\n",
       "max    1.716738  1.820760  0.928512  1.693614"
      ]
     },
     "execution_count": 33,
     "metadata": {},
     "output_type": "execute_result"
    }
   ],
   "source": [
    "df.describe()   # a number of often-used statistics for numerical data sets"
   ]
  },
  {
   "cell_type": "code",
   "execution_count": 34,
   "metadata": {
    "collapsed": false,
    "uuid": "9dfc1e40-c030-4a9c-9e3a-ff28c64a93df"
   },
   "outputs": [
    {
     "data": {
      "text/html": [
       "<div>\n",
       "<table border=\"1\" class=\"dataframe\">\n",
       "  <thead>\n",
       "    <tr style=\"text-align: right;\">\n",
       "      <th></th>\n",
       "      <th>No1</th>\n",
       "      <th>No2</th>\n",
       "      <th>No3</th>\n",
       "      <th>No4</th>\n",
       "    </tr>\n",
       "  </thead>\n",
       "  <tbody>\n",
       "    <tr>\n",
       "      <th>2015-01-31</th>\n",
       "      <td>0.712441</td>\n",
       "      <td>0.719044</td>\n",
       "      <td>0.963593</td>\n",
       "      <td>NaN</td>\n",
       "    </tr>\n",
       "    <tr>\n",
       "      <th>2015-02-28</th>\n",
       "      <td>NaN</td>\n",
       "      <td>NaN</td>\n",
       "      <td>0.866538</td>\n",
       "      <td>NaN</td>\n",
       "    </tr>\n",
       "    <tr>\n",
       "      <th>2015-03-31</th>\n",
       "      <td>0.690279</td>\n",
       "      <td>NaN</td>\n",
       "      <td>NaN</td>\n",
       "      <td>0.605675</td>\n",
       "    </tr>\n",
       "    <tr>\n",
       "      <th>2015-04-30</th>\n",
       "      <td>0.814893</td>\n",
       "      <td>NaN</td>\n",
       "      <td>NaN</td>\n",
       "      <td>NaN</td>\n",
       "    </tr>\n",
       "    <tr>\n",
       "      <th>2015-05-31</th>\n",
       "      <td>0.677691</td>\n",
       "      <td>1.349356</td>\n",
       "      <td>NaN</td>\n",
       "      <td>0.378126</td>\n",
       "    </tr>\n",
       "    <tr>\n",
       "      <th>2015-06-30</th>\n",
       "      <td>NaN</td>\n",
       "      <td>NaN</td>\n",
       "      <td>0.094201</td>\n",
       "      <td>NaN</td>\n",
       "    </tr>\n",
       "    <tr>\n",
       "      <th>2015-07-31</th>\n",
       "      <td>0.587279</td>\n",
       "      <td>0.536383</td>\n",
       "      <td>0.499768</td>\n",
       "      <td>1.301389</td>\n",
       "    </tr>\n",
       "    <tr>\n",
       "      <th>2015-08-31</th>\n",
       "      <td>1.310244</td>\n",
       "      <td>NaN</td>\n",
       "      <td>0.835713</td>\n",
       "      <td>0.841689</td>\n",
       "    </tr>\n",
       "    <tr>\n",
       "      <th>2015-09-30</th>\n",
       "      <td>NaN</td>\n",
       "      <td>1.186535</td>\n",
       "      <td>NaN</td>\n",
       "      <td>NaN</td>\n",
       "    </tr>\n",
       "  </tbody>\n",
       "</table>\n",
       "</div>"
      ],
      "text/plain": [
       "                 No1       No2       No3       No4\n",
       "2015-01-31  0.712441  0.719044  0.963593       NaN\n",
       "2015-02-28       NaN       NaN  0.866538       NaN\n",
       "2015-03-31  0.690279       NaN       NaN  0.605675\n",
       "2015-04-30  0.814893       NaN       NaN       NaN\n",
       "2015-05-31  0.677691  1.349356       NaN  0.378126\n",
       "2015-06-30       NaN       NaN  0.094201       NaN\n",
       "2015-07-31  0.587279  0.536383  0.499768  1.301389\n",
       "2015-08-31  1.310244       NaN  0.835713  0.841689\n",
       "2015-09-30       NaN  1.186535       NaN       NaN"
      ]
     },
     "execution_count": 34,
     "metadata": {},
     "output_type": "execute_result"
    }
   ],
   "source": [
    "# You can  apply the majority of NumPy universal functions to DataFrame objects\n",
    "\n",
    "np.sqrt(df)"
   ]
  },
  {
   "cell_type": "code",
   "execution_count": 35,
   "metadata": {
    "collapsed": false,
    "uuid": "a540362b-50d7-4ef0-89ba-0b6ee38033f6"
   },
   "outputs": [
    {
     "data": {
      "text/plain": [
       "No1    4.792826\n",
       "No2    3.791318\n",
       "No3    3.259813\n",
       "No4    3.126879\n",
       "dtype: float64"
      ]
     },
     "execution_count": 35,
     "metadata": {},
     "output_type": "execute_result"
    }
   ],
   "source": [
    "# pandas leaves out the NaN values and only works with the other available values\n",
    "\n",
    "np.sqrt(df).sum()"
   ]
  },
  {
   "cell_type": "code",
   "execution_count": 36,
   "metadata": {
    "collapsed": false,
    "uuid": "4b1834ec-9f9b-41d6-8d06-f2efc8433dc4"
   },
   "outputs": [
    {
     "data": {
      "text/plain": [
       "<matplotlib.axes._subplots.AxesSubplot at 0x23890c2d9e8>"
      ]
     },
     "execution_count": 36,
     "metadata": {},
     "output_type": "execute_result"
    },
    {
     "data": {
      "image/png": "[encoded data removed]",
      "text/plain": [
       "<matplotlib.figure.Figure at 0x238903c7358>"
      ]
     },
     "metadata": {},
     "output_type": "display_data"
    }
   ],
   "source": [
    "# Plotting of data\n",
    "# pandas provides a wrapper around matplotplib, specifically designed for DataFrame objects\n",
    "\n",
    "# Parameters of plot method are listed in table 6.4\n",
    "#  subplots  Boolean, default False    Plot columns in subplots\n",
    "#  grid      Boolean, default False    Horizontal and vertical grid lines\n",
    "#  title     String, default None      Title for the plot\n",
    "#  legend    Boolean, default True     Legend of labels\n",
    "#  logx      Boolean, default False    Logarithmic scaling of x-axis\n",
    "#  logy      Boolean, default False    Logarithmic scaling of y-axis\n",
    "#  xlim      2-tuple, list             Boundaries for x-axis\n",
    "#  ylim      2-tuple, list             Boundaries for y-axis\n",
    "#    etc...\n",
    "\n",
    "%matplotlib inline\n",
    "df.cumsum().plot(lw=2.0, # subplots = True\n",
    "                 grid = True)\n",
    "# title: Line plot of a DataFrame object"
   ]
  },
  {
   "cell_type": "markdown",
   "metadata": {},
   "source": [
    "### TimeSeries Class"
   ]
  },
  {
   "cell_type": "code",
   "execution_count": 37,
   "metadata": {
    "collapsed": false,
    "uuid": "e86f82d1-5934-42d3-a986-f01bc829adaa"
   },
   "outputs": [
    {
     "data": {
      "text/plain": [
       "pandas.core.frame.DataFrame"
      ]
     },
     "execution_count": 37,
     "metadata": {},
     "output_type": "execute_result"
    }
   ],
   "source": [
    "# we have worked mainly with the pandas DataFrame class\n",
    "\n",
    "type(df)"
   ]
  },
  {
   "cell_type": "code",
   "execution_count": 38,
   "metadata": {
    "collapsed": false,
    "uuid": "bcebc814-623d-4e8a-81e9-314ab36a7429"
   },
   "outputs": [
    {
     "data": {
      "text/plain": [
       "2015-01-31    0.507572\n",
       "2015-02-28   -0.100898\n",
       "2015-03-31    0.476485\n",
       "2015-04-30    0.664050\n",
       "2015-05-31    0.459265\n",
       "2015-06-30   -0.546969\n",
       "2015-07-31    0.344897\n",
       "2015-08-31    1.716738\n",
       "2015-09-30   -0.029078\n",
       "Freq: M, Name: No1, dtype: float64"
      ]
     },
     "execution_count": 38,
     "metadata": {},
     "output_type": "execute_result"
    }
   ],
   "source": [
    "# there is  a dedicated Series class. We get a Series object, \n",
    "# for example, when selecting a single column from our DataFrame object\n",
    "\n",
    "df['No1']"
   ]
  },
  {
   "cell_type": "code",
   "execution_count": 39,
   "metadata": {
    "collapsed": false,
    "uuid": "ca241ef9-5359-4c89-bc92-be6346cb3959"
   },
   "outputs": [
    {
     "data": {
      "text/plain": [
       "pandas.core.series.Series"
      ]
     },
     "execution_count": 39,
     "metadata": {},
     "output_type": "execute_result"
    }
   ],
   "source": [
    "type(df['No1'])"
   ]
  },
  {
   "cell_type": "code",
   "execution_count": 40,
   "metadata": {
    "collapsed": false,
    "uuid": "b3d4cc90-e499-459c-88a5-011fde80d864"
   },
   "outputs": [
    {
     "data": {
      "text/plain": [
       "<matplotlib.text.Text at 0x238913cb518>"
      ]
     },
     "execution_count": 40,
     "metadata": {},
     "output_type": "execute_result"
    },
    {
     "data": {
      "image/png": "[encoded data removed]",
      "text/plain": [
       "<matplotlib.figure.Figure at 0x23890d127b8>"
      ]
     },
     "metadata": {},
     "output_type": "display_data"
    }
   ],
   "source": [
    "# we can plot Series objets\n",
    "# style = 'b'     blue line   \n",
    "\n",
    "%matplotlib inline\n",
    "import matplotlib.pyplot as plt\n",
    "df['No1'].cumsum().plot(style='b', lw=2.)\n",
    "plt.xlabel('date')\n",
    "plt.ylabel('value')\n",
    "plt.grid()\n",
    "plt.title(\"Line plot of a TimeSeries object\")\n",
    "# title: Line plot of a TimeSeries object"
   ]
  },
  {
   "cell_type": "markdown",
   "metadata": {},
   "source": [
    "### GroupBy Operations"
   ]
  },
  {
   "cell_type": "code",
   "execution_count": 41,
   "metadata": {
    "collapsed": false,
    "uuid": "4bc106dd-9590-4566-bc70-d410517c8223"
   },
   "outputs": [
    {
     "data": {
      "text/html": [
       "<div>\n",
       "<table border=\"1\" class=\"dataframe\">\n",
       "  <thead>\n",
       "    <tr style=\"text-align: right;\">\n",
       "      <th></th>\n",
       "      <th>No1</th>\n",
       "      <th>No2</th>\n",
       "      <th>No3</th>\n",
       "      <th>No4</th>\n",
       "      <th>Quarter</th>\n",
       "    </tr>\n",
       "  </thead>\n",
       "  <tbody>\n",
       "    <tr>\n",
       "      <th>2015-01-31</th>\n",
       "      <td>0.507572</td>\n",
       "      <td>0.517024</td>\n",
       "      <td>0.928512</td>\n",
       "      <td>-0.442114</td>\n",
       "      <td>Q1</td>\n",
       "    </tr>\n",
       "    <tr>\n",
       "      <th>2015-02-28</th>\n",
       "      <td>-0.100898</td>\n",
       "      <td>-0.504059</td>\n",
       "      <td>0.750888</td>\n",
       "      <td>-0.355628</td>\n",
       "      <td>Q1</td>\n",
       "    </tr>\n",
       "    <tr>\n",
       "      <th>2015-03-31</th>\n",
       "      <td>0.476485</td>\n",
       "      <td>-1.553533</td>\n",
       "      <td>-0.641864</td>\n",
       "      <td>0.366842</td>\n",
       "      <td>Q1</td>\n",
       "    </tr>\n",
       "    <tr>\n",
       "      <th>2015-04-30</th>\n",
       "      <td>0.664050</td>\n",
       "      <td>-0.638227</td>\n",
       "      <td>-0.240518</td>\n",
       "      <td>-0.461165</td>\n",
       "      <td>Q2</td>\n",
       "    </tr>\n",
       "    <tr>\n",
       "      <th>2015-05-31</th>\n",
       "      <td>0.459265</td>\n",
       "      <td>1.820760</td>\n",
       "      <td>-0.199404</td>\n",
       "      <td>0.142979</td>\n",
       "      <td>Q2</td>\n",
       "    </tr>\n",
       "    <tr>\n",
       "      <th>2015-06-30</th>\n",
       "      <td>-0.546969</td>\n",
       "      <td>-0.522306</td>\n",
       "      <td>0.008874</td>\n",
       "      <td>-0.444842</td>\n",
       "      <td>Q2</td>\n",
       "    </tr>\n",
       "    <tr>\n",
       "      <th>2015-07-31</th>\n",
       "      <td>0.344897</td>\n",
       "      <td>0.287707</td>\n",
       "      <td>0.249768</td>\n",
       "      <td>1.693614</td>\n",
       "      <td>Q3</td>\n",
       "    </tr>\n",
       "    <tr>\n",
       "      <th>2015-08-31</th>\n",
       "      <td>1.716738</td>\n",
       "      <td>-0.267318</td>\n",
       "      <td>0.698416</td>\n",
       "      <td>0.708441</td>\n",
       "      <td>Q3</td>\n",
       "    </tr>\n",
       "    <tr>\n",
       "      <th>2015-09-30</th>\n",
       "      <td>-0.029078</td>\n",
       "      <td>1.407865</td>\n",
       "      <td>-0.987566</td>\n",
       "      <td>-1.009189</td>\n",
       "      <td>Q3</td>\n",
       "    </tr>\n",
       "  </tbody>\n",
       "</table>\n",
       "</div>"
      ],
      "text/plain": [
       "                 No1       No2       No3       No4 Quarter\n",
       "2015-01-31  0.507572  0.517024  0.928512 -0.442114      Q1\n",
       "2015-02-28 -0.100898 -0.504059  0.750888 -0.355628      Q1\n",
       "2015-03-31  0.476485 -1.553533 -0.641864  0.366842      Q1\n",
       "2015-04-30  0.664050 -0.638227 -0.240518 -0.461165      Q2\n",
       "2015-05-31  0.459265  1.820760 -0.199404  0.142979      Q2\n",
       "2015-06-30 -0.546969 -0.522306  0.008874 -0.444842      Q2\n",
       "2015-07-31  0.344897  0.287707  0.249768  1.693614      Q3\n",
       "2015-08-31  1.716738 -0.267318  0.698416  0.708441      Q3\n",
       "2015-09-30 -0.029078  1.407865 -0.987566 -1.009189      Q3"
      ]
     },
     "execution_count": 41,
     "metadata": {},
     "output_type": "execute_result"
    }
   ],
   "source": [
    "# pandas has powerful and flexible grouping capabilities\n",
    "# similar to grouping in SQL as well as pivot tables in Microsoft Excel\n",
    "\n",
    "# To have something to group by, we add a column \n",
    "# indicating the quarter the respective data\n",
    "\n",
    "df['Quarter'] = ['Q1', 'Q1', 'Q1', 'Q2', 'Q2', 'Q2', 'Q3', 'Q3', 'Q3']\n",
    "df"
   ]
  },
  {
   "cell_type": "code",
   "execution_count": 45,
   "metadata": {
    "collapsed": false,
    "uuid": "41c1962a-05ba-4c0f-b017-e6873e2d245e"
   },
   "outputs": [],
   "source": [
    "# Now, we can group by the “Quarter” column\n",
    "\n",
    "groups = df.groupby('Quarter')"
   ]
  },
  {
   "cell_type": "code",
   "execution_count": 46,
   "metadata": {
    "collapsed": false,
    "uuid": "804e567f-6b74-4405-a10e-d19d914655e7"
   },
   "outputs": [
    {
     "data": {
      "text/html": [
       "<div>\n",
       "<table border=\"1\" class=\"dataframe\">\n",
       "  <thead>\n",
       "    <tr style=\"text-align: right;\">\n",
       "      <th></th>\n",
       "      <th>No1</th>\n",
       "      <th>No2</th>\n",
       "      <th>No3</th>\n",
       "      <th>No4</th>\n",
       "    </tr>\n",
       "    <tr>\n",
       "      <th>Quarter</th>\n",
       "      <th></th>\n",
       "      <th></th>\n",
       "      <th></th>\n",
       "      <th></th>\n",
       "    </tr>\n",
       "  </thead>\n",
       "  <tbody>\n",
       "    <tr>\n",
       "      <th>Q1</th>\n",
       "      <td>0.294387</td>\n",
       "      <td>-0.513523</td>\n",
       "      <td>0.345845</td>\n",
       "      <td>-0.143633</td>\n",
       "    </tr>\n",
       "    <tr>\n",
       "      <th>Q2</th>\n",
       "      <td>0.192115</td>\n",
       "      <td>0.220075</td>\n",
       "      <td>-0.143683</td>\n",
       "      <td>-0.254343</td>\n",
       "    </tr>\n",
       "    <tr>\n",
       "      <th>Q3</th>\n",
       "      <td>0.677519</td>\n",
       "      <td>0.476085</td>\n",
       "      <td>-0.013127</td>\n",
       "      <td>0.464289</td>\n",
       "    </tr>\n",
       "  </tbody>\n",
       "</table>\n",
       "</div>"
      ],
      "text/plain": [
       "              No1       No2       No3       No4\n",
       "Quarter                                        \n",
       "Q1       0.294387 -0.513523  0.345845 -0.143633\n",
       "Q2       0.192115  0.220075 -0.143683 -0.254343\n",
       "Q3       0.677519  0.476085 -0.013127  0.464289"
      ]
     },
     "execution_count": 46,
     "metadata": {},
     "output_type": "execute_result"
    }
   ],
   "source": [
    "# get the meanof every group bucket\n",
    "\n",
    "groups.mean()"
   ]
  },
  {
   "cell_type": "code",
   "execution_count": 47,
   "metadata": {
    "collapsed": false,
    "uuid": "7eb45e5c-b86f-4464-afd9-d5a3665e0f8e"
   },
   "outputs": [
    {
     "data": {
      "text/html": [
       "<div>\n",
       "<table border=\"1\" class=\"dataframe\">\n",
       "  <thead>\n",
       "    <tr style=\"text-align: right;\">\n",
       "      <th></th>\n",
       "      <th>No1</th>\n",
       "      <th>No2</th>\n",
       "      <th>No3</th>\n",
       "      <th>No4</th>\n",
       "    </tr>\n",
       "    <tr>\n",
       "      <th>Quarter</th>\n",
       "      <th></th>\n",
       "      <th></th>\n",
       "      <th></th>\n",
       "      <th></th>\n",
       "    </tr>\n",
       "  </thead>\n",
       "  <tbody>\n",
       "    <tr>\n",
       "      <th>Q1</th>\n",
       "      <td>0.507572</td>\n",
       "      <td>0.517024</td>\n",
       "      <td>0.928512</td>\n",
       "      <td>0.366842</td>\n",
       "    </tr>\n",
       "    <tr>\n",
       "      <th>Q2</th>\n",
       "      <td>0.664050</td>\n",
       "      <td>1.820760</td>\n",
       "      <td>0.008874</td>\n",
       "      <td>0.142979</td>\n",
       "    </tr>\n",
       "    <tr>\n",
       "      <th>Q3</th>\n",
       "      <td>1.716738</td>\n",
       "      <td>1.407865</td>\n",
       "      <td>0.698416</td>\n",
       "      <td>1.693614</td>\n",
       "    </tr>\n",
       "  </tbody>\n",
       "</table>\n",
       "</div>"
      ],
      "text/plain": [
       "              No1       No2       No3       No4\n",
       "Quarter                                        \n",
       "Q1       0.507572  0.517024  0.928512  0.366842\n",
       "Q2       0.664050  1.820760  0.008874  0.142979\n",
       "Q3       1.716738  1.407865  0.698416  1.693614"
      ]
     },
     "execution_count": 47,
     "metadata": {},
     "output_type": "execute_result"
    }
   ],
   "source": [
    "# get the max of every group bucket\n",
    "\n",
    "groups.max()"
   ]
  },
  {
   "cell_type": "code",
   "execution_count": 48,
   "metadata": {
    "collapsed": false,
    "uuid": "a871b95e-5946-4b09-b8dc-bc9503d2ff14"
   },
   "outputs": [
    {
     "data": {
      "text/plain": [
       "Quarter\n",
       "Q1    3\n",
       "Q2    3\n",
       "Q3    3\n",
       "dtype: int64"
      ]
     },
     "execution_count": 48,
     "metadata": {},
     "output_type": "execute_result"
    }
   ],
   "source": [
    "# get the size of every group bucket\n",
    "\n",
    "groups.size()"
   ]
  },
  {
   "cell_type": "code",
   "execution_count": 49,
   "metadata": {
    "collapsed": false,
    "uuid": "542cf99a-bbf8-447e-9643-d6887ac74be7"
   },
   "outputs": [],
   "source": [
    "# Grouping can also be done with multiple columns. \n",
    "# add another column, indicating whether the month of the index date is odd or even\n",
    "\n",
    "df['Odd_Even'] = ['Odd', 'Even', 'Odd', 'Even', 'Odd', 'Even',\n",
    "                  'Odd', 'Even', 'Odd']"
   ]
  },
  {
   "cell_type": "code",
   "execution_count": 50,
   "metadata": {
    "collapsed": false,
    "uuid": "f5144c9f-ff37-4e35-9417-e39debdcd45b"
   },
   "outputs": [],
   "source": [
    "# grouping based on two columns simultaneously\n",
    "\n",
    "groups = df.groupby(['Quarter', 'Odd_Even'])"
   ]
  },
  {
   "cell_type": "code",
   "execution_count": 51,
   "metadata": {
    "collapsed": false,
    "uuid": "06904508-dbf1-431f-a3a2-681f29f03c51"
   },
   "outputs": [
    {
     "data": {
      "text/plain": [
       "Quarter  Odd_Even\n",
       "Q1       Even        1\n",
       "         Odd         2\n",
       "Q2       Even        2\n",
       "         Odd         1\n",
       "Q3       Even        1\n",
       "         Odd         2\n",
       "dtype: int64"
      ]
     },
     "execution_count": 51,
     "metadata": {},
     "output_type": "execute_result"
    }
   ],
   "source": [
    "groups.size()"
   ]
  },
  {
   "cell_type": "code",
   "execution_count": 52,
   "metadata": {
    "collapsed": false,
    "uuid": "b8471956-40fc-4203-a54a-aaa45f5a3c00"
   },
   "outputs": [
    {
     "data": {
      "text/html": [
       "<div>\n",
       "<table border=\"1\" class=\"dataframe\">\n",
       "  <thead>\n",
       "    <tr style=\"text-align: right;\">\n",
       "      <th></th>\n",
       "      <th></th>\n",
       "      <th>No1</th>\n",
       "      <th>No2</th>\n",
       "      <th>No3</th>\n",
       "      <th>No4</th>\n",
       "    </tr>\n",
       "    <tr>\n",
       "      <th>Quarter</th>\n",
       "      <th>Odd_Even</th>\n",
       "      <th></th>\n",
       "      <th></th>\n",
       "      <th></th>\n",
       "      <th></th>\n",
       "    </tr>\n",
       "  </thead>\n",
       "  <tbody>\n",
       "    <tr>\n",
       "      <th rowspan=\"2\" valign=\"top\">Q1</th>\n",
       "      <th>Even</th>\n",
       "      <td>-0.100898</td>\n",
       "      <td>-0.504059</td>\n",
       "      <td>0.750888</td>\n",
       "      <td>-0.355628</td>\n",
       "    </tr>\n",
       "    <tr>\n",
       "      <th>Odd</th>\n",
       "      <td>0.492029</td>\n",
       "      <td>-0.518254</td>\n",
       "      <td>0.143324</td>\n",
       "      <td>-0.037636</td>\n",
       "    </tr>\n",
       "    <tr>\n",
       "      <th rowspan=\"2\" valign=\"top\">Q2</th>\n",
       "      <th>Even</th>\n",
       "      <td>0.058540</td>\n",
       "      <td>-0.580267</td>\n",
       "      <td>-0.115822</td>\n",
       "      <td>-0.453003</td>\n",
       "    </tr>\n",
       "    <tr>\n",
       "      <th>Odd</th>\n",
       "      <td>0.459265</td>\n",
       "      <td>1.820760</td>\n",
       "      <td>-0.199404</td>\n",
       "      <td>0.142979</td>\n",
       "    </tr>\n",
       "    <tr>\n",
       "      <th rowspan=\"2\" valign=\"top\">Q3</th>\n",
       "      <th>Even</th>\n",
       "      <td>1.716738</td>\n",
       "      <td>-0.267318</td>\n",
       "      <td>0.698416</td>\n",
       "      <td>0.708441</td>\n",
       "    </tr>\n",
       "    <tr>\n",
       "      <th>Odd</th>\n",
       "      <td>0.157910</td>\n",
       "      <td>0.847786</td>\n",
       "      <td>-0.368899</td>\n",
       "      <td>0.342213</td>\n",
       "    </tr>\n",
       "  </tbody>\n",
       "</table>\n",
       "</div>"
      ],
      "text/plain": [
       "                       No1       No2       No3       No4\n",
       "Quarter Odd_Even                                        \n",
       "Q1      Even     -0.100898 -0.504059  0.750888 -0.355628\n",
       "        Odd       0.492029 -0.518254  0.143324 -0.037636\n",
       "Q2      Even      0.058540 -0.580267 -0.115822 -0.453003\n",
       "        Odd       0.459265  1.820760 -0.199404  0.142979\n",
       "Q3      Even      1.716738 -0.267318  0.698416  0.708441\n",
       "        Odd       0.157910  0.847786 -0.368899  0.342213"
      ]
     },
     "execution_count": 52,
     "metadata": {},
     "output_type": "execute_result"
    }
   ],
   "source": [
    "groups.mean()"
   ]
  },
  {
   "cell_type": "markdown",
   "metadata": {},
   "source": [
    "## Financial Data"
   ]
  },
  {
   "cell_type": "code",
   "execution_count": 53,
   "metadata": {
    "collapsed": false,
    "uuid": "9805e014-8a17-4e54-b6fd-1c77db7b6b78"
   },
   "outputs": [],
   "source": [
    "# use the pandas built-in function DataReader to retrieve stock price data \n",
    "# from Yahoo! Finance, analyze the data, and generate different plots of it\n",
    "\n",
    "\n",
    "import numpy as np\n",
    "import pandas as pd\n",
    "import matplotlib.pyplot as plt\n",
    "# import pandas.io.data as web\n",
    "import pandas_datareader.data as web"
   ]
  },
  {
   "cell_type": "code",
   "execution_count": 54,
   "metadata": {
    "collapsed": false,
    "uuid": "53a33e39-a3ff-4c95-b0f2-a94d727ae0da"
   },
   "outputs": [
    {
     "name": "stdout",
     "output_type": "stream",
     "text": [
      "<class 'pandas.core.frame.DataFrame'>\n",
      "DatetimeIndex: 4272 entries, 2000-01-03 to 2016-10-07\n",
      "Data columns (total 6 columns):\n",
      "Open         4272 non-null float64\n",
      "High         4272 non-null float64\n",
      "Low          4272 non-null float64\n",
      "Close        4272 non-null float64\n",
      "Volume       4272 non-null int64\n",
      "Adj Close    4272 non-null float64\n",
      "dtypes: float64(5), int64(1)\n",
      "memory usage: 233.6 KB\n"
     ]
    }
   ],
   "source": [
    "# retrieve stock price information for the German DAX index \n",
    "# from Yahoo! Finance with a single line of code\n",
    "\n",
    "# name            String               Name of data set — generally, the ticker symbol\n",
    "# data_source     e.g., 'yahoo'        Data source\n",
    "# start          String/datetime/None  Left boundary of range\n",
    "# end            String/datetime/None  Right boundary of range (default today)\n",
    "\n",
    "DAX = web.DataReader(name='^GDAXI', data_source='yahoo',\n",
    "                     start='2000-1-1')\n",
    "DAX.info()"
   ]
  },
  {
   "cell_type": "code",
   "execution_count": 55,
   "metadata": {
    "collapsed": false,
    "uuid": "11984b1c-5248-4640-8f3b-a85040eb5683"
   },
   "outputs": [
    {
     "data": {
      "text/html": [
       "<div>\n",
       "<table border=\"1\" class=\"dataframe\">\n",
       "  <thead>\n",
       "    <tr style=\"text-align: right;\">\n",
       "      <th></th>\n",
       "      <th>Open</th>\n",
       "      <th>High</th>\n",
       "      <th>Low</th>\n",
       "      <th>Close</th>\n",
       "      <th>Volume</th>\n",
       "      <th>Adj Close</th>\n",
       "    </tr>\n",
       "    <tr>\n",
       "      <th>Date</th>\n",
       "      <th></th>\n",
       "      <th></th>\n",
       "      <th></th>\n",
       "      <th></th>\n",
       "      <th></th>\n",
       "      <th></th>\n",
       "    </tr>\n",
       "  </thead>\n",
       "  <tbody>\n",
       "    <tr>\n",
       "      <th>2016-09-30</th>\n",
       "      <td>10240.690430</td>\n",
       "      <td>10531.259766</td>\n",
       "      <td>10189.940430</td>\n",
       "      <td>10511.019531</td>\n",
       "      <td>182523300</td>\n",
       "      <td>10511.019531</td>\n",
       "    </tr>\n",
       "    <tr>\n",
       "      <th>2016-10-04</th>\n",
       "      <td>10492.969727</td>\n",
       "      <td>10646.719727</td>\n",
       "      <td>10492.250000</td>\n",
       "      <td>10619.610352</td>\n",
       "      <td>127581300</td>\n",
       "      <td>10619.610352</td>\n",
       "    </tr>\n",
       "    <tr>\n",
       "      <th>2016-10-05</th>\n",
       "      <td>10535.620117</td>\n",
       "      <td>10622.440430</td>\n",
       "      <td>10486.629883</td>\n",
       "      <td>10585.780273</td>\n",
       "      <td>93834300</td>\n",
       "      <td>10585.780273</td>\n",
       "    </tr>\n",
       "    <tr>\n",
       "      <th>2016-10-06</th>\n",
       "      <td>10641.129883</td>\n",
       "      <td>10641.129883</td>\n",
       "      <td>10537.679688</td>\n",
       "      <td>10568.799805</td>\n",
       "      <td>105395600</td>\n",
       "      <td>10568.799805</td>\n",
       "    </tr>\n",
       "    <tr>\n",
       "      <th>2016-10-07</th>\n",
       "      <td>10549.690430</td>\n",
       "      <td>10579.089844</td>\n",
       "      <td>10465.349609</td>\n",
       "      <td>10490.860352</td>\n",
       "      <td>121513900</td>\n",
       "      <td>10490.860352</td>\n",
       "    </tr>\n",
       "  </tbody>\n",
       "</table>\n",
       "</div>"
      ],
      "text/plain": [
       "                    Open          High           Low         Close     Volume  \\\n",
       "Date                                                                            \n",
       "2016-09-30  10240.690430  10531.259766  10189.940430  10511.019531  182523300   \n",
       "2016-10-04  10492.969727  10646.719727  10492.250000  10619.610352  127581300   \n",
       "2016-10-05  10535.620117  10622.440430  10486.629883  10585.780273   93834300   \n",
       "2016-10-06  10641.129883  10641.129883  10537.679688  10568.799805  105395600   \n",
       "2016-10-07  10549.690430  10579.089844  10465.349609  10490.860352  121513900   \n",
       "\n",
       "               Adj Close  \n",
       "Date                      \n",
       "2016-09-30  10511.019531  \n",
       "2016-10-04  10619.610352  \n",
       "2016-10-05  10585.780273  \n",
       "2016-10-06  10568.799805  \n",
       "2016-10-07  10490.860352  "
      ]
     },
     "execution_count": 55,
     "metadata": {},
     "output_type": "execute_result"
    }
   ],
   "source": [
    "DAX.tail()"
   ]
  },
  {
   "cell_type": "code",
   "execution_count": 56,
   "metadata": {
    "collapsed": false,
    "uuid": "6185abc6-54c5-4711-b273-3252938f3e5e"
   },
   "outputs": [
    {
     "data": {
      "text/plain": [
       "<matplotlib.axes._subplots.AxesSubplot at 0x238915a8550>"
      ]
     },
     "execution_count": 56,
     "metadata": {},
     "output_type": "execute_result"
    },
    {
     "data": {
      "image/png": "[encoded data removed]",
      "text/plain": [
       "<matplotlib.figure.Figure at 0x23891528b38>"
      ]
     },
     "metadata": {},
     "output_type": "display_data"
    }
   ],
   "source": [
    "# plot the index history\n",
    "\n",
    "%matplotlib inline\n",
    "DAX['Close'].plot(figsize=(8, 5))\n",
    "# title: Historical DAX index levels"
   ]
  },
  {
   "cell_type": "code",
   "execution_count": 57,
   "metadata": {
    "collapsed": false,
    "uuid": "9b45b8c2-3b95-4c80-94a0-14f891cdd161"
   },
   "outputs": [
    {
     "name": "stdout",
     "output_type": "stream",
     "text": [
      "Wall time: 95.5 ms\n"
     ]
    }
   ],
   "source": [
    "# pandas allows for vectorized mathematical operations.\n",
    "\n",
    "# instead of generating a new, empty column and then\n",
    "# iterating over all indexes to calculate the single \n",
    "# log return values step by step, \n",
    "\n",
    "# DAX['Return'] = 0.0\n",
    "# for i in range(1, len(DAX)):\n",
    "#      DAX['Return'][i] = np.log(DAX['Close'][i] /\n",
    "#  \n",
    "\n",
    "# we can use vectorized code to reach the same result without looping.\n",
    "\n",
    "# the shift method is useful; it shifts Series or whole DataFrame objects \n",
    "# relative to their index, forward as well as backward\n",
    "\n",
    "%time DAX['Return'] = np.log(DAX['Close'] / DAX['Close'].shift(1))\n",
    "\n",
    "# we need to shift the Close column by one day (one index position)"
   ]
  },
  {
   "cell_type": "code",
   "execution_count": 58,
   "metadata": {
    "collapsed": false,
    "uuid": "5fbf45e9-dd56-40ba-8a75-086a80a04d5b"
   },
   "outputs": [
    {
     "data": {
      "text/html": [
       "<div>\n",
       "<table border=\"1\" class=\"dataframe\">\n",
       "  <thead>\n",
       "    <tr style=\"text-align: right;\">\n",
       "      <th></th>\n",
       "      <th>Close</th>\n",
       "      <th>Return</th>\n",
       "    </tr>\n",
       "    <tr>\n",
       "      <th>Date</th>\n",
       "      <th></th>\n",
       "      <th></th>\n",
       "    </tr>\n",
       "  </thead>\n",
       "  <tbody>\n",
       "    <tr>\n",
       "      <th>2016-09-30</th>\n",
       "      <td>10511.019531</td>\n",
       "      <td>0.010086</td>\n",
       "    </tr>\n",
       "    <tr>\n",
       "      <th>2016-10-04</th>\n",
       "      <td>10619.610352</td>\n",
       "      <td>0.010278</td>\n",
       "    </tr>\n",
       "    <tr>\n",
       "      <th>2016-10-05</th>\n",
       "      <td>10585.780273</td>\n",
       "      <td>-0.003191</td>\n",
       "    </tr>\n",
       "    <tr>\n",
       "      <th>2016-10-06</th>\n",
       "      <td>10568.799805</td>\n",
       "      <td>-0.001605</td>\n",
       "    </tr>\n",
       "    <tr>\n",
       "      <th>2016-10-07</th>\n",
       "      <td>10490.860352</td>\n",
       "      <td>-0.007402</td>\n",
       "    </tr>\n",
       "  </tbody>\n",
       "</table>\n",
       "</div>"
      ],
      "text/plain": [
       "                   Close    Return\n",
       "Date                              \n",
       "2016-09-30  10511.019531  0.010086\n",
       "2016-10-04  10619.610352  0.010278\n",
       "2016-10-05  10585.780273 -0.003191\n",
       "2016-10-06  10568.799805 -0.001605\n",
       "2016-10-07  10490.860352 -0.007402"
      ]
     },
     "execution_count": 58,
     "metadata": {},
     "output_type": "execute_result"
    }
   ],
   "source": [
    "DAX[['Close', 'Return']].tail()"
   ]
  },
  {
   "cell_type": "code",
   "execution_count": 59,
   "metadata": {
    "collapsed": false,
    "uuid": "41cd4741-6e1b-4d56-93ec-16ccfd889b94"
   },
   "outputs": [
    {
     "name": "stdout",
     "output_type": "stream",
     "text": [
      "<class 'pandas.core.frame.DataFrame'>\n",
      "DatetimeIndex: 4272 entries, 2000-01-03 to 2016-10-07\n",
      "Data columns (total 8 columns):\n",
      "Open         4272 non-null float64\n",
      "High         4272 non-null float64\n",
      "Low          4272 non-null float64\n",
      "Close        4272 non-null float64\n",
      "Volume       4272 non-null int64\n",
      "Adj Close    4272 non-null float64\n",
      "Return       4271 non-null float64\n",
      "Ret_loop     4272 non-null float64\n",
      "dtypes: float64(7), int64(1)\n",
      "memory usage: 300.4 KB\n"
     ]
    }
   ],
   "source": [
    "# Example : add and delete a column\n",
    "\n",
    "DAX['Ret_loop'] = 0.0\n",
    "DAX.info()\n",
    "# del DAX['Ret_loop']"
   ]
  },
  {
   "cell_type": "code",
   "execution_count": 60,
   "metadata": {
    "collapsed": false,
    "uuid": "8995980e-7fa1-482e-8996-3a0cc1050359"
   },
   "outputs": [
    {
     "data": {
      "text/plain": [
       "array([<matplotlib.axes._subplots.AxesSubplot object at 0x0000023891590390>,\n",
       "       <matplotlib.axes._subplots.AxesSubplot object at 0x00000238916D56D8>], dtype=object)"
      ]
     },
     "execution_count": 60,
     "metadata": {},
     "output_type": "execute_result"
    },
    {
     "data": {
      "image/png": "[encoded data removed]",
      "text/plain": [
       "<matplotlib.figure.Figure at 0x23891703e48>"
      ]
     },
     "metadata": {},
     "output_type": "display_data"
    }
   ],
   "source": [
    "DAX[['Close', 'Return']].plot(subplots=True, style='b',\n",
    "                              figsize=(8, 5))\n",
    "# title: The DAX index and daily log returns\n",
    "\n",
    "# Volatility clustering\n",
    "#   Volatility is not constant over time; there are periods of high volatility \n",
    "#   (both highly positive and negative returns) as well as periods of low volatility.\n",
    "# Leverage effect\n",
    "#   Generally, volatility and stock market returns are negatively correlated; \n",
    "#   when markets come down volatility rises, and vice versa."
   ]
  },
  {
   "cell_type": "code",
   "execution_count": 61,
   "metadata": {
    "collapsed": false,
    "uuid": "956890ca-7927-4fac-a99a-af7a15cac58f"
   },
   "outputs": [],
   "source": [
    "# moving averages - so-called trends. \n",
    "# A moving average is  calculated with the rolling_mean function of pandas \n",
    "# (there are other “rolling” functions as well, like rolling_max, rolling_min, and rolling_corr):\n",
    "\n",
    "# DAX['42d'] = pd.rolling_mean(DAX['Close'], window=42)\n",
    "# DAX['252d'] = pd.rolling_mean(DAX['Close'], window=252)\n",
    "DAX['42d'] = DAX['Close'].rolling(center=False, window=42).mean()\n",
    "DAX['252d'] = DAX['Close'].rolling(center=False, window=252).mean()\n"
   ]
  },
  {
   "cell_type": "code",
   "execution_count": 62,
   "metadata": {
    "collapsed": false,
    "uuid": "f5440e3f-b808-4685-9bec-5f6ca39609c5"
   },
   "outputs": [
    {
     "data": {
      "text/html": [
       "<div>\n",
       "<table border=\"1\" class=\"dataframe\">\n",
       "  <thead>\n",
       "    <tr style=\"text-align: right;\">\n",
       "      <th></th>\n",
       "      <th>Close</th>\n",
       "      <th>42d</th>\n",
       "      <th>252d</th>\n",
       "    </tr>\n",
       "    <tr>\n",
       "      <th>Date</th>\n",
       "      <th></th>\n",
       "      <th></th>\n",
       "      <th></th>\n",
       "    </tr>\n",
       "  </thead>\n",
       "  <tbody>\n",
       "    <tr>\n",
       "      <th>2016-09-30</th>\n",
       "      <td>10511.019531</td>\n",
       "      <td>10539.274763</td>\n",
       "      <td>10154.682214</td>\n",
       "    </tr>\n",
       "    <tr>\n",
       "      <th>2016-10-04</th>\n",
       "      <td>10619.610352</td>\n",
       "      <td>10548.602144</td>\n",
       "      <td>10157.526580</td>\n",
       "    </tr>\n",
       "    <tr>\n",
       "      <th>2016-10-05</th>\n",
       "      <td>10585.780273</td>\n",
       "      <td>10553.806199</td>\n",
       "      <td>10159.968564</td>\n",
       "    </tr>\n",
       "    <tr>\n",
       "      <th>2016-10-06</th>\n",
       "      <td>10568.799805</td>\n",
       "      <td>10557.054757</td>\n",
       "      <td>10162.253205</td>\n",
       "    </tr>\n",
       "    <tr>\n",
       "      <th>2016-10-07</th>\n",
       "      <td>10490.860352</td>\n",
       "      <td>10552.244280</td>\n",
       "      <td>10163.817732</td>\n",
       "    </tr>\n",
       "  </tbody>\n",
       "</table>\n",
       "</div>"
      ],
      "text/plain": [
       "                   Close           42d          252d\n",
       "Date                                                \n",
       "2016-09-30  10511.019531  10539.274763  10154.682214\n",
       "2016-10-04  10619.610352  10548.602144  10157.526580\n",
       "2016-10-05  10585.780273  10553.806199  10159.968564\n",
       "2016-10-06  10568.799805  10557.054757  10162.253205\n",
       "2016-10-07  10490.860352  10552.244280  10163.817732"
      ]
     },
     "execution_count": 62,
     "metadata": {},
     "output_type": "execute_result"
    }
   ],
   "source": [
    "DAX[['Close', '42d', '252d']].tail()"
   ]
  },
  {
   "cell_type": "code",
   "execution_count": 63,
   "metadata": {
    "collapsed": false,
    "uuid": "281a5820-2a77-46b4-b399-8c0913423bc3"
   },
   "outputs": [
    {
     "data": {
      "text/plain": [
       "<matplotlib.axes._subplots.AxesSubplot at 0x238927cd7b8>"
      ]
     },
     "execution_count": 63,
     "metadata": {},
     "output_type": "execute_result"
    },
    {
     "data": {
      "image/png": "[encoded data removed]",
      "text/plain": [
       "<matplotlib.figure.Figure at 0x23892798a58>"
      ]
     },
     "metadata": {},
     "output_type": "display_data"
    }
   ],
   "source": [
    "# A typical stock price chart with the two trends included\n",
    "\n",
    "DAX[['Close', '42d', '252d']].plot(figsize=(8, 5))\n",
    "# title: The DAX index and moving averages"
   ]
  },
  {
   "cell_type": "code",
   "execution_count": 64,
   "metadata": {
    "collapsed": false,
    "uuid": "1b12ae02-5e35-47ff-a9c9-8563e468b489"
   },
   "outputs": [],
   "source": [
    "# the moving historical standard deviation of the log returns\n",
    "# moving annual volatility\n",
    "\n",
    "import math\n",
    "# DAX['Mov_Vol'] = pd.rolling_std(DAX['Return'],window=252) * math.sqrt(252)\n",
    "DAX['Mov_Vol'] = DAX['Return'].rolling(center=False,window=252).std() * math.sqrt(252)\n",
    " "
   ]
  },
  {
   "cell_type": "code",
   "execution_count": 65,
   "metadata": {
    "collapsed": false,
    "uuid": "2e75f8fd-bcf8-4c36-93b9-974ef94366c7"
   },
   "outputs": [
    {
     "data": {
      "text/plain": [
       "array([<matplotlib.axes._subplots.AxesSubplot object at 0x000002389279CF28>,\n",
       "       <matplotlib.axes._subplots.AxesSubplot object at 0x0000023892824FD0>,\n",
       "       <matplotlib.axes._subplots.AxesSubplot object at 0x000002389286C128>], dtype=object)"
      ]
     },
     "execution_count": 65,
     "metadata": {},
     "output_type": "execute_result"
    },
    {
     "data": {
      "image/png": "[encoded data removed]",
      "text/plain": [
       "<matplotlib.figure.Figure at 0x23892715208>"
      ]
     },
     "metadata": {},
     "output_type": "display_data"
    }
   ],
   "source": [
    "DAX[['Close', 'Mov_Vol', 'Return']].plot(subplots=True, style='b',\n",
    "                                         figsize=(8, 7))\n",
    "\n",
    "# title: The DAX index and moving, annualized volatility\n",
    "\n",
    "# see the leverage effect:\n",
    "# the historical moving volatility tends to increase when markets come down, \n",
    "# and to decrease when they rise:"
   ]
  },
  {
   "cell_type": "markdown",
   "metadata": {},
   "source": [
    "## Regression Analysis - OLS DOES NOT WORK ANY MORE!!!\n",
    "## Consider examples from Mastering Pandas "
   ]
  },
  {
   "cell_type": "code",
   "execution_count": null,
   "metadata": {
    "collapsed": false,
    "uuid": "85bf9df2-d445-4600-a02e-37cf2b7dc9ff"
   },
   "outputs": [],
   "source": [
    "\n",
    "# Let's use (linear) ordinary least-squares regression (OLS)\n",
    "\n",
    "import pandas as pd\n",
    "import numpy as np\n",
    "from urllib.request import urlretrieve\n",
    "import statsmodels.api as sm\n",
    "import matplotlib.pyplot as plt"
   ]
  },
  {
   "cell_type": "code",
   "execution_count": 2,
   "metadata": {
    "collapsed": false,
    "uuid": "5bc6a566-4adf-4cd4-9af5-a37ea53aa1bc"
   },
   "outputs": [
    {
     "name": "stdout",
     "output_type": "stream",
     "text": [
      " Volume in drive C is System\n",
      " Volume Serial Number is 0EAB-AF41\n",
      "\n",
      " Directory of C:\\Users\\Roman\\Desktop\\PYTHON\\MyLectures\\Chapter 6\\data\n",
      "\n",
      "05/25/2016  09:19 PM    <DIR>          .\n",
      "05/25/2016  09:19 PM    <DIR>          ..\n",
      "05/25/2016  09:58 PM           678,399 es.txt\n",
      "05/25/2016  09:58 PM           531,088 es50.txt\n",
      "05/25/2016  09:58 PM           363,485 vs.txt\n",
      "               3 File(s)      1,572,972 bytes\n",
      "               2 Dir(s)  18,819,813,376 bytes free\n"
     ]
    }
   ],
   "source": [
    "!dir \"./data/\""
   ]
  },
  {
   "cell_type": "code",
   "execution_count": 3,
   "metadata": {
    "collapsed": false,
    "uuid": "17a2e317-7047-4c9f-9faf-7e0e4132bd01"
   },
   "outputs": [
    {
     "name": "stdout",
     "output_type": "stream",
     "text": [
      " Volume in drive C is System\n",
      " Volume Serial Number is 0EAB-AF41\n",
      "\n",
      " Directory of C:\\Users\\Roman\\Desktop\\PYTHON\\MyLectures\\Chapter 6\\data\n",
      "\n",
      "05/25/2016  09:19 PM    <DIR>          .\n",
      "05/25/2016  09:19 PM    <DIR>          ..\n",
      "05/26/2016  06:54 AM           678,399 es.txt\n",
      "05/25/2016  09:58 PM           531,088 es50.txt\n",
      "05/26/2016  06:54 AM           363,485 vs.txt\n",
      "               3 File(s)      1,572,972 bytes\n",
      "               2 Dir(s)  18,818,633,728 bytes free\n"
     ]
    }
   ],
   "source": [
    "# EURO STOXX 50\n",
    "#    Historical daily closing values of the EURO STOXX 50 index, \n",
    "#    composed of  European blue-chip stocks\n",
    "# VSTOXX\n",
    "#    Historical daily closing data for the VSTOXX volatility index, \n",
    "#    calculated on the basis of volatilities implied by options on the EURO STOXX 50 index\n",
    "\n",
    "# we retrieve files from the Web and save them in a folder called data\n",
    "\n",
    "es_url = 'http://www.stoxx.com/download/historical_values/hbrbcpe.txt'\n",
    "vs_url = 'http://www.stoxx.com/download/historical_values/h_vstoxx.txt'\n",
    "urlretrieve(es_url, './data/es.txt')\n",
    "urlretrieve(vs_url, './data/vs.txt')\n",
    "!dir  \"./data/\""
   ]
  },
  {
   "cell_type": "code",
   "execution_count": 4,
   "metadata": {
    "collapsed": false,
    "uuid": "3bdd1237-41d5-4e92-8d2c-3c4ffd25e7e9"
   },
   "outputs": [],
   "source": [
    "# read the whole data set and removes all blanks\n",
    "\n",
    "lines = open('./data/es.txt', 'r').readlines()\n",
    "lines = [line.replace(' ', '') for line in lines]"
   ]
  },
  {
   "cell_type": "code",
   "execution_count": 5,
   "metadata": {
    "collapsed": false,
    "uuid": "6c7769ea-4fb8-49ef-bdc8-4e06b986fb3e"
   },
   "outputs": [
    {
     "data": {
      "text/plain": [
       "['PriceIndices-EUROCurrency\\n',\n",
       " 'Date;Blue-Chip;Blue-Chip;Broad;Broad;ExUK;ExEuroZone;Blue-Chip;Broad\\n',\n",
       " ';Europe;Euro-Zone;Europe;Euro-Zone;;;Nordic;Nordic\\n',\n",
       " ';SX5P;SX5E;SXXP;SXXE;SXXF;SXXA;DK5F;DKXF\\n',\n",
       " '31.12.1986;775.00;900.82;82.76;98.58;98.06;69.06;645.26;65.56\\n',\n",
       " '01.01.1987;775.00;900.82;82.76;98.58;98.06;69.06;645.26;65.56\\n']"
      ]
     },
     "execution_count": 5,
     "metadata": {},
     "output_type": "execute_result"
    }
   ],
   "source": [
    "# printing the first couple of lines of the downloaded data set\n",
    "\n",
    "lines[:6]"
   ]
  },
  {
   "cell_type": "code",
   "execution_count": 6,
   "metadata": {
    "collapsed": false,
    "uuid": "b5edc764-13a4-4e0c-b6d3-ac615b4a530b"
   },
   "outputs": [
    {
     "name": "stdout",
     "output_type": "stream",
     "text": [
      "317.10;267.23;5268.36;363.19\n",
      "\n",
      "322.55;272.18;5360.52;370.94\n",
      "\n",
      "322.69;272.95;5360.52;370.94\n",
      "\n",
      "327.57;277.68;5479.59;378.69;\n",
      "\n",
      "329.94;278.87;5585.35;386.99;\n",
      "\n",
      "326.77;272.38;5522.25;380.09;\n",
      "\n",
      "332.62;277.08;5722.57;396.12;\n",
      "\n"
     ]
    }
   ],
   "source": [
    "# Make some necessary changes:\n",
    "\n",
    "# 1) There are a couple of additional header lines that we do not need for the import.\n",
    "# 2) from December 27, there suddenly appears an additional semicolon \n",
    "#      at the end of each data row\n",
    "\n",
    "for line in lines[3883:3890]:\n",
    "    print (line[41:])"
   ]
  },
  {
   "cell_type": "code",
   "execution_count": 7,
   "metadata": {
    "collapsed": false,
    "uuid": "ea43adac-94fb-4b11-8af5-153c6fb4cebe"
   },
   "outputs": [],
   "source": [
    "# To make the data set easier to import, we do the following:\n",
    "# 1. Generate a new text file.\n",
    "# 2. Delete unneeded header lines.\n",
    "# 3. Write an appropriate new header line to the new file.\n",
    "# 4. Add a helper column, DEL (to catch the trailing semicolons).\n",
    "# 5. Write all data rows to the new file.\n",
    "\n",
    "\n",
    "new_file = open('./data/es50.txt', 'w')\n",
    "    # opens a new file\n",
    "new_file.writelines('date' + lines[3][:-1]\n",
    "                    + ';DEL' + lines[3][-1])\n",
    "    # writes the corrected third line of the orginal file\n",
    "    # as first line of new file\n",
    "new_file.writelines(lines[4:])\n",
    "    # writes the remaining lines of the orginial file\n",
    "new_file.close()"
   ]
  },
  {
   "cell_type": "code",
   "execution_count": 8,
   "metadata": {
    "collapsed": false,
    "uuid": "aca0ad29-cce1-4da5-b39e-ace9bafe3077"
   },
   "outputs": [
    {
     "data": {
      "text/plain": [
       "['date;SX5P;SX5E;SXXP;SXXE;SXXF;SXXA;DK5F;DKXF;DEL\\n',\n",
       " '31.12.1986;775.00;900.82;82.76;98.58;98.06;69.06;645.26;65.56\\n',\n",
       " '01.01.1987;775.00;900.82;82.76;98.58;98.06;69.06;645.26;65.56\\n',\n",
       " '02.01.1987;770.89;891.78;82.57;97.80;97.43;69.37;647.62;65.81\\n',\n",
       " '05.01.1987;771.89;898.33;82.82;98.60;98.19;69.16;649.94;65.82\\n']"
      ]
     },
     "execution_count": 8,
     "metadata": {},
     "output_type": "execute_result"
    }
   ],
   "source": [
    "new_lines = open('./data/es50.txt', 'r').readlines()\n",
    "new_lines[:5]"
   ]
  },
  {
   "cell_type": "code",
   "execution_count": 9,
   "metadata": {
    "collapsed": false,
    "uuid": "0bc55f0d-cd99-45b9-955e-3a126360e94f"
   },
   "outputs": [],
   "source": [
    "es = pd.read_csv('./data/es50.txt', index_col=0,\n",
    "                 parse_dates=True, sep=';', dayfirst=True)"
   ]
  },
  {
   "cell_type": "code",
   "execution_count": 10,
   "metadata": {
    "collapsed": false,
    "uuid": "73526ac3-4bf0-4455-89b2-f6aa614ffdca"
   },
   "outputs": [
    {
     "data": {
      "text/html": [
       "<div>\n",
       "<table border=\"1\" class=\"dataframe\">\n",
       "  <thead>\n",
       "    <tr style=\"text-align: right;\">\n",
       "      <th></th>\n",
       "      <th>SX5P</th>\n",
       "      <th>SX5E</th>\n",
       "      <th>SXXP</th>\n",
       "      <th>SXXE</th>\n",
       "      <th>SXXF</th>\n",
       "      <th>SXXA</th>\n",
       "      <th>DK5F</th>\n",
       "      <th>DKXF</th>\n",
       "      <th>DEL</th>\n",
       "    </tr>\n",
       "    <tr>\n",
       "      <th>date</th>\n",
       "      <th></th>\n",
       "      <th></th>\n",
       "      <th></th>\n",
       "      <th></th>\n",
       "      <th></th>\n",
       "      <th></th>\n",
       "      <th></th>\n",
       "      <th></th>\n",
       "      <th></th>\n",
       "    </tr>\n",
       "  </thead>\n",
       "  <tbody>\n",
       "    <tr>\n",
       "      <th>2016-04-26</th>\n",
       "      <td>2923.0</td>\n",
       "      <td>3121.0</td>\n",
       "      <td>347.0</td>\n",
       "      <td>330.0</td>\n",
       "      <td>412.0</td>\n",
       "      <td>354.0</td>\n",
       "      <td>9395.0</td>\n",
       "      <td>588.0</td>\n",
       "      <td>NaN</td>\n",
       "    </tr>\n",
       "    <tr>\n",
       "      <th>2016-04-27</th>\n",
       "      <td>2927.0</td>\n",
       "      <td>3130.0</td>\n",
       "      <td>348.0</td>\n",
       "      <td>332.0</td>\n",
       "      <td>413.0</td>\n",
       "      <td>354.0</td>\n",
       "      <td>9424.0</td>\n",
       "      <td>589.0</td>\n",
       "      <td>NaN</td>\n",
       "    </tr>\n",
       "    <tr>\n",
       "      <th>2016-04-28</th>\n",
       "      <td>2932.0</td>\n",
       "      <td>3125.0</td>\n",
       "      <td>349.0</td>\n",
       "      <td>332.0</td>\n",
       "      <td>414.0</td>\n",
       "      <td>355.0</td>\n",
       "      <td>9459.0</td>\n",
       "      <td>592.0</td>\n",
       "      <td>NaN</td>\n",
       "    </tr>\n",
       "    <tr>\n",
       "      <th>2016-04-29</th>\n",
       "      <td>2856.0</td>\n",
       "      <td>3028.0</td>\n",
       "      <td>341.0</td>\n",
       "      <td>324.0</td>\n",
       "      <td>405.0</td>\n",
       "      <td>349.0</td>\n",
       "      <td>9278.0</td>\n",
       "      <td>582.0</td>\n",
       "      <td>NaN</td>\n",
       "    </tr>\n",
       "    <tr>\n",
       "      <th>2016-05-02</th>\n",
       "      <td>2852.0</td>\n",
       "      <td>3033.0</td>\n",
       "      <td>341.0</td>\n",
       "      <td>324.0</td>\n",
       "      <td>405.0</td>\n",
       "      <td>348.0</td>\n",
       "      <td>9238.0</td>\n",
       "      <td>579.0</td>\n",
       "      <td>NaN</td>\n",
       "    </tr>\n",
       "  </tbody>\n",
       "</table>\n",
       "</div>"
      ],
      "text/plain": [
       "              SX5P    SX5E   SXXP   SXXE   SXXF   SXXA    DK5F   DKXF  DEL\n",
       "date                                                                      \n",
       "2016-04-26  2923.0  3121.0  347.0  330.0  412.0  354.0  9395.0  588.0  NaN\n",
       "2016-04-27  2927.0  3130.0  348.0  332.0  413.0  354.0  9424.0  589.0  NaN\n",
       "2016-04-28  2932.0  3125.0  349.0  332.0  414.0  355.0  9459.0  592.0  NaN\n",
       "2016-04-29  2856.0  3028.0  341.0  324.0  405.0  349.0  9278.0  582.0  NaN\n",
       "2016-05-02  2852.0  3033.0  341.0  324.0  405.0  348.0  9238.0  579.0  NaN"
      ]
     },
     "execution_count": 10,
     "metadata": {},
     "output_type": "execute_result"
    }
   ],
   "source": [
    "np.round(es.tail())"
   ]
  },
  {
   "cell_type": "code",
   "execution_count": 11,
   "metadata": {
    "collapsed": false,
    "uuid": "e6e3100a-8296-494f-9758-bbb0006c5df4"
   },
   "outputs": [
    {
     "name": "stdout",
     "output_type": "stream",
     "text": [
      "<class 'pandas.core.frame.DataFrame'>\n",
      "DatetimeIndex: 7562 entries, 1986-12-31 to 2016-05-02\n",
      "Data columns (total 8 columns):\n",
      "SX5P    7562 non-null float64\n",
      "SX5E    7562 non-null float64\n",
      "SXXP    7562 non-null float64\n",
      "SXXE    7562 non-null float64\n",
      "SXXF    7562 non-null float64\n",
      "SXXA    7562 non-null float64\n",
      "DK5F    7562 non-null float64\n",
      "DKXF    7562 non-null float64\n",
      "dtypes: float64(8)\n",
      "memory usage: 531.7 KB\n"
     ]
    }
   ],
   "source": [
    "# delete DEL column\n",
    "\n",
    "del es['DEL'] \n",
    "es.info()"
   ]
  },
  {
   "cell_type": "code",
   "execution_count": 12,
   "metadata": {
    "collapsed": false,
    "uuid": "3a1920c2-8c61-4720-941e-afdb983350aa"
   },
   "outputs": [
    {
     "name": "stdout",
     "output_type": "stream",
     "text": [
      "<class 'pandas.core.frame.DataFrame'>\n",
      "DatetimeIndex: 4357 entries, 1999-01-04 to 2016-02-12\n",
      "Data columns (total 9 columns):\n",
      "V2TX    4357 non-null float64\n",
      "V6I1    3906 non-null float64\n",
      "V6I2    4357 non-null float64\n",
      "V6I3    4296 non-null float64\n",
      "V6I4    4357 non-null float64\n",
      "V6I5    4357 non-null float64\n",
      "V6I6    4340 non-null float64\n",
      "V6I7    4357 non-null float64\n",
      "V6I8    4343 non-null float64\n",
      "dtypes: float64(9)\n",
      "memory usage: 340.4 KB\n"
     ]
    }
   ],
   "source": [
    "# VSTOXX data set is already in a form such that it can be imported \n",
    "#  more easily into a DataFrame object\n",
    "\n",
    "# Table 6-6. Parameters of read_csv function\n",
    "\n",
    "# index_col    Integer     Number of index columns (sequence for multi-index)\n",
    "# header       Integer     Number of header rows\n",
    "# sep          String, default “,”      Delimiter to use\n",
    "# dayfirst     Boolean, default False   For European date convention DD/MM\n",
    "#    etc...\n",
    "\n",
    "vs = pd.read_csv('./data/vs.txt', index_col=0, header=2,\n",
    "                 parse_dates=True, sep=',', dayfirst=True)\n",
    "vs.info()"
   ]
  },
  {
   "cell_type": "code",
   "execution_count": 13,
   "metadata": {
    "collapsed": false,
    "uuid": "3a437278-4466-41bf-b7f2-f9c17d2c44a7"
   },
   "outputs": [],
   "source": [
    "# To implement the regression analysis, we only need one column from each data set. \n",
    "# We generate a new DataFrame object within which we combine the two columns of\n",
    "# interest.  Since VSTOXX data is only available from the beginning of January 1999,\n",
    "# we only take data from that date on:\n",
    "\n",
    "\n",
    "import datetime as dt\n",
    "data = pd.DataFrame({'EUROSTOXX' :\n",
    "                     es['SX5E'][es.index > dt.datetime(1999, 1, 1)]})\n",
    "data = data.join(pd.DataFrame({'VSTOXX' :\n",
    "                     vs['V2TX'][vs.index > dt.datetime(1999, 1, 1)]}))"
   ]
  },
  {
   "cell_type": "code",
   "execution_count": 14,
   "metadata": {
    "collapsed": false,
    "uuid": "9223e142-d574-40c9-92e7-149d86628458"
   },
   "outputs": [
    {
     "name": "stdout",
     "output_type": "stream",
     "text": [
      "<class 'pandas.core.frame.DataFrame'>\n",
      "DatetimeIndex: 4443 entries, 1999-01-04 to 2016-05-02\n",
      "Data columns (total 2 columns):\n",
      "EUROSTOXX    4443 non-null float64\n",
      "VSTOXX       4443 non-null float64\n",
      "dtypes: float64(2)\n",
      "memory usage: 104.1 KB\n"
     ]
    }
   ],
   "source": [
    "# We  fill missing values with the last available values from the time series. \n",
    "# We call the fillna method, providing ffill (for forward fill) as the method parameter\n",
    "\n",
    "data = data.fillna(method='ffill')\n",
    "data.info()"
   ]
  },
  {
   "cell_type": "code",
   "execution_count": 15,
   "metadata": {
    "collapsed": false,
    "uuid": "fc5fc92a-3475-4e4b-a5fe-145809d35919"
   },
   "outputs": [
    {
     "data": {
      "text/html": [
       "<div>\n",
       "<table border=\"1\" class=\"dataframe\">\n",
       "  <thead>\n",
       "    <tr style=\"text-align: right;\">\n",
       "      <th></th>\n",
       "      <th>EUROSTOXX</th>\n",
       "      <th>VSTOXX</th>\n",
       "    </tr>\n",
       "    <tr>\n",
       "      <th>date</th>\n",
       "      <th></th>\n",
       "      <th></th>\n",
       "    </tr>\n",
       "  </thead>\n",
       "  <tbody>\n",
       "    <tr>\n",
       "      <th>2016-04-26</th>\n",
       "      <td>3121.29</td>\n",
       "      <td>35.6846</td>\n",
       "    </tr>\n",
       "    <tr>\n",
       "      <th>2016-04-27</th>\n",
       "      <td>3130.43</td>\n",
       "      <td>35.6846</td>\n",
       "    </tr>\n",
       "    <tr>\n",
       "      <th>2016-04-28</th>\n",
       "      <td>3125.43</td>\n",
       "      <td>35.6846</td>\n",
       "    </tr>\n",
       "    <tr>\n",
       "      <th>2016-04-29</th>\n",
       "      <td>3028.21</td>\n",
       "      <td>35.6846</td>\n",
       "    </tr>\n",
       "    <tr>\n",
       "      <th>2016-05-02</th>\n",
       "      <td>3032.60</td>\n",
       "      <td>35.6846</td>\n",
       "    </tr>\n",
       "  </tbody>\n",
       "</table>\n",
       "</div>"
      ],
      "text/plain": [
       "            EUROSTOXX   VSTOXX\n",
       "date                          \n",
       "2016-04-26    3121.29  35.6846\n",
       "2016-04-27    3130.43  35.6846\n",
       "2016-04-28    3125.43  35.6846\n",
       "2016-04-29    3028.21  35.6846\n",
       "2016-05-02    3032.60  35.6846"
      ]
     },
     "execution_count": 15,
     "metadata": {},
     "output_type": "execute_result"
    }
   ],
   "source": [
    "data.tail()"
   ]
  },
  {
   "cell_type": "code",
   "execution_count": 16,
   "metadata": {
    "collapsed": false,
    "uuid": "07158c72-907f-4636-ad40-95182b7728e3"
   },
   "outputs": [
    {
     "data": {
      "text/plain": [
       "array([<matplotlib.axes._subplots.AxesSubplot object at 0x000002518B8A32B0>,\n",
       "       <matplotlib.axes._subplots.AxesSubplot object at 0x000002518B900A20>], dtype=object)"
      ]
     },
     "execution_count": 16,
     "metadata": {},
     "output_type": "execute_result"
    },
    {
     "data": {
      "image/png": "[encoded data removed]",
      "text/plain": [
       "<matplotlib.figure.Figure at 0x2518a0d0dd8>"
      ]
     },
     "metadata": {},
     "output_type": "display_data"
    }
   ],
   "source": [
    "# Plot: there seems to be a negative correlation between the two indexes\n",
    "\n",
    "%matplotlib inline\n",
    "data.plot(subplots=True, grid=True, style='b', figsize=(8, 6))\n",
    "# title: The EURO STOXX 50 Index and the VSTOXX volatility index"
   ]
  },
  {
   "cell_type": "code",
   "execution_count": 17,
   "metadata": {
    "collapsed": false,
    "uuid": "17ae59ff-9863-4c30-9493-22d44c0e5edf"
   },
   "outputs": [
    {
     "data": {
      "text/html": [
       "<div>\n",
       "<table border=\"1\" class=\"dataframe\">\n",
       "  <thead>\n",
       "    <tr style=\"text-align: right;\">\n",
       "      <th></th>\n",
       "      <th>EUROSTOXX</th>\n",
       "      <th>VSTOXX</th>\n",
       "    </tr>\n",
       "    <tr>\n",
       "      <th>date</th>\n",
       "      <th></th>\n",
       "      <th></th>\n",
       "    </tr>\n",
       "  </thead>\n",
       "  <tbody>\n",
       "    <tr>\n",
       "      <th>1999-01-04</th>\n",
       "      <td>NaN</td>\n",
       "      <td>NaN</td>\n",
       "    </tr>\n",
       "    <tr>\n",
       "      <th>1999-01-05</th>\n",
       "      <td>0.017228</td>\n",
       "      <td>0.489248</td>\n",
       "    </tr>\n",
       "    <tr>\n",
       "      <th>1999-01-06</th>\n",
       "      <td>0.022138</td>\n",
       "      <td>-0.165317</td>\n",
       "    </tr>\n",
       "    <tr>\n",
       "      <th>1999-01-07</th>\n",
       "      <td>-0.015723</td>\n",
       "      <td>0.256337</td>\n",
       "    </tr>\n",
       "    <tr>\n",
       "      <th>1999-01-08</th>\n",
       "      <td>-0.003120</td>\n",
       "      <td>0.021570</td>\n",
       "    </tr>\n",
       "  </tbody>\n",
       "</table>\n",
       "</div>"
      ],
      "text/plain": [
       "            EUROSTOXX    VSTOXX\n",
       "date                           \n",
       "1999-01-04        NaN       NaN\n",
       "1999-01-05   0.017228  0.489248\n",
       "1999-01-06   0.022138 -0.165317\n",
       "1999-01-07  -0.015723  0.256337\n",
       "1999-01-08  -0.003120  0.021570"
      ]
     },
     "execution_count": 17,
     "metadata": {},
     "output_type": "execute_result"
    }
   ],
   "source": [
    "# Plot log returns  of the two financial time series\n",
    "\n",
    "rets = np.log(data / data.shift(1)) \n",
    "rets.head()"
   ]
  },
  {
   "cell_type": "code",
   "execution_count": 18,
   "metadata": {
    "collapsed": false,
    "uuid": "771c53bf-78fb-4260-865b-39307973cb77"
   },
   "outputs": [
    {
     "data": {
      "text/plain": [
       "array([<matplotlib.axes._subplots.AxesSubplot object at 0x000002518BA2DA90>,\n",
       "       <matplotlib.axes._subplots.AxesSubplot object at 0x000002518BA8FB00>], dtype=object)"
      ]
     },
     "execution_count": 18,
     "metadata": {},
     "output_type": "execute_result"
    },
    {
     "data": {
      "image/png": "[encoded data removed]",
      "text/plain": [
       "<matplotlib.figure.Figure at 0x2518b9a7160>"
      ]
     },
     "metadata": {},
     "output_type": "display_data"
    }
   ],
   "source": [
    "rets.plot(subplots=True, grid=True, style='b', figsize=(8, 6))\n",
    "# title: Log returns of EURO STOXX 50 and VSTOXX"
   ]
  },
  {
   "cell_type": "code",
   "execution_count": 19,
   "metadata": {
    "collapsed": false,
    "uuid": "709bc1e8-03a8-47c6-9b21-4efa08052dab"
   },
   "outputs": [
    {
     "data": {
      "text/plain": [
       "date\n",
       "2016-04-26    0.001176\n",
       "2016-04-27    0.002924\n",
       "2016-04-28   -0.001599\n",
       "2016-04-29   -0.031600\n",
       "2016-05-02    0.001449\n",
       "Name: EUROSTOXX, dtype: float64"
      ]
     },
     "execution_count": 19,
     "metadata": {},
     "output_type": "execute_result"
    }
   ],
   "source": [
    "# We have everything together to implement the regression analysis. \n",
    "# The EURO STOXX 50 returns are taken as the independent variable \n",
    "# the VSTOXX returns are taken as the dependent variable\n",
    "# OLS - ordinary least-squares regression\n",
    "\n",
    "\n",
    "xdat = rets['EUROSTOXX']\n",
    "ydat = rets['VSTOXX']\n",
    "xdat.tail()"
   ]
  },
  {
   "cell_type": "code",
   "execution_count": 27,
   "metadata": {
    "collapsed": false,
    "scrolled": true
   },
   "outputs": [
    {
     "data": {
      "text/plain": [
       "<statsmodels.regression.linear_model.OLS at 0x2518c38c908>"
      ]
     },
     "execution_count": 27,
     "metadata": {},
     "output_type": "execute_result"
    }
   ],
   "source": [
    "# # THIS DOES NOT WORK ANY MORE !!!!!!!!!\n",
    "# CONSIDER USING MASTERING PANDAS EXAMPLE, OR \n",
    "# FILES RECORDED BEFORE\n",
    "\n",
    "# model = pd.ols(y=ydat, x=xdat)\n",
    "model = sm.OLS(ydat, xdat)\n",
    "model"
   ]
  },
  {
   "cell_type": "code",
   "execution_count": 35,
   "metadata": {
    "collapsed": false,
    "uuid": "ff00a7f1-173c-40f8-b077-9892ad310f4a"
   },
   "outputs": [
    {
     "name": "stdout",
     "output_type": "stream",
     "text": [
      "<bound method LikelihoodModel.information of <statsmodels.regression.linear_model.OLS object at 0x000002518C38C908>>\n"
     ]
    }
   ],
   "source": [
    "# model.beta\n",
    "print(model.information)\n",
    "# dir (model)"
   ]
  },
  {
   "cell_type": "code",
   "execution_count": 37,
   "metadata": {
    "collapsed": false,
    "uuid": "24c708df-1e81-48c6-b1c2-890dd52e541f"
   },
   "outputs": [
    {
     "ename": "TypeError",
     "evalue": "'PandasData' object does not support indexing",
     "output_type": "error",
     "traceback": [
      "\u001b[1;31m---------------------------------------------------------------------------\u001b[0m",
      "\u001b[1;31mTypeError\u001b[0m                                 Traceback (most recent call last)",
      "\u001b[1;32m<ipython-input-37-905cf2ab45ae>\u001b[0m in \u001b[0;36m<module>\u001b[1;34m()\u001b[0m\n\u001b[0;32m      3\u001b[0m \u001b[0mx\u001b[0m \u001b[1;33m=\u001b[0m \u001b[0mnp\u001b[0m\u001b[1;33m.\u001b[0m\u001b[0mlinspace\u001b[0m\u001b[1;33m(\u001b[0m\u001b[0max\u001b[0m\u001b[1;33m[\u001b[0m\u001b[1;36m0\u001b[0m\u001b[1;33m]\u001b[0m\u001b[1;33m,\u001b[0m \u001b[0max\u001b[0m\u001b[1;33m[\u001b[0m\u001b[1;36m1\u001b[0m\u001b[1;33m]\u001b[0m \u001b[1;33m+\u001b[0m \u001b[1;36m0.01\u001b[0m\u001b[1;33m)\u001b[0m\u001b[1;33m\u001b[0m\u001b[0m\n\u001b[0;32m      4\u001b[0m \u001b[1;31m# plt.plot(x, model.beta[1] + model.beta[0] * x, 'b', lw=2)\u001b[0m\u001b[1;33m\u001b[0m\u001b[1;33m\u001b[0m\u001b[0m\n\u001b[1;32m----> 5\u001b[1;33m \u001b[0mplt\u001b[0m\u001b[1;33m.\u001b[0m\u001b[0mplot\u001b[0m\u001b[1;33m(\u001b[0m\u001b[0mx\u001b[0m\u001b[1;33m,\u001b[0m \u001b[0mmodel\u001b[0m\u001b[1;33m.\u001b[0m\u001b[0mdata\u001b[0m\u001b[1;33m[\u001b[0m\u001b[1;36m1\u001b[0m\u001b[1;33m]\u001b[0m \u001b[1;33m+\u001b[0m \u001b[0mmodel\u001b[0m\u001b[1;33m.\u001b[0m\u001b[0mdata\u001b[0m\u001b[1;33m[\u001b[0m\u001b[1;36m0\u001b[0m\u001b[1;33m]\u001b[0m \u001b[1;33m*\u001b[0m \u001b[0mx\u001b[0m\u001b[1;33m,\u001b[0m \u001b[1;34m'b'\u001b[0m\u001b[1;33m,\u001b[0m \u001b[0mlw\u001b[0m\u001b[1;33m=\u001b[0m\u001b[1;36m2\u001b[0m\u001b[1;33m)\u001b[0m\u001b[1;33m\u001b[0m\u001b[0m\n\u001b[0m\u001b[0;32m      6\u001b[0m \u001b[0mplt\u001b[0m\u001b[1;33m.\u001b[0m\u001b[0mgrid\u001b[0m\u001b[1;33m(\u001b[0m\u001b[1;32mTrue\u001b[0m\u001b[1;33m)\u001b[0m\u001b[1;33m\u001b[0m\u001b[0m\n\u001b[0;32m      7\u001b[0m \u001b[0mplt\u001b[0m\u001b[1;33m.\u001b[0m\u001b[0maxis\u001b[0m\u001b[1;33m(\u001b[0m\u001b[1;34m'tight'\u001b[0m\u001b[1;33m)\u001b[0m\u001b[1;33m\u001b[0m\u001b[0m\n",
      "\u001b[1;31mTypeError\u001b[0m: 'PandasData' object does not support indexing"
     ]
    },
    {
     "data": {
      "image/png": "[encoded data removed]",
      "text/plain": [
       "<matplotlib.figure.Figure at 0x2518c4856a0>"
      ]
     },
     "metadata": {},
     "output_type": "display_data"
    }
   ],
   "source": [
    "plt.plot(xdat, ydat, 'r.')\n",
    "ax = plt.axis()  # grab axis values\n",
    "x = np.linspace(ax[0], ax[1] + 0.01)\n",
    "# plt.plot(x, model.beta[1] + model.beta[0] * x, 'b', lw=2)\n",
    "plt.plot(x, model.data[1] + model.data[0] * x, 'b', lw=2)\n",
    "plt.grid(True)\n",
    "plt.axis('tight')\n",
    "plt.xlabel('EURO STOXX 50 returns')\n",
    "plt.ylabel('VSTOXX returns')\n",
    "# tag: scatter_rets\n",
    "# title: Scatter plot of log returns and regression line"
   ]
  },
  {
   "cell_type": "code",
   "execution_count": 36,
   "metadata": {
    "collapsed": false,
    "uuid": "e1f9009e-5b73-4e04-9b10-deea36f4e508"
   },
   "outputs": [
    {
     "data": {
      "text/html": [
       "<div>\n",
       "<table border=\"1\" class=\"dataframe\">\n",
       "  <thead>\n",
       "    <tr style=\"text-align: right;\">\n",
       "      <th></th>\n",
       "      <th>EUROSTOXX</th>\n",
       "      <th>VSTOXX</th>\n",
       "    </tr>\n",
       "  </thead>\n",
       "  <tbody>\n",
       "    <tr>\n",
       "      <th>EUROSTOXX</th>\n",
       "      <td>1.000000</td>\n",
       "      <td>-0.735661</td>\n",
       "    </tr>\n",
       "    <tr>\n",
       "      <th>VSTOXX</th>\n",
       "      <td>-0.735661</td>\n",
       "      <td>1.000000</td>\n",
       "    </tr>\n",
       "  </tbody>\n",
       "</table>\n",
       "</div>"
      ],
      "text/plain": [
       "           EUROSTOXX    VSTOXX\n",
       "EUROSTOXX   1.000000 -0.735661\n",
       "VSTOXX     -0.735661  1.000000"
      ]
     },
     "execution_count": 36,
     "metadata": {},
     "output_type": "execute_result"
    }
   ],
   "source": [
    "rets.corr()"
   ]
  },
  {
   "cell_type": "code",
   "execution_count": 79,
   "metadata": {
    "collapsed": false,
    "uuid": "a534d3db-df59-4a31-b0b7-1ab3c19d77d0"
   },
   "outputs": [
    {
     "name": "stderr",
     "output_type": "stream",
     "text": [
      "C:\\Anaconda3\\lib\\site-packages\\ipykernel\\__main__.py:2: FutureWarning: pd.rolling_corr is deprecated for Series and will be removed in a future version, replace with \n",
      "\tSeries.rolling(window=252).corr(other=<Series>)\n",
      "  from ipykernel import kernelapp as app\n"
     ]
    },
    {
     "data": {
      "text/plain": [
       "<matplotlib.axes._subplots.AxesSubplot at 0x19de0bccb00>"
      ]
     },
     "execution_count": 79,
     "metadata": {},
     "output_type": "execute_result"
    },
    {
     "data": {
      "image/png": "[encoded data removed]",
      "text/plain": [
       "<matplotlib.figure.Figure at 0x19de0406dd8>"
      ]
     },
     "metadata": {},
     "output_type": "display_data"
    }
   ],
   "source": [
    "pd.rolling_corr(rets['EUROSTOXX'], rets['VSTOXX'],\n",
    "                window=252).plot(grid=True, style='b')\n",
    "# tag: roll_corr\n",
    "# title: Rolling correlation between EURO STOXX 50 and VSTOXX"
   ]
  },
  {
   "cell_type": "markdown",
   "metadata": {},
   "source": [
    "## High Frequency Data  "
   ]
  },
  {
   "cell_type": "code",
   "execution_count": 80,
   "metadata": {
    "collapsed": false,
    "uuid": "cd3bd5f2-565a-4158-a796-e8ec41f76d88"
   },
   "outputs": [],
   "source": [
    "# how to cope with tick data instead of daily financial data\n",
    "\n",
    "import numpy as np\n",
    "import pandas as pd\n",
    "import datetime as dt\n",
    "from urllib.request import urlretrieve\n",
    "%matplotlib inline"
   ]
  },
  {
   "cell_type": "code",
   "execution_count": 81,
   "metadata": {
    "collapsed": true
   },
   "outputs": [],
   "source": [
    "# The Norwegian online broker Netfonds provides tick data for a multitude of stocks, \n",
    "# in particular for American names\n",
    "\n",
    "url1 = 'http://www.netfonds.no/quotes/posdump.php?'\n",
    "url2 = 'date=%s%s%s&paper=NKE.N&csv_format=csv'\n",
    "url = url1 + url2"
   ]
  },
  {
   "cell_type": "code",
   "execution_count": 82,
   "metadata": {
    "collapsed": true
   },
   "outputs": [],
   "source": [
    "# ADJUST DATES\n",
    "\n",
    "year = '2016'\n",
    "month = '05'\n",
    "days = ['19', '20', '23', '24', '25']\n",
    "  # dates might need to be updated"
   ]
  },
  {
   "cell_type": "code",
   "execution_count": 83,
   "metadata": {
    "collapsed": true
   },
   "outputs": [],
   "source": [
    "#We want to download, combine, and analyze a week’s worth of tick data for the Nike stock\n",
    "\n",
    "NKE = pd.DataFrame()\n",
    "for day in days:\n",
    "    NKE = NKE.append(pd.read_csv(url % (year, month, day),\n",
    "                       index_col=0, header=0, parse_dates=True))\n",
    "NKE.columns = ['bid', 'bdepth', 'bdeptht', 'offer', 'odepth', 'odeptht']\n",
    "  # shorter colummn names"
   ]
  },
  {
   "cell_type": "code",
   "execution_count": 84,
   "metadata": {
    "collapsed": false,
    "uuid": "1fce3fb2-c664-4f77-80dc-0e4907f86dac"
   },
   "outputs": [
    {
     "data": {
      "text/html": [
       "<div>\n",
       "<table border=\"1\" class=\"dataframe\">\n",
       "  <thead>\n",
       "    <tr style=\"text-align: right;\">\n",
       "      <th></th>\n",
       "      <th>bid</th>\n",
       "      <th>bdepth</th>\n",
       "      <th>bdeptht</th>\n",
       "      <th>offer</th>\n",
       "      <th>odepth</th>\n",
       "      <th>odeptht</th>\n",
       "    </tr>\n",
       "    <tr>\n",
       "      <th>time</th>\n",
       "      <th></th>\n",
       "      <th></th>\n",
       "      <th></th>\n",
       "      <th></th>\n",
       "      <th></th>\n",
       "      <th></th>\n",
       "    </tr>\n",
       "  </thead>\n",
       "  <tbody>\n",
       "    <tr>\n",
       "      <th>2016-05-25 21:59:56</th>\n",
       "      <td>56.01</td>\n",
       "      <td>3200</td>\n",
       "      <td>3200</td>\n",
       "      <td>56.02</td>\n",
       "      <td>8200</td>\n",
       "      <td>8200</td>\n",
       "    </tr>\n",
       "    <tr>\n",
       "      <th>2016-05-25 21:59:57</th>\n",
       "      <td>56.01</td>\n",
       "      <td>6700</td>\n",
       "      <td>6700</td>\n",
       "      <td>56.02</td>\n",
       "      <td>8500</td>\n",
       "      <td>8500</td>\n",
       "    </tr>\n",
       "    <tr>\n",
       "      <th>2016-05-25 21:59:58</th>\n",
       "      <td>56.01</td>\n",
       "      <td>9300</td>\n",
       "      <td>9300</td>\n",
       "      <td>56.02</td>\n",
       "      <td>6800</td>\n",
       "      <td>6800</td>\n",
       "    </tr>\n",
       "    <tr>\n",
       "      <th>2016-05-25 21:59:59</th>\n",
       "      <td>56.01</td>\n",
       "      <td>7000</td>\n",
       "      <td>7000</td>\n",
       "      <td>56.02</td>\n",
       "      <td>6300</td>\n",
       "      <td>6300</td>\n",
       "    </tr>\n",
       "    <tr>\n",
       "      <th>2016-05-25 22:00:00</th>\n",
       "      <td>56.01</td>\n",
       "      <td>6600</td>\n",
       "      <td>6600</td>\n",
       "      <td>56.02</td>\n",
       "      <td>2500</td>\n",
       "      <td>2500</td>\n",
       "    </tr>\n",
       "  </tbody>\n",
       "</table>\n",
       "</div>"
      ],
      "text/plain": [
       "                       bid  bdepth  bdeptht  offer  odepth  odeptht\n",
       "time                                                               \n",
       "2016-05-25 21:59:56  56.01    3200     3200  56.02    8200     8200\n",
       "2016-05-25 21:59:57  56.01    6700     6700  56.02    8500     8500\n",
       "2016-05-25 21:59:58  56.01    9300     9300  56.02    6800     6800\n",
       "2016-05-25 21:59:59  56.01    7000     7000  56.02    6300     6300\n",
       "2016-05-25 22:00:00  56.01    6600     6600  56.02    2500     2500"
      ]
     },
     "execution_count": 84,
     "metadata": {},
     "output_type": "execute_result"
    }
   ],
   "source": [
    "NKE.tail()"
   ]
  },
  {
   "cell_type": "code",
   "execution_count": 85,
   "metadata": {
    "collapsed": false
   },
   "outputs": [
    {
     "name": "stdout",
     "output_type": "stream",
     "text": [
      "<class 'pandas.core.frame.DataFrame'>\n",
      "DatetimeIndex: 63089 entries, 2016-05-19 01:25:29 to 2016-05-25 22:00:00\n",
      "Data columns (total 6 columns):\n",
      "bid        63089 non-null float64\n",
      "bdepth     63089 non-null int64\n",
      "bdeptht    63089 non-null int64\n",
      "offer      63089 non-null float64\n",
      "odepth     63089 non-null int64\n",
      "odeptht    63089 non-null int64\n",
      "dtypes: float64(2), int64(4)\n",
      "memory usage: 3.4 MB\n"
     ]
    }
   ],
   "source": [
    "NKE.info()"
   ]
  },
  {
   "cell_type": "code",
   "execution_count": 86,
   "metadata": {
    "collapsed": false,
    "uuid": "b0fa9c58-2087-4f99-a7f1-efeb490bb456"
   },
   "outputs": [
    {
     "data": {
      "text/plain": [
       "<matplotlib.axes._subplots.AxesSubplot at 0x19de0d88710>"
      ]
     },
     "execution_count": 86,
     "metadata": {},
     "output_type": "execute_result"
    },
    {
     "data": {
      "image/png": "[encoded data removed]",
      "text/plain": [
       "<matplotlib.figure.Figure at 0x19de0d9dcc0>"
      ]
     },
     "metadata": {},
     "output_type": "display_data"
    }
   ],
   "source": [
    "# show the bid columns graphically\n",
    "# One can identify a number of periods without any \n",
    "# trading activity — i.e., times when the markets are closed\n",
    "\n",
    "NKE['bid'].plot(grid=True)\n",
    "# title: NKE stock tick data for a week"
   ]
  },
  {
   "cell_type": "code",
   "execution_count": 94,
   "metadata": {
    "collapsed": false,
    "uuid": "73447893-dc77-488a-8252-64c29a92e4c0"
   },
   "outputs": [
    {
     "data": {
      "text/plain": [
       "array([<matplotlib.axes._subplots.AxesSubplot object at 0x0000019DDFAFEA58>,\n",
       "       <matplotlib.axes._subplots.AxesSubplot object at 0x0000019DDFB40EF0>], dtype=object)"
      ]
     },
     "execution_count": 94,
     "metadata": {},
     "output_type": "execute_result"
    },
    {
     "data": {
      "image/png": "[encoded data removed]",
      "text/plain": [
       "<matplotlib.figure.Figure at 0x19de2563630>"
      ]
     },
     "metadata": {},
     "output_type": "display_data"
    }
   ],
   "source": [
    "# show the trading activity for the first day in the sample and three hours of the second\n",
    "\n",
    "# ADJUST DATES\n",
    "\n",
    "to_plot = NKE[['bid', 'bdeptht']][\n",
    "    (NKE.index > dt.datetime(2016, 5, 19, 0, 0))\n",
    " &  (NKE.index < dt.datetime(2016, 5, 20, 2, 59))]\n",
    "to_plot.plot(subplots=True, style='b', figsize=(8, 5), grid=True)\n",
    "\n",
    "# title: NKE stock tick data and volume for a trading day"
   ]
  },
  {
   "cell_type": "code",
   "execution_count": 101,
   "metadata": {
    "collapsed": false,
    "uuid": "47a27b89-f6a1-4b3c-9944-8a6109642c72"
   },
   "outputs": [
    {
     "data": {
      "text/html": [
       "<div>\n",
       "<table border=\"1\" class=\"dataframe\">\n",
       "  <thead>\n",
       "    <tr style=\"text-align: right;\">\n",
       "      <th></th>\n",
       "      <th>bid</th>\n",
       "      <th>bdepth</th>\n",
       "      <th>bdeptht</th>\n",
       "      <th>offer</th>\n",
       "      <th>odepth</th>\n",
       "      <th>odeptht</th>\n",
       "    </tr>\n",
       "    <tr>\n",
       "      <th>time</th>\n",
       "      <th></th>\n",
       "      <th></th>\n",
       "      <th></th>\n",
       "      <th></th>\n",
       "      <th></th>\n",
       "      <th></th>\n",
       "    </tr>\n",
       "  </thead>\n",
       "  <tbody>\n",
       "    <tr>\n",
       "      <th>2016-05-19 01:15:00</th>\n",
       "      <td>56.02</td>\n",
       "      <td>200.0</td>\n",
       "      <td>200.0</td>\n",
       "      <td>56.20</td>\n",
       "      <td>900.0</td>\n",
       "      <td>900.0</td>\n",
       "    </tr>\n",
       "    <tr>\n",
       "      <th>2016-05-19 01:40:00</th>\n",
       "      <td>56.01</td>\n",
       "      <td>300.0</td>\n",
       "      <td>300.0</td>\n",
       "      <td>56.48</td>\n",
       "      <td>400.0</td>\n",
       "      <td>400.0</td>\n",
       "    </tr>\n",
       "    <tr>\n",
       "      <th>2016-05-19 02:05:00</th>\n",
       "      <td>NaN</td>\n",
       "      <td>NaN</td>\n",
       "      <td>NaN</td>\n",
       "      <td>NaN</td>\n",
       "      <td>NaN</td>\n",
       "      <td>NaN</td>\n",
       "    </tr>\n",
       "    <tr>\n",
       "      <th>2016-05-19 02:30:00</th>\n",
       "      <td>NaN</td>\n",
       "      <td>NaN</td>\n",
       "      <td>NaN</td>\n",
       "      <td>NaN</td>\n",
       "      <td>NaN</td>\n",
       "      <td>NaN</td>\n",
       "    </tr>\n",
       "    <tr>\n",
       "      <th>2016-05-19 02:55:00</th>\n",
       "      <td>NaN</td>\n",
       "      <td>NaN</td>\n",
       "      <td>NaN</td>\n",
       "      <td>NaN</td>\n",
       "      <td>NaN</td>\n",
       "      <td>NaN</td>\n",
       "    </tr>\n",
       "  </tbody>\n",
       "</table>\n",
       "</div>"
      ],
      "text/plain": [
       "                       bid  bdepth  bdeptht  offer  odepth  odeptht\n",
       "time                                                               \n",
       "2016-05-19 01:15:00  56.02   200.0    200.0  56.20   900.0    900.0\n",
       "2016-05-19 01:40:00  56.01   300.0    300.0  56.48   400.0    400.0\n",
       "2016-05-19 02:05:00    NaN     NaN      NaN    NaN     NaN      NaN\n",
       "2016-05-19 02:30:00    NaN     NaN      NaN    NaN     NaN      NaN\n",
       "2016-05-19 02:55:00    NaN     NaN      NaN    NaN     NaN      NaN"
      ]
     },
     "execution_count": 101,
     "metadata": {},
     "output_type": "execute_result"
    }
   ],
   "source": [
    "NKE_resam = NKE.resample(rule='25min').mean()\n",
    "np.round(NKE_resam.head(), 2)"
   ]
  },
  {
   "cell_type": "code",
   "execution_count": 102,
   "metadata": {
    "collapsed": false,
    "uuid": "7730056f-4ce8-4a23-853e-f5206eb86ea7"
   },
   "outputs": [
    {
     "data": {
      "text/plain": [
       "<matplotlib.axes._subplots.AxesSubplot at 0x19de2703b38>"
      ]
     },
     "execution_count": 102,
     "metadata": {},
     "output_type": "execute_result"
    },
    {
     "data": {
      "image/png": "[encoded data removed]",
      "text/plain": [
       "<matplotlib.figure.Figure at 0x19de2703d68>"
      ]
     },
     "metadata": {},
     "output_type": "display_data"
    }
   ],
   "source": [
    "NKE_resam['bid'].fillna(method='ffill').plot()\n",
    "# title: Resampled NKE stock tick data"
   ]
  },
  {
   "cell_type": "code",
   "execution_count": 103,
   "metadata": {
    "collapsed": false,
    "uuid": "d8d2f963-3909-4434-95fa-69f932b49451"
   },
   "outputs": [],
   "source": [
    "# To conclude this section, we apply a custom-defined Python function to our new data set.\n",
    "# The function we choose is arbitrary and does not make any economic sense here; it just\n",
    "# mirrors the stock performance at a certain stock price level\n",
    "\n",
    "\n",
    "def reversal(x):\n",
    "    return 2 * 95 - x"
   ]
  },
  {
   "cell_type": "code",
   "execution_count": 104,
   "metadata": {
    "collapsed": false,
    "uuid": "e6d72fc4-0617-480c-84a3-56892f0e4b01"
   },
   "outputs": [
    {
     "data": {
      "text/plain": [
       "<matplotlib.axes._subplots.AxesSubplot at 0x19de2736240>"
      ]
     },
     "execution_count": 104,
     "metadata": {},
     "output_type": "execute_result"
    },
    {
     "data": {
      "image/png": "[encoded data removed]",
      "text/plain": [
       "<matplotlib.figure.Figure at 0x19de272f748>"
      ]
     },
     "metadata": {},
     "output_type": "display_data"
    }
   ],
   "source": [
    "NKE_resam['bid'].fillna(method='ffill').apply(reversal).plot(grid=True)\n",
    "# title: Resampled NKE stock tick data with function applied to it"
   ]
  },
  {
   "cell_type": "markdown",
   "metadata": {},
   "source": [
    "## Documentation\n",
    "* the home page of the pandas library: http://pandas.pydata.org\n",
    "* comprehensive online documentation available at http://pandas.pydata.org/pandas-docs/stable/\n",
    "* The documentation in PDF format with 1,500+ pages http://pandas.pydata.org/pandasdocs/stable/pandas.pdf"
   ]
  },
  {
   "cell_type": "code",
   "execution_count": null,
   "metadata": {
    "collapsed": true
   },
   "outputs": [],
   "source": []
  }
 ],
 "metadata": {
  "kernelspec": {
   "display_name": "Python [Root]",
   "language": "python",
   "name": "Python [Root]"
  },
  "language_info": {
   "codemirror_mode": {
    "name": "ipython",
    "version": 3
   },
   "file_extension": ".py",
   "mimetype": "text/x-python",
   "name": "python",
   "nbconvert_exporter": "python",
   "pygments_lexer": "ipython3",
   "version": "3.5.2"
  }
 },
 "nbformat": 4,
 "nbformat_minor": 0
}
