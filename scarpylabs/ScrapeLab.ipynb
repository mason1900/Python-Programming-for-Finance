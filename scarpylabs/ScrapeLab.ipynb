{
 "cells": [
  {
   "cell_type": "markdown",
   "metadata": {},
   "source": [
    "# CPS600 - Python Programming for Finance \n",
    "###  \n",
    "<img src=\"https://www.syracuse.edu/wp-content/themes/g6-carbon/img/syracuse-university-seal.svg?ver=6.3.9\" style=\"width: 200px;\"/>\n",
    "\n",
    "## Lab: Scraping\n",
    "\n",
    "###  October 23, 2018\n"
   ]
  },
  {
   "cell_type": "markdown",
   "metadata": {},
   "source": [
    "**Exercise 1**\n",
    "\n",
    "*This exercise may take you some time and some digging. Please stick with it.*"
   ]
  },
  {
   "cell_type": "markdown",
   "metadata": {},
   "source": [
    "Write a spider like the ones we looked at in class. Your spider should:\n",
    "\n",
    "* Start with [this URL](https://en.wikipedia.org/wiki/Time_series).\n",
    "\n",
    "* Set the `DEPTH_LIMIT` to $2$. This means that you will not get carried away in your crawling and you will not collect too much data.\n",
    "\n",
    "* Collect the text content of the first sentence of the introductory paragraph of each article you visit and write it to a file.\n",
    "\n",
    "* Follow any hyperlinks in that first sentence and parse the resulting pages as well...(again, your `DEPTH_LIMIT` prevents this from going on and on)."
   ]
  },
  {
   "cell_type": "markdown",
   "metadata": {},
   "source": [
    "**Exercise 2**"
   ]
  },
  {
   "cell_type": "markdown",
   "metadata": {},
   "source": [
    "Sign up for Twitter. Create and gather your API credentials in a `json` formatted file as I demonstrated in class. Use Python to post a status update (i.e., to tweet) on [Twitter](http://twitter.com). Say something like \"Hello Twitter, I am <your_name> and I love Python!\"."
   ]
  }
 ],
 "metadata": {
  "kernelspec": {
   "display_name": "Python 3",
   "language": "python",
   "name": "python3"
  },
  "language_info": {
   "codemirror_mode": {
    "name": "ipython",
    "version": 3
   },
   "file_extension": ".py",
   "mimetype": "text/x-python",
   "name": "python",
   "nbconvert_exporter": "python",
   "pygments_lexer": "ipython3",
   "version": "3.6.6"
  }
 },
 "nbformat": 4,
 "nbformat_minor": 2
}
