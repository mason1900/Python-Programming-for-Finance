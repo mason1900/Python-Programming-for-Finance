{
 "cells": [
  {
   "cell_type": "markdown",
   "metadata": {},
   "source": [
    "# CPS600 - Python Programming for Finance \n",
    "###  \n",
    "<img src=\"https://www.syracuse.edu/wp-content/themes/g6-carbon/img/syracuse-university-seal.svg?ver=6.3.9\" style=\"width: 200px;\"/>\n",
    "\n",
    "## Term Project\n",
    "\n",
    "###  December 4, 2018"
   ]
  },
  {
   "cell_type": "markdown",
   "metadata": {},
   "source": [
    "Recall that we used the *Black-Scholes-Merton* equation for *geometric Brownian motion*"
   ]
  },
  {
   "cell_type": "markdown",
   "metadata": {},
   "source": [
    "$$ S_T = S_0\\exp((r-\\frac{1}{2}\\sigma^2)T + \\sigma\\sqrt{T}z)$$"
   ]
  },
  {
   "cell_type": "markdown",
   "metadata": {},
   "source": [
    "(See the examples in the *Stochastics* notebooks.)"
   ]
  },
  {
   "cell_type": "markdown",
   "metadata": {},
   "source": [
    "We didn't quite make it to the topic of **square-root diffusion**. Let's do that one now:"
   ]
  },
  {
   "cell_type": "markdown",
   "metadata": {},
   "source": [
    "$$ dx_t = \\kappa (\\theta - x_t)dt + \\sigma \\sqrt{x_t}dZ_t$$"
   ]
  },
  {
   "cell_type": "markdown",
   "metadata": {},
   "source": [
    "The values of these terms are as follows\n",
    "\n",
    "* $x_t$ is the process level at date t\n",
    "* $\\kappa$ is the mean-reversion factor\n",
    "* $\\theta$ is the long-term mean of the process\n",
    "* $\\sigma$ is the constant volatility parameter\n",
    "* $Z$, as before, is the *standard Brownian motion* variable"
   ]
  },
  {
   "cell_type": "markdown",
   "metadata": {},
   "source": [
    "Applying Euler's method to the above differential equation yields"
   ]
  },
  {
   "cell_type": "markdown",
   "metadata": {},
   "source": [
    "$$\\tilde{x_t} = \\tilde{x_s} + \\kappa(\\theta - \\tilde{x_s})\\Delta t + \\sigma \\sqrt{\\tilde{x_s}^+}\\sqrt{\\Delta t} z_t $$\n",
    "\n",
    "$$ x_t = \\tilde{x_t}^+ $$"
   ]
  },
  {
   "cell_type": "markdown",
   "metadata": {},
   "source": [
    "What does this notation $x^+$ mean? It is the *maximum of $x$ and $0$*."
   ]
  },
  {
   "cell_type": "markdown",
   "metadata": {},
   "source": [
    "Now we will initialize the parameters and start the *discretization*:"
   ]
  },
  {
   "cell_type": "code",
   "execution_count": 20,
   "metadata": {},
   "outputs": [],
   "source": [
    "x0, kappa, theta, sigma = 0.05, 3.0, 0.02, 0.1"
   ]
  },
  {
   "cell_type": "code",
   "execution_count": 21,
   "metadata": {},
   "outputs": [],
   "source": [
    "T = 2.0\n",
    "M = 50\n",
    "I, dt = 10000, T / M"
   ]
  },
  {
   "cell_type": "code",
   "execution_count": 30,
   "metadata": {},
   "outputs": [],
   "source": [
    "import numpy as np\n",
    "import numpy.random as npr\n",
    "def srd_euler():\n",
    "    xh = np.zeros((M + 1, I))\n",
    "    x1 = np.zeros_like(xh)\n",
    "    xh[0] = x0\n",
    "    x1[0] = x0\n",
    "    for t in range(1, M + 1):\n",
    "        xh[t] = (xh[t - 1]\n",
    "                    + kappa * (theta - np.maximum(xh[t - 1], 0)) * dt\n",
    "                    + sigma * np.sqrt(np.maximum(xh[t - 1], 0)) * np.sqrt(dt)\n",
    "                    * npr.standard_normal(I))\n",
    "    return np.maximum(xh, 0)\n",
    "x1 = srd_euler()"
   ]
  },
  {
   "cell_type": "markdown",
   "metadata": {},
   "source": [
    "Now we run the simulation and view the results in a histogram and path form."
   ]
  },
  {
   "cell_type": "code",
   "execution_count": null,
   "metadata": {},
   "outputs": [],
   "source": [
    "import matplotlib.pyplot as plt\n",
    "%matplotlib inline\n",
    "plt.hist(x1[-1],bins=50)\n",
    "plt.xlabel('value')\n",
    "plt.ylabel('frequency')\n",
    "plt.grid(True)"
   ]
  },
  {
   "cell_type": "markdown",
   "metadata": {},
   "source": [
    "Now, the first $10$ simulated paths:"
   ]
  },
  {
   "cell_type": "code",
   "execution_count": null,
   "metadata": {},
   "outputs": [],
   "source": [
    "plt.plot(x1[:,:10], lw=1.5)\n",
    "plt.xlabel('time')\n",
    "plt.ylabel('index level')\n",
    "plt.grid(True)"
   ]
  },
  {
   "cell_type": "markdown",
   "metadata": {},
   "source": [
    "We can get results that are mathematically more precise using another method:\n",
    "\n",
    "$$ x_t = \\frac{\\sigma^2(1 - e^{-\\kappa \\Delta t})}{4 \\kappa} \\chi'^2_d\\Big(\\frac{4 \\kappa e^{-\\kappa \\Delta t}}{\\sigma^2(1 - e^{-\\kappa \\Delta t})}x_s\\Big) $$"
   ]
  },
  {
   "cell_type": "markdown",
   "metadata": {},
   "source": [
    "And here is the Python implementation:"
   ]
  },
  {
   "cell_type": "code",
   "execution_count": 35,
   "metadata": {},
   "outputs": [],
   "source": [
    "def srd_exact():\n",
    "    x2 = np.zeros((M + 1, I))\n",
    "    x2[0] = x0\n",
    "    for t in range(1, M + 1):\n",
    "        df = 4 * theta * kappa / sigma ** 2\n",
    "        c = (sigma ** 2 * (1 - np.exp(-kappa * dt))) / (4 * kappa)\n",
    "        nc = np.exp(-kappa * dt) / c * x2[t - 1]\n",
    "        x2[t] = c * npr.noncentral_chisquare(df, nc, size=I)\n",
    "    return x2\n",
    "x2 = srd_exact()"
   ]
  },
  {
   "cell_type": "code",
   "execution_count": null,
   "metadata": {},
   "outputs": [],
   "source": [
    "plt.hist(x2[-1],bins=50)\n",
    "plt.xlabel('value')\n",
    "plt.ylabel('frequency')\n",
    "plt.grid(True)"
   ]
  },
  {
   "cell_type": "code",
   "execution_count": null,
   "metadata": {},
   "outputs": [],
   "source": [
    "plt.plot(x2[:,:10], lw=1.5)\n",
    "plt.xlabel('time')\n",
    "plt.ylabel('index level')\n",
    "plt.grid(True)"
   ]
  }
 ],
 "metadata": {
  "kernelspec": {
   "display_name": "Python 3",
   "language": "python",
   "name": "python3"
  },
  "language_info": {
   "codemirror_mode": {
    "name": "ipython",
    "version": 3
   },
   "file_extension": ".py",
   "mimetype": "text/x-python",
   "name": "python",
   "nbconvert_exporter": "python",
   "pygments_lexer": "ipython3",
   "version": "3.6.6"
  }
 },
 "nbformat": 4,
 "nbformat_minor": 2
}
