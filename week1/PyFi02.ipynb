{
 "cells": [
  {
   "cell_type": "markdown",
   "metadata": {},
   "source": [
    "# CPS600 - Python Programming for Finance \n",
    "###  \n",
    "<img src=\"https://www.syracuse.edu/wp-content/themes/g6-carbon/img/syracuse-university-seal.svg?ver=6.3.9\" style=\"width: 200px;\"/>\n",
    "\n",
    "# Intro to Python\n",
    "\n",
    "###  August 30, 2018"
   ]
  },
  {
   "cell_type": "code",
   "execution_count": 2,
   "metadata": {},
   "outputs": [
    {
     "data": {
      "text/plain": [
       "['False',\n",
       " 'None',\n",
       " 'True',\n",
       " 'and',\n",
       " 'as',\n",
       " 'assert',\n",
       " 'break',\n",
       " 'class',\n",
       " 'continue',\n",
       " 'def',\n",
       " 'del',\n",
       " 'elif',\n",
       " 'else',\n",
       " 'except',\n",
       " 'finally',\n",
       " 'for',\n",
       " 'from',\n",
       " 'global',\n",
       " 'if',\n",
       " 'import',\n",
       " 'in',\n",
       " 'is',\n",
       " 'lambda',\n",
       " 'nonlocal',\n",
       " 'not',\n",
       " 'or',\n",
       " 'pass',\n",
       " 'raise',\n",
       " 'return',\n",
       " 'try',\n",
       " 'while',\n",
       " 'with',\n",
       " 'yield']"
      ]
     },
     "execution_count": 2,
     "metadata": {},
     "output_type": "execute_result"
    }
   ],
   "source": [
    "import keyword\n",
    "keyword.kwlist"
   ]
  },
  {
   "cell_type": "code",
   "execution_count": 4,
   "metadata": {},
   "outputs": [
    {
     "data": {
      "text/plain": [
       "True"
      ]
     },
     "execution_count": 4,
     "metadata": {},
     "output_type": "execute_result"
    }
   ],
   "source": [
    "'dir' in dir(__builtin__)"
   ]
  },
  {
   "cell_type": "code",
   "execution_count": 7,
   "metadata": {},
   "outputs": [
    {
     "data": {
      "text/html": [
       "\n",
       "    <div class=\"bk-root\">\n",
       "        <a href=\"https://bokeh.pydata.org\" target=\"_blank\" class=\"bk-logo bk-logo-small bk-logo-notebook\"></a>\n",
       "        <span id=\"390df6aa-4511-4286-9ae7-1c08a76692e9\">Loading BokehJS ...</span>\n",
       "    </div>"
      ]
     },
     "metadata": {},
     "output_type": "display_data"
    },
    {
     "data": {
      "application/javascript": [
       "\n",
       "(function(root) {\n",
       "  function now() {\n",
       "    return new Date();\n",
       "  }\n",
       "\n",
       "  var force = true;\n",
       "\n",
       "  if (typeof (root._bokeh_onload_callbacks) === \"undefined\" || force === true) {\n",
       "    root._bokeh_onload_callbacks = [];\n",
       "    root._bokeh_is_loading = undefined;\n",
       "  }\n",
       "\n",
       "  var JS_MIME_TYPE = 'application/javascript';\n",
       "  var HTML_MIME_TYPE = 'text/html';\n",
       "  var EXEC_MIME_TYPE = 'application/vnd.bokehjs_exec.v0+json';\n",
       "  var CLASS_NAME = 'output_bokeh rendered_html';\n",
       "\n",
       "  /**\n",
       "   * Render data to the DOM node\n",
       "   */\n",
       "  function render(props, node) {\n",
       "    var script = document.createElement(\"script\");\n",
       "    node.appendChild(script);\n",
       "  }\n",
       "\n",
       "  /**\n",
       "   * Handle when an output is cleared or removed\n",
       "   */\n",
       "  function handleClearOutput(event, handle) {\n",
       "    var cell = handle.cell;\n",
       "\n",
       "    var id = cell.output_area._bokeh_element_id;\n",
       "    var server_id = cell.output_area._bokeh_server_id;\n",
       "    // Clean up Bokeh references\n",
       "    if (id != null && id in Bokeh.index) {\n",
       "      Bokeh.index[id].model.document.clear();\n",
       "      delete Bokeh.index[id];\n",
       "    }\n",
       "\n",
       "    if (server_id !== undefined) {\n",
       "      // Clean up Bokeh references\n",
       "      var cmd = \"from bokeh.io.state import curstate; print(curstate().uuid_to_server['\" + server_id + \"'].get_sessions()[0].document.roots[0]._id)\";\n",
       "      cell.notebook.kernel.execute(cmd, {\n",
       "        iopub: {\n",
       "          output: function(msg) {\n",
       "            var id = msg.content.text.trim();\n",
       "            if (id in Bokeh.index) {\n",
       "              Bokeh.index[id].model.document.clear();\n",
       "              delete Bokeh.index[id];\n",
       "            }\n",
       "          }\n",
       "        }\n",
       "      });\n",
       "      // Destroy server and session\n",
       "      var cmd = \"import bokeh.io.notebook as ion; ion.destroy_server('\" + server_id + \"')\";\n",
       "      cell.notebook.kernel.execute(cmd);\n",
       "    }\n",
       "  }\n",
       "\n",
       "  /**\n",
       "   * Handle when a new output is added\n",
       "   */\n",
       "  function handleAddOutput(event, handle) {\n",
       "    var output_area = handle.output_area;\n",
       "    var output = handle.output;\n",
       "\n",
       "    // limit handleAddOutput to display_data with EXEC_MIME_TYPE content only\n",
       "    if ((output.output_type != \"display_data\") || (!output.data.hasOwnProperty(EXEC_MIME_TYPE))) {\n",
       "      return\n",
       "    }\n",
       "\n",
       "    var toinsert = output_area.element.find(\".\" + CLASS_NAME.split(' ')[0]);\n",
       "\n",
       "    if (output.metadata[EXEC_MIME_TYPE][\"id\"] !== undefined) {\n",
       "      toinsert[toinsert.length - 1].firstChild.textContent = output.data[JS_MIME_TYPE];\n",
       "      // store reference to embed id on output_area\n",
       "      output_area._bokeh_element_id = output.metadata[EXEC_MIME_TYPE][\"id\"];\n",
       "    }\n",
       "    if (output.metadata[EXEC_MIME_TYPE][\"server_id\"] !== undefined) {\n",
       "      var bk_div = document.createElement(\"div\");\n",
       "      bk_div.innerHTML = output.data[HTML_MIME_TYPE];\n",
       "      var script_attrs = bk_div.children[0].attributes;\n",
       "      for (var i = 0; i < script_attrs.length; i++) {\n",
       "        toinsert[toinsert.length - 1].firstChild.setAttribute(script_attrs[i].name, script_attrs[i].value);\n",
       "      }\n",
       "      // store reference to server id on output_area\n",
       "      output_area._bokeh_server_id = output.metadata[EXEC_MIME_TYPE][\"server_id\"];\n",
       "    }\n",
       "  }\n",
       "\n",
       "  function register_renderer(events, OutputArea) {\n",
       "\n",
       "    function append_mime(data, metadata, element) {\n",
       "      // create a DOM node to render to\n",
       "      var toinsert = this.create_output_subarea(\n",
       "        metadata,\n",
       "        CLASS_NAME,\n",
       "        EXEC_MIME_TYPE\n",
       "      );\n",
       "      this.keyboard_manager.register_events(toinsert);\n",
       "      // Render to node\n",
       "      var props = {data: data, metadata: metadata[EXEC_MIME_TYPE]};\n",
       "      render(props, toinsert[toinsert.length - 1]);\n",
       "      element.append(toinsert);\n",
       "      return toinsert\n",
       "    }\n",
       "\n",
       "    /* Handle when an output is cleared or removed */\n",
       "    events.on('clear_output.CodeCell', handleClearOutput);\n",
       "    events.on('delete.Cell', handleClearOutput);\n",
       "\n",
       "    /* Handle when a new output is added */\n",
       "    events.on('output_added.OutputArea', handleAddOutput);\n",
       "\n",
       "    /**\n",
       "     * Register the mime type and append_mime function with output_area\n",
       "     */\n",
       "    OutputArea.prototype.register_mime_type(EXEC_MIME_TYPE, append_mime, {\n",
       "      /* Is output safe? */\n",
       "      safe: true,\n",
       "      /* Index of renderer in `output_area.display_order` */\n",
       "      index: 0\n",
       "    });\n",
       "  }\n",
       "\n",
       "  // register the mime type if in Jupyter Notebook environment and previously unregistered\n",
       "  if (root.Jupyter !== undefined) {\n",
       "    var events = require('base/js/events');\n",
       "    var OutputArea = require('notebook/js/outputarea').OutputArea;\n",
       "\n",
       "    if (OutputArea.prototype.mime_types().indexOf(EXEC_MIME_TYPE) == -1) {\n",
       "      register_renderer(events, OutputArea);\n",
       "    }\n",
       "  }\n",
       "\n",
       "  \n",
       "  if (typeof (root._bokeh_timeout) === \"undefined\" || force === true) {\n",
       "    root._bokeh_timeout = Date.now() + 5000;\n",
       "    root._bokeh_failed_load = false;\n",
       "  }\n",
       "\n",
       "  var NB_LOAD_WARNING = {'data': {'text/html':\n",
       "     \"<div style='background-color: #fdd'>\\n\"+\n",
       "     \"<p>\\n\"+\n",
       "     \"BokehJS does not appear to have successfully loaded. If loading BokehJS from CDN, this \\n\"+\n",
       "     \"may be due to a slow or bad network connection. Possible fixes:\\n\"+\n",
       "     \"</p>\\n\"+\n",
       "     \"<ul>\\n\"+\n",
       "     \"<li>re-rerun `output_notebook()` to attempt to load from CDN again, or</li>\\n\"+\n",
       "     \"<li>use INLINE resources instead, as so:</li>\\n\"+\n",
       "     \"</ul>\\n\"+\n",
       "     \"<code>\\n\"+\n",
       "     \"from bokeh.resources import INLINE\\n\"+\n",
       "     \"output_notebook(resources=INLINE)\\n\"+\n",
       "     \"</code>\\n\"+\n",
       "     \"</div>\"}};\n",
       "\n",
       "  function display_loaded() {\n",
       "    var el = document.getElementById(\"390df6aa-4511-4286-9ae7-1c08a76692e9\");\n",
       "    if (el != null) {\n",
       "      el.textContent = \"BokehJS is loading...\";\n",
       "    }\n",
       "    if (root.Bokeh !== undefined) {\n",
       "      if (el != null) {\n",
       "        el.textContent = \"BokehJS \" + root.Bokeh.version + \" successfully loaded.\";\n",
       "      }\n",
       "    } else if (Date.now() < root._bokeh_timeout) {\n",
       "      setTimeout(display_loaded, 100)\n",
       "    }\n",
       "  }\n",
       "\n",
       "\n",
       "  function run_callbacks() {\n",
       "    try {\n",
       "      root._bokeh_onload_callbacks.forEach(function(callback) { callback() });\n",
       "    }\n",
       "    finally {\n",
       "      delete root._bokeh_onload_callbacks\n",
       "    }\n",
       "    console.info(\"Bokeh: all callbacks have finished\");\n",
       "  }\n",
       "\n",
       "  function load_libs(js_urls, callback) {\n",
       "    root._bokeh_onload_callbacks.push(callback);\n",
       "    if (root._bokeh_is_loading > 0) {\n",
       "      console.log(\"Bokeh: BokehJS is being loaded, scheduling callback at\", now());\n",
       "      return null;\n",
       "    }\n",
       "    if (js_urls == null || js_urls.length === 0) {\n",
       "      run_callbacks();\n",
       "      return null;\n",
       "    }\n",
       "    console.log(\"Bokeh: BokehJS not loaded, scheduling load and callback at\", now());\n",
       "    root._bokeh_is_loading = js_urls.length;\n",
       "    for (var i = 0; i < js_urls.length; i++) {\n",
       "      var url = js_urls[i];\n",
       "      var s = document.createElement('script');\n",
       "      s.src = url;\n",
       "      s.async = false;\n",
       "      s.onreadystatechange = s.onload = function() {\n",
       "        root._bokeh_is_loading--;\n",
       "        if (root._bokeh_is_loading === 0) {\n",
       "          console.log(\"Bokeh: all BokehJS libraries loaded\");\n",
       "          run_callbacks()\n",
       "        }\n",
       "      };\n",
       "      s.onerror = function() {\n",
       "        console.warn(\"failed to load library \" + url);\n",
       "      };\n",
       "      console.log(\"Bokeh: injecting script tag for BokehJS library: \", url);\n",
       "      document.getElementsByTagName(\"head\")[0].appendChild(s);\n",
       "    }\n",
       "  };var element = document.getElementById(\"390df6aa-4511-4286-9ae7-1c08a76692e9\");\n",
       "  if (element == null) {\n",
       "    console.log(\"Bokeh: ERROR: autoload.js configured with elementid '390df6aa-4511-4286-9ae7-1c08a76692e9' but no matching script tag was found. \")\n",
       "    return false;\n",
       "  }\n",
       "\n",
       "  var js_urls = [\"https://cdn.pydata.org/bokeh/release/bokeh-0.13.0.min.js\", \"https://cdn.pydata.org/bokeh/release/bokeh-widgets-0.13.0.min.js\", \"https://cdn.pydata.org/bokeh/release/bokeh-tables-0.13.0.min.js\", \"https://cdn.pydata.org/bokeh/release/bokeh-gl-0.13.0.min.js\"];\n",
       "\n",
       "  var inline_js = [\n",
       "    function(Bokeh) {\n",
       "      Bokeh.set_log_level(\"info\");\n",
       "    },\n",
       "    \n",
       "    function(Bokeh) {\n",
       "      \n",
       "    },\n",
       "    function(Bokeh) {\n",
       "      console.log(\"Bokeh: injecting CSS: https://cdn.pydata.org/bokeh/release/bokeh-0.13.0.min.css\");\n",
       "      Bokeh.embed.inject_css(\"https://cdn.pydata.org/bokeh/release/bokeh-0.13.0.min.css\");\n",
       "      console.log(\"Bokeh: injecting CSS: https://cdn.pydata.org/bokeh/release/bokeh-widgets-0.13.0.min.css\");\n",
       "      Bokeh.embed.inject_css(\"https://cdn.pydata.org/bokeh/release/bokeh-widgets-0.13.0.min.css\");\n",
       "      console.log(\"Bokeh: injecting CSS: https://cdn.pydata.org/bokeh/release/bokeh-tables-0.13.0.min.css\");\n",
       "      Bokeh.embed.inject_css(\"https://cdn.pydata.org/bokeh/release/bokeh-tables-0.13.0.min.css\");\n",
       "    }\n",
       "  ];\n",
       "\n",
       "  function run_inline_js() {\n",
       "    \n",
       "    if ((root.Bokeh !== undefined) || (force === true)) {\n",
       "      for (var i = 0; i < inline_js.length; i++) {\n",
       "        inline_js[i].call(root, root.Bokeh);\n",
       "      }if (force === true) {\n",
       "        display_loaded();\n",
       "      }} else if (Date.now() < root._bokeh_timeout) {\n",
       "      setTimeout(run_inline_js, 100);\n",
       "    } else if (!root._bokeh_failed_load) {\n",
       "      console.log(\"Bokeh: BokehJS failed to load within specified timeout.\");\n",
       "      root._bokeh_failed_load = true;\n",
       "    } else if (force !== true) {\n",
       "      var cell = $(document.getElementById(\"390df6aa-4511-4286-9ae7-1c08a76692e9\")).parents('.cell').data().cell;\n",
       "      cell.output_area.append_execute_result(NB_LOAD_WARNING)\n",
       "    }\n",
       "\n",
       "  }\n",
       "\n",
       "  if (root._bokeh_is_loading === 0) {\n",
       "    console.log(\"Bokeh: BokehJS loaded, going straight to plotting\");\n",
       "    run_inline_js();\n",
       "  } else {\n",
       "    load_libs(js_urls, function() {\n",
       "      console.log(\"Bokeh: BokehJS plotting callback run at\", now());\n",
       "      run_inline_js();\n",
       "    });\n",
       "  }\n",
       "}(window));"
      ],
      "application/vnd.bokehjs_load.v0+json": "\n(function(root) {\n  function now() {\n    return new Date();\n  }\n\n  var force = true;\n\n  if (typeof (root._bokeh_onload_callbacks) === \"undefined\" || force === true) {\n    root._bokeh_onload_callbacks = [];\n    root._bokeh_is_loading = undefined;\n  }\n\n  \n\n  \n  if (typeof (root._bokeh_timeout) === \"undefined\" || force === true) {\n    root._bokeh_timeout = Date.now() + 5000;\n    root._bokeh_failed_load = false;\n  }\n\n  var NB_LOAD_WARNING = {'data': {'text/html':\n     \"<div style='background-color: #fdd'>\\n\"+\n     \"<p>\\n\"+\n     \"BokehJS does not appear to have successfully loaded. If loading BokehJS from CDN, this \\n\"+\n     \"may be due to a slow or bad network connection. Possible fixes:\\n\"+\n     \"</p>\\n\"+\n     \"<ul>\\n\"+\n     \"<li>re-rerun `output_notebook()` to attempt to load from CDN again, or</li>\\n\"+\n     \"<li>use INLINE resources instead, as so:</li>\\n\"+\n     \"</ul>\\n\"+\n     \"<code>\\n\"+\n     \"from bokeh.resources import INLINE\\n\"+\n     \"output_notebook(resources=INLINE)\\n\"+\n     \"</code>\\n\"+\n     \"</div>\"}};\n\n  function display_loaded() {\n    var el = document.getElementById(\"390df6aa-4511-4286-9ae7-1c08a76692e9\");\n    if (el != null) {\n      el.textContent = \"BokehJS is loading...\";\n    }\n    if (root.Bokeh !== undefined) {\n      if (el != null) {\n        el.textContent = \"BokehJS \" + root.Bokeh.version + \" successfully loaded.\";\n      }\n    } else if (Date.now() < root._bokeh_timeout) {\n      setTimeout(display_loaded, 100)\n    }\n  }\n\n\n  function run_callbacks() {\n    try {\n      root._bokeh_onload_callbacks.forEach(function(callback) { callback() });\n    }\n    finally {\n      delete root._bokeh_onload_callbacks\n    }\n    console.info(\"Bokeh: all callbacks have finished\");\n  }\n\n  function load_libs(js_urls, callback) {\n    root._bokeh_onload_callbacks.push(callback);\n    if (root._bokeh_is_loading > 0) {\n      console.log(\"Bokeh: BokehJS is being loaded, scheduling callback at\", now());\n      return null;\n    }\n    if (js_urls == null || js_urls.length === 0) {\n      run_callbacks();\n      return null;\n    }\n    console.log(\"Bokeh: BokehJS not loaded, scheduling load and callback at\", now());\n    root._bokeh_is_loading = js_urls.length;\n    for (var i = 0; i < js_urls.length; i++) {\n      var url = js_urls[i];\n      var s = document.createElement('script');\n      s.src = url;\n      s.async = false;\n      s.onreadystatechange = s.onload = function() {\n        root._bokeh_is_loading--;\n        if (root._bokeh_is_loading === 0) {\n          console.log(\"Bokeh: all BokehJS libraries loaded\");\n          run_callbacks()\n        }\n      };\n      s.onerror = function() {\n        console.warn(\"failed to load library \" + url);\n      };\n      console.log(\"Bokeh: injecting script tag for BokehJS library: \", url);\n      document.getElementsByTagName(\"head\")[0].appendChild(s);\n    }\n  };var element = document.getElementById(\"390df6aa-4511-4286-9ae7-1c08a76692e9\");\n  if (element == null) {\n    console.log(\"Bokeh: ERROR: autoload.js configured with elementid '390df6aa-4511-4286-9ae7-1c08a76692e9' but no matching script tag was found. \")\n    return false;\n  }\n\n  var js_urls = [\"https://cdn.pydata.org/bokeh/release/bokeh-0.13.0.min.js\", \"https://cdn.pydata.org/bokeh/release/bokeh-widgets-0.13.0.min.js\", \"https://cdn.pydata.org/bokeh/release/bokeh-tables-0.13.0.min.js\", \"https://cdn.pydata.org/bokeh/release/bokeh-gl-0.13.0.min.js\"];\n\n  var inline_js = [\n    function(Bokeh) {\n      Bokeh.set_log_level(\"info\");\n    },\n    \n    function(Bokeh) {\n      \n    },\n    function(Bokeh) {\n      console.log(\"Bokeh: injecting CSS: https://cdn.pydata.org/bokeh/release/bokeh-0.13.0.min.css\");\n      Bokeh.embed.inject_css(\"https://cdn.pydata.org/bokeh/release/bokeh-0.13.0.min.css\");\n      console.log(\"Bokeh: injecting CSS: https://cdn.pydata.org/bokeh/release/bokeh-widgets-0.13.0.min.css\");\n      Bokeh.embed.inject_css(\"https://cdn.pydata.org/bokeh/release/bokeh-widgets-0.13.0.min.css\");\n      console.log(\"Bokeh: injecting CSS: https://cdn.pydata.org/bokeh/release/bokeh-tables-0.13.0.min.css\");\n      Bokeh.embed.inject_css(\"https://cdn.pydata.org/bokeh/release/bokeh-tables-0.13.0.min.css\");\n    }\n  ];\n\n  function run_inline_js() {\n    \n    if ((root.Bokeh !== undefined) || (force === true)) {\n      for (var i = 0; i < inline_js.length; i++) {\n        inline_js[i].call(root, root.Bokeh);\n      }if (force === true) {\n        display_loaded();\n      }} else if (Date.now() < root._bokeh_timeout) {\n      setTimeout(run_inline_js, 100);\n    } else if (!root._bokeh_failed_load) {\n      console.log(\"Bokeh: BokehJS failed to load within specified timeout.\");\n      root._bokeh_failed_load = true;\n    } else if (force !== true) {\n      var cell = $(document.getElementById(\"390df6aa-4511-4286-9ae7-1c08a76692e9\")).parents('.cell').data().cell;\n      cell.output_area.append_execute_result(NB_LOAD_WARNING)\n    }\n\n  }\n\n  if (root._bokeh_is_loading === 0) {\n    console.log(\"Bokeh: BokehJS loaded, going straight to plotting\");\n    run_inline_js();\n  } else {\n    load_libs(js_urls, function() {\n      console.log(\"Bokeh: BokehJS plotting callback run at\", now());\n      run_inline_js();\n    });\n  }\n}(window));"
     },
     "metadata": {},
     "output_type": "display_data"
    }
   ],
   "source": [
    "import numpy as np\n",
    "import pandas as pd\n",
    "from bokeh.plotting import figure, output_notebook, show\n",
    "from bokeh.models import Range1d\n",
    "from scipy import stats\n",
    "output_notebook() # So that we'll see the output here, not in a separate window"
   ]
  },
  {
   "cell_type": "code",
   "execution_count": 10,
   "metadata": {},
   "outputs": [],
   "source": [
    "sgmd = lambda x: 1 / (1 + np.exp(-x))"
   ]
  },
  {
   "cell_type": "code",
   "execution_count": 11,
   "metadata": {},
   "outputs": [
    {
     "data": {
      "text/html": [
       "\n",
       "\n",
       "\n",
       "\n",
       "\n",
       "\n",
       "  <div class=\"bk-root\" id=\"4263dc20-4e77-4737-b1d6-2c55c2b3f4be\"></div>\n"
      ]
     },
     "metadata": {},
     "output_type": "display_data"
    },
    {
     "data": {
      "application/javascript": [
       "(function(root) {\n",
       "  function embed_document(root) {\n",
       "    \n",
       "  var docs_json = {\"96fc2851-808e-4b3b-a88e-a589888c77eb\":{\"roots\":{\"references\":[{\"attributes\":{\"overlay\":{\"id\":\"ca3a899a-718e-45f1-9354-bb8a20d673fe\",\"type\":\"BoxAnnotation\"}},\"id\":\"22e425e5-2571-4453-b99c-bace3dd6caa6\",\"type\":\"BoxZoomTool\"},{\"attributes\":{},\"id\":\"3a863976-a543-46c8-b3d8-4040cc828295\",\"type\":\"SaveTool\"},{\"attributes\":{\"formatter\":{\"id\":\"2a8001b2-a2c5-4f76-b8c2-709d4c4be93a\",\"type\":\"BasicTickFormatter\"},\"plot\":{\"id\":\"5645e6ce-0897-4600-9ee5-9dcde4cafe53\",\"subtype\":\"Figure\",\"type\":\"Plot\"},\"ticker\":{\"id\":\"4aa3a9fc-955b-43b8-9d5c-4fd46ca48549\",\"type\":\"BasicTicker\"}},\"id\":\"af59439b-f492-40ba-a1f1-4956d91feb50\",\"type\":\"LinearAxis\"},{\"attributes\":{},\"id\":\"6b09061c-94c6-47df-8f02-ea00c568b2e3\",\"type\":\"ResetTool\"},{\"attributes\":{\"line_alpha\":{\"value\":0.1},\"line_color\":{\"value\":\"#1f77b4\"},\"line_width\":{\"value\":4},\"xs\":{\"field\":\"xs\"},\"ys\":{\"field\":\"ys\"}},\"id\":\"16c261d4-3e58-4d49-aa25-13121d0cfab4\",\"type\":\"MultiLine\"},{\"attributes\":{\"callback\":null},\"id\":\"910b9ba9-5fc3-4f40-815f-3f9a91ae3b52\",\"type\":\"DataRange1d\"},{\"attributes\":{},\"id\":\"df4de185-6271-4e2d-b2e1-16d541ae074e\",\"type\":\"HelpTool\"},{\"attributes\":{\"formatter\":{\"id\":\"447c0980-cf6a-4f92-8e71-e452678a079d\",\"type\":\"BasicTickFormatter\"},\"plot\":{\"id\":\"5645e6ce-0897-4600-9ee5-9dcde4cafe53\",\"subtype\":\"Figure\",\"type\":\"Plot\"},\"ticker\":{\"id\":\"0413f763-c7e1-46ac-b148-f5b5f9ecacc5\",\"type\":\"BasicTicker\"}},\"id\":\"e2ba623f-f2c7-4684-be65-d33df0013ce5\",\"type\":\"LinearAxis\"},{\"attributes\":{\"plot\":{\"id\":\"5645e6ce-0897-4600-9ee5-9dcde4cafe53\",\"subtype\":\"Figure\",\"type\":\"Plot\"},\"ticker\":{\"id\":\"4aa3a9fc-955b-43b8-9d5c-4fd46ca48549\",\"type\":\"BasicTicker\"}},\"id\":\"9cc2a3fa-5c80-4b1a-b914-e6be0138db46\",\"type\":\"Grid\"},{\"attributes\":{},\"id\":\"cf98505e-e6f9-45d3-a7a5-680eaa85c84a\",\"type\":\"LinearScale\"},{\"attributes\":{\"data_source\":{\"id\":\"fbc73ed2-a6da-4123-a8ad-529cbbe0e028\",\"type\":\"ColumnDataSource\"},\"glyph\":{\"id\":\"852f6183-eb77-405e-8e84-decbe8c54d5a\",\"type\":\"MultiLine\"},\"hover_glyph\":null,\"muted_glyph\":null,\"nonselection_glyph\":{\"id\":\"16c261d4-3e58-4d49-aa25-13121d0cfab4\",\"type\":\"MultiLine\"},\"selection_glyph\":null,\"view\":{\"id\":\"2deda433-3f70-4e58-bba9-3d4d11657f2c\",\"type\":\"CDSView\"}},\"id\":\"93bf4c5d-3fbb-4a10-95e9-ddd45d6229eb\",\"type\":\"GlyphRenderer\"},{\"attributes\":{},\"id\":\"4aa3a9fc-955b-43b8-9d5c-4fd46ca48549\",\"type\":\"BasicTicker\"},{\"attributes\":{},\"id\":\"5b933f58-a17c-4f67-a9af-256f72e362ff\",\"type\":\"Selection\"},{\"attributes\":{},\"id\":\"0413f763-c7e1-46ac-b148-f5b5f9ecacc5\",\"type\":\"BasicTicker\"},{\"attributes\":{\"line_alpha\":{\"field\":\"line_alpha\"},\"line_color\":{\"field\":\"line_color\"},\"line_width\":{\"value\":4},\"xs\":{\"field\":\"xs\"},\"ys\":{\"field\":\"ys\"}},\"id\":\"852f6183-eb77-405e-8e84-decbe8c54d5a\",\"type\":\"MultiLine\"},{\"attributes\":{\"dimension\":1,\"plot\":{\"id\":\"5645e6ce-0897-4600-9ee5-9dcde4cafe53\",\"subtype\":\"Figure\",\"type\":\"Plot\"},\"ticker\":{\"id\":\"0413f763-c7e1-46ac-b148-f5b5f9ecacc5\",\"type\":\"BasicTicker\"}},\"id\":\"f4362686-6e99-49ce-b935-f5b885c49c75\",\"type\":\"Grid\"},{\"attributes\":{\"bottom_units\":\"screen\",\"fill_alpha\":{\"value\":0.5},\"fill_color\":{\"value\":\"lightgrey\"},\"left_units\":\"screen\",\"level\":\"overlay\",\"line_alpha\":{\"value\":1.0},\"line_color\":{\"value\":\"black\"},\"line_dash\":[4,4],\"line_width\":{\"value\":2},\"plot\":null,\"render_mode\":\"css\",\"right_units\":\"screen\",\"top_units\":\"screen\"},\"id\":\"ca3a899a-718e-45f1-9354-bb8a20d673fe\",\"type\":\"BoxAnnotation\"},{\"attributes\":{\"below\":[{\"id\":\"af59439b-f492-40ba-a1f1-4956d91feb50\",\"type\":\"LinearAxis\"}],\"left\":[{\"id\":\"e2ba623f-f2c7-4684-be65-d33df0013ce5\",\"type\":\"LinearAxis\"}],\"plot_height\":400,\"plot_width\":400,\"renderers\":[{\"id\":\"af59439b-f492-40ba-a1f1-4956d91feb50\",\"type\":\"LinearAxis\"},{\"id\":\"9cc2a3fa-5c80-4b1a-b914-e6be0138db46\",\"type\":\"Grid\"},{\"id\":\"e2ba623f-f2c7-4684-be65-d33df0013ce5\",\"type\":\"LinearAxis\"},{\"id\":\"f4362686-6e99-49ce-b935-f5b885c49c75\",\"type\":\"Grid\"},{\"id\":\"ca3a899a-718e-45f1-9354-bb8a20d673fe\",\"type\":\"BoxAnnotation\"},{\"id\":\"93bf4c5d-3fbb-4a10-95e9-ddd45d6229eb\",\"type\":\"GlyphRenderer\"}],\"title\":{\"id\":\"8c4238dd-466f-4634-a42d-2cf145e2741e\",\"type\":\"Title\"},\"toolbar\":{\"id\":\"91616daf-e397-4e42-8e6a-c8f92926b49e\",\"type\":\"Toolbar\"},\"x_range\":{\"id\":\"736b43e1-c5f7-4aab-9a70-18039c4c71f7\",\"type\":\"DataRange1d\"},\"x_scale\":{\"id\":\"cf98505e-e6f9-45d3-a7a5-680eaa85c84a\",\"type\":\"LinearScale\"},\"y_range\":{\"id\":\"910b9ba9-5fc3-4f40-815f-3f9a91ae3b52\",\"type\":\"DataRange1d\"},\"y_scale\":{\"id\":\"ddf37db7-a478-498d-97bb-e04386d28784\",\"type\":\"LinearScale\"}},\"id\":\"5645e6ce-0897-4600-9ee5-9dcde4cafe53\",\"subtype\":\"Figure\",\"type\":\"Plot\"},{\"attributes\":{},\"id\":\"447c0980-cf6a-4f92-8e71-e452678a079d\",\"type\":\"BasicTickFormatter\"},{\"attributes\":{\"plot\":null,\"text\":\"\"},\"id\":\"8c4238dd-466f-4634-a42d-2cf145e2741e\",\"type\":\"Title\"},{\"attributes\":{},\"id\":\"31145c81-ce03-431e-b337-2914f37c0e0b\",\"type\":\"UnionRenderers\"},{\"attributes\":{\"callback\":null,\"data\":{\"line_alpha\":[0.8,0.3,0.5],\"line_color\":[\"firebrick\",\"navy\",\"orange\"],\"xs\":[{\"__ndarray__\":\"GC1EVPshGcBD1GGYAKAYwG97f9wFHhjAmiKdIAucF8DGybpkEBoXwPFw2KgVmBbAHRj27BoWFsBIvxMxIJQVwHRmMXUlEhXAnw1PuSqQFMDLtGz9Lw4UwPZbikE1jBPAIgOohToKE8BNqsXJP4gSwHhR4w1FBhLApPgAUkqEEcDQnx6WTwIRwPtGPNpUgBDATdyzPLT8D8CkKu/EvvgOwPt4Kk3J9A3AUsdl1dPwDMCpFaFd3uwLwABk3OXo6ArAVrIXbvPkCcCtAFP2/eAIwARPjn4I3QfAW53JBhPZBsCy6wSPHdUFwAk6QBco0QTAYIh7nzLNA8C31rYnPckCwA4l8q9HxQHAZHMtOFLBAMB4g9GAuXr/vyQgSJHOcv2/1Ly+oeNq+7+AWTWy+GL5vzD2q8INW/e/3JIi0yJT9b+ML5njN0vzvzjMD/RMQ/G/0NEMCcR27r8oC/op7mbqv4hE50oYV+a/4H3Ua0JH4r+AboMZ2W7cvzDhXVstT9S/wKdwOgNfyL+AGkt8Vz+wv8AaS3xXP7A/4KdwOgNfyD9A4V1bLU/UP4BugxnZbtw/6H3Ua0JH4j+IROdKGFfmPzAL+inuZuo/0NEMCcR27j88zA/0TEPxP4wvmeM3S/M/4JIi0yJT9T8w9qvCDVv3P4RZNbL4Yvk/1Ly+oeNq+z8oIEiRznL9P3iD0YC5ev8/aHMtOFLBAEAQJfKvR8UBQLjWtic9yQJAYIh7nzLNA0AMOkAXKNEEQLTrBI8d1QVAXJ3JBhPZBkAET45+CN0HQLAAU/b94AhAWLIXbvPkCUAAZNzl6OgKQKgVoV3e7AtAVMdl1dPwDED8eCpNyfQNQKQq78S++A5AUNyzPLT8D0D8RjzaVIAQQNCfHpZPAhFApPgAUkqEEUB6UeMNRQYSQE6qxck/iBJAIgOohToKE0D2W4pBNYwTQMy0bP0vDhRAoA1PuSqQFEB0ZjF1JRIVQEi/EzEglBVAHhj27BoWFkDycNioFZgWQMbJumQQGhdAnCKdIAucF0Bwe3/cBR4YQETUYZgAoBhAGC1EVPshGUA=\",\"dtype\":\"float64\",\"shape\":[100]},{\"__ndarray__\":\"GC1EVPshGcBD1GGYAKAYwG97f9wFHhjAmiKdIAucF8DGybpkEBoXwPFw2KgVmBbAHRj27BoWFsBIvxMxIJQVwHRmMXUlEhXAnw1PuSqQFMDLtGz9Lw4UwPZbikE1jBPAIgOohToKE8BNqsXJP4gSwHhR4w1FBhLApPgAUkqEEcDQnx6WTwIRwPtGPNpUgBDATdyzPLT8D8CkKu/EvvgOwPt4Kk3J9A3AUsdl1dPwDMCpFaFd3uwLwABk3OXo6ArAVrIXbvPkCcCtAFP2/eAIwARPjn4I3QfAW53JBhPZBsCy6wSPHdUFwAk6QBco0QTAYIh7nzLNA8C31rYnPckCwA4l8q9HxQHAZHMtOFLBAMB4g9GAuXr/vyQgSJHOcv2/1Ly+oeNq+7+AWTWy+GL5vzD2q8INW/e/3JIi0yJT9b+ML5njN0vzvzjMD/RMQ/G/0NEMCcR27r8oC/op7mbqv4hE50oYV+a/4H3Ua0JH4r+AboMZ2W7cvzDhXVstT9S/wKdwOgNfyL+AGkt8Vz+wv8AaS3xXP7A/4KdwOgNfyD9A4V1bLU/UP4BugxnZbtw/6H3Ua0JH4j+IROdKGFfmPzAL+inuZuo/0NEMCcR27j88zA/0TEPxP4wvmeM3S/M/4JIi0yJT9T8w9qvCDVv3P4RZNbL4Yvk/1Ly+oeNq+z8oIEiRznL9P3iD0YC5ev8/aHMtOFLBAEAQJfKvR8UBQLjWtic9yQJAYIh7nzLNA0AMOkAXKNEEQLTrBI8d1QVAXJ3JBhPZBkAET45+CN0HQLAAU/b94AhAWLIXbvPkCUAAZNzl6OgKQKgVoV3e7AtAVMdl1dPwDED8eCpNyfQNQKQq78S++A5AUNyzPLT8D0D8RjzaVIAQQNCfHpZPAhFApPgAUkqEEUB6UeMNRQYSQE6qxck/iBJAIgOohToKE0D2W4pBNYwTQMy0bP0vDhRAoA1PuSqQFEB0ZjF1JRIVQEi/EzEglBVAHhj27BoWFkDycNioFZgWQMbJumQQGhdAnCKdIAucF0Bwe3/cBR4YQETUYZgAoBhAGC1EVPshGUA=\",\"dtype\":\"float64\",\"shape\":[100]},{\"__ndarray__\":\"GC1EVPshGcBD1GGYAKAYwG97f9wFHhjAmiKdIAucF8DGybpkEBoXwPFw2KgVmBbAHRj27BoWFsBIvxMxIJQVwHRmMXUlEhXAnw1PuSqQFMDLtGz9Lw4UwPZbikE1jBPAIgOohToKE8BNqsXJP4gSwHhR4w1FBhLApPgAUkqEEcDQnx6WTwIRwPtGPNpUgBDATdyzPLT8D8CkKu/EvvgOwPt4Kk3J9A3AUsdl1dPwDMCpFaFd3uwLwABk3OXo6ArAVrIXbvPkCcCtAFP2/eAIwARPjn4I3QfAW53JBhPZBsCy6wSPHdUFwAk6QBco0QTAYIh7nzLNA8C31rYnPckCwA4l8q9HxQHAZHMtOFLBAMB4g9GAuXr/vyQgSJHOcv2/1Ly+oeNq+7+AWTWy+GL5vzD2q8INW/e/3JIi0yJT9b+ML5njN0vzvzjMD/RMQ/G/0NEMCcR27r8oC/op7mbqv4hE50oYV+a/4H3Ua0JH4r+AboMZ2W7cvzDhXVstT9S/wKdwOgNfyL+AGkt8Vz+wv8AaS3xXP7A/4KdwOgNfyD9A4V1bLU/UP4BugxnZbtw/6H3Ua0JH4j+IROdKGFfmPzAL+inuZuo/0NEMCcR27j88zA/0TEPxP4wvmeM3S/M/4JIi0yJT9T8w9qvCDVv3P4RZNbL4Yvk/1Ly+oeNq+z8oIEiRznL9P3iD0YC5ev8/aHMtOFLBAEAQJfKvR8UBQLjWtic9yQJAYIh7nzLNA0AMOkAXKNEEQLTrBI8d1QVAXJ3JBhPZBkAET45+CN0HQLAAU/b94AhAWLIXbvPkCUAAZNzl6OgKQKgVoV3e7AtAVMdl1dPwDED8eCpNyfQNQKQq78S++A5AUNyzPLT8D0D8RjzaVIAQQNCfHpZPAhFApPgAUkqEEUB6UeMNRQYSQE6qxck/iBJAIgOohToKE0D2W4pBNYwTQMy0bP0vDhRAoA1PuSqQFEB0ZjF1JRIVQEi/EzEglBVAHhj27BoWFkDycNioFZgWQMbJumQQGhdAnCKdIAucF0Bwe3/cBR4YQETUYZgAoBhAGC1EVPshGUA=\",\"dtype\":\"float64\",\"shape\":[100]}],\"ys\":[{\"__ndarray__\":\"Xv9tXZ+YXj93nkhEWV5hPxuRpzYfuGM/bVlH+VZjZj/1jMFhBmtpP9b8my6x22w/YZ62W8ZhcD/Hi+1NXZlyP1aL6bHFHXU/GnYVEmX5dz+qYAowCTh7P1AADsUY534/eDHYbeWKgT+BP5LTsuqDP2Pg7+3CnIY/oKwW2DesiT8v4aFptSWNP1aZrLXKi5A/62VZbhHJkj+WInef7lOVP/gW3H3iNpg/3rxxEdl9mz++lb1yWzafPzvTOtnjt6E/kToDKcgdpD+nMJgpwtamP+hyLoQQ7qk/WybKe3dwrT+S/u3TOrawPzll5Og/+bI/IZpOdqKKtT/4+9Kf/XS4P7O1UQFcxLs/Nrq4ammGvz91kH2rVeXBP1D7sINgUcQ/LVz+JVYRxz+4suYSkjDKP2ev/Uv5u80/6Eziyhfh0D96sV736SnTPxzguJriwdU/wmF7DLiz2D8yh+rKkwvcP8R2Z7ZE198/rBadDDwT4j9uVaczfYXkPwNOqWCATOc/CjhpNb5z6j+nNwbGPAjuP8rxtbFiDPE/tVO91hBb8z/DspB0sPn1P0cCZFwT8/g/1lQWPoJT/D+ekzWydxQAQAM8jSeYQQJAEgRQjB+6BEBAf/JaQogHQCXNNqGWtwpAm9Wa2kNVDkCQY2GiHDgRQHxGIse1jBNALMhLbw0yFkCreTMsETMZQJ/2VC8pnBxAAPBVxLU9IEBcmkAqa3AiQGJMe+RI7yRA1sQPmp3EJ0BCXDIQHfwqQC+ebH8Qoy5ACk6wuUZkMUAEm+QL2r4zQKkNBPr6ajZA9MWyHLNzOUCb5Nd3iuU8QCf7Mp5dZ0BA8D2wRbafQkBetmiW+iRFQKQ2HaeTAUhAWC2sQFNBS0BPaDOvpPFOQE/RSBfikFFALbOY637xU0CH/oCHeqRWQJ/h19L6tFlAskCO9acvXUDo1RtPcJFgQKxn4616z2JACtzP/zVbZUC1LycPJj9oQDtBbfU6h2tAOrG6aQJBb0BU07Ld771xQHKQGLClJHRAOhNBjo3edkBledD36fZ5QJv/MIuDen1AGH4X6e67gEA=\",\"dtype\":\"float64\",\"shape\":[100]},{\"__ndarray__\":\"Xv9tXZ+YXr93nkhEWV5hvxuRpzYfuGO/bVlH+VZjZr/1jMFhBmtpv9b8my6x22y/YZ62W8ZhcL/Hi+1NXZlyv1aL6bHFHXW/GnYVEmX5d7+qYAowCTh7v1AADsUY536/eDHYbeWKgb+BP5LTsuqDv2Pg7+3CnIa/oKwW2Desib8v4aFptSWNv1aZrLXKi5C/62VZbhHJkr+WInef7lOVv/gW3H3iNpi/3rxxEdl9m7++lb1yWzafvzvTOtnjt6G/kToDKcgdpL+nMJgpwtamv+hyLoQQ7qm/WybKe3dwrb+S/u3TOrawvzll5Og/+bK/IZpOdqKKtb/4+9Kf/XS4v7O1UQFcxLu/Nrq4ammGv791kH2rVeXBv1D7sINgUcS/LVz+JVYRx7+4suYSkjDKv2ev/Uv5u82/6Eziyhfh0L96sV736SnTvxzguJriwdW/wmF7DLiz2L8yh+rKkwvcv8R2Z7ZE19+/rBadDDwT4r9uVaczfYXkvwNOqWCATOe/CjhpNb5z6r+nNwbGPAjuv8rxtbFiDPG/tVO91hBb87/DspB0sPn1v0cCZFwT8/i/1lQWPoJT/L+ekzWydxQAwAM8jSeYQQLAEgRQjB+6BMBAf/JaQogHwCXNNqGWtwrAm9Wa2kNVDsCQY2GiHDgRwHxGIse1jBPALMhLbw0yFsCreTMsETMZwJ/2VC8pnBzAAPBVxLU9IMBcmkAqa3AiwGJMe+RI7yTA1sQPmp3EJ8BCXDIQHfwqwC+ebH8Qoy7ACk6wuUZkMcAEm+QL2r4zwKkNBPr6ajbA9MWyHLNzOcCb5Nd3iuU8wCf7Mp5dZ0DA8D2wRbafQsBetmiW+iRFwKQ2HaeTAUjAWC2sQFNBS8BPaDOvpPFOwE/RSBfikFHALbOY637xU8CH/oCHeqRWwJ/h19L6tFnAskCO9acvXcDo1RtPcJFgwKxn4616z2LACtzP/zVbZcC1LycPJj9owDtBbfU6h2vAOrG6aQJBb8BU07Ld771xwHKQGLClJHTAOhNBjo3edsBledD36fZ5wJv/MIuDen3AGH4X6e67gMA=\",\"dtype\":\"float64\",\"shape\":[100]},{\"__ndarray__\":\"VfDX1gWKXj/x010K8VRhPzsKh+b/q2M/5UYEG7hTZj99saa+5VZpPwm5aDfCwWw/G+telBFRcD+FGcWC14NyP7O5/OoLAnU/MNFsY67Vdz/rukONCQp7P9CIwIjbq34/Gx8nVsFkgT/I8Jpel7mDP71zbm2LXYY/AsEvHNpaiT+mXtnQAL2MP4qIr+dvSJA/jMo7M29ykj/yAsRuiOSUP+ne5Muvp5c/nBmnUNfFmj8IZotFAkqePxHudsYrIKE/L+Fg9Rhboz8X1i1/Ft2lP7X4N7AWrqg/yrh4/7DWqz8/Sw45HmCvP45GwWkXqrE/xjAx+Zzesz+Fln27AVO2P8Y8MbjLDLk/m/ROpIwRvD/xFhOhwma/P+BbItHYiME//79pqZqLwz+fyz/mxb3FP3M86g4NIcg/YP29Mpa2yj+EeA4Y2n7NPxcusSzCPNA/fMh3VKvS0T+JRaTfCIDTP76sLEozQ9U/wnwvK/kZ1z93uVqKowHZP1UmQyEB99o/T8w9jnj23D8/WZHcIPzeP2NTt5HvgeA/2hnhuMOE4T/YbF5vf4TiP0Sj0jouf+M/oEFoagNz5D+hqelaZl7lPz3dLZD7P+Y/wxvEVaoW5z/2aKfpnuHnP+Bh/HlJoOg/qYBQc1pS6T/jcEW8vPfpPxoNcIaOkOo/AJClVRkd6z8KabfLyZ3rPyGd3asnE+w/byF2a8597D9o2PmIZt7sPzBNkMifNe0/59nZYCyE7T8v18cSvcrtP0wbbxz+Ce4/c3QI8JRC7j91gPyUHnXuP58iDZguou4/7vGpcE7K7j8fkZhD/e3uP9Ck0+2vDe8/NMd6RdEp7z8I2aCBwkLvP+nfibzbWO8/qyFmhmxs7z+8g8KAvH3vP4aavPwLje8//ECPl5Sa7z8xRkrSiabvPz2UhaIZse8/g2On+my67z/vfu5IqMLvP4l45ezrye8/XiY5o1TQ7z+NBiro+9XvP811+lD42u8/K0LX3F3f7z9Il8g9PuPvP09ZQRqp5u8/ufvkR6zp7z/1eBkAVOzvPy2i9Q6r7u8/CJQU/brw7z8=\",\"dtype\":\"float64\",\"shape\":[100]}]},\"selected\":{\"id\":\"5b933f58-a17c-4f67-a9af-256f72e362ff\",\"type\":\"Selection\"},\"selection_policy\":{\"id\":\"31145c81-ce03-431e-b337-2914f37c0e0b\",\"type\":\"UnionRenderers\"}},\"id\":\"fbc73ed2-a6da-4123-a8ad-529cbbe0e028\",\"type\":\"ColumnDataSource\"},{\"attributes\":{},\"id\":\"2a8001b2-a2c5-4f76-b8c2-709d4c4be93a\",\"type\":\"BasicTickFormatter\"},{\"attributes\":{\"source\":{\"id\":\"fbc73ed2-a6da-4123-a8ad-529cbbe0e028\",\"type\":\"ColumnDataSource\"}},\"id\":\"2deda433-3f70-4e58-bba9-3d4d11657f2c\",\"type\":\"CDSView\"},{\"attributes\":{},\"id\":\"d978b0c5-1a68-4f20-8144-1011d62c3614\",\"type\":\"PanTool\"},{\"attributes\":{\"active_drag\":\"auto\",\"active_inspect\":\"auto\",\"active_multi\":null,\"active_scroll\":\"auto\",\"active_tap\":\"auto\",\"tools\":[{\"id\":\"d978b0c5-1a68-4f20-8144-1011d62c3614\",\"type\":\"PanTool\"},{\"id\":\"d3ec46a3-f0bf-416c-bb2e-f960838d026c\",\"type\":\"WheelZoomTool\"},{\"id\":\"22e425e5-2571-4453-b99c-bace3dd6caa6\",\"type\":\"BoxZoomTool\"},{\"id\":\"3a863976-a543-46c8-b3d8-4040cc828295\",\"type\":\"SaveTool\"},{\"id\":\"6b09061c-94c6-47df-8f02-ea00c568b2e3\",\"type\":\"ResetTool\"},{\"id\":\"df4de185-6271-4e2d-b2e1-16d541ae074e\",\"type\":\"HelpTool\"}]},\"id\":\"91616daf-e397-4e42-8e6a-c8f92926b49e\",\"type\":\"Toolbar\"},{\"attributes\":{\"callback\":null},\"id\":\"736b43e1-c5f7-4aab-9a70-18039c4c71f7\",\"type\":\"DataRange1d\"},{\"attributes\":{},\"id\":\"d3ec46a3-f0bf-416c-bb2e-f960838d026c\",\"type\":\"WheelZoomTool\"},{\"attributes\":{},\"id\":\"ddf37db7-a478-498d-97bb-e04386d28784\",\"type\":\"LinearScale\"}],\"root_ids\":[\"5645e6ce-0897-4600-9ee5-9dcde4cafe53\"]},\"title\":\"Bokeh Application\",\"version\":\"0.13.0\"}};\n",
       "  var render_items = [{\"docid\":\"96fc2851-808e-4b3b-a88e-a589888c77eb\",\"roots\":{\"5645e6ce-0897-4600-9ee5-9dcde4cafe53\":\"4263dc20-4e77-4737-b1d6-2c55c2b3f4be\"}}];\n",
       "  root.Bokeh.embed.embed_items_notebook(docs_json, render_items);\n",
       "\n",
       "  }\n",
       "  if (root.Bokeh !== undefined) {\n",
       "    embed_document(root);\n",
       "  } else {\n",
       "    var attempts = 0;\n",
       "    var timer = setInterval(function(root) {\n",
       "      if (root.Bokeh !== undefined) {\n",
       "        embed_document(root);\n",
       "        clearInterval(timer);\n",
       "      }\n",
       "      attempts++;\n",
       "      if (attempts > 100) {\n",
       "        console.log(\"Bokeh: ERROR: Unable to run BokehJS code because BokehJS library is missing\")\n",
       "        clearInterval(timer);\n",
       "      }\n",
       "    }, 10, root)\n",
       "  }\n",
       "})(window);"
      ],
      "application/vnd.bokehjs_exec.v0+json": ""
     },
     "metadata": {
      "application/vnd.bokehjs_exec.v0+json": {
       "id": "5645e6ce-0897-4600-9ee5-9dcde4cafe53"
      }
     },
     "output_type": "display_data"
    }
   ],
   "source": [
    "x = np.linspace(-2*np.pi, 2*np.pi, 100)\n",
    "y1 = np.exp(x)\n",
    "y2 = sgmd(x)\n",
    "p2 = figure(plot_width=400, plot_height=400)\n",
    "p2.multi_line([x,x,x],[y1,-y1,y2],\n",
    "            color=[\"firebrick\", \"navy\",\"orange\"], alpha=[0.8, 0.3, .5], line_width=4)\n",
    "show(p2)"
   ]
  },
  {
   "cell_type": "code",
   "execution_count": 13,
   "metadata": {},
   "outputs": [
    {
     "data": {
      "text/html": [
       "\n",
       "\n",
       "\n",
       "\n",
       "\n",
       "\n",
       "  <div class=\"bk-root\" id=\"1ecc79a6-0435-443b-8be3-fa76aacaf1df\"></div>\n"
      ]
     },
     "metadata": {},
     "output_type": "display_data"
    },
    {
     "data": {
      "application/javascript": [
       "(function(root) {\n",
       "  function embed_document(root) {\n",
       "    \n",
       "  var docs_json = {\"934c8847-2743-4c9a-9d48-207d6588d15a\":{\"roots\":{\"references\":[{\"attributes\":{\"active_drag\":\"auto\",\"active_inspect\":\"auto\",\"active_multi\":null,\"active_scroll\":\"auto\",\"active_tap\":\"auto\",\"tools\":[{\"id\":\"0867909b-7b59-4222-9851-31faf09a1851\",\"type\":\"PanTool\"},{\"id\":\"3f0b2b77-8ade-4299-afa8-771a1e6a8101\",\"type\":\"WheelZoomTool\"},{\"id\":\"f05f5506-09cd-42dd-92f8-de6bce5d9fdc\",\"type\":\"BoxZoomTool\"},{\"id\":\"d95320f8-0d21-4a0b-9861-f6ed8bc1bea3\",\"type\":\"SaveTool\"},{\"id\":\"7ddf15ca-e484-4d0f-a853-b861578b245a\",\"type\":\"ResetTool\"},{\"id\":\"5710be62-c7d5-4d92-9e4c-0111317b4b5c\",\"type\":\"HelpTool\"}]},\"id\":\"0e9bca98-dd46-40f2-8518-829c2c9aaf9d\",\"type\":\"Toolbar\"},{\"attributes\":{\"overlay\":{\"id\":\"f0ededb0-b28c-49c0-981d-9e2af07c7ad9\",\"type\":\"BoxAnnotation\"}},\"id\":\"f05f5506-09cd-42dd-92f8-de6bce5d9fdc\",\"type\":\"BoxZoomTool\"},{\"attributes\":{},\"id\":\"3c08234d-3b6c-4272-968a-1f101293e940\",\"type\":\"LinearScale\"},{\"attributes\":{\"below\":[{\"id\":\"07179140-8220-4d2a-b95c-00394a78b5ad\",\"type\":\"LinearAxis\"}],\"left\":[{\"id\":\"373efc66-2518-4920-8cdd-7688d263b7b5\",\"type\":\"LinearAxis\"}],\"plot_height\":400,\"plot_width\":400,\"renderers\":[{\"id\":\"07179140-8220-4d2a-b95c-00394a78b5ad\",\"type\":\"LinearAxis\"},{\"id\":\"2697022c-9e52-4c8c-a328-a652c1cdc765\",\"type\":\"Grid\"},{\"id\":\"373efc66-2518-4920-8cdd-7688d263b7b5\",\"type\":\"LinearAxis\"},{\"id\":\"6a554f40-39e2-4ed7-951e-7876d99565c1\",\"type\":\"Grid\"},{\"id\":\"f0ededb0-b28c-49c0-981d-9e2af07c7ad9\",\"type\":\"BoxAnnotation\"},{\"id\":\"454ebc10-f494-4150-b95a-1cf438015cdd\",\"type\":\"Legend\"},{\"id\":\"2e939b0b-fb8b-4e75-a306-15335b5e6146\",\"type\":\"GlyphRenderer\"}],\"title\":{\"id\":\"25645889-38a8-4e6f-9e0e-ae10f1c1518c\",\"type\":\"Title\"},\"toolbar\":{\"id\":\"0e9bca98-dd46-40f2-8518-829c2c9aaf9d\",\"type\":\"Toolbar\"},\"x_range\":{\"id\":\"77c534a5-4f96-4549-89fe-83c9b5572015\",\"type\":\"DataRange1d\"},\"x_scale\":{\"id\":\"97130393-0c1b-43bd-aece-1bf9469210ef\",\"type\":\"LinearScale\"},\"y_range\":{\"id\":\"3f9da940-3a2f-4004-9735-1911a72c54f7\",\"type\":\"DataRange1d\"},\"y_scale\":{\"id\":\"3c08234d-3b6c-4272-968a-1f101293e940\",\"type\":\"LinearScale\"}},\"id\":\"574fd82c-5c31-4790-8cab-a0e596af9d5c\",\"subtype\":\"Figure\",\"type\":\"Plot\"},{\"attributes\":{},\"id\":\"a94de0f7-b635-43eb-9914-3268907aa7dd\",\"type\":\"BasicTicker\"},{\"attributes\":{\"data_source\":{\"id\":\"52e0c691-1af4-4104-93ff-73dc8923aa94\",\"type\":\"ColumnDataSource\"},\"glyph\":{\"id\":\"dbd38e77-630d-427a-a926-d21aa7debaef\",\"type\":\"Line\"},\"hover_glyph\":null,\"muted_glyph\":null,\"nonselection_glyph\":{\"id\":\"48a14e8b-beeb-468a-9d94-3014007975d8\",\"type\":\"Line\"},\"selection_glyph\":null,\"view\":{\"id\":\"1153b0bf-9af4-4cf7-9830-3c62bfa92a26\",\"type\":\"CDSView\"}},\"id\":\"2e939b0b-fb8b-4e75-a306-15335b5e6146\",\"type\":\"GlyphRenderer\"},{\"attributes\":{\"callback\":null,\"data\":{\"x\":{\"__ndarray__\":\"GC1EVPshGcBD1GGYAKAYwG97f9wFHhjAmiKdIAucF8DGybpkEBoXwPFw2KgVmBbAHRj27BoWFsBIvxMxIJQVwHRmMXUlEhXAnw1PuSqQFMDLtGz9Lw4UwPZbikE1jBPAIgOohToKE8BNqsXJP4gSwHhR4w1FBhLApPgAUkqEEcDQnx6WTwIRwPtGPNpUgBDATdyzPLT8D8CkKu/EvvgOwPt4Kk3J9A3AUsdl1dPwDMCpFaFd3uwLwABk3OXo6ArAVrIXbvPkCcCtAFP2/eAIwARPjn4I3QfAW53JBhPZBsCy6wSPHdUFwAk6QBco0QTAYIh7nzLNA8C31rYnPckCwA4l8q9HxQHAZHMtOFLBAMB4g9GAuXr/vyQgSJHOcv2/1Ly+oeNq+7+AWTWy+GL5vzD2q8INW/e/3JIi0yJT9b+ML5njN0vzvzjMD/RMQ/G/0NEMCcR27r8oC/op7mbqv4hE50oYV+a/4H3Ua0JH4r+AboMZ2W7cvzDhXVstT9S/wKdwOgNfyL+AGkt8Vz+wv8AaS3xXP7A/4KdwOgNfyD9A4V1bLU/UP4BugxnZbtw/6H3Ua0JH4j+IROdKGFfmPzAL+inuZuo/0NEMCcR27j88zA/0TEPxP4wvmeM3S/M/4JIi0yJT9T8w9qvCDVv3P4RZNbL4Yvk/1Ly+oeNq+z8oIEiRznL9P3iD0YC5ev8/aHMtOFLBAEAQJfKvR8UBQLjWtic9yQJAYIh7nzLNA0AMOkAXKNEEQLTrBI8d1QVAXJ3JBhPZBkAET45+CN0HQLAAU/b94AhAWLIXbvPkCUAAZNzl6OgKQKgVoV3e7AtAVMdl1dPwDED8eCpNyfQNQKQq78S++A5AUNyzPLT8D0D8RjzaVIAQQNCfHpZPAhFApPgAUkqEEUB6UeMNRQYSQE6qxck/iBJAIgOohToKE0D2W4pBNYwTQMy0bP0vDhRAoA1PuSqQFEB0ZjF1JRIVQEi/EzEglBVAHhj27BoWFkDycNioFZgWQMbJumQQGhdAnCKdIAucF0Bwe3/cBR4YQETUYZgAoBhAGC1EVPshGUA=\",\"dtype\":\"float64\",\"shape\":[100]},\"y\":{\"__ndarray__\":\"VfDX1gWKXj/x010K8VRhPzsKh+b/q2M/5UYEG7hTZj99saa+5VZpPwm5aDfCwWw/G+telBFRcD+FGcWC14NyP7O5/OoLAnU/MNFsY67Vdz/rukONCQp7P9CIwIjbq34/Gx8nVsFkgT/I8Jpel7mDP71zbm2LXYY/AsEvHNpaiT+mXtnQAL2MP4qIr+dvSJA/jMo7M29ykj/yAsRuiOSUP+ne5Muvp5c/nBmnUNfFmj8IZotFAkqePxHudsYrIKE/L+Fg9Rhboz8X1i1/Ft2lP7X4N7AWrqg/yrh4/7DWqz8/Sw45HmCvP45GwWkXqrE/xjAx+Zzesz+Fln27AVO2P8Y8MbjLDLk/m/ROpIwRvD/xFhOhwma/P+BbItHYiME//79pqZqLwz+fyz/mxb3FP3M86g4NIcg/YP29Mpa2yj+EeA4Y2n7NPxcusSzCPNA/fMh3VKvS0T+JRaTfCIDTP76sLEozQ9U/wnwvK/kZ1z93uVqKowHZP1UmQyEB99o/T8w9jnj23D8/WZHcIPzeP2NTt5HvgeA/2hnhuMOE4T/YbF5vf4TiP0Sj0jouf+M/oEFoagNz5D+hqelaZl7lPz3dLZD7P+Y/wxvEVaoW5z/2aKfpnuHnP+Bh/HlJoOg/qYBQc1pS6T/jcEW8vPfpPxoNcIaOkOo/AJClVRkd6z8KabfLyZ3rPyGd3asnE+w/byF2a8597D9o2PmIZt7sPzBNkMifNe0/59nZYCyE7T8v18cSvcrtP0wbbxz+Ce4/c3QI8JRC7j91gPyUHnXuP58iDZguou4/7vGpcE7K7j8fkZhD/e3uP9Ck0+2vDe8/NMd6RdEp7z8I2aCBwkLvP+nfibzbWO8/qyFmhmxs7z+8g8KAvH3vP4aavPwLje8//ECPl5Sa7z8xRkrSiabvPz2UhaIZse8/g2On+my67z/vfu5IqMLvP4l45ezrye8/XiY5o1TQ7z+NBiro+9XvP811+lD42u8/K0LX3F3f7z9Il8g9PuPvP09ZQRqp5u8/ufvkR6zp7z/1eBkAVOzvPy2i9Q6r7u8/CJQU/brw7z8=\",\"dtype\":\"float64\",\"shape\":[100]}},\"selected\":{\"id\":\"e74af86c-e587-411a-a453-409b7f365af6\",\"type\":\"Selection\"},\"selection_policy\":{\"id\":\"e799185d-e513-4212-9e3a-bdee6a581065\",\"type\":\"UnionRenderers\"}},\"id\":\"52e0c691-1af4-4104-93ff-73dc8923aa94\",\"type\":\"ColumnDataSource\"},{\"attributes\":{\"line_alpha\":0.1,\"line_color\":\"#1f77b4\",\"line_width\":2,\"x\":{\"field\":\"x\"},\"y\":{\"field\":\"y\"}},\"id\":\"48a14e8b-beeb-468a-9d94-3014007975d8\",\"type\":\"Line\"},{\"attributes\":{},\"id\":\"7ddf15ca-e484-4d0f-a853-b861578b245a\",\"type\":\"ResetTool\"},{\"attributes\":{\"formatter\":{\"id\":\"27cc9c02-231f-44ec-bc06-5e068f3b5d51\",\"type\":\"BasicTickFormatter\"},\"plot\":{\"id\":\"574fd82c-5c31-4790-8cab-a0e596af9d5c\",\"subtype\":\"Figure\",\"type\":\"Plot\"},\"ticker\":{\"id\":\"27d9c2c5-d19b-4342-8c2c-ca7b75cff6d6\",\"type\":\"BasicTicker\"}},\"id\":\"373efc66-2518-4920-8cdd-7688d263b7b5\",\"type\":\"LinearAxis\"},{\"attributes\":{\"callback\":null},\"id\":\"77c534a5-4f96-4549-89fe-83c9b5572015\",\"type\":\"DataRange1d\"},{\"attributes\":{},\"id\":\"27d9c2c5-d19b-4342-8c2c-ca7b75cff6d6\",\"type\":\"BasicTicker\"},{\"attributes\":{\"plot\":{\"id\":\"574fd82c-5c31-4790-8cab-a0e596af9d5c\",\"subtype\":\"Figure\",\"type\":\"Plot\"},\"ticker\":{\"id\":\"a94de0f7-b635-43eb-9914-3268907aa7dd\",\"type\":\"BasicTicker\"}},\"id\":\"2697022c-9e52-4c8c-a328-a652c1cdc765\",\"type\":\"Grid\"},{\"attributes\":{},\"id\":\"3f0b2b77-8ade-4299-afa8-771a1e6a8101\",\"type\":\"WheelZoomTool\"},{\"attributes\":{},\"id\":\"d95320f8-0d21-4a0b-9861-f6ed8bc1bea3\",\"type\":\"SaveTool\"},{\"attributes\":{},\"id\":\"97130393-0c1b-43bd-aece-1bf9469210ef\",\"type\":\"LinearScale\"},{\"attributes\":{\"formatter\":{\"id\":\"c183b9d6-a31b-4fac-8b12-c6971c765b21\",\"type\":\"BasicTickFormatter\"},\"plot\":{\"id\":\"574fd82c-5c31-4790-8cab-a0e596af9d5c\",\"subtype\":\"Figure\",\"type\":\"Plot\"},\"ticker\":{\"id\":\"a94de0f7-b635-43eb-9914-3268907aa7dd\",\"type\":\"BasicTicker\"}},\"id\":\"07179140-8220-4d2a-b95c-00394a78b5ad\",\"type\":\"LinearAxis\"},{\"attributes\":{},\"id\":\"e799185d-e513-4212-9e3a-bdee6a581065\",\"type\":\"UnionRenderers\"},{\"attributes\":{\"callback\":null},\"id\":\"3f9da940-3a2f-4004-9735-1911a72c54f7\",\"type\":\"DataRange1d\"},{\"attributes\":{\"bottom_units\":\"screen\",\"fill_alpha\":{\"value\":0.5},\"fill_color\":{\"value\":\"lightgrey\"},\"left_units\":\"screen\",\"level\":\"overlay\",\"line_alpha\":{\"value\":1.0},\"line_color\":{\"value\":\"black\"},\"line_dash\":[4,4],\"line_width\":{\"value\":2},\"plot\":null,\"render_mode\":\"css\",\"right_units\":\"screen\",\"top_units\":\"screen\"},\"id\":\"f0ededb0-b28c-49c0-981d-9e2af07c7ad9\",\"type\":\"BoxAnnotation\"},{\"attributes\":{},\"id\":\"e74af86c-e587-411a-a453-409b7f365af6\",\"type\":\"Selection\"},{\"attributes\":{\"label\":{\"value\":\"y = 1/(1+exp(-x)) a word\"},\"renderers\":[{\"id\":\"2e939b0b-fb8b-4e75-a306-15335b5e6146\",\"type\":\"GlyphRenderer\"}]},\"id\":\"686c66e2-b788-4c1f-b170-4fce43365ef1\",\"type\":\"LegendItem\"},{\"attributes\":{},\"id\":\"27cc9c02-231f-44ec-bc06-5e068f3b5d51\",\"type\":\"BasicTickFormatter\"},{\"attributes\":{\"plot\":null,\"text\":\"\"},\"id\":\"25645889-38a8-4e6f-9e0e-ae10f1c1518c\",\"type\":\"Title\"},{\"attributes\":{},\"id\":\"5710be62-c7d5-4d92-9e4c-0111317b4b5c\",\"type\":\"HelpTool\"},{\"attributes\":{\"source\":{\"id\":\"52e0c691-1af4-4104-93ff-73dc8923aa94\",\"type\":\"ColumnDataSource\"}},\"id\":\"1153b0bf-9af4-4cf7-9830-3c62bfa92a26\",\"type\":\"CDSView\"},{\"attributes\":{\"dimension\":1,\"plot\":{\"id\":\"574fd82c-5c31-4790-8cab-a0e596af9d5c\",\"subtype\":\"Figure\",\"type\":\"Plot\"},\"ticker\":{\"id\":\"27d9c2c5-d19b-4342-8c2c-ca7b75cff6d6\",\"type\":\"BasicTicker\"}},\"id\":\"6a554f40-39e2-4ed7-951e-7876d99565c1\",\"type\":\"Grid\"},{\"attributes\":{\"items\":[{\"id\":\"686c66e2-b788-4c1f-b170-4fce43365ef1\",\"type\":\"LegendItem\"}],\"location\":\"bottom_right\",\"plot\":{\"id\":\"574fd82c-5c31-4790-8cab-a0e596af9d5c\",\"subtype\":\"Figure\",\"type\":\"Plot\"}},\"id\":\"454ebc10-f494-4150-b95a-1cf438015cdd\",\"type\":\"Legend\"},{\"attributes\":{},\"id\":\"0867909b-7b59-4222-9851-31faf09a1851\",\"type\":\"PanTool\"},{\"attributes\":{},\"id\":\"c183b9d6-a31b-4fac-8b12-c6971c765b21\",\"type\":\"BasicTickFormatter\"},{\"attributes\":{\"line_color\":\"#1f77b4\",\"line_width\":2,\"x\":{\"field\":\"x\"},\"y\":{\"field\":\"y\"}},\"id\":\"dbd38e77-630d-427a-a926-d21aa7debaef\",\"type\":\"Line\"}],\"root_ids\":[\"574fd82c-5c31-4790-8cab-a0e596af9d5c\"]},\"title\":\"Bokeh Application\",\"version\":\"0.13.0\"}};\n",
       "  var render_items = [{\"docid\":\"934c8847-2743-4c9a-9d48-207d6588d15a\",\"roots\":{\"574fd82c-5c31-4790-8cab-a0e596af9d5c\":\"1ecc79a6-0435-443b-8be3-fa76aacaf1df\"}}];\n",
       "  root.Bokeh.embed.embed_items_notebook(docs_json, render_items);\n",
       "\n",
       "  }\n",
       "  if (root.Bokeh !== undefined) {\n",
       "    embed_document(root);\n",
       "  } else {\n",
       "    var attempts = 0;\n",
       "    var timer = setInterval(function(root) {\n",
       "      if (root.Bokeh !== undefined) {\n",
       "        embed_document(root);\n",
       "        clearInterval(timer);\n",
       "      }\n",
       "      attempts++;\n",
       "      if (attempts > 100) {\n",
       "        console.log(\"Bokeh: ERROR: Unable to run BokehJS code because BokehJS library is missing\")\n",
       "        clearInterval(timer);\n",
       "      }\n",
       "    }, 10, root)\n",
       "  }\n",
       "})(window);"
      ],
      "application/vnd.bokehjs_exec.v0+json": ""
     },
     "metadata": {
      "application/vnd.bokehjs_exec.v0+json": {
       "id": "574fd82c-5c31-4790-8cab-a0e596af9d5c"
      }
     },
     "output_type": "display_data"
    }
   ],
   "source": [
    "x = np.linspace(-2*np.pi,2*np.pi, 100)\n",
    "p3 = figure(plot_width=400, plot_height=400)\n",
    "p3.line(x,sgmd(x),line_width=2, legend='y = 1/(1+exp(-x)) a word')\n",
    "p3.legend.location = 'bottom_right'\n",
    "show(p3)"
   ]
  },
  {
   "cell_type": "code",
   "execution_count": 14,
   "metadata": {},
   "outputs": [
    {
     "data": {
      "text/html": [
       "\n",
       "\n",
       "\n",
       "\n",
       "\n",
       "\n",
       "  <div class=\"bk-root\" id=\"2e89c362-8df2-4850-ac20-fa105f5500bc\"></div>\n"
      ]
     },
     "metadata": {},
     "output_type": "display_data"
    },
    {
     "data": {
      "application/javascript": [
       "(function(root) {\n",
       "  function embed_document(root) {\n",
       "    \n",
       "  var docs_json = {\"b3c5013e-8ad6-4127-8fa4-912b0aeb0160\":{\"roots\":{\"references\":[{\"attributes\":{\"dimension\":1,\"plot\":{\"id\":\"e779f587-3bc1-4700-88be-c992fa0f4fe0\",\"subtype\":\"Figure\",\"type\":\"Plot\"},\"ticker\":{\"id\":\"be5f47c3-d814-4e6b-9e90-49fb9d872dca\",\"type\":\"BasicTicker\"}},\"id\":\"92909350-ab6b-4b2f-a629-174d09929157\",\"type\":\"Grid\"},{\"attributes\":{},\"id\":\"bbc1b208-4fa1-4617-861b-9b914e84c654\",\"type\":\"UnionRenderers\"},{\"attributes\":{},\"id\":\"be5f47c3-d814-4e6b-9e90-49fb9d872dca\",\"type\":\"BasicTicker\"},{\"attributes\":{\"data_source\":{\"id\":\"8f1b4657-88f6-41ff-b42d-a077dfb7a99d\",\"type\":\"ColumnDataSource\"},\"glyph\":{\"id\":\"b24af1ad-2d93-46ba-a04e-26c237570ae2\",\"type\":\"Line\"},\"hover_glyph\":null,\"muted_glyph\":null,\"nonselection_glyph\":{\"id\":\"df414e6c-4de6-4728-888f-97466513b50c\",\"type\":\"Line\"},\"selection_glyph\":null,\"view\":{\"id\":\"2ca49f2b-524e-43c0-8a94-b5b856c914af\",\"type\":\"CDSView\"}},\"id\":\"ed6570f5-f9f9-4d7d-a17b-74181b0513de\",\"type\":\"GlyphRenderer\"},{\"attributes\":{},\"id\":\"7e2cbe28-c4ee-47f1-833f-dcd29ab2b3fc\",\"type\":\"Selection\"},{\"attributes\":{\"line_alpha\":0.5,\"line_color\":\"firebrick\",\"line_width\":2,\"x\":{\"field\":\"x\"},\"y\":{\"field\":\"y\"}},\"id\":\"b24af1ad-2d93-46ba-a04e-26c237570ae2\",\"type\":\"Line\"},{\"attributes\":{\"label\":{\"value\":\"y=x^4\"},\"renderers\":[{\"id\":\"d888d731-a6db-47fd-9be4-f4e95a40e50b\",\"type\":\"GlyphRenderer\"}]},\"id\":\"c45254a0-080b-4716-a761-47788bdbf5bf\",\"type\":\"LegendItem\"},{\"attributes\":{\"callback\":null,\"data\":{\"x\":{\"__ndarray__\":\"AAAAAAAA8L8Fav1KgVrvvwrU+pUCte6/ED744IMP7r8VqPUrBWrtvxoS83aGxOy/H3zwwQcf7L8k5u0MiXnrvylQ61cK1Oq/Lrrooosu6r80JObtDInpvzmO4ziO4+i/Pvjggw8+6L9DYt7OkJjnv0jM2xkS8+a/TjbZZJNN5r9SoNavFKjlv1gK1PqVAuW/XXTRRRdd5L9i3s6QmLfjv2dIzNsZEuO/bLLJJpts4r9yHMdxHMfhv3aGxLydIeG/fPDBBx984L8CtX6lQK3fvwyJeTtDYt6/Fl100UUX3b8gMW9nSMzbvywFav1Kgdq/Ntlkk0022b9ArV8pUOvXv0qBWr9SoNa/VFVVVVVV1b9eKVDrVwrUv2j9SoFav9K/dNFFF1100b9+pUCtXynQvxDzdobEvM2/JJtssskmy784Q2LezpDIv0zrVwrU+sW/ZJNNNtlkw794O0Ni3s7AvxjHcRzHcby/QBdddNFFt79oZ0jM2xmyvyBvZ0jM26m/AB988MEHn79Av1Kg1q+Ev4C/UqDWr4Q/QB988MEHnz9Ab2dIzNupP3BnSMzbGbI/UBdddNFFtz8gx3Ecx3G8P4A7Q2LezsA/aJNNNtlkwz9Q61cK1PrFP0BDYt7OkMg/KJtssskmyz8Y83aGxLzNP4ClQK1fKdA/eNFFF1100T9s/UqBWr/SP2ApUOtXCtQ/WFVVVVVV1T9MgVq/UqDWP0StXylQ69c/ONlkk0022T8wBWr9SoHaPyQxb2dIzNs/GF100UUX3T8QiXk7Q2LePwS1fqVArd8/fvDBBx984D94hsS8nSHhP3Icx3Ecx+E/brLJJpts4j9oSMzbGRLjP2TezpCYt+M/XnTRRRdd5D9aCtT6lQLlP1Sg1q8UqOU/TjbZZJNN5j9KzNsZEvPmP0Ri3s6QmOc/QPjggw8+6D86juM4juPoPzYk5u0Miek/MLrooosu6j8qUOtXCtTqPybm7QyJees/IHzwwQcf7D8cEvN2hsTsPxao9SsFau0/ED744IMP7j8M1PqVArXuPwZq/UqBWu8/AAAAAAAA8D8=\",\"dtype\":\"float64\",\"shape\":[100]},\"y\":{\"__ndarray__\":\"AAAAAAAA8D8pNJt6WrjuP5Aod75kd+0/Nt2Tyx497D8ZUvGhiAnrPzmHj0Gi3Ok/l3xuqmu26D8zMo7c5JbnPw2o7tcNfuY/Jd6PnOZr5T981HEqb2DkPxCLlIGnW+M/4QH4oY9d4j/xOJyLJ2bhPz4wgT5vdeA/lM9Ndc0W3z8jvxoAHFDdPzMvaR3Klts/vB85zdfq2T/BkIoPRUzYP0GCXeQRu9Y/PvSxSz431T+45odFysDTP6lZ39G1V9I/G0248AD80D8MgiVEV1vPP9lq3ctr2cw/nlSYeD9yyj9bP1ZK0iXIPxIrF0Ek9MU/vhfbXDXdwz9gBaKdBeHBP/Xn1wYq/78/GcdxHMdxvD8rqBF84hm5Py2LtyV897U/IXBjGZQKsz8AVxVXKlOwP5t/mr19oqs/FFUWYaMJpz9sLp6YxduiP0EXZMjIMZ4/cNmjh/+Blz9Qo/tuL6iRP9jp1vywSIk/h5zma/XsgD9bvUxWWHp0Py7BWOpU5WQ/RhZhowkXTj8k9wADJb8aP8n3AAMlvxo/whZhowkXTj9hwVjqVOVkP269TFZYenQ/n5zma/XsgD/n6db8sEiJP2Gj+24vqJE/etmjh/+Blz9MF2TIyDGeP3gunpjF26I/G1UWYaMJpz+qf5q9faKrPwRXFVcqU7A/KnBjGZQKsz82i7clfPe1PzCoEXziGbk/JMdxHMdxvD/759cGKv+/P2YFop0F4cE/wRfbXDXdwz8ZKxdBJPTFP2I/VkrSJcg/olSYeD9yyj/hat3La9nMPxCCJURXW88/H0248AD80D+uWd/RtVfSP7jmh0XKwNM/QvSxSz431T9Egl3kEbvWP8aQig9FTNg/vx85zdfq2T84L2kdypbbPyi/GgAcUN0/lM9Ndc0W3z9BMIE+b3XgP/I4nIsnZuE/5AH4oY9d4j8Si5SBp1vjP4DUcSpvYOQ/KN6PnOZr5T8PqO7XDX7mPzcyjtzkluc/mXxuqmu26D89h49BotzpPxtS8aGICes/Nt2Tyx497D+UKHe+ZHftPys0m3pauO4/AAAAAAAA8D8=\",\"dtype\":\"float64\",\"shape\":[100]}},\"selected\":{\"id\":\"29009a63-9040-4683-9c1f-2fed99528d34\",\"type\":\"Selection\"},\"selection_policy\":{\"id\":\"c7e2d679-b12f-4ae8-b681-4ecfe0ba27c0\",\"type\":\"UnionRenderers\"}},\"id\":\"2da79914-1318-49b2-965d-d366a92e75ae\",\"type\":\"ColumnDataSource\"},{\"attributes\":{},\"id\":\"d38e1f35-b269-46dc-bc2d-0b6f0fff0514\",\"type\":\"Selection\"},{\"attributes\":{\"bottom_units\":\"screen\",\"fill_alpha\":{\"value\":0.5},\"fill_color\":{\"value\":\"lightgrey\"},\"left_units\":\"screen\",\"level\":\"overlay\",\"line_alpha\":{\"value\":1.0},\"line_color\":{\"value\":\"black\"},\"line_dash\":[4,4],\"line_width\":{\"value\":2},\"plot\":null,\"render_mode\":\"css\",\"right_units\":\"screen\",\"top_units\":\"screen\"},\"id\":\"c4718c9f-b4a4-4009-b1a7-ba76e87c4058\",\"type\":\"BoxAnnotation\"},{\"attributes\":{\"line_alpha\":0.5,\"line_color\":\"green\",\"line_width\":2,\"x\":{\"field\":\"x\"},\"y\":{\"field\":\"y\"}},\"id\":\"d5b5f70b-f6dd-4713-ba03-48d9d704f157\",\"type\":\"Line\"},{\"attributes\":{},\"id\":\"282aabc9-2b44-4f13-9e3a-d7a066f95200\",\"type\":\"PanTool\"},{\"attributes\":{\"line_alpha\":0.1,\"line_color\":\"#1f77b4\",\"line_width\":2,\"x\":{\"field\":\"x\"},\"y\":{\"field\":\"y\"}},\"id\":\"3d1b4e9b-c12d-4eee-ab4f-793a4774ec98\",\"type\":\"Line\"},{\"attributes\":{\"items\":[{\"id\":\"442ab2f2-6179-4b92-9128-a1fcda282ca7\",\"type\":\"LegendItem\"},{\"id\":\"add4198d-4624-48d8-a8c5-521104c279e3\",\"type\":\"LegendItem\"},{\"id\":\"7313ff53-e262-4847-87bf-74ea134bc082\",\"type\":\"LegendItem\"},{\"id\":\"c45254a0-080b-4716-a761-47788bdbf5bf\",\"type\":\"LegendItem\"},{\"id\":\"0d30dd9a-47c6-4e87-aae7-7a96f9861a64\",\"type\":\"LegendItem\"}],\"location\":\"bottom_right\",\"plot\":{\"id\":\"e779f587-3bc1-4700-88be-c992fa0f4fe0\",\"subtype\":\"Figure\",\"type\":\"Plot\"}},\"id\":\"0beab98a-b76b-4060-848c-530dcbe5868a\",\"type\":\"Legend\"},{\"attributes\":{\"data_source\":{\"id\":\"70234aca-ec28-4263-bd9b-f86ad4c91e9d\",\"type\":\"ColumnDataSource\"},\"glyph\":{\"id\":\"d5b5f70b-f6dd-4713-ba03-48d9d704f157\",\"type\":\"Line\"},\"hover_glyph\":null,\"muted_glyph\":null,\"nonselection_glyph\":{\"id\":\"3d1b4e9b-c12d-4eee-ab4f-793a4774ec98\",\"type\":\"Line\"},\"selection_glyph\":null,\"view\":{\"id\":\"7ae5d142-7db5-400d-baeb-a7b46340fc09\",\"type\":\"CDSView\"}},\"id\":\"d11c683c-1674-44a1-ae2a-3b1409363e49\",\"type\":\"GlyphRenderer\"},{\"attributes\":{},\"id\":\"902e038b-04b0-44c5-91c3-07ab848114f1\",\"type\":\"WheelZoomTool\"},{\"attributes\":{\"source\":{\"id\":\"70234aca-ec28-4263-bd9b-f86ad4c91e9d\",\"type\":\"ColumnDataSource\"}},\"id\":\"7ae5d142-7db5-400d-baeb-a7b46340fc09\",\"type\":\"CDSView\"},{\"attributes\":{\"overlay\":{\"id\":\"c4718c9f-b4a4-4009-b1a7-ba76e87c4058\",\"type\":\"BoxAnnotation\"}},\"id\":\"67fc71a0-4786-4e35-aa6f-2a9e0858a90a\",\"type\":\"BoxZoomTool\"},{\"attributes\":{},\"id\":\"abc810ea-41d9-4171-884d-b43376a8ebe9\",\"type\":\"UnionRenderers\"},{\"attributes\":{},\"id\":\"908da37e-f6ac-485c-ae13-9513cfe36fd7\",\"type\":\"SaveTool\"},{\"attributes\":{},\"id\":\"94fb8ede-bca1-4b76-8ba5-ba95c67a6091\",\"type\":\"ResetTool\"},{\"attributes\":{\"label\":{\"value\":\"y=x^5\"},\"renderers\":[{\"id\":\"d11c683c-1674-44a1-ae2a-3b1409363e49\",\"type\":\"GlyphRenderer\"}]},\"id\":\"0d30dd9a-47c6-4e87-aae7-7a96f9861a64\",\"type\":\"LegendItem\"},{\"attributes\":{},\"id\":\"d14efa6f-78ae-49f8-8e85-51a8122d52f6\",\"type\":\"HelpTool\"},{\"attributes\":{\"label\":{\"value\":\"y=x\"},\"renderers\":[{\"id\":\"ed6570f5-f9f9-4d7d-a17b-74181b0513de\",\"type\":\"GlyphRenderer\"}]},\"id\":\"442ab2f2-6179-4b92-9128-a1fcda282ca7\",\"type\":\"LegendItem\"},{\"attributes\":{},\"id\":\"986916ef-7cce-4394-8633-4a976e0773f3\",\"type\":\"UnionRenderers\"},{\"attributes\":{},\"id\":\"a14ce603-1d82-42f5-a5d7-e5b22fd50572\",\"type\":\"BasicTickFormatter\"},{\"attributes\":{},\"id\":\"c452669b-7955-4070-bff3-f017436717fe\",\"type\":\"Selection\"},{\"attributes\":{},\"id\":\"ff450440-2a70-46da-a5ed-5676cbc7ee25\",\"type\":\"Selection\"},{\"attributes\":{\"callback\":null,\"data\":{\"x\":{\"__ndarray__\":\"AAAAAAAA8L8Fav1KgVrvvwrU+pUCte6/ED744IMP7r8VqPUrBWrtvxoS83aGxOy/H3zwwQcf7L8k5u0MiXnrvylQ61cK1Oq/Lrrooosu6r80JObtDInpvzmO4ziO4+i/Pvjggw8+6L9DYt7OkJjnv0jM2xkS8+a/TjbZZJNN5r9SoNavFKjlv1gK1PqVAuW/XXTRRRdd5L9i3s6QmLfjv2dIzNsZEuO/bLLJJpts4r9yHMdxHMfhv3aGxLydIeG/fPDBBx984L8CtX6lQK3fvwyJeTtDYt6/Fl100UUX3b8gMW9nSMzbvywFav1Kgdq/Ntlkk0022b9ArV8pUOvXv0qBWr9SoNa/VFVVVVVV1b9eKVDrVwrUv2j9SoFav9K/dNFFF1100b9+pUCtXynQvxDzdobEvM2/JJtssskmy784Q2LezpDIv0zrVwrU+sW/ZJNNNtlkw794O0Ni3s7AvxjHcRzHcby/QBdddNFFt79oZ0jM2xmyvyBvZ0jM26m/AB988MEHn79Av1Kg1q+Ev4C/UqDWr4Q/QB988MEHnz9Ab2dIzNupP3BnSMzbGbI/UBdddNFFtz8gx3Ecx3G8P4A7Q2LezsA/aJNNNtlkwz9Q61cK1PrFP0BDYt7OkMg/KJtssskmyz8Y83aGxLzNP4ClQK1fKdA/eNFFF1100T9s/UqBWr/SP2ApUOtXCtQ/WFVVVVVV1T9MgVq/UqDWP0StXylQ69c/ONlkk0022T8wBWr9SoHaPyQxb2dIzNs/GF100UUX3T8QiXk7Q2LePwS1fqVArd8/fvDBBx984D94hsS8nSHhP3Icx3Ecx+E/brLJJpts4j9oSMzbGRLjP2TezpCYt+M/XnTRRRdd5D9aCtT6lQLlP1Sg1q8UqOU/TjbZZJNN5j9KzNsZEvPmP0Ri3s6QmOc/QPjggw8+6D86juM4juPoPzYk5u0Miek/MLrooosu6j8qUOtXCtTqPybm7QyJees/IHzwwQcf7D8cEvN2hsTsPxao9SsFau0/ED744IMP7j8M1PqVArXuPwZq/UqBWu8/AAAAAAAA8D8=\",\"dtype\":\"float64\",\"shape\":[100]},\"y\":{\"__ndarray__\":\"AAAAAAAA8L/ahWlEehnuvwY59iWcRuy/HAYH5v2G6r+w2fzFN9rov1qgOAfiP+e/tEYb65S35b9TuQWz6EDkv8/kWKB12+K/wbV19NOG4b/BGL3wm0Lgv8T0H63LHN6/fI6ezpPT27/a17fIwKjZvwqqLR6Dm9e/Qd7BUQur1b+jTTbmidbTv2rRTF4vHdK/vULHPCx+0L+d9c4IYvHNv5il3m/cF8u/ykdBtChuyL+Ujnrbp/LFv0gsDuu6o8O/UtN/6MJ/wb8LbKayQQq/v4gNGIZrZLu/1e9bVsUKuL+ud3kuEfq0v9EJeBkRL7K/5RW+RA5Nr7+iv2uoarqqv0/aB3S7n6a/ZS+hvYT2or+wEI02lXCfvz5dDUYivZm/adfg1bjFlL8PEiUSYX2Qv0ZA701Grom/JynsgA6Mg78yCfgqVvR8v+3ws8dYvXS/eKoEEYt+bL96A7M7eoxiv70Iv+CAeVa/MxLbP3yeSL9c2yrbuyo3vxUGfjmx4iC/52p1vZwt/b6MbpHYb0qxvi1vkdhvSrE+nGt1vZwt/T5TBn45seIgP3rbKtu7Kjc/ZhLbP3yeSD/QCL/ggHlWP5QDszt6jGI/iaoEEYt+bD/58LPHWL10P04J+CpW9Hw/LynsgA6Mgz9bQO9NRq6JPxUSJRJhfZA/eNfg1bjFlD9PXQ1GIr2ZP7kQjTaVcJ8/by+hvYT2oj9V2gd0u5+mP6+/a6hquqo/7BW+RA5Nrz/ZCXgZES+yP7d3eS4R+rQ/2u9bVsUKuD+TDRiGa2S7PxFsprJBCr8/WNN/6MJ/wT9OLA7ruqPDP5SOetun8sU/0kdBtChuyD+dpd5v3BfLP6b1zghi8c0/wELHPCx+0D9v0UxeLx3SP6hNNuaJ1tM/Qd7BUQur1T8Rqi0eg5vXP93Xt8jAqNk/g46ezpPT2z/H9B+tyxzeP8QYvfCbQuA/xbV19NOG4T/S5FigddviP1e5BbPoQOQ/tkYb65S35T9foDgH4j/nP7LZ/MU32ug/HAYH5v2G6j8LOfYlnEbsP92FaUR6Ge4/AAAAAAAA8D8=\",\"dtype\":\"float64\",\"shape\":[100]}},\"selected\":{\"id\":\"7e2cbe28-c4ee-47f1-833f-dcd29ab2b3fc\",\"type\":\"Selection\"},\"selection_policy\":{\"id\":\"bbc1b208-4fa1-4617-861b-9b914e84c654\",\"type\":\"UnionRenderers\"}},\"id\":\"e53eac0c-c075-4717-a718-508212e426e9\",\"type\":\"ColumnDataSource\"},{\"attributes\":{\"line_alpha\":0.5,\"line_color\":\"navy\",\"line_width\":2,\"x\":{\"field\":\"x\"},\"y\":{\"field\":\"y\"}},\"id\":\"b6ff061d-0b21-4965-87e3-031e8752d146\",\"type\":\"Line\"},{\"attributes\":{\"line_alpha\":0.1,\"line_color\":\"#1f77b4\",\"line_width\":2,\"x\":{\"field\":\"x\"},\"y\":{\"field\":\"y\"}},\"id\":\"04c75796-1310-4a0a-b5b8-5e4fb9672c94\",\"type\":\"Line\"},{\"attributes\":{\"data_source\":{\"id\":\"2da79914-1318-49b2-965d-d366a92e75ae\",\"type\":\"ColumnDataSource\"},\"glyph\":{\"id\":\"b6ff061d-0b21-4965-87e3-031e8752d146\",\"type\":\"Line\"},\"hover_glyph\":null,\"muted_glyph\":null,\"nonselection_glyph\":{\"id\":\"04c75796-1310-4a0a-b5b8-5e4fb9672c94\",\"type\":\"Line\"},\"selection_glyph\":null,\"view\":{\"id\":\"9021cad4-5bf7-4a89-8559-e96c4e015569\",\"type\":\"CDSView\"}},\"id\":\"f5a390e0-a0ce-4393-a20e-f84822292299\",\"type\":\"GlyphRenderer\"},{\"attributes\":{\"source\":{\"id\":\"2da79914-1318-49b2-965d-d366a92e75ae\",\"type\":\"ColumnDataSource\"}},\"id\":\"9021cad4-5bf7-4a89-8559-e96c4e015569\",\"type\":\"CDSView\"},{\"attributes\":{},\"id\":\"f366a40c-f871-477c-867b-d31859ced0a0\",\"type\":\"UnionRenderers\"},{\"attributes\":{\"callback\":null,\"data\":{\"x\":{\"__ndarray__\":\"AAAAAAAA8L8Fav1KgVrvvwrU+pUCte6/ED744IMP7r8VqPUrBWrtvxoS83aGxOy/H3zwwQcf7L8k5u0MiXnrvylQ61cK1Oq/Lrrooosu6r80JObtDInpvzmO4ziO4+i/Pvjggw8+6L9DYt7OkJjnv0jM2xkS8+a/TjbZZJNN5r9SoNavFKjlv1gK1PqVAuW/XXTRRRdd5L9i3s6QmLfjv2dIzNsZEuO/bLLJJpts4r9yHMdxHMfhv3aGxLydIeG/fPDBBx984L8CtX6lQK3fvwyJeTtDYt6/Fl100UUX3b8gMW9nSMzbvywFav1Kgdq/Ntlkk0022b9ArV8pUOvXv0qBWr9SoNa/VFVVVVVV1b9eKVDrVwrUv2j9SoFav9K/dNFFF1100b9+pUCtXynQvxDzdobEvM2/JJtssskmy784Q2LezpDIv0zrVwrU+sW/ZJNNNtlkw794O0Ni3s7AvxjHcRzHcby/QBdddNFFt79oZ0jM2xmyvyBvZ0jM26m/AB988MEHn79Av1Kg1q+Ev4C/UqDWr4Q/QB988MEHnz9Ab2dIzNupP3BnSMzbGbI/UBdddNFFtz8gx3Ecx3G8P4A7Q2LezsA/aJNNNtlkwz9Q61cK1PrFP0BDYt7OkMg/KJtssskmyz8Y83aGxLzNP4ClQK1fKdA/eNFFF1100T9s/UqBWr/SP2ApUOtXCtQ/WFVVVVVV1T9MgVq/UqDWP0StXylQ69c/ONlkk0022T8wBWr9SoHaPyQxb2dIzNs/GF100UUX3T8QiXk7Q2LePwS1fqVArd8/fvDBBx984D94hsS8nSHhP3Icx3Ecx+E/brLJJpts4j9oSMzbGRLjP2TezpCYt+M/XnTRRRdd5D9aCtT6lQLlP1Sg1q8UqOU/TjbZZJNN5j9KzNsZEvPmP0Ri3s6QmOc/QPjggw8+6D86juM4juPoPzYk5u0Miek/MLrooosu6j8qUOtXCtTqPybm7QyJees/IHzwwQcf7D8cEvN2hsTsPxao9SsFau0/ED744IMP7j8M1PqVArXuPwZq/UqBWu8/AAAAAAAA8D8=\",\"dtype\":\"float64\",\"shape\":[100]},\"y\":{\"__ndarray__\":\"AAAAAAAA8D8jzmS3z33tP5m6vQ8kIus/n4nIoWrr6D//tWloGdjmPyBxrMCu5uQ/+6LCabEV4z8b6gSFsGPhP0I35SuHnt8/gYZjBBWu3D+JRh4jW/PZPwpp/Nu6a9c/6kwyR6YU1T8xvkFBoOvSPxL2+Wo87tA/zzXvUj40zj9agElM+9nKPyzNcZ07ycc/2vdxqqz9xD9etu5fHXPCP/2YJzN+JcA/mhTuQ8IhvD9rnqRl82K4P8oNk+k5B7U/2FUP/4IHsj9nPErN/bmuP2GGK+RBAqo/e6uwCD/bpT/UNjMj6DiiP6M58HxsH54/GXZfD1GpmD/bsOuciPqTP2WURhNU/o8/2unW/LBIiT+1bADShrCDPzSZ0e+ZKH4/c7zGuiapdj9wNuL1BKhwP0yJAktt3Wc/F924wt2VYD+QFh5SRzpWP+srjeulfUw/nZ0pb+9EQT95/n2wTHwzP4h5VKs5+iM/Z8dwLqDnET/KostchDX6Ppi5VForSts+fMwzqEJLrD4TPODmEVtGPic94OYRW0Y+Zs0zqEJLrD4fulRaK0rbPviiy1yENfo+mMdwLqDnET+feVSrOfojP57+fbBMfDM/q50pb+9EQT8ALI3rpX1MP60WHlJHOlY/Id24wt2VYD9miQJLbd1nP3k24vUEqHA/h7zGuiapdj9NmdHvmSh+P71sANKGsIM/7enW/LBIiT9wlEYTVP6PP+iw65yI+pM/IXZfD1GpmD+1OfB8bB+eP942MyPoOKI/gauwCD/bpT9vhivkQQKqP288Ss39ua4/4VUP/4IHsj/UDZPpOQe1P2uepGXzYrg/phTuQ8IhvD8BmSczfiXAP2W27l8dc8I/3vdxqqz9xD81zXGdO8nHP2SASUz72co/zzXvUj40zj8X9vlqPO7QPzS+QUGg69I/8UwyR6YU1T8OafzbumvXP5FGHiNb89k/ioZjBBWu3D9GN+Urh57fPyDqBIWwY+E//qLCabEV4z8mcazArubkPwK2aWgZ2OY/n4nIoWrr6D+gur0PJCLrPyfOZLfPfe0/AAAAAAAA8D8=\",\"dtype\":\"float64\",\"shape\":[100]}},\"selected\":{\"id\":\"d38e1f35-b269-46dc-bc2d-0b6f0fff0514\",\"type\":\"Selection\"},\"selection_policy\":{\"id\":\"abc810ea-41d9-4171-884d-b43376a8ebe9\",\"type\":\"UnionRenderers\"}},\"id\":\"1e22a23f-01ca-44f1-901e-054d23217ba4\",\"type\":\"ColumnDataSource\"},{\"attributes\":{\"callback\":null,\"data\":{\"x\":{\"__ndarray__\":\"AAAAAAAA8L8Fav1KgVrvvwrU+pUCte6/ED744IMP7r8VqPUrBWrtvxoS83aGxOy/H3zwwQcf7L8k5u0MiXnrvylQ61cK1Oq/Lrrooosu6r80JObtDInpvzmO4ziO4+i/Pvjggw8+6L9DYt7OkJjnv0jM2xkS8+a/TjbZZJNN5r9SoNavFKjlv1gK1PqVAuW/XXTRRRdd5L9i3s6QmLfjv2dIzNsZEuO/bLLJJpts4r9yHMdxHMfhv3aGxLydIeG/fPDBBx984L8CtX6lQK3fvwyJeTtDYt6/Fl100UUX3b8gMW9nSMzbvywFav1Kgdq/Ntlkk0022b9ArV8pUOvXv0qBWr9SoNa/VFVVVVVV1b9eKVDrVwrUv2j9SoFav9K/dNFFF1100b9+pUCtXynQvxDzdobEvM2/JJtssskmy784Q2LezpDIv0zrVwrU+sW/ZJNNNtlkw794O0Ni3s7AvxjHcRzHcby/QBdddNFFt79oZ0jM2xmyvyBvZ0jM26m/AB988MEHn79Av1Kg1q+Ev4C/UqDWr4Q/QB988MEHnz9Ab2dIzNupP3BnSMzbGbI/UBdddNFFtz8gx3Ecx3G8P4A7Q2LezsA/aJNNNtlkwz9Q61cK1PrFP0BDYt7OkMg/KJtssskmyz8Y83aGxLzNP4ClQK1fKdA/eNFFF1100T9s/UqBWr/SP2ApUOtXCtQ/WFVVVVVV1T9MgVq/UqDWP0StXylQ69c/ONlkk0022T8wBWr9SoHaPyQxb2dIzNs/GF100UUX3T8QiXk7Q2LePwS1fqVArd8/fvDBBx984D94hsS8nSHhP3Icx3Ecx+E/brLJJpts4j9oSMzbGRLjP2TezpCYt+M/XnTRRRdd5D9aCtT6lQLlP1Sg1q8UqOU/TjbZZJNN5j9KzNsZEvPmP0Ri3s6QmOc/QPjggw8+6D86juM4juPoPzYk5u0Miek/MLrooosu6j8qUOtXCtTqPybm7QyJees/IHzwwQcf7D8cEvN2hsTsPxao9SsFau0/ED744IMP7j8M1PqVArXuPwZq/UqBWu8/AAAAAAAA8D8=\",\"dtype\":\"float64\",\"shape\":[100]},\"y\":{\"__ndarray__\":\"AAAAAAAA8L8Fav1KgVrvvwrU+pUCte6/ED744IMP7r8VqPUrBWrtvxoS83aGxOy/H3zwwQcf7L8k5u0MiXnrvylQ61cK1Oq/Lrrooosu6r80JObtDInpvzmO4ziO4+i/Pvjggw8+6L9DYt7OkJjnv0jM2xkS8+a/TjbZZJNN5r9SoNavFKjlv1gK1PqVAuW/XXTRRRdd5L9i3s6QmLfjv2dIzNsZEuO/bLLJJpts4r9yHMdxHMfhv3aGxLydIeG/fPDBBx984L8CtX6lQK3fvwyJeTtDYt6/Fl100UUX3b8gMW9nSMzbvywFav1Kgdq/Ntlkk0022b9ArV8pUOvXv0qBWr9SoNa/VFVVVVVV1b9eKVDrVwrUv2j9SoFav9K/dNFFF1100b9+pUCtXynQvxDzdobEvM2/JJtssskmy784Q2LezpDIv0zrVwrU+sW/ZJNNNtlkw794O0Ni3s7AvxjHcRzHcby/QBdddNFFt79oZ0jM2xmyvyBvZ0jM26m/AB988MEHn79Av1Kg1q+Ev4C/UqDWr4Q/QB988MEHnz9Ab2dIzNupP3BnSMzbGbI/UBdddNFFtz8gx3Ecx3G8P4A7Q2LezsA/aJNNNtlkwz9Q61cK1PrFP0BDYt7OkMg/KJtssskmyz8Y83aGxLzNP4ClQK1fKdA/eNFFF1100T9s/UqBWr/SP2ApUOtXCtQ/WFVVVVVV1T9MgVq/UqDWP0StXylQ69c/ONlkk0022T8wBWr9SoHaPyQxb2dIzNs/GF100UUX3T8QiXk7Q2LePwS1fqVArd8/fvDBBx984D94hsS8nSHhP3Icx3Ecx+E/brLJJpts4j9oSMzbGRLjP2TezpCYt+M/XnTRRRdd5D9aCtT6lQLlP1Sg1q8UqOU/TjbZZJNN5j9KzNsZEvPmP0Ri3s6QmOc/QPjggw8+6D86juM4juPoPzYk5u0Miek/MLrooosu6j8qUOtXCtTqPybm7QyJees/IHzwwQcf7D8cEvN2hsTsPxao9SsFau0/ED744IMP7j8M1PqVArXuPwZq/UqBWu8/AAAAAAAA8D8=\",\"dtype\":\"float64\",\"shape\":[100]}},\"selected\":{\"id\":\"ff450440-2a70-46da-a5ed-5676cbc7ee25\",\"type\":\"Selection\"},\"selection_policy\":{\"id\":\"f366a40c-f871-477c-867b-d31859ced0a0\",\"type\":\"UnionRenderers\"}},\"id\":\"8f1b4657-88f6-41ff-b42d-a077dfb7a99d\",\"type\":\"ColumnDataSource\"},{\"attributes\":{\"label\":{\"value\":\"y=x^2\"},\"renderers\":[{\"id\":\"f5a390e0-a0ce-4393-a20e-f84822292299\",\"type\":\"GlyphRenderer\"}]},\"id\":\"add4198d-4624-48d8-a8c5-521104c279e3\",\"type\":\"LegendItem\"},{\"attributes\":{\"below\":[{\"id\":\"3bdcba33-2b68-4eeb-8d98-88887e8f3059\",\"type\":\"LinearAxis\"}],\"left\":[{\"id\":\"ed6efc8d-a360-42b3-a19e-4915e7c6830f\",\"type\":\"LinearAxis\"}],\"plot_height\":400,\"plot_width\":400,\"renderers\":[{\"id\":\"3bdcba33-2b68-4eeb-8d98-88887e8f3059\",\"type\":\"LinearAxis\"},{\"id\":\"d763313a-3eee-437a-9afb-df025dbf70a1\",\"type\":\"Grid\"},{\"id\":\"ed6efc8d-a360-42b3-a19e-4915e7c6830f\",\"type\":\"LinearAxis\"},{\"id\":\"92909350-ab6b-4b2f-a629-174d09929157\",\"type\":\"Grid\"},{\"id\":\"c4718c9f-b4a4-4009-b1a7-ba76e87c4058\",\"type\":\"BoxAnnotation\"},{\"id\":\"0beab98a-b76b-4060-848c-530dcbe5868a\",\"type\":\"Legend\"},{\"id\":\"ed6570f5-f9f9-4d7d-a17b-74181b0513de\",\"type\":\"GlyphRenderer\"},{\"id\":\"f5a390e0-a0ce-4393-a20e-f84822292299\",\"type\":\"GlyphRenderer\"},{\"id\":\"27863b23-541c-4386-932e-6b953941696d\",\"type\":\"GlyphRenderer\"},{\"id\":\"d888d731-a6db-47fd-9be4-f4e95a40e50b\",\"type\":\"GlyphRenderer\"},{\"id\":\"d11c683c-1674-44a1-ae2a-3b1409363e49\",\"type\":\"GlyphRenderer\"}],\"title\":{\"id\":\"37246e17-37eb-4e7e-847d-2003d1330fab\",\"type\":\"Title\"},\"toolbar\":{\"id\":\"41cfbfc9-d03a-4082-b6ed-abad2f45dbd8\",\"type\":\"Toolbar\"},\"x_range\":{\"id\":\"5d99f34b-b506-46f9-a933-e89831d18942\",\"type\":\"DataRange1d\"},\"x_scale\":{\"id\":\"1683a683-b475-4aae-b1e2-459d838c1693\",\"type\":\"LinearScale\"},\"y_range\":{\"id\":\"960379e3-e413-4513-940a-fbab593172ca\",\"type\":\"DataRange1d\"},\"y_scale\":{\"id\":\"a9488ba5-6c2a-4985-9687-a79664489a88\",\"type\":\"LinearScale\"}},\"id\":\"e779f587-3bc1-4700-88be-c992fa0f4fe0\",\"subtype\":\"Figure\",\"type\":\"Plot\"},{\"attributes\":{},\"id\":\"29009a63-9040-4683-9c1f-2fed99528d34\",\"type\":\"Selection\"},{\"attributes\":{},\"id\":\"14e0bb08-4482-4652-a485-2a956cee9b3e\",\"type\":\"BasicTickFormatter\"},{\"attributes\":{\"line_alpha\":0.5,\"line_color\":\"orange\",\"line_width\":2,\"x\":{\"field\":\"x\"},\"y\":{\"field\":\"y\"}},\"id\":\"bb469e22-30ea-4693-ae41-561f279f73f5\",\"type\":\"Line\"},{\"attributes\":{\"source\":{\"id\":\"8f1b4657-88f6-41ff-b42d-a077dfb7a99d\",\"type\":\"ColumnDataSource\"}},\"id\":\"2ca49f2b-524e-43c0-8a94-b5b856c914af\",\"type\":\"CDSView\"},{\"attributes\":{\"line_alpha\":0.1,\"line_color\":\"#1f77b4\",\"line_width\":2,\"x\":{\"field\":\"x\"},\"y\":{\"field\":\"y\"}},\"id\":\"c82c3738-e132-4556-ab96-5a9871157a50\",\"type\":\"Line\"},{\"attributes\":{\"active_drag\":\"auto\",\"active_inspect\":\"auto\",\"active_multi\":null,\"active_scroll\":\"auto\",\"active_tap\":\"auto\",\"tools\":[{\"id\":\"282aabc9-2b44-4f13-9e3a-d7a066f95200\",\"type\":\"PanTool\"},{\"id\":\"902e038b-04b0-44c5-91c3-07ab848114f1\",\"type\":\"WheelZoomTool\"},{\"id\":\"67fc71a0-4786-4e35-aa6f-2a9e0858a90a\",\"type\":\"BoxZoomTool\"},{\"id\":\"908da37e-f6ac-485c-ae13-9513cfe36fd7\",\"type\":\"SaveTool\"},{\"id\":\"94fb8ede-bca1-4b76-8ba5-ba95c67a6091\",\"type\":\"ResetTool\"},{\"id\":\"d14efa6f-78ae-49f8-8e85-51a8122d52f6\",\"type\":\"HelpTool\"}]},\"id\":\"41cfbfc9-d03a-4082-b6ed-abad2f45dbd8\",\"type\":\"Toolbar\"},{\"attributes\":{\"data_source\":{\"id\":\"e53eac0c-c075-4717-a718-508212e426e9\",\"type\":\"ColumnDataSource\"},\"glyph\":{\"id\":\"bb469e22-30ea-4693-ae41-561f279f73f5\",\"type\":\"Line\"},\"hover_glyph\":null,\"muted_glyph\":null,\"nonselection_glyph\":{\"id\":\"c82c3738-e132-4556-ab96-5a9871157a50\",\"type\":\"Line\"},\"selection_glyph\":null,\"view\":{\"id\":\"8df965a9-aba7-42de-833a-fa5aa71b997b\",\"type\":\"CDSView\"}},\"id\":\"27863b23-541c-4386-932e-6b953941696d\",\"type\":\"GlyphRenderer\"},{\"attributes\":{\"callback\":null},\"id\":\"5d99f34b-b506-46f9-a933-e89831d18942\",\"type\":\"DataRange1d\"},{\"attributes\":{\"source\":{\"id\":\"e53eac0c-c075-4717-a718-508212e426e9\",\"type\":\"ColumnDataSource\"}},\"id\":\"8df965a9-aba7-42de-833a-fa5aa71b997b\",\"type\":\"CDSView\"},{\"attributes\":{\"formatter\":{\"id\":\"14e0bb08-4482-4652-a485-2a956cee9b3e\",\"type\":\"BasicTickFormatter\"},\"plot\":{\"id\":\"e779f587-3bc1-4700-88be-c992fa0f4fe0\",\"subtype\":\"Figure\",\"type\":\"Plot\"},\"ticker\":{\"id\":\"2b725710-e0c4-47a8-8257-890c938125d1\",\"type\":\"BasicTicker\"}},\"id\":\"3bdcba33-2b68-4eeb-8d98-88887e8f3059\",\"type\":\"LinearAxis\"},{\"attributes\":{\"plot\":null,\"text\":\"\"},\"id\":\"37246e17-37eb-4e7e-847d-2003d1330fab\",\"type\":\"Title\"},{\"attributes\":{},\"id\":\"c7e2d679-b12f-4ae8-b681-4ecfe0ba27c0\",\"type\":\"UnionRenderers\"},{\"attributes\":{},\"id\":\"2b725710-e0c4-47a8-8257-890c938125d1\",\"type\":\"BasicTicker\"},{\"attributes\":{\"callback\":null,\"data\":{\"x\":{\"__ndarray__\":\"AAAAAAAA8L8Fav1KgVrvvwrU+pUCte6/ED744IMP7r8VqPUrBWrtvxoS83aGxOy/H3zwwQcf7L8k5u0MiXnrvylQ61cK1Oq/Lrrooosu6r80JObtDInpvzmO4ziO4+i/Pvjggw8+6L9DYt7OkJjnv0jM2xkS8+a/TjbZZJNN5r9SoNavFKjlv1gK1PqVAuW/XXTRRRdd5L9i3s6QmLfjv2dIzNsZEuO/bLLJJpts4r9yHMdxHMfhv3aGxLydIeG/fPDBBx984L8CtX6lQK3fvwyJeTtDYt6/Fl100UUX3b8gMW9nSMzbvywFav1Kgdq/Ntlkk0022b9ArV8pUOvXv0qBWr9SoNa/VFVVVVVV1b9eKVDrVwrUv2j9SoFav9K/dNFFF1100b9+pUCtXynQvxDzdobEvM2/JJtssskmy784Q2LezpDIv0zrVwrU+sW/ZJNNNtlkw794O0Ni3s7AvxjHcRzHcby/QBdddNFFt79oZ0jM2xmyvyBvZ0jM26m/AB988MEHn79Av1Kg1q+Ev4C/UqDWr4Q/QB988MEHnz9Ab2dIzNupP3BnSMzbGbI/UBdddNFFtz8gx3Ecx3G8P4A7Q2LezsA/aJNNNtlkwz9Q61cK1PrFP0BDYt7OkMg/KJtssskmyz8Y83aGxLzNP4ClQK1fKdA/eNFFF1100T9s/UqBWr/SP2ApUOtXCtQ/WFVVVVVV1T9MgVq/UqDWP0StXylQ69c/ONlkk0022T8wBWr9SoHaPyQxb2dIzNs/GF100UUX3T8QiXk7Q2LePwS1fqVArd8/fvDBBx984D94hsS8nSHhP3Icx3Ecx+E/brLJJpts4j9oSMzbGRLjP2TezpCYt+M/XnTRRRdd5D9aCtT6lQLlP1Sg1q8UqOU/TjbZZJNN5j9KzNsZEvPmP0Ri3s6QmOc/QPjggw8+6D86juM4juPoPzYk5u0Miek/MLrooosu6j8qUOtXCtTqPybm7QyJees/IHzwwQcf7D8cEvN2hsTsPxao9SsFau0/ED744IMP7j8M1PqVArXuPwZq/UqBWu8/AAAAAAAA8D8=\",\"dtype\":\"float64\",\"shape\":[100]},\"y\":{\"__ndarray__\":\"AAAAAAAA8L9ESyc6SuXsv4DPCBx9Ceq/jpiVBMlo578PZO+Lhv/kv/sxoKo1yuK/C9XR4HzF4L9dBgu7UNzdvxDMlktSgtq/xlb0dyh3179bK82NQ7XUv88YNnJYN9K/mLI84L3wz78PZn0NIOfLv2YyEXDISMi/3pkqriMNxb9b/CmtFizCv+my91z2O7+/LCTu2Di3ur8ZVXZuZ7y2v50YHSPKPrO/vY95m3cysL+xWtOpnBirv5xznb7bg6a/x62TLWCTor8/DeJ1iWqev2t6xFT7sZi/KbP9ZJbek78H0QjBr6iPv9r2EWo984i/OhfP1SBug798Gmgw+N19v7PaqCwkn3a/kEaPqCDbcL+/PzQMY6lov/ucwDkuq2G/fHBkV4e4WL8JwJEcF9NQvzZWmH5yLUa/1yHsOhslPL/oyCtwSxAxvzSndUzHkSO/1eUDnrXuFL8gnDHgO3gEv3aIZ1/6wfG+STleiRcL2r5KvVqSkKa9vrzb161jDZa+3jIThMRvW76YQHdWhufcvVdCd1aG59w9+TMThMRvWz5F3NetYw2WPoy9WpKQpr0+ojleiRcL2j6PiGdf+sHxPlGcMeA7eAQ/6uUDnrXuFD9Gp3VMx5EjPwTJK3BLEDE/7CHsOhslPD9UVph+ci1GPxTAkRwX01A/mXBkV4e4WD8OncA5LqthP8s/NAxjqWg/oEaPqCDbcD+92qgsJJ92P5UaaDD43X0/QhfP1SBugz/t9hFqPfOIPx3RCMGvqI8/MLP9ZJbekz97esRU+7GYP0kN4nWJap4/0q2TLWCToj+pc52+24OmP7Fa06mcGKs/xo95m3cysD+iGB0jyj6zPyVVdm5nvLY/MyTu2Di3uj/4svdc9ju/P2T8Ka0WLMI/3pkqriMNxT9xMhFwyEjIPxVmfQ0g58s/pbI84L3wzz/TGDZyWDfSP2QrzY1DtdQ/z1b0dyh31z8VzJZLUoLaP2gGC7tQ3N0/DtXR4HzF4D8CMqCqNcriPxJk74uG/+Q/jpiVBMlo5z+JzwgcfQnqP0lLJzpK5ew/AAAAAAAA8D8=\",\"dtype\":\"float64\",\"shape\":[100]}},\"selected\":{\"id\":\"c452669b-7955-4070-bff3-f017436717fe\",\"type\":\"Selection\"},\"selection_policy\":{\"id\":\"986916ef-7cce-4394-8633-4a976e0773f3\",\"type\":\"UnionRenderers\"}},\"id\":\"70234aca-ec28-4263-bd9b-f86ad4c91e9d\",\"type\":\"ColumnDataSource\"},{\"attributes\":{\"line_alpha\":0.1,\"line_color\":\"#1f77b4\",\"line_width\":2,\"x\":{\"field\":\"x\"},\"y\":{\"field\":\"y\"}},\"id\":\"df414e6c-4de6-4728-888f-97466513b50c\",\"type\":\"Line\"},{\"attributes\":{\"label\":{\"value\":\"y=x^3\"},\"renderers\":[{\"id\":\"27863b23-541c-4386-932e-6b953941696d\",\"type\":\"GlyphRenderer\"}]},\"id\":\"7313ff53-e262-4847-87bf-74ea134bc082\",\"type\":\"LegendItem\"},{\"attributes\":{\"callback\":null},\"id\":\"960379e3-e413-4513-940a-fbab593172ca\",\"type\":\"DataRange1d\"},{\"attributes\":{\"source\":{\"id\":\"1e22a23f-01ca-44f1-901e-054d23217ba4\",\"type\":\"ColumnDataSource\"}},\"id\":\"2418061f-6e8c-4bf6-829a-ebd10397e7c8\",\"type\":\"CDSView\"},{\"attributes\":{},\"id\":\"1683a683-b475-4aae-b1e2-459d838c1693\",\"type\":\"LinearScale\"},{\"attributes\":{\"line_alpha\":0.5,\"line_color\":\"blue\",\"line_width\":2,\"x\":{\"field\":\"x\"},\"y\":{\"field\":\"y\"}},\"id\":\"3885d4a6-fc22-4c3d-95ed-1ea7ac86009a\",\"type\":\"Line\"},{\"attributes\":{},\"id\":\"a9488ba5-6c2a-4985-9687-a79664489a88\",\"type\":\"LinearScale\"},{\"attributes\":{\"line_alpha\":0.1,\"line_color\":\"#1f77b4\",\"line_width\":2,\"x\":{\"field\":\"x\"},\"y\":{\"field\":\"y\"}},\"id\":\"99f4b9c1-a0f9-4e67-9edf-c2d9509a6183\",\"type\":\"Line\"},{\"attributes\":{\"plot\":{\"id\":\"e779f587-3bc1-4700-88be-c992fa0f4fe0\",\"subtype\":\"Figure\",\"type\":\"Plot\"},\"ticker\":{\"id\":\"2b725710-e0c4-47a8-8257-890c938125d1\",\"type\":\"BasicTicker\"}},\"id\":\"d763313a-3eee-437a-9afb-df025dbf70a1\",\"type\":\"Grid\"},{\"attributes\":{\"data_source\":{\"id\":\"1e22a23f-01ca-44f1-901e-054d23217ba4\",\"type\":\"ColumnDataSource\"},\"glyph\":{\"id\":\"3885d4a6-fc22-4c3d-95ed-1ea7ac86009a\",\"type\":\"Line\"},\"hover_glyph\":null,\"muted_glyph\":null,\"nonselection_glyph\":{\"id\":\"99f4b9c1-a0f9-4e67-9edf-c2d9509a6183\",\"type\":\"Line\"},\"selection_glyph\":null,\"view\":{\"id\":\"2418061f-6e8c-4bf6-829a-ebd10397e7c8\",\"type\":\"CDSView\"}},\"id\":\"d888d731-a6db-47fd-9be4-f4e95a40e50b\",\"type\":\"GlyphRenderer\"},{\"attributes\":{\"formatter\":{\"id\":\"a14ce603-1d82-42f5-a5d7-e5b22fd50572\",\"type\":\"BasicTickFormatter\"},\"plot\":{\"id\":\"e779f587-3bc1-4700-88be-c992fa0f4fe0\",\"subtype\":\"Figure\",\"type\":\"Plot\"},\"ticker\":{\"id\":\"be5f47c3-d814-4e6b-9e90-49fb9d872dca\",\"type\":\"BasicTicker\"}},\"id\":\"ed6efc8d-a360-42b3-a19e-4915e7c6830f\",\"type\":\"LinearAxis\"}],\"root_ids\":[\"e779f587-3bc1-4700-88be-c992fa0f4fe0\"]},\"title\":\"Bokeh Application\",\"version\":\"0.13.0\"}};\n",
       "  var render_items = [{\"docid\":\"b3c5013e-8ad6-4127-8fa4-912b0aeb0160\",\"roots\":{\"e779f587-3bc1-4700-88be-c992fa0f4fe0\":\"2e89c362-8df2-4850-ac20-fa105f5500bc\"}}];\n",
       "  root.Bokeh.embed.embed_items_notebook(docs_json, render_items);\n",
       "\n",
       "  }\n",
       "  if (root.Bokeh !== undefined) {\n",
       "    embed_document(root);\n",
       "  } else {\n",
       "    var attempts = 0;\n",
       "    var timer = setInterval(function(root) {\n",
       "      if (root.Bokeh !== undefined) {\n",
       "        embed_document(root);\n",
       "        clearInterval(timer);\n",
       "      }\n",
       "      attempts++;\n",
       "      if (attempts > 100) {\n",
       "        console.log(\"Bokeh: ERROR: Unable to run BokehJS code because BokehJS library is missing\")\n",
       "        clearInterval(timer);\n",
       "      }\n",
       "    }, 10, root)\n",
       "  }\n",
       "})(window);"
      ],
      "application/vnd.bokehjs_exec.v0+json": ""
     },
     "metadata": {
      "application/vnd.bokehjs_exec.v0+json": {
       "id": "e779f587-3bc1-4700-88be-c992fa0f4fe0"
      }
     },
     "output_type": "display_data"
    }
   ],
   "source": [
    "x = np.linspace(-1, 1, 100)\n",
    "y1 = x\n",
    "y2 = x**2\n",
    "y3 = x**3\n",
    "y4 = x**4\n",
    "y5 = x**5\n",
    "powers = figure(plot_width=400, plot_height=400)\n",
    "powers.line(x,y1,color='firebrick',alpha=.5,line_width=2,legend='y=x')\n",
    "powers.line(x,y2,color='navy',alpha=.5,line_width=2,legend='y=x^2')\n",
    "powers.line(x,y3,color='orange',alpha=.5,line_width=2,legend='y=x^3')\n",
    "powers.line(x,y4,color='blue',alpha=.5,line_width=2,legend='y=x^4')\n",
    "powers.line(x,y5,color='green',alpha=.5,line_width=2,legend='y=x^5')\n",
    "powers.legend.location = 'bottom_right'\n",
    "show(powers)"
   ]
  },
  {
   "cell_type": "code",
   "execution_count": 15,
   "metadata": {},
   "outputs": [
    {
     "data": {
      "text/html": [
       "\n",
       "\n",
       "\n",
       "\n",
       "\n",
       "\n",
       "  <div class=\"bk-root\" id=\"fc8206e5-7f83-46fd-ad4f-0d7e116c7b20\"></div>\n"
      ]
     },
     "metadata": {},
     "output_type": "display_data"
    },
    {
     "data": {
      "application/javascript": [
       "(function(root) {\n",
       "  function embed_document(root) {\n",
       "    \n",
       "  var docs_json = {\"d01420bc-b0cf-4f07-92d3-abaa97476691\":{\"roots\":{\"references\":[{\"attributes\":{},\"id\":\"c7d7d561-80e4-46a3-9944-a74d1854760b\",\"type\":\"BasicTicker\"},{\"attributes\":{\"data_source\":{\"id\":\"27989573-4be6-4c95-829e-8aa2d8632d66\",\"type\":\"ColumnDataSource\"},\"glyph\":{\"id\":\"3762348f-f3a7-43c3-b283-5eeb1abeff97\",\"type\":\"Line\"},\"hover_glyph\":null,\"muted_glyph\":null,\"nonselection_glyph\":{\"id\":\"c883cbaa-de0e-4503-83b1-bb0c35976862\",\"type\":\"Line\"},\"selection_glyph\":null,\"view\":{\"id\":\"952a2d77-925f-4d2a-9354-925755eb490b\",\"type\":\"CDSView\"}},\"id\":\"72baf0a7-2a90-4ac4-ae63-23dce95864e6\",\"type\":\"GlyphRenderer\"},{\"attributes\":{\"below\":[{\"id\":\"68ec415d-a632-4ad4-84e0-fe5aef37804d\",\"type\":\"LinearAxis\"}],\"left\":[{\"id\":\"7a002938-315a-4b29-93ec-188629c1e164\",\"type\":\"LinearAxis\"}],\"plot_height\":400,\"plot_width\":400,\"renderers\":[{\"id\":\"68ec415d-a632-4ad4-84e0-fe5aef37804d\",\"type\":\"LinearAxis\"},{\"id\":\"736f9856-d437-43f8-83c9-053a87b292e9\",\"type\":\"Grid\"},{\"id\":\"7a002938-315a-4b29-93ec-188629c1e164\",\"type\":\"LinearAxis\"},{\"id\":\"856b864f-5e06-4d88-8729-37b54b882e6a\",\"type\":\"Grid\"},{\"id\":\"4a4432a2-bd64-4297-98a8-159498735452\",\"type\":\"BoxAnnotation\"},{\"id\":\"d26dfbd8-35b6-4cce-b3d8-e4e091e98f0a\",\"type\":\"Legend\"},{\"id\":\"72baf0a7-2a90-4ac4-ae63-23dce95864e6\",\"type\":\"GlyphRenderer\"},{\"id\":\"0b15f750-7d1b-4f4f-b18f-e648a547b02b\",\"type\":\"GlyphRenderer\"},{\"id\":\"6a056ceb-6021-4466-a474-6a53f0df90d3\",\"type\":\"GlyphRenderer\"},{\"id\":\"a1230c37-8cd8-448a-8d04-dd3a1936ae8d\",\"type\":\"GlyphRenderer\"}],\"title\":{\"id\":\"b34cc643-bd50-41c7-9d14-ae617d807b17\",\"type\":\"Title\"},\"toolbar\":{\"id\":\"c2da49cd-2d1b-4c2c-8880-7e904914fe97\",\"type\":\"Toolbar\"},\"x_range\":{\"id\":\"3bde57e2-124c-4028-b3bc-1c62a972e295\",\"type\":\"DataRange1d\"},\"x_scale\":{\"id\":\"9e2571fc-cffa-4e21-9217-4262a0802100\",\"type\":\"LinearScale\"},\"y_range\":{\"id\":\"463b58cc-b8cd-4a1d-9566-d21a27633213\",\"type\":\"DataRange1d\"},\"y_scale\":{\"id\":\"0f0680da-fdab-410a-8d81-aa947e185feb\",\"type\":\"LinearScale\"}},\"id\":\"8a5a4570-a762-4986-82c8-297efd4a5379\",\"subtype\":\"Figure\",\"type\":\"Plot\"},{\"attributes\":{\"dimension\":1,\"plot\":{\"id\":\"8a5a4570-a762-4986-82c8-297efd4a5379\",\"subtype\":\"Figure\",\"type\":\"Plot\"},\"ticker\":{\"id\":\"00de78c5-db7d-4fc9-8206-eae55e22c0e1\",\"type\":\"BasicTicker\"}},\"id\":\"856b864f-5e06-4d88-8729-37b54b882e6a\",\"type\":\"Grid\"},{\"attributes\":{},\"id\":\"00de78c5-db7d-4fc9-8206-eae55e22c0e1\",\"type\":\"BasicTicker\"},{\"attributes\":{},\"id\":\"dc8e95c1-1216-4370-b780-018f73447b58\",\"type\":\"PanTool\"},{\"attributes\":{\"line_alpha\":0.5,\"line_color\":\"red\",\"line_width\":2,\"x\":{\"field\":\"x\"},\"y\":{\"field\":\"y\"}},\"id\":\"3762348f-f3a7-43c3-b283-5eeb1abeff97\",\"type\":\"Line\"},{\"attributes\":{\"callback\":null,\"data\":{\"x\":{\"__ndarray__\":\"AAAAAAAAAMAFav1KgVr/vwrU+pUCtf6/ED744IMP/r8VqPUrBWr9vxoS83aGxPy/H3zwwQcf/L8k5u0MiXn7vylQ61cK1Pq/Lrrooosu+r80JObtDIn5vzmO4ziO4/i/Pvjggw8++L9DYt7OkJj3v0jM2xkS8/a/TjbZZJNN9r9SoNavFKj1v1gK1PqVAvW/XXTRRRdd9L9i3s6QmLfzv2dIzNsZEvO/bLLJJpts8r9yHMdxHMfxv3aGxLydIfG/fPDBBx988L8CtX6lQK3vvwyJeTtDYu6/Fl100UUX7b8gMW9nSMzrvywFav1Kgeq/Ntlkk0026b9ArV8pUOvnv0qBWr9SoOa/VFVVVVVV5b9eKVDrVwrkv2j9SoFav+K/dNFFF1104b9+pUCtXyngvxDzdobEvN2/JJtssskm2784Q2LezpDYv0zrVwrU+tW/ZJNNNtlk0794O0Ni3s7QvxjHcRzHccy/QBdddNFFx79oZ0jM2xnCvyBvZ0jM27m/AB988MEHr79Av1Kg1q+Uv4C/UqDWr5Q/QB988MEHrz9Ab2dIzNu5P3BnSMzbGcI/UBdddNFFxz8gx3Ecx3HMP4A7Q2LeztA/aJNNNtlk0z9Q61cK1PrVP0BDYt7OkNg/KJtssskm2z8Y83aGxLzdP4ClQK1fKeA/eNFFF1104T9s/UqBWr/iP2ApUOtXCuQ/WFVVVVVV5T9MgVq/UqDmP0StXylQ6+c/ONlkk0026T8wBWr9SoHqPyQxb2dIzOs/GF100UUX7T8QiXk7Q2LuPwS1fqVAre8/fvDBBx988D94hsS8nSHxP3Icx3Ecx/E/brLJJpts8j9oSMzbGRLzP2TezpCYt/M/XnTRRRdd9D9aCtT6lQL1P1Sg1q8UqPU/TjbZZJNN9j9KzNsZEvP2P0Ri3s6QmPc/QPjggw8++D86juM4juP4PzYk5u0Mifk/MLrooosu+j8qUOtXCtT6Pybm7QyJefs/IHzwwQcf/D8cEvN2hsT8Pxao9SsFav0/ED744IMP/j8M1PqVArX+PwZq/UqBWv8/AAAAAAAAAEA=\",\"dtype\":\"float64\",\"shape\":[100]},\"y\":{\"__ndarray__\":\"rt3UuGSOHUCCyFE1xmIcQLp8SwMFQxtAAnWq3KguGkB6Z5Y+PiUZQDByLjlWJhhAT7YqQYYxF0CqAFQDaEYWQIPivjmZZBVAM1q4gruLFECh4FI5dLsTQFteg09s8xJAezK+KVAzEkDOFQV8z3oRQB0/VyidyRBAX8F1Hm8fEEC1Vd15/PcOQMzpw2YMvg1A2a3ny4qQDEBDG8Gj+W4LQPc/TObfWApA4j9yVslNCUAJqXNRRk0IQHxLP6DrVgdAkhSiSlJqBkAkMj1sF4cFQNuAMAvcrARAlf5n8ETbA0A+qXuB+hEDQLHaEZyoUAJAmtO0cv6WAUCtwgxrruQAQE4qcP1tOQBACyx6K+sp/z8QNdzqAO79PwM+vS2Zvvw/ZdpkIzWb+z8j/6kAW4P6P2fzCs2Vdvk/uk7JMXV0+D8+lfVKjXz3P7fRVnp2jvY/OFQbPM2p9T8oe0D9Mc70PxkkoPNI+/M/3RGT97kw8z/OPhhfMG7yP5e0cdpas/E/DR8oUuv/8D+G5WbGllPwP1dMRl8qXO8/9vEAwUIe7j88ys3R8ezsP0Dle/S3x+s/m3qCmRqu6j/2xcYLpJ/pP+cwaT/jm+g/LzqFomui5z8VWtDv1LLmP4jsBAO7zOU/jOkGr73v5D8t7bCVgBvkP8vBOAGrT+M/iUkbv+eL4j+bR4D85M/hP+wmByRUG+E/3XLuvOlt4D/hjhCXuo7fP/4S3WXSTt4/znrUL5Ub3T9NpQOKgvTbPx1tRR8f2do/Wuy1fPTI2T9SUzDgkMPYP4qgwgiHyNc/PFoDCW7X1j9pMzYb4e/VP19HLXd/EdU/H1HVKew71D8J9lvuzW7TP63m3wjPqdI/nT2bIp3s0T+PIXkn6TbRP6JICCVniNA/thd5VZzBzz+7jORWsH/OP3SETcCDSs0/gOuyV5UhzD9SoRQBaQTLPz2ek4qH8sk/C/efen7ryD/m6h/g3+7HPyP8eyRC/MY/1d583z8Txj+7yuisdzPFP4l5zgOMXMQ/gM1sDyOOwz9pyaaJ5sfCPzgo9JaDCcI/zIG/o6pSwT8=\",\"dtype\":\"float64\",\"shape\":[100]}},\"selected\":{\"id\":\"ca5ca5ec-5c3a-45a8-b239-7fffb7983182\",\"type\":\"Selection\"},\"selection_policy\":{\"id\":\"085d79ea-2357-4b43-8e8c-58ee5027ea99\",\"type\":\"UnionRenderers\"}},\"id\":\"48d25d67-62e6-45ea-b1f8-928d8035d9de\",\"type\":\"ColumnDataSource\"},{\"attributes\":{\"line_alpha\":0.5,\"line_color\":\"orange\",\"line_width\":2,\"x\":{\"field\":\"x\"},\"y\":{\"field\":\"y\"}},\"id\":\"aa3094a4-202c-44b9-9650-08d86b242040\",\"type\":\"Line\"},{\"attributes\":{\"callback\":null,\"data\":{\"x\":{\"__ndarray__\":\"AAAAAAAAAMAFav1KgVr/vwrU+pUCtf6/ED744IMP/r8VqPUrBWr9vxoS83aGxPy/H3zwwQcf/L8k5u0MiXn7vylQ61cK1Pq/Lrrooosu+r80JObtDIn5vzmO4ziO4/i/Pvjggw8++L9DYt7OkJj3v0jM2xkS8/a/TjbZZJNN9r9SoNavFKj1v1gK1PqVAvW/XXTRRRdd9L9i3s6QmLfzv2dIzNsZEvO/bLLJJpts8r9yHMdxHMfxv3aGxLydIfG/fPDBBx988L8CtX6lQK3vvwyJeTtDYu6/Fl100UUX7b8gMW9nSMzrvywFav1Kgeq/Ntlkk0026b9ArV8pUOvnv0qBWr9SoOa/VFVVVVVV5b9eKVDrVwrkv2j9SoFav+K/dNFFF1104b9+pUCtXyngvxDzdobEvN2/JJtssskm2784Q2LezpDYv0zrVwrU+tW/ZJNNNtlk0794O0Ni3s7QvxjHcRzHccy/QBdddNFFx79oZ0jM2xnCvyBvZ0jM27m/AB988MEHr79Av1Kg1q+Uv4C/UqDWr5Q/QB988MEHrz9Ab2dIzNu5P3BnSMzbGcI/UBdddNFFxz8gx3Ecx3HMP4A7Q2LeztA/aJNNNtlk0z9Q61cK1PrVP0BDYt7OkNg/KJtssskm2z8Y83aGxLzdP4ClQK1fKeA/eNFFF1104T9s/UqBWr/iP2ApUOtXCuQ/WFVVVVVV5T9MgVq/UqDmP0StXylQ6+c/ONlkk0026T8wBWr9SoHqPyQxb2dIzOs/GF100UUX7T8QiXk7Q2LuPwS1fqVAre8/fvDBBx988D94hsS8nSHxP3Icx3Ecx/E/brLJJpts8j9oSMzbGRLzP2TezpCYt/M/XnTRRRdd9D9aCtT6lQL1P1Sg1q8UqPU/TjbZZJNN9j9KzNsZEvP2P0Ri3s6QmPc/QPjggw8++D86juM4juP4PzYk5u0Mifk/MLrooosu+j8qUOtXCtT6Pybm7QyJefs/IHzwwQcf/D8cEvN2hsT8Pxao9SsFav0/ED744IMP/j8M1PqVArX+PwZq/UqBWv8/AAAAAAAAAEA=\",\"dtype\":\"float64\",\"shape\":[100]},\"y\":{\"__ndarray__\":\"zIG/o6pSwT85KPSWgwnCP2zJponmx8I/gM1sDyOOwz+Kec4DjFzEP77K6Kx3M8U/19583z8Txj8m/HskQvzGP+fqH+Df7sc/Dvefen7ryD9AnpOKh/LJP1ShFAFpBMs/g+uyV5UhzD92hE3Ag0rNP7+M5Fawf84/thd5VZzBzz+kSAglZ4jQP5EheSfpNtE/nz2bIp3s0T+w5t8Iz6nSPwr2W+7NbtM/IlHVKew71D9fRy13fxHVP2wzNhvh79U/P1oDCW7X1j+MoMIIh8jXP1ZTMOCQw9g/XOy1fPTI2T8gbUUfH9naP1ClA4qC9Ns/0HrUL5Ub3T8CE91l0k7eP+OOEJe6jt8/33LuvOlt4D/tJgckVBvhP51HgPzkz+E/i0kbv+eL4j/MwTgBq0/jPy/tsJWAG+Q/jukGr73v5D+L7AQDu8zlPxda0O/UsuY/MDqFomui5z/qMGk/45voP/jFxgukn+k/n3qCmRqu6j9B5Xv0t8frPz/KzdHx7Ow/+vEAwUIe7j9ZTEZfKlzvP4flZsaWU/A/Dx8oUuv/8D+ZtHHaWrPxP88+GF8wbvI/3xGT97kw8z8aJKDzSPvzPyt7QP0xzvQ/OlQbPM2p9T+50VZ6do72P0GV9UqNfPc/vE7JMXV0+D9q8wrNlXb5PyX/qQBbg/o/adpkIzWb+z8HPr0tmb78PxI13OoA7v0/Dyx6K+sp/z9PKnD9bTkAQK/CDGuu5ABAm9O0cv6WAUCz2hGcqFACQECpe4H6EQNAlv5n8ETbA0DegDAL3KwEQCUyPWwXhwVAlRSiSlJqBkB/Sz+g61YHQAmpc1FGTQhA5T9yVslNCUD4P0zm31gKQEcbwaP5bgtA263ny4qQDEDQ6cNmDL4NQLlV3Xn89w5AX8F1Hm8fEEAfP1conckQQM8VBXzPehFAfTK+KVAzEkBcXoNPbPMSQKPgUjl0uxNANVq4gruLFECE4r45mWQVQK0AVANoRhZAULYqQYYxF0Azci45ViYYQHxnlj4+JRlAAnWq3KguGkC+fEsDBUMbQITIUTXGYhxArt3UuGSOHUA=\",\"dtype\":\"float64\",\"shape\":[100]}},\"selected\":{\"id\":\"1f73382f-1ea4-48f2-9d72-d5fad155c995\",\"type\":\"Selection\"},\"selection_policy\":{\"id\":\"3638e4f5-663b-4b67-8b58-b090b6f5a0c6\",\"type\":\"UnionRenderers\"}},\"id\":\"d842d4f7-569d-4892-bb47-fa4ab8d36743\",\"type\":\"ColumnDataSource\"},{\"attributes\":{},\"id\":\"ca5ca5ec-5c3a-45a8-b239-7fffb7983182\",\"type\":\"Selection\"},{\"attributes\":{\"line_alpha\":0.5,\"line_color\":\"green\",\"line_width\":2,\"x\":{\"field\":\"x\"},\"y\":{\"field\":\"y\"}},\"id\":\"f4015e63-536c-4c8e-bab0-aedbd72f1235\",\"type\":\"Line\"},{\"attributes\":{},\"id\":\"d0b13640-7dab-47ec-95a1-92cafd1b11ee\",\"type\":\"ResetTool\"},{\"attributes\":{\"label\":{\"value\":\"y=exp(-2x)\"},\"renderers\":[{\"id\":\"72baf0a7-2a90-4ac4-ae63-23dce95864e6\",\"type\":\"GlyphRenderer\"}]},\"id\":\"5d490af0-6f24-4975-ad83-0ce04e1d4e48\",\"type\":\"LegendItem\"},{\"attributes\":{},\"id\":\"30beb7d3-431d-4472-bf8c-929945e91296\",\"type\":\"HelpTool\"},{\"attributes\":{\"callback\":null,\"data\":{\"x\":{\"__ndarray__\":\"AAAAAAAAAMAFav1KgVr/vwrU+pUCtf6/ED744IMP/r8VqPUrBWr9vxoS83aGxPy/H3zwwQcf/L8k5u0MiXn7vylQ61cK1Pq/Lrrooosu+r80JObtDIn5vzmO4ziO4/i/Pvjggw8++L9DYt7OkJj3v0jM2xkS8/a/TjbZZJNN9r9SoNavFKj1v1gK1PqVAvW/XXTRRRdd9L9i3s6QmLfzv2dIzNsZEvO/bLLJJpts8r9yHMdxHMfxv3aGxLydIfG/fPDBBx988L8CtX6lQK3vvwyJeTtDYu6/Fl100UUX7b8gMW9nSMzrvywFav1Kgeq/Ntlkk0026b9ArV8pUOvnv0qBWr9SoOa/VFVVVVVV5b9eKVDrVwrkv2j9SoFav+K/dNFFF1104b9+pUCtXyngvxDzdobEvN2/JJtssskm2784Q2LezpDYv0zrVwrU+tW/ZJNNNtlk0794O0Ni3s7QvxjHcRzHccy/QBdddNFFx79oZ0jM2xnCvyBvZ0jM27m/AB988MEHr79Av1Kg1q+Uv4C/UqDWr5Q/QB988MEHrz9Ab2dIzNu5P3BnSMzbGcI/UBdddNFFxz8gx3Ecx3HMP4A7Q2LeztA/aJNNNtlk0z9Q61cK1PrVP0BDYt7OkNg/KJtssskm2z8Y83aGxLzdP4ClQK1fKeA/eNFFF1104T9s/UqBWr/iP2ApUOtXCuQ/WFVVVVVV5T9MgVq/UqDmP0StXylQ6+c/ONlkk0026T8wBWr9SoHqPyQxb2dIzOs/GF100UUX7T8QiXk7Q2LuPwS1fqVAre8/fvDBBx988D94hsS8nSHxP3Icx3Ecx/E/brLJJpts8j9oSMzbGRLzP2TezpCYt/M/XnTRRRdd9D9aCtT6lQL1P1Sg1q8UqPU/TjbZZJNN9j9KzNsZEvP2P0Ri3s6QmPc/QPjggw8++D86juM4juP4PzYk5u0Mifk/MLrooosu+j8qUOtXCtT6Pybm7QyJefs/IHzwwQcf/D8cEvN2hsT8Pxao9SsFav0/ED744IMP/j8M1PqVArX+PwZq/UqBWv8/AAAAAAAAAEA=\",\"dtype\":\"float64\",\"shape\":[100]},\"y\":{\"__ndarray__\":\"9DwhuFXBkj+caum7bVWUPyAUUTmIC5Y/2wZB84Hmlz/tOHlYdemZP5ODULS/F5w/iSlJzwZ1nj8g0nGEn4KgP1H+cfpY5qE/k+eMwwJooz+Tu9TsIQqlP32ka81xz6Y/zvY2mOi6qD+ZWQRQvM+qP8L6aSZoEa0/32RdTrKDrz87Cx8mWRWxPwBn8eZrhbI//P0NC3kUtD+bNgoEHMW1P6NSAnAomrc/jqLn066WuT/3kqu7Ab67P71H2ki7E74/HRd4nOFNwD+MGb+2Kq3BP82xhIAEKsM/FhM/+uvGxD+iMwfBk4bGP0Jis5Hoa8g/21opLRZ6yj+bcxamjLTMP7XG7CAGH88/8q3hh8be0D93RUN6QUrSP0M7Y9pT1NM/toayxZB/1T/chrbSwk7XP53mPLzwRNk/4vQmcWJl2z8PwUORprPdP1daMzDMGeA/pxLXHLN04T+K4OFGzOziP1yV5LuMhOQ/jI7Pep4+5j9nU6Po5B3oP+EiIqWBJeo/KuiWx9lY7D9YI3SMm7vuP0IIpT7iqPA//fuvDtQP8j8TNQ2T+5TzP3hXpK/jOvU//Dg8EE4E9z9JtcTEN/T4PyKf9kDeDfs/iROmx8RU/T/ulddKusz/PxbTNeXvPAFA8h0EnlewAkCxj+aDAUMEQDx6LBOP9wVA+k7ZdtrQB0BwkedN+9EJQIKyVNdL/gtAPGWcjW5ZDkCSMIIdqnMQQC3McUgh1hFATH11pm1WE0AHsjH8EfcUQDHrKifHuhZADiVVq4CkGEC7CLyicbcaQF12hRcS9xxAhdpB0SRnH0CATZ/P3gUhQFT/LxWkdCJAjlD1rEcCJECTI82rYrElQFYtNyDGhCdAHZlayH9/KUCePIwt36QrQMVK4C17+C1A6EGF/hs/MEBmtkvTJp0xQKm4MI6nGDNA9q+H7hi0NECa/bMfK3I2QMYGLTjIVThAZqhhGRliOkDeRaK4ipo8QCdM6NnTAj9ALDsIo33PQEBbzXVDrzlCQILQNJpcwkNAI3uKbxZsRUCj943SpDlHQABoIcALLklAWDonLpBMS0A=\",\"dtype\":\"float64\",\"shape\":[100]}},\"selected\":{\"id\":\"f3c488ab-24b0-4dfa-b011-ff315c8b76f1\",\"type\":\"Selection\"},\"selection_policy\":{\"id\":\"3f7509ad-3ffa-4774-884b-42fdc2367172\",\"type\":\"UnionRenderers\"}},\"id\":\"e8b8ea28-8556-4420-86e6-f352e882112f\",\"type\":\"ColumnDataSource\"},{\"attributes\":{},\"id\":\"53fbaa2d-f6e2-46b2-ac89-86fb3a5009a9\",\"type\":\"SaveTool\"},{\"attributes\":{\"overlay\":{\"id\":\"4a4432a2-bd64-4297-98a8-159498735452\",\"type\":\"BoxAnnotation\"}},\"id\":\"8311a56c-f7df-4259-a22e-eef25e526caf\",\"type\":\"BoxZoomTool\"},{\"attributes\":{\"plot\":null,\"text\":\"\"},\"id\":\"b34cc643-bd50-41c7-9d14-ae617d807b17\",\"type\":\"Title\"},{\"attributes\":{},\"id\":\"41f6aa4b-8e78-41a1-aa3a-f78250a8c603\",\"type\":\"BasicTickFormatter\"},{\"attributes\":{},\"id\":\"5af3bfe8-add9-47da-a797-cf2b11ead4f5\",\"type\":\"WheelZoomTool\"},{\"attributes\":{\"data_source\":{\"id\":\"48d25d67-62e6-45ea-b1f8-928d8035d9de\",\"type\":\"ColumnDataSource\"},\"glyph\":{\"id\":\"aa3094a4-202c-44b9-9650-08d86b242040\",\"type\":\"Line\"},\"hover_glyph\":null,\"muted_glyph\":null,\"nonselection_glyph\":{\"id\":\"36c5d576-6122-45d3-a8d3-40be2272629a\",\"type\":\"Line\"},\"selection_glyph\":null,\"view\":{\"id\":\"3457d0b8-c067-4139-abaa-7af2ccc8e448\",\"type\":\"CDSView\"}},\"id\":\"0b15f750-7d1b-4f4f-b18f-e648a547b02b\",\"type\":\"GlyphRenderer\"},{\"attributes\":{},\"id\":\"9e2571fc-cffa-4e21-9217-4262a0802100\",\"type\":\"LinearScale\"},{\"attributes\":{\"line_alpha\":0.1,\"line_color\":\"#1f77b4\",\"line_width\":2,\"x\":{\"field\":\"x\"},\"y\":{\"field\":\"y\"}},\"id\":\"36c5d576-6122-45d3-a8d3-40be2272629a\",\"type\":\"Line\"},{\"attributes\":{},\"id\":\"06de8e04-ddb0-4d7c-9cfe-c679b02c1c93\",\"type\":\"Selection\"},{\"attributes\":{\"source\":{\"id\":\"48d25d67-62e6-45ea-b1f8-928d8035d9de\",\"type\":\"ColumnDataSource\"}},\"id\":\"3457d0b8-c067-4139-abaa-7af2ccc8e448\",\"type\":\"CDSView\"},{\"attributes\":{\"callback\":null,\"data\":{\"x\":{\"__ndarray__\":\"AAAAAAAAAMAFav1KgVr/vwrU+pUCtf6/ED744IMP/r8VqPUrBWr9vxoS83aGxPy/H3zwwQcf/L8k5u0MiXn7vylQ61cK1Pq/Lrrooosu+r80JObtDIn5vzmO4ziO4/i/Pvjggw8++L9DYt7OkJj3v0jM2xkS8/a/TjbZZJNN9r9SoNavFKj1v1gK1PqVAvW/XXTRRRdd9L9i3s6QmLfzv2dIzNsZEvO/bLLJJpts8r9yHMdxHMfxv3aGxLydIfG/fPDBBx988L8CtX6lQK3vvwyJeTtDYu6/Fl100UUX7b8gMW9nSMzrvywFav1Kgeq/Ntlkk0026b9ArV8pUOvnv0qBWr9SoOa/VFVVVVVV5b9eKVDrVwrkv2j9SoFav+K/dNFFF1104b9+pUCtXyngvxDzdobEvN2/JJtssskm2784Q2LezpDYv0zrVwrU+tW/ZJNNNtlk0794O0Ni3s7QvxjHcRzHccy/QBdddNFFx79oZ0jM2xnCvyBvZ0jM27m/AB988MEHr79Av1Kg1q+Uv4C/UqDWr5Q/QB988MEHrz9Ab2dIzNu5P3BnSMzbGcI/UBdddNFFxz8gx3Ecx3HMP4A7Q2LeztA/aJNNNtlk0z9Q61cK1PrVP0BDYt7OkNg/KJtssskm2z8Y83aGxLzdP4ClQK1fKeA/eNFFF1104T9s/UqBWr/iP2ApUOtXCuQ/WFVVVVVV5T9MgVq/UqDmP0StXylQ6+c/ONlkk0026T8wBWr9SoHqPyQxb2dIzOs/GF100UUX7T8QiXk7Q2LuPwS1fqVAre8/fvDBBx988D94hsS8nSHxP3Icx3Ecx/E/brLJJpts8j9oSMzbGRLzP2TezpCYt/M/XnTRRRdd9D9aCtT6lQL1P1Sg1q8UqPU/TjbZZJNN9j9KzNsZEvP2P0Ri3s6QmPc/QPjggw8++D86juM4juP4PzYk5u0Mifk/MLrooosu+j8qUOtXCtT6Pybm7QyJefs/IHzwwQcf/D8cEvN2hsT8Pxao9SsFav0/ED744IMP/j8M1PqVArX+PwZq/UqBWv8/AAAAAAAAAEA=\",\"dtype\":\"float64\",\"shape\":[100]},\"y\":{\"__ndarray__\":\"WDonLpBMS0D9ZyHACy5JQJ33jdKkOUdAI3uKbxZsRUCA0DSaXMJDQFfNdUOvOUJAKjsIo33PQEAfTOjZ0wI/QNtForiKmjxAYKhhGRliOkC/Bi04yFU4QJf9sx8rcjZA8a+H7hi0NECmuDCOpxgzQGG2S9MmnTFA6EGF/hs/MEC9SuAte/gtQJc8jC3fpCtAGZlayH9/KUBRLTcgxoQnQJEjzatisSVAiVD1rEcCJEBU/y8VpHQiQHxNn8/eBSFAfdpB0SRnH0BZdoUXEvccQLQIvKJxtxpACyVVq4CkGEAr6yonx7oWQAKyMfwR9xRASn11pm1WE0AozHFIIdYRQJAwgh2qcxBANGWcjW5ZDkB+slTXS/4LQGqR50370QlA9E7ZdtrQB0A5eiwTj/cFQKyP5oMBQwRA8B0EnlewAkAR0zXl7zwBQOqV10q6zP8/hROmx8RU/T8cn/ZA3g37P0a1xMQ39Pg/9zg8EE4E9z91V6Sv4zr1Pw81DZP7lPM/+fuvDtQP8j9ACKU+4qjwP1QjdIybu+4/I+iWx9lY7D/bIiKlgSXqP2RTo+jkHeg/ho7Pep4+5j9aleS7jITkP4bg4UbM7OI/pRLXHLN04T9VWjMwzBngPwjBQ5Gms90/3vQmcWJl2z+X5jy88ETZP9mGttLCTtc/sIayxZB/1T8+O2PaU9TTP3VFQ3pBStI/7q3hh8be0D+xxuwgBh/PP5NzFqaMtMw/11opLRZ6yj88YrOR6GvIP5wzB8GThsY/FBM/+uvGxD/JsYSABCrDP4oZv7YqrcE/GRd4nOFNwD+2R9pIuxO+P/eSq7sBvrs/h6Ln066WuT+gUgJwKJq3P5Y2CgQcxbU/+v0NC3kUtD/7ZvHma4WyPzcLHyZZFbE/32RdTrKDrz+7+mkmaBGtP5VZBFC8z6o/yPY2mOi6qD96pGvNcc+mP4671OwhCqU/jueMwwJooz9P/nH6WOahPxzScYSfgqA/hSlJzwZ1nj+Mg1C0vxecP+o4eVh16Zk/2wZB84Hmlz8bFFE5iAuWP5pq6bttVZQ/9DwhuFXBkj8=\",\"dtype\":\"float64\",\"shape\":[100]}},\"selected\":{\"id\":\"06de8e04-ddb0-4d7c-9cfe-c679b02c1c93\",\"type\":\"Selection\"},\"selection_policy\":{\"id\":\"d93ae54b-5b90-45b8-a78a-d32f28e7b143\",\"type\":\"UnionRenderers\"}},\"id\":\"27989573-4be6-4c95-829e-8aa2d8632d66\",\"type\":\"ColumnDataSource\"},{\"attributes\":{\"label\":{\"value\":\"y=exp(-x)\"},\"renderers\":[{\"id\":\"0b15f750-7d1b-4f4f-b18f-e648a547b02b\",\"type\":\"GlyphRenderer\"}]},\"id\":\"34186f83-3ac0-4569-b347-1fce4fc0f60a\",\"type\":\"LegendItem\"},{\"attributes\":{\"line_alpha\":0.1,\"line_color\":\"#1f77b4\",\"line_width\":2,\"x\":{\"field\":\"x\"},\"y\":{\"field\":\"y\"}},\"id\":\"c883cbaa-de0e-4503-83b1-bb0c35976862\",\"type\":\"Line\"},{\"attributes\":{},\"id\":\"d93ae54b-5b90-45b8-a78a-d32f28e7b143\",\"type\":\"UnionRenderers\"},{\"attributes\":{\"source\":{\"id\":\"27989573-4be6-4c95-829e-8aa2d8632d66\",\"type\":\"ColumnDataSource\"}},\"id\":\"952a2d77-925f-4d2a-9354-925755eb490b\",\"type\":\"CDSView\"},{\"attributes\":{\"line_alpha\":0.1,\"line_color\":\"#1f77b4\",\"line_width\":2,\"x\":{\"field\":\"x\"},\"y\":{\"field\":\"y\"}},\"id\":\"c8ce70e6-7a71-4bbf-905e-909196735756\",\"type\":\"Line\"},{\"attributes\":{\"active_drag\":\"auto\",\"active_inspect\":\"auto\",\"active_multi\":null,\"active_scroll\":\"auto\",\"active_tap\":\"auto\",\"tools\":[{\"id\":\"dc8e95c1-1216-4370-b780-018f73447b58\",\"type\":\"PanTool\"},{\"id\":\"5af3bfe8-add9-47da-a797-cf2b11ead4f5\",\"type\":\"WheelZoomTool\"},{\"id\":\"8311a56c-f7df-4259-a22e-eef25e526caf\",\"type\":\"BoxZoomTool\"},{\"id\":\"53fbaa2d-f6e2-46b2-ac89-86fb3a5009a9\",\"type\":\"SaveTool\"},{\"id\":\"d0b13640-7dab-47ec-95a1-92cafd1b11ee\",\"type\":\"ResetTool\"},{\"id\":\"30beb7d3-431d-4472-bf8c-929945e91296\",\"type\":\"HelpTool\"}]},\"id\":\"c2da49cd-2d1b-4c2c-8880-7e904914fe97\",\"type\":\"Toolbar\"},{\"attributes\":{},\"id\":\"085d79ea-2357-4b43-8e8c-58ee5027ea99\",\"type\":\"UnionRenderers\"},{\"attributes\":{\"formatter\":{\"id\":\"41f6aa4b-8e78-41a1-aa3a-f78250a8c603\",\"type\":\"BasicTickFormatter\"},\"plot\":{\"id\":\"8a5a4570-a762-4986-82c8-297efd4a5379\",\"subtype\":\"Figure\",\"type\":\"Plot\"},\"ticker\":{\"id\":\"c7d7d561-80e4-46a3-9944-a74d1854760b\",\"type\":\"BasicTicker\"}},\"id\":\"68ec415d-a632-4ad4-84e0-fe5aef37804d\",\"type\":\"LinearAxis\"},{\"attributes\":{\"data_source\":{\"id\":\"e8b8ea28-8556-4420-86e6-f352e882112f\",\"type\":\"ColumnDataSource\"},\"glyph\":{\"id\":\"4d9ce2aa-bc90-4820-862b-6925de6902bf\",\"type\":\"Line\"},\"hover_glyph\":null,\"muted_glyph\":null,\"nonselection_glyph\":{\"id\":\"dc1f8728-2009-4284-a798-ee5b43a046bf\",\"type\":\"Line\"},\"selection_glyph\":null,\"view\":{\"id\":\"1ef6fad5-8465-49ee-ad87-9a5309650524\",\"type\":\"CDSView\"}},\"id\":\"a1230c37-8cd8-448a-8d04-dd3a1936ae8d\",\"type\":\"GlyphRenderer\"},{\"attributes\":{\"plot\":{\"id\":\"8a5a4570-a762-4986-82c8-297efd4a5379\",\"subtype\":\"Figure\",\"type\":\"Plot\"},\"ticker\":{\"id\":\"c7d7d561-80e4-46a3-9944-a74d1854760b\",\"type\":\"BasicTicker\"}},\"id\":\"736f9856-d437-43f8-83c9-053a87b292e9\",\"type\":\"Grid\"},{\"attributes\":{\"source\":{\"id\":\"d842d4f7-569d-4892-bb47-fa4ab8d36743\",\"type\":\"ColumnDataSource\"}},\"id\":\"c445e18e-0de3-4ee1-a5e2-eeaa26764bb8\",\"type\":\"CDSView\"},{\"attributes\":{},\"id\":\"183f4d2c-6985-41fe-b8ca-53d4d9113646\",\"type\":\"BasicTickFormatter\"},{\"attributes\":{\"data_source\":{\"id\":\"d842d4f7-569d-4892-bb47-fa4ab8d36743\",\"type\":\"ColumnDataSource\"},\"glyph\":{\"id\":\"f4015e63-536c-4c8e-bab0-aedbd72f1235\",\"type\":\"Line\"},\"hover_glyph\":null,\"muted_glyph\":null,\"nonselection_glyph\":{\"id\":\"c8ce70e6-7a71-4bbf-905e-909196735756\",\"type\":\"Line\"},\"selection_glyph\":null,\"view\":{\"id\":\"c445e18e-0de3-4ee1-a5e2-eeaa26764bb8\",\"type\":\"CDSView\"}},\"id\":\"6a056ceb-6021-4466-a474-6a53f0df90d3\",\"type\":\"GlyphRenderer\"},{\"attributes\":{\"label\":{\"value\":\"y=exp(2x)\"},\"renderers\":[{\"id\":\"a1230c37-8cd8-448a-8d04-dd3a1936ae8d\",\"type\":\"GlyphRenderer\"}]},\"id\":\"64e7409a-3f7c-42d8-b5b0-087fb666d052\",\"type\":\"LegendItem\"},{\"attributes\":{\"label\":{\"value\":\"y=exp(x)\"},\"renderers\":[{\"id\":\"6a056ceb-6021-4466-a474-6a53f0df90d3\",\"type\":\"GlyphRenderer\"}]},\"id\":\"223140fd-7154-49ba-86f7-bd83093eff8c\",\"type\":\"LegendItem\"},{\"attributes\":{},\"id\":\"0f0680da-fdab-410a-8d81-aa947e185feb\",\"type\":\"LinearScale\"},{\"attributes\":{\"line_alpha\":0.5,\"line_color\":\"blue\",\"line_width\":2,\"x\":{\"field\":\"x\"},\"y\":{\"field\":\"y\"}},\"id\":\"4d9ce2aa-bc90-4820-862b-6925de6902bf\",\"type\":\"Line\"},{\"attributes\":{},\"id\":\"3f7509ad-3ffa-4774-884b-42fdc2367172\",\"type\":\"UnionRenderers\"},{\"attributes\":{},\"id\":\"f3c488ab-24b0-4dfa-b011-ff315c8b76f1\",\"type\":\"Selection\"},{\"attributes\":{},\"id\":\"1f73382f-1ea4-48f2-9d72-d5fad155c995\",\"type\":\"Selection\"},{\"attributes\":{\"items\":[{\"id\":\"5d490af0-6f24-4975-ad83-0ce04e1d4e48\",\"type\":\"LegendItem\"},{\"id\":\"34186f83-3ac0-4569-b347-1fce4fc0f60a\",\"type\":\"LegendItem\"},{\"id\":\"223140fd-7154-49ba-86f7-bd83093eff8c\",\"type\":\"LegendItem\"},{\"id\":\"64e7409a-3f7c-42d8-b5b0-087fb666d052\",\"type\":\"LegendItem\"}],\"location\":\"center\",\"plot\":{\"id\":\"8a5a4570-a762-4986-82c8-297efd4a5379\",\"subtype\":\"Figure\",\"type\":\"Plot\"}},\"id\":\"d26dfbd8-35b6-4cce-b3d8-e4e091e98f0a\",\"type\":\"Legend\"},{\"attributes\":{\"callback\":null},\"id\":\"3bde57e2-124c-4028-b3bc-1c62a972e295\",\"type\":\"DataRange1d\"},{\"attributes\":{\"line_alpha\":0.1,\"line_color\":\"#1f77b4\",\"line_width\":2,\"x\":{\"field\":\"x\"},\"y\":{\"field\":\"y\"}},\"id\":\"dc1f8728-2009-4284-a798-ee5b43a046bf\",\"type\":\"Line\"},{\"attributes\":{\"callback\":null},\"id\":\"463b58cc-b8cd-4a1d-9566-d21a27633213\",\"type\":\"DataRange1d\"},{\"attributes\":{\"source\":{\"id\":\"e8b8ea28-8556-4420-86e6-f352e882112f\",\"type\":\"ColumnDataSource\"}},\"id\":\"1ef6fad5-8465-49ee-ad87-9a5309650524\",\"type\":\"CDSView\"},{\"attributes\":{\"bottom_units\":\"screen\",\"fill_alpha\":{\"value\":0.5},\"fill_color\":{\"value\":\"lightgrey\"},\"left_units\":\"screen\",\"level\":\"overlay\",\"line_alpha\":{\"value\":1.0},\"line_color\":{\"value\":\"black\"},\"line_dash\":[4,4],\"line_width\":{\"value\":2},\"plot\":null,\"render_mode\":\"css\",\"right_units\":\"screen\",\"top_units\":\"screen\"},\"id\":\"4a4432a2-bd64-4297-98a8-159498735452\",\"type\":\"BoxAnnotation\"},{\"attributes\":{},\"id\":\"3638e4f5-663b-4b67-8b58-b090b6f5a0c6\",\"type\":\"UnionRenderers\"},{\"attributes\":{\"formatter\":{\"id\":\"183f4d2c-6985-41fe-b8ca-53d4d9113646\",\"type\":\"BasicTickFormatter\"},\"plot\":{\"id\":\"8a5a4570-a762-4986-82c8-297efd4a5379\",\"subtype\":\"Figure\",\"type\":\"Plot\"},\"ticker\":{\"id\":\"00de78c5-db7d-4fc9-8206-eae55e22c0e1\",\"type\":\"BasicTicker\"}},\"id\":\"7a002938-315a-4b29-93ec-188629c1e164\",\"type\":\"LinearAxis\"}],\"root_ids\":[\"8a5a4570-a762-4986-82c8-297efd4a5379\"]},\"title\":\"Bokeh Application\",\"version\":\"0.13.0\"}};\n",
       "  var render_items = [{\"docid\":\"d01420bc-b0cf-4f07-92d3-abaa97476691\",\"roots\":{\"8a5a4570-a762-4986-82c8-297efd4a5379\":\"fc8206e5-7f83-46fd-ad4f-0d7e116c7b20\"}}];\n",
       "  root.Bokeh.embed.embed_items_notebook(docs_json, render_items);\n",
       "\n",
       "  }\n",
       "  if (root.Bokeh !== undefined) {\n",
       "    embed_document(root);\n",
       "  } else {\n",
       "    var attempts = 0;\n",
       "    var timer = setInterval(function(root) {\n",
       "      if (root.Bokeh !== undefined) {\n",
       "        embed_document(root);\n",
       "        clearInterval(timer);\n",
       "      }\n",
       "      attempts++;\n",
       "      if (attempts > 100) {\n",
       "        console.log(\"Bokeh: ERROR: Unable to run BokehJS code because BokehJS library is missing\")\n",
       "        clearInterval(timer);\n",
       "      }\n",
       "    }, 10, root)\n",
       "  }\n",
       "})(window);"
      ],
      "application/vnd.bokehjs_exec.v0+json": ""
     },
     "metadata": {
      "application/vnd.bokehjs_exec.v0+json": {
       "id": "8a5a4570-a762-4986-82c8-297efd4a5379"
      }
     },
     "output_type": "display_data"
    }
   ],
   "source": [
    "x = np.linspace(-2, 2, 100)\n",
    "yn2 = np.exp(-2*x)\n",
    "yn1 = np.exp(-x)\n",
    "y1 = np.exp(x)\n",
    "y2 = np.exp(2*x)\n",
    "powers = figure(plot_width=400, plot_height=400)\n",
    "powers.line(x,yn2,color='red',alpha=.5,line_width=2,legend='y=exp(-2x)')\n",
    "powers.line(x,yn1,color='orange',alpha=.5,line_width=2,legend='y=exp(-x)')\n",
    "powers.line(x,y1,color='green',alpha=.5,line_width=2,legend='y=exp(x)')\n",
    "powers.line(x,y2,color='blue',alpha=.5,line_width=2,legend='y=exp(2x)')\n",
    "powers.legend.location = 'center'\n",
    "show(powers)"
   ]
  },
  {
   "cell_type": "code",
   "execution_count": 16,
   "metadata": {},
   "outputs": [
    {
     "data": {
      "text/html": [
       "\n",
       "\n",
       "\n",
       "\n",
       "\n",
       "\n",
       "  <div class=\"bk-root\" id=\"b6feed1a-2668-420e-b1e6-5106a26ba569\"></div>\n"
      ]
     },
     "metadata": {},
     "output_type": "display_data"
    },
    {
     "data": {
      "application/javascript": [
       "(function(root) {\n",
       "  function embed_document(root) {\n",
       "    \n",
       "  var docs_json = {\"32f56550-a8c7-4b9a-a954-a46f45d2a425\":{\"roots\":{\"references\":[{\"attributes\":{},\"id\":\"264302dd-10db-4346-80cc-97f04746e885\",\"type\":\"LinearScale\"},{\"attributes\":{\"plot\":null,\"text\":\"\"},\"id\":\"a5a388a2-9b08-42ab-a24b-5e1be57f908b\",\"type\":\"Title\"},{\"attributes\":{},\"id\":\"435dd616-5853-4896-a05f-d96633173b78\",\"type\":\"Selection\"},{\"attributes\":{},\"id\":\"89865bcc-ee79-49c6-b8eb-0fbc5d5ce386\",\"type\":\"BasicTickFormatter\"},{\"attributes\":{},\"id\":\"7c46797a-e30f-41ca-877c-909d4ecc1e69\",\"type\":\"ResetTool\"},{\"attributes\":{\"data_source\":{\"id\":\"df4a2772-ebdc-4f17-8401-5b0be7cad82b\",\"type\":\"ColumnDataSource\"},\"glyph\":{\"id\":\"1c9cb43d-46d2-454e-a90f-20f74de535a4\",\"type\":\"Line\"},\"hover_glyph\":null,\"muted_glyph\":null,\"nonselection_glyph\":{\"id\":\"aee6d3ef-6f83-4155-bab3-467ed2f4ca17\",\"type\":\"Line\"},\"selection_glyph\":null,\"view\":{\"id\":\"49dad12c-d008-4f23-ba0d-a471dd78620b\",\"type\":\"CDSView\"}},\"id\":\"15dd80cb-6738-46ec-87c2-e21ee84cf957\",\"type\":\"GlyphRenderer\"},{\"attributes\":{},\"id\":\"8f141027-2353-4dfa-ae6d-2fb9c874a296\",\"type\":\"HelpTool\"},{\"attributes\":{},\"id\":\"49f006e4-e097-4fd8-9878-2c13d865e118\",\"type\":\"BasicTicker\"},{\"attributes\":{\"line_alpha\":0.1,\"line_color\":\"#1f77b4\",\"line_width\":2,\"x\":{\"field\":\"x\"},\"y\":{\"field\":\"y\"}},\"id\":\"ce3bb81a-b5cf-47ce-a2fb-a2d6a727cdf9\",\"type\":\"Line\"},{\"attributes\":{\"plot\":{\"id\":\"875709a9-7b20-43f1-a585-0b759459cc81\",\"subtype\":\"Figure\",\"type\":\"Plot\"},\"ticker\":{\"id\":\"49f006e4-e097-4fd8-9878-2c13d865e118\",\"type\":\"BasicTicker\"}},\"id\":\"e6b00b88-6e19-4654-8bca-846040f6ac68\",\"type\":\"Grid\"},{\"attributes\":{\"data_source\":{\"id\":\"731a9e6a-e416-4532-8884-17aefa31cf7b\",\"type\":\"ColumnDataSource\"},\"glyph\":{\"id\":\"4d4cdae1-98a5-4329-874d-bb5e2697a9b2\",\"type\":\"Line\"},\"hover_glyph\":null,\"muted_glyph\":null,\"nonselection_glyph\":{\"id\":\"ce3bb81a-b5cf-47ce-a2fb-a2d6a727cdf9\",\"type\":\"Line\"},\"selection_glyph\":null,\"view\":{\"id\":\"a928659b-9f94-43e9-8d2b-48ddc8309a1f\",\"type\":\"CDSView\"}},\"id\":\"5ddd0d99-7cbd-44e0-96a5-66a3ad76477d\",\"type\":\"GlyphRenderer\"},{\"attributes\":{\"callback\":null},\"id\":\"6eb9c363-991e-4905-a7f7-a45b3d1ae39c\",\"type\":\"DataRange1d\"},{\"attributes\":{\"label\":{\"value\":\"y=sin(x)\"},\"renderers\":[{\"id\":\"15dd80cb-6738-46ec-87c2-e21ee84cf957\",\"type\":\"GlyphRenderer\"}]},\"id\":\"0f6c508f-0806-458d-ae76-7086dea3adcc\",\"type\":\"LegendItem\"},{\"attributes\":{\"line_alpha\":0.5,\"line_color\":\"orange\",\"line_width\":2,\"x\":{\"field\":\"x\"},\"y\":{\"field\":\"y\"}},\"id\":\"4d4cdae1-98a5-4329-874d-bb5e2697a9b2\",\"type\":\"Line\"},{\"attributes\":{},\"id\":\"12db87fb-8a17-4110-83ba-f1000e4f41f7\",\"type\":\"BasicTicker\"},{\"attributes\":{\"bottom_units\":\"screen\",\"fill_alpha\":{\"value\":0.5},\"fill_color\":{\"value\":\"lightgrey\"},\"left_units\":\"screen\",\"level\":\"overlay\",\"line_alpha\":{\"value\":1.0},\"line_color\":{\"value\":\"black\"},\"line_dash\":[4,4],\"line_width\":{\"value\":2},\"plot\":null,\"render_mode\":\"css\",\"right_units\":\"screen\",\"top_units\":\"screen\"},\"id\":\"cabbafe0-a559-4a69-91d8-48e4ea17bcfb\",\"type\":\"BoxAnnotation\"},{\"attributes\":{},\"id\":\"5e8ffca4-dd9f-494c-81c1-85268ff6c114\",\"type\":\"WheelZoomTool\"},{\"attributes\":{\"overlay\":{\"id\":\"cabbafe0-a559-4a69-91d8-48e4ea17bcfb\",\"type\":\"BoxAnnotation\"}},\"id\":\"e7779154-7558-4c18-b4c8-7b74260e43a0\",\"type\":\"BoxZoomTool\"},{\"attributes\":{},\"id\":\"fbadf0f4-5282-4ce6-a3d9-e4935e221ded\",\"type\":\"SaveTool\"},{\"attributes\":{\"source\":{\"id\":\"731a9e6a-e416-4532-8884-17aefa31cf7b\",\"type\":\"ColumnDataSource\"}},\"id\":\"a928659b-9f94-43e9-8d2b-48ddc8309a1f\",\"type\":\"CDSView\"},{\"attributes\":{\"label\":{\"value\":\"y=cos(x)\"},\"renderers\":[{\"id\":\"5ddd0d99-7cbd-44e0-96a5-66a3ad76477d\",\"type\":\"GlyphRenderer\"}]},\"id\":\"8b5a6d06-16e6-43dd-9ef9-b0c293036693\",\"type\":\"LegendItem\"},{\"attributes\":{\"callback\":null,\"data\":{\"x\":{\"__ndarray__\":\"GC1EVPshCcBD1GGYAKAIwG97f9wFHgjAmiKdIAucB8DGybpkEBoHwPFw2KgVmAbAHRj27BoWBsBIvxMxIJQFwHRmMXUlEgXAnw1PuSqQBMDLtGz9Lw4EwPZbikE1jAPAIgOohToKA8BNqsXJP4gCwHhR4w1FBgLApPgAUkqEAcDQnx6WTwIBwPtGPNpUgADATdyzPLT8/7+kKu/Evvj+v/t4Kk3J9P2/Usdl1dPw/L+pFaFd3uz7vwBk3OXo6Pq/VrIXbvPk+b+tAFP2/eD4vwRPjn4I3fe/W53JBhPZ9r+y6wSPHdX1vwk6QBco0fS/YIh7nzLN87+31rYnPcnyvw4l8q9HxfG/ZHMtOFLB8L94g9GAuXrvvyQgSJHOcu2/1Ly+oeNq67+AWTWy+GLpvzD2q8INW+e/3JIi0yJT5b+ML5njN0vjvzjMD/RMQ+G/0NEMCcR23r8oC/op7mbav4hE50oYV9a/4H3Ua0JH0r+AboMZ2W7MvzDhXVstT8S/wKdwOgNfuL+AGkt8Vz+gv8AaS3xXP6A/4KdwOgNfuD9A4V1bLU/EP4BugxnZbsw/6H3Ua0JH0j+IROdKGFfWPzAL+inuZto/0NEMCcR23j88zA/0TEPhP4wvmeM3S+M/4JIi0yJT5T8w9qvCDVvnP4RZNbL4Yuk/1Ly+oeNq6z8oIEiRznLtP3iD0YC5eu8/aHMtOFLB8D8QJfKvR8XxP7jWtic9yfI/YIh7nzLN8z8MOkAXKNH0P7TrBI8d1fU/XJ3JBhPZ9j8ET45+CN33P7AAU/b94Pg/WLIXbvPk+T8AZNzl6Oj6P6gVoV3e7Ps/VMdl1dPw/D/8eCpNyfT9P6Qq78S++P4/UNyzPLT8/z/8RjzaVIAAQNCfHpZPAgFApPgAUkqEAUB6UeMNRQYCQE6qxck/iAJAIgOohToKA0D2W4pBNYwDQMy0bP0vDgRAoA1PuSqQBEB0ZjF1JRIFQEi/EzEglAVAHhj27BoWBkDycNioFZgGQMbJumQQGgdAnCKdIAucB0Bwe3/cBR4IQETUYZgAoAhAGC1EVPshCUA=\",\"dtype\":\"float64\",\"shape\":[100]},\"y\":{\"__ndarray__\":\"AAAAAAAA8L+USynBge/vv2j6BgUYvu+/JOk3u/Vr778jfxaOb/nuv/BJcov7Zu6/XLHeqjC17b99NRQyxuTsv1+hBPiS9uu/ufBkh4zr6r9WMpEhxsTpvzhQz6Jvg+i/tTkVSdQo57+VUJVeWbblvz0Tccl8LeS/AqsNgtOP4r9dLKDxB9/gv1S1P3WwOd6/tBLH2SiW2r+IU4hOOdfWv1lDY1G+ANO/iFrgSlktzr+Icwt+GjrGvxrsuGvkX7y/YiCwKKhcqL/x+ijPKj+QPxXJ6KS5SbQ/4kQPZF83wj9T3qvaGjfKP5WAwi7oDdE/PyGBd67u1D85i/Tn4LnYP43JmF6Wa9w/AwAAAAAA4D/Q5tyRtrnhP8+0DJEnYeM/h1h3f5705D/cPrV2e3LmP15Sx9Q02ec/J+Da0Vgn6T9eHHf9jlvqP4tZi6GZdOs/wvLvCVdx7D/aTwivwlDtPxstUkL2Ee4/WFDNmyq07j9D8kaHuDbvPwU9tXAZme8/XjTx7ufa7z8HB0As4PvvPwcHQCzg++8/XjTx7ufa7z8EPbVwGZnvP0PyRoe4Nu8/V1DNmyq07j8bLVJC9hHuP9hPCK/CUO0/wvLvCVdx7D+JWYuhmXTrP14cd/2OW+o/JeDa0Vgn6T9eUsfUNNnnP9k+tXZ7cuY/h1h3f5705D/MtAyRJ2HjP9Dm3JG2ueE/9///////3z+GyZhelmvcPzWL9Ofgudg/PyGBd67u1D+KgMIu6A3RP0Teq9oaN8o/2kQPZF83wj8VyeikuUm0PzH6KM8qP5A/oSCwKKhcqL8a7Lhr5F+8v4BzC34aOsa/mFrgSlktzr9dQ2NRvgDTv4hTiE4519a/vxLH2SiW2r9btT91sDnev10soPEH3+C/AqsNgtOP4r9DE3HJfC3kv5hQlV5ZtuW/tTkVSdQo5784UM+ib4Pov1gykSHGxOm/u/Bkh4zr6r9foQT4kvbrv301FDLG5Oy/XrHeqjC17b/xSXKL+2buvyN/Fo5v+e6/Juk3u/Vr779o+gYFGL7vv5VLKcGB7++/AAAAAAAA8L8=\",\"dtype\":\"float64\",\"shape\":[100]}},\"selected\":{\"id\":\"f10b86c0-e914-40fc-86f4-c3efea4f33f7\",\"type\":\"Selection\"},\"selection_policy\":{\"id\":\"86a071d5-0df3-4e06-beb2-63bb2f07c34e\",\"type\":\"UnionRenderers\"}},\"id\":\"731a9e6a-e416-4532-8884-17aefa31cf7b\",\"type\":\"ColumnDataSource\"},{\"attributes\":{},\"id\":\"86a071d5-0df3-4e06-beb2-63bb2f07c34e\",\"type\":\"UnionRenderers\"},{\"attributes\":{\"formatter\":{\"id\":\"fbd6ee4d-ed8c-4bfd-8551-b81da7c4ad06\",\"type\":\"BasicTickFormatter\"},\"plot\":{\"id\":\"875709a9-7b20-43f1-a585-0b759459cc81\",\"subtype\":\"Figure\",\"type\":\"Plot\"},\"ticker\":{\"id\":\"49f006e4-e097-4fd8-9878-2c13d865e118\",\"type\":\"BasicTicker\"}},\"id\":\"0bef653d-3abe-4a74-a879-40136fc27791\",\"type\":\"LinearAxis\"},{\"attributes\":{},\"id\":\"176e5915-e746-401f-b25f-73ca0de26ee3\",\"type\":\"UnionRenderers\"},{\"attributes\":{\"formatter\":{\"id\":\"89865bcc-ee79-49c6-b8eb-0fbc5d5ce386\",\"type\":\"BasicTickFormatter\"},\"plot\":{\"id\":\"875709a9-7b20-43f1-a585-0b759459cc81\",\"subtype\":\"Figure\",\"type\":\"Plot\"},\"ticker\":{\"id\":\"12db87fb-8a17-4110-83ba-f1000e4f41f7\",\"type\":\"BasicTicker\"}},\"id\":\"438bdd2a-cdbd-497d-9492-725a69292d4a\",\"type\":\"LinearAxis\"},{\"attributes\":{},\"id\":\"f10b86c0-e914-40fc-86f4-c3efea4f33f7\",\"type\":\"Selection\"},{\"attributes\":{\"line_alpha\":0.1,\"line_color\":\"#1f77b4\",\"line_width\":2,\"x\":{\"field\":\"x\"},\"y\":{\"field\":\"y\"}},\"id\":\"aee6d3ef-6f83-4155-bab3-467ed2f4ca17\",\"type\":\"Line\"},{\"attributes\":{\"callback\":null},\"id\":\"4c949be5-b20a-4620-8446-2973ebc6b0fc\",\"type\":\"DataRange1d\"},{\"attributes\":{\"items\":[{\"id\":\"0f6c508f-0806-458d-ae76-7086dea3adcc\",\"type\":\"LegendItem\"},{\"id\":\"8b5a6d06-16e6-43dd-9ef9-b0c293036693\",\"type\":\"LegendItem\"}],\"location\":\"top_left\",\"plot\":{\"id\":\"875709a9-7b20-43f1-a585-0b759459cc81\",\"subtype\":\"Figure\",\"type\":\"Plot\"}},\"id\":\"15e541aa-2ce7-42f8-a5e4-cb69d700ce0b\",\"type\":\"Legend\"},{\"attributes\":{},\"id\":\"fbd6ee4d-ed8c-4bfd-8551-b81da7c4ad06\",\"type\":\"BasicTickFormatter\"},{\"attributes\":{},\"id\":\"a0f6f40a-f5b9-41c8-838e-fca6d5a9f593\",\"type\":\"LinearScale\"},{\"attributes\":{\"below\":[{\"id\":\"0bef653d-3abe-4a74-a879-40136fc27791\",\"type\":\"LinearAxis\"}],\"left\":[{\"id\":\"438bdd2a-cdbd-497d-9492-725a69292d4a\",\"type\":\"LinearAxis\"}],\"plot_height\":400,\"plot_width\":400,\"renderers\":[{\"id\":\"0bef653d-3abe-4a74-a879-40136fc27791\",\"type\":\"LinearAxis\"},{\"id\":\"e6b00b88-6e19-4654-8bca-846040f6ac68\",\"type\":\"Grid\"},{\"id\":\"438bdd2a-cdbd-497d-9492-725a69292d4a\",\"type\":\"LinearAxis\"},{\"id\":\"81955276-b227-4378-b7d2-c124e14ec907\",\"type\":\"Grid\"},{\"id\":\"cabbafe0-a559-4a69-91d8-48e4ea17bcfb\",\"type\":\"BoxAnnotation\"},{\"id\":\"15e541aa-2ce7-42f8-a5e4-cb69d700ce0b\",\"type\":\"Legend\"},{\"id\":\"15dd80cb-6738-46ec-87c2-e21ee84cf957\",\"type\":\"GlyphRenderer\"},{\"id\":\"5ddd0d99-7cbd-44e0-96a5-66a3ad76477d\",\"type\":\"GlyphRenderer\"}],\"title\":{\"id\":\"a5a388a2-9b08-42ab-a24b-5e1be57f908b\",\"type\":\"Title\"},\"toolbar\":{\"id\":\"7f473c2f-8b1c-4c5d-acce-6a2021080357\",\"type\":\"Toolbar\"},\"x_range\":{\"id\":\"6eb9c363-991e-4905-a7f7-a45b3d1ae39c\",\"type\":\"DataRange1d\"},\"x_scale\":{\"id\":\"264302dd-10db-4346-80cc-97f04746e885\",\"type\":\"LinearScale\"},\"y_range\":{\"id\":\"4c949be5-b20a-4620-8446-2973ebc6b0fc\",\"type\":\"DataRange1d\"},\"y_scale\":{\"id\":\"a0f6f40a-f5b9-41c8-838e-fca6d5a9f593\",\"type\":\"LinearScale\"}},\"id\":\"875709a9-7b20-43f1-a585-0b759459cc81\",\"subtype\":\"Figure\",\"type\":\"Plot\"},{\"attributes\":{},\"id\":\"882e19f0-8053-4fbe-bd36-eaf1609460ca\",\"type\":\"PanTool\"},{\"attributes\":{\"active_drag\":\"auto\",\"active_inspect\":\"auto\",\"active_multi\":null,\"active_scroll\":\"auto\",\"active_tap\":\"auto\",\"tools\":[{\"id\":\"882e19f0-8053-4fbe-bd36-eaf1609460ca\",\"type\":\"PanTool\"},{\"id\":\"5e8ffca4-dd9f-494c-81c1-85268ff6c114\",\"type\":\"WheelZoomTool\"},{\"id\":\"e7779154-7558-4c18-b4c8-7b74260e43a0\",\"type\":\"BoxZoomTool\"},{\"id\":\"fbadf0f4-5282-4ce6-a3d9-e4935e221ded\",\"type\":\"SaveTool\"},{\"id\":\"7c46797a-e30f-41ca-877c-909d4ecc1e69\",\"type\":\"ResetTool\"},{\"id\":\"8f141027-2353-4dfa-ae6d-2fb9c874a296\",\"type\":\"HelpTool\"}]},\"id\":\"7f473c2f-8b1c-4c5d-acce-6a2021080357\",\"type\":\"Toolbar\"},{\"attributes\":{\"line_alpha\":0.5,\"line_color\":\"red\",\"line_width\":2,\"x\":{\"field\":\"x\"},\"y\":{\"field\":\"y\"}},\"id\":\"1c9cb43d-46d2-454e-a90f-20f74de535a4\",\"type\":\"Line\"},{\"attributes\":{\"callback\":null,\"data\":{\"x\":{\"__ndarray__\":\"GC1EVPshCcBD1GGYAKAIwG97f9wFHgjAmiKdIAucB8DGybpkEBoHwPFw2KgVmAbAHRj27BoWBsBIvxMxIJQFwHRmMXUlEgXAnw1PuSqQBMDLtGz9Lw4EwPZbikE1jAPAIgOohToKA8BNqsXJP4gCwHhR4w1FBgLApPgAUkqEAcDQnx6WTwIBwPtGPNpUgADATdyzPLT8/7+kKu/Evvj+v/t4Kk3J9P2/Usdl1dPw/L+pFaFd3uz7vwBk3OXo6Pq/VrIXbvPk+b+tAFP2/eD4vwRPjn4I3fe/W53JBhPZ9r+y6wSPHdX1vwk6QBco0fS/YIh7nzLN87+31rYnPcnyvw4l8q9HxfG/ZHMtOFLB8L94g9GAuXrvvyQgSJHOcu2/1Ly+oeNq67+AWTWy+GLpvzD2q8INW+e/3JIi0yJT5b+ML5njN0vjvzjMD/RMQ+G/0NEMCcR23r8oC/op7mbav4hE50oYV9a/4H3Ua0JH0r+AboMZ2W7MvzDhXVstT8S/wKdwOgNfuL+AGkt8Vz+gv8AaS3xXP6A/4KdwOgNfuD9A4V1bLU/EP4BugxnZbsw/6H3Ua0JH0j+IROdKGFfWPzAL+inuZto/0NEMCcR23j88zA/0TEPhP4wvmeM3S+M/4JIi0yJT5T8w9qvCDVvnP4RZNbL4Yuk/1Ly+oeNq6z8oIEiRznLtP3iD0YC5eu8/aHMtOFLB8D8QJfKvR8XxP7jWtic9yfI/YIh7nzLN8z8MOkAXKNH0P7TrBI8d1fU/XJ3JBhPZ9j8ET45+CN33P7AAU/b94Pg/WLIXbvPk+T8AZNzl6Oj6P6gVoV3e7Ps/VMdl1dPw/D/8eCpNyfT9P6Qq78S++P4/UNyzPLT8/z/8RjzaVIAAQNCfHpZPAgFApPgAUkqEAUB6UeMNRQYCQE6qxck/iAJAIgOohToKA0D2W4pBNYwDQMy0bP0vDgRAoA1PuSqQBEB0ZjF1JRIFQEi/EzEglAVAHhj27BoWBkDycNioFZgGQMbJumQQGgdAnCKdIAucB0Bwe3/cBR4IQETUYZgAoAhAGC1EVPshCUA=\",\"dtype\":\"float64\",\"shape\":[100]},\"y\":{\"__ndarray__\":\"B1wUMyamobwbhrXMjDywv/SDAnguNMC/m6yggGI5yL+biNkBzxLQv94fIiFb+NO/+5MNU1HJ17+FQNqEwoHbvxlNPurYHd+/DVi7+O1M4b9GhZoMGvnivx4WPFK3keS//xc/lCAV5r+HGZN4xoHnv4pAIRwx1ui/l0FFlgER6r92zoZi8zDrvzKcHq/dNOy/FCzujrQb7b/C8a4NiuTtv/0jPCWPju6/3176khQZ778XHIGMi4PvvzTGy1KGze+/g6xao7j277/vOc8G+P7vv2Vmsvw75u+/70I4BJ6s77+/l/eBWVLvvwOssILL1+6/xVNiW3I97r+TIxAn7YPtv1EHwCL7q+y/qUxY6Hq267+QVimJaaTqv5aCD4nhdum/oSg6uxkv6L+158MBZM7mv9KHZvErVuW/8XixWvXH478lRkW6WiXiv2ETsJELcOC/8Kg+VZVT3b/YgWKM2KjZv/YLinSo49W/vI12/ecH0r/hKaSyIjPMv+HENsZjOcS/01NHxZdVuL+a23zJpD6gv9rbfMmkPqA/81NHxZdVuD/xxDbGYznEP+EppLIiM8w/xI12/ecH0j/2C4p0qOPVP9+BYozYqNk/8Kg+VZVT3T9kE7CRC3DgPyVGRbpaJeI/9HixWvXH4z/Sh2bxK1blP7jnwwFkzuY/oSg6uxkv6D+Ygg+J4XbpP5BWKYlppOo/rUxY6Hq26z9SB8Ai+6vsP5QjECftg+0/xVNiW3I97j8ErLCCy9fuP7+X94FZUu8/70I4BJ6s7z9lZrL8O+bvP+85zwb4/u8/g6xao7j27z80xstShs3vPxgcgYyLg+8/3l76khQZ7z/9Izwlj47uP8Lxrg2K5O0/ESzujrQb7T8wnB6v3TTsP3bOhmLzMOs/l0FFlgER6j+FQCEcMdboP4QZk3jGgec//xc/lCAV5j8eFjxSt5HkP0OFmgwa+eI/Cli7+O1M4T8ZTT7q2B3fP4VA2oTCgds/85MNU1HJ1z/XHyIhW/jTP5uI2QHPEtA/fKyggGI5yD/kgwJ4LjTAP/uFtcyMPLA/B1wUMyamoTw=\",\"dtype\":\"float64\",\"shape\":[100]}},\"selected\":{\"id\":\"435dd616-5853-4896-a05f-d96633173b78\",\"type\":\"Selection\"},\"selection_policy\":{\"id\":\"176e5915-e746-401f-b25f-73ca0de26ee3\",\"type\":\"UnionRenderers\"}},\"id\":\"df4a2772-ebdc-4f17-8401-5b0be7cad82b\",\"type\":\"ColumnDataSource\"},{\"attributes\":{\"source\":{\"id\":\"df4a2772-ebdc-4f17-8401-5b0be7cad82b\",\"type\":\"ColumnDataSource\"}},\"id\":\"49dad12c-d008-4f23-ba0d-a471dd78620b\",\"type\":\"CDSView\"},{\"attributes\":{\"dimension\":1,\"plot\":{\"id\":\"875709a9-7b20-43f1-a585-0b759459cc81\",\"subtype\":\"Figure\",\"type\":\"Plot\"},\"ticker\":{\"id\":\"12db87fb-8a17-4110-83ba-f1000e4f41f7\",\"type\":\"BasicTicker\"}},\"id\":\"81955276-b227-4378-b7d2-c124e14ec907\",\"type\":\"Grid\"}],\"root_ids\":[\"875709a9-7b20-43f1-a585-0b759459cc81\"]},\"title\":\"Bokeh Application\",\"version\":\"0.13.0\"}};\n",
       "  var render_items = [{\"docid\":\"32f56550-a8c7-4b9a-a954-a46f45d2a425\",\"roots\":{\"875709a9-7b20-43f1-a585-0b759459cc81\":\"b6feed1a-2668-420e-b1e6-5106a26ba569\"}}];\n",
       "  root.Bokeh.embed.embed_items_notebook(docs_json, render_items);\n",
       "\n",
       "  }\n",
       "  if (root.Bokeh !== undefined) {\n",
       "    embed_document(root);\n",
       "  } else {\n",
       "    var attempts = 0;\n",
       "    var timer = setInterval(function(root) {\n",
       "      if (root.Bokeh !== undefined) {\n",
       "        embed_document(root);\n",
       "        clearInterval(timer);\n",
       "      }\n",
       "      attempts++;\n",
       "      if (attempts > 100) {\n",
       "        console.log(\"Bokeh: ERROR: Unable to run BokehJS code because BokehJS library is missing\")\n",
       "        clearInterval(timer);\n",
       "      }\n",
       "    }, 10, root)\n",
       "  }\n",
       "})(window);"
      ],
      "application/vnd.bokehjs_exec.v0+json": ""
     },
     "metadata": {
      "application/vnd.bokehjs_exec.v0+json": {
       "id": "875709a9-7b20-43f1-a585-0b759459cc81"
      }
     },
     "output_type": "display_data"
    }
   ],
   "source": [
    "x = np.linspace(-np.pi, np.pi, 100)\n",
    "y1 = np.sin(x)\n",
    "y2 = np.cos(x)\n",
    "powers = figure(plot_width=400, plot_height=400)\n",
    "powers.line(x,y1,color='red',alpha=.5,line_width=2,legend='y=sin(x)')\n",
    "powers.line(x,y2,color='orange',alpha=.5,line_width=2,legend='y=cos(x)')\n",
    "powers.legend.location = 'top_left'\n",
    "show(powers)"
   ]
  },
  {
   "cell_type": "code",
   "execution_count": 19,
   "metadata": {},
   "outputs": [
    {
     "name": "stdout",
     "output_type": "stream",
     "text": [
      "Help on method pdf in module scipy.stats._distn_infrastructure:\n",
      "\n",
      "pdf(x, *args, **kwds) method of scipy.stats._continuous_distns.norm_gen instance\n",
      "    Probability density function at x of the given RV.\n",
      "    \n",
      "    Parameters\n",
      "    ----------\n",
      "    x : array_like\n",
      "        quantiles\n",
      "    arg1, arg2, arg3,... : array_like\n",
      "        The shape parameter(s) for the distribution (see docstring of the\n",
      "        instance object for more information)\n",
      "    loc : array_like, optional\n",
      "        location parameter (default=0)\n",
      "    scale : array_like, optional\n",
      "        scale parameter (default=1)\n",
      "    \n",
      "    Returns\n",
      "    -------\n",
      "    pdf : ndarray\n",
      "        Probability density function evaluated at x\n",
      "\n"
     ]
    }
   ],
   "source": [
    "help(stats.norm.pdf)"
   ]
  },
  {
   "cell_type": "code",
   "execution_count": 27,
   "metadata": {},
   "outputs": [
    {
     "data": {
      "text/html": [
       "\n",
       "\n",
       "\n",
       "\n",
       "\n",
       "\n",
       "  <div class=\"bk-root\" id=\"e5c70a74-5592-45b9-85ad-78d521cc0872\"></div>\n"
      ]
     },
     "metadata": {},
     "output_type": "display_data"
    },
    {
     "data": {
      "application/javascript": [
       "(function(root) {\n",
       "  function embed_document(root) {\n",
       "    \n",
       "  var docs_json = {\"4f36f5a3-eb2e-4091-a97b-34d05459942c\":{\"roots\":{\"references\":[{\"attributes\":{},\"id\":\"96d4b82a-e69d-45d5-80a9-a318983efc72\",\"type\":\"BasicTickFormatter\"},{\"attributes\":{\"bottom_units\":\"screen\",\"fill_alpha\":{\"value\":0.5},\"fill_color\":{\"value\":\"lightgrey\"},\"left_units\":\"screen\",\"level\":\"overlay\",\"line_alpha\":{\"value\":1.0},\"line_color\":{\"value\":\"black\"},\"line_dash\":[4,4],\"line_width\":{\"value\":2},\"plot\":null,\"render_mode\":\"css\",\"right_units\":\"screen\",\"top_units\":\"screen\"},\"id\":\"fe5bb30f-8208-41c8-9ab0-2d40ee000e76\",\"type\":\"BoxAnnotation\"},{\"attributes\":{},\"id\":\"80f2806c-6467-48f3-b754-024664fbc10d\",\"type\":\"HelpTool\"},{\"attributes\":{\"callback\":null,\"data\":{\"x\":{\"__ndarray__\":\"AAAAAAAAFMBDYt7OkJgTwIbEvJ0hMRPAyiabbLLJEsANiXk7Q2ISwFDrVwrU+hHAk0022WSTEcDXrxSo9SsRwBoS83aGxBDAXXTRRRddEMBArV8pUOsPwMdxHMdxHA/ATjbZZJNNDsDU+pUCtX4NwFq/UqDWrwzA4YMPPvjgC8BoSMzbGRILwO4MiXk7QwrAdNFFF110CcD7lQK1fqUIwIFav1Kg1gfACB988MEHB8CO4ziO4zgGwBWo9SsFagXAm2yyySabBMAiMW9nSMwDwKj1KwVq/QLAL7rooosuAsC1fqVArV8BwDxDYt7OkADAhA8++OCD/7+SmLczJOb9v54hMW9nSPy/qqqqqqqq+r+4MyTm7Qz5v8S8nSExb/e/0kUXXXTR9b/ezpCYtzP0v+xXCtT6lfK/+OCDDz748L8I1PqVArXuvyjm7QyJeeu/QPjggw8+6L9YCtT6lQLlv3Acx3Ecx+G/IF100UUX3b9QgVq/UqDWv4ClQK1fKdC/YJNNNtlkw78Ab2dIzNupvwBvZ0jM26k/YJNNNtlkwz+ApUCtXynQP1CBWr9SoNY/EF100UUX3T9wHMdxHMfhP1gK1PqVAuU/QPjggw8+6D8g5u0MiXnrPwjU+pUCte4/+OCDDz748D/sVwrU+pXyP9zOkJi3M/Q/0EUXXXTR9T/EvJ0hMW/3P7gzJObtDPk/rKqqqqqq+j+cITFvZ0j8P5CYtzMk5v0/hA8++OCD/z88Q2LezpAAQLR+pUCtXwFALrrooosuAkCo9SsFav0CQCIxb2dIzANAmmyyySabBEAUqPUrBWoFQI7jOI7jOAZACB988MEHB0CAWr9SoNYHQPyVArV+pQhAdNFFF110CUDsDIl5O0MKQGhIzNsZEgtA4IMPPvjgC0Bcv1Kg1q8MQNT6lQK1fg1ATDbZZJNNDkDIcRzHcRwPQECtXylQ6w9AXHTRRRddEEAaEvN2hsQQQNavFKj1KxFAlE022WSTEUBQ61cK1PoRQAyJeTtDYhJAyiabbLLJEkCGxLydITETQERi3s6QmBNAAAAAAAAAFEA=\",\"dtype\":\"float64\",\"shape\":[100]},\"y\":{\"__ndarray__\":\"iXbXPyEnYj/Mp0NGfRhlP+uTOm79c2g/JLav8stFbD+qmulGgk1wP4McRLHawHI/L4ZiXG6EdT9RWfeMMaB4P40TSq2IHHw/NC9ziCABgD8l+Q2hQy2CP8dmXlRtl4Q/ajvSL39Ehz/dUDqLczmKP9w8U/NSe40/lXmlA5SHkD8Hs57k+HySP4DZkDRKoJQ/pNbyTOTzlj9hs7HEBHqZP31QqM7ANJw/9QWMEPslnz/HbKGGrCehPzh+RiEc2aI/RpBcj9GnpD/tHtD7IpSmP4omHxgynqg/0irj3ubFqj9YpfKf6gqtP6wh83CjbK8/cvXcDhj1sD/VZepZMkGyP3mq/eHjmbM/IlV5OUj+tD+QV8q4Um22P8oZl3jO5bc/H5sk015muT8X4R90gO26P/OS1vuKebw/fE+HOLMIvj9caNv1DZm/P+NP7q9JlMA/qDzweZFawT9IqX/7Qx7CP+VMaDM/3sI/8UswK1yZwz9QkFzTcU7EP1xJ+wNY/MQ/NU3nluqhxT+xylqQDD7GP9n4v0mrz8Y/ze9AksFVxz9TAGm4Ws/HP0OiPHCVO8g/YsGCiaaZyD+Ob5Jq2+jIPyG+0EScKMk/H/Af+W1YyT+g9c2j83fJP0tJDcnvhsk/WKOoHEWFyT85Lmbh9nLJP5fRZ94oUMk/PP646h4dyT8vIBwRPNrIP056/08BiMg/XQVA+wsnyD8E9P7GE7jHPw+VQoToO8c/vH1dmW+zxj87kyBBoR/GP3SfqJyFgcU/ACkjpDHaxD/RjC4DxCrEPxvTfu1hdMM/phE1+DO4wj/4n90DY/fBP86eVkIVM8E/j1L6YmtswD9LMa3c+0i/P91eCLO1uL0/Xiu8rwYqvD/nc+fg0566P2rYQbbhGLk/tWqKT9GZtz8lYVNhHiO2P3/rkK8dtrQ/C/rDGvxTsz9LSkM6vv2xP0RLD3xAtLA/RkiggW/wrj8knDvSZJSsP9PhB5AzVao/VAiu22czqD9e/cl7Sy+mPyM4nYLqSKQ/VYjEUhiAoj//pEHodNSgP8dyfpjkip4/1jroNrSkmz8=\",\"dtype\":\"float64\",\"shape\":[100]}},\"selected\":{\"id\":\"8848f270-2f63-431e-b735-17315d56d296\",\"type\":\"Selection\"},\"selection_policy\":{\"id\":\"276868b3-4b82-4786-9924-0410262fe81e\",\"type\":\"UnionRenderers\"}},\"id\":\"29290a2b-d266-4d2d-9e8b-1a98ac47780e\",\"type\":\"ColumnDataSource\"},{\"attributes\":{\"label\":{\"value\":\"The Gaussian\"},\"renderers\":[{\"id\":\"56459f96-4f0c-4a79-abe0-7599381cb01d\",\"type\":\"GlyphRenderer\"}]},\"id\":\"453472f8-82d8-4e68-b3d2-febcefb7ea49\",\"type\":\"LegendItem\"},{\"attributes\":{\"line_alpha\":0.5,\"line_color\":\"red\",\"line_width\":2,\"x\":{\"field\":\"x\"},\"y\":{\"field\":\"y\"}},\"id\":\"951c56c8-ce66-4abd-9d38-61fa77cd80da\",\"type\":\"Line\"},{\"attributes\":{\"items\":[{\"id\":\"453472f8-82d8-4e68-b3d2-febcefb7ea49\",\"type\":\"LegendItem\"}],\"location\":\"top_left\",\"plot\":{\"id\":\"be2ebc50-45b5-44ab-962f-ece667f1d729\",\"subtype\":\"Figure\",\"type\":\"Plot\"}},\"id\":\"1330bda7-cbcb-4305-bb35-2dcde4632f2b\",\"type\":\"Legend\"},{\"attributes\":{\"below\":[{\"id\":\"03da9801-7d4e-471a-bd65-a05ab0752b63\",\"type\":\"LinearAxis\"}],\"left\":[{\"id\":\"74d23177-b8c7-4ee9-9b6e-dde646a6beba\",\"type\":\"LinearAxis\"}],\"plot_height\":400,\"plot_width\":400,\"renderers\":[{\"id\":\"03da9801-7d4e-471a-bd65-a05ab0752b63\",\"type\":\"LinearAxis\"},{\"id\":\"70b7c473-b228-4500-88e7-d9e620051fd0\",\"type\":\"Grid\"},{\"id\":\"74d23177-b8c7-4ee9-9b6e-dde646a6beba\",\"type\":\"LinearAxis\"},{\"id\":\"5d15ef8f-60b6-4780-9c79-8697f8cdb4e2\",\"type\":\"Grid\"},{\"id\":\"fe5bb30f-8208-41c8-9ab0-2d40ee000e76\",\"type\":\"BoxAnnotation\"},{\"id\":\"1330bda7-cbcb-4305-bb35-2dcde4632f2b\",\"type\":\"Legend\"},{\"id\":\"56459f96-4f0c-4a79-abe0-7599381cb01d\",\"type\":\"GlyphRenderer\"}],\"title\":{\"id\":\"1ca0411b-e674-4df2-a125-a682acd0e1ac\",\"type\":\"Title\"},\"toolbar\":{\"id\":\"2c5cee3f-63b2-48a9-abbd-d1a8f82aaf16\",\"type\":\"Toolbar\"},\"x_range\":{\"id\":\"a772ea92-9aaa-4f7c-abc1-1a42deeb3783\",\"type\":\"DataRange1d\"},\"x_scale\":{\"id\":\"95cac1d8-42b9-47fe-a31b-0d04ee83a1ae\",\"type\":\"LinearScale\"},\"y_range\":{\"id\":\"da67f339-87a1-4962-8305-8db1a5128f54\",\"type\":\"DataRange1d\"},\"y_scale\":{\"id\":\"aa336413-2aee-4d4f-9d37-982a10de47e8\",\"type\":\"LinearScale\"}},\"id\":\"be2ebc50-45b5-44ab-962f-ece667f1d729\",\"subtype\":\"Figure\",\"type\":\"Plot\"},{\"attributes\":{},\"id\":\"276868b3-4b82-4786-9924-0410262fe81e\",\"type\":\"UnionRenderers\"},{\"attributes\":{},\"id\":\"4130a4d6-74a6-4e91-af01-6dc66dfc2c2b\",\"type\":\"ResetTool\"},{\"attributes\":{\"plot\":{\"id\":\"be2ebc50-45b5-44ab-962f-ece667f1d729\",\"subtype\":\"Figure\",\"type\":\"Plot\"},\"ticker\":{\"id\":\"45e297ae-3930-4ad6-b4ac-5aee215c574b\",\"type\":\"BasicTicker\"}},\"id\":\"70b7c473-b228-4500-88e7-d9e620051fd0\",\"type\":\"Grid\"},{\"attributes\":{\"source\":{\"id\":\"29290a2b-d266-4d2d-9e8b-1a98ac47780e\",\"type\":\"ColumnDataSource\"}},\"id\":\"5b50c458-259e-4c54-bc7c-29329b924160\",\"type\":\"CDSView\"},{\"attributes\":{},\"id\":\"95cac1d8-42b9-47fe-a31b-0d04ee83a1ae\",\"type\":\"LinearScale\"},{\"attributes\":{},\"id\":\"8848f270-2f63-431e-b735-17315d56d296\",\"type\":\"Selection\"},{\"attributes\":{},\"id\":\"e9a2151b-8562-4619-952f-65e3555dcaaa\",\"type\":\"BasicTicker\"},{\"attributes\":{\"active_drag\":\"auto\",\"active_inspect\":\"auto\",\"active_multi\":null,\"active_scroll\":\"auto\",\"active_tap\":\"auto\",\"tools\":[{\"id\":\"fb276ed0-da6b-43cc-9ecd-2a6e01804e6a\",\"type\":\"PanTool\"},{\"id\":\"99d96f95-71fd-4dfd-a612-01318b279e71\",\"type\":\"WheelZoomTool\"},{\"id\":\"0122256a-c642-4f07-8cdb-0dd7d0300ed9\",\"type\":\"BoxZoomTool\"},{\"id\":\"123e23f4-24e3-4151-a5bd-152443d6ba9e\",\"type\":\"SaveTool\"},{\"id\":\"4130a4d6-74a6-4e91-af01-6dc66dfc2c2b\",\"type\":\"ResetTool\"},{\"id\":\"80f2806c-6467-48f3-b754-024664fbc10d\",\"type\":\"HelpTool\"}]},\"id\":\"2c5cee3f-63b2-48a9-abbd-d1a8f82aaf16\",\"type\":\"Toolbar\"},{\"attributes\":{\"dimension\":1,\"plot\":{\"id\":\"be2ebc50-45b5-44ab-962f-ece667f1d729\",\"subtype\":\"Figure\",\"type\":\"Plot\"},\"ticker\":{\"id\":\"e9a2151b-8562-4619-952f-65e3555dcaaa\",\"type\":\"BasicTicker\"}},\"id\":\"5d15ef8f-60b6-4780-9c79-8697f8cdb4e2\",\"type\":\"Grid\"},{\"attributes\":{},\"id\":\"fb276ed0-da6b-43cc-9ecd-2a6e01804e6a\",\"type\":\"PanTool\"},{\"attributes\":{},\"id\":\"48f78499-8eb3-46b9-82ae-2d4d835c5b12\",\"type\":\"BasicTickFormatter\"},{\"attributes\":{\"data_source\":{\"id\":\"29290a2b-d266-4d2d-9e8b-1a98ac47780e\",\"type\":\"ColumnDataSource\"},\"glyph\":{\"id\":\"951c56c8-ce66-4abd-9d38-61fa77cd80da\",\"type\":\"Line\"},\"hover_glyph\":null,\"muted_glyph\":null,\"nonselection_glyph\":{\"id\":\"9b30056f-34fd-4437-870c-4291b0a71474\",\"type\":\"Line\"},\"selection_glyph\":null,\"view\":{\"id\":\"5b50c458-259e-4c54-bc7c-29329b924160\",\"type\":\"CDSView\"}},\"id\":\"56459f96-4f0c-4a79-abe0-7599381cb01d\",\"type\":\"GlyphRenderer\"},{\"attributes\":{\"callback\":null},\"id\":\"a772ea92-9aaa-4f7c-abc1-1a42deeb3783\",\"type\":\"DataRange1d\"},{\"attributes\":{\"formatter\":{\"id\":\"96d4b82a-e69d-45d5-80a9-a318983efc72\",\"type\":\"BasicTickFormatter\"},\"plot\":{\"id\":\"be2ebc50-45b5-44ab-962f-ece667f1d729\",\"subtype\":\"Figure\",\"type\":\"Plot\"},\"ticker\":{\"id\":\"45e297ae-3930-4ad6-b4ac-5aee215c574b\",\"type\":\"BasicTicker\"}},\"id\":\"03da9801-7d4e-471a-bd65-a05ab0752b63\",\"type\":\"LinearAxis\"},{\"attributes\":{},\"id\":\"123e23f4-24e3-4151-a5bd-152443d6ba9e\",\"type\":\"SaveTool\"},{\"attributes\":{\"callback\":null},\"id\":\"da67f339-87a1-4962-8305-8db1a5128f54\",\"type\":\"DataRange1d\"},{\"attributes\":{},\"id\":\"99d96f95-71fd-4dfd-a612-01318b279e71\",\"type\":\"WheelZoomTool\"},{\"attributes\":{},\"id\":\"45e297ae-3930-4ad6-b4ac-5aee215c574b\",\"type\":\"BasicTicker\"},{\"attributes\":{\"line_alpha\":0.1,\"line_color\":\"#1f77b4\",\"line_width\":2,\"x\":{\"field\":\"x\"},\"y\":{\"field\":\"y\"}},\"id\":\"9b30056f-34fd-4437-870c-4291b0a71474\",\"type\":\"Line\"},{\"attributes\":{\"overlay\":{\"id\":\"fe5bb30f-8208-41c8-9ab0-2d40ee000e76\",\"type\":\"BoxAnnotation\"}},\"id\":\"0122256a-c642-4f07-8cdb-0dd7d0300ed9\",\"type\":\"BoxZoomTool\"},{\"attributes\":{},\"id\":\"aa336413-2aee-4d4f-9d37-982a10de47e8\",\"type\":\"LinearScale\"},{\"attributes\":{\"formatter\":{\"id\":\"48f78499-8eb3-46b9-82ae-2d4d835c5b12\",\"type\":\"BasicTickFormatter\"},\"plot\":{\"id\":\"be2ebc50-45b5-44ab-962f-ece667f1d729\",\"subtype\":\"Figure\",\"type\":\"Plot\"},\"ticker\":{\"id\":\"e9a2151b-8562-4619-952f-65e3555dcaaa\",\"type\":\"BasicTicker\"}},\"id\":\"74d23177-b8c7-4ee9-9b6e-dde646a6beba\",\"type\":\"LinearAxis\"},{\"attributes\":{\"plot\":null,\"text\":\"\"},\"id\":\"1ca0411b-e674-4df2-a125-a682acd0e1ac\",\"type\":\"Title\"}],\"root_ids\":[\"be2ebc50-45b5-44ab-962f-ece667f1d729\"]},\"title\":\"Bokeh Application\",\"version\":\"0.13.0\"}};\n",
       "  var render_items = [{\"docid\":\"4f36f5a3-eb2e-4091-a97b-34d05459942c\",\"roots\":{\"be2ebc50-45b5-44ab-962f-ece667f1d729\":\"e5c70a74-5592-45b9-85ad-78d521cc0872\"}}];\n",
       "  root.Bokeh.embed.embed_items_notebook(docs_json, render_items);\n",
       "\n",
       "  }\n",
       "  if (root.Bokeh !== undefined) {\n",
       "    embed_document(root);\n",
       "  } else {\n",
       "    var attempts = 0;\n",
       "    var timer = setInterval(function(root) {\n",
       "      if (root.Bokeh !== undefined) {\n",
       "        embed_document(root);\n",
       "        clearInterval(timer);\n",
       "      }\n",
       "      attempts++;\n",
       "      if (attempts > 100) {\n",
       "        console.log(\"Bokeh: ERROR: Unable to run BokehJS code because BokehJS library is missing\")\n",
       "        clearInterval(timer);\n",
       "      }\n",
       "    }, 10, root)\n",
       "  }\n",
       "})(window);"
      ],
      "application/vnd.bokehjs_exec.v0+json": ""
     },
     "metadata": {
      "application/vnd.bokehjs_exec.v0+json": {
       "id": "be2ebc50-45b5-44ab-962f-ece667f1d729"
      }
     },
     "output_type": "display_data"
    }
   ],
   "source": [
    "x = np.linspace(-5, 5, 100)\n",
    "y = stats.norm.pdf(x,1,2)\n",
    "powers = figure(plot_width=400, plot_height=400)\n",
    "powers.line(x,y,color='red',alpha=.5,line_width=2,legend='The Gaussian')\n",
    "powers.legend.location = 'top_left'\n",
    "show(powers)"
   ]
  },
  {
   "cell_type": "code",
   "execution_count": 28,
   "metadata": {},
   "outputs": [
    {
     "data": {
      "text/html": [
       "\n",
       "\n",
       "\n",
       "\n",
       "\n",
       "\n",
       "  <div class=\"bk-root\" id=\"6a29ba30-2212-468a-99e6-98c106bbdb30\"></div>\n"
      ]
     },
     "metadata": {},
     "output_type": "display_data"
    },
    {
     "data": {
      "application/javascript": [
       "(function(root) {\n",
       "  function embed_document(root) {\n",
       "    \n",
       "  var docs_json = {\"e8df88cd-ab40-4b06-8ad6-4449bbee5098\":{\"roots\":{\"references\":[{\"attributes\":{\"overlay\":{\"id\":\"4f28ba2b-6e32-4693-9c72-c6e1653d5423\",\"type\":\"BoxAnnotation\"}},\"id\":\"01b8b020-b162-4992-b94d-380d5cec4e3a\",\"type\":\"BoxZoomTool\"},{\"attributes\":{},\"id\":\"c4090990-530a-47b8-ae1a-1521a35b1de8\",\"type\":\"PanTool\"},{\"attributes\":{},\"id\":\"a41a1813-f67e-4d20-8150-ca574489daf7\",\"type\":\"Selection\"},{\"attributes\":{\"dimension\":1,\"plot\":{\"id\":\"d4d2a103-c3c7-4d99-bef4-2fd59988cf42\",\"subtype\":\"Figure\",\"type\":\"Plot\"},\"ticker\":{\"id\":\"bd9fac56-7dd7-4036-89b2-8c0822234e50\",\"type\":\"BasicTicker\"}},\"id\":\"1f637abc-b679-4cdb-ba8e-d8da165f8492\",\"type\":\"Grid\"},{\"attributes\":{\"plot\":null,\"text\":\"\"},\"id\":\"b08baae4-8950-4c5f-9adb-d33e832c2238\",\"type\":\"Title\"},{\"attributes\":{},\"id\":\"821f7d5f-fb03-4418-a8a3-265ab56ff2dc\",\"type\":\"BasicTicker\"},{\"attributes\":{\"label\":{\"value\":\"TheGassian (cdf)\"},\"renderers\":[{\"id\":\"fd48591b-986f-4630-b2c4-39e39c26bd8e\",\"type\":\"GlyphRenderer\"}]},\"id\":\"cfa43a8e-09f4-4d17-be09-01007ccdb541\",\"type\":\"LegendItem\"},{\"attributes\":{},\"id\":\"9c9e89a6-9235-4282-824d-fc90670d29f5\",\"type\":\"WheelZoomTool\"},{\"attributes\":{\"formatter\":{\"id\":\"69ac8265-e974-4444-ad1d-24bb3126dbb5\",\"type\":\"BasicTickFormatter\"},\"plot\":{\"id\":\"d4d2a103-c3c7-4d99-bef4-2fd59988cf42\",\"subtype\":\"Figure\",\"type\":\"Plot\"},\"ticker\":{\"id\":\"bd9fac56-7dd7-4036-89b2-8c0822234e50\",\"type\":\"BasicTicker\"}},\"id\":\"ab412b4f-d9fe-4f50-a3ee-de566beaf6eb\",\"type\":\"LinearAxis\"},{\"attributes\":{},\"id\":\"30b79c4b-16b0-40dc-8c0b-7ad4737a9440\",\"type\":\"BasicTickFormatter\"},{\"attributes\":{\"formatter\":{\"id\":\"30b79c4b-16b0-40dc-8c0b-7ad4737a9440\",\"type\":\"BasicTickFormatter\"},\"plot\":{\"id\":\"d4d2a103-c3c7-4d99-bef4-2fd59988cf42\",\"subtype\":\"Figure\",\"type\":\"Plot\"},\"ticker\":{\"id\":\"821f7d5f-fb03-4418-a8a3-265ab56ff2dc\",\"type\":\"BasicTicker\"}},\"id\":\"23db6b84-de71-4623-a452-479cc8b6d523\",\"type\":\"LinearAxis\"},{\"attributes\":{},\"id\":\"293dedcf-4769-42fe-b563-0ed7c1f05a71\",\"type\":\"SaveTool\"},{\"attributes\":{\"bottom_units\":\"screen\",\"fill_alpha\":{\"value\":0.5},\"fill_color\":{\"value\":\"lightgrey\"},\"left_units\":\"screen\",\"level\":\"overlay\",\"line_alpha\":{\"value\":1.0},\"line_color\":{\"value\":\"black\"},\"line_dash\":[4,4],\"line_width\":{\"value\":2},\"plot\":null,\"render_mode\":\"css\",\"right_units\":\"screen\",\"top_units\":\"screen\"},\"id\":\"4f28ba2b-6e32-4693-9c72-c6e1653d5423\",\"type\":\"BoxAnnotation\"},{\"attributes\":{\"callback\":null},\"id\":\"12fb3b7d-7d00-42b7-9f29-38aff60adba4\",\"type\":\"DataRange1d\"},{\"attributes\":{\"source\":{\"id\":\"afbab1db-6c91-4187-a166-506188c06240\",\"type\":\"ColumnDataSource\"}},\"id\":\"e324ec77-f162-42fe-afe7-320406b1fd7a\",\"type\":\"CDSView\"},{\"attributes\":{\"callback\":null},\"id\":\"bb30ba00-ede0-4244-9aac-ca24e838f765\",\"type\":\"DataRange1d\"},{\"attributes\":{\"items\":[{\"id\":\"fd5588b5-8e5d-4157-a970-4c64b4b3677d\",\"type\":\"LegendItem\"},{\"id\":\"cfa43a8e-09f4-4d17-be09-01007ccdb541\",\"type\":\"LegendItem\"}],\"location\":\"top_left\",\"plot\":{\"id\":\"d4d2a103-c3c7-4d99-bef4-2fd59988cf42\",\"subtype\":\"Figure\",\"type\":\"Plot\"}},\"id\":\"1f11865b-07e2-4390-93fd-8aa39ebbfc35\",\"type\":\"Legend\"},{\"attributes\":{},\"id\":\"69ac8265-e974-4444-ad1d-24bb3126dbb5\",\"type\":\"BasicTickFormatter\"},{\"attributes\":{\"line_alpha\":0.1,\"line_color\":\"#1f77b4\",\"line_width\":2,\"x\":{\"field\":\"x\"},\"y\":{\"field\":\"y\"}},\"id\":\"40b4b73c-80d0-4f9e-b815-673add58c0d6\",\"type\":\"Line\"},{\"attributes\":{\"callback\":null,\"data\":{\"x\":{\"__ndarray__\":\"AAAAAAAAFMBDYt7OkJgTwIbEvJ0hMRPAyiabbLLJEsANiXk7Q2ISwFDrVwrU+hHAk0022WSTEcDXrxSo9SsRwBoS83aGxBDAXXTRRRddEMBArV8pUOsPwMdxHMdxHA/ATjbZZJNNDsDU+pUCtX4NwFq/UqDWrwzA4YMPPvjgC8BoSMzbGRILwO4MiXk7QwrAdNFFF110CcD7lQK1fqUIwIFav1Kg1gfACB988MEHB8CO4ziO4zgGwBWo9SsFagXAm2yyySabBMAiMW9nSMwDwKj1KwVq/QLAL7rooosuAsC1fqVArV8BwDxDYt7OkADAhA8++OCD/7+SmLczJOb9v54hMW9nSPy/qqqqqqqq+r+4MyTm7Qz5v8S8nSExb/e/0kUXXXTR9b/ezpCYtzP0v+xXCtT6lfK/+OCDDz748L8I1PqVArXuvyjm7QyJeeu/QPjggw8+6L9YCtT6lQLlv3Acx3Ecx+G/IF100UUX3b9QgVq/UqDWv4ClQK1fKdC/YJNNNtlkw78Ab2dIzNupvwBvZ0jM26k/YJNNNtlkwz+ApUCtXynQP1CBWr9SoNY/EF100UUX3T9wHMdxHMfhP1gK1PqVAuU/QPjggw8+6D8g5u0MiXnrPwjU+pUCte4/+OCDDz748D/sVwrU+pXyP9zOkJi3M/Q/0EUXXXTR9T/EvJ0hMW/3P7gzJObtDPk/rKqqqqqq+j+cITFvZ0j8P5CYtzMk5v0/hA8++OCD/z88Q2LezpAAQLR+pUCtXwFALrrooosuAkCo9SsFav0CQCIxb2dIzANAmmyyySabBEAUqPUrBWoFQI7jOI7jOAZACB988MEHB0CAWr9SoNYHQPyVArV+pQhAdNFFF110CUDsDIl5O0MKQGhIzNsZEgtA4IMPPvjgC0Bcv1Kg1q8MQNT6lQK1fg1ATDbZZJNNDkDIcRzHcRwPQECtXylQ6w9AXHTRRRddEEAaEvN2hsQQQNavFKj1KxFAlE022WSTEUBQ61cK1PoRQAyJeTtDYhJAyiabbLLJEkCGxLydITETQERi3s6QmBNAAAAAAAAAFEA=\",\"dtype\":\"float64\",\"shape\":[100]},\"y\":{\"__ndarray__\":\"JTgT8qI8kz7HnoEaXimgPjNvvJm246o+XlRiEWwmtj4SJ8MKRhHCPjV1IBbKL80+QsqIzCtY1z6zZP2XWn3iPssRdtULAe0+2iRCTySH9j5sEYgU/lMBP9oxNRUlZgo/4hHWijnqEz/OsXeN4MEdP6eA6W6oBCY/QvMM2q4iMD8E1OG2Lmw3Py6FX9yJ1kA/dYangYT6Rz90sbOCWulQPxwXx57+oFc/x3O/cvxZYD8eLZLlEWtmP2CxiBq2cm4/q+66t/d7dD8AA51/Wk57P/ACpLQcCII/CK3DDnyYhz8dOZKyE5iOP3JTaW9ap5M/5ad6duUFmT9x8K/BvJKfP4n0QEbOvaM/IfEmIPp3qD9ldnFd1A+uP2ROpuNkTrI/XAFA9HEatj/sUqud6nW6P8AxhGH8aL8/WByoQ9R8wj+CEOcbpZXFP4S9a0wV/8g/Wtx3KpW3zD+u0T3c4V3QP4cyJE4xg9I/ZCbumS7I1D+30i3pcSjXP3sYGn/Nntk/2zlGpG4l3D+iv02PBrbePy8gWbj8pOA/EuPcrUjt4T/D83JAmTDjP6QWaQvHa+Q/y+wIs+ib5T+85u1YZ77mPykX4REP0ec/6ghitRrS6D+dEOWsOsDpP+A7BrmWmuo/6vgV78pg6z/Iec9z4BLsP6KVSqxCsew/0/93wbE87T80NotjM7btP5roKLoCH+4/7pD9XYB47j+38JsbI8TuP3yA8hlqA+8/wSpM1NA37z9ktYQsxWLvPxu3NbGfhe8/TPHED56h7z/0by2N37fvP/rFAEtjye8/I4qQEAjX7z9Pd+VJjeHvP9NtGu6U6e8/jECNA6bv7z90nLCAL/TvPyemvlKL9+8/HpbfXgH67z8f6IhdyvvvP8UjKXoS/e8/Yr4kqvv97z9oEXm1n/7vP0KU+/AR/+8/T6kzrmD/7z8rq2tnlv/vP+CtB7C6/+8/fGG38dL/7z+KKvT+4v/vPwNopYLt/+8/vBnqU/T/7z94eg20+P/vP099rnv7/+8/1H0yO/3/7z9klsRR/v/vP1geav3+/+8/b+gaZv//7z8=\",\"dtype\":\"float64\",\"shape\":[100]}},\"selected\":{\"id\":\"83d2ce78-f2e9-4327-bf64-e8f8c8c5e3a9\",\"type\":\"Selection\"},\"selection_policy\":{\"id\":\"9657c24d-74ca-4988-8fec-bc2bef6a564c\",\"type\":\"UnionRenderers\"}},\"id\":\"afbab1db-6c91-4187-a166-506188c06240\",\"type\":\"ColumnDataSource\"},{\"attributes\":{},\"id\":\"83d2ce78-f2e9-4327-bf64-e8f8c8c5e3a9\",\"type\":\"Selection\"},{\"attributes\":{\"line_alpha\":0.5,\"line_color\":\"blue\",\"line_width\":2,\"x\":{\"field\":\"x\"},\"y\":{\"field\":\"y\"}},\"id\":\"991b3482-2658-48f1-81dc-1cf85d97352b\",\"type\":\"Line\"},{\"attributes\":{\"data_source\":{\"id\":\"afbab1db-6c91-4187-a166-506188c06240\",\"type\":\"ColumnDataSource\"},\"glyph\":{\"id\":\"991b3482-2658-48f1-81dc-1cf85d97352b\",\"type\":\"Line\"},\"hover_glyph\":null,\"muted_glyph\":null,\"nonselection_glyph\":{\"id\":\"40b4b73c-80d0-4f9e-b815-673add58c0d6\",\"type\":\"Line\"},\"selection_glyph\":null,\"view\":{\"id\":\"e324ec77-f162-42fe-afe7-320406b1fd7a\",\"type\":\"CDSView\"}},\"id\":\"fd48591b-986f-4630-b2c4-39e39c26bd8e\",\"type\":\"GlyphRenderer\"},{\"attributes\":{\"active_drag\":\"auto\",\"active_inspect\":\"auto\",\"active_multi\":null,\"active_scroll\":\"auto\",\"active_tap\":\"auto\",\"tools\":[{\"id\":\"c4090990-530a-47b8-ae1a-1521a35b1de8\",\"type\":\"PanTool\"},{\"id\":\"9c9e89a6-9235-4282-824d-fc90670d29f5\",\"type\":\"WheelZoomTool\"},{\"id\":\"01b8b020-b162-4992-b94d-380d5cec4e3a\",\"type\":\"BoxZoomTool\"},{\"id\":\"293dedcf-4769-42fe-b563-0ed7c1f05a71\",\"type\":\"SaveTool\"},{\"id\":\"ec0f6e69-a8d8-43e0-9a78-5be4b41e043e\",\"type\":\"ResetTool\"},{\"id\":\"64587972-f732-4e6d-bac4-b46097407f4a\",\"type\":\"HelpTool\"}]},\"id\":\"9191c792-8c5f-4a82-9a96-d63bc9a4fd65\",\"type\":\"Toolbar\"},{\"attributes\":{},\"id\":\"ec0f6e69-a8d8-43e0-9a78-5be4b41e043e\",\"type\":\"ResetTool\"},{\"attributes\":{\"label\":{\"value\":\"The Gaussian (density)\"},\"renderers\":[{\"id\":\"3e4d8dff-872a-4f43-ac3a-90c5f1ac2c98\",\"type\":\"GlyphRenderer\"}]},\"id\":\"fd5588b5-8e5d-4157-a970-4c64b4b3677d\",\"type\":\"LegendItem\"},{\"attributes\":{\"source\":{\"id\":\"2d4dffa8-c7d3-4209-85cc-49b044c70198\",\"type\":\"ColumnDataSource\"}},\"id\":\"cd90934d-816b-46e7-9505-9d848c107303\",\"type\":\"CDSView\"},{\"attributes\":{},\"id\":\"64587972-f732-4e6d-bac4-b46097407f4a\",\"type\":\"HelpTool\"},{\"attributes\":{},\"id\":\"e1234df6-5b1c-4011-9d81-7336a9dbea8a\",\"type\":\"UnionRenderers\"},{\"attributes\":{\"below\":[{\"id\":\"23db6b84-de71-4623-a452-479cc8b6d523\",\"type\":\"LinearAxis\"}],\"left\":[{\"id\":\"ab412b4f-d9fe-4f50-a3ee-de566beaf6eb\",\"type\":\"LinearAxis\"}],\"plot_height\":400,\"plot_width\":400,\"renderers\":[{\"id\":\"23db6b84-de71-4623-a452-479cc8b6d523\",\"type\":\"LinearAxis\"},{\"id\":\"ccaf874b-6c6b-4421-b59b-652e9d257a77\",\"type\":\"Grid\"},{\"id\":\"ab412b4f-d9fe-4f50-a3ee-de566beaf6eb\",\"type\":\"LinearAxis\"},{\"id\":\"1f637abc-b679-4cdb-ba8e-d8da165f8492\",\"type\":\"Grid\"},{\"id\":\"4f28ba2b-6e32-4693-9c72-c6e1653d5423\",\"type\":\"BoxAnnotation\"},{\"id\":\"1f11865b-07e2-4390-93fd-8aa39ebbfc35\",\"type\":\"Legend\"},{\"id\":\"3e4d8dff-872a-4f43-ac3a-90c5f1ac2c98\",\"type\":\"GlyphRenderer\"},{\"id\":\"fd48591b-986f-4630-b2c4-39e39c26bd8e\",\"type\":\"GlyphRenderer\"}],\"title\":{\"id\":\"b08baae4-8950-4c5f-9adb-d33e832c2238\",\"type\":\"Title\"},\"toolbar\":{\"id\":\"9191c792-8c5f-4a82-9a96-d63bc9a4fd65\",\"type\":\"Toolbar\"},\"x_range\":{\"id\":\"bb30ba00-ede0-4244-9aac-ca24e838f765\",\"type\":\"DataRange1d\"},\"x_scale\":{\"id\":\"b0414169-534a-47cd-a054-b15658763995\",\"type\":\"LinearScale\"},\"y_range\":{\"id\":\"12fb3b7d-7d00-42b7-9f29-38aff60adba4\",\"type\":\"DataRange1d\"},\"y_scale\":{\"id\":\"91b6d7d6-1a5d-4a6e-bd55-3103366f5d48\",\"type\":\"LinearScale\"}},\"id\":\"d4d2a103-c3c7-4d99-bef4-2fd59988cf42\",\"subtype\":\"Figure\",\"type\":\"Plot\"},{\"attributes\":{\"data_source\":{\"id\":\"2d4dffa8-c7d3-4209-85cc-49b044c70198\",\"type\":\"ColumnDataSource\"},\"glyph\":{\"id\":\"8857ca48-a542-4ed1-af0b-d40854161f05\",\"type\":\"Line\"},\"hover_glyph\":null,\"muted_glyph\":null,\"nonselection_glyph\":{\"id\":\"9dd5c7f5-6e65-45df-bbc8-5e50d51e6c4b\",\"type\":\"Line\"},\"selection_glyph\":null,\"view\":{\"id\":\"cd90934d-816b-46e7-9505-9d848c107303\",\"type\":\"CDSView\"}},\"id\":\"3e4d8dff-872a-4f43-ac3a-90c5f1ac2c98\",\"type\":\"GlyphRenderer\"},{\"attributes\":{},\"id\":\"91b6d7d6-1a5d-4a6e-bd55-3103366f5d48\",\"type\":\"LinearScale\"},{\"attributes\":{\"line_alpha\":0.1,\"line_color\":\"#1f77b4\",\"line_width\":2,\"x\":{\"field\":\"x\"},\"y\":{\"field\":\"y\"}},\"id\":\"9dd5c7f5-6e65-45df-bbc8-5e50d51e6c4b\",\"type\":\"Line\"},{\"attributes\":{\"callback\":null,\"data\":{\"x\":{\"__ndarray__\":\"AAAAAAAAFMBDYt7OkJgTwIbEvJ0hMRPAyiabbLLJEsANiXk7Q2ISwFDrVwrU+hHAk0022WSTEcDXrxSo9SsRwBoS83aGxBDAXXTRRRddEMBArV8pUOsPwMdxHMdxHA/ATjbZZJNNDsDU+pUCtX4NwFq/UqDWrwzA4YMPPvjgC8BoSMzbGRILwO4MiXk7QwrAdNFFF110CcD7lQK1fqUIwIFav1Kg1gfACB988MEHB8CO4ziO4zgGwBWo9SsFagXAm2yyySabBMAiMW9nSMwDwKj1KwVq/QLAL7rooosuAsC1fqVArV8BwDxDYt7OkADAhA8++OCD/7+SmLczJOb9v54hMW9nSPy/qqqqqqqq+r+4MyTm7Qz5v8S8nSExb/e/0kUXXXTR9b/ezpCYtzP0v+xXCtT6lfK/+OCDDz748L8I1PqVArXuvyjm7QyJeeu/QPjggw8+6L9YCtT6lQLlv3Acx3Ecx+G/IF100UUX3b9QgVq/UqDWv4ClQK1fKdC/YJNNNtlkw78Ab2dIzNupvwBvZ0jM26k/YJNNNtlkwz+ApUCtXynQP1CBWr9SoNY/EF100UUX3T9wHMdxHMfhP1gK1PqVAuU/QPjggw8+6D8g5u0MiXnrPwjU+pUCte4/+OCDDz748D/sVwrU+pXyP9zOkJi3M/Q/0EUXXXTR9T/EvJ0hMW/3P7gzJObtDPk/rKqqqqqq+j+cITFvZ0j8P5CYtzMk5v0/hA8++OCD/z88Q2LezpAAQLR+pUCtXwFALrrooosuAkCo9SsFav0CQCIxb2dIzANAmmyyySabBEAUqPUrBWoFQI7jOI7jOAZACB988MEHB0CAWr9SoNYHQPyVArV+pQhAdNFFF110CUDsDIl5O0MKQGhIzNsZEgtA4IMPPvjgC0Bcv1Kg1q8MQNT6lQK1fg1ATDbZZJNNDkDIcRzHcRwPQECtXylQ6w9AXHTRRRddEEAaEvN2hsQQQNavFKj1KxFAlE022WSTEUBQ61cK1PoRQAyJeTtDYhJAyiabbLLJEkCGxLydITETQERi3s6QmBNAAAAAAAAAFEA=\",\"dtype\":\"float64\",\"shape\":[100]},\"y\":{\"__ndarray__\":\"QP3IZGnxuD5mQv0OnY/EPhP0Wn7ZxtA+YD/55J8Z2z5RAZy7aqrlPqJj5lYtJfE+/B0dskPc+j72Vd0kpNMEP72hSBsM+A8//l5LQXpJGD8NgToig0MiP4GaHq+KMCs/OjRdV5AIND9gvSHJyTg9P9yx8E2MGEU/cX588mUmTj+u3Y4riFNVP90vl5wW3V0/BayxF3KyZD9nFNyvpWVsP4kM0/V5SHM/gSSN/DPseT+aCYg5Tz+BP7gVHYKxt4Y/cb+ddHiejT9UownF0ByTPy8B3RBfapg/6+oJV4rfnj/hPnsFQVKjPzu8LbEo8Kc/Y2yoMWhbrT9dmfekkNGxP4cY5jUuabU/pIPQcVV3uT/IrPw8Z/u9P9Eu6aBfeME/vITmLhknxD9PIq4x2wLHP4S+LeEfAso/AD4mx+8YzT/9CFVBihzQP27Ya1Q4qdE/uh0Vwr0p0z/C2VBS7pTUP/+qjDeQ4dU/zh7WMr4G1z9iTTwATPzXP+aWHOsmu9g/AIV8V6w92T94qPh88H/ZP3io+Hzwf9k/AIV8V6w92T/mlhzrJrvYP2JNPABM/Nc/0B7WMr4G1z//qow3kOHVP8LZUFLulNQ/uh0Vwr0p0z9x2GtUOKnRP/0IVUGKHNA/AD4mx+8YzT+Evi3hHwLKP1MirjHbAsc/v4TmLhknxD/RLumgX3jBP8is/Dxn+70/n4PQcVV3uT+LGOY1Lmm1P2GZ96SQ0bE/Y2yoMWhbrT87vC2xKPCnP+Y+ewVBUqM/9uoJV4rfnj8vAd0QX2qYP1SjCcXQHJM/fb+ddHiejT/AFR2CsbeGP5oJiDlPP4E/gSSN/DPseT+NDNP1eUhzP1kU3K+lZWw/BayxF3KyZD/0L5ecFt1dP67djiuIU1U/f3588mUmTj/GsfBNjBhFP2C9IcnJOD0/TjRdV5AIND9ymh6vijArPw2BOiKDQyI/Fl9LQXpJGD+9oUgbDPgPPwpW3SSk0wQ/1B0dskPc+j6iY+ZWLSXxPmcBnLtqquU+YD/55J8Z2z4T9Fp+2cbQPlFC/Q6dj8Q+QP3IZGnxuD4=\",\"dtype\":\"float64\",\"shape\":[100]}},\"selected\":{\"id\":\"a41a1813-f67e-4d20-8150-ca574489daf7\",\"type\":\"Selection\"},\"selection_policy\":{\"id\":\"e1234df6-5b1c-4011-9d81-7336a9dbea8a\",\"type\":\"UnionRenderers\"}},\"id\":\"2d4dffa8-c7d3-4209-85cc-49b044c70198\",\"type\":\"ColumnDataSource\"},{\"attributes\":{},\"id\":\"9657c24d-74ca-4988-8fec-bc2bef6a564c\",\"type\":\"UnionRenderers\"},{\"attributes\":{},\"id\":\"b0414169-534a-47cd-a054-b15658763995\",\"type\":\"LinearScale\"},{\"attributes\":{},\"id\":\"bd9fac56-7dd7-4036-89b2-8c0822234e50\",\"type\":\"BasicTicker\"},{\"attributes\":{\"line_alpha\":0.5,\"line_color\":\"red\",\"line_width\":2,\"x\":{\"field\":\"x\"},\"y\":{\"field\":\"y\"}},\"id\":\"8857ca48-a542-4ed1-af0b-d40854161f05\",\"type\":\"Line\"},{\"attributes\":{\"plot\":{\"id\":\"d4d2a103-c3c7-4d99-bef4-2fd59988cf42\",\"subtype\":\"Figure\",\"type\":\"Plot\"},\"ticker\":{\"id\":\"821f7d5f-fb03-4418-a8a3-265ab56ff2dc\",\"type\":\"BasicTicker\"}},\"id\":\"ccaf874b-6c6b-4421-b59b-652e9d257a77\",\"type\":\"Grid\"}],\"root_ids\":[\"d4d2a103-c3c7-4d99-bef4-2fd59988cf42\"]},\"title\":\"Bokeh Application\",\"version\":\"0.13.0\"}};\n",
       "  var render_items = [{\"docid\":\"e8df88cd-ab40-4b06-8ad6-4449bbee5098\",\"roots\":{\"d4d2a103-c3c7-4d99-bef4-2fd59988cf42\":\"6a29ba30-2212-468a-99e6-98c106bbdb30\"}}];\n",
       "  root.Bokeh.embed.embed_items_notebook(docs_json, render_items);\n",
       "\n",
       "  }\n",
       "  if (root.Bokeh !== undefined) {\n",
       "    embed_document(root);\n",
       "  } else {\n",
       "    var attempts = 0;\n",
       "    var timer = setInterval(function(root) {\n",
       "      if (root.Bokeh !== undefined) {\n",
       "        embed_document(root);\n",
       "        clearInterval(timer);\n",
       "      }\n",
       "      attempts++;\n",
       "      if (attempts > 100) {\n",
       "        console.log(\"Bokeh: ERROR: Unable to run BokehJS code because BokehJS library is missing\")\n",
       "        clearInterval(timer);\n",
       "      }\n",
       "    }, 10, root)\n",
       "  }\n",
       "})(window);"
      ],
      "application/vnd.bokehjs_exec.v0+json": ""
     },
     "metadata": {
      "application/vnd.bokehjs_exec.v0+json": {
       "id": "d4d2a103-c3c7-4d99-bef4-2fd59988cf42"
      }
     },
     "output_type": "display_data"
    }
   ],
   "source": [
    "x = np.linspace(-5, 5, 100)\n",
    "y = stats.norm.pdf(x)\n",
    "y1 = stats.norm.cdf(x)\n",
    "powers = figure(plot_width=400, plot_height=400)\n",
    "powers.line(x,y,color='red',alpha=.5,line_width=2,legend='The Gaussian (density)')\n",
    "powers.line(x,y1,color='blue',alpha=.5,line_width=2,legend='TheGassian (cdf)')\n",
    "powers.legend.location = 'top_left'\n",
    "show(powers)"
   ]
  },
  {
   "cell_type": "code",
   "execution_count": 30,
   "metadata": {},
   "outputs": [
    {
     "data": {
      "text/plain": [
       "0"
      ]
     },
     "execution_count": 30,
     "metadata": {},
     "output_type": "execute_result"
    }
   ],
   "source": [
    "pcws = lambda x: 0 if x < 0 else x\n",
    "pcws(-5)"
   ]
  },
  {
   "cell_type": "code",
   "execution_count": 32,
   "metadata": {},
   "outputs": [
    {
     "data": {
      "text/html": [
       "\n",
       "\n",
       "\n",
       "\n",
       "\n",
       "\n",
       "  <div class=\"bk-root\" id=\"6fc0b97c-e405-4bee-8356-f513496b1282\"></div>\n"
      ]
     },
     "metadata": {},
     "output_type": "display_data"
    },
    {
     "data": {
      "application/javascript": [
       "(function(root) {\n",
       "  function embed_document(root) {\n",
       "    \n",
       "  var docs_json = {\"5fabef0c-0239-4f35-bbf4-e8c908442959\":{\"roots\":{\"references\":[{\"attributes\":{\"data_source\":{\"id\":\"04e236c7-606a-4fe2-8dc7-115f94f47555\",\"type\":\"ColumnDataSource\"},\"glyph\":{\"id\":\"53f884d1-513e-4ec9-8942-61affa1fabf2\",\"type\":\"Line\"},\"hover_glyph\":null,\"muted_glyph\":null,\"nonselection_glyph\":{\"id\":\"c70e1e7a-10a1-4d6c-a3be-34e55921959c\",\"type\":\"Line\"},\"selection_glyph\":null,\"view\":{\"id\":\"7fcace92-0de8-40b2-8e71-71a8a7a718e9\",\"type\":\"CDSView\"}},\"id\":\"3663e769-3a82-4528-a13f-c2781ab4823b\",\"type\":\"GlyphRenderer\"},{\"attributes\":{\"callback\":null},\"id\":\"cd5e8c47-f3e5-4e06-99d5-1a9a93db19df\",\"type\":\"DataRange1d\"},{\"attributes\":{},\"id\":\"1bfa46d1-f844-4420-8587-45ab2fe8a93f\",\"type\":\"SaveTool\"},{\"attributes\":{},\"id\":\"6858fabd-43b0-430a-8c8b-440fdfaaf08e\",\"type\":\"BasicTickFormatter\"},{\"attributes\":{\"line_alpha\":0.5,\"line_color\":\"red\",\"line_width\":2,\"x\":{\"field\":\"x\"},\"y\":{\"field\":\"y\"}},\"id\":\"53f884d1-513e-4ec9-8942-61affa1fabf2\",\"type\":\"Line\"},{\"attributes\":{\"callback\":null},\"id\":\"148e3ff6-76dd-46fc-a1fa-1c45f1e4a579\",\"type\":\"DataRange1d\"},{\"attributes\":{\"label\":{\"value\":\"Rectifier\"},\"renderers\":[{\"id\":\"3663e769-3a82-4528-a13f-c2781ab4823b\",\"type\":\"GlyphRenderer\"}]},\"id\":\"268f7fc0-63ea-4bb3-8c07-aca813f151ae\",\"type\":\"LegendItem\"},{\"attributes\":{\"plot\":null,\"text\":\"\"},\"id\":\"c51e5565-b198-474c-876b-b8989ecef9ee\",\"type\":\"Title\"},{\"attributes\":{\"items\":[{\"id\":\"268f7fc0-63ea-4bb3-8c07-aca813f151ae\",\"type\":\"LegendItem\"}],\"location\":\"top_left\",\"plot\":{\"id\":\"3f1a071d-600c-4b8c-9a2d-e629e300ddc1\",\"subtype\":\"Figure\",\"type\":\"Plot\"}},\"id\":\"b1c965a0-2074-423e-99c0-0e14ea3d93f4\",\"type\":\"Legend\"},{\"attributes\":{},\"id\":\"08d4692e-3549-4a35-a924-85cae8c15906\",\"type\":\"BasicTicker\"},{\"attributes\":{},\"id\":\"5abeffb4-cda8-4049-9690-8ce440444d1b\",\"type\":\"ResetTool\"},{\"attributes\":{\"active_drag\":\"auto\",\"active_inspect\":\"auto\",\"active_multi\":null,\"active_scroll\":\"auto\",\"active_tap\":\"auto\",\"tools\":[{\"id\":\"de897487-c9d7-4247-af95-cbf4d96cf4ca\",\"type\":\"PanTool\"},{\"id\":\"5b1c4273-109c-4df9-8835-69a9dba470d9\",\"type\":\"WheelZoomTool\"},{\"id\":\"a0b5219a-1fb7-41e6-b523-b99a709d4429\",\"type\":\"BoxZoomTool\"},{\"id\":\"1bfa46d1-f844-4420-8587-45ab2fe8a93f\",\"type\":\"SaveTool\"},{\"id\":\"5abeffb4-cda8-4049-9690-8ce440444d1b\",\"type\":\"ResetTool\"},{\"id\":\"bde83784-4db5-44bf-a933-5967729a97e7\",\"type\":\"HelpTool\"}]},\"id\":\"cf23aa05-df41-4536-a85f-622bbe796f10\",\"type\":\"Toolbar\"},{\"attributes\":{},\"id\":\"6ea4e100-6e28-4976-87ef-9d8234e46a2e\",\"type\":\"LinearScale\"},{\"attributes\":{},\"id\":\"bde83784-4db5-44bf-a933-5967729a97e7\",\"type\":\"HelpTool\"},{\"attributes\":{\"formatter\":{\"id\":\"6e4e5d30-3a4c-46d9-9fea-12160bbeb7c8\",\"type\":\"BasicTickFormatter\"},\"plot\":{\"id\":\"3f1a071d-600c-4b8c-9a2d-e629e300ddc1\",\"subtype\":\"Figure\",\"type\":\"Plot\"},\"ticker\":{\"id\":\"123d28fd-de88-48b4-b7b3-c0bb2bf9a23c\",\"type\":\"BasicTicker\"}},\"id\":\"3e1ab09e-fa7c-46f9-8860-9d392acd9056\",\"type\":\"LinearAxis\"},{\"attributes\":{},\"id\":\"6e4e5d30-3a4c-46d9-9fea-12160bbeb7c8\",\"type\":\"BasicTickFormatter\"},{\"attributes\":{\"bottom_units\":\"screen\",\"fill_alpha\":{\"value\":0.5},\"fill_color\":{\"value\":\"lightgrey\"},\"left_units\":\"screen\",\"level\":\"overlay\",\"line_alpha\":{\"value\":1.0},\"line_color\":{\"value\":\"black\"},\"line_dash\":[4,4],\"line_width\":{\"value\":2},\"plot\":null,\"render_mode\":\"css\",\"right_units\":\"screen\",\"top_units\":\"screen\"},\"id\":\"80e5eb46-bd82-4aae-9714-3413496ff361\",\"type\":\"BoxAnnotation\"},{\"attributes\":{},\"id\":\"979009e1-6085-4dfb-8b36-c303ef135750\",\"type\":\"LinearScale\"},{\"attributes\":{},\"id\":\"d1dfaafb-943a-45c4-8cf2-d5890cb25654\",\"type\":\"Selection\"},{\"attributes\":{\"formatter\":{\"id\":\"6858fabd-43b0-430a-8c8b-440fdfaaf08e\",\"type\":\"BasicTickFormatter\"},\"plot\":{\"id\":\"3f1a071d-600c-4b8c-9a2d-e629e300ddc1\",\"subtype\":\"Figure\",\"type\":\"Plot\"},\"ticker\":{\"id\":\"08d4692e-3549-4a35-a924-85cae8c15906\",\"type\":\"BasicTicker\"}},\"id\":\"e9202d61-be8a-4889-a02d-b2c9588bd5ce\",\"type\":\"LinearAxis\"},{\"attributes\":{},\"id\":\"5b1c4273-109c-4df9-8835-69a9dba470d9\",\"type\":\"WheelZoomTool\"},{\"attributes\":{\"callback\":null,\"data\":{\"x\":{\"__ndarray__\":\"AAAAAAAA8L8Fav1KgVrvvwrU+pUCte6/ED744IMP7r8VqPUrBWrtvxoS83aGxOy/H3zwwQcf7L8k5u0MiXnrvylQ61cK1Oq/Lrrooosu6r80JObtDInpvzmO4ziO4+i/Pvjggw8+6L9DYt7OkJjnv0jM2xkS8+a/TjbZZJNN5r9SoNavFKjlv1gK1PqVAuW/XXTRRRdd5L9i3s6QmLfjv2dIzNsZEuO/bLLJJpts4r9yHMdxHMfhv3aGxLydIeG/fPDBBx984L8CtX6lQK3fvwyJeTtDYt6/Fl100UUX3b8gMW9nSMzbvywFav1Kgdq/Ntlkk0022b9ArV8pUOvXv0qBWr9SoNa/VFVVVVVV1b9eKVDrVwrUv2j9SoFav9K/dNFFF1100b9+pUCtXynQvxDzdobEvM2/JJtssskmy784Q2LezpDIv0zrVwrU+sW/ZJNNNtlkw794O0Ni3s7AvxjHcRzHcby/QBdddNFFt79oZ0jM2xmyvyBvZ0jM26m/AB988MEHn79Av1Kg1q+Ev4C/UqDWr4Q/QB988MEHnz9Ab2dIzNupP3BnSMzbGbI/UBdddNFFtz8gx3Ecx3G8P4A7Q2LezsA/aJNNNtlkwz9Q61cK1PrFP0BDYt7OkMg/KJtssskmyz8Y83aGxLzNP4ClQK1fKdA/eNFFF1100T9s/UqBWr/SP2ApUOtXCtQ/WFVVVVVV1T9MgVq/UqDWP0StXylQ69c/ONlkk0022T8wBWr9SoHaPyQxb2dIzNs/GF100UUX3T8QiXk7Q2LePwS1fqVArd8/fvDBBx984D94hsS8nSHhP3Icx3Ecx+E/brLJJpts4j9oSMzbGRLjP2TezpCYt+M/XnTRRRdd5D9aCtT6lQLlP1Sg1q8UqOU/TjbZZJNN5j9KzNsZEvPmP0Ri3s6QmOc/QPjggw8+6D86juM4juPoPzYk5u0Miek/MLrooosu6j8qUOtXCtTqPybm7QyJees/IHzwwQcf7D8cEvN2hsTsPxao9SsFau0/ED744IMP7j8M1PqVArXuPwZq/UqBWu8/AAAAAAAA8D8=\",\"dtype\":\"float64\",\"shape\":[100]},\"y\":[0,0,0,0,0,0,0,0,0,0,0,0,0,0,0,0,0,0,0,0,0,0,0,0,0,0,0,0,0,0,0,0,0,0,0,0,0,0,0,0,0,0,0,0,0,0,0,0,0,0,0.010101010101010166,0.030303030303030498,0.05050505050505061,0.07070707070707072,0.09090909090909105,0.11111111111111116,0.1313131313131315,0.1515151515151516,0.1717171717171717,0.19191919191919204,0.21212121212121215,0.2323232323232325,0.2525252525252526,0.27272727272727293,0.29292929292929304,0.31313131313131315,0.3333333333333335,0.3535353535353536,0.3737373737373739,0.39393939393939403,0.41414141414141437,0.4343434343434345,0.4545454545454546,0.4747474747474749,0.49494949494949503,0.5151515151515154,0.5353535353535355,0.5555555555555556,0.5757575757575759,0.595959595959596,0.6161616161616164,0.6363636363636365,0.6565656565656568,0.6767676767676769,0.696969696969697,0.7171717171717173,0.7373737373737375,0.7575757575757578,0.7777777777777779,0.7979797979797982,0.8181818181818183,0.8383838383838385,0.8585858585858588,0.8787878787878789,0.8989898989898992,0.9191919191919193,0.9393939393939394,0.9595959595959598,0.9797979797979799,1.0]},\"selected\":{\"id\":\"d1dfaafb-943a-45c4-8cf2-d5890cb25654\",\"type\":\"Selection\"},\"selection_policy\":{\"id\":\"f087433b-2d32-409f-95ad-0d565792ecf8\",\"type\":\"UnionRenderers\"}},\"id\":\"04e236c7-606a-4fe2-8dc7-115f94f47555\",\"type\":\"ColumnDataSource\"},{\"attributes\":{\"overlay\":{\"id\":\"80e5eb46-bd82-4aae-9714-3413496ff361\",\"type\":\"BoxAnnotation\"}},\"id\":\"a0b5219a-1fb7-41e6-b523-b99a709d4429\",\"type\":\"BoxZoomTool\"},{\"attributes\":{\"plot\":{\"id\":\"3f1a071d-600c-4b8c-9a2d-e629e300ddc1\",\"subtype\":\"Figure\",\"type\":\"Plot\"},\"ticker\":{\"id\":\"123d28fd-de88-48b4-b7b3-c0bb2bf9a23c\",\"type\":\"BasicTicker\"}},\"id\":\"0b871e82-374f-4a13-9d7d-205084b8534a\",\"type\":\"Grid\"},{\"attributes\":{\"line_alpha\":0.1,\"line_color\":\"#1f77b4\",\"line_width\":2,\"x\":{\"field\":\"x\"},\"y\":{\"field\":\"y\"}},\"id\":\"c70e1e7a-10a1-4d6c-a3be-34e55921959c\",\"type\":\"Line\"},{\"attributes\":{},\"id\":\"f087433b-2d32-409f-95ad-0d565792ecf8\",\"type\":\"UnionRenderers\"},{\"attributes\":{\"dimension\":1,\"plot\":{\"id\":\"3f1a071d-600c-4b8c-9a2d-e629e300ddc1\",\"subtype\":\"Figure\",\"type\":\"Plot\"},\"ticker\":{\"id\":\"08d4692e-3549-4a35-a924-85cae8c15906\",\"type\":\"BasicTicker\"}},\"id\":\"d093cd1c-9ae8-4b57-96ca-9c900726aa37\",\"type\":\"Grid\"},{\"attributes\":{\"source\":{\"id\":\"04e236c7-606a-4fe2-8dc7-115f94f47555\",\"type\":\"ColumnDataSource\"}},\"id\":\"7fcace92-0de8-40b2-8e71-71a8a7a718e9\",\"type\":\"CDSView\"},{\"attributes\":{\"below\":[{\"id\":\"3e1ab09e-fa7c-46f9-8860-9d392acd9056\",\"type\":\"LinearAxis\"}],\"left\":[{\"id\":\"e9202d61-be8a-4889-a02d-b2c9588bd5ce\",\"type\":\"LinearAxis\"}],\"plot_height\":400,\"plot_width\":400,\"renderers\":[{\"id\":\"3e1ab09e-fa7c-46f9-8860-9d392acd9056\",\"type\":\"LinearAxis\"},{\"id\":\"0b871e82-374f-4a13-9d7d-205084b8534a\",\"type\":\"Grid\"},{\"id\":\"e9202d61-be8a-4889-a02d-b2c9588bd5ce\",\"type\":\"LinearAxis\"},{\"id\":\"d093cd1c-9ae8-4b57-96ca-9c900726aa37\",\"type\":\"Grid\"},{\"id\":\"80e5eb46-bd82-4aae-9714-3413496ff361\",\"type\":\"BoxAnnotation\"},{\"id\":\"b1c965a0-2074-423e-99c0-0e14ea3d93f4\",\"type\":\"Legend\"},{\"id\":\"3663e769-3a82-4528-a13f-c2781ab4823b\",\"type\":\"GlyphRenderer\"}],\"title\":{\"id\":\"c51e5565-b198-474c-876b-b8989ecef9ee\",\"type\":\"Title\"},\"toolbar\":{\"id\":\"cf23aa05-df41-4536-a85f-622bbe796f10\",\"type\":\"Toolbar\"},\"x_range\":{\"id\":\"148e3ff6-76dd-46fc-a1fa-1c45f1e4a579\",\"type\":\"DataRange1d\"},\"x_scale\":{\"id\":\"6ea4e100-6e28-4976-87ef-9d8234e46a2e\",\"type\":\"LinearScale\"},\"y_range\":{\"id\":\"cd5e8c47-f3e5-4e06-99d5-1a9a93db19df\",\"type\":\"DataRange1d\"},\"y_scale\":{\"id\":\"979009e1-6085-4dfb-8b36-c303ef135750\",\"type\":\"LinearScale\"}},\"id\":\"3f1a071d-600c-4b8c-9a2d-e629e300ddc1\",\"subtype\":\"Figure\",\"type\":\"Plot\"},{\"attributes\":{},\"id\":\"de897487-c9d7-4247-af95-cbf4d96cf4ca\",\"type\":\"PanTool\"},{\"attributes\":{},\"id\":\"123d28fd-de88-48b4-b7b3-c0bb2bf9a23c\",\"type\":\"BasicTicker\"}],\"root_ids\":[\"3f1a071d-600c-4b8c-9a2d-e629e300ddc1\"]},\"title\":\"Bokeh Application\",\"version\":\"0.13.0\"}};\n",
       "  var render_items = [{\"docid\":\"5fabef0c-0239-4f35-bbf4-e8c908442959\",\"roots\":{\"3f1a071d-600c-4b8c-9a2d-e629e300ddc1\":\"6fc0b97c-e405-4bee-8356-f513496b1282\"}}];\n",
       "  root.Bokeh.embed.embed_items_notebook(docs_json, render_items);\n",
       "\n",
       "  }\n",
       "  if (root.Bokeh !== undefined) {\n",
       "    embed_document(root);\n",
       "  } else {\n",
       "    var attempts = 0;\n",
       "    var timer = setInterval(function(root) {\n",
       "      if (root.Bokeh !== undefined) {\n",
       "        embed_document(root);\n",
       "        clearInterval(timer);\n",
       "      }\n",
       "      attempts++;\n",
       "      if (attempts > 100) {\n",
       "        console.log(\"Bokeh: ERROR: Unable to run BokehJS code because BokehJS library is missing\")\n",
       "        clearInterval(timer);\n",
       "      }\n",
       "    }, 10, root)\n",
       "  }\n",
       "})(window);"
      ],
      "application/vnd.bokehjs_exec.v0+json": ""
     },
     "metadata": {
      "application/vnd.bokehjs_exec.v0+json": {
       "id": "3f1a071d-600c-4b8c-9a2d-e629e300ddc1"
      }
     },
     "output_type": "display_data"
    }
   ],
   "source": [
    "x = np.linspace(-1, 1, 100)\n",
    "y = [pcws(a) for a in x]\n",
    "powers = figure(plot_width=400, plot_height=400)\n",
    "powers.line(x,y,color='red',alpha=.5,line_width=2,legend='Rectifier')\n",
    "powers.legend.location = 'top_left'\n",
    "show(powers)"
   ]
  },
  {
   "cell_type": "code",
   "execution_count": 33,
   "metadata": {},
   "outputs": [],
   "source": [
    "# Defining a matrix A\n",
    "A = np.array([[1,1,0],[0,1,1],[0,0,2]])\n",
    "# Computing its eigenstuff\n",
    "w,v = np.linalg.eig(A)"
   ]
  },
  {
   "cell_type": "code",
   "execution_count": 34,
   "metadata": {},
   "outputs": [
    {
     "data": {
      "text/plain": [
       "array([1., 1., 2.])"
      ]
     },
     "execution_count": 34,
     "metadata": {},
     "output_type": "execute_result"
    }
   ],
   "source": [
    "# The eigenvalues of A\n",
    "w"
   ]
  },
  {
   "cell_type": "code",
   "execution_count": 35,
   "metadata": {},
   "outputs": [
    {
     "name": "stdout",
     "output_type": "stream",
     "text": [
      "[[1 1 0]\n",
      " [0 1 1]\n",
      " [0 0 2]]\n"
     ]
    }
   ],
   "source": [
    "print(A)"
   ]
  },
  {
   "cell_type": "code",
   "execution_count": 36,
   "metadata": {},
   "outputs": [
    {
     "data": {
      "text/plain": [
       "array([[ 1.00000000e+00, -1.00000000e+00,  5.77350269e-01],\n",
       "       [ 0.00000000e+00,  2.22044605e-16,  5.77350269e-01],\n",
       "       [ 0.00000000e+00,  0.00000000e+00,  5.77350269e-01]])"
      ]
     },
     "execution_count": 36,
     "metadata": {},
     "output_type": "execute_result"
    }
   ],
   "source": [
    "# Some eigenvectors of A\n",
    "v"
   ]
  },
  {
   "cell_type": "code",
   "execution_count": 37,
   "metadata": {},
   "outputs": [
    {
     "data": {
      "text/plain": [
       "array([[1., 0., 0.],\n",
       "       [0., 1., 0.],\n",
       "       [0., 0., 1.]])"
      ]
     },
     "execution_count": 37,
     "metadata": {},
     "output_type": "execute_result"
    }
   ],
   "source": [
    "np.identity(3)"
   ]
  },
  {
   "cell_type": "code",
   "execution_count": 38,
   "metadata": {},
   "outputs": [
    {
     "data": {
      "text/plain": [
       "array([[0.00000000e+00, 2.22044605e-16, 5.77350269e-01],\n",
       "       [0.00000000e+00, 0.00000000e+00, 5.77350269e-01],\n",
       "       [0.00000000e+00, 0.00000000e+00, 5.77350269e-01]])"
      ]
     },
     "execution_count": 38,
     "metadata": {},
     "output_type": "execute_result"
    }
   ],
   "source": [
    "# Let's check that that worked...\n",
    "np.matmul(A-np.identity(3),v)"
   ]
  },
  {
   "cell_type": "code",
   "execution_count": 39,
   "metadata": {},
   "outputs": [
    {
     "data": {
      "text/plain": [
       "array([[-1.00000000e+00,  1.00000000e+00,  0.00000000e+00],\n",
       "       [ 0.00000000e+00, -2.22044605e-16,  0.00000000e+00],\n",
       "       [ 0.00000000e+00,  0.00000000e+00,  0.00000000e+00]])"
      ]
     },
     "execution_count": 39,
     "metadata": {},
     "output_type": "execute_result"
    }
   ],
   "source": [
    "np.matmul(A-2*np.identity(3),v)"
   ]
  },
  {
   "cell_type": "code",
   "execution_count": 40,
   "metadata": {},
   "outputs": [
    {
     "data": {
      "text/html": [
       "\n",
       "\n",
       "\n",
       "\n",
       "\n",
       "\n",
       "  <div class=\"bk-root\" id=\"26d08fd6-06c6-4043-a0d1-73245329b55c\"></div>\n"
      ]
     },
     "metadata": {},
     "output_type": "display_data"
    },
    {
     "data": {
      "application/javascript": [
       "(function(root) {\n",
       "  function embed_document(root) {\n",
       "    \n",
       "  var docs_json = {\"9b972176-c787-419d-9dd4-411622421985\":{\"roots\":{\"references\":[{\"attributes\":{},\"id\":\"40f66a5d-da6d-4ec6-b942-1bace23ec817\",\"type\":\"LinearScale\"},{\"attributes\":{\"callback\":null,\"data\":{\"x\":[1,2,3,4,5],\"y\":[6,7,8,7,3]},\"selected\":{\"id\":\"a34af3df-cade-4eed-8cbf-0262ff87a98b\",\"type\":\"Selection\"},\"selection_policy\":{\"id\":\"9e275bf2-ccb3-4394-bf39-7d0405a56468\",\"type\":\"UnionRenderers\"}},\"id\":\"2df2c739-3e84-4dac-88e5-cb9b95e68fdc\",\"type\":\"ColumnDataSource\"},{\"attributes\":{},\"id\":\"4db4332a-6320-4803-823d-5e688d681766\",\"type\":\"WheelZoomTool\"},{\"attributes\":{\"bottom_units\":\"screen\",\"fill_alpha\":{\"value\":0.5},\"fill_color\":{\"value\":\"lightgrey\"},\"left_units\":\"screen\",\"level\":\"overlay\",\"line_alpha\":{\"value\":1.0},\"line_color\":{\"value\":\"black\"},\"line_dash\":[4,4],\"line_width\":{\"value\":2},\"plot\":null,\"render_mode\":\"css\",\"right_units\":\"screen\",\"top_units\":\"screen\"},\"id\":\"0bd32781-a922-4ecf-a974-ffbee41a3c3c\",\"type\":\"BoxAnnotation\"},{\"attributes\":{\"callback\":null},\"id\":\"99013133-4081-47da-9a11-9b2945042f27\",\"type\":\"DataRange1d\"},{\"attributes\":{},\"id\":\"0b434dd5-1a69-46cb-9fec-780d7cb116fd\",\"type\":\"SaveTool\"},{\"attributes\":{\"formatter\":{\"id\":\"b21dc93e-6f25-4b71-9233-196cdfdb6f3b\",\"type\":\"BasicTickFormatter\"},\"plot\":{\"id\":\"4037a15e-6b9d-408d-b355-6a14bb22202f\",\"subtype\":\"Figure\",\"type\":\"Plot\"},\"ticker\":{\"id\":\"cbfe7d82-7d65-47fd-af75-609cebd682e1\",\"type\":\"BasicTicker\"}},\"id\":\"552d5271-3828-40c3-977a-572f674ed450\",\"type\":\"LinearAxis\"},{\"attributes\":{\"fill_alpha\":0.5,\"fill_color\":\"#1f77b4\",\"line_alpha\":0.5,\"line_color\":\"#1f77b4\",\"line_width\":2,\"x\":{\"field\":\"x\"},\"y\":{\"field\":\"y\"}},\"id\":\"6a189519-0f40-4515-9898-2dac8ecb0175\",\"type\":\"Patch\"},{\"attributes\":{},\"id\":\"b0a8503d-72a2-4723-b49f-da7cea04acf8\",\"type\":\"ResetTool\"},{\"attributes\":{},\"id\":\"e1ed5e5d-f84a-491c-85f8-96ca80395bcb\",\"type\":\"HelpTool\"},{\"attributes\":{\"fill_alpha\":0.1,\"fill_color\":\"#1f77b4\",\"line_alpha\":0.1,\"line_color\":\"#1f77b4\",\"line_width\":2,\"x\":{\"field\":\"x\"},\"y\":{\"field\":\"y\"}},\"id\":\"b85cd257-7ca9-4018-8dbd-124d42cffabd\",\"type\":\"Patch\"},{\"attributes\":{\"plot\":null,\"text\":\"\"},\"id\":\"548aec9d-0e79-4c82-9ea4-e0e38a97a0cb\",\"type\":\"Title\"},{\"attributes\":{},\"id\":\"e873a9b9-597b-4916-9f27-c87505d80ae3\",\"type\":\"LinearScale\"},{\"attributes\":{\"active_drag\":\"auto\",\"active_inspect\":\"auto\",\"active_multi\":null,\"active_scroll\":\"auto\",\"active_tap\":\"auto\",\"tools\":[{\"id\":\"56d2a192-8c01-4ca1-be4c-f11cd13d462e\",\"type\":\"PanTool\"},{\"id\":\"4db4332a-6320-4803-823d-5e688d681766\",\"type\":\"WheelZoomTool\"},{\"id\":\"58282a9e-8b27-495f-8535-8a23176afb74\",\"type\":\"BoxZoomTool\"},{\"id\":\"0b434dd5-1a69-46cb-9fec-780d7cb116fd\",\"type\":\"SaveTool\"},{\"id\":\"b0a8503d-72a2-4723-b49f-da7cea04acf8\",\"type\":\"ResetTool\"},{\"id\":\"e1ed5e5d-f84a-491c-85f8-96ca80395bcb\",\"type\":\"HelpTool\"}]},\"id\":\"fce652c2-42e4-405e-8d89-f3875a6ab362\",\"type\":\"Toolbar\"},{\"attributes\":{},\"id\":\"a34af3df-cade-4eed-8cbf-0262ff87a98b\",\"type\":\"Selection\"},{\"attributes\":{\"callback\":null},\"id\":\"11304ecb-438b-40f3-bf12-f8521e4eaa7b\",\"type\":\"DataRange1d\"},{\"attributes\":{\"overlay\":{\"id\":\"0bd32781-a922-4ecf-a974-ffbee41a3c3c\",\"type\":\"BoxAnnotation\"}},\"id\":\"58282a9e-8b27-495f-8535-8a23176afb74\",\"type\":\"BoxZoomTool\"},{\"attributes\":{\"formatter\":{\"id\":\"d51a5227-b853-4d44-aff8-b75c22bca8f2\",\"type\":\"BasicTickFormatter\"},\"plot\":{\"id\":\"4037a15e-6b9d-408d-b355-6a14bb22202f\",\"subtype\":\"Figure\",\"type\":\"Plot\"},\"ticker\":{\"id\":\"a4ef6ac1-7512-4418-b7bc-9e0e83e1e003\",\"type\":\"BasicTicker\"}},\"id\":\"924b9b21-112f-4f04-9290-402ebbb9cd1c\",\"type\":\"LinearAxis\"},{\"attributes\":{\"below\":[{\"id\":\"552d5271-3828-40c3-977a-572f674ed450\",\"type\":\"LinearAxis\"}],\"left\":[{\"id\":\"924b9b21-112f-4f04-9290-402ebbb9cd1c\",\"type\":\"LinearAxis\"}],\"plot_height\":400,\"plot_width\":400,\"renderers\":[{\"id\":\"552d5271-3828-40c3-977a-572f674ed450\",\"type\":\"LinearAxis\"},{\"id\":\"d7e23ce3-a93e-41ae-8c02-f8054130b4a7\",\"type\":\"Grid\"},{\"id\":\"924b9b21-112f-4f04-9290-402ebbb9cd1c\",\"type\":\"LinearAxis\"},{\"id\":\"b8601282-9d81-4180-87d4-49f3acf2a2d2\",\"type\":\"Grid\"},{\"id\":\"0bd32781-a922-4ecf-a974-ffbee41a3c3c\",\"type\":\"BoxAnnotation\"},{\"id\":\"277b7854-d3da-4b6c-b8bd-5396a5ca6d2e\",\"type\":\"GlyphRenderer\"}],\"title\":{\"id\":\"548aec9d-0e79-4c82-9ea4-e0e38a97a0cb\",\"type\":\"Title\"},\"toolbar\":{\"id\":\"fce652c2-42e4-405e-8d89-f3875a6ab362\",\"type\":\"Toolbar\"},\"x_range\":{\"id\":\"11304ecb-438b-40f3-bf12-f8521e4eaa7b\",\"type\":\"DataRange1d\"},\"x_scale\":{\"id\":\"40f66a5d-da6d-4ec6-b942-1bace23ec817\",\"type\":\"LinearScale\"},\"y_range\":{\"id\":\"99013133-4081-47da-9a11-9b2945042f27\",\"type\":\"DataRange1d\"},\"y_scale\":{\"id\":\"e873a9b9-597b-4916-9f27-c87505d80ae3\",\"type\":\"LinearScale\"}},\"id\":\"4037a15e-6b9d-408d-b355-6a14bb22202f\",\"subtype\":\"Figure\",\"type\":\"Plot\"},{\"attributes\":{},\"id\":\"d51a5227-b853-4d44-aff8-b75c22bca8f2\",\"type\":\"BasicTickFormatter\"},{\"attributes\":{},\"id\":\"a4ef6ac1-7512-4418-b7bc-9e0e83e1e003\",\"type\":\"BasicTicker\"},{\"attributes\":{},\"id\":\"9e275bf2-ccb3-4394-bf39-7d0405a56468\",\"type\":\"UnionRenderers\"},{\"attributes\":{\"dimension\":1,\"plot\":{\"id\":\"4037a15e-6b9d-408d-b355-6a14bb22202f\",\"subtype\":\"Figure\",\"type\":\"Plot\"},\"ticker\":{\"id\":\"a4ef6ac1-7512-4418-b7bc-9e0e83e1e003\",\"type\":\"BasicTicker\"}},\"id\":\"b8601282-9d81-4180-87d4-49f3acf2a2d2\",\"type\":\"Grid\"},{\"attributes\":{\"source\":{\"id\":\"2df2c739-3e84-4dac-88e5-cb9b95e68fdc\",\"type\":\"ColumnDataSource\"}},\"id\":\"e3608a44-cf88-4aed-9d76-eeb144681308\",\"type\":\"CDSView\"},{\"attributes\":{\"plot\":{\"id\":\"4037a15e-6b9d-408d-b355-6a14bb22202f\",\"subtype\":\"Figure\",\"type\":\"Plot\"},\"ticker\":{\"id\":\"cbfe7d82-7d65-47fd-af75-609cebd682e1\",\"type\":\"BasicTicker\"}},\"id\":\"d7e23ce3-a93e-41ae-8c02-f8054130b4a7\",\"type\":\"Grid\"},{\"attributes\":{},\"id\":\"56d2a192-8c01-4ca1-be4c-f11cd13d462e\",\"type\":\"PanTool\"},{\"attributes\":{},\"id\":\"b21dc93e-6f25-4b71-9233-196cdfdb6f3b\",\"type\":\"BasicTickFormatter\"},{\"attributes\":{\"data_source\":{\"id\":\"2df2c739-3e84-4dac-88e5-cb9b95e68fdc\",\"type\":\"ColumnDataSource\"},\"glyph\":{\"id\":\"6a189519-0f40-4515-9898-2dac8ecb0175\",\"type\":\"Patch\"},\"hover_glyph\":null,\"muted_glyph\":null,\"nonselection_glyph\":{\"id\":\"b85cd257-7ca9-4018-8dbd-124d42cffabd\",\"type\":\"Patch\"},\"selection_glyph\":null,\"view\":{\"id\":\"e3608a44-cf88-4aed-9d76-eeb144681308\",\"type\":\"CDSView\"}},\"id\":\"277b7854-d3da-4b6c-b8bd-5396a5ca6d2e\",\"type\":\"GlyphRenderer\"},{\"attributes\":{},\"id\":\"cbfe7d82-7d65-47fd-af75-609cebd682e1\",\"type\":\"BasicTicker\"}],\"root_ids\":[\"4037a15e-6b9d-408d-b355-6a14bb22202f\"]},\"title\":\"Bokeh Application\",\"version\":\"0.13.0\"}};\n",
       "  var render_items = [{\"docid\":\"9b972176-c787-419d-9dd4-411622421985\",\"roots\":{\"4037a15e-6b9d-408d-b355-6a14bb22202f\":\"26d08fd6-06c6-4043-a0d1-73245329b55c\"}}];\n",
       "  root.Bokeh.embed.embed_items_notebook(docs_json, render_items);\n",
       "\n",
       "  }\n",
       "  if (root.Bokeh !== undefined) {\n",
       "    embed_document(root);\n",
       "  } else {\n",
       "    var attempts = 0;\n",
       "    var timer = setInterval(function(root) {\n",
       "      if (root.Bokeh !== undefined) {\n",
       "        embed_document(root);\n",
       "        clearInterval(timer);\n",
       "      }\n",
       "      attempts++;\n",
       "      if (attempts > 100) {\n",
       "        console.log(\"Bokeh: ERROR: Unable to run BokehJS code because BokehJS library is missing\")\n",
       "        clearInterval(timer);\n",
       "      }\n",
       "    }, 10, root)\n",
       "  }\n",
       "})(window);"
      ],
      "application/vnd.bokehjs_exec.v0+json": ""
     },
     "metadata": {
      "application/vnd.bokehjs_exec.v0+json": {
       "id": "4037a15e-6b9d-408d-b355-6a14bb22202f"
      }
     },
     "output_type": "display_data"
    }
   ],
   "source": [
    "# Let's plot this figure\n",
    "p = figure(plot_width=400, plot_height=400)\n",
    "x = [1, 2, 3, 4, 5]\n",
    "y = [6, 7, 8, 7, 3]\n",
    "# add a patch renderer with an alpha an line width\n",
    "p.patch(x, y, alpha=0.5, line_width=2)\n",
    "show(p)"
   ]
  },
  {
   "cell_type": "code",
   "execution_count": 41,
   "metadata": {},
   "outputs": [],
   "source": [
    "# Let's define a matrix and see what it does\n",
    "M = np.array([[2,0],[0,1]])\n",
    "output = np.matmul(M,np.array([x,y]))"
   ]
  },
  {
   "cell_type": "code",
   "execution_count": 42,
   "metadata": {},
   "outputs": [
    {
     "data": {
      "text/html": [
       "\n",
       "\n",
       "\n",
       "\n",
       "\n",
       "\n",
       "  <div class=\"bk-root\" id=\"504e9912-2fe1-4b12-ba85-2d6612ec716f\"></div>\n"
      ]
     },
     "metadata": {},
     "output_type": "display_data"
    },
    {
     "data": {
      "application/javascript": [
       "(function(root) {\n",
       "  function embed_document(root) {\n",
       "    \n",
       "  var docs_json = {\"7d151d93-bfd1-4b43-b84c-1f906cc3461e\":{\"roots\":{\"references\":[{\"attributes\":{\"fill_alpha\":0.5,\"fill_color\":\"#1f77b4\",\"line_alpha\":0.5,\"line_color\":\"#1f77b4\",\"line_width\":2,\"x\":{\"field\":\"x\"},\"y\":{\"field\":\"y\"}},\"id\":\"cc204052-978c-4696-a168-2bf6a7247297\",\"type\":\"Patch\"},{\"attributes\":{\"callback\":null},\"id\":\"33349e2a-558c-453c-b1ba-8ffb0701b698\",\"type\":\"DataRange1d\"},{\"attributes\":{},\"id\":\"ba7c0183-91e1-43b1-8d38-87129fb9ed50\",\"type\":\"ResetTool\"},{\"attributes\":{},\"id\":\"7dabd41e-45f9-4bdd-a65a-2911b04c57f2\",\"type\":\"LinearScale\"},{\"attributes\":{},\"id\":\"94474d88-80f4-46eb-aea3-792d1f0a1261\",\"type\":\"Selection\"},{\"attributes\":{\"plot\":null,\"text\":\"\"},\"id\":\"8f1f626e-5867-4196-ba2d-a06e4ac42af7\",\"type\":\"Title\"},{\"attributes\":{},\"id\":\"75602c34-c278-4796-88c3-d4c5bfc86200\",\"type\":\"HelpTool\"},{\"attributes\":{},\"id\":\"3b93e33e-aa7a-44b3-93b4-ff39f0714361\",\"type\":\"LinearScale\"},{\"attributes\":{\"callback\":null},\"id\":\"2d3250aa-1c34-47dd-9ebe-6518c591ccf0\",\"type\":\"DataRange1d\"},{\"attributes\":{\"fill_alpha\":0.1,\"fill_color\":\"#1f77b4\",\"line_alpha\":0.1,\"line_color\":\"#1f77b4\",\"line_width\":2,\"x\":{\"field\":\"x\"},\"y\":{\"field\":\"y\"}},\"id\":\"835670ff-4b60-49b3-abab-f1af9a81f44e\",\"type\":\"Patch\"},{\"attributes\":{},\"id\":\"842dd52c-71ac-4a39-a655-5fb9fb973280\",\"type\":\"SaveTool\"},{\"attributes\":{\"formatter\":{\"id\":\"0c358468-d018-4607-9887-e719b3823f61\",\"type\":\"BasicTickFormatter\"},\"plot\":{\"id\":\"a52cc994-060b-442d-aa3f-ee4503c9a21e\",\"subtype\":\"Figure\",\"type\":\"Plot\"},\"ticker\":{\"id\":\"c53a924b-43bf-45e6-aafb-77e7ba70b70a\",\"type\":\"BasicTicker\"}},\"id\":\"8e613487-1582-4934-b0eb-1c4993bc33c9\",\"type\":\"LinearAxis\"},{\"attributes\":{\"overlay\":{\"id\":\"29964713-3f6f-4d8e-a92a-9cbd0e23a127\",\"type\":\"BoxAnnotation\"}},\"id\":\"9734c867-e2ea-489c-bfcc-e4ab52a5fb36\",\"type\":\"BoxZoomTool\"},{\"attributes\":{\"plot\":{\"id\":\"a52cc994-060b-442d-aa3f-ee4503c9a21e\",\"subtype\":\"Figure\",\"type\":\"Plot\"},\"ticker\":{\"id\":\"183fd1a5-200c-4a85-b285-b3cc7a7d8c15\",\"type\":\"BasicTicker\"}},\"id\":\"134fb9d5-eadf-4902-939e-ae18ef02a2f2\",\"type\":\"Grid\"},{\"attributes\":{},\"id\":\"f50886f7-f997-4010-94e0-f3c8863a269b\",\"type\":\"WheelZoomTool\"},{\"attributes\":{},\"id\":\"183fd1a5-200c-4a85-b285-b3cc7a7d8c15\",\"type\":\"BasicTicker\"},{\"attributes\":{\"data_source\":{\"id\":\"6fd7378d-44ed-4440-b9bd-aea388e670dd\",\"type\":\"ColumnDataSource\"},\"glyph\":{\"id\":\"cc204052-978c-4696-a168-2bf6a7247297\",\"type\":\"Patch\"},\"hover_glyph\":null,\"muted_glyph\":null,\"nonselection_glyph\":{\"id\":\"835670ff-4b60-49b3-abab-f1af9a81f44e\",\"type\":\"Patch\"},\"selection_glyph\":null,\"view\":{\"id\":\"37e4b99c-f717-4534-aa4c-338a5d719870\",\"type\":\"CDSView\"}},\"id\":\"e37567c4-242d-4c3d-a679-947cf11c3155\",\"type\":\"GlyphRenderer\"},{\"attributes\":{\"bottom_units\":\"screen\",\"fill_alpha\":{\"value\":0.5},\"fill_color\":{\"value\":\"lightgrey\"},\"left_units\":\"screen\",\"level\":\"overlay\",\"line_alpha\":{\"value\":1.0},\"line_color\":{\"value\":\"black\"},\"line_dash\":[4,4],\"line_width\":{\"value\":2},\"plot\":null,\"render_mode\":\"css\",\"right_units\":\"screen\",\"top_units\":\"screen\"},\"id\":\"29964713-3f6f-4d8e-a92a-9cbd0e23a127\",\"type\":\"BoxAnnotation\"},{\"attributes\":{\"callback\":null,\"data\":{\"x\":[2,4,6,8,10],\"y\":[6,7,8,7,3]},\"selected\":{\"id\":\"94474d88-80f4-46eb-aea3-792d1f0a1261\",\"type\":\"Selection\"},\"selection_policy\":{\"id\":\"775a44dc-81ad-4620-bdcc-96d4e8462d3f\",\"type\":\"UnionRenderers\"}},\"id\":\"6fd7378d-44ed-4440-b9bd-aea388e670dd\",\"type\":\"ColumnDataSource\"},{\"attributes\":{\"source\":{\"id\":\"6fd7378d-44ed-4440-b9bd-aea388e670dd\",\"type\":\"ColumnDataSource\"}},\"id\":\"37e4b99c-f717-4534-aa4c-338a5d719870\",\"type\":\"CDSView\"},{\"attributes\":{},\"id\":\"f519eabe-8aa1-44ba-8423-4903841178b9\",\"type\":\"PanTool\"},{\"attributes\":{},\"id\":\"c53a924b-43bf-45e6-aafb-77e7ba70b70a\",\"type\":\"BasicTicker\"},{\"attributes\":{\"active_drag\":\"auto\",\"active_inspect\":\"auto\",\"active_multi\":null,\"active_scroll\":\"auto\",\"active_tap\":\"auto\",\"tools\":[{\"id\":\"f519eabe-8aa1-44ba-8423-4903841178b9\",\"type\":\"PanTool\"},{\"id\":\"f50886f7-f997-4010-94e0-f3c8863a269b\",\"type\":\"WheelZoomTool\"},{\"id\":\"9734c867-e2ea-489c-bfcc-e4ab52a5fb36\",\"type\":\"BoxZoomTool\"},{\"id\":\"842dd52c-71ac-4a39-a655-5fb9fb973280\",\"type\":\"SaveTool\"},{\"id\":\"ba7c0183-91e1-43b1-8d38-87129fb9ed50\",\"type\":\"ResetTool\"},{\"id\":\"75602c34-c278-4796-88c3-d4c5bfc86200\",\"type\":\"HelpTool\"}]},\"id\":\"53b4e7d4-96ac-47c9-aad3-48a4ffd644df\",\"type\":\"Toolbar\"},{\"attributes\":{\"below\":[{\"id\":\"5a41faef-a7b0-4451-abdd-9351d5497657\",\"type\":\"LinearAxis\"}],\"left\":[{\"id\":\"8e613487-1582-4934-b0eb-1c4993bc33c9\",\"type\":\"LinearAxis\"}],\"plot_height\":400,\"plot_width\":400,\"renderers\":[{\"id\":\"5a41faef-a7b0-4451-abdd-9351d5497657\",\"type\":\"LinearAxis\"},{\"id\":\"134fb9d5-eadf-4902-939e-ae18ef02a2f2\",\"type\":\"Grid\"},{\"id\":\"8e613487-1582-4934-b0eb-1c4993bc33c9\",\"type\":\"LinearAxis\"},{\"id\":\"08d228dd-0fdb-4acf-b9b5-c6cc5e732354\",\"type\":\"Grid\"},{\"id\":\"29964713-3f6f-4d8e-a92a-9cbd0e23a127\",\"type\":\"BoxAnnotation\"},{\"id\":\"e37567c4-242d-4c3d-a679-947cf11c3155\",\"type\":\"GlyphRenderer\"}],\"title\":{\"id\":\"8f1f626e-5867-4196-ba2d-a06e4ac42af7\",\"type\":\"Title\"},\"toolbar\":{\"id\":\"53b4e7d4-96ac-47c9-aad3-48a4ffd644df\",\"type\":\"Toolbar\"},\"x_range\":{\"id\":\"33349e2a-558c-453c-b1ba-8ffb0701b698\",\"type\":\"DataRange1d\"},\"x_scale\":{\"id\":\"7dabd41e-45f9-4bdd-a65a-2911b04c57f2\",\"type\":\"LinearScale\"},\"y_range\":{\"id\":\"2d3250aa-1c34-47dd-9ebe-6518c591ccf0\",\"type\":\"DataRange1d\"},\"y_scale\":{\"id\":\"3b93e33e-aa7a-44b3-93b4-ff39f0714361\",\"type\":\"LinearScale\"}},\"id\":\"a52cc994-060b-442d-aa3f-ee4503c9a21e\",\"subtype\":\"Figure\",\"type\":\"Plot\"},{\"attributes\":{},\"id\":\"c171f0ac-7c2a-41fb-8a36-c4849d8da32e\",\"type\":\"BasicTickFormatter\"},{\"attributes\":{\"formatter\":{\"id\":\"c171f0ac-7c2a-41fb-8a36-c4849d8da32e\",\"type\":\"BasicTickFormatter\"},\"plot\":{\"id\":\"a52cc994-060b-442d-aa3f-ee4503c9a21e\",\"subtype\":\"Figure\",\"type\":\"Plot\"},\"ticker\":{\"id\":\"183fd1a5-200c-4a85-b285-b3cc7a7d8c15\",\"type\":\"BasicTicker\"}},\"id\":\"5a41faef-a7b0-4451-abdd-9351d5497657\",\"type\":\"LinearAxis\"},{\"attributes\":{\"dimension\":1,\"plot\":{\"id\":\"a52cc994-060b-442d-aa3f-ee4503c9a21e\",\"subtype\":\"Figure\",\"type\":\"Plot\"},\"ticker\":{\"id\":\"c53a924b-43bf-45e6-aafb-77e7ba70b70a\",\"type\":\"BasicTicker\"}},\"id\":\"08d228dd-0fdb-4acf-b9b5-c6cc5e732354\",\"type\":\"Grid\"},{\"attributes\":{},\"id\":\"775a44dc-81ad-4620-bdcc-96d4e8462d3f\",\"type\":\"UnionRenderers\"},{\"attributes\":{},\"id\":\"0c358468-d018-4607-9887-e719b3823f61\",\"type\":\"BasicTickFormatter\"}],\"root_ids\":[\"a52cc994-060b-442d-aa3f-ee4503c9a21e\"]},\"title\":\"Bokeh Application\",\"version\":\"0.13.0\"}};\n",
       "  var render_items = [{\"docid\":\"7d151d93-bfd1-4b43-b84c-1f906cc3461e\",\"roots\":{\"a52cc994-060b-442d-aa3f-ee4503c9a21e\":\"504e9912-2fe1-4b12-ba85-2d6612ec716f\"}}];\n",
       "  root.Bokeh.embed.embed_items_notebook(docs_json, render_items);\n",
       "\n",
       "  }\n",
       "  if (root.Bokeh !== undefined) {\n",
       "    embed_document(root);\n",
       "  } else {\n",
       "    var attempts = 0;\n",
       "    var timer = setInterval(function(root) {\n",
       "      if (root.Bokeh !== undefined) {\n",
       "        embed_document(root);\n",
       "        clearInterval(timer);\n",
       "      }\n",
       "      attempts++;\n",
       "      if (attempts > 100) {\n",
       "        console.log(\"Bokeh: ERROR: Unable to run BokehJS code because BokehJS library is missing\")\n",
       "        clearInterval(timer);\n",
       "      }\n",
       "    }, 10, root)\n",
       "  }\n",
       "})(window);"
      ],
      "application/vnd.bokehjs_exec.v0+json": ""
     },
     "metadata": {
      "application/vnd.bokehjs_exec.v0+json": {
       "id": "a52cc994-060b-442d-aa3f-ee4503c9a21e"
      }
     },
     "output_type": "display_data"
    }
   ],
   "source": [
    "# Finally, we'll update the figure and plot again.\n",
    "x = output[0,:]\n",
    "y = output[1,:]\n",
    "# add a patch renderer with an alpha an line width\n",
    "f = figure(plot_width=400, plot_height=400)\n",
    "f.patch(x, y, alpha=0.5, line_width=2)\n",
    "show(f)"
   ]
  },
  {
   "cell_type": "code",
   "execution_count": 65,
   "metadata": {},
   "outputs": [],
   "source": [
    "# Let's define another matrix and see what it does\n",
    "A = np.array([[np.cos(np.pi/4),-np.sin(np.pi/4)],[np.sin(np.pi/4),np.cos(np.pi/4)]])\n",
    "\n",
    "# Now let's feed it to our matrix multiplication function.\n",
    "output = np.matmul(A,np.array([x,y]))"
   ]
  },
  {
   "cell_type": "code",
   "execution_count": 66,
   "metadata": {},
   "outputs": [
    {
     "data": {
      "text/html": [
       "\n",
       "\n",
       "\n",
       "\n",
       "\n",
       "\n",
       "  <div class=\"bk-root\" id=\"d25a67f1-02a7-4a7e-a3ac-bc33b8c89237\"></div>\n"
      ]
     },
     "metadata": {},
     "output_type": "display_data"
    },
    {
     "data": {
      "application/javascript": [
       "(function(root) {\n",
       "  function embed_document(root) {\n",
       "    \n",
       "  var docs_json = {\"f9b01e1a-a4a1-43fd-b7af-1f537b844a75\":{\"roots\":{\"references\":[{\"attributes\":{},\"id\":\"82469713-c115-4dc1-9097-7bce4bf8f796\",\"type\":\"WheelZoomTool\"},{\"attributes\":{\"active_drag\":\"auto\",\"active_inspect\":\"auto\",\"active_multi\":null,\"active_scroll\":\"auto\",\"active_tap\":\"auto\",\"tools\":[{\"id\":\"a6d0d851-de4d-4ab2-8695-1ac2db06e14b\",\"type\":\"PanTool\"},{\"id\":\"82469713-c115-4dc1-9097-7bce4bf8f796\",\"type\":\"WheelZoomTool\"},{\"id\":\"eeabda17-169a-4275-bea9-e50927a6d193\",\"type\":\"BoxZoomTool\"},{\"id\":\"d87e6c30-a492-4f04-80d1-21c6818ddd16\",\"type\":\"SaveTool\"},{\"id\":\"4a242d52-3c42-4f9b-90cf-20bc51d9f9f9\",\"type\":\"ResetTool\"},{\"id\":\"12b11ca9-ac3d-489b-8d6d-5db6533bba84\",\"type\":\"HelpTool\"}]},\"id\":\"6b8cb1ab-2335-4ead-9466-936b8056457e\",\"type\":\"Toolbar\"},{\"attributes\":{\"plot\":{\"id\":\"be3a7ed4-8afd-428b-a84c-8edf6925cfcf\",\"subtype\":\"Figure\",\"type\":\"Plot\"},\"ticker\":{\"id\":\"1cdda823-aa42-45a4-a6e4-c12a899029dc\",\"type\":\"BasicTicker\"}},\"id\":\"b8b60dcd-f81f-4465-85fc-23ba4552fc91\",\"type\":\"Grid\"},{\"attributes\":{},\"id\":\"1cdda823-aa42-45a4-a6e4-c12a899029dc\",\"type\":\"BasicTicker\"},{\"attributes\":{\"formatter\":{\"id\":\"cdf5754a-4097-4e9b-a0b5-29f9146cf425\",\"type\":\"BasicTickFormatter\"},\"plot\":{\"id\":\"be3a7ed4-8afd-428b-a84c-8edf6925cfcf\",\"subtype\":\"Figure\",\"type\":\"Plot\"},\"ticker\":{\"id\":\"1cdda823-aa42-45a4-a6e4-c12a899029dc\",\"type\":\"BasicTicker\"}},\"id\":\"62bbc672-3eeb-47f2-8f9c-1f7f89b472d3\",\"type\":\"LinearAxis\"},{\"attributes\":{},\"id\":\"c305f3c9-4b24-4ca0-87ac-2d0dd75bb082\",\"type\":\"LinearScale\"},{\"attributes\":{\"formatter\":{\"id\":\"8909dc2a-acab-412d-a828-bb2c8819a102\",\"type\":\"BasicTickFormatter\"},\"plot\":{\"id\":\"be3a7ed4-8afd-428b-a84c-8edf6925cfcf\",\"subtype\":\"Figure\",\"type\":\"Plot\"},\"ticker\":{\"id\":\"cac040f6-d616-4a79-9de8-914b65eab098\",\"type\":\"BasicTicker\"}},\"id\":\"cb78a1a6-3a9c-432a-9a03-9d095fb2cfff\",\"type\":\"LinearAxis\"},{\"attributes\":{\"below\":[{\"id\":\"62bbc672-3eeb-47f2-8f9c-1f7f89b472d3\",\"type\":\"LinearAxis\"}],\"left\":[{\"id\":\"cb78a1a6-3a9c-432a-9a03-9d095fb2cfff\",\"type\":\"LinearAxis\"}],\"plot_height\":400,\"plot_width\":400,\"renderers\":[{\"id\":\"62bbc672-3eeb-47f2-8f9c-1f7f89b472d3\",\"type\":\"LinearAxis\"},{\"id\":\"b8b60dcd-f81f-4465-85fc-23ba4552fc91\",\"type\":\"Grid\"},{\"id\":\"cb78a1a6-3a9c-432a-9a03-9d095fb2cfff\",\"type\":\"LinearAxis\"},{\"id\":\"73455717-44f7-4a7c-a172-63cf2962264c\",\"type\":\"Grid\"},{\"id\":\"a0e8fad3-2d35-4562-b9ca-1c8ec6d7ac27\",\"type\":\"BoxAnnotation\"},{\"id\":\"e4dc07c2-ea3a-4b0e-98b5-e244f906bf33\",\"type\":\"GlyphRenderer\"}],\"title\":{\"id\":\"5f36d186-fa40-476f-8f76-129790e6e273\",\"type\":\"Title\"},\"toolbar\":{\"id\":\"6b8cb1ab-2335-4ead-9466-936b8056457e\",\"type\":\"Toolbar\"},\"x_range\":{\"id\":\"87400482-f0c9-4c61-a06c-a20555ae28d7\",\"type\":\"DataRange1d\"},\"x_scale\":{\"id\":\"152efa6f-ebb0-43bf-bb43-9ddad9378600\",\"type\":\"LinearScale\"},\"y_range\":{\"id\":\"6d54c0da-0c4b-431c-867d-8d58fc9ba914\",\"type\":\"DataRange1d\"},\"y_scale\":{\"id\":\"c305f3c9-4b24-4ca0-87ac-2d0dd75bb082\",\"type\":\"LinearScale\"}},\"id\":\"be3a7ed4-8afd-428b-a84c-8edf6925cfcf\",\"subtype\":\"Figure\",\"type\":\"Plot\"},{\"attributes\":{\"callback\":null},\"id\":\"87400482-f0c9-4c61-a06c-a20555ae28d7\",\"type\":\"DataRange1d\"},{\"attributes\":{},\"id\":\"cdf5754a-4097-4e9b-a0b5-29f9146cf425\",\"type\":\"BasicTickFormatter\"},{\"attributes\":{\"fill_alpha\":0.1,\"fill_color\":\"#1f77b4\",\"line_alpha\":0.1,\"line_color\":\"#1f77b4\",\"line_width\":2,\"x\":{\"field\":\"x\"},\"y\":{\"field\":\"y\"}},\"id\":\"8741557d-1592-4f37-9c0b-9c43da7e4211\",\"type\":\"Patch\"},{\"attributes\":{\"source\":{\"id\":\"7a1fd742-cc02-45a1-8d08-120fd705f378\",\"type\":\"ColumnDataSource\"}},\"id\":\"0213ecb3-440a-4816-8f12-385b6cecb4aa\",\"type\":\"CDSView\"},{\"attributes\":{},\"id\":\"8909dc2a-acab-412d-a828-bb2c8819a102\",\"type\":\"BasicTickFormatter\"},{\"attributes\":{},\"id\":\"a6d0d851-de4d-4ab2-8695-1ac2db06e14b\",\"type\":\"PanTool\"},{\"attributes\":{},\"id\":\"152efa6f-ebb0-43bf-bb43-9ddad9378600\",\"type\":\"LinearScale\"},{\"attributes\":{\"plot\":null,\"text\":\"\"},\"id\":\"5f36d186-fa40-476f-8f76-129790e6e273\",\"type\":\"Title\"},{\"attributes\":{\"bottom_units\":\"screen\",\"fill_alpha\":{\"value\":0.5},\"fill_color\":{\"value\":\"lightgrey\"},\"left_units\":\"screen\",\"level\":\"overlay\",\"line_alpha\":{\"value\":1.0},\"line_color\":{\"value\":\"black\"},\"line_dash\":[4,4],\"line_width\":{\"value\":2},\"plot\":null,\"render_mode\":\"css\",\"right_units\":\"screen\",\"top_units\":\"screen\"},\"id\":\"a0e8fad3-2d35-4562-b9ca-1c8ec6d7ac27\",\"type\":\"BoxAnnotation\"},{\"attributes\":{\"callback\":null,\"data\":{\"x\":{\"__ndarray__\":\"DAAAAAAAAMAIAAAAAAAQwAoAAAAAABjAAwAAAAAAIMAAAAAAAAAkwA==\",\"dtype\":\"float64\",\"shape\":[5]},\"y\":{\"__ndarray__\":\"AAAAAAAAGMD7//////8bwPn//////x/A+v//////G8Dt//////8HwA==\",\"dtype\":\"float64\",\"shape\":[5]}},\"selected\":{\"id\":\"5bb7b244-9d4f-4279-abf6-a881ccbfa939\",\"type\":\"Selection\"},\"selection_policy\":{\"id\":\"9de267af-441f-4548-b319-9214db560457\",\"type\":\"UnionRenderers\"}},\"id\":\"7a1fd742-cc02-45a1-8d08-120fd705f378\",\"type\":\"ColumnDataSource\"},{\"attributes\":{},\"id\":\"5bb7b244-9d4f-4279-abf6-a881ccbfa939\",\"type\":\"Selection\"},{\"attributes\":{},\"id\":\"9de267af-441f-4548-b319-9214db560457\",\"type\":\"UnionRenderers\"},{\"attributes\":{\"dimension\":1,\"plot\":{\"id\":\"be3a7ed4-8afd-428b-a84c-8edf6925cfcf\",\"subtype\":\"Figure\",\"type\":\"Plot\"},\"ticker\":{\"id\":\"cac040f6-d616-4a79-9de8-914b65eab098\",\"type\":\"BasicTicker\"}},\"id\":\"73455717-44f7-4a7c-a172-63cf2962264c\",\"type\":\"Grid\"},{\"attributes\":{},\"id\":\"12b11ca9-ac3d-489b-8d6d-5db6533bba84\",\"type\":\"HelpTool\"},{\"attributes\":{},\"id\":\"4a242d52-3c42-4f9b-90cf-20bc51d9f9f9\",\"type\":\"ResetTool\"},{\"attributes\":{\"callback\":null},\"id\":\"6d54c0da-0c4b-431c-867d-8d58fc9ba914\",\"type\":\"DataRange1d\"},{\"attributes\":{\"fill_alpha\":0.5,\"fill_color\":\"#1f77b4\",\"line_alpha\":0.5,\"line_color\":\"#1f77b4\",\"line_width\":2,\"x\":{\"field\":\"x\"},\"y\":{\"field\":\"y\"}},\"id\":\"87b6366a-bfe1-4e4f-b55f-edaac13cc7df\",\"type\":\"Patch\"},{\"attributes\":{\"data_source\":{\"id\":\"7a1fd742-cc02-45a1-8d08-120fd705f378\",\"type\":\"ColumnDataSource\"},\"glyph\":{\"id\":\"87b6366a-bfe1-4e4f-b55f-edaac13cc7df\",\"type\":\"Patch\"},\"hover_glyph\":null,\"muted_glyph\":null,\"nonselection_glyph\":{\"id\":\"8741557d-1592-4f37-9c0b-9c43da7e4211\",\"type\":\"Patch\"},\"selection_glyph\":null,\"view\":{\"id\":\"0213ecb3-440a-4816-8f12-385b6cecb4aa\",\"type\":\"CDSView\"}},\"id\":\"e4dc07c2-ea3a-4b0e-98b5-e244f906bf33\",\"type\":\"GlyphRenderer\"},{\"attributes\":{},\"id\":\"d87e6c30-a492-4f04-80d1-21c6818ddd16\",\"type\":\"SaveTool\"},{\"attributes\":{\"overlay\":{\"id\":\"a0e8fad3-2d35-4562-b9ca-1c8ec6d7ac27\",\"type\":\"BoxAnnotation\"}},\"id\":\"eeabda17-169a-4275-bea9-e50927a6d193\",\"type\":\"BoxZoomTool\"},{\"attributes\":{},\"id\":\"cac040f6-d616-4a79-9de8-914b65eab098\",\"type\":\"BasicTicker\"}],\"root_ids\":[\"be3a7ed4-8afd-428b-a84c-8edf6925cfcf\"]},\"title\":\"Bokeh Application\",\"version\":\"0.13.0\"}};\n",
       "  var render_items = [{\"docid\":\"f9b01e1a-a4a1-43fd-b7af-1f537b844a75\",\"roots\":{\"be3a7ed4-8afd-428b-a84c-8edf6925cfcf\":\"d25a67f1-02a7-4a7e-a3ac-bc33b8c89237\"}}];\n",
       "  root.Bokeh.embed.embed_items_notebook(docs_json, render_items);\n",
       "\n",
       "  }\n",
       "  if (root.Bokeh !== undefined) {\n",
       "    embed_document(root);\n",
       "  } else {\n",
       "    var attempts = 0;\n",
       "    var timer = setInterval(function(root) {\n",
       "      if (root.Bokeh !== undefined) {\n",
       "        embed_document(root);\n",
       "        clearInterval(timer);\n",
       "      }\n",
       "      attempts++;\n",
       "      if (attempts > 100) {\n",
       "        console.log(\"Bokeh: ERROR: Unable to run BokehJS code because BokehJS library is missing\")\n",
       "        clearInterval(timer);\n",
       "      }\n",
       "    }, 10, root)\n",
       "  }\n",
       "})(window);"
      ],
      "application/vnd.bokehjs_exec.v0+json": ""
     },
     "metadata": {
      "application/vnd.bokehjs_exec.v0+json": {
       "id": "be3a7ed4-8afd-428b-a84c-8edf6925cfcf"
      }
     },
     "output_type": "display_data"
    }
   ],
   "source": [
    "# Finally, we'll update the figure and plot again.\n",
    "x = output[0,:]\n",
    "y = output[1,:]\n",
    "# add a patch renderer with an alpha an line width\n",
    "q = figure(plot_width=400, plot_height=400)\n",
    "q.patch(x, y, alpha=0.5, line_width=2)\n",
    "show(q)"
   ]
  },
  {
   "cell_type": "markdown",
   "metadata": {},
   "source": [
    "# Variables"
   ]
  },
  {
   "cell_type": "markdown",
   "metadata": {},
   "source": [
    "### Let's start with *names*. In Python, variables are names *bound* to a value."
   ]
  },
  {
   "cell_type": "markdown",
   "metadata": {},
   "source": [
    "<img src=\"pynames.png\" style=\"width: 600px;\"/>\n"
   ]
  },
  {
   "cell_type": "markdown",
   "metadata": {},
   "source": [
    "### You should think of it like the one on the right and not the one on the left."
   ]
  },
  {
   "cell_type": "markdown",
   "metadata": {},
   "source": [
    "### There is a subtle difference, so it pays to stop and think about this for a second. Here we are binding a name to a value:"
   ]
  },
  {
   "cell_type": "code",
   "execution_count": 67,
   "metadata": {},
   "outputs": [],
   "source": [
    "A = 2"
   ]
  },
  {
   "cell_type": "markdown",
   "metadata": {},
   "source": [
    "### And let's display that value. When you simply evaluate a cell containing an expression (or, in the shell, type an expression and press \"Enter\"), Python will evaluate the expression or print some representation of it. Observe:"
   ]
  },
  {
   "cell_type": "code",
   "execution_count": 68,
   "metadata": {},
   "outputs": [
    {
     "data": {
      "text/plain": [
       "2"
      ]
     },
     "execution_count": 68,
     "metadata": {},
     "output_type": "execute_result"
    }
   ],
   "source": [
    "A"
   ]
  },
  {
   "cell_type": "markdown",
   "metadata": {},
   "source": [
    "### Now let us see the real difference between the bucket and tag models."
   ]
  },
  {
   "cell_type": "code",
   "execution_count": 71,
   "metadata": {},
   "outputs": [
    {
     "name": "stdout",
     "output_type": "stream",
     "text": [
      "2 2\n"
     ]
    }
   ],
   "source": [
    "B = A\n",
    "print(A,B)"
   ]
  },
  {
   "cell_type": "code",
   "execution_count": 72,
   "metadata": {},
   "outputs": [
    {
     "name": "stdout",
     "output_type": "stream",
     "text": [
      "3 2\n"
     ]
    }
   ],
   "source": [
    "A = 3\n",
    "print(A,B)"
   ]
  },
  {
   "cell_type": "markdown",
   "metadata": {},
   "source": [
    "### We see the difference. Python lets you do deep and shallow copies, as we will now demonstrate."
   ]
  },
  {
   "cell_type": "code",
   "execution_count": 73,
   "metadata": {},
   "outputs": [],
   "source": [
    "class Point:\n",
    "    \"\"\"Represents a point in 2D space\"\"\"\n",
    "    def __init__(self, x=0, y=0):\n",
    "        self.x = x\n",
    "        self.y = y\n",
    "    def __str__(self):\n",
    "        return '(%g, %g)' % (self.x, self.y)\n",
    "\n",
    "class Rectangle:\n",
    "    \"\"\"Represents a rectangle.\n",
    "    attributes: width, height, corner.\n",
    "    \"\"\"\n",
    "    \n",
    "box = Rectangle() # Creating an instance.\n",
    "box.width = 100.0 # Adding an attribute\n",
    "box.height = 200.0\n",
    "box.corner = Point()\n",
    "box.corner.x = 0.0\n",
    "box.corner.y = 0.0"
   ]
  },
  {
   "cell_type": "code",
   "execution_count": 74,
   "metadata": {},
   "outputs": [
    {
     "data": {
      "text/plain": [
       "0.0"
      ]
     },
     "execution_count": 74,
     "metadata": {},
     "output_type": "execute_result"
    }
   ],
   "source": [
    "box.corner.x"
   ]
  },
  {
   "cell_type": "markdown",
   "metadata": {},
   "source": [
    "### Now we'll copy it"
   ]
  },
  {
   "cell_type": "code",
   "execution_count": 76,
   "metadata": {},
   "outputs": [],
   "source": [
    "import copy\n",
    "box2 = copy.copy(box)"
   ]
  },
  {
   "cell_type": "markdown",
   "metadata": {},
   "source": [
    "### And look at the two"
   ]
  },
  {
   "cell_type": "code",
   "execution_count": 78,
   "metadata": {},
   "outputs": [
    {
     "data": {
      "text/plain": [
       "False"
      ]
     },
     "execution_count": 78,
     "metadata": {},
     "output_type": "execute_result"
    }
   ],
   "source": [
    "box == box2"
   ]
  },
  {
   "cell_type": "code",
   "execution_count": 77,
   "metadata": {},
   "outputs": [
    {
     "data": {
      "text/plain": [
       "False"
      ]
     },
     "execution_count": 77,
     "metadata": {},
     "output_type": "execute_result"
    }
   ],
   "source": [
    "box is box2"
   ]
  },
  {
   "cell_type": "markdown",
   "metadata": {},
   "source": [
    "### I can change the first one..."
   ]
  },
  {
   "cell_type": "code",
   "execution_count": 79,
   "metadata": {},
   "outputs": [],
   "source": [
    "box.corner.x = 4.5"
   ]
  },
  {
   "cell_type": "markdown",
   "metadata": {},
   "source": [
    "### and the change is  reflected in the other"
   ]
  },
  {
   "cell_type": "code",
   "execution_count": 80,
   "metadata": {},
   "outputs": [
    {
     "data": {
      "text/plain": [
       "4.5"
      ]
     },
     "execution_count": 80,
     "metadata": {},
     "output_type": "execute_result"
    }
   ],
   "source": [
    "box2.corner.x"
   ]
  },
  {
   "cell_type": "markdown",
   "metadata": {},
   "source": [
    "### On the other hand, we can do a deep copy"
   ]
  },
  {
   "cell_type": "code",
   "execution_count": 81,
   "metadata": {},
   "outputs": [],
   "source": [
    "box2 = copy.deepcopy(box)\n",
    "box.corner.x = 3.14"
   ]
  },
  {
   "cell_type": "markdown",
   "metadata": {},
   "source": [
    "### and the change is not reflected in the other"
   ]
  },
  {
   "cell_type": "code",
   "execution_count": 82,
   "metadata": {},
   "outputs": [
    {
     "data": {
      "text/plain": [
       "4.5"
      ]
     },
     "execution_count": 82,
     "metadata": {},
     "output_type": "execute_result"
    }
   ],
   "source": [
    "box2.corner.x"
   ]
  },
  {
   "cell_type": "markdown",
   "metadata": {},
   "source": [
    "### *It is perfectly alright if all of this is foreign to you at this time. I have used a whole lot of Python here that we will come to understand over the next few weeks*"
   ]
  },
  {
   "cell_type": "markdown",
   "metadata": {},
   "source": [
    "### Here is another picture that might help"
   ]
  },
  {
   "cell_type": "markdown",
   "metadata": {},
   "source": [
    "\n",
    "<img src=\"copydiag.png\" style=\"width: 600px;\"/>\n"
   ]
  },
  {
   "cell_type": "markdown",
   "metadata": {},
   "source": [
    "## Rules on Variable names\n",
    "- Can contain letters, numbers and underscores\n",
    "- The first letter cannot be a number\n",
    "- Reserved words cannot be used - no print, while, etc.\n",
    "- Names are *case-sensitive*"
   ]
  },
  {
   "cell_type": "code",
   "execution_count": 84,
   "metadata": {},
   "outputs": [],
   "source": [
    "var2var = \"martin\""
   ]
  },
  {
   "cell_type": "code",
   "execution_count": 87,
   "metadata": {},
   "outputs": [
    {
     "data": {
      "text/plain": [
       "13"
      ]
     },
     "execution_count": 87,
     "metadata": {},
     "output_type": "execute_result"
    }
   ],
   "source": [
    "myvar = 13\n",
    "myvar"
   ]
  },
  {
   "cell_type": "markdown",
   "metadata": {},
   "source": [
    "## Conventions on Names\n",
    "- Camel\n",
    "- Underscores"
   ]
  },
  {
   "cell_type": "code",
   "execution_count": 88,
   "metadata": {},
   "outputs": [],
   "source": [
    "userName = \"Chad\"\n",
    "user_age = 24"
   ]
  },
  {
   "cell_type": "markdown",
   "metadata": {},
   "source": [
    "# Basic operations"
   ]
  },
  {
   "cell_type": "code",
   "execution_count": 89,
   "metadata": {},
   "outputs": [
    {
     "data": {
      "text/plain": [
       "42"
      ]
     },
     "execution_count": 89,
     "metadata": {},
     "output_type": "execute_result"
    }
   ],
   "source": [
    "40 + 2"
   ]
  },
  {
   "cell_type": "code",
   "execution_count": 90,
   "metadata": {},
   "outputs": [
    {
     "data": {
      "text/plain": [
       "34"
      ]
     },
     "execution_count": 90,
     "metadata": {},
     "output_type": "execute_result"
    }
   ],
   "source": [
    "3*(34 // 3) + 34 % 3"
   ]
  },
  {
   "cell_type": "markdown",
   "metadata": {},
   "source": [
    "### The *modulus* and *divides* operators are demonstrated above. Note that here is one of the differences with Python 2."
   ]
  },
  {
   "cell_type": "code",
   "execution_count": 92,
   "metadata": {},
   "outputs": [
    {
     "name": "stdout",
     "output_type": "stream",
     "text": [
      "11.333333333333334 11\n"
     ]
    }
   ],
   "source": [
    "print(34 / 3, 34 // 3)"
   ]
  },
  {
   "cell_type": "markdown",
   "metadata": {},
   "source": [
    "### Substraction works how you would expect"
   ]
  },
  {
   "cell_type": "code",
   "execution_count": 93,
   "metadata": {},
   "outputs": [
    {
     "data": {
      "text/plain": [
       "-4"
      ]
     },
     "execution_count": 93,
     "metadata": {},
     "output_type": "execute_result"
    }
   ],
   "source": [
    "5 - 9"
   ]
  },
  {
   "cell_type": "markdown",
   "metadata": {},
   "source": [
    "### But what will happen here?"
   ]
  },
  {
   "cell_type": "code",
   "execution_count": 94,
   "metadata": {},
   "outputs": [
    {
     "data": {
      "text/plain": [
       "43"
      ]
     },
     "execution_count": 94,
     "metadata": {},
     "output_type": "execute_result"
    }
   ],
   "source": [
    "5 * 9 - 2"
   ]
  },
  {
   "cell_type": "markdown",
   "metadata": {},
   "source": [
    "### How about here?"
   ]
  },
  {
   "cell_type": "code",
   "execution_count": 79,
   "metadata": {},
   "outputs": [
    {
     "data": {
      "text/plain": [
       "25"
      ]
     },
     "execution_count": 79,
     "metadata": {},
     "output_type": "execute_result"
    }
   ],
   "source": [
    "2 + 3 * 2 ** 3 - 1"
   ]
  },
  {
   "cell_type": "markdown",
   "metadata": {},
   "source": [
    "### Lesson: Python respects PEMDAS, the order of operations you learned at mother's knee."
   ]
  },
  {
   "cell_type": "markdown",
   "metadata": {},
   "source": [
    "### Happily, parentheses are available for anyone who would rather not think about any of this."
   ]
  },
  {
   "cell_type": "code",
   "execution_count": 96,
   "metadata": {},
   "outputs": [
    {
     "data": {
      "text/plain": [
       "20"
      ]
     },
     "execution_count": 96,
     "metadata": {},
     "output_type": "execute_result"
    }
   ],
   "source": [
    "(2 + 3) * 2 ** (3 - 1)"
   ]
  },
  {
   "cell_type": "markdown",
   "metadata": {},
   "source": [
    "### As we saw, you can rest the value of a variable, but here is a convenient way to change the value with the basic arithmetic operators."
   ]
  },
  {
   "cell_type": "code",
   "execution_count": 97,
   "metadata": {},
   "outputs": [
    {
     "name": "stdout",
     "output_type": "stream",
     "text": [
      "-3 5 4\n"
     ]
    }
   ],
   "source": [
    "A *= -1 #Multiply A by -1\n",
    "B += 3  #Add 3 to B\n",
    "C = 5\n",
    "C -= 1  #substract 1 from C\n",
    "print(A,B,C)"
   ]
  },
  {
   "cell_type": "markdown",
   "metadata": {},
   "source": [
    "### Note the appearance of *comments* in the cell above. Those are inline comments, and we actually saw block comments earlier. Here those are again."
   ]
  },
  {
   "cell_type": "markdown",
   "metadata": {},
   "source": [
    "### Here is a function defined with a `def` statement."
   ]
  },
  {
   "cell_type": "code",
   "execution_count": 98,
   "metadata": {},
   "outputs": [],
   "source": [
    "def martinsDemo(x):\n",
    "    \"\"\"Here I am defining a function.\n",
    "    Note much else to say, really\n",
    "    \"\"\"\n",
    "    return lambda y: y + x"
   ]
  },
  {
   "cell_type": "markdown",
   "metadata": {},
   "source": [
    "### The example above is very dense in that it introduces still more powerful Python features - we will see them all in turn. While we're close to the subject, let's see how to enter multiline commands"
   ]
  },
  {
   "cell_type": "code",
   "execution_count": 102,
   "metadata": {},
   "outputs": [
    {
     "data": {
      "text/plain": [
       "7"
      ]
     },
     "execution_count": 102,
     "metadata": {},
     "output_type": "execute_result"
    }
   ],
   "source": [
    "A = 1 + \\\n",
    "    2 + \\\n",
    "    4 - \\\n",
    "    0\n",
    "A"
   ]
  },
  {
   "cell_type": "markdown",
   "metadata": {},
   "source": [
    "# Basic Data Types"
   ]
  },
  {
   "cell_type": "markdown",
   "metadata": {},
   "source": [
    "### Integers"
   ]
  },
  {
   "cell_type": "code",
   "execution_count": 103,
   "metadata": {},
   "outputs": [
    {
     "data": {
      "text/plain": [
       "int"
      ]
     },
     "execution_count": 103,
     "metadata": {},
     "output_type": "execute_result"
    }
   ],
   "source": [
    "type(5)"
   ]
  },
  {
   "cell_type": "code",
   "execution_count": 104,
   "metadata": {},
   "outputs": [
    {
     "data": {
      "text/plain": [
       "type"
      ]
     },
     "execution_count": 104,
     "metadata": {},
     "output_type": "execute_result"
    }
   ],
   "source": [
    "type(type(5))"
   ]
  },
  {
   "cell_type": "markdown",
   "metadata": {},
   "source": [
    "### Floats"
   ]
  },
  {
   "cell_type": "code",
   "execution_count": 106,
   "metadata": {},
   "outputs": [
    {
     "data": {
      "text/plain": [
       "float"
      ]
     },
     "execution_count": 106,
     "metadata": {},
     "output_type": "execute_result"
    }
   ],
   "source": [
    "import numpy as np #More on this later!\n",
    "type(np.pi)"
   ]
  },
  {
   "cell_type": "code",
   "execution_count": 107,
   "metadata": {},
   "outputs": [
    {
     "data": {
      "text/plain": [
       "3.141592653589793"
      ]
     },
     "execution_count": 107,
     "metadata": {},
     "output_type": "execute_result"
    }
   ],
   "source": [
    "np.pi"
   ]
  },
  {
   "cell_type": "markdown",
   "metadata": {},
   "source": [
    "## More Data Types"
   ]
  },
  {
   "cell_type": "markdown",
   "metadata": {},
   "source": [
    "### Strings"
   ]
  },
  {
   "cell_type": "code",
   "execution_count": 112,
   "metadata": {},
   "outputs": [],
   "source": [
    "martinName = \"Martin Ames Harrison\"\n",
    "martinOffice = 'CST 4-230'"
   ]
  },
  {
   "cell_type": "code",
   "execution_count": 113,
   "metadata": {},
   "outputs": [
    {
     "data": {
      "text/plain": [
       "20"
      ]
     },
     "execution_count": 113,
     "metadata": {},
     "output_type": "execute_result"
    }
   ],
   "source": [
    "len(martinName)"
   ]
  },
  {
   "cell_type": "markdown",
   "metadata": {},
   "source": [
    "### Actually, strings are of *compound type* because they are made up of smaller pieces. We can do lots to strings already just by calling their *methods*."
   ]
  },
  {
   "cell_type": "code",
   "execution_count": 115,
   "metadata": {},
   "outputs": [
    {
     "data": {
      "text/plain": [
       "'Martin Ames Harrison'"
      ]
     },
     "execution_count": 115,
     "metadata": {},
     "output_type": "execute_result"
    }
   ],
   "source": [
    "martinName"
   ]
  },
  {
   "cell_type": "code",
   "execution_count": 114,
   "metadata": {},
   "outputs": [
    {
     "data": {
      "text/plain": [
       "'martin ames harrison'"
      ]
     },
     "execution_count": 114,
     "metadata": {},
     "output_type": "execute_result"
    }
   ],
   "source": [
    "martinName.lower()"
   ]
  },
  {
   "cell_type": "code",
   "execution_count": 116,
   "metadata": {
    "scrolled": true
   },
   "outputs": [
    {
     "data": {
      "text/plain": [
       "['CST', '4-230']"
      ]
     },
     "execution_count": 116,
     "metadata": {},
     "output_type": "execute_result"
    }
   ],
   "source": [
    "martinOffice.split()"
   ]
  },
  {
   "cell_type": "code",
   "execution_count": 117,
   "metadata": {},
   "outputs": [
    {
     "data": {
      "text/plain": [
       "['CST 4', '230']"
      ]
     },
     "execution_count": 117,
     "metadata": {},
     "output_type": "execute_result"
    }
   ],
   "source": [
    "martinOffice.split('-')"
   ]
  },
  {
   "cell_type": "markdown",
   "metadata": {},
   "source": [
    "### We can also take slices of strings - this is something more general that applies to many objects, including *lists* and *tuples*."
   ]
  },
  {
   "cell_type": "code",
   "execution_count": 118,
   "metadata": {},
   "outputs": [
    {
     "data": {
      "text/plain": [
       "'in '"
      ]
     },
     "execution_count": 118,
     "metadata": {},
     "output_type": "execute_result"
    }
   ],
   "source": [
    "martinName[4:7]"
   ]
  },
  {
   "cell_type": "markdown",
   "metadata": {},
   "source": [
    "## String Formatting"
   ]
  },
  {
   "cell_type": "markdown",
   "metadata": {},
   "source": [
    "### It is often convenient to have template strings into which different values can be substituted (e.g. when prompting/responding to user activity in a program). Here is the old way of doing that, in a few examples:"
   ]
  },
  {
   "cell_type": "code",
   "execution_count": null,
   "metadata": {},
   "outputs": [],
   "source": [
    "brand = 'Apple'\n",
    "exchange_rate = 1.31123245\n",
    "message = 'The price of this %s laptop is %d USD and the exchange rate is %4.2f' % \\\n",
    "    (brand, 1399, exchange_rate)\n",
    "print(message)"
   ]
  },
  {
   "cell_type": "markdown",
   "metadata": {},
   "source": [
    "### Note the digits in '%4.2f'. That indicates a `float` with four digits in total and 2 behind the decimal point"
   ]
  },
  {
   "cell_type": "markdown",
   "metadata": {},
   "source": [
    "### And here is the new way of doing it:"
   ]
  },
  {
   "cell_type": "code",
   "execution_count": 83,
   "metadata": {},
   "outputs": [
    {
     "name": "stdout",
     "output_type": "stream",
     "text": [
      "The price of this Apple laptopis 1399 USD and the exchangerate is 1.31\n"
     ]
    }
   ],
   "source": [
    "brand = 'Apple'\n",
    "exchange_rate = 1.31123245\n",
    "message = (\"The price of this {0:s} laptop\"\n",
    "            \"is {1:d} USD and the exchange\"\n",
    "            \"rate is {2:4.2f}\").format(brand, 1399, exchange_rate)\n",
    "print(message)"
   ]
  },
  {
   "cell_type": "markdown",
   "metadata": {},
   "source": [
    "### Note that we defined a long string across multiple lines. It's not obvious how to do that. Doing it this way, we don't get any endlines or extra space."
   ]
  },
  {
   "cell_type": "code",
   "execution_count": 84,
   "metadata": {},
   "outputs": [],
   "source": [
    "a_long_string = (\"I am a very\"\n",
    "                \"very very\"\n",
    "                \"very long string\"\n",
    "                \"and now I have stopped.\")"
   ]
  },
  {
   "cell_type": "code",
   "execution_count": null,
   "metadata": {},
   "outputs": [],
   "source": [
    "a_long_string"
   ]
  },
  {
   "cell_type": "markdown",
   "metadata": {},
   "source": [
    "## Type Casting"
   ]
  },
  {
   "cell_type": "markdown",
   "metadata": {},
   "source": [
    "### In python, objects generally have *types*. Types can overlap quite a lot, and sometimes you want to be explicit about how you are treating a given object"
   ]
  },
  {
   "cell_type": "code",
   "execution_count": null,
   "metadata": {},
   "outputs": [],
   "source": [
    "int(3.14)"
   ]
  },
  {
   "cell_type": "code",
   "execution_count": null,
   "metadata": {},
   "outputs": [],
   "source": [
    "int('1234')"
   ]
  },
  {
   "cell_type": "code",
   "execution_count": null,
   "metadata": {},
   "outputs": [],
   "source": [
    "float(7)"
   ]
  },
  {
   "cell_type": "code",
   "execution_count": null,
   "metadata": {},
   "outputs": [],
   "source": [
    "float(\"21.742\")"
   ]
  },
  {
   "cell_type": "code",
   "execution_count": null,
   "metadata": {},
   "outputs": [],
   "source": [
    "str(21.762)"
   ]
  },
  {
   "cell_type": "markdown",
   "metadata": {},
   "source": [
    "# Lists "
   ]
  },
  {
   "cell_type": "markdown",
   "metadata": {},
   "source": [
    "### Lists are really, really important. They are an incredibly powerful data structure and you can *literally do anything (in computing) with them*. That is a precisely true statement, believe it or not."
   ]
  },
  {
   "cell_type": "code",
   "execution_count": 88,
   "metadata": {},
   "outputs": [],
   "source": [
    "martinsList = ['apple',A, box2, 3.14, np.pi, 42, lambda y: lambda x: x*y]"
   ]
  },
  {
   "cell_type": "markdown",
   "metadata": {},
   "source": [
    "### Where to begin? Some basic properties of lists can be gotten from *builtin* functions."
   ]
  },
  {
   "cell_type": "code",
   "execution_count": null,
   "metadata": {},
   "outputs": [],
   "source": [
    "len(martinsList) # The length of my list"
   ]
  },
  {
   "cell_type": "markdown",
   "metadata": {},
   "source": [
    "### We can get individual elements of a list, by specifying the *index*"
   ]
  },
  {
   "cell_type": "code",
   "execution_count": null,
   "metadata": {},
   "outputs": [],
   "source": [
    "martinsList[-1]"
   ]
  },
  {
   "cell_type": "markdown",
   "metadata": {},
   "source": [
    "### In Python, indexing starts at $0$, so in the above example we are getting the last element - it wraps around. Beware, though, you can exceed the range of indices..."
   ]
  },
  {
   "cell_type": "code",
   "execution_count": null,
   "metadata": {},
   "outputs": [],
   "source": [
    "martinsList[100]"
   ]
  },
  {
   "cell_type": "markdown",
   "metadata": {},
   "source": [
    "### As with strings, slicing is possible:"
   ]
  },
  {
   "cell_type": "code",
   "execution_count": null,
   "metadata": {},
   "outputs": [],
   "source": [
    "martinsList[1:4] #Starts at 1, ends at 3\n",
    "martinsList[1:6:2] #Starts at 1, ends at or before 6, 2 steps at a time"
   ]
  },
  {
   "cell_type": "markdown",
   "metadata": {},
   "source": [
    "### Lists are *mutable*. This is another concept that might sound a bit obscure, but it matters. You can change the items, append or insert new ones, extend the list with things from a list"
   ]
  },
  {
   "cell_type": "code",
   "execution_count": 94,
   "metadata": {},
   "outputs": [],
   "source": [
    "martinsList[4] += 5 #A little twist; incrementing the value at index 4"
   ]
  },
  {
   "cell_type": "code",
   "execution_count": 95,
   "metadata": {},
   "outputs": [],
   "source": [
    "martinsList.append(6) #Tacking on the value 6 to the end of the list"
   ]
  },
  {
   "cell_type": "code",
   "execution_count": null,
   "metadata": {},
   "outputs": [],
   "source": [
    "martinsList"
   ]
  },
  {
   "cell_type": "code",
   "execution_count": 97,
   "metadata": {},
   "outputs": [],
   "source": [
    "martinsList.extend(['a','b','c']) #Tacking on everything from ['a','b','c']"
   ]
  },
  {
   "cell_type": "code",
   "execution_count": null,
   "metadata": {},
   "outputs": [],
   "source": [
    "martinsList.insert(9) #The method insert puts the new item at index 0"
   ]
  },
  {
   "cell_type": "code",
   "execution_count": null,
   "metadata": {},
   "outputs": [],
   "source": [
    "martinsList.insert(3,17) #You can also indicate where to insert it"
   ]
  },
  {
   "cell_type": "code",
   "execution_count": null,
   "metadata": {},
   "outputs": [],
   "source": [
    "martinsList.pop() #Removes and returns last item"
   ]
  },
  {
   "cell_type": "code",
   "execution_count": null,
   "metadata": {},
   "outputs": [],
   "source": [
    "martinsList.pop(0) #Removes and returns item at specified index"
   ]
  },
  {
   "cell_type": "code",
   "execution_count": null,
   "metadata": {},
   "outputs": [],
   "source": [
    "del martinsList[4]"
   ]
  },
  {
   "cell_type": "markdown",
   "metadata": {},
   "source": [
    "### Other builtin functions on lists are `sorted` and `sum`"
   ]
  },
  {
   "cell_type": "code",
   "execution_count": 98,
   "metadata": {},
   "outputs": [],
   "source": [
    "my_num_list = [-10,23,-7,8,9,11,3,4]"
   ]
  },
  {
   "cell_type": "code",
   "execution_count": null,
   "metadata": {},
   "outputs": [],
   "source": [
    "sorted(my_num_list) #Returns another list, with the same items in order"
   ]
  },
  {
   "cell_type": "code",
   "execution_count": 100,
   "metadata": {},
   "outputs": [
    {
     "name": "stdout",
     "output_type": "stream",
     "text": [
      "Help on built-in function sort:\n",
      "\n",
      "sort(...) method of builtins.list instance\n",
      "    L.sort(key=None, reverse=False) -> None -- stable sort *IN PLACE*\n",
      "\n"
     ]
    }
   ],
   "source": [
    "help(my_num_list.sort)"
   ]
  },
  {
   "cell_type": "code",
   "execution_count": 103,
   "metadata": {},
   "outputs": [],
   "source": [
    "my_num_list.sort() #Note that nothing is returned; it is *in place*"
   ]
  },
  {
   "cell_type": "code",
   "execution_count": null,
   "metadata": {},
   "outputs": [],
   "source": [
    "my_num_list"
   ]
  },
  {
   "cell_type": "markdown",
   "metadata": {},
   "source": [
    "## Tuples"
   ]
  },
  {
   "cell_type": "markdown",
   "metadata": {},
   "source": [
    "### Tuples are pretty much like lists that you cannot change, though you can compute their features and you can operate on them to make new tuples."
   ]
  },
  {
   "cell_type": "code",
   "execution_count": 107,
   "metadata": {},
   "outputs": [],
   "source": [
    "our_tuple = ('a','b','c','d','e')"
   ]
  },
  {
   "cell_type": "markdown",
   "metadata": {},
   "source": [
    "### Check if an item is in a tuple"
   ]
  },
  {
   "cell_type": "code",
   "execution_count": null,
   "metadata": {},
   "outputs": [],
   "source": [
    "'d' in our_tuple"
   ]
  },
  {
   "cell_type": "code",
   "execution_count": null,
   "metadata": {},
   "outputs": [],
   "source": [
    "len(our_tuple)"
   ]
  },
  {
   "cell_type": "markdown",
   "metadata": {},
   "source": [
    "### Getting new tuples from old:"
   ]
  },
  {
   "cell_type": "code",
   "execution_count": null,
   "metadata": {},
   "outputs": [],
   "source": [
    "our_tuple*2\n",
    "our_tuple[4:7]\n",
    "our_tuple + tuple(reversed(our_tuple))"
   ]
  },
  {
   "cell_type": "markdown",
   "metadata": {},
   "source": [
    "### Finally, let's get rid of the thing"
   ]
  },
  {
   "cell_type": "code",
   "execution_count": null,
   "metadata": {},
   "outputs": [],
   "source": [
    "del our_tuple #Deletes the tuple. Now we are free to reassign it."
   ]
  },
  {
   "cell_type": "markdown",
   "metadata": {},
   "source": [
    "# Dictionaries"
   ]
  },
  {
   "cell_type": "markdown",
   "metadata": {},
   "source": [
    "### This one is getting one of the extra big headings. You can think about dictionaries in various ways. They are like lists where you choose the indices. They are also like *functions* (in the mathematical sense) where you specify all the inputs and outputs. Anyway, an example:"
   ]
  },
  {
   "cell_type": "code",
   "execution_count": 117,
   "metadata": {},
   "outputs": [],
   "source": [
    "ourDict = {'Isabelle':28,'Anna':30,'Kevin':45,'Carmen':'Unknown'}"
   ]
  },
  {
   "cell_type": "markdown",
   "metadata": {},
   "source": [
    "### The data of a dictionary is stored in `key:value` pairs. For instance `'Carmen'` is a key of the dictionary `ourDict` and `'Unknown'` is its associated value. We retrieve that value using the same notation as for lists:"
   ]
  },
  {
   "cell_type": "code",
   "execution_count": null,
   "metadata": {},
   "outputs": [],
   "source": [
    "ourDict['Anna']"
   ]
  },
  {
   "cell_type": "markdown",
   "metadata": {},
   "source": [
    "### Another way to generate the same dictionary is with the `zip` builtin"
   ]
  },
  {
   "cell_type": "code",
   "execution_count": 119,
   "metadata": {},
   "outputs": [],
   "source": [
    "ourNames = ['Isabelle','Anna','Kevin','Carmen']\n",
    "ourAges = [28,30,45,'Unknown']\n",
    "alsoDict = dict(zip(ourNames,ourAges))"
   ]
  },
  {
   "cell_type": "code",
   "execution_count": null,
   "metadata": {},
   "outputs": [],
   "source": [
    "alsoDict"
   ]
  },
  {
   "cell_type": "markdown",
   "metadata": {},
   "source": [
    "### It will be necessary at times to grab the keys or the values from the dictionary."
   ]
  },
  {
   "cell_type": "code",
   "execution_count": null,
   "metadata": {},
   "outputs": [],
   "source": [
    "print(ourDict.values(),ourDict.keys())"
   ]
  },
  {
   "cell_type": "markdown",
   "metadata": {},
   "source": [
    "### That looks odd. What are those?"
   ]
  },
  {
   "cell_type": "code",
   "execution_count": 122,
   "metadata": {},
   "outputs": [
    {
     "name": "stdout",
     "output_type": "stream",
     "text": [
      "Help on dict_values object:\n",
      "\n",
      "class dict_values(object)\n",
      " |  Methods defined here:\n",
      " |  \n",
      " |  __getattribute__(self, name, /)\n",
      " |      Return getattr(self, name).\n",
      " |  \n",
      " |  __iter__(self, /)\n",
      " |      Implement iter(self).\n",
      " |  \n",
      " |  __len__(self, /)\n",
      " |      Return len(self).\n",
      " |  \n",
      " |  __repr__(self, /)\n",
      " |      Return repr(self).\n",
      "\n"
     ]
    }
   ],
   "source": [
    "help(ourDict.values())"
   ]
  },
  {
   "cell_type": "code",
   "execution_count": null,
   "metadata": {},
   "outputs": [],
   "source": [
    "list(ourDict.values()) #This is always comforting."
   ]
  },
  {
   "cell_type": "markdown",
   "metadata": {},
   "source": [
    "### We can also get the two together."
   ]
  },
  {
   "cell_type": "code",
   "execution_count": null,
   "metadata": {},
   "outputs": [],
   "source": [
    "ourDict.items()"
   ]
  },
  {
   "cell_type": "markdown",
   "metadata": {},
   "source": [
    "# The Data Science Stack"
   ]
  },
  {
   "cell_type": "markdown",
   "metadata": {},
   "source": [
    "### There is too much to cover, and the stack is very deep. Let's have a look at `numpy`, `pandas`, `pytables`, and `sklearn`."
   ]
  },
  {
   "cell_type": "markdown",
   "metadata": {},
   "source": [
    "## `numpy`"
   ]
  },
  {
   "cell_type": "markdown",
   "metadata": {},
   "source": [
    "### This package enables you to do great things, including linear algebra. Here we are defining an array:"
   ]
  },
  {
   "cell_type": "code",
   "execution_count": null,
   "metadata": {},
   "outputs": [],
   "source": [
    "M = np.array(\n",
    "            [[ 1., 0., 0.],\n",
    "            [ 0., 1., 2.]]\n",
    "            )\n",
    "print(M)"
   ]
  },
  {
   "cell_type": "markdown",
   "metadata": {},
   "source": [
    "### We can ask for some *attributes* or features of that array."
   ]
  },
  {
   "cell_type": "code",
   "execution_count": null,
   "metadata": {},
   "outputs": [],
   "source": [
    "M.shape"
   ]
  },
  {
   "cell_type": "markdown",
   "metadata": {},
   "source": [
    "### We can take slices or submatrices of it."
   ]
  },
  {
   "cell_type": "code",
   "execution_count": null,
   "metadata": {},
   "outputs": [],
   "source": [
    "M2 = M[:,:2]\n",
    "M3 = M2.copy()\n",
    "M2.shape"
   ]
  },
  {
   "cell_type": "markdown",
   "metadata": {},
   "source": [
    "### We can do all sorts of operations, including matrix multiplication."
   ]
  },
  {
   "cell_type": "code",
   "execution_count": null,
   "metadata": {},
   "outputs": [],
   "source": [
    "M2 *= 2\n",
    "print(M,'\\n\\n',M2, '\\n\\n ',M3)"
   ]
  },
  {
   "cell_type": "code",
   "execution_count": null,
   "metadata": {},
   "outputs": [],
   "source": [
    "M2.dot(M) #The matrix product M2.M"
   ]
  },
  {
   "cell_type": "code",
   "execution_count": null,
   "metadata": {},
   "outputs": [],
   "source": [
    "M.dot(M2) #The nonsense product M.M2"
   ]
  },
  {
   "cell_type": "code",
   "execution_count": null,
   "metadata": {},
   "outputs": [],
   "source": [
    "np.matmul(M2,M3) #Another way"
   ]
  },
  {
   "cell_type": "markdown",
   "metadata": {},
   "source": [
    "### We can *call methods* that compute properties of our matrices."
   ]
  },
  {
   "cell_type": "code",
   "execution_count": null,
   "metadata": {},
   "outputs": [],
   "source": [
    "np.linalg.svd(M)"
   ]
  },
  {
   "cell_type": "code",
   "execution_count": null,
   "metadata": {},
   "outputs": [],
   "source": [
    "help(np.linalg.svd)"
   ]
  },
  {
   "cell_type": "markdown",
   "metadata": {},
   "source": [
    "### Finally, `numpy` is great for random samples and some standard probability distributions."
   ]
  },
  {
   "cell_type": "code",
   "execution_count": null,
   "metadata": {},
   "outputs": [],
   "source": [
    "sU = np.random.rand(3,2) #Sample from the uniform distribution\n",
    "sU"
   ]
  },
  {
   "cell_type": "code",
   "execution_count": null,
   "metadata": {},
   "outputs": [],
   "source": [
    "sN = np.random.randn(3,4) #Sample from the standard normal\n",
    "sN"
   ]
  },
  {
   "cell_type": "code",
   "execution_count": null,
   "metadata": {},
   "outputs": [],
   "source": [
    "sB = np.random.binomial(3,.4,10) #Sample 10 values from the binomial n=3,p=.4\n",
    "sB"
   ]
  },
  {
   "cell_type": "markdown",
   "metadata": {},
   "source": [
    "## `pandas`"
   ]
  },
  {
   "cell_type": "code",
   "execution_count": 162,
   "metadata": {},
   "outputs": [],
   "source": [
    "import pandas as pd\n",
    "import matplotlib.pyplot as plt"
   ]
  },
  {
   "cell_type": "code",
   "execution_count": 164,
   "metadata": {},
   "outputs": [],
   "source": [
    "s = pd.Series([1,3,5,np.nan,6,8])\n",
    "s"
   ]
  },
  {
   "cell_type": "code",
   "execution_count": null,
   "metadata": {},
   "outputs": [],
   "source": [
    "dates = pd.date_range('20130101', periods=6)\n",
    "dates"
   ]
  },
  {
   "cell_type": "markdown",
   "metadata": {},
   "source": [
    "### And the workhorse of `pandas`, the DataFrame"
   ]
  },
  {
   "cell_type": "code",
   "execution_count": null,
   "metadata": {},
   "outputs": [],
   "source": [
    "df = pd.DataFrame(np.random.randn(6,4), index=dates, columns=list('ABCD'))\n",
    "df"
   ]
  },
  {
   "cell_type": "markdown",
   "metadata": {},
   "source": [
    "### An alternative way to create one:"
   ]
  },
  {
   "cell_type": "code",
   "execution_count": null,
   "metadata": {},
   "outputs": [],
   "source": [
    "df2 = pd.DataFrame({ 'A' : 1.,\n",
    "                     'B' : pd.Timestamp('20130102'),\n",
    "                     'C' : pd.Series(1,index=list(range(4)),dtype='float32'),\n",
    "                     'D' : np.array([3] * 4,dtype='int32'),\n",
    "                     'E' : pd.Categorical([\"test\",\"train\",\"test\",\"train\"]),\n",
    "                     'F' : 'foo' })\n",
    "df2"
   ]
  },
  {
   "cell_type": "markdown",
   "metadata": {},
   "source": [
    "### Get some info about your data frame"
   ]
  },
  {
   "cell_type": "code",
   "execution_count": null,
   "metadata": {},
   "outputs": [],
   "source": [
    "df2.dtypes"
   ]
  },
  {
   "cell_type": "markdown",
   "metadata": {},
   "source": [
    "### And here is a just a hint of data selection:"
   ]
  },
  {
   "cell_type": "code",
   "execution_count": null,
   "metadata": {},
   "outputs": [],
   "source": [
    "df2.head()"
   ]
  },
  {
   "cell_type": "code",
   "execution_count": null,
   "metadata": {},
   "outputs": [],
   "source": [
    "df2.tail(3)"
   ]
  },
  {
   "cell_type": "markdown",
   "metadata": {},
   "source": [
    "### Finally, some plotting, starting with a time series"
   ]
  },
  {
   "cell_type": "code",
   "execution_count": null,
   "metadata": {},
   "outputs": [],
   "source": [
    "ts = pd.Series(np.random.randn(1000), index=pd.date_range('1/1/2000', periods=1000))\n",
    "ts = ts.cumsum()\n",
    "ts.plot()"
   ]
  },
  {
   "cell_type": "markdown",
   "metadata": {},
   "source": [
    "### Now, easy multiple line plots. This is wonderful."
   ]
  },
  {
   "cell_type": "code",
   "execution_count": null,
   "metadata": {},
   "outputs": [],
   "source": [
    "df = pd.DataFrame(np.random.randn(1000, 4), index=ts.index,\n",
    "                  columns=['A', 'B', 'C', 'D'])\n",
    "df = df.cumsum()\n",
    "plt.figure(); df.plot(); plt.legend(loc='best') #New figure, new plot, legend added"
   ]
  },
  {
   "cell_type": "markdown",
   "metadata": {},
   "source": [
    "## `pytables`"
   ]
  },
  {
   "cell_type": "markdown",
   "metadata": {},
   "source": [
    "> The goal of PyTables is to enable the end user to manipulate easily data tables and array objects in a hierarchical structure. The foundation of the underlying hierarchical data organization is the excellent HDF5 library"
   ]
  },
  {
   "cell_type": "markdown",
   "metadata": {},
   "source": [
    "### We'll get back to `pytables` later. For now, understand that we need such things when dealing with bigger datasets that we can't cram into a `pandas` data frame sitting in RAM (memory)."
   ]
  },
  {
   "cell_type": "markdown",
   "metadata": {},
   "source": [
    "## `sklearn`"
   ]
  },
  {
   "cell_type": "code",
   "execution_count": 173,
   "metadata": {},
   "outputs": [
    {
     "data": {
      "image/png": "[encoded data removed]",
      "text/plain": [
       "<Figure size 864x864 with 4 Axes>"
      ]
     },
     "metadata": {},
     "output_type": "display_data"
    }
   ],
   "source": [
    "import numpy as np\n",
    "import matplotlib.pyplot as plt\n",
    "\n",
    "from sklearn.cluster import KMeans\n",
    "from sklearn.datasets import make_blobs\n",
    "\n",
    "plt.figure(figsize=(12, 12))\n",
    "\n",
    "n_samples = 1500\n",
    "random_state = 170\n",
    "X, y = make_blobs(n_samples=n_samples, random_state=random_state)\n",
    "\n",
    "# Incorrect number of clusters\n",
    "y_pred = KMeans(n_clusters=2, random_state=random_state).fit_predict(X)\n",
    "\n",
    "plt.subplot(221)\n",
    "plt.scatter(X[:, 0], X[:, 1], c=y_pred)\n",
    "plt.title(\"Incorrect Number of Blobs\")\n",
    "\n",
    "# Anisotropicly distributed data\n",
    "transformation = [[0.60834549, -0.63667341], [-0.40887718, 0.85253229]]\n",
    "X_aniso = np.dot(X, transformation)\n",
    "y_pred = KMeans(n_clusters=3, random_state=random_state).fit_predict(X_aniso)\n",
    "\n",
    "plt.subplot(222)\n",
    "plt.scatter(X_aniso[:, 0], X_aniso[:, 1], c=y_pred)\n",
    "plt.title(\"Anisotropicly Distributed Blobs\")\n",
    "\n",
    "# Different variance\n",
    "X_varied, y_varied = make_blobs(n_samples=n_samples,\n",
    "                                cluster_std=[1.0, 2.5, 0.5],\n",
    "                                random_state=random_state)\n",
    "y_pred = KMeans(n_clusters=3, random_state=random_state).fit_predict(X_varied)\n",
    "\n",
    "plt.subplot(223)\n",
    "plt.scatter(X_varied[:, 0], X_varied[:, 1], c=y_pred)\n",
    "plt.title(\"Unequal Variance\")\n",
    "\n",
    "# Unevenly sized blobs\n",
    "X_filtered = np.vstack((X[y == 0][:500], X[y == 1][:100], X[y == 2][:10]))\n",
    "y_pred = KMeans(n_clusters=3,\n",
    "                random_state=random_state).fit_predict(X_filtered)\n",
    "\n",
    "plt.subplot(224)\n",
    "plt.scatter(X_filtered[:, 0], X_filtered[:, 1], c=y_pred)\n",
    "plt.title(\"Unevenly Sized Blobs\")\n",
    "\n",
    "plt.show()\n"
   ]
  },
  {
   "cell_type": "markdown",
   "metadata": {},
   "source": [
    "# Interactive Code"
   ]
  },
  {
   "cell_type": "markdown",
   "metadata": {},
   "source": [
    "### Here is just a little hint of the possibilities for interactive analysis..."
   ]
  },
  {
   "cell_type": "code",
   "execution_count": null,
   "metadata": {},
   "outputs": [],
   "source": [
    "myName = input(\"Please enter your name: \")"
   ]
  },
  {
   "cell_type": "code",
   "execution_count": null,
   "metadata": {},
   "outputs": [],
   "source": [
    "myName"
   ]
  }
 ],
 "metadata": {
  "kernelspec": {
   "display_name": "Python 3",
   "language": "python",
   "name": "python3"
  },
  "language_info": {
   "codemirror_mode": {
    "name": "ipython",
    "version": 3
   },
   "file_extension": ".py",
   "mimetype": "text/x-python",
   "name": "python",
   "nbconvert_exporter": "python",
   "pygments_lexer": "ipython3",
   "version": "3.6.6"
  }
 },
 "nbformat": 4,
 "nbformat_minor": 2
}
